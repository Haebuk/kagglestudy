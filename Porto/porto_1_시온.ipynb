{
 "cells": [
  {
   "cell_type": "markdown",
   "id": "impossible-house",
   "metadata": {},
   "source": [
    "# Proto - Data Preparation & Exploration"
   ]
  },
  {
   "cell_type": "markdown",
   "id": "linear-synthesis",
   "metadata": {},
   "source": [
    "참고 : https://www.kaggle.com/bertcarremans/data-preparation-exploration"
   ]
  },
  {
   "cell_type": "markdown",
   "id": "virtual-horror",
   "metadata": {},
   "source": [
    "# 1st"
   ]
  },
  {
   "cell_type": "markdown",
   "id": "familiar-import",
   "metadata": {},
   "source": [
    "Loading packages"
   ]
  },
  {
   "cell_type": "code",
   "execution_count": 64,
   "id": "sensitive-stable",
   "metadata": {
    "ExecuteTime": {
     "end_time": "2021-01-25T10:59:31.968180Z",
     "start_time": "2021-01-25T10:59:31.963196Z"
    }
   },
   "outputs": [],
   "source": [
    "import pandas as pd\n",
    "import numpy as np\n",
    "import matplotlib.pyplot as plt\n",
    "import seaborn as sns\n",
    "from sklearn.impute import SimpleImputer### importError로 변경\n",
    "from sklearn.preprocessing import PolynomialFeatures\n",
    "from sklearn.preprocessing import StandardScaler\n",
    "from sklearn.feature_selection import VarianceThreshold\n",
    "from sklearn.feature_selection import SelectFromModel\n",
    "from sklearn.utils import shuffle\n",
    "from sklearn.ensemble import RandomForestClassifier\n",
    "\n",
    "pd.set_option('display.max_column',100)"
   ]
  },
  {
   "cell_type": "markdown",
   "id": "diagnostic-bangkok",
   "metadata": {},
   "source": [
    "Loading data"
   ]
  },
  {
   "cell_type": "code",
   "execution_count": 15,
   "id": "valued-region",
   "metadata": {
    "ExecuteTime": {
     "end_time": "2021-01-25T09:11:49.953337Z",
     "start_time": "2021-01-25T09:11:43.012998Z"
    }
   },
   "outputs": [],
   "source": [
    "train = pd.read_csv('../input/train.csv')\n",
    "test = pd.read_csv('../input/test.csv')"
   ]
  },
  {
   "cell_type": "markdown",
   "id": "streaming-finish",
   "metadata": {},
   "source": [
    "# 1. Visual inspection of data"
   ]
  },
  {
   "cell_type": "markdown",
   "id": "stock-powder",
   "metadata": {},
   "source": [
    "data 설명\n",
    "- 유사한 그룹에 속한 feature들은 ind, reg, car, cals와 같이 변수 이름이 주어진다.\n",
    "- 변수 이름엔 이진 변수를 나타내는 bin과 범주형 변수를 나타내는 cat이 있다.\n",
    "- 이런 사항이 없는 변수는 연속형이거나 순서형이다.\n",
    "- -1 값은 변수가 결측값이라는 것을 나타낸다.\n",
    "- target 열은 정책 소유자에 대한 불만이 제기되었는지를 나타낸다."
   ]
  },
  {
   "cell_type": "markdown",
   "id": "spiritual-wednesday",
   "metadata": {},
   "source": [
    "위의 사항을 확인해보기 위해 데이터의 첫행과 마지막행을 살펴보자."
   ]
  },
  {
   "cell_type": "code",
   "execution_count": 16,
   "id": "elder-british",
   "metadata": {
    "ExecuteTime": {
     "end_time": "2021-01-25T09:17:00.217736Z",
     "start_time": "2021-01-25T09:17:00.160888Z"
    }
   },
   "outputs": [
    {
     "data": {
      "text/html": [
       "<div>\n",
       "<style scoped>\n",
       "    .dataframe tbody tr th:only-of-type {\n",
       "        vertical-align: middle;\n",
       "    }\n",
       "\n",
       "    .dataframe tbody tr th {\n",
       "        vertical-align: top;\n",
       "    }\n",
       "\n",
       "    .dataframe thead th {\n",
       "        text-align: right;\n",
       "    }\n",
       "</style>\n",
       "<table border=\"1\" class=\"dataframe\">\n",
       "  <thead>\n",
       "    <tr style=\"text-align: right;\">\n",
       "      <th></th>\n",
       "      <th>id</th>\n",
       "      <th>target</th>\n",
       "      <th>ps_ind_01</th>\n",
       "      <th>ps_ind_02_cat</th>\n",
       "      <th>ps_ind_03</th>\n",
       "      <th>ps_ind_04_cat</th>\n",
       "      <th>ps_ind_05_cat</th>\n",
       "      <th>ps_ind_06_bin</th>\n",
       "      <th>ps_ind_07_bin</th>\n",
       "      <th>ps_ind_08_bin</th>\n",
       "      <th>ps_ind_09_bin</th>\n",
       "      <th>ps_ind_10_bin</th>\n",
       "      <th>ps_ind_11_bin</th>\n",
       "      <th>ps_ind_12_bin</th>\n",
       "      <th>ps_ind_13_bin</th>\n",
       "      <th>ps_ind_14</th>\n",
       "      <th>ps_ind_15</th>\n",
       "      <th>ps_ind_16_bin</th>\n",
       "      <th>ps_ind_17_bin</th>\n",
       "      <th>ps_ind_18_bin</th>\n",
       "      <th>ps_reg_01</th>\n",
       "      <th>ps_reg_02</th>\n",
       "      <th>ps_reg_03</th>\n",
       "      <th>ps_car_01_cat</th>\n",
       "      <th>ps_car_02_cat</th>\n",
       "      <th>ps_car_03_cat</th>\n",
       "      <th>ps_car_04_cat</th>\n",
       "      <th>ps_car_05_cat</th>\n",
       "      <th>ps_car_06_cat</th>\n",
       "      <th>ps_car_07_cat</th>\n",
       "      <th>ps_car_08_cat</th>\n",
       "      <th>ps_car_09_cat</th>\n",
       "      <th>ps_car_10_cat</th>\n",
       "      <th>ps_car_11_cat</th>\n",
       "      <th>ps_car_11</th>\n",
       "      <th>ps_car_12</th>\n",
       "      <th>ps_car_13</th>\n",
       "      <th>ps_car_14</th>\n",
       "      <th>ps_car_15</th>\n",
       "      <th>ps_calc_01</th>\n",
       "      <th>ps_calc_02</th>\n",
       "      <th>ps_calc_03</th>\n",
       "      <th>ps_calc_04</th>\n",
       "      <th>ps_calc_05</th>\n",
       "      <th>ps_calc_06</th>\n",
       "      <th>ps_calc_07</th>\n",
       "      <th>ps_calc_08</th>\n",
       "      <th>ps_calc_09</th>\n",
       "      <th>ps_calc_10</th>\n",
       "      <th>ps_calc_11</th>\n",
       "      <th>ps_calc_12</th>\n",
       "      <th>ps_calc_13</th>\n",
       "      <th>ps_calc_14</th>\n",
       "      <th>ps_calc_15_bin</th>\n",
       "      <th>ps_calc_16_bin</th>\n",
       "      <th>ps_calc_17_bin</th>\n",
       "      <th>ps_calc_18_bin</th>\n",
       "      <th>ps_calc_19_bin</th>\n",
       "      <th>ps_calc_20_bin</th>\n",
       "    </tr>\n",
       "  </thead>\n",
       "  <tbody>\n",
       "    <tr>\n",
       "      <th>0</th>\n",
       "      <td>7</td>\n",
       "      <td>0</td>\n",
       "      <td>2</td>\n",
       "      <td>2</td>\n",
       "      <td>5</td>\n",
       "      <td>1</td>\n",
       "      <td>0</td>\n",
       "      <td>0</td>\n",
       "      <td>1</td>\n",
       "      <td>0</td>\n",
       "      <td>0</td>\n",
       "      <td>0</td>\n",
       "      <td>0</td>\n",
       "      <td>0</td>\n",
       "      <td>0</td>\n",
       "      <td>0</td>\n",
       "      <td>11</td>\n",
       "      <td>0</td>\n",
       "      <td>1</td>\n",
       "      <td>0</td>\n",
       "      <td>0.7</td>\n",
       "      <td>0.2</td>\n",
       "      <td>0.718070</td>\n",
       "      <td>10</td>\n",
       "      <td>1</td>\n",
       "      <td>-1</td>\n",
       "      <td>0</td>\n",
       "      <td>1</td>\n",
       "      <td>4</td>\n",
       "      <td>1</td>\n",
       "      <td>0</td>\n",
       "      <td>0</td>\n",
       "      <td>1</td>\n",
       "      <td>12</td>\n",
       "      <td>2</td>\n",
       "      <td>0.400000</td>\n",
       "      <td>0.883679</td>\n",
       "      <td>0.370810</td>\n",
       "      <td>3.605551</td>\n",
       "      <td>0.6</td>\n",
       "      <td>0.5</td>\n",
       "      <td>0.2</td>\n",
       "      <td>3</td>\n",
       "      <td>1</td>\n",
       "      <td>10</td>\n",
       "      <td>1</td>\n",
       "      <td>10</td>\n",
       "      <td>1</td>\n",
       "      <td>5</td>\n",
       "      <td>9</td>\n",
       "      <td>1</td>\n",
       "      <td>5</td>\n",
       "      <td>8</td>\n",
       "      <td>0</td>\n",
       "      <td>1</td>\n",
       "      <td>1</td>\n",
       "      <td>0</td>\n",
       "      <td>0</td>\n",
       "      <td>1</td>\n",
       "    </tr>\n",
       "    <tr>\n",
       "      <th>1</th>\n",
       "      <td>9</td>\n",
       "      <td>0</td>\n",
       "      <td>1</td>\n",
       "      <td>1</td>\n",
       "      <td>7</td>\n",
       "      <td>0</td>\n",
       "      <td>0</td>\n",
       "      <td>0</td>\n",
       "      <td>0</td>\n",
       "      <td>1</td>\n",
       "      <td>0</td>\n",
       "      <td>0</td>\n",
       "      <td>0</td>\n",
       "      <td>0</td>\n",
       "      <td>0</td>\n",
       "      <td>0</td>\n",
       "      <td>3</td>\n",
       "      <td>0</td>\n",
       "      <td>0</td>\n",
       "      <td>1</td>\n",
       "      <td>0.8</td>\n",
       "      <td>0.4</td>\n",
       "      <td>0.766078</td>\n",
       "      <td>11</td>\n",
       "      <td>1</td>\n",
       "      <td>-1</td>\n",
       "      <td>0</td>\n",
       "      <td>-1</td>\n",
       "      <td>11</td>\n",
       "      <td>1</td>\n",
       "      <td>1</td>\n",
       "      <td>2</td>\n",
       "      <td>1</td>\n",
       "      <td>19</td>\n",
       "      <td>3</td>\n",
       "      <td>0.316228</td>\n",
       "      <td>0.618817</td>\n",
       "      <td>0.388716</td>\n",
       "      <td>2.449490</td>\n",
       "      <td>0.3</td>\n",
       "      <td>0.1</td>\n",
       "      <td>0.3</td>\n",
       "      <td>2</td>\n",
       "      <td>1</td>\n",
       "      <td>9</td>\n",
       "      <td>5</td>\n",
       "      <td>8</td>\n",
       "      <td>1</td>\n",
       "      <td>7</td>\n",
       "      <td>3</td>\n",
       "      <td>1</td>\n",
       "      <td>1</td>\n",
       "      <td>9</td>\n",
       "      <td>0</td>\n",
       "      <td>1</td>\n",
       "      <td>1</td>\n",
       "      <td>0</td>\n",
       "      <td>1</td>\n",
       "      <td>0</td>\n",
       "    </tr>\n",
       "    <tr>\n",
       "      <th>2</th>\n",
       "      <td>13</td>\n",
       "      <td>0</td>\n",
       "      <td>5</td>\n",
       "      <td>4</td>\n",
       "      <td>9</td>\n",
       "      <td>1</td>\n",
       "      <td>0</td>\n",
       "      <td>0</td>\n",
       "      <td>0</td>\n",
       "      <td>1</td>\n",
       "      <td>0</td>\n",
       "      <td>0</td>\n",
       "      <td>0</td>\n",
       "      <td>0</td>\n",
       "      <td>0</td>\n",
       "      <td>0</td>\n",
       "      <td>12</td>\n",
       "      <td>1</td>\n",
       "      <td>0</td>\n",
       "      <td>0</td>\n",
       "      <td>0.0</td>\n",
       "      <td>0.0</td>\n",
       "      <td>-1.000000</td>\n",
       "      <td>7</td>\n",
       "      <td>1</td>\n",
       "      <td>-1</td>\n",
       "      <td>0</td>\n",
       "      <td>-1</td>\n",
       "      <td>14</td>\n",
       "      <td>1</td>\n",
       "      <td>1</td>\n",
       "      <td>2</td>\n",
       "      <td>1</td>\n",
       "      <td>60</td>\n",
       "      <td>1</td>\n",
       "      <td>0.316228</td>\n",
       "      <td>0.641586</td>\n",
       "      <td>0.347275</td>\n",
       "      <td>3.316625</td>\n",
       "      <td>0.5</td>\n",
       "      <td>0.7</td>\n",
       "      <td>0.1</td>\n",
       "      <td>2</td>\n",
       "      <td>2</td>\n",
       "      <td>9</td>\n",
       "      <td>1</td>\n",
       "      <td>8</td>\n",
       "      <td>2</td>\n",
       "      <td>7</td>\n",
       "      <td>4</td>\n",
       "      <td>2</td>\n",
       "      <td>7</td>\n",
       "      <td>7</td>\n",
       "      <td>0</td>\n",
       "      <td>1</td>\n",
       "      <td>1</td>\n",
       "      <td>0</td>\n",
       "      <td>1</td>\n",
       "      <td>0</td>\n",
       "    </tr>\n",
       "    <tr>\n",
       "      <th>3</th>\n",
       "      <td>16</td>\n",
       "      <td>0</td>\n",
       "      <td>0</td>\n",
       "      <td>1</td>\n",
       "      <td>2</td>\n",
       "      <td>0</td>\n",
       "      <td>0</td>\n",
       "      <td>1</td>\n",
       "      <td>0</td>\n",
       "      <td>0</td>\n",
       "      <td>0</td>\n",
       "      <td>0</td>\n",
       "      <td>0</td>\n",
       "      <td>0</td>\n",
       "      <td>0</td>\n",
       "      <td>0</td>\n",
       "      <td>8</td>\n",
       "      <td>1</td>\n",
       "      <td>0</td>\n",
       "      <td>0</td>\n",
       "      <td>0.9</td>\n",
       "      <td>0.2</td>\n",
       "      <td>0.580948</td>\n",
       "      <td>7</td>\n",
       "      <td>1</td>\n",
       "      <td>0</td>\n",
       "      <td>0</td>\n",
       "      <td>1</td>\n",
       "      <td>11</td>\n",
       "      <td>1</td>\n",
       "      <td>1</td>\n",
       "      <td>3</td>\n",
       "      <td>1</td>\n",
       "      <td>104</td>\n",
       "      <td>1</td>\n",
       "      <td>0.374166</td>\n",
       "      <td>0.542949</td>\n",
       "      <td>0.294958</td>\n",
       "      <td>2.000000</td>\n",
       "      <td>0.6</td>\n",
       "      <td>0.9</td>\n",
       "      <td>0.1</td>\n",
       "      <td>2</td>\n",
       "      <td>4</td>\n",
       "      <td>7</td>\n",
       "      <td>1</td>\n",
       "      <td>8</td>\n",
       "      <td>4</td>\n",
       "      <td>2</td>\n",
       "      <td>2</td>\n",
       "      <td>2</td>\n",
       "      <td>4</td>\n",
       "      <td>9</td>\n",
       "      <td>0</td>\n",
       "      <td>0</td>\n",
       "      <td>0</td>\n",
       "      <td>0</td>\n",
       "      <td>0</td>\n",
       "      <td>0</td>\n",
       "    </tr>\n",
       "    <tr>\n",
       "      <th>4</th>\n",
       "      <td>17</td>\n",
       "      <td>0</td>\n",
       "      <td>0</td>\n",
       "      <td>2</td>\n",
       "      <td>0</td>\n",
       "      <td>1</td>\n",
       "      <td>0</td>\n",
       "      <td>1</td>\n",
       "      <td>0</td>\n",
       "      <td>0</td>\n",
       "      <td>0</td>\n",
       "      <td>0</td>\n",
       "      <td>0</td>\n",
       "      <td>0</td>\n",
       "      <td>0</td>\n",
       "      <td>0</td>\n",
       "      <td>9</td>\n",
       "      <td>1</td>\n",
       "      <td>0</td>\n",
       "      <td>0</td>\n",
       "      <td>0.7</td>\n",
       "      <td>0.6</td>\n",
       "      <td>0.840759</td>\n",
       "      <td>11</td>\n",
       "      <td>1</td>\n",
       "      <td>-1</td>\n",
       "      <td>0</td>\n",
       "      <td>-1</td>\n",
       "      <td>14</td>\n",
       "      <td>1</td>\n",
       "      <td>1</td>\n",
       "      <td>2</td>\n",
       "      <td>1</td>\n",
       "      <td>82</td>\n",
       "      <td>3</td>\n",
       "      <td>0.316070</td>\n",
       "      <td>0.565832</td>\n",
       "      <td>0.365103</td>\n",
       "      <td>2.000000</td>\n",
       "      <td>0.4</td>\n",
       "      <td>0.6</td>\n",
       "      <td>0.0</td>\n",
       "      <td>2</td>\n",
       "      <td>2</td>\n",
       "      <td>6</td>\n",
       "      <td>3</td>\n",
       "      <td>10</td>\n",
       "      <td>2</td>\n",
       "      <td>12</td>\n",
       "      <td>3</td>\n",
       "      <td>1</td>\n",
       "      <td>1</td>\n",
       "      <td>3</td>\n",
       "      <td>0</td>\n",
       "      <td>0</td>\n",
       "      <td>0</td>\n",
       "      <td>1</td>\n",
       "      <td>1</td>\n",
       "      <td>0</td>\n",
       "    </tr>\n",
       "  </tbody>\n",
       "</table>\n",
       "</div>"
      ],
      "text/plain": [
       "   id  target  ps_ind_01  ps_ind_02_cat  ps_ind_03  ps_ind_04_cat  \\\n",
       "0   7       0          2              2          5              1   \n",
       "1   9       0          1              1          7              0   \n",
       "2  13       0          5              4          9              1   \n",
       "3  16       0          0              1          2              0   \n",
       "4  17       0          0              2          0              1   \n",
       "\n",
       "   ps_ind_05_cat  ps_ind_06_bin  ps_ind_07_bin  ps_ind_08_bin  ps_ind_09_bin  \\\n",
       "0              0              0              1              0              0   \n",
       "1              0              0              0              1              0   \n",
       "2              0              0              0              1              0   \n",
       "3              0              1              0              0              0   \n",
       "4              0              1              0              0              0   \n",
       "\n",
       "   ps_ind_10_bin  ps_ind_11_bin  ps_ind_12_bin  ps_ind_13_bin  ps_ind_14  \\\n",
       "0              0              0              0              0          0   \n",
       "1              0              0              0              0          0   \n",
       "2              0              0              0              0          0   \n",
       "3              0              0              0              0          0   \n",
       "4              0              0              0              0          0   \n",
       "\n",
       "   ps_ind_15  ps_ind_16_bin  ps_ind_17_bin  ps_ind_18_bin  ps_reg_01  \\\n",
       "0         11              0              1              0        0.7   \n",
       "1          3              0              0              1        0.8   \n",
       "2         12              1              0              0        0.0   \n",
       "3          8              1              0              0        0.9   \n",
       "4          9              1              0              0        0.7   \n",
       "\n",
       "   ps_reg_02  ps_reg_03  ps_car_01_cat  ps_car_02_cat  ps_car_03_cat  \\\n",
       "0        0.2   0.718070             10              1             -1   \n",
       "1        0.4   0.766078             11              1             -1   \n",
       "2        0.0  -1.000000              7              1             -1   \n",
       "3        0.2   0.580948              7              1              0   \n",
       "4        0.6   0.840759             11              1             -1   \n",
       "\n",
       "   ps_car_04_cat  ps_car_05_cat  ps_car_06_cat  ps_car_07_cat  ps_car_08_cat  \\\n",
       "0              0              1              4              1              0   \n",
       "1              0             -1             11              1              1   \n",
       "2              0             -1             14              1              1   \n",
       "3              0              1             11              1              1   \n",
       "4              0             -1             14              1              1   \n",
       "\n",
       "   ps_car_09_cat  ps_car_10_cat  ps_car_11_cat  ps_car_11  ps_car_12  \\\n",
       "0              0              1             12          2   0.400000   \n",
       "1              2              1             19          3   0.316228   \n",
       "2              2              1             60          1   0.316228   \n",
       "3              3              1            104          1   0.374166   \n",
       "4              2              1             82          3   0.316070   \n",
       "\n",
       "   ps_car_13  ps_car_14  ps_car_15  ps_calc_01  ps_calc_02  ps_calc_03  \\\n",
       "0   0.883679   0.370810   3.605551         0.6         0.5         0.2   \n",
       "1   0.618817   0.388716   2.449490         0.3         0.1         0.3   \n",
       "2   0.641586   0.347275   3.316625         0.5         0.7         0.1   \n",
       "3   0.542949   0.294958   2.000000         0.6         0.9         0.1   \n",
       "4   0.565832   0.365103   2.000000         0.4         0.6         0.0   \n",
       "\n",
       "   ps_calc_04  ps_calc_05  ps_calc_06  ps_calc_07  ps_calc_08  ps_calc_09  \\\n",
       "0           3           1          10           1          10           1   \n",
       "1           2           1           9           5           8           1   \n",
       "2           2           2           9           1           8           2   \n",
       "3           2           4           7           1           8           4   \n",
       "4           2           2           6           3          10           2   \n",
       "\n",
       "   ps_calc_10  ps_calc_11  ps_calc_12  ps_calc_13  ps_calc_14  ps_calc_15_bin  \\\n",
       "0           5           9           1           5           8               0   \n",
       "1           7           3           1           1           9               0   \n",
       "2           7           4           2           7           7               0   \n",
       "3           2           2           2           4           9               0   \n",
       "4          12           3           1           1           3               0   \n",
       "\n",
       "   ps_calc_16_bin  ps_calc_17_bin  ps_calc_18_bin  ps_calc_19_bin  \\\n",
       "0               1               1               0               0   \n",
       "1               1               1               0               1   \n",
       "2               1               1               0               1   \n",
       "3               0               0               0               0   \n",
       "4               0               0               1               1   \n",
       "\n",
       "   ps_calc_20_bin  \n",
       "0               1  \n",
       "1               0  \n",
       "2               0  \n",
       "3               0  \n",
       "4               0  "
      ]
     },
     "execution_count": 16,
     "metadata": {},
     "output_type": "execute_result"
    }
   ],
   "source": [
    "train.head()"
   ]
  },
  {
   "cell_type": "code",
   "execution_count": 17,
   "id": "featured-kitchen",
   "metadata": {
    "ExecuteTime": {
     "end_time": "2021-01-25T09:17:06.611991Z",
     "start_time": "2021-01-25T09:17:06.570102Z"
    }
   },
   "outputs": [
    {
     "data": {
      "text/html": [
       "<div>\n",
       "<style scoped>\n",
       "    .dataframe tbody tr th:only-of-type {\n",
       "        vertical-align: middle;\n",
       "    }\n",
       "\n",
       "    .dataframe tbody tr th {\n",
       "        vertical-align: top;\n",
       "    }\n",
       "\n",
       "    .dataframe thead th {\n",
       "        text-align: right;\n",
       "    }\n",
       "</style>\n",
       "<table border=\"1\" class=\"dataframe\">\n",
       "  <thead>\n",
       "    <tr style=\"text-align: right;\">\n",
       "      <th></th>\n",
       "      <th>id</th>\n",
       "      <th>target</th>\n",
       "      <th>ps_ind_01</th>\n",
       "      <th>ps_ind_02_cat</th>\n",
       "      <th>ps_ind_03</th>\n",
       "      <th>ps_ind_04_cat</th>\n",
       "      <th>ps_ind_05_cat</th>\n",
       "      <th>ps_ind_06_bin</th>\n",
       "      <th>ps_ind_07_bin</th>\n",
       "      <th>ps_ind_08_bin</th>\n",
       "      <th>ps_ind_09_bin</th>\n",
       "      <th>ps_ind_10_bin</th>\n",
       "      <th>ps_ind_11_bin</th>\n",
       "      <th>ps_ind_12_bin</th>\n",
       "      <th>ps_ind_13_bin</th>\n",
       "      <th>ps_ind_14</th>\n",
       "      <th>ps_ind_15</th>\n",
       "      <th>ps_ind_16_bin</th>\n",
       "      <th>ps_ind_17_bin</th>\n",
       "      <th>ps_ind_18_bin</th>\n",
       "      <th>ps_reg_01</th>\n",
       "      <th>ps_reg_02</th>\n",
       "      <th>ps_reg_03</th>\n",
       "      <th>ps_car_01_cat</th>\n",
       "      <th>ps_car_02_cat</th>\n",
       "      <th>ps_car_03_cat</th>\n",
       "      <th>ps_car_04_cat</th>\n",
       "      <th>ps_car_05_cat</th>\n",
       "      <th>ps_car_06_cat</th>\n",
       "      <th>ps_car_07_cat</th>\n",
       "      <th>ps_car_08_cat</th>\n",
       "      <th>ps_car_09_cat</th>\n",
       "      <th>ps_car_10_cat</th>\n",
       "      <th>ps_car_11_cat</th>\n",
       "      <th>ps_car_11</th>\n",
       "      <th>ps_car_12</th>\n",
       "      <th>ps_car_13</th>\n",
       "      <th>ps_car_14</th>\n",
       "      <th>ps_car_15</th>\n",
       "      <th>ps_calc_01</th>\n",
       "      <th>ps_calc_02</th>\n",
       "      <th>ps_calc_03</th>\n",
       "      <th>ps_calc_04</th>\n",
       "      <th>ps_calc_05</th>\n",
       "      <th>ps_calc_06</th>\n",
       "      <th>ps_calc_07</th>\n",
       "      <th>ps_calc_08</th>\n",
       "      <th>ps_calc_09</th>\n",
       "      <th>ps_calc_10</th>\n",
       "      <th>ps_calc_11</th>\n",
       "      <th>ps_calc_12</th>\n",
       "      <th>ps_calc_13</th>\n",
       "      <th>ps_calc_14</th>\n",
       "      <th>ps_calc_15_bin</th>\n",
       "      <th>ps_calc_16_bin</th>\n",
       "      <th>ps_calc_17_bin</th>\n",
       "      <th>ps_calc_18_bin</th>\n",
       "      <th>ps_calc_19_bin</th>\n",
       "      <th>ps_calc_20_bin</th>\n",
       "    </tr>\n",
       "  </thead>\n",
       "  <tbody>\n",
       "    <tr>\n",
       "      <th>595207</th>\n",
       "      <td>1488013</td>\n",
       "      <td>0</td>\n",
       "      <td>3</td>\n",
       "      <td>1</td>\n",
       "      <td>10</td>\n",
       "      <td>0</td>\n",
       "      <td>0</td>\n",
       "      <td>0</td>\n",
       "      <td>0</td>\n",
       "      <td>0</td>\n",
       "      <td>1</td>\n",
       "      <td>0</td>\n",
       "      <td>0</td>\n",
       "      <td>0</td>\n",
       "      <td>0</td>\n",
       "      <td>0</td>\n",
       "      <td>13</td>\n",
       "      <td>1</td>\n",
       "      <td>0</td>\n",
       "      <td>0</td>\n",
       "      <td>0.5</td>\n",
       "      <td>0.3</td>\n",
       "      <td>0.692820</td>\n",
       "      <td>10</td>\n",
       "      <td>1</td>\n",
       "      <td>-1</td>\n",
       "      <td>0</td>\n",
       "      <td>1</td>\n",
       "      <td>1</td>\n",
       "      <td>1</td>\n",
       "      <td>1</td>\n",
       "      <td>0</td>\n",
       "      <td>1</td>\n",
       "      <td>31</td>\n",
       "      <td>3</td>\n",
       "      <td>0.374166</td>\n",
       "      <td>0.684631</td>\n",
       "      <td>0.385487</td>\n",
       "      <td>2.645751</td>\n",
       "      <td>0.4</td>\n",
       "      <td>0.5</td>\n",
       "      <td>0.3</td>\n",
       "      <td>3</td>\n",
       "      <td>0</td>\n",
       "      <td>9</td>\n",
       "      <td>0</td>\n",
       "      <td>9</td>\n",
       "      <td>1</td>\n",
       "      <td>12</td>\n",
       "      <td>4</td>\n",
       "      <td>1</td>\n",
       "      <td>9</td>\n",
       "      <td>6</td>\n",
       "      <td>0</td>\n",
       "      <td>1</td>\n",
       "      <td>1</td>\n",
       "      <td>0</td>\n",
       "      <td>1</td>\n",
       "      <td>1</td>\n",
       "    </tr>\n",
       "    <tr>\n",
       "      <th>595208</th>\n",
       "      <td>1488016</td>\n",
       "      <td>0</td>\n",
       "      <td>5</td>\n",
       "      <td>1</td>\n",
       "      <td>3</td>\n",
       "      <td>0</td>\n",
       "      <td>0</td>\n",
       "      <td>0</td>\n",
       "      <td>0</td>\n",
       "      <td>0</td>\n",
       "      <td>1</td>\n",
       "      <td>0</td>\n",
       "      <td>0</td>\n",
       "      <td>0</td>\n",
       "      <td>0</td>\n",
       "      <td>0</td>\n",
       "      <td>6</td>\n",
       "      <td>1</td>\n",
       "      <td>0</td>\n",
       "      <td>0</td>\n",
       "      <td>0.9</td>\n",
       "      <td>0.7</td>\n",
       "      <td>1.382027</td>\n",
       "      <td>9</td>\n",
       "      <td>1</td>\n",
       "      <td>-1</td>\n",
       "      <td>0</td>\n",
       "      <td>-1</td>\n",
       "      <td>15</td>\n",
       "      <td>0</td>\n",
       "      <td>0</td>\n",
       "      <td>2</td>\n",
       "      <td>1</td>\n",
       "      <td>63</td>\n",
       "      <td>2</td>\n",
       "      <td>0.387298</td>\n",
       "      <td>0.972145</td>\n",
       "      <td>-1.000000</td>\n",
       "      <td>3.605551</td>\n",
       "      <td>0.2</td>\n",
       "      <td>0.2</td>\n",
       "      <td>0.0</td>\n",
       "      <td>2</td>\n",
       "      <td>4</td>\n",
       "      <td>8</td>\n",
       "      <td>6</td>\n",
       "      <td>8</td>\n",
       "      <td>2</td>\n",
       "      <td>12</td>\n",
       "      <td>4</td>\n",
       "      <td>1</td>\n",
       "      <td>3</td>\n",
       "      <td>8</td>\n",
       "      <td>1</td>\n",
       "      <td>0</td>\n",
       "      <td>1</td>\n",
       "      <td>0</td>\n",
       "      <td>1</td>\n",
       "      <td>1</td>\n",
       "    </tr>\n",
       "    <tr>\n",
       "      <th>595209</th>\n",
       "      <td>1488017</td>\n",
       "      <td>0</td>\n",
       "      <td>1</td>\n",
       "      <td>1</td>\n",
       "      <td>10</td>\n",
       "      <td>0</td>\n",
       "      <td>0</td>\n",
       "      <td>1</td>\n",
       "      <td>0</td>\n",
       "      <td>0</td>\n",
       "      <td>0</td>\n",
       "      <td>0</td>\n",
       "      <td>0</td>\n",
       "      <td>0</td>\n",
       "      <td>0</td>\n",
       "      <td>0</td>\n",
       "      <td>12</td>\n",
       "      <td>1</td>\n",
       "      <td>0</td>\n",
       "      <td>0</td>\n",
       "      <td>0.9</td>\n",
       "      <td>0.2</td>\n",
       "      <td>0.659071</td>\n",
       "      <td>7</td>\n",
       "      <td>1</td>\n",
       "      <td>-1</td>\n",
       "      <td>0</td>\n",
       "      <td>-1</td>\n",
       "      <td>1</td>\n",
       "      <td>1</td>\n",
       "      <td>1</td>\n",
       "      <td>2</td>\n",
       "      <td>1</td>\n",
       "      <td>31</td>\n",
       "      <td>3</td>\n",
       "      <td>0.397492</td>\n",
       "      <td>0.596373</td>\n",
       "      <td>0.398748</td>\n",
       "      <td>1.732051</td>\n",
       "      <td>0.4</td>\n",
       "      <td>0.0</td>\n",
       "      <td>0.3</td>\n",
       "      <td>3</td>\n",
       "      <td>2</td>\n",
       "      <td>7</td>\n",
       "      <td>4</td>\n",
       "      <td>8</td>\n",
       "      <td>0</td>\n",
       "      <td>10</td>\n",
       "      <td>3</td>\n",
       "      <td>2</td>\n",
       "      <td>2</td>\n",
       "      <td>6</td>\n",
       "      <td>0</td>\n",
       "      <td>0</td>\n",
       "      <td>1</td>\n",
       "      <td>0</td>\n",
       "      <td>0</td>\n",
       "      <td>0</td>\n",
       "    </tr>\n",
       "    <tr>\n",
       "      <th>595210</th>\n",
       "      <td>1488021</td>\n",
       "      <td>0</td>\n",
       "      <td>5</td>\n",
       "      <td>2</td>\n",
       "      <td>3</td>\n",
       "      <td>1</td>\n",
       "      <td>0</td>\n",
       "      <td>0</td>\n",
       "      <td>0</td>\n",
       "      <td>1</td>\n",
       "      <td>0</td>\n",
       "      <td>0</td>\n",
       "      <td>0</td>\n",
       "      <td>0</td>\n",
       "      <td>0</td>\n",
       "      <td>0</td>\n",
       "      <td>12</td>\n",
       "      <td>1</td>\n",
       "      <td>0</td>\n",
       "      <td>0</td>\n",
       "      <td>0.9</td>\n",
       "      <td>0.4</td>\n",
       "      <td>0.698212</td>\n",
       "      <td>11</td>\n",
       "      <td>1</td>\n",
       "      <td>-1</td>\n",
       "      <td>0</td>\n",
       "      <td>-1</td>\n",
       "      <td>11</td>\n",
       "      <td>1</td>\n",
       "      <td>1</td>\n",
       "      <td>2</td>\n",
       "      <td>1</td>\n",
       "      <td>101</td>\n",
       "      <td>3</td>\n",
       "      <td>0.374166</td>\n",
       "      <td>0.764434</td>\n",
       "      <td>0.384968</td>\n",
       "      <td>3.162278</td>\n",
       "      <td>0.0</td>\n",
       "      <td>0.7</td>\n",
       "      <td>0.0</td>\n",
       "      <td>4</td>\n",
       "      <td>0</td>\n",
       "      <td>9</td>\n",
       "      <td>4</td>\n",
       "      <td>9</td>\n",
       "      <td>2</td>\n",
       "      <td>11</td>\n",
       "      <td>4</td>\n",
       "      <td>1</td>\n",
       "      <td>4</td>\n",
       "      <td>2</td>\n",
       "      <td>0</td>\n",
       "      <td>1</td>\n",
       "      <td>1</td>\n",
       "      <td>1</td>\n",
       "      <td>0</td>\n",
       "      <td>0</td>\n",
       "    </tr>\n",
       "    <tr>\n",
       "      <th>595211</th>\n",
       "      <td>1488027</td>\n",
       "      <td>0</td>\n",
       "      <td>0</td>\n",
       "      <td>1</td>\n",
       "      <td>8</td>\n",
       "      <td>0</td>\n",
       "      <td>0</td>\n",
       "      <td>1</td>\n",
       "      <td>0</td>\n",
       "      <td>0</td>\n",
       "      <td>0</td>\n",
       "      <td>0</td>\n",
       "      <td>0</td>\n",
       "      <td>0</td>\n",
       "      <td>0</td>\n",
       "      <td>0</td>\n",
       "      <td>7</td>\n",
       "      <td>1</td>\n",
       "      <td>0</td>\n",
       "      <td>0</td>\n",
       "      <td>0.1</td>\n",
       "      <td>0.2</td>\n",
       "      <td>-1.000000</td>\n",
       "      <td>7</td>\n",
       "      <td>0</td>\n",
       "      <td>-1</td>\n",
       "      <td>0</td>\n",
       "      <td>-1</td>\n",
       "      <td>0</td>\n",
       "      <td>1</td>\n",
       "      <td>0</td>\n",
       "      <td>2</td>\n",
       "      <td>1</td>\n",
       "      <td>34</td>\n",
       "      <td>2</td>\n",
       "      <td>0.400000</td>\n",
       "      <td>0.932649</td>\n",
       "      <td>0.378021</td>\n",
       "      <td>3.741657</td>\n",
       "      <td>0.4</td>\n",
       "      <td>0.0</td>\n",
       "      <td>0.5</td>\n",
       "      <td>2</td>\n",
       "      <td>3</td>\n",
       "      <td>10</td>\n",
       "      <td>4</td>\n",
       "      <td>10</td>\n",
       "      <td>2</td>\n",
       "      <td>5</td>\n",
       "      <td>4</td>\n",
       "      <td>4</td>\n",
       "      <td>3</td>\n",
       "      <td>8</td>\n",
       "      <td>0</td>\n",
       "      <td>1</td>\n",
       "      <td>0</td>\n",
       "      <td>0</td>\n",
       "      <td>0</td>\n",
       "      <td>0</td>\n",
       "    </tr>\n",
       "  </tbody>\n",
       "</table>\n",
       "</div>"
      ],
      "text/plain": [
       "             id  target  ps_ind_01  ps_ind_02_cat  ps_ind_03  ps_ind_04_cat  \\\n",
       "595207  1488013       0          3              1         10              0   \n",
       "595208  1488016       0          5              1          3              0   \n",
       "595209  1488017       0          1              1         10              0   \n",
       "595210  1488021       0          5              2          3              1   \n",
       "595211  1488027       0          0              1          8              0   \n",
       "\n",
       "        ps_ind_05_cat  ps_ind_06_bin  ps_ind_07_bin  ps_ind_08_bin  \\\n",
       "595207              0              0              0              0   \n",
       "595208              0              0              0              0   \n",
       "595209              0              1              0              0   \n",
       "595210              0              0              0              1   \n",
       "595211              0              1              0              0   \n",
       "\n",
       "        ps_ind_09_bin  ps_ind_10_bin  ps_ind_11_bin  ps_ind_12_bin  \\\n",
       "595207              1              0              0              0   \n",
       "595208              1              0              0              0   \n",
       "595209              0              0              0              0   \n",
       "595210              0              0              0              0   \n",
       "595211              0              0              0              0   \n",
       "\n",
       "        ps_ind_13_bin  ps_ind_14  ps_ind_15  ps_ind_16_bin  ps_ind_17_bin  \\\n",
       "595207              0          0         13              1              0   \n",
       "595208              0          0          6              1              0   \n",
       "595209              0          0         12              1              0   \n",
       "595210              0          0         12              1              0   \n",
       "595211              0          0          7              1              0   \n",
       "\n",
       "        ps_ind_18_bin  ps_reg_01  ps_reg_02  ps_reg_03  ps_car_01_cat  \\\n",
       "595207              0        0.5        0.3   0.692820             10   \n",
       "595208              0        0.9        0.7   1.382027              9   \n",
       "595209              0        0.9        0.2   0.659071              7   \n",
       "595210              0        0.9        0.4   0.698212             11   \n",
       "595211              0        0.1        0.2  -1.000000              7   \n",
       "\n",
       "        ps_car_02_cat  ps_car_03_cat  ps_car_04_cat  ps_car_05_cat  \\\n",
       "595207              1             -1              0              1   \n",
       "595208              1             -1              0             -1   \n",
       "595209              1             -1              0             -1   \n",
       "595210              1             -1              0             -1   \n",
       "595211              0             -1              0             -1   \n",
       "\n",
       "        ps_car_06_cat  ps_car_07_cat  ps_car_08_cat  ps_car_09_cat  \\\n",
       "595207              1              1              1              0   \n",
       "595208             15              0              0              2   \n",
       "595209              1              1              1              2   \n",
       "595210             11              1              1              2   \n",
       "595211              0              1              0              2   \n",
       "\n",
       "        ps_car_10_cat  ps_car_11_cat  ps_car_11  ps_car_12  ps_car_13  \\\n",
       "595207              1             31          3   0.374166   0.684631   \n",
       "595208              1             63          2   0.387298   0.972145   \n",
       "595209              1             31          3   0.397492   0.596373   \n",
       "595210              1            101          3   0.374166   0.764434   \n",
       "595211              1             34          2   0.400000   0.932649   \n",
       "\n",
       "        ps_car_14  ps_car_15  ps_calc_01  ps_calc_02  ps_calc_03  ps_calc_04  \\\n",
       "595207   0.385487   2.645751         0.4         0.5         0.3           3   \n",
       "595208  -1.000000   3.605551         0.2         0.2         0.0           2   \n",
       "595209   0.398748   1.732051         0.4         0.0         0.3           3   \n",
       "595210   0.384968   3.162278         0.0         0.7         0.0           4   \n",
       "595211   0.378021   3.741657         0.4         0.0         0.5           2   \n",
       "\n",
       "        ps_calc_05  ps_calc_06  ps_calc_07  ps_calc_08  ps_calc_09  \\\n",
       "595207           0           9           0           9           1   \n",
       "595208           4           8           6           8           2   \n",
       "595209           2           7           4           8           0   \n",
       "595210           0           9           4           9           2   \n",
       "595211           3          10           4          10           2   \n",
       "\n",
       "        ps_calc_10  ps_calc_11  ps_calc_12  ps_calc_13  ps_calc_14  \\\n",
       "595207          12           4           1           9           6   \n",
       "595208          12           4           1           3           8   \n",
       "595209          10           3           2           2           6   \n",
       "595210          11           4           1           4           2   \n",
       "595211           5           4           4           3           8   \n",
       "\n",
       "        ps_calc_15_bin  ps_calc_16_bin  ps_calc_17_bin  ps_calc_18_bin  \\\n",
       "595207               0               1               1               0   \n",
       "595208               1               0               1               0   \n",
       "595209               0               0               1               0   \n",
       "595210               0               1               1               1   \n",
       "595211               0               1               0               0   \n",
       "\n",
       "        ps_calc_19_bin  ps_calc_20_bin  \n",
       "595207               1               1  \n",
       "595208               1               1  \n",
       "595209               0               0  \n",
       "595210               0               0  \n",
       "595211               0               0  "
      ]
     },
     "execution_count": 17,
     "metadata": {},
     "output_type": "execute_result"
    }
   ],
   "source": [
    "train.tail()"
   ]
  },
  {
   "cell_type": "markdown",
   "id": "successful-jacob",
   "metadata": {},
   "source": [
    "아래 사항들이 확인된다.\n",
    "- 이진 변수\n",
    "- 범주 값이 정수인 범주형 변수\n",
    "- 정수 또는 실수값인 기타 변수\n",
    "- 결측값인 -1가 있는 변수\n",
    "- target 변수와 ID 변수"
   ]
  },
  {
   "cell_type": "markdown",
   "id": "flush-locking",
   "metadata": {},
   "source": [
    "train data의 행과 열의 수를 확인해보자."
   ]
  },
  {
   "cell_type": "code",
   "execution_count": 18,
   "id": "intermediate-alpha",
   "metadata": {
    "ExecuteTime": {
     "end_time": "2021-01-25T09:19:58.197491Z",
     "start_time": "2021-01-25T09:19:58.184488Z"
    }
   },
   "outputs": [
    {
     "data": {
      "text/plain": [
       "(595212, 59)"
      ]
     },
     "execution_count": 18,
     "metadata": {},
     "output_type": "execute_result"
    }
   ],
   "source": [
    "train.shape"
   ]
  },
  {
   "cell_type": "markdown",
   "id": "smaller-tracy",
   "metadata": {},
   "source": [
    "59개 변수와 595212개의 행이 있다. test data도 변수의 수가 동일한지 확인해보자. 중복 데이터를 삭제한 후 train data를 확인해보자."
   ]
  },
  {
   "cell_type": "code",
   "execution_count": 19,
   "id": "intensive-bouquet",
   "metadata": {
    "ExecuteTime": {
     "end_time": "2021-01-25T09:21:56.669442Z",
     "start_time": "2021-01-25T09:21:55.686338Z"
    }
   },
   "outputs": [
    {
     "data": {
      "text/plain": [
       "(595212, 59)"
      ]
     },
     "execution_count": 19,
     "metadata": {},
     "output_type": "execute_result"
    }
   ],
   "source": [
    "train.drop_duplicates()\n",
    "train.shape"
   ]
  },
  {
   "cell_type": "markdown",
   "id": "current-lighter",
   "metadata": {},
   "source": [
    "중복 데이터가 없다."
   ]
  },
  {
   "cell_type": "code",
   "execution_count": 20,
   "id": "written-ecuador",
   "metadata": {
    "ExecuteTime": {
     "end_time": "2021-01-25T09:22:13.152872Z",
     "start_time": "2021-01-25T09:22:13.136917Z"
    }
   },
   "outputs": [
    {
     "data": {
      "text/plain": [
       "(892816, 58)"
      ]
     },
     "execution_count": 20,
     "metadata": {},
     "output_type": "execute_result"
    }
   ],
   "source": [
    "test.shape"
   ]
  },
  {
   "cell_type": "markdown",
   "id": "possible-alliance",
   "metadata": {},
   "source": [
    "test data의 변수 하나가 없는 것은 target 변수이기 때문에 괜찮다. 이제 각 유형의 변수의 수를 확인해보자. 나중에 14개의 범주형 변수에 대한 더미 변수를 만들 수 있다. bin 변수는 이미 이진이므로 더미화할 필요가 없다."
   ]
  },
  {
   "cell_type": "code",
   "execution_count": 21,
   "id": "french-kernel",
   "metadata": {
    "ExecuteTime": {
     "end_time": "2021-01-25T09:23:37.413465Z",
     "start_time": "2021-01-25T09:23:37.379556Z"
    },
    "scrolled": false
   },
   "outputs": [
    {
     "data": {
      "text/plain": [
       "<bound method DataFrame.info of              id  target  ps_ind_01  ps_ind_02_cat  ps_ind_03  ps_ind_04_cat  \\\n",
       "0             7       0          2              2          5              1   \n",
       "1             9       0          1              1          7              0   \n",
       "2            13       0          5              4          9              1   \n",
       "3            16       0          0              1          2              0   \n",
       "4            17       0          0              2          0              1   \n",
       "...         ...     ...        ...            ...        ...            ...   \n",
       "595207  1488013       0          3              1         10              0   \n",
       "595208  1488016       0          5              1          3              0   \n",
       "595209  1488017       0          1              1         10              0   \n",
       "595210  1488021       0          5              2          3              1   \n",
       "595211  1488027       0          0              1          8              0   \n",
       "\n",
       "        ps_ind_05_cat  ps_ind_06_bin  ps_ind_07_bin  ps_ind_08_bin  \\\n",
       "0                   0              0              1              0   \n",
       "1                   0              0              0              1   \n",
       "2                   0              0              0              1   \n",
       "3                   0              1              0              0   \n",
       "4                   0              1              0              0   \n",
       "...               ...            ...            ...            ...   \n",
       "595207              0              0              0              0   \n",
       "595208              0              0              0              0   \n",
       "595209              0              1              0              0   \n",
       "595210              0              0              0              1   \n",
       "595211              0              1              0              0   \n",
       "\n",
       "        ps_ind_09_bin  ps_ind_10_bin  ps_ind_11_bin  ps_ind_12_bin  \\\n",
       "0                   0              0              0              0   \n",
       "1                   0              0              0              0   \n",
       "2                   0              0              0              0   \n",
       "3                   0              0              0              0   \n",
       "4                   0              0              0              0   \n",
       "...               ...            ...            ...            ...   \n",
       "595207              1              0              0              0   \n",
       "595208              1              0              0              0   \n",
       "595209              0              0              0              0   \n",
       "595210              0              0              0              0   \n",
       "595211              0              0              0              0   \n",
       "\n",
       "        ps_ind_13_bin  ps_ind_14  ps_ind_15  ps_ind_16_bin  ps_ind_17_bin  \\\n",
       "0                   0          0         11              0              1   \n",
       "1                   0          0          3              0              0   \n",
       "2                   0          0         12              1              0   \n",
       "3                   0          0          8              1              0   \n",
       "4                   0          0          9              1              0   \n",
       "...               ...        ...        ...            ...            ...   \n",
       "595207              0          0         13              1              0   \n",
       "595208              0          0          6              1              0   \n",
       "595209              0          0         12              1              0   \n",
       "595210              0          0         12              1              0   \n",
       "595211              0          0          7              1              0   \n",
       "\n",
       "        ps_ind_18_bin  ps_reg_01  ps_reg_02  ps_reg_03  ps_car_01_cat  \\\n",
       "0                   0        0.7        0.2   0.718070             10   \n",
       "1                   1        0.8        0.4   0.766078             11   \n",
       "2                   0        0.0        0.0  -1.000000              7   \n",
       "3                   0        0.9        0.2   0.580948              7   \n",
       "4                   0        0.7        0.6   0.840759             11   \n",
       "...               ...        ...        ...        ...            ...   \n",
       "595207              0        0.5        0.3   0.692820             10   \n",
       "595208              0        0.9        0.7   1.382027              9   \n",
       "595209              0        0.9        0.2   0.659071              7   \n",
       "595210              0        0.9        0.4   0.698212             11   \n",
       "595211              0        0.1        0.2  -1.000000              7   \n",
       "\n",
       "        ps_car_02_cat  ps_car_03_cat  ps_car_04_cat  ps_car_05_cat  \\\n",
       "0                   1             -1              0              1   \n",
       "1                   1             -1              0             -1   \n",
       "2                   1             -1              0             -1   \n",
       "3                   1              0              0              1   \n",
       "4                   1             -1              0             -1   \n",
       "...               ...            ...            ...            ...   \n",
       "595207              1             -1              0              1   \n",
       "595208              1             -1              0             -1   \n",
       "595209              1             -1              0             -1   \n",
       "595210              1             -1              0             -1   \n",
       "595211              0             -1              0             -1   \n",
       "\n",
       "        ps_car_06_cat  ps_car_07_cat  ps_car_08_cat  ps_car_09_cat  \\\n",
       "0                   4              1              0              0   \n",
       "1                  11              1              1              2   \n",
       "2                  14              1              1              2   \n",
       "3                  11              1              1              3   \n",
       "4                  14              1              1              2   \n",
       "...               ...            ...            ...            ...   \n",
       "595207              1              1              1              0   \n",
       "595208             15              0              0              2   \n",
       "595209              1              1              1              2   \n",
       "595210             11              1              1              2   \n",
       "595211              0              1              0              2   \n",
       "\n",
       "        ps_car_10_cat  ps_car_11_cat  ps_car_11  ps_car_12  ps_car_13  \\\n",
       "0                   1             12          2   0.400000   0.883679   \n",
       "1                   1             19          3   0.316228   0.618817   \n",
       "2                   1             60          1   0.316228   0.641586   \n",
       "3                   1            104          1   0.374166   0.542949   \n",
       "4                   1             82          3   0.316070   0.565832   \n",
       "...               ...            ...        ...        ...        ...   \n",
       "595207              1             31          3   0.374166   0.684631   \n",
       "595208              1             63          2   0.387298   0.972145   \n",
       "595209              1             31          3   0.397492   0.596373   \n",
       "595210              1            101          3   0.374166   0.764434   \n",
       "595211              1             34          2   0.400000   0.932649   \n",
       "\n",
       "        ps_car_14  ps_car_15  ps_calc_01  ps_calc_02  ps_calc_03  ps_calc_04  \\\n",
       "0        0.370810   3.605551         0.6         0.5         0.2           3   \n",
       "1        0.388716   2.449490         0.3         0.1         0.3           2   \n",
       "2        0.347275   3.316625         0.5         0.7         0.1           2   \n",
       "3        0.294958   2.000000         0.6         0.9         0.1           2   \n",
       "4        0.365103   2.000000         0.4         0.6         0.0           2   \n",
       "...           ...        ...         ...         ...         ...         ...   \n",
       "595207   0.385487   2.645751         0.4         0.5         0.3           3   \n",
       "595208  -1.000000   3.605551         0.2         0.2         0.0           2   \n",
       "595209   0.398748   1.732051         0.4         0.0         0.3           3   \n",
       "595210   0.384968   3.162278         0.0         0.7         0.0           4   \n",
       "595211   0.378021   3.741657         0.4         0.0         0.5           2   \n",
       "\n",
       "        ps_calc_05  ps_calc_06  ps_calc_07  ps_calc_08  ps_calc_09  \\\n",
       "0                1          10           1          10           1   \n",
       "1                1           9           5           8           1   \n",
       "2                2           9           1           8           2   \n",
       "3                4           7           1           8           4   \n",
       "4                2           6           3          10           2   \n",
       "...            ...         ...         ...         ...         ...   \n",
       "595207           0           9           0           9           1   \n",
       "595208           4           8           6           8           2   \n",
       "595209           2           7           4           8           0   \n",
       "595210           0           9           4           9           2   \n",
       "595211           3          10           4          10           2   \n",
       "\n",
       "        ps_calc_10  ps_calc_11  ps_calc_12  ps_calc_13  ps_calc_14  \\\n",
       "0                5           9           1           5           8   \n",
       "1                7           3           1           1           9   \n",
       "2                7           4           2           7           7   \n",
       "3                2           2           2           4           9   \n",
       "4               12           3           1           1           3   \n",
       "...            ...         ...         ...         ...         ...   \n",
       "595207          12           4           1           9           6   \n",
       "595208          12           4           1           3           8   \n",
       "595209          10           3           2           2           6   \n",
       "595210          11           4           1           4           2   \n",
       "595211           5           4           4           3           8   \n",
       "\n",
       "        ps_calc_15_bin  ps_calc_16_bin  ps_calc_17_bin  ps_calc_18_bin  \\\n",
       "0                    0               1               1               0   \n",
       "1                    0               1               1               0   \n",
       "2                    0               1               1               0   \n",
       "3                    0               0               0               0   \n",
       "4                    0               0               0               1   \n",
       "...                ...             ...             ...             ...   \n",
       "595207               0               1               1               0   \n",
       "595208               1               0               1               0   \n",
       "595209               0               0               1               0   \n",
       "595210               0               1               1               1   \n",
       "595211               0               1               0               0   \n",
       "\n",
       "        ps_calc_19_bin  ps_calc_20_bin  \n",
       "0                    0               1  \n",
       "1                    1               0  \n",
       "2                    1               0  \n",
       "3                    0               0  \n",
       "4                    1               0  \n",
       "...                ...             ...  \n",
       "595207               1               1  \n",
       "595208               1               1  \n",
       "595209               0               0  \n",
       "595210               0               0  \n",
       "595211               0               0  \n",
       "\n",
       "[595212 rows x 59 columns]>"
      ]
     },
     "execution_count": 21,
     "metadata": {},
     "output_type": "execute_result"
    }
   ],
   "source": [
    "train.info"
   ]
  },
  {
   "cell_type": "markdown",
   "id": "accepted-smooth",
   "metadata": {
    "ExecuteTime": {
     "end_time": "2021-01-25T09:26:03.990544Z",
     "start_time": "2021-01-25T09:26:03.982566Z"
    }
   },
   "source": [
    "info()를 통해 데이터 유형을 확인할 수 있다. 확인한 결과 null값은 없다."
   ]
  },
  {
   "cell_type": "markdown",
   "id": "extraordinary-mentor",
   "metadata": {},
   "source": [
    "# 2. Defining Metadata"
   ]
  },
  {
   "cell_type": "markdown",
   "id": "liked-average",
   "metadata": {},
   "source": [
    "데이터 관리를 용이하게 하도록 변수에 대한 메타정보를 DataFrame 에 저장한다. 분석, 시각화, 모델링 등에서 특정 변수를 선택할 때 유용하다. <br>\n",
    "다음과 같이 저장할 수 있다.\n",
    "- role : input, ID, target\n",
    "- level : nominal, interval, ordinal, binary\n",
    "- keep : True or False\n",
    "- dtype : int, float, str"
   ]
  },
  {
   "cell_type": "code",
   "execution_count": 40,
   "id": "underlying-simple",
   "metadata": {
    "ExecuteTime": {
     "end_time": "2021-01-25T10:05:38.395787Z",
     "start_time": "2021-01-25T10:05:38.375841Z"
    }
   },
   "outputs": [],
   "source": [
    "data = []\n",
    "for f in train.columns:\n",
    "    # Role 정의\n",
    "    if f == 'target':\n",
    "        role = 'target'\n",
    "    elif f == 'id':\n",
    "        role = 'id'\n",
    "    else :\n",
    "        role = 'input'\n",
    "        \n",
    "    # level 정의\n",
    "    if 'bin' in f or f == 'target':\n",
    "        level = 'binary'\n",
    "    elif 'cat' in f or f == 'id':\n",
    "        level = 'nominal'\n",
    "    elif train[f].dtype == float:\n",
    "        level = 'interval'\n",
    "    elif train[f].dtype == 'int64':\n",
    "        level = 'ordinal'\n",
    "        \n",
    "    # id 제외 모든 변수에 대해 keep 을 True로 초기화\n",
    "    keep = True\n",
    "    if f == 'id':\n",
    "        keep = False\n",
    "        \n",
    "    # data type 정의\n",
    "    dtype = train[f].dtype\n",
    "    \n",
    "    # 변수의 모든 메타데이터를 포함한 Dict 변수 생성\n",
    "    f_dict = {'varname':f, 'role':role, 'level':level, 'keep':keep, 'dtype':dtype}\n",
    "    data.append(f_dict)\n",
    "    \n",
    "meta = pd.DataFrame(data, columns=['varname','role','level','keep','dtype'])\n",
    "meta.set_index('varname',inplace=True)"
   ]
  },
  {
   "cell_type": "code",
   "execution_count": 41,
   "id": "indirect-practitioner",
   "metadata": {
    "ExecuteTime": {
     "end_time": "2021-01-25T10:05:41.075033Z",
     "start_time": "2021-01-25T10:05:41.052095Z"
    }
   },
   "outputs": [
    {
     "data": {
      "text/html": [
       "<div>\n",
       "<style scoped>\n",
       "    .dataframe tbody tr th:only-of-type {\n",
       "        vertical-align: middle;\n",
       "    }\n",
       "\n",
       "    .dataframe tbody tr th {\n",
       "        vertical-align: top;\n",
       "    }\n",
       "\n",
       "    .dataframe thead th {\n",
       "        text-align: right;\n",
       "    }\n",
       "</style>\n",
       "<table border=\"1\" class=\"dataframe\">\n",
       "  <thead>\n",
       "    <tr style=\"text-align: right;\">\n",
       "      <th></th>\n",
       "      <th>role</th>\n",
       "      <th>level</th>\n",
       "      <th>keep</th>\n",
       "      <th>dtype</th>\n",
       "    </tr>\n",
       "    <tr>\n",
       "      <th>varname</th>\n",
       "      <th></th>\n",
       "      <th></th>\n",
       "      <th></th>\n",
       "      <th></th>\n",
       "    </tr>\n",
       "  </thead>\n",
       "  <tbody>\n",
       "    <tr>\n",
       "      <th>id</th>\n",
       "      <td>id</td>\n",
       "      <td>nominal</td>\n",
       "      <td>False</td>\n",
       "      <td>int64</td>\n",
       "    </tr>\n",
       "    <tr>\n",
       "      <th>target</th>\n",
       "      <td>target</td>\n",
       "      <td>binary</td>\n",
       "      <td>True</td>\n",
       "      <td>int64</td>\n",
       "    </tr>\n",
       "    <tr>\n",
       "      <th>ps_ind_01</th>\n",
       "      <td>input</td>\n",
       "      <td>ordinal</td>\n",
       "      <td>True</td>\n",
       "      <td>int64</td>\n",
       "    </tr>\n",
       "    <tr>\n",
       "      <th>ps_ind_02_cat</th>\n",
       "      <td>input</td>\n",
       "      <td>nominal</td>\n",
       "      <td>True</td>\n",
       "      <td>int64</td>\n",
       "    </tr>\n",
       "    <tr>\n",
       "      <th>ps_ind_03</th>\n",
       "      <td>input</td>\n",
       "      <td>ordinal</td>\n",
       "      <td>True</td>\n",
       "      <td>int64</td>\n",
       "    </tr>\n",
       "    <tr>\n",
       "      <th>ps_ind_04_cat</th>\n",
       "      <td>input</td>\n",
       "      <td>nominal</td>\n",
       "      <td>True</td>\n",
       "      <td>int64</td>\n",
       "    </tr>\n",
       "    <tr>\n",
       "      <th>ps_ind_05_cat</th>\n",
       "      <td>input</td>\n",
       "      <td>nominal</td>\n",
       "      <td>True</td>\n",
       "      <td>int64</td>\n",
       "    </tr>\n",
       "    <tr>\n",
       "      <th>ps_ind_06_bin</th>\n",
       "      <td>input</td>\n",
       "      <td>binary</td>\n",
       "      <td>True</td>\n",
       "      <td>int64</td>\n",
       "    </tr>\n",
       "    <tr>\n",
       "      <th>ps_ind_07_bin</th>\n",
       "      <td>input</td>\n",
       "      <td>binary</td>\n",
       "      <td>True</td>\n",
       "      <td>int64</td>\n",
       "    </tr>\n",
       "    <tr>\n",
       "      <th>ps_ind_08_bin</th>\n",
       "      <td>input</td>\n",
       "      <td>binary</td>\n",
       "      <td>True</td>\n",
       "      <td>int64</td>\n",
       "    </tr>\n",
       "    <tr>\n",
       "      <th>ps_ind_09_bin</th>\n",
       "      <td>input</td>\n",
       "      <td>binary</td>\n",
       "      <td>True</td>\n",
       "      <td>int64</td>\n",
       "    </tr>\n",
       "    <tr>\n",
       "      <th>ps_ind_10_bin</th>\n",
       "      <td>input</td>\n",
       "      <td>binary</td>\n",
       "      <td>True</td>\n",
       "      <td>int64</td>\n",
       "    </tr>\n",
       "    <tr>\n",
       "      <th>ps_ind_11_bin</th>\n",
       "      <td>input</td>\n",
       "      <td>binary</td>\n",
       "      <td>True</td>\n",
       "      <td>int64</td>\n",
       "    </tr>\n",
       "    <tr>\n",
       "      <th>ps_ind_12_bin</th>\n",
       "      <td>input</td>\n",
       "      <td>binary</td>\n",
       "      <td>True</td>\n",
       "      <td>int64</td>\n",
       "    </tr>\n",
       "    <tr>\n",
       "      <th>ps_ind_13_bin</th>\n",
       "      <td>input</td>\n",
       "      <td>binary</td>\n",
       "      <td>True</td>\n",
       "      <td>int64</td>\n",
       "    </tr>\n",
       "    <tr>\n",
       "      <th>ps_ind_14</th>\n",
       "      <td>input</td>\n",
       "      <td>ordinal</td>\n",
       "      <td>True</td>\n",
       "      <td>int64</td>\n",
       "    </tr>\n",
       "    <tr>\n",
       "      <th>ps_ind_15</th>\n",
       "      <td>input</td>\n",
       "      <td>ordinal</td>\n",
       "      <td>True</td>\n",
       "      <td>int64</td>\n",
       "    </tr>\n",
       "    <tr>\n",
       "      <th>ps_ind_16_bin</th>\n",
       "      <td>input</td>\n",
       "      <td>binary</td>\n",
       "      <td>True</td>\n",
       "      <td>int64</td>\n",
       "    </tr>\n",
       "    <tr>\n",
       "      <th>ps_ind_17_bin</th>\n",
       "      <td>input</td>\n",
       "      <td>binary</td>\n",
       "      <td>True</td>\n",
       "      <td>int64</td>\n",
       "    </tr>\n",
       "    <tr>\n",
       "      <th>ps_ind_18_bin</th>\n",
       "      <td>input</td>\n",
       "      <td>binary</td>\n",
       "      <td>True</td>\n",
       "      <td>int64</td>\n",
       "    </tr>\n",
       "    <tr>\n",
       "      <th>ps_reg_01</th>\n",
       "      <td>input</td>\n",
       "      <td>interval</td>\n",
       "      <td>True</td>\n",
       "      <td>float64</td>\n",
       "    </tr>\n",
       "    <tr>\n",
       "      <th>ps_reg_02</th>\n",
       "      <td>input</td>\n",
       "      <td>interval</td>\n",
       "      <td>True</td>\n",
       "      <td>float64</td>\n",
       "    </tr>\n",
       "    <tr>\n",
       "      <th>ps_reg_03</th>\n",
       "      <td>input</td>\n",
       "      <td>interval</td>\n",
       "      <td>True</td>\n",
       "      <td>float64</td>\n",
       "    </tr>\n",
       "    <tr>\n",
       "      <th>ps_car_01_cat</th>\n",
       "      <td>input</td>\n",
       "      <td>nominal</td>\n",
       "      <td>True</td>\n",
       "      <td>int64</td>\n",
       "    </tr>\n",
       "    <tr>\n",
       "      <th>ps_car_02_cat</th>\n",
       "      <td>input</td>\n",
       "      <td>nominal</td>\n",
       "      <td>True</td>\n",
       "      <td>int64</td>\n",
       "    </tr>\n",
       "    <tr>\n",
       "      <th>ps_car_03_cat</th>\n",
       "      <td>input</td>\n",
       "      <td>nominal</td>\n",
       "      <td>True</td>\n",
       "      <td>int64</td>\n",
       "    </tr>\n",
       "    <tr>\n",
       "      <th>ps_car_04_cat</th>\n",
       "      <td>input</td>\n",
       "      <td>nominal</td>\n",
       "      <td>True</td>\n",
       "      <td>int64</td>\n",
       "    </tr>\n",
       "    <tr>\n",
       "      <th>ps_car_05_cat</th>\n",
       "      <td>input</td>\n",
       "      <td>nominal</td>\n",
       "      <td>True</td>\n",
       "      <td>int64</td>\n",
       "    </tr>\n",
       "    <tr>\n",
       "      <th>ps_car_06_cat</th>\n",
       "      <td>input</td>\n",
       "      <td>nominal</td>\n",
       "      <td>True</td>\n",
       "      <td>int64</td>\n",
       "    </tr>\n",
       "    <tr>\n",
       "      <th>ps_car_07_cat</th>\n",
       "      <td>input</td>\n",
       "      <td>nominal</td>\n",
       "      <td>True</td>\n",
       "      <td>int64</td>\n",
       "    </tr>\n",
       "    <tr>\n",
       "      <th>ps_car_08_cat</th>\n",
       "      <td>input</td>\n",
       "      <td>nominal</td>\n",
       "      <td>True</td>\n",
       "      <td>int64</td>\n",
       "    </tr>\n",
       "    <tr>\n",
       "      <th>ps_car_09_cat</th>\n",
       "      <td>input</td>\n",
       "      <td>nominal</td>\n",
       "      <td>True</td>\n",
       "      <td>int64</td>\n",
       "    </tr>\n",
       "    <tr>\n",
       "      <th>ps_car_10_cat</th>\n",
       "      <td>input</td>\n",
       "      <td>nominal</td>\n",
       "      <td>True</td>\n",
       "      <td>int64</td>\n",
       "    </tr>\n",
       "    <tr>\n",
       "      <th>ps_car_11_cat</th>\n",
       "      <td>input</td>\n",
       "      <td>nominal</td>\n",
       "      <td>True</td>\n",
       "      <td>int64</td>\n",
       "    </tr>\n",
       "    <tr>\n",
       "      <th>ps_car_11</th>\n",
       "      <td>input</td>\n",
       "      <td>ordinal</td>\n",
       "      <td>True</td>\n",
       "      <td>int64</td>\n",
       "    </tr>\n",
       "    <tr>\n",
       "      <th>ps_car_12</th>\n",
       "      <td>input</td>\n",
       "      <td>interval</td>\n",
       "      <td>True</td>\n",
       "      <td>float64</td>\n",
       "    </tr>\n",
       "    <tr>\n",
       "      <th>ps_car_13</th>\n",
       "      <td>input</td>\n",
       "      <td>interval</td>\n",
       "      <td>True</td>\n",
       "      <td>float64</td>\n",
       "    </tr>\n",
       "    <tr>\n",
       "      <th>ps_car_14</th>\n",
       "      <td>input</td>\n",
       "      <td>interval</td>\n",
       "      <td>True</td>\n",
       "      <td>float64</td>\n",
       "    </tr>\n",
       "    <tr>\n",
       "      <th>ps_car_15</th>\n",
       "      <td>input</td>\n",
       "      <td>interval</td>\n",
       "      <td>True</td>\n",
       "      <td>float64</td>\n",
       "    </tr>\n",
       "    <tr>\n",
       "      <th>ps_calc_01</th>\n",
       "      <td>input</td>\n",
       "      <td>interval</td>\n",
       "      <td>True</td>\n",
       "      <td>float64</td>\n",
       "    </tr>\n",
       "    <tr>\n",
       "      <th>ps_calc_02</th>\n",
       "      <td>input</td>\n",
       "      <td>interval</td>\n",
       "      <td>True</td>\n",
       "      <td>float64</td>\n",
       "    </tr>\n",
       "    <tr>\n",
       "      <th>ps_calc_03</th>\n",
       "      <td>input</td>\n",
       "      <td>interval</td>\n",
       "      <td>True</td>\n",
       "      <td>float64</td>\n",
       "    </tr>\n",
       "    <tr>\n",
       "      <th>ps_calc_04</th>\n",
       "      <td>input</td>\n",
       "      <td>ordinal</td>\n",
       "      <td>True</td>\n",
       "      <td>int64</td>\n",
       "    </tr>\n",
       "    <tr>\n",
       "      <th>ps_calc_05</th>\n",
       "      <td>input</td>\n",
       "      <td>ordinal</td>\n",
       "      <td>True</td>\n",
       "      <td>int64</td>\n",
       "    </tr>\n",
       "    <tr>\n",
       "      <th>ps_calc_06</th>\n",
       "      <td>input</td>\n",
       "      <td>ordinal</td>\n",
       "      <td>True</td>\n",
       "      <td>int64</td>\n",
       "    </tr>\n",
       "    <tr>\n",
       "      <th>ps_calc_07</th>\n",
       "      <td>input</td>\n",
       "      <td>ordinal</td>\n",
       "      <td>True</td>\n",
       "      <td>int64</td>\n",
       "    </tr>\n",
       "    <tr>\n",
       "      <th>ps_calc_08</th>\n",
       "      <td>input</td>\n",
       "      <td>ordinal</td>\n",
       "      <td>True</td>\n",
       "      <td>int64</td>\n",
       "    </tr>\n",
       "    <tr>\n",
       "      <th>ps_calc_09</th>\n",
       "      <td>input</td>\n",
       "      <td>ordinal</td>\n",
       "      <td>True</td>\n",
       "      <td>int64</td>\n",
       "    </tr>\n",
       "    <tr>\n",
       "      <th>ps_calc_10</th>\n",
       "      <td>input</td>\n",
       "      <td>ordinal</td>\n",
       "      <td>True</td>\n",
       "      <td>int64</td>\n",
       "    </tr>\n",
       "    <tr>\n",
       "      <th>ps_calc_11</th>\n",
       "      <td>input</td>\n",
       "      <td>ordinal</td>\n",
       "      <td>True</td>\n",
       "      <td>int64</td>\n",
       "    </tr>\n",
       "    <tr>\n",
       "      <th>ps_calc_12</th>\n",
       "      <td>input</td>\n",
       "      <td>ordinal</td>\n",
       "      <td>True</td>\n",
       "      <td>int64</td>\n",
       "    </tr>\n",
       "    <tr>\n",
       "      <th>ps_calc_13</th>\n",
       "      <td>input</td>\n",
       "      <td>ordinal</td>\n",
       "      <td>True</td>\n",
       "      <td>int64</td>\n",
       "    </tr>\n",
       "    <tr>\n",
       "      <th>ps_calc_14</th>\n",
       "      <td>input</td>\n",
       "      <td>ordinal</td>\n",
       "      <td>True</td>\n",
       "      <td>int64</td>\n",
       "    </tr>\n",
       "    <tr>\n",
       "      <th>ps_calc_15_bin</th>\n",
       "      <td>input</td>\n",
       "      <td>binary</td>\n",
       "      <td>True</td>\n",
       "      <td>int64</td>\n",
       "    </tr>\n",
       "    <tr>\n",
       "      <th>ps_calc_16_bin</th>\n",
       "      <td>input</td>\n",
       "      <td>binary</td>\n",
       "      <td>True</td>\n",
       "      <td>int64</td>\n",
       "    </tr>\n",
       "    <tr>\n",
       "      <th>ps_calc_17_bin</th>\n",
       "      <td>input</td>\n",
       "      <td>binary</td>\n",
       "      <td>True</td>\n",
       "      <td>int64</td>\n",
       "    </tr>\n",
       "    <tr>\n",
       "      <th>ps_calc_18_bin</th>\n",
       "      <td>input</td>\n",
       "      <td>binary</td>\n",
       "      <td>True</td>\n",
       "      <td>int64</td>\n",
       "    </tr>\n",
       "    <tr>\n",
       "      <th>ps_calc_19_bin</th>\n",
       "      <td>input</td>\n",
       "      <td>binary</td>\n",
       "      <td>True</td>\n",
       "      <td>int64</td>\n",
       "    </tr>\n",
       "    <tr>\n",
       "      <th>ps_calc_20_bin</th>\n",
       "      <td>input</td>\n",
       "      <td>binary</td>\n",
       "      <td>True</td>\n",
       "      <td>int64</td>\n",
       "    </tr>\n",
       "  </tbody>\n",
       "</table>\n",
       "</div>"
      ],
      "text/plain": [
       "                  role     level   keep    dtype\n",
       "varname                                         \n",
       "id                  id   nominal  False    int64\n",
       "target          target    binary   True    int64\n",
       "ps_ind_01        input   ordinal   True    int64\n",
       "ps_ind_02_cat    input   nominal   True    int64\n",
       "ps_ind_03        input   ordinal   True    int64\n",
       "ps_ind_04_cat    input   nominal   True    int64\n",
       "ps_ind_05_cat    input   nominal   True    int64\n",
       "ps_ind_06_bin    input    binary   True    int64\n",
       "ps_ind_07_bin    input    binary   True    int64\n",
       "ps_ind_08_bin    input    binary   True    int64\n",
       "ps_ind_09_bin    input    binary   True    int64\n",
       "ps_ind_10_bin    input    binary   True    int64\n",
       "ps_ind_11_bin    input    binary   True    int64\n",
       "ps_ind_12_bin    input    binary   True    int64\n",
       "ps_ind_13_bin    input    binary   True    int64\n",
       "ps_ind_14        input   ordinal   True    int64\n",
       "ps_ind_15        input   ordinal   True    int64\n",
       "ps_ind_16_bin    input    binary   True    int64\n",
       "ps_ind_17_bin    input    binary   True    int64\n",
       "ps_ind_18_bin    input    binary   True    int64\n",
       "ps_reg_01        input  interval   True  float64\n",
       "ps_reg_02        input  interval   True  float64\n",
       "ps_reg_03        input  interval   True  float64\n",
       "ps_car_01_cat    input   nominal   True    int64\n",
       "ps_car_02_cat    input   nominal   True    int64\n",
       "ps_car_03_cat    input   nominal   True    int64\n",
       "ps_car_04_cat    input   nominal   True    int64\n",
       "ps_car_05_cat    input   nominal   True    int64\n",
       "ps_car_06_cat    input   nominal   True    int64\n",
       "ps_car_07_cat    input   nominal   True    int64\n",
       "ps_car_08_cat    input   nominal   True    int64\n",
       "ps_car_09_cat    input   nominal   True    int64\n",
       "ps_car_10_cat    input   nominal   True    int64\n",
       "ps_car_11_cat    input   nominal   True    int64\n",
       "ps_car_11        input   ordinal   True    int64\n",
       "ps_car_12        input  interval   True  float64\n",
       "ps_car_13        input  interval   True  float64\n",
       "ps_car_14        input  interval   True  float64\n",
       "ps_car_15        input  interval   True  float64\n",
       "ps_calc_01       input  interval   True  float64\n",
       "ps_calc_02       input  interval   True  float64\n",
       "ps_calc_03       input  interval   True  float64\n",
       "ps_calc_04       input   ordinal   True    int64\n",
       "ps_calc_05       input   ordinal   True    int64\n",
       "ps_calc_06       input   ordinal   True    int64\n",
       "ps_calc_07       input   ordinal   True    int64\n",
       "ps_calc_08       input   ordinal   True    int64\n",
       "ps_calc_09       input   ordinal   True    int64\n",
       "ps_calc_10       input   ordinal   True    int64\n",
       "ps_calc_11       input   ordinal   True    int64\n",
       "ps_calc_12       input   ordinal   True    int64\n",
       "ps_calc_13       input   ordinal   True    int64\n",
       "ps_calc_14       input   ordinal   True    int64\n",
       "ps_calc_15_bin   input    binary   True    int64\n",
       "ps_calc_16_bin   input    binary   True    int64\n",
       "ps_calc_17_bin   input    binary   True    int64\n",
       "ps_calc_18_bin   input    binary   True    int64\n",
       "ps_calc_19_bin   input    binary   True    int64\n",
       "ps_calc_20_bin   input    binary   True    int64"
      ]
     },
     "execution_count": 41,
     "metadata": {},
     "output_type": "execute_result"
    }
   ],
   "source": [
    "meta"
   ]
  },
  {
   "cell_type": "markdown",
   "id": "printable-hollow",
   "metadata": {},
   "source": [
    "삭제되지 않은 모든 nominal 변수를 추출해보자."
   ]
  },
  {
   "cell_type": "code",
   "execution_count": 42,
   "id": "immune-working",
   "metadata": {
    "ExecuteTime": {
     "end_time": "2021-01-25T10:05:45.434084Z",
     "start_time": "2021-01-25T10:05:45.426105Z"
    }
   },
   "outputs": [
    {
     "data": {
      "text/plain": [
       "Index(['ps_ind_02_cat', 'ps_ind_04_cat', 'ps_ind_05_cat', 'ps_car_01_cat',\n",
       "       'ps_car_02_cat', 'ps_car_03_cat', 'ps_car_04_cat', 'ps_car_05_cat',\n",
       "       'ps_car_06_cat', 'ps_car_07_cat', 'ps_car_08_cat', 'ps_car_09_cat',\n",
       "       'ps_car_10_cat', 'ps_car_11_cat'],\n",
       "      dtype='object', name='varname')"
      ]
     },
     "execution_count": 42,
     "metadata": {},
     "output_type": "execute_result"
    }
   ],
   "source": [
    "meta[(meta.level=='nominal')&(meta.keep)].index  \n",
    "### keep==True이면서(id가 아니면서 nominal인 변수 추출)"
   ]
  },
  {
   "cell_type": "markdown",
   "id": "certified-warren",
   "metadata": {},
   "source": [
    "role 과 level 당 변수의 수 표시"
   ]
  },
  {
   "cell_type": "code",
   "execution_count": 43,
   "id": "understanding-division",
   "metadata": {
    "ExecuteTime": {
     "end_time": "2021-01-25T10:05:47.041280Z",
     "start_time": "2021-01-25T10:05:47.015352Z"
    }
   },
   "outputs": [
    {
     "data": {
      "text/html": [
       "<div>\n",
       "<style scoped>\n",
       "    .dataframe tbody tr th:only-of-type {\n",
       "        vertical-align: middle;\n",
       "    }\n",
       "\n",
       "    .dataframe tbody tr th {\n",
       "        vertical-align: top;\n",
       "    }\n",
       "\n",
       "    .dataframe thead th {\n",
       "        text-align: right;\n",
       "    }\n",
       "</style>\n",
       "<table border=\"1\" class=\"dataframe\">\n",
       "  <thead>\n",
       "    <tr style=\"text-align: right;\">\n",
       "      <th></th>\n",
       "      <th>role</th>\n",
       "      <th>level</th>\n",
       "      <th>count</th>\n",
       "    </tr>\n",
       "  </thead>\n",
       "  <tbody>\n",
       "    <tr>\n",
       "      <th>0</th>\n",
       "      <td>id</td>\n",
       "      <td>nominal</td>\n",
       "      <td>1</td>\n",
       "    </tr>\n",
       "    <tr>\n",
       "      <th>1</th>\n",
       "      <td>input</td>\n",
       "      <td>binary</td>\n",
       "      <td>17</td>\n",
       "    </tr>\n",
       "    <tr>\n",
       "      <th>2</th>\n",
       "      <td>input</td>\n",
       "      <td>interval</td>\n",
       "      <td>10</td>\n",
       "    </tr>\n",
       "    <tr>\n",
       "      <th>3</th>\n",
       "      <td>input</td>\n",
       "      <td>nominal</td>\n",
       "      <td>14</td>\n",
       "    </tr>\n",
       "    <tr>\n",
       "      <th>4</th>\n",
       "      <td>input</td>\n",
       "      <td>ordinal</td>\n",
       "      <td>16</td>\n",
       "    </tr>\n",
       "    <tr>\n",
       "      <th>5</th>\n",
       "      <td>target</td>\n",
       "      <td>binary</td>\n",
       "      <td>1</td>\n",
       "    </tr>\n",
       "  </tbody>\n",
       "</table>\n",
       "</div>"
      ],
      "text/plain": [
       "     role     level  count\n",
       "0      id   nominal      1\n",
       "1   input    binary     17\n",
       "2   input  interval     10\n",
       "3   input   nominal     14\n",
       "4   input   ordinal     16\n",
       "5  target    binary      1"
      ]
     },
     "execution_count": 43,
     "metadata": {},
     "output_type": "execute_result"
    }
   ],
   "source": [
    "pd.DataFrame({'count':meta.groupby(['role','level'])['role'].size()}).reset_index()"
   ]
  },
  {
   "cell_type": "markdown",
   "id": "technical-granny",
   "metadata": {},
   "source": [
    "# 3. Descriptive statistics"
   ]
  },
  {
   "cell_type": "markdown",
   "id": "innovative-fairy",
   "metadata": {},
   "source": [
    "우리는 dataframe에 describe 메소드를 적용할 수 있지만, 범주형 변수와 id 변수에 대해 평균, 표준편차 등을 계산하는 건 의미 없다. 나중에 시각적으로 범주형 변수를 살펴보자.\n",
    "<br> meta를 통해 기술 통계량을 계산할 변수를 쉽게 선택할 수 있다. 데이터타입별로 확인해보자."
   ]
  },
  {
   "cell_type": "markdown",
   "id": "swiss-input",
   "metadata": {},
   "source": [
    "## 3.1. Interval variables (구간형 변수)"
   ]
  },
  {
   "cell_type": "code",
   "execution_count": 44,
   "id": "golden-lloyd",
   "metadata": {
    "ExecuteTime": {
     "end_time": "2021-01-25T10:05:49.878928Z",
     "start_time": "2021-01-25T10:05:49.543822Z"
    }
   },
   "outputs": [
    {
     "data": {
      "text/html": [
       "<div>\n",
       "<style scoped>\n",
       "    .dataframe tbody tr th:only-of-type {\n",
       "        vertical-align: middle;\n",
       "    }\n",
       "\n",
       "    .dataframe tbody tr th {\n",
       "        vertical-align: top;\n",
       "    }\n",
       "\n",
       "    .dataframe thead th {\n",
       "        text-align: right;\n",
       "    }\n",
       "</style>\n",
       "<table border=\"1\" class=\"dataframe\">\n",
       "  <thead>\n",
       "    <tr style=\"text-align: right;\">\n",
       "      <th></th>\n",
       "      <th>ps_reg_01</th>\n",
       "      <th>ps_reg_02</th>\n",
       "      <th>ps_reg_03</th>\n",
       "      <th>ps_car_12</th>\n",
       "      <th>ps_car_13</th>\n",
       "      <th>ps_car_14</th>\n",
       "      <th>ps_car_15</th>\n",
       "      <th>ps_calc_01</th>\n",
       "      <th>ps_calc_02</th>\n",
       "      <th>ps_calc_03</th>\n",
       "    </tr>\n",
       "  </thead>\n",
       "  <tbody>\n",
       "    <tr>\n",
       "      <th>count</th>\n",
       "      <td>595212.000000</td>\n",
       "      <td>595212.000000</td>\n",
       "      <td>595212.000000</td>\n",
       "      <td>595212.000000</td>\n",
       "      <td>595212.000000</td>\n",
       "      <td>595212.000000</td>\n",
       "      <td>595212.000000</td>\n",
       "      <td>595212.000000</td>\n",
       "      <td>595212.000000</td>\n",
       "      <td>595212.000000</td>\n",
       "    </tr>\n",
       "    <tr>\n",
       "      <th>mean</th>\n",
       "      <td>0.610991</td>\n",
       "      <td>0.439184</td>\n",
       "      <td>0.551102</td>\n",
       "      <td>0.379945</td>\n",
       "      <td>0.813265</td>\n",
       "      <td>0.276256</td>\n",
       "      <td>3.065899</td>\n",
       "      <td>0.449756</td>\n",
       "      <td>0.449589</td>\n",
       "      <td>0.449849</td>\n",
       "    </tr>\n",
       "    <tr>\n",
       "      <th>std</th>\n",
       "      <td>0.287643</td>\n",
       "      <td>0.404264</td>\n",
       "      <td>0.793506</td>\n",
       "      <td>0.058327</td>\n",
       "      <td>0.224588</td>\n",
       "      <td>0.357154</td>\n",
       "      <td>0.731366</td>\n",
       "      <td>0.287198</td>\n",
       "      <td>0.286893</td>\n",
       "      <td>0.287153</td>\n",
       "    </tr>\n",
       "    <tr>\n",
       "      <th>min</th>\n",
       "      <td>0.000000</td>\n",
       "      <td>0.000000</td>\n",
       "      <td>-1.000000</td>\n",
       "      <td>-1.000000</td>\n",
       "      <td>0.250619</td>\n",
       "      <td>-1.000000</td>\n",
       "      <td>0.000000</td>\n",
       "      <td>0.000000</td>\n",
       "      <td>0.000000</td>\n",
       "      <td>0.000000</td>\n",
       "    </tr>\n",
       "    <tr>\n",
       "      <th>25%</th>\n",
       "      <td>0.400000</td>\n",
       "      <td>0.200000</td>\n",
       "      <td>0.525000</td>\n",
       "      <td>0.316228</td>\n",
       "      <td>0.670867</td>\n",
       "      <td>0.333167</td>\n",
       "      <td>2.828427</td>\n",
       "      <td>0.200000</td>\n",
       "      <td>0.200000</td>\n",
       "      <td>0.200000</td>\n",
       "    </tr>\n",
       "    <tr>\n",
       "      <th>50%</th>\n",
       "      <td>0.700000</td>\n",
       "      <td>0.300000</td>\n",
       "      <td>0.720677</td>\n",
       "      <td>0.374166</td>\n",
       "      <td>0.765811</td>\n",
       "      <td>0.368782</td>\n",
       "      <td>3.316625</td>\n",
       "      <td>0.500000</td>\n",
       "      <td>0.400000</td>\n",
       "      <td>0.500000</td>\n",
       "    </tr>\n",
       "    <tr>\n",
       "      <th>75%</th>\n",
       "      <td>0.900000</td>\n",
       "      <td>0.600000</td>\n",
       "      <td>1.000000</td>\n",
       "      <td>0.400000</td>\n",
       "      <td>0.906190</td>\n",
       "      <td>0.396485</td>\n",
       "      <td>3.605551</td>\n",
       "      <td>0.700000</td>\n",
       "      <td>0.700000</td>\n",
       "      <td>0.700000</td>\n",
       "    </tr>\n",
       "    <tr>\n",
       "      <th>max</th>\n",
       "      <td>0.900000</td>\n",
       "      <td>1.800000</td>\n",
       "      <td>4.037945</td>\n",
       "      <td>1.264911</td>\n",
       "      <td>3.720626</td>\n",
       "      <td>0.636396</td>\n",
       "      <td>3.741657</td>\n",
       "      <td>0.900000</td>\n",
       "      <td>0.900000</td>\n",
       "      <td>0.900000</td>\n",
       "    </tr>\n",
       "  </tbody>\n",
       "</table>\n",
       "</div>"
      ],
      "text/plain": [
       "           ps_reg_01      ps_reg_02      ps_reg_03      ps_car_12  \\\n",
       "count  595212.000000  595212.000000  595212.000000  595212.000000   \n",
       "mean        0.610991       0.439184       0.551102       0.379945   \n",
       "std         0.287643       0.404264       0.793506       0.058327   \n",
       "min         0.000000       0.000000      -1.000000      -1.000000   \n",
       "25%         0.400000       0.200000       0.525000       0.316228   \n",
       "50%         0.700000       0.300000       0.720677       0.374166   \n",
       "75%         0.900000       0.600000       1.000000       0.400000   \n",
       "max         0.900000       1.800000       4.037945       1.264911   \n",
       "\n",
       "           ps_car_13      ps_car_14      ps_car_15     ps_calc_01  \\\n",
       "count  595212.000000  595212.000000  595212.000000  595212.000000   \n",
       "mean        0.813265       0.276256       3.065899       0.449756   \n",
       "std         0.224588       0.357154       0.731366       0.287198   \n",
       "min         0.250619      -1.000000       0.000000       0.000000   \n",
       "25%         0.670867       0.333167       2.828427       0.200000   \n",
       "50%         0.765811       0.368782       3.316625       0.500000   \n",
       "75%         0.906190       0.396485       3.605551       0.700000   \n",
       "max         3.720626       0.636396       3.741657       0.900000   \n",
       "\n",
       "          ps_calc_02     ps_calc_03  \n",
       "count  595212.000000  595212.000000  \n",
       "mean        0.449589       0.449849  \n",
       "std         0.286893       0.287153  \n",
       "min         0.000000       0.000000  \n",
       "25%         0.200000       0.200000  \n",
       "50%         0.400000       0.500000  \n",
       "75%         0.700000       0.700000  \n",
       "max         0.900000       0.900000  "
      ]
     },
     "execution_count": 44,
     "metadata": {},
     "output_type": "execute_result"
    }
   ],
   "source": [
    "v = meta[(meta.level=='interval')&(meta.keep)].index\n",
    "train[v].describe()   ### id가 아닌 interval 변수의 기술통계량 확인"
   ]
  },
  {
   "cell_type": "markdown",
   "id": "streaming-nursing",
   "metadata": {},
   "source": [
    "- reg 변수 <br>\n",
    "ps_reg_03에만 결측값 존재 <br> \n",
    "최대 최소간 범위가 다름 <br>\n",
    "-> StandardScaler와 같은 스케일링을 적용할 수 있지만 사용할 분류기에 따라 다름\n",
    "- car 변수 <br>\n",
    "ps_car_12, ps_car_15에 결측값 존재 <br>\n",
    "최대 최소간 범위가 다름 <br>\n",
    "-> 스케일링 적용 가능\n",
    "- calc 변수 <br>\n",
    "결측값 없음 <br>\n",
    "최대값이 모두 0.9이므로 어떤 비율인 것 같음 <br>\n",
    "이 변수들의 분포가 매우 비슷"
   ]
  },
  {
   "cell_type": "markdown",
   "id": "composite-savings",
   "metadata": {},
   "source": [
    "전체적으로, interval 변수의 범주가 작아보인다. log와 같은 변환이 이미 적용되었을 수도 있다."
   ]
  },
  {
   "cell_type": "markdown",
   "id": "growing-adrian",
   "metadata": {},
   "source": [
    "## 3.2. Ordinal variables (순서형 변수)"
   ]
  },
  {
   "cell_type": "code",
   "execution_count": 46,
   "id": "southwest-bathroom",
   "metadata": {
    "ExecuteTime": {
     "end_time": "2021-01-25T10:05:56.759806Z",
     "start_time": "2021-01-25T10:05:56.332892Z"
    }
   },
   "outputs": [
    {
     "data": {
      "text/html": [
       "<div>\n",
       "<style scoped>\n",
       "    .dataframe tbody tr th:only-of-type {\n",
       "        vertical-align: middle;\n",
       "    }\n",
       "\n",
       "    .dataframe tbody tr th {\n",
       "        vertical-align: top;\n",
       "    }\n",
       "\n",
       "    .dataframe thead th {\n",
       "        text-align: right;\n",
       "    }\n",
       "</style>\n",
       "<table border=\"1\" class=\"dataframe\">\n",
       "  <thead>\n",
       "    <tr style=\"text-align: right;\">\n",
       "      <th></th>\n",
       "      <th>ps_ind_01</th>\n",
       "      <th>ps_ind_03</th>\n",
       "      <th>ps_ind_14</th>\n",
       "      <th>ps_ind_15</th>\n",
       "      <th>ps_car_11</th>\n",
       "      <th>ps_calc_04</th>\n",
       "      <th>ps_calc_05</th>\n",
       "      <th>ps_calc_06</th>\n",
       "      <th>ps_calc_07</th>\n",
       "      <th>ps_calc_08</th>\n",
       "      <th>ps_calc_09</th>\n",
       "      <th>ps_calc_10</th>\n",
       "      <th>ps_calc_11</th>\n",
       "      <th>ps_calc_12</th>\n",
       "      <th>ps_calc_13</th>\n",
       "      <th>ps_calc_14</th>\n",
       "    </tr>\n",
       "  </thead>\n",
       "  <tbody>\n",
       "    <tr>\n",
       "      <th>count</th>\n",
       "      <td>595212.000000</td>\n",
       "      <td>595212.000000</td>\n",
       "      <td>595212.000000</td>\n",
       "      <td>595212.000000</td>\n",
       "      <td>595212.000000</td>\n",
       "      <td>595212.000000</td>\n",
       "      <td>595212.000000</td>\n",
       "      <td>595212.000000</td>\n",
       "      <td>595212.000000</td>\n",
       "      <td>595212.000000</td>\n",
       "      <td>595212.000000</td>\n",
       "      <td>595212.000000</td>\n",
       "      <td>595212.000000</td>\n",
       "      <td>595212.000000</td>\n",
       "      <td>595212.000000</td>\n",
       "      <td>595212.000000</td>\n",
       "    </tr>\n",
       "    <tr>\n",
       "      <th>mean</th>\n",
       "      <td>1.900378</td>\n",
       "      <td>4.423318</td>\n",
       "      <td>0.012451</td>\n",
       "      <td>7.299922</td>\n",
       "      <td>2.346072</td>\n",
       "      <td>2.372081</td>\n",
       "      <td>1.885886</td>\n",
       "      <td>7.689445</td>\n",
       "      <td>3.005823</td>\n",
       "      <td>9.225904</td>\n",
       "      <td>2.339034</td>\n",
       "      <td>8.433590</td>\n",
       "      <td>5.441382</td>\n",
       "      <td>1.441918</td>\n",
       "      <td>2.872288</td>\n",
       "      <td>7.539026</td>\n",
       "    </tr>\n",
       "    <tr>\n",
       "      <th>std</th>\n",
       "      <td>1.983789</td>\n",
       "      <td>2.699902</td>\n",
       "      <td>0.127545</td>\n",
       "      <td>3.546042</td>\n",
       "      <td>0.832548</td>\n",
       "      <td>1.117219</td>\n",
       "      <td>1.134927</td>\n",
       "      <td>1.334312</td>\n",
       "      <td>1.414564</td>\n",
       "      <td>1.459672</td>\n",
       "      <td>1.246949</td>\n",
       "      <td>2.904597</td>\n",
       "      <td>2.332871</td>\n",
       "      <td>1.202963</td>\n",
       "      <td>1.694887</td>\n",
       "      <td>2.746652</td>\n",
       "    </tr>\n",
       "    <tr>\n",
       "      <th>min</th>\n",
       "      <td>0.000000</td>\n",
       "      <td>0.000000</td>\n",
       "      <td>0.000000</td>\n",
       "      <td>0.000000</td>\n",
       "      <td>-1.000000</td>\n",
       "      <td>0.000000</td>\n",
       "      <td>0.000000</td>\n",
       "      <td>0.000000</td>\n",
       "      <td>0.000000</td>\n",
       "      <td>2.000000</td>\n",
       "      <td>0.000000</td>\n",
       "      <td>0.000000</td>\n",
       "      <td>0.000000</td>\n",
       "      <td>0.000000</td>\n",
       "      <td>0.000000</td>\n",
       "      <td>0.000000</td>\n",
       "    </tr>\n",
       "    <tr>\n",
       "      <th>25%</th>\n",
       "      <td>0.000000</td>\n",
       "      <td>2.000000</td>\n",
       "      <td>0.000000</td>\n",
       "      <td>5.000000</td>\n",
       "      <td>2.000000</td>\n",
       "      <td>2.000000</td>\n",
       "      <td>1.000000</td>\n",
       "      <td>7.000000</td>\n",
       "      <td>2.000000</td>\n",
       "      <td>8.000000</td>\n",
       "      <td>1.000000</td>\n",
       "      <td>6.000000</td>\n",
       "      <td>4.000000</td>\n",
       "      <td>1.000000</td>\n",
       "      <td>2.000000</td>\n",
       "      <td>6.000000</td>\n",
       "    </tr>\n",
       "    <tr>\n",
       "      <th>50%</th>\n",
       "      <td>1.000000</td>\n",
       "      <td>4.000000</td>\n",
       "      <td>0.000000</td>\n",
       "      <td>7.000000</td>\n",
       "      <td>3.000000</td>\n",
       "      <td>2.000000</td>\n",
       "      <td>2.000000</td>\n",
       "      <td>8.000000</td>\n",
       "      <td>3.000000</td>\n",
       "      <td>9.000000</td>\n",
       "      <td>2.000000</td>\n",
       "      <td>8.000000</td>\n",
       "      <td>5.000000</td>\n",
       "      <td>1.000000</td>\n",
       "      <td>3.000000</td>\n",
       "      <td>7.000000</td>\n",
       "    </tr>\n",
       "    <tr>\n",
       "      <th>75%</th>\n",
       "      <td>3.000000</td>\n",
       "      <td>6.000000</td>\n",
       "      <td>0.000000</td>\n",
       "      <td>10.000000</td>\n",
       "      <td>3.000000</td>\n",
       "      <td>3.000000</td>\n",
       "      <td>3.000000</td>\n",
       "      <td>9.000000</td>\n",
       "      <td>4.000000</td>\n",
       "      <td>10.000000</td>\n",
       "      <td>3.000000</td>\n",
       "      <td>10.000000</td>\n",
       "      <td>7.000000</td>\n",
       "      <td>2.000000</td>\n",
       "      <td>4.000000</td>\n",
       "      <td>9.000000</td>\n",
       "    </tr>\n",
       "    <tr>\n",
       "      <th>max</th>\n",
       "      <td>7.000000</td>\n",
       "      <td>11.000000</td>\n",
       "      <td>4.000000</td>\n",
       "      <td>13.000000</td>\n",
       "      <td>3.000000</td>\n",
       "      <td>5.000000</td>\n",
       "      <td>6.000000</td>\n",
       "      <td>10.000000</td>\n",
       "      <td>9.000000</td>\n",
       "      <td>12.000000</td>\n",
       "      <td>7.000000</td>\n",
       "      <td>25.000000</td>\n",
       "      <td>19.000000</td>\n",
       "      <td>10.000000</td>\n",
       "      <td>13.000000</td>\n",
       "      <td>23.000000</td>\n",
       "    </tr>\n",
       "  </tbody>\n",
       "</table>\n",
       "</div>"
      ],
      "text/plain": [
       "           ps_ind_01      ps_ind_03      ps_ind_14      ps_ind_15  \\\n",
       "count  595212.000000  595212.000000  595212.000000  595212.000000   \n",
       "mean        1.900378       4.423318       0.012451       7.299922   \n",
       "std         1.983789       2.699902       0.127545       3.546042   \n",
       "min         0.000000       0.000000       0.000000       0.000000   \n",
       "25%         0.000000       2.000000       0.000000       5.000000   \n",
       "50%         1.000000       4.000000       0.000000       7.000000   \n",
       "75%         3.000000       6.000000       0.000000      10.000000   \n",
       "max         7.000000      11.000000       4.000000      13.000000   \n",
       "\n",
       "           ps_car_11     ps_calc_04     ps_calc_05     ps_calc_06  \\\n",
       "count  595212.000000  595212.000000  595212.000000  595212.000000   \n",
       "mean        2.346072       2.372081       1.885886       7.689445   \n",
       "std         0.832548       1.117219       1.134927       1.334312   \n",
       "min        -1.000000       0.000000       0.000000       0.000000   \n",
       "25%         2.000000       2.000000       1.000000       7.000000   \n",
       "50%         3.000000       2.000000       2.000000       8.000000   \n",
       "75%         3.000000       3.000000       3.000000       9.000000   \n",
       "max         3.000000       5.000000       6.000000      10.000000   \n",
       "\n",
       "          ps_calc_07     ps_calc_08     ps_calc_09     ps_calc_10  \\\n",
       "count  595212.000000  595212.000000  595212.000000  595212.000000   \n",
       "mean        3.005823       9.225904       2.339034       8.433590   \n",
       "std         1.414564       1.459672       1.246949       2.904597   \n",
       "min         0.000000       2.000000       0.000000       0.000000   \n",
       "25%         2.000000       8.000000       1.000000       6.000000   \n",
       "50%         3.000000       9.000000       2.000000       8.000000   \n",
       "75%         4.000000      10.000000       3.000000      10.000000   \n",
       "max         9.000000      12.000000       7.000000      25.000000   \n",
       "\n",
       "          ps_calc_11     ps_calc_12     ps_calc_13     ps_calc_14  \n",
       "count  595212.000000  595212.000000  595212.000000  595212.000000  \n",
       "mean        5.441382       1.441918       2.872288       7.539026  \n",
       "std         2.332871       1.202963       1.694887       2.746652  \n",
       "min         0.000000       0.000000       0.000000       0.000000  \n",
       "25%         4.000000       1.000000       2.000000       6.000000  \n",
       "50%         5.000000       1.000000       3.000000       7.000000  \n",
       "75%         7.000000       2.000000       4.000000       9.000000  \n",
       "max        19.000000      10.000000      13.000000      23.000000  "
      ]
     },
     "execution_count": 46,
     "metadata": {},
     "output_type": "execute_result"
    }
   ],
   "source": [
    "v = meta[(meta.level=='ordinal')&(meta.keep)].index\n",
    "train[v].describe()"
   ]
  },
  {
   "cell_type": "markdown",
   "id": "seasonal-suffering",
   "metadata": {},
   "source": [
    "- ps_car_11에만 결측값 존재\n",
    "- 스케일링을 적용해 다양한 범주를 처리할 수 있음"
   ]
  },
  {
   "cell_type": "markdown",
   "id": "caring-court",
   "metadata": {},
   "source": [
    "## 3.3. Binary  varibales (이진형 변수)"
   ]
  },
  {
   "cell_type": "code",
   "execution_count": 48,
   "id": "numerous-reporter",
   "metadata": {
    "ExecuteTime": {
     "end_time": "2021-01-25T10:08:37.681059Z",
     "start_time": "2021-01-25T10:08:37.195336Z"
    }
   },
   "outputs": [
    {
     "data": {
      "text/html": [
       "<div>\n",
       "<style scoped>\n",
       "    .dataframe tbody tr th:only-of-type {\n",
       "        vertical-align: middle;\n",
       "    }\n",
       "\n",
       "    .dataframe tbody tr th {\n",
       "        vertical-align: top;\n",
       "    }\n",
       "\n",
       "    .dataframe thead th {\n",
       "        text-align: right;\n",
       "    }\n",
       "</style>\n",
       "<table border=\"1\" class=\"dataframe\">\n",
       "  <thead>\n",
       "    <tr style=\"text-align: right;\">\n",
       "      <th></th>\n",
       "      <th>target</th>\n",
       "      <th>ps_ind_06_bin</th>\n",
       "      <th>ps_ind_07_bin</th>\n",
       "      <th>ps_ind_08_bin</th>\n",
       "      <th>ps_ind_09_bin</th>\n",
       "      <th>ps_ind_10_bin</th>\n",
       "      <th>ps_ind_11_bin</th>\n",
       "      <th>ps_ind_12_bin</th>\n",
       "      <th>ps_ind_13_bin</th>\n",
       "      <th>ps_ind_16_bin</th>\n",
       "      <th>ps_ind_17_bin</th>\n",
       "      <th>ps_ind_18_bin</th>\n",
       "      <th>ps_calc_15_bin</th>\n",
       "      <th>ps_calc_16_bin</th>\n",
       "      <th>ps_calc_17_bin</th>\n",
       "      <th>ps_calc_18_bin</th>\n",
       "      <th>ps_calc_19_bin</th>\n",
       "      <th>ps_calc_20_bin</th>\n",
       "    </tr>\n",
       "  </thead>\n",
       "  <tbody>\n",
       "    <tr>\n",
       "      <th>count</th>\n",
       "      <td>595212.000000</td>\n",
       "      <td>595212.000000</td>\n",
       "      <td>595212.000000</td>\n",
       "      <td>595212.000000</td>\n",
       "      <td>595212.000000</td>\n",
       "      <td>595212.000000</td>\n",
       "      <td>595212.000000</td>\n",
       "      <td>595212.000000</td>\n",
       "      <td>595212.000000</td>\n",
       "      <td>595212.000000</td>\n",
       "      <td>595212.000000</td>\n",
       "      <td>595212.000000</td>\n",
       "      <td>595212.000000</td>\n",
       "      <td>595212.000000</td>\n",
       "      <td>595212.000000</td>\n",
       "      <td>595212.000000</td>\n",
       "      <td>595212.000000</td>\n",
       "      <td>595212.000000</td>\n",
       "    </tr>\n",
       "    <tr>\n",
       "      <th>mean</th>\n",
       "      <td>0.036448</td>\n",
       "      <td>0.393742</td>\n",
       "      <td>0.257033</td>\n",
       "      <td>0.163921</td>\n",
       "      <td>0.185304</td>\n",
       "      <td>0.000373</td>\n",
       "      <td>0.001692</td>\n",
       "      <td>0.009439</td>\n",
       "      <td>0.000948</td>\n",
       "      <td>0.660823</td>\n",
       "      <td>0.121081</td>\n",
       "      <td>0.153446</td>\n",
       "      <td>0.122427</td>\n",
       "      <td>0.627840</td>\n",
       "      <td>0.554182</td>\n",
       "      <td>0.287182</td>\n",
       "      <td>0.349024</td>\n",
       "      <td>0.153318</td>\n",
       "    </tr>\n",
       "    <tr>\n",
       "      <th>std</th>\n",
       "      <td>0.187401</td>\n",
       "      <td>0.488579</td>\n",
       "      <td>0.436998</td>\n",
       "      <td>0.370205</td>\n",
       "      <td>0.388544</td>\n",
       "      <td>0.019309</td>\n",
       "      <td>0.041097</td>\n",
       "      <td>0.096693</td>\n",
       "      <td>0.030768</td>\n",
       "      <td>0.473430</td>\n",
       "      <td>0.326222</td>\n",
       "      <td>0.360417</td>\n",
       "      <td>0.327779</td>\n",
       "      <td>0.483381</td>\n",
       "      <td>0.497056</td>\n",
       "      <td>0.452447</td>\n",
       "      <td>0.476662</td>\n",
       "      <td>0.360295</td>\n",
       "    </tr>\n",
       "    <tr>\n",
       "      <th>min</th>\n",
       "      <td>0.000000</td>\n",
       "      <td>0.000000</td>\n",
       "      <td>0.000000</td>\n",
       "      <td>0.000000</td>\n",
       "      <td>0.000000</td>\n",
       "      <td>0.000000</td>\n",
       "      <td>0.000000</td>\n",
       "      <td>0.000000</td>\n",
       "      <td>0.000000</td>\n",
       "      <td>0.000000</td>\n",
       "      <td>0.000000</td>\n",
       "      <td>0.000000</td>\n",
       "      <td>0.000000</td>\n",
       "      <td>0.000000</td>\n",
       "      <td>0.000000</td>\n",
       "      <td>0.000000</td>\n",
       "      <td>0.000000</td>\n",
       "      <td>0.000000</td>\n",
       "    </tr>\n",
       "    <tr>\n",
       "      <th>25%</th>\n",
       "      <td>0.000000</td>\n",
       "      <td>0.000000</td>\n",
       "      <td>0.000000</td>\n",
       "      <td>0.000000</td>\n",
       "      <td>0.000000</td>\n",
       "      <td>0.000000</td>\n",
       "      <td>0.000000</td>\n",
       "      <td>0.000000</td>\n",
       "      <td>0.000000</td>\n",
       "      <td>0.000000</td>\n",
       "      <td>0.000000</td>\n",
       "      <td>0.000000</td>\n",
       "      <td>0.000000</td>\n",
       "      <td>0.000000</td>\n",
       "      <td>0.000000</td>\n",
       "      <td>0.000000</td>\n",
       "      <td>0.000000</td>\n",
       "      <td>0.000000</td>\n",
       "    </tr>\n",
       "    <tr>\n",
       "      <th>50%</th>\n",
       "      <td>0.000000</td>\n",
       "      <td>0.000000</td>\n",
       "      <td>0.000000</td>\n",
       "      <td>0.000000</td>\n",
       "      <td>0.000000</td>\n",
       "      <td>0.000000</td>\n",
       "      <td>0.000000</td>\n",
       "      <td>0.000000</td>\n",
       "      <td>0.000000</td>\n",
       "      <td>1.000000</td>\n",
       "      <td>0.000000</td>\n",
       "      <td>0.000000</td>\n",
       "      <td>0.000000</td>\n",
       "      <td>1.000000</td>\n",
       "      <td>1.000000</td>\n",
       "      <td>0.000000</td>\n",
       "      <td>0.000000</td>\n",
       "      <td>0.000000</td>\n",
       "    </tr>\n",
       "    <tr>\n",
       "      <th>75%</th>\n",
       "      <td>0.000000</td>\n",
       "      <td>1.000000</td>\n",
       "      <td>1.000000</td>\n",
       "      <td>0.000000</td>\n",
       "      <td>0.000000</td>\n",
       "      <td>0.000000</td>\n",
       "      <td>0.000000</td>\n",
       "      <td>0.000000</td>\n",
       "      <td>0.000000</td>\n",
       "      <td>1.000000</td>\n",
       "      <td>0.000000</td>\n",
       "      <td>0.000000</td>\n",
       "      <td>0.000000</td>\n",
       "      <td>1.000000</td>\n",
       "      <td>1.000000</td>\n",
       "      <td>1.000000</td>\n",
       "      <td>1.000000</td>\n",
       "      <td>0.000000</td>\n",
       "    </tr>\n",
       "    <tr>\n",
       "      <th>max</th>\n",
       "      <td>1.000000</td>\n",
       "      <td>1.000000</td>\n",
       "      <td>1.000000</td>\n",
       "      <td>1.000000</td>\n",
       "      <td>1.000000</td>\n",
       "      <td>1.000000</td>\n",
       "      <td>1.000000</td>\n",
       "      <td>1.000000</td>\n",
       "      <td>1.000000</td>\n",
       "      <td>1.000000</td>\n",
       "      <td>1.000000</td>\n",
       "      <td>1.000000</td>\n",
       "      <td>1.000000</td>\n",
       "      <td>1.000000</td>\n",
       "      <td>1.000000</td>\n",
       "      <td>1.000000</td>\n",
       "      <td>1.000000</td>\n",
       "      <td>1.000000</td>\n",
       "    </tr>\n",
       "  </tbody>\n",
       "</table>\n",
       "</div>"
      ],
      "text/plain": [
       "              target  ps_ind_06_bin  ps_ind_07_bin  ps_ind_08_bin  \\\n",
       "count  595212.000000  595212.000000  595212.000000  595212.000000   \n",
       "mean        0.036448       0.393742       0.257033       0.163921   \n",
       "std         0.187401       0.488579       0.436998       0.370205   \n",
       "min         0.000000       0.000000       0.000000       0.000000   \n",
       "25%         0.000000       0.000000       0.000000       0.000000   \n",
       "50%         0.000000       0.000000       0.000000       0.000000   \n",
       "75%         0.000000       1.000000       1.000000       0.000000   \n",
       "max         1.000000       1.000000       1.000000       1.000000   \n",
       "\n",
       "       ps_ind_09_bin  ps_ind_10_bin  ps_ind_11_bin  ps_ind_12_bin  \\\n",
       "count  595212.000000  595212.000000  595212.000000  595212.000000   \n",
       "mean        0.185304       0.000373       0.001692       0.009439   \n",
       "std         0.388544       0.019309       0.041097       0.096693   \n",
       "min         0.000000       0.000000       0.000000       0.000000   \n",
       "25%         0.000000       0.000000       0.000000       0.000000   \n",
       "50%         0.000000       0.000000       0.000000       0.000000   \n",
       "75%         0.000000       0.000000       0.000000       0.000000   \n",
       "max         1.000000       1.000000       1.000000       1.000000   \n",
       "\n",
       "       ps_ind_13_bin  ps_ind_16_bin  ps_ind_17_bin  ps_ind_18_bin  \\\n",
       "count  595212.000000  595212.000000  595212.000000  595212.000000   \n",
       "mean        0.000948       0.660823       0.121081       0.153446   \n",
       "std         0.030768       0.473430       0.326222       0.360417   \n",
       "min         0.000000       0.000000       0.000000       0.000000   \n",
       "25%         0.000000       0.000000       0.000000       0.000000   \n",
       "50%         0.000000       1.000000       0.000000       0.000000   \n",
       "75%         0.000000       1.000000       0.000000       0.000000   \n",
       "max         1.000000       1.000000       1.000000       1.000000   \n",
       "\n",
       "       ps_calc_15_bin  ps_calc_16_bin  ps_calc_17_bin  ps_calc_18_bin  \\\n",
       "count   595212.000000   595212.000000   595212.000000   595212.000000   \n",
       "mean         0.122427        0.627840        0.554182        0.287182   \n",
       "std          0.327779        0.483381        0.497056        0.452447   \n",
       "min          0.000000        0.000000        0.000000        0.000000   \n",
       "25%          0.000000        0.000000        0.000000        0.000000   \n",
       "50%          0.000000        1.000000        1.000000        0.000000   \n",
       "75%          0.000000        1.000000        1.000000        1.000000   \n",
       "max          1.000000        1.000000        1.000000        1.000000   \n",
       "\n",
       "       ps_calc_19_bin  ps_calc_20_bin  \n",
       "count   595212.000000   595212.000000  \n",
       "mean         0.349024        0.153318  \n",
       "std          0.476662        0.360295  \n",
       "min          0.000000        0.000000  \n",
       "25%          0.000000        0.000000  \n",
       "50%          0.000000        0.000000  \n",
       "75%          1.000000        0.000000  \n",
       "max          1.000000        1.000000  "
      ]
     },
     "execution_count": 48,
     "metadata": {},
     "output_type": "execute_result"
    }
   ],
   "source": [
    "v = meta[(meta.level=='binary')&(meta.keep)].index\n",
    "train[v].describe()"
   ]
  },
  {
   "cell_type": "markdown",
   "id": "signal-karaoke",
   "metadata": {},
   "source": [
    "train data의 target의 평균이 0.0365 로 굉장히 불균형하다. 대부분의 target 값이 0인 것을 알 수 있다."
   ]
  },
  {
   "cell_type": "markdown",
   "id": "transsexual-birthday",
   "metadata": {},
   "source": [
    "# 4. Handling embalanced classes"
   ]
  },
  {
   "cell_type": "markdown",
   "id": "colonial-invite",
   "metadata": {},
   "source": [
    "언급했듯이 target=1의 비율이 0보다 훨씬 적다. 따라서 정확도는 높지만 실제로 추가적인 값을 갖는 모델이 될 수 있다. 이 문제를 해결할 수 있는 두 가지 방법은 다음과 같다.\n",
    "- target=1로 오버샘플링\n",
    "- target=0으로 언더샘플링"
   ]
  },
  {
   "cell_type": "markdown",
   "id": "tested-reconstruction",
   "metadata": {},
   "source": [
    "train set이 크기 때문에 언더샘플링을 한다."
   ]
  },
  {
   "cell_type": "code",
   "execution_count": 50,
   "id": "systematic-inclusion",
   "metadata": {
    "ExecuteTime": {
     "end_time": "2021-01-25T10:41:08.734272Z",
     "start_time": "2021-01-25T10:41:08.126368Z"
    }
   },
   "outputs": [
    {
     "name": "stdout",
     "output_type": "stream",
     "text": [
      "Rate to undersample recordes with target=0: 0.34043569687437886\n",
      "Number of records with target=0 after undersampling: 195246\n"
     ]
    }
   ],
   "source": [
    "desired_apriori = 0.10 \n",
    "### 현재 target=1 : target=0 비율은 약 0.03 : 0.97\n",
    "### 언더샘플링을 통해 비율을 0.1 : 0.9 로 맞출 예정\n",
    "\n",
    "# target값별 인덱스 구하기\n",
    "idx_0 = train[train.target==0].index\n",
    "idx_1 = train[train.target==1].index\n",
    "\n",
    "# target값별 레코드 수 구하기\n",
    "nb_0 = len(train.loc[idx_0])  ### target==0인 train데이터 길이(개수)\n",
    "nb_1 = len(train.loc[idx_1])\n",
    "\n",
    "# target=0인 레코드의 언더샘플링 비율과 개수 구하기\n",
    "undersampling_rate = ((1-desired_apriori)*nb_1) / (nb_0*desired_apriori)  ### target 개수 차이가 많이 나므로 가능한 언더샘플링 비율 구하기\n",
    "undersampled_nb_0 = int(undersampling_rate*nb_0)  ### 언더샘플링 이후 target=0 데이터 개수\n",
    "print('Rate to undersample recordes with target=0: {}'.format(undersampling_rate))\n",
    "print('Number of records with target=0 after undersampling: {}'.format(undersampled_nb_0))\n",
    "\n",
    "# 원하는 apriori를 얻기 위해 target=0인 데이터 랜덤 선택\n",
    "undersampled_idx = shuffle(idx_0, random_state=37, n_samples=undersampled_nb_0)  ### 언더샘플링할 데이터 수만큼만 랜덤으로 추출\n",
    "\n",
    "# 남은 인덱스에서 리스트 생성\n",
    "idx_list = list(undersampled_idx) + list(idx_1)  ### 언더샘플링한 target=0 데이터와 원상태인 target=1 데이터의 인덱스 결합해 저장\n",
    "\n",
    "# 언더샘플링한 데이터프레임 반환\n",
    "train = train.loc[idx_list].reset_index(drop=True)"
   ]
  },
  {
   "cell_type": "markdown",
   "id": "italian-marketing",
   "metadata": {},
   "source": [
    "# 5. Data Quality Checks"
   ]
  },
  {
   "cell_type": "markdown",
   "id": "excess-championship",
   "metadata": {},
   "source": [
    "## 5.1. Checking missing values"
   ]
  },
  {
   "cell_type": "markdown",
   "id": "approved-screen",
   "metadata": {},
   "source": [
    "결측값 = -1"
   ]
  },
  {
   "cell_type": "code",
   "execution_count": 53,
   "id": "comfortable-temple",
   "metadata": {
    "ExecuteTime": {
     "end_time": "2021-01-25T10:46:11.715988Z",
     "start_time": "2021-01-25T10:46:11.535470Z"
    }
   },
   "outputs": [
    {
     "name": "stdout",
     "output_type": "stream",
     "text": [
      "Variable ps_ind_02_cat has 103 records (0.05%) with missing values\n",
      "Variable ps_ind_04_cat has 51 records (0.02%) with missing values\n",
      "Variable ps_ind_05_cat has 2256 records (1.04%) with missing values\n",
      "Variable ps_reg_03 has 38580 records (17.78%) with missing values\n",
      "Variable ps_car_01_cat has 62 records (0.03%) with missing values\n",
      "Variable ps_car_02_cat has 2 records (0.00%) with missing values\n",
      "Variable ps_car_03_cat has 148367 records (68.39%) with missing values\n",
      "Variable ps_car_05_cat has 96026 records (44.26%) with missing values\n",
      "Variable ps_car_07_cat has 4431 records (2.04%) with missing values\n",
      "Variable ps_car_09_cat has 230 records (0.11%) with missing values\n",
      "Variable ps_car_11 has 1 records (0.00%) with missing values\n",
      "Variable ps_car_14 has 15726 records (7.25%) with missing values\n",
      "In total, there are 12 variables with missing values\n"
     ]
    }
   ],
   "source": [
    "vars_with_missing = []\n",
    "\n",
    "for f in train.columns:\n",
    "    missings = train[train[f]==-1][f].count()  ### 결측값 개수\n",
    "    if missings>0:\n",
    "        vars_with_missing.append(f)  ### 결측값 존재하는 변수 추가\n",
    "        missings_perc = missings/train.shape[0]  ### 결측값 비율\n",
    "        \n",
    "        print('Variable {} has {} records ({:.2%}) with missing values'.format(f,missings,missings_perc))\n",
    "    \n",
    "print('In total, there are {} variables with missing values'.format(len(vars_with_missing)))"
   ]
  },
  {
   "cell_type": "markdown",
   "id": "explicit-homeless",
   "metadata": {},
   "source": [
    "- ps_car_03_cat, ps_car_05_cat은 결측값 비율이 크므로 변수 제거. 결측값이 있는 다른 범주형 변수는 결측값 -1을 남겨둘 수 있다.\n",
    "- ps_reg_03(연속형)은 18%의 결측값이 있어 평균으로 대체\n",
    "- ps_car_11(순서형)은 결측값이 5개뿐이므로 최빈값(mode)로 대체\n",
    "- ps_car_12(연속형)은 결측값이 1개뿐이므로 평균으로 대체\n",
    "- ps_car_14(연속형)은 7%의 결측값이 있어 평균으로 대체"
   ]
  },
  {
   "cell_type": "code",
   "execution_count": 69,
   "id": "accessory-moses",
   "metadata": {
    "ExecuteTime": {
     "end_time": "2021-01-25T11:00:56.052870Z",
     "start_time": "2021-01-25T11:00:55.968098Z"
    }
   },
   "outputs": [],
   "source": [
    "# 결측값이 너무 많은 변수 제거\n",
    "#vars_to_drop = ['ps_car_03_cat','ps_car_05_cat']\n",
    "#train.drop(vars_to_drop, inplace=True, axis=1)\n",
    "#meta.loc[(vars_to_drop),'keep'] = False  # meta 업데이트\n",
    "\n",
    "# 평균이나 최빈값 대체\n",
    "mean_imp = SimpleImputer(missing_values=-1, strategy='mean')  ### SimpleImputer에 axis 매개변수 없어서 변경\n",
    "mode_imp = SimpleImputer(missing_values=-1, strategy='most_frequent')\n",
    "\n",
    "train['ps_reg_03'] = mean_imp.fit_transform(train[['ps_reg_03']]).ravel()  ### ravel : 다차원->1차원 배열 변환\n",
    "train['ps_car_12'] = mean_imp.fit_transform(train[['ps_car_12']]).ravel()\n",
    "train['ps_car_14'] = mean_imp.fit_transform(train[['ps_car_14']]).ravel()\n",
    "train['ps_car_11'] = mode_imp.fit(train[['ps_car_11']])  ### SimpleImputer에 ravel 적용 안 돼서 변경"
   ]
  },
  {
   "cell_type": "markdown",
   "id": "posted-franchise",
   "metadata": {},
   "source": [
    "## 5.2. Checking the cardinality of the categorical variables"
   ]
  },
  {
   "cell_type": "markdown",
   "id": "acceptable-interpretation",
   "metadata": {},
   "source": [
    "카디널리티는 변수의 다양한 값의 수를 나타낸다. 나중에 범주형 변수에서 더미 변수를 만 들 것이므로 구별되는 값이 많은 변수가 있는지 확인해야한다. 이런 변수는 더미 변수를 너무 많이 만들 수 있으니 다르게 처리해야한다."
   ]
  },
  {
   "cell_type": "code",
   "execution_count": 71,
   "id": "confused-terminal",
   "metadata": {
    "ExecuteTime": {
     "end_time": "2021-01-25T11:06:08.518438Z",
     "start_time": "2021-01-25T11:06:08.480540Z"
    }
   },
   "outputs": [
    {
     "name": "stdout",
     "output_type": "stream",
     "text": [
      "Variable ps_ind_02_cat has 5 distict values\n",
      "Variable ps_ind_04_cat has 3 distict values\n",
      "Variable ps_ind_05_cat has 8 distict values\n",
      "Variable ps_car_01_cat has 13 distict values\n",
      "Variable ps_car_02_cat has 3 distict values\n",
      "Variable ps_car_04_cat has 10 distict values\n",
      "Variable ps_car_06_cat has 18 distict values\n",
      "Variable ps_car_07_cat has 3 distict values\n",
      "Variable ps_car_08_cat has 2 distict values\n",
      "Variable ps_car_09_cat has 6 distict values\n",
      "Variable ps_car_10_cat has 3 distict values\n",
      "Variable ps_car_11_cat has 104 distict values\n"
     ]
    }
   ],
   "source": [
    "v = meta[(meta.level=='nominal')&(meta.keep)].index\n",
    "\n",
    "for f in v:\n",
    "    dist_values = train[f].value_counts().shape[0]\n",
    "    print('Variable {} has {} distict values'.format(f, dist_values))"
   ]
  },
  {
   "cell_type": "markdown",
   "id": "nominated-salvation",
   "metadata": {},
   "source": [
    "ps_car_11_cat이 distinct value가 많지만 괜찮다."
   ]
  },
  {
   "cell_type": "code",
   "execution_count": 87,
   "id": "explicit-orlando",
   "metadata": {
    "ExecuteTime": {
     "end_time": "2021-01-25T11:40:17.443019Z",
     "start_time": "2021-01-25T11:40:17.429056Z"
    }
   },
   "outputs": [],
   "source": [
    "# Script by https://www.kaggle.com/ogrellier\n",
    "# Code: https://www.kaggle.com/ogrellier/python-target-encoding-for-categorical-features\n",
    "\n",
    "def add_noise(series,noise_level):\n",
    "    return series*(1 + noise_level*np.random.randn(len(series)))\n",
    "\n",
    "\n",
    "def target_encode(trn_series=None,tst_series=None,target=None,min_samples_leaf=1,smoothing=1,noise_level=0):\n",
    "    # trn_series : train의 범주형 변수를 pd.Series로 변환\n",
    "    # target : pd.Series의 target 데이터\n",
    "    # min_samples_lear(int) : 범주의 평균을 얻는 최소 표본수  ### 클수록 가지치기, 작을수록 정확하지만 과대적합\n",
    "    # smoothing(int) : 범주 평균과 이전 값의 균형을 맞추기 위한 효과\n",
    "    \n",
    "    assert len(trn_series) == len(target)  ### assert : 뒤의 조건이 True가 아니면 AssertError 발생시킴\n",
    "    assert trn_series.name == tst_series.name\n",
    "    temp = pd.concat([trn_series, target], axis=1)  ### concat : 데이터프레임 결합, 여기선 train과 target 결합\n",
    "    \n",
    "    # target 평균 계산\n",
    "    averages = temp.groupby(by=trn_series.name)[target.name].agg(['mean','count'])  ### agg : 그룹별 여러 함수 적용\n",
    "    # smoothing 계산\n",
    "    smoothing = 1 / (1 + np.exp(-(averages['count']-min_samples_leaf)/smoothing))\n",
    "    \n",
    "    # 모든 target 데이터에 평균 적용\n",
    "    prior = target.mean()\n",
    "    # count가 클수록 full_avg는 적게 고려됨\n",
    "    averages[target.name] = prior*(1-smoothing) + averages['mean']*smoothing\n",
    "    averages.drop([\"mean\",\"count\"],axis=1,inplace=True)\n",
    "    # train, test series에 평균 적용\n",
    "    ft_trn_series = pd.merge(trn_series.to_frame(trn_series.name),\n",
    "                            averages.reset_index().rename(columns={'index':target.name,target.name:'average'}),\n",
    "                            on=trn_series.name, how='left')['average'].rename(trn_series.name+'_mean').fillna(prior)\n",
    "    # pd.merge가 인덱스를 유지하지 않으므로 복원\n",
    "    ft_trn_series.index = trn_series.index\n",
    "    ft_tst_series = pd.merge(tst_series.to_frame(tst_series.name),\n",
    "                            averages.reset_index().rename(columns={'index':target.name,target.name:'average'}),\n",
    "                            on=tst_series.name, how='left')['average'].rename(trn_series.name+'_mean').fillna(prior)\n",
    "    # pd.merge가 인덱스를 유지하지 않으므로 복원\n",
    "    ft_tst_series.index = tst_series.index\n",
    "    \n",
    "    return add_noise(ft_trn_series, noise_level), add_noise(ft_tst_series, noise_level)"
   ]
  },
  {
   "cell_type": "code",
   "execution_count": 88,
   "id": "short-rates",
   "metadata": {
    "ExecuteTime": {
     "end_time": "2021-01-25T11:40:18.541719Z",
     "start_time": "2021-01-25T11:40:18.009629Z"
    }
   },
   "outputs": [],
   "source": [
    "train_encoded, test_encoded = target_encode(train[\"ps_car_11_cat\"],test[\"ps_car_11_cat\"], \n",
    "                                             target=train.target,min_samples_leaf=100,\n",
    "                                            smoothing=10,noise_level=0.01)\n",
    "train['ps_car_!1_cat_te'] = train_encoded\n",
    "train.drop('ps_car_11_cat',axis=1,inplace=True)\n",
    "meta.loc['ps_car_11_cat','keep'] = False  # meta 업데이트\n",
    "test['ps_car_11_cat_te'] = test_encoded\n",
    "test.drop('ps_car_11_cat',axis=1,inplace=True)"
   ]
  },
  {
   "cell_type": "markdown",
   "id": "round-electric",
   "metadata": {},
   "source": [
    "# 6. Exploratory Data Visualization"
   ]
  },
  {
   "cell_type": "markdown",
   "id": "universal-geography",
   "metadata": {},
   "source": [
    "## 6.1. Categorical variables"
   ]
  },
  {
   "cell_type": "markdown",
   "id": "loved-strand",
   "metadata": {},
   "source": [
    "범주형 변수와 target=1인 고객의 비율을 살펴보자."
   ]
  },
  {
   "cell_type": "code",
   "execution_count": 90,
   "id": "proved-element",
   "metadata": {
    "ExecuteTime": {
     "end_time": "2021-01-25T12:55:23.963611Z",
     "start_time": "2021-01-25T12:55:20.813282Z"
    },
    "scrolled": false
   },
   "outputs": [
    {
     "data": {
      "text/plain": [
       "<Figure size 432x288 with 0 Axes>"
      ]
     },
     "metadata": {},
     "output_type": "display_data"
    },
    {
     "data": {
      "image/png": "[encoded data removed]",
      "text/plain": [
       "<Figure size 1440x720 with 1 Axes>"
      ]
     },
     "metadata": {
      "needs_background": "light"
     },
     "output_type": "display_data"
    },
    {
     "data": {
      "text/plain": [
       "<Figure size 432x288 with 0 Axes>"
      ]
     },
     "metadata": {},
     "output_type": "display_data"
    },
    {
     "data": {
      "image/png": "[encoded data removed]",
      "text/plain": [
       "<Figure size 1440x720 with 1 Axes>"
      ]
     },
     "metadata": {
      "needs_background": "light"
     },
     "output_type": "display_data"
    },
    {
     "data": {
      "text/plain": [
       "<Figure size 432x288 with 0 Axes>"
      ]
     },
     "metadata": {},
     "output_type": "display_data"
    },
    {
     "data": {
      "image/png": "[encoded data removed]",
      "text/plain": [
       "<Figure size 1440x720 with 1 Axes>"
      ]
     },
     "metadata": {
      "needs_background": "light"
     },
     "output_type": "display_data"
    },
    {
     "data": {
      "text/plain": [
       "<Figure size 432x288 with 0 Axes>"
      ]
     },
     "metadata": {},
     "output_type": "display_data"
    },
    {
     "data": {
      "image/png": "[encoded data removed]",
      "text/plain": [
       "<Figure size 1440x720 with 1 Axes>"
      ]
     },
     "metadata": {
      "needs_background": "light"
     },
     "output_type": "display_data"
    },
    {
     "data": {
      "text/plain": [
       "<Figure size 432x288 with 0 Axes>"
      ]
     },
     "metadata": {},
     "output_type": "display_data"
    },
    {
     "data": {
      "image/png": "[encoded data removed]",
      "text/plain": [
       "<Figure size 1440x720 with 1 Axes>"
      ]
     },
     "metadata": {
      "needs_background": "light"
     },
     "output_type": "display_data"
    },
    {
     "data": {
      "text/plain": [
       "<Figure size 432x288 with 0 Axes>"
      ]
     },
     "metadata": {},
     "output_type": "display_data"
    },
    {
     "data": {
      "image/png": "[encoded data removed]",
      "text/plain": [
       "<Figure size 1440x720 with 1 Axes>"
      ]
     },
     "metadata": {
      "needs_background": "light"
     },
     "output_type": "display_data"
    },
    {
     "data": {
      "text/plain": [
       "<Figure size 432x288 with 0 Axes>"
      ]
     },
     "metadata": {},
     "output_type": "display_data"
    },
    {
     "data": {
      "image/png": "[encoded data removed]",
      "text/plain": [
       "<Figure size 1440x720 with 1 Axes>"
      ]
     },
     "metadata": {
      "needs_background": "light"
     },
     "output_type": "display_data"
    },
    {
     "data": {
      "text/plain": [
       "<Figure size 432x288 with 0 Axes>"
      ]
     },
     "metadata": {},
     "output_type": "display_data"
    },
    {
     "data": {
      "image/png": "[encoded data removed]",
      "text/plain": [
       "<Figure size 1440x720 with 1 Axes>"
      ]
     },
     "metadata": {
      "needs_background": "light"
     },
     "output_type": "display_data"
    },
    {
     "data": {
      "text/plain": [
       "<Figure size 432x288 with 0 Axes>"
      ]
     },
     "metadata": {},
     "output_type": "display_data"
    },
    {
     "data": {
      "image/png": "[encoded data removed]",
      "text/plain": [
       "<Figure size 1440x720 with 1 Axes>"
      ]
     },
     "metadata": {
      "needs_background": "light"
     },
     "output_type": "display_data"
    },
    {
     "data": {
      "text/plain": [
       "<Figure size 432x288 with 0 Axes>"
      ]
     },
     "metadata": {},
     "output_type": "display_data"
    },
    {
     "data": {
      "image/png": "[encoded data removed]",
      "text/plain": [
       "<Figure size 1440x720 with 1 Axes>"
      ]
     },
     "metadata": {
      "needs_background": "light"
     },
     "output_type": "display_data"
    },
    {
     "data": {
      "text/plain": [
       "<Figure size 432x288 with 0 Axes>"
      ]
     },
     "metadata": {},
     "output_type": "display_data"
    },
    {
     "data": {
      "image/png": "[encoded data removed]",
      "text/plain": [
       "<Figure size 1440x720 with 1 Axes>"
      ]
     },
     "metadata": {
      "needs_background": "light"
     },
     "output_type": "display_data"
    }
   ],
   "source": [
    "v = meta[(meta.level=='nominal')&(meta.keep)].index\n",
    "\n",
    "for f in v:\n",
    "    plt.figure()\n",
    "    fig,ax = plt.subplots(figsize=(20,10))\n",
    "    # 범주값별 target=1의 비율 계산\n",
    "    cat_perc = train[[f,'target']].groupby([f],as_index=False).mean()\n",
    "    cat_perc.sort_values(by='target',ascending=False,inplace=True)\n",
    "    \n",
    "    # Bar plot\n",
    "    # target 평균의 내림차순 bar\n",
    "    sns.barplot(ax=ax, x=f, y='target', data=cat_perc, order=cat_perc[f])\n",
    "    plt.ylabel('% target', fontsize=18)\n",
    "    plt.xlabel(f, fontsize=18)\n",
    "    plt.tick_params(axis='both',which='major',labelsize=18)\n",
    "    plt.show()"
   ]
  },
  {
   "cell_type": "markdown",
   "id": "serial-wichita",
   "metadata": {},
   "source": [
    "결측값이 있는 변수에서 알 수 있듯이, 결측값을 최빈값으로 대체하는 것 대신, 분리된 범주값으로 유지하는 것이 좋다. 결측값이 있는 고객은 보험금을 청구할 확률이 훨씬 높은 것으로 나타난다(경우에 따라 훨씬 낮음)."
   ]
  },
  {
   "cell_type": "markdown",
   "id": "grave-transaction",
   "metadata": {},
   "source": [
    "## 6.2. Interval variables"
   ]
  },
  {
   "cell_type": "markdown",
   "id": "accomplished-stereo",
   "metadata": {},
   "source": [
    "구간형 변수간 상관관계를 알아보자. 히트맵은 변수간 상관관계를 시각화하기 좋다."
   ]
  },
  {
   "cell_type": "code",
   "execution_count": 91,
   "id": "concerned-wyoming",
   "metadata": {
    "ExecuteTime": {
     "end_time": "2021-01-25T13:54:01.903184Z",
     "start_time": "2021-01-25T13:53:59.812784Z"
    }
   },
   "outputs": [
    {
     "data": {
      "image/png": "[encoded data removed]",
      "text/plain": [
       "<Figure size 720x720 with 2 Axes>"
      ]
     },
     "metadata": {
      "needs_background": "light"
     },
     "output_type": "display_data"
    }
   ],
   "source": [
    "def corr_heatmap(v):\n",
    "    correlations = train[v].corr()\n",
    "    \n",
    "    # 두 색상 사이 범위 지정 color map 생성\n",
    "    cmap = sns.diverging_palette(220,10,as_cmap=True)\n",
    "    \n",
    "    fig,ax = plt.subplots(figsize=(10,10))\n",
    "    sns.heatmap(correlations,cmap=cmap,vmax=1.0,center=0,fmt='.2f',\n",
    "               square=True,linewidths=.5,annot=True,cbar_kws={'shrink':.75})\n",
    "    plt.show()\n",
    "    \n",
    "v = meta[(meta.level=='interval')&(meta.keep)].index\n",
    "corr_heatmap(v)"
   ]
  },
  {
   "cell_type": "markdown",
   "id": "broadband-stadium",
   "metadata": {},
   "source": [
    "다음 변수 사이에 강한 상관관계가 있다.\n",
    "- ps_reg_02와 ps_reg_03 (0.70)\n",
    "- ps_car_12와 ps_car_13 (0.67)\n",
    "- ps_car_12와 ps_car_14 (0.58)\n",
    "- ps_car_13와 ps_car_15 (0.53)"
   ]
  },
  {
   "cell_type": "markdown",
   "id": "applied-jenny",
   "metadata": {},
   "source": [
    "Seaborn에는 변수간 (선형) 관게를 시각화하는 데 유용한 pairplot이 있다. 하지만 heatmap은 이미 제한된 수의 상관된 변수를 표시했기 때문에 각 강한 상관관계가 있는 변수들을 개별적으로 살펴보자.<br>\n",
    "참고 : 프로세스 속도를 높이기 위해 train data의 샘플을 취한다."
   ]
  },
  {
   "cell_type": "code",
   "execution_count": 92,
   "id": "raised-expense",
   "metadata": {
    "ExecuteTime": {
     "end_time": "2021-01-25T14:10:44.810204Z",
     "start_time": "2021-01-25T14:10:44.762707Z"
    }
   },
   "outputs": [],
   "source": [
    "s = train.sample(frac=0.1)"
   ]
  },
  {
   "cell_type": "markdown",
   "id": "demographic-cradle",
   "metadata": {},
   "source": [
    "### 6.2.1. ps_reg__02와 ps_reg_03"
   ]
  },
  {
   "cell_type": "markdown",
   "id": "designed-buyer",
   "metadata": {},
   "source": [
    "회귀선이 보여주듯 이런 변수 사이에 선형 관계가 있다. hue 파라미터를 통해 target=0과 target=1의 회귀선이 동일함을 알 수 있다."
   ]
  },
  {
   "cell_type": "code",
   "execution_count": 93,
   "id": "looking-taylor",
   "metadata": {
    "ExecuteTime": {
     "end_time": "2021-01-25T14:15:42.408914Z",
     "start_time": "2021-01-25T14:15:40.682669Z"
    }
   },
   "outputs": [
    {
     "data": {
      "image/png": "[encoded data removed]",
      "text/plain": [
       "<Figure size 402.375x360 with 1 Axes>"
      ]
     },
     "metadata": {
      "needs_background": "light"
     },
     "output_type": "display_data"
    }
   ],
   "source": [
    "sns.lmplot(x='ps_reg_02',y='ps_reg_03',data=s,hue='target',palette='Set1',scatter_kws={'alpha':0.3})\n",
    "plt.show()"
   ]
  },
  {
   "cell_type": "markdown",
   "id": "optimum-poison",
   "metadata": {},
   "source": [
    "### 6.2.2 ps_car_12와 ps_car_13"
   ]
  },
  {
   "cell_type": "code",
   "execution_count": 94,
   "id": "quarterly-joint",
   "metadata": {
    "ExecuteTime": {
     "end_time": "2021-01-25T14:16:37.612725Z",
     "start_time": "2021-01-25T14:16:36.089447Z"
    }
   },
   "outputs": [
    {
     "data": {
      "image/png": "[encoded data removed]",
      "text/plain": [
       "<Figure size 402.375x360 with 1 Axes>"
      ]
     },
     "metadata": {
      "needs_background": "light"
     },
     "output_type": "display_data"
    }
   ],
   "source": [
    "sns.lmplot(x='ps_car_12',y='ps_car_13',data=s,hue='target',palette='Set1',scatter_kws={'alpha':0.3})\n",
    "plt.show()"
   ]
  },
  {
   "cell_type": "markdown",
   "id": "martial-hobby",
   "metadata": {},
   "source": [
    "### 6.2.3. ps_car_12와 ps_car_14"
   ]
  },
  {
   "cell_type": "code",
   "execution_count": 95,
   "id": "ambient-picnic",
   "metadata": {
    "ExecuteTime": {
     "end_time": "2021-01-25T14:17:14.539701Z",
     "start_time": "2021-01-25T14:17:12.809725Z"
    }
   },
   "outputs": [
    {
     "data": {
      "image/png": "[encoded data removed]",
      "text/plain": [
       "<Figure size 402.375x360 with 1 Axes>"
      ]
     },
     "metadata": {
      "needs_background": "light"
     },
     "output_type": "display_data"
    }
   ],
   "source": [
    "sns.lmplot(x='ps_car_12',y='ps_car_14',data=s,hue='target',palette='Set1',scatter_kws={'alpha':0.3})\n",
    "plt.show()"
   ]
  },
  {
   "cell_type": "markdown",
   "id": "stylish-insertion",
   "metadata": {},
   "source": [
    "### 6.2.4. ps_car_13와 ps_car_15"
   ]
  },
  {
   "cell_type": "code",
   "execution_count": 96,
   "id": "surprising-connecticut",
   "metadata": {
    "ExecuteTime": {
     "end_time": "2021-01-25T14:17:47.771769Z",
     "start_time": "2021-01-25T14:17:45.630942Z"
    }
   },
   "outputs": [
    {
     "data": {
      "image/png": "[encoded data removed]",
      "text/plain": [
       "<Figure size 402.375x360 with 1 Axes>"
      ]
     },
     "metadata": {
      "needs_background": "light"
     },
     "output_type": "display_data"
    }
   ],
   "source": [
    "sns.lmplot(x='ps_car_15',y='ps_car_13',data=s,hue='target',palette='Set1',scatter_kws={'alpha':0.3})\n",
    "plt.show()"
   ]
  },
  {
   "cell_type": "markdown",
   "id": "impaired-palestinian",
   "metadata": {},
   "source": [
    "어떤 상관 변수를 유지할지 어떻게 결정할까? 차원 축소를 위해 변수에 PCA (Principal Component Analysis)를 적용한다. 하지만 상관 변수의 수가 적어진 만큼 모델이 무거워질 것이다."
   ]
  },
  {
   "cell_type": "markdown",
   "id": "million-suspension",
   "metadata": {},
   "source": [
    "## 6.3. Checking the correlations betwwen ordinal variables"
   ]
  },
  {
   "cell_type": "code",
   "execution_count": 98,
   "id": "vietnamese-armstrong",
   "metadata": {
    "ExecuteTime": {
     "end_time": "2021-01-25T14:24:16.656817Z",
     "start_time": "2021-01-25T14:24:12.570270Z"
    }
   },
   "outputs": [
    {
     "data": {
      "image/png": "[encoded data removed]",
      "text/plain": [
       "<Figure size 720x720 with 2 Axes>"
      ]
     },
     "metadata": {
      "needs_background": "light"
     },
     "output_type": "display_data"
    }
   ],
   "source": [
    "v = meta[(meta.level=='ordinal')&(meta.keep)].index\n",
    "corr_heatmap(v)"
   ]
  },
  {
   "cell_type": "markdown",
   "id": "greek-chosen",
   "metadata": {},
   "source": [
    "순서형 변수는 상관관계를 볼 수 없다. 반면, target값으로 그룹화하면 분포가 어떻게 되는지 확인할 수 있다."
   ]
  },
  {
   "cell_type": "markdown",
   "id": "regional-anxiety",
   "metadata": {},
   "source": [
    "# 7. Feature engineering"
   ]
  },
  {
   "cell_type": "markdown",
   "id": "prepared-great",
   "metadata": {},
   "source": [
    "## 7.1. Creating dummy variables"
   ]
  },
  {
   "cell_type": "markdown",
   "id": "colonial-plaza",
   "metadata": {},
   "source": [
    "범주형 변수의 값은 순서나 크기를 나타내지 않는다. 따라서 더미 변수를 만들 수 있다. 이 정보는 원래 변수의 범주에 의해 생성된 다른 더미 변수에서 파생될 수 있으므로 첫번째 더미 변수를 삭제한다."
   ]
  },
  {
   "cell_type": "code",
   "execution_count": 99,
   "id": "athletic-shore",
   "metadata": {
    "ExecuteTime": {
     "end_time": "2021-01-25T14:31:56.562001Z",
     "start_time": "2021-01-25T14:31:56.362770Z"
    }
   },
   "outputs": [
    {
     "name": "stdout",
     "output_type": "stream",
     "text": [
      "Before dummification we have 57 variables in train\n",
      "After dummification we have 109 variables in train\n"
     ]
    }
   ],
   "source": [
    "v = meta[(meta.level=='nominal')&(meta.keep)].index\n",
    "print('Before dummification we have {} variables in train'.format(train.shape[1]))\n",
    "train = pd.get_dummies(train,columns=v,drop_first=True)\n",
    "print('After dummification we have {} variables in train'.format(train.shape[1]))"
   ]
  },
  {
   "cell_type": "markdown",
   "id": "grave-cursor",
   "metadata": {},
   "source": [
    "더미 변수가 52개 추가되었다."
   ]
  },
  {
   "cell_type": "markdown",
   "id": "color-distance",
   "metadata": {},
   "source": [
    "## 7.1. Creating interaction variables"
   ]
  },
  {
   "cell_type": "code",
   "execution_count": 100,
   "id": "international-advice",
   "metadata": {
    "ExecuteTime": {
     "end_time": "2021-01-25T14:35:48.719158Z",
     "start_time": "2021-01-25T14:35:48.240452Z"
    }
   },
   "outputs": [
    {
     "name": "stdout",
     "output_type": "stream",
     "text": [
      "Before creating interactions we have 109 variables in train\n",
      "After creating interactions we have 164 variables in train\n"
     ]
    }
   ],
   "source": [
    "v = meta[(meta.level=='interval')&(meta.keep)].index\n",
    "poly = PolynomialFeatures(degree=2,interaction_only=False,include_bias=False)\n",
    "interactions = pd.DataFrame(data=poly.fit_transform(train[v]),columns=poly.get_feature_names(v))\n",
    "interactions.drop(v,axis=1,inplace=True)  # 원래 칼럼 삭제\n",
    "\n",
    "# train data에 상호작용 변수 연결\n",
    "print('Before creating interactions we have {} variables in train'.format(train.shape[1]))\n",
    "train = pd.concat([train, interactions], axis=1)\n",
    "print('After creating interactions we have {} variables in train'.format(train.shape[1]))"
   ]
  },
  {
   "cell_type": "markdown",
   "id": "overhead-aaron",
   "metadata": {},
   "source": [
    "train data에 추가 상호작용 변수가 추가되었다. get_feature_names메소드를 통해 이러한 새 변수에 열 이름을 할당할 수 있다."
   ]
  },
  {
   "cell_type": "markdown",
   "id": "according-carter",
   "metadata": {},
   "source": [
    "# 8. Feature selection"
   ]
  },
  {
   "cell_type": "markdown",
   "id": "protected-cruise",
   "metadata": {},
   "source": [
    "## 8.1. Removing features with low or zero variance"
   ]
  },
  {
   "cell_type": "markdown",
   "id": "portable-bosnia",
   "metadata": {},
   "source": [
    "개인적으로, 나(참고자료 저자)는 분류기 알고리즘이 어떤 변수를 유지할지 선택하는 것을 선호한다. 하지만 분산이 없거나 매우 낮은 변수를 제거하는 건 할 수 없다. 이를 위해 sklearn의 VarianceThreshold은 기본적으로 분산이 0인 변수를 제거한다. 이전 단계에서 분산이 0인 변수가 없는 것을 알았기 때문에 이 경우 적용되지 않는다. 그러나 1% 미만의 분산이 있는 변수를 제거하면 31개가 제거된다."
   ]
  },
  {
   "cell_type": "code",
   "execution_count": 103,
   "id": "excellent-sleep",
   "metadata": {
    "ExecuteTime": {
     "end_time": "2021-01-25T14:49:12.582759Z",
     "start_time": "2021-01-25T14:49:11.712059Z"
    }
   },
   "outputs": [
    {
     "ename": "TypeError",
     "evalue": "float() argument must be a string or a number, not 'SimpleImputer'",
     "output_type": "error",
     "traceback": [
      "\u001b[1;31m---------------------------------------------------------------------------\u001b[0m",
      "\u001b[1;31mTypeError\u001b[0m                                 Traceback (most recent call last)",
      "\u001b[1;32m<ipython-input-103-a83012dc4153>\u001b[0m in \u001b[0;36m<module>\u001b[1;34m\u001b[0m\n\u001b[0;32m      1\u001b[0m \u001b[0mselector\u001b[0m \u001b[1;33m=\u001b[0m \u001b[0mVarianceThreshold\u001b[0m\u001b[1;33m(\u001b[0m\u001b[0mthreshold\u001b[0m\u001b[1;33m=\u001b[0m\u001b[1;36m.01\u001b[0m\u001b[1;33m)\u001b[0m\u001b[1;33m\u001b[0m\u001b[1;33m\u001b[0m\u001b[0m\n\u001b[0;32m      2\u001b[0m \u001b[0ma\u001b[0m \u001b[1;33m=\u001b[0m \u001b[0mtrain\u001b[0m\u001b[1;33m.\u001b[0m\u001b[0mdrop\u001b[0m\u001b[1;33m(\u001b[0m\u001b[1;33m[\u001b[0m\u001b[1;34m'id'\u001b[0m\u001b[1;33m,\u001b[0m\u001b[1;34m'target'\u001b[0m\u001b[1;33m]\u001b[0m\u001b[1;33m,\u001b[0m\u001b[0maxis\u001b[0m\u001b[1;33m=\u001b[0m\u001b[1;36m1\u001b[0m\u001b[1;33m)\u001b[0m\u001b[1;33m\u001b[0m\u001b[1;33m\u001b[0m\u001b[0m\n\u001b[1;32m----> 3\u001b[1;33m \u001b[0mselector\u001b[0m\u001b[1;33m.\u001b[0m\u001b[0mfit\u001b[0m\u001b[1;33m(\u001b[0m\u001b[0ma\u001b[0m\u001b[1;33m)\u001b[0m \u001b[1;31m# id와 target변수 제외 train 적합\u001b[0m\u001b[1;33m\u001b[0m\u001b[1;33m\u001b[0m\u001b[0m\n\u001b[0m\u001b[0;32m      4\u001b[0m \u001b[1;33m\u001b[0m\u001b[0m\n\u001b[0;32m      5\u001b[0m \u001b[0mf\u001b[0m \u001b[1;33m=\u001b[0m \u001b[0mnp\u001b[0m\u001b[1;33m.\u001b[0m\u001b[0mvectorize\u001b[0m\u001b[1;33m(\u001b[0m\u001b[1;32mlambda\u001b[0m \u001b[0mx\u001b[0m\u001b[1;33m:\u001b[0m\u001b[1;32mnot\u001b[0m \u001b[0mx\u001b[0m\u001b[1;33m)\u001b[0m \u001b[1;31m# boolean 어레이 요소를 변환하는 함수\u001b[0m\u001b[1;33m\u001b[0m\u001b[1;33m\u001b[0m\u001b[0m\n",
      "\u001b[1;32mc:\\users\\손시온\\appdata\\local\\programs\\python\\python39\\lib\\site-packages\\sklearn\\feature_selection\\_variance_threshold.py\u001b[0m in \u001b[0;36mfit\u001b[1;34m(self, X, y)\u001b[0m\n\u001b[0;32m     66\u001b[0m         \u001b[0mself\u001b[0m\u001b[1;33m\u001b[0m\u001b[1;33m\u001b[0m\u001b[0m\n\u001b[0;32m     67\u001b[0m         \"\"\"\n\u001b[1;32m---> 68\u001b[1;33m         X = self._validate_data(X, accept_sparse=('csr', 'csc'),\n\u001b[0m\u001b[0;32m     69\u001b[0m                                 \u001b[0mdtype\u001b[0m\u001b[1;33m=\u001b[0m\u001b[0mnp\u001b[0m\u001b[1;33m.\u001b[0m\u001b[0mfloat64\u001b[0m\u001b[1;33m,\u001b[0m\u001b[1;33m\u001b[0m\u001b[1;33m\u001b[0m\u001b[0m\n\u001b[0;32m     70\u001b[0m                                 force_all_finite='allow-nan')\n",
      "\u001b[1;32mc:\\users\\손시온\\appdata\\local\\programs\\python\\python39\\lib\\site-packages\\sklearn\\base.py\u001b[0m in \u001b[0;36m_validate_data\u001b[1;34m(self, X, y, reset, validate_separately, **check_params)\u001b[0m\n\u001b[0;32m    419\u001b[0m             \u001b[0mout\u001b[0m \u001b[1;33m=\u001b[0m \u001b[0mX\u001b[0m\u001b[1;33m\u001b[0m\u001b[1;33m\u001b[0m\u001b[0m\n\u001b[0;32m    420\u001b[0m         \u001b[1;32melif\u001b[0m \u001b[0misinstance\u001b[0m\u001b[1;33m(\u001b[0m\u001b[0my\u001b[0m\u001b[1;33m,\u001b[0m \u001b[0mstr\u001b[0m\u001b[1;33m)\u001b[0m \u001b[1;32mand\u001b[0m \u001b[0my\u001b[0m \u001b[1;33m==\u001b[0m \u001b[1;34m'no_validation'\u001b[0m\u001b[1;33m:\u001b[0m\u001b[1;33m\u001b[0m\u001b[1;33m\u001b[0m\u001b[0m\n\u001b[1;32m--> 421\u001b[1;33m             \u001b[0mX\u001b[0m \u001b[1;33m=\u001b[0m \u001b[0mcheck_array\u001b[0m\u001b[1;33m(\u001b[0m\u001b[0mX\u001b[0m\u001b[1;33m,\u001b[0m \u001b[1;33m**\u001b[0m\u001b[0mcheck_params\u001b[0m\u001b[1;33m)\u001b[0m\u001b[1;33m\u001b[0m\u001b[1;33m\u001b[0m\u001b[0m\n\u001b[0m\u001b[0;32m    422\u001b[0m             \u001b[0mout\u001b[0m \u001b[1;33m=\u001b[0m \u001b[0mX\u001b[0m\u001b[1;33m\u001b[0m\u001b[1;33m\u001b[0m\u001b[0m\n\u001b[0;32m    423\u001b[0m         \u001b[1;32melse\u001b[0m\u001b[1;33m:\u001b[0m\u001b[1;33m\u001b[0m\u001b[1;33m\u001b[0m\u001b[0m\n",
      "\u001b[1;32mc:\\users\\손시온\\appdata\\local\\programs\\python\\python39\\lib\\site-packages\\sklearn\\utils\\validation.py\u001b[0m in \u001b[0;36minner_f\u001b[1;34m(*args, **kwargs)\u001b[0m\n\u001b[0;32m     61\u001b[0m             \u001b[0mextra_args\u001b[0m \u001b[1;33m=\u001b[0m \u001b[0mlen\u001b[0m\u001b[1;33m(\u001b[0m\u001b[0margs\u001b[0m\u001b[1;33m)\u001b[0m \u001b[1;33m-\u001b[0m \u001b[0mlen\u001b[0m\u001b[1;33m(\u001b[0m\u001b[0mall_args\u001b[0m\u001b[1;33m)\u001b[0m\u001b[1;33m\u001b[0m\u001b[1;33m\u001b[0m\u001b[0m\n\u001b[0;32m     62\u001b[0m             \u001b[1;32mif\u001b[0m \u001b[0mextra_args\u001b[0m \u001b[1;33m<=\u001b[0m \u001b[1;36m0\u001b[0m\u001b[1;33m:\u001b[0m\u001b[1;33m\u001b[0m\u001b[1;33m\u001b[0m\u001b[0m\n\u001b[1;32m---> 63\u001b[1;33m                 \u001b[1;32mreturn\u001b[0m \u001b[0mf\u001b[0m\u001b[1;33m(\u001b[0m\u001b[1;33m*\u001b[0m\u001b[0margs\u001b[0m\u001b[1;33m,\u001b[0m \u001b[1;33m**\u001b[0m\u001b[0mkwargs\u001b[0m\u001b[1;33m)\u001b[0m\u001b[1;33m\u001b[0m\u001b[1;33m\u001b[0m\u001b[0m\n\u001b[0m\u001b[0;32m     64\u001b[0m \u001b[1;33m\u001b[0m\u001b[0m\n\u001b[0;32m     65\u001b[0m             \u001b[1;31m# extra_args > 0\u001b[0m\u001b[1;33m\u001b[0m\u001b[1;33m\u001b[0m\u001b[1;33m\u001b[0m\u001b[0m\n",
      "\u001b[1;32mc:\\users\\손시온\\appdata\\local\\programs\\python\\python39\\lib\\site-packages\\sklearn\\utils\\validation.py\u001b[0m in \u001b[0;36mcheck_array\u001b[1;34m(array, accept_sparse, accept_large_sparse, dtype, order, copy, force_all_finite, ensure_2d, allow_nd, ensure_min_samples, ensure_min_features, estimator)\u001b[0m\n\u001b[0;32m    614\u001b[0m                     \u001b[0marray\u001b[0m \u001b[1;33m=\u001b[0m \u001b[0marray\u001b[0m\u001b[1;33m.\u001b[0m\u001b[0mastype\u001b[0m\u001b[1;33m(\u001b[0m\u001b[0mdtype\u001b[0m\u001b[1;33m,\u001b[0m \u001b[0mcasting\u001b[0m\u001b[1;33m=\u001b[0m\u001b[1;34m\"unsafe\"\u001b[0m\u001b[1;33m,\u001b[0m \u001b[0mcopy\u001b[0m\u001b[1;33m=\u001b[0m\u001b[1;32mFalse\u001b[0m\u001b[1;33m)\u001b[0m\u001b[1;33m\u001b[0m\u001b[1;33m\u001b[0m\u001b[0m\n\u001b[0;32m    615\u001b[0m                 \u001b[1;32melse\u001b[0m\u001b[1;33m:\u001b[0m\u001b[1;33m\u001b[0m\u001b[1;33m\u001b[0m\u001b[0m\n\u001b[1;32m--> 616\u001b[1;33m                     \u001b[0marray\u001b[0m \u001b[1;33m=\u001b[0m \u001b[0mnp\u001b[0m\u001b[1;33m.\u001b[0m\u001b[0masarray\u001b[0m\u001b[1;33m(\u001b[0m\u001b[0marray\u001b[0m\u001b[1;33m,\u001b[0m \u001b[0morder\u001b[0m\u001b[1;33m=\u001b[0m\u001b[0morder\u001b[0m\u001b[1;33m,\u001b[0m \u001b[0mdtype\u001b[0m\u001b[1;33m=\u001b[0m\u001b[0mdtype\u001b[0m\u001b[1;33m)\u001b[0m\u001b[1;33m\u001b[0m\u001b[1;33m\u001b[0m\u001b[0m\n\u001b[0m\u001b[0;32m    617\u001b[0m             \u001b[1;32mexcept\u001b[0m \u001b[0mComplexWarning\u001b[0m \u001b[1;32mas\u001b[0m \u001b[0mcomplex_warning\u001b[0m\u001b[1;33m:\u001b[0m\u001b[1;33m\u001b[0m\u001b[1;33m\u001b[0m\u001b[0m\n\u001b[0;32m    618\u001b[0m                 raise ValueError(\"Complex data not supported\\n\"\n",
      "\u001b[1;32mc:\\users\\손시온\\appdata\\local\\programs\\python\\python39\\lib\\site-packages\\numpy\\core\\_asarray.py\u001b[0m in \u001b[0;36masarray\u001b[1;34m(a, dtype, order)\u001b[0m\n\u001b[0;32m     81\u001b[0m \u001b[1;33m\u001b[0m\u001b[0m\n\u001b[0;32m     82\u001b[0m     \"\"\"\n\u001b[1;32m---> 83\u001b[1;33m     \u001b[1;32mreturn\u001b[0m \u001b[0marray\u001b[0m\u001b[1;33m(\u001b[0m\u001b[0ma\u001b[0m\u001b[1;33m,\u001b[0m \u001b[0mdtype\u001b[0m\u001b[1;33m,\u001b[0m \u001b[0mcopy\u001b[0m\u001b[1;33m=\u001b[0m\u001b[1;32mFalse\u001b[0m\u001b[1;33m,\u001b[0m \u001b[0morder\u001b[0m\u001b[1;33m=\u001b[0m\u001b[0morder\u001b[0m\u001b[1;33m)\u001b[0m\u001b[1;33m\u001b[0m\u001b[1;33m\u001b[0m\u001b[0m\n\u001b[0m\u001b[0;32m     84\u001b[0m \u001b[1;33m\u001b[0m\u001b[0m\n\u001b[0;32m     85\u001b[0m \u001b[1;33m\u001b[0m\u001b[0m\n",
      "\u001b[1;32mc:\\users\\손시온\\appdata\\local\\programs\\python\\python39\\lib\\site-packages\\pandas\\core\\generic.py\u001b[0m in \u001b[0;36m__array__\u001b[1;34m(self, dtype)\u001b[0m\n\u001b[0;32m   1894\u001b[0m \u001b[1;33m\u001b[0m\u001b[0m\n\u001b[0;32m   1895\u001b[0m     \u001b[1;32mdef\u001b[0m \u001b[0m__array__\u001b[0m\u001b[1;33m(\u001b[0m\u001b[0mself\u001b[0m\u001b[1;33m,\u001b[0m \u001b[0mdtype\u001b[0m\u001b[1;33m=\u001b[0m\u001b[1;32mNone\u001b[0m\u001b[1;33m)\u001b[0m \u001b[1;33m->\u001b[0m \u001b[0mnp\u001b[0m\u001b[1;33m.\u001b[0m\u001b[0mndarray\u001b[0m\u001b[1;33m:\u001b[0m\u001b[1;33m\u001b[0m\u001b[1;33m\u001b[0m\u001b[0m\n\u001b[1;32m-> 1896\u001b[1;33m         \u001b[1;32mreturn\u001b[0m \u001b[0mnp\u001b[0m\u001b[1;33m.\u001b[0m\u001b[0masarray\u001b[0m\u001b[1;33m(\u001b[0m\u001b[0mself\u001b[0m\u001b[1;33m.\u001b[0m\u001b[0m_values\u001b[0m\u001b[1;33m,\u001b[0m \u001b[0mdtype\u001b[0m\u001b[1;33m=\u001b[0m\u001b[0mdtype\u001b[0m\u001b[1;33m)\u001b[0m\u001b[1;33m\u001b[0m\u001b[1;33m\u001b[0m\u001b[0m\n\u001b[0m\u001b[0;32m   1897\u001b[0m \u001b[1;33m\u001b[0m\u001b[0m\n\u001b[0;32m   1898\u001b[0m     def __array_wrap__(\n",
      "\u001b[1;32mc:\\users\\손시온\\appdata\\local\\programs\\python\\python39\\lib\\site-packages\\numpy\\core\\_asarray.py\u001b[0m in \u001b[0;36masarray\u001b[1;34m(a, dtype, order)\u001b[0m\n\u001b[0;32m     81\u001b[0m \u001b[1;33m\u001b[0m\u001b[0m\n\u001b[0;32m     82\u001b[0m     \"\"\"\n\u001b[1;32m---> 83\u001b[1;33m     \u001b[1;32mreturn\u001b[0m \u001b[0marray\u001b[0m\u001b[1;33m(\u001b[0m\u001b[0ma\u001b[0m\u001b[1;33m,\u001b[0m \u001b[0mdtype\u001b[0m\u001b[1;33m,\u001b[0m \u001b[0mcopy\u001b[0m\u001b[1;33m=\u001b[0m\u001b[1;32mFalse\u001b[0m\u001b[1;33m,\u001b[0m \u001b[0morder\u001b[0m\u001b[1;33m=\u001b[0m\u001b[0morder\u001b[0m\u001b[1;33m)\u001b[0m\u001b[1;33m\u001b[0m\u001b[1;33m\u001b[0m\u001b[0m\n\u001b[0m\u001b[0;32m     84\u001b[0m \u001b[1;33m\u001b[0m\u001b[0m\n\u001b[0;32m     85\u001b[0m \u001b[1;33m\u001b[0m\u001b[0m\n",
      "\u001b[1;31mTypeError\u001b[0m: float() argument must be a string or a number, not 'SimpleImputer'"
     ]
    }
   ],
   "source": [
    "selector = VarianceThreshold(threshold=.01)\n",
    "a = train.drop(['id','target'],axis=1)\n",
    "selector.fit(a) # id와 target변수 제외 train 적합\n",
    "\n",
    "f = np.vectorize(lambda x:not x) # boolean 어레이 요소를 변환하는 함수\n",
    "\n",
    "v = train.drop(['id','target'],axis=1).columns[f(selector.get_support())]\n",
    "print('{} variables have too low varaince.'.format(len(v)))\n",
    "print('These variables are {}'.format(list(v)))"
   ]
  },
  {
   "cell_type": "code",
   "execution_count": null,
   "id": "developed-russell",
   "metadata": {},
   "outputs": [],
   "source": []
  },
  {
   "cell_type": "code",
   "execution_count": null,
   "id": "extra-maintenance",
   "metadata": {},
   "outputs": [],
   "source": []
  },
  {
   "cell_type": "code",
   "execution_count": null,
   "id": "respected-editing",
   "metadata": {},
   "outputs": [],
   "source": []
  },
  {
   "cell_type": "code",
   "execution_count": null,
   "id": "radical-annual",
   "metadata": {},
   "outputs": [],
   "source": []
  },
  {
   "cell_type": "code",
   "execution_count": null,
   "id": "interim-welsh",
   "metadata": {},
   "outputs": [],
   "source": []
  },
  {
   "cell_type": "code",
   "execution_count": null,
   "id": "optimum-invite",
   "metadata": {},
   "outputs": [],
   "source": []
  },
  {
   "cell_type": "code",
   "execution_count": null,
   "id": "inside-character",
   "metadata": {},
   "outputs": [],
   "source": []
  },
  {
   "cell_type": "code",
   "execution_count": null,
   "id": "parliamentary-system",
   "metadata": {},
   "outputs": [],
   "source": []
  }
 ],
 "metadata": {
  "kernelspec": {
   "display_name": "Python 3",
   "language": "python",
   "name": "python3"
  },
  "language_info": {
   "codemirror_mode": {
    "name": "ipython",
    "version": 3
   },
   "file_extension": ".py",
   "mimetype": "text/x-python",
   "name": "python",
   "nbconvert_exporter": "python",
   "pygments_lexer": "ipython3",
   "version": "3.9.1"
  },
  "toc": {
   "base_numbering": 1,
   "nav_menu": {},
   "number_sections": false,
   "sideBar": true,
   "skip_h1_title": false,
   "title_cell": "Table of Contents",
   "title_sidebar": "Contents",
   "toc_cell": false,
   "toc_position": {},
   "toc_section_display": true,
   "toc_window_display": false
  },
  "varInspector": {
   "cols": {
    "lenName": 16,
    "lenType": 16,
    "lenVar": 40
   },
   "kernels_config": {
    "python": {
     "delete_cmd_postfix": "",
     "delete_cmd_prefix": "del ",
     "library": "var_list.py",
     "varRefreshCmd": "print(var_dic_list())"
    },
    "r": {
     "delete_cmd_postfix": ") ",
     "delete_cmd_prefix": "rm(",
     "library": "var_list.r",
     "varRefreshCmd": "cat(var_dic_list()) "
    }
   },
   "types_to_exclude": [
    "module",
    "function",
    "builtin_function_or_method",
    "instance",
    "_Feature"
   ],
   "window_display": false
  }
 },
 "nbformat": 4,
 "nbformat_minor": 5
}
