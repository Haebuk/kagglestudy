{
 "cells": [
  {
   "cell_type": "markdown",
   "metadata": {},
   "source": [
    "- competition/dataset : [https://www.kaggle.com/c/nyc-taxi-trip-duration](https://www.kaggle.com/c/nyc-taxi-trip-duration)\n",
    "- date : 2021/02/26\n",
    "- original : [https://www.kaggle.com/danijelk/beat-the-benchmark](https://www.kaggle.com/danijelk/beat-the-benchmark)"
   ]
  },
  {
   "cell_type": "markdown",
   "metadata": {},
   "source": [
    "## Beat the benchmark!"
   ]
  },
  {
   "cell_type": "markdown",
   "metadata": {
    "execution": {
     "iopub.execute_input": "2021-01-19T23:23:23.804833Z",
     "iopub.status.busy": "2021-01-19T23:23:23.803834Z",
     "iopub.status.idle": "2021-01-19T23:23:23.811814Z",
     "shell.execute_reply": "2021-01-19T23:23:23.810817Z",
     "shell.execute_reply.started": "2021-01-19T23:23:23.804833Z"
    }
   },
   "source": [
    "**✏ 필사 1회** "
   ]
  },
  {
   "cell_type": "code",
   "execution_count": 30,
   "metadata": {
    "execution": {
     "iopub.execute_input": "2021-02-26T00:05:22.894986Z",
     "iopub.status.busy": "2021-02-26T00:05:22.894986Z",
     "iopub.status.idle": "2021-02-26T00:05:22.903964Z",
     "shell.execute_reply": "2021-02-26T00:05:22.902977Z",
     "shell.execute_reply.started": "2021-02-26T00:05:22.894986Z"
    }
   },
   "outputs": [],
   "source": [
    "# libraries\n",
    "import numpy as np\n",
    "import pandas as pd\n",
    "import datetime as dt\n",
    "import xgboost as xgb\n",
    "from sklearn.preprocessing import LabelEncoder"
   ]
  },
  {
   "cell_type": "code",
   "execution_count": 31,
   "metadata": {
    "execution": {
     "iopub.execute_input": "2021-02-26T00:05:22.905958Z",
     "iopub.status.busy": "2021-02-26T00:05:22.904960Z",
     "iopub.status.idle": "2021-02-26T00:05:28.111031Z",
     "shell.execute_reply": "2021-02-26T00:05:28.110061Z",
     "shell.execute_reply.started": "2021-02-26T00:05:22.905958Z"
    }
   },
   "outputs": [
    {
     "name": "stdout",
     "output_type": "stream",
     "text": [
      "Read data...\n"
     ]
    }
   ],
   "source": [
    "# read data\n",
    "print('Read data...')\n",
    "train = pd.read_csv('data/train.csv')\n",
    "test = pd.read_csv('data/test.csv')"
   ]
  },
  {
   "cell_type": "code",
   "execution_count": 32,
   "metadata": {
    "execution": {
     "iopub.execute_input": "2021-02-26T00:05:28.113025Z",
     "iopub.status.busy": "2021-02-26T00:05:28.113025Z",
     "iopub.status.idle": "2021-02-26T00:05:30.284806Z",
     "shell.execute_reply": "2021-02-26T00:05:30.283791Z",
     "shell.execute_reply.started": "2021-02-26T00:05:28.113025Z"
    }
   },
   "outputs": [],
   "source": [
    "# transform character to numeric\n",
    "le = LabelEncoder()\n",
    "le.fit(train['store_and_fwd_flag'])\n",
    "train['store_and_fwd_flag'] = le.transform(train['store_and_fwd_flag'])\n",
    "test['store_and_fwd_flag'] = le.transform(test['store_and_fwd_flag'])\n",
    "\n",
    "train['pickup_datetime'] = pd.to_datetime(train['pickup_datetime'])\n",
    "test['pickup_datetime'] = pd.to_datetime(test['pickup_datetime'])"
   ]
  },
  {
   "cell_type": "code",
   "execution_count": 33,
   "metadata": {
    "execution": {
     "iopub.execute_input": "2021-02-26T00:05:30.285815Z",
     "iopub.status.busy": "2021-02-26T00:05:30.285815Z",
     "iopub.status.idle": "2021-02-26T00:05:31.272821Z",
     "shell.execute_reply": "2021-02-26T00:05:31.271821Z",
     "shell.execute_reply.started": "2021-02-26T00:05:30.285815Z"
    }
   },
   "outputs": [
    {
     "name": "stdout",
     "output_type": "stream",
     "text": [
      "Create features...\n"
     ]
    }
   ],
   "source": [
    "# new feature\n",
    "print('Create features...')\n",
    "# date features\n",
    "train['month'] = train['pickup_datetime'].dt.month\n",
    "train['day'] = train['pickup_datetime'].dt.day\n",
    "train['weekday'] = train['pickup_datetime'].dt.weekday\n",
    "train['hour'] = train['pickup_datetime'].dt.hour\n",
    "train['minute'] = train['pickup_datetime'].dt.minute\n",
    "\n",
    "test['month'] = test['pickup_datetime'].dt.month\n",
    "test['day'] = test['pickup_datetime'].dt.day\n",
    "test['weekday'] = test['pickup_datetime'].dt.weekday\n",
    "test['hour'] = test['pickup_datetime'].dt.hour\n",
    "test['minute'] = test['pickup_datetime'].dt.minute"
   ]
  },
  {
   "cell_type": "code",
   "execution_count": 34,
   "metadata": {
    "execution": {
     "iopub.execute_input": "2021-02-26T00:05:31.273820Z",
     "iopub.status.busy": "2021-02-26T00:05:31.273820Z",
     "iopub.status.idle": "2021-02-26T00:05:31.411450Z",
     "shell.execute_reply": "2021-02-26T00:05:31.410452Z",
     "shell.execute_reply.started": "2021-02-26T00:05:31.273820Z"
    }
   },
   "outputs": [],
   "source": [
    "# distance features\n",
    "train['dist_long'] = train['pickup_longitude'] - train['dropoff_longitude']\n",
    "train['dist_lat'] = train['pickup_latitude'] - train['dropoff_latitude']\n",
    "\n",
    "test['dist_long'] = test['pickup_longitude'] - test['dropoff_longitude']\n",
    "test['dist_lat'] = test['pickup_latitude'] - test['dropoff_latitude']\n",
    "\n",
    "train['dist'] = np.sqrt(np.square(train['dist_long']) + np.square(train['dist_lat']))\n",
    "test['dist'] = np.sqrt(np.square(test['dist_long']) + np.square(test['dist_lat']))"
   ]
  },
  {
   "cell_type": "code",
   "execution_count": 35,
   "metadata": {
    "execution": {
     "iopub.execute_input": "2021-02-26T00:05:31.413447Z",
     "iopub.status.busy": "2021-02-26T00:05:31.412448Z",
     "iopub.status.idle": "2021-02-26T00:05:31.943203Z",
     "shell.execute_reply": "2021-02-26T00:05:31.942216Z",
     "shell.execute_reply.started": "2021-02-26T00:05:31.413447Z"
    }
   },
   "outputs": [],
   "source": [
    "# spatial features (count and speed)\n",
    "train['pickup_longitude_bin'] = np.round(train['pickup_longitude'], 2)\n",
    "train['pickup_latitude_bin'] = np.round(train['pickup_longitude'], 2)\n",
    "train['dropoff_longitude_bin'] = np.round(train['dropoff_longitude'], 2)\n",
    "train['dropoff_latitude_bin'] = np.round(train['dropoff_latitude'], 2)\n",
    "\n",
    "test['pickup_longitude_bin'] = np.round(test['pickup_longitude'], 2)\n",
    "test['pickup_latitude_bin'] = np.round(test['pickup_longitude'], 2)\n",
    "test['dropoff_longitude_bin'] = np.round(test['dropoff_longitude'], 2)\n",
    "test['dropoff_latitude_bin'] = np.round(test['dropoff_latitude'], 2)"
   ]
  },
  {
   "cell_type": "code",
   "execution_count": 36,
   "metadata": {
    "execution": {
     "iopub.execute_input": "2021-02-26T00:05:31.945198Z",
     "iopub.status.busy": "2021-02-26T00:05:31.945198Z",
     "iopub.status.idle": "2021-02-26T00:05:37.135809Z",
     "shell.execute_reply": "2021-02-26T00:05:37.134794Z",
     "shell.execute_reply.started": "2021-02-26T00:05:31.945198Z"
    }
   },
   "outputs": [],
   "source": [
    "# count features\n",
    "p_cols = ['pickup_longitude_bin', 'pickup_latitude_bin']\n",
    "d_cols = ['dropoff_longitude_bin', 'dropoff_latitude_bin']\n",
    "a = pd.concat([train, test]).groupby(p_cols).size().reset_index()\n",
    "b = pd.concat([train, test]).groupby(d_cols).size().reset_index()\n",
    "\n",
    "train = pd.merge(train, a, on=p_cols, how='left')\n",
    "test = pd.merge(test, a, on=p_cols, how='left')\n",
    "\n",
    "train = pd.merge(train, b, on=d_cols, how='left')\n",
    "test = pd.merge(test, b, on=d_cols, how='left')"
   ]
  },
  {
   "cell_type": "code",
   "execution_count": 37,
   "metadata": {
    "execution": {
     "iopub.execute_input": "2021-02-26T00:05:37.138787Z",
     "iopub.status.busy": "2021-02-26T00:05:37.137789Z",
     "iopub.status.idle": "2021-02-26T00:05:41.487153Z",
     "shell.execute_reply": "2021-02-26T00:05:41.486155Z",
     "shell.execute_reply.started": "2021-02-26T00:05:37.138787Z"
    }
   },
   "outputs": [],
   "source": [
    "# speed features\n",
    "train['speed'] = 100000 * train['dist'] / train['trip_duration']\n",
    "\n",
    "a = train[['speed', 'pickup_longitude_bin', 'pickup_latitude_bin']].groupby(p_cols).mean().reset_index().rename(columns={'speed':'ave_speed'})\n",
    "b = train[['speed', 'dropoff_longitude_bin', 'dropoff_latitude_bin']].groupby(d_cols).mean().reset_index().rename(columns={'speed':'ave_speed'})\n",
    "\n",
    "train = pd.merge(train, a, on=p_cols, how='left')\n",
    "test = pd.merge(test, a, on=p_cols, how='left')\n",
    "\n",
    "train = pd.merge(train, b, on=d_cols, how='left')\n",
    "test = pd.merge(test, b, on=d_cols, how='left')"
   ]
  },
  {
   "cell_type": "code",
   "execution_count": 38,
   "metadata": {
    "execution": {
     "iopub.execute_input": "2021-02-26T00:05:41.489148Z",
     "iopub.status.busy": "2021-02-26T00:05:41.488150Z",
     "iopub.status.idle": "2021-02-26T00:05:42.433621Z",
     "shell.execute_reply": "2021-02-26T00:05:42.432622Z",
     "shell.execute_reply.started": "2021-02-26T00:05:41.489148Z"
    }
   },
   "outputs": [],
   "source": [
    "# drop bins\n",
    "train.drop(['speed', 'pickup_longitude_bin', 'pickup_latitude_bin', 'dropoff_longitude_bin', 'dropoff_latitude_bin'], axis=1, inplace=True)\n",
    "test.drop(['pickup_longitude_bin', 'pickup_latitude_bin', 'dropoff_longitude_bin', 'dropoff_latitude_bin'], axis=1, inplace=True)"
   ]
  },
  {
   "cell_type": "code",
   "execution_count": 39,
   "metadata": {
    "execution": {
     "iopub.execute_input": "2021-02-26T00:05:42.434618Z",
     "iopub.status.busy": "2021-02-26T00:05:42.434618Z",
     "iopub.status.idle": "2021-02-26T00:05:42.479499Z",
     "shell.execute_reply": "2021-02-26T00:05:42.478499Z",
     "shell.execute_reply.started": "2021-02-26T00:05:42.434618Z"
    }
   },
   "outputs": [
    {
     "data": {
      "text/html": [
       "<div>\n",
       "<style scoped>\n",
       "    .dataframe tbody tr th:only-of-type {\n",
       "        vertical-align: middle;\n",
       "    }\n",
       "\n",
       "    .dataframe tbody tr th {\n",
       "        vertical-align: top;\n",
       "    }\n",
       "\n",
       "    .dataframe thead th {\n",
       "        text-align: right;\n",
       "    }\n",
       "</style>\n",
       "<table border=\"1\" class=\"dataframe\">\n",
       "  <thead>\n",
       "    <tr style=\"text-align: right;\">\n",
       "      <th></th>\n",
       "      <th>Time</th>\n",
       "      <th>Temp.</th>\n",
       "      <th>Windchill</th>\n",
       "      <th>Heat Index</th>\n",
       "      <th>Humidity</th>\n",
       "      <th>Pressure</th>\n",
       "      <th>Dew Point</th>\n",
       "      <th>Visibility</th>\n",
       "      <th>Wind Dir</th>\n",
       "      <th>Wind Speed</th>\n",
       "      <th>Gust Speed</th>\n",
       "      <th>Precip</th>\n",
       "      <th>Events</th>\n",
       "      <th>Conditions</th>\n",
       "    </tr>\n",
       "  </thead>\n",
       "  <tbody>\n",
       "    <tr>\n",
       "      <th>0</th>\n",
       "      <td>2015-12-31 02:00:00</td>\n",
       "      <td>7.8</td>\n",
       "      <td>7.1</td>\n",
       "      <td>NaN</td>\n",
       "      <td>0.89</td>\n",
       "      <td>1017.0</td>\n",
       "      <td>6.1</td>\n",
       "      <td>8.0</td>\n",
       "      <td>NNE</td>\n",
       "      <td>5.6</td>\n",
       "      <td>0.0</td>\n",
       "      <td>0.8</td>\n",
       "      <td>None</td>\n",
       "      <td>Overcast</td>\n",
       "    </tr>\n",
       "    <tr>\n",
       "      <th>1</th>\n",
       "      <td>2015-12-31 03:00:00</td>\n",
       "      <td>7.2</td>\n",
       "      <td>5.9</td>\n",
       "      <td>NaN</td>\n",
       "      <td>0.90</td>\n",
       "      <td>1016.5</td>\n",
       "      <td>5.6</td>\n",
       "      <td>12.9</td>\n",
       "      <td>Variable</td>\n",
       "      <td>7.4</td>\n",
       "      <td>0.0</td>\n",
       "      <td>0.3</td>\n",
       "      <td>None</td>\n",
       "      <td>Overcast</td>\n",
       "    </tr>\n",
       "    <tr>\n",
       "      <th>2</th>\n",
       "      <td>2015-12-31 04:00:00</td>\n",
       "      <td>7.2</td>\n",
       "      <td>NaN</td>\n",
       "      <td>NaN</td>\n",
       "      <td>0.90</td>\n",
       "      <td>1016.7</td>\n",
       "      <td>5.6</td>\n",
       "      <td>12.9</td>\n",
       "      <td>Calm</td>\n",
       "      <td>0.0</td>\n",
       "      <td>0.0</td>\n",
       "      <td>0.0</td>\n",
       "      <td>None</td>\n",
       "      <td>Overcast</td>\n",
       "    </tr>\n",
       "  </tbody>\n",
       "</table>\n",
       "</div>"
      ],
      "text/plain": [
       "                  Time  Temp.  Windchill  Heat Index  Humidity  Pressure  \\\n",
       "0  2015-12-31 02:00:00    7.8        7.1         NaN      0.89    1017.0   \n",
       "1  2015-12-31 03:00:00    7.2        5.9         NaN      0.90    1016.5   \n",
       "2  2015-12-31 04:00:00    7.2        NaN         NaN      0.90    1016.7   \n",
       "\n",
       "   Dew Point  Visibility  Wind Dir  Wind Speed  Gust Speed  Precip Events  \\\n",
       "0        6.1         8.0       NNE         5.6         0.0     0.8   None   \n",
       "1        5.6        12.9  Variable         7.4         0.0     0.3   None   \n",
       "2        5.6        12.9      Calm         0.0         0.0     0.0   None   \n",
       "\n",
       "  Conditions  \n",
       "0   Overcast  \n",
       "1   Overcast  \n",
       "2   Overcast  "
      ]
     },
     "execution_count": 39,
     "metadata": {},
     "output_type": "execute_result"
    }
   ],
   "source": [
    "# weather data\n",
    "weather = pd.read_csv('data/KNYC_Metars.csv')\n",
    "weather.head(3)"
   ]
  },
  {
   "cell_type": "code",
   "execution_count": 40,
   "metadata": {
    "execution": {
     "iopub.execute_input": "2021-02-26T00:05:42.481492Z",
     "iopub.status.busy": "2021-02-26T00:05:42.480495Z",
     "iopub.status.idle": "2021-02-26T00:05:44.221199Z",
     "shell.execute_reply": "2021-02-26T00:05:44.220216Z",
     "shell.execute_reply.started": "2021-02-26T00:05:42.481492Z"
    }
   },
   "outputs": [],
   "source": [
    "# create features\n",
    "weather['Time'] = pd.to_datetime(weather['Time'])\n",
    "weather['year'] = weather['Time'].dt.year\n",
    "weather['month'] = weather['Time'].dt.month\n",
    "weather['day'] = weather['Time'].dt.day\n",
    "weather['hour'] = weather['Time'].dt.hour\n",
    "weather = weather[weather['year'] == 2016]\n",
    "\n",
    "train = pd.merge(train, weather[['Temp.', 'month', 'day', 'hour']], on=['month', 'day', 'hour'], how='left')\n",
    "test = pd.merge(test, weather[['Temp.', 'month', 'day', 'hour']], on=['month', 'day', 'hour'], how='left')"
   ]
  },
  {
   "cell_type": "code",
   "execution_count": 41,
   "metadata": {
    "execution": {
     "iopub.execute_input": "2021-02-26T00:05:44.222196Z",
     "iopub.status.busy": "2021-02-26T00:05:44.222196Z",
     "iopub.status.idle": "2021-02-26T00:05:45.121911Z",
     "shell.execute_reply": "2021-02-26T00:05:45.120910Z",
     "shell.execute_reply.started": "2021-02-26T00:05:44.222196Z"
    }
   },
   "outputs": [],
   "source": [
    "# train/test features, y, id\n",
    "xtrain = train.drop(['id', 'pickup_datetime', 'dropoff_datetime', 'trip_duration'], axis=1)\n",
    "xtest = test.drop(['id', 'pickup_datetime'], axis=1)\n",
    "ytrain = train['trip_duration'].values\n",
    "id_train = train['id'].values\n",
    "id_test = test['id'].values\n",
    "del(train, test)"
   ]
  },
  {
   "cell_type": "code",
   "execution_count": 42,
   "metadata": {
    "execution": {
     "iopub.execute_input": "2021-02-26T00:05:45.124903Z",
     "iopub.status.busy": "2021-02-26T00:05:45.123906Z",
     "iopub.status.idle": "2021-02-26T00:05:45.138865Z",
     "shell.execute_reply": "2021-02-26T00:05:45.137868Z",
     "shell.execute_reply.started": "2021-02-26T00:05:45.123906Z"
    }
   },
   "outputs": [],
   "source": [
    "# xgb parameters\n",
    "params = {\n",
    "    'booster': 'gbtree',\n",
    "    'objective':'reg:linear',\n",
    "    'learning_rate':0.1,\n",
    "    'max_depth':14,\n",
    "    'subsample':0.8,\n",
    "    'colsample_bytree':0.7,\n",
    "    'colsample_bylevel':0.7,\n",
    "    'silent':1\n",
    "}\n",
    "\n",
    "# number of rounds\n",
    "nrounds = 200"
   ]
  },
  {
   "cell_type": "code",
   "execution_count": 43,
   "metadata": {
    "execution": {
     "iopub.execute_input": "2021-02-26T00:05:45.140859Z",
     "iopub.status.busy": "2021-02-26T00:05:45.140859Z",
     "iopub.status.idle": "2021-02-26T00:17:57.115988Z",
     "shell.execute_reply": "2021-02-26T00:17:57.114034Z",
     "shell.execute_reply.started": "2021-02-26T00:05:45.140859Z"
    }
   },
   "outputs": [
    {
     "name": "stdout",
     "output_type": "stream",
     "text": [
      "Train model...\n",
      "[09:05:45] WARNING: C:/Users/Administrator/workspace/xgboost-win64_release_1.3.0/src/objective/regression_obj.cu:170: reg:linear is now deprecated in favor of reg:squarederror.\n",
      "[09:05:46] WARNING: C:/Users/Administrator/workspace/xgboost-win64_release_1.3.0/src/learner.cc:541: \n",
      "Parameters: { silent } might not be used.\n",
      "\n",
      "  This may not be accurate due to some parameters are only used in language bindings but\n",
      "  passed down to XGBoost core.  Or some parameters are not used but slip through this\n",
      "  verification. Please open an issue if you find above cases.\n",
      "\n",
      "\n"
     ]
    }
   ],
   "source": [
    "# train model\n",
    "print('Train model...')\n",
    "dtrain = xgb.DMatrix(xtrain, np.log(ytrain + 1))\n",
    "gbm = xgb.train(params, dtrain, num_boost_round=nrounds)"
   ]
  },
  {
   "cell_type": "code",
   "execution_count": 44,
   "metadata": {
    "execution": {
     "iopub.execute_input": "2021-02-26T00:17:57.117983Z",
     "iopub.status.busy": "2021-02-26T00:17:57.117983Z",
     "iopub.status.idle": "2021-02-26T00:18:04.252857Z",
     "shell.execute_reply": "2021-02-26T00:18:04.251859Z",
     "shell.execute_reply.started": "2021-02-26T00:17:57.117983Z"
    }
   },
   "outputs": [],
   "source": [
    "# test predictions\n",
    "pred_test = np.exp(gbm.predict(xgb.DMatrix(xtest))) - 1"
   ]
  },
  {
   "cell_type": "code",
   "execution_count": 45,
   "metadata": {
    "execution": {
     "iopub.execute_input": "2021-02-26T00:18:04.253855Z",
     "iopub.status.busy": "2021-02-26T00:18:04.253855Z",
     "iopub.status.idle": "2021-02-26T00:18:05.978304Z",
     "shell.execute_reply": "2021-02-26T00:18:05.976309Z",
     "shell.execute_reply.started": "2021-02-26T00:18:04.253855Z"
    }
   },
   "outputs": [],
   "source": [
    "# create submission\n",
    "df = pd.DataFrame({'id':id_test, 'trip_duration':pred_test})\n",
    "df = df.set_index('id')\n",
    "df.to_csv('data/submission_4_sub_bench.csv', index=True)"
   ]
  },
  {
   "cell_type": "code",
   "execution_count": null,
   "metadata": {},
   "outputs": [],
   "source": []
  }
 ],
 "metadata": {
  "kernelspec": {
   "display_name": "Python 3",
   "language": "python",
   "name": "python3"
  },
  "language_info": {
   "codemirror_mode": {
    "name": "ipython",
    "version": 3
   },
   "file_extension": ".py",
   "mimetype": "text/x-python",
   "name": "python",
   "nbconvert_exporter": "python",
   "pygments_lexer": "ipython3",
   "version": "3.8.5"
  }
 },
 "nbformat": 4,
 "nbformat_minor": 4
}
