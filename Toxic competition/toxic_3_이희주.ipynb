{
 "cells": [
  {
   "cell_type": "markdown",
   "metadata": {},
   "source": [
    "- competition/dataset : [https://www.kaggle.com/c/jigsaw-toxic-comment-classification-challenge/data](https://www.kaggle.com/c/jigsaw-toxic-comment-classification-challenge/data)\n",
    "- date : 2021/03/29\n",
    "- original : [https://www.kaggle.com/tunguz/logistic-regression-with-words-and-char-n-grams](https://www.kaggle.com/tunguz/logistic-regression-with-words-and-char-n-grams)"
   ]
  },
  {
   "cell_type": "markdown",
   "metadata": {},
   "source": [
    "## Logistic regression with words and char n-grams"
   ]
  },
  {
   "cell_type": "markdown",
   "metadata": {
    "execution": {
     "iopub.execute_input": "2021-01-19T23:23:23.804833Z",
     "iopub.status.busy": "2021-01-19T23:23:23.803834Z",
     "iopub.status.idle": "2021-01-19T23:23:23.811814Z",
     "shell.execute_reply": "2021-01-19T23:23:23.810817Z",
     "shell.execute_reply.started": "2021-01-19T23:23:23.804833Z"
    }
   },
   "source": [
    "**✏ 필사 1회** "
   ]
  },
  {
   "cell_type": "code",
   "execution_count": 1,
   "metadata": {
    "execution": {
     "iopub.execute_input": "2021-03-28T23:49:29.203543Z",
     "iopub.status.busy": "2021-03-28T23:49:29.202545Z",
     "iopub.status.idle": "2021-03-28T23:49:32.449679Z",
     "shell.execute_reply": "2021-03-28T23:49:32.448457Z",
     "shell.execute_reply.started": "2021-03-28T23:49:29.203543Z"
    }
   },
   "outputs": [],
   "source": [
    "import pandas as pd\n",
    "import numpy as np\n",
    "\n",
    "from sklearn.feature_extraction.text import TfidfVectorizer\n",
    "from sklearn.linear_model import LogisticRegression\n",
    "from sklearn.model_selection import cross_val_score\n",
    "from scipy.sparse import hstack"
   ]
  },
  {
   "cell_type": "code",
   "execution_count": 2,
   "metadata": {
    "execution": {
     "iopub.execute_input": "2021-03-28T23:49:33.664951Z",
     "iopub.status.busy": "2021-03-28T23:49:33.664951Z",
     "iopub.status.idle": "2021-03-28T23:49:37.856850Z",
     "shell.execute_reply": "2021-03-28T23:49:37.855843Z",
     "shell.execute_reply.started": "2021-03-28T23:49:33.664951Z"
    }
   },
   "outputs": [],
   "source": [
    "class_names = ['toxic', 'severe_toxic', 'obscene', 'threat', 'insult', 'identity_hate']\n",
    "\n",
    "train = pd.read_csv('data/train.csv').fillna(' ')\n",
    "test = pd.read_csv('data/test.csv').fillna(' ')\n",
    "\n",
    "train_text = train['comment_text']\n",
    "test_text = test['comment_text']\n",
    "all_text = pd.concat([train_text, test_text])"
   ]
  },
  {
   "cell_type": "code",
   "execution_count": 3,
   "metadata": {
    "execution": {
     "iopub.execute_input": "2021-03-28T23:49:38.425677Z",
     "iopub.status.busy": "2021-03-28T23:49:38.424680Z",
     "iopub.status.idle": "2021-03-28T23:50:21.126992Z",
     "shell.execute_reply": "2021-03-28T23:50:21.125995Z",
     "shell.execute_reply.started": "2021-03-28T23:49:38.425677Z"
    }
   },
   "outputs": [],
   "source": [
    "word_vectorizer = TfidfVectorizer(\n",
    "    sublinear_tf=True,\n",
    "    strip_accents='unicode',\n",
    "    analyzer='word',\n",
    "    token_pattern=r'\\w{1,}',\n",
    "    stop_words='english',\n",
    "    ngram_range=(1, 1),\n",
    "    max_features=10000\n",
    ")\n",
    "word_vectorizer.fit(all_text)\n",
    "train_word_features = word_vectorizer.transform(train_text)\n",
    "test_word_features = word_vectorizer.transform(test_text)"
   ]
  },
  {
   "cell_type": "code",
   "execution_count": 4,
   "metadata": {
    "execution": {
     "iopub.execute_input": "2021-03-28T23:50:24.777891Z",
     "iopub.status.busy": "2021-03-28T23:50:24.777891Z",
     "iopub.status.idle": "2021-03-29T00:06:00.965486Z",
     "shell.execute_reply": "2021-03-29T00:06:00.961519Z",
     "shell.execute_reply.started": "2021-03-28T23:50:24.777891Z"
    }
   },
   "outputs": [],
   "source": [
    "char_vectorizer = TfidfVectorizer(\n",
    "    sublinear_tf=True,\n",
    "    strip_accents='unicode',\n",
    "    analyzer='char',\n",
    "    ngram_range=(2, 6),\n",
    "    max_features=50000\n",
    ")\n",
    "char_vectorizer.fit(all_text)\n",
    "train_char_features = char_vectorizer.transform(train_text)\n",
    "test_char_features = char_vectorizer.transform(test_text)"
   ]
  },
  {
   "cell_type": "code",
   "execution_count": 5,
   "metadata": {
    "execution": {
     "iopub.execute_input": "2021-03-29T00:50:44.772552Z",
     "iopub.status.busy": "2021-03-29T00:50:44.771555Z",
     "iopub.status.idle": "2021-03-29T00:50:57.473151Z",
     "shell.execute_reply": "2021-03-29T00:50:57.472153Z",
     "shell.execute_reply.started": "2021-03-29T00:50:44.772552Z"
    }
   },
   "outputs": [],
   "source": [
    "train_features = hstack([train_char_features, train_word_features])\n",
    "test_features = hstack([test_char_features, test_word_features])"
   ]
  },
  {
   "cell_type": "code",
   "execution_count": 6,
   "metadata": {
    "execution": {
     "iopub.execute_input": "2021-03-29T00:50:57.476143Z",
     "iopub.status.busy": "2021-03-29T00:50:57.476143Z",
     "iopub.status.idle": "2021-03-29T01:02:23.166521Z",
     "shell.execute_reply": "2021-03-29T01:02:23.161038Z",
     "shell.execute_reply.started": "2021-03-29T00:50:57.476143Z"
    }
   },
   "outputs": [
    {
     "name": "stdout",
     "output_type": "stream",
     "text": [
      "CV score for class toxic is 0.9692180687074637\n",
      "CV score for class severe_toxic is 0.9875920222666422\n",
      "CV score for class obscene is 0.9838682220674997\n",
      "CV score for class threat is 0.9833762627893332\n",
      "CV score for class insult is 0.9774237634231101\n",
      "CV score for class identity_hate is 0.9739430869553628\n",
      "Total CV score is 0.9792369043682353\n"
     ]
    }
   ],
   "source": [
    "scores = []\n",
    "submission = pd.DataFrame.from_dict({'id':test['id']})\n",
    "for class_name in class_names:\n",
    "    train_target = train[class_name]\n",
    "    classifier = LogisticRegression(C=0.1, solver='sag')\n",
    "    \n",
    "    cv_score = np.mean(cross_val_score(classifier, train_features, train_target,\n",
    "                                       cv=3, scoring='roc_auc'))\n",
    "    scores.append(cv_score)\n",
    "    print('CV score for class {} is {}'.format(class_name, cv_score))\n",
    "    \n",
    "    classifier.fit(train_features, train_target)\n",
    "    submission[class_name] = classifier.predict_proba(test_features)[:, 1]\n",
    "    \n",
    "print('Total CV score is {}'.format(np.mean(scores)))\n",
    "submission.to_csv('data/submission_3.csv', index=False)"
   ]
  },
  {
   "cell_type": "code",
   "execution_count": null,
   "metadata": {},
   "outputs": [],
   "source": []
  }
 ],
 "metadata": {
  "kernelspec": {
   "display_name": "kaggle",
   "language": "python",
   "name": "kaggle"
  },
  "language_info": {
   "codemirror_mode": {
    "name": "ipython",
    "version": 3
   },
   "file_extension": ".py",
   "mimetype": "text/x-python",
   "name": "python",
   "nbconvert_exporter": "python",
   "pygments_lexer": "ipython3",
   "version": "3.7.10"
  }
 },
 "nbformat": 4,
 "nbformat_minor": 4
}
