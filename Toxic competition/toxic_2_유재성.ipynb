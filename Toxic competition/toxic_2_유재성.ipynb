{
 "cells": [
  {
   "cell_type": "markdown",
   "id": "regulation-boutique",
   "metadata": {},
   "source": [
    "# Stop the S@#$ - Toxic Comments EDA\n",
    "https://www.kaggle.com/jagangupta/stop-the-s-toxic-comments-eda"
   ]
  },
  {
   "cell_type": "markdown",
   "id": "handed-breeding",
   "metadata": {},
   "source": [
    "## Introduction\n",
    "인터넷의 익명성이 때때로 사람들이 현실에서 하지 않을 험악한 말을 하게 만들 수 있습니다.\n",
    "\n",
    "이를 걸러보도록 합시다."
   ]
  },
  {
   "cell_type": "markdown",
   "id": "located-sitting",
   "metadata": {},
   "source": [
    "## Objective\n",
    "독성 코멘트 분류를 위한 EDA / 피쳐 엔지니어링 스타터 노트북"
   ]
  },
  {
   "cell_type": "markdown",
   "id": "later-throw",
   "metadata": {},
   "source": [
    "## Data Overview\n",
    "데이터셋은 평가자에 의해 독성이 평가된 위키 말뭉치 데이터 세트에서 가져온 것입니다.\n",
    "\n",
    "말뭉치는 사용자 페이지 및 2004 - 2015년 기사와 관련된 토론에서 63M개의 의견을 포함하고 있습니다.\n",
    "\n",
    "다른 플랫폼/사이트들은 독성을 감시하는 각각의 기준들을 가지고 있습니다. 따라서 코멘트는 다음 5가지 카테고리에 태그가 지정됩니다.\n",
    "\n",
    "- toxic (독성)\n",
    "- severe_toxic (심한 독성)\n",
    "- obscene (음담패설)\n",
    "- threat (위협)\n",
    "- insult (모욕)\n",
    "- identity_hate (인종차별?)\n",
    "\n",
    "태그 지정은 크라우드 소싱을 통해 수행되었습니다. 즉, 데이터 세트의 등급이 서로 다르며 태그 지정도 100%정확하지 않을 수 있습니다."
   ]
  },
  {
   "cell_type": "code",
   "execution_count": 22,
   "id": "conscious-camcorder",
   "metadata": {
    "ExecuteTime": {
     "end_time": "2021-03-26T01:29:31.558229Z",
     "start_time": "2021-03-26T01:29:31.540213Z"
    }
   },
   "outputs": [],
   "source": [
    "# import required packages\n",
    "# basics\n",
    "import pandas as pd\n",
    "import numpy as np\n",
    "\n",
    "# misc\n",
    "import gc\n",
    "import time\n",
    "import warnings\n",
    "\n",
    "# stats\n",
    "from imageio import imread\n",
    "from scipy import sparse\n",
    "import scipy.stats as ss\n",
    "\n",
    "# viz\n",
    "import matplotlib.pyplot as plt\n",
    "import matplotlib.gridspec as gridspec\n",
    "import seaborn as sns\n",
    "from wordcloud import WordCloud, STOPWORDS\n",
    "from PIL import Image\n",
    "import matplotlib_venn as venn\n",
    "\n",
    "# nlp\n",
    "import string\n",
    "import re\n",
    "import nltk\n",
    "from nltk.corpus import stopwords\n",
    "import spacy\n",
    "from nltk import pos_tag\n",
    "from nltk.stem.wordnet import WordNetLemmatizer\n",
    "from nltk.tokenize import word_tokenize\n",
    "from nltk.tokenize import TweetTokenizer\n",
    "\n",
    "# Feature Engineering\n",
    "from sklearn.feature_extraction.text import TfidfVectorizer, CountVectorizer, HashingVectorizer\n",
    "from sklearn.decomposition import TruncatedSVD\n",
    "from sklearn.base import BaseEstimator, ClassifierMixin\n",
    "from sklearn.utils.validation import check_X_y, check_is_fitted\n",
    "from sklearn.linear_model import LogisticRegression\n",
    "from sklearn import metrics\n",
    "from sklearn.metrics import log_loss\n",
    "from sklearn.model_selection import StratifiedKFold\n",
    "from sklearn.model_selection import train_test_split\n",
    "\n",
    "# settings\n",
    "start_time = time.time()\n",
    "color = sns.color_palette()\n",
    "sns.set_style('white')\n",
    "eng_stopwords = set(stopwords.words('english'))\n",
    "warnings.filterwarnings('ignore')\n",
    "\n",
    "lem = WordNetLemmatizer()\n",
    "tokenizer = TweetTokenizer()\n",
    "\n",
    "%matplotlib inline"
   ]
  },
  {
   "cell_type": "code",
   "execution_count": 10,
   "id": "lonely-accommodation",
   "metadata": {
    "ExecuteTime": {
     "end_time": "2021-03-26T01:20:18.314061Z",
     "start_time": "2021-03-26T01:20:16.911284Z"
    }
   },
   "outputs": [],
   "source": [
    "# Load the dataset\n",
    "train = pd.read_csv('./input/train.csv')\n",
    "test = pd.read_csv('./input/test.csv')"
   ]
  },
  {
   "cell_type": "code",
   "execution_count": 11,
   "id": "increased-interface",
   "metadata": {
    "ExecuteTime": {
     "end_time": "2021-03-26T01:20:30.520158Z",
     "start_time": "2021-03-26T01:20:30.500140Z"
    }
   },
   "outputs": [
    {
     "data": {
      "text/html": [
       "<div>\n",
       "<style scoped>\n",
       "    .dataframe tbody tr th:only-of-type {\n",
       "        vertical-align: middle;\n",
       "    }\n",
       "\n",
       "    .dataframe tbody tr th {\n",
       "        vertical-align: top;\n",
       "    }\n",
       "\n",
       "    .dataframe thead th {\n",
       "        text-align: right;\n",
       "    }\n",
       "</style>\n",
       "<table border=\"1\" class=\"dataframe\">\n",
       "  <thead>\n",
       "    <tr style=\"text-align: right;\">\n",
       "      <th></th>\n",
       "      <th>id</th>\n",
       "      <th>comment_text</th>\n",
       "      <th>toxic</th>\n",
       "      <th>severe_toxic</th>\n",
       "      <th>obscene</th>\n",
       "      <th>threat</th>\n",
       "      <th>insult</th>\n",
       "      <th>identity_hate</th>\n",
       "    </tr>\n",
       "  </thead>\n",
       "  <tbody>\n",
       "    <tr>\n",
       "      <th>159561</th>\n",
       "      <td>ffd2e85b07b3c7e4</td>\n",
       "      <td>\"\\nNo he did not, read it again (I would have ...</td>\n",
       "      <td>0</td>\n",
       "      <td>0</td>\n",
       "      <td>0</td>\n",
       "      <td>0</td>\n",
       "      <td>0</td>\n",
       "      <td>0</td>\n",
       "    </tr>\n",
       "    <tr>\n",
       "      <th>159562</th>\n",
       "      <td>ffd72e9766c09c97</td>\n",
       "      <td>\"\\n Auto guides and the motoring press are not...</td>\n",
       "      <td>0</td>\n",
       "      <td>0</td>\n",
       "      <td>0</td>\n",
       "      <td>0</td>\n",
       "      <td>0</td>\n",
       "      <td>0</td>\n",
       "    </tr>\n",
       "    <tr>\n",
       "      <th>159563</th>\n",
       "      <td>ffe029a7c79dc7fe</td>\n",
       "      <td>\"\\nplease identify what part of BLP applies be...</td>\n",
       "      <td>0</td>\n",
       "      <td>0</td>\n",
       "      <td>0</td>\n",
       "      <td>0</td>\n",
       "      <td>0</td>\n",
       "      <td>0</td>\n",
       "    </tr>\n",
       "    <tr>\n",
       "      <th>159564</th>\n",
       "      <td>ffe897e7f7182c90</td>\n",
       "      <td>Catalan independentism is the social movement ...</td>\n",
       "      <td>0</td>\n",
       "      <td>0</td>\n",
       "      <td>0</td>\n",
       "      <td>0</td>\n",
       "      <td>0</td>\n",
       "      <td>0</td>\n",
       "    </tr>\n",
       "    <tr>\n",
       "      <th>159565</th>\n",
       "      <td>ffe8b9316245be30</td>\n",
       "      <td>The numbers in parentheses are the additional ...</td>\n",
       "      <td>0</td>\n",
       "      <td>0</td>\n",
       "      <td>0</td>\n",
       "      <td>0</td>\n",
       "      <td>0</td>\n",
       "      <td>0</td>\n",
       "    </tr>\n",
       "    <tr>\n",
       "      <th>159566</th>\n",
       "      <td>ffe987279560d7ff</td>\n",
       "      <td>\":::::And for the second time of asking, when ...</td>\n",
       "      <td>0</td>\n",
       "      <td>0</td>\n",
       "      <td>0</td>\n",
       "      <td>0</td>\n",
       "      <td>0</td>\n",
       "      <td>0</td>\n",
       "    </tr>\n",
       "    <tr>\n",
       "      <th>159567</th>\n",
       "      <td>ffea4adeee384e90</td>\n",
       "      <td>You should be ashamed of yourself \\n\\nThat is ...</td>\n",
       "      <td>0</td>\n",
       "      <td>0</td>\n",
       "      <td>0</td>\n",
       "      <td>0</td>\n",
       "      <td>0</td>\n",
       "      <td>0</td>\n",
       "    </tr>\n",
       "    <tr>\n",
       "      <th>159568</th>\n",
       "      <td>ffee36eab5c267c9</td>\n",
       "      <td>Spitzer \\n\\nUmm, theres no actual article for ...</td>\n",
       "      <td>0</td>\n",
       "      <td>0</td>\n",
       "      <td>0</td>\n",
       "      <td>0</td>\n",
       "      <td>0</td>\n",
       "      <td>0</td>\n",
       "    </tr>\n",
       "    <tr>\n",
       "      <th>159569</th>\n",
       "      <td>fff125370e4aaaf3</td>\n",
       "      <td>And it looks like it was actually you who put ...</td>\n",
       "      <td>0</td>\n",
       "      <td>0</td>\n",
       "      <td>0</td>\n",
       "      <td>0</td>\n",
       "      <td>0</td>\n",
       "      <td>0</td>\n",
       "    </tr>\n",
       "    <tr>\n",
       "      <th>159570</th>\n",
       "      <td>fff46fc426af1f9a</td>\n",
       "      <td>\"\\nAnd ... I really don't think you understand...</td>\n",
       "      <td>0</td>\n",
       "      <td>0</td>\n",
       "      <td>0</td>\n",
       "      <td>0</td>\n",
       "      <td>0</td>\n",
       "      <td>0</td>\n",
       "    </tr>\n",
       "  </tbody>\n",
       "</table>\n",
       "</div>"
      ],
      "text/plain": [
       "                      id                                       comment_text  \\\n",
       "159561  ffd2e85b07b3c7e4  \"\\nNo he did not, read it again (I would have ...   \n",
       "159562  ffd72e9766c09c97  \"\\n Auto guides and the motoring press are not...   \n",
       "159563  ffe029a7c79dc7fe  \"\\nplease identify what part of BLP applies be...   \n",
       "159564  ffe897e7f7182c90  Catalan independentism is the social movement ...   \n",
       "159565  ffe8b9316245be30  The numbers in parentheses are the additional ...   \n",
       "159566  ffe987279560d7ff  \":::::And for the second time of asking, when ...   \n",
       "159567  ffea4adeee384e90  You should be ashamed of yourself \\n\\nThat is ...   \n",
       "159568  ffee36eab5c267c9  Spitzer \\n\\nUmm, theres no actual article for ...   \n",
       "159569  fff125370e4aaaf3  And it looks like it was actually you who put ...   \n",
       "159570  fff46fc426af1f9a  \"\\nAnd ... I really don't think you understand...   \n",
       "\n",
       "        toxic  severe_toxic  obscene  threat  insult  identity_hate  \n",
       "159561      0             0        0       0       0              0  \n",
       "159562      0             0        0       0       0              0  \n",
       "159563      0             0        0       0       0              0  \n",
       "159564      0             0        0       0       0              0  \n",
       "159565      0             0        0       0       0              0  \n",
       "159566      0             0        0       0       0              0  \n",
       "159567      0             0        0       0       0              0  \n",
       "159568      0             0        0       0       0              0  \n",
       "159569      0             0        0       0       0              0  \n",
       "159570      0             0        0       0       0              0  "
      ]
     },
     "execution_count": 11,
     "metadata": {},
     "output_type": "execute_result"
    }
   ],
   "source": [
    "# take a peak\n",
    "train.tail(10)"
   ]
  },
  {
   "cell_type": "code",
   "execution_count": 15,
   "id": "secondary-integrity",
   "metadata": {
    "ExecuteTime": {
     "end_time": "2021-03-26T01:22:59.669163Z",
     "start_time": "2021-03-26T01:22:59.660155Z"
    },
    "scrolled": true
   },
   "outputs": [
    {
     "name": "stdout",
     "output_type": "stream",
     "text": [
      "train rows:159571, percent:51\n",
      "test rows:153164, percent:49\n"
     ]
    }
   ],
   "source": [
    "nrow_train = train.shape[0]\n",
    "nrow_test = test.shape[0]\n",
    "sum = nrow_train + nrow_test\n",
    "print('train rows:{}, percent:{}'.format(nrow_train, round(nrow_train*100/sum)))\n",
    "print('test rows:{}, percent:{}'.format(nrow_test, round(nrow_test*100/sum)))"
   ]
  },
  {
   "cell_type": "markdown",
   "id": "preliminary-partnership",
   "metadata": {},
   "source": [
    "train test 비율이 비슷합니다."
   ]
  },
  {
   "cell_type": "markdown",
   "id": "spiritual-inspector",
   "metadata": {},
   "source": [
    "### Class Imbalance"
   ]
  },
  {
   "cell_type": "code",
   "execution_count": 16,
   "id": "matched-dominican",
   "metadata": {
    "ExecuteTime": {
     "end_time": "2021-03-26T01:26:12.339163Z",
     "start_time": "2021-03-26T01:26:12.303131Z"
    }
   },
   "outputs": [
    {
     "name": "stdout",
     "output_type": "stream",
     "text": [
      "Total comments =  159571\n",
      "Total clean comments =  143346\n",
      "Total tags =  35098\n"
     ]
    }
   ],
   "source": [
    "x = train.iloc[:, 2:].sum()\n",
    "# marking comments without any tags as 'clean'\n",
    "rowsums = train.iloc[:, 2:].sum(axis=1)\n",
    "train['clean'] = (rowsums==0)\n",
    "# count number of clean entries\n",
    "train['clean'].sum()\n",
    "print('Total comments = ', len(train))\n",
    "print('Total clean comments = ', train['clean'].sum())\n",
    "print('Total tags = ', x.sum())"
   ]
  },
  {
   "cell_type": "code",
   "execution_count": 17,
   "id": "supposed-vitamin",
   "metadata": {
    "ExecuteTime": {
     "end_time": "2021-03-26T01:27:36.722859Z",
     "start_time": "2021-03-26T01:27:36.678819Z"
    }
   },
   "outputs": [
    {
     "name": "stdout",
     "output_type": "stream",
     "text": [
      "Check for missing values in Train dataset\n",
      "id               0\n",
      "comment_text     0\n",
      "toxic            0\n",
      "severe_toxic     0\n",
      "obscene          0\n",
      "threat           0\n",
      "insult           0\n",
      "identity_hate    0\n",
      "clean            0\n",
      "dtype: int64\n",
      "Check for missing values in Test dataset\n",
      "id              0\n",
      "comment_text    0\n",
      "dtype: int64\n"
     ]
    }
   ],
   "source": [
    "print('Check for missing values in Train dataset')\n",
    "null_check = train.isnull().sum()\n",
    "print(null_check)\n",
    "print('Check for missing values in Test dataset')\n",
    "null_check = test.isnull().sum()\n",
    "print(null_check)"
   ]
  },
  {
   "cell_type": "markdown",
   "id": "backed-spice",
   "metadata": {},
   "source": [
    "결측치는 없습니다."
   ]
  },
  {
   "cell_type": "code",
   "execution_count": 38,
   "id": "working-valuation",
   "metadata": {
    "ExecuteTime": {
     "end_time": "2021-03-26T01:40:19.228899Z",
     "start_time": "2021-03-26T01:40:19.083767Z"
    }
   },
   "outputs": [
    {
     "data": {
      "image/png": "[encoded data removed]",
      "text/plain": [
       "<Figure size 576x288 with 1 Axes>"
      ]
     },
     "metadata": {
      "needs_background": "dark"
     },
     "output_type": "display_data"
    }
   ],
   "source": [
    "x = train.iloc[:, 2:].sum()\n",
    "# plot\n",
    "plt.figure(figsize=(8, 4))\n",
    "ax = sns.barplot(x.index, x.values, alpha=0.8)\n",
    "plt.title('# Per Class', color='white')\n",
    "plt.ylabel('# of Occurrences', fontsize=12, color='white')\n",
    "plt.xlabel('Type', fontsize=12, color='white')\n",
    "plt.xticks(color='white')\n",
    "plt.yticks(color='white')\n",
    "# adding the text labels\n",
    "rects = ax.patches\n",
    "labels = x.values\n",
    "for rect, label in zip(rects, labels):\n",
    "    height = rect.get_height()\n",
    "    ax.text(rect.get_x() + rect.get_width()/2, height+5, label, ha='center', va='bottom')\n",
    "    \n"
   ]
  },
  {
   "cell_type": "code",
   "execution_count": 40,
   "id": "skilled-feature",
   "metadata": {
    "ExecuteTime": {
     "end_time": "2021-03-26T01:40:25.194823Z",
     "start_time": "2021-03-26T01:40:25.187816Z"
    }
   },
   "outputs": [
    {
     "data": {
      "text/plain": [
       "178444"
      ]
     },
     "execution_count": 40,
     "metadata": {},
     "output_type": "execute_result"
    }
   ],
   "source": [
    "x.values.sum()"
   ]
  },
  {
   "cell_type": "markdown",
   "id": "mature-allocation",
   "metadata": {},
   "source": [
    "- 타입들간의 불균형 문제가 존재합니다.\n",
    "- 위에서 코멘트의 수가 159571개 였는데, 그래프에 나타나는 개수는 178444개입니다.\n",
    "    - 이는 하나의 코멘트가 여러 태그를 가지고 있는 (예. 한 코멘트가 독성과 음담패설을 가지고 있음) 경우를 추측해볼 수 있습니다."
   ]
  },
  {
   "cell_type": "markdown",
   "id": "mediterranean-sunday",
   "metadata": {},
   "source": [
    "### Multi-tagging\n",
    "얼마나 많은 코멘트들이 다수의 태그를 가지고 있는지 확인해 보겠습니다."
   ]
  },
  {
   "cell_type": "code",
   "execution_count": 41,
   "id": "foreign-electronics",
   "metadata": {
    "ExecuteTime": {
     "end_time": "2021-03-26T01:41:37.784296Z",
     "start_time": "2021-03-26T01:41:37.644169Z"
    }
   },
   "outputs": [
    {
     "data": {
      "image/png": "[encoded data removed]",
      "text/plain": [
       "<Figure size 576x288 with 1 Axes>"
      ]
     },
     "metadata": {
      "needs_background": "light"
     },
     "output_type": "display_data"
    }
   ],
   "source": [
    "x = rowsums.value_counts()\n",
    "\n",
    "# plot\n",
    "plt.figure(figsize=(8, 4))\n",
    "ax = sns.barplot(x.index, x.values, alpha=0.8, color=color[2])\n",
    "plt.title('Multiple tags per comment')\n",
    "plt.ylabel('# of Occuerrences', fontsize=12)\n",
    "\n",
    "# adding the text labels\n",
    "rects = ax.patches\n",
    "labels = x.values\n",
    "for rect, label in zip(rects, labels):\n",
    "    height = rect.get_height()\n",
    "    ax.text(rect.get_x() + rect.get_width()/2, height+5, label, ha='center', va='bottom')"
   ]
  },
  {
   "cell_type": "code",
   "execution_count": 54,
   "id": "empirical-turkey",
   "metadata": {
    "ExecuteTime": {
     "end_time": "2021-03-26T01:50:05.489721Z",
     "start_time": "2021-03-26T01:50:05.474708Z"
    }
   },
   "outputs": [
    {
     "data": {
      "text/plain": [
       "0.06182201026502309"
      ]
     },
     "execution_count": 54,
     "metadata": {},
     "output_type": "execute_result"
    }
   ],
   "source": [
    "x[2:7].sum() / x.sum()"
   ]
  },
  {
   "cell_type": "markdown",
   "id": "fatty-poetry",
   "metadata": {},
   "source": [
    "약 6% 정도의 코멘트가 여러 종류의 독성을 가지고 있습니다. 31개의 코멘트는 모든 종류를 다 갖고 있습니다!"
   ]
  },
  {
   "cell_type": "markdown",
   "id": "invalid-sense",
   "metadata": {},
   "source": [
    "## Which tags go together?\n",
    "이번엔 어떤 태그들이 같이 발생하는지 알아보겠습니다. 상관관계도를 그려 확인할 수 있습니다."
   ]
  },
  {
   "cell_type": "code",
   "execution_count": 55,
   "id": "qualified-booking",
   "metadata": {
    "ExecuteTime": {
     "end_time": "2021-03-26T01:51:56.098401Z",
     "start_time": "2021-03-26T01:51:55.822150Z"
    }
   },
   "outputs": [
    {
     "data": {
      "text/plain": [
       "<AxesSubplot:>"
      ]
     },
     "execution_count": 55,
     "metadata": {},
     "output_type": "execute_result"
    },
    {
     "data": {
      "image/png": "[encoded data removed]",
      "text/plain": [
       "<Figure size 720x576 with 2 Axes>"
      ]
     },
     "metadata": {
      "needs_background": "light"
     },
     "output_type": "display_data"
    }
   ],
   "source": [
    "temp_df = train.iloc[:,2:-1]\n",
    "# filter temp by removing clean comments\n",
    "\n",
    "corr = temp_df.corr()\n",
    "plt.figure(figsize=(10,8))\n",
    "sns.heatmap(corr,\n",
    "            xticklabels=corr.columns.values,\n",
    "            yticklabels=corr.columns.values, annot=True)\n"
   ]
  },
  {
   "cell_type": "markdown",
   "id": "ethical-organizer",
   "metadata": {},
   "source": [
    "위의 그림은 공존하는 패턴을 나타내지만 Pearson 상관 관계를 사용하는 판다스의 기분 corr 함수는 변수들이 범주형 변수이기 때문에 적용되지 않습니다.\n",
    "\n",
    "따라서 두 범주형 변수 사이의 패턴을 찾기 위해 다음과 같은 도구를 사용할 수 있습니다.\n",
    "- 혼동 매트릭스/ 크로스탭\n",
    "- Cramer's V Statistics\n",
    "     - 크레이머의 V 통계는 카이제곱 검정의 확장입니다. 여기서 연관성의 범위/강도도 측정됩니다."
   ]
  },
  {
   "cell_type": "code",
   "execution_count": null,
   "id": "better-edinburgh",
   "metadata": {},
   "outputs": [],
   "source": []
  },
  {
   "cell_type": "code",
   "execution_count": null,
   "id": "different-windows",
   "metadata": {},
   "outputs": [],
   "source": []
  },
  {
   "cell_type": "code",
   "execution_count": null,
   "id": "several-ordinary",
   "metadata": {},
   "outputs": [],
   "source": []
  },
  {
   "cell_type": "code",
   "execution_count": null,
   "id": "accurate-genesis",
   "metadata": {},
   "outputs": [],
   "source": []
  },
  {
   "cell_type": "code",
   "execution_count": null,
   "id": "trying-effect",
   "metadata": {},
   "outputs": [],
   "source": []
  },
  {
   "cell_type": "code",
   "execution_count": null,
   "id": "psychological-velvet",
   "metadata": {},
   "outputs": [],
   "source": []
  },
  {
   "cell_type": "code",
   "execution_count": null,
   "id": "purple-family",
   "metadata": {},
   "outputs": [],
   "source": []
  },
  {
   "cell_type": "code",
   "execution_count": null,
   "id": "latest-underwear",
   "metadata": {},
   "outputs": [],
   "source": []
  },
  {
   "cell_type": "code",
   "execution_count": null,
   "id": "subject-custom",
   "metadata": {},
   "outputs": [],
   "source": []
  },
  {
   "cell_type": "code",
   "execution_count": null,
   "id": "republican-fourth",
   "metadata": {},
   "outputs": [],
   "source": []
  },
  {
   "cell_type": "code",
   "execution_count": null,
   "id": "several-convenience",
   "metadata": {},
   "outputs": [],
   "source": []
  },
  {
   "cell_type": "code",
   "execution_count": null,
   "id": "going-acrylic",
   "metadata": {},
   "outputs": [],
   "source": []
  }
 ],
 "metadata": {
  "kernelspec": {
   "display_name": "Python 3",
   "language": "python",
   "name": "python3"
  },
  "language_info": {
   "codemirror_mode": {
    "name": "ipython",
    "version": 3
   },
   "file_extension": ".py",
   "mimetype": "text/x-python",
   "name": "python",
   "nbconvert_exporter": "python",
   "pygments_lexer": "ipython3",
   "version": "3.7.10"
  },
  "toc": {
   "base_numbering": 1,
   "nav_menu": {},
   "number_sections": false,
   "sideBar": true,
   "skip_h1_title": false,
   "title_cell": "Table of Contents",
   "title_sidebar": "Contents",
   "toc_cell": false,
   "toc_position": {},
   "toc_section_display": true,
   "toc_window_display": false
  }
 },
 "nbformat": 4,
 "nbformat_minor": 5
}
