{
 "cells": [
  {
   "cell_type": "markdown",
   "id": "educational-guard",
   "metadata": {},
   "source": [
    "# Classifying multi-label comments with Logistic Regression"
   ]
  },
  {
   "cell_type": "code",
   "execution_count": 2,
   "id": "narrative-disease",
   "metadata": {
    "ExecuteTime": {
     "end_time": "2021-03-29T12:13:01.617805Z",
     "start_time": "2021-03-29T12:13:01.602806Z"
    }
   },
   "outputs": [],
   "source": [
    "import numpy as np\n",
    "import pandas as pd\n",
    "import matplotlib.pyplot as plt\n",
    "%matplotlib inline\n",
    "import seaborn as sns\n",
    "import re"
   ]
  },
  {
   "cell_type": "markdown",
   "id": "residential-penguin",
   "metadata": {},
   "source": [
    "## Load training and test data"
   ]
  },
  {
   "cell_type": "code",
   "execution_count": 3,
   "id": "insured-abraham",
   "metadata": {
    "ExecuteTime": {
     "end_time": "2021-03-29T12:13:29.555909Z",
     "start_time": "2021-03-29T12:13:28.155004Z"
    }
   },
   "outputs": [],
   "source": [
    "train_df = pd.read_csv('./input/train.csv')\n",
    "test_df = pd.read_csv('./input/test.csv')"
   ]
  },
  {
   "cell_type": "markdown",
   "id": "amazing-floating",
   "metadata": {},
   "source": [
    "### Examine the data(EDA)"
   ]
  },
  {
   "cell_type": "code",
   "execution_count": 4,
   "id": "corporate-death",
   "metadata": {
    "ExecuteTime": {
     "end_time": "2021-03-29T12:13:43.176966Z",
     "start_time": "2021-03-29T12:13:43.146968Z"
    }
   },
   "outputs": [
    {
     "data": {
      "text/html": [
       "<div>\n",
       "<style scoped>\n",
       "    .dataframe tbody tr th:only-of-type {\n",
       "        vertical-align: middle;\n",
       "    }\n",
       "\n",
       "    .dataframe tbody tr th {\n",
       "        vertical-align: top;\n",
       "    }\n",
       "\n",
       "    .dataframe thead th {\n",
       "        text-align: right;\n",
       "    }\n",
       "</style>\n",
       "<table border=\"1\" class=\"dataframe\">\n",
       "  <thead>\n",
       "    <tr style=\"text-align: right;\">\n",
       "      <th></th>\n",
       "      <th>id</th>\n",
       "      <th>comment_text</th>\n",
       "      <th>toxic</th>\n",
       "      <th>severe_toxic</th>\n",
       "      <th>obscene</th>\n",
       "      <th>threat</th>\n",
       "      <th>insult</th>\n",
       "      <th>identity_hate</th>\n",
       "    </tr>\n",
       "  </thead>\n",
       "  <tbody>\n",
       "    <tr>\n",
       "      <th>99373</th>\n",
       "      <td>138bba73601cf1b8</td>\n",
       "      <td>\"\\n\\nThe innate immunity, i.e. phagocytosis, i...</td>\n",
       "      <td>0</td>\n",
       "      <td>0</td>\n",
       "      <td>0</td>\n",
       "      <td>0</td>\n",
       "      <td>0</td>\n",
       "      <td>0</td>\n",
       "    </tr>\n",
       "    <tr>\n",
       "      <th>63271</th>\n",
       "      <td>a94b9023e5792b71</td>\n",
       "      <td>Sorry that you're getting frustrated. In gener...</td>\n",
       "      <td>0</td>\n",
       "      <td>0</td>\n",
       "      <td>0</td>\n",
       "      <td>0</td>\n",
       "      <td>0</td>\n",
       "      <td>0</td>\n",
       "    </tr>\n",
       "    <tr>\n",
       "      <th>11476</th>\n",
       "      <td>1e5752c0cbc43f98</td>\n",
       "      <td>I think it is also necessary to focus on the c...</td>\n",
       "      <td>0</td>\n",
       "      <td>0</td>\n",
       "      <td>0</td>\n",
       "      <td>0</td>\n",
       "      <td>0</td>\n",
       "      <td>0</td>\n",
       "    </tr>\n",
       "    <tr>\n",
       "      <th>366</th>\n",
       "      <td>00e9db54d1e315eb</td>\n",
       "      <td>Paula White, Joel Osteen, Marbled Cat, and a f...</td>\n",
       "      <td>0</td>\n",
       "      <td>0</td>\n",
       "      <td>0</td>\n",
       "      <td>0</td>\n",
       "      <td>0</td>\n",
       "      <td>0</td>\n",
       "    </tr>\n",
       "    <tr>\n",
       "      <th>87108</th>\n",
       "      <td>e900687f80c3ae70</td>\n",
       "      <td>Regarding edits made during December 13 2008 (...</td>\n",
       "      <td>0</td>\n",
       "      <td>0</td>\n",
       "      <td>0</td>\n",
       "      <td>0</td>\n",
       "      <td>0</td>\n",
       "      <td>0</td>\n",
       "    </tr>\n",
       "  </tbody>\n",
       "</table>\n",
       "</div>"
      ],
      "text/plain": [
       "                     id                                       comment_text  \\\n",
       "99373  138bba73601cf1b8  \"\\n\\nThe innate immunity, i.e. phagocytosis, i...   \n",
       "63271  a94b9023e5792b71  Sorry that you're getting frustrated. In gener...   \n",
       "11476  1e5752c0cbc43f98  I think it is also necessary to focus on the c...   \n",
       "366    00e9db54d1e315eb  Paula White, Joel Osteen, Marbled Cat, and a f...   \n",
       "87108  e900687f80c3ae70  Regarding edits made during December 13 2008 (...   \n",
       "\n",
       "       toxic  severe_toxic  obscene  threat  insult  identity_hate  \n",
       "99373      0             0        0       0       0              0  \n",
       "63271      0             0        0       0       0              0  \n",
       "11476      0             0        0       0       0              0  \n",
       "366        0             0        0       0       0              0  \n",
       "87108      0             0        0       0       0              0  "
      ]
     },
     "execution_count": 4,
     "metadata": {},
     "output_type": "execute_result"
    }
   ],
   "source": [
    "train_df.sample(5)"
   ]
  },
  {
   "cell_type": "markdown",
   "id": "understanding-particular",
   "metadata": {},
   "source": [
    "훈련 데이터에서, 코멘트들은 여섯개의 카테고리로 나뉘어져 있습니다. 이는 다중 레이블 분류 문제입니다."
   ]
  },
  {
   "cell_type": "code",
   "execution_count": 5,
   "id": "transparent-concern",
   "metadata": {
    "ExecuteTime": {
     "end_time": "2021-03-29T12:15:34.784053Z",
     "start_time": "2021-03-29T12:15:34.771047Z"
    }
   },
   "outputs": [],
   "source": [
    "cols_target = ['obscene', 'insult', 'toxic', 'severe_toxic', 'identity_hate', 'threat']"
   ]
  },
  {
   "cell_type": "code",
   "execution_count": 6,
   "id": "grateful-polyester",
   "metadata": {
    "ExecuteTime": {
     "end_time": "2021-03-29T12:15:51.337177Z",
     "start_time": "2021-03-29T12:15:51.283177Z"
    }
   },
   "outputs": [
    {
     "data": {
      "text/html": [
       "<div>\n",
       "<style scoped>\n",
       "    .dataframe tbody tr th:only-of-type {\n",
       "        vertical-align: middle;\n",
       "    }\n",
       "\n",
       "    .dataframe tbody tr th {\n",
       "        vertical-align: top;\n",
       "    }\n",
       "\n",
       "    .dataframe thead th {\n",
       "        text-align: right;\n",
       "    }\n",
       "</style>\n",
       "<table border=\"1\" class=\"dataframe\">\n",
       "  <thead>\n",
       "    <tr style=\"text-align: right;\">\n",
       "      <th></th>\n",
       "      <th>toxic</th>\n",
       "      <th>severe_toxic</th>\n",
       "      <th>obscene</th>\n",
       "      <th>threat</th>\n",
       "      <th>insult</th>\n",
       "      <th>identity_hate</th>\n",
       "    </tr>\n",
       "  </thead>\n",
       "  <tbody>\n",
       "    <tr>\n",
       "      <th>count</th>\n",
       "      <td>159571.000000</td>\n",
       "      <td>159571.000000</td>\n",
       "      <td>159571.000000</td>\n",
       "      <td>159571.000000</td>\n",
       "      <td>159571.000000</td>\n",
       "      <td>159571.000000</td>\n",
       "    </tr>\n",
       "    <tr>\n",
       "      <th>mean</th>\n",
       "      <td>0.095844</td>\n",
       "      <td>0.009996</td>\n",
       "      <td>0.052948</td>\n",
       "      <td>0.002996</td>\n",
       "      <td>0.049364</td>\n",
       "      <td>0.008805</td>\n",
       "    </tr>\n",
       "    <tr>\n",
       "      <th>std</th>\n",
       "      <td>0.294379</td>\n",
       "      <td>0.099477</td>\n",
       "      <td>0.223931</td>\n",
       "      <td>0.054650</td>\n",
       "      <td>0.216627</td>\n",
       "      <td>0.093420</td>\n",
       "    </tr>\n",
       "    <tr>\n",
       "      <th>min</th>\n",
       "      <td>0.000000</td>\n",
       "      <td>0.000000</td>\n",
       "      <td>0.000000</td>\n",
       "      <td>0.000000</td>\n",
       "      <td>0.000000</td>\n",
       "      <td>0.000000</td>\n",
       "    </tr>\n",
       "    <tr>\n",
       "      <th>25%</th>\n",
       "      <td>0.000000</td>\n",
       "      <td>0.000000</td>\n",
       "      <td>0.000000</td>\n",
       "      <td>0.000000</td>\n",
       "      <td>0.000000</td>\n",
       "      <td>0.000000</td>\n",
       "    </tr>\n",
       "    <tr>\n",
       "      <th>50%</th>\n",
       "      <td>0.000000</td>\n",
       "      <td>0.000000</td>\n",
       "      <td>0.000000</td>\n",
       "      <td>0.000000</td>\n",
       "      <td>0.000000</td>\n",
       "      <td>0.000000</td>\n",
       "    </tr>\n",
       "    <tr>\n",
       "      <th>75%</th>\n",
       "      <td>0.000000</td>\n",
       "      <td>0.000000</td>\n",
       "      <td>0.000000</td>\n",
       "      <td>0.000000</td>\n",
       "      <td>0.000000</td>\n",
       "      <td>0.000000</td>\n",
       "    </tr>\n",
       "    <tr>\n",
       "      <th>max</th>\n",
       "      <td>1.000000</td>\n",
       "      <td>1.000000</td>\n",
       "      <td>1.000000</td>\n",
       "      <td>1.000000</td>\n",
       "      <td>1.000000</td>\n",
       "      <td>1.000000</td>\n",
       "    </tr>\n",
       "  </tbody>\n",
       "</table>\n",
       "</div>"
      ],
      "text/plain": [
       "               toxic   severe_toxic        obscene         threat  \\\n",
       "count  159571.000000  159571.000000  159571.000000  159571.000000   \n",
       "mean        0.095844       0.009996       0.052948       0.002996   \n",
       "std         0.294379       0.099477       0.223931       0.054650   \n",
       "min         0.000000       0.000000       0.000000       0.000000   \n",
       "25%         0.000000       0.000000       0.000000       0.000000   \n",
       "50%         0.000000       0.000000       0.000000       0.000000   \n",
       "75%         0.000000       0.000000       0.000000       0.000000   \n",
       "max         1.000000       1.000000       1.000000       1.000000   \n",
       "\n",
       "              insult  identity_hate  \n",
       "count  159571.000000  159571.000000  \n",
       "mean        0.049364       0.008805  \n",
       "std         0.216627       0.093420  \n",
       "min         0.000000       0.000000  \n",
       "25%         0.000000       0.000000  \n",
       "50%         0.000000       0.000000  \n",
       "75%         0.000000       0.000000  \n",
       "max         1.000000       1.000000  "
      ]
     },
     "execution_count": 6,
     "metadata": {},
     "output_type": "execute_result"
    }
   ],
   "source": [
    "# check missing values in numeric columns\n",
    "train_df.describe()"
   ]
  },
  {
   "cell_type": "markdown",
   "id": "overall-section",
   "metadata": {},
   "source": [
    "겱측값은 존재하지 않습니다. 평균 값이 매우 작은 것을 보았을 때, 대부분 카테고리가 0으로 이루어져 있는 것 같습니다. "
   ]
  },
  {
   "cell_type": "code",
   "execution_count": 7,
   "id": "careful-toronto",
   "metadata": {
    "ExecuteTime": {
     "end_time": "2021-03-29T12:17:56.834570Z",
     "start_time": "2021-03-29T12:17:56.789609Z"
    }
   },
   "outputs": [
    {
     "name": "stdout",
     "output_type": "stream",
     "text": [
      "Percentage of unlabelled comments is 89.83211235124176\n"
     ]
    }
   ],
   "source": [
    "unlabelled_in_all = train_df[(train_df['toxic']!=1) & (train_df['severe_toxic']!=1) & (train_df['threat']!=1) & (train_df['obscene']!=1) & (train_df['insult']!=1) & (train_df['identity_hate']!=1) ]\n",
    "print('Percentage of unlabelled comments is', len(unlabelled_in_all)/len(train_df)*100)"
   ]
  },
  {
   "cell_type": "code",
   "execution_count": 8,
   "id": "economic-encounter",
   "metadata": {
    "ExecuteTime": {
     "end_time": "2021-03-29T12:18:22.848545Z",
     "start_time": "2021-03-29T12:18:22.829546Z"
    }
   },
   "outputs": [
    {
     "data": {
      "text/plain": [
       "0"
      ]
     },
     "execution_count": 8,
     "metadata": {},
     "output_type": "execute_result"
    }
   ],
   "source": [
    "# Check for any 'null' comment\n",
    "no_comment = train_df[train_df['comment_text'].isnull()]\n",
    "len(no_comment)"
   ]
  },
  {
   "cell_type": "code",
   "execution_count": 9,
   "id": "amino-render",
   "metadata": {
    "ExecuteTime": {
     "end_time": "2021-03-29T12:18:37.691488Z",
     "start_time": "2021-03-29T12:18:37.680424Z"
    }
   },
   "outputs": [
    {
     "data": {
      "text/html": [
       "<div>\n",
       "<style scoped>\n",
       "    .dataframe tbody tr th:only-of-type {\n",
       "        vertical-align: middle;\n",
       "    }\n",
       "\n",
       "    .dataframe tbody tr th {\n",
       "        vertical-align: top;\n",
       "    }\n",
       "\n",
       "    .dataframe thead th {\n",
       "        text-align: right;\n",
       "    }\n",
       "</style>\n",
       "<table border=\"1\" class=\"dataframe\">\n",
       "  <thead>\n",
       "    <tr style=\"text-align: right;\">\n",
       "      <th></th>\n",
       "      <th>id</th>\n",
       "      <th>comment_text</th>\n",
       "    </tr>\n",
       "  </thead>\n",
       "  <tbody>\n",
       "    <tr>\n",
       "      <th>0</th>\n",
       "      <td>00001cee341fdb12</td>\n",
       "      <td>Yo bitch Ja Rule is more succesful then you'll...</td>\n",
       "    </tr>\n",
       "    <tr>\n",
       "      <th>1</th>\n",
       "      <td>0000247867823ef7</td>\n",
       "      <td>== From RfC == \\n\\n The title is fine as it is...</td>\n",
       "    </tr>\n",
       "    <tr>\n",
       "      <th>2</th>\n",
       "      <td>00013b17ad220c46</td>\n",
       "      <td>\" \\n\\n == Sources == \\n\\n * Zawe Ashton on Lap...</td>\n",
       "    </tr>\n",
       "    <tr>\n",
       "      <th>3</th>\n",
       "      <td>00017563c3f7919a</td>\n",
       "      <td>:If you have a look back at the source, the in...</td>\n",
       "    </tr>\n",
       "    <tr>\n",
       "      <th>4</th>\n",
       "      <td>00017695ad8997eb</td>\n",
       "      <td>I don't anonymously edit articles at all.</td>\n",
       "    </tr>\n",
       "  </tbody>\n",
       "</table>\n",
       "</div>"
      ],
      "text/plain": [
       "                 id                                       comment_text\n",
       "0  00001cee341fdb12  Yo bitch Ja Rule is more succesful then you'll...\n",
       "1  0000247867823ef7  == From RfC == \\n\\n The title is fine as it is...\n",
       "2  00013b17ad220c46  \" \\n\\n == Sources == \\n\\n * Zawe Ashton on Lap...\n",
       "3  00017563c3f7919a  :If you have a look back at the source, the in...\n",
       "4  00017695ad8997eb          I don't anonymously edit articles at all."
      ]
     },
     "execution_count": 9,
     "metadata": {},
     "output_type": "execute_result"
    }
   ],
   "source": [
    "test_df.head()"
   ]
  },
  {
   "cell_type": "code",
   "execution_count": 11,
   "id": "documented-transport",
   "metadata": {
    "ExecuteTime": {
     "end_time": "2021-03-29T12:19:11.175458Z",
     "start_time": "2021-03-29T12:19:11.155431Z"
    }
   },
   "outputs": [
    {
     "data": {
      "text/html": [
       "<div>\n",
       "<style scoped>\n",
       "    .dataframe tbody tr th:only-of-type {\n",
       "        vertical-align: middle;\n",
       "    }\n",
       "\n",
       "    .dataframe tbody tr th {\n",
       "        vertical-align: top;\n",
       "    }\n",
       "\n",
       "    .dataframe thead th {\n",
       "        text-align: right;\n",
       "    }\n",
       "</style>\n",
       "<table border=\"1\" class=\"dataframe\">\n",
       "  <thead>\n",
       "    <tr style=\"text-align: right;\">\n",
       "      <th></th>\n",
       "      <th>id</th>\n",
       "      <th>comment_text</th>\n",
       "    </tr>\n",
       "  </thead>\n",
       "  <tbody>\n",
       "  </tbody>\n",
       "</table>\n",
       "</div>"
      ],
      "text/plain": [
       "Empty DataFrame\n",
       "Columns: [id, comment_text]\n",
       "Index: []"
      ]
     },
     "execution_count": 11,
     "metadata": {},
     "output_type": "execute_result"
    }
   ],
   "source": [
    "no_comment = test_df[test_df['comment_text'].isnull()]\n",
    "no_comment"
   ]
  },
  {
   "cell_type": "markdown",
   "id": "sapphire-kingston",
   "metadata": {},
   "source": [
    "모든 훈련/테스트 셋은 코멘트를 가지고 있습니다. 따라서 결측치를 정리할 필요가 없습니다."
   ]
  },
  {
   "cell_type": "code",
   "execution_count": 13,
   "id": "continuing-settle",
   "metadata": {
    "ExecuteTime": {
     "end_time": "2021-03-29T12:20:45.516443Z",
     "start_time": "2021-03-29T12:20:45.499444Z"
    }
   },
   "outputs": [
    {
     "name": "stdout",
     "output_type": "stream",
     "text": [
      "Total rows in test is 153164\n",
      "Total rows in train is 159571\n",
      "obscene           8449\n",
      "insult            7877\n",
      "toxic            15294\n",
      "severe_toxic      1595\n",
      "identity_hate     1405\n",
      "threat             478\n",
      "dtype: int64\n"
     ]
    }
   ],
   "source": [
    "# 훈련/테스트 셋의 모든 열을 살펴봅니다.\n",
    "print('Total rows in test is {}'.format(len(test_df)))\n",
    "print('Total rows in train is {}'.format(len(train_df)))\n",
    "print(train_df[cols_target].sum())"
   ]
  },
  {
   "cell_type": "markdown",
   "id": "offshore-special",
   "metadata": {},
   "source": [
    "처음에 언급했던 것처럼 대부분의 데이터가 카테고리 분류가 이루어지지 않았습니다."
   ]
  },
  {
   "cell_type": "code",
   "execution_count": 14,
   "id": "latter-calibration",
   "metadata": {
    "ExecuteTime": {
     "end_time": "2021-03-29T12:21:57.742980Z",
     "start_time": "2021-03-29T12:21:57.651982Z"
    }
   },
   "outputs": [],
   "source": [
    "# 각 열들의 길이를 살펴보고 기록합니다.\n",
    "train_df['char_length'] = train_df['comment_text'].apply(lambda x: len(str(x)))"
   ]
  },
  {
   "cell_type": "code",
   "execution_count": 16,
   "id": "united-fruit",
   "metadata": {
    "ExecuteTime": {
     "end_time": "2021-03-29T12:22:21.783996Z",
     "start_time": "2021-03-29T12:22:21.651999Z"
    }
   },
   "outputs": [
    {
     "data": {
      "image/png": "[encoded data removed]",
      "text/plain": [
       "<Figure size 432x288 with 1 Axes>"
      ]
     },
     "metadata": {},
     "output_type": "display_data"
    }
   ],
   "source": [
    "# 문장 길이에 대한 히스토그램을 그립니다.\n",
    "sns.set()\n",
    "train_df['char_length'].hist()\n",
    "plt.show()"
   ]
  },
  {
   "cell_type": "markdown",
   "id": "generic-carter",
   "metadata": {},
   "source": [
    "대부분의 문장 길이는 500글자 이내입니다. 가장 긴 문장은 5000자 정도 됩니다.\n",
    "\n",
    "다음으로는, 타겟 변수간 상관관계를 살펴보겠습니다."
   ]
  },
  {
   "cell_type": "code",
   "execution_count": 18,
   "id": "prospective-titanium",
   "metadata": {
    "ExecuteTime": {
     "end_time": "2021-03-29T12:28:13.733296Z",
     "start_time": "2021-03-29T12:28:13.723297Z"
    }
   },
   "outputs": [],
   "source": [
    "data = train_df[cols_target]"
   ]
  },
  {
   "cell_type": "code",
   "execution_count": 19,
   "id": "foreign-swing",
   "metadata": {
    "ExecuteTime": {
     "end_time": "2021-03-29T12:29:25.177401Z",
     "start_time": "2021-03-29T12:29:24.879401Z"
    }
   },
   "outputs": [
    {
     "data": {
      "text/plain": [
       "<AxesSubplot:title={'center':'Correlation of feature & targets'}>"
      ]
     },
     "execution_count": 19,
     "metadata": {},
     "output_type": "execute_result"
    },
    {
     "data": {
      "image/png": "[encoded data removed]",
      "text/plain": [
       "<Figure size 504x504 with 2 Axes>"
      ]
     },
     "metadata": {},
     "output_type": "display_data"
    }
   ],
   "source": [
    "colormap = plt.cm.plasma\n",
    "plt.figure(figsize=(7,7))\n",
    "plt.title('Correlation of feature & targets', y=1.05, size=14)\n",
    "sns.heatmap(data.astype(float).corr(), linewidths=0.1, vmax=1.0, square=True, cmap=colormap,\n",
    "            linecolor='white', annot=True)"
   ]
  },
  {
   "cell_type": "markdown",
   "id": "pending-defense",
   "metadata": {},
   "source": [
    "몇 변수간 상관관계가 높음을 알 수 있습니다. (예: 모욕-음담패설은 0.74로 가장 높고, 그 다음으로 독성-음담패설, 독성-모욕 순)\n",
    "\n",
    "테스트 데이터의 글자 길이와 분포는 어떻게 되는지 살펴보겠습니다."
   ]
  },
  {
   "cell_type": "code",
   "execution_count": 20,
   "id": "fancy-warren",
   "metadata": {
    "ExecuteTime": {
     "end_time": "2021-03-29T12:38:59.276951Z",
     "start_time": "2021-03-29T12:38:59.190951Z"
    }
   },
   "outputs": [],
   "source": [
    "test_df['char_length'] = test_df['comment_text'].apply(lambda x: len(str(x)))"
   ]
  },
  {
   "cell_type": "code",
   "execution_count": 21,
   "id": "musical-madness",
   "metadata": {
    "ExecuteTime": {
     "end_time": "2021-03-29T12:39:15.108514Z",
     "start_time": "2021-03-29T12:39:14.980514Z"
    }
   },
   "outputs": [
    {
     "data": {
      "image/png": "[encoded data removed]",
      "text/plain": [
       "<Figure size 432x288 with 1 Axes>"
      ]
     },
     "metadata": {},
     "output_type": "display_data"
    }
   ],
   "source": [
    "plt.figure()\n",
    "plt.hist(test_df['char_length'])\n",
    "plt.show()"
   ]
  },
  {
   "cell_type": "markdown",
   "id": "described-article",
   "metadata": {},
   "source": [
    "테스트 데이터의 길이 분포는 훈련 데이터와 비슷합니다."
   ]
  },
  {
   "cell_type": "markdown",
   "id": "associate-democrat",
   "metadata": {},
   "source": [
    "## Clean up the comment text"
   ]
  },
  {
   "cell_type": "code",
   "execution_count": 22,
   "id": "literary-relative",
   "metadata": {
    "ExecuteTime": {
     "end_time": "2021-03-29T12:41:19.278998Z",
     "start_time": "2021-03-29T12:41:19.268998Z"
    }
   },
   "outputs": [],
   "source": [
    "def clean_text(text):\n",
    "    text = text.lower()\n",
    "    text = re.sub(r\"what's\", \"what is \", text)\n",
    "    text = re.sub(r\"\\'s\", \" \", text)\n",
    "    text = re.sub(r\"\\'ve\", \" have \", text)\n",
    "    text = re.sub(r\"can't\", \"cannot \", text)\n",
    "    text = re.sub(r\"n't\", \" not \", text)\n",
    "    text = re.sub(r\"i'm\", \"i am \", text)\n",
    "    text = re.sub(r\"\\'re\", \" are \", text)\n",
    "    text = re.sub(r\"\\'d\", \" would \", text)\n",
    "    text = re.sub(r\"\\'ll\", \" will \", text)\n",
    "    text = re.sub(r\"\\'scuse\", \" excuse \", text)\n",
    "    text = re.sub('\\W', ' ', text)\n",
    "    text = re.sub('\\s+', ' ', text)\n",
    "    text = text.strip(' ')\n",
    "    return text"
   ]
  },
  {
   "cell_type": "code",
   "execution_count": 23,
   "id": "fabulous-firewall",
   "metadata": {
    "ExecuteTime": {
     "end_time": "2021-03-29T12:42:22.077059Z",
     "start_time": "2021-03-29T12:42:13.815615Z"
    }
   },
   "outputs": [],
   "source": [
    "# train_df의 comment_text 정리\n",
    "train_df['comment_text'] = train_df['comment_text'].map(lambda com: clean_text(com))"
   ]
  },
  {
   "cell_type": "code",
   "execution_count": 24,
   "id": "adjusted-consideration",
   "metadata": {
    "ExecuteTime": {
     "end_time": "2021-03-29T12:42:48.324732Z",
     "start_time": "2021-03-29T12:42:40.708581Z"
    }
   },
   "outputs": [],
   "source": [
    "# test_df의 comment_text 정리\n",
    "test_df['comment_text'] = test_df['comment_text'].map(lambda com: clean_text(com))"
   ]
  },
  {
   "cell_type": "markdown",
   "id": "brutal-briefs",
   "metadata": {},
   "source": [
    "## Define X from entire train & test data for use in tokenization by Vectorizer"
   ]
  },
  {
   "cell_type": "code",
   "execution_count": 25,
   "id": "annual-abortion",
   "metadata": {
    "ExecuteTime": {
     "end_time": "2021-03-29T12:43:15.643270Z",
     "start_time": "2021-03-29T12:43:15.629272Z"
    }
   },
   "outputs": [],
   "source": [
    "train_df = train_df.drop('char_length', axis=1)"
   ]
  },
  {
   "cell_type": "code",
   "execution_count": 26,
   "id": "chief-phone",
   "metadata": {
    "ExecuteTime": {
     "end_time": "2021-03-29T12:43:33.484541Z",
     "start_time": "2021-03-29T12:43:33.467545Z"
    }
   },
   "outputs": [],
   "source": [
    "X = train_df.comment_text\n",
    "test_X = test_df.comment_text"
   ]
  },
  {
   "cell_type": "code",
   "execution_count": 27,
   "id": "blessed-analysis",
   "metadata": {
    "ExecuteTime": {
     "end_time": "2021-03-29T12:43:37.371442Z",
     "start_time": "2021-03-29T12:43:37.364442Z"
    }
   },
   "outputs": [
    {
     "name": "stdout",
     "output_type": "stream",
     "text": [
      "(159571,) (153164,)\n"
     ]
    }
   ],
   "source": [
    "print(X.shape, test_X.shape)"
   ]
  },
  {
   "cell_type": "markdown",
   "id": "included-jacksonville",
   "metadata": {},
   "source": [
    "## Vectorizer the data"
   ]
  },
  {
   "cell_type": "code",
   "execution_count": 28,
   "id": "applied-liabilities",
   "metadata": {
    "ExecuteTime": {
     "end_time": "2021-03-29T12:45:53.947443Z",
     "start_time": "2021-03-29T12:45:53.934443Z"
    }
   },
   "outputs": [
    {
     "data": {
      "text/plain": [
       "TfidfVectorizer(max_features=5000, stop_words='english')"
      ]
     },
     "execution_count": 28,
     "metadata": {},
     "output_type": "execute_result"
    }
   ],
   "source": [
    "# TfidfVectorizer을 임포트하고 인스턴스화\n",
    "from sklearn.feature_extraction.text import CountVectorizer\n",
    "from sklearn.feature_extraction.text import TfidfVectorizer\n",
    "vect = TfidfVectorizer(max_features=5000, stop_words='english')\n",
    "vect"
   ]
  },
  {
   "cell_type": "code",
   "execution_count": 29,
   "id": "hispanic-horse",
   "metadata": {
    "ExecuteTime": {
     "end_time": "2021-03-29T12:46:51.236710Z",
     "start_time": "2021-03-29T12:46:44.749447Z"
    }
   },
   "outputs": [
    {
     "data": {
      "text/plain": [
       "<159571x5000 sparse matrix of type '<class 'numpy.float64'>'\n",
       "\twith 3178792 stored elements in Compressed Sparse Row format>"
      ]
     },
     "execution_count": 29,
     "metadata": {},
     "output_type": "execute_result"
    }
   ],
   "source": [
    "# 훈련 데이터의 단어를 훈련시키고, 문서-단어 매트릭스 생성\n",
    "X_dtm = vect.fit_transform(X)\n",
    "# 문서-단어 매트릭스 실행\n",
    "X_dtm"
   ]
  },
  {
   "cell_type": "code",
   "execution_count": 30,
   "id": "fresh-welcome",
   "metadata": {
    "ExecuteTime": {
     "end_time": "2021-03-29T12:47:32.295499Z",
     "start_time": "2021-03-29T12:47:26.893120Z"
    }
   },
   "outputs": [
    {
     "data": {
      "text/plain": [
       "<153164x5000 sparse matrix of type '<class 'numpy.float64'>'\n",
       "\twith 2618972 stored elements in Compressed Sparse Row format>"
      ]
     },
     "execution_count": 30,
     "metadata": {},
     "output_type": "execute_result"
    }
   ],
   "source": [
    "# 테스트 데이터의 단어를 훈련시키고, 문서-단어 매트릭스 생성\n",
    "test_X_dtm = vect.transform(test_X)\n",
    "# 문서-단어 매트릭스 실행\n",
    "test_X_dtm"
   ]
  },
  {
   "cell_type": "markdown",
   "id": "exact-samuel",
   "metadata": {},
   "source": [
    "## Solving a multi-label classification problem\n",
    "다중 레이블 분류 문제에 접근하는 한 가지 방법은 문제를 별도의 단일 클래스 분류기 문제로 변환하는 것입니다. 이를 '문제 변환'이라고 합니다. 세 가지 방법이 있습니다.\n",
    "- 이진 관련성: 각 레이블을 별도의 단일 분류 문제로 취급하는 가장 간단한 방법입니다. 그러나 여기서 중요한 가정은 레이블 사이에 상관 관계가 없다는 것입니다.\n",
    "- 분류기 체인: 이 방법은 첫 번째 분류기가 입력 X에 대해 훈련됩니다. 그 후 후속 분류기는 체인에 있는 입력 X와 모든 이전 분류기의 예측에 대해 훈련됩니다. 이 방법은 이전 타겟 변수 간의 상관 관계에서 신호를 끌어옵니다.\n",
    "- 레이블 파워셋: 이 방법은 문제를 모든 고유한 레이블 조합인 다중 클래스 문제로 변환합니다. 이 문제처럼 6개의 레이블이 있는 경우, 레이블 파워셋은 실제로 이 문제를 2^6, 64 클래스 문제로 바꿀 수 있습니다."
   ]
  },
  {
   "cell_type": "markdown",
   "id": "empirical-needle",
   "metadata": {},
   "source": [
    "## Binary Relevance - build a multi-label classifier using Logistic Regression"
   ]
  },
  {
   "cell_type": "code",
   "execution_count": 31,
   "id": "chief-contents",
   "metadata": {
    "ExecuteTime": {
     "end_time": "2021-03-29T12:55:11.311498Z",
     "start_time": "2021-03-29T12:55:02.047532Z"
    }
   },
   "outputs": [
    {
     "name": "stdout",
     "output_type": "stream",
     "text": [
      "... Processing obscene\n"
     ]
    },
    {
     "name": "stderr",
     "output_type": "stream",
     "text": [
      "C:\\ProgramData\\Anaconda3\\envs\\tens_2g\\lib\\site-packages\\sklearn\\linear_model\\_logistic.py:765: ConvergenceWarning: lbfgs failed to converge (status=1):\n",
      "STOP: TOTAL NO. of ITERATIONS REACHED LIMIT.\n",
      "\n",
      "Increase the number of iterations (max_iter) or scale the data as shown in:\n",
      "    https://scikit-learn.org/stable/modules/preprocessing.html\n",
      "Please also refer to the documentation for alternative solver options:\n",
      "    https://scikit-learn.org/stable/modules/linear_model.html#logistic-regression\n",
      "  extra_warning_msg=_LOGISTIC_SOLVER_CONVERGENCE_MSG)\n"
     ]
    },
    {
     "name": "stdout",
     "output_type": "stream",
     "text": [
      "Training accuracy is 0.983223768729907\n",
      "... Processing insult\n"
     ]
    },
    {
     "name": "stderr",
     "output_type": "stream",
     "text": [
      "C:\\ProgramData\\Anaconda3\\envs\\tens_2g\\lib\\site-packages\\sklearn\\linear_model\\_logistic.py:765: ConvergenceWarning: lbfgs failed to converge (status=1):\n",
      "STOP: TOTAL NO. of ITERATIONS REACHED LIMIT.\n",
      "\n",
      "Increase the number of iterations (max_iter) or scale the data as shown in:\n",
      "    https://scikit-learn.org/stable/modules/preprocessing.html\n",
      "Please also refer to the documentation for alternative solver options:\n",
      "    https://scikit-learn.org/stable/modules/linear_model.html#logistic-regression\n",
      "  extra_warning_msg=_LOGISTIC_SOLVER_CONVERGENCE_MSG)\n"
     ]
    },
    {
     "name": "stdout",
     "output_type": "stream",
     "text": [
      "Training accuracy is 0.9755344016143285\n",
      "... Processing toxic\n"
     ]
    },
    {
     "name": "stderr",
     "output_type": "stream",
     "text": [
      "C:\\ProgramData\\Anaconda3\\envs\\tens_2g\\lib\\site-packages\\sklearn\\linear_model\\_logistic.py:765: ConvergenceWarning: lbfgs failed to converge (status=1):\n",
      "STOP: TOTAL NO. of ITERATIONS REACHED LIMIT.\n",
      "\n",
      "Increase the number of iterations (max_iter) or scale the data as shown in:\n",
      "    https://scikit-learn.org/stable/modules/preprocessing.html\n",
      "Please also refer to the documentation for alternative solver options:\n",
      "    https://scikit-learn.org/stable/modules/linear_model.html#logistic-regression\n",
      "  extra_warning_msg=_LOGISTIC_SOLVER_CONVERGENCE_MSG)\n"
     ]
    },
    {
     "name": "stdout",
     "output_type": "stream",
     "text": [
      "Training accuracy is 0.9639533499194716\n",
      "... Processing severe_toxic\n"
     ]
    },
    {
     "name": "stderr",
     "output_type": "stream",
     "text": [
      "C:\\ProgramData\\Anaconda3\\envs\\tens_2g\\lib\\site-packages\\sklearn\\linear_model\\_logistic.py:765: ConvergenceWarning: lbfgs failed to converge (status=1):\n",
      "STOP: TOTAL NO. of ITERATIONS REACHED LIMIT.\n",
      "\n",
      "Increase the number of iterations (max_iter) or scale the data as shown in:\n",
      "    https://scikit-learn.org/stable/modules/preprocessing.html\n",
      "Please also refer to the documentation for alternative solver options:\n",
      "    https://scikit-learn.org/stable/modules/linear_model.html#logistic-regression\n",
      "  extra_warning_msg=_LOGISTIC_SOLVER_CONVERGENCE_MSG)\n"
     ]
    },
    {
     "name": "stdout",
     "output_type": "stream",
     "text": [
      "Training accuracy is 0.9920536939669489\n",
      "... Processing identity_hate\n"
     ]
    },
    {
     "name": "stderr",
     "output_type": "stream",
     "text": [
      "C:\\ProgramData\\Anaconda3\\envs\\tens_2g\\lib\\site-packages\\sklearn\\linear_model\\_logistic.py:765: ConvergenceWarning: lbfgs failed to converge (status=1):\n",
      "STOP: TOTAL NO. of ITERATIONS REACHED LIMIT.\n",
      "\n",
      "Increase the number of iterations (max_iter) or scale the data as shown in:\n",
      "    https://scikit-learn.org/stable/modules/preprocessing.html\n",
      "Please also refer to the documentation for alternative solver options:\n",
      "    https://scikit-learn.org/stable/modules/linear_model.html#logistic-regression\n",
      "  extra_warning_msg=_LOGISTIC_SOLVER_CONVERGENCE_MSG)\n"
     ]
    },
    {
     "name": "stdout",
     "output_type": "stream",
     "text": [
      "Training accuracy is 0.9939776024465599\n",
      "... Processing threat\n",
      "Training accuracy is 0.9981199591404453\n"
     ]
    },
    {
     "name": "stderr",
     "output_type": "stream",
     "text": [
      "C:\\ProgramData\\Anaconda3\\envs\\tens_2g\\lib\\site-packages\\sklearn\\linear_model\\_logistic.py:765: ConvergenceWarning: lbfgs failed to converge (status=1):\n",
      "STOP: TOTAL NO. of ITERATIONS REACHED LIMIT.\n",
      "\n",
      "Increase the number of iterations (max_iter) or scale the data as shown in:\n",
      "    https://scikit-learn.org/stable/modules/preprocessing.html\n",
      "Please also refer to the documentation for alternative solver options:\n",
      "    https://scikit-learn.org/stable/modules/linear_model.html#logistic-regression\n",
      "  extra_warning_msg=_LOGISTIC_SOLVER_CONVERGENCE_MSG)\n"
     ]
    }
   ],
   "source": [
    "# 로지스틱 모델 임포트 및 인스턴스화\n",
    "from sklearn.linear_model import LogisticRegression\n",
    "from sklearn.metrics import accuracy_score\n",
    "logreg = LogisticRegression(C=12.0)\n",
    "\n",
    "# 제출 파일 생성\n",
    "submission_binary = pd.read_csv('./input/sample_submission.csv')\n",
    "\n",
    "for label in cols_target:\n",
    "    print('... Processing {}'.format(label))\n",
    "    y = train_df[label]\n",
    "    # X_dtm과 y를 사용하여 모델 훈련\n",
    "    logreg.fit(X_dtm, y)\n",
    "    # 훈련 정확도 측정\n",
    "    y_pred_X = logreg.predict(X_dtm)\n",
    "    print('Training accuracy is {}'.format(accuracy_score(y, y_pred_X)))\n",
    "    # 예측 확률 측정\n",
    "    test_y_prob = logreg.predict_proba(test_X_dtm)[:,1]\n",
    "    submission_binary[label] = test_y_prob"
   ]
  },
  {
   "cell_type": "markdown",
   "id": "going-vehicle",
   "metadata": {},
   "source": [
    "## Create submission file"
   ]
  },
  {
   "cell_type": "code",
   "execution_count": 32,
   "id": "beneficial-container",
   "metadata": {
    "ExecuteTime": {
     "end_time": "2021-03-29T12:55:36.019545Z",
     "start_time": "2021-03-29T12:55:35.997677Z"
    }
   },
   "outputs": [
    {
     "data": {
      "text/html": [
       "<div>\n",
       "<style scoped>\n",
       "    .dataframe tbody tr th:only-of-type {\n",
       "        vertical-align: middle;\n",
       "    }\n",
       "\n",
       "    .dataframe tbody tr th {\n",
       "        vertical-align: top;\n",
       "    }\n",
       "\n",
       "    .dataframe thead th {\n",
       "        text-align: right;\n",
       "    }\n",
       "</style>\n",
       "<table border=\"1\" class=\"dataframe\">\n",
       "  <thead>\n",
       "    <tr style=\"text-align: right;\">\n",
       "      <th></th>\n",
       "      <th>id</th>\n",
       "      <th>toxic</th>\n",
       "      <th>severe_toxic</th>\n",
       "      <th>obscene</th>\n",
       "      <th>threat</th>\n",
       "      <th>insult</th>\n",
       "      <th>identity_hate</th>\n",
       "    </tr>\n",
       "  </thead>\n",
       "  <tbody>\n",
       "    <tr>\n",
       "      <th>0</th>\n",
       "      <td>00001cee341fdb12</td>\n",
       "      <td>0.999957</td>\n",
       "      <td>0.461375</td>\n",
       "      <td>0.999965</td>\n",
       "      <td>0.050123</td>\n",
       "      <td>0.972258</td>\n",
       "      <td>0.430870</td>\n",
       "    </tr>\n",
       "    <tr>\n",
       "      <th>1</th>\n",
       "      <td>0000247867823ef7</td>\n",
       "      <td>0.002462</td>\n",
       "      <td>0.000442</td>\n",
       "      <td>0.000402</td>\n",
       "      <td>0.000324</td>\n",
       "      <td>0.003252</td>\n",
       "      <td>0.000408</td>\n",
       "    </tr>\n",
       "    <tr>\n",
       "      <th>2</th>\n",
       "      <td>00013b17ad220c46</td>\n",
       "      <td>0.010794</td>\n",
       "      <td>0.000117</td>\n",
       "      <td>0.003221</td>\n",
       "      <td>0.000035</td>\n",
       "      <td>0.007652</td>\n",
       "      <td>0.001248</td>\n",
       "    </tr>\n",
       "    <tr>\n",
       "      <th>3</th>\n",
       "      <td>00017563c3f7919a</td>\n",
       "      <td>0.001345</td>\n",
       "      <td>0.002154</td>\n",
       "      <td>0.000977</td>\n",
       "      <td>0.000117</td>\n",
       "      <td>0.000835</td>\n",
       "      <td>0.000034</td>\n",
       "    </tr>\n",
       "    <tr>\n",
       "      <th>4</th>\n",
       "      <td>00017695ad8997eb</td>\n",
       "      <td>0.019416</td>\n",
       "      <td>0.000811</td>\n",
       "      <td>0.001262</td>\n",
       "      <td>0.000602</td>\n",
       "      <td>0.003271</td>\n",
       "      <td>0.000565</td>\n",
       "    </tr>\n",
       "  </tbody>\n",
       "</table>\n",
       "</div>"
      ],
      "text/plain": [
       "                 id     toxic  severe_toxic   obscene    threat    insult  \\\n",
       "0  00001cee341fdb12  0.999957      0.461375  0.999965  0.050123  0.972258   \n",
       "1  0000247867823ef7  0.002462      0.000442  0.000402  0.000324  0.003252   \n",
       "2  00013b17ad220c46  0.010794      0.000117  0.003221  0.000035  0.007652   \n",
       "3  00017563c3f7919a  0.001345      0.002154  0.000977  0.000117  0.000835   \n",
       "4  00017695ad8997eb  0.019416      0.000811  0.001262  0.000602  0.003271   \n",
       "\n",
       "   identity_hate  \n",
       "0       0.430870  \n",
       "1       0.000408  \n",
       "2       0.001248  \n",
       "3       0.000034  \n",
       "4       0.000565  "
      ]
     },
     "execution_count": 32,
     "metadata": {},
     "output_type": "execute_result"
    }
   ],
   "source": [
    "submission_binary.head()"
   ]
  },
  {
   "cell_type": "code",
   "execution_count": 33,
   "id": "broken-california",
   "metadata": {
    "ExecuteTime": {
     "end_time": "2021-03-29T12:55:58.800928Z",
     "start_time": "2021-03-29T12:55:57.525285Z"
    }
   },
   "outputs": [],
   "source": [
    "# 제출 파일 생성\n",
    "submission_binary.to_csv('submission_binary.csv', index=False)"
   ]
  },
  {
   "cell_type": "markdown",
   "id": "tired-commons",
   "metadata": {},
   "source": [
    "## Classifier Chains - build a multi-label classifier using Logistic Regression"
   ]
  },
  {
   "cell_type": "code",
   "execution_count": 36,
   "id": "flying-enclosure",
   "metadata": {
    "ExecuteTime": {
     "end_time": "2021-03-29T13:02:31.071777Z",
     "start_time": "2021-03-29T13:02:30.965778Z"
    }
   },
   "outputs": [],
   "source": [
    "# 제출 파일 생성\n",
    "submission_chains = pd.read_csv('./input/sample_submission.csv')\n",
    "\n",
    "# 피쳐 추가 함수 생성\n",
    "def add_feature(X, feature_to_add):\n",
    "    \"\"\"\n",
    "    피쳐가 추가된 희소 피쳐 행렬 반환\n",
    "    feature_to_dd는 피쳐의 리스트 형태가 될 수 있음\n",
    "    \"\"\"\n",
    "    from scipy.sparse import csr_matrix, hstack\n",
    "    return hstack([X, csr_matrix(feature_to_add).T], 'csr')"
   ]
  },
  {
   "cell_type": "code",
   "execution_count": 37,
   "id": "heard-lucas",
   "metadata": {
    "ExecuteTime": {
     "end_time": "2021-03-29T13:02:41.164898Z",
     "start_time": "2021-03-29T13:02:31.125416Z"
    }
   },
   "outputs": [
    {
     "name": "stdout",
     "output_type": "stream",
     "text": [
      "... Processing obscene\n"
     ]
    },
    {
     "name": "stderr",
     "output_type": "stream",
     "text": [
      "C:\\ProgramData\\Anaconda3\\envs\\tens_2g\\lib\\site-packages\\sklearn\\linear_model\\_logistic.py:765: ConvergenceWarning: lbfgs failed to converge (status=1):\n",
      "STOP: TOTAL NO. of ITERATIONS REACHED LIMIT.\n",
      "\n",
      "Increase the number of iterations (max_iter) or scale the data as shown in:\n",
      "    https://scikit-learn.org/stable/modules/preprocessing.html\n",
      "Please also refer to the documentation for alternative solver options:\n",
      "    https://scikit-learn.org/stable/modules/linear_model.html#logistic-regression\n",
      "  extra_warning_msg=_LOGISTIC_SOLVER_CONVERGENCE_MSG)\n"
     ]
    },
    {
     "name": "stdout",
     "output_type": "stream",
     "text": [
      "Training Accuracy is 0.983223768729907\n",
      "Shape of X_dtm is now (159571, 5001)\n",
      "Shape of test_X_dtm is now (153164, 5001)\n",
      "... Processing insult\n"
     ]
    },
    {
     "name": "stderr",
     "output_type": "stream",
     "text": [
      "C:\\ProgramData\\Anaconda3\\envs\\tens_2g\\lib\\site-packages\\sklearn\\linear_model\\_logistic.py:765: ConvergenceWarning: lbfgs failed to converge (status=1):\n",
      "STOP: TOTAL NO. of ITERATIONS REACHED LIMIT.\n",
      "\n",
      "Increase the number of iterations (max_iter) or scale the data as shown in:\n",
      "    https://scikit-learn.org/stable/modules/preprocessing.html\n",
      "Please also refer to the documentation for alternative solver options:\n",
      "    https://scikit-learn.org/stable/modules/linear_model.html#logistic-regression\n",
      "  extra_warning_msg=_LOGISTIC_SOLVER_CONVERGENCE_MSG)\n"
     ]
    },
    {
     "name": "stdout",
     "output_type": "stream",
     "text": [
      "Training Accuracy is 0.9818137380852411\n",
      "Shape of X_dtm is now (159571, 5002)\n",
      "Shape of test_X_dtm is now (153164, 5002)\n",
      "... Processing toxic\n"
     ]
    },
    {
     "name": "stderr",
     "output_type": "stream",
     "text": [
      "C:\\ProgramData\\Anaconda3\\envs\\tens_2g\\lib\\site-packages\\sklearn\\linear_model\\_logistic.py:765: ConvergenceWarning: lbfgs failed to converge (status=1):\n",
      "STOP: TOTAL NO. of ITERATIONS REACHED LIMIT.\n",
      "\n",
      "Increase the number of iterations (max_iter) or scale the data as shown in:\n",
      "    https://scikit-learn.org/stable/modules/preprocessing.html\n",
      "Please also refer to the documentation for alternative solver options:\n",
      "    https://scikit-learn.org/stable/modules/linear_model.html#logistic-regression\n",
      "  extra_warning_msg=_LOGISTIC_SOLVER_CONVERGENCE_MSG)\n"
     ]
    },
    {
     "name": "stdout",
     "output_type": "stream",
     "text": [
      "Training Accuracy is 0.9675692951726818\n",
      "Shape of X_dtm is now (159571, 5003)\n",
      "Shape of test_X_dtm is now (153164, 5003)\n",
      "... Processing severe_toxic\n"
     ]
    },
    {
     "name": "stderr",
     "output_type": "stream",
     "text": [
      "C:\\ProgramData\\Anaconda3\\envs\\tens_2g\\lib\\site-packages\\sklearn\\linear_model\\_logistic.py:765: ConvergenceWarning: lbfgs failed to converge (status=1):\n",
      "STOP: TOTAL NO. of ITERATIONS REACHED LIMIT.\n",
      "\n",
      "Increase the number of iterations (max_iter) or scale the data as shown in:\n",
      "    https://scikit-learn.org/stable/modules/preprocessing.html\n",
      "Please also refer to the documentation for alternative solver options:\n",
      "    https://scikit-learn.org/stable/modules/linear_model.html#logistic-regression\n",
      "  extra_warning_msg=_LOGISTIC_SOLVER_CONVERGENCE_MSG)\n"
     ]
    },
    {
     "name": "stdout",
     "output_type": "stream",
     "text": [
      "Training Accuracy is 0.9930689160311084\n",
      "Shape of X_dtm is now (159571, 5004)\n",
      "Shape of test_X_dtm is now (153164, 5004)\n",
      "... Processing identity_hate\n"
     ]
    },
    {
     "name": "stderr",
     "output_type": "stream",
     "text": [
      "C:\\ProgramData\\Anaconda3\\envs\\tens_2g\\lib\\site-packages\\sklearn\\linear_model\\_logistic.py:765: ConvergenceWarning: lbfgs failed to converge (status=1):\n",
      "STOP: TOTAL NO. of ITERATIONS REACHED LIMIT.\n",
      "\n",
      "Increase the number of iterations (max_iter) or scale the data as shown in:\n",
      "    https://scikit-learn.org/stable/modules/preprocessing.html\n",
      "Please also refer to the documentation for alternative solver options:\n",
      "    https://scikit-learn.org/stable/modules/linear_model.html#logistic-regression\n",
      "  extra_warning_msg=_LOGISTIC_SOLVER_CONVERGENCE_MSG)\n"
     ]
    },
    {
     "name": "stdout",
     "output_type": "stream",
     "text": [
      "Training Accuracy is 0.995600704388642\n",
      "Shape of X_dtm is now (159571, 5005)\n",
      "Shape of test_X_dtm is now (153164, 5005)\n",
      "... Processing threat\n",
      "Training Accuracy is 0.9985649021438733\n",
      "Shape of X_dtm is now (159571, 5006)\n",
      "Shape of test_X_dtm is now (153164, 5006)\n"
     ]
    },
    {
     "name": "stderr",
     "output_type": "stream",
     "text": [
      "C:\\ProgramData\\Anaconda3\\envs\\tens_2g\\lib\\site-packages\\sklearn\\linear_model\\_logistic.py:765: ConvergenceWarning: lbfgs failed to converge (status=1):\n",
      "STOP: TOTAL NO. of ITERATIONS REACHED LIMIT.\n",
      "\n",
      "Increase the number of iterations (max_iter) or scale the data as shown in:\n",
      "    https://scikit-learn.org/stable/modules/preprocessing.html\n",
      "Please also refer to the documentation for alternative solver options:\n",
      "    https://scikit-learn.org/stable/modules/linear_model.html#logistic-regression\n",
      "  extra_warning_msg=_LOGISTIC_SOLVER_CONVERGENCE_MSG)\n"
     ]
    }
   ],
   "source": [
    "for label in cols_target:\n",
    "    print('... Processing {}'.format(label))\n",
    "    y = train_df[label]\n",
    "    # X_dtm과 y를 사용하여 모델 훈련\n",
    "    logreg.fit(X_dtm, y)\n",
    "    # 훈련 정확도 계산\n",
    "    y_pred_X = logreg.predict(X_dtm)\n",
    "    print('Training Accuracy is {}'.format(accuracy_score(y, y_pred_X)))\n",
    "    # test_X 로 부터 예측\n",
    "    test_y = logreg.predict(test_X_dtm)\n",
    "    test_y_prob = logreg.predict_proba(test_X_dtm)[:,1]\n",
    "    submission_chains[label] = test_y_prob\n",
    "    # 현재 레이블을 X_dtm에 체인\n",
    "    X_dtm = add_feature(X_dtm, y)\n",
    "    print(\"Shape of X_dtm is now {}\".format(X_dtm.shape))\n",
    "    # 현재 레이블 예측을 test_X_dtm에 체인\n",
    "    test_X_dtm = add_feature(test_X_dtm, test_y)\n",
    "    print('Shape of test_X_dtm is now {}'.format(test_X_dtm.shape))"
   ]
  },
  {
   "cell_type": "markdown",
   "id": "favorite-tender",
   "metadata": {},
   "source": [
    "## Create submission file"
   ]
  },
  {
   "cell_type": "code",
   "execution_count": 38,
   "id": "ranging-laser",
   "metadata": {
    "ExecuteTime": {
     "end_time": "2021-03-29T13:04:18.300025Z",
     "start_time": "2021-03-29T13:04:18.277025Z"
    }
   },
   "outputs": [
    {
     "data": {
      "text/html": [
       "<div>\n",
       "<style scoped>\n",
       "    .dataframe tbody tr th:only-of-type {\n",
       "        vertical-align: middle;\n",
       "    }\n",
       "\n",
       "    .dataframe tbody tr th {\n",
       "        vertical-align: top;\n",
       "    }\n",
       "\n",
       "    .dataframe thead th {\n",
       "        text-align: right;\n",
       "    }\n",
       "</style>\n",
       "<table border=\"1\" class=\"dataframe\">\n",
       "  <thead>\n",
       "    <tr style=\"text-align: right;\">\n",
       "      <th></th>\n",
       "      <th>id</th>\n",
       "      <th>toxic</th>\n",
       "      <th>severe_toxic</th>\n",
       "      <th>obscene</th>\n",
       "      <th>threat</th>\n",
       "      <th>insult</th>\n",
       "      <th>identity_hate</th>\n",
       "    </tr>\n",
       "  </thead>\n",
       "  <tbody>\n",
       "    <tr>\n",
       "      <th>0</th>\n",
       "      <td>00001cee341fdb12</td>\n",
       "      <td>0.999974</td>\n",
       "      <td>4.160071e-01</td>\n",
       "      <td>0.999965</td>\n",
       "      <td>0.193270</td>\n",
       "      <td>0.893688</td>\n",
       "      <td>0.601750</td>\n",
       "    </tr>\n",
       "    <tr>\n",
       "      <th>1</th>\n",
       "      <td>0000247867823ef7</td>\n",
       "      <td>0.002636</td>\n",
       "      <td>8.248506e-10</td>\n",
       "      <td>0.000402</td>\n",
       "      <td>0.000072</td>\n",
       "      <td>0.003677</td>\n",
       "      <td>0.000137</td>\n",
       "    </tr>\n",
       "    <tr>\n",
       "      <th>2</th>\n",
       "      <td>00013b17ad220c46</td>\n",
       "      <td>0.007978</td>\n",
       "      <td>2.287001e-10</td>\n",
       "      <td>0.003221</td>\n",
       "      <td>0.000009</td>\n",
       "      <td>0.004084</td>\n",
       "      <td>0.000527</td>\n",
       "    </tr>\n",
       "    <tr>\n",
       "      <th>3</th>\n",
       "      <td>00017563c3f7919a</td>\n",
       "      <td>0.001130</td>\n",
       "      <td>1.253288e-08</td>\n",
       "      <td>0.000977</td>\n",
       "      <td>0.000063</td>\n",
       "      <td>0.000569</td>\n",
       "      <td>0.000004</td>\n",
       "    </tr>\n",
       "    <tr>\n",
       "      <th>4</th>\n",
       "      <td>00017695ad8997eb</td>\n",
       "      <td>0.019876</td>\n",
       "      <td>1.205648e-09</td>\n",
       "      <td>0.001262</td>\n",
       "      <td>0.000158</td>\n",
       "      <td>0.001547</td>\n",
       "      <td>0.000103</td>\n",
       "    </tr>\n",
       "  </tbody>\n",
       "</table>\n",
       "</div>"
      ],
      "text/plain": [
       "                 id     toxic  severe_toxic   obscene    threat    insult  \\\n",
       "0  00001cee341fdb12  0.999974  4.160071e-01  0.999965  0.193270  0.893688   \n",
       "1  0000247867823ef7  0.002636  8.248506e-10  0.000402  0.000072  0.003677   \n",
       "2  00013b17ad220c46  0.007978  2.287001e-10  0.003221  0.000009  0.004084   \n",
       "3  00017563c3f7919a  0.001130  1.253288e-08  0.000977  0.000063  0.000569   \n",
       "4  00017695ad8997eb  0.019876  1.205648e-09  0.001262  0.000158  0.001547   \n",
       "\n",
       "   identity_hate  \n",
       "0       0.601750  \n",
       "1       0.000137  \n",
       "2       0.000527  \n",
       "3       0.000004  \n",
       "4       0.000103  "
      ]
     },
     "execution_count": 38,
     "metadata": {},
     "output_type": "execute_result"
    }
   ],
   "source": [
    "submission_chains.head()"
   ]
  },
  {
   "cell_type": "code",
   "execution_count": 39,
   "id": "behind-collins",
   "metadata": {
    "ExecuteTime": {
     "end_time": "2021-03-29T13:04:35.496503Z",
     "start_time": "2021-03-29T13:04:34.204782Z"
    }
   },
   "outputs": [],
   "source": [
    "# 제출 파일 생성\n",
    "submission_chains.to_csv('submission_chains.csv', index=False)"
   ]
  },
  {
   "cell_type": "markdown",
   "id": "hairy-austria",
   "metadata": {},
   "source": [
    "## Create a combined submission"
   ]
  },
  {
   "cell_type": "code",
   "execution_count": 40,
   "id": "oriental-double",
   "metadata": {
    "ExecuteTime": {
     "end_time": "2021-03-29T13:05:02.975024Z",
     "start_time": "2021-03-29T13:05:02.855026Z"
    }
   },
   "outputs": [],
   "source": [
    "# 제출 파일 생성\n",
    "submission_combined = pd.read_csv('./input/sample_submission.csv')"
   ]
  },
  {
   "cell_type": "markdown",
   "id": "hollow-firewall",
   "metadata": {},
   "source": [
    "이진 관련성과 분류기 체인을 평균함으로써 결합합니다."
   ]
  },
  {
   "cell_type": "code",
   "execution_count": null,
   "id": "logical-jefferson",
   "metadata": {},
   "outputs": [],
   "source": [
    "for label in cols_target:\n",
    "    submission_combined[label] = 0.5 * (su)"
   ]
  },
  {
   "cell_type": "code",
   "execution_count": null,
   "id": "selected-reference",
   "metadata": {},
   "outputs": [],
   "source": []
  },
  {
   "cell_type": "code",
   "execution_count": null,
   "id": "spiritual-column",
   "metadata": {},
   "outputs": [],
   "source": []
  },
  {
   "cell_type": "code",
   "execution_count": null,
   "id": "rough-parade",
   "metadata": {},
   "outputs": [],
   "source": []
  },
  {
   "cell_type": "code",
   "execution_count": null,
   "id": "alpine-likelihood",
   "metadata": {},
   "outputs": [],
   "source": []
  },
  {
   "cell_type": "code",
   "execution_count": null,
   "id": "joined-hygiene",
   "metadata": {},
   "outputs": [],
   "source": []
  },
  {
   "cell_type": "code",
   "execution_count": null,
   "id": "fiscal-decline",
   "metadata": {},
   "outputs": [],
   "source": []
  },
  {
   "cell_type": "code",
   "execution_count": null,
   "id": "pressing-trader",
   "metadata": {},
   "outputs": [],
   "source": []
  },
  {
   "cell_type": "code",
   "execution_count": null,
   "id": "baking-crystal",
   "metadata": {},
   "outputs": [],
   "source": []
  },
  {
   "cell_type": "code",
   "execution_count": null,
   "id": "cleared-blackjack",
   "metadata": {},
   "outputs": [],
   "source": []
  },
  {
   "cell_type": "code",
   "execution_count": null,
   "id": "nutritional-mercury",
   "metadata": {},
   "outputs": [],
   "source": []
  },
  {
   "cell_type": "code",
   "execution_count": null,
   "id": "distributed-companion",
   "metadata": {},
   "outputs": [],
   "source": []
  },
  {
   "cell_type": "code",
   "execution_count": null,
   "id": "sound-plate",
   "metadata": {},
   "outputs": [],
   "source": []
  },
  {
   "cell_type": "code",
   "execution_count": null,
   "id": "adapted-communist",
   "metadata": {},
   "outputs": [],
   "source": []
  },
  {
   "cell_type": "code",
   "execution_count": null,
   "id": "according-means",
   "metadata": {},
   "outputs": [],
   "source": []
  },
  {
   "cell_type": "code",
   "execution_count": null,
   "id": "moral-remainder",
   "metadata": {},
   "outputs": [],
   "source": []
  },
  {
   "cell_type": "code",
   "execution_count": null,
   "id": "monthly-horizontal",
   "metadata": {},
   "outputs": [],
   "source": []
  },
  {
   "cell_type": "code",
   "execution_count": null,
   "id": "specialized-chile",
   "metadata": {},
   "outputs": [],
   "source": []
  },
  {
   "cell_type": "code",
   "execution_count": null,
   "id": "cognitive-martin",
   "metadata": {},
   "outputs": [],
   "source": []
  }
 ],
 "metadata": {
  "kernelspec": {
   "display_name": "Python 3",
   "language": "python",
   "name": "python3"
  },
  "language_info": {
   "codemirror_mode": {
    "name": "ipython",
    "version": 3
   },
   "file_extension": ".py",
   "mimetype": "text/x-python",
   "name": "python",
   "nbconvert_exporter": "python",
   "pygments_lexer": "ipython3",
   "version": "3.7.10"
  },
  "toc": {
   "base_numbering": 1,
   "nav_menu": {},
   "number_sections": false,
   "sideBar": true,
   "skip_h1_title": false,
   "title_cell": "Table of Contents",
   "title_sidebar": "Contents",
   "toc_cell": false,
   "toc_position": {},
   "toc_section_display": true,
   "toc_window_display": false
  }
 },
 "nbformat": 4,
 "nbformat_minor": 5
}
