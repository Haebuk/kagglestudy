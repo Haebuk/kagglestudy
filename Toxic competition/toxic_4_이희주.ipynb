{
 "cells": [
  {
   "cell_type": "markdown",
   "metadata": {},
   "source": [
    "- competition/dataset : [https://www.kaggle.com/c/jigsaw-toxic-comment-classification-challenge/data](https://www.kaggle.com/c/jigsaw-toxic-comment-classification-challenge/data)\n",
    "- date : 2021/03/29\n",
    "- original : [https://www.kaggle.com/rhodiumbeng/classifying-multi-label-comments-0-9741-lb](https://www.kaggle.com/rhodiumbeng/classifying-multi-label-comments-0-9741-lb)"
   ]
  },
  {
   "cell_type": "markdown",
   "metadata": {},
   "source": [
    "## Classifying multi-label comments (0.9741 lb)"
   ]
  },
  {
   "cell_type": "markdown",
   "metadata": {
    "execution": {
     "iopub.execute_input": "2021-01-19T23:23:23.804833Z",
     "iopub.status.busy": "2021-01-19T23:23:23.803834Z",
     "iopub.status.idle": "2021-01-19T23:23:23.811814Z",
     "shell.execute_reply": "2021-01-19T23:23:23.810817Z",
     "shell.execute_reply.started": "2021-01-19T23:23:23.804833Z"
    }
   },
   "source": [
    "**✏ 필사 1회** "
   ]
  },
  {
   "cell_type": "markdown",
   "metadata": {},
   "source": [
    "**참고한 커널:**  \n",
    "- kernel by Jeremy Howard : [NB-SVM strong linear baseline + EDA (0.052 lb)](https://www.kaggle.com/joaomarcosgris/nb-svm-strong-linear-baseline-eda-0-052-lb/comments)\n",
    "- kernel by Issac : [logistic regression (0.055 lb)](https://www.kaggle.com/ginotesei/logistic-regression-0-055-lb)\n",
    "- [Solving Multi-Label Classification problems](https://www.analyticsvidhya.com/blog/2017/08/introduction-to-multi-label-classification/)"
   ]
  },
  {
   "cell_type": "code",
   "execution_count": 1,
   "metadata": {
    "execution": {
     "iopub.execute_input": "2021-03-29T22:57:16.269811Z",
     "iopub.status.busy": "2021-03-29T22:57:16.268813Z",
     "iopub.status.idle": "2021-03-29T22:57:22.232857Z",
     "shell.execute_reply": "2021-03-29T22:57:22.231860Z",
     "shell.execute_reply.started": "2021-03-29T22:57:16.269811Z"
    }
   },
   "outputs": [],
   "source": [
    "import pandas as pd\n",
    "import numpy as np\n",
    "import matplotlib.pyplot as plt\n",
    "import seaborn as sns\n",
    "import re\n",
    "import warnings\n",
    "warnings.filterwarnings('ignore')\n",
    "\n",
    "%matplotlib inline"
   ]
  },
  {
   "cell_type": "markdown",
   "metadata": {},
   "source": [
    "### Load training and test data"
   ]
  },
  {
   "cell_type": "code",
   "execution_count": 2,
   "metadata": {
    "execution": {
     "iopub.execute_input": "2021-03-29T22:57:22.235851Z",
     "iopub.status.busy": "2021-03-29T22:57:22.234853Z",
     "iopub.status.idle": "2021-03-29T22:57:26.695919Z",
     "shell.execute_reply": "2021-03-29T22:57:26.694920Z",
     "shell.execute_reply.started": "2021-03-29T22:57:22.235851Z"
    }
   },
   "outputs": [],
   "source": [
    "train_df = pd.read_csv('data/train.csv')\n",
    "test_df = pd.read_csv('data/test.csv')"
   ]
  },
  {
   "cell_type": "markdown",
   "metadata": {},
   "source": [
    "### Examine the data (EDA)"
   ]
  },
  {
   "cell_type": "code",
   "execution_count": 3,
   "metadata": {
    "execution": {
     "iopub.execute_input": "2021-03-29T22:57:26.700906Z",
     "iopub.status.busy": "2021-03-29T22:57:26.700906Z",
     "iopub.status.idle": "2021-03-29T22:57:26.741795Z",
     "shell.execute_reply": "2021-03-29T22:57:26.740798Z",
     "shell.execute_reply.started": "2021-03-29T22:57:26.700906Z"
    }
   },
   "outputs": [
    {
     "data": {
      "text/html": [
       "<div>\n",
       "<style scoped>\n",
       "    .dataframe tbody tr th:only-of-type {\n",
       "        vertical-align: middle;\n",
       "    }\n",
       "\n",
       "    .dataframe tbody tr th {\n",
       "        vertical-align: top;\n",
       "    }\n",
       "\n",
       "    .dataframe thead th {\n",
       "        text-align: right;\n",
       "    }\n",
       "</style>\n",
       "<table border=\"1\" class=\"dataframe\">\n",
       "  <thead>\n",
       "    <tr style=\"text-align: right;\">\n",
       "      <th></th>\n",
       "      <th>id</th>\n",
       "      <th>comment_text</th>\n",
       "      <th>toxic</th>\n",
       "      <th>severe_toxic</th>\n",
       "      <th>obscene</th>\n",
       "      <th>threat</th>\n",
       "      <th>insult</th>\n",
       "      <th>identity_hate</th>\n",
       "    </tr>\n",
       "  </thead>\n",
       "  <tbody>\n",
       "    <tr>\n",
       "      <th>66157</th>\n",
       "      <td>b0eaf66af481b733</td>\n",
       "      <td>Football Aid\\nI've noticed you did an edit on ...</td>\n",
       "      <td>0</td>\n",
       "      <td>0</td>\n",
       "      <td>0</td>\n",
       "      <td>0</td>\n",
       "      <td>0</td>\n",
       "      <td>0</td>\n",
       "    </tr>\n",
       "    <tr>\n",
       "      <th>147382</th>\n",
       "      <td>3b9071fc3e200a10</td>\n",
       "      <td>\"\\nWhat do you think I read the entire website...</td>\n",
       "      <td>0</td>\n",
       "      <td>0</td>\n",
       "      <td>0</td>\n",
       "      <td>0</td>\n",
       "      <td>0</td>\n",
       "      <td>0</td>\n",
       "    </tr>\n",
       "    <tr>\n",
       "      <th>140467</th>\n",
       "      <td>efb0f567b44bd09b</td>\n",
       "      <td>\"\\n\\nYou say no transwomen believe this, it ha...</td>\n",
       "      <td>0</td>\n",
       "      <td>0</td>\n",
       "      <td>0</td>\n",
       "      <td>0</td>\n",
       "      <td>0</td>\n",
       "      <td>0</td>\n",
       "    </tr>\n",
       "    <tr>\n",
       "      <th>121448</th>\n",
       "      <td>89cc5e1607516bc6</td>\n",
       "      <td>\"==Sockpuppetry case==\\n \\nYour name has been ...</td>\n",
       "      <td>0</td>\n",
       "      <td>0</td>\n",
       "      <td>0</td>\n",
       "      <td>0</td>\n",
       "      <td>0</td>\n",
       "      <td>0</td>\n",
       "    </tr>\n",
       "    <tr>\n",
       "      <th>94462</th>\n",
       "      <td>fc94892dbebf39a6</td>\n",
       "      <td>97.84.13.145 is right, it's not about whether ...</td>\n",
       "      <td>0</td>\n",
       "      <td>0</td>\n",
       "      <td>0</td>\n",
       "      <td>0</td>\n",
       "      <td>0</td>\n",
       "      <td>0</td>\n",
       "    </tr>\n",
       "  </tbody>\n",
       "</table>\n",
       "</div>"
      ],
      "text/plain": [
       "                      id                                       comment_text  \\\n",
       "66157   b0eaf66af481b733  Football Aid\\nI've noticed you did an edit on ...   \n",
       "147382  3b9071fc3e200a10  \"\\nWhat do you think I read the entire website...   \n",
       "140467  efb0f567b44bd09b  \"\\n\\nYou say no transwomen believe this, it ha...   \n",
       "121448  89cc5e1607516bc6  \"==Sockpuppetry case==\\n \\nYour name has been ...   \n",
       "94462   fc94892dbebf39a6  97.84.13.145 is right, it's not about whether ...   \n",
       "\n",
       "        toxic  severe_toxic  obscene  threat  insult  identity_hate  \n",
       "66157       0             0        0       0       0              0  \n",
       "147382      0             0        0       0       0              0  \n",
       "140467      0             0        0       0       0              0  \n",
       "121448      0             0        0       0       0              0  \n",
       "94462       0             0        0       0       0              0  "
      ]
     },
     "execution_count": 3,
     "metadata": {},
     "output_type": "execute_result"
    }
   ],
   "source": [
    "train_df.sample(5)"
   ]
  },
  {
   "cell_type": "code",
   "execution_count": 4,
   "metadata": {
    "execution": {
     "iopub.execute_input": "2021-03-29T22:57:26.748777Z",
     "iopub.status.busy": "2021-03-29T22:57:26.745785Z",
     "iopub.status.idle": "2021-03-29T22:57:26.756755Z",
     "shell.execute_reply": "2021-03-29T22:57:26.755758Z",
     "shell.execute_reply.started": "2021-03-29T22:57:26.748777Z"
    }
   },
   "outputs": [],
   "source": [
    "cols_target = ['obscene', 'insult', 'toxic', 'severe_toxic', 'identity_hate', 'threat']"
   ]
  },
  {
   "cell_type": "code",
   "execution_count": 5,
   "metadata": {
    "execution": {
     "iopub.execute_input": "2021-03-29T22:57:26.758751Z",
     "iopub.status.busy": "2021-03-29T22:57:26.757753Z",
     "iopub.status.idle": "2021-03-29T22:57:26.849508Z",
     "shell.execute_reply": "2021-03-29T22:57:26.848511Z",
     "shell.execute_reply.started": "2021-03-29T22:57:26.758751Z"
    }
   },
   "outputs": [
    {
     "data": {
      "text/html": [
       "<div>\n",
       "<style scoped>\n",
       "    .dataframe tbody tr th:only-of-type {\n",
       "        vertical-align: middle;\n",
       "    }\n",
       "\n",
       "    .dataframe tbody tr th {\n",
       "        vertical-align: top;\n",
       "    }\n",
       "\n",
       "    .dataframe thead th {\n",
       "        text-align: right;\n",
       "    }\n",
       "</style>\n",
       "<table border=\"1\" class=\"dataframe\">\n",
       "  <thead>\n",
       "    <tr style=\"text-align: right;\">\n",
       "      <th></th>\n",
       "      <th>toxic</th>\n",
       "      <th>severe_toxic</th>\n",
       "      <th>obscene</th>\n",
       "      <th>threat</th>\n",
       "      <th>insult</th>\n",
       "      <th>identity_hate</th>\n",
       "    </tr>\n",
       "  </thead>\n",
       "  <tbody>\n",
       "    <tr>\n",
       "      <th>count</th>\n",
       "      <td>159571.000000</td>\n",
       "      <td>159571.000000</td>\n",
       "      <td>159571.000000</td>\n",
       "      <td>159571.000000</td>\n",
       "      <td>159571.000000</td>\n",
       "      <td>159571.000000</td>\n",
       "    </tr>\n",
       "    <tr>\n",
       "      <th>mean</th>\n",
       "      <td>0.095844</td>\n",
       "      <td>0.009996</td>\n",
       "      <td>0.052948</td>\n",
       "      <td>0.002996</td>\n",
       "      <td>0.049364</td>\n",
       "      <td>0.008805</td>\n",
       "    </tr>\n",
       "    <tr>\n",
       "      <th>std</th>\n",
       "      <td>0.294379</td>\n",
       "      <td>0.099477</td>\n",
       "      <td>0.223931</td>\n",
       "      <td>0.054650</td>\n",
       "      <td>0.216627</td>\n",
       "      <td>0.093420</td>\n",
       "    </tr>\n",
       "    <tr>\n",
       "      <th>min</th>\n",
       "      <td>0.000000</td>\n",
       "      <td>0.000000</td>\n",
       "      <td>0.000000</td>\n",
       "      <td>0.000000</td>\n",
       "      <td>0.000000</td>\n",
       "      <td>0.000000</td>\n",
       "    </tr>\n",
       "    <tr>\n",
       "      <th>25%</th>\n",
       "      <td>0.000000</td>\n",
       "      <td>0.000000</td>\n",
       "      <td>0.000000</td>\n",
       "      <td>0.000000</td>\n",
       "      <td>0.000000</td>\n",
       "      <td>0.000000</td>\n",
       "    </tr>\n",
       "    <tr>\n",
       "      <th>50%</th>\n",
       "      <td>0.000000</td>\n",
       "      <td>0.000000</td>\n",
       "      <td>0.000000</td>\n",
       "      <td>0.000000</td>\n",
       "      <td>0.000000</td>\n",
       "      <td>0.000000</td>\n",
       "    </tr>\n",
       "    <tr>\n",
       "      <th>75%</th>\n",
       "      <td>0.000000</td>\n",
       "      <td>0.000000</td>\n",
       "      <td>0.000000</td>\n",
       "      <td>0.000000</td>\n",
       "      <td>0.000000</td>\n",
       "      <td>0.000000</td>\n",
       "    </tr>\n",
       "    <tr>\n",
       "      <th>max</th>\n",
       "      <td>1.000000</td>\n",
       "      <td>1.000000</td>\n",
       "      <td>1.000000</td>\n",
       "      <td>1.000000</td>\n",
       "      <td>1.000000</td>\n",
       "      <td>1.000000</td>\n",
       "    </tr>\n",
       "  </tbody>\n",
       "</table>\n",
       "</div>"
      ],
      "text/plain": [
       "               toxic   severe_toxic        obscene         threat  \\\n",
       "count  159571.000000  159571.000000  159571.000000  159571.000000   \n",
       "mean        0.095844       0.009996       0.052948       0.002996   \n",
       "std         0.294379       0.099477       0.223931       0.054650   \n",
       "min         0.000000       0.000000       0.000000       0.000000   \n",
       "25%         0.000000       0.000000       0.000000       0.000000   \n",
       "50%         0.000000       0.000000       0.000000       0.000000   \n",
       "75%         0.000000       0.000000       0.000000       0.000000   \n",
       "max         1.000000       1.000000       1.000000       1.000000   \n",
       "\n",
       "              insult  identity_hate  \n",
       "count  159571.000000  159571.000000  \n",
       "mean        0.049364       0.008805  \n",
       "std         0.216627       0.093420  \n",
       "min         0.000000       0.000000  \n",
       "25%         0.000000       0.000000  \n",
       "50%         0.000000       0.000000  \n",
       "75%         0.000000       0.000000  \n",
       "max         1.000000       1.000000  "
      ]
     },
     "execution_count": 5,
     "metadata": {},
     "output_type": "execute_result"
    }
   ],
   "source": [
    "# check missing values in numeric columns\n",
    "train_df.describe()"
   ]
  },
  {
   "cell_type": "markdown",
   "metadata": {},
   "source": [
    "결측값은 없습니다. 평균값은 모두 0.05 이하로 매우 작기 때문에 6개의 범주에서 양의 값으로 라벨링되지 않는 경우가 많습니다. 이로부터 여섯 개의 범주 중 어느 것이라도 라벨링되지 않은 댓글들이 많을 것이라고 예상합니다."
   ]
  },
  {
   "cell_type": "code",
   "execution_count": 6,
   "metadata": {
    "execution": {
     "iopub.execute_input": "2021-03-29T22:57:26.851503Z",
     "iopub.status.busy": "2021-03-29T22:57:26.850506Z",
     "iopub.status.idle": "2021-03-29T22:57:26.956223Z",
     "shell.execute_reply": "2021-03-29T22:57:26.955225Z",
     "shell.execute_reply.started": "2021-03-29T22:57:26.851503Z"
    }
   },
   "outputs": [
    {
     "name": "stdout",
     "output_type": "stream",
     "text": [
      "Percentage of Unlabeled comments is 89.83211235124176\n"
     ]
    }
   ],
   "source": [
    "unlabeled_in_all = train_df[(train_df['toxic'] != 1)&(train_df['severe_toxic'] != 1)&(train_df['obscene'] != 1)&(train_df['threat'] != 1)&(train_df['insult'] != 1)&(train_df['identity_hate'] != 1)]\n",
    "print('Percentage of Unlabeled comments is', len(unlabeled_in_all)/len(train_df)*100)"
   ]
  },
  {
   "cell_type": "code",
   "execution_count": 7,
   "metadata": {
    "execution": {
     "iopub.execute_input": "2021-03-29T22:57:26.958218Z",
     "iopub.status.busy": "2021-03-29T22:57:26.957220Z",
     "iopub.status.idle": "2021-03-29T22:57:26.989135Z",
     "shell.execute_reply": "2021-03-29T22:57:26.987139Z",
     "shell.execute_reply.started": "2021-03-29T22:57:26.957220Z"
    }
   },
   "outputs": [
    {
     "data": {
      "text/plain": [
       "0"
      ]
     },
     "execution_count": 7,
     "metadata": {},
     "output_type": "execute_result"
    }
   ],
   "source": [
    "# check for any 'null' comment\n",
    "no_comment = train_df[train_df['comment_text'].isnull()]\n",
    "len(no_comment)"
   ]
  },
  {
   "cell_type": "code",
   "execution_count": 8,
   "metadata": {
    "execution": {
     "iopub.execute_input": "2021-03-29T22:57:26.992127Z",
     "iopub.status.busy": "2021-03-29T22:57:26.992127Z",
     "iopub.status.idle": "2021-03-29T22:57:27.004094Z",
     "shell.execute_reply": "2021-03-29T22:57:27.003096Z",
     "shell.execute_reply.started": "2021-03-29T22:57:26.992127Z"
    }
   },
   "outputs": [
    {
     "data": {
      "text/html": [
       "<div>\n",
       "<style scoped>\n",
       "    .dataframe tbody tr th:only-of-type {\n",
       "        vertical-align: middle;\n",
       "    }\n",
       "\n",
       "    .dataframe tbody tr th {\n",
       "        vertical-align: top;\n",
       "    }\n",
       "\n",
       "    .dataframe thead th {\n",
       "        text-align: right;\n",
       "    }\n",
       "</style>\n",
       "<table border=\"1\" class=\"dataframe\">\n",
       "  <thead>\n",
       "    <tr style=\"text-align: right;\">\n",
       "      <th></th>\n",
       "      <th>id</th>\n",
       "      <th>comment_text</th>\n",
       "    </tr>\n",
       "  </thead>\n",
       "  <tbody>\n",
       "    <tr>\n",
       "      <th>0</th>\n",
       "      <td>00001cee341fdb12</td>\n",
       "      <td>Yo bitch Ja Rule is more succesful then you'll...</td>\n",
       "    </tr>\n",
       "    <tr>\n",
       "      <th>1</th>\n",
       "      <td>0000247867823ef7</td>\n",
       "      <td>== From RfC == \\n\\n The title is fine as it is...</td>\n",
       "    </tr>\n",
       "    <tr>\n",
       "      <th>2</th>\n",
       "      <td>00013b17ad220c46</td>\n",
       "      <td>\" \\n\\n == Sources == \\n\\n * Zawe Ashton on Lap...</td>\n",
       "    </tr>\n",
       "    <tr>\n",
       "      <th>3</th>\n",
       "      <td>00017563c3f7919a</td>\n",
       "      <td>:If you have a look back at the source, the in...</td>\n",
       "    </tr>\n",
       "    <tr>\n",
       "      <th>4</th>\n",
       "      <td>00017695ad8997eb</td>\n",
       "      <td>I don't anonymously edit articles at all.</td>\n",
       "    </tr>\n",
       "  </tbody>\n",
       "</table>\n",
       "</div>"
      ],
      "text/plain": [
       "                 id                                       comment_text\n",
       "0  00001cee341fdb12  Yo bitch Ja Rule is more succesful then you'll...\n",
       "1  0000247867823ef7  == From RfC == \\n\\n The title is fine as it is...\n",
       "2  00013b17ad220c46  \" \\n\\n == Sources == \\n\\n * Zawe Ashton on Lap...\n",
       "3  00017563c3f7919a  :If you have a look back at the source, the in...\n",
       "4  00017695ad8997eb          I don't anonymously edit articles at all."
      ]
     },
     "execution_count": 8,
     "metadata": {},
     "output_type": "execute_result"
    }
   ],
   "source": [
    "test_df.head()"
   ]
  },
  {
   "cell_type": "code",
   "execution_count": 9,
   "metadata": {
    "execution": {
     "iopub.execute_input": "2021-03-29T22:57:27.006090Z",
     "iopub.status.busy": "2021-03-29T22:57:27.005091Z",
     "iopub.status.idle": "2021-03-29T22:57:27.036009Z",
     "shell.execute_reply": "2021-03-29T22:57:27.035012Z",
     "shell.execute_reply.started": "2021-03-29T22:57:27.006090Z"
    }
   },
   "outputs": [
    {
     "data": {
      "text/html": [
       "<div>\n",
       "<style scoped>\n",
       "    .dataframe tbody tr th:only-of-type {\n",
       "        vertical-align: middle;\n",
       "    }\n",
       "\n",
       "    .dataframe tbody tr th {\n",
       "        vertical-align: top;\n",
       "    }\n",
       "\n",
       "    .dataframe thead th {\n",
       "        text-align: right;\n",
       "    }\n",
       "</style>\n",
       "<table border=\"1\" class=\"dataframe\">\n",
       "  <thead>\n",
       "    <tr style=\"text-align: right;\">\n",
       "      <th></th>\n",
       "      <th>id</th>\n",
       "      <th>comment_text</th>\n",
       "    </tr>\n",
       "  </thead>\n",
       "  <tbody>\n",
       "  </tbody>\n",
       "</table>\n",
       "</div>"
      ],
      "text/plain": [
       "Empty DataFrame\n",
       "Columns: [id, comment_text]\n",
       "Index: []"
      ]
     },
     "execution_count": 9,
     "metadata": {},
     "output_type": "execute_result"
    }
   ],
   "source": [
    "no_comment = test_df[test_df['comment_text'].isnull()]\n",
    "no_comment"
   ]
  },
  {
   "cell_type": "markdown",
   "metadata": {},
   "source": [
    "트레이닝 데이터와 테스트 데이터의 모든 행에 댓글이 포함되어 있으므로 null값을 제거할 필요가 없습니다."
   ]
  },
  {
   "cell_type": "code",
   "execution_count": 10,
   "metadata": {
    "execution": {
     "iopub.execute_input": "2021-03-29T22:57:27.037006Z",
     "iopub.status.busy": "2021-03-29T22:57:27.037006Z",
     "iopub.status.idle": "2021-03-29T22:57:27.065929Z",
     "shell.execute_reply": "2021-03-29T22:57:27.064932Z",
     "shell.execute_reply.started": "2021-03-29T22:57:27.037006Z"
    }
   },
   "outputs": [
    {
     "name": "stdout",
     "output_type": "stream",
     "text": [
      "Total rows in test is 153164\n",
      "Total rows in train is 159571\n",
      "obscene           8449\n",
      "insult            7877\n",
      "toxic            15294\n",
      "severe_toxic      1595\n",
      "identity_hate     1405\n",
      "threat             478\n",
      "dtype: int64\n"
     ]
    }
   ],
   "source": [
    "# 훈련, 테스트 데이터의 전체 길이와 카테고리별 수 확인\n",
    "print('Total rows in test is {}'.format(len(test_df)))\n",
    "print('Total rows in train is {}'.format(len(train_df)))\n",
    "print(train_df[cols_target].sum())"
   ]
  },
  {
   "cell_type": "markdown",
   "metadata": {},
   "source": [
    "앞에서 언급한 대로, 훈련 데이터에 있는 댓글의 대부분은 이러한 범주들 중 하나 이상에 라벨링되지 않았습니다."
   ]
  },
  {
   "cell_type": "code",
   "execution_count": 11,
   "metadata": {
    "execution": {
     "iopub.execute_input": "2021-03-29T22:57:27.067923Z",
     "iopub.status.busy": "2021-03-29T22:57:27.066927Z",
     "iopub.status.idle": "2021-03-29T22:57:27.281353Z",
     "shell.execute_reply": "2021-03-29T22:57:27.280356Z",
     "shell.execute_reply.started": "2021-03-29T22:57:27.067923Z"
    }
   },
   "outputs": [],
   "source": [
    "# 훈련 데이터의 문자 길이\n",
    "train_df['char_length'] = train_df['comment_text'].apply(lambda x: len(str(x)))"
   ]
  },
  {
   "cell_type": "code",
   "execution_count": 12,
   "metadata": {
    "execution": {
     "iopub.execute_input": "2021-03-29T22:57:27.283347Z",
     "iopub.status.busy": "2021-03-29T22:57:27.282349Z",
     "iopub.status.idle": "2021-03-29T22:57:27.702227Z",
     "shell.execute_reply": "2021-03-29T22:57:27.701228Z",
     "shell.execute_reply.started": "2021-03-29T22:57:27.283347Z"
    }
   },
   "outputs": [
    {
     "data": {
      "image/png": "[encoded data removed]",
      "text/plain": [
       "<Figure size 432x288 with 1 Axes>"
      ]
     },
     "metadata": {},
     "output_type": "display_data"
    }
   ],
   "source": [
    "# 텍스트 길이에 대한 히스토그램\n",
    "sns.set()\n",
    "train_df['char_length'].hist()\n",
    "plt.show()"
   ]
  },
  {
   "cell_type": "markdown",
   "metadata": {},
   "source": [
    "대부분의 텍스트의 길이는 500자 이내이며, 일부는 5000자까지도 있습니다.  \n",
    "\n",
    "이번에는 타겟 변수들 간의 상관관계를 확인해보겠습니다."
   ]
  },
  {
   "cell_type": "code",
   "execution_count": 13,
   "metadata": {
    "execution": {
     "iopub.execute_input": "2021-03-29T22:57:27.705219Z",
     "iopub.status.busy": "2021-03-29T22:57:27.704221Z",
     "iopub.status.idle": "2021-03-29T22:57:28.438258Z",
     "shell.execute_reply": "2021-03-29T22:57:28.435267Z",
     "shell.execute_reply.started": "2021-03-29T22:57:27.704221Z"
    }
   },
   "outputs": [
    {
     "data": {
      "image/png": "[encoded data removed]",
      "text/plain": [
       "<Figure size 504x504 with 2 Axes>"
      ]
     },
     "metadata": {},
     "output_type": "display_data"
    }
   ],
   "source": [
    "data = train_df[cols_target]\n",
    "\n",
    "colormap = plt.cm.plasma\n",
    "plt.figure(figsize=(7, 7))\n",
    "plt.title('Correlation of features & targets', y=1.05, size=14)\n",
    "sns.heatmap(data.astype(float).corr(), linewidths=0.1, vmax=1.0, square=True,\n",
    "            cmap=colormap, linecolor='white', annot=True)\n",
    "plt.show()"
   ]
  },
  {
   "cell_type": "markdown",
   "metadata": {
    "execution": {
     "iopub.execute_input": "2021-03-29T00:07:23.921841Z",
     "iopub.status.busy": "2021-03-29T00:07:23.921841Z",
     "iopub.status.idle": "2021-03-29T00:07:23.946775Z",
     "shell.execute_reply": "2021-03-29T00:07:23.945778Z",
     "shell.execute_reply.started": "2021-03-29T00:07:23.921841Z"
    }
   },
   "source": [
    "일부 라벨간에는 높은 상관관계가 있는 것으로 보입니다. insult와 obscene은 0.74로 가장 높으며, toxic과 obscene, toxic과 insult가 뒤를 잇습니다.  \n",
    "\n",
    "테스트 데이터 내 댓글의 문자 길이와 분포는 어떨까요?"
   ]
  },
  {
   "cell_type": "code",
   "execution_count": 14,
   "metadata": {
    "execution": {
     "iopub.execute_input": "2021-03-29T22:57:28.441250Z",
     "iopub.status.busy": "2021-03-29T22:57:28.441250Z",
     "iopub.status.idle": "2021-03-29T22:57:28.607805Z",
     "shell.execute_reply": "2021-03-29T22:57:28.606807Z",
     "shell.execute_reply.started": "2021-03-29T22:57:28.441250Z"
    }
   },
   "outputs": [],
   "source": [
    "test_df['char_length'] = test_df['comment_text'].apply(lambda x: len(str(x)))"
   ]
  },
  {
   "cell_type": "code",
   "execution_count": 15,
   "metadata": {
    "execution": {
     "iopub.execute_input": "2021-03-29T22:57:28.610796Z",
     "iopub.status.busy": "2021-03-29T22:57:28.609800Z",
     "iopub.status.idle": "2021-03-29T22:57:28.932935Z",
     "shell.execute_reply": "2021-03-29T22:57:28.930939Z",
     "shell.execute_reply.started": "2021-03-29T22:57:28.610796Z"
    }
   },
   "outputs": [
    {
     "data": {
      "image/png": "[encoded data removed]",
      "text/plain": [
       "<Figure size 432x288 with 1 Axes>"
      ]
     },
     "metadata": {},
     "output_type": "display_data"
    }
   ],
   "source": [
    "plt.figure()\n",
    "plt.hist(test_df['char_length'])\n",
    "plt.show()"
   ]
  },
  {
   "cell_type": "markdown",
   "metadata": {},
   "source": [
    "### Clean up the comment text"
   ]
  },
  {
   "cell_type": "code",
   "execution_count": 16,
   "metadata": {
    "execution": {
     "iopub.execute_input": "2021-03-29T22:57:28.934930Z",
     "iopub.status.busy": "2021-03-29T22:57:28.933932Z",
     "iopub.status.idle": "2021-03-29T22:57:28.964850Z",
     "shell.execute_reply": "2021-03-29T22:57:28.961857Z",
     "shell.execute_reply.started": "2021-03-29T22:57:28.933932Z"
    }
   },
   "outputs": [],
   "source": [
    "def clean_text(text):\n",
    "    text = text.lower()\n",
    "    text = re.sub(r\"what's\", \"what is \", text)\n",
    "    text = re.sub(r\"\\'s\", \" \", text)\n",
    "    text = re.sub(r\"\\'ve\", \" have \", text)\n",
    "    text = re.sub(r\"can't\", \"cannot \", text)\n",
    "    text = re.sub(r\"n't\", \" not \", text)\n",
    "    text = re.sub(r\"i'm\", \"i am \", text)\n",
    "    text = re.sub(r\"\\'re\", \" are \", text)\n",
    "    text = re.sub(r\"\\'d\", \" would \", text)\n",
    "    text = re.sub(r\"\\'ll\", \" will \", text)\n",
    "    text = re.sub(r\"\\'scuse\", \" excuse \", text)\n",
    "    text = re.sub('\\W', ' ', text)\n",
    "    text = re.sub('\\s+', ' ', text)\n",
    "    text = text.strip(' ')\n",
    "    return text"
   ]
  },
  {
   "cell_type": "code",
   "execution_count": 17,
   "metadata": {
    "execution": {
     "iopub.execute_input": "2021-03-29T22:57:28.967842Z",
     "iopub.status.busy": "2021-03-29T22:57:28.966845Z",
     "iopub.status.idle": "2021-03-29T22:57:54.505524Z",
     "shell.execute_reply": "2021-03-29T22:57:54.504526Z",
     "shell.execute_reply.started": "2021-03-29T22:57:28.967842Z"
    }
   },
   "outputs": [],
   "source": [
    "# comment_text 정제\n",
    "train_df['comment_text'] = train_df['comment_text'].map(lambda com: clean_text(com))\n",
    "test_df['comment_text'] = test_df['comment_text'].map(lambda com: clean_text(com))"
   ]
  },
  {
   "cell_type": "markdown",
   "metadata": {},
   "source": [
    "### Define X from entire train & test data for use in tokenization by Vectorizer"
   ]
  },
  {
   "cell_type": "code",
   "execution_count": 18,
   "metadata": {
    "execution": {
     "iopub.execute_input": "2021-03-29T22:57:54.506521Z",
     "iopub.status.busy": "2021-03-29T22:57:54.506521Z",
     "iopub.status.idle": "2021-03-29T22:57:54.536442Z",
     "shell.execute_reply": "2021-03-29T22:57:54.535445Z",
     "shell.execute_reply.started": "2021-03-29T22:57:54.506521Z"
    }
   },
   "outputs": [
    {
     "name": "stdout",
     "output_type": "stream",
     "text": [
      "(159571,) (153164,)\n"
     ]
    }
   ],
   "source": [
    "train_df.drop('char_length', axis=1, inplace=True)\n",
    "X = train_df['comment_text']\n",
    "test_X = test_df['comment_text']\n",
    "print(X.shape, test_X.shape)"
   ]
  },
  {
   "cell_type": "markdown",
   "metadata": {},
   "source": [
    "### Vectorize the data"
   ]
  },
  {
   "cell_type": "code",
   "execution_count": 19,
   "metadata": {
    "execution": {
     "iopub.execute_input": "2021-03-29T22:57:54.537440Z",
     "iopub.status.busy": "2021-03-29T22:57:54.537440Z",
     "iopub.status.idle": "2021-03-29T22:57:56.193011Z",
     "shell.execute_reply": "2021-03-29T22:57:56.192013Z",
     "shell.execute_reply.started": "2021-03-29T22:57:54.537440Z"
    }
   },
   "outputs": [
    {
     "data": {
      "text/plain": [
       "TfidfVectorizer(max_features=5000, stop_words='english')"
      ]
     },
     "execution_count": 19,
     "metadata": {},
     "output_type": "execute_result"
    }
   ],
   "source": [
    "# TfidfVectorizer\n",
    "from sklearn.feature_extraction.text import CountVectorizer\n",
    "from sklearn.feature_extraction.text import TfidfVectorizer\n",
    "vect = TfidfVectorizer(max_features=5000, stop_words='english')\n",
    "vect"
   ]
  },
  {
   "cell_type": "code",
   "execution_count": 20,
   "metadata": {
    "execution": {
     "iopub.execute_input": "2021-03-29T22:57:56.195005Z",
     "iopub.status.busy": "2021-03-29T22:57:56.194008Z",
     "iopub.status.idle": "2021-03-29T22:58:14.078165Z",
     "shell.execute_reply": "2021-03-29T22:58:14.077167Z",
     "shell.execute_reply.started": "2021-03-29T22:57:56.195005Z"
    }
   },
   "outputs": [],
   "source": [
    "# 데이터의 단어 학습, document-term 매트릭스 생성\n",
    "X_dtm = vect.fit_transform(X)\n",
    "test_X_dtm = vect.transform(test_X)"
   ]
  },
  {
   "cell_type": "markdown",
   "metadata": {},
   "source": [
    "### Solving a multi-label classification problem\n",
    "다중 레이블 분류 문제를 해결하기 위한 한 가지 접근 방법은 별도의 단일 클래스 분류 문제로 바꾸는 것입니다. 이것은 `problem transformation`으로 알려져 있으며, 다음과 같이 세 가지 방법이 있습니다:  \n",
    "- **Binary Relevance**: 각 라벨을 별도의 단일 분류 문제로 취급하는 가장 간단한 방법. 여기서 가장 중요한 가정은 라벨 간에 상관관계가 없다는 것\n",
    "- **Classifier Chains**: 이 방법에서 첫 번째 분류기는 입력 X에 대해 훈련. 다음 분류기는 입력 X와 체인 내 모든 이전 분류기들의 예측에 대해 훈련. 이 방법은 이전 타겟 변수 간 상관관계로부터 신호를 끌어오고자 함\n",
    "- **Label Powerset**: 다중 클래스 라벨들을 본질적으로 모든 고유한 라벨 조합인 다중 클래스 문제로 변환. 우리의 경우, Label Powerset은 실제로 6개의 라벨들을 $2^{6}$ 또는 64 클래스 문제로 변환."
   ]
  },
  {
   "cell_type": "markdown",
   "metadata": {},
   "source": [
    "#### Binary Relevance - build a multi-label classifier using Logistic Regression (LB 0.96094)"
   ]
  },
  {
   "cell_type": "code",
   "execution_count": 21,
   "metadata": {
    "execution": {
     "iopub.execute_input": "2021-03-29T22:58:14.079163Z",
     "iopub.status.busy": "2021-03-29T22:58:14.079163Z",
     "iopub.status.idle": "2021-03-29T22:58:14.502033Z",
     "shell.execute_reply": "2021-03-29T22:58:14.501033Z",
     "shell.execute_reply.started": "2021-03-29T22:58:14.079163Z"
    }
   },
   "outputs": [],
   "source": [
    "from sklearn.linear_model import LogisticRegression\n",
    "from sklearn.metrics import accuracy_score\n",
    "logreg = LogisticRegression(C=12.0)"
   ]
  },
  {
   "cell_type": "code",
   "execution_count": 22,
   "metadata": {
    "execution": {
     "iopub.execute_input": "2021-03-29T22:58:14.506023Z",
     "iopub.status.busy": "2021-03-29T22:58:14.504027Z",
     "iopub.status.idle": "2021-03-29T22:58:31.170442Z",
     "shell.execute_reply": "2021-03-29T22:58:31.169444Z",
     "shell.execute_reply.started": "2021-03-29T22:58:14.506023Z"
    }
   },
   "outputs": [
    {
     "name": "stdout",
     "output_type": "stream",
     "text": [
      "... Processing obscene\n",
      "Training accuracy is 0.983223768729907\n",
      "... Processing insult\n",
      "Training accuracy is 0.9755344016143285\n",
      "... Processing toxic\n",
      "Training accuracy is 0.9639470831166064\n",
      "... Processing severe_toxic\n",
      "Training accuracy is 0.9920536939669489\n",
      "... Processing identity_hate\n",
      "Training accuracy is 0.9939901360522903\n",
      "... Processing threat\n",
      "Training accuracy is 0.9981199591404453\n"
     ]
    }
   ],
   "source": [
    "# create submission file\n",
    "submission_binary = pd.read_csv('data/sample_submission.csv')  \n",
    "\n",
    "for label in cols_target:\n",
    "    print('... Processing {}'.format(label))\n",
    "    y = train_df[label]\n",
    "    logreg.fit(X_dtm, y)\n",
    "    y_pred_X = logreg.predict(X_dtm)\n",
    "    print('Training accuracy is {}'.format(accuracy_score(y, y_pred_X)))\n",
    "    test_y_prob = logreg.predict_proba(test_X_dtm)[:, 1]\n",
    "    submission_binary[label] = test_y_prob"
   ]
  },
  {
   "cell_type": "code",
   "execution_count": 23,
   "metadata": {
    "execution": {
     "iopub.execute_input": "2021-03-29T22:58:31.173434Z",
     "iopub.status.busy": "2021-03-29T22:58:31.173434Z",
     "iopub.status.idle": "2021-03-29T22:58:34.354923Z",
     "shell.execute_reply": "2021-03-29T22:58:34.353925Z",
     "shell.execute_reply.started": "2021-03-29T22:58:31.173434Z"
    }
   },
   "outputs": [],
   "source": [
    "submission_binary.to_csv('data/submission_3_submission_binary.csv', index=False)"
   ]
  },
  {
   "cell_type": "markdown",
   "metadata": {},
   "source": [
    "#### Classifier Chains - build a multi-label classifier using Logistic Regression (LB 0.95697)"
   ]
  },
  {
   "cell_type": "code",
   "execution_count": 24,
   "metadata": {
    "execution": {
     "iopub.execute_input": "2021-03-29T22:58:34.355920Z",
     "iopub.status.busy": "2021-03-29T22:58:34.355920Z",
     "iopub.status.idle": "2021-03-29T22:58:34.584309Z",
     "shell.execute_reply": "2021-03-29T22:58:34.583313Z",
     "shell.execute_reply.started": "2021-03-29T22:58:34.355920Z"
    }
   },
   "outputs": [],
   "source": [
    "submission_chains = pd.read_csv('data/sample_submission.csv')"
   ]
  },
  {
   "cell_type": "code",
   "execution_count": 25,
   "metadata": {
    "execution": {
     "iopub.execute_input": "2021-03-29T22:58:34.587301Z",
     "iopub.status.busy": "2021-03-29T22:58:34.586304Z",
     "iopub.status.idle": "2021-03-29T22:58:34.600266Z",
     "shell.execute_reply": "2021-03-29T22:58:34.599269Z",
     "shell.execute_reply.started": "2021-03-29T22:58:34.587301Z"
    }
   },
   "outputs": [],
   "source": [
    "def add_feature(X, feature_to_add):\n",
    "    '''\n",
    "    feature가 추가된 sparse feature matrix (희소 feature 행렬) 리턴\n",
    "    feature_to_add는 feature 리스트도 입력 가능\n",
    "    '''\n",
    "    from scipy.sparse import csr_matrix, hstack\n",
    "    return hstack([X, csr_matrix(feature_to_add).T], 'csr')"
   ]
  },
  {
   "cell_type": "code",
   "execution_count": 27,
   "metadata": {
    "execution": {
     "iopub.execute_input": "2021-03-29T23:02:44.426004Z",
     "iopub.status.busy": "2021-03-29T23:02:44.426004Z",
     "iopub.status.idle": "2021-03-29T23:03:02.189484Z",
     "shell.execute_reply": "2021-03-29T23:03:02.188486Z",
     "shell.execute_reply.started": "2021-03-29T23:02:44.426004Z"
    }
   },
   "outputs": [
    {
     "name": "stdout",
     "output_type": "stream",
     "text": [
      "... Processing obscene\n",
      "Training Accuracy is 0.983223768729907\n",
      "Shape of X_dtm is now (159571, 5001)\n",
      "Shape of test_X_dtm is now (153164, 5001)\n",
      "... Processing insult\n",
      "Training Accuracy is 0.9818137380852411\n",
      "Shape of X_dtm is now (159571, 5002)\n",
      "Shape of test_X_dtm is now (153164, 5002)\n",
      "... Processing toxic\n",
      "Training Accuracy is 0.9675818287784121\n",
      "Shape of X_dtm is now (159571, 5003)\n",
      "Shape of test_X_dtm is now (153164, 5003)\n",
      "... Processing severe_toxic\n",
      "Training Accuracy is 0.9931065168482995\n",
      "Shape of X_dtm is now (159571, 5004)\n",
      "Shape of test_X_dtm is now (153164, 5004)\n",
      "... Processing identity_hate\n",
      "Training Accuracy is 0.9955881707829117\n",
      "Shape of X_dtm is now (159571, 5005)\n",
      "Shape of test_X_dtm is now (153164, 5005)\n",
      "... Processing threat\n",
      "Training Accuracy is 0.9985649021438733\n",
      "Shape of X_dtm is now (159571, 5006)\n",
      "Shape of test_X_dtm is now (153164, 5006)\n"
     ]
    }
   ],
   "source": [
    "for label in cols_target:\n",
    "    print('... Processing {}'.format(label))\n",
    "    y = train_df[label]\n",
    "    # X_dtm, y를 사용하여 모델 훈련\n",
    "    logreg.fit(X_dtm, y)\n",
    "    # 훈련 정확도 계산\n",
    "    y_pred_X = logreg.predict(X_dtm)\n",
    "    print('Training Accuracy is {}'.format(accuracy_score(y, y_pred_X)))\n",
    "    # test_X를 사용하여 예측\n",
    "    test_y = logreg.predict(test_X_dtm)\n",
    "    test_y_prob = logreg.predict_proba(test_X_dtm)[:, 1]\n",
    "    submission_chains[label] = test_y_prob\n",
    "    # chain current label to X_dtm\n",
    "    X_dtm = add_feature(X_dtm, y)\n",
    "    print('Shape of X_dtm is now {}'.format(X_dtm.shape))\n",
    "    # chain current label predictions to test_X_dtm\n",
    "    test_X_dtm = add_feature(test_X_dtm, test_y)\n",
    "    print('Shape of test_X_dtm is now {}'.format(test_X_dtm.shape))"
   ]
  },
  {
   "cell_type": "code",
   "execution_count": 28,
   "metadata": {
    "execution": {
     "iopub.execute_input": "2021-03-29T23:09:48.719825Z",
     "iopub.status.busy": "2021-03-29T23:09:48.719825Z",
     "iopub.status.idle": "2021-03-29T23:09:51.664324Z",
     "shell.execute_reply": "2021-03-29T23:09:51.663359Z",
     "shell.execute_reply.started": "2021-03-29T23:09:48.719825Z"
    }
   },
   "outputs": [],
   "source": [
    "submission_chains.to_csv('data/submission_4_submission_chains.csv', index=False)"
   ]
  },
  {
   "cell_type": "markdown",
   "metadata": {},
   "source": [
    "#### Create a combined submission (LB 0.96099)"
   ]
  },
  {
   "cell_type": "code",
   "execution_count": 29,
   "metadata": {
    "execution": {
     "iopub.execute_input": "2021-03-29T23:10:09.800854Z",
     "iopub.status.busy": "2021-03-29T23:10:09.799856Z",
     "iopub.status.idle": "2021-03-29T23:10:10.064232Z",
     "shell.execute_reply": "2021-03-29T23:10:10.063234Z",
     "shell.execute_reply.started": "2021-03-29T23:10:09.800854Z"
    }
   },
   "outputs": [],
   "source": [
    "submission_combined = pd.read_csv('data/sample_submission.csv')"
   ]
  },
  {
   "cell_type": "code",
   "execution_count": 30,
   "metadata": {
    "execution": {
     "iopub.execute_input": "2021-03-29T23:10:44.030301Z",
     "iopub.status.busy": "2021-03-29T23:10:44.030301Z",
     "iopub.status.idle": "2021-03-29T23:10:44.058231Z",
     "shell.execute_reply": "2021-03-29T23:10:44.057257Z",
     "shell.execute_reply.started": "2021-03-29T23:10:44.030301Z"
    }
   },
   "outputs": [],
   "source": [
    "for label in cols_target:\n",
    "    submission_combined[label] = (submission_chains[label] + submission_binary[label])/2"
   ]
  },
  {
   "cell_type": "code",
   "execution_count": 31,
   "metadata": {
    "execution": {
     "iopub.execute_input": "2021-03-29T23:11:01.263597Z",
     "iopub.status.busy": "2021-03-29T23:11:01.263597Z",
     "iopub.status.idle": "2021-03-29T23:11:03.978849Z",
     "shell.execute_reply": "2021-03-29T23:11:03.975889Z",
     "shell.execute_reply.started": "2021-03-29T23:11:01.263597Z"
    }
   },
   "outputs": [],
   "source": [
    "submission_combined.to_csv('data/submission_4_submission_combined.csv', index=False)"
   ]
  }
 ],
 "metadata": {
  "kernelspec": {
   "display_name": "kaggle",
   "language": "python",
   "name": "kaggle"
  },
  "language_info": {
   "codemirror_mode": {
    "name": "ipython",
    "version": 3
   },
   "file_extension": ".py",
   "mimetype": "text/x-python",
   "name": "python",
   "nbconvert_exporter": "python",
   "pygments_lexer": "ipython3",
   "version": "3.7.10"
  }
 },
 "nbformat": 4,
 "nbformat_minor": 4
}
