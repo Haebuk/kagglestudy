{
 "cells": [
  {
   "cell_type": "markdown",
   "id": "restricted-study",
   "metadata": {},
   "source": [
    "- Day 42 : 21/03/24\n",
    "- Toxic Comment Classification Challenge : https://www.kaggle.com/c/jigsaw-toxic-comment-classification-challenge/overview"
   ]
  },
  {
   "cell_type": "markdown",
   "id": "gross-density",
   "metadata": {},
   "source": [
    "# Tackling Toxic Using Keras"
   ]
  },
  {
   "cell_type": "markdown",
   "id": "jewish-julian",
   "metadata": {},
   "source": [
    "Keras LSTM을 사용해 분류 문제를 해결할 것이다. Keras 라이브러리를 임포트하자."
   ]
  },
  {
   "cell_type": "code",
   "execution_count": 1,
   "id": "talented-president",
   "metadata": {
    "ExecuteTime": {
     "end_time": "2021-03-25T14:41:32.369333Z",
     "start_time": "2021-03-25T14:41:17.158286Z"
    }
   },
   "outputs": [],
   "source": [
    "import sys, os, re, csv, codecs, numpy as np, pandas as pd\n",
    "import matplotlib.pyplot as plt\n",
    "%matplotlib inline\n",
    "from keras.preprocessing.text import Tokenizer\n",
    "from keras.preprocessing.sequence import pad_sequences\n",
    "from keras.layers import Dense, Input, LSTM, Embedding, Dropout, Activation\n",
    "from keras.layers import Bidirectional, GlobalMaxPool1D\n",
    "from keras.models import Model\n",
    "from keras import initializers, regularizers, constraints, optimizers, layers"
   ]
  },
  {
   "cell_type": "code",
   "execution_count": 2,
   "id": "hybrid-ownership",
   "metadata": {
    "ExecuteTime": {
     "end_time": "2021-03-25T14:41:38.984216Z",
     "start_time": "2021-03-25T14:41:37.027552Z"
    }
   },
   "outputs": [],
   "source": [
    "train = pd.read_csv('../input/train.csv')\n",
    "test = pd.read_csv('../input/test.csv')"
   ]
  },
  {
   "cell_type": "code",
   "execution_count": 3,
   "id": "medieval-transport",
   "metadata": {
    "ExecuteTime": {
     "end_time": "2021-03-25T14:41:41.093265Z",
     "start_time": "2021-03-25T14:41:41.072320Z"
    }
   },
   "outputs": [
    {
     "data": {
      "text/html": [
       "<div>\n",
       "<style scoped>\n",
       "    .dataframe tbody tr th:only-of-type {\n",
       "        vertical-align: middle;\n",
       "    }\n",
       "\n",
       "    .dataframe tbody tr th {\n",
       "        vertical-align: top;\n",
       "    }\n",
       "\n",
       "    .dataframe thead th {\n",
       "        text-align: right;\n",
       "    }\n",
       "</style>\n",
       "<table border=\"1\" class=\"dataframe\">\n",
       "  <thead>\n",
       "    <tr style=\"text-align: right;\">\n",
       "      <th></th>\n",
       "      <th>id</th>\n",
       "      <th>comment_text</th>\n",
       "      <th>toxic</th>\n",
       "      <th>severe_toxic</th>\n",
       "      <th>obscene</th>\n",
       "      <th>threat</th>\n",
       "      <th>insult</th>\n",
       "      <th>identity_hate</th>\n",
       "    </tr>\n",
       "  </thead>\n",
       "  <tbody>\n",
       "    <tr>\n",
       "      <th>0</th>\n",
       "      <td>0000997932d777bf</td>\n",
       "      <td>Explanation\\nWhy the edits made under my usern...</td>\n",
       "      <td>0</td>\n",
       "      <td>0</td>\n",
       "      <td>0</td>\n",
       "      <td>0</td>\n",
       "      <td>0</td>\n",
       "      <td>0</td>\n",
       "    </tr>\n",
       "    <tr>\n",
       "      <th>1</th>\n",
       "      <td>000103f0d9cfb60f</td>\n",
       "      <td>D'aww! He matches this background colour I'm s...</td>\n",
       "      <td>0</td>\n",
       "      <td>0</td>\n",
       "      <td>0</td>\n",
       "      <td>0</td>\n",
       "      <td>0</td>\n",
       "      <td>0</td>\n",
       "    </tr>\n",
       "    <tr>\n",
       "      <th>2</th>\n",
       "      <td>000113f07ec002fd</td>\n",
       "      <td>Hey man, I'm really not trying to edit war. It...</td>\n",
       "      <td>0</td>\n",
       "      <td>0</td>\n",
       "      <td>0</td>\n",
       "      <td>0</td>\n",
       "      <td>0</td>\n",
       "      <td>0</td>\n",
       "    </tr>\n",
       "    <tr>\n",
       "      <th>3</th>\n",
       "      <td>0001b41b1c6bb37e</td>\n",
       "      <td>\"\\nMore\\nI can't make any real suggestions on ...</td>\n",
       "      <td>0</td>\n",
       "      <td>0</td>\n",
       "      <td>0</td>\n",
       "      <td>0</td>\n",
       "      <td>0</td>\n",
       "      <td>0</td>\n",
       "    </tr>\n",
       "    <tr>\n",
       "      <th>4</th>\n",
       "      <td>0001d958c54c6e35</td>\n",
       "      <td>You, sir, are my hero. Any chance you remember...</td>\n",
       "      <td>0</td>\n",
       "      <td>0</td>\n",
       "      <td>0</td>\n",
       "      <td>0</td>\n",
       "      <td>0</td>\n",
       "      <td>0</td>\n",
       "    </tr>\n",
       "  </tbody>\n",
       "</table>\n",
       "</div>"
      ],
      "text/plain": [
       "                 id                                       comment_text  toxic  \\\n",
       "0  0000997932d777bf  Explanation\\nWhy the edits made under my usern...      0   \n",
       "1  000103f0d9cfb60f  D'aww! He matches this background colour I'm s...      0   \n",
       "2  000113f07ec002fd  Hey man, I'm really not trying to edit war. It...      0   \n",
       "3  0001b41b1c6bb37e  \"\\nMore\\nI can't make any real suggestions on ...      0   \n",
       "4  0001d958c54c6e35  You, sir, are my hero. Any chance you remember...      0   \n",
       "\n",
       "   severe_toxic  obscene  threat  insult  identity_hate  \n",
       "0             0        0       0       0              0  \n",
       "1             0        0       0       0              0  \n",
       "2             0        0       0       0              0  \n",
       "3             0        0       0       0              0  \n",
       "4             0        0       0       0              0  "
      ]
     },
     "execution_count": 3,
     "metadata": {},
     "output_type": "execute_result"
    }
   ],
   "source": [
    "train.head()"
   ]
  },
  {
   "cell_type": "markdown",
   "id": "canadian-pantyhose",
   "metadata": {},
   "source": [
    "일반적인 전처리 단계는 null을 확인하고 다음 단계로 진행하기 전 null값을 무언가로 채우는 것이다. null 값을 그대로 두면, 나중 모델링 단계에서 괴로울 것이다."
   ]
  },
  {
   "cell_type": "code",
   "execution_count": 4,
   "id": "toxic-concert",
   "metadata": {
    "ExecuteTime": {
     "end_time": "2021-03-25T14:43:51.221750Z",
     "start_time": "2021-03-25T14:43:51.147947Z"
    }
   },
   "outputs": [
    {
     "data": {
      "text/plain": [
       "(id               False\n",
       " comment_text     False\n",
       " toxic            False\n",
       " severe_toxic     False\n",
       " obscene          False\n",
       " threat           False\n",
       " insult           False\n",
       " identity_hate    False\n",
       " dtype: bool,\n",
       " id              False\n",
       " comment_text    False\n",
       " dtype: bool)"
      ]
     },
     "execution_count": 4,
     "metadata": {},
     "output_type": "execute_result"
    }
   ],
   "source": [
    "train.isnull().any(), test.isnull().any()"
   ]
  },
  {
   "cell_type": "markdown",
   "id": "affecting-approval",
   "metadata": {},
   "source": [
    "null값을 처리할 필요가 없어 보인다.\n",
    "\n",
    "참고 : 데이터셋에 대해 수행할 수 있는 수많은 전처리 및 feature engineering 단계가 있지만, 오늘 초점은 전처리 작업에 대한 것이 아니므로 나머지 단계가 제대로 작동될 수 있는 최소 작업을 할 것이다."
   ]
  },
  {
   "cell_type": "markdown",
   "id": "failing-yahoo",
   "metadata": {},
   "source": [
    "종속 변수가 train 셋 자체에 있으므로 이것들을 X와 Y 셋으로 나눠야한다."
   ]
  },
  {
   "cell_type": "code",
   "execution_count": 5,
   "id": "sharp-reliance",
   "metadata": {
    "ExecuteTime": {
     "end_time": "2021-03-25T14:47:08.196472Z",
     "start_time": "2021-03-25T14:47:08.182511Z"
    }
   },
   "outputs": [],
   "source": [
    "list_classes = ['toxic','severe_toxic','obscene','threat','insult','identity_hate']\n",
    "y = train[list_classes].values\n",
    "list_sentences_train = train['comment_text']\n",
    "list_sentences_test = test['comment_text']"
   ]
  },
  {
   "cell_type": "markdown",
   "id": "brown-sacrifice",
   "metadata": {},
   "source": [
    "우리는 LSTM에 코멘트를 전달하는 접근방식을 취하지만, 단어를 그대로 전달할 수 없다. \n",
    "1. Tokenization : 문장을 하나의 단어로 나눠야한다. 예를 들어, 'I love cats and love dogs'는 ['I','love','cats','and','dogs']가 된다.\n",
    "2. Indexing : 단어들을 사전과 같은 구조로 배치하고 각각의 인덱스를 제공한다. 예: {1:'I', 2:'love', 3:'cats', 4:'and', 5:'dogs'}\n",
    "3. Index Representation : 코멘트에서 단어 순서를 인덱스 형식으로 나타낼 수 있고, 이 인덱스 체인을 LSTM에 제공할 수 있다. 예: [1,2,3,4,2,5]\n",
    "\n",
    "다행히 keras로 쉽게 할 수 있다. vanilla Tensorflow를 사용하는 경우, 자신만의 사전 구조를 구현하고 인덱스를 직접 처리해야할 수 있다. keras에서는 위의 모든 단계를 4줄의 코드로 수행할 수 있다. 문장을 토큰화할 때 사전에 고유 단어 수를 정의해야한다는 점에 유의하자."
   ]
  },
  {
   "cell_type": "code",
   "execution_count": 6,
   "id": "private-thermal",
   "metadata": {
    "ExecuteTime": {
     "end_time": "2021-03-25T14:55:18.134971Z",
     "start_time": "2021-03-25T14:54:46.321892Z"
    }
   },
   "outputs": [],
   "source": [
    "max_features = 20000\n",
    "tokenizer = Tokenizer(num_words=max_features)\n",
    "tokenizer.fit_on_texts(list(list_sentences_train))\n",
    "list_tokenized_train = tokenizer.texts_to_sequences(list_sentences_train)\n",
    "list_tokenized_test = tokenizer.texts_to_sequences(list_sentences_test)"
   ]
  },
  {
   "cell_type": "markdown",
   "id": "robust-captain",
   "metadata": {},
   "source": [
    "이제 'list_tokenized_train'을 보면 keras가 우리 말을 인덱스 표현으로 바꾼 걸 볼 수 있다."
   ]
  },
  {
   "cell_type": "code",
   "execution_count": 7,
   "id": "neutral-deadline",
   "metadata": {
    "ExecuteTime": {
     "end_time": "2021-03-25T14:55:48.230118Z",
     "start_time": "2021-03-25T14:55:48.210170Z"
    }
   },
   "outputs": [
    {
     "data": {
      "text/plain": [
       "[[688,\n",
       "  75,\n",
       "  1,\n",
       "  126,\n",
       "  130,\n",
       "  177,\n",
       "  29,\n",
       "  672,\n",
       "  4511,\n",
       "  12052,\n",
       "  1116,\n",
       "  86,\n",
       "  331,\n",
       "  51,\n",
       "  2278,\n",
       "  11448,\n",
       "  50,\n",
       "  6864,\n",
       "  15,\n",
       "  60,\n",
       "  2756,\n",
       "  148,\n",
       "  7,\n",
       "  2937,\n",
       "  34,\n",
       "  117,\n",
       "  1221,\n",
       "  15190,\n",
       "  2825,\n",
       "  4,\n",
       "  45,\n",
       "  59,\n",
       "  244,\n",
       "  1,\n",
       "  365,\n",
       "  31,\n",
       "  1,\n",
       "  38,\n",
       "  27,\n",
       "  143,\n",
       "  73,\n",
       "  3462,\n",
       "  89,\n",
       "  3085,\n",
       "  4583,\n",
       "  2273,\n",
       "  985]]"
      ]
     },
     "execution_count": 7,
     "metadata": {},
     "output_type": "execute_result"
    }
   ],
   "source": [
    "list_tokenized_train[:1]"
   ]
  },
  {
   "cell_type": "markdown",
   "id": "current-channel",
   "metadata": {},
   "source": [
    "하지만 아직 한 가지 문제가 있다. 어떤 댓글은 너무 길고 어떤 댓글은 한 단어일 뿐이다. 인덱스화된 문장은 다음과 같다. <br>\n",
    "Comment #1: [8,9,3,7,3,6,3,6,3,6,2,3,4,9] <br>\n",
    "Comment #2: [1,2] <br>\n",
    "또한 일관된 길이(변수의 고정 수)를 가진 데이터 스트림을 제공해야한다.<br>\n",
    "그리고 이것이 'padding'을 사용하는 이유다. 부족한 부분을 0으로 채워 다른 문장들처럼 짧은 문장을 만들 수 있다. 하지만 반면 긴 것을 짧은 것과 같은 길이(maxlen)로 잘라야한다. 이 경우 최대 길이는 200으로 설정했다."
   ]
  },
  {
   "cell_type": "code",
   "execution_count": 8,
   "id": "advanced-worth",
   "metadata": {
    "ExecuteTime": {
     "end_time": "2021-03-25T15:04:46.959356Z",
     "start_time": "2021-03-25T15:04:43.692770Z"
    }
   },
   "outputs": [],
   "source": [
    "maxlen = 200\n",
    "X_t = pad_sequences(list_tokenized_train, maxlen=maxlen)\n",
    "X_te = pad_sequences(list_tokenized_test, maxlen=maxlen)"
   ]
  },
  {
   "cell_type": "markdown",
   "id": "plastic-olympus",
   "metadata": {},
   "source": [
    "설정하기 가장 좋은 'maxlen'가 몇인지 어떻게 알 수 있을까? 너무 짧게 설정하면 일부 정확도가 저하될 수 있는 유용한 변수를 잃을 수 있다. 너무 길게 설정하면 LSTM 셀이 가능한 값이나 상태를 저장하도록 더 커져야한다. \n",
    "\n",
    "이 문제를 해결하는 방법 중 하나는 문장의 단어 수 분포를 보는 것이다."
   ]
  },
  {
   "cell_type": "code",
   "execution_count": 9,
   "id": "suspected-lobby",
   "metadata": {
    "ExecuteTime": {
     "end_time": "2021-03-25T15:56:25.774250Z",
     "start_time": "2021-03-25T15:56:25.741338Z"
    }
   },
   "outputs": [],
   "source": [
    "totalNumWords = [len(one_comment) for one_comment in list_tokenized_train]"
   ]
  },
  {
   "cell_type": "code",
   "execution_count": 10,
   "id": "proper-candidate",
   "metadata": {
    "ExecuteTime": {
     "end_time": "2021-03-25T15:57:23.680480Z",
     "start_time": "2021-03-25T15:57:22.697486Z"
    }
   },
   "outputs": [
    {
     "data": {
      "image/png": "[encoded data removed]",
      "text/plain": [
       "<Figure size 432x288 with 1 Axes>"
      ]
     },
     "metadata": {
      "needs_background": "light"
     },
     "output_type": "display_data"
    }
   ],
   "source": [
    "plt.hist(totalNumWords, bins=np.arange(0,410,10)) #[0,50,100, ~ 400]\n",
    "plt.show()"
   ]
  },
  {
   "cell_type": "markdown",
   "id": "democratic-jumping",
   "metadata": {},
   "source": [
    "대부분의 문장 길이는 약 30+이다. 'maxlen'을 약 50으로 설정할 수 있지만 200으로 설정했다."
   ]
  },
  {
   "cell_type": "markdown",
   "id": "martial-lexington",
   "metadata": {},
   "source": [
    "### Finally the start of building model"
   ]
  },
  {
   "cell_type": "markdown",
   "id": "enhanced-province",
   "metadata": {},
   "source": [
    "쉼표 뒤에 빈 칸을 표시해 keras가 숫자를 자동으로 유추하도록 한다."
   ]
  },
  {
   "cell_type": "code",
   "execution_count": 11,
   "id": "choice-blackjack",
   "metadata": {
    "ExecuteTime": {
     "end_time": "2021-03-25T16:00:28.894422Z",
     "start_time": "2021-03-25T16:00:28.870489Z"
    }
   },
   "outputs": [],
   "source": [
    "inp = Input(shape=(maxlen,))"
   ]
  },
  {
   "cell_type": "markdown",
   "id": "portable-multimedia",
   "metadata": {},
   "source": [
    "다음으로, 이것을 임베딩 레이어로 전달하고, 문장에서 주변 단어의 거리에 따라 단어를 정의된 벡터 공간에 투영한다. 임베딩을 사용하면 모델 크기를 줄일 수 있으며, 가장 중요한 것은 문장의 단어를 표현하기 위해 one-hot encoding을 사용하는 경우 처리해야하는 엄청난 차원을 줄일 수 있다. 임베딩 레이어의 출력은 이 벡터 공간에 있는 단어의 좌표 목록일 뿐이다. 예를 들어, 'cat'의 (-81.012)와 'dog'의 (-80.012)다. 또한 이러한 좌표의 거리를 사용해 관련성과 맥락을 감지할 수 있다. \n",
    "\n",
    "위에서 언급한 '벡터 공간'의 크기와 사용하고있는 고유 단어(max_ features)의 수를 정의할 필요가 있다. 다시, 임베딩 크기는 조정 및 실험할 수 있는 매개 변수다."
   ]
  },
  {
   "cell_type": "code",
   "execution_count": 12,
   "id": "necessary-apple",
   "metadata": {
    "ExecuteTime": {
     "end_time": "2021-03-25T16:04:02.968361Z",
     "start_time": "2021-03-25T16:04:02.884585Z"
    }
   },
   "outputs": [],
   "source": [
    "embed_size = 128\n",
    "x = Embedding(max_features, embed_size)(inp)"
   ]
  },
  {
   "cell_type": "markdown",
   "id": "married-victoria",
   "metadata": {},
   "source": [
    "임베딩 레이어는 (None, 200, 128)의 3D tensor를 출력한다. 이는 문장 배열이며 각 단어(200)에 대해 128개의 좌표 배열이 임베딩의 벡터 공간에 잇다."
   ]
  },
  {
   "cell_type": "markdown",
   "id": "opposite-humidity",
   "metadata": {},
   "source": [
    "다음으로 이 Tensor를 LSTM 레이어에 제공한다. LSTM을 60 차원을 가진 출력을 생성하도록 설정하고 LSTM이 결과의 전체 unrolled sequence를 반환하기 원한다. 아마 알고 있듯, LSTM이나 RNN은 이전 네트워크 출력을 현재 네트워크의 입력으로 재귀적으로 제공해 작동하며, X개의 재귀 후 최종 출력을 한다. 그러나 사용 사례에 따라 롤링되지 않은 또는 재귀의 출력을 결과로 가져와 다음 레이어로 전달할 수 있다."
   ]
  },
  {
   "cell_type": "code",
   "execution_count": 13,
   "id": "fixed-rings",
   "metadata": {
    "ExecuteTime": {
     "end_time": "2021-03-25T16:08:15.326656Z",
     "start_time": "2021-03-25T16:08:14.945583Z"
    }
   },
   "outputs": [],
   "source": [
    "x = LSTM(60, return_sequences=True, name='lstm_layer')(x)"
   ]
  },
  {
   "cell_type": "code",
   "execution_count": 14,
   "id": "maritime-cutting",
   "metadata": {
    "ExecuteTime": {
     "end_time": "2021-03-25T16:08:25.785159Z",
     "start_time": "2021-03-25T16:08:25.769199Z"
    }
   },
   "outputs": [],
   "source": [
    "x = GlobalMaxPool1D()(x)"
   ]
  },
  {
   "cell_type": "code",
   "execution_count": 15,
   "id": "dominant-profile",
   "metadata": {
    "ExecuteTime": {
     "end_time": "2021-03-25T16:08:31.530279Z",
     "start_time": "2021-03-25T16:08:31.520306Z"
    }
   },
   "outputs": [],
   "source": [
    "x = Dropout(0.1)(x)"
   ]
  },
  {
   "cell_type": "markdown",
   "id": "creative-mother",
   "metadata": {},
   "source": [
    "### Activation ((Input X Weights) + Bias)"
   ]
  },
  {
   "cell_type": "code",
   "execution_count": 16,
   "id": "aerial-lincoln",
   "metadata": {
    "ExecuteTime": {
     "end_time": "2021-03-25T16:08:58.998955Z",
     "start_time": "2021-03-25T16:08:58.977014Z"
    }
   },
   "outputs": [],
   "source": [
    "x = Dense(50, activation='relu')(x)"
   ]
  },
  {
   "cell_type": "code",
   "execution_count": 17,
   "id": "level-miami",
   "metadata": {
    "ExecuteTime": {
     "end_time": "2021-03-25T16:09:05.973598Z",
     "start_time": "2021-03-25T16:09:05.952653Z"
    }
   },
   "outputs": [],
   "source": [
    "x = Dropout(0.1)(x)"
   ]
  },
  {
   "cell_type": "code",
   "execution_count": 18,
   "id": "different-conducting",
   "metadata": {
    "ExecuteTime": {
     "end_time": "2021-03-25T16:09:17.731824Z",
     "start_time": "2021-03-25T16:09:17.716865Z"
    }
   },
   "outputs": [],
   "source": [
    "x = Dense(6, activation='sigmoid')(x)"
   ]
  },
  {
   "cell_type": "code",
   "execution_count": 19,
   "id": "touched-boards",
   "metadata": {
    "ExecuteTime": {
     "end_time": "2021-03-25T16:09:47.440014Z",
     "start_time": "2021-03-25T16:09:47.421026Z"
    }
   },
   "outputs": [],
   "source": [
    "model = Model(inputs=inp, outputs=x)\n",
    "model.compile(loss='binary_crossentropy',\n",
    "             optimizer='adam', metrics=['accuracy'])"
   ]
  },
  {
   "cell_type": "code",
   "execution_count": 20,
   "id": "necessary-praise",
   "metadata": {
    "ExecuteTime": {
     "end_time": "2021-03-25T16:34:02.998712Z",
     "start_time": "2021-03-25T16:10:14.386950Z"
    }
   },
   "outputs": [
    {
     "name": "stdout",
     "output_type": "stream",
     "text": [
      "Epoch 1/2\n",
      "4488/4488 [==============================] - 727s 161ms/step - loss: 0.1109 - accuracy: 0.8396 - val_loss: 0.0495 - val_accuracy: 0.9937\n",
      "Epoch 2/2\n",
      "4488/4488 [==============================] - 702s 156ms/step - loss: 0.0459 - accuracy: 0.9919 - val_loss: 0.0494 - val_accuracy: 0.9933\n"
     ]
    },
    {
     "data": {
      "text/plain": [
       "<tensorflow.python.keras.callbacks.History at 0x24c69d61550>"
      ]
     },
     "execution_count": 20,
     "metadata": {},
     "output_type": "execute_result"
    }
   ],
   "source": [
    "batch_size = 32\n",
    "epochs = 2\n",
    "model.fit(X_t, y, batch_size=batch_size, epochs=epochs, validation_split=0.1)"
   ]
  },
  {
   "cell_type": "markdown",
   "id": "occupational-equality",
   "metadata": {},
   "source": [
    "### Additional tips and tricks"
   ]
  },
  {
   "cell_type": "markdown",
   "id": "fatty-writing",
   "metadata": {},
   "source": [
    "1. 특히 차원 관련 오류를 반환하기 시작할 때 일부 장애물에 부딪힌 경우 'model.summary()'를 실행하는 것이 좋다. 진단에 매우 유용한 모든 레이어 출력을 나열하기 때문이다."
   ]
  },
  {
   "cell_type": "code",
   "execution_count": 21,
   "id": "dramatic-association",
   "metadata": {
    "ExecuteTime": {
     "end_time": "2021-03-25T16:34:05.421236Z",
     "start_time": "2021-03-25T16:34:05.408273Z"
    }
   },
   "outputs": [
    {
     "name": "stdout",
     "output_type": "stream",
     "text": [
      "Model: \"model\"\n",
      "_________________________________________________________________\n",
      "Layer (type)                 Output Shape              Param #   \n",
      "=================================================================\n",
      "input_1 (InputLayer)         [(None, 200)]             0         \n",
      "_________________________________________________________________\n",
      "embedding (Embedding)        (None, 200, 128)          2560000   \n",
      "_________________________________________________________________\n",
      "lstm_layer (LSTM)            (None, 200, 60)           45360     \n",
      "_________________________________________________________________\n",
      "global_max_pooling1d (Global (None, 60)                0         \n",
      "_________________________________________________________________\n",
      "dropout (Dropout)            (None, 60)                0         \n",
      "_________________________________________________________________\n",
      "dense (Dense)                (None, 50)                3050      \n",
      "_________________________________________________________________\n",
      "dropout_1 (Dropout)          (None, 50)                0         \n",
      "_________________________________________________________________\n",
      "dense_1 (Dense)              (None, 6)                 306       \n",
      "=================================================================\n",
      "Total params: 2,608,716\n",
      "Trainable params: 2,608,716\n",
      "Non-trainable params: 0\n",
      "_________________________________________________________________\n"
     ]
    }
   ],
   "source": [
    "model.summary()"
   ]
  },
  {
   "cell_type": "markdown",
   "id": "following-sport",
   "metadata": {},
   "source": [
    "2. 더 많은 레이어를 추가하고 화려하게 변환하는 동안, 예상대로 출력이 작동하는지 확인하는 게 좋다. 다음을 통해 특정 레이어의 출력을 표시할 수 있다."
   ]
  },
  {
   "cell_type": "code",
   "execution_count": 22,
   "id": "unlike-consumption",
   "metadata": {
    "ExecuteTime": {
     "end_time": "2021-03-25T16:34:05.699495Z",
     "start_time": "2021-03-25T16:34:05.428219Z"
    }
   },
   "outputs": [
    {
     "data": {
      "text/plain": [
       "(1, 200, 60)"
      ]
     },
     "execution_count": 22,
     "metadata": {},
     "output_type": "execute_result"
    }
   ],
   "source": [
    "from keras import backend as K\n",
    "\n",
    "get_3rd_layer_output = K.function([model.layers[0].input],\n",
    "                                 [model.layers[2].output])\n",
    "layer_output = get_3rd_layer_output([X_t[:1]])[0]\n",
    "layer_output.shape"
   ]
  }
 ],
 "metadata": {
  "kernelspec": {
   "display_name": "Python 3",
   "language": "python",
   "name": "python3"
  },
  "language_info": {
   "codemirror_mode": {
    "name": "ipython",
    "version": 3
   },
   "file_extension": ".py",
   "mimetype": "text/x-python",
   "name": "python",
   "nbconvert_exporter": "python",
   "pygments_lexer": "ipython3",
   "version": "3.8.5"
  },
  "toc": {
   "base_numbering": 1,
   "nav_menu": {},
   "number_sections": false,
   "sideBar": true,
   "skip_h1_title": false,
   "title_cell": "Table of Contents",
   "title_sidebar": "Contents",
   "toc_cell": false,
   "toc_position": {},
   "toc_section_display": true,
   "toc_window_display": false
  },
  "varInspector": {
   "cols": {
    "lenName": 16,
    "lenType": 16,
    "lenVar": 40
   },
   "kernels_config": {
    "python": {
     "delete_cmd_postfix": "",
     "delete_cmd_prefix": "del ",
     "library": "var_list.py",
     "varRefreshCmd": "print(var_dic_list())"
    },
    "r": {
     "delete_cmd_postfix": ") ",
     "delete_cmd_prefix": "rm(",
     "library": "var_list.r",
     "varRefreshCmd": "cat(var_dic_list()) "
    }
   },
   "types_to_exclude": [
    "module",
    "function",
    "builtin_function_or_method",
    "instance",
    "_Feature"
   ],
   "window_display": false
  }
 },
 "nbformat": 4,
 "nbformat_minor": 5
}
