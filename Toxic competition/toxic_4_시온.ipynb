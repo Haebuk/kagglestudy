{
 "cells": [
  {
   "cell_type": "markdown",
   "id": "lined-journalism",
   "metadata": {},
   "source": [
    "- Day 44 : 21/03/30\n",
    "- https://www.kaggle.com/rhodiumbeng/classifying-multi-label-comments-0-9741-lb"
   ]
  },
  {
   "cell_type": "markdown",
   "id": "thick-scout",
   "metadata": {},
   "source": [
    "# Classifying multi-label comments with Logistic Regression"
   ]
  },
  {
   "cell_type": "code",
   "execution_count": 1,
   "id": "undefined-filling",
   "metadata": {
    "ExecuteTime": {
     "end_time": "2021-03-30T13:58:29.896754Z",
     "start_time": "2021-03-30T13:58:27.298189Z"
    }
   },
   "outputs": [],
   "source": [
    "import numpy as np\n",
    "import pandas as pd\n",
    "from matplotlib import pyplot as plt\n",
    "%matplotlib inline\n",
    "import seaborn as sns\n",
    "import re"
   ]
  },
  {
   "cell_type": "code",
   "execution_count": 2,
   "id": "registered-pregnancy",
   "metadata": {
    "ExecuteTime": {
     "end_time": "2021-03-30T14:04:27.733979Z",
     "start_time": "2021-03-30T14:04:25.690441Z"
    }
   },
   "outputs": [],
   "source": [
    "train_df = pd.read_csv('../input/train.csv')\n",
    "test_df = pd.read_csv('../input/test.csv')"
   ]
  },
  {
   "cell_type": "markdown",
   "id": "canadian-accuracy",
   "metadata": {},
   "source": [
    "## EDA"
   ]
  },
  {
   "cell_type": "code",
   "execution_count": 3,
   "id": "internal-portfolio",
   "metadata": {
    "ExecuteTime": {
     "end_time": "2021-03-30T14:06:03.275058Z",
     "start_time": "2021-03-30T14:06:03.239155Z"
    }
   },
   "outputs": [
    {
     "data": {
      "text/html": [
       "<div>\n",
       "<style scoped>\n",
       "    .dataframe tbody tr th:only-of-type {\n",
       "        vertical-align: middle;\n",
       "    }\n",
       "\n",
       "    .dataframe tbody tr th {\n",
       "        vertical-align: top;\n",
       "    }\n",
       "\n",
       "    .dataframe thead th {\n",
       "        text-align: right;\n",
       "    }\n",
       "</style>\n",
       "<table border=\"1\" class=\"dataframe\">\n",
       "  <thead>\n",
       "    <tr style=\"text-align: right;\">\n",
       "      <th></th>\n",
       "      <th>id</th>\n",
       "      <th>comment_text</th>\n",
       "      <th>toxic</th>\n",
       "      <th>severe_toxic</th>\n",
       "      <th>obscene</th>\n",
       "      <th>threat</th>\n",
       "      <th>insult</th>\n",
       "      <th>identity_hate</th>\n",
       "    </tr>\n",
       "  </thead>\n",
       "  <tbody>\n",
       "    <tr>\n",
       "      <th>127854</th>\n",
       "      <td>abe707b80ce5a097</td>\n",
       "      <td>I didn't mean that, but you are being a real j...</td>\n",
       "      <td>1</td>\n",
       "      <td>0</td>\n",
       "      <td>0</td>\n",
       "      <td>0</td>\n",
       "      <td>1</td>\n",
       "      <td>0</td>\n",
       "    </tr>\n",
       "    <tr>\n",
       "      <th>81543</th>\n",
       "      <td>da1898b8c4b70e6f</td>\n",
       "      <td>\"\\nYou remove that part by deleting the codes ...</td>\n",
       "      <td>0</td>\n",
       "      <td>0</td>\n",
       "      <td>0</td>\n",
       "      <td>0</td>\n",
       "      <td>0</td>\n",
       "      <td>0</td>\n",
       "    </tr>\n",
       "    <tr>\n",
       "      <th>96729</th>\n",
       "      <td>055a0a4ae29605d4</td>\n",
       "      <td>According to Wikipedia:MOSISLAM, honourifics a...</td>\n",
       "      <td>0</td>\n",
       "      <td>0</td>\n",
       "      <td>0</td>\n",
       "      <td>0</td>\n",
       "      <td>0</td>\n",
       "      <td>0</td>\n",
       "    </tr>\n",
       "    <tr>\n",
       "      <th>32001</th>\n",
       "      <td>5505440406a4ac0c</td>\n",
       "      <td>They were not actually OSes, because they requ...</td>\n",
       "      <td>0</td>\n",
       "      <td>0</td>\n",
       "      <td>0</td>\n",
       "      <td>0</td>\n",
       "      <td>0</td>\n",
       "      <td>0</td>\n",
       "    </tr>\n",
       "    <tr>\n",
       "      <th>80243</th>\n",
       "      <td>d6ae7dcadf7abcbf</td>\n",
       "      <td>that talk was preserved at any rate</td>\n",
       "      <td>0</td>\n",
       "      <td>0</td>\n",
       "      <td>0</td>\n",
       "      <td>0</td>\n",
       "      <td>0</td>\n",
       "      <td>0</td>\n",
       "    </tr>\n",
       "  </tbody>\n",
       "</table>\n",
       "</div>"
      ],
      "text/plain": [
       "                      id                                       comment_text  \\\n",
       "127854  abe707b80ce5a097  I didn't mean that, but you are being a real j...   \n",
       "81543   da1898b8c4b70e6f  \"\\nYou remove that part by deleting the codes ...   \n",
       "96729   055a0a4ae29605d4  According to Wikipedia:MOSISLAM, honourifics a...   \n",
       "32001   5505440406a4ac0c  They were not actually OSes, because they requ...   \n",
       "80243   d6ae7dcadf7abcbf                that talk was preserved at any rate   \n",
       "\n",
       "        toxic  severe_toxic  obscene  threat  insult  identity_hate  \n",
       "127854      1             0        0       0       1              0  \n",
       "81543       0             0        0       0       0              0  \n",
       "96729       0             0        0       0       0              0  \n",
       "32001       0             0        0       0       0              0  \n",
       "80243       0             0        0       0       0              0  "
      ]
     },
     "execution_count": 3,
     "metadata": {},
     "output_type": "execute_result"
    }
   ],
   "source": [
    "train_df.sample(5)"
   ]
  },
  {
   "cell_type": "markdown",
   "id": "ordered-night",
   "metadata": {},
   "source": [
    "이 training 데이터에서 코멘트는 toxic, severe toxic, obscene, threat, insult, identity hate의 6개 카테고리 중 한 개 이상으로 라벨링된다. 이는 본질적으로 다중 레이블 분류 문제다."
   ]
  },
  {
   "cell_type": "code",
   "execution_count": 4,
   "id": "elegant-mechanics",
   "metadata": {
    "ExecuteTime": {
     "end_time": "2021-03-30T14:33:27.993901Z",
     "start_time": "2021-03-30T14:33:27.987917Z"
    }
   },
   "outputs": [],
   "source": [
    "cols_target = ['obscene','insult','toxic','severe_toxic','identity_hate','threat']"
   ]
  },
  {
   "cell_type": "code",
   "execution_count": 5,
   "id": "central-significance",
   "metadata": {
    "ExecuteTime": {
     "end_time": "2021-03-30T14:33:31.968144Z",
     "start_time": "2021-03-30T14:33:31.879382Z"
    }
   },
   "outputs": [
    {
     "data": {
      "text/html": [
       "<div>\n",
       "<style scoped>\n",
       "    .dataframe tbody tr th:only-of-type {\n",
       "        vertical-align: middle;\n",
       "    }\n",
       "\n",
       "    .dataframe tbody tr th {\n",
       "        vertical-align: top;\n",
       "    }\n",
       "\n",
       "    .dataframe thead th {\n",
       "        text-align: right;\n",
       "    }\n",
       "</style>\n",
       "<table border=\"1\" class=\"dataframe\">\n",
       "  <thead>\n",
       "    <tr style=\"text-align: right;\">\n",
       "      <th></th>\n",
       "      <th>toxic</th>\n",
       "      <th>severe_toxic</th>\n",
       "      <th>obscene</th>\n",
       "      <th>threat</th>\n",
       "      <th>insult</th>\n",
       "      <th>identity_hate</th>\n",
       "    </tr>\n",
       "  </thead>\n",
       "  <tbody>\n",
       "    <tr>\n",
       "      <th>count</th>\n",
       "      <td>159571.000000</td>\n",
       "      <td>159571.000000</td>\n",
       "      <td>159571.000000</td>\n",
       "      <td>159571.000000</td>\n",
       "      <td>159571.000000</td>\n",
       "      <td>159571.000000</td>\n",
       "    </tr>\n",
       "    <tr>\n",
       "      <th>mean</th>\n",
       "      <td>0.095844</td>\n",
       "      <td>0.009996</td>\n",
       "      <td>0.052948</td>\n",
       "      <td>0.002996</td>\n",
       "      <td>0.049364</td>\n",
       "      <td>0.008805</td>\n",
       "    </tr>\n",
       "    <tr>\n",
       "      <th>std</th>\n",
       "      <td>0.294379</td>\n",
       "      <td>0.099477</td>\n",
       "      <td>0.223931</td>\n",
       "      <td>0.054650</td>\n",
       "      <td>0.216627</td>\n",
       "      <td>0.093420</td>\n",
       "    </tr>\n",
       "    <tr>\n",
       "      <th>min</th>\n",
       "      <td>0.000000</td>\n",
       "      <td>0.000000</td>\n",
       "      <td>0.000000</td>\n",
       "      <td>0.000000</td>\n",
       "      <td>0.000000</td>\n",
       "      <td>0.000000</td>\n",
       "    </tr>\n",
       "    <tr>\n",
       "      <th>25%</th>\n",
       "      <td>0.000000</td>\n",
       "      <td>0.000000</td>\n",
       "      <td>0.000000</td>\n",
       "      <td>0.000000</td>\n",
       "      <td>0.000000</td>\n",
       "      <td>0.000000</td>\n",
       "    </tr>\n",
       "    <tr>\n",
       "      <th>50%</th>\n",
       "      <td>0.000000</td>\n",
       "      <td>0.000000</td>\n",
       "      <td>0.000000</td>\n",
       "      <td>0.000000</td>\n",
       "      <td>0.000000</td>\n",
       "      <td>0.000000</td>\n",
       "    </tr>\n",
       "    <tr>\n",
       "      <th>75%</th>\n",
       "      <td>0.000000</td>\n",
       "      <td>0.000000</td>\n",
       "      <td>0.000000</td>\n",
       "      <td>0.000000</td>\n",
       "      <td>0.000000</td>\n",
       "      <td>0.000000</td>\n",
       "    </tr>\n",
       "    <tr>\n",
       "      <th>max</th>\n",
       "      <td>1.000000</td>\n",
       "      <td>1.000000</td>\n",
       "      <td>1.000000</td>\n",
       "      <td>1.000000</td>\n",
       "      <td>1.000000</td>\n",
       "      <td>1.000000</td>\n",
       "    </tr>\n",
       "  </tbody>\n",
       "</table>\n",
       "</div>"
      ],
      "text/plain": [
       "               toxic   severe_toxic        obscene         threat  \\\n",
       "count  159571.000000  159571.000000  159571.000000  159571.000000   \n",
       "mean        0.095844       0.009996       0.052948       0.002996   \n",
       "std         0.294379       0.099477       0.223931       0.054650   \n",
       "min         0.000000       0.000000       0.000000       0.000000   \n",
       "25%         0.000000       0.000000       0.000000       0.000000   \n",
       "50%         0.000000       0.000000       0.000000       0.000000   \n",
       "75%         0.000000       0.000000       0.000000       0.000000   \n",
       "max         1.000000       1.000000       1.000000       1.000000   \n",
       "\n",
       "              insult  identity_hate  \n",
       "count  159571.000000  159571.000000  \n",
       "mean        0.049364       0.008805  \n",
       "std         0.216627       0.093420  \n",
       "min         0.000000       0.000000  \n",
       "25%         0.000000       0.000000  \n",
       "50%         0.000000       0.000000  \n",
       "75%         0.000000       0.000000  \n",
       "max         1.000000       1.000000  "
      ]
     },
     "execution_count": 5,
     "metadata": {},
     "output_type": "execute_result"
    }
   ],
   "source": [
    "# 수치 열에 결측값 확인\n",
    "train_df.describe()"
   ]
  },
  {
   "cell_type": "markdown",
   "id": "removable-apartment",
   "metadata": {},
   "source": [
    "결측 수치값이 없다. 평균 값이 매우 작기 때문에(0.05 이하), 6개 카테고리에서 양수로 표시되지 않는 경우가 많다. 이로부터 6개 카테고리 중 어느 카테고리에도 라벨링되지 않은 코멘트가 많다고 추측할 수 있다. 확인해보자."
   ]
  },
  {
   "cell_type": "code",
   "execution_count": 7,
   "id": "prescription-participant",
   "metadata": {
    "ExecuteTime": {
     "end_time": "2021-03-30T14:37:07.820494Z",
     "start_time": "2021-03-30T14:37:07.788581Z"
    }
   },
   "outputs": [
    {
     "name": "stdout",
     "output_type": "stream",
     "text": [
      "Percentage of unlabelled comments is 89.83211235124176\n"
     ]
    }
   ],
   "source": [
    "unlabelled_in_all = train_df[(train_df['toxic']!=1) & (train_df['severe_toxic']!=1) & (train_df['obscene']!=1) \n",
    "                             & (train_df['threat']!=1) & (train_df['insult']!=1) & (train_df['identity_hate']!=1)]\n",
    "print('Percentage of unlabelled comments is', len(unlabelled_in_all) / len(train_df)*100)"
   ]
  },
  {
   "cell_type": "code",
   "execution_count": 9,
   "id": "million-criticism",
   "metadata": {
    "ExecuteTime": {
     "end_time": "2021-03-30T14:37:41.140169Z",
     "start_time": "2021-03-30T14:37:41.120223Z"
    }
   },
   "outputs": [
    {
     "data": {
      "text/plain": [
       "0"
      ]
     },
     "execution_count": 9,
     "metadata": {},
     "output_type": "execute_result"
    }
   ],
   "source": [
    "# 'null' 코멘트 확인\n",
    "no_comment = train_df[train_df['comment_text'].isnull()]\n",
    "len(no_comment)"
   ]
  },
  {
   "cell_type": "code",
   "execution_count": 10,
   "id": "protected-aviation",
   "metadata": {
    "ExecuteTime": {
     "end_time": "2021-03-30T14:37:45.854251Z",
     "start_time": "2021-03-30T14:37:45.831313Z"
    }
   },
   "outputs": [
    {
     "data": {
      "text/html": [
       "<div>\n",
       "<style scoped>\n",
       "    .dataframe tbody tr th:only-of-type {\n",
       "        vertical-align: middle;\n",
       "    }\n",
       "\n",
       "    .dataframe tbody tr th {\n",
       "        vertical-align: top;\n",
       "    }\n",
       "\n",
       "    .dataframe thead th {\n",
       "        text-align: right;\n",
       "    }\n",
       "</style>\n",
       "<table border=\"1\" class=\"dataframe\">\n",
       "  <thead>\n",
       "    <tr style=\"text-align: right;\">\n",
       "      <th></th>\n",
       "      <th>id</th>\n",
       "      <th>comment_text</th>\n",
       "    </tr>\n",
       "  </thead>\n",
       "  <tbody>\n",
       "    <tr>\n",
       "      <th>0</th>\n",
       "      <td>00001cee341fdb12</td>\n",
       "      <td>Yo bitch Ja Rule is more succesful then you'll...</td>\n",
       "    </tr>\n",
       "    <tr>\n",
       "      <th>1</th>\n",
       "      <td>0000247867823ef7</td>\n",
       "      <td>== From RfC == \\n\\n The title is fine as it is...</td>\n",
       "    </tr>\n",
       "    <tr>\n",
       "      <th>2</th>\n",
       "      <td>00013b17ad220c46</td>\n",
       "      <td>\" \\n\\n == Sources == \\n\\n * Zawe Ashton on Lap...</td>\n",
       "    </tr>\n",
       "    <tr>\n",
       "      <th>3</th>\n",
       "      <td>00017563c3f7919a</td>\n",
       "      <td>:If you have a look back at the source, the in...</td>\n",
       "    </tr>\n",
       "    <tr>\n",
       "      <th>4</th>\n",
       "      <td>00017695ad8997eb</td>\n",
       "      <td>I don't anonymously edit articles at all.</td>\n",
       "    </tr>\n",
       "  </tbody>\n",
       "</table>\n",
       "</div>"
      ],
      "text/plain": [
       "                 id                                       comment_text\n",
       "0  00001cee341fdb12  Yo bitch Ja Rule is more succesful then you'll...\n",
       "1  0000247867823ef7  == From RfC == \\n\\n The title is fine as it is...\n",
       "2  00013b17ad220c46  \" \\n\\n == Sources == \\n\\n * Zawe Ashton on Lap...\n",
       "3  00017563c3f7919a  :If you have a look back at the source, the in...\n",
       "4  00017695ad8997eb          I don't anonymously edit articles at all."
      ]
     },
     "execution_count": 10,
     "metadata": {},
     "output_type": "execute_result"
    }
   ],
   "source": [
    "test_df.head()"
   ]
  },
  {
   "cell_type": "code",
   "execution_count": 11,
   "id": "previous-contrast",
   "metadata": {
    "ExecuteTime": {
     "end_time": "2021-03-30T14:38:03.221472Z",
     "start_time": "2021-03-30T14:38:03.189558Z"
    }
   },
   "outputs": [
    {
     "data": {
      "text/html": [
       "<div>\n",
       "<style scoped>\n",
       "    .dataframe tbody tr th:only-of-type {\n",
       "        vertical-align: middle;\n",
       "    }\n",
       "\n",
       "    .dataframe tbody tr th {\n",
       "        vertical-align: top;\n",
       "    }\n",
       "\n",
       "    .dataframe thead th {\n",
       "        text-align: right;\n",
       "    }\n",
       "</style>\n",
       "<table border=\"1\" class=\"dataframe\">\n",
       "  <thead>\n",
       "    <tr style=\"text-align: right;\">\n",
       "      <th></th>\n",
       "      <th>id</th>\n",
       "      <th>comment_text</th>\n",
       "    </tr>\n",
       "  </thead>\n",
       "  <tbody>\n",
       "  </tbody>\n",
       "</table>\n",
       "</div>"
      ],
      "text/plain": [
       "Empty DataFrame\n",
       "Columns: [id, comment_text]\n",
       "Index: []"
      ]
     },
     "execution_count": 11,
     "metadata": {},
     "output_type": "execute_result"
    }
   ],
   "source": [
    "no_comment = test_df[test_df['comment_text'].isnull()]\n",
    "no_comment"
   ]
  },
  {
   "cell_type": "markdown",
   "id": "occupational-consultation",
   "metadata": {},
   "source": [
    "train, test 데이터의 모든 행이 코멘트를 포함하므로, null 필드를 처리하지 않아도 된다."
   ]
  },
  {
   "cell_type": "code",
   "execution_count": 12,
   "id": "objective-immunology",
   "metadata": {
    "ExecuteTime": {
     "end_time": "2021-03-30T14:39:26.254061Z",
     "start_time": "2021-03-30T14:39:26.235111Z"
    }
   },
   "outputs": [
    {
     "name": "stdout",
     "output_type": "stream",
     "text": [
      "Total rows in test is 153164\n",
      "Total rows in train is 159571\n",
      "obscene           8449\n",
      "insult            7877\n",
      "toxic            15294\n",
      "severe_toxic      1595\n",
      "identity_hate     1405\n",
      "threat             478\n",
      "dtype: int64\n"
     ]
    }
   ],
   "source": [
    "# train, test 데이터의 총 행과 카테고리 수 확인\n",
    "print('Total rows in test is {}'.format(len(test_df)))\n",
    "print('Total rows in train is {}'.format(len(train_df)))\n",
    "print(train_df[cols_target].sum())"
   ]
  },
  {
   "cell_type": "markdown",
   "id": "lucky-color",
   "metadata": {},
   "source": [
    "앞서 언급했듯이, train 데이터에서 대부분의 코멘트는 이 카테고리들 중 한 개 이상으로 레이블링되어있지 않다."
   ]
  },
  {
   "cell_type": "code",
   "execution_count": 13,
   "id": "rolled-rover",
   "metadata": {
    "ExecuteTime": {
     "end_time": "2021-03-30T14:40:55.600380Z",
     "start_time": "2021-03-30T14:40:55.494723Z"
    }
   },
   "outputs": [],
   "source": [
    "# train 데이터에서 행의 문자열 길이를 확인하고 기록\n",
    "train_df['char_length'] = train_df['comment_text'].apply(lambda x: len(str(x)))"
   ]
  },
  {
   "cell_type": "code",
   "execution_count": 14,
   "id": "compound-powder",
   "metadata": {
    "ExecuteTime": {
     "end_time": "2021-03-30T14:41:12.591972Z",
     "start_time": "2021-03-30T14:41:12.265843Z"
    }
   },
   "outputs": [
    {
     "data": {
      "image/png": "[encoded data removed]",
      "text/plain": [
       "<Figure size 432x288 with 1 Axes>"
      ]
     },
     "metadata": {},
     "output_type": "display_data"
    }
   ],
   "source": [
    "# 텍스트 길이의 히스토그램\n",
    "sns.set()\n",
    "train_df['char_length'].hist()\n",
    "plt.show()"
   ]
  },
  {
   "cell_type": "markdown",
   "id": "refined-prince",
   "metadata": {},
   "source": [
    "대부분의 텍스트 길이는 500자 이내이고 일부는 5000자 이상도 된다.\n",
    "\n",
    "다음으로 target 변수간 상관관계를 살펴보자."
   ]
  },
  {
   "cell_type": "code",
   "execution_count": 15,
   "id": "forward-therapist",
   "metadata": {
    "ExecuteTime": {
     "end_time": "2021-03-30T14:42:34.814841Z",
     "start_time": "2021-03-30T14:42:34.786877Z"
    }
   },
   "outputs": [],
   "source": [
    "data = train_df[cols_target]"
   ]
  },
  {
   "cell_type": "code",
   "execution_count": 17,
   "id": "modern-action",
   "metadata": {
    "ExecuteTime": {
     "end_time": "2021-03-30T14:46:48.310144Z",
     "start_time": "2021-03-30T14:46:47.339259Z"
    }
   },
   "outputs": [
    {
     "data": {
      "image/png": "[encoded data removed]",
      "text/plain": [
       "<Figure size 504x504 with 2 Axes>"
      ]
     },
     "metadata": {},
     "output_type": "display_data"
    }
   ],
   "source": [
    "colormap = plt.cm.plasma\n",
    "plt.figure(figsize=(7,7))\n",
    "plt.title('Correlation of features & targets', y=1.05, size=14)\n",
    "sns.heatmap(data.astype(float).corr(), linewidths=0.1, vmax=1.0, square=True, cmap=colormap,\n",
    "           linecolor='white', annot=True)\n",
    "plt.show()"
   ]
  },
  {
   "cell_type": "markdown",
   "id": "specified-bacon",
   "metadata": {},
   "source": [
    "실제로 일부 레이블은 상관관계가 더 높아보인다. insult-obscene은 0.74로 가장 높고, toxic-obscene과 toxic-insult가 다음이다. \n",
    "\n",
    "test 데이터에서 코멘트 텍스트의 문자열 길이와 분포는 어떨까?"
   ]
  },
  {
   "cell_type": "code",
   "execution_count": 18,
   "id": "liberal-brighton",
   "metadata": {
    "ExecuteTime": {
     "end_time": "2021-03-30T14:48:52.080917Z",
     "start_time": "2021-03-30T14:48:51.917355Z"
    }
   },
   "outputs": [],
   "source": [
    "test_df['char_length'] = test_df['comment_text'].apply(lambda x: len(str(x)))"
   ]
  },
  {
   "cell_type": "code",
   "execution_count": 19,
   "id": "saved-czech",
   "metadata": {
    "ExecuteTime": {
     "end_time": "2021-03-30T14:49:03.202784Z",
     "start_time": "2021-03-30T14:49:02.963398Z"
    }
   },
   "outputs": [
    {
     "data": {
      "image/png": "[encoded data removed]",
      "text/plain": [
       "<Figure size 432x288 with 1 Axes>"
      ]
     },
     "metadata": {},
     "output_type": "display_data"
    }
   ],
   "source": [
    "plt.figure()\n",
    "plt.hist(test_df['char_length'])\n",
    "plt.show()"
   ]
  },
  {
   "cell_type": "markdown",
   "id": "efficient-budapest",
   "metadata": {},
   "source": [
    "이제 문자열 길이 분포 모양은 training과 train 데이터 사이에서 비슷해보인다. training 데이터의 경우, train 데이터가 코멘트 카테고리의 레이블링을 한 사람들을 용이하게 하기 위해 5000자로 잘라졌다고 추측할 수 있다."
   ]
  },
  {
   "cell_type": "markdown",
   "id": "conditional-judges",
   "metadata": {},
   "source": [
    "## Clean up the comment text"
   ]
  },
  {
   "cell_type": "code",
   "execution_count": 20,
   "id": "educated-terrorist",
   "metadata": {
    "ExecuteTime": {
     "end_time": "2021-03-30T14:54:56.238933Z",
     "start_time": "2021-03-30T14:54:56.231953Z"
    }
   },
   "outputs": [],
   "source": [
    "def clean_text(text):\n",
    "    text = text.lower()\n",
    "    text = re.sub(r\"what's\", \"what is \", text)\n",
    "    text = re.sub(r\"\\'s\", \" \", text)\n",
    "    text = re.sub(r\"\\'ve\", \" have\", text)\n",
    "    text = re.sub(r\"can't\", \"cannot \", text)\n",
    "    text = re.sub(r\"n't\", \" not \", text)\n",
    "    text = re.sub(r\"i'm\", \"i am \", text)\n",
    "    text = re.sub(r\"\\'re\", \" are \", text)\n",
    "    text = re.sub(r\"\\'d\", \" would \", text)\n",
    "    text = re.sub(r\"\\'ll\", \" will \", text)\n",
    "    text = re.sub(r\"\\'scuse\", \" excuse \", text)\n",
    "    text = re.sub('\\W', ' ', text)\n",
    "    text = re.sub('\\s+', ' ', text)\n",
    "    text = text.strip(' ')\n",
    "    return text"
   ]
  },
  {
   "cell_type": "code",
   "execution_count": 21,
   "id": "recognized-closing",
   "metadata": {
    "ExecuteTime": {
     "end_time": "2021-03-30T14:55:58.108816Z",
     "start_time": "2021-03-30T14:55:47.322287Z"
    }
   },
   "outputs": [],
   "source": [
    "# train_df의 comment_text 처리\n",
    "train_df['comment_text'] = train_df['comment_text'].map(lambda com: clean_text(com))"
   ]
  },
  {
   "cell_type": "code",
   "execution_count": 22,
   "id": "alternate-desktop",
   "metadata": {
    "ExecuteTime": {
     "end_time": "2021-03-30T14:56:29.295148Z",
     "start_time": "2021-03-30T14:56:18.632768Z"
    }
   },
   "outputs": [],
   "source": [
    "# test_df의 comment_text 처리\n",
    "test_df['comment_text'] = test_df['comment_text'].map(lambda com: clean_text(com))"
   ]
  },
  {
   "cell_type": "markdown",
   "id": "instructional-scoop",
   "metadata": {},
   "source": [
    "## Define X from entire train & test data for use in tokenization by Vectorizer"
   ]
  },
  {
   "cell_type": "code",
   "execution_count": 23,
   "id": "alpine-appreciation",
   "metadata": {
    "ExecuteTime": {
     "end_time": "2021-03-30T14:56:49.012265Z",
     "start_time": "2021-03-30T14:56:48.984343Z"
    }
   },
   "outputs": [],
   "source": [
    "train_df = train_df.drop('char_length', axis=1)"
   ]
  },
  {
   "cell_type": "code",
   "execution_count": 24,
   "id": "resistant-mother",
   "metadata": {
    "ExecuteTime": {
     "end_time": "2021-03-30T14:57:00.643915Z",
     "start_time": "2021-03-30T14:57:00.631950Z"
    }
   },
   "outputs": [],
   "source": [
    "X = train_df.comment_text\n",
    "test_X = test_df.comment_text"
   ]
  },
  {
   "cell_type": "code",
   "execution_count": 25,
   "id": "smart-vienna",
   "metadata": {
    "ExecuteTime": {
     "end_time": "2021-03-30T14:57:10.371196Z",
     "start_time": "2021-03-30T14:57:10.366210Z"
    }
   },
   "outputs": [
    {
     "name": "stdout",
     "output_type": "stream",
     "text": [
      "(159571,) (153164,)\n"
     ]
    }
   ],
   "source": [
    "print(X.shape, test_X.shape)"
   ]
  },
  {
   "cell_type": "markdown",
   "id": "civil-force",
   "metadata": {},
   "source": [
    "## Vectorizer the data"
   ]
  },
  {
   "cell_type": "code",
   "execution_count": 27,
   "id": "ecological-representation",
   "metadata": {
    "ExecuteTime": {
     "end_time": "2021-03-30T14:58:56.822337Z",
     "start_time": "2021-03-30T14:58:56.810327Z"
    }
   },
   "outputs": [
    {
     "data": {
      "text/plain": [
       "TfidfVectorizer(max_features=5000, stop_words='english')"
      ]
     },
     "execution_count": 27,
     "metadata": {},
     "output_type": "execute_result"
    }
   ],
   "source": [
    "# TfidfVectorizer 임포트 및 인스턴스화\n",
    "from sklearn.feature_extraction.text import CountVectorizer\n",
    "from sklearn.feature_extraction.text import TfidfVectorizer\n",
    "vect = TfidfVectorizer(max_features=5000, stop_words='english')\n",
    "vect"
   ]
  },
  {
   "cell_type": "code",
   "execution_count": 28,
   "id": "logical-funeral",
   "metadata": {
    "ExecuteTime": {
     "end_time": "2021-03-30T15:00:35.262167Z",
     "start_time": "2021-03-30T15:00:25.666221Z"
    }
   },
   "outputs": [
    {
     "data": {
      "text/plain": [
       "<159571x5000 sparse matrix of type '<class 'numpy.float64'>'\n",
       "\twith 3178655 stored elements in Compressed Sparse Row format>"
      ]
     },
     "execution_count": 28,
     "metadata": {},
     "output_type": "execute_result"
    }
   ],
   "source": [
    "# training 데이터에서 사전을 학습하고, document-term 행렬 생성에 사용\n",
    "X_dtm = vect.fit_transform(X)\n",
    "# X_train으로부터 생성된 document-term matrix \n",
    "X_dtm"
   ]
  },
  {
   "cell_type": "code",
   "execution_count": 29,
   "id": "amateur-syracuse",
   "metadata": {
    "ExecuteTime": {
     "end_time": "2021-03-30T15:00:52.137861Z",
     "start_time": "2021-03-30T15:00:43.318439Z"
    }
   },
   "outputs": [
    {
     "data": {
      "text/plain": [
       "<153164x5000 sparse matrix of type '<class 'numpy.float64'>'\n",
       "\twith 2618914 stored elements in Compressed Sparse Row format>"
      ]
     },
     "execution_count": 29,
     "metadata": {},
     "output_type": "execute_result"
    }
   ],
   "source": [
    "test_X_dtm = vect.transform(test_X)\n",
    "test_X_dtm"
   ]
  },
  {
   "cell_type": "markdown",
   "id": "technological-departure",
   "metadata": {},
   "source": [
    "## Solving a multi-label classification problem"
   ]
  },
  {
   "cell_type": "code",
   "execution_count": null,
   "id": "modular-fancy",
   "metadata": {},
   "outputs": [],
   "source": []
  }
 ],
 "metadata": {
  "kernelspec": {
   "display_name": "Python 3",
   "language": "python",
   "name": "python3"
  },
  "language_info": {
   "codemirror_mode": {
    "name": "ipython",
    "version": 3
   },
   "file_extension": ".py",
   "mimetype": "text/x-python",
   "name": "python",
   "nbconvert_exporter": "python",
   "pygments_lexer": "ipython3",
   "version": "3.8.5"
  },
  "toc": {
   "base_numbering": 1,
   "nav_menu": {},
   "number_sections": false,
   "sideBar": false,
   "skip_h1_title": false,
   "title_cell": "Table of Contents",
   "title_sidebar": "Contents",
   "toc_cell": false,
   "toc_position": {
    "height": "574.4px",
    "left": "831px",
    "top": "180px",
    "width": "307.2px"
   },
   "toc_section_display": true,
   "toc_window_display": false
  },
  "varInspector": {
   "cols": {
    "lenName": 16,
    "lenType": 16,
    "lenVar": 40
   },
   "kernels_config": {
    "python": {
     "delete_cmd_postfix": "",
     "delete_cmd_prefix": "del ",
     "library": "var_list.py",
     "varRefreshCmd": "print(var_dic_list())"
    },
    "r": {
     "delete_cmd_postfix": ") ",
     "delete_cmd_prefix": "rm(",
     "library": "var_list.r",
     "varRefreshCmd": "cat(var_dic_list()) "
    }
   },
   "types_to_exclude": [
    "module",
    "function",
    "builtin_function_or_method",
    "instance",
    "_Feature"
   ],
   "window_display": false
  }
 },
 "nbformat": 4,
 "nbformat_minor": 5
}
