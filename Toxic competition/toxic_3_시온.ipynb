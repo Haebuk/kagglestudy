{
 "cells": [
  {
   "cell_type": "markdown",
   "id": "coated-processor",
   "metadata": {},
   "source": [
    "- Day 44 : 21/03/30\n",
    "- https://www.kaggle.com/tunguz/logistic-regression-with-words-and-char-n-grams"
   ]
  },
  {
   "cell_type": "markdown",
   "id": "natural-analysis",
   "metadata": {},
   "source": [
    "# Logistic regression with words and char n-grams"
   ]
  },
  {
   "cell_type": "code",
   "execution_count": 1,
   "id": "featured-library",
   "metadata": {
    "ExecuteTime": {
     "end_time": "2021-03-30T12:47:05.931038Z",
     "start_time": "2021-03-30T12:47:02.716890Z"
    }
   },
   "outputs": [],
   "source": [
    "import numpy as np\n",
    "import pandas as pd\n",
    "\n",
    "from sklearn.feature_extraction.text import TfidfVectorizer\n",
    "from sklearn.linear_model import LogisticRegression\n",
    "from sklearn.model_selection import cross_val_score\n",
    "from scipy.sparse import hstack"
   ]
  },
  {
   "cell_type": "code",
   "execution_count": 2,
   "id": "hundred-chorus",
   "metadata": {
    "ExecuteTime": {
     "end_time": "2021-03-30T12:47:59.452727Z",
     "start_time": "2021-03-30T12:47:59.445744Z"
    }
   },
   "outputs": [],
   "source": [
    "class_names = ['toxic','severe_toxic','obscene','threat', 'insult', 'identity_hate']"
   ]
  },
  {
   "cell_type": "code",
   "execution_count": 3,
   "id": "alternative-electronics",
   "metadata": {
    "ExecuteTime": {
     "end_time": "2021-03-30T12:49:51.620701Z",
     "start_time": "2021-03-30T12:49:49.353762Z"
    }
   },
   "outputs": [],
   "source": [
    "train = pd.read_csv('../input/train.csv').fillna(' ')\n",
    "test = pd.read_csv('../input/test.csv').fillna(' ')"
   ]
  },
  {
   "cell_type": "code",
   "execution_count": 4,
   "id": "noted-oregon",
   "metadata": {
    "ExecuteTime": {
     "end_time": "2021-03-30T12:50:15.458915Z",
     "start_time": "2021-03-30T12:50:15.436014Z"
    }
   },
   "outputs": [],
   "source": [
    "train_text = train['comment_text']\n",
    "test_text = test['comment_text']\n",
    "all_text = pd.concat([train_text, test_text])"
   ]
  },
  {
   "cell_type": "code",
   "execution_count": 7,
   "id": "engaged-brown",
   "metadata": {
    "ExecuteTime": {
     "end_time": "2021-03-30T12:51:01.217031Z",
     "start_time": "2021-03-30T12:51:01.202069Z"
    }
   },
   "outputs": [
    {
     "data": {
      "text/plain": [
       "\"Explanation\\nWhy the edits made under my username Hardcore Metallica Fan were reverted? They weren't vandalisms, just closure on some GAs after I voted at New York Dolls FAC. And please don't remove the template from the talk page since I'm retired now.89.205.38.27\""
      ]
     },
     "execution_count": 7,
     "metadata": {},
     "output_type": "execute_result"
    }
   ],
   "source": [
    "train_text[0]"
   ]
  },
  {
   "cell_type": "code",
   "execution_count": 8,
   "id": "structured-trinidad",
   "metadata": {
    "ExecuteTime": {
     "end_time": "2021-03-30T12:54:39.678004Z",
     "start_time": "2021-03-30T12:53:55.591860Z"
    }
   },
   "outputs": [],
   "source": [
    "word_vectorizer = TfidfVectorizer(sublinear_tf=True, strip_accents='unicode', analyzer='word',\n",
    "                                 token_pattern=r'\\w{1,}', stop_words='english', ngram_range=(1,1), max_features=10000)\n",
    "word_vectorizer.fit(all_text)\n",
    "train_word_features = word_vectorizer.transform(train_text)\n",
    "test_word_features = word_vectorizer.transform(test_text)"
   ]
  },
  {
   "cell_type": "code",
   "execution_count": 10,
   "id": "focused-cylinder",
   "metadata": {
    "ExecuteTime": {
     "end_time": "2021-03-30T13:18:11.076259Z",
     "start_time": "2021-03-30T12:56:17.758371Z"
    }
   },
   "outputs": [
    {
     "name": "stderr",
     "output_type": "stream",
     "text": [
      "c:\\anaconda3\\envs\\study\\lib\\site-packages\\sklearn\\feature_extraction\\text.py:497: UserWarning: The parameter 'stop_words' will not be used since 'analyzer' != 'word'\n",
      "  warnings.warn(\"The parameter 'stop_words' will not be used\"\n"
     ]
    }
   ],
   "source": [
    "char_vectorizer = TfidfVectorizer(sublinear_tf=True, strip_accents='unicode', analyzer='char',\n",
    "                                 stop_words='english', ngram_range=(2,6), max_features=50000)\n",
    "char_vectorizer.fit(all_text)\n",
    "train_char_features = char_vectorizer.transform(train_text)\n",
    "test_char_features = char_vectorizer.transform(test_text)"
   ]
  },
  {
   "cell_type": "code",
   "execution_count": 11,
   "id": "annoying-plenty",
   "metadata": {
    "ExecuteTime": {
     "end_time": "2021-03-30T13:29:30.366655Z",
     "start_time": "2021-03-30T13:28:36.429843Z"
    }
   },
   "outputs": [],
   "source": [
    "train_features = hstack([train_char_features, train_word_features])\n",
    "test_features = hstack([test_char_features, test_word_features])"
   ]
  },
  {
   "cell_type": "code",
   "execution_count": 12,
   "id": "settled-reform",
   "metadata": {
    "ExecuteTime": {
     "end_time": "2021-03-30T13:46:45.349858Z",
     "start_time": "2021-03-30T13:31:33.305478Z"
    }
   },
   "outputs": [
    {
     "name": "stdout",
     "output_type": "stream",
     "text": [
      "CV score for class toxic is 0.9692181530018756\n",
      "CV score for class severe_toxic is 0.9875919388189441\n",
      "CV score for class obscene is 0.9838683748017404\n",
      "CV score for class threat is 0.98337685453807\n",
      "CV score for class insult is 0.9774237157135239\n",
      "CV score for class identity_hate is 0.9739427492741198\n",
      "Total CV score is 0.9792369643580456\n"
     ]
    }
   ],
   "source": [
    "scores = []\n",
    "submission = pd.DataFrame.from_dict({'id':test['id']})\n",
    "for class_name in class_names:\n",
    "    train_target = train[class_name]\n",
    "    classifier = LogisticRegression(C=0.1, solver='sag')\n",
    "    \n",
    "    cv_score = np.mean(cross_val_score(classifier, train_features, train_target, cv=3, scoring='roc_auc'))\n",
    "    scores.append(cv_score)\n",
    "    print('CV score for class {} is {}'.format(class_name, cv_score))\n",
    "    \n",
    "    classifier.fit(train_features, train_target)\n",
    "    submission[class_name] = classifier.predict_proba(test_features)[:,1]\n",
    "\n",
    "print('Total CV score is {}'.format(np.mean(scores)))"
   ]
  },
  {
   "cell_type": "code",
   "execution_count": 13,
   "id": "pediatric-phone",
   "metadata": {
    "ExecuteTime": {
     "end_time": "2021-03-30T13:58:50.204214Z",
     "start_time": "2021-03-30T13:58:47.801139Z"
    }
   },
   "outputs": [],
   "source": [
    "submission.to_csv('submission.csv', index=False)"
   ]
  }
 ],
 "metadata": {
  "kernelspec": {
   "display_name": "Python 3",
   "language": "python",
   "name": "python3"
  },
  "language_info": {
   "codemirror_mode": {
    "name": "ipython",
    "version": 3
   },
   "file_extension": ".py",
   "mimetype": "text/x-python",
   "name": "python",
   "nbconvert_exporter": "python",
   "pygments_lexer": "ipython3",
   "version": "3.8.5"
  },
  "toc": {
   "base_numbering": 1,
   "nav_menu": {},
   "number_sections": false,
   "sideBar": false,
   "skip_h1_title": false,
   "title_cell": "Table of Contents",
   "title_sidebar": "Contents",
   "toc_cell": false,
   "toc_position": {
    "height": "574.4px",
    "left": "748px",
    "top": "180px",
    "width": "307.2px"
   },
   "toc_section_display": true,
   "toc_window_display": false
  },
  "varInspector": {
   "cols": {
    "lenName": 16,
    "lenType": 16,
    "lenVar": 40
   },
   "kernels_config": {
    "python": {
     "delete_cmd_postfix": "",
     "delete_cmd_prefix": "del ",
     "library": "var_list.py",
     "varRefreshCmd": "print(var_dic_list())"
    },
    "r": {
     "delete_cmd_postfix": ") ",
     "delete_cmd_prefix": "rm(",
     "library": "var_list.r",
     "varRefreshCmd": "cat(var_dic_list()) "
    }
   },
   "types_to_exclude": [
    "module",
    "function",
    "builtin_function_or_method",
    "instance",
    "_Feature"
   ],
   "window_display": false
  }
 },
 "nbformat": 4,
 "nbformat_minor": 5
}
