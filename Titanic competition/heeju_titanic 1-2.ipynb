{
 "cells": [
  {
   "cell_type": "markdown",
   "metadata": {},
   "source": [
    "- competition/dataset : [Titanic - Machine Learning from Disaster](https://www.kaggle.com/c/titanic)\n",
    "- date : 2021/01/19\n",
    "- original : [https://kaggle-kr.tistory.com/17?category=868316](https://kaggle-kr.tistory.com/17?category=868316)"
   ]
  },
  {
   "cell_type": "markdown",
   "metadata": {},
   "source": [
    "## 타이타닉 튜토리얼 2 - Exploratory data analysis, visualization, machine learning"
   ]
  },
  {
   "cell_type": "markdown",
   "metadata": {},
   "source": [
    "**✏ 필사 1회**"
   ]
  },
  {
   "cell_type": "code",
   "execution_count": 1,
   "metadata": {
    "execution": {
     "iopub.execute_input": "2021-01-19T02:10:46.425961Z",
     "iopub.status.busy": "2021-01-19T02:10:46.425961Z",
     "iopub.status.idle": "2021-01-19T02:10:48.275047Z",
     "shell.execute_reply": "2021-01-19T02:10:48.275047Z",
     "shell.execute_reply.started": "2021-01-19T02:10:46.425961Z"
    }
   },
   "outputs": [],
   "source": [
    "import numpy as np\n",
    "import pandas as pd\n",
    "from pandas import Series\n",
    "import matplotlib.pyplot as plt\n",
    "import seaborn as sns\n",
    "\n",
    "plt.style.use('seaborn')\n",
    "sns.set(font_scale=2.5)\n",
    "\n",
    "import plotly.offline as py\n",
    "import plotly.graph_objs as go\n",
    "import plotly.tools as tls\n",
    "import warnings\n",
    "warnings.filterwarnings('ignore')\n",
    "\n",
    "%matplotlib inline"
   ]
  },
  {
   "cell_type": "code",
   "execution_count": 2,
   "metadata": {
    "execution": {
     "iopub.execute_input": "2021-01-19T02:10:48.277009Z",
     "iopub.status.busy": "2021-01-19T02:10:48.277009Z",
     "iopub.status.idle": "2021-01-19T02:10:48.294965Z",
     "shell.execute_reply": "2021-01-19T02:10:48.293965Z",
     "shell.execute_reply.started": "2021-01-19T02:10:48.277009Z"
    }
   },
   "outputs": [],
   "source": [
    "df_train = pd.read_csv('../data/titanic_train.csv')\n",
    "df_test = pd.read_csv('../data/titanic_test.csv')"
   ]
  },
  {
   "cell_type": "code",
   "execution_count": 3,
   "metadata": {
    "execution": {
     "iopub.execute_input": "2021-01-19T02:10:48.300966Z",
     "iopub.status.busy": "2021-01-19T02:10:48.300966Z",
     "iopub.status.idle": "2021-01-19T02:10:48.322916Z",
     "shell.execute_reply": "2021-01-19T02:10:48.322916Z",
     "shell.execute_reply.started": "2021-01-19T02:10:48.300966Z"
    }
   },
   "outputs": [],
   "source": [
    "df_train['FamilySize'] = df_train['SibSp'] + df_train['Parch'] + 1\n",
    "df_test['FamilySize'] = df_test['SibSp'] + df_test['Parch'] + 1"
   ]
  },
  {
   "cell_type": "code",
   "execution_count": 4,
   "metadata": {
    "execution": {
     "iopub.execute_input": "2021-01-19T02:10:48.324882Z",
     "iopub.status.busy": "2021-01-19T02:10:48.323884Z",
     "iopub.status.idle": "2021-01-19T02:10:48.338850Z",
     "shell.execute_reply": "2021-01-19T02:10:48.337847Z",
     "shell.execute_reply.started": "2021-01-19T02:10:48.324882Z"
    }
   },
   "outputs": [],
   "source": [
    "df_test.loc[df_test['Fare'].isnull(), 'Fare'] = df_test['Fare'].mean()\n",
    "\n",
    "df_train['Fare'] = df_train['Fare'].map(lambda i: np.log(i) if i > 0 else 0)\n",
    "df_test['Fare'] = df_test['Fare'].map(lambda i: np.log(i) if i > 0 else 0)"
   ]
  },
  {
   "cell_type": "markdown",
   "metadata": {},
   "source": [
    "### 3. Feature engineering\n",
    "본격적인 feature engineering을 시작해보겠습니다.  \n",
    "\n",
    "먼저 dataset에 존재하는 null data를 채우려고 합니다. null data를 포함하는 feature의 statistics를 참고하거나, 다른 아이디어를 짜내어 채울 수 있습니다. null data를 채우는 방법에 따라 모델의 성능이 좌지우지될 수 있기 때문에 신경써야 할 부분입니다.  \n",
    "\n",
    "Feature engineering은 실제 모델의 학습에 사용하기 위한 것이므로 train뿐만 아니라 test도 똑같이 적용해주어야 합니다."
   ]
  },
  {
   "cell_type": "markdown",
   "metadata": {},
   "source": [
    "#### 3.1 Fill Null"
   ]
  },
  {
   "cell_type": "markdown",
   "metadata": {},
   "source": [
    "##### 3.1.1 Fill Null in Age using title\n",
    "Age에는 177개의 null data가 있습니다. 우리는 title과 statistics를 사용하여 채워보겠습니다. 영어에는 Miss, Mr, Mrs와 같은 title이 존재합니다. 각 탑승객의 이름에 꼭 이런 title이 들어가게 되는데, 이를 사용해보겠습니다.  \n",
    "\n",
    "pandas series에는 data를 string으로 바꿔주는 str method, 정규표현식을 적용할 수 있도록 하는 extract method가 있습니다. 이를 사용하여 title을 쉽게 추출할 수 있습니다. title을 Initial column에 저장하겠습니다."
   ]
  },
  {
   "cell_type": "code",
   "execution_count": 5,
   "metadata": {
    "execution": {
     "iopub.execute_input": "2021-01-19T02:10:48.341837Z",
     "iopub.status.busy": "2021-01-19T02:10:48.340840Z",
     "iopub.status.idle": "2021-01-19T02:10:48.353817Z",
     "shell.execute_reply": "2021-01-19T02:10:48.353817Z",
     "shell.execute_reply.started": "2021-01-19T02:10:48.341837Z"
    }
   },
   "outputs": [],
   "source": [
    "df_train['Initial'] = df_train['Name'].str.extract('([A-Za-z]+)\\.')\n",
    "df_test['Initial'] = df_test['Name'].str.extract('([A-Za-z]+)\\.')"
   ]
  },
  {
   "cell_type": "code",
   "execution_count": 6,
   "metadata": {
    "execution": {
     "iopub.execute_input": "2021-01-19T02:10:48.355799Z",
     "iopub.status.busy": "2021-01-19T02:10:48.354801Z",
     "iopub.status.idle": "2021-01-19T02:10:49.672292Z",
     "shell.execute_reply": "2021-01-19T02:10:49.671281Z",
     "shell.execute_reply.started": "2021-01-19T02:10:48.355799Z"
    }
   },
   "outputs": [
    {
     "data": {
      "text/html": [
       "<style  type=\"text/css\" >\n",
       "#T_8cab77a9_59fb_11eb_ba16_408d5cfa5a0drow0_col0,#T_8cab77a9_59fb_11eb_ba16_408d5cfa5a0drow0_col1,#T_8cab77a9_59fb_11eb_ba16_408d5cfa5a0drow0_col3,#T_8cab77a9_59fb_11eb_ba16_408d5cfa5a0drow0_col4,#T_8cab77a9_59fb_11eb_ba16_408d5cfa5a0drow0_col5,#T_8cab77a9_59fb_11eb_ba16_408d5cfa5a0drow0_col7,#T_8cab77a9_59fb_11eb_ba16_408d5cfa5a0drow0_col8,#T_8cab77a9_59fb_11eb_ba16_408d5cfa5a0drow0_col12,#T_8cab77a9_59fb_11eb_ba16_408d5cfa5a0drow0_col15,#T_8cab77a9_59fb_11eb_ba16_408d5cfa5a0drow0_col16,#T_8cab77a9_59fb_11eb_ba16_408d5cfa5a0drow1_col2,#T_8cab77a9_59fb_11eb_ba16_408d5cfa5a0drow1_col6,#T_8cab77a9_59fb_11eb_ba16_408d5cfa5a0drow1_col9,#T_8cab77a9_59fb_11eb_ba16_408d5cfa5a0drow1_col10,#T_8cab77a9_59fb_11eb_ba16_408d5cfa5a0drow1_col11,#T_8cab77a9_59fb_11eb_ba16_408d5cfa5a0drow1_col13,#T_8cab77a9_59fb_11eb_ba16_408d5cfa5a0drow1_col14{\n",
       "            background-color:  #ffff66;\n",
       "            color:  #000000;\n",
       "        }#T_8cab77a9_59fb_11eb_ba16_408d5cfa5a0drow0_col2,#T_8cab77a9_59fb_11eb_ba16_408d5cfa5a0drow0_col6,#T_8cab77a9_59fb_11eb_ba16_408d5cfa5a0drow0_col9,#T_8cab77a9_59fb_11eb_ba16_408d5cfa5a0drow0_col10,#T_8cab77a9_59fb_11eb_ba16_408d5cfa5a0drow0_col11,#T_8cab77a9_59fb_11eb_ba16_408d5cfa5a0drow0_col13,#T_8cab77a9_59fb_11eb_ba16_408d5cfa5a0drow0_col14,#T_8cab77a9_59fb_11eb_ba16_408d5cfa5a0drow1_col0,#T_8cab77a9_59fb_11eb_ba16_408d5cfa5a0drow1_col1,#T_8cab77a9_59fb_11eb_ba16_408d5cfa5a0drow1_col3,#T_8cab77a9_59fb_11eb_ba16_408d5cfa5a0drow1_col4,#T_8cab77a9_59fb_11eb_ba16_408d5cfa5a0drow1_col5,#T_8cab77a9_59fb_11eb_ba16_408d5cfa5a0drow1_col7,#T_8cab77a9_59fb_11eb_ba16_408d5cfa5a0drow1_col8,#T_8cab77a9_59fb_11eb_ba16_408d5cfa5a0drow1_col12,#T_8cab77a9_59fb_11eb_ba16_408d5cfa5a0drow1_col15,#T_8cab77a9_59fb_11eb_ba16_408d5cfa5a0drow1_col16{\n",
       "            background-color:  #008066;\n",
       "            color:  #f1f1f1;\n",
       "        }</style><table id=\"T_8cab77a9_59fb_11eb_ba16_408d5cfa5a0d\" ><thead>    <tr>        <th class=\"index_name level0\" >Initial</th>        <th class=\"col_heading level0 col0\" >Capt</th>        <th class=\"col_heading level0 col1\" >Col</th>        <th class=\"col_heading level0 col2\" >Countess</th>        <th class=\"col_heading level0 col3\" >Don</th>        <th class=\"col_heading level0 col4\" >Dr</th>        <th class=\"col_heading level0 col5\" >Jonkheer</th>        <th class=\"col_heading level0 col6\" >Lady</th>        <th class=\"col_heading level0 col7\" >Major</th>        <th class=\"col_heading level0 col8\" >Master</th>        <th class=\"col_heading level0 col9\" >Miss</th>        <th class=\"col_heading level0 col10\" >Mlle</th>        <th class=\"col_heading level0 col11\" >Mme</th>        <th class=\"col_heading level0 col12\" >Mr</th>        <th class=\"col_heading level0 col13\" >Mrs</th>        <th class=\"col_heading level0 col14\" >Ms</th>        <th class=\"col_heading level0 col15\" >Rev</th>        <th class=\"col_heading level0 col16\" >Sir</th>    </tr>    <tr>        <th class=\"index_name level0\" >Sex</th>        <th class=\"blank\" ></th>        <th class=\"blank\" ></th>        <th class=\"blank\" ></th>        <th class=\"blank\" ></th>        <th class=\"blank\" ></th>        <th class=\"blank\" ></th>        <th class=\"blank\" ></th>        <th class=\"blank\" ></th>        <th class=\"blank\" ></th>        <th class=\"blank\" ></th>        <th class=\"blank\" ></th>        <th class=\"blank\" ></th>        <th class=\"blank\" ></th>        <th class=\"blank\" ></th>        <th class=\"blank\" ></th>        <th class=\"blank\" ></th>        <th class=\"blank\" ></th>    </tr></thead><tbody>\n",
       "                <tr>\n",
       "                        <th id=\"T_8cab77a9_59fb_11eb_ba16_408d5cfa5a0dlevel0_row0\" class=\"row_heading level0 row0\" >female</th>\n",
       "                        <td id=\"T_8cab77a9_59fb_11eb_ba16_408d5cfa5a0drow0_col0\" class=\"data row0 col0\" >0</td>\n",
       "                        <td id=\"T_8cab77a9_59fb_11eb_ba16_408d5cfa5a0drow0_col1\" class=\"data row0 col1\" >0</td>\n",
       "                        <td id=\"T_8cab77a9_59fb_11eb_ba16_408d5cfa5a0drow0_col2\" class=\"data row0 col2\" >1</td>\n",
       "                        <td id=\"T_8cab77a9_59fb_11eb_ba16_408d5cfa5a0drow0_col3\" class=\"data row0 col3\" >0</td>\n",
       "                        <td id=\"T_8cab77a9_59fb_11eb_ba16_408d5cfa5a0drow0_col4\" class=\"data row0 col4\" >1</td>\n",
       "                        <td id=\"T_8cab77a9_59fb_11eb_ba16_408d5cfa5a0drow0_col5\" class=\"data row0 col5\" >0</td>\n",
       "                        <td id=\"T_8cab77a9_59fb_11eb_ba16_408d5cfa5a0drow0_col6\" class=\"data row0 col6\" >1</td>\n",
       "                        <td id=\"T_8cab77a9_59fb_11eb_ba16_408d5cfa5a0drow0_col7\" class=\"data row0 col7\" >0</td>\n",
       "                        <td id=\"T_8cab77a9_59fb_11eb_ba16_408d5cfa5a0drow0_col8\" class=\"data row0 col8\" >0</td>\n",
       "                        <td id=\"T_8cab77a9_59fb_11eb_ba16_408d5cfa5a0drow0_col9\" class=\"data row0 col9\" >182</td>\n",
       "                        <td id=\"T_8cab77a9_59fb_11eb_ba16_408d5cfa5a0drow0_col10\" class=\"data row0 col10\" >2</td>\n",
       "                        <td id=\"T_8cab77a9_59fb_11eb_ba16_408d5cfa5a0drow0_col11\" class=\"data row0 col11\" >1</td>\n",
       "                        <td id=\"T_8cab77a9_59fb_11eb_ba16_408d5cfa5a0drow0_col12\" class=\"data row0 col12\" >0</td>\n",
       "                        <td id=\"T_8cab77a9_59fb_11eb_ba16_408d5cfa5a0drow0_col13\" class=\"data row0 col13\" >125</td>\n",
       "                        <td id=\"T_8cab77a9_59fb_11eb_ba16_408d5cfa5a0drow0_col14\" class=\"data row0 col14\" >1</td>\n",
       "                        <td id=\"T_8cab77a9_59fb_11eb_ba16_408d5cfa5a0drow0_col15\" class=\"data row0 col15\" >0</td>\n",
       "                        <td id=\"T_8cab77a9_59fb_11eb_ba16_408d5cfa5a0drow0_col16\" class=\"data row0 col16\" >0</td>\n",
       "            </tr>\n",
       "            <tr>\n",
       "                        <th id=\"T_8cab77a9_59fb_11eb_ba16_408d5cfa5a0dlevel0_row1\" class=\"row_heading level0 row1\" >male</th>\n",
       "                        <td id=\"T_8cab77a9_59fb_11eb_ba16_408d5cfa5a0drow1_col0\" class=\"data row1 col0\" >1</td>\n",
       "                        <td id=\"T_8cab77a9_59fb_11eb_ba16_408d5cfa5a0drow1_col1\" class=\"data row1 col1\" >2</td>\n",
       "                        <td id=\"T_8cab77a9_59fb_11eb_ba16_408d5cfa5a0drow1_col2\" class=\"data row1 col2\" >0</td>\n",
       "                        <td id=\"T_8cab77a9_59fb_11eb_ba16_408d5cfa5a0drow1_col3\" class=\"data row1 col3\" >1</td>\n",
       "                        <td id=\"T_8cab77a9_59fb_11eb_ba16_408d5cfa5a0drow1_col4\" class=\"data row1 col4\" >6</td>\n",
       "                        <td id=\"T_8cab77a9_59fb_11eb_ba16_408d5cfa5a0drow1_col5\" class=\"data row1 col5\" >1</td>\n",
       "                        <td id=\"T_8cab77a9_59fb_11eb_ba16_408d5cfa5a0drow1_col6\" class=\"data row1 col6\" >0</td>\n",
       "                        <td id=\"T_8cab77a9_59fb_11eb_ba16_408d5cfa5a0drow1_col7\" class=\"data row1 col7\" >2</td>\n",
       "                        <td id=\"T_8cab77a9_59fb_11eb_ba16_408d5cfa5a0drow1_col8\" class=\"data row1 col8\" >40</td>\n",
       "                        <td id=\"T_8cab77a9_59fb_11eb_ba16_408d5cfa5a0drow1_col9\" class=\"data row1 col9\" >0</td>\n",
       "                        <td id=\"T_8cab77a9_59fb_11eb_ba16_408d5cfa5a0drow1_col10\" class=\"data row1 col10\" >0</td>\n",
       "                        <td id=\"T_8cab77a9_59fb_11eb_ba16_408d5cfa5a0drow1_col11\" class=\"data row1 col11\" >0</td>\n",
       "                        <td id=\"T_8cab77a9_59fb_11eb_ba16_408d5cfa5a0drow1_col12\" class=\"data row1 col12\" >517</td>\n",
       "                        <td id=\"T_8cab77a9_59fb_11eb_ba16_408d5cfa5a0drow1_col13\" class=\"data row1 col13\" >0</td>\n",
       "                        <td id=\"T_8cab77a9_59fb_11eb_ba16_408d5cfa5a0drow1_col14\" class=\"data row1 col14\" >0</td>\n",
       "                        <td id=\"T_8cab77a9_59fb_11eb_ba16_408d5cfa5a0drow1_col15\" class=\"data row1 col15\" >6</td>\n",
       "                        <td id=\"T_8cab77a9_59fb_11eb_ba16_408d5cfa5a0drow1_col16\" class=\"data row1 col16\" >1</td>\n",
       "            </tr>\n",
       "    </tbody></table>"
      ],
      "text/plain": [
       "<pandas.io.formats.style.Styler at 0x2a70abbc8b0>"
      ]
     },
     "execution_count": 6,
     "metadata": {},
     "output_type": "execute_result"
    }
   ],
   "source": [
    "pd.crosstab(df_train['Initial'], df_train['Sex']).T.style.background_gradient(cmap='summer_r')"
   ]
  },
  {
   "cell_type": "markdown",
   "metadata": {},
   "source": [
    "위 table을 참고하여 남성과 여성이 사용하는 initial을 구분해봅시다. replace 메소드를 사용하면 특정 데이터 값을 원하는 값으로 치환할 수 있습니다."
   ]
  },
  {
   "cell_type": "code",
   "execution_count": 7,
   "metadata": {
    "execution": {
     "iopub.execute_input": "2021-01-19T02:10:49.673275Z",
     "iopub.status.busy": "2021-01-19T02:10:49.673275Z",
     "iopub.status.idle": "2021-01-19T02:10:49.683270Z",
     "shell.execute_reply": "2021-01-19T02:10:49.683270Z",
     "shell.execute_reply.started": "2021-01-19T02:10:49.673275Z"
    }
   },
   "outputs": [],
   "source": [
    "df_train['Initial'].replace(['Mlle','Mme','Ms','Dr','Major','Lady','Countess','Jonkheer','Col','Rev','Capt','Sir','Don', 'Dona'],\n",
    "                            ['Miss','Miss','Miss','Mr','Mr','Mrs','Mrs','Other','Other','Other','Mr','Mr','Mr', 'Mr'], inplace=True)\n",
    "df_test['Initial'].replace(['Mlle','Mme','Ms','Dr','Major','Lady','Countess','Jonkheer','Col','Rev','Capt','Sir','Don', 'Dona'],\n",
    "                           ['Miss','Miss','Miss','Mr','Mr','Mrs','Mrs','Other','Other','Other','Mr','Mr','Mr', 'Mr'], inplace=True)"
   ]
  },
  {
   "cell_type": "code",
   "execution_count": 8,
   "metadata": {
    "execution": {
     "iopub.execute_input": "2021-01-19T02:10:49.686240Z",
     "iopub.status.busy": "2021-01-19T02:10:49.686240Z",
     "iopub.status.idle": "2021-01-19T02:10:49.709179Z",
     "shell.execute_reply": "2021-01-19T02:10:49.709179Z",
     "shell.execute_reply.started": "2021-01-19T02:10:49.686240Z"
    }
   },
   "outputs": [
    {
     "data": {
      "text/html": [
       "<div>\n",
       "<style scoped>\n",
       "    .dataframe tbody tr th:only-of-type {\n",
       "        vertical-align: middle;\n",
       "    }\n",
       "\n",
       "    .dataframe tbody tr th {\n",
       "        vertical-align: top;\n",
       "    }\n",
       "\n",
       "    .dataframe thead th {\n",
       "        text-align: right;\n",
       "    }\n",
       "</style>\n",
       "<table border=\"1\" class=\"dataframe\">\n",
       "  <thead>\n",
       "    <tr style=\"text-align: right;\">\n",
       "      <th></th>\n",
       "      <th>PassengerId</th>\n",
       "      <th>Survived</th>\n",
       "      <th>Pclass</th>\n",
       "      <th>Age</th>\n",
       "      <th>SibSp</th>\n",
       "      <th>Parch</th>\n",
       "      <th>Fare</th>\n",
       "      <th>FamilySize</th>\n",
       "    </tr>\n",
       "    <tr>\n",
       "      <th>Initial</th>\n",
       "      <th></th>\n",
       "      <th></th>\n",
       "      <th></th>\n",
       "      <th></th>\n",
       "      <th></th>\n",
       "      <th></th>\n",
       "      <th></th>\n",
       "      <th></th>\n",
       "    </tr>\n",
       "  </thead>\n",
       "  <tbody>\n",
       "    <tr>\n",
       "      <th>Master</th>\n",
       "      <td>414.975000</td>\n",
       "      <td>0.575000</td>\n",
       "      <td>2.625000</td>\n",
       "      <td>4.574167</td>\n",
       "      <td>2.300000</td>\n",
       "      <td>1.375000</td>\n",
       "      <td>3.340710</td>\n",
       "      <td>4.675000</td>\n",
       "    </tr>\n",
       "    <tr>\n",
       "      <th>Miss</th>\n",
       "      <td>411.741935</td>\n",
       "      <td>0.704301</td>\n",
       "      <td>2.284946</td>\n",
       "      <td>21.860000</td>\n",
       "      <td>0.698925</td>\n",
       "      <td>0.537634</td>\n",
       "      <td>3.123713</td>\n",
       "      <td>2.236559</td>\n",
       "    </tr>\n",
       "    <tr>\n",
       "      <th>Mr</th>\n",
       "      <td>455.880907</td>\n",
       "      <td>0.162571</td>\n",
       "      <td>2.381853</td>\n",
       "      <td>32.739609</td>\n",
       "      <td>0.293006</td>\n",
       "      <td>0.151229</td>\n",
       "      <td>2.651507</td>\n",
       "      <td>1.444234</td>\n",
       "    </tr>\n",
       "    <tr>\n",
       "      <th>Mrs</th>\n",
       "      <td>456.393701</td>\n",
       "      <td>0.795276</td>\n",
       "      <td>1.984252</td>\n",
       "      <td>35.981818</td>\n",
       "      <td>0.692913</td>\n",
       "      <td>0.818898</td>\n",
       "      <td>3.443751</td>\n",
       "      <td>2.511811</td>\n",
       "    </tr>\n",
       "    <tr>\n",
       "      <th>Other</th>\n",
       "      <td>564.444444</td>\n",
       "      <td>0.111111</td>\n",
       "      <td>1.666667</td>\n",
       "      <td>45.888889</td>\n",
       "      <td>0.111111</td>\n",
       "      <td>0.111111</td>\n",
       "      <td>2.641605</td>\n",
       "      <td>1.222222</td>\n",
       "    </tr>\n",
       "  </tbody>\n",
       "</table>\n",
       "</div>"
      ],
      "text/plain": [
       "         PassengerId  Survived    Pclass        Age     SibSp     Parch  \\\n",
       "Initial                                                                   \n",
       "Master    414.975000  0.575000  2.625000   4.574167  2.300000  1.375000   \n",
       "Miss      411.741935  0.704301  2.284946  21.860000  0.698925  0.537634   \n",
       "Mr        455.880907  0.162571  2.381853  32.739609  0.293006  0.151229   \n",
       "Mrs       456.393701  0.795276  1.984252  35.981818  0.692913  0.818898   \n",
       "Other     564.444444  0.111111  1.666667  45.888889  0.111111  0.111111   \n",
       "\n",
       "             Fare  FamilySize  \n",
       "Initial                        \n",
       "Master   3.340710    4.675000  \n",
       "Miss     3.123713    2.236559  \n",
       "Mr       2.651507    1.444234  \n",
       "Mrs      3.443751    2.511811  \n",
       "Other    2.641605    1.222222  "
      ]
     },
     "execution_count": 8,
     "metadata": {},
     "output_type": "execute_result"
    }
   ],
   "source": [
    "df_train.groupby('Initial').mean()"
   ]
  },
  {
   "cell_type": "markdown",
   "metadata": {},
   "source": [
    "여성과 관계있는 Miss, Mrs의 생존률이 높은 것을 볼 수 있습니다."
   ]
  },
  {
   "cell_type": "code",
   "execution_count": 9,
   "metadata": {
    "execution": {
     "iopub.execute_input": "2021-01-19T02:10:49.714165Z",
     "iopub.status.busy": "2021-01-19T02:10:49.712171Z",
     "iopub.status.idle": "2021-01-19T02:10:50.031317Z",
     "shell.execute_reply": "2021-01-19T02:10:50.030320Z",
     "shell.execute_reply.started": "2021-01-19T02:10:49.714165Z"
    }
   },
   "outputs": [
    {
     "data": {
      "text/plain": [
       "<AxesSubplot:xlabel='Initial'>"
      ]
     },
     "execution_count": 9,
     "metadata": {},
     "output_type": "execute_result"
    },
    {
     "data": {
      "image/png": "[encoded data removed]",
      "text/plain": [
       "<Figure size 432x288 with 1 Axes>"
      ]
     },
     "metadata": {
      "needs_background": "light"
     },
     "output_type": "display_data"
    }
   ],
   "source": [
    "df_train.groupby('Initial')['Survived'].mean().plot.bar()"
   ]
  },
  {
   "cell_type": "markdown",
   "metadata": {},
   "source": [
    "이제 본격적으로 null을 채워봅시다. null data를 채우는 방법은 굉장히 많습니다. statistics를 활용하는 방법도 있고, null data가 없는 데이터를 기반으로 새로운 머신러닝 알고리즘을 만들어 예측해서 채워넣는 방식도 있습니다. 여기서는 statistics를 활용하는 방법을 사용할 것입니다.  \n",
    "\n",
    "여기서 statistics는 train data의 것을 의미합니다. 우리는 언제나 test를 unseen 상태로 두어야 하며, train에서 얻은 statistics를 기반으로 test의 null data를 채워야 합니다."
   ]
  },
  {
   "cell_type": "code",
   "execution_count": 10,
   "metadata": {
    "execution": {
     "iopub.execute_input": "2021-01-19T02:10:50.033313Z",
     "iopub.status.busy": "2021-01-19T02:10:50.033313Z",
     "iopub.status.idle": "2021-01-19T02:10:50.052261Z",
     "shell.execute_reply": "2021-01-19T02:10:50.052261Z",
     "shell.execute_reply.started": "2021-01-19T02:10:50.033313Z"
    }
   },
   "outputs": [
    {
     "data": {
      "text/html": [
       "<div>\n",
       "<style scoped>\n",
       "    .dataframe tbody tr th:only-of-type {\n",
       "        vertical-align: middle;\n",
       "    }\n",
       "\n",
       "    .dataframe tbody tr th {\n",
       "        vertical-align: top;\n",
       "    }\n",
       "\n",
       "    .dataframe thead th {\n",
       "        text-align: right;\n",
       "    }\n",
       "</style>\n",
       "<table border=\"1\" class=\"dataframe\">\n",
       "  <thead>\n",
       "    <tr style=\"text-align: right;\">\n",
       "      <th></th>\n",
       "      <th>PassengerId</th>\n",
       "      <th>Survived</th>\n",
       "      <th>Pclass</th>\n",
       "      <th>Age</th>\n",
       "      <th>SibSp</th>\n",
       "      <th>Parch</th>\n",
       "      <th>Fare</th>\n",
       "      <th>FamilySize</th>\n",
       "    </tr>\n",
       "    <tr>\n",
       "      <th>Initial</th>\n",
       "      <th></th>\n",
       "      <th></th>\n",
       "      <th></th>\n",
       "      <th></th>\n",
       "      <th></th>\n",
       "      <th></th>\n",
       "      <th></th>\n",
       "      <th></th>\n",
       "    </tr>\n",
       "  </thead>\n",
       "  <tbody>\n",
       "    <tr>\n",
       "      <th>Master</th>\n",
       "      <td>414.975000</td>\n",
       "      <td>0.575000</td>\n",
       "      <td>2.625000</td>\n",
       "      <td>4.574167</td>\n",
       "      <td>2.300000</td>\n",
       "      <td>1.375000</td>\n",
       "      <td>3.340710</td>\n",
       "      <td>4.675000</td>\n",
       "    </tr>\n",
       "    <tr>\n",
       "      <th>Miss</th>\n",
       "      <td>411.741935</td>\n",
       "      <td>0.704301</td>\n",
       "      <td>2.284946</td>\n",
       "      <td>21.860000</td>\n",
       "      <td>0.698925</td>\n",
       "      <td>0.537634</td>\n",
       "      <td>3.123713</td>\n",
       "      <td>2.236559</td>\n",
       "    </tr>\n",
       "    <tr>\n",
       "      <th>Mr</th>\n",
       "      <td>455.880907</td>\n",
       "      <td>0.162571</td>\n",
       "      <td>2.381853</td>\n",
       "      <td>32.739609</td>\n",
       "      <td>0.293006</td>\n",
       "      <td>0.151229</td>\n",
       "      <td>2.651507</td>\n",
       "      <td>1.444234</td>\n",
       "    </tr>\n",
       "    <tr>\n",
       "      <th>Mrs</th>\n",
       "      <td>456.393701</td>\n",
       "      <td>0.795276</td>\n",
       "      <td>1.984252</td>\n",
       "      <td>35.981818</td>\n",
       "      <td>0.692913</td>\n",
       "      <td>0.818898</td>\n",
       "      <td>3.443751</td>\n",
       "      <td>2.511811</td>\n",
       "    </tr>\n",
       "    <tr>\n",
       "      <th>Other</th>\n",
       "      <td>564.444444</td>\n",
       "      <td>0.111111</td>\n",
       "      <td>1.666667</td>\n",
       "      <td>45.888889</td>\n",
       "      <td>0.111111</td>\n",
       "      <td>0.111111</td>\n",
       "      <td>2.641605</td>\n",
       "      <td>1.222222</td>\n",
       "    </tr>\n",
       "  </tbody>\n",
       "</table>\n",
       "</div>"
      ],
      "text/plain": [
       "         PassengerId  Survived    Pclass        Age     SibSp     Parch  \\\n",
       "Initial                                                                   \n",
       "Master    414.975000  0.575000  2.625000   4.574167  2.300000  1.375000   \n",
       "Miss      411.741935  0.704301  2.284946  21.860000  0.698925  0.537634   \n",
       "Mr        455.880907  0.162571  2.381853  32.739609  0.293006  0.151229   \n",
       "Mrs       456.393701  0.795276  1.984252  35.981818  0.692913  0.818898   \n",
       "Other     564.444444  0.111111  1.666667  45.888889  0.111111  0.111111   \n",
       "\n",
       "             Fare  FamilySize  \n",
       "Initial                        \n",
       "Master   3.340710    4.675000  \n",
       "Miss     3.123713    2.236559  \n",
       "Mr       2.651507    1.444234  \n",
       "Mrs      3.443751    2.511811  \n",
       "Other    2.641605    1.222222  "
      ]
     },
     "execution_count": 10,
     "metadata": {},
     "output_type": "execute_result"
    }
   ],
   "source": [
    "df_train.groupby('Initial').mean()"
   ]
  },
  {
   "cell_type": "markdown",
   "metadata": {},
   "source": [
    "Age의 평균을 이용해 null value를 채워봅시다.  \n",
    "\n",
    "pandas dataframe을 다룰 때에는 boolean array를 이용해 indexing하는 방법이 편리합니다. loc + boolean + column을 사용하여 값을 치환하는 방법은 자주 사용되므로 꼭 익숙해집시다."
   ]
  },
  {
   "cell_type": "code",
   "execution_count": 11,
   "metadata": {
    "execution": {
     "iopub.execute_input": "2021-01-19T02:10:50.054256Z",
     "iopub.status.busy": "2021-01-19T02:10:50.054256Z",
     "iopub.status.idle": "2021-01-19T02:10:50.079188Z",
     "shell.execute_reply": "2021-01-19T02:10:50.079188Z",
     "shell.execute_reply.started": "2021-01-19T02:10:50.054256Z"
    }
   },
   "outputs": [],
   "source": [
    "df_train.loc[(df_train['Age'].isnull())&(df_train['Initial']=='Mr'), 'Age'] = 33\n",
    "df_train.loc[(df_train['Age'].isnull())&(df_train['Initial']=='Mrs'), 'Age'] = 36\n",
    "df_train.loc[(df_train['Age'].isnull())&(df_train['Initial']=='Master'), 'Age'] = 5\n",
    "df_train.loc[(df_train['Age'].isnull())&(df_train['Initial']=='Miss'), 'Age'] = 22\n",
    "df_train.loc[(df_train['Age'].isnull())&(df_train['Initial']=='Other'), 'Age'] = 46\n",
    "\n",
    "df_test.loc[(df_test['Age'].isnull())&(df_test['Initial']=='Mr'), 'Age'] = 33\n",
    "df_test.loc[(df_test['Age'].isnull())&(df_test['Initial']=='Mrs'), 'Age'] = 36\n",
    "df_test.loc[(df_test['Age'].isnull())&(df_test['Initial']=='Master'), 'Age'] = 5\n",
    "df_test.loc[(df_test['Age'].isnull())&(df_test['Initial']=='Miss'), 'Age'] = 22\n",
    "df_test.loc[(df_test['Age'].isnull())&(df_test['Initial']=='Other'), 'Age'] = 46"
   ]
  },
  {
   "cell_type": "markdown",
   "metadata": {},
   "source": [
    "여기서는 간단하게 null을 채웠지만 다른 커널에서 다양한 방법을 쓴 예시들을 찾아볼 수 있습니다.  \n",
    "\n",
    "[https://www.kaggle.com/yassineghouzam/titanic-top-4-with-ensemble-modeling](https://www.kaggle.com/yassineghouzam/titanic-top-4-with-ensemble-modeling) << 참고해서 공부해보세요.  "
   ]
  },
  {
   "cell_type": "markdown",
   "metadata": {},
   "source": [
    "##### 3.1.2 Fill Null in Embarked"
   ]
  },
  {
   "cell_type": "code",
   "execution_count": 12,
   "metadata": {
    "execution": {
     "iopub.execute_input": "2021-01-19T02:10:50.081184Z",
     "iopub.status.busy": "2021-01-19T02:10:50.080186Z",
     "iopub.status.idle": "2021-01-19T02:10:50.093151Z",
     "shell.execute_reply": "2021-01-19T02:10:50.093151Z",
     "shell.execute_reply.started": "2021-01-19T02:10:50.081184Z"
    }
   },
   "outputs": [
    {
     "name": "stdout",
     "output_type": "stream",
     "text": [
      "Embarked has  2 Null values\n"
     ]
    }
   ],
   "source": [
    "print('Embarked has ', sum(df_train['Embarked'].isnull()), 'Null values')"
   ]
  },
  {
   "cell_type": "markdown",
   "metadata": {},
   "source": [
    "Embarked의 null value는 2개이고, S의 탑승객이 가장 많았으므로 간단하게 null을 S로 채우겠습니다.  \n",
    "\n",
    "dataframe의 fillna method를 이용하면 쉽게 채울 수 있습니다. 여기서 inplace=True를 설정하면 df_train에 fillna를 실제로 적용하게 됩니다."
   ]
  },
  {
   "cell_type": "code",
   "execution_count": 13,
   "metadata": {
    "execution": {
     "iopub.execute_input": "2021-01-19T02:10:50.095145Z",
     "iopub.status.busy": "2021-01-19T02:10:50.094148Z",
     "iopub.status.idle": "2021-01-19T02:10:50.102127Z",
     "shell.execute_reply": "2021-01-19T02:10:50.102127Z",
     "shell.execute_reply.started": "2021-01-19T02:10:50.095145Z"
    }
   },
   "outputs": [],
   "source": [
    "df_train['Embarked'].fillna('S', inplace=True)"
   ]
  },
  {
   "cell_type": "markdown",
   "metadata": {},
   "source": [
    "#### 3.2 Change Age (continuous to categorical)\n",
    "Age는 현재 continuous feature입니다. 이대로 써도 모델을 세울 수 있지만, Age를 몇 개의 group으로 나누어 category화 시켜줄 수도 있습니다. continuous를 categorical로 바꾸면 자칫 information loss가 생길 수 있겠지만, 본 튜토리얼은 다양한 방법을 소개하는 것이 목적이므로 진행하도록 하겠습니다.  \n",
    "\n",
    "방법은 여러가지가 있습니다. dataframe의 indexing 방법인 loc를 사용하여 직접 해줄 수도 있고, apply를 사용해 함수를 넣어줄 수도 있습니다.  \n",
    "\n",
    "첫 번째, loc를 사용한 방법입니다. 나이는 10살 간격으로 나누겠습니다."
   ]
  },
  {
   "cell_type": "code",
   "execution_count": 14,
   "metadata": {
    "execution": {
     "iopub.execute_input": "2021-01-19T02:10:50.105120Z",
     "iopub.status.busy": "2021-01-19T02:10:50.104122Z",
     "iopub.status.idle": "2021-01-19T02:10:50.136037Z",
     "shell.execute_reply": "2021-01-19T02:10:50.135038Z",
     "shell.execute_reply.started": "2021-01-19T02:10:50.105120Z"
    }
   },
   "outputs": [],
   "source": [
    "df_train['Age_cat'] = 0\n",
    "df_train.loc[df_train['Age'] < 10, 'Age_cat'] = 0\n",
    "df_train.loc[(df_train['Age'] >= 10)&(df_train['Age'] < 20), 'Age_cat'] = 1\n",
    "df_train.loc[(df_train['Age'] >= 20)&(df_train['Age'] < 30), 'Age_cat'] = 2\n",
    "df_train.loc[(df_train['Age'] >= 30)&(df_train['Age'] < 40), 'Age_cat'] = 3\n",
    "df_train.loc[(df_train['Age'] >= 40)&(df_train['Age'] < 50), 'Age_cat'] = 4\n",
    "df_train.loc[(df_train['Age'] >= 50)&(df_train['Age'] < 60), 'Age_cat'] = 5\n",
    "df_train.loc[(df_train['Age'] >= 60)&(df_train['Age'] < 70), 'Age_cat'] = 6\n",
    "df_train.loc[df_train['Age'] >= 70, 'Age_cat'] = 7\n",
    "\n",
    "df_test['Age_cat'] = 0\n",
    "df_test.loc[df_test['Age'] < 10, 'Age_cat'] = 0\n",
    "df_test.loc[(df_test['Age'] >= 10)&(df_test['Age'] < 20), 'Age_cat'] = 1\n",
    "df_test.loc[(df_test['Age'] >= 20)&(df_test['Age'] < 30), 'Age_cat'] = 2\n",
    "df_test.loc[(df_test['Age'] >= 30)&(df_test['Age'] < 40), 'Age_cat'] = 3\n",
    "df_test.loc[(df_test['Age'] >= 40)&(df_test['Age'] < 50), 'Age_cat'] = 4\n",
    "df_test.loc[(df_test['Age'] >= 50)&(df_test['Age'] < 60), 'Age_cat'] = 5\n",
    "df_test.loc[(df_test['Age'] >= 60)&(df_test['Age'] < 70), 'Age_cat'] = 6\n",
    "df_test.loc[df_test['Age'] >= 70, 'Age_cat'] = 7"
   ]
  },
  {
   "cell_type": "markdown",
   "metadata": {},
   "source": [
    "두 번째로, 간단한 함수를 만들어 apply 메소드에 넣어주는 방법입니다."
   ]
  },
  {
   "cell_type": "code",
   "execution_count": 15,
   "metadata": {
    "execution": {
     "iopub.execute_input": "2021-01-19T02:10:50.137033Z",
     "iopub.status.busy": "2021-01-19T02:10:50.137033Z",
     "iopub.status.idle": "2021-01-19T02:10:50.146009Z",
     "shell.execute_reply": "2021-01-19T02:10:50.146009Z",
     "shell.execute_reply.started": "2021-01-19T02:10:50.137033Z"
    }
   },
   "outputs": [],
   "source": [
    "def category_age(x):\n",
    "    if x < 10:\n",
    "        return 0\n",
    "    elif x < 20:\n",
    "        return 1\n",
    "    elif x < 30:\n",
    "        return 2\n",
    "    elif x < 40:\n",
    "        return 3\n",
    "    elif x < 50:\n",
    "        return 4\n",
    "    elif x < 60:\n",
    "        return 5\n",
    "    elif x < 70:\n",
    "        return 6\n",
    "    else:\n",
    "        return 7\n",
    "df_train['Age_cat_2'] = df_train['Age'].apply(category_age)"
   ]
  },
  {
   "cell_type": "markdown",
   "metadata": {},
   "source": [
    "두 가지 방법이 잘 적용됐다면, 둘다 같은 결과를 내야합니다.  \n",
    "\n",
    "이를 확인하기 위해 Series 간 boolean을 비교한 후 all() 메소드를 사용해봅시다. all() 메소드는 모든 값이 True이면 True, 하나라도 False가 있으면 False를 반환합니다."
   ]
  },
  {
   "cell_type": "code",
   "execution_count": 16,
   "metadata": {
    "execution": {
     "iopub.execute_input": "2021-01-19T02:10:50.148005Z",
     "iopub.status.busy": "2021-01-19T02:10:50.148005Z",
     "iopub.status.idle": "2021-01-19T02:10:50.154985Z",
     "shell.execute_reply": "2021-01-19T02:10:50.153989Z",
     "shell.execute_reply.started": "2021-01-19T02:10:50.148005Z"
    }
   },
   "outputs": [
    {
     "name": "stdout",
     "output_type": "stream",
     "text": [
      "1번 방법, 2번 방법 둘다 같은 결과를 내면 True ->  True\n"
     ]
    }
   ],
   "source": [
    "print('1번 방법, 2번 방법 둘다 같은 결과를 내면 True -> ', (df_train['Age_cat'] == df_train['Age_cat_2']).all())"
   ]
  },
  {
   "cell_type": "markdown",
   "metadata": {},
   "source": [
    "중복되는 Age_cat 컬럼과 원래 컬럼 Age를 제거하겠습니다."
   ]
  },
  {
   "cell_type": "code",
   "execution_count": 17,
   "metadata": {
    "execution": {
     "iopub.execute_input": "2021-01-19T02:10:50.159973Z",
     "iopub.status.busy": "2021-01-19T02:10:50.157978Z",
     "iopub.status.idle": "2021-01-19T02:10:50.170943Z",
     "shell.execute_reply": "2021-01-19T02:10:50.169947Z",
     "shell.execute_reply.started": "2021-01-19T02:10:50.159973Z"
    }
   },
   "outputs": [],
   "source": [
    "df_train.drop(['Age', 'Age_cat_2'], axis=1, inplace=True)\n",
    "df_test.drop(['Age'], axis=1, inplace=True)"
   ]
  },
  {
   "cell_type": "markdown",
   "metadata": {},
   "source": [
    "#### 3.3 Change Initial, Embarked and Sex (string to numerical)\n",
    "현재 Initial은 Mr, Mrs, Miss, Master, Other 총 5개로 이루어져 있습니다. 이러한 카테고리로 나뉜 데이터를 모델에 인풋으로 넣기 전에 먼저 컴퓨터가 인식할 수 있도록 수치화 시키는 작업이 필요합니다.  \n",
    "map 메소드를 사용하여 사전 순서대로 정리하여 mapping 하겠습니다."
   ]
  },
  {
   "cell_type": "code",
   "execution_count": 18,
   "metadata": {
    "execution": {
     "iopub.execute_input": "2021-01-19T02:10:50.171942Z",
     "iopub.status.busy": "2021-01-19T02:10:50.171942Z",
     "iopub.status.idle": "2021-01-19T02:10:50.182911Z",
     "shell.execute_reply": "2021-01-19T02:10:50.181916Z",
     "shell.execute_reply.started": "2021-01-19T02:10:50.171942Z"
    }
   },
   "outputs": [],
   "source": [
    "df_train['Initial'] = df_train['Initial'].map({'Master':0, 'Miss':1, 'Mr':2, 'Mrs':3, 'Other':4})\n",
    "df_test['Initial'] = df_test['Initial'].map({'Master':0, 'Miss':1, 'Mr':2, 'Mrs':3, 'Other':4})"
   ]
  },
  {
   "cell_type": "markdown",
   "metadata": {},
   "source": [
    "Embarked의 C, Q, S도 map을 이용해 바꿔보고자 합니다.  \n",
    "\n",
    "바꾸기 전에 특정 column에 어떤 값이 있는지 잠시 확인해보겠습니다. 간단히 unique() 메소드를 쓰거나 value_counts()를 사용하여 count까지 보는 방법이 있습니다."
   ]
  },
  {
   "cell_type": "code",
   "execution_count": 19,
   "metadata": {
    "execution": {
     "iopub.execute_input": "2021-01-19T02:10:50.184906Z",
     "iopub.status.busy": "2021-01-19T02:10:50.183910Z",
     "iopub.status.idle": "2021-01-19T02:10:50.194879Z",
     "shell.execute_reply": "2021-01-19T02:10:50.192887Z",
     "shell.execute_reply.started": "2021-01-19T02:10:50.184906Z"
    }
   },
   "outputs": [
    {
     "data": {
      "text/plain": [
       "array(['S', 'C', 'Q'], dtype=object)"
      ]
     },
     "execution_count": 19,
     "metadata": {},
     "output_type": "execute_result"
    }
   ],
   "source": [
    "df_train['Embarked'].unique()"
   ]
  },
  {
   "cell_type": "code",
   "execution_count": 20,
   "metadata": {
    "execution": {
     "iopub.execute_input": "2021-01-19T02:10:50.199866Z",
     "iopub.status.busy": "2021-01-19T02:10:50.195877Z",
     "iopub.status.idle": "2021-01-19T02:10:50.211834Z",
     "shell.execute_reply": "2021-01-19T02:10:50.210836Z",
     "shell.execute_reply.started": "2021-01-19T02:10:50.198868Z"
    }
   },
   "outputs": [
    {
     "data": {
      "text/plain": [
       "S    646\n",
       "C    168\n",
       "Q     77\n",
       "Name: Embarked, dtype: int64"
      ]
     },
     "execution_count": 20,
     "metadata": {},
     "output_type": "execute_result"
    }
   ],
   "source": [
    "df_train['Embarked'].value_counts()"
   ]
  },
  {
   "cell_type": "markdown",
   "metadata": {},
   "source": [
    "위의 두 방법을 사용하여 Embarked가 S, C, Q 세 가지로 이루어진 것을 볼 수 있습니다. 이제 map을 사용해봅시다."
   ]
  },
  {
   "cell_type": "code",
   "execution_count": 21,
   "metadata": {
    "execution": {
     "iopub.execute_input": "2021-01-19T02:10:50.213829Z",
     "iopub.status.busy": "2021-01-19T02:10:50.212831Z",
     "iopub.status.idle": "2021-01-19T02:10:50.223802Z",
     "shell.execute_reply": "2021-01-19T02:10:50.222805Z",
     "shell.execute_reply.started": "2021-01-19T02:10:50.213829Z"
    }
   },
   "outputs": [],
   "source": [
    "df_train['Embarked'] = df_train['Embarked'].map({'C':0, 'Q':1, 'S':2})\n",
    "df_test['Embarked'] = df_test['Embarked'].map({'C':0, 'Q':1, 'S':2})"
   ]
  },
  {
   "cell_type": "markdown",
   "metadata": {},
   "source": [
    "이제 null이 없는지 확인해봅시다. Embarked column만 가져온 것은 하나의 pandas의 Series 객체이므로, isnull() 메소드를 사용해 Series의 값들이 null인지 아닌지에 대한 boolean 값을 얻을 수 있습니다. 그리고 any()를 사용하면 True가 단 하나라도 있을 시(null이 한 개 이상) True를 반환합니다. 우리는 null을 모두 S로 바꾸어주었으므로 False를 얻습니다."
   ]
  },
  {
   "cell_type": "code",
   "execution_count": 22,
   "metadata": {
    "execution": {
     "iopub.execute_input": "2021-01-19T02:10:50.225799Z",
     "iopub.status.busy": "2021-01-19T02:10:50.224800Z",
     "iopub.status.idle": "2021-01-19T02:10:50.237765Z",
     "shell.execute_reply": "2021-01-19T02:10:50.236768Z",
     "shell.execute_reply.started": "2021-01-19T02:10:50.225799Z"
    }
   },
   "outputs": [
    {
     "data": {
      "text/plain": [
       "False"
      ]
     },
     "execution_count": 22,
     "metadata": {},
     "output_type": "execute_result"
    }
   ],
   "source": [
    "df_train['Embarked'].isnull().any()"
   ]
  },
  {
   "cell_type": "markdown",
   "metadata": {},
   "source": [
    "Sex도 female과 mail로 이루어져있습니다. map을 이용해 바꿔봅시다."
   ]
  },
  {
   "cell_type": "code",
   "execution_count": 23,
   "metadata": {
    "execution": {
     "iopub.execute_input": "2021-01-19T02:10:50.239760Z",
     "iopub.status.busy": "2021-01-19T02:10:50.239760Z",
     "iopub.status.idle": "2021-01-19T02:10:50.250730Z",
     "shell.execute_reply": "2021-01-19T02:10:50.249734Z",
     "shell.execute_reply.started": "2021-01-19T02:10:50.239760Z"
    }
   },
   "outputs": [],
   "source": [
    "df_train['Sex'] = df_train['Sex'].map({'female':0, 'male':1})\n",
    "df_test['Sex'] = df_test['Sex'].map({'female':0, 'male':1})"
   ]
  },
  {
   "cell_type": "markdown",
   "metadata": {},
   "source": [
    "각 feature 간 상관관계를 봅시다. 두 변수 간의 Pearson correlation을 구하면 (-1, 1) 사이의 값을 얻을 수 있습니다. -1에 가까울수록 음의 상관관계, 1에 가까울수록 양의 상관관계를 의미하며 0은 상관관계가 없음을 의미합니다. 구하는 수식은 다음과 같습니다.  \n",
    "\n",
    "$$r_{xy} = \\frac{Cov(x, y)}{S_{x}S_{y}} = \\frac{\\frac{1}{n-1}\\sum_{i=1}^{n}(x_{i}-\\bar{x})(y_{i}-\\bar{y})}{S_{x}S_{y}}$$  \n",
    "\n",
    "우리는 여러 feature를 가지고 있으니 이를 하나의 matrix 형태로 보면 편할텐데, 이를 heatmap plot이라고 하며, dataframe의 corr() 메소드와 seaborn을 가지고 편하게 그릴 수 있습니다."
   ]
  },
  {
   "cell_type": "code",
   "execution_count": 24,
   "metadata": {
    "execution": {
     "iopub.execute_input": "2021-01-19T02:10:50.252726Z",
     "iopub.status.busy": "2021-01-19T02:10:50.251728Z",
     "iopub.status.idle": "2021-01-19T02:10:52.116739Z",
     "shell.execute_reply": "2021-01-19T02:10:52.116739Z",
     "shell.execute_reply.started": "2021-01-19T02:10:50.252726Z"
    }
   },
   "outputs": [
    {
     "data": {
      "image/png": "[encoded data removed]",
      "text/plain": [
       "<Figure size 1008x864 with 2 Axes>"
      ]
     },
     "metadata": {
      "needs_background": "light"
     },
     "output_type": "display_data"
    }
   ],
   "source": [
    "heatmap_data = df_train[['Survived', 'Pclass', 'Sex', 'Fare', 'Embarked', 'FamilySize', 'Initial', 'Age_cat']]\n",
    "\n",
    "colormap = plt.cm.RdBu\n",
    "plt.figure(figsize=(14, 12))\n",
    "plt.title('Pearson Correlation of Features', y=1.05, size=40)\n",
    "sns.heatmap(heatmap_data.astype(float).corr(), linewidths=0.1, vmax=1.0, square=True, cmap=colormap, linecolor='white', annot=True, annot_kws={'size':16})\n",
    "\n",
    "del heatmap_data"
   ]
  },
  {
   "cell_type": "markdown",
   "metadata": {},
   "source": [
    "EDA에서 살펴봤듯이, Sex와 Pclass가 Survived와 어느정도 상관관계가 있음을 볼 수 있습니다. 생각보다 Fare와 Embarked도 상관관계가 있음을 볼 수 있습니다.  \n",
    "\n",
    "또한, 우리가 여기서 얻을 수 있는 정보는 서로 강한 상관관계를 갖는 feature들이 없다는 것입니다. 이것은 우리가 모델을 학습시킬 때, 불필요한(redundant, superfluous) feature가 없다는 것을 의미합니다. 1 또는 -1의 상관관계를 가진 feature A, B가 있다면, 우리가 얻을 수 있는 정보는 사실 하나일 거니까요.  \n",
    "\n",
    "이제 실제로 모델을 학습시키기에 앞서 data preprocessing(전처리)을 진행해보겠습니다."
   ]
  },
  {
   "cell_type": "markdown",
   "metadata": {},
   "source": [
    "#### 3.4 One-hot encoding on Initial and Embarked\n",
    "수치화시킨 카테고리 데이터를 그대로 넣어도 되지만, 모델의 성능을 높이기 위해 one-hot encoding을 해줄 수 있습니다.  \n",
    "\n",
    "수치화는 간단히 Master = 0, Miss = 1, Mr = 2, Mrs = 3, Other = 4로 매핑해주는 것을 말합니다. One-hot encoding은 위 카테고리를 다음과 같이 (0, 1)로 이루어진 5차원의 벡터로 나타내는 것을 말합니다.  \n",
    "\n",
    "(Initial) | Initial_Master | Initial_Miss | Initial_Mr | Initial_Mrs | Initial_Other\n",
    " :--: | :--: | :--: | :--: | :--: | :--:\n",
    " Master | 1 | 0 | 0 | 0 | 0\n",
    " Miss | 0 | 1 | 0 | 0 | 0\n",
    " Mr | 0 | 0 | 1 | 0 | 0\n",
    " Mrs | 0 | 0 | 0 | 1 | 0\n",
    " Others | 0 | 0 | 0 | 0 | 1  \n",
    " \n",
    " 위와 같은 작업을 직접 코딩할 수도 있지만, pandas의 get_dummies를 사용하여 쉽게 해결할 수 있습니다. 총 5개의 카테고리니, one-hot encoding을 만들고 나면 새로운 5개의 column이 생겨납니다. Initial을 prefix로 두어서 구분이 쉽게 만들어줍니다."
   ]
  },
  {
   "cell_type": "code",
   "execution_count": 25,
   "metadata": {
    "execution": {
     "iopub.execute_input": "2021-01-19T02:10:52.118733Z",
     "iopub.status.busy": "2021-01-19T02:10:52.117735Z",
     "iopub.status.idle": "2021-01-19T02:10:52.131699Z",
     "shell.execute_reply": "2021-01-19T02:10:52.130729Z",
     "shell.execute_reply.started": "2021-01-19T02:10:52.118733Z"
    }
   },
   "outputs": [],
   "source": [
    "df_train = pd.get_dummies(df_train, columns=['Initial'], prefix='Initial')\n",
    "df_test = pd.get_dummies(df_test, columns=['Initial'], prefix='Initial')"
   ]
  },
  {
   "cell_type": "code",
   "execution_count": 26,
   "metadata": {
    "execution": {
     "iopub.execute_input": "2021-01-19T02:10:52.134690Z",
     "iopub.status.busy": "2021-01-19T02:10:52.134690Z",
     "iopub.status.idle": "2021-01-19T02:10:52.153640Z",
     "shell.execute_reply": "2021-01-19T02:10:52.152644Z",
     "shell.execute_reply.started": "2021-01-19T02:10:52.134690Z"
    }
   },
   "outputs": [
    {
     "data": {
      "text/html": [
       "<div>\n",
       "<style scoped>\n",
       "    .dataframe tbody tr th:only-of-type {\n",
       "        vertical-align: middle;\n",
       "    }\n",
       "\n",
       "    .dataframe tbody tr th {\n",
       "        vertical-align: top;\n",
       "    }\n",
       "\n",
       "    .dataframe thead th {\n",
       "        text-align: right;\n",
       "    }\n",
       "</style>\n",
       "<table border=\"1\" class=\"dataframe\">\n",
       "  <thead>\n",
       "    <tr style=\"text-align: right;\">\n",
       "      <th></th>\n",
       "      <th>PassengerId</th>\n",
       "      <th>Survived</th>\n",
       "      <th>Pclass</th>\n",
       "      <th>Name</th>\n",
       "      <th>Sex</th>\n",
       "      <th>SibSp</th>\n",
       "      <th>Parch</th>\n",
       "      <th>Ticket</th>\n",
       "      <th>Fare</th>\n",
       "      <th>Cabin</th>\n",
       "      <th>Embarked</th>\n",
       "      <th>FamilySize</th>\n",
       "      <th>Age_cat</th>\n",
       "      <th>Initial_0</th>\n",
       "      <th>Initial_1</th>\n",
       "      <th>Initial_2</th>\n",
       "      <th>Initial_3</th>\n",
       "      <th>Initial_4</th>\n",
       "    </tr>\n",
       "  </thead>\n",
       "  <tbody>\n",
       "    <tr>\n",
       "      <th>0</th>\n",
       "      <td>1</td>\n",
       "      <td>0</td>\n",
       "      <td>3</td>\n",
       "      <td>Braund, Mr. Owen Harris</td>\n",
       "      <td>1</td>\n",
       "      <td>1</td>\n",
       "      <td>0</td>\n",
       "      <td>A/5 21171</td>\n",
       "      <td>1.981001</td>\n",
       "      <td>NaN</td>\n",
       "      <td>2</td>\n",
       "      <td>2</td>\n",
       "      <td>2</td>\n",
       "      <td>0</td>\n",
       "      <td>0</td>\n",
       "      <td>1</td>\n",
       "      <td>0</td>\n",
       "      <td>0</td>\n",
       "    </tr>\n",
       "    <tr>\n",
       "      <th>1</th>\n",
       "      <td>2</td>\n",
       "      <td>1</td>\n",
       "      <td>1</td>\n",
       "      <td>Cumings, Mrs. John Bradley (Florence Briggs Th...</td>\n",
       "      <td>0</td>\n",
       "      <td>1</td>\n",
       "      <td>0</td>\n",
       "      <td>PC 17599</td>\n",
       "      <td>4.266662</td>\n",
       "      <td>C85</td>\n",
       "      <td>0</td>\n",
       "      <td>2</td>\n",
       "      <td>3</td>\n",
       "      <td>0</td>\n",
       "      <td>0</td>\n",
       "      <td>0</td>\n",
       "      <td>1</td>\n",
       "      <td>0</td>\n",
       "    </tr>\n",
       "    <tr>\n",
       "      <th>2</th>\n",
       "      <td>3</td>\n",
       "      <td>1</td>\n",
       "      <td>3</td>\n",
       "      <td>Heikkinen, Miss. Laina</td>\n",
       "      <td>0</td>\n",
       "      <td>0</td>\n",
       "      <td>0</td>\n",
       "      <td>STON/O2. 3101282</td>\n",
       "      <td>2.070022</td>\n",
       "      <td>NaN</td>\n",
       "      <td>2</td>\n",
       "      <td>1</td>\n",
       "      <td>2</td>\n",
       "      <td>0</td>\n",
       "      <td>1</td>\n",
       "      <td>0</td>\n",
       "      <td>0</td>\n",
       "      <td>0</td>\n",
       "    </tr>\n",
       "  </tbody>\n",
       "</table>\n",
       "</div>"
      ],
      "text/plain": [
       "   PassengerId  Survived  Pclass  \\\n",
       "0            1         0       3   \n",
       "1            2         1       1   \n",
       "2            3         1       3   \n",
       "\n",
       "                                                Name  Sex  SibSp  Parch  \\\n",
       "0                            Braund, Mr. Owen Harris    1      1      0   \n",
       "1  Cumings, Mrs. John Bradley (Florence Briggs Th...    0      1      0   \n",
       "2                             Heikkinen, Miss. Laina    0      0      0   \n",
       "\n",
       "             Ticket      Fare Cabin  Embarked  FamilySize  Age_cat  Initial_0  \\\n",
       "0         A/5 21171  1.981001   NaN         2           2        2          0   \n",
       "1          PC 17599  4.266662   C85         0           2        3          0   \n",
       "2  STON/O2. 3101282  2.070022   NaN         2           1        2          0   \n",
       "\n",
       "   Initial_1  Initial_2  Initial_3  Initial_4  \n",
       "0          0          1          0          0  \n",
       "1          0          0          1          0  \n",
       "2          1          0          0          0  "
      ]
     },
     "execution_count": 26,
     "metadata": {},
     "output_type": "execute_result"
    }
   ],
   "source": [
    "df_train.head(3)"
   ]
  },
  {
   "cell_type": "markdown",
   "metadata": {},
   "source": [
    "우리가 만들려고 했던 one-hot encoded column들이 생성된 것을 볼 수 있습니다.  \n",
    "\n",
    "Embarked에도 적용해보겠습니다. Initial과 마찬가지로 one-hot encoding을 사용해봅시다"
   ]
  },
  {
   "cell_type": "code",
   "execution_count": 27,
   "metadata": {
    "execution": {
     "iopub.execute_input": "2021-01-19T02:10:52.155635Z",
     "iopub.status.busy": "2021-01-19T02:10:52.155635Z",
     "iopub.status.idle": "2021-01-19T02:10:52.171594Z",
     "shell.execute_reply": "2021-01-19T02:10:52.170595Z",
     "shell.execute_reply.started": "2021-01-19T02:10:52.155635Z"
    }
   },
   "outputs": [],
   "source": [
    "df_train = pd.get_dummies(df_train, columns=['Embarked'], prefix='Embarked')\n",
    "df_test = pd.get_dummies(df_test, columns=['Embarked'], prefix='Embarked')"
   ]
  },
  {
   "cell_type": "code",
   "execution_count": 28,
   "metadata": {
    "execution": {
     "iopub.execute_input": "2021-01-19T02:10:52.172590Z",
     "iopub.status.busy": "2021-01-19T02:10:52.172590Z",
     "iopub.status.idle": "2021-01-19T02:10:52.195527Z",
     "shell.execute_reply": "2021-01-19T02:10:52.194531Z",
     "shell.execute_reply.started": "2021-01-19T02:10:52.172590Z"
    }
   },
   "outputs": [
    {
     "data": {
      "text/html": [
       "<div>\n",
       "<style scoped>\n",
       "    .dataframe tbody tr th:only-of-type {\n",
       "        vertical-align: middle;\n",
       "    }\n",
       "\n",
       "    .dataframe tbody tr th {\n",
       "        vertical-align: top;\n",
       "    }\n",
       "\n",
       "    .dataframe thead th {\n",
       "        text-align: right;\n",
       "    }\n",
       "</style>\n",
       "<table border=\"1\" class=\"dataframe\">\n",
       "  <thead>\n",
       "    <tr style=\"text-align: right;\">\n",
       "      <th></th>\n",
       "      <th>PassengerId</th>\n",
       "      <th>Survived</th>\n",
       "      <th>Pclass</th>\n",
       "      <th>Name</th>\n",
       "      <th>Sex</th>\n",
       "      <th>SibSp</th>\n",
       "      <th>Parch</th>\n",
       "      <th>Ticket</th>\n",
       "      <th>Fare</th>\n",
       "      <th>Cabin</th>\n",
       "      <th>FamilySize</th>\n",
       "      <th>Age_cat</th>\n",
       "      <th>Initial_0</th>\n",
       "      <th>Initial_1</th>\n",
       "      <th>Initial_2</th>\n",
       "      <th>Initial_3</th>\n",
       "      <th>Initial_4</th>\n",
       "      <th>Embarked_0</th>\n",
       "      <th>Embarked_1</th>\n",
       "      <th>Embarked_2</th>\n",
       "    </tr>\n",
       "  </thead>\n",
       "  <tbody>\n",
       "    <tr>\n",
       "      <th>0</th>\n",
       "      <td>1</td>\n",
       "      <td>0</td>\n",
       "      <td>3</td>\n",
       "      <td>Braund, Mr. Owen Harris</td>\n",
       "      <td>1</td>\n",
       "      <td>1</td>\n",
       "      <td>0</td>\n",
       "      <td>A/5 21171</td>\n",
       "      <td>1.981001</td>\n",
       "      <td>NaN</td>\n",
       "      <td>2</td>\n",
       "      <td>2</td>\n",
       "      <td>0</td>\n",
       "      <td>0</td>\n",
       "      <td>1</td>\n",
       "      <td>0</td>\n",
       "      <td>0</td>\n",
       "      <td>0</td>\n",
       "      <td>0</td>\n",
       "      <td>1</td>\n",
       "    </tr>\n",
       "    <tr>\n",
       "      <th>1</th>\n",
       "      <td>2</td>\n",
       "      <td>1</td>\n",
       "      <td>1</td>\n",
       "      <td>Cumings, Mrs. John Bradley (Florence Briggs Th...</td>\n",
       "      <td>0</td>\n",
       "      <td>1</td>\n",
       "      <td>0</td>\n",
       "      <td>PC 17599</td>\n",
       "      <td>4.266662</td>\n",
       "      <td>C85</td>\n",
       "      <td>2</td>\n",
       "      <td>3</td>\n",
       "      <td>0</td>\n",
       "      <td>0</td>\n",
       "      <td>0</td>\n",
       "      <td>1</td>\n",
       "      <td>0</td>\n",
       "      <td>1</td>\n",
       "      <td>0</td>\n",
       "      <td>0</td>\n",
       "    </tr>\n",
       "    <tr>\n",
       "      <th>2</th>\n",
       "      <td>3</td>\n",
       "      <td>1</td>\n",
       "      <td>3</td>\n",
       "      <td>Heikkinen, Miss. Laina</td>\n",
       "      <td>0</td>\n",
       "      <td>0</td>\n",
       "      <td>0</td>\n",
       "      <td>STON/O2. 3101282</td>\n",
       "      <td>2.070022</td>\n",
       "      <td>NaN</td>\n",
       "      <td>1</td>\n",
       "      <td>2</td>\n",
       "      <td>0</td>\n",
       "      <td>1</td>\n",
       "      <td>0</td>\n",
       "      <td>0</td>\n",
       "      <td>0</td>\n",
       "      <td>0</td>\n",
       "      <td>0</td>\n",
       "      <td>1</td>\n",
       "    </tr>\n",
       "  </tbody>\n",
       "</table>\n",
       "</div>"
      ],
      "text/plain": [
       "   PassengerId  Survived  Pclass  \\\n",
       "0            1         0       3   \n",
       "1            2         1       1   \n",
       "2            3         1       3   \n",
       "\n",
       "                                                Name  Sex  SibSp  Parch  \\\n",
       "0                            Braund, Mr. Owen Harris    1      1      0   \n",
       "1  Cumings, Mrs. John Bradley (Florence Briggs Th...    0      1      0   \n",
       "2                             Heikkinen, Miss. Laina    0      0      0   \n",
       "\n",
       "             Ticket      Fare Cabin  FamilySize  Age_cat  Initial_0  \\\n",
       "0         A/5 21171  1.981001   NaN           2        2          0   \n",
       "1          PC 17599  4.266662   C85           2        3          0   \n",
       "2  STON/O2. 3101282  2.070022   NaN           1        2          0   \n",
       "\n",
       "   Initial_1  Initial_2  Initial_3  Initial_4  Embarked_0  Embarked_1  \\\n",
       "0          0          1          0          0           0           0   \n",
       "1          0          0          1          0           1           0   \n",
       "2          1          0          0          0           0           0   \n",
       "\n",
       "   Embarked_2  \n",
       "0           1  \n",
       "1           0  \n",
       "2           1  "
      ]
     },
     "execution_count": 28,
     "metadata": {},
     "output_type": "execute_result"
    }
   ],
   "source": [
    "df_train.head(3)"
   ]
  },
  {
   "cell_type": "markdown",
   "metadata": {},
   "source": [
    "아주 쉽게 one-hot encoding을 적용했습니다.  \n",
    "\n",
    "sklearn으로 Labelencoder + OneHotencoder를 이용해도 가능합니다. 여기서는 get_dummies로 충분히 가능하기 때문에 이 정도로 마치겠습니다.  \n",
    "\n",
    "가끔 카테고리가 100개가 넘어가는 경우도 있스비다. 이때 one-hot encoding을 사용하면 column이 100개가 생기기 때문에 학습 시 매우 버거울 수 있습니다. 이런 경우는 다른 방법을 사용하기도 하는데, 이는 다음에 한번 다뤄보겠습니다."
   ]
  },
  {
   "cell_type": "markdown",
   "metadata": {},
   "source": [
    "#### 3.5 Drop columns\n",
    "필요한 columns만 남기고 다 지워보겠습니다."
   ]
  },
  {
   "cell_type": "code",
   "execution_count": 29,
   "metadata": {
    "execution": {
     "iopub.execute_input": "2021-01-19T02:10:52.197522Z",
     "iopub.status.busy": "2021-01-19T02:10:52.196525Z",
     "iopub.status.idle": "2021-01-19T02:10:52.208493Z",
     "shell.execute_reply": "2021-01-19T02:10:52.207496Z",
     "shell.execute_reply.started": "2021-01-19T02:10:52.197522Z"
    }
   },
   "outputs": [],
   "source": [
    "df_train.drop(['PassengerId', 'Name', 'SibSp', 'Parch', 'Ticket', 'Cabin'], axis=1, inplace=True)\n",
    "df_test.drop(['PassengerId', 'Name', 'SibSp', 'Parch', 'Ticket', 'Cabin'], axis=1, inplace=True)"
   ]
  },
  {
   "cell_type": "code",
   "execution_count": 30,
   "metadata": {
    "execution": {
     "iopub.execute_input": "2021-01-19T02:10:52.209490Z",
     "iopub.status.busy": "2021-01-19T02:10:52.209490Z",
     "iopub.status.idle": "2021-01-19T02:10:52.228441Z",
     "shell.execute_reply": "2021-01-19T02:10:52.227443Z",
     "shell.execute_reply.started": "2021-01-19T02:10:52.209490Z"
    }
   },
   "outputs": [
    {
     "data": {
      "text/html": [
       "<div>\n",
       "<style scoped>\n",
       "    .dataframe tbody tr th:only-of-type {\n",
       "        vertical-align: middle;\n",
       "    }\n",
       "\n",
       "    .dataframe tbody tr th {\n",
       "        vertical-align: top;\n",
       "    }\n",
       "\n",
       "    .dataframe thead th {\n",
       "        text-align: right;\n",
       "    }\n",
       "</style>\n",
       "<table border=\"1\" class=\"dataframe\">\n",
       "  <thead>\n",
       "    <tr style=\"text-align: right;\">\n",
       "      <th></th>\n",
       "      <th>Survived</th>\n",
       "      <th>Pclass</th>\n",
       "      <th>Sex</th>\n",
       "      <th>Fare</th>\n",
       "      <th>FamilySize</th>\n",
       "      <th>Age_cat</th>\n",
       "      <th>Initial_0</th>\n",
       "      <th>Initial_1</th>\n",
       "      <th>Initial_2</th>\n",
       "      <th>Initial_3</th>\n",
       "      <th>Initial_4</th>\n",
       "      <th>Embarked_0</th>\n",
       "      <th>Embarked_1</th>\n",
       "      <th>Embarked_2</th>\n",
       "    </tr>\n",
       "  </thead>\n",
       "  <tbody>\n",
       "    <tr>\n",
       "      <th>0</th>\n",
       "      <td>0</td>\n",
       "      <td>3</td>\n",
       "      <td>1</td>\n",
       "      <td>1.981001</td>\n",
       "      <td>2</td>\n",
       "      <td>2</td>\n",
       "      <td>0</td>\n",
       "      <td>0</td>\n",
       "      <td>1</td>\n",
       "      <td>0</td>\n",
       "      <td>0</td>\n",
       "      <td>0</td>\n",
       "      <td>0</td>\n",
       "      <td>1</td>\n",
       "    </tr>\n",
       "    <tr>\n",
       "      <th>1</th>\n",
       "      <td>1</td>\n",
       "      <td>1</td>\n",
       "      <td>0</td>\n",
       "      <td>4.266662</td>\n",
       "      <td>2</td>\n",
       "      <td>3</td>\n",
       "      <td>0</td>\n",
       "      <td>0</td>\n",
       "      <td>0</td>\n",
       "      <td>1</td>\n",
       "      <td>0</td>\n",
       "      <td>1</td>\n",
       "      <td>0</td>\n",
       "      <td>0</td>\n",
       "    </tr>\n",
       "    <tr>\n",
       "      <th>2</th>\n",
       "      <td>1</td>\n",
       "      <td>3</td>\n",
       "      <td>0</td>\n",
       "      <td>2.070022</td>\n",
       "      <td>1</td>\n",
       "      <td>2</td>\n",
       "      <td>0</td>\n",
       "      <td>1</td>\n",
       "      <td>0</td>\n",
       "      <td>0</td>\n",
       "      <td>0</td>\n",
       "      <td>0</td>\n",
       "      <td>0</td>\n",
       "      <td>1</td>\n",
       "    </tr>\n",
       "  </tbody>\n",
       "</table>\n",
       "</div>"
      ],
      "text/plain": [
       "   Survived  Pclass  Sex      Fare  FamilySize  Age_cat  Initial_0  Initial_1  \\\n",
       "0         0       3    1  1.981001           2        2          0          0   \n",
       "1         1       1    0  4.266662           2        3          0          0   \n",
       "2         1       3    0  2.070022           1        2          0          1   \n",
       "\n",
       "   Initial_2  Initial_3  Initial_4  Embarked_0  Embarked_1  Embarked_2  \n",
       "0          1          0          0           0           0           1  \n",
       "1          0          1          0           1           0           0  \n",
       "2          0          0          0           0           0           1  "
      ]
     },
     "execution_count": 30,
     "metadata": {},
     "output_type": "execute_result"
    }
   ],
   "source": [
    "df_train.head(3)"
   ]
  },
  {
   "cell_type": "code",
   "execution_count": 31,
   "metadata": {
    "execution": {
     "iopub.execute_input": "2021-01-19T02:10:52.230435Z",
     "iopub.status.busy": "2021-01-19T02:10:52.229437Z",
     "iopub.status.idle": "2021-01-19T02:10:52.255368Z",
     "shell.execute_reply": "2021-01-19T02:10:52.254371Z",
     "shell.execute_reply.started": "2021-01-19T02:10:52.230435Z"
    }
   },
   "outputs": [
    {
     "data": {
      "text/html": [
       "<div>\n",
       "<style scoped>\n",
       "    .dataframe tbody tr th:only-of-type {\n",
       "        vertical-align: middle;\n",
       "    }\n",
       "\n",
       "    .dataframe tbody tr th {\n",
       "        vertical-align: top;\n",
       "    }\n",
       "\n",
       "    .dataframe thead th {\n",
       "        text-align: right;\n",
       "    }\n",
       "</style>\n",
       "<table border=\"1\" class=\"dataframe\">\n",
       "  <thead>\n",
       "    <tr style=\"text-align: right;\">\n",
       "      <th></th>\n",
       "      <th>Pclass</th>\n",
       "      <th>Sex</th>\n",
       "      <th>Fare</th>\n",
       "      <th>FamilySize</th>\n",
       "      <th>Age_cat</th>\n",
       "      <th>Initial_0</th>\n",
       "      <th>Initial_1</th>\n",
       "      <th>Initial_2</th>\n",
       "      <th>Initial_3</th>\n",
       "      <th>Initial_4</th>\n",
       "      <th>Embarked_0</th>\n",
       "      <th>Embarked_1</th>\n",
       "      <th>Embarked_2</th>\n",
       "    </tr>\n",
       "  </thead>\n",
       "  <tbody>\n",
       "    <tr>\n",
       "      <th>0</th>\n",
       "      <td>3</td>\n",
       "      <td>1</td>\n",
       "      <td>2.057860</td>\n",
       "      <td>1</td>\n",
       "      <td>3</td>\n",
       "      <td>0</td>\n",
       "      <td>0</td>\n",
       "      <td>1</td>\n",
       "      <td>0</td>\n",
       "      <td>0</td>\n",
       "      <td>0</td>\n",
       "      <td>1</td>\n",
       "      <td>0</td>\n",
       "    </tr>\n",
       "    <tr>\n",
       "      <th>1</th>\n",
       "      <td>3</td>\n",
       "      <td>0</td>\n",
       "      <td>1.945910</td>\n",
       "      <td>2</td>\n",
       "      <td>4</td>\n",
       "      <td>0</td>\n",
       "      <td>0</td>\n",
       "      <td>0</td>\n",
       "      <td>1</td>\n",
       "      <td>0</td>\n",
       "      <td>0</td>\n",
       "      <td>0</td>\n",
       "      <td>1</td>\n",
       "    </tr>\n",
       "    <tr>\n",
       "      <th>2</th>\n",
       "      <td>2</td>\n",
       "      <td>1</td>\n",
       "      <td>2.270836</td>\n",
       "      <td>1</td>\n",
       "      <td>6</td>\n",
       "      <td>0</td>\n",
       "      <td>0</td>\n",
       "      <td>1</td>\n",
       "      <td>0</td>\n",
       "      <td>0</td>\n",
       "      <td>0</td>\n",
       "      <td>1</td>\n",
       "      <td>0</td>\n",
       "    </tr>\n",
       "  </tbody>\n",
       "</table>\n",
       "</div>"
      ],
      "text/plain": [
       "   Pclass  Sex      Fare  FamilySize  Age_cat  Initial_0  Initial_1  \\\n",
       "0       3    1  2.057860           1        3          0          0   \n",
       "1       3    0  1.945910           2        4          0          0   \n",
       "2       2    1  2.270836           1        6          0          0   \n",
       "\n",
       "   Initial_2  Initial_3  Initial_4  Embarked_0  Embarked_1  Embarked_2  \n",
       "0          1          0          0           0           1           0  \n",
       "1          0          1          0           0           0           1  \n",
       "2          1          0          0           0           1           0  "
      ]
     },
     "execution_count": 31,
     "metadata": {},
     "output_type": "execute_result"
    }
   ],
   "source": [
    "df_test.head(3)"
   ]
  },
  {
   "cell_type": "markdown",
   "metadata": {},
   "source": [
    "train의 Survived feature(target class)를 제외하고는 train과 test가 모두 같은 column을 가진 것을 확인할 수 있습니다."
   ]
  },
  {
   "cell_type": "markdown",
   "metadata": {},
   "source": [
    "### 4. Building machin learning model and prediction using the trained model\n",
    "sklearn을 사용하여 본걱적으로 머신러닝 모델을 만들어봅시다."
   ]
  },
  {
   "cell_type": "code",
   "execution_count": 32,
   "metadata": {
    "execution": {
     "iopub.execute_input": "2021-01-19T02:14:02.730902Z",
     "iopub.status.busy": "2021-01-19T02:14:02.730902Z",
     "iopub.status.idle": "2021-01-19T02:14:04.716590Z",
     "shell.execute_reply": "2021-01-19T02:14:04.715592Z",
     "shell.execute_reply.started": "2021-01-19T02:14:02.730902Z"
    }
   },
   "outputs": [],
   "source": [
    "from sklearn.ensemble import RandomForestClassifier\n",
    "from sklearn import metrics\n",
    "from sklearn.model_selection import train_test_split"
   ]
  },
  {
   "cell_type": "markdown",
   "metadata": {},
   "source": [
    "sklearn은 머신러닝의 A부터 Z까지 모두 포함된 라이브러리입니다. feature engineering, preprocessing, 지도학습 알고리즘, 비지도학습 알고리즘, 모델 평가, 파이프라인 등 머신러닝에 관련된 모든 작업들이 손쉬운 인터페이스로 구현되어 있스비다. 데이터 분석 + 머신러닝을 하고 싶다면, 이 라이브러리는 반드시 숙지해야 합니다.  \n",
    "\n",
    "책 『파이썬 라이브러리를 활용한 머신러닝(Introduction to machin learning with Python)』으로 공부하는 것을 추천합니다.  \n",
    "\n",
    "타이타닉 컴피티션으 경우 target class(Survived)가 있으며, 0과 1로 이루어져 있으므로 binary classification 문제입니다. train set에서 Survived를 제외한 input으로 모델을 최적화시켜 각 샘플(탑승객)의 생존유무를 판단하는 모델을 만들어봅시다. 그 다음 모델이 학습하지 않았던 test set을 input으로 주어 test set의 각 샘플(탑승객)의 생존 유무를 예측해봅시다."
   ]
  },
  {
   "cell_type": "markdown",
   "metadata": {},
   "source": [
    "#### 4.1 Preparation - split dataset into train, valid, test set\n",
    "가장 먼저, 학습에 쓰일 데이터와 target label(Survived)를 분리합니다."
   ]
  },
  {
   "cell_type": "code",
   "execution_count": 34,
   "metadata": {
    "execution": {
     "iopub.execute_input": "2021-01-19T02:50:27.950329Z",
     "iopub.status.busy": "2021-01-19T02:50:27.949362Z",
     "iopub.status.idle": "2021-01-19T02:50:27.957310Z",
     "shell.execute_reply": "2021-01-19T02:50:27.956342Z",
     "shell.execute_reply.started": "2021-01-19T02:50:27.950329Z"
    }
   },
   "outputs": [],
   "source": [
    "x_train = df_train.drop('Survived', axis=1).values\n",
    "target_label = df_train['Survived'].values\n",
    "x_test = df_test.values"
   ]
  },
  {
   "cell_type": "markdown",
   "metadata": {},
   "source": [
    "일반적으로 train, test만 언급하지만, 좋은 모델을 만들기 위해 valid set을 따로 만들어 모델 평가를 해봅시다.  \n",
    "\n",
    "(이는 마치 축구대표팀이 팀 훈련(train)을 하고 바로 월드컵(test)에 출전하는 것이 아니라, 팀 훈련(train) 뒤 평가전(valid)을 거쳐 팀의 훈련 정도(학습정도)를 확인하고 월드컵(test)에 출전하는 것과 비슷합니다.  \n",
    "\n",
    "train_test_split을 사용하여 쉽게 train set을 분리할 수 있습니다."
   ]
  },
  {
   "cell_type": "code",
   "execution_count": 35,
   "metadata": {
    "execution": {
     "iopub.execute_input": "2021-01-19T02:52:57.858364Z",
     "iopub.status.busy": "2021-01-19T02:52:57.858364Z",
     "iopub.status.idle": "2021-01-19T02:52:57.866343Z",
     "shell.execute_reply": "2021-01-19T02:52:57.865345Z",
     "shell.execute_reply.started": "2021-01-19T02:52:57.858364Z"
    }
   },
   "outputs": [],
   "source": [
    "x_tr, x_vld, y_tr, y_vld = train_test_split(x_train, target_label, test_size=0.3, random_state=123)"
   ]
  },
  {
   "cell_type": "markdown",
   "metadata": {},
   "source": [
    "sklearn에서는 여러 머신러닝 알고리즘을 지원합니다. 직접 [documentation](http://scikit-learn.org/stable/supervised_learning.html#supervised-learning)에 들어가서 공부하길 추천합니다.  \n",
    "\n",
    "본 튜토리얼에서는 랜덤포레스트 모델을 사용하겠습니다. 랜덤포레스트는 의사결정나무 기반 모델이며, 여러 decision tree들을 앙상블한 모델입니다.  \n",
    "\n",
    "각 머신러닝 알고리즘에는 여러 파라미터들이 있습니다. 랜덤포레스트 분류기도 n_estimators, max_features, max_depth, min_samples_split, min_samples_leaf 등 여러 파라미터들이 존재합니다. 이것들이 어떻게 세팅되냐에 따라 같은 데이터셋이라 하더라도 모델의 성능이 달라집니다.  \n",
    "\n",
    "파라미터 튜닝은 시간, 경험, 알고리즘에 대한 이해 등이 필요합니다. 캐글의 여러 데이터셋을 다루며 모델을 이리저리 써보면 튜닝하는 감이 생길 수 있을 것입니다. 일단 지금은 튜토리얼이니 파라미터 튜닝은 잠시 제쳐두고, 기본 default 세팅으로 진행하겠습니다.  \n",
    "\n",
    "모델 객체를 만들고, fit 메소드로 학습시킨 뒤 valid set input을 넣어주어 예측값(x_vld sample(탑승객)의 생존여부)을 얻습니다."
   ]
  },
  {
   "cell_type": "markdown",
   "metadata": {},
   "source": [
    "#### 4.2 Model generation and prediction"
   ]
  },
  {
   "cell_type": "code",
   "execution_count": 36,
   "metadata": {
    "execution": {
     "iopub.execute_input": "2021-01-19T02:58:07.523260Z",
     "iopub.status.busy": "2021-01-19T02:58:07.523260Z",
     "iopub.status.idle": "2021-01-19T02:58:07.795531Z",
     "shell.execute_reply": "2021-01-19T02:58:07.795531Z",
     "shell.execute_reply.started": "2021-01-19T02:58:07.523260Z"
    }
   },
   "outputs": [],
   "source": [
    "model = RandomForestClassifier()\n",
    "model.fit(x_tr, y_tr)\n",
    "prediction = model.predict(x_vld)"
   ]
  },
  {
   "cell_type": "markdown",
   "metadata": {},
   "source": [
    "단 세 줄만으로 모델을 세우고, 예측까지 해보았습니다. 이제 모델의 성능을 살펴보겠습니다."
   ]
  },
  {
   "cell_type": "code",
   "execution_count": 37,
   "metadata": {
    "execution": {
     "iopub.execute_input": "2021-01-19T02:59:18.544770Z",
     "iopub.status.busy": "2021-01-19T02:59:18.543746Z",
     "iopub.status.idle": "2021-01-19T02:59:18.550726Z",
     "shell.execute_reply": "2021-01-19T02:59:18.549729Z",
     "shell.execute_reply.started": "2021-01-19T02:59:18.544770Z"
    }
   },
   "outputs": [
    {
     "name": "stdout",
     "output_type": "stream",
     "text": [
      "총 268명 중 82.46% 정확도로 생존유무를 맞춤\n"
     ]
    }
   ],
   "source": [
    "print('총 {}명 중 {:.2f}% 정확도로 생존유무를 맞춤'.format(y_vld.shape[0], 100 * metrics.accuracy_score(prediction, y_vld)))"
   ]
  },
  {
   "cell_type": "markdown",
   "metadata": {},
   "source": [
    "#### 4.3 Feature importance\n",
    "학습된 모델은 feature importance를 가지게 되는데, 우리는 이것을 확인하여 지금 만든 모델이 어떤 feature에 영향을 많이 받았는지 확인할 수 있습니다. pandas series를 이용하면 쉽게 sorting하여 그래프를 그릴 수 있습니다."
   ]
  },
  {
   "cell_type": "code",
   "execution_count": 40,
   "metadata": {
    "execution": {
     "iopub.execute_input": "2021-01-19T03:02:24.496369Z",
     "iopub.status.busy": "2021-01-19T03:02:24.496369Z",
     "iopub.status.idle": "2021-01-19T03:02:24.513325Z",
     "shell.execute_reply": "2021-01-19T03:02:24.512359Z",
     "shell.execute_reply.started": "2021-01-19T03:02:24.496369Z"
    }
   },
   "outputs": [],
   "source": [
    "feature_importance = model.feature_importances_\n",
    "Series_feat_imp = Series(feature_importance, index=df_test.columns)"
   ]
  },
  {
   "cell_type": "code",
   "execution_count": 43,
   "metadata": {
    "execution": {
     "iopub.execute_input": "2021-01-19T03:03:11.022923Z",
     "iopub.status.busy": "2021-01-19T03:03:11.022923Z",
     "iopub.status.idle": "2021-01-19T03:03:11.373984Z",
     "shell.execute_reply": "2021-01-19T03:03:11.372986Z",
     "shell.execute_reply.started": "2021-01-19T03:03:11.022923Z"
    }
   },
   "outputs": [
    {
     "data": {
      "image/png": "[encoded data removed]",
      "text/plain": [
       "<Figure size 576x576 with 1 Axes>"
      ]
     },
     "metadata": {
      "needs_background": "light"
     },
     "output_type": "display_data"
    }
   ],
   "source": [
    "plt.figure(figsize=(8, 8))\n",
    "Series_feat_imp.sort_values(ascending=True).plot.barh()\n",
    "plt.xlabel('Feature importance')\n",
    "plt.ylabel('Feature')\n",
    "plt.show()"
   ]
  },
  {
   "cell_type": "markdown",
   "metadata": {},
   "source": [
    "우리가 얻은 모델에서는 Fare가 가장 큰 영향력을 가지며, 그 뒤로 Age_cat, Sex, Initial_2가 차례로 높은 중요도를 가집니다. 이는 해당 모델에서의 importance이므로 다른 모델에서는 다른 결과를 가져올 수 있습니다.  \n",
    "\n",
    "이 feature importance를 보고 실제 Fare가 중요한 feature라고 판단을 내릴 수는 있지만, 이것은 결국 모델에 귀속되는 하나의 결론이므로 통계적으로 더 살펴볼 필요가 있습니다.  \n",
    "\n",
    "feature importance를 가지고 정확도가 보다 높은 모델을 얻기 위해 feature selection을 할 수도 있고, 더 빠른 모델을 위해 feature 제거를 할 수 있습니다."
   ]
  },
  {
   "cell_type": "markdown",
   "metadata": {},
   "source": [
    "#### 4.4 Prediction on Test set\n",
    "test set을 모델에 입력하여 생존여부를 예측해보겠습니다. 이 결과는 실제로 submission이므로 결과는 leaderboard에서 확인할 수 있습니다."
   ]
  },
  {
   "cell_type": "code",
   "execution_count": 44,
   "metadata": {
    "execution": {
     "iopub.execute_input": "2021-01-19T03:18:06.529501Z",
     "iopub.status.busy": "2021-01-19T03:18:06.528503Z",
     "iopub.status.idle": "2021-01-19T03:18:06.537479Z",
     "shell.execute_reply": "2021-01-19T03:18:06.536482Z",
     "shell.execute_reply.started": "2021-01-19T03:18:06.529501Z"
    }
   },
   "outputs": [],
   "source": [
    "submission = pd.read_csv('../data/titanic_gender_submission.csv')"
   ]
  },
  {
   "cell_type": "code",
   "execution_count": 46,
   "metadata": {
    "execution": {
     "iopub.execute_input": "2021-01-19T03:18:16.116859Z",
     "iopub.status.busy": "2021-01-19T03:18:16.115860Z",
     "iopub.status.idle": "2021-01-19T03:18:16.124836Z",
     "shell.execute_reply": "2021-01-19T03:18:16.123838Z",
     "shell.execute_reply.started": "2021-01-19T03:18:16.116859Z"
    }
   },
   "outputs": [
    {
     "data": {
      "text/html": [
       "<div>\n",
       "<style scoped>\n",
       "    .dataframe tbody tr th:only-of-type {\n",
       "        vertical-align: middle;\n",
       "    }\n",
       "\n",
       "    .dataframe tbody tr th {\n",
       "        vertical-align: top;\n",
       "    }\n",
       "\n",
       "    .dataframe thead th {\n",
       "        text-align: right;\n",
       "    }\n",
       "</style>\n",
       "<table border=\"1\" class=\"dataframe\">\n",
       "  <thead>\n",
       "    <tr style=\"text-align: right;\">\n",
       "      <th></th>\n",
       "      <th>PassengerId</th>\n",
       "      <th>Survived</th>\n",
       "    </tr>\n",
       "  </thead>\n",
       "  <tbody>\n",
       "    <tr>\n",
       "      <th>0</th>\n",
       "      <td>892</td>\n",
       "      <td>0</td>\n",
       "    </tr>\n",
       "    <tr>\n",
       "      <th>1</th>\n",
       "      <td>893</td>\n",
       "      <td>1</td>\n",
       "    </tr>\n",
       "    <tr>\n",
       "      <th>2</th>\n",
       "      <td>894</td>\n",
       "      <td>0</td>\n",
       "    </tr>\n",
       "  </tbody>\n",
       "</table>\n",
       "</div>"
      ],
      "text/plain": [
       "   PassengerId  Survived\n",
       "0          892         0\n",
       "1          893         1\n",
       "2          894         0"
      ]
     },
     "execution_count": 46,
     "metadata": {},
     "output_type": "execute_result"
    }
   ],
   "source": [
    "submission.head(3)"
   ]
  },
  {
   "cell_type": "code",
   "execution_count": 47,
   "metadata": {
    "execution": {
     "iopub.execute_input": "2021-01-19T03:19:06.138064Z",
     "iopub.status.busy": "2021-01-19T03:19:06.138064Z",
     "iopub.status.idle": "2021-01-19T03:19:06.161002Z",
     "shell.execute_reply": "2021-01-19T03:19:06.160009Z",
     "shell.execute_reply.started": "2021-01-19T03:19:06.138064Z"
    }
   },
   "outputs": [],
   "source": [
    "prediction = model.predict(x_test)\n",
    "submission['Survived'] = prediction"
   ]
  },
  {
   "cell_type": "code",
   "execution_count": 48,
   "metadata": {
    "execution": {
     "iopub.execute_input": "2021-01-19T03:19:45.144731Z",
     "iopub.status.busy": "2021-01-19T03:19:45.144731Z",
     "iopub.status.idle": "2021-01-19T03:19:45.161686Z",
     "shell.execute_reply": "2021-01-19T03:19:45.160689Z",
     "shell.execute_reply.started": "2021-01-19T03:19:45.144731Z"
    }
   },
   "outputs": [],
   "source": [
    "submission.to_csv('../data/submission_titanic.csv', index=False)"
   ]
  },
  {
   "cell_type": "markdown",
   "metadata": {},
   "source": [
    "## 타이타닉 튜토리얼 2 - Exploratory data analysis, visualization, machine learning"
   ]
  },
  {
   "cell_type": "markdown",
   "metadata": {},
   "source": [
    "**✏ 필사 2회**"
   ]
  },
  {
   "cell_type": "code",
   "execution_count": 50,
   "metadata": {
    "execution": {
     "iopub.execute_input": "2021-01-19T03:24:50.496533Z",
     "iopub.status.busy": "2021-01-19T03:24:50.496533Z",
     "iopub.status.idle": "2021-01-19T03:24:50.506505Z",
     "shell.execute_reply": "2021-01-19T03:24:50.506505Z",
     "shell.execute_reply.started": "2021-01-19T03:24:50.496533Z"
    }
   },
   "outputs": [],
   "source": [
    "import numpy as np\n",
    "import pandas as pd\n",
    "from pandas import Series\n",
    "import matplotlib.pyplot as plt\n",
    "import seaborn as sns\n",
    "\n",
    "plt.style.use('seaborn')\n",
    "sns.set(font_scale=2.5)\n",
    "\n",
    "import plotly.offline as py\n",
    "import plotly.graph_objs as go\n",
    "import plotly.tools as tls\n",
    "\n",
    "import warnings\n",
    "warnings.filterwarnings('ignore')\n",
    "\n",
    "%matplotlib inline"
   ]
  },
  {
   "cell_type": "code",
   "execution_count": 51,
   "metadata": {
    "execution": {
     "iopub.execute_input": "2021-01-19T03:24:54.472897Z",
     "iopub.status.busy": "2021-01-19T03:24:54.472897Z",
     "iopub.status.idle": "2021-01-19T03:24:54.489852Z",
     "shell.execute_reply": "2021-01-19T03:24:54.488882Z",
     "shell.execute_reply.started": "2021-01-19T03:24:54.472897Z"
    }
   },
   "outputs": [],
   "source": [
    "df_train = pd.read_csv('../data/titanic_train.csv')\n",
    "df_test = pd.read_csv('../data/titanic_test.csv')"
   ]
  },
  {
   "cell_type": "code",
   "execution_count": 52,
   "metadata": {
    "execution": {
     "iopub.execute_input": "2021-01-19T03:24:57.979518Z",
     "iopub.status.busy": "2021-01-19T03:24:57.979518Z",
     "iopub.status.idle": "2021-01-19T03:24:57.987497Z",
     "shell.execute_reply": "2021-01-19T03:24:57.986499Z",
     "shell.execute_reply.started": "2021-01-19T03:24:57.979518Z"
    }
   },
   "outputs": [],
   "source": [
    "df_train['FamilySize'] = df_train['SibSp'] + df_train['Parch'] + 1\n",
    "df_test['FamilySize'] = df_test['SibSp'] + df_test['Parch'] + 1"
   ]
  },
  {
   "cell_type": "code",
   "execution_count": 53,
   "metadata": {
    "execution": {
     "iopub.execute_input": "2021-01-19T03:24:58.777384Z",
     "iopub.status.busy": "2021-01-19T03:24:58.777384Z",
     "iopub.status.idle": "2021-01-19T03:24:58.788354Z",
     "shell.execute_reply": "2021-01-19T03:24:58.787357Z",
     "shell.execute_reply.started": "2021-01-19T03:24:58.777384Z"
    }
   },
   "outputs": [],
   "source": [
    "df_test.loc[df_test['Fare'].isnull(), 'Fare'] = df_test['Fare'].mean()\n",
    "\n",
    "df_train['Fare'] = df_train['Fare'].map(lambda i: np.log(i) if i > 0 else 0)\n",
    "df_test['Fare'] = df_test['Fare'].map(lambda i: np.log(i) if i > 0 else 0)"
   ]
  },
  {
   "cell_type": "markdown",
   "metadata": {},
   "source": [
    "### 3. Feature engineering\n",
    "본격적인 feature engineering을 시작해보겠습니다.  \n",
    "\n",
    "먼저 dataset에 존재하는 null data를 채우려고 합니다. null data를 포함하는 feature의 statistics를 참고하거나, 다른 아이디어를 짜내어 채울 수 있습니다. null data를 채우는 방법에 따라 모델의 성능이 좌지우지될 수 있기 때문에 신경써야 할 부분입니다.  \n",
    "\n",
    "Feature engineering은 실제 모델의 학습에 사용하기 위한 것이므로 train뿐만 아니라 test도 똑같이 적용해주어야 합니다."
   ]
  },
  {
   "cell_type": "markdown",
   "metadata": {},
   "source": [
    "#### 3.1 Fill Null"
   ]
  },
  {
   "cell_type": "markdown",
   "metadata": {},
   "source": [
    "##### 3.1.1 Fill Null in Age using title\n",
    "Age에는 177개의 null data가 있습니다. 우리는 title과 statistics를 사용하여 채워보겠습니다. 영어에는 Miss, Mr, Mrs와 같은 title이 존재합니다. 각 탑승객의 이름에 꼭 이런 title이 들어가게 되는데, 이를 사용해보겠습니다.  \n",
    "\n",
    "pandas series에는 data를 string으로 바꿔주는 str method, 정규표현식을 적용할 수 있도록 하는 extract method가 있습니다. 이를 사용하여 title을 쉽게 추출할 수 있습니다. title을 Initial column에 저장하겠습니다."
   ]
  },
  {
   "cell_type": "code",
   "execution_count": 54,
   "metadata": {
    "execution": {
     "iopub.execute_input": "2021-01-19T03:26:09.717637Z",
     "iopub.status.busy": "2021-01-19T03:26:09.717637Z",
     "iopub.status.idle": "2021-01-19T03:26:09.729606Z",
     "shell.execute_reply": "2021-01-19T03:26:09.728608Z",
     "shell.execute_reply.started": "2021-01-19T03:26:09.717637Z"
    }
   },
   "outputs": [],
   "source": [
    "df_train['Initial'] = df_train['Name'].str.extract('([A-Za-z]+)\\.')\n",
    "df_test['Initial'] = df_test['Name'].str.extract('([A-Za-z]+)\\.')"
   ]
  },
  {
   "cell_type": "code",
   "execution_count": 55,
   "metadata": {
    "execution": {
     "iopub.execute_input": "2021-01-19T03:27:04.203520Z",
     "iopub.status.busy": "2021-01-19T03:27:04.203520Z",
     "iopub.status.idle": "2021-01-19T03:27:04.261366Z",
     "shell.execute_reply": "2021-01-19T03:27:04.260370Z",
     "shell.execute_reply.started": "2021-01-19T03:27:04.203520Z"
    }
   },
   "outputs": [
    {
     "data": {
      "text/html": [
       "<style  type=\"text/css\" >\n",
       "#T_33565dec_5a06_11eb_86eb_408d5cfa5a0drow0_col0,#T_33565dec_5a06_11eb_86eb_408d5cfa5a0drow0_col1,#T_33565dec_5a06_11eb_86eb_408d5cfa5a0drow0_col3,#T_33565dec_5a06_11eb_86eb_408d5cfa5a0drow0_col4,#T_33565dec_5a06_11eb_86eb_408d5cfa5a0drow0_col5,#T_33565dec_5a06_11eb_86eb_408d5cfa5a0drow0_col7,#T_33565dec_5a06_11eb_86eb_408d5cfa5a0drow0_col8,#T_33565dec_5a06_11eb_86eb_408d5cfa5a0drow0_col12,#T_33565dec_5a06_11eb_86eb_408d5cfa5a0drow0_col15,#T_33565dec_5a06_11eb_86eb_408d5cfa5a0drow0_col16,#T_33565dec_5a06_11eb_86eb_408d5cfa5a0drow1_col2,#T_33565dec_5a06_11eb_86eb_408d5cfa5a0drow1_col6,#T_33565dec_5a06_11eb_86eb_408d5cfa5a0drow1_col9,#T_33565dec_5a06_11eb_86eb_408d5cfa5a0drow1_col10,#T_33565dec_5a06_11eb_86eb_408d5cfa5a0drow1_col11,#T_33565dec_5a06_11eb_86eb_408d5cfa5a0drow1_col13,#T_33565dec_5a06_11eb_86eb_408d5cfa5a0drow1_col14{\n",
       "            background-color:  #ffff66;\n",
       "            color:  #000000;\n",
       "        }#T_33565dec_5a06_11eb_86eb_408d5cfa5a0drow0_col2,#T_33565dec_5a06_11eb_86eb_408d5cfa5a0drow0_col6,#T_33565dec_5a06_11eb_86eb_408d5cfa5a0drow0_col9,#T_33565dec_5a06_11eb_86eb_408d5cfa5a0drow0_col10,#T_33565dec_5a06_11eb_86eb_408d5cfa5a0drow0_col11,#T_33565dec_5a06_11eb_86eb_408d5cfa5a0drow0_col13,#T_33565dec_5a06_11eb_86eb_408d5cfa5a0drow0_col14,#T_33565dec_5a06_11eb_86eb_408d5cfa5a0drow1_col0,#T_33565dec_5a06_11eb_86eb_408d5cfa5a0drow1_col1,#T_33565dec_5a06_11eb_86eb_408d5cfa5a0drow1_col3,#T_33565dec_5a06_11eb_86eb_408d5cfa5a0drow1_col4,#T_33565dec_5a06_11eb_86eb_408d5cfa5a0drow1_col5,#T_33565dec_5a06_11eb_86eb_408d5cfa5a0drow1_col7,#T_33565dec_5a06_11eb_86eb_408d5cfa5a0drow1_col8,#T_33565dec_5a06_11eb_86eb_408d5cfa5a0drow1_col12,#T_33565dec_5a06_11eb_86eb_408d5cfa5a0drow1_col15,#T_33565dec_5a06_11eb_86eb_408d5cfa5a0drow1_col16{\n",
       "            background-color:  #008066;\n",
       "            color:  #f1f1f1;\n",
       "        }</style><table id=\"T_33565dec_5a06_11eb_86eb_408d5cfa5a0d\" ><thead>    <tr>        <th class=\"index_name level0\" >Initial</th>        <th class=\"col_heading level0 col0\" >Capt</th>        <th class=\"col_heading level0 col1\" >Col</th>        <th class=\"col_heading level0 col2\" >Countess</th>        <th class=\"col_heading level0 col3\" >Don</th>        <th class=\"col_heading level0 col4\" >Dr</th>        <th class=\"col_heading level0 col5\" >Jonkheer</th>        <th class=\"col_heading level0 col6\" >Lady</th>        <th class=\"col_heading level0 col7\" >Major</th>        <th class=\"col_heading level0 col8\" >Master</th>        <th class=\"col_heading level0 col9\" >Miss</th>        <th class=\"col_heading level0 col10\" >Mlle</th>        <th class=\"col_heading level0 col11\" >Mme</th>        <th class=\"col_heading level0 col12\" >Mr</th>        <th class=\"col_heading level0 col13\" >Mrs</th>        <th class=\"col_heading level0 col14\" >Ms</th>        <th class=\"col_heading level0 col15\" >Rev</th>        <th class=\"col_heading level0 col16\" >Sir</th>    </tr>    <tr>        <th class=\"index_name level0\" >Sex</th>        <th class=\"blank\" ></th>        <th class=\"blank\" ></th>        <th class=\"blank\" ></th>        <th class=\"blank\" ></th>        <th class=\"blank\" ></th>        <th class=\"blank\" ></th>        <th class=\"blank\" ></th>        <th class=\"blank\" ></th>        <th class=\"blank\" ></th>        <th class=\"blank\" ></th>        <th class=\"blank\" ></th>        <th class=\"blank\" ></th>        <th class=\"blank\" ></th>        <th class=\"blank\" ></th>        <th class=\"blank\" ></th>        <th class=\"blank\" ></th>        <th class=\"blank\" ></th>    </tr></thead><tbody>\n",
       "                <tr>\n",
       "                        <th id=\"T_33565dec_5a06_11eb_86eb_408d5cfa5a0dlevel0_row0\" class=\"row_heading level0 row0\" >female</th>\n",
       "                        <td id=\"T_33565dec_5a06_11eb_86eb_408d5cfa5a0drow0_col0\" class=\"data row0 col0\" >0</td>\n",
       "                        <td id=\"T_33565dec_5a06_11eb_86eb_408d5cfa5a0drow0_col1\" class=\"data row0 col1\" >0</td>\n",
       "                        <td id=\"T_33565dec_5a06_11eb_86eb_408d5cfa5a0drow0_col2\" class=\"data row0 col2\" >1</td>\n",
       "                        <td id=\"T_33565dec_5a06_11eb_86eb_408d5cfa5a0drow0_col3\" class=\"data row0 col3\" >0</td>\n",
       "                        <td id=\"T_33565dec_5a06_11eb_86eb_408d5cfa5a0drow0_col4\" class=\"data row0 col4\" >1</td>\n",
       "                        <td id=\"T_33565dec_5a06_11eb_86eb_408d5cfa5a0drow0_col5\" class=\"data row0 col5\" >0</td>\n",
       "                        <td id=\"T_33565dec_5a06_11eb_86eb_408d5cfa5a0drow0_col6\" class=\"data row0 col6\" >1</td>\n",
       "                        <td id=\"T_33565dec_5a06_11eb_86eb_408d5cfa5a0drow0_col7\" class=\"data row0 col7\" >0</td>\n",
       "                        <td id=\"T_33565dec_5a06_11eb_86eb_408d5cfa5a0drow0_col8\" class=\"data row0 col8\" >0</td>\n",
       "                        <td id=\"T_33565dec_5a06_11eb_86eb_408d5cfa5a0drow0_col9\" class=\"data row0 col9\" >182</td>\n",
       "                        <td id=\"T_33565dec_5a06_11eb_86eb_408d5cfa5a0drow0_col10\" class=\"data row0 col10\" >2</td>\n",
       "                        <td id=\"T_33565dec_5a06_11eb_86eb_408d5cfa5a0drow0_col11\" class=\"data row0 col11\" >1</td>\n",
       "                        <td id=\"T_33565dec_5a06_11eb_86eb_408d5cfa5a0drow0_col12\" class=\"data row0 col12\" >0</td>\n",
       "                        <td id=\"T_33565dec_5a06_11eb_86eb_408d5cfa5a0drow0_col13\" class=\"data row0 col13\" >125</td>\n",
       "                        <td id=\"T_33565dec_5a06_11eb_86eb_408d5cfa5a0drow0_col14\" class=\"data row0 col14\" >1</td>\n",
       "                        <td id=\"T_33565dec_5a06_11eb_86eb_408d5cfa5a0drow0_col15\" class=\"data row0 col15\" >0</td>\n",
       "                        <td id=\"T_33565dec_5a06_11eb_86eb_408d5cfa5a0drow0_col16\" class=\"data row0 col16\" >0</td>\n",
       "            </tr>\n",
       "            <tr>\n",
       "                        <th id=\"T_33565dec_5a06_11eb_86eb_408d5cfa5a0dlevel0_row1\" class=\"row_heading level0 row1\" >male</th>\n",
       "                        <td id=\"T_33565dec_5a06_11eb_86eb_408d5cfa5a0drow1_col0\" class=\"data row1 col0\" >1</td>\n",
       "                        <td id=\"T_33565dec_5a06_11eb_86eb_408d5cfa5a0drow1_col1\" class=\"data row1 col1\" >2</td>\n",
       "                        <td id=\"T_33565dec_5a06_11eb_86eb_408d5cfa5a0drow1_col2\" class=\"data row1 col2\" >0</td>\n",
       "                        <td id=\"T_33565dec_5a06_11eb_86eb_408d5cfa5a0drow1_col3\" class=\"data row1 col3\" >1</td>\n",
       "                        <td id=\"T_33565dec_5a06_11eb_86eb_408d5cfa5a0drow1_col4\" class=\"data row1 col4\" >6</td>\n",
       "                        <td id=\"T_33565dec_5a06_11eb_86eb_408d5cfa5a0drow1_col5\" class=\"data row1 col5\" >1</td>\n",
       "                        <td id=\"T_33565dec_5a06_11eb_86eb_408d5cfa5a0drow1_col6\" class=\"data row1 col6\" >0</td>\n",
       "                        <td id=\"T_33565dec_5a06_11eb_86eb_408d5cfa5a0drow1_col7\" class=\"data row1 col7\" >2</td>\n",
       "                        <td id=\"T_33565dec_5a06_11eb_86eb_408d5cfa5a0drow1_col8\" class=\"data row1 col8\" >40</td>\n",
       "                        <td id=\"T_33565dec_5a06_11eb_86eb_408d5cfa5a0drow1_col9\" class=\"data row1 col9\" >0</td>\n",
       "                        <td id=\"T_33565dec_5a06_11eb_86eb_408d5cfa5a0drow1_col10\" class=\"data row1 col10\" >0</td>\n",
       "                        <td id=\"T_33565dec_5a06_11eb_86eb_408d5cfa5a0drow1_col11\" class=\"data row1 col11\" >0</td>\n",
       "                        <td id=\"T_33565dec_5a06_11eb_86eb_408d5cfa5a0drow1_col12\" class=\"data row1 col12\" >517</td>\n",
       "                        <td id=\"T_33565dec_5a06_11eb_86eb_408d5cfa5a0drow1_col13\" class=\"data row1 col13\" >0</td>\n",
       "                        <td id=\"T_33565dec_5a06_11eb_86eb_408d5cfa5a0drow1_col14\" class=\"data row1 col14\" >0</td>\n",
       "                        <td id=\"T_33565dec_5a06_11eb_86eb_408d5cfa5a0drow1_col15\" class=\"data row1 col15\" >6</td>\n",
       "                        <td id=\"T_33565dec_5a06_11eb_86eb_408d5cfa5a0drow1_col16\" class=\"data row1 col16\" >1</td>\n",
       "            </tr>\n",
       "    </tbody></table>"
      ],
      "text/plain": [
       "<pandas.io.formats.style.Styler at 0x2a70febaf10>"
      ]
     },
     "execution_count": 55,
     "metadata": {},
     "output_type": "execute_result"
    }
   ],
   "source": [
    "pd.crosstab(df_train['Initial'], df_train['Sex']).T.style.background_gradient(cmap='summer_r')"
   ]
  },
  {
   "cell_type": "markdown",
   "metadata": {},
   "source": [
    "위 table을 참고하여 남성과 여성이 사용하는 initial을 구분해봅시다. replace 메소드를 사용하면 특정 데이터 값을 원하는 값으로 치환할 수 있습니다."
   ]
  },
  {
   "cell_type": "code",
   "execution_count": 56,
   "metadata": {
    "execution": {
     "iopub.execute_input": "2021-01-19T03:27:15.941125Z",
     "iopub.status.busy": "2021-01-19T03:27:15.941125Z",
     "iopub.status.idle": "2021-01-19T03:27:15.952096Z",
     "shell.execute_reply": "2021-01-19T03:27:15.951098Z",
     "shell.execute_reply.started": "2021-01-19T03:27:15.941125Z"
    }
   },
   "outputs": [],
   "source": [
    "df_train['Initial'].replace(['Mlle','Mme','Ms','Dr','Major','Lady','Countess','Jonkheer','Col','Rev','Capt','Sir','Don', 'Dona'],\n",
    "                            ['Miss','Miss','Miss','Mr','Mr','Mrs','Mrs','Other','Other','Other','Mr','Mr','Mr', 'Mr'], inplace=True)\n",
    "df_test['Initial'].replace(['Mlle','Mme','Ms','Dr','Major','Lady','Countess','Jonkheer','Col','Rev','Capt','Sir','Don', 'Dona'],\n",
    "                           ['Miss','Miss','Miss','Mr','Mr','Mrs','Mrs','Other','Other','Other','Mr','Mr','Mr', 'Mr'], inplace=True)"
   ]
  },
  {
   "cell_type": "code",
   "execution_count": 59,
   "metadata": {
    "execution": {
     "iopub.execute_input": "2021-01-19T03:28:04.350642Z",
     "iopub.status.busy": "2021-01-19T03:28:04.349646Z",
     "iopub.status.idle": "2021-01-19T03:28:04.369591Z",
     "shell.execute_reply": "2021-01-19T03:28:04.368594Z",
     "shell.execute_reply.started": "2021-01-19T03:28:04.350642Z"
    }
   },
   "outputs": [
    {
     "data": {
      "text/html": [
       "<div>\n",
       "<style scoped>\n",
       "    .dataframe tbody tr th:only-of-type {\n",
       "        vertical-align: middle;\n",
       "    }\n",
       "\n",
       "    .dataframe tbody tr th {\n",
       "        vertical-align: top;\n",
       "    }\n",
       "\n",
       "    .dataframe thead th {\n",
       "        text-align: right;\n",
       "    }\n",
       "</style>\n",
       "<table border=\"1\" class=\"dataframe\">\n",
       "  <thead>\n",
       "    <tr style=\"text-align: right;\">\n",
       "      <th></th>\n",
       "      <th>PassengerId</th>\n",
       "      <th>Survived</th>\n",
       "      <th>Pclass</th>\n",
       "      <th>Age</th>\n",
       "      <th>SibSp</th>\n",
       "      <th>Parch</th>\n",
       "      <th>Fare</th>\n",
       "      <th>FamilySize</th>\n",
       "    </tr>\n",
       "    <tr>\n",
       "      <th>Initial</th>\n",
       "      <th></th>\n",
       "      <th></th>\n",
       "      <th></th>\n",
       "      <th></th>\n",
       "      <th></th>\n",
       "      <th></th>\n",
       "      <th></th>\n",
       "      <th></th>\n",
       "    </tr>\n",
       "  </thead>\n",
       "  <tbody>\n",
       "    <tr>\n",
       "      <th>Master</th>\n",
       "      <td>414.975000</td>\n",
       "      <td>0.575000</td>\n",
       "      <td>2.625000</td>\n",
       "      <td>4.574167</td>\n",
       "      <td>2.300000</td>\n",
       "      <td>1.375000</td>\n",
       "      <td>3.340710</td>\n",
       "      <td>4.675000</td>\n",
       "    </tr>\n",
       "    <tr>\n",
       "      <th>Miss</th>\n",
       "      <td>411.741935</td>\n",
       "      <td>0.704301</td>\n",
       "      <td>2.284946</td>\n",
       "      <td>21.860000</td>\n",
       "      <td>0.698925</td>\n",
       "      <td>0.537634</td>\n",
       "      <td>3.123713</td>\n",
       "      <td>2.236559</td>\n",
       "    </tr>\n",
       "    <tr>\n",
       "      <th>Mr</th>\n",
       "      <td>455.880907</td>\n",
       "      <td>0.162571</td>\n",
       "      <td>2.381853</td>\n",
       "      <td>32.739609</td>\n",
       "      <td>0.293006</td>\n",
       "      <td>0.151229</td>\n",
       "      <td>2.651507</td>\n",
       "      <td>1.444234</td>\n",
       "    </tr>\n",
       "    <tr>\n",
       "      <th>Mrs</th>\n",
       "      <td>456.393701</td>\n",
       "      <td>0.795276</td>\n",
       "      <td>1.984252</td>\n",
       "      <td>35.981818</td>\n",
       "      <td>0.692913</td>\n",
       "      <td>0.818898</td>\n",
       "      <td>3.443751</td>\n",
       "      <td>2.511811</td>\n",
       "    </tr>\n",
       "    <tr>\n",
       "      <th>Other</th>\n",
       "      <td>564.444444</td>\n",
       "      <td>0.111111</td>\n",
       "      <td>1.666667</td>\n",
       "      <td>45.888889</td>\n",
       "      <td>0.111111</td>\n",
       "      <td>0.111111</td>\n",
       "      <td>2.641605</td>\n",
       "      <td>1.222222</td>\n",
       "    </tr>\n",
       "  </tbody>\n",
       "</table>\n",
       "</div>"
      ],
      "text/plain": [
       "         PassengerId  Survived    Pclass        Age     SibSp     Parch  \\\n",
       "Initial                                                                   \n",
       "Master    414.975000  0.575000  2.625000   4.574167  2.300000  1.375000   \n",
       "Miss      411.741935  0.704301  2.284946  21.860000  0.698925  0.537634   \n",
       "Mr        455.880907  0.162571  2.381853  32.739609  0.293006  0.151229   \n",
       "Mrs       456.393701  0.795276  1.984252  35.981818  0.692913  0.818898   \n",
       "Other     564.444444  0.111111  1.666667  45.888889  0.111111  0.111111   \n",
       "\n",
       "             Fare  FamilySize  \n",
       "Initial                        \n",
       "Master   3.340710    4.675000  \n",
       "Miss     3.123713    2.236559  \n",
       "Mr       2.651507    1.444234  \n",
       "Mrs      3.443751    2.511811  \n",
       "Other    2.641605    1.222222  "
      ]
     },
     "execution_count": 59,
     "metadata": {},
     "output_type": "execute_result"
    }
   ],
   "source": [
    "df_train.groupby('Initial').mean()"
   ]
  },
  {
   "cell_type": "markdown",
   "metadata": {},
   "source": [
    "여성과 관계있는 Miss, Mrs의 생존률이 높은 것을 볼 수 있습니다."
   ]
  },
  {
   "cell_type": "code",
   "execution_count": 60,
   "metadata": {
    "execution": {
     "iopub.execute_input": "2021-01-19T03:28:27.491750Z",
     "iopub.status.busy": "2021-01-19T03:28:27.491750Z",
     "iopub.status.idle": "2021-01-19T03:28:27.676253Z",
     "shell.execute_reply": "2021-01-19T03:28:27.675255Z",
     "shell.execute_reply.started": "2021-01-19T03:28:27.491750Z"
    }
   },
   "outputs": [
    {
     "data": {
      "text/plain": [
       "<AxesSubplot:xlabel='Initial'>"
      ]
     },
     "execution_count": 60,
     "metadata": {},
     "output_type": "execute_result"
    },
    {
     "data": {
      "image/png": "[encoded data removed]",
      "text/plain": [
       "<Figure size 432x288 with 1 Axes>"
      ]
     },
     "metadata": {
      "needs_background": "light"
     },
     "output_type": "display_data"
    }
   ],
   "source": [
    "df_train.groupby('Initial')['Survived'].mean().plot.bar()"
   ]
  },
  {
   "cell_type": "markdown",
   "metadata": {},
   "source": [
    "이제 본격적으로 null을 채워봅시다. null data를 채우는 방법은 굉장히 많습니다. statistics를 활용하는 방법도 있고, null data가 없는 데이터를 기반으로 새로운 머신러닝 알고리즘을 만들어 예측해서 채워넣는 방식도 있습니다. 여기서는 statistics를 활용하는 방법을 사용할 것입니다.  \n",
    "\n",
    "여기서 statistics는 train data의 것을 의미합니다. 우리는 언제나 test를 unseen 상태로 두어야 하며, train에서 얻은 statistics를 기반으로 test의 null data를 채워야 합니다."
   ]
  },
  {
   "cell_type": "code",
   "execution_count": 61,
   "metadata": {
    "execution": {
     "iopub.execute_input": "2021-01-19T03:30:20.495577Z",
     "iopub.status.busy": "2021-01-19T03:30:20.495577Z",
     "iopub.status.idle": "2021-01-19T03:30:20.511504Z",
     "shell.execute_reply": "2021-01-19T03:30:20.510507Z",
     "shell.execute_reply.started": "2021-01-19T03:30:20.495577Z"
    }
   },
   "outputs": [
    {
     "data": {
      "text/html": [
       "<div>\n",
       "<style scoped>\n",
       "    .dataframe tbody tr th:only-of-type {\n",
       "        vertical-align: middle;\n",
       "    }\n",
       "\n",
       "    .dataframe tbody tr th {\n",
       "        vertical-align: top;\n",
       "    }\n",
       "\n",
       "    .dataframe thead th {\n",
       "        text-align: right;\n",
       "    }\n",
       "</style>\n",
       "<table border=\"1\" class=\"dataframe\">\n",
       "  <thead>\n",
       "    <tr style=\"text-align: right;\">\n",
       "      <th></th>\n",
       "      <th>PassengerId</th>\n",
       "      <th>Survived</th>\n",
       "      <th>Pclass</th>\n",
       "      <th>Age</th>\n",
       "      <th>SibSp</th>\n",
       "      <th>Parch</th>\n",
       "      <th>Fare</th>\n",
       "      <th>FamilySize</th>\n",
       "    </tr>\n",
       "    <tr>\n",
       "      <th>Initial</th>\n",
       "      <th></th>\n",
       "      <th></th>\n",
       "      <th></th>\n",
       "      <th></th>\n",
       "      <th></th>\n",
       "      <th></th>\n",
       "      <th></th>\n",
       "      <th></th>\n",
       "    </tr>\n",
       "  </thead>\n",
       "  <tbody>\n",
       "    <tr>\n",
       "      <th>Master</th>\n",
       "      <td>414.975000</td>\n",
       "      <td>0.575000</td>\n",
       "      <td>2.625000</td>\n",
       "      <td>4.574167</td>\n",
       "      <td>2.300000</td>\n",
       "      <td>1.375000</td>\n",
       "      <td>3.340710</td>\n",
       "      <td>4.675000</td>\n",
       "    </tr>\n",
       "    <tr>\n",
       "      <th>Miss</th>\n",
       "      <td>411.741935</td>\n",
       "      <td>0.704301</td>\n",
       "      <td>2.284946</td>\n",
       "      <td>21.860000</td>\n",
       "      <td>0.698925</td>\n",
       "      <td>0.537634</td>\n",
       "      <td>3.123713</td>\n",
       "      <td>2.236559</td>\n",
       "    </tr>\n",
       "    <tr>\n",
       "      <th>Mr</th>\n",
       "      <td>455.880907</td>\n",
       "      <td>0.162571</td>\n",
       "      <td>2.381853</td>\n",
       "      <td>32.739609</td>\n",
       "      <td>0.293006</td>\n",
       "      <td>0.151229</td>\n",
       "      <td>2.651507</td>\n",
       "      <td>1.444234</td>\n",
       "    </tr>\n",
       "    <tr>\n",
       "      <th>Mrs</th>\n",
       "      <td>456.393701</td>\n",
       "      <td>0.795276</td>\n",
       "      <td>1.984252</td>\n",
       "      <td>35.981818</td>\n",
       "      <td>0.692913</td>\n",
       "      <td>0.818898</td>\n",
       "      <td>3.443751</td>\n",
       "      <td>2.511811</td>\n",
       "    </tr>\n",
       "    <tr>\n",
       "      <th>Other</th>\n",
       "      <td>564.444444</td>\n",
       "      <td>0.111111</td>\n",
       "      <td>1.666667</td>\n",
       "      <td>45.888889</td>\n",
       "      <td>0.111111</td>\n",
       "      <td>0.111111</td>\n",
       "      <td>2.641605</td>\n",
       "      <td>1.222222</td>\n",
       "    </tr>\n",
       "  </tbody>\n",
       "</table>\n",
       "</div>"
      ],
      "text/plain": [
       "         PassengerId  Survived    Pclass        Age     SibSp     Parch  \\\n",
       "Initial                                                                   \n",
       "Master    414.975000  0.575000  2.625000   4.574167  2.300000  1.375000   \n",
       "Miss      411.741935  0.704301  2.284946  21.860000  0.698925  0.537634   \n",
       "Mr        455.880907  0.162571  2.381853  32.739609  0.293006  0.151229   \n",
       "Mrs       456.393701  0.795276  1.984252  35.981818  0.692913  0.818898   \n",
       "Other     564.444444  0.111111  1.666667  45.888889  0.111111  0.111111   \n",
       "\n",
       "             Fare  FamilySize  \n",
       "Initial                        \n",
       "Master   3.340710    4.675000  \n",
       "Miss     3.123713    2.236559  \n",
       "Mr       2.651507    1.444234  \n",
       "Mrs      3.443751    2.511811  \n",
       "Other    2.641605    1.222222  "
      ]
     },
     "execution_count": 61,
     "metadata": {},
     "output_type": "execute_result"
    }
   ],
   "source": [
    "df_train.groupby('Initial').mean()"
   ]
  },
  {
   "cell_type": "markdown",
   "metadata": {},
   "source": [
    "Age의 평균을 이용해 null value를 채워봅시다.  \n",
    "\n",
    "pandas dataframe을 다룰 때에는 boolean array를 이용해 indexing하는 방법이 편리합니다. loc + boolean + column을 사용하여 값을 치환하는 방법은 자주 사용되므로 꼭 익숙해집시다."
   ]
  },
  {
   "cell_type": "code",
   "execution_count": 62,
   "metadata": {
    "execution": {
     "iopub.execute_input": "2021-01-19T03:31:11.257771Z",
     "iopub.status.busy": "2021-01-19T03:31:11.256782Z",
     "iopub.status.idle": "2021-01-19T03:31:11.276719Z",
     "shell.execute_reply": "2021-01-19T03:31:11.276719Z",
     "shell.execute_reply.started": "2021-01-19T03:31:11.257771Z"
    }
   },
   "outputs": [],
   "source": [
    "df_train.loc[(df_train['Age'].isnull())&(df_train['Initial']=='Mr'), 'Age'] = 33\n",
    "df_train.loc[(df_train['Age'].isnull())&(df_train['Initial']=='Mrs'), 'Age'] = 36\n",
    "df_train.loc[(df_train['Age'].isnull())&(df_train['Initial']=='Master'), 'Age'] = 5\n",
    "df_train.loc[(df_train['Age'].isnull())&(df_train['Initial']=='Miss'), 'Age'] = 22\n",
    "df_train.loc[(df_train['Age'].isnull())&(df_train['Initial']=='Other'), 'Age'] = 46\n",
    "\n",
    "df_test.loc[(df_test['Age'].isnull())&(df_test['Initial']=='Mr'), 'Age'] = 33\n",
    "df_test.loc[(df_test['Age'].isnull())&(df_test['Initial']=='Mrs'), 'Age'] = 36\n",
    "df_test.loc[(df_test['Age'].isnull())&(df_test['Initial']=='Master'), 'Age'] = 5\n",
    "df_test.loc[(df_test['Age'].isnull())&(df_test['Initial']=='Miss'), 'Age'] = 22\n",
    "df_test.loc[(df_test['Age'].isnull())&(df_test['Initial']=='Other'), 'Age'] = 46"
   ]
  },
  {
   "cell_type": "markdown",
   "metadata": {},
   "source": [
    "여기서는 간단하게 null을 채웠지만 다른 커널에서 다양한 방법을 쓴 예시들을 찾아볼 수 있습니다.  \n",
    "\n",
    "[https://www.kaggle.com/yassineghouzam/titanic-top-4-with-ensemble-modeling](https://www.kaggle.com/yassineghouzam/titanic-top-4-with-ensemble-modeling) << 참고해서 공부해보세요.  "
   ]
  },
  {
   "cell_type": "markdown",
   "metadata": {},
   "source": [
    "##### 3.1.2 Fill Null in Embarked"
   ]
  },
  {
   "cell_type": "code",
   "execution_count": 64,
   "metadata": {
    "execution": {
     "iopub.execute_input": "2021-01-19T03:32:31.651436Z",
     "iopub.status.busy": "2021-01-19T03:32:31.651436Z",
     "iopub.status.idle": "2021-01-19T03:32:31.656424Z",
     "shell.execute_reply": "2021-01-19T03:32:31.655426Z",
     "shell.execute_reply.started": "2021-01-19T03:32:31.651436Z"
    }
   },
   "outputs": [
    {
     "name": "stdout",
     "output_type": "stream",
     "text": [
      "Embarked has 2 Null values\n"
     ]
    }
   ],
   "source": [
    "print('Embarked has {} Null values'.format(sum(df_train['Embarked'].isnull())))"
   ]
  },
  {
   "cell_type": "markdown",
   "metadata": {},
   "source": [
    "Embarked의 null value는 2개이고, S의 탑승객이 가장 많았으므로 간단하게 null을 S로 채우겠습니다.  \n",
    "\n",
    "dataframe의 fillna method를 이용하면 쉽게 채울 수 있습니다. 여기서 inplace=True를 설정하면 df_train에 fillna를 실제로 적용하게 됩니다."
   ]
  },
  {
   "cell_type": "code",
   "execution_count": 65,
   "metadata": {
    "execution": {
     "iopub.execute_input": "2021-01-19T03:34:01.904035Z",
     "iopub.status.busy": "2021-01-19T03:34:01.903037Z",
     "iopub.status.idle": "2021-01-19T03:34:01.909022Z",
     "shell.execute_reply": "2021-01-19T03:34:01.908023Z",
     "shell.execute_reply.started": "2021-01-19T03:34:01.903037Z"
    }
   },
   "outputs": [],
   "source": [
    "df_train['Embarked'].fillna('S', inplace=True)"
   ]
  },
  {
   "cell_type": "markdown",
   "metadata": {},
   "source": [
    "#### 3.2 Change Age (continuous to categorical)\n",
    "Age는 현재 continuous feature입니다. 이대로 써도 모델을 세울 수 있지만, Age를 몇 개의 group으로 나누어 category화 시켜줄 수도 있습니다. continuous를 categorical로 바꾸면 자칫 information loss가 생길 수 있겠지만, 본 튜토리얼은 다양한 방법을 소개하는 것이 목적이므로 진행하도록 하겠습니다.  \n",
    "\n",
    "방법은 여러가지가 있습니다. dataframe의 indexing 방법인 loc를 사용하여 직접 해줄 수도 있고, apply를 사용해 함수를 넣어줄 수도 있습니다.  \n",
    "\n",
    "첫 번째, loc를 사용한 방법입니다. 나이는 10살 간격으로 나누겠습니다."
   ]
  },
  {
   "cell_type": "code",
   "execution_count": 66,
   "metadata": {
    "execution": {
     "iopub.execute_input": "2021-01-19T03:36:20.730333Z",
     "iopub.status.busy": "2021-01-19T03:36:20.729336Z",
     "iopub.status.idle": "2021-01-19T03:36:20.760281Z",
     "shell.execute_reply": "2021-01-19T03:36:20.760281Z",
     "shell.execute_reply.started": "2021-01-19T03:36:20.730333Z"
    }
   },
   "outputs": [],
   "source": [
    "df_train['Age_cat'] = 0\n",
    "df_train.loc[df_train['Age'] < 10, 'Age_cat'] = 0\n",
    "df_train.loc[(df_train['Age'] >= 10)&(df_train['Age'] < 20), 'Age_cat'] = 1\n",
    "df_train.loc[(df_train['Age'] >= 20)&(df_train['Age'] < 30), 'Age_cat'] = 2\n",
    "df_train.loc[(df_train['Age'] >= 30)&(df_train['Age'] < 40), 'Age_cat'] = 3\n",
    "df_train.loc[(df_train['Age'] >= 40)&(df_train['Age'] < 50), 'Age_cat'] = 4\n",
    "df_train.loc[(df_train['Age'] >= 50)&(df_train['Age'] < 60), 'Age_cat'] = 5\n",
    "df_train.loc[(df_train['Age'] >= 60)&(df_train['Age'] < 70), 'Age_cat'] = 6\n",
    "df_train.loc[df_train['Age'] >= 70, 'Age_cat'] = 7\n",
    "\n",
    "df_test['Age_cat'] = 0\n",
    "df_test.loc[df_test['Age'] < 10, 'Age_cat'] = 0\n",
    "df_test.loc[(df_test['Age'] >= 10)&(df_test['Age'] < 20), 'Age_cat'] = 1\n",
    "df_test.loc[(df_test['Age'] >= 20)&(df_test['Age'] < 30), 'Age_cat'] = 2\n",
    "df_test.loc[(df_test['Age'] >= 30)&(df_test['Age'] < 40), 'Age_cat'] = 3\n",
    "df_test.loc[(df_test['Age'] >= 40)&(df_test['Age'] < 50), 'Age_cat'] = 4\n",
    "df_test.loc[(df_test['Age'] >= 50)&(df_test['Age'] < 60), 'Age_cat'] = 5\n",
    "df_test.loc[(df_test['Age'] >= 60)&(df_test['Age'] < 70), 'Age_cat'] = 6\n",
    "df_test.loc[df_test['Age'] >= 70, 'Age_cat'] = 7"
   ]
  },
  {
   "cell_type": "markdown",
   "metadata": {},
   "source": [
    "두 번째로, 간단한 함수를 만들어 apply 메소드에 넣어주는 방법입니다."
   ]
  },
  {
   "cell_type": "code",
   "execution_count": 67,
   "metadata": {
    "execution": {
     "iopub.execute_input": "2021-01-19T03:37:59.767435Z",
     "iopub.status.busy": "2021-01-19T03:37:59.767435Z",
     "iopub.status.idle": "2021-01-19T03:37:59.775413Z",
     "shell.execute_reply": "2021-01-19T03:37:59.774417Z",
     "shell.execute_reply.started": "2021-01-19T03:37:59.767435Z"
    }
   },
   "outputs": [],
   "source": [
    "def category_age(x):\n",
    "    if x < 10:\n",
    "        return 0\n",
    "    elif x < 20:\n",
    "        return 1\n",
    "    elif x < 30:\n",
    "        return 2\n",
    "    elif x < 40:\n",
    "        return 3\n",
    "    elif x < 50:\n",
    "        return 4\n",
    "    elif x < 60:\n",
    "        return 5\n",
    "    elif x < 70:\n",
    "        return 6\n",
    "    else:\n",
    "        return 7\n",
    "df_train['Age_cat_2'] = df_train['Age'].apply(category_age)"
   ]
  },
  {
   "cell_type": "markdown",
   "metadata": {},
   "source": [
    "두 가지 방법이 잘 적용됐다면, 둘다 같은 결과를 내야합니다.  \n",
    "\n",
    "이를 확인하기 위해 Series 간 boolean을 비교한 후 all() 메소드를 사용해봅시다. all() 메소드는 모든 값이 True이면 True, 하나라도 False가 있으면 False를 반환합니다."
   ]
  },
  {
   "cell_type": "code",
   "execution_count": 70,
   "metadata": {
    "execution": {
     "iopub.execute_input": "2021-01-19T03:39:30.106800Z",
     "iopub.status.busy": "2021-01-19T03:39:30.105825Z",
     "iopub.status.idle": "2021-01-19T03:39:30.112795Z",
     "shell.execute_reply": "2021-01-19T03:39:30.111787Z",
     "shell.execute_reply.started": "2021-01-19T03:39:30.106800Z"
    }
   },
   "outputs": [
    {
     "name": "stdout",
     "output_type": "stream",
     "text": [
      "1번 방법, 2번 방법 둘다 같은 결과를 내면 True -> True\n"
     ]
    }
   ],
   "source": [
    "print(f\"1번 방법, 2번 방법 둘다 같은 결과를 내면 True -> {(df_train['Age_cat'] == df_train['Age_cat_2']).all()}\")"
   ]
  },
  {
   "cell_type": "markdown",
   "metadata": {},
   "source": [
    "중복되는 Age_cat 컬럼과 원래 컬럼 Age를 제거하겠습니다."
   ]
  },
  {
   "cell_type": "code",
   "execution_count": 71,
   "metadata": {
    "execution": {
     "iopub.execute_input": "2021-01-19T03:40:44.439953Z",
     "iopub.status.busy": "2021-01-19T03:40:44.439953Z",
     "iopub.status.idle": "2021-01-19T03:40:44.448929Z",
     "shell.execute_reply": "2021-01-19T03:40:44.447934Z",
     "shell.execute_reply.started": "2021-01-19T03:40:44.439953Z"
    }
   },
   "outputs": [],
   "source": [
    "df_train.drop(['Age', 'Age_cat_2'], axis=1, inplace=True)\n",
    "df_test.drop('Age', axis=1, inplace=True)"
   ]
  },
  {
   "cell_type": "markdown",
   "metadata": {},
   "source": [
    "#### 3.3 Change Initial, Embarked and Sex (string to numerical)\n",
    "현재 Initial은 Mr, Mrs, Miss, Master, Other 총 5개로 이루어져 있습니다. 이러한 카테고리로 나뉜 데이터를 모델에 인풋으로 넣기 전에 먼저 컴퓨터가 인식할 수 있도록 수치화 시키는 작업이 필요합니다.  \n",
    "map 메소드를 사용하여 사전 순서대로 정리하여 mapping 하겠습니다."
   ]
  },
  {
   "cell_type": "code",
   "execution_count": 72,
   "metadata": {
    "execution": {
     "iopub.execute_input": "2021-01-19T03:41:46.876651Z",
     "iopub.status.busy": "2021-01-19T03:41:46.876651Z",
     "iopub.status.idle": "2021-01-19T03:41:46.885627Z",
     "shell.execute_reply": "2021-01-19T03:41:46.884629Z",
     "shell.execute_reply.started": "2021-01-19T03:41:46.876651Z"
    }
   },
   "outputs": [],
   "source": [
    "df_train['Initial'] = df_train['Initial'].map({'Master':0, 'Miss':1, 'Mr':2, 'Mrs':3, 'Other':4})\n",
    "df_test['Initial'] = df_test['Initial'].map({'Master':0, 'Miss':1, 'Mr':2, 'Mrs':3, 'Other':4})"
   ]
  },
  {
   "cell_type": "markdown",
   "metadata": {},
   "source": [
    "Embarked의 C, Q, S도 map을 이용해 바꿔보고자 합니다.  \n",
    "\n",
    "바꾸기 전에 특정 column에 어떤 값이 있는지 잠시 확인해보겠습니다. 간단히 unique() 메소드를 쓰거나 value_counts()를 사용하여 count까지 보는 방법이 있습니다."
   ]
  },
  {
   "cell_type": "code",
   "execution_count": 73,
   "metadata": {
    "execution": {
     "iopub.execute_input": "2021-01-19T03:42:02.481911Z",
     "iopub.status.busy": "2021-01-19T03:42:02.480914Z",
     "iopub.status.idle": "2021-01-19T03:42:02.487898Z",
     "shell.execute_reply": "2021-01-19T03:42:02.486898Z",
     "shell.execute_reply.started": "2021-01-19T03:42:02.480914Z"
    }
   },
   "outputs": [
    {
     "data": {
      "text/plain": [
       "array(['S', 'C', 'Q'], dtype=object)"
      ]
     },
     "execution_count": 73,
     "metadata": {},
     "output_type": "execute_result"
    }
   ],
   "source": [
    "df_train['Embarked'].unique()"
   ]
  },
  {
   "cell_type": "code",
   "execution_count": 74,
   "metadata": {
    "execution": {
     "iopub.execute_input": "2021-01-19T03:42:14.905681Z",
     "iopub.status.busy": "2021-01-19T03:42:14.905681Z",
     "iopub.status.idle": "2021-01-19T03:42:14.913659Z",
     "shell.execute_reply": "2021-01-19T03:42:14.912691Z",
     "shell.execute_reply.started": "2021-01-19T03:42:14.905681Z"
    }
   },
   "outputs": [
    {
     "data": {
      "text/plain": [
       "S    646\n",
       "C    168\n",
       "Q     77\n",
       "Name: Embarked, dtype: int64"
      ]
     },
     "execution_count": 74,
     "metadata": {},
     "output_type": "execute_result"
    }
   ],
   "source": [
    "df_train['Embarked'].value_counts()"
   ]
  },
  {
   "cell_type": "markdown",
   "metadata": {},
   "source": [
    "위의 두 방법을 사용하여 Embarked가 S, C, Q 세 가지로 이루어진 것을 볼 수 있습니다. 이제 map을 사용해봅시다."
   ]
  },
  {
   "cell_type": "code",
   "execution_count": 75,
   "metadata": {
    "execution": {
     "iopub.execute_input": "2021-01-19T03:43:04.342450Z",
     "iopub.status.busy": "2021-01-19T03:43:04.342450Z",
     "iopub.status.idle": "2021-01-19T03:43:04.350440Z",
     "shell.execute_reply": "2021-01-19T03:43:04.349442Z",
     "shell.execute_reply.started": "2021-01-19T03:43:04.342450Z"
    }
   },
   "outputs": [],
   "source": [
    "df_train['Embarked'] = df_train['Embarked'].map({'C':0, 'Q':1, 'S':2})\n",
    "df_test['Embarked'] = df_test['Embarked'].map({'C':0, 'Q':1, 'S':2})"
   ]
  },
  {
   "cell_type": "markdown",
   "metadata": {},
   "source": [
    "이제 null이 없는지 확인해봅시다. Embarked column만 가져온 것은 하나의 pandas의 Series 객체이므로, isnull() 메소드를 사용해 Series의 값들이 null인지 아닌지에 대한 boolean 값을 얻을 수 있습니다. 그리고 any()를 사용하면 True가 단 하나라도 있을 시(null이 한 개 이상) True를 반환합니다. 우리는 null을 모두 S로 바꾸어주었으므로 False를 얻습니다."
   ]
  },
  {
   "cell_type": "code",
   "execution_count": 76,
   "metadata": {
    "execution": {
     "iopub.execute_input": "2021-01-19T03:43:26.846939Z",
     "iopub.status.busy": "2021-01-19T03:43:26.846939Z",
     "iopub.status.idle": "2021-01-19T03:43:26.853920Z",
     "shell.execute_reply": "2021-01-19T03:43:26.852923Z",
     "shell.execute_reply.started": "2021-01-19T03:43:26.846939Z"
    }
   },
   "outputs": [
    {
     "data": {
      "text/plain": [
       "False"
      ]
     },
     "execution_count": 76,
     "metadata": {},
     "output_type": "execute_result"
    }
   ],
   "source": [
    "df_train['Embarked'].isnull().any()"
   ]
  },
  {
   "cell_type": "markdown",
   "metadata": {},
   "source": [
    "Sex도 female과 mail로 이루어져있습니다. map을 이용해 바꿔봅시다."
   ]
  },
  {
   "cell_type": "code",
   "execution_count": 77,
   "metadata": {
    "execution": {
     "iopub.execute_input": "2021-01-19T03:44:42.768443Z",
     "iopub.status.busy": "2021-01-19T03:44:42.768443Z",
     "iopub.status.idle": "2021-01-19T03:44:42.776395Z",
     "shell.execute_reply": "2021-01-19T03:44:42.775399Z",
     "shell.execute_reply.started": "2021-01-19T03:44:42.768443Z"
    }
   },
   "outputs": [],
   "source": [
    "df_train['Sex'] = df_train['Sex'].map({'female':0, 'male':1})\n",
    "df_test['Sex'] = df_test['Sex'].map({'female':0, 'male':1})"
   ]
  },
  {
   "cell_type": "markdown",
   "metadata": {},
   "source": [
    "각 feature 간 상관관계를 봅시다. 두 변수 간의 Pearson correlation을 구하면 (-1, 1) 사이의 값을 얻을 수 있습니다. -1에 가까울수록 음의 상관관계, 1에 가까울수록 양의 상관관계를 의미하며 0은 상관관계가 없음을 의미합니다. 구하는 수식은 다음과 같습니다.  \n",
    "\n",
    "$$r_{xy} = \\frac{Cov(x, y)}{S_{x}S_{y}} = \\frac{\\frac{1}{n-1}\\sum_{i=1}^{n}(x_{i}-\\bar{x})(y_{i}-\\bar{y})}{S_{x}S_{y}}$$  \n",
    "\n",
    "우리는 여러 feature를 가지고 있으니 이를 하나의 matrix 형태로 보면 편할텐데, 이를 heatmap plot이라고 하며, dataframe의 corr() 메소드와 seaborn을 가지고 편하게 그릴 수 있습니다."
   ]
  },
  {
   "cell_type": "code",
   "execution_count": 85,
   "metadata": {
    "execution": {
     "iopub.execute_input": "2021-01-19T03:48:00.119728Z",
     "iopub.status.busy": "2021-01-19T03:48:00.118730Z",
     "iopub.status.idle": "2021-01-19T03:48:01.864185Z",
     "shell.execute_reply": "2021-01-19T03:48:01.864185Z",
     "shell.execute_reply.started": "2021-01-19T03:48:00.119728Z"
    }
   },
   "outputs": [
    {
     "data": {
      "image/png": "[encoded data removed]",
      "text/plain": [
       "<Figure size 1008x864 with 2 Axes>"
      ]
     },
     "metadata": {
      "needs_background": "light"
     },
     "output_type": "display_data"
    }
   ],
   "source": [
    "heatmap_data = df_train[['Survived', 'Pclass', 'Sex', 'Fare', 'Embarked', 'FamilySize', 'Initial', 'Age_cat']]\n",
    "\n",
    "colormap = plt.cm.RdBu\n",
    "plt.figure(figsize=(14, 12))\n",
    "plt.title('Pearson Correlation of Features', y=1.05, size=40)\n",
    "sns.heatmap(heatmap_data.astype(float).corr(), linewidths=0.1, vmax=1.0, square=True, cmap=colormap, linecolor='white', annot=True, annot_kws={'size':16})\n",
    "\n",
    "del heatmap_data"
   ]
  },
  {
   "cell_type": "markdown",
   "metadata": {},
   "source": [
    "EDA에서 살펴봤듯이, Sex와 Pclass가 Survived와 어느정도 상관관계가 있음을 볼 수 있습니다. 생각보다 Fare와 Embarked도 상관관계가 있음을 볼 수 있습니다.  \n",
    "\n",
    "또한, 우리가 여기서 얻을 수 있는 정보는 서로 강한 상관관계를 갖는 feature들이 없다는 것입니다. 이것은 우리가 모델을 학습시킬 때, 불필요한(redundant, superfluous) feature가 없다는 것을 의미합니다. 1 또는 -1의 상관관계를 가진 feature A, B가 있다면, 우리가 얻을 수 있는 정보는 사실 하나일 거니까요.  \n",
    "\n",
    "이제 실제로 모델을 학습시키기에 앞서 data preprocessing(전처리)을 진행해보겠습니다."
   ]
  },
  {
   "cell_type": "markdown",
   "metadata": {},
   "source": [
    "#### 3.4 One-hot encoding on Initial and Embarked\n",
    "수치화시킨 카테고리 데이터를 그대로 넣어도 되지만, 모델의 성능을 높이기 위해 one-hot encoding을 해줄 수 있습니다.  \n",
    "\n",
    "수치화는 간단히 Master = 0, Miss = 1, Mr = 2, Mrs = 3, Other = 4로 매핑해주는 것을 말합니다. One-hot encoding은 위 카테고리를 다음과 같이 (0, 1)로 이루어진 5차원의 벡터로 나타내는 것을 말합니다.  \n",
    "\n",
    "(Initial) | Initial_Master | Initial_Miss | Initial_Mr | Initial_Mrs | Initial_Other\n",
    " :--: | :--: | :--: | :--: | :--: | :--:\n",
    " Master | 1 | 0 | 0 | 0 | 0\n",
    " Miss | 0 | 1 | 0 | 0 | 0\n",
    " Mr | 0 | 0 | 1 | 0 | 0\n",
    " Mrs | 0 | 0 | 0 | 1 | 0\n",
    " Others | 0 | 0 | 0 | 0 | 1  \n",
    " \n",
    " 위와 같은 작업을 직접 코딩할 수도 있지만, pandas의 get_dummies를 사용하여 쉽게 해결할 수 있습니다. 총 5개의 카테고리니, one-hot encoding을 만들고 나면 새로운 5개의 column이 생겨납니다. Initial을 prefix로 두어서 구분이 쉽게 만들어줍니다."
   ]
  },
  {
   "cell_type": "code",
   "execution_count": 86,
   "metadata": {
    "execution": {
     "iopub.execute_input": "2021-01-19T03:49:11.702972Z",
     "iopub.status.busy": "2021-01-19T03:49:11.702972Z",
     "iopub.status.idle": "2021-01-19T03:49:11.717932Z",
     "shell.execute_reply": "2021-01-19T03:49:11.716934Z",
     "shell.execute_reply.started": "2021-01-19T03:49:11.702972Z"
    }
   },
   "outputs": [],
   "source": [
    "df_train = pd.get_dummies(df_train, columns=['Initial'], prefix='Initial')\n",
    "df_test = pd.get_dummies(df_test, columns=['Initial'], prefix='Initial')"
   ]
  },
  {
   "cell_type": "code",
   "execution_count": 87,
   "metadata": {
    "execution": {
     "iopub.execute_input": "2021-01-19T03:49:13.796576Z",
     "iopub.status.busy": "2021-01-19T03:49:13.795548Z",
     "iopub.status.idle": "2021-01-19T03:49:13.813500Z",
     "shell.execute_reply": "2021-01-19T03:49:13.812503Z",
     "shell.execute_reply.started": "2021-01-19T03:49:13.796576Z"
    }
   },
   "outputs": [
    {
     "data": {
      "text/html": [
       "<div>\n",
       "<style scoped>\n",
       "    .dataframe tbody tr th:only-of-type {\n",
       "        vertical-align: middle;\n",
       "    }\n",
       "\n",
       "    .dataframe tbody tr th {\n",
       "        vertical-align: top;\n",
       "    }\n",
       "\n",
       "    .dataframe thead th {\n",
       "        text-align: right;\n",
       "    }\n",
       "</style>\n",
       "<table border=\"1\" class=\"dataframe\">\n",
       "  <thead>\n",
       "    <tr style=\"text-align: right;\">\n",
       "      <th></th>\n",
       "      <th>PassengerId</th>\n",
       "      <th>Survived</th>\n",
       "      <th>Pclass</th>\n",
       "      <th>Name</th>\n",
       "      <th>Sex</th>\n",
       "      <th>SibSp</th>\n",
       "      <th>Parch</th>\n",
       "      <th>Ticket</th>\n",
       "      <th>Fare</th>\n",
       "      <th>Cabin</th>\n",
       "      <th>Embarked</th>\n",
       "      <th>FamilySize</th>\n",
       "      <th>Age_cat</th>\n",
       "      <th>Initial_0</th>\n",
       "      <th>Initial_1</th>\n",
       "      <th>Initial_2</th>\n",
       "      <th>Initial_3</th>\n",
       "      <th>Initial_4</th>\n",
       "    </tr>\n",
       "  </thead>\n",
       "  <tbody>\n",
       "    <tr>\n",
       "      <th>0</th>\n",
       "      <td>1</td>\n",
       "      <td>0</td>\n",
       "      <td>3</td>\n",
       "      <td>Braund, Mr. Owen Harris</td>\n",
       "      <td>1</td>\n",
       "      <td>1</td>\n",
       "      <td>0</td>\n",
       "      <td>A/5 21171</td>\n",
       "      <td>1.981001</td>\n",
       "      <td>NaN</td>\n",
       "      <td>2</td>\n",
       "      <td>2</td>\n",
       "      <td>2</td>\n",
       "      <td>0</td>\n",
       "      <td>0</td>\n",
       "      <td>1</td>\n",
       "      <td>0</td>\n",
       "      <td>0</td>\n",
       "    </tr>\n",
       "    <tr>\n",
       "      <th>1</th>\n",
       "      <td>2</td>\n",
       "      <td>1</td>\n",
       "      <td>1</td>\n",
       "      <td>Cumings, Mrs. John Bradley (Florence Briggs Th...</td>\n",
       "      <td>0</td>\n",
       "      <td>1</td>\n",
       "      <td>0</td>\n",
       "      <td>PC 17599</td>\n",
       "      <td>4.266662</td>\n",
       "      <td>C85</td>\n",
       "      <td>0</td>\n",
       "      <td>2</td>\n",
       "      <td>3</td>\n",
       "      <td>0</td>\n",
       "      <td>0</td>\n",
       "      <td>0</td>\n",
       "      <td>1</td>\n",
       "      <td>0</td>\n",
       "    </tr>\n",
       "    <tr>\n",
       "      <th>2</th>\n",
       "      <td>3</td>\n",
       "      <td>1</td>\n",
       "      <td>3</td>\n",
       "      <td>Heikkinen, Miss. Laina</td>\n",
       "      <td>0</td>\n",
       "      <td>0</td>\n",
       "      <td>0</td>\n",
       "      <td>STON/O2. 3101282</td>\n",
       "      <td>2.070022</td>\n",
       "      <td>NaN</td>\n",
       "      <td>2</td>\n",
       "      <td>1</td>\n",
       "      <td>2</td>\n",
       "      <td>0</td>\n",
       "      <td>1</td>\n",
       "      <td>0</td>\n",
       "      <td>0</td>\n",
       "      <td>0</td>\n",
       "    </tr>\n",
       "  </tbody>\n",
       "</table>\n",
       "</div>"
      ],
      "text/plain": [
       "   PassengerId  Survived  Pclass  \\\n",
       "0            1         0       3   \n",
       "1            2         1       1   \n",
       "2            3         1       3   \n",
       "\n",
       "                                                Name  Sex  SibSp  Parch  \\\n",
       "0                            Braund, Mr. Owen Harris    1      1      0   \n",
       "1  Cumings, Mrs. John Bradley (Florence Briggs Th...    0      1      0   \n",
       "2                             Heikkinen, Miss. Laina    0      0      0   \n",
       "\n",
       "             Ticket      Fare Cabin  Embarked  FamilySize  Age_cat  Initial_0  \\\n",
       "0         A/5 21171  1.981001   NaN         2           2        2          0   \n",
       "1          PC 17599  4.266662   C85         0           2        3          0   \n",
       "2  STON/O2. 3101282  2.070022   NaN         2           1        2          0   \n",
       "\n",
       "   Initial_1  Initial_2  Initial_3  Initial_4  \n",
       "0          0          1          0          0  \n",
       "1          0          0          1          0  \n",
       "2          1          0          0          0  "
      ]
     },
     "execution_count": 87,
     "metadata": {},
     "output_type": "execute_result"
    }
   ],
   "source": [
    "df_train.head(3)"
   ]
  },
  {
   "cell_type": "markdown",
   "metadata": {},
   "source": [
    "우리가 만들려고 했던 one-hot encoded column들이 생성된 것을 볼 수 있습니다.  \n",
    "\n",
    "Embarked에도 적용해보겠습니다. Initial과 마찬가지로 one-hot encoding을 사용해봅시다"
   ]
  },
  {
   "cell_type": "code",
   "execution_count": 88,
   "metadata": {
    "execution": {
     "iopub.execute_input": "2021-01-19T03:49:53.494213Z",
     "iopub.status.busy": "2021-01-19T03:49:53.494213Z",
     "iopub.status.idle": "2021-01-19T03:49:53.510168Z",
     "shell.execute_reply": "2021-01-19T03:49:53.509172Z",
     "shell.execute_reply.started": "2021-01-19T03:49:53.494213Z"
    }
   },
   "outputs": [],
   "source": [
    "df_train = pd.get_dummies(df_train, columns=['Embarked'], prefix='Embarked')\n",
    "df_test = pd.get_dummies(df_test, columns=['Embarked'], prefix='Embarked')"
   ]
  },
  {
   "cell_type": "code",
   "execution_count": 28,
   "metadata": {
    "execution": {
     "iopub.execute_input": "2021-01-19T02:10:52.172590Z",
     "iopub.status.busy": "2021-01-19T02:10:52.172590Z",
     "iopub.status.idle": "2021-01-19T02:10:52.195527Z",
     "shell.execute_reply": "2021-01-19T02:10:52.194531Z",
     "shell.execute_reply.started": "2021-01-19T02:10:52.172590Z"
    }
   },
   "outputs": [
    {
     "data": {
      "text/html": [
       "<div>\n",
       "<style scoped>\n",
       "    .dataframe tbody tr th:only-of-type {\n",
       "        vertical-align: middle;\n",
       "    }\n",
       "\n",
       "    .dataframe tbody tr th {\n",
       "        vertical-align: top;\n",
       "    }\n",
       "\n",
       "    .dataframe thead th {\n",
       "        text-align: right;\n",
       "    }\n",
       "</style>\n",
       "<table border=\"1\" class=\"dataframe\">\n",
       "  <thead>\n",
       "    <tr style=\"text-align: right;\">\n",
       "      <th></th>\n",
       "      <th>PassengerId</th>\n",
       "      <th>Survived</th>\n",
       "      <th>Pclass</th>\n",
       "      <th>Name</th>\n",
       "      <th>Sex</th>\n",
       "      <th>SibSp</th>\n",
       "      <th>Parch</th>\n",
       "      <th>Ticket</th>\n",
       "      <th>Fare</th>\n",
       "      <th>Cabin</th>\n",
       "      <th>FamilySize</th>\n",
       "      <th>Age_cat</th>\n",
       "      <th>Initial_0</th>\n",
       "      <th>Initial_1</th>\n",
       "      <th>Initial_2</th>\n",
       "      <th>Initial_3</th>\n",
       "      <th>Initial_4</th>\n",
       "      <th>Embarked_0</th>\n",
       "      <th>Embarked_1</th>\n",
       "      <th>Embarked_2</th>\n",
       "    </tr>\n",
       "  </thead>\n",
       "  <tbody>\n",
       "    <tr>\n",
       "      <th>0</th>\n",
       "      <td>1</td>\n",
       "      <td>0</td>\n",
       "      <td>3</td>\n",
       "      <td>Braund, Mr. Owen Harris</td>\n",
       "      <td>1</td>\n",
       "      <td>1</td>\n",
       "      <td>0</td>\n",
       "      <td>A/5 21171</td>\n",
       "      <td>1.981001</td>\n",
       "      <td>NaN</td>\n",
       "      <td>2</td>\n",
       "      <td>2</td>\n",
       "      <td>0</td>\n",
       "      <td>0</td>\n",
       "      <td>1</td>\n",
       "      <td>0</td>\n",
       "      <td>0</td>\n",
       "      <td>0</td>\n",
       "      <td>0</td>\n",
       "      <td>1</td>\n",
       "    </tr>\n",
       "    <tr>\n",
       "      <th>1</th>\n",
       "      <td>2</td>\n",
       "      <td>1</td>\n",
       "      <td>1</td>\n",
       "      <td>Cumings, Mrs. John Bradley (Florence Briggs Th...</td>\n",
       "      <td>0</td>\n",
       "      <td>1</td>\n",
       "      <td>0</td>\n",
       "      <td>PC 17599</td>\n",
       "      <td>4.266662</td>\n",
       "      <td>C85</td>\n",
       "      <td>2</td>\n",
       "      <td>3</td>\n",
       "      <td>0</td>\n",
       "      <td>0</td>\n",
       "      <td>0</td>\n",
       "      <td>1</td>\n",
       "      <td>0</td>\n",
       "      <td>1</td>\n",
       "      <td>0</td>\n",
       "      <td>0</td>\n",
       "    </tr>\n",
       "    <tr>\n",
       "      <th>2</th>\n",
       "      <td>3</td>\n",
       "      <td>1</td>\n",
       "      <td>3</td>\n",
       "      <td>Heikkinen, Miss. Laina</td>\n",
       "      <td>0</td>\n",
       "      <td>0</td>\n",
       "      <td>0</td>\n",
       "      <td>STON/O2. 3101282</td>\n",
       "      <td>2.070022</td>\n",
       "      <td>NaN</td>\n",
       "      <td>1</td>\n",
       "      <td>2</td>\n",
       "      <td>0</td>\n",
       "      <td>1</td>\n",
       "      <td>0</td>\n",
       "      <td>0</td>\n",
       "      <td>0</td>\n",
       "      <td>0</td>\n",
       "      <td>0</td>\n",
       "      <td>1</td>\n",
       "    </tr>\n",
       "  </tbody>\n",
       "</table>\n",
       "</div>"
      ],
      "text/plain": [
       "   PassengerId  Survived  Pclass  \\\n",
       "0            1         0       3   \n",
       "1            2         1       1   \n",
       "2            3         1       3   \n",
       "\n",
       "                                                Name  Sex  SibSp  Parch  \\\n",
       "0                            Braund, Mr. Owen Harris    1      1      0   \n",
       "1  Cumings, Mrs. John Bradley (Florence Briggs Th...    0      1      0   \n",
       "2                             Heikkinen, Miss. Laina    0      0      0   \n",
       "\n",
       "             Ticket      Fare Cabin  FamilySize  Age_cat  Initial_0  \\\n",
       "0         A/5 21171  1.981001   NaN           2        2          0   \n",
       "1          PC 17599  4.266662   C85           2        3          0   \n",
       "2  STON/O2. 3101282  2.070022   NaN           1        2          0   \n",
       "\n",
       "   Initial_1  Initial_2  Initial_3  Initial_4  Embarked_0  Embarked_1  \\\n",
       "0          0          1          0          0           0           0   \n",
       "1          0          0          1          0           1           0   \n",
       "2          1          0          0          0           0           0   \n",
       "\n",
       "   Embarked_2  \n",
       "0           1  \n",
       "1           0  \n",
       "2           1  "
      ]
     },
     "execution_count": 28,
     "metadata": {},
     "output_type": "execute_result"
    }
   ],
   "source": [
    "df_train.head(3)"
   ]
  },
  {
   "cell_type": "markdown",
   "metadata": {},
   "source": [
    "아주 쉽게 one-hot encoding을 적용했습니다.  \n",
    "\n",
    "sklearn으로 Labelencoder + OneHotencoder를 이용해도 가능합니다. 여기서는 get_dummies로 충분히 가능하기 때문에 이 정도로 마치겠습니다.  \n",
    "\n",
    "가끔 카테고리가 100개가 넘어가는 경우도 있스비다. 이때 one-hot encoding을 사용하면 column이 100개가 생기기 때문에 학습 시 매우 버거울 수 있습니다. 이런 경우는 다른 방법을 사용하기도 하는데, 이는 다음에 한번 다뤄보겠습니다."
   ]
  },
  {
   "cell_type": "markdown",
   "metadata": {},
   "source": [
    "#### 3.5 Drop columns\n",
    "필요한 columns만 남기고 다 지워보겠습니다."
   ]
  },
  {
   "cell_type": "code",
   "execution_count": 89,
   "metadata": {
    "execution": {
     "iopub.execute_input": "2021-01-19T03:51:54.720297Z",
     "iopub.status.busy": "2021-01-19T03:51:54.720297Z",
     "iopub.status.idle": "2021-01-19T03:51:54.730242Z",
     "shell.execute_reply": "2021-01-19T03:51:54.729245Z",
     "shell.execute_reply.started": "2021-01-19T03:51:54.720297Z"
    }
   },
   "outputs": [],
   "source": [
    "df_train.drop(['PassengerId', 'Name', 'SibSp', 'Parch', 'Ticket', 'Cabin'], axis=1, inplace=True)\n",
    "df_test.drop(['PassengerId', 'Name', 'SibSp', 'Parch', 'Ticket', 'Cabin'], axis=1, inplace=True)"
   ]
  },
  {
   "cell_type": "code",
   "execution_count": 90,
   "metadata": {
    "execution": {
     "iopub.execute_input": "2021-01-19T03:51:56.486419Z",
     "iopub.status.busy": "2021-01-19T03:51:56.486419Z",
     "iopub.status.idle": "2021-01-19T03:51:56.499383Z",
     "shell.execute_reply": "2021-01-19T03:51:56.498414Z",
     "shell.execute_reply.started": "2021-01-19T03:51:56.486419Z"
    }
   },
   "outputs": [
    {
     "data": {
      "text/html": [
       "<div>\n",
       "<style scoped>\n",
       "    .dataframe tbody tr th:only-of-type {\n",
       "        vertical-align: middle;\n",
       "    }\n",
       "\n",
       "    .dataframe tbody tr th {\n",
       "        vertical-align: top;\n",
       "    }\n",
       "\n",
       "    .dataframe thead th {\n",
       "        text-align: right;\n",
       "    }\n",
       "</style>\n",
       "<table border=\"1\" class=\"dataframe\">\n",
       "  <thead>\n",
       "    <tr style=\"text-align: right;\">\n",
       "      <th></th>\n",
       "      <th>Survived</th>\n",
       "      <th>Pclass</th>\n",
       "      <th>Sex</th>\n",
       "      <th>Fare</th>\n",
       "      <th>FamilySize</th>\n",
       "      <th>Age_cat</th>\n",
       "      <th>Initial_0</th>\n",
       "      <th>Initial_1</th>\n",
       "      <th>Initial_2</th>\n",
       "      <th>Initial_3</th>\n",
       "      <th>Initial_4</th>\n",
       "      <th>Embarked_0</th>\n",
       "      <th>Embarked_1</th>\n",
       "      <th>Embarked_2</th>\n",
       "    </tr>\n",
       "  </thead>\n",
       "  <tbody>\n",
       "    <tr>\n",
       "      <th>0</th>\n",
       "      <td>0</td>\n",
       "      <td>3</td>\n",
       "      <td>1</td>\n",
       "      <td>1.981001</td>\n",
       "      <td>2</td>\n",
       "      <td>2</td>\n",
       "      <td>0</td>\n",
       "      <td>0</td>\n",
       "      <td>1</td>\n",
       "      <td>0</td>\n",
       "      <td>0</td>\n",
       "      <td>0</td>\n",
       "      <td>0</td>\n",
       "      <td>1</td>\n",
       "    </tr>\n",
       "    <tr>\n",
       "      <th>1</th>\n",
       "      <td>1</td>\n",
       "      <td>1</td>\n",
       "      <td>0</td>\n",
       "      <td>4.266662</td>\n",
       "      <td>2</td>\n",
       "      <td>3</td>\n",
       "      <td>0</td>\n",
       "      <td>0</td>\n",
       "      <td>0</td>\n",
       "      <td>1</td>\n",
       "      <td>0</td>\n",
       "      <td>1</td>\n",
       "      <td>0</td>\n",
       "      <td>0</td>\n",
       "    </tr>\n",
       "    <tr>\n",
       "      <th>2</th>\n",
       "      <td>1</td>\n",
       "      <td>3</td>\n",
       "      <td>0</td>\n",
       "      <td>2.070022</td>\n",
       "      <td>1</td>\n",
       "      <td>2</td>\n",
       "      <td>0</td>\n",
       "      <td>1</td>\n",
       "      <td>0</td>\n",
       "      <td>0</td>\n",
       "      <td>0</td>\n",
       "      <td>0</td>\n",
       "      <td>0</td>\n",
       "      <td>1</td>\n",
       "    </tr>\n",
       "  </tbody>\n",
       "</table>\n",
       "</div>"
      ],
      "text/plain": [
       "   Survived  Pclass  Sex      Fare  FamilySize  Age_cat  Initial_0  Initial_1  \\\n",
       "0         0       3    1  1.981001           2        2          0          0   \n",
       "1         1       1    0  4.266662           2        3          0          0   \n",
       "2         1       3    0  2.070022           1        2          0          1   \n",
       "\n",
       "   Initial_2  Initial_3  Initial_4  Embarked_0  Embarked_1  Embarked_2  \n",
       "0          1          0          0           0           0           1  \n",
       "1          0          1          0           1           0           0  \n",
       "2          0          0          0           0           0           1  "
      ]
     },
     "execution_count": 90,
     "metadata": {},
     "output_type": "execute_result"
    }
   ],
   "source": [
    "df_train.head(3)"
   ]
  },
  {
   "cell_type": "code",
   "execution_count": 91,
   "metadata": {
    "execution": {
     "iopub.execute_input": "2021-01-19T03:51:58.066525Z",
     "iopub.status.busy": "2021-01-19T03:51:58.066525Z",
     "iopub.status.idle": "2021-01-19T03:51:58.080486Z",
     "shell.execute_reply": "2021-01-19T03:51:58.080486Z",
     "shell.execute_reply.started": "2021-01-19T03:51:58.066525Z"
    }
   },
   "outputs": [
    {
     "data": {
      "text/html": [
       "<div>\n",
       "<style scoped>\n",
       "    .dataframe tbody tr th:only-of-type {\n",
       "        vertical-align: middle;\n",
       "    }\n",
       "\n",
       "    .dataframe tbody tr th {\n",
       "        vertical-align: top;\n",
       "    }\n",
       "\n",
       "    .dataframe thead th {\n",
       "        text-align: right;\n",
       "    }\n",
       "</style>\n",
       "<table border=\"1\" class=\"dataframe\">\n",
       "  <thead>\n",
       "    <tr style=\"text-align: right;\">\n",
       "      <th></th>\n",
       "      <th>Pclass</th>\n",
       "      <th>Sex</th>\n",
       "      <th>Fare</th>\n",
       "      <th>FamilySize</th>\n",
       "      <th>Age_cat</th>\n",
       "      <th>Initial_0</th>\n",
       "      <th>Initial_1</th>\n",
       "      <th>Initial_2</th>\n",
       "      <th>Initial_3</th>\n",
       "      <th>Initial_4</th>\n",
       "      <th>Embarked_0</th>\n",
       "      <th>Embarked_1</th>\n",
       "      <th>Embarked_2</th>\n",
       "    </tr>\n",
       "  </thead>\n",
       "  <tbody>\n",
       "    <tr>\n",
       "      <th>0</th>\n",
       "      <td>3</td>\n",
       "      <td>1</td>\n",
       "      <td>2.057860</td>\n",
       "      <td>1</td>\n",
       "      <td>3</td>\n",
       "      <td>0</td>\n",
       "      <td>0</td>\n",
       "      <td>1</td>\n",
       "      <td>0</td>\n",
       "      <td>0</td>\n",
       "      <td>0</td>\n",
       "      <td>1</td>\n",
       "      <td>0</td>\n",
       "    </tr>\n",
       "    <tr>\n",
       "      <th>1</th>\n",
       "      <td>3</td>\n",
       "      <td>0</td>\n",
       "      <td>1.945910</td>\n",
       "      <td>2</td>\n",
       "      <td>4</td>\n",
       "      <td>0</td>\n",
       "      <td>0</td>\n",
       "      <td>0</td>\n",
       "      <td>1</td>\n",
       "      <td>0</td>\n",
       "      <td>0</td>\n",
       "      <td>0</td>\n",
       "      <td>1</td>\n",
       "    </tr>\n",
       "    <tr>\n",
       "      <th>2</th>\n",
       "      <td>2</td>\n",
       "      <td>1</td>\n",
       "      <td>2.270836</td>\n",
       "      <td>1</td>\n",
       "      <td>6</td>\n",
       "      <td>0</td>\n",
       "      <td>0</td>\n",
       "      <td>1</td>\n",
       "      <td>0</td>\n",
       "      <td>0</td>\n",
       "      <td>0</td>\n",
       "      <td>1</td>\n",
       "      <td>0</td>\n",
       "    </tr>\n",
       "  </tbody>\n",
       "</table>\n",
       "</div>"
      ],
      "text/plain": [
       "   Pclass  Sex      Fare  FamilySize  Age_cat  Initial_0  Initial_1  \\\n",
       "0       3    1  2.057860           1        3          0          0   \n",
       "1       3    0  1.945910           2        4          0          0   \n",
       "2       2    1  2.270836           1        6          0          0   \n",
       "\n",
       "   Initial_2  Initial_3  Initial_4  Embarked_0  Embarked_1  Embarked_2  \n",
       "0          1          0          0           0           1           0  \n",
       "1          0          1          0           0           0           1  \n",
       "2          1          0          0           0           1           0  "
      ]
     },
     "execution_count": 91,
     "metadata": {},
     "output_type": "execute_result"
    }
   ],
   "source": [
    "df_test.head(3)"
   ]
  },
  {
   "cell_type": "markdown",
   "metadata": {},
   "source": [
    "train의 Survived feature(target class)를 제외하고는 train과 test가 모두 같은 column을 가진 것을 확인할 수 있습니다."
   ]
  },
  {
   "cell_type": "markdown",
   "metadata": {},
   "source": [
    "### 4. Building machin learning model and prediction using the trained model\n",
    "sklearn을 사용하여 본걱적으로 머신러닝 모델을 만들어봅시다."
   ]
  },
  {
   "cell_type": "code",
   "execution_count": 92,
   "metadata": {
    "execution": {
     "iopub.execute_input": "2021-01-19T03:55:35.339776Z",
     "iopub.status.busy": "2021-01-19T03:55:35.339776Z",
     "iopub.status.idle": "2021-01-19T03:55:35.344763Z",
     "shell.execute_reply": "2021-01-19T03:55:35.343766Z",
     "shell.execute_reply.started": "2021-01-19T03:55:35.339776Z"
    }
   },
   "outputs": [],
   "source": [
    "from sklearn.ensemble import RandomForestClassifier\n",
    "from sklearn import metrics\n",
    "from sklearn.model_selection import train_test_split"
   ]
  },
  {
   "cell_type": "markdown",
   "metadata": {},
   "source": [
    "sklearn은 머신러닝의 A부터 Z까지 모두 포함된 라이브러리입니다. feature engineering, preprocessing, 지도학습 알고리즘, 비지도학습 알고리즘, 모델 평가, 파이프라인 등 머신러닝에 관련된 모든 작업들이 손쉬운 인터페이스로 구현되어 있스비다. 데이터 분석 + 머신러닝을 하고 싶다면, 이 라이브러리는 반드시 숙지해야 합니다.  \n",
    "\n",
    "책 『파이썬 라이브러리를 활용한 머신러닝(Introduction to machin learning with Python)』으로 공부하는 것을 추천합니다.  \n",
    "\n",
    "타이타닉 컴피티션으 경우 target class(Survived)가 있으며, 0과 1로 이루어져 있으므로 binary classification 문제입니다. train set에서 Survived를 제외한 input으로 모델을 최적화시켜 각 샘플(탑승객)의 생존유무를 판단하는 모델을 만들어봅시다. 그 다음 모델이 학습하지 않았던 test set을 input으로 주어 test set의 각 샘플(탑승객)의 생존 유무를 예측해봅시다."
   ]
  },
  {
   "cell_type": "markdown",
   "metadata": {},
   "source": [
    "#### 4.1 Preparation - split dataset into train, valid, test set\n",
    "가장 먼저, 학습에 쓰일 데이터와 target label(Survived)를 분리합니다."
   ]
  },
  {
   "cell_type": "code",
   "execution_count": 93,
   "metadata": {
    "execution": {
     "iopub.execute_input": "2021-01-19T03:56:23.787444Z",
     "iopub.status.busy": "2021-01-19T03:56:23.787444Z",
     "iopub.status.idle": "2021-01-19T03:56:23.794430Z",
     "shell.execute_reply": "2021-01-19T03:56:23.793428Z",
     "shell.execute_reply.started": "2021-01-19T03:56:23.787444Z"
    }
   },
   "outputs": [],
   "source": [
    "x_train = df_train.drop('Survived', axis=1).values\n",
    "target_label = df_train['Survived'].values\n",
    "x_test = df_test.values"
   ]
  },
  {
   "cell_type": "markdown",
   "metadata": {},
   "source": [
    "일반적으로 train, test만 언급하지만, 좋은 모델을 만들기 위해 valid set을 따로 만들어 모델 평가를 해봅시다.  \n",
    "\n",
    "(이는 마치 축구대표팀이 팀 훈련(train)을 하고 바로 월드컵(test)에 출전하는 것이 아니라, 팀 훈련(train) 뒤 평가전(valid)을 거쳐 팀의 훈련 정도(학습정도)를 확인하고 월드컵(test)에 출전하는 것과 비슷합니다.  \n",
    "\n",
    "train_test_split을 사용하여 쉽게 train set을 분리할 수 있습니다."
   ]
  },
  {
   "cell_type": "code",
   "execution_count": 94,
   "metadata": {
    "execution": {
     "iopub.execute_input": "2021-01-19T03:57:06.971338Z",
     "iopub.status.busy": "2021-01-19T03:57:06.970341Z",
     "iopub.status.idle": "2021-01-19T03:57:06.978320Z",
     "shell.execute_reply": "2021-01-19T03:57:06.977322Z",
     "shell.execute_reply.started": "2021-01-19T03:57:06.971338Z"
    }
   },
   "outputs": [],
   "source": [
    "x_tr, x_vld, y_tr, y_vld = train_test_split(x_train, target_label, test_size=0.3, random_state=123)"
   ]
  },
  {
   "cell_type": "markdown",
   "metadata": {},
   "source": [
    "sklearn에서는 여러 머신러닝 알고리즘을 지원합니다. 직접 [documentation](http://scikit-learn.org/stable/supervised_learning.html#supervised-learning)에 들어가서 공부하길 추천합니다.  \n",
    "\n",
    "본 튜토리얼에서는 랜덤포레스트 모델을 사용하겠습니다. 랜덤포레스트는 의사결정나무 기반 모델이며, 여러 decision tree들을 앙상블한 모델입니다.  \n",
    "\n",
    "각 머신러닝 알고리즘에는 여러 파라미터들이 있습니다. 랜덤포레스트 분류기도 n_estimators, max_features, max_depth, min_samples_split, min_samples_leaf 등 여러 파라미터들이 존재합니다. 이것들이 어떻게 세팅되냐에 따라 같은 데이터셋이라 하더라도 모델의 성능이 달라집니다.  \n",
    "\n",
    "파라미터 튜닝은 시간, 경험, 알고리즘에 대한 이해 등이 필요합니다. 캐글의 여러 데이터셋을 다루며 모델을 이리저리 써보면 튜닝하는 감이 생길 수 있을 것입니다. 일단 지금은 튜토리얼이니 파라미터 튜닝은 잠시 제쳐두고, 기본 default 세팅으로 진행하겠습니다.  \n",
    "\n",
    "모델 객체를 만들고, fit 메소드로 학습시킨 뒤 valid set input을 넣어주어 예측값(x_vld sample(탑승객)의 생존여부)을 얻습니다."
   ]
  },
  {
   "cell_type": "markdown",
   "metadata": {},
   "source": [
    "#### 4.2 Model generation and prediction"
   ]
  },
  {
   "cell_type": "code",
   "execution_count": 95,
   "metadata": {
    "execution": {
     "iopub.execute_input": "2021-01-19T03:58:21.094674Z",
     "iopub.status.busy": "2021-01-19T03:58:21.093676Z",
     "iopub.status.idle": "2021-01-19T03:58:21.304114Z",
     "shell.execute_reply": "2021-01-19T03:58:21.303115Z",
     "shell.execute_reply.started": "2021-01-19T03:58:21.094674Z"
    }
   },
   "outputs": [],
   "source": [
    "model = RandomForestClassifier()\n",
    "model.fit(x_tr, y_tr)\n",
    "prediction = model.predict(x_vld)"
   ]
  },
  {
   "cell_type": "markdown",
   "metadata": {},
   "source": [
    "단 세 줄만으로 모델을 세우고, 예측까지 해보았습니다. 이제 모델의 성능을 살펴보겠습니다."
   ]
  },
  {
   "cell_type": "code",
   "execution_count": 96,
   "metadata": {
    "execution": {
     "iopub.execute_input": "2021-01-19T03:58:24.095436Z",
     "iopub.status.busy": "2021-01-19T03:58:24.095436Z",
     "iopub.status.idle": "2021-01-19T03:58:24.101421Z",
     "shell.execute_reply": "2021-01-19T03:58:24.100424Z",
     "shell.execute_reply.started": "2021-01-19T03:58:24.095436Z"
    }
   },
   "outputs": [
    {
     "name": "stdout",
     "output_type": "stream",
     "text": [
      "총 268명 중 83.58% 정확도로 생존유무를 맞춤\n"
     ]
    }
   ],
   "source": [
    "print('총 {}명 중 {:.2f}% 정확도로 생존유무를 맞춤'.format(y_vld.shape[0], 100 * metrics.accuracy_score(prediction, y_vld)))"
   ]
  },
  {
   "cell_type": "markdown",
   "metadata": {},
   "source": [
    "#### 4.3 Feature importance\n",
    "학습된 모델은 feature importance를 가지게 되는데, 우리는 이것을 확인하여 지금 만든 모델이 어떤 feature에 영향을 많이 받았는지 확인할 수 있습니다. pandas series를 이용하면 쉽게 sorting하여 그래프를 그릴 수 있습니다."
   ]
  },
  {
   "cell_type": "code",
   "execution_count": 97,
   "metadata": {
    "execution": {
     "iopub.execute_input": "2021-01-19T03:59:01.013921Z",
     "iopub.status.busy": "2021-01-19T03:59:01.012923Z",
     "iopub.status.idle": "2021-01-19T03:59:01.028880Z",
     "shell.execute_reply": "2021-01-19T03:59:01.027905Z",
     "shell.execute_reply.started": "2021-01-19T03:59:01.013921Z"
    }
   },
   "outputs": [],
   "source": [
    "feature_importance = model.feature_importances_\n",
    "Series_feat_map = Series(feature_importance, index=df_test.columns)"
   ]
  },
  {
   "cell_type": "code",
   "execution_count": 99,
   "metadata": {
    "execution": {
     "iopub.execute_input": "2021-01-19T03:59:52.408561Z",
     "iopub.status.busy": "2021-01-19T03:59:52.408561Z",
     "iopub.status.idle": "2021-01-19T03:59:52.765627Z",
     "shell.execute_reply": "2021-01-19T03:59:52.765627Z",
     "shell.execute_reply.started": "2021-01-19T03:59:52.408561Z"
    }
   },
   "outputs": [
    {
     "data": {
      "image/png": "[encoded data removed]",
      "text/plain": [
       "<Figure size 576x576 with 1 Axes>"
      ]
     },
     "metadata": {
      "needs_background": "light"
     },
     "output_type": "display_data"
    }
   ],
   "source": [
    "plt.figure(figsize=(8, 8))\n",
    "Series_feat_map.sort_values(ascending=True).plot.barh()\n",
    "plt.xlabel('Feature importance')\n",
    "plt.ylabel('Feature')\n",
    "plt.show()"
   ]
  },
  {
   "cell_type": "markdown",
   "metadata": {},
   "source": [
    "우리가 얻은 모델에서는 Fare가 가장 큰 영향력을 가지며, 그 뒤로 Initial_2, Age_cat, Sex가 차례로 높은 중요도를 가집니다. 이는 해당 모델에서의 importance이므로 다른 모델에서는 다른 결과를 가져올 수 있습니다.  \n",
    "\n",
    "이 feature importance를 보고 실제 Fare가 중요한 feature라고 판단을 내릴 수는 있지만, 이것은 결국 모델에 귀속되는 하나의 결론이므로 통계적으로 더 살펴볼 필요가 있습니다.  \n",
    "\n",
    "feature importance를 가지고 정확도가 보다 높은 모델을 얻기 위해 feature selection을 할 수도 있고, 더 빠른 모델을 위해 feature 제거를 할 수 있습니다."
   ]
  },
  {
   "cell_type": "markdown",
   "metadata": {},
   "source": [
    "#### 4.4 Prediction on Test set\n",
    "test set을 모델에 입력하여 생존여부를 예측해보겠습니다. 이 결과는 실제로 submission이므로 결과는 leaderboard에서 확인할 수 있습니다."
   ]
  },
  {
   "cell_type": "code",
   "execution_count": 100,
   "metadata": {
    "execution": {
     "iopub.execute_input": "2021-01-19T04:00:29.893487Z",
     "iopub.status.busy": "2021-01-19T04:00:29.893487Z",
     "iopub.status.idle": "2021-01-19T04:00:29.902462Z",
     "shell.execute_reply": "2021-01-19T04:00:29.901465Z",
     "shell.execute_reply.started": "2021-01-19T04:00:29.893487Z"
    }
   },
   "outputs": [],
   "source": [
    "submission = pd.read_csv('../data/titanic_gender_submission.csv')"
   ]
  },
  {
   "cell_type": "code",
   "execution_count": 101,
   "metadata": {
    "execution": {
     "iopub.execute_input": "2021-01-19T04:00:32.382741Z",
     "iopub.status.busy": "2021-01-19T04:00:32.381772Z",
     "iopub.status.idle": "2021-01-19T04:00:32.390720Z",
     "shell.execute_reply": "2021-01-19T04:00:32.389724Z",
     "shell.execute_reply.started": "2021-01-19T04:00:32.382741Z"
    }
   },
   "outputs": [
    {
     "data": {
      "text/html": [
       "<div>\n",
       "<style scoped>\n",
       "    .dataframe tbody tr th:only-of-type {\n",
       "        vertical-align: middle;\n",
       "    }\n",
       "\n",
       "    .dataframe tbody tr th {\n",
       "        vertical-align: top;\n",
       "    }\n",
       "\n",
       "    .dataframe thead th {\n",
       "        text-align: right;\n",
       "    }\n",
       "</style>\n",
       "<table border=\"1\" class=\"dataframe\">\n",
       "  <thead>\n",
       "    <tr style=\"text-align: right;\">\n",
       "      <th></th>\n",
       "      <th>PassengerId</th>\n",
       "      <th>Survived</th>\n",
       "    </tr>\n",
       "  </thead>\n",
       "  <tbody>\n",
       "    <tr>\n",
       "      <th>0</th>\n",
       "      <td>892</td>\n",
       "      <td>0</td>\n",
       "    </tr>\n",
       "    <tr>\n",
       "      <th>1</th>\n",
       "      <td>893</td>\n",
       "      <td>1</td>\n",
       "    </tr>\n",
       "    <tr>\n",
       "      <th>2</th>\n",
       "      <td>894</td>\n",
       "      <td>0</td>\n",
       "    </tr>\n",
       "  </tbody>\n",
       "</table>\n",
       "</div>"
      ],
      "text/plain": [
       "   PassengerId  Survived\n",
       "0          892         0\n",
       "1          893         1\n",
       "2          894         0"
      ]
     },
     "execution_count": 101,
     "metadata": {},
     "output_type": "execute_result"
    }
   ],
   "source": [
    "submission.head(3)"
   ]
  },
  {
   "cell_type": "code",
   "execution_count": 102,
   "metadata": {
    "execution": {
     "iopub.execute_input": "2021-01-19T04:00:35.455170Z",
     "iopub.status.busy": "2021-01-19T04:00:35.455170Z",
     "iopub.status.idle": "2021-01-19T04:00:35.478109Z",
     "shell.execute_reply": "2021-01-19T04:00:35.477110Z",
     "shell.execute_reply.started": "2021-01-19T04:00:35.455170Z"
    }
   },
   "outputs": [],
   "source": [
    "prediction = model.predict(x_test)\n",
    "submission['Survived'] = prediction"
   ]
  },
  {
   "cell_type": "code",
   "execution_count": 103,
   "metadata": {
    "execution": {
     "iopub.execute_input": "2021-01-19T04:00:36.500745Z",
     "iopub.status.busy": "2021-01-19T04:00:36.499746Z",
     "iopub.status.idle": "2021-01-19T04:00:36.509719Z",
     "shell.execute_reply": "2021-01-19T04:00:36.508737Z",
     "shell.execute_reply.started": "2021-01-19T04:00:36.500745Z"
    }
   },
   "outputs": [],
   "source": [
    "submission.to_csv('../data/submission_titanic.csv', index=False)"
   ]
  },
  {
   "cell_type": "markdown",
   "metadata": {},
   "source": [
    "## 타이타닉 튜토리얼 2 - Exploratory data analysis, visualization, machine learning"
   ]
  },
  {
   "cell_type": "markdown",
   "metadata": {},
   "source": [
    "**✏ 필사 3회**"
   ]
  },
  {
   "cell_type": "code",
   "execution_count": 104,
   "metadata": {
    "execution": {
     "iopub.execute_input": "2021-01-19T04:07:25.140362Z",
     "iopub.status.busy": "2021-01-19T04:07:25.140362Z",
     "iopub.status.idle": "2021-01-19T04:07:25.150334Z",
     "shell.execute_reply": "2021-01-19T04:07:25.149336Z",
     "shell.execute_reply.started": "2021-01-19T04:07:25.140362Z"
    }
   },
   "outputs": [],
   "source": [
    "import numpy as np\n",
    "import pandas as pd\n",
    "from pandas import Series\n",
    "import matplotlib.pyplot as plt\n",
    "import seaborn as sns\n",
    "\n",
    "plt.style.use('seaborn')\n",
    "sns.set(font_scale=2.5)\n",
    "\n",
    "import plotly.offline as py\n",
    "import plotly.graph_objs as go\n",
    "import plotly.tools as tls\n",
    "import warnings\n",
    "warnings.filterwarnings('ignore')\n",
    "\n",
    "%matplotlib inline"
   ]
  },
  {
   "cell_type": "code",
   "execution_count": 105,
   "metadata": {
    "execution": {
     "iopub.execute_input": "2021-01-19T04:07:26.846012Z",
     "iopub.status.busy": "2021-01-19T04:07:26.845014Z",
     "iopub.status.idle": "2021-01-19T04:07:26.860971Z",
     "shell.execute_reply": "2021-01-19T04:07:26.859998Z",
     "shell.execute_reply.started": "2021-01-19T04:07:26.846012Z"
    }
   },
   "outputs": [],
   "source": [
    "df_train = pd.read_csv('../data/titanic_train.csv')\n",
    "df_test = pd.read_csv('../data/titanic_test.csv')"
   ]
  },
  {
   "cell_type": "code",
   "execution_count": 106,
   "metadata": {
    "execution": {
     "iopub.execute_input": "2021-01-19T04:07:29.000109Z",
     "iopub.status.busy": "2021-01-19T04:07:29.000109Z",
     "iopub.status.idle": "2021-01-19T04:07:29.008087Z",
     "shell.execute_reply": "2021-01-19T04:07:29.007090Z",
     "shell.execute_reply.started": "2021-01-19T04:07:29.000109Z"
    }
   },
   "outputs": [],
   "source": [
    "df_train['FamilySize'] = df_train['SibSp'] + df_train['Parch'] + 1\n",
    "df_test['FamilySize'] = df_test['SibSp'] + df_test['Parch'] + 1"
   ]
  },
  {
   "cell_type": "code",
   "execution_count": 107,
   "metadata": {
    "execution": {
     "iopub.execute_input": "2021-01-19T04:07:29.631305Z",
     "iopub.status.busy": "2021-01-19T04:07:29.630307Z",
     "iopub.status.idle": "2021-01-19T04:07:29.642275Z",
     "shell.execute_reply": "2021-01-19T04:07:29.641277Z",
     "shell.execute_reply.started": "2021-01-19T04:07:29.630307Z"
    }
   },
   "outputs": [],
   "source": [
    "df_test.loc[df_test['Fare'].isnull(), 'Fare'] = df_test['Fare'].mean()\n",
    "\n",
    "df_train['Fare'] = df_train['Fare'].map(lambda i: np.log(i) if i > 0 else 0)\n",
    "df_test['Fare'] = df_test['Fare'].map(lambda i: np.log(i) if i > 0 else 0)"
   ]
  },
  {
   "cell_type": "markdown",
   "metadata": {},
   "source": [
    "### 3. Feature engineering\n",
    "본격적인 feature engineering을 시작해보겠습니다.  \n",
    "\n",
    "먼저 dataset에 존재하는 null data를 채우려고 합니다. null data를 포함하는 feature의 statistics를 참고하거나, 다른 아이디어를 짜내어 채울 수 있습니다. null data를 채우는 방법에 따라 모델의 성능이 좌지우지될 수 있기 때문에 신경써야 할 부분입니다.  \n",
    "\n",
    "Feature engineering은 실제 모델의 학습에 사용하기 위한 것이므로 train뿐만 아니라 test도 똑같이 적용해주어야 합니다."
   ]
  },
  {
   "cell_type": "markdown",
   "metadata": {},
   "source": [
    "#### 3.1 Fill Null"
   ]
  },
  {
   "cell_type": "markdown",
   "metadata": {},
   "source": [
    "##### 3.1.1 Fill Null in Age using title\n",
    "Age에는 177개의 null data가 있습니다. 우리는 title과 statistics를 사용하여 채워보겠습니다. 영어에는 Miss, Mr, Mrs와 같은 title이 존재합니다. 각 탑승객의 이름에 꼭 이런 title이 들어가게 되는데, 이를 사용해보겠습니다.  \n",
    "\n",
    "pandas series에는 data를 string으로 바꿔주는 str method, 정규표현식을 적용할 수 있도록 하는 extract method가 있습니다. 이를 사용하여 title을 쉽게 추출할 수 있습니다. title을 Initial column에 저장하겠습니다."
   ]
  },
  {
   "cell_type": "code",
   "execution_count": 109,
   "metadata": {
    "execution": {
     "iopub.execute_input": "2021-01-19T04:08:35.627649Z",
     "iopub.status.busy": "2021-01-19T04:08:35.627649Z",
     "iopub.status.idle": "2021-01-19T04:08:35.638619Z",
     "shell.execute_reply": "2021-01-19T04:08:35.637650Z",
     "shell.execute_reply.started": "2021-01-19T04:08:35.627649Z"
    }
   },
   "outputs": [],
   "source": [
    "df_train['Initial'] = df_train['Name'].str.extract('([A-Za-z]+)\\.')\n",
    "df_test['Initial'] = df_test['Name'].str.extract('([A-Za-z]+)\\.')"
   ]
  },
  {
   "cell_type": "code",
   "execution_count": 111,
   "metadata": {
    "execution": {
     "iopub.execute_input": "2021-01-19T04:09:21.533743Z",
     "iopub.status.busy": "2021-01-19T04:09:21.533743Z",
     "iopub.status.idle": "2021-01-19T04:09:21.582260Z",
     "shell.execute_reply": "2021-01-19T04:09:21.581262Z",
     "shell.execute_reply.started": "2021-01-19T04:09:21.533743Z"
    }
   },
   "outputs": [
    {
     "data": {
      "text/html": [
       "<style  type=\"text/css\" >\n",
       "#T_1bb2d038_5a0c_11eb_a350_408d5cfa5a0drow0_col0,#T_1bb2d038_5a0c_11eb_a350_408d5cfa5a0drow0_col1,#T_1bb2d038_5a0c_11eb_a350_408d5cfa5a0drow0_col3,#T_1bb2d038_5a0c_11eb_a350_408d5cfa5a0drow0_col4,#T_1bb2d038_5a0c_11eb_a350_408d5cfa5a0drow0_col5,#T_1bb2d038_5a0c_11eb_a350_408d5cfa5a0drow0_col7,#T_1bb2d038_5a0c_11eb_a350_408d5cfa5a0drow0_col8,#T_1bb2d038_5a0c_11eb_a350_408d5cfa5a0drow0_col12,#T_1bb2d038_5a0c_11eb_a350_408d5cfa5a0drow0_col15,#T_1bb2d038_5a0c_11eb_a350_408d5cfa5a0drow0_col16,#T_1bb2d038_5a0c_11eb_a350_408d5cfa5a0drow1_col2,#T_1bb2d038_5a0c_11eb_a350_408d5cfa5a0drow1_col6,#T_1bb2d038_5a0c_11eb_a350_408d5cfa5a0drow1_col9,#T_1bb2d038_5a0c_11eb_a350_408d5cfa5a0drow1_col10,#T_1bb2d038_5a0c_11eb_a350_408d5cfa5a0drow1_col11,#T_1bb2d038_5a0c_11eb_a350_408d5cfa5a0drow1_col13,#T_1bb2d038_5a0c_11eb_a350_408d5cfa5a0drow1_col14{\n",
       "            background-color:  #ffff66;\n",
       "            color:  #000000;\n",
       "        }#T_1bb2d038_5a0c_11eb_a350_408d5cfa5a0drow0_col2,#T_1bb2d038_5a0c_11eb_a350_408d5cfa5a0drow0_col6,#T_1bb2d038_5a0c_11eb_a350_408d5cfa5a0drow0_col9,#T_1bb2d038_5a0c_11eb_a350_408d5cfa5a0drow0_col10,#T_1bb2d038_5a0c_11eb_a350_408d5cfa5a0drow0_col11,#T_1bb2d038_5a0c_11eb_a350_408d5cfa5a0drow0_col13,#T_1bb2d038_5a0c_11eb_a350_408d5cfa5a0drow0_col14,#T_1bb2d038_5a0c_11eb_a350_408d5cfa5a0drow1_col0,#T_1bb2d038_5a0c_11eb_a350_408d5cfa5a0drow1_col1,#T_1bb2d038_5a0c_11eb_a350_408d5cfa5a0drow1_col3,#T_1bb2d038_5a0c_11eb_a350_408d5cfa5a0drow1_col4,#T_1bb2d038_5a0c_11eb_a350_408d5cfa5a0drow1_col5,#T_1bb2d038_5a0c_11eb_a350_408d5cfa5a0drow1_col7,#T_1bb2d038_5a0c_11eb_a350_408d5cfa5a0drow1_col8,#T_1bb2d038_5a0c_11eb_a350_408d5cfa5a0drow1_col12,#T_1bb2d038_5a0c_11eb_a350_408d5cfa5a0drow1_col15,#T_1bb2d038_5a0c_11eb_a350_408d5cfa5a0drow1_col16{\n",
       "            background-color:  #008066;\n",
       "            color:  #f1f1f1;\n",
       "        }</style><table id=\"T_1bb2d038_5a0c_11eb_a350_408d5cfa5a0d\" ><thead>    <tr>        <th class=\"index_name level0\" >Initial</th>        <th class=\"col_heading level0 col0\" >Capt</th>        <th class=\"col_heading level0 col1\" >Col</th>        <th class=\"col_heading level0 col2\" >Countess</th>        <th class=\"col_heading level0 col3\" >Don</th>        <th class=\"col_heading level0 col4\" >Dr</th>        <th class=\"col_heading level0 col5\" >Jonkheer</th>        <th class=\"col_heading level0 col6\" >Lady</th>        <th class=\"col_heading level0 col7\" >Major</th>        <th class=\"col_heading level0 col8\" >Master</th>        <th class=\"col_heading level0 col9\" >Miss</th>        <th class=\"col_heading level0 col10\" >Mlle</th>        <th class=\"col_heading level0 col11\" >Mme</th>        <th class=\"col_heading level0 col12\" >Mr</th>        <th class=\"col_heading level0 col13\" >Mrs</th>        <th class=\"col_heading level0 col14\" >Ms</th>        <th class=\"col_heading level0 col15\" >Rev</th>        <th class=\"col_heading level0 col16\" >Sir</th>    </tr>    <tr>        <th class=\"index_name level0\" >Sex</th>        <th class=\"blank\" ></th>        <th class=\"blank\" ></th>        <th class=\"blank\" ></th>        <th class=\"blank\" ></th>        <th class=\"blank\" ></th>        <th class=\"blank\" ></th>        <th class=\"blank\" ></th>        <th class=\"blank\" ></th>        <th class=\"blank\" ></th>        <th class=\"blank\" ></th>        <th class=\"blank\" ></th>        <th class=\"blank\" ></th>        <th class=\"blank\" ></th>        <th class=\"blank\" ></th>        <th class=\"blank\" ></th>        <th class=\"blank\" ></th>        <th class=\"blank\" ></th>    </tr></thead><tbody>\n",
       "                <tr>\n",
       "                        <th id=\"T_1bb2d038_5a0c_11eb_a350_408d5cfa5a0dlevel0_row0\" class=\"row_heading level0 row0\" >female</th>\n",
       "                        <td id=\"T_1bb2d038_5a0c_11eb_a350_408d5cfa5a0drow0_col0\" class=\"data row0 col0\" >0</td>\n",
       "                        <td id=\"T_1bb2d038_5a0c_11eb_a350_408d5cfa5a0drow0_col1\" class=\"data row0 col1\" >0</td>\n",
       "                        <td id=\"T_1bb2d038_5a0c_11eb_a350_408d5cfa5a0drow0_col2\" class=\"data row0 col2\" >1</td>\n",
       "                        <td id=\"T_1bb2d038_5a0c_11eb_a350_408d5cfa5a0drow0_col3\" class=\"data row0 col3\" >0</td>\n",
       "                        <td id=\"T_1bb2d038_5a0c_11eb_a350_408d5cfa5a0drow0_col4\" class=\"data row0 col4\" >1</td>\n",
       "                        <td id=\"T_1bb2d038_5a0c_11eb_a350_408d5cfa5a0drow0_col5\" class=\"data row0 col5\" >0</td>\n",
       "                        <td id=\"T_1bb2d038_5a0c_11eb_a350_408d5cfa5a0drow0_col6\" class=\"data row0 col6\" >1</td>\n",
       "                        <td id=\"T_1bb2d038_5a0c_11eb_a350_408d5cfa5a0drow0_col7\" class=\"data row0 col7\" >0</td>\n",
       "                        <td id=\"T_1bb2d038_5a0c_11eb_a350_408d5cfa5a0drow0_col8\" class=\"data row0 col8\" >0</td>\n",
       "                        <td id=\"T_1bb2d038_5a0c_11eb_a350_408d5cfa5a0drow0_col9\" class=\"data row0 col9\" >182</td>\n",
       "                        <td id=\"T_1bb2d038_5a0c_11eb_a350_408d5cfa5a0drow0_col10\" class=\"data row0 col10\" >2</td>\n",
       "                        <td id=\"T_1bb2d038_5a0c_11eb_a350_408d5cfa5a0drow0_col11\" class=\"data row0 col11\" >1</td>\n",
       "                        <td id=\"T_1bb2d038_5a0c_11eb_a350_408d5cfa5a0drow0_col12\" class=\"data row0 col12\" >0</td>\n",
       "                        <td id=\"T_1bb2d038_5a0c_11eb_a350_408d5cfa5a0drow0_col13\" class=\"data row0 col13\" >125</td>\n",
       "                        <td id=\"T_1bb2d038_5a0c_11eb_a350_408d5cfa5a0drow0_col14\" class=\"data row0 col14\" >1</td>\n",
       "                        <td id=\"T_1bb2d038_5a0c_11eb_a350_408d5cfa5a0drow0_col15\" class=\"data row0 col15\" >0</td>\n",
       "                        <td id=\"T_1bb2d038_5a0c_11eb_a350_408d5cfa5a0drow0_col16\" class=\"data row0 col16\" >0</td>\n",
       "            </tr>\n",
       "            <tr>\n",
       "                        <th id=\"T_1bb2d038_5a0c_11eb_a350_408d5cfa5a0dlevel0_row1\" class=\"row_heading level0 row1\" >male</th>\n",
       "                        <td id=\"T_1bb2d038_5a0c_11eb_a350_408d5cfa5a0drow1_col0\" class=\"data row1 col0\" >1</td>\n",
       "                        <td id=\"T_1bb2d038_5a0c_11eb_a350_408d5cfa5a0drow1_col1\" class=\"data row1 col1\" >2</td>\n",
       "                        <td id=\"T_1bb2d038_5a0c_11eb_a350_408d5cfa5a0drow1_col2\" class=\"data row1 col2\" >0</td>\n",
       "                        <td id=\"T_1bb2d038_5a0c_11eb_a350_408d5cfa5a0drow1_col3\" class=\"data row1 col3\" >1</td>\n",
       "                        <td id=\"T_1bb2d038_5a0c_11eb_a350_408d5cfa5a0drow1_col4\" class=\"data row1 col4\" >6</td>\n",
       "                        <td id=\"T_1bb2d038_5a0c_11eb_a350_408d5cfa5a0drow1_col5\" class=\"data row1 col5\" >1</td>\n",
       "                        <td id=\"T_1bb2d038_5a0c_11eb_a350_408d5cfa5a0drow1_col6\" class=\"data row1 col6\" >0</td>\n",
       "                        <td id=\"T_1bb2d038_5a0c_11eb_a350_408d5cfa5a0drow1_col7\" class=\"data row1 col7\" >2</td>\n",
       "                        <td id=\"T_1bb2d038_5a0c_11eb_a350_408d5cfa5a0drow1_col8\" class=\"data row1 col8\" >40</td>\n",
       "                        <td id=\"T_1bb2d038_5a0c_11eb_a350_408d5cfa5a0drow1_col9\" class=\"data row1 col9\" >0</td>\n",
       "                        <td id=\"T_1bb2d038_5a0c_11eb_a350_408d5cfa5a0drow1_col10\" class=\"data row1 col10\" >0</td>\n",
       "                        <td id=\"T_1bb2d038_5a0c_11eb_a350_408d5cfa5a0drow1_col11\" class=\"data row1 col11\" >0</td>\n",
       "                        <td id=\"T_1bb2d038_5a0c_11eb_a350_408d5cfa5a0drow1_col12\" class=\"data row1 col12\" >517</td>\n",
       "                        <td id=\"T_1bb2d038_5a0c_11eb_a350_408d5cfa5a0drow1_col13\" class=\"data row1 col13\" >0</td>\n",
       "                        <td id=\"T_1bb2d038_5a0c_11eb_a350_408d5cfa5a0drow1_col14\" class=\"data row1 col14\" >0</td>\n",
       "                        <td id=\"T_1bb2d038_5a0c_11eb_a350_408d5cfa5a0drow1_col15\" class=\"data row1 col15\" >6</td>\n",
       "                        <td id=\"T_1bb2d038_5a0c_11eb_a350_408d5cfa5a0drow1_col16\" class=\"data row1 col16\" >1</td>\n",
       "            </tr>\n",
       "    </tbody></table>"
      ],
      "text/plain": [
       "<pandas.io.formats.style.Styler at 0x2a71230dc70>"
      ]
     },
     "execution_count": 111,
     "metadata": {},
     "output_type": "execute_result"
    }
   ],
   "source": [
    "pd.crosstab(df_train['Initial'], df_train['Sex']).T.style.background_gradient(cmap='summer_r')"
   ]
  },
  {
   "cell_type": "markdown",
   "metadata": {},
   "source": [
    "위 table을 참고하여 남성과 여성이 사용하는 initial을 구분해봅시다. replace 메소드를 사용하면 특정 데이터 값을 원하는 값으로 치환할 수 있습니다."
   ]
  },
  {
   "cell_type": "code",
   "execution_count": 112,
   "metadata": {
    "execution": {
     "iopub.execute_input": "2021-01-19T04:11:13.616017Z",
     "iopub.status.busy": "2021-01-19T04:11:13.616017Z",
     "iopub.status.idle": "2021-01-19T04:11:13.625015Z",
     "shell.execute_reply": "2021-01-19T04:11:13.625015Z",
     "shell.execute_reply.started": "2021-01-19T04:11:13.616017Z"
    }
   },
   "outputs": [],
   "source": [
    "df_train['Initial'].replace(['Mlle','Mme','Ms','Dr','Major','Lady','Countess','Jonkheer','Col','Rev','Capt','Sir','Don', 'Dona'],\n",
    "                            ['Miss','Miss','Miss','Mr','Mr','Mrs','Mrs','Other','Other','Other','Mr','Mr','Mr', 'Mr'], inplace=True)\n",
    "df_test['Initial'].replace(['Mlle','Mme','Ms','Dr','Major','Lady','Countess','Jonkheer','Col','Rev','Capt','Sir','Don', 'Dona'],\n",
    "                           ['Miss','Miss','Miss','Mr','Mr','Mrs','Mrs','Other','Other','Other','Mr','Mr','Mr', 'Mr'], inplace=True)"
   ]
  },
  {
   "cell_type": "code",
   "execution_count": 113,
   "metadata": {
    "execution": {
     "iopub.execute_input": "2021-01-19T04:11:31.452758Z",
     "iopub.status.busy": "2021-01-19T04:11:31.452758Z",
     "iopub.status.idle": "2021-01-19T04:11:31.471709Z",
     "shell.execute_reply": "2021-01-19T04:11:31.470710Z",
     "shell.execute_reply.started": "2021-01-19T04:11:31.452758Z"
    }
   },
   "outputs": [
    {
     "data": {
      "text/html": [
       "<div>\n",
       "<style scoped>\n",
       "    .dataframe tbody tr th:only-of-type {\n",
       "        vertical-align: middle;\n",
       "    }\n",
       "\n",
       "    .dataframe tbody tr th {\n",
       "        vertical-align: top;\n",
       "    }\n",
       "\n",
       "    .dataframe thead th {\n",
       "        text-align: right;\n",
       "    }\n",
       "</style>\n",
       "<table border=\"1\" class=\"dataframe\">\n",
       "  <thead>\n",
       "    <tr style=\"text-align: right;\">\n",
       "      <th></th>\n",
       "      <th>PassengerId</th>\n",
       "      <th>Survived</th>\n",
       "      <th>Pclass</th>\n",
       "      <th>Age</th>\n",
       "      <th>SibSp</th>\n",
       "      <th>Parch</th>\n",
       "      <th>Fare</th>\n",
       "      <th>FamilySize</th>\n",
       "    </tr>\n",
       "    <tr>\n",
       "      <th>Initial</th>\n",
       "      <th></th>\n",
       "      <th></th>\n",
       "      <th></th>\n",
       "      <th></th>\n",
       "      <th></th>\n",
       "      <th></th>\n",
       "      <th></th>\n",
       "      <th></th>\n",
       "    </tr>\n",
       "  </thead>\n",
       "  <tbody>\n",
       "    <tr>\n",
       "      <th>Master</th>\n",
       "      <td>414.975000</td>\n",
       "      <td>0.575000</td>\n",
       "      <td>2.625000</td>\n",
       "      <td>4.574167</td>\n",
       "      <td>2.300000</td>\n",
       "      <td>1.375000</td>\n",
       "      <td>3.340710</td>\n",
       "      <td>4.675000</td>\n",
       "    </tr>\n",
       "    <tr>\n",
       "      <th>Miss</th>\n",
       "      <td>411.741935</td>\n",
       "      <td>0.704301</td>\n",
       "      <td>2.284946</td>\n",
       "      <td>21.860000</td>\n",
       "      <td>0.698925</td>\n",
       "      <td>0.537634</td>\n",
       "      <td>3.123713</td>\n",
       "      <td>2.236559</td>\n",
       "    </tr>\n",
       "    <tr>\n",
       "      <th>Mr</th>\n",
       "      <td>455.880907</td>\n",
       "      <td>0.162571</td>\n",
       "      <td>2.381853</td>\n",
       "      <td>32.739609</td>\n",
       "      <td>0.293006</td>\n",
       "      <td>0.151229</td>\n",
       "      <td>2.651507</td>\n",
       "      <td>1.444234</td>\n",
       "    </tr>\n",
       "    <tr>\n",
       "      <th>Mrs</th>\n",
       "      <td>456.393701</td>\n",
       "      <td>0.795276</td>\n",
       "      <td>1.984252</td>\n",
       "      <td>35.981818</td>\n",
       "      <td>0.692913</td>\n",
       "      <td>0.818898</td>\n",
       "      <td>3.443751</td>\n",
       "      <td>2.511811</td>\n",
       "    </tr>\n",
       "    <tr>\n",
       "      <th>Other</th>\n",
       "      <td>564.444444</td>\n",
       "      <td>0.111111</td>\n",
       "      <td>1.666667</td>\n",
       "      <td>45.888889</td>\n",
       "      <td>0.111111</td>\n",
       "      <td>0.111111</td>\n",
       "      <td>2.641605</td>\n",
       "      <td>1.222222</td>\n",
       "    </tr>\n",
       "  </tbody>\n",
       "</table>\n",
       "</div>"
      ],
      "text/plain": [
       "         PassengerId  Survived    Pclass        Age     SibSp     Parch  \\\n",
       "Initial                                                                   \n",
       "Master    414.975000  0.575000  2.625000   4.574167  2.300000  1.375000   \n",
       "Miss      411.741935  0.704301  2.284946  21.860000  0.698925  0.537634   \n",
       "Mr        455.880907  0.162571  2.381853  32.739609  0.293006  0.151229   \n",
       "Mrs       456.393701  0.795276  1.984252  35.981818  0.692913  0.818898   \n",
       "Other     564.444444  0.111111  1.666667  45.888889  0.111111  0.111111   \n",
       "\n",
       "             Fare  FamilySize  \n",
       "Initial                        \n",
       "Master   3.340710    4.675000  \n",
       "Miss     3.123713    2.236559  \n",
       "Mr       2.651507    1.444234  \n",
       "Mrs      3.443751    2.511811  \n",
       "Other    2.641605    1.222222  "
      ]
     },
     "execution_count": 113,
     "metadata": {},
     "output_type": "execute_result"
    }
   ],
   "source": [
    "df_train.groupby('Initial').mean()"
   ]
  },
  {
   "cell_type": "markdown",
   "metadata": {},
   "source": [
    "여성과 관계있는 Miss, Mrs의 생존률이 높은 것을 볼 수 있습니다."
   ]
  },
  {
   "cell_type": "code",
   "execution_count": 114,
   "metadata": {
    "execution": {
     "iopub.execute_input": "2021-01-19T04:11:56.146156Z",
     "iopub.status.busy": "2021-01-19T04:11:56.145158Z",
     "iopub.status.idle": "2021-01-19T04:11:56.313420Z",
     "shell.execute_reply": "2021-01-19T04:11:56.313420Z",
     "shell.execute_reply.started": "2021-01-19T04:11:56.146156Z"
    }
   },
   "outputs": [
    {
     "data": {
      "text/plain": [
       "<AxesSubplot:xlabel='Initial'>"
      ]
     },
     "execution_count": 114,
     "metadata": {},
     "output_type": "execute_result"
    },
    {
     "data": {
      "image/png": "[encoded data removed]",
      "text/plain": [
       "<Figure size 432x288 with 1 Axes>"
      ]
     },
     "metadata": {
      "needs_background": "light"
     },
     "output_type": "display_data"
    }
   ],
   "source": [
    "df_train.groupby('Initial')['Survived'].mean().plot.bar()"
   ]
  },
  {
   "cell_type": "markdown",
   "metadata": {},
   "source": [
    "이제 본격적으로 null을 채워봅시다. null data를 채우는 방법은 굉장히 많습니다. statistics를 활용하는 방법도 있고, null data가 없는 데이터를 기반으로 새로운 머신러닝 알고리즘을 만들어 예측해서 채워넣는 방식도 있습니다. 여기서는 statistics를 활용하는 방법을 사용할 것입니다.  \n",
    "\n",
    "여기서 statistics는 train data의 것을 의미합니다. 우리는 언제나 test를 unseen 상태로 두어야 하며, train에서 얻은 statistics를 기반으로 test의 null data를 채워야 합니다."
   ]
  },
  {
   "cell_type": "code",
   "execution_count": 115,
   "metadata": {
    "execution": {
     "iopub.execute_input": "2021-01-19T04:12:01.243622Z",
     "iopub.status.busy": "2021-01-19T04:12:01.242625Z",
     "iopub.status.idle": "2021-01-19T04:12:01.261574Z",
     "shell.execute_reply": "2021-01-19T04:12:01.260577Z",
     "shell.execute_reply.started": "2021-01-19T04:12:01.242625Z"
    }
   },
   "outputs": [
    {
     "data": {
      "text/html": [
       "<div>\n",
       "<style scoped>\n",
       "    .dataframe tbody tr th:only-of-type {\n",
       "        vertical-align: middle;\n",
       "    }\n",
       "\n",
       "    .dataframe tbody tr th {\n",
       "        vertical-align: top;\n",
       "    }\n",
       "\n",
       "    .dataframe thead th {\n",
       "        text-align: right;\n",
       "    }\n",
       "</style>\n",
       "<table border=\"1\" class=\"dataframe\">\n",
       "  <thead>\n",
       "    <tr style=\"text-align: right;\">\n",
       "      <th></th>\n",
       "      <th>PassengerId</th>\n",
       "      <th>Survived</th>\n",
       "      <th>Pclass</th>\n",
       "      <th>Age</th>\n",
       "      <th>SibSp</th>\n",
       "      <th>Parch</th>\n",
       "      <th>Fare</th>\n",
       "      <th>FamilySize</th>\n",
       "    </tr>\n",
       "    <tr>\n",
       "      <th>Initial</th>\n",
       "      <th></th>\n",
       "      <th></th>\n",
       "      <th></th>\n",
       "      <th></th>\n",
       "      <th></th>\n",
       "      <th></th>\n",
       "      <th></th>\n",
       "      <th></th>\n",
       "    </tr>\n",
       "  </thead>\n",
       "  <tbody>\n",
       "    <tr>\n",
       "      <th>Master</th>\n",
       "      <td>414.975000</td>\n",
       "      <td>0.575000</td>\n",
       "      <td>2.625000</td>\n",
       "      <td>4.574167</td>\n",
       "      <td>2.300000</td>\n",
       "      <td>1.375000</td>\n",
       "      <td>3.340710</td>\n",
       "      <td>4.675000</td>\n",
       "    </tr>\n",
       "    <tr>\n",
       "      <th>Miss</th>\n",
       "      <td>411.741935</td>\n",
       "      <td>0.704301</td>\n",
       "      <td>2.284946</td>\n",
       "      <td>21.860000</td>\n",
       "      <td>0.698925</td>\n",
       "      <td>0.537634</td>\n",
       "      <td>3.123713</td>\n",
       "      <td>2.236559</td>\n",
       "    </tr>\n",
       "    <tr>\n",
       "      <th>Mr</th>\n",
       "      <td>455.880907</td>\n",
       "      <td>0.162571</td>\n",
       "      <td>2.381853</td>\n",
       "      <td>32.739609</td>\n",
       "      <td>0.293006</td>\n",
       "      <td>0.151229</td>\n",
       "      <td>2.651507</td>\n",
       "      <td>1.444234</td>\n",
       "    </tr>\n",
       "    <tr>\n",
       "      <th>Mrs</th>\n",
       "      <td>456.393701</td>\n",
       "      <td>0.795276</td>\n",
       "      <td>1.984252</td>\n",
       "      <td>35.981818</td>\n",
       "      <td>0.692913</td>\n",
       "      <td>0.818898</td>\n",
       "      <td>3.443751</td>\n",
       "      <td>2.511811</td>\n",
       "    </tr>\n",
       "    <tr>\n",
       "      <th>Other</th>\n",
       "      <td>564.444444</td>\n",
       "      <td>0.111111</td>\n",
       "      <td>1.666667</td>\n",
       "      <td>45.888889</td>\n",
       "      <td>0.111111</td>\n",
       "      <td>0.111111</td>\n",
       "      <td>2.641605</td>\n",
       "      <td>1.222222</td>\n",
       "    </tr>\n",
       "  </tbody>\n",
       "</table>\n",
       "</div>"
      ],
      "text/plain": [
       "         PassengerId  Survived    Pclass        Age     SibSp     Parch  \\\n",
       "Initial                                                                   \n",
       "Master    414.975000  0.575000  2.625000   4.574167  2.300000  1.375000   \n",
       "Miss      411.741935  0.704301  2.284946  21.860000  0.698925  0.537634   \n",
       "Mr        455.880907  0.162571  2.381853  32.739609  0.293006  0.151229   \n",
       "Mrs       456.393701  0.795276  1.984252  35.981818  0.692913  0.818898   \n",
       "Other     564.444444  0.111111  1.666667  45.888889  0.111111  0.111111   \n",
       "\n",
       "             Fare  FamilySize  \n",
       "Initial                        \n",
       "Master   3.340710    4.675000  \n",
       "Miss     3.123713    2.236559  \n",
       "Mr       2.651507    1.444234  \n",
       "Mrs      3.443751    2.511811  \n",
       "Other    2.641605    1.222222  "
      ]
     },
     "execution_count": 115,
     "metadata": {},
     "output_type": "execute_result"
    }
   ],
   "source": [
    "df_train.groupby('Initial').mean()"
   ]
  },
  {
   "cell_type": "markdown",
   "metadata": {},
   "source": [
    "Age의 평균을 이용해 null value를 채워봅시다.  \n",
    "\n",
    "pandas dataframe을 다룰 때에는 boolean array를 이용해 indexing하는 방법이 편리합니다. loc + boolean + column을 사용하여 값을 치환하는 방법은 자주 사용되므로 꼭 익숙해집시다."
   ]
  },
  {
   "cell_type": "code",
   "execution_count": 116,
   "metadata": {
    "execution": {
     "iopub.execute_input": "2021-01-19T04:12:44.300181Z",
     "iopub.status.busy": "2021-01-19T04:12:44.299182Z",
     "iopub.status.idle": "2021-01-19T04:12:44.322120Z",
     "shell.execute_reply": "2021-01-19T04:12:44.321156Z",
     "shell.execute_reply.started": "2021-01-19T04:12:44.300181Z"
    }
   },
   "outputs": [],
   "source": [
    "df_train.loc[(df_train['Age'].isnull())&(df_train['Initial']=='Mr'), 'Age'] = 33\n",
    "df_train.loc[(df_train['Age'].isnull())&(df_train['Initial']=='Mrs'), 'Age'] = 36\n",
    "df_train.loc[(df_train['Age'].isnull())&(df_train['Initial']=='Master'), 'Age'] = 5\n",
    "df_train.loc[(df_train['Age'].isnull())&(df_train['Initial']=='Miss'), 'Age'] = 22\n",
    "df_train.loc[(df_train['Age'].isnull())&(df_train['Initial']=='Other'), 'Age'] = 46\n",
    "\n",
    "df_test.loc[(df_test['Age'].isnull())&(df_test['Initial']=='Mr'), 'Age'] = 33\n",
    "df_test.loc[(df_test['Age'].isnull())&(df_test['Initial']=='Mrs'), 'Age'] = 36\n",
    "df_test.loc[(df_test['Age'].isnull())&(df_test['Initial']=='Master'), 'Age'] = 5\n",
    "df_test.loc[(df_test['Age'].isnull())&(df_test['Initial']=='Miss'), 'Age'] = 22\n",
    "df_test.loc[(df_test['Age'].isnull())&(df_test['Initial']=='Other'), 'Age'] = 46"
   ]
  },
  {
   "cell_type": "markdown",
   "metadata": {},
   "source": [
    "여기서는 간단하게 null을 채웠지만 다른 커널에서 다양한 방법을 쓴 예시들을 찾아볼 수 있습니다.  \n",
    "\n",
    "[https://www.kaggle.com/yassineghouzam/titanic-top-4-with-ensemble-modeling](https://www.kaggle.com/yassineghouzam/titanic-top-4-with-ensemble-modeling) << 참고해서 공부해보세요.  "
   ]
  },
  {
   "cell_type": "markdown",
   "metadata": {},
   "source": [
    "##### 3.1.2 Fill Null in Embarked"
   ]
  },
  {
   "cell_type": "code",
   "execution_count": 117,
   "metadata": {
    "execution": {
     "iopub.execute_input": "2021-01-19T04:13:20.915603Z",
     "iopub.status.busy": "2021-01-19T04:13:20.914605Z",
     "iopub.status.idle": "2021-01-19T04:13:20.921586Z",
     "shell.execute_reply": "2021-01-19T04:13:20.920590Z",
     "shell.execute_reply.started": "2021-01-19T04:13:20.915603Z"
    }
   },
   "outputs": [
    {
     "name": "stdout",
     "output_type": "stream",
     "text": [
      "Embarked has 2 Null values\n"
     ]
    }
   ],
   "source": [
    "print('Embarked has {} Null values'.format(sum(df_train['Embarked'].isnull())))"
   ]
  },
  {
   "cell_type": "markdown",
   "metadata": {},
   "source": [
    "Embarked의 null value는 2개이고, S의 탑승객이 가장 많았으므로 간단하게 null을 S로 채우겠습니다.  \n",
    "\n",
    "dataframe의 fillna method를 이용하면 쉽게 채울 수 있습니다. 여기서 inplace=True를 설정하면 df_train에 fillna를 실제로 적용하게 됩니다."
   ]
  },
  {
   "cell_type": "code",
   "execution_count": 118,
   "metadata": {
    "execution": {
     "iopub.execute_input": "2021-01-19T04:13:43.751327Z",
     "iopub.status.busy": "2021-01-19T04:13:43.751327Z",
     "iopub.status.idle": "2021-01-19T04:13:43.756284Z",
     "shell.execute_reply": "2021-01-19T04:13:43.755289Z",
     "shell.execute_reply.started": "2021-01-19T04:13:43.751327Z"
    }
   },
   "outputs": [],
   "source": [
    "df_train['Embarked'].fillna('S', inplace=True)"
   ]
  },
  {
   "cell_type": "markdown",
   "metadata": {},
   "source": [
    "#### 3.2 Change Age (continuous to categorical)\n",
    "Age는 현재 continuous feature입니다. 이대로 써도 모델을 세울 수 있지만, Age를 몇 개의 group으로 나누어 category화 시켜줄 수도 있습니다. continuous를 categorical로 바꾸면 자칫 information loss가 생길 수 있겠지만, 본 튜토리얼은 다양한 방법을 소개하는 것이 목적이므로 진행하도록 하겠습니다.  \n",
    "\n",
    "방법은 여러가지가 있습니다. dataframe의 indexing 방법인 loc를 사용하여 직접 해줄 수도 있고, apply를 사용해 함수를 넣어줄 수도 있습니다.  \n",
    "\n",
    "첫 번째, loc를 사용한 방법입니다. 나이는 10살 간격으로 나누겠습니다."
   ]
  },
  {
   "cell_type": "code",
   "execution_count": 119,
   "metadata": {
    "execution": {
     "iopub.execute_input": "2021-01-19T04:14:01.827090Z",
     "iopub.status.busy": "2021-01-19T04:14:01.827090Z",
     "iopub.status.idle": "2021-01-19T04:14:01.855017Z",
     "shell.execute_reply": "2021-01-19T04:14:01.854040Z",
     "shell.execute_reply.started": "2021-01-19T04:14:01.827090Z"
    }
   },
   "outputs": [],
   "source": [
    "df_train['Age_cat'] = 0\n",
    "df_train.loc[df_train['Age'] < 10, 'Age_cat'] = 0\n",
    "df_train.loc[(df_train['Age'] >= 10)&(df_train['Age'] < 20), 'Age_cat'] = 1\n",
    "df_train.loc[(df_train['Age'] >= 20)&(df_train['Age'] < 30), 'Age_cat'] = 2\n",
    "df_train.loc[(df_train['Age'] >= 30)&(df_train['Age'] < 40), 'Age_cat'] = 3\n",
    "df_train.loc[(df_train['Age'] >= 40)&(df_train['Age'] < 50), 'Age_cat'] = 4\n",
    "df_train.loc[(df_train['Age'] >= 50)&(df_train['Age'] < 60), 'Age_cat'] = 5\n",
    "df_train.loc[(df_train['Age'] >= 60)&(df_train['Age'] < 70), 'Age_cat'] = 6\n",
    "df_train.loc[df_train['Age'] >= 70, 'Age_cat'] = 7\n",
    "\n",
    "df_test['Age_cat'] = 0\n",
    "df_test.loc[df_test['Age'] < 10, 'Age_cat'] = 0\n",
    "df_test.loc[(df_test['Age'] >= 10)&(df_test['Age'] < 20), 'Age_cat'] = 1\n",
    "df_test.loc[(df_test['Age'] >= 20)&(df_test['Age'] < 30), 'Age_cat'] = 2\n",
    "df_test.loc[(df_test['Age'] >= 30)&(df_test['Age'] < 40), 'Age_cat'] = 3\n",
    "df_test.loc[(df_test['Age'] >= 40)&(df_test['Age'] < 50), 'Age_cat'] = 4\n",
    "df_test.loc[(df_test['Age'] >= 50)&(df_test['Age'] < 60), 'Age_cat'] = 5\n",
    "df_test.loc[(df_test['Age'] >= 60)&(df_test['Age'] < 70), 'Age_cat'] = 6\n",
    "df_test.loc[df_test['Age'] >= 70, 'Age_cat'] = 7"
   ]
  },
  {
   "cell_type": "markdown",
   "metadata": {},
   "source": [
    "두 번째로, 간단한 함수를 만들어 apply 메소드에 넣어주는 방법입니다."
   ]
  },
  {
   "cell_type": "code",
   "execution_count": 120,
   "metadata": {
    "execution": {
     "iopub.execute_input": "2021-01-19T04:14:06.397906Z",
     "iopub.status.busy": "2021-01-19T04:14:06.397906Z",
     "iopub.status.idle": "2021-01-19T04:14:06.405886Z",
     "shell.execute_reply": "2021-01-19T04:14:06.404887Z",
     "shell.execute_reply.started": "2021-01-19T04:14:06.397906Z"
    }
   },
   "outputs": [],
   "source": [
    "def category_age(x):\n",
    "    if x < 10:\n",
    "        return 0\n",
    "    elif x < 20:\n",
    "        return 1\n",
    "    elif x < 30:\n",
    "        return 2\n",
    "    elif x < 40:\n",
    "        return 3\n",
    "    elif x < 50:\n",
    "        return 4\n",
    "    elif x < 60:\n",
    "        return 5\n",
    "    elif x < 70:\n",
    "        return 6\n",
    "    else:\n",
    "        return 7\n",
    "df_train['Age_cat_2'] = df_train['Age'].apply(category_age)"
   ]
  },
  {
   "cell_type": "markdown",
   "metadata": {},
   "source": [
    "두 가지 방법이 잘 적용됐다면, 둘다 같은 결과를 내야합니다.  \n",
    "\n",
    "이를 확인하기 위해 Series 간 boolean을 비교한 후 all() 메소드를 사용해봅시다. all() 메소드는 모든 값이 True이면 True, 하나라도 False가 있으면 False를 반환합니다."
   ]
  },
  {
   "cell_type": "code",
   "execution_count": 121,
   "metadata": {
    "execution": {
     "iopub.execute_input": "2021-01-19T04:15:08.487008Z",
     "iopub.status.busy": "2021-01-19T04:15:08.487008Z",
     "iopub.status.idle": "2021-01-19T04:15:08.492968Z",
     "shell.execute_reply": "2021-01-19T04:15:08.491971Z",
     "shell.execute_reply.started": "2021-01-19T04:15:08.487008Z"
    }
   },
   "outputs": [
    {
     "name": "stdout",
     "output_type": "stream",
     "text": [
      "1번 방법, 2번 방법 둘다 같은 결과를 내면 True -> True\n"
     ]
    }
   ],
   "source": [
    "print('1번 방법, 2번 방법 둘다 같은 결과를 내면 True -> {}'.format((df_train['Age_cat']==df_train['Age_cat_2']).any()))"
   ]
  },
  {
   "cell_type": "markdown",
   "metadata": {},
   "source": [
    "중복되는 Age_cat 컬럼과 원래 컬럼 Age를 제거하겠습니다."
   ]
  },
  {
   "cell_type": "code",
   "execution_count": 122,
   "metadata": {
    "execution": {
     "iopub.execute_input": "2021-01-19T04:15:41.421327Z",
     "iopub.status.busy": "2021-01-19T04:15:41.420329Z",
     "iopub.status.idle": "2021-01-19T04:15:41.430303Z",
     "shell.execute_reply": "2021-01-19T04:15:41.429306Z",
     "shell.execute_reply.started": "2021-01-19T04:15:41.421327Z"
    }
   },
   "outputs": [],
   "source": [
    "df_train.drop(['Age', 'Age_cat_2'], axis=1, inplace=True)\n",
    "df_test.drop('Age', axis=1, inplace=True)"
   ]
  },
  {
   "cell_type": "markdown",
   "metadata": {},
   "source": [
    "#### 3.3 Change Initial, Embarked and Sex (string to numerical)\n",
    "현재 Initial은 Mr, Mrs, Miss, Master, Other 총 5개로 이루어져 있습니다. 이러한 카테고리로 나뉜 데이터를 모델에 인풋으로 넣기 전에 먼저 컴퓨터가 인식할 수 있도록 수치화 시키는 작업이 필요합니다.  \n",
    "map 메소드를 사용하여 사전 순서대로 정리하여 mapping 하겠습니다."
   ]
  },
  {
   "cell_type": "code",
   "execution_count": 123,
   "metadata": {
    "execution": {
     "iopub.execute_input": "2021-01-19T04:17:13.747501Z",
     "iopub.status.busy": "2021-01-19T04:17:13.746483Z",
     "iopub.status.idle": "2021-01-19T04:17:13.756454Z",
     "shell.execute_reply": "2021-01-19T04:17:13.755456Z",
     "shell.execute_reply.started": "2021-01-19T04:17:13.747501Z"
    }
   },
   "outputs": [],
   "source": [
    "df_train['Initial'] = df_train['Initial'].map({'Master':0, 'Miss':1, 'Mr':2, 'Mrs':3, 'Other':4})\n",
    "df_test['Initial'] = df_test['Initial'].map({'Master':0, 'Miss':1, 'Mr':2, 'Mrs':3, 'Other':4})"
   ]
  },
  {
   "cell_type": "markdown",
   "metadata": {},
   "source": [
    "Embarked의 C, Q, S도 map을 이용해 바꿔보고자 합니다.  \n",
    "\n",
    "바꾸기 전에 특정 column에 어떤 값이 있는지 잠시 확인해보겠습니다. 간단히 unique() 메소드를 쓰거나 value_counts()를 사용하여 count까지 보는 방법이 있습니다."
   ]
  },
  {
   "cell_type": "code",
   "execution_count": 124,
   "metadata": {
    "execution": {
     "iopub.execute_input": "2021-01-19T04:17:17.553682Z",
     "iopub.status.busy": "2021-01-19T04:17:17.552685Z",
     "iopub.status.idle": "2021-01-19T04:17:17.560664Z",
     "shell.execute_reply": "2021-01-19T04:17:17.559666Z",
     "shell.execute_reply.started": "2021-01-19T04:17:17.553682Z"
    }
   },
   "outputs": [
    {
     "data": {
      "text/plain": [
       "array(['S', 'C', 'Q'], dtype=object)"
      ]
     },
     "execution_count": 124,
     "metadata": {},
     "output_type": "execute_result"
    }
   ],
   "source": [
    "df_train['Embarked'].unique()"
   ]
  },
  {
   "cell_type": "code",
   "execution_count": 125,
   "metadata": {
    "execution": {
     "iopub.execute_input": "2021-01-19T04:17:26.376517Z",
     "iopub.status.busy": "2021-01-19T04:17:26.376517Z",
     "iopub.status.idle": "2021-01-19T04:17:26.384495Z",
     "shell.execute_reply": "2021-01-19T04:17:26.383503Z",
     "shell.execute_reply.started": "2021-01-19T04:17:26.376517Z"
    }
   },
   "outputs": [
    {
     "data": {
      "text/plain": [
       "S    646\n",
       "C    168\n",
       "Q     77\n",
       "Name: Embarked, dtype: int64"
      ]
     },
     "execution_count": 125,
     "metadata": {},
     "output_type": "execute_result"
    }
   ],
   "source": [
    "df_train['Embarked'].value_counts()"
   ]
  },
  {
   "cell_type": "markdown",
   "metadata": {},
   "source": [
    "위의 두 방법을 사용하여 Embarked가 S, C, Q 세 가지로 이루어진 것을 볼 수 있습니다. 이제 map을 사용해봅시다."
   ]
  },
  {
   "cell_type": "code",
   "execution_count": 126,
   "metadata": {
    "execution": {
     "iopub.execute_input": "2021-01-19T04:18:09.976045Z",
     "iopub.status.busy": "2021-01-19T04:18:09.976045Z",
     "iopub.status.idle": "2021-01-19T04:18:09.984024Z",
     "shell.execute_reply": "2021-01-19T04:18:09.983026Z",
     "shell.execute_reply.started": "2021-01-19T04:18:09.976045Z"
    }
   },
   "outputs": [],
   "source": [
    "df_train['Embarked'] = df_train['Embarked'].map({'C':0, 'Q':1, 'S':2})\n",
    "df_test['Embarked'] = df_test['Embarked'].map({'C':0, 'Q':1, 'S':2})"
   ]
  },
  {
   "cell_type": "markdown",
   "metadata": {},
   "source": [
    "이제 null이 없는지 확인해봅시다. Embarked column만 가져온 것은 하나의 pandas의 Series 객체이므로, isnull() 메소드를 사용해 Series의 값들이 null인지 아닌지에 대한 boolean 값을 얻을 수 있습니다. 그리고 any()를 사용하면 True가 단 하나라도 있을 시(null이 한 개 이상) True를 반환합니다. 우리는 null을 모두 S로 바꾸어주었으므로 False를 얻습니다."
   ]
  },
  {
   "cell_type": "code",
   "execution_count": 127,
   "metadata": {
    "execution": {
     "iopub.execute_input": "2021-01-19T04:18:25.839645Z",
     "iopub.status.busy": "2021-01-19T04:18:25.839645Z",
     "iopub.status.idle": "2021-01-19T04:18:25.845629Z",
     "shell.execute_reply": "2021-01-19T04:18:25.844641Z",
     "shell.execute_reply.started": "2021-01-19T04:18:25.839645Z"
    }
   },
   "outputs": [
    {
     "data": {
      "text/plain": [
       "False"
      ]
     },
     "execution_count": 127,
     "metadata": {},
     "output_type": "execute_result"
    }
   ],
   "source": [
    "df_train['Embarked'].isnull().any()"
   ]
  },
  {
   "cell_type": "markdown",
   "metadata": {},
   "source": [
    "Sex도 female과 mail로 이루어져있습니다. map을 이용해 바꿔봅시다."
   ]
  },
  {
   "cell_type": "code",
   "execution_count": 128,
   "metadata": {
    "execution": {
     "iopub.execute_input": "2021-01-19T04:18:33.280382Z",
     "iopub.status.busy": "2021-01-19T04:18:33.280382Z",
     "iopub.status.idle": "2021-01-19T04:18:33.288321Z",
     "shell.execute_reply": "2021-01-19T04:18:33.287323Z",
     "shell.execute_reply.started": "2021-01-19T04:18:33.280382Z"
    }
   },
   "outputs": [],
   "source": [
    "df_train['Sex'] = df_train['Sex'].map({'female':0, 'male':1})\n",
    "df_test['Sex'] = df_test['Sex'].map({'female':0, 'male':1})"
   ]
  },
  {
   "cell_type": "markdown",
   "metadata": {},
   "source": [
    "각 feature 간 상관관계를 봅시다. 두 변수 간의 Pearson correlation을 구하면 (-1, 1) 사이의 값을 얻을 수 있습니다. -1에 가까울수록 음의 상관관계, 1에 가까울수록 양의 상관관계를 의미하며 0은 상관관계가 없음을 의미합니다. 구하는 수식은 다음과 같습니다.  \n",
    "\n",
    "$$r_{xy} = \\frac{Cov(x, y)}{S_{x}S_{y}} = \\frac{\\frac{1}{n-1}\\sum_{i=1}^{n}(x_{i}-\\bar{x})(y_{i}-\\bar{y})}{S_{x}S_{y}}$$  \n",
    "\n",
    "우리는 여러 feature를 가지고 있으니 이를 하나의 matrix 형태로 보면 편할텐데, 이를 heatmap plot이라고 하며, dataframe의 corr() 메소드와 seaborn을 가지고 편하게 그릴 수 있습니다."
   ]
  },
  {
   "cell_type": "code",
   "execution_count": 129,
   "metadata": {
    "execution": {
     "iopub.execute_input": "2021-01-19T04:20:44.429313Z",
     "iopub.status.busy": "2021-01-19T04:20:44.428315Z",
     "iopub.status.idle": "2021-01-19T04:20:46.050353Z",
     "shell.execute_reply": "2021-01-19T04:20:46.050353Z",
     "shell.execute_reply.started": "2021-01-19T04:20:44.429313Z"
    }
   },
   "outputs": [
    {
     "data": {
      "image/png": "[encoded data removed]",
      "text/plain": [
       "<Figure size 1008x864 with 2 Axes>"
      ]
     },
     "metadata": {
      "needs_background": "light"
     },
     "output_type": "display_data"
    }
   ],
   "source": [
    "heatmap_data = df_train[['Survived', 'Pclass', 'Sex', 'Fare', 'Embarked', 'Initial', 'Age_cat']]\n",
    "\n",
    "colormap = plt.cm.RdBu\n",
    "plt.figure(figsize=(14, 12))\n",
    "plt.title('Pearson Correlation of Features', y=1.02, size=35)\n",
    "sns.heatmap(heatmap_data.astype(float).corr(), linewidths=0.1, vmax=1.0, square=True, cmap=colormap, linecolor='white', annot=True, annot_kws={'size':16})\n",
    "\n",
    "del heatmap_data"
   ]
  },
  {
   "cell_type": "markdown",
   "metadata": {},
   "source": [
    "EDA에서 살펴봤듯이, Sex와 Pclass가 Survived와 어느정도 상관관계가 있음을 볼 수 있습니다. 생각보다 Fare와 Embarked도 상관관계가 있음을 볼 수 있습니다.  \n",
    "\n",
    "또한, 우리가 여기서 얻을 수 있는 정보는 서로 강한 상관관계를 갖는 feature들이 없다는 것입니다. 이것은 우리가 모델을 학습시킬 때, 불필요한(redundant, superfluous) feature가 없다는 것을 의미합니다. 1 또는 -1의 상관관계를 가진 feature A, B가 있다면, 우리가 얻을 수 있는 정보는 사실 하나일 거니까요.  \n",
    "\n",
    "이제 실제로 모델을 학습시키기에 앞서 data preprocessing(전처리)을 진행해보겠습니다."
   ]
  },
  {
   "cell_type": "markdown",
   "metadata": {},
   "source": [
    "#### 3.4 One-hot encoding on Initial and Embarked\n",
    "수치화시킨 카테고리 데이터를 그대로 넣어도 되지만, 모델의 성능을 높이기 위해 one-hot encoding을 해줄 수 있습니다.  \n",
    "\n",
    "수치화는 간단히 Master = 0, Miss = 1, Mr = 2, Mrs = 3, Other = 4로 매핑해주는 것을 말합니다. One-hot encoding은 위 카테고리를 다음과 같이 (0, 1)로 이루어진 5차원의 벡터로 나타내는 것을 말합니다.  \n",
    "\n",
    "(Initial) | Initial_Master | Initial_Miss | Initial_Mr | Initial_Mrs | Initial_Other\n",
    " :--: | :--: | :--: | :--: | :--: | :--:\n",
    " Master | 1 | 0 | 0 | 0 | 0\n",
    " Miss | 0 | 1 | 0 | 0 | 0\n",
    " Mr | 0 | 0 | 1 | 0 | 0\n",
    " Mrs | 0 | 0 | 0 | 1 | 0\n",
    " Others | 0 | 0 | 0 | 0 | 1  \n",
    " \n",
    " 위와 같은 작업을 직접 코딩할 수도 있지만, pandas의 get_dummies를 사용하여 쉽게 해결할 수 있습니다. 총 5개의 카테고리니, one-hot encoding을 만들고 나면 새로운 5개의 column이 생겨납니다. Initial을 prefix로 두어서 구분이 쉽게 만들어줍니다."
   ]
  },
  {
   "cell_type": "code",
   "execution_count": 130,
   "metadata": {
    "execution": {
     "iopub.execute_input": "2021-01-19T04:21:50.355576Z",
     "iopub.status.busy": "2021-01-19T04:21:50.355576Z",
     "iopub.status.idle": "2021-01-19T04:21:50.370496Z",
     "shell.execute_reply": "2021-01-19T04:21:50.369506Z",
     "shell.execute_reply.started": "2021-01-19T04:21:50.355576Z"
    }
   },
   "outputs": [],
   "source": [
    "df_train = pd.get_dummies(df_train, columns=['Initial'], prefix='Initial')\n",
    "df_test = pd.get_dummies(df_test, columns=['Initial'], prefix='Initial')"
   ]
  },
  {
   "cell_type": "code",
   "execution_count": 131,
   "metadata": {
    "execution": {
     "iopub.execute_input": "2021-01-19T04:21:52.606857Z",
     "iopub.status.busy": "2021-01-19T04:21:52.605861Z",
     "iopub.status.idle": "2021-01-19T04:21:52.622815Z",
     "shell.execute_reply": "2021-01-19T04:21:52.621846Z",
     "shell.execute_reply.started": "2021-01-19T04:21:52.606857Z"
    }
   },
   "outputs": [
    {
     "data": {
      "text/html": [
       "<div>\n",
       "<style scoped>\n",
       "    .dataframe tbody tr th:only-of-type {\n",
       "        vertical-align: middle;\n",
       "    }\n",
       "\n",
       "    .dataframe tbody tr th {\n",
       "        vertical-align: top;\n",
       "    }\n",
       "\n",
       "    .dataframe thead th {\n",
       "        text-align: right;\n",
       "    }\n",
       "</style>\n",
       "<table border=\"1\" class=\"dataframe\">\n",
       "  <thead>\n",
       "    <tr style=\"text-align: right;\">\n",
       "      <th></th>\n",
       "      <th>PassengerId</th>\n",
       "      <th>Survived</th>\n",
       "      <th>Pclass</th>\n",
       "      <th>Name</th>\n",
       "      <th>Sex</th>\n",
       "      <th>SibSp</th>\n",
       "      <th>Parch</th>\n",
       "      <th>Ticket</th>\n",
       "      <th>Fare</th>\n",
       "      <th>Cabin</th>\n",
       "      <th>Embarked</th>\n",
       "      <th>FamilySize</th>\n",
       "      <th>Age_cat</th>\n",
       "      <th>Initial_0</th>\n",
       "      <th>Initial_1</th>\n",
       "      <th>Initial_2</th>\n",
       "      <th>Initial_3</th>\n",
       "      <th>Initial_4</th>\n",
       "    </tr>\n",
       "  </thead>\n",
       "  <tbody>\n",
       "    <tr>\n",
       "      <th>0</th>\n",
       "      <td>1</td>\n",
       "      <td>0</td>\n",
       "      <td>3</td>\n",
       "      <td>Braund, Mr. Owen Harris</td>\n",
       "      <td>1</td>\n",
       "      <td>1</td>\n",
       "      <td>0</td>\n",
       "      <td>A/5 21171</td>\n",
       "      <td>1.981001</td>\n",
       "      <td>NaN</td>\n",
       "      <td>2</td>\n",
       "      <td>2</td>\n",
       "      <td>2</td>\n",
       "      <td>0</td>\n",
       "      <td>0</td>\n",
       "      <td>1</td>\n",
       "      <td>0</td>\n",
       "      <td>0</td>\n",
       "    </tr>\n",
       "    <tr>\n",
       "      <th>1</th>\n",
       "      <td>2</td>\n",
       "      <td>1</td>\n",
       "      <td>1</td>\n",
       "      <td>Cumings, Mrs. John Bradley (Florence Briggs Th...</td>\n",
       "      <td>0</td>\n",
       "      <td>1</td>\n",
       "      <td>0</td>\n",
       "      <td>PC 17599</td>\n",
       "      <td>4.266662</td>\n",
       "      <td>C85</td>\n",
       "      <td>0</td>\n",
       "      <td>2</td>\n",
       "      <td>3</td>\n",
       "      <td>0</td>\n",
       "      <td>0</td>\n",
       "      <td>0</td>\n",
       "      <td>1</td>\n",
       "      <td>0</td>\n",
       "    </tr>\n",
       "    <tr>\n",
       "      <th>2</th>\n",
       "      <td>3</td>\n",
       "      <td>1</td>\n",
       "      <td>3</td>\n",
       "      <td>Heikkinen, Miss. Laina</td>\n",
       "      <td>0</td>\n",
       "      <td>0</td>\n",
       "      <td>0</td>\n",
       "      <td>STON/O2. 3101282</td>\n",
       "      <td>2.070022</td>\n",
       "      <td>NaN</td>\n",
       "      <td>2</td>\n",
       "      <td>1</td>\n",
       "      <td>2</td>\n",
       "      <td>0</td>\n",
       "      <td>1</td>\n",
       "      <td>0</td>\n",
       "      <td>0</td>\n",
       "      <td>0</td>\n",
       "    </tr>\n",
       "  </tbody>\n",
       "</table>\n",
       "</div>"
      ],
      "text/plain": [
       "   PassengerId  Survived  Pclass  \\\n",
       "0            1         0       3   \n",
       "1            2         1       1   \n",
       "2            3         1       3   \n",
       "\n",
       "                                                Name  Sex  SibSp  Parch  \\\n",
       "0                            Braund, Mr. Owen Harris    1      1      0   \n",
       "1  Cumings, Mrs. John Bradley (Florence Briggs Th...    0      1      0   \n",
       "2                             Heikkinen, Miss. Laina    0      0      0   \n",
       "\n",
       "             Ticket      Fare Cabin  Embarked  FamilySize  Age_cat  Initial_0  \\\n",
       "0         A/5 21171  1.981001   NaN         2           2        2          0   \n",
       "1          PC 17599  4.266662   C85         0           2        3          0   \n",
       "2  STON/O2. 3101282  2.070022   NaN         2           1        2          0   \n",
       "\n",
       "   Initial_1  Initial_2  Initial_3  Initial_4  \n",
       "0          0          1          0          0  \n",
       "1          0          0          1          0  \n",
       "2          1          0          0          0  "
      ]
     },
     "execution_count": 131,
     "metadata": {},
     "output_type": "execute_result"
    }
   ],
   "source": [
    "df_train.head(3)"
   ]
  },
  {
   "cell_type": "markdown",
   "metadata": {},
   "source": [
    "우리가 만들려고 했던 one-hot encoded column들이 생성된 것을 볼 수 있습니다.  \n",
    "\n",
    "Embarked에도 적용해보겠습니다. Initial과 마찬가지로 one-hot encoding을 사용해봅시다"
   ]
  },
  {
   "cell_type": "code",
   "execution_count": 132,
   "metadata": {
    "execution": {
     "iopub.execute_input": "2021-01-19T04:22:35.415385Z",
     "iopub.status.busy": "2021-01-19T04:22:35.415385Z",
     "iopub.status.idle": "2021-01-19T04:22:35.433337Z",
     "shell.execute_reply": "2021-01-19T04:22:35.432340Z",
     "shell.execute_reply.started": "2021-01-19T04:22:35.415385Z"
    }
   },
   "outputs": [],
   "source": [
    "df_train = pd.get_dummies(df_train, columns=['Embarked'], prefix='Embarked')\n",
    "df_test = pd.get_dummies(df_test, columns=['Embarked'], prefix='Embarked')"
   ]
  },
  {
   "cell_type": "code",
   "execution_count": 133,
   "metadata": {
    "execution": {
     "iopub.execute_input": "2021-01-19T04:22:37.113793Z",
     "iopub.status.busy": "2021-01-19T04:22:37.112795Z",
     "iopub.status.idle": "2021-01-19T04:22:37.129750Z",
     "shell.execute_reply": "2021-01-19T04:22:37.128753Z",
     "shell.execute_reply.started": "2021-01-19T04:22:37.113793Z"
    }
   },
   "outputs": [
    {
     "data": {
      "text/html": [
       "<div>\n",
       "<style scoped>\n",
       "    .dataframe tbody tr th:only-of-type {\n",
       "        vertical-align: middle;\n",
       "    }\n",
       "\n",
       "    .dataframe tbody tr th {\n",
       "        vertical-align: top;\n",
       "    }\n",
       "\n",
       "    .dataframe thead th {\n",
       "        text-align: right;\n",
       "    }\n",
       "</style>\n",
       "<table border=\"1\" class=\"dataframe\">\n",
       "  <thead>\n",
       "    <tr style=\"text-align: right;\">\n",
       "      <th></th>\n",
       "      <th>PassengerId</th>\n",
       "      <th>Survived</th>\n",
       "      <th>Pclass</th>\n",
       "      <th>Name</th>\n",
       "      <th>Sex</th>\n",
       "      <th>SibSp</th>\n",
       "      <th>Parch</th>\n",
       "      <th>Ticket</th>\n",
       "      <th>Fare</th>\n",
       "      <th>Cabin</th>\n",
       "      <th>FamilySize</th>\n",
       "      <th>Age_cat</th>\n",
       "      <th>Initial_0</th>\n",
       "      <th>Initial_1</th>\n",
       "      <th>Initial_2</th>\n",
       "      <th>Initial_3</th>\n",
       "      <th>Initial_4</th>\n",
       "      <th>Embarked_0</th>\n",
       "      <th>Embarked_1</th>\n",
       "      <th>Embarked_2</th>\n",
       "    </tr>\n",
       "  </thead>\n",
       "  <tbody>\n",
       "    <tr>\n",
       "      <th>0</th>\n",
       "      <td>1</td>\n",
       "      <td>0</td>\n",
       "      <td>3</td>\n",
       "      <td>Braund, Mr. Owen Harris</td>\n",
       "      <td>1</td>\n",
       "      <td>1</td>\n",
       "      <td>0</td>\n",
       "      <td>A/5 21171</td>\n",
       "      <td>1.981001</td>\n",
       "      <td>NaN</td>\n",
       "      <td>2</td>\n",
       "      <td>2</td>\n",
       "      <td>0</td>\n",
       "      <td>0</td>\n",
       "      <td>1</td>\n",
       "      <td>0</td>\n",
       "      <td>0</td>\n",
       "      <td>0</td>\n",
       "      <td>0</td>\n",
       "      <td>1</td>\n",
       "    </tr>\n",
       "    <tr>\n",
       "      <th>1</th>\n",
       "      <td>2</td>\n",
       "      <td>1</td>\n",
       "      <td>1</td>\n",
       "      <td>Cumings, Mrs. John Bradley (Florence Briggs Th...</td>\n",
       "      <td>0</td>\n",
       "      <td>1</td>\n",
       "      <td>0</td>\n",
       "      <td>PC 17599</td>\n",
       "      <td>4.266662</td>\n",
       "      <td>C85</td>\n",
       "      <td>2</td>\n",
       "      <td>3</td>\n",
       "      <td>0</td>\n",
       "      <td>0</td>\n",
       "      <td>0</td>\n",
       "      <td>1</td>\n",
       "      <td>0</td>\n",
       "      <td>1</td>\n",
       "      <td>0</td>\n",
       "      <td>0</td>\n",
       "    </tr>\n",
       "    <tr>\n",
       "      <th>2</th>\n",
       "      <td>3</td>\n",
       "      <td>1</td>\n",
       "      <td>3</td>\n",
       "      <td>Heikkinen, Miss. Laina</td>\n",
       "      <td>0</td>\n",
       "      <td>0</td>\n",
       "      <td>0</td>\n",
       "      <td>STON/O2. 3101282</td>\n",
       "      <td>2.070022</td>\n",
       "      <td>NaN</td>\n",
       "      <td>1</td>\n",
       "      <td>2</td>\n",
       "      <td>0</td>\n",
       "      <td>1</td>\n",
       "      <td>0</td>\n",
       "      <td>0</td>\n",
       "      <td>0</td>\n",
       "      <td>0</td>\n",
       "      <td>0</td>\n",
       "      <td>1</td>\n",
       "    </tr>\n",
       "  </tbody>\n",
       "</table>\n",
       "</div>"
      ],
      "text/plain": [
       "   PassengerId  Survived  Pclass  \\\n",
       "0            1         0       3   \n",
       "1            2         1       1   \n",
       "2            3         1       3   \n",
       "\n",
       "                                                Name  Sex  SibSp  Parch  \\\n",
       "0                            Braund, Mr. Owen Harris    1      1      0   \n",
       "1  Cumings, Mrs. John Bradley (Florence Briggs Th...    0      1      0   \n",
       "2                             Heikkinen, Miss. Laina    0      0      0   \n",
       "\n",
       "             Ticket      Fare Cabin  FamilySize  Age_cat  Initial_0  \\\n",
       "0         A/5 21171  1.981001   NaN           2        2          0   \n",
       "1          PC 17599  4.266662   C85           2        3          0   \n",
       "2  STON/O2. 3101282  2.070022   NaN           1        2          0   \n",
       "\n",
       "   Initial_1  Initial_2  Initial_3  Initial_4  Embarked_0  Embarked_1  \\\n",
       "0          0          1          0          0           0           0   \n",
       "1          0          0          1          0           1           0   \n",
       "2          1          0          0          0           0           0   \n",
       "\n",
       "   Embarked_2  \n",
       "0           1  \n",
       "1           0  \n",
       "2           1  "
      ]
     },
     "execution_count": 133,
     "metadata": {},
     "output_type": "execute_result"
    }
   ],
   "source": [
    "df_train.head(3)"
   ]
  },
  {
   "cell_type": "markdown",
   "metadata": {},
   "source": [
    "아주 쉽게 one-hot encoding을 적용했습니다.  \n",
    "\n",
    "sklearn으로 Labelencoder + OneHotencoder를 이용해도 가능합니다. 여기서는 get_dummies로 충분히 가능하기 때문에 이 정도로 마치겠습니다.  \n",
    "\n",
    "가끔 카테고리가 100개가 넘어가는 경우도 있스비다. 이때 one-hot encoding을 사용하면 column이 100개가 생기기 때문에 학습 시 매우 버거울 수 있습니다. 이런 경우는 다른 방법을 사용하기도 하는데, 이는 다음에 한번 다뤄보겠습니다."
   ]
  },
  {
   "cell_type": "markdown",
   "metadata": {},
   "source": [
    "#### 3.5 Drop columns\n",
    "필요한 columns만 남기고 다 지워보겠습니다."
   ]
  },
  {
   "cell_type": "code",
   "execution_count": 134,
   "metadata": {
    "execution": {
     "iopub.execute_input": "2021-01-19T04:23:49.462170Z",
     "iopub.status.busy": "2021-01-19T04:23:49.461164Z",
     "iopub.status.idle": "2021-01-19T04:23:49.471137Z",
     "shell.execute_reply": "2021-01-19T04:23:49.470140Z",
     "shell.execute_reply.started": "2021-01-19T04:23:49.462170Z"
    }
   },
   "outputs": [],
   "source": [
    "df_train.drop(['PassengerId', 'Name', 'SibSp', 'Parch', 'Ticket', 'Cabin'], axis=1, inplace=True)\n",
    "df_test.drop(['PassengerId', 'Name', 'SibSp', 'Parch', 'Ticket', 'Cabin'], axis=1, inplace=True)"
   ]
  },
  {
   "cell_type": "code",
   "execution_count": 135,
   "metadata": {
    "execution": {
     "iopub.execute_input": "2021-01-19T04:23:54.165746Z",
     "iopub.status.busy": "2021-01-19T04:23:54.165746Z",
     "iopub.status.idle": "2021-01-19T04:23:54.178682Z",
     "shell.execute_reply": "2021-01-19T04:23:54.178682Z",
     "shell.execute_reply.started": "2021-01-19T04:23:54.165746Z"
    }
   },
   "outputs": [
    {
     "data": {
      "text/html": [
       "<div>\n",
       "<style scoped>\n",
       "    .dataframe tbody tr th:only-of-type {\n",
       "        vertical-align: middle;\n",
       "    }\n",
       "\n",
       "    .dataframe tbody tr th {\n",
       "        vertical-align: top;\n",
       "    }\n",
       "\n",
       "    .dataframe thead th {\n",
       "        text-align: right;\n",
       "    }\n",
       "</style>\n",
       "<table border=\"1\" class=\"dataframe\">\n",
       "  <thead>\n",
       "    <tr style=\"text-align: right;\">\n",
       "      <th></th>\n",
       "      <th>Survived</th>\n",
       "      <th>Pclass</th>\n",
       "      <th>Sex</th>\n",
       "      <th>Fare</th>\n",
       "      <th>FamilySize</th>\n",
       "      <th>Age_cat</th>\n",
       "      <th>Initial_0</th>\n",
       "      <th>Initial_1</th>\n",
       "      <th>Initial_2</th>\n",
       "      <th>Initial_3</th>\n",
       "      <th>Initial_4</th>\n",
       "      <th>Embarked_0</th>\n",
       "      <th>Embarked_1</th>\n",
       "      <th>Embarked_2</th>\n",
       "    </tr>\n",
       "  </thead>\n",
       "  <tbody>\n",
       "    <tr>\n",
       "      <th>0</th>\n",
       "      <td>0</td>\n",
       "      <td>3</td>\n",
       "      <td>1</td>\n",
       "      <td>1.981001</td>\n",
       "      <td>2</td>\n",
       "      <td>2</td>\n",
       "      <td>0</td>\n",
       "      <td>0</td>\n",
       "      <td>1</td>\n",
       "      <td>0</td>\n",
       "      <td>0</td>\n",
       "      <td>0</td>\n",
       "      <td>0</td>\n",
       "      <td>1</td>\n",
       "    </tr>\n",
       "    <tr>\n",
       "      <th>1</th>\n",
       "      <td>1</td>\n",
       "      <td>1</td>\n",
       "      <td>0</td>\n",
       "      <td>4.266662</td>\n",
       "      <td>2</td>\n",
       "      <td>3</td>\n",
       "      <td>0</td>\n",
       "      <td>0</td>\n",
       "      <td>0</td>\n",
       "      <td>1</td>\n",
       "      <td>0</td>\n",
       "      <td>1</td>\n",
       "      <td>0</td>\n",
       "      <td>0</td>\n",
       "    </tr>\n",
       "    <tr>\n",
       "      <th>2</th>\n",
       "      <td>1</td>\n",
       "      <td>3</td>\n",
       "      <td>0</td>\n",
       "      <td>2.070022</td>\n",
       "      <td>1</td>\n",
       "      <td>2</td>\n",
       "      <td>0</td>\n",
       "      <td>1</td>\n",
       "      <td>0</td>\n",
       "      <td>0</td>\n",
       "      <td>0</td>\n",
       "      <td>0</td>\n",
       "      <td>0</td>\n",
       "      <td>1</td>\n",
       "    </tr>\n",
       "  </tbody>\n",
       "</table>\n",
       "</div>"
      ],
      "text/plain": [
       "   Survived  Pclass  Sex      Fare  FamilySize  Age_cat  Initial_0  Initial_1  \\\n",
       "0         0       3    1  1.981001           2        2          0          0   \n",
       "1         1       1    0  4.266662           2        3          0          0   \n",
       "2         1       3    0  2.070022           1        2          0          1   \n",
       "\n",
       "   Initial_2  Initial_3  Initial_4  Embarked_0  Embarked_1  Embarked_2  \n",
       "0          1          0          0           0           0           1  \n",
       "1          0          1          0           1           0           0  \n",
       "2          0          0          0           0           0           1  "
      ]
     },
     "execution_count": 135,
     "metadata": {},
     "output_type": "execute_result"
    }
   ],
   "source": [
    "df_train.head(3)"
   ]
  },
  {
   "cell_type": "code",
   "execution_count": 136,
   "metadata": {
    "execution": {
     "iopub.execute_input": "2021-01-19T04:23:55.362615Z",
     "iopub.status.busy": "2021-01-19T04:23:55.362615Z",
     "iopub.status.idle": "2021-01-19T04:23:55.375580Z",
     "shell.execute_reply": "2021-01-19T04:23:55.374583Z",
     "shell.execute_reply.started": "2021-01-19T04:23:55.362615Z"
    }
   },
   "outputs": [
    {
     "data": {
      "text/html": [
       "<div>\n",
       "<style scoped>\n",
       "    .dataframe tbody tr th:only-of-type {\n",
       "        vertical-align: middle;\n",
       "    }\n",
       "\n",
       "    .dataframe tbody tr th {\n",
       "        vertical-align: top;\n",
       "    }\n",
       "\n",
       "    .dataframe thead th {\n",
       "        text-align: right;\n",
       "    }\n",
       "</style>\n",
       "<table border=\"1\" class=\"dataframe\">\n",
       "  <thead>\n",
       "    <tr style=\"text-align: right;\">\n",
       "      <th></th>\n",
       "      <th>Pclass</th>\n",
       "      <th>Sex</th>\n",
       "      <th>Fare</th>\n",
       "      <th>FamilySize</th>\n",
       "      <th>Age_cat</th>\n",
       "      <th>Initial_0</th>\n",
       "      <th>Initial_1</th>\n",
       "      <th>Initial_2</th>\n",
       "      <th>Initial_3</th>\n",
       "      <th>Initial_4</th>\n",
       "      <th>Embarked_0</th>\n",
       "      <th>Embarked_1</th>\n",
       "      <th>Embarked_2</th>\n",
       "    </tr>\n",
       "  </thead>\n",
       "  <tbody>\n",
       "    <tr>\n",
       "      <th>0</th>\n",
       "      <td>3</td>\n",
       "      <td>1</td>\n",
       "      <td>2.057860</td>\n",
       "      <td>1</td>\n",
       "      <td>3</td>\n",
       "      <td>0</td>\n",
       "      <td>0</td>\n",
       "      <td>1</td>\n",
       "      <td>0</td>\n",
       "      <td>0</td>\n",
       "      <td>0</td>\n",
       "      <td>1</td>\n",
       "      <td>0</td>\n",
       "    </tr>\n",
       "    <tr>\n",
       "      <th>1</th>\n",
       "      <td>3</td>\n",
       "      <td>0</td>\n",
       "      <td>1.945910</td>\n",
       "      <td>2</td>\n",
       "      <td>4</td>\n",
       "      <td>0</td>\n",
       "      <td>0</td>\n",
       "      <td>0</td>\n",
       "      <td>1</td>\n",
       "      <td>0</td>\n",
       "      <td>0</td>\n",
       "      <td>0</td>\n",
       "      <td>1</td>\n",
       "    </tr>\n",
       "    <tr>\n",
       "      <th>2</th>\n",
       "      <td>2</td>\n",
       "      <td>1</td>\n",
       "      <td>2.270836</td>\n",
       "      <td>1</td>\n",
       "      <td>6</td>\n",
       "      <td>0</td>\n",
       "      <td>0</td>\n",
       "      <td>1</td>\n",
       "      <td>0</td>\n",
       "      <td>0</td>\n",
       "      <td>0</td>\n",
       "      <td>1</td>\n",
       "      <td>0</td>\n",
       "    </tr>\n",
       "  </tbody>\n",
       "</table>\n",
       "</div>"
      ],
      "text/plain": [
       "   Pclass  Sex      Fare  FamilySize  Age_cat  Initial_0  Initial_1  \\\n",
       "0       3    1  2.057860           1        3          0          0   \n",
       "1       3    0  1.945910           2        4          0          0   \n",
       "2       2    1  2.270836           1        6          0          0   \n",
       "\n",
       "   Initial_2  Initial_3  Initial_4  Embarked_0  Embarked_1  Embarked_2  \n",
       "0          1          0          0           0           1           0  \n",
       "1          0          1          0           0           0           1  \n",
       "2          1          0          0           0           1           0  "
      ]
     },
     "execution_count": 136,
     "metadata": {},
     "output_type": "execute_result"
    }
   ],
   "source": [
    "df_test.head(3)"
   ]
  },
  {
   "cell_type": "markdown",
   "metadata": {},
   "source": [
    "train의 Survived feature(target class)를 제외하고는 train과 test가 모두 같은 column을 가진 것을 확인할 수 있습니다."
   ]
  },
  {
   "cell_type": "markdown",
   "metadata": {},
   "source": [
    "### 4. Building machin learning model and prediction using the trained model\n",
    "sklearn을 사용하여 본걱적으로 머신러닝 모델을 만들어봅시다."
   ]
  },
  {
   "cell_type": "code",
   "execution_count": 137,
   "metadata": {
    "execution": {
     "iopub.execute_input": "2021-01-19T04:24:36.688806Z",
     "iopub.status.busy": "2021-01-19T04:24:36.688806Z",
     "iopub.status.idle": "2021-01-19T04:24:36.694789Z",
     "shell.execute_reply": "2021-01-19T04:24:36.693794Z",
     "shell.execute_reply.started": "2021-01-19T04:24:36.688806Z"
    }
   },
   "outputs": [],
   "source": [
    "from sklearn.ensemble import RandomForestClassifier\n",
    "from sklearn import metrics\n",
    "from sklearn.model_selection import train_test_split"
   ]
  },
  {
   "cell_type": "markdown",
   "metadata": {},
   "source": [
    "sklearn은 머신러닝의 A부터 Z까지 모두 포함된 라이브러리입니다. feature engineering, preprocessing, 지도학습 알고리즘, 비지도학습 알고리즘, 모델 평가, 파이프라인 등 머신러닝에 관련된 모든 작업들이 손쉬운 인터페이스로 구현되어 있스비다. 데이터 분석 + 머신러닝을 하고 싶다면, 이 라이브러리는 반드시 숙지해야 합니다.  \n",
    "\n",
    "책 『파이썬 라이브러리를 활용한 머신러닝(Introduction to machin learning with Python)』으로 공부하는 것을 추천합니다.  \n",
    "\n",
    "타이타닉 컴피티션으 경우 target class(Survived)가 있으며, 0과 1로 이루어져 있으므로 binary classification 문제입니다. train set에서 Survived를 제외한 input으로 모델을 최적화시켜 각 샘플(탑승객)의 생존유무를 판단하는 모델을 만들어봅시다. 그 다음 모델이 학습하지 않았던 test set을 input으로 주어 test set의 각 샘플(탑승객)의 생존 유무를 예측해봅시다."
   ]
  },
  {
   "cell_type": "markdown",
   "metadata": {},
   "source": [
    "#### 4.1 Preparation - split dataset into train, valid, test set\n",
    "가장 먼저, 학습에 쓰일 데이터와 target label(Survived)를 분리합니다."
   ]
  },
  {
   "cell_type": "code",
   "execution_count": 139,
   "metadata": {
    "execution": {
     "iopub.execute_input": "2021-01-19T04:25:23.613927Z",
     "iopub.status.busy": "2021-01-19T04:25:23.612924Z",
     "iopub.status.idle": "2021-01-19T04:25:23.620902Z",
     "shell.execute_reply": "2021-01-19T04:25:23.619905Z",
     "shell.execute_reply.started": "2021-01-19T04:25:23.613927Z"
    }
   },
   "outputs": [],
   "source": [
    "x_train = df_train.drop('Survived', axis=1).values\n",
    "target_label = df_train['Survived'].values\n",
    "x_test = df_test.values"
   ]
  },
  {
   "cell_type": "markdown",
   "metadata": {},
   "source": [
    "일반적으로 train, test만 언급하지만, 좋은 모델을 만들기 위해 valid set을 따로 만들어 모델 평가를 해봅시다.  \n",
    "\n",
    "(이는 마치 축구대표팀이 팀 훈련(train)을 하고 바로 월드컵(test)에 출전하는 것이 아니라, 팀 훈련(train) 뒤 평가전(valid)을 거쳐 팀의 훈련 정도(학습정도)를 확인하고 월드컵(test)에 출전하는 것과 비슷합니다.  \n",
    "\n",
    "train_test_split을 사용하여 쉽게 train set을 분리할 수 있습니다."
   ]
  },
  {
   "cell_type": "code",
   "execution_count": 140,
   "metadata": {
    "execution": {
     "iopub.execute_input": "2021-01-19T04:25:55.684721Z",
     "iopub.status.busy": "2021-01-19T04:25:55.683725Z",
     "iopub.status.idle": "2021-01-19T04:25:55.690705Z",
     "shell.execute_reply": "2021-01-19T04:25:55.689719Z",
     "shell.execute_reply.started": "2021-01-19T04:25:55.684721Z"
    }
   },
   "outputs": [],
   "source": [
    "x_tr, x_vld, y_tr, y_vld = train_test_split(x_train, target_label, test_size=0.3, random_state=2018)"
   ]
  },
  {
   "cell_type": "markdown",
   "metadata": {},
   "source": [
    "sklearn에서는 여러 머신러닝 알고리즘을 지원합니다. 직접 [documentation](http://scikit-learn.org/stable/supervised_learning.html#supervised-learning)에 들어가서 공부하길 추천합니다.  \n",
    "\n",
    "본 튜토리얼에서는 랜덤포레스트 모델을 사용하겠습니다. 랜덤포레스트는 의사결정나무 기반 모델이며, 여러 decision tree들을 앙상블한 모델입니다.  \n",
    "\n",
    "각 머신러닝 알고리즘에는 여러 파라미터들이 있습니다. 랜덤포레스트 분류기도 n_estimators, max_features, max_depth, min_samples_split, min_samples_leaf 등 여러 파라미터들이 존재합니다. 이것들이 어떻게 세팅되냐에 따라 같은 데이터셋이라 하더라도 모델의 성능이 달라집니다.  \n",
    "\n",
    "파라미터 튜닝은 시간, 경험, 알고리즘에 대한 이해 등이 필요합니다. 캐글의 여러 데이터셋을 다루며 모델을 이리저리 써보면 튜닝하는 감이 생길 수 있을 것입니다. 일단 지금은 튜토리얼이니 파라미터 튜닝은 잠시 제쳐두고, 기본 default 세팅으로 진행하겠습니다.  \n",
    "\n",
    "모델 객체를 만들고, fit 메소드로 학습시킨 뒤 valid set input을 넣어주어 예측값(x_vld sample(탑승객)의 생존여부)을 얻습니다."
   ]
  },
  {
   "cell_type": "markdown",
   "metadata": {},
   "source": [
    "#### 4.2 Model generation and prediction"
   ]
  },
  {
   "cell_type": "code",
   "execution_count": 141,
   "metadata": {
    "execution": {
     "iopub.execute_input": "2021-01-19T04:26:33.659684Z",
     "iopub.status.busy": "2021-01-19T04:26:33.659684Z",
     "iopub.status.idle": "2021-01-19T04:26:34.234147Z",
     "shell.execute_reply": "2021-01-19T04:26:34.233149Z",
     "shell.execute_reply.started": "2021-01-19T04:26:33.659684Z"
    }
   },
   "outputs": [],
   "source": [
    "model = RandomForestClassifier()\n",
    "model.fit(x_tr, y_tr)\n",
    "prediction = model.predict(x_vld)"
   ]
  },
  {
   "cell_type": "markdown",
   "metadata": {},
   "source": [
    "단 세 줄만으로 모델을 세우고, 예측까지 해보았습니다. 이제 모델의 성능을 살펴보겠습니다."
   ]
  },
  {
   "cell_type": "code",
   "execution_count": 144,
   "metadata": {
    "execution": {
     "iopub.execute_input": "2021-01-19T04:28:02.007378Z",
     "iopub.status.busy": "2021-01-19T04:28:02.007378Z",
     "iopub.status.idle": "2021-01-19T04:28:02.014333Z",
     "shell.execute_reply": "2021-01-19T04:28:02.013336Z",
     "shell.execute_reply.started": "2021-01-19T04:28:02.007378Z"
    }
   },
   "outputs": [
    {
     "name": "stdout",
     "output_type": "stream",
     "text": [
      "총 268명 중 82.46% 정확도로 생존여부를 맞춤\n"
     ]
    }
   ],
   "source": [
    "print('총 {}명 중 {:.2f}% 정확도로 생존여부를 맞춤'.format(y_vld.shape[0], 100 * metrics.accuracy_score(prediction, y_vld)))"
   ]
  },
  {
   "cell_type": "markdown",
   "metadata": {},
   "source": [
    "#### 4.3 Feature importance\n",
    "학습된 모델은 feature importance를 가지게 되는데, 우리는 이것을 확인하여 지금 만든 모델이 어떤 feature에 영향을 많이 받았는지 확인할 수 있습니다. pandas series를 이용하면 쉽게 sorting하여 그래프를 그릴 수 있습니다."
   ]
  },
  {
   "cell_type": "code",
   "execution_count": 145,
   "metadata": {
    "execution": {
     "iopub.execute_input": "2021-01-19T04:28:39.379545Z",
     "iopub.status.busy": "2021-01-19T04:28:39.379545Z",
     "iopub.status.idle": "2021-01-19T04:28:39.395501Z",
     "shell.execute_reply": "2021-01-19T04:28:39.394506Z",
     "shell.execute_reply.started": "2021-01-19T04:28:39.379545Z"
    }
   },
   "outputs": [],
   "source": [
    "feature_importance = model.feature_importances_\n",
    "Series_feat_map = Series(feature_importance, index=df_test.columns)"
   ]
  },
  {
   "cell_type": "code",
   "execution_count": 147,
   "metadata": {
    "execution": {
     "iopub.execute_input": "2021-01-19T04:29:33.976986Z",
     "iopub.status.busy": "2021-01-19T04:29:33.976986Z",
     "iopub.status.idle": "2021-01-19T04:29:34.378912Z",
     "shell.execute_reply": "2021-01-19T04:29:34.377915Z",
     "shell.execute_reply.started": "2021-01-19T04:29:33.976986Z"
    }
   },
   "outputs": [
    {
     "data": {
      "image/png": "[encoded data removed]",
      "text/plain": [
       "<Figure size 576x576 with 1 Axes>"
      ]
     },
     "metadata": {
      "needs_background": "light"
     },
     "output_type": "display_data"
    }
   ],
   "source": [
    "plt.figure(figsize=(8, 8))\n",
    "Series_feat_map.sort_values(ascending=True).plot.barh()\n",
    "plt.xlabel('Feature importance')\n",
    "plt.ylabel('Feature')\n",
    "plt.show()"
   ]
  },
  {
   "cell_type": "markdown",
   "metadata": {},
   "source": [
    "우리가 얻은 모델에서는 Fare가 가장 큰 영향력을 가지며, 그 뒤로 Initial_2, Age_cat, Sex가 차례로 높은 중요도를 가집니다. 이는 해당 모델에서의 importance이므로 다른 모델에서는 다른 결과를 가져올 수 있습니다.  \n",
    "\n",
    "이 feature importance를 보고 실제 Fare가 중요한 feature라고 판단을 내릴 수는 있지만, 이것은 결국 모델에 귀속되는 하나의 결론이므로 통계적으로 더 살펴볼 필요가 있습니다.  \n",
    "\n",
    "feature importance를 가지고 정확도가 보다 높은 모델을 얻기 위해 feature selection을 할 수도 있고, 더 빠른 모델을 위해 feature 제거를 할 수 있습니다."
   ]
  },
  {
   "cell_type": "markdown",
   "metadata": {},
   "source": [
    "#### 4.4 Prediction on Test set\n",
    "test set을 모델에 입력하여 생존여부를 예측해보겠습니다. 이 결과는 실제로 submission이므로 결과는 leaderboard에서 확인할 수 있습니다."
   ]
  },
  {
   "cell_type": "code",
   "execution_count": 148,
   "metadata": {
    "execution": {
     "iopub.execute_input": "2021-01-19T04:30:10.364101Z",
     "iopub.status.busy": "2021-01-19T04:30:10.364101Z",
     "iopub.status.idle": "2021-01-19T04:30:10.372057Z",
     "shell.execute_reply": "2021-01-19T04:30:10.371060Z",
     "shell.execute_reply.started": "2021-01-19T04:30:10.364101Z"
    }
   },
   "outputs": [],
   "source": [
    "submission = pd.read_csv('../data/titanic_gender_submission.csv')"
   ]
  },
  {
   "cell_type": "code",
   "execution_count": 149,
   "metadata": {
    "execution": {
     "iopub.execute_input": "2021-01-19T04:30:12.942663Z",
     "iopub.status.busy": "2021-01-19T04:30:12.942663Z",
     "iopub.status.idle": "2021-01-19T04:30:12.951610Z",
     "shell.execute_reply": "2021-01-19T04:30:12.950613Z",
     "shell.execute_reply.started": "2021-01-19T04:30:12.942663Z"
    }
   },
   "outputs": [
    {
     "data": {
      "text/html": [
       "<div>\n",
       "<style scoped>\n",
       "    .dataframe tbody tr th:only-of-type {\n",
       "        vertical-align: middle;\n",
       "    }\n",
       "\n",
       "    .dataframe tbody tr th {\n",
       "        vertical-align: top;\n",
       "    }\n",
       "\n",
       "    .dataframe thead th {\n",
       "        text-align: right;\n",
       "    }\n",
       "</style>\n",
       "<table border=\"1\" class=\"dataframe\">\n",
       "  <thead>\n",
       "    <tr style=\"text-align: right;\">\n",
       "      <th></th>\n",
       "      <th>PassengerId</th>\n",
       "      <th>Survived</th>\n",
       "    </tr>\n",
       "  </thead>\n",
       "  <tbody>\n",
       "    <tr>\n",
       "      <th>0</th>\n",
       "      <td>892</td>\n",
       "      <td>0</td>\n",
       "    </tr>\n",
       "    <tr>\n",
       "      <th>1</th>\n",
       "      <td>893</td>\n",
       "      <td>1</td>\n",
       "    </tr>\n",
       "    <tr>\n",
       "      <th>2</th>\n",
       "      <td>894</td>\n",
       "      <td>0</td>\n",
       "    </tr>\n",
       "  </tbody>\n",
       "</table>\n",
       "</div>"
      ],
      "text/plain": [
       "   PassengerId  Survived\n",
       "0          892         0\n",
       "1          893         1\n",
       "2          894         0"
      ]
     },
     "execution_count": 149,
     "metadata": {},
     "output_type": "execute_result"
    }
   ],
   "source": [
    "submission.head(3)"
   ]
  },
  {
   "cell_type": "code",
   "execution_count": 150,
   "metadata": {
    "execution": {
     "iopub.execute_input": "2021-01-19T04:30:33.141360Z",
     "iopub.status.busy": "2021-01-19T04:30:33.140364Z",
     "iopub.status.idle": "2021-01-19T04:30:33.163300Z",
     "shell.execute_reply": "2021-01-19T04:30:33.162324Z",
     "shell.execute_reply.started": "2021-01-19T04:30:33.141360Z"
    }
   },
   "outputs": [],
   "source": [
    "prediction = model.predict(x_test)\n",
    "submission['Survived'] = prediction"
   ]
  },
  {
   "cell_type": "code",
   "execution_count": 151,
   "metadata": {
    "execution": {
     "iopub.execute_input": "2021-01-19T04:30:33.974196Z",
     "iopub.status.busy": "2021-01-19T04:30:33.974196Z",
     "iopub.status.idle": "2021-01-19T04:30:33.982174Z",
     "shell.execute_reply": "2021-01-19T04:30:33.982174Z",
     "shell.execute_reply.started": "2021-01-19T04:30:33.974196Z"
    }
   },
   "outputs": [],
   "source": [
    "submission.to_csv('../data/submission_titanic.csv', index=False)"
   ]
  },
  {
   "cell_type": "code",
   "execution_count": null,
   "metadata": {},
   "outputs": [],
   "source": []
  }
 ],
 "metadata": {
  "kernelspec": {
   "display_name": "Python 3",
   "language": "python",
   "name": "python3"
  },
  "language_info": {
   "codemirror_mode": {
    "name": "ipython",
    "version": 3
   },
   "file_extension": ".py",
   "mimetype": "text/x-python",
   "name": "python",
   "nbconvert_exporter": "python",
   "pygments_lexer": "ipython3",
   "version": "3.8.5"
  }
 },
 "nbformat": 4,
 "nbformat_minor": 4
}
