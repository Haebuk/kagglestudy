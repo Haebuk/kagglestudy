{
 "cells": [
  {
   "cell_type": "markdown",
   "id": "instrumental-rubber",
   "metadata": {},
   "source": [
    "# 타이타닉 튜토리얼 2 - Exploratory data analysis, visualization, machine learning"
   ]
  },
  {
   "cell_type": "markdown",
   "id": "involved-marble",
   "metadata": {},
   "source": [
    "참고 : https://kaggle-kr.tistory.com/18?category=868316"
   ]
  },
  {
   "cell_type": "code",
   "execution_count": 1,
   "id": "antique-brooklyn",
   "metadata": {
    "ExecuteTime": {
     "end_time": "2021-01-19T11:08:36.055506Z",
     "start_time": "2021-01-19T11:08:32.549395Z"
    }
   },
   "outputs": [],
   "source": [
    "import numpy as np\n",
    "import pandas as pd\n",
    "from pandas import Series\n",
    "import matplotlib.pyplot as plt\n",
    "import seaborn as sns"
   ]
  },
  {
   "cell_type": "code",
   "execution_count": 2,
   "id": "organic-master",
   "metadata": {
    "ExecuteTime": {
     "end_time": "2021-01-19T11:08:36.274928Z",
     "start_time": "2021-01-19T11:08:36.057509Z"
    }
   },
   "outputs": [
    {
     "data": {
      "text/html": [
       "        <script type=\"text/javascript\">\n",
       "        window.PlotlyConfig = {MathJaxConfig: 'local'};\n",
       "        if (window.MathJax) {MathJax.Hub.Config({SVG: {font: \"STIX-Web\"}});}\n",
       "        if (typeof require !== 'undefined') {\n",
       "        require.undef(\"plotly\");\n",
       "        requirejs.config({\n",
       "            paths: {\n",
       "                'plotly': ['https://cdn.plot.ly/plotly-latest.min']\n",
       "            }\n",
       "        });\n",
       "        require(['plotly'], function(Plotly) {\n",
       "            window._Plotly = Plotly;\n",
       "        });\n",
       "        }\n",
       "        </script>\n",
       "        "
      ]
     },
     "metadata": {},
     "output_type": "display_data"
    }
   ],
   "source": [
    "plt.style.use('seaborn')\n",
    "sns.set(font_scale=2.5)\n",
    "import plotly.offline as py\n",
    "py.init_notebook_mode(connected=True)\n",
    "import plotly.graph_objs as go\n",
    "import plotly.tools as tls\n",
    "\n",
    "#ignore warnings\n",
    "import warnings\n",
    "warnings.filterwarnings('ignore')\n",
    "\n",
    "%matplotlib inline"
   ]
  },
  {
   "cell_type": "code",
   "execution_count": 3,
   "id": "improving-briefs",
   "metadata": {
    "ExecuteTime": {
     "end_time": "2021-01-19T11:08:36.321800Z",
     "start_time": "2021-01-19T11:08:36.277919Z"
    }
   },
   "outputs": [],
   "source": [
    "df_train = pd.read_csv('train.csv')\n",
    "df_test = pd.read_csv('test.csv')\n",
    "df_train['FamilySize'] = df_train['SibSp'] + df_train['Parch'] + 1\n",
    "df_test['FamilySize'] = df_test['SibSp'] + df_test['Parch'] + 1\n",
    "\n",
    "df_test.loc[df_test.Fare.isnull(), 'Fare'] = df_test['Fare'].mean()\n",
    "\n",
    "df_train['Fare'] = df_train['Fare'].map(lambda i:np.log(i) if i>0 else 0)\n",
    "df_test['Fare'] = df_test['Fare'].map(lambda i:np.log(i) if i>0 else 0)"
   ]
  },
  {
   "cell_type": "markdown",
   "id": "statutory-barrier",
   "metadata": {},
   "source": [
    "# 1st"
   ]
  },
  {
   "cell_type": "markdown",
   "id": "hindu-quilt",
   "metadata": {},
   "source": [
    "# 3. Feature engineering"
   ]
  },
  {
   "cell_type": "markdown",
   "id": "sexual-corporation",
   "metadata": {},
   "source": [
    "- 본격적인 feature engineering을 시작해보겠습니다.\n",
    "- 가장 먼저, dataset에 존재하는 null data를 채우려고 합니다.\n",
    "- 아무 숫자로 채울 수는 없고, null data를 포함하는 feature의 statistics를 참고하거나 다른 아이디어로 채울 수 있습니다.\n",
    "- null data를 어떻게 채우느냐에 따라 모델의 성능이 달라질 수 있기 때문에 신경써야 합니다.\n",
    "- Feature engineering은 실제 모델의 학습에 쓰려고 하는 것이므로 train 뿐만 아니라 test도 똑같이 적용해주어야합니다."
   ]
  },
  {
   "cell_type": "markdown",
   "id": "manual-spoke",
   "metadata": {},
   "source": [
    "## 3.1 Fill Null"
   ]
  },
  {
   "cell_type": "markdown",
   "id": "heard-disposition",
   "metadata": {},
   "source": [
    "### 3.1.1. Fill Null in Age using title"
   ]
  },
  {
   "cell_type": "markdown",
   "id": "color-being",
   "metadata": {},
   "source": [
    "- Age에는 null data가 177개나 있습니다. 이를 채울 수 있는 여러 아이디어가 있는데 우리는 title + statistics를 사용해보겠습니다.\n",
    "- 영어에서는 Miss, Mrr, Mrs 같은 title이 존재합니다. 각 탑승객의 이름에는 꼭 이런 title이 들어가는데 이를 사용해보겠습니다.\n",
    "- pandas series에는 data를 string으로 바꿔주는 str method, 정규표현식을 적용하는 extract method가 있습니다. 이를 사용해 title을 쉽게 추출할 수 있습니다. title을 initial column에 저장하겠습니다."
   ]
  },
  {
   "cell_type": "code",
   "execution_count": 4,
   "id": "auburn-acrylic",
   "metadata": {
    "ExecuteTime": {
     "end_time": "2021-01-19T11:08:36.337758Z",
     "start_time": "2021-01-19T11:08:36.324794Z"
    }
   },
   "outputs": [],
   "source": [
    "df_train['Initial'] = df_train.Name.str.extract('([A-Za-z]+)\\.')   #Lets extract the Salutations\n",
    "df_test['Initial'] = df_test.Name.str.extract('([A-Za-z]+)\\.')"
   ]
  },
  {
   "cell_type": "markdown",
   "id": "existing-potato",
   "metadata": {},
   "source": [
    "pandas의 crosstab을 이용해 우리가 추출한 Initial과 Sex간 count를 살펴봅시다."
   ]
  },
  {
   "cell_type": "code",
   "execution_count": 5,
   "id": "industrial-discount",
   "metadata": {
    "ExecuteTime": {
     "end_time": "2021-01-19T11:08:36.827449Z",
     "start_time": "2021-01-19T11:08:36.342745Z"
    }
   },
   "outputs": [
    {
     "data": {
      "text/html": [
       "<style  type=\"text/css\" >\n",
       "#T_adf7c_row0_col0,#T_adf7c_row0_col1,#T_adf7c_row0_col3,#T_adf7c_row0_col4,#T_adf7c_row0_col5,#T_adf7c_row0_col7,#T_adf7c_row0_col8,#T_adf7c_row0_col12,#T_adf7c_row0_col15,#T_adf7c_row0_col16,#T_adf7c_row1_col2,#T_adf7c_row1_col6,#T_adf7c_row1_col9,#T_adf7c_row1_col10,#T_adf7c_row1_col11,#T_adf7c_row1_col13,#T_adf7c_row1_col14{\n",
       "            background-color:  #ffff66;\n",
       "            color:  #000000;\n",
       "        }#T_adf7c_row0_col2,#T_adf7c_row0_col6,#T_adf7c_row0_col9,#T_adf7c_row0_col10,#T_adf7c_row0_col11,#T_adf7c_row0_col13,#T_adf7c_row0_col14,#T_adf7c_row1_col0,#T_adf7c_row1_col1,#T_adf7c_row1_col3,#T_adf7c_row1_col4,#T_adf7c_row1_col5,#T_adf7c_row1_col7,#T_adf7c_row1_col8,#T_adf7c_row1_col12,#T_adf7c_row1_col15,#T_adf7c_row1_col16{\n",
       "            background-color:  #008066;\n",
       "            color:  #f1f1f1;\n",
       "        }</style><table id=\"T_adf7c_\" ><thead>    <tr>        <th class=\"index_name level0\" >Initial</th>        <th class=\"col_heading level0 col0\" >Capt</th>        <th class=\"col_heading level0 col1\" >Col</th>        <th class=\"col_heading level0 col2\" >Countess</th>        <th class=\"col_heading level0 col3\" >Don</th>        <th class=\"col_heading level0 col4\" >Dr</th>        <th class=\"col_heading level0 col5\" >Jonkheer</th>        <th class=\"col_heading level0 col6\" >Lady</th>        <th class=\"col_heading level0 col7\" >Major</th>        <th class=\"col_heading level0 col8\" >Master</th>        <th class=\"col_heading level0 col9\" >Miss</th>        <th class=\"col_heading level0 col10\" >Mlle</th>        <th class=\"col_heading level0 col11\" >Mme</th>        <th class=\"col_heading level0 col12\" >Mr</th>        <th class=\"col_heading level0 col13\" >Mrs</th>        <th class=\"col_heading level0 col14\" >Ms</th>        <th class=\"col_heading level0 col15\" >Rev</th>        <th class=\"col_heading level0 col16\" >Sir</th>    </tr>    <tr>        <th class=\"index_name level0\" >Sex</th>        <th class=\"blank\" ></th>        <th class=\"blank\" ></th>        <th class=\"blank\" ></th>        <th class=\"blank\" ></th>        <th class=\"blank\" ></th>        <th class=\"blank\" ></th>        <th class=\"blank\" ></th>        <th class=\"blank\" ></th>        <th class=\"blank\" ></th>        <th class=\"blank\" ></th>        <th class=\"blank\" ></th>        <th class=\"blank\" ></th>        <th class=\"blank\" ></th>        <th class=\"blank\" ></th>        <th class=\"blank\" ></th>        <th class=\"blank\" ></th>        <th class=\"blank\" ></th>    </tr></thead><tbody>\n",
       "                <tr>\n",
       "                        <th id=\"T_adf7c_level0_row0\" class=\"row_heading level0 row0\" >female</th>\n",
       "                        <td id=\"T_adf7c_row0_col0\" class=\"data row0 col0\" >0</td>\n",
       "                        <td id=\"T_adf7c_row0_col1\" class=\"data row0 col1\" >0</td>\n",
       "                        <td id=\"T_adf7c_row0_col2\" class=\"data row0 col2\" >1</td>\n",
       "                        <td id=\"T_adf7c_row0_col3\" class=\"data row0 col3\" >0</td>\n",
       "                        <td id=\"T_adf7c_row0_col4\" class=\"data row0 col4\" >1</td>\n",
       "                        <td id=\"T_adf7c_row0_col5\" class=\"data row0 col5\" >0</td>\n",
       "                        <td id=\"T_adf7c_row0_col6\" class=\"data row0 col6\" >1</td>\n",
       "                        <td id=\"T_adf7c_row0_col7\" class=\"data row0 col7\" >0</td>\n",
       "                        <td id=\"T_adf7c_row0_col8\" class=\"data row0 col8\" >0</td>\n",
       "                        <td id=\"T_adf7c_row0_col9\" class=\"data row0 col9\" >182</td>\n",
       "                        <td id=\"T_adf7c_row0_col10\" class=\"data row0 col10\" >2</td>\n",
       "                        <td id=\"T_adf7c_row0_col11\" class=\"data row0 col11\" >1</td>\n",
       "                        <td id=\"T_adf7c_row0_col12\" class=\"data row0 col12\" >0</td>\n",
       "                        <td id=\"T_adf7c_row0_col13\" class=\"data row0 col13\" >125</td>\n",
       "                        <td id=\"T_adf7c_row0_col14\" class=\"data row0 col14\" >1</td>\n",
       "                        <td id=\"T_adf7c_row0_col15\" class=\"data row0 col15\" >0</td>\n",
       "                        <td id=\"T_adf7c_row0_col16\" class=\"data row0 col16\" >0</td>\n",
       "            </tr>\n",
       "            <tr>\n",
       "                        <th id=\"T_adf7c_level0_row1\" class=\"row_heading level0 row1\" >male</th>\n",
       "                        <td id=\"T_adf7c_row1_col0\" class=\"data row1 col0\" >1</td>\n",
       "                        <td id=\"T_adf7c_row1_col1\" class=\"data row1 col1\" >2</td>\n",
       "                        <td id=\"T_adf7c_row1_col2\" class=\"data row1 col2\" >0</td>\n",
       "                        <td id=\"T_adf7c_row1_col3\" class=\"data row1 col3\" >1</td>\n",
       "                        <td id=\"T_adf7c_row1_col4\" class=\"data row1 col4\" >6</td>\n",
       "                        <td id=\"T_adf7c_row1_col5\" class=\"data row1 col5\" >1</td>\n",
       "                        <td id=\"T_adf7c_row1_col6\" class=\"data row1 col6\" >0</td>\n",
       "                        <td id=\"T_adf7c_row1_col7\" class=\"data row1 col7\" >2</td>\n",
       "                        <td id=\"T_adf7c_row1_col8\" class=\"data row1 col8\" >40</td>\n",
       "                        <td id=\"T_adf7c_row1_col9\" class=\"data row1 col9\" >0</td>\n",
       "                        <td id=\"T_adf7c_row1_col10\" class=\"data row1 col10\" >0</td>\n",
       "                        <td id=\"T_adf7c_row1_col11\" class=\"data row1 col11\" >0</td>\n",
       "                        <td id=\"T_adf7c_row1_col12\" class=\"data row1 col12\" >517</td>\n",
       "                        <td id=\"T_adf7c_row1_col13\" class=\"data row1 col13\" >0</td>\n",
       "                        <td id=\"T_adf7c_row1_col14\" class=\"data row1 col14\" >0</td>\n",
       "                        <td id=\"T_adf7c_row1_col15\" class=\"data row1 col15\" >6</td>\n",
       "                        <td id=\"T_adf7c_row1_col16\" class=\"data row1 col16\" >1</td>\n",
       "            </tr>\n",
       "    </tbody></table>"
      ],
      "text/plain": [
       "<pandas.io.formats.style.Styler at 0x2b81de18c70>"
      ]
     },
     "execution_count": 5,
     "metadata": {},
     "output_type": "execute_result"
    }
   ],
   "source": [
    "pd.crosstab(df_train['Initial'], df_train['Sex']).T.style.background_gradient(cmap='summer_r')  #Checking the Initials with the Sex"
   ]
  },
  {
   "cell_type": "markdown",
   "id": "surprised-directory",
   "metadata": {},
   "source": [
    "위 table을 참고하여 여자, 남자가 쓰는 initial을 구분해보겠습니다. replace 메소드를 사용하면 특정 데이터 값을 원하는 값으로 치환해줍니다."
   ]
  },
  {
   "cell_type": "code",
   "execution_count": 6,
   "id": "former-action",
   "metadata": {
    "ExecuteTime": {
     "end_time": "2021-01-19T11:08:36.858366Z",
     "start_time": "2021-01-19T11:08:36.830443Z"
    }
   },
   "outputs": [],
   "source": [
    "df_train['Initial'].replace(['Mlle','Mme','Ms','Dr','Major','Lady','Countess','Jonkheer','Col','Rev','Capt','Sir','Don', 'Dona'],\n",
    "                           ['Miss','Miss','Miss','Mr','Mr','Mrs','Mrs','Other','Other','Other','Mr','Mr','Mr', 'Mr'],\n",
    "                            inplace=True)\n",
    "df_test['Initial'].replace(['Mlle','Mme','Ms','Dr','Major','Lady','Countess','JonKheer','Col','Rev','Capt','Sir','Don','Dona'],\n",
    "                           ['Miss','Miss','Miss','Mr','Mr','Mrs','Mrs','Other','Other','Other','Mr','Mr','Mr','Mr'],\n",
    "                           inplace = True)"
   ]
  },
  {
   "cell_type": "code",
   "execution_count": 7,
   "id": "educated-manhattan",
   "metadata": {
    "ExecuteTime": {
     "end_time": "2021-01-19T11:08:36.905242Z",
     "start_time": "2021-01-19T11:08:36.863354Z"
    }
   },
   "outputs": [
    {
     "data": {
      "text/html": [
       "<div>\n",
       "<style scoped>\n",
       "    .dataframe tbody tr th:only-of-type {\n",
       "        vertical-align: middle;\n",
       "    }\n",
       "\n",
       "    .dataframe tbody tr th {\n",
       "        vertical-align: top;\n",
       "    }\n",
       "\n",
       "    .dataframe thead th {\n",
       "        text-align: right;\n",
       "    }\n",
       "</style>\n",
       "<table border=\"1\" class=\"dataframe\">\n",
       "  <thead>\n",
       "    <tr style=\"text-align: right;\">\n",
       "      <th></th>\n",
       "      <th>PassengerId</th>\n",
       "      <th>Survived</th>\n",
       "      <th>Pclass</th>\n",
       "      <th>Age</th>\n",
       "      <th>SibSp</th>\n",
       "      <th>Parch</th>\n",
       "      <th>Fare</th>\n",
       "      <th>FamilySize</th>\n",
       "    </tr>\n",
       "    <tr>\n",
       "      <th>Initial</th>\n",
       "      <th></th>\n",
       "      <th></th>\n",
       "      <th></th>\n",
       "      <th></th>\n",
       "      <th></th>\n",
       "      <th></th>\n",
       "      <th></th>\n",
       "      <th></th>\n",
       "    </tr>\n",
       "  </thead>\n",
       "  <tbody>\n",
       "    <tr>\n",
       "      <th>Master</th>\n",
       "      <td>414.975000</td>\n",
       "      <td>0.575000</td>\n",
       "      <td>2.625000</td>\n",
       "      <td>4.574167</td>\n",
       "      <td>2.300000</td>\n",
       "      <td>1.375000</td>\n",
       "      <td>3.340710</td>\n",
       "      <td>4.675000</td>\n",
       "    </tr>\n",
       "    <tr>\n",
       "      <th>Miss</th>\n",
       "      <td>411.741935</td>\n",
       "      <td>0.704301</td>\n",
       "      <td>2.284946</td>\n",
       "      <td>21.860000</td>\n",
       "      <td>0.698925</td>\n",
       "      <td>0.537634</td>\n",
       "      <td>3.123713</td>\n",
       "      <td>2.236559</td>\n",
       "    </tr>\n",
       "    <tr>\n",
       "      <th>Mr</th>\n",
       "      <td>455.880907</td>\n",
       "      <td>0.162571</td>\n",
       "      <td>2.381853</td>\n",
       "      <td>32.739609</td>\n",
       "      <td>0.293006</td>\n",
       "      <td>0.151229</td>\n",
       "      <td>2.651507</td>\n",
       "      <td>1.444234</td>\n",
       "    </tr>\n",
       "    <tr>\n",
       "      <th>Mrs</th>\n",
       "      <td>456.393701</td>\n",
       "      <td>0.795276</td>\n",
       "      <td>1.984252</td>\n",
       "      <td>35.981818</td>\n",
       "      <td>0.692913</td>\n",
       "      <td>0.818898</td>\n",
       "      <td>3.443751</td>\n",
       "      <td>2.511811</td>\n",
       "    </tr>\n",
       "    <tr>\n",
       "      <th>Other</th>\n",
       "      <td>564.444444</td>\n",
       "      <td>0.111111</td>\n",
       "      <td>1.666667</td>\n",
       "      <td>45.888889</td>\n",
       "      <td>0.111111</td>\n",
       "      <td>0.111111</td>\n",
       "      <td>2.641605</td>\n",
       "      <td>1.222222</td>\n",
       "    </tr>\n",
       "  </tbody>\n",
       "</table>\n",
       "</div>"
      ],
      "text/plain": [
       "         PassengerId  Survived    Pclass        Age     SibSp     Parch  \\\n",
       "Initial                                                                   \n",
       "Master    414.975000  0.575000  2.625000   4.574167  2.300000  1.375000   \n",
       "Miss      411.741935  0.704301  2.284946  21.860000  0.698925  0.537634   \n",
       "Mr        455.880907  0.162571  2.381853  32.739609  0.293006  0.151229   \n",
       "Mrs       456.393701  0.795276  1.984252  35.981818  0.692913  0.818898   \n",
       "Other     564.444444  0.111111  1.666667  45.888889  0.111111  0.111111   \n",
       "\n",
       "             Fare  FamilySize  \n",
       "Initial                        \n",
       "Master   3.340710    4.675000  \n",
       "Miss     3.123713    2.236559  \n",
       "Mr       2.651507    1.444234  \n",
       "Mrs      3.443751    2.511811  \n",
       "Other    2.641605    1.222222  "
      ]
     },
     "execution_count": 7,
     "metadata": {},
     "output_type": "execute_result"
    }
   ],
   "source": [
    "df_train.groupby('Initial').mean()"
   ]
  },
  {
   "cell_type": "markdown",
   "id": "lonely-yahoo",
   "metadata": {},
   "source": [
    "여성과 관계있는 Miss, Mr, Mrs가 생존률이 높은 것을 알 수 있습니다."
   ]
  },
  {
   "cell_type": "code",
   "execution_count": 8,
   "id": "administrative-opera",
   "metadata": {
    "ExecuteTime": {
     "end_time": "2021-01-19T11:08:37.234361Z",
     "start_time": "2021-01-19T11:08:36.908234Z"
    }
   },
   "outputs": [
    {
     "data": {
      "text/plain": [
       "<AxesSubplot:xlabel='Initial'>"
      ]
     },
     "execution_count": 8,
     "metadata": {},
     "output_type": "execute_result"
    },
    {
     "data": {
      "image/png": "[encoded data removed]",
      "text/plain": [
       "<Figure size 432x288 with 1 Axes>"
      ]
     },
     "metadata": {
      "needs_background": "light"
     },
     "output_type": "display_data"
    }
   ],
   "source": [
    "df_train.groupby('Initial')['Survived'].mean().plot.bar()"
   ]
  },
  {
   "cell_type": "markdown",
   "id": "comfortable-bandwidth",
   "metadata": {},
   "source": [
    "- 이제 본격적으로 Null을 채웁니다. null data를 채우는 방법은 많습니다. statistics를 활용하거나 null data가 없는 데이터를 기반으로 새로운 머신러닝 알고리즘을 만들어 예측해 채워넣는 방법도 있습니다. 여기선 statistics를 활용하는 방법을 사용할 것입니다.\n",
    "- statistics는 train data의 것을 의미합니다. 우리는 언제나 test를 unseen 으로 둔 상태로 놔둬야 하며, train에서 얻은 statistics를 기반으로 test의 null data를 채워줘야합니다."
   ]
  },
  {
   "cell_type": "code",
   "execution_count": 9,
   "id": "lonely-reception",
   "metadata": {
    "ExecuteTime": {
     "end_time": "2021-01-19T11:08:37.265278Z",
     "start_time": "2021-01-19T11:08:37.238350Z"
    }
   },
   "outputs": [
    {
     "data": {
      "text/html": [
       "<div>\n",
       "<style scoped>\n",
       "    .dataframe tbody tr th:only-of-type {\n",
       "        vertical-align: middle;\n",
       "    }\n",
       "\n",
       "    .dataframe tbody tr th {\n",
       "        vertical-align: top;\n",
       "    }\n",
       "\n",
       "    .dataframe thead th {\n",
       "        text-align: right;\n",
       "    }\n",
       "</style>\n",
       "<table border=\"1\" class=\"dataframe\">\n",
       "  <thead>\n",
       "    <tr style=\"text-align: right;\">\n",
       "      <th></th>\n",
       "      <th>PassengerId</th>\n",
       "      <th>Survived</th>\n",
       "      <th>Pclass</th>\n",
       "      <th>Age</th>\n",
       "      <th>SibSp</th>\n",
       "      <th>Parch</th>\n",
       "      <th>Fare</th>\n",
       "      <th>FamilySize</th>\n",
       "    </tr>\n",
       "    <tr>\n",
       "      <th>Initial</th>\n",
       "      <th></th>\n",
       "      <th></th>\n",
       "      <th></th>\n",
       "      <th></th>\n",
       "      <th></th>\n",
       "      <th></th>\n",
       "      <th></th>\n",
       "      <th></th>\n",
       "    </tr>\n",
       "  </thead>\n",
       "  <tbody>\n",
       "    <tr>\n",
       "      <th>Master</th>\n",
       "      <td>414.975000</td>\n",
       "      <td>0.575000</td>\n",
       "      <td>2.625000</td>\n",
       "      <td>4.574167</td>\n",
       "      <td>2.300000</td>\n",
       "      <td>1.375000</td>\n",
       "      <td>3.340710</td>\n",
       "      <td>4.675000</td>\n",
       "    </tr>\n",
       "    <tr>\n",
       "      <th>Miss</th>\n",
       "      <td>411.741935</td>\n",
       "      <td>0.704301</td>\n",
       "      <td>2.284946</td>\n",
       "      <td>21.860000</td>\n",
       "      <td>0.698925</td>\n",
       "      <td>0.537634</td>\n",
       "      <td>3.123713</td>\n",
       "      <td>2.236559</td>\n",
       "    </tr>\n",
       "    <tr>\n",
       "      <th>Mr</th>\n",
       "      <td>455.880907</td>\n",
       "      <td>0.162571</td>\n",
       "      <td>2.381853</td>\n",
       "      <td>32.739609</td>\n",
       "      <td>0.293006</td>\n",
       "      <td>0.151229</td>\n",
       "      <td>2.651507</td>\n",
       "      <td>1.444234</td>\n",
       "    </tr>\n",
       "    <tr>\n",
       "      <th>Mrs</th>\n",
       "      <td>456.393701</td>\n",
       "      <td>0.795276</td>\n",
       "      <td>1.984252</td>\n",
       "      <td>35.981818</td>\n",
       "      <td>0.692913</td>\n",
       "      <td>0.818898</td>\n",
       "      <td>3.443751</td>\n",
       "      <td>2.511811</td>\n",
       "    </tr>\n",
       "    <tr>\n",
       "      <th>Other</th>\n",
       "      <td>564.444444</td>\n",
       "      <td>0.111111</td>\n",
       "      <td>1.666667</td>\n",
       "      <td>45.888889</td>\n",
       "      <td>0.111111</td>\n",
       "      <td>0.111111</td>\n",
       "      <td>2.641605</td>\n",
       "      <td>1.222222</td>\n",
       "    </tr>\n",
       "  </tbody>\n",
       "</table>\n",
       "</div>"
      ],
      "text/plain": [
       "         PassengerId  Survived    Pclass        Age     SibSp     Parch  \\\n",
       "Initial                                                                   \n",
       "Master    414.975000  0.575000  2.625000   4.574167  2.300000  1.375000   \n",
       "Miss      411.741935  0.704301  2.284946  21.860000  0.698925  0.537634   \n",
       "Mr        455.880907  0.162571  2.381853  32.739609  0.293006  0.151229   \n",
       "Mrs       456.393701  0.795276  1.984252  35.981818  0.692913  0.818898   \n",
       "Other     564.444444  0.111111  1.666667  45.888889  0.111111  0.111111   \n",
       "\n",
       "             Fare  FamilySize  \n",
       "Initial                        \n",
       "Master   3.340710    4.675000  \n",
       "Miss     3.123713    2.236559  \n",
       "Mr       2.651507    1.444234  \n",
       "Mrs      3.443751    2.511811  \n",
       "Other    2.641605    1.222222  "
      ]
     },
     "execution_count": 9,
     "metadata": {},
     "output_type": "execute_result"
    }
   ],
   "source": [
    "df_train.groupby('Initial').mean()"
   ]
  },
  {
   "cell_type": "markdown",
   "id": "behavioral-moral",
   "metadata": {},
   "source": [
    "- Age의 평균을 이용해 Null value를 채우도록 하겠습니다.\n",
    "- pandas dataframe을 다룰 땐 boolean array를 이용해 indexing하는 방법이 편리합니다.\n",
    "- 아래 코드 첫줄을 해석하자면, isnull()이면서 Initial이 Mr인 조건을 만족하는 row(탑승객)의 'Age'의 값을 33으로 치환하는 것입니다.\n",
    "- loc + boolean + column을 사용해 값을 치환하는 방법은 자주 쓰이므로 익숙해집니다."
   ]
  },
  {
   "cell_type": "code",
   "execution_count": 10,
   "id": "parallel-rugby",
   "metadata": {
    "ExecuteTime": {
     "end_time": "2021-01-19T11:08:37.312153Z",
     "start_time": "2021-01-19T11:08:37.268271Z"
    }
   },
   "outputs": [],
   "source": [
    "df_train.loc[(df_train.Age.isnull())&(df_train.Initial=='Mr'),'Age'] = 33\n",
    "df_train.loc[(df_train.Age.isnull())&(df_train.Initial=='Mrs'),'Age'] = 36\n",
    "df_train.loc[(df_train.Age.isnull())&(df_train.Initial=='Master'),'Age'] = 5\n",
    "df_train.loc[(df_train.Age.isnull())&(df_train.Initial=='Miss'),'Age'] = 22\n",
    "df_train.loc[(df_train.Age.isnull())&(df_train.Initial=='Other'),'Age'] = 46\n",
    "\n",
    "df_test.loc[(df_test.Age.isnull())&(df_test.Initial=='Mr'),'Age'] = 33\n",
    "df_test.loc[(df_test.Age.isnull())&(df_train.Initial=='Mrs'),'Age'] = 36\n",
    "df_test.loc[(df_test.Age.isnull())&(df_train.Initial=='Master'),'Age'] = 5\n",
    "df_test.loc[(df_test.Age.isnull())&(df_train.Initial=='Miss'),'Age'] = 22\n",
    "df_test.loc[(df_test.Age.isnull())&(df_train.Initial=='Other'),'Age'] = 46"
   ]
  },
  {
   "cell_type": "markdown",
   "id": "human-earthquake",
   "metadata": {},
   "source": [
    "여기선 간단히 Null을 채웠지만 다양한 방법을 알고 싶다면 https://www.kaggle.com/yassineghouzam/titanic-top-4-with-ensemble-modeling 참고"
   ]
  },
  {
   "cell_type": "markdown",
   "id": "still-orange",
   "metadata": {},
   "source": [
    "### 3.1.2 Fill Null in Embarked"
   ]
  },
  {
   "cell_type": "code",
   "execution_count": 11,
   "id": "religious-fifteen",
   "metadata": {
    "ExecuteTime": {
     "end_time": "2021-01-19T11:08:37.328110Z",
     "start_time": "2021-01-19T11:08:37.314148Z"
    }
   },
   "outputs": [
    {
     "name": "stdout",
     "output_type": "stream",
     "text": [
      "Embarked has  2  Null values\n"
     ]
    }
   ],
   "source": [
    "print('Embarked has ', sum(df_train['Embarked'].isnull()), ' Null values')"
   ]
  },
  {
   "cell_type": "markdown",
   "id": "young-induction",
   "metadata": {},
   "source": [
    "- Embarked는 Null value가 2개고, S에서 가장 많은 탑승객이 있었으므로 간단히 null을 S로 채우겠습니다.\n",
    "- dataframe의 fillna method를 이용하면 쉽게 채울 수 있습니다. 여기서 inplace=True로 하면 df_train에 fillna를 실제로 적용하게 됩니다."
   ]
  },
  {
   "cell_type": "code",
   "execution_count": 12,
   "id": "conceptual-violence",
   "metadata": {
    "ExecuteTime": {
     "end_time": "2021-01-19T11:08:37.343070Z",
     "start_time": "2021-01-19T11:08:37.330105Z"
    }
   },
   "outputs": [],
   "source": [
    "df_train['Embarked'].fillna('S',inplace=True)"
   ]
  },
  {
   "cell_type": "markdown",
   "id": "interracial-enough",
   "metadata": {},
   "source": [
    "## 3.2 Change Age (continuous to categorical)"
   ]
  },
  {
   "cell_type": "markdown",
   "id": "supreme-irrigation",
   "metadata": {},
   "source": [
    "- Age는 현재 continuous feature입니다. 이대로 써도 모델을 세울 수 있지만, Age를 몇 개의 group으로 나누어 cagetory화 시켜줄 수도 있습니다. countinuous를 categorical로 바꾸면 자칫 information loss가 생길 수도 있지만, 다양한 방법을 소개하는 것이 목적이므로 진행하도록 하겠습니다.\n",
    "- dataframe의 indexing 방법인 loc를 사용해 직접 해줄 수 있고, apply를 사용해 함수를 넣어줄 수도 있습니다.\n",
    "- 첫번째로 loc를 사용한 방법입니다. loc는 자주 쓰게 됩니다.\n",
    "- 나이는 10살 간격으로 나누겠습니다."
   ]
  },
  {
   "cell_type": "code",
   "execution_count": 13,
   "id": "equal-cross",
   "metadata": {
    "ExecuteTime": {
     "end_time": "2021-01-19T11:08:37.390944Z",
     "start_time": "2021-01-19T11:08:37.345065Z"
    }
   },
   "outputs": [],
   "source": [
    "df_train['Age_cat'] = 0\n",
    "df_train.loc[df_train['Age']<10,'Age_cat'] = 0\n",
    "df_train.loc[(10<=df_train['Age']) & (df_train['Age']<20), 'Age_cat'] = 1\n",
    "df_train.loc[(20<=df_train['Age']) & (df_train['Age']<30), 'Age_cat'] = 2\n",
    "df_train.loc[(30<=df_train['Age']) & (df_train['Age']<40), 'Age_cat'] = 3\n",
    "df_train.loc[(40<=df_train['Age']) & (df_train['Age']<50), 'Age_cat'] = 4\n",
    "df_train.loc[(50<=df_train['Age']) & (df_train['Age']<60), 'Age_cat'] = 5\n",
    "df_train.loc[(60<=df_train['Age']) & (df_train['Age']<70), 'Age_cat'] = 6\n",
    "df_train.loc[(70<=df_train['Age'], 'Age_cat')] = 7\n",
    "\n",
    "df_test['Age_cat'] = 0\n",
    "df_test.loc[df_train['Age']<10,'Age_cat'] = 0\n",
    "df_test.loc[(10<=df_test['Age']) & (df_test['Age']<20), 'Age_cat'] = 1\n",
    "df_test.loc[(20<=df_test['Age']) & (df_test['Age']<30), 'Age_cat'] = 2\n",
    "df_test.loc[(30<=df_test['Age']) & (df_test['Age']<40), 'Age_cat'] = 3\n",
    "df_test.loc[(40<=df_test['Age']) & (df_test['Age']<50), 'Age_cat'] = 4\n",
    "df_test.loc[(50<=df_test['Age']) & (df_test['Age']<60), 'Age_cat'] = 5\n",
    "df_test.loc[(60<=df_test['Age']) & (df_test['Age']<70), 'Age_cat'] = 6\n",
    "df_test.loc[(70<=df_test['Age'], 'Age_cat')] = 7"
   ]
  },
  {
   "cell_type": "markdown",
   "id": "effective-metro",
   "metadata": {},
   "source": [
    "아래는 두번째 방법인, 간단한 함수를 만들어 apply 메소드를 넣어주는 방법입니다. 훨씬 수월합니다."
   ]
  },
  {
   "cell_type": "code",
   "execution_count": 14,
   "id": "prescribed-public",
   "metadata": {
    "ExecuteTime": {
     "end_time": "2021-01-19T11:08:37.406900Z",
     "start_time": "2021-01-19T11:08:37.392938Z"
    }
   },
   "outputs": [],
   "source": [
    "def category_age(x):\n",
    "    if x<10:\n",
    "        return 0\n",
    "    elif x<20:\n",
    "        return 1\n",
    "    elif x<30:\n",
    "        return 2\n",
    "    elif x<40:\n",
    "        return 3\n",
    "    elif x<50:\n",
    "        return 4\n",
    "    elif x<60:\n",
    "        return 5\n",
    "    elif x<70:\n",
    "        return 6\n",
    "    else:\n",
    "        return 7\n",
    "    \n",
    "df_train['Age_cat_2'] = df_train['Age'].apply(category_age)"
   ]
  },
  {
   "cell_type": "markdown",
   "id": "comic-cuisine",
   "metadata": {},
   "source": [
    "- 두가지 방법이 잘 적용됐다면, 둘 다 같은 결과를 내야합니다.\n",
    "- 이를 확인하기 위해 Series 간 boolean 비교 후 all() 메소드를 사용합니다. all()메소드는 모든 값이 True면 True, 하나라도 False가 있으면 False를 줍니다."
   ]
  },
  {
   "cell_type": "code",
   "execution_count": 15,
   "id": "rocky-accounting",
   "metadata": {
    "ExecuteTime": {
     "end_time": "2021-01-19T11:08:37.422857Z",
     "start_time": "2021-01-19T11:08:37.409892Z"
    }
   },
   "outputs": [
    {
     "name": "stdout",
     "output_type": "stream",
     "text": [
      "1번 방법, 2번 방법 같은 결과를 내면 True 줘야함 ->  True\n"
     ]
    }
   ],
   "source": [
    "print('1번 방법, 2번 방법 같은 결과를 내면 True 줘야함 -> ',\n",
    "     (df_train['Age_cat']==df_train['Age_cat_2']).all())"
   ]
  },
  {
   "cell_type": "markdown",
   "id": "incorporated-maximum",
   "metadata": {},
   "source": [
    "이제 중복되는 Age_cat 칼럼과 원래 칼럼 Age를 제거하겠습니다."
   ]
  },
  {
   "cell_type": "code",
   "execution_count": 16,
   "id": "verbal-force",
   "metadata": {
    "ExecuteTime": {
     "end_time": "2021-01-19T11:08:37.438814Z",
     "start_time": "2021-01-19T11:08:37.424852Z"
    }
   },
   "outputs": [],
   "source": [
    "df_train.drop(['Age','Age_cat_2'], axis=1, inplace=True)\n",
    "df_test.drop(['Age'],axis=1,inplace=True)"
   ]
  },
  {
   "cell_type": "markdown",
   "id": "aging-terror",
   "metadata": {},
   "source": [
    "## 3.3 Change Initial, Embarked and Sex (string to numerical)"
   ]
  },
  {
   "cell_type": "markdown",
   "id": "private-athletics",
   "metadata": {},
   "source": [
    "- 현재 Initial은 Mr, Mrs, Miss, Master, Other 총 5개로 이뤄져있습니다. 이런 카테고리로 표현된 데이터를 모델에 인풋으로 넣어줄 때 해야할 것은 먼저 컴퓨터가 인식할 수 있도록 수치화하는 것입니다.\n",
    "- map method로 간단히 할 수 있습니다.\n",
    "- 사전 순서대로 정리하여 mapping하겠습니다."
   ]
  },
  {
   "cell_type": "code",
   "execution_count": 17,
   "id": "perfect-exhaust",
   "metadata": {
    "ExecuteTime": {
     "end_time": "2021-01-19T11:08:37.453774Z",
     "start_time": "2021-01-19T11:08:37.441807Z"
    }
   },
   "outputs": [],
   "source": [
    "df_train['Initial'] = df_train['Initial'].map({'Master':0,'Miss':1,'Mr':2,'Mrs':3,'Other':4})\n",
    "df_test['Initial'] = df_test['Initial'].map({'Master':0,'Miss':1,'Mr':2,'Mrs':3,'Other':4})"
   ]
  },
  {
   "cell_type": "markdown",
   "id": "loose-newport",
   "metadata": {
    "ExecuteTime": {
     "end_time": "2021-01-19T10:46:52.841358Z",
     "start_time": "2021-01-19T10:46:52.821374Z"
    }
   },
   "source": [
    "- Embarked도 C,Q,S로 이뤄져있습니다. map으로 바꿉니다.\n",
    "- 그러기 앞서 특정 column에 어떤 값들이 있는지 확인해보는 방법을 살펴보겠습니다. 간단히 unique()메소드를 사용하거나, value_counts()를 써서 count까지 보는 방법이 있습니다."
   ]
  },
  {
   "cell_type": "code",
   "execution_count": 18,
   "id": "quick-lightning",
   "metadata": {
    "ExecuteTime": {
     "end_time": "2021-01-19T11:08:37.468734Z",
     "start_time": "2021-01-19T11:08:37.455769Z"
    }
   },
   "outputs": [
    {
     "data": {
      "text/plain": [
       "array(['S', 'C', 'Q'], dtype=object)"
      ]
     },
     "execution_count": 18,
     "metadata": {},
     "output_type": "execute_result"
    }
   ],
   "source": [
    "df_train['Embarked'].unique()"
   ]
  },
  {
   "cell_type": "code",
   "execution_count": 19,
   "id": "chief-valentine",
   "metadata": {
    "ExecuteTime": {
     "end_time": "2021-01-19T11:08:37.484691Z",
     "start_time": "2021-01-19T11:08:37.470729Z"
    }
   },
   "outputs": [
    {
     "data": {
      "text/plain": [
       "S    646\n",
       "C    168\n",
       "Q     77\n",
       "Name: Embarked, dtype: int64"
      ]
     },
     "execution_count": 19,
     "metadata": {},
     "output_type": "execute_result"
    }
   ],
   "source": [
    "df_train['Embarked'].value_counts()"
   ]
  },
  {
   "cell_type": "markdown",
   "id": "regular-diana",
   "metadata": {},
   "source": [
    "위 두 방법을 사용해 Embarked가 S,C,Q 세가지로 이뤄진 것을 볼 수 있습니다. 이제 map을 사용합니다."
   ]
  },
  {
   "cell_type": "code",
   "execution_count": 20,
   "id": "stuck-april",
   "metadata": {
    "ExecuteTime": {
     "end_time": "2021-01-19T11:08:37.500648Z",
     "start_time": "2021-01-19T11:08:37.487684Z"
    }
   },
   "outputs": [],
   "source": [
    "df_train['Embarked'] = df_train['Embarked'].map({'C':0,'Q':1,'S':2})\n",
    "df_test['Embarked'] = df_test['Embarked'].map({'C':0,'Q':1,'S':2})"
   ]
  },
  {
   "cell_type": "markdown",
   "id": "human-message",
   "metadata": {
    "ExecuteTime": {
     "end_time": "2021-01-19T10:49:20.100203Z",
     "start_time": "2021-01-19T10:49:20.089229Z"
    }
   },
   "source": [
    "- null이 사라졌는지 확인해봅시다. Embarked Column만 가져온 것은 하나의 pandas Series 객체이므로 isnull() 메소드를 사용해 Series의 값들이 null인지 아닌지에 대한 boolean 값을 얻을 수 있습니다. \n",
    "- 이것에 any()를 사용해 True가 단 하나라도 있으면(null이 하나라도 있으면) True를 반환해줍니다. 우리는 null을 S로 바꿨으므로 False를 얻어야합니다."
   ]
  },
  {
   "cell_type": "code",
   "execution_count": 21,
   "id": "according-contrary",
   "metadata": {
    "ExecuteTime": {
     "end_time": "2021-01-19T11:08:37.516606Z",
     "start_time": "2021-01-19T11:08:37.502644Z"
    }
   },
   "outputs": [
    {
     "data": {
      "text/plain": [
       "False"
      ]
     },
     "execution_count": 21,
     "metadata": {},
     "output_type": "execute_result"
    }
   ],
   "source": [
    "df_train['Embarked'].isnull().any()"
   ]
  },
  {
   "cell_type": "markdown",
   "id": "timely-understanding",
   "metadata": {},
   "source": [
    "Sex도 female,male로 이뤄져있습니다. map으로 바꿔봅시다."
   ]
  },
  {
   "cell_type": "code",
   "execution_count": 22,
   "id": "superb-nylon",
   "metadata": {
    "ExecuteTime": {
     "end_time": "2021-01-19T11:08:37.531567Z",
     "start_time": "2021-01-19T11:08:37.520597Z"
    }
   },
   "outputs": [],
   "source": [
    "df_train['Sex'] = df_train['Sex'].map({'female':0,'male':1})\n",
    "df_test['Sex'] = df_test['Sex'].map({'female':0,'male':1})"
   ]
  },
  {
   "cell_type": "markdown",
   "id": "hired-password",
   "metadata": {},
   "source": [
    "- 이제 각 feature간 상관관계를 보려고 합니다. 두 변수간 Pearson correlation을 구하면 (-1,1) 사이의 값을 얻을 수 있습니다. -1과 가까울수록 음의 상관관계, 1일수록 양의 상관관계를 의미하며, 0은 상관관계가 없다는 것을 의미합니다\n",
    "- 여러 feature를 가지고 있으니 이를 하나의 matrix 형태로 보면 편한데, 이를 heatmap plot이라고 하며 dataframe의 corr() 메소드와 seaborn을 가지고 편하게 그릴 수 있습니다."
   ]
  },
  {
   "cell_type": "code",
   "execution_count": 23,
   "id": "included-richards",
   "metadata": {
    "ExecuteTime": {
     "end_time": "2021-01-19T11:08:39.000004Z",
     "start_time": "2021-01-19T11:08:37.535556Z"
    }
   },
   "outputs": [
    {
     "data": {
      "image/png": "[encoded data removed]",
      "text/plain": [
       "<Figure size 1008x864 with 2 Axes>"
      ]
     },
     "metadata": {
      "needs_background": "light"
     },
     "output_type": "display_data"
    }
   ],
   "source": [
    "heatmap_data = df_train[['Survived','Pclass','Sex','Fare','Embarked','FamilySize','Initial','Age_cat']]\n",
    "\n",
    "colormap = plt.cm.RdBu\n",
    "plt.figure(figsize=(14,12))\n",
    "plt.title('Pearson Correlation of Features', y=1.05, size=15)\n",
    "sns.heatmap(heatmap_data.astype(float).corr(),linewidths=0.1,vmax=1.0,square=True,\n",
    "           cmap=colormap,linecolor='white',annot=True,annot_kws={'size':16})\n",
    "\n",
    "del heatmap_data"
   ]
  },
  {
   "cell_type": "markdown",
   "id": "expired-trick",
   "metadata": {},
   "source": [
    "- 우리가 EDA에서 살펴봤듯이, Sex와 Pclass가 Survived에 상관관계가 어느 정도 있음을 볼 수 있습니다.\n",
    "- Fare와 Embarked도 상관관계가 있습니다.\n",
    "- 또한 여기서 얻을 수 있는 정보는 서로 강한 상관관계를 가지는 feature가 없다는 것입니다. 이것은 모델을 학습시킬 때, 불필요한 feature가 없다는 것을 의미합니다.\n",
    "- 이제 실제 모델을 학습시키기 앞서 data preprocessing(전처리)를 진행해보겠습니다."
   ]
  },
  {
   "cell_type": "markdown",
   "id": "indoor-sailing",
   "metadata": {},
   "source": [
    "## 3.4 One-hot encoding on Initial and Embarked"
   ]
  },
  {
   "cell_type": "markdown",
   "id": "challenging-water",
   "metadata": {},
   "source": [
    "- 수치화한 카테고리 데이터를 그대로 넣어도 되지만, 모델 성능을 높이기 위해 one-hot encoding을 해줍니다.\n",
    "- 수치화는 간단히 master==0, miss=1, mr==2, mrs==3, other==4로 매핑해주는 것을 말합니다.\n",
    "- one-hot encoding은 위 카테고리를 (0,1)로 이뤄진 5차원의 벡터로 나타내는 것입니다.\n",
    "- 이 작업을 직접 코딩할 수 있지만, pandas의 get_dummies를 사용하여 쉽게 해결할 수 있습니다.\n",
    "- 총 5개의 카테고리니 one-hot encoding을 하고나면 새로운 5개의 column이 생깁니다.\n",
    "- Initial을 prefix로 두어 구분이 쉽게 만들어줍니다."
   ]
  },
  {
   "cell_type": "code",
   "execution_count": 24,
   "id": "controlled-handy",
   "metadata": {
    "ExecuteTime": {
     "end_time": "2021-01-19T11:08:39.031973Z",
     "start_time": "2021-01-19T11:08:39.001998Z"
    }
   },
   "outputs": [],
   "source": [
    "df_train = pd.get_dummies(df_train, columns=['Initial'],prefix='Initial')\n",
    "df_test = pd.get_dummies(df_test, columns=['Initial'],prefix='Initial')"
   ]
  },
  {
   "cell_type": "code",
   "execution_count": 25,
   "id": "coastal-grocery",
   "metadata": {
    "ExecuteTime": {
     "end_time": "2021-01-19T11:08:39.062833Z",
     "start_time": "2021-01-19T11:08:39.036903Z"
    }
   },
   "outputs": [
    {
     "data": {
      "text/html": [
       "<div>\n",
       "<style scoped>\n",
       "    .dataframe tbody tr th:only-of-type {\n",
       "        vertical-align: middle;\n",
       "    }\n",
       "\n",
       "    .dataframe tbody tr th {\n",
       "        vertical-align: top;\n",
       "    }\n",
       "\n",
       "    .dataframe thead th {\n",
       "        text-align: right;\n",
       "    }\n",
       "</style>\n",
       "<table border=\"1\" class=\"dataframe\">\n",
       "  <thead>\n",
       "    <tr style=\"text-align: right;\">\n",
       "      <th></th>\n",
       "      <th>PassengerId</th>\n",
       "      <th>Survived</th>\n",
       "      <th>Pclass</th>\n",
       "      <th>Name</th>\n",
       "      <th>Sex</th>\n",
       "      <th>SibSp</th>\n",
       "      <th>Parch</th>\n",
       "      <th>Ticket</th>\n",
       "      <th>Fare</th>\n",
       "      <th>Cabin</th>\n",
       "      <th>Embarked</th>\n",
       "      <th>FamilySize</th>\n",
       "      <th>Age_cat</th>\n",
       "      <th>Initial_0</th>\n",
       "      <th>Initial_1</th>\n",
       "      <th>Initial_2</th>\n",
       "      <th>Initial_3</th>\n",
       "      <th>Initial_4</th>\n",
       "    </tr>\n",
       "  </thead>\n",
       "  <tbody>\n",
       "    <tr>\n",
       "      <th>0</th>\n",
       "      <td>1</td>\n",
       "      <td>0</td>\n",
       "      <td>3</td>\n",
       "      <td>Braund, Mr. Owen Harris</td>\n",
       "      <td>1</td>\n",
       "      <td>1</td>\n",
       "      <td>0</td>\n",
       "      <td>A/5 21171</td>\n",
       "      <td>1.981001</td>\n",
       "      <td>NaN</td>\n",
       "      <td>2</td>\n",
       "      <td>2</td>\n",
       "      <td>2</td>\n",
       "      <td>0</td>\n",
       "      <td>0</td>\n",
       "      <td>1</td>\n",
       "      <td>0</td>\n",
       "      <td>0</td>\n",
       "    </tr>\n",
       "    <tr>\n",
       "      <th>1</th>\n",
       "      <td>2</td>\n",
       "      <td>1</td>\n",
       "      <td>1</td>\n",
       "      <td>Cumings, Mrs. John Bradley (Florence Briggs Th...</td>\n",
       "      <td>0</td>\n",
       "      <td>1</td>\n",
       "      <td>0</td>\n",
       "      <td>PC 17599</td>\n",
       "      <td>4.266662</td>\n",
       "      <td>C85</td>\n",
       "      <td>0</td>\n",
       "      <td>2</td>\n",
       "      <td>3</td>\n",
       "      <td>0</td>\n",
       "      <td>0</td>\n",
       "      <td>0</td>\n",
       "      <td>1</td>\n",
       "      <td>0</td>\n",
       "    </tr>\n",
       "    <tr>\n",
       "      <th>2</th>\n",
       "      <td>3</td>\n",
       "      <td>1</td>\n",
       "      <td>3</td>\n",
       "      <td>Heikkinen, Miss. Laina</td>\n",
       "      <td>0</td>\n",
       "      <td>0</td>\n",
       "      <td>0</td>\n",
       "      <td>STON/O2. 3101282</td>\n",
       "      <td>2.070022</td>\n",
       "      <td>NaN</td>\n",
       "      <td>2</td>\n",
       "      <td>1</td>\n",
       "      <td>2</td>\n",
       "      <td>0</td>\n",
       "      <td>1</td>\n",
       "      <td>0</td>\n",
       "      <td>0</td>\n",
       "      <td>0</td>\n",
       "    </tr>\n",
       "    <tr>\n",
       "      <th>3</th>\n",
       "      <td>4</td>\n",
       "      <td>1</td>\n",
       "      <td>1</td>\n",
       "      <td>Futrelle, Mrs. Jacques Heath (Lily May Peel)</td>\n",
       "      <td>0</td>\n",
       "      <td>1</td>\n",
       "      <td>0</td>\n",
       "      <td>113803</td>\n",
       "      <td>3.972177</td>\n",
       "      <td>C123</td>\n",
       "      <td>2</td>\n",
       "      <td>2</td>\n",
       "      <td>3</td>\n",
       "      <td>0</td>\n",
       "      <td>0</td>\n",
       "      <td>0</td>\n",
       "      <td>1</td>\n",
       "      <td>0</td>\n",
       "    </tr>\n",
       "    <tr>\n",
       "      <th>4</th>\n",
       "      <td>5</td>\n",
       "      <td>0</td>\n",
       "      <td>3</td>\n",
       "      <td>Allen, Mr. William Henry</td>\n",
       "      <td>1</td>\n",
       "      <td>0</td>\n",
       "      <td>0</td>\n",
       "      <td>373450</td>\n",
       "      <td>2.085672</td>\n",
       "      <td>NaN</td>\n",
       "      <td>2</td>\n",
       "      <td>1</td>\n",
       "      <td>3</td>\n",
       "      <td>0</td>\n",
       "      <td>0</td>\n",
       "      <td>1</td>\n",
       "      <td>0</td>\n",
       "      <td>0</td>\n",
       "    </tr>\n",
       "  </tbody>\n",
       "</table>\n",
       "</div>"
      ],
      "text/plain": [
       "   PassengerId  Survived  Pclass  \\\n",
       "0            1         0       3   \n",
       "1            2         1       1   \n",
       "2            3         1       3   \n",
       "3            4         1       1   \n",
       "4            5         0       3   \n",
       "\n",
       "                                                Name  Sex  SibSp  Parch  \\\n",
       "0                            Braund, Mr. Owen Harris    1      1      0   \n",
       "1  Cumings, Mrs. John Bradley (Florence Briggs Th...    0      1      0   \n",
       "2                             Heikkinen, Miss. Laina    0      0      0   \n",
       "3       Futrelle, Mrs. Jacques Heath (Lily May Peel)    0      1      0   \n",
       "4                           Allen, Mr. William Henry    1      0      0   \n",
       "\n",
       "             Ticket      Fare Cabin  Embarked  FamilySize  Age_cat  Initial_0  \\\n",
       "0         A/5 21171  1.981001   NaN         2           2        2          0   \n",
       "1          PC 17599  4.266662   C85         0           2        3          0   \n",
       "2  STON/O2. 3101282  2.070022   NaN         2           1        2          0   \n",
       "3            113803  3.972177  C123         2           2        3          0   \n",
       "4            373450  2.085672   NaN         2           1        3          0   \n",
       "\n",
       "   Initial_1  Initial_2  Initial_3  Initial_4  \n",
       "0          0          1          0          0  \n",
       "1          0          0          1          0  \n",
       "2          1          0          0          0  \n",
       "3          0          0          1          0  \n",
       "4          0          1          0          0  "
      ]
     },
     "execution_count": 25,
     "metadata": {},
     "output_type": "execute_result"
    }
   ],
   "source": [
    "df_train.head()"
   ]
  },
  {
   "cell_type": "code",
   "execution_count": 26,
   "id": "biological-porcelain",
   "metadata": {
    "ExecuteTime": {
     "end_time": "2021-01-19T11:10:02.679267Z",
     "start_time": "2021-01-19T11:10:02.649347Z"
    }
   },
   "outputs": [],
   "source": [
    "df_train = pd.get_dummies(df_train, columns=['Embarked'],prefix='Embarked')\n",
    "df_test = pd.get_dummies(df_test, columns=['Embarked'],prefix='Embarked')"
   ]
  },
  {
   "cell_type": "markdown",
   "id": "extra-cheese",
   "metadata": {},
   "source": [
    "- sklearn 의 Labelencoder + OneHotencoder 을 이용해도 one-hot encoding이 가능합니다.\n",
    "- 가끔 category가 100개가 넘어가는 경우 one-hot encoding을 사용하면 column이 100개가 생겨 학습시 매우 버겁습니다. 이런 경우는 다른 방법을 사용하기도 하는데, 이는 다음에 한 번 다뤄보겠습니다."
   ]
  },
  {
   "cell_type": "markdown",
   "id": "capable-negative",
   "metadata": {},
   "source": [
    "## 3.5 Drop columns"
   ]
  },
  {
   "cell_type": "markdown",
   "id": "champion-divorce",
   "metadata": {},
   "source": [
    "이제 필요한 columns만 남기고 지웁니다."
   ]
  },
  {
   "cell_type": "code",
   "execution_count": 28,
   "id": "expected-tunnel",
   "metadata": {
    "ExecuteTime": {
     "end_time": "2021-01-19T11:13:27.422073Z",
     "start_time": "2021-01-19T11:13:27.404123Z"
    }
   },
   "outputs": [],
   "source": [
    "df_train.drop(['PassengerId','Name','SibSp','Parch','Ticket','Cabin'],axis=1,inplace=True)\n",
    "df_test.drop(['PassengerId','Name','SibSp','Parch','Ticket','Cabin'],axis=1,inplace=True)"
   ]
  },
  {
   "cell_type": "code",
   "execution_count": 29,
   "id": "wired-contemporary",
   "metadata": {
    "ExecuteTime": {
     "end_time": "2021-01-19T11:13:33.432408Z",
     "start_time": "2021-01-19T11:13:33.407477Z"
    }
   },
   "outputs": [
    {
     "data": {
      "text/html": [
       "<div>\n",
       "<style scoped>\n",
       "    .dataframe tbody tr th:only-of-type {\n",
       "        vertical-align: middle;\n",
       "    }\n",
       "\n",
       "    .dataframe tbody tr th {\n",
       "        vertical-align: top;\n",
       "    }\n",
       "\n",
       "    .dataframe thead th {\n",
       "        text-align: right;\n",
       "    }\n",
       "</style>\n",
       "<table border=\"1\" class=\"dataframe\">\n",
       "  <thead>\n",
       "    <tr style=\"text-align: right;\">\n",
       "      <th></th>\n",
       "      <th>Survived</th>\n",
       "      <th>Pclass</th>\n",
       "      <th>Sex</th>\n",
       "      <th>Fare</th>\n",
       "      <th>FamilySize</th>\n",
       "      <th>Age_cat</th>\n",
       "      <th>Initial_0</th>\n",
       "      <th>Initial_1</th>\n",
       "      <th>Initial_2</th>\n",
       "      <th>Initial_3</th>\n",
       "      <th>Initial_4</th>\n",
       "      <th>Embarked_0</th>\n",
       "      <th>Embarked_1</th>\n",
       "      <th>Embarked_2</th>\n",
       "    </tr>\n",
       "  </thead>\n",
       "  <tbody>\n",
       "    <tr>\n",
       "      <th>0</th>\n",
       "      <td>0</td>\n",
       "      <td>3</td>\n",
       "      <td>1</td>\n",
       "      <td>1.981001</td>\n",
       "      <td>2</td>\n",
       "      <td>2</td>\n",
       "      <td>0</td>\n",
       "      <td>0</td>\n",
       "      <td>1</td>\n",
       "      <td>0</td>\n",
       "      <td>0</td>\n",
       "      <td>0</td>\n",
       "      <td>0</td>\n",
       "      <td>1</td>\n",
       "    </tr>\n",
       "    <tr>\n",
       "      <th>1</th>\n",
       "      <td>1</td>\n",
       "      <td>1</td>\n",
       "      <td>0</td>\n",
       "      <td>4.266662</td>\n",
       "      <td>2</td>\n",
       "      <td>3</td>\n",
       "      <td>0</td>\n",
       "      <td>0</td>\n",
       "      <td>0</td>\n",
       "      <td>1</td>\n",
       "      <td>0</td>\n",
       "      <td>1</td>\n",
       "      <td>0</td>\n",
       "      <td>0</td>\n",
       "    </tr>\n",
       "    <tr>\n",
       "      <th>2</th>\n",
       "      <td>1</td>\n",
       "      <td>3</td>\n",
       "      <td>0</td>\n",
       "      <td>2.070022</td>\n",
       "      <td>1</td>\n",
       "      <td>2</td>\n",
       "      <td>0</td>\n",
       "      <td>1</td>\n",
       "      <td>0</td>\n",
       "      <td>0</td>\n",
       "      <td>0</td>\n",
       "      <td>0</td>\n",
       "      <td>0</td>\n",
       "      <td>1</td>\n",
       "    </tr>\n",
       "    <tr>\n",
       "      <th>3</th>\n",
       "      <td>1</td>\n",
       "      <td>1</td>\n",
       "      <td>0</td>\n",
       "      <td>3.972177</td>\n",
       "      <td>2</td>\n",
       "      <td>3</td>\n",
       "      <td>0</td>\n",
       "      <td>0</td>\n",
       "      <td>0</td>\n",
       "      <td>1</td>\n",
       "      <td>0</td>\n",
       "      <td>0</td>\n",
       "      <td>0</td>\n",
       "      <td>1</td>\n",
       "    </tr>\n",
       "    <tr>\n",
       "      <th>4</th>\n",
       "      <td>0</td>\n",
       "      <td>3</td>\n",
       "      <td>1</td>\n",
       "      <td>2.085672</td>\n",
       "      <td>1</td>\n",
       "      <td>3</td>\n",
       "      <td>0</td>\n",
       "      <td>0</td>\n",
       "      <td>1</td>\n",
       "      <td>0</td>\n",
       "      <td>0</td>\n",
       "      <td>0</td>\n",
       "      <td>0</td>\n",
       "      <td>1</td>\n",
       "    </tr>\n",
       "  </tbody>\n",
       "</table>\n",
       "</div>"
      ],
      "text/plain": [
       "   Survived  Pclass  Sex      Fare  FamilySize  Age_cat  Initial_0  Initial_1  \\\n",
       "0         0       3    1  1.981001           2        2          0          0   \n",
       "1         1       1    0  4.266662           2        3          0          0   \n",
       "2         1       3    0  2.070022           1        2          0          1   \n",
       "3         1       1    0  3.972177           2        3          0          0   \n",
       "4         0       3    1  2.085672           1        3          0          0   \n",
       "\n",
       "   Initial_2  Initial_3  Initial_4  Embarked_0  Embarked_1  Embarked_2  \n",
       "0          1          0          0           0           0           1  \n",
       "1          0          1          0           1           0           0  \n",
       "2          0          0          0           0           0           1  \n",
       "3          0          1          0           0           0           1  \n",
       "4          1          0          0           0           0           1  "
      ]
     },
     "execution_count": 29,
     "metadata": {},
     "output_type": "execute_result"
    }
   ],
   "source": [
    "df_train.head()"
   ]
  },
  {
   "cell_type": "code",
   "execution_count": 30,
   "id": "given-crash",
   "metadata": {
    "ExecuteTime": {
     "end_time": "2021-01-19T11:13:41.103843Z",
     "start_time": "2021-01-19T11:13:41.088882Z"
    }
   },
   "outputs": [
    {
     "data": {
      "text/html": [
       "<div>\n",
       "<style scoped>\n",
       "    .dataframe tbody tr th:only-of-type {\n",
       "        vertical-align: middle;\n",
       "    }\n",
       "\n",
       "    .dataframe tbody tr th {\n",
       "        vertical-align: top;\n",
       "    }\n",
       "\n",
       "    .dataframe thead th {\n",
       "        text-align: right;\n",
       "    }\n",
       "</style>\n",
       "<table border=\"1\" class=\"dataframe\">\n",
       "  <thead>\n",
       "    <tr style=\"text-align: right;\">\n",
       "      <th></th>\n",
       "      <th>Pclass</th>\n",
       "      <th>Sex</th>\n",
       "      <th>Fare</th>\n",
       "      <th>FamilySize</th>\n",
       "      <th>Age_cat</th>\n",
       "      <th>Initial_0</th>\n",
       "      <th>Initial_1</th>\n",
       "      <th>Initial_2</th>\n",
       "      <th>Initial_3</th>\n",
       "      <th>Initial_4</th>\n",
       "      <th>Embarked_0</th>\n",
       "      <th>Embarked_1</th>\n",
       "      <th>Embarked_2</th>\n",
       "    </tr>\n",
       "  </thead>\n",
       "  <tbody>\n",
       "    <tr>\n",
       "      <th>0</th>\n",
       "      <td>3</td>\n",
       "      <td>1</td>\n",
       "      <td>2.057860</td>\n",
       "      <td>1</td>\n",
       "      <td>3</td>\n",
       "      <td>0</td>\n",
       "      <td>0</td>\n",
       "      <td>1</td>\n",
       "      <td>0</td>\n",
       "      <td>0</td>\n",
       "      <td>0</td>\n",
       "      <td>1</td>\n",
       "      <td>0</td>\n",
       "    </tr>\n",
       "    <tr>\n",
       "      <th>1</th>\n",
       "      <td>3</td>\n",
       "      <td>0</td>\n",
       "      <td>1.945910</td>\n",
       "      <td>2</td>\n",
       "      <td>4</td>\n",
       "      <td>0</td>\n",
       "      <td>0</td>\n",
       "      <td>0</td>\n",
       "      <td>1</td>\n",
       "      <td>0</td>\n",
       "      <td>0</td>\n",
       "      <td>0</td>\n",
       "      <td>1</td>\n",
       "    </tr>\n",
       "    <tr>\n",
       "      <th>2</th>\n",
       "      <td>2</td>\n",
       "      <td>1</td>\n",
       "      <td>2.270836</td>\n",
       "      <td>1</td>\n",
       "      <td>6</td>\n",
       "      <td>0</td>\n",
       "      <td>0</td>\n",
       "      <td>1</td>\n",
       "      <td>0</td>\n",
       "      <td>0</td>\n",
       "      <td>0</td>\n",
       "      <td>1</td>\n",
       "      <td>0</td>\n",
       "    </tr>\n",
       "    <tr>\n",
       "      <th>3</th>\n",
       "      <td>3</td>\n",
       "      <td>1</td>\n",
       "      <td>2.159003</td>\n",
       "      <td>1</td>\n",
       "      <td>2</td>\n",
       "      <td>0</td>\n",
       "      <td>0</td>\n",
       "      <td>1</td>\n",
       "      <td>0</td>\n",
       "      <td>0</td>\n",
       "      <td>0</td>\n",
       "      <td>0</td>\n",
       "      <td>1</td>\n",
       "    </tr>\n",
       "    <tr>\n",
       "      <th>4</th>\n",
       "      <td>3</td>\n",
       "      <td>0</td>\n",
       "      <td>2.508582</td>\n",
       "      <td>3</td>\n",
       "      <td>2</td>\n",
       "      <td>0</td>\n",
       "      <td>0</td>\n",
       "      <td>0</td>\n",
       "      <td>1</td>\n",
       "      <td>0</td>\n",
       "      <td>0</td>\n",
       "      <td>0</td>\n",
       "      <td>1</td>\n",
       "    </tr>\n",
       "  </tbody>\n",
       "</table>\n",
       "</div>"
      ],
      "text/plain": [
       "   Pclass  Sex      Fare  FamilySize  Age_cat  Initial_0  Initial_1  \\\n",
       "0       3    1  2.057860           1        3          0          0   \n",
       "1       3    0  1.945910           2        4          0          0   \n",
       "2       2    1  2.270836           1        6          0          0   \n",
       "3       3    1  2.159003           1        2          0          0   \n",
       "4       3    0  2.508582           3        2          0          0   \n",
       "\n",
       "   Initial_2  Initial_3  Initial_4  Embarked_0  Embarked_1  Embarked_2  \n",
       "0          1          0          0           0           1           0  \n",
       "1          0          1          0           0           0           1  \n",
       "2          1          0          0           0           1           0  \n",
       "3          1          0          0           0           0           1  \n",
       "4          0          1          0           0           0           1  "
      ]
     },
     "execution_count": 30,
     "metadata": {},
     "output_type": "execute_result"
    }
   ],
   "source": [
    "df_test.head()"
   ]
  },
  {
   "cell_type": "markdown",
   "id": "blond-france",
   "metadata": {},
   "source": [
    "train의 Survived feature(target class)를 빼면 train, test 둘 다 같은 columns를 가진 걸 확인할 수 있습니다."
   ]
  },
  {
   "cell_type": "markdown",
   "id": "electronic-potential",
   "metadata": {},
   "source": [
    "# 4. Building machine learning model and prediction using the trained model"
   ]
  },
  {
   "cell_type": "markdown",
   "id": "excellent-colony",
   "metadata": {},
   "source": [
    "준비가 다 됐으니 sklearn 을 사용해 머신러닝 모델을 만들어봅니다."
   ]
  },
  {
   "cell_type": "code",
   "execution_count": 32,
   "id": "bright-problem",
   "metadata": {
    "ExecuteTime": {
     "end_time": "2021-01-19T11:16:30.479539Z",
     "start_time": "2021-01-19T11:16:29.777418Z"
    }
   },
   "outputs": [],
   "source": [
    "# import all the required ML packages\n",
    "from sklearn.ensemble import RandomForestClassifier\n",
    "from sklearn import metrics  # 모델 평가 \n",
    "from sklearn.model_selection import train_test_split  # training set을 나누는 함수"
   ]
  },
  {
   "cell_type": "markdown",
   "id": "intensive-understanding",
   "metadata": {},
   "source": [
    "Sklearn은 머신러닝의 처음부터 끝까지 다 있습니다. feature engineering, preprocessing, 지도학습 알고리즘, 비지도학습 알고리즘, 모델평가, 파이프라인 등 머신러닝 관련 모든 작업이 손쉬운 인터페이스로 구현되어있습니다. 데이터분석 + 머신러닝을 하고싶다면 이 라이브러리를 반드시 숙지합니다."
   ]
  },
  {
   "cell_type": "markdown",
   "id": "precious-multimedia",
   "metadata": {},
   "source": [
    "- 지금 타이타닉 문제는 target class(Survived)가 있으며, target class는 0,1로 이루어져있으므로(binary) binary classification 문제입니다.\n",
    "- train set의 Survived를 제외한 input을 가지고 모델을 최적화시켜 각 샘플(탑승객)의 생존유무를 판단하는 모델을 만듭니다.\n",
    "- 그 후 모델이 학습하지 않은 test set을 input으로 주어 test set의 각 샘플의 생존 유무를 예측합니다."
   ]
  },
  {
   "cell_type": "markdown",
   "id": "handmade-strip",
   "metadata": {},
   "source": [
    "## 4.1 Preparation - Split dataset into train, valid, test set"
   ]
  },
  {
   "cell_type": "code",
   "execution_count": 33,
   "id": "sought-gibson",
   "metadata": {
    "ExecuteTime": {
     "end_time": "2021-01-19T11:20:26.328965Z",
     "start_time": "2021-01-19T11:20:26.318993Z"
    }
   },
   "outputs": [],
   "source": [
    "X_train = df_train.drop('Survived',axis=1).values\n",
    "target_label = df_train['Survived'].values\n",
    "X_test = df_test.values"
   ]
  },
  {
   "cell_type": "markdown",
   "id": "aggressive-series",
   "metadata": {},
   "source": [
    "- train, test 외, 좋은 모델을 만들기 위해서 valid set을 만들어 모델 평가를 해봅니다.\n",
    "- trian_test_split을 사용해 쉽게 train셋을 분리할 수 있습니다."
   ]
  },
  {
   "cell_type": "code",
   "execution_count": 35,
   "id": "solar-happiness",
   "metadata": {
    "ExecuteTime": {
     "end_time": "2021-01-19T11:22:08.215523Z",
     "start_time": "2021-01-19T11:22:08.208540Z"
    }
   },
   "outputs": [],
   "source": [
    "X_tr, X_vld, y_tr, y_vld = train_test_split(X_train, target_label, test_size=0.3, random_state=2018)"
   ]
  },
  {
   "cell_type": "markdown",
   "id": "floating-fault",
   "metadata": {},
   "source": [
    "- sklearn은 많은 머신러닝 알고리즘을 지원합니다. 참고 : http://scikit-learn.org/stable/supervised_learning.html#supervised-learning\n",
    "- 랜덤포레스트는 의사결정나무 기반 모델이며, 여러 나무를 앙상블한 모델입니다.\n",
    "- 각 머신러닝 알고리즘에는 여러 파라미터가 있습니다. 랜덤포레스트도 n_estimators, max_features, max_depth, min_samples_split, min_samples_leaf 등 여러 파라미터가 존재합니다. 이들이 어떻게 세팅되냐에 따라 같은 데이터셋이어도 모델의 성능이 달라집니다."
   ]
  },
  {
   "cell_type": "markdown",
   "id": "british-hygiene",
   "metadata": {},
   "source": [
    "- 모델 객체를 만들고 fit 메소드로 모델을 학습시킵니다.\n",
    "- 그리고 valid set input을 넣어 예측값(X_vld sample의 생존여부)를 얻습니다."
   ]
  },
  {
   "cell_type": "markdown",
   "id": "unusual-expansion",
   "metadata": {},
   "source": [
    "## 4.2 Model generation and prediction"
   ]
  },
  {
   "cell_type": "code",
   "execution_count": 36,
   "id": "convertible-doubt",
   "metadata": {
    "ExecuteTime": {
     "end_time": "2021-01-19T11:25:56.013030Z",
     "start_time": "2021-01-19T11:25:55.757713Z"
    }
   },
   "outputs": [],
   "source": [
    "model = RandomForestClassifier()\n",
    "model.fit(X_tr, y_tr)\n",
    "prediction = model.predict(X_vld)"
   ]
  },
  {
   "cell_type": "markdown",
   "id": "innocent-finance",
   "metadata": {},
   "source": [
    "- 위의 세 줄로 모델을 세우고 예측까지 했습니다.\n",
    "- 모델의 성능을 살펴보겠습니다."
   ]
  },
  {
   "cell_type": "code",
   "execution_count": 37,
   "id": "proved-replacement",
   "metadata": {
    "ExecuteTime": {
     "end_time": "2021-01-19T11:27:09.709735Z",
     "start_time": "2021-01-19T11:27:09.700758Z"
    }
   },
   "outputs": [
    {
     "name": "stdout",
     "output_type": "stream",
     "text": [
      "총 268명 중 83.21% 정확도로 생존을 맞춤\n"
     ]
    }
   ],
   "source": [
    "print('총 {}명 중 {:.2f}% 정확도로 생존을 맞춤'.format(y_vld.shape[0],100*metrics.accuracy_score(prediction,y_vld)))"
   ]
  },
  {
   "cell_type": "markdown",
   "id": "american-genealogy",
   "metadata": {},
   "source": [
    "## 4.3 Feature importance"
   ]
  },
  {
   "cell_type": "markdown",
   "id": "single-scientist",
   "metadata": {},
   "source": [
    "- 학습된 모델은 feature importance를 가지게 되는데, 이것을 확인해 지금 만든 모델이 어떤 feature의 영향을 많이 받았는지 알 수 있습니다.\n",
    "- pandas series를 이용하면 쉽게 sorting 하여 그래프를 그릴 수 있습니다."
   ]
  },
  {
   "cell_type": "code",
   "execution_count": 38,
   "id": "protecting-liver",
   "metadata": {
    "ExecuteTime": {
     "end_time": "2021-01-19T11:30:01.596630Z",
     "start_time": "2021-01-19T11:30:01.571696Z"
    }
   },
   "outputs": [],
   "source": [
    "from pandas import Series\n",
    "\n",
    "feature_importance = model.feature_importances_\n",
    "Series_feat_imp = Series(feature_importance, index=df_test.columns)"
   ]
  },
  {
   "cell_type": "code",
   "execution_count": 39,
   "id": "funded-replica",
   "metadata": {
    "ExecuteTime": {
     "end_time": "2021-01-19T11:30:51.623098Z",
     "start_time": "2021-01-19T11:30:51.269004Z"
    }
   },
   "outputs": [
    {
     "data": {
      "image/png": "[encoded data removed]",
      "text/plain": [
       "<Figure size 576x576 with 1 Axes>"
      ]
     },
     "metadata": {
      "needs_background": "light"
     },
     "output_type": "display_data"
    }
   ],
   "source": [
    "plt.figure(figsize=(8,8))\n",
    "Series_feat_imp.sort_values(ascending=True).plot.barh()\n",
    "plt.xlabel('Feature importance')\n",
    "plt.ylabel('Feature')\n",
    "plt.show()"
   ]
  },
  {
   "cell_type": "markdown",
   "id": "otherwise-hotel",
   "metadata": {},
   "source": [
    "- Fare가 가장 큰 영향력을 가지며, 그 뒤로 Initial_2, Age_cat, Pclass가 차례로 중요도를 가집니다.\n",
    "- 다른 모델을 사용하게 되면 feature importance가 다르게 나올 수 있습니다.\n",
    "- 이 feature importance를 보고 실제로 Fare가 중요한 feature일 수 있다고 판단을 내릴 수는 있지만, 결국 모델에 귀속되는 하나의 결론이므로 통계적으로 더 살펴봐야합니다.\n",
    "- feature importance로 더 정확도 높은 모델을 얻기 위해 feature selection을 할 수도 있고, 더 빠른 모델을 위해 feature를 제거할 수 있습니다."
   ]
  },
  {
   "cell_type": "markdown",
   "id": "speaking-optimum",
   "metadata": {},
   "source": [
    "## 4.4 Prediction on Test set"
   ]
  },
  {
   "cell_type": "markdown",
   "id": "better-share",
   "metadata": {},
   "source": [
    "모델이 학습하지 않았던 테스트셋을 넣어 생존여부를 예측해보겠습니다."
   ]
  },
  {
   "cell_type": "code",
   "execution_count": 40,
   "id": "right-norwegian",
   "metadata": {
    "ExecuteTime": {
     "end_time": "2021-01-19T11:37:40.314740Z",
     "start_time": "2021-01-19T11:37:40.300780Z"
    }
   },
   "outputs": [],
   "source": [
    "submission = pd.read_csv('gender_submission.csv')  # 캐글 제출용"
   ]
  },
  {
   "cell_type": "code",
   "execution_count": 41,
   "id": "innovative-multimedia",
   "metadata": {
    "ExecuteTime": {
     "end_time": "2021-01-19T11:37:45.659590Z",
     "start_time": "2021-01-19T11:37:45.646623Z"
    }
   },
   "outputs": [
    {
     "data": {
      "text/html": [
       "<div>\n",
       "<style scoped>\n",
       "    .dataframe tbody tr th:only-of-type {\n",
       "        vertical-align: middle;\n",
       "    }\n",
       "\n",
       "    .dataframe tbody tr th {\n",
       "        vertical-align: top;\n",
       "    }\n",
       "\n",
       "    .dataframe thead th {\n",
       "        text-align: right;\n",
       "    }\n",
       "</style>\n",
       "<table border=\"1\" class=\"dataframe\">\n",
       "  <thead>\n",
       "    <tr style=\"text-align: right;\">\n",
       "      <th></th>\n",
       "      <th>PassengerId</th>\n",
       "      <th>Survived</th>\n",
       "    </tr>\n",
       "  </thead>\n",
       "  <tbody>\n",
       "    <tr>\n",
       "      <th>0</th>\n",
       "      <td>892</td>\n",
       "      <td>0</td>\n",
       "    </tr>\n",
       "    <tr>\n",
       "      <th>1</th>\n",
       "      <td>893</td>\n",
       "      <td>1</td>\n",
       "    </tr>\n",
       "    <tr>\n",
       "      <th>2</th>\n",
       "      <td>894</td>\n",
       "      <td>0</td>\n",
       "    </tr>\n",
       "    <tr>\n",
       "      <th>3</th>\n",
       "      <td>895</td>\n",
       "      <td>0</td>\n",
       "    </tr>\n",
       "    <tr>\n",
       "      <th>4</th>\n",
       "      <td>896</td>\n",
       "      <td>1</td>\n",
       "    </tr>\n",
       "  </tbody>\n",
       "</table>\n",
       "</div>"
      ],
      "text/plain": [
       "   PassengerId  Survived\n",
       "0          892         0\n",
       "1          893         1\n",
       "2          894         0\n",
       "3          895         0\n",
       "4          896         1"
      ]
     },
     "execution_count": 41,
     "metadata": {},
     "output_type": "execute_result"
    }
   ],
   "source": [
    "submission.head()"
   ]
  },
  {
   "cell_type": "markdown",
   "id": "physical-python",
   "metadata": {},
   "source": [
    "testset에 대해 예측하고 결과를 csv파일로 저장해보겠습니다."
   ]
  },
  {
   "cell_type": "code",
   "execution_count": 42,
   "id": "tight-princess",
   "metadata": {
    "ExecuteTime": {
     "end_time": "2021-01-19T11:38:31.996062Z",
     "start_time": "2021-01-19T11:38:31.963152Z"
    }
   },
   "outputs": [],
   "source": [
    "prediction = model.predict(X_test)\n",
    "submission['Survived'] = prediction"
   ]
  },
  {
   "cell_type": "code",
   "execution_count": 44,
   "id": "abstract-interim",
   "metadata": {
    "ExecuteTime": {
     "end_time": "2021-01-19T11:39:19.582572Z",
     "start_time": "2021-01-19T11:39:19.573558Z"
    }
   },
   "outputs": [],
   "source": [
    "submission.to_csv('./my_first_submission_sion.csv',index=False)"
   ]
  },
  {
   "cell_type": "code",
   "execution_count": null,
   "id": "streaming-nutrition",
   "metadata": {},
   "outputs": [],
   "source": []
  },
  {
   "cell_type": "code",
   "execution_count": null,
   "id": "reverse-wesley",
   "metadata": {},
   "outputs": [],
   "source": []
  },
  {
   "cell_type": "markdown",
   "id": "shared-tourism",
   "metadata": {},
   "source": [
    "# 2nd"
   ]
  },
  {
   "cell_type": "code",
   "execution_count": 47,
   "id": "political-effort",
   "metadata": {
    "ExecuteTime": {
     "end_time": "2021-01-19T13:43:16.230465Z",
     "start_time": "2021-01-19T13:43:16.176609Z"
    }
   },
   "outputs": [
    {
     "data": {
      "text/html": [
       "        <script type=\"text/javascript\">\n",
       "        window.PlotlyConfig = {MathJaxConfig: 'local'};\n",
       "        if (window.MathJax) {MathJax.Hub.Config({SVG: {font: \"STIX-Web\"}});}\n",
       "        if (typeof require !== 'undefined') {\n",
       "        require.undef(\"plotly\");\n",
       "        requirejs.config({\n",
       "            paths: {\n",
       "                'plotly': ['https://cdn.plot.ly/plotly-latest.min']\n",
       "            }\n",
       "        });\n",
       "        require(['plotly'], function(Plotly) {\n",
       "            window._Plotly = Plotly;\n",
       "        });\n",
       "        }\n",
       "        </script>\n",
       "        "
      ]
     },
     "metadata": {},
     "output_type": "display_data"
    }
   ],
   "source": [
    "import numpy as np\n",
    "import pandas as pd\n",
    "from pandas import Series\n",
    "import matplotlib.pyplot as plt\n",
    "import seaborn as sns\n",
    "\n",
    "plt.style.use('seaborn')\n",
    "sns.set(font_scale=2.5) \n",
    "import plotly.offline as py\n",
    "py.init_notebook_mode(connected=True)\n",
    "import plotly.graph_objs as go\n",
    "import plotly.tools as tls\n",
    "\n",
    "#ignore warnings\n",
    "import warnings\n",
    "warnings.filterwarnings('ignore')\n",
    "\n",
    "\n",
    "\n",
    "%matplotlib inline\n",
    "\n",
    "df_train = pd.read_csv('train.csv')\n",
    "df_test = pd.read_csv('test.csv')\n",
    "df_train['FamilySize'] = df_train['SibSp'] + df_train['Parch'] + 1 # 자신을 포함해야하니 1을 더합니다\n",
    "df_test['FamilySize'] = df_test['SibSp'] + df_test['Parch'] + 1 # 자신을 포함해야하니 1을 더합니다\n",
    "\n",
    "df_test.loc[df_test.Fare.isnull(), 'Fare'] = df_test['Fare'].mean()\n",
    "\n",
    "df_train['Fare'] = df_train['Fare'].map(lambda i: np.log(i) if i > 0 else 0)\n",
    "df_test['Fare'] = df_test['Fare'].map(lambda i: np.log(i) if i > 0 else 0)"
   ]
  },
  {
   "cell_type": "markdown",
   "id": "injured-nicaragua",
   "metadata": {},
   "source": [
    "# 3. Feature engineering"
   ]
  },
  {
   "cell_type": "markdown",
   "id": "essential-shark",
   "metadata": {},
   "source": [
    "- feature engineering 을 시작해보겠습니다.\n",
    "- 먼저, dataset 에 존재하는 null data를 채우려고 합니다.\n",
    "- null data 를 포함하는 feature 의 statistics 를 참고하거나, 다른 아이디어를 짜내어 채울 수 있습니다.\n",
    "- null data 를 어떻게 채우느냐에 따라 모델의 성능이 좌지우지될 수 있기 때문에, 신경써줘야할 부분입니다.\n",
    "- Feature engineering 은 실제 모델의 학습에 쓰려고 하는 것이므로, train 뿐만아닐라 test 도 똑같이 적용해주어야 합니다. 잊지맙시다."
   ]
  },
  {
   "cell_type": "markdown",
   "id": "front-hearing",
   "metadata": {},
   "source": [
    "## 3.1 Fill Null"
   ]
  },
  {
   "cell_type": "markdown",
   "id": "atmospheric-shield",
   "metadata": {},
   "source": [
    "### 3.1.1 Fill Null in Age using title"
   ]
  },
  {
   "cell_type": "markdown",
   "id": "pending-evaluation",
   "metadata": {},
   "source": [
    "- Age 에는 null data가 177개나 있습니다. 이를 채울 수 있는 여러 아이디어가 있을 것인데, 여기서 우리는 title + statistics 를 사용해 보겠습니다.\n",
    "- 영어에서는 Miss, Mrr, Mrs 같은 title이 존재합니다. 각 탑승객의 이름에는 꼭 이런 title 이 들어가게 되는데 이를 사용해보겠습니다\n",
    "- pandas series 에는 data 를 string 으로 바꿔주는 str method, 거기에 정규표현식을 적용하게 해주는 extract method가 있습니다. 이를 사용하여 title 을 쉽게 추출할 수 있습니다. title을 Initial column에 저장하겠습니다."
   ]
  },
  {
   "cell_type": "code",
   "execution_count": 48,
   "id": "serial-postcard",
   "metadata": {
    "ExecuteTime": {
     "end_time": "2021-01-19T13:43:18.975813Z",
     "start_time": "2021-01-19T13:43:18.952851Z"
    }
   },
   "outputs": [],
   "source": [
    "df_train['Initial'] = df_train.Name.str.extract('([A-Za-z]+)\\.')  # Lets extract the Salutations\n",
    "df_test['Initial'] = df_test.Name.str.extract('([A-Za-z]+)\\.')"
   ]
  },
  {
   "cell_type": "markdown",
   "id": "advanced-forward",
   "metadata": {},
   "source": [
    "pandas 의 crosstab 을 이용하여 우리가 추출한 Initial 과 Sex 간의 count 를 살펴봅시다."
   ]
  },
  {
   "cell_type": "code",
   "execution_count": 49,
   "id": "excessive-navigation",
   "metadata": {
    "ExecuteTime": {
     "end_time": "2021-01-19T13:44:01.319639Z",
     "start_time": "2021-01-19T13:44:01.257802Z"
    }
   },
   "outputs": [
    {
     "data": {
      "text/html": [
       "<style  type=\"text/css\" >\n",
       "#T_e4dff_row0_col0,#T_e4dff_row0_col1,#T_e4dff_row0_col3,#T_e4dff_row0_col4,#T_e4dff_row0_col5,#T_e4dff_row0_col7,#T_e4dff_row0_col8,#T_e4dff_row0_col12,#T_e4dff_row0_col15,#T_e4dff_row0_col16,#T_e4dff_row1_col2,#T_e4dff_row1_col6,#T_e4dff_row1_col9,#T_e4dff_row1_col10,#T_e4dff_row1_col11,#T_e4dff_row1_col13,#T_e4dff_row1_col14{\n",
       "            background-color:  #ffff66;\n",
       "            color:  #000000;\n",
       "        }#T_e4dff_row0_col2,#T_e4dff_row0_col6,#T_e4dff_row0_col9,#T_e4dff_row0_col10,#T_e4dff_row0_col11,#T_e4dff_row0_col13,#T_e4dff_row0_col14,#T_e4dff_row1_col0,#T_e4dff_row1_col1,#T_e4dff_row1_col3,#T_e4dff_row1_col4,#T_e4dff_row1_col5,#T_e4dff_row1_col7,#T_e4dff_row1_col8,#T_e4dff_row1_col12,#T_e4dff_row1_col15,#T_e4dff_row1_col16{\n",
       "            background-color:  #008066;\n",
       "            color:  #f1f1f1;\n",
       "        }</style><table id=\"T_e4dff_\" ><thead>    <tr>        <th class=\"index_name level0\" >Initial</th>        <th class=\"col_heading level0 col0\" >Capt</th>        <th class=\"col_heading level0 col1\" >Col</th>        <th class=\"col_heading level0 col2\" >Countess</th>        <th class=\"col_heading level0 col3\" >Don</th>        <th class=\"col_heading level0 col4\" >Dr</th>        <th class=\"col_heading level0 col5\" >Jonkheer</th>        <th class=\"col_heading level0 col6\" >Lady</th>        <th class=\"col_heading level0 col7\" >Major</th>        <th class=\"col_heading level0 col8\" >Master</th>        <th class=\"col_heading level0 col9\" >Miss</th>        <th class=\"col_heading level0 col10\" >Mlle</th>        <th class=\"col_heading level0 col11\" >Mme</th>        <th class=\"col_heading level0 col12\" >Mr</th>        <th class=\"col_heading level0 col13\" >Mrs</th>        <th class=\"col_heading level0 col14\" >Ms</th>        <th class=\"col_heading level0 col15\" >Rev</th>        <th class=\"col_heading level0 col16\" >Sir</th>    </tr>    <tr>        <th class=\"index_name level0\" >Sex</th>        <th class=\"blank\" ></th>        <th class=\"blank\" ></th>        <th class=\"blank\" ></th>        <th class=\"blank\" ></th>        <th class=\"blank\" ></th>        <th class=\"blank\" ></th>        <th class=\"blank\" ></th>        <th class=\"blank\" ></th>        <th class=\"blank\" ></th>        <th class=\"blank\" ></th>        <th class=\"blank\" ></th>        <th class=\"blank\" ></th>        <th class=\"blank\" ></th>        <th class=\"blank\" ></th>        <th class=\"blank\" ></th>        <th class=\"blank\" ></th>        <th class=\"blank\" ></th>    </tr></thead><tbody>\n",
       "                <tr>\n",
       "                        <th id=\"T_e4dff_level0_row0\" class=\"row_heading level0 row0\" >female</th>\n",
       "                        <td id=\"T_e4dff_row0_col0\" class=\"data row0 col0\" >0</td>\n",
       "                        <td id=\"T_e4dff_row0_col1\" class=\"data row0 col1\" >0</td>\n",
       "                        <td id=\"T_e4dff_row0_col2\" class=\"data row0 col2\" >1</td>\n",
       "                        <td id=\"T_e4dff_row0_col3\" class=\"data row0 col3\" >0</td>\n",
       "                        <td id=\"T_e4dff_row0_col4\" class=\"data row0 col4\" >1</td>\n",
       "                        <td id=\"T_e4dff_row0_col5\" class=\"data row0 col5\" >0</td>\n",
       "                        <td id=\"T_e4dff_row0_col6\" class=\"data row0 col6\" >1</td>\n",
       "                        <td id=\"T_e4dff_row0_col7\" class=\"data row0 col7\" >0</td>\n",
       "                        <td id=\"T_e4dff_row0_col8\" class=\"data row0 col8\" >0</td>\n",
       "                        <td id=\"T_e4dff_row0_col9\" class=\"data row0 col9\" >182</td>\n",
       "                        <td id=\"T_e4dff_row0_col10\" class=\"data row0 col10\" >2</td>\n",
       "                        <td id=\"T_e4dff_row0_col11\" class=\"data row0 col11\" >1</td>\n",
       "                        <td id=\"T_e4dff_row0_col12\" class=\"data row0 col12\" >0</td>\n",
       "                        <td id=\"T_e4dff_row0_col13\" class=\"data row0 col13\" >125</td>\n",
       "                        <td id=\"T_e4dff_row0_col14\" class=\"data row0 col14\" >1</td>\n",
       "                        <td id=\"T_e4dff_row0_col15\" class=\"data row0 col15\" >0</td>\n",
       "                        <td id=\"T_e4dff_row0_col16\" class=\"data row0 col16\" >0</td>\n",
       "            </tr>\n",
       "            <tr>\n",
       "                        <th id=\"T_e4dff_level0_row1\" class=\"row_heading level0 row1\" >male</th>\n",
       "                        <td id=\"T_e4dff_row1_col0\" class=\"data row1 col0\" >1</td>\n",
       "                        <td id=\"T_e4dff_row1_col1\" class=\"data row1 col1\" >2</td>\n",
       "                        <td id=\"T_e4dff_row1_col2\" class=\"data row1 col2\" >0</td>\n",
       "                        <td id=\"T_e4dff_row1_col3\" class=\"data row1 col3\" >1</td>\n",
       "                        <td id=\"T_e4dff_row1_col4\" class=\"data row1 col4\" >6</td>\n",
       "                        <td id=\"T_e4dff_row1_col5\" class=\"data row1 col5\" >1</td>\n",
       "                        <td id=\"T_e4dff_row1_col6\" class=\"data row1 col6\" >0</td>\n",
       "                        <td id=\"T_e4dff_row1_col7\" class=\"data row1 col7\" >2</td>\n",
       "                        <td id=\"T_e4dff_row1_col8\" class=\"data row1 col8\" >40</td>\n",
       "                        <td id=\"T_e4dff_row1_col9\" class=\"data row1 col9\" >0</td>\n",
       "                        <td id=\"T_e4dff_row1_col10\" class=\"data row1 col10\" >0</td>\n",
       "                        <td id=\"T_e4dff_row1_col11\" class=\"data row1 col11\" >0</td>\n",
       "                        <td id=\"T_e4dff_row1_col12\" class=\"data row1 col12\" >517</td>\n",
       "                        <td id=\"T_e4dff_row1_col13\" class=\"data row1 col13\" >0</td>\n",
       "                        <td id=\"T_e4dff_row1_col14\" class=\"data row1 col14\" >0</td>\n",
       "                        <td id=\"T_e4dff_row1_col15\" class=\"data row1 col15\" >6</td>\n",
       "                        <td id=\"T_e4dff_row1_col16\" class=\"data row1 col16\" >1</td>\n",
       "            </tr>\n",
       "    </tbody></table>"
      ],
      "text/plain": [
       "<pandas.io.formats.style.Styler at 0x2b81e3bdaf0>"
      ]
     },
     "execution_count": 49,
     "metadata": {},
     "output_type": "execute_result"
    }
   ],
   "source": [
    "pd.crosstab(df_train['Initial'], df_train['Sex']).T.style.background_gradient(cmap='summer_r')"
   ]
  },
  {
   "cell_type": "markdown",
   "id": "atmospheric-photograph",
   "metadata": {},
   "source": [
    "위 table 을 참고하여, 남자, 여자가 쓰는 initial 을 구분해 보겠습니다. replace 메소드를 사용하면, 특정 데이터 값을 원하는 값으로 치환해줍니다."
   ]
  },
  {
   "cell_type": "code",
   "execution_count": 50,
   "id": "driven-softball",
   "metadata": {
    "ExecuteTime": {
     "end_time": "2021-01-19T13:44:31.405415Z",
     "start_time": "2021-01-19T13:44:31.380483Z"
    }
   },
   "outputs": [],
   "source": [
    "df_train['Initial'].replace(['Mlle','Mme','Ms','Dr','Major','Lady','Countess','Jonkheer','Col','Rev','Capt','Sir','Don', 'Dona'],\n",
    "                        ['Miss','Miss','Miss','Mr','Mr','Mrs','Mrs','Other','Other','Other','Mr','Mr','Mr', 'Mr'],\n",
    "                            inplace=True)\n",
    "\n",
    "df_test['Initial'].replace(['Mlle','Mme','Ms','Dr','Major','Lady','Countess','Jonkheer','Col','Rev','Capt','Sir','Don', 'Dona'],\n",
    "                        ['Miss','Miss','Miss','Mr','Mr','Mrs','Mrs','Other','Other','Other','Mr','Mr','Mr', 'Mr'],\n",
    "                           inplace=True)"
   ]
  },
  {
   "cell_type": "code",
   "execution_count": 51,
   "id": "blocked-polish",
   "metadata": {
    "ExecuteTime": {
     "end_time": "2021-01-19T13:44:46.498324Z",
     "start_time": "2021-01-19T13:44:46.472835Z"
    }
   },
   "outputs": [
    {
     "data": {
      "text/html": [
       "<div>\n",
       "<style scoped>\n",
       "    .dataframe tbody tr th:only-of-type {\n",
       "        vertical-align: middle;\n",
       "    }\n",
       "\n",
       "    .dataframe tbody tr th {\n",
       "        vertical-align: top;\n",
       "    }\n",
       "\n",
       "    .dataframe thead th {\n",
       "        text-align: right;\n",
       "    }\n",
       "</style>\n",
       "<table border=\"1\" class=\"dataframe\">\n",
       "  <thead>\n",
       "    <tr style=\"text-align: right;\">\n",
       "      <th></th>\n",
       "      <th>PassengerId</th>\n",
       "      <th>Survived</th>\n",
       "      <th>Pclass</th>\n",
       "      <th>Age</th>\n",
       "      <th>SibSp</th>\n",
       "      <th>Parch</th>\n",
       "      <th>Fare</th>\n",
       "      <th>FamilySize</th>\n",
       "    </tr>\n",
       "    <tr>\n",
       "      <th>Initial</th>\n",
       "      <th></th>\n",
       "      <th></th>\n",
       "      <th></th>\n",
       "      <th></th>\n",
       "      <th></th>\n",
       "      <th></th>\n",
       "      <th></th>\n",
       "      <th></th>\n",
       "    </tr>\n",
       "  </thead>\n",
       "  <tbody>\n",
       "    <tr>\n",
       "      <th>Master</th>\n",
       "      <td>414.975000</td>\n",
       "      <td>0.575000</td>\n",
       "      <td>2.625000</td>\n",
       "      <td>4.574167</td>\n",
       "      <td>2.300000</td>\n",
       "      <td>1.375000</td>\n",
       "      <td>3.340710</td>\n",
       "      <td>4.675000</td>\n",
       "    </tr>\n",
       "    <tr>\n",
       "      <th>Miss</th>\n",
       "      <td>411.741935</td>\n",
       "      <td>0.704301</td>\n",
       "      <td>2.284946</td>\n",
       "      <td>21.860000</td>\n",
       "      <td>0.698925</td>\n",
       "      <td>0.537634</td>\n",
       "      <td>3.123713</td>\n",
       "      <td>2.236559</td>\n",
       "    </tr>\n",
       "    <tr>\n",
       "      <th>Mr</th>\n",
       "      <td>455.880907</td>\n",
       "      <td>0.162571</td>\n",
       "      <td>2.381853</td>\n",
       "      <td>32.739609</td>\n",
       "      <td>0.293006</td>\n",
       "      <td>0.151229</td>\n",
       "      <td>2.651507</td>\n",
       "      <td>1.444234</td>\n",
       "    </tr>\n",
       "    <tr>\n",
       "      <th>Mrs</th>\n",
       "      <td>456.393701</td>\n",
       "      <td>0.795276</td>\n",
       "      <td>1.984252</td>\n",
       "      <td>35.981818</td>\n",
       "      <td>0.692913</td>\n",
       "      <td>0.818898</td>\n",
       "      <td>3.443751</td>\n",
       "      <td>2.511811</td>\n",
       "    </tr>\n",
       "    <tr>\n",
       "      <th>Other</th>\n",
       "      <td>564.444444</td>\n",
       "      <td>0.111111</td>\n",
       "      <td>1.666667</td>\n",
       "      <td>45.888889</td>\n",
       "      <td>0.111111</td>\n",
       "      <td>0.111111</td>\n",
       "      <td>2.641605</td>\n",
       "      <td>1.222222</td>\n",
       "    </tr>\n",
       "  </tbody>\n",
       "</table>\n",
       "</div>"
      ],
      "text/plain": [
       "         PassengerId  Survived    Pclass        Age     SibSp     Parch  \\\n",
       "Initial                                                                   \n",
       "Master    414.975000  0.575000  2.625000   4.574167  2.300000  1.375000   \n",
       "Miss      411.741935  0.704301  2.284946  21.860000  0.698925  0.537634   \n",
       "Mr        455.880907  0.162571  2.381853  32.739609  0.293006  0.151229   \n",
       "Mrs       456.393701  0.795276  1.984252  35.981818  0.692913  0.818898   \n",
       "Other     564.444444  0.111111  1.666667  45.888889  0.111111  0.111111   \n",
       "\n",
       "             Fare  FamilySize  \n",
       "Initial                        \n",
       "Master   3.340710    4.675000  \n",
       "Miss     3.123713    2.236559  \n",
       "Mr       2.651507    1.444234  \n",
       "Mrs      3.443751    2.511811  \n",
       "Other    2.641605    1.222222  "
      ]
     },
     "execution_count": 51,
     "metadata": {},
     "output_type": "execute_result"
    }
   ],
   "source": [
    "df_train.groupby('Initial').mean()"
   ]
  },
  {
   "cell_type": "markdown",
   "id": "frequent-flight",
   "metadata": {},
   "source": [
    "여성과 관계있는 Miss, Mr, Mrs 가 생존률이 높은 것을 볼 수 있습니다."
   ]
  },
  {
   "cell_type": "code",
   "execution_count": 52,
   "id": "embedded-kitty",
   "metadata": {
    "ExecuteTime": {
     "end_time": "2021-01-19T13:45:16.887934Z",
     "start_time": "2021-01-19T13:45:16.618655Z"
    }
   },
   "outputs": [
    {
     "data": {
      "text/plain": [
       "<AxesSubplot:xlabel='Initial'>"
      ]
     },
     "execution_count": 52,
     "metadata": {},
     "output_type": "execute_result"
    },
    {
     "data": {
      "image/png": "[encoded data removed]",
      "text/plain": [
       "<Figure size 432x288 with 1 Axes>"
      ]
     },
     "metadata": {
      "needs_background": "light"
     },
     "output_type": "display_data"
    }
   ],
   "source": [
    "df_train.groupby('Initial')['Survived'].mean().plot.bar()"
   ]
  },
  {
   "cell_type": "markdown",
   "id": "colored-dutch",
   "metadata": {},
   "source": [
    "- Null 을 채울 것입니다. null data 를 채우는 방법은 정말 많이 존재합니다. statistics 를 활용하는 방법도 있고, null data 가 없는 데이터를 기반으로 새로운 머신러닝 알고리즘을 만들어 예측해서 채워넣는 방식도 있습니다. 여기서는 statistics 를 활용하는 방법을 사용할 것입니다.\n",
    "- statistics 는 train data 의 것을 의미합니다. 우리는 언제나 test 를 unseen 으로 둔 상태로 놔둬야 하며, train 에서 얻은 statistics 를 기반으로 test 의 null data 를 채워줘야 합니다."
   ]
  },
  {
   "cell_type": "code",
   "execution_count": 53,
   "id": "cheap-senegal",
   "metadata": {
    "ExecuteTime": {
     "end_time": "2021-01-19T13:45:52.386065Z",
     "start_time": "2021-01-19T13:45:52.355146Z"
    }
   },
   "outputs": [
    {
     "data": {
      "text/html": [
       "<div>\n",
       "<style scoped>\n",
       "    .dataframe tbody tr th:only-of-type {\n",
       "        vertical-align: middle;\n",
       "    }\n",
       "\n",
       "    .dataframe tbody tr th {\n",
       "        vertical-align: top;\n",
       "    }\n",
       "\n",
       "    .dataframe thead th {\n",
       "        text-align: right;\n",
       "    }\n",
       "</style>\n",
       "<table border=\"1\" class=\"dataframe\">\n",
       "  <thead>\n",
       "    <tr style=\"text-align: right;\">\n",
       "      <th></th>\n",
       "      <th>PassengerId</th>\n",
       "      <th>Survived</th>\n",
       "      <th>Pclass</th>\n",
       "      <th>Age</th>\n",
       "      <th>SibSp</th>\n",
       "      <th>Parch</th>\n",
       "      <th>Fare</th>\n",
       "      <th>FamilySize</th>\n",
       "    </tr>\n",
       "    <tr>\n",
       "      <th>Initial</th>\n",
       "      <th></th>\n",
       "      <th></th>\n",
       "      <th></th>\n",
       "      <th></th>\n",
       "      <th></th>\n",
       "      <th></th>\n",
       "      <th></th>\n",
       "      <th></th>\n",
       "    </tr>\n",
       "  </thead>\n",
       "  <tbody>\n",
       "    <tr>\n",
       "      <th>Master</th>\n",
       "      <td>414.975000</td>\n",
       "      <td>0.575000</td>\n",
       "      <td>2.625000</td>\n",
       "      <td>4.574167</td>\n",
       "      <td>2.300000</td>\n",
       "      <td>1.375000</td>\n",
       "      <td>3.340710</td>\n",
       "      <td>4.675000</td>\n",
       "    </tr>\n",
       "    <tr>\n",
       "      <th>Miss</th>\n",
       "      <td>411.741935</td>\n",
       "      <td>0.704301</td>\n",
       "      <td>2.284946</td>\n",
       "      <td>21.860000</td>\n",
       "      <td>0.698925</td>\n",
       "      <td>0.537634</td>\n",
       "      <td>3.123713</td>\n",
       "      <td>2.236559</td>\n",
       "    </tr>\n",
       "    <tr>\n",
       "      <th>Mr</th>\n",
       "      <td>455.880907</td>\n",
       "      <td>0.162571</td>\n",
       "      <td>2.381853</td>\n",
       "      <td>32.739609</td>\n",
       "      <td>0.293006</td>\n",
       "      <td>0.151229</td>\n",
       "      <td>2.651507</td>\n",
       "      <td>1.444234</td>\n",
       "    </tr>\n",
       "    <tr>\n",
       "      <th>Mrs</th>\n",
       "      <td>456.393701</td>\n",
       "      <td>0.795276</td>\n",
       "      <td>1.984252</td>\n",
       "      <td>35.981818</td>\n",
       "      <td>0.692913</td>\n",
       "      <td>0.818898</td>\n",
       "      <td>3.443751</td>\n",
       "      <td>2.511811</td>\n",
       "    </tr>\n",
       "    <tr>\n",
       "      <th>Other</th>\n",
       "      <td>564.444444</td>\n",
       "      <td>0.111111</td>\n",
       "      <td>1.666667</td>\n",
       "      <td>45.888889</td>\n",
       "      <td>0.111111</td>\n",
       "      <td>0.111111</td>\n",
       "      <td>2.641605</td>\n",
       "      <td>1.222222</td>\n",
       "    </tr>\n",
       "  </tbody>\n",
       "</table>\n",
       "</div>"
      ],
      "text/plain": [
       "         PassengerId  Survived    Pclass        Age     SibSp     Parch  \\\n",
       "Initial                                                                   \n",
       "Master    414.975000  0.575000  2.625000   4.574167  2.300000  1.375000   \n",
       "Miss      411.741935  0.704301  2.284946  21.860000  0.698925  0.537634   \n",
       "Mr        455.880907  0.162571  2.381853  32.739609  0.293006  0.151229   \n",
       "Mrs       456.393701  0.795276  1.984252  35.981818  0.692913  0.818898   \n",
       "Other     564.444444  0.111111  1.666667  45.888889  0.111111  0.111111   \n",
       "\n",
       "             Fare  FamilySize  \n",
       "Initial                        \n",
       "Master   3.340710    4.675000  \n",
       "Miss     3.123713    2.236559  \n",
       "Mr       2.651507    1.444234  \n",
       "Mrs      3.443751    2.511811  \n",
       "Other    2.641605    1.222222  "
      ]
     },
     "execution_count": 53,
     "metadata": {},
     "output_type": "execute_result"
    }
   ],
   "source": [
    "df_train.groupby('Initial').mean()"
   ]
  },
  {
   "cell_type": "markdown",
   "id": "specific-india",
   "metadata": {},
   "source": [
    "- Age의 평균을 이용해 Null value 를 채우도록 하겠습니다.\n",
    "- pandas dataframe 을 다룰 때에는 boolean array를 이용해 indexing 하는 방법이 편리합니다.\n",
    "- 아래 코드 첫줄을 해석하자면, isnull() 이면서 Initial 이 Mr 인 조건을 만족하는 row(탑승객) 의 'Age' 의 값을 33으로 치환한다 입니다.\n",
    "- loc + boolean + column 을 사용해 값을 치환하는 방법은 자주 쓰이므로 꼭 익숙해집시다."
   ]
  },
  {
   "cell_type": "code",
   "execution_count": 54,
   "id": "sunrise-singer",
   "metadata": {
    "ExecuteTime": {
     "end_time": "2021-01-19T13:48:10.960217Z",
     "start_time": "2021-01-19T13:48:10.928281Z"
    }
   },
   "outputs": [],
   "source": [
    "df_train.loc[(df_train.Age.isnull())&(df_train.Initial=='Mr'),'Age'] = 33\n",
    "df_train.loc[(df_train.Age.isnull())&(df_train.Initial=='Mrs'),'Age'] = 36\n",
    "df_train.loc[(df_train.Age.isnull())&(df_train.Initial=='Master'),'Age'] = 5\n",
    "df_train.loc[(df_train.Age.isnull())&(df_train.Initial=='Miss'),'Age'] = 22\n",
    "df_train.loc[(df_train.Age.isnull())&(df_train.Initial=='Other'),'Age'] = 46\n",
    "\n",
    "df_test.loc[(df_test.Age.isnull())&(df_test.Initial=='Mr'),'Age'] = 33\n",
    "df_test.loc[(df_test.Age.isnull())&(df_test.Initial=='Mrs'),'Age'] = 36\n",
    "df_test.loc[(df_test.Age.isnull())&(df_test.Initial=='Master'),'Age'] = 5\n",
    "df_test.loc[(df_test.Age.isnull())&(df_test.Initial=='Miss'),'Age'] = 22\n",
    "df_test.loc[(df_test.Age.isnull())&(df_test.Initial=='Other'),'Age'] = 46"
   ]
  },
  {
   "cell_type": "markdown",
   "id": "settled-cross",
   "metadata": {},
   "source": [
    "여기선 간단하게 Null을 채웠지만, 좀 더 다양한 방법을 쓴 예시들이 다른 커널에 존재합니다. 참고 : https://www.kaggle.com/yassineghouzam/titanic-top-4-with-ensemble-modeling"
   ]
  },
  {
   "cell_type": "markdown",
   "id": "legendary-violence",
   "metadata": {},
   "source": [
    "### 3.1.2 Fill Null in Embarked"
   ]
  },
  {
   "cell_type": "code",
   "execution_count": 55,
   "id": "quick-pledge",
   "metadata": {
    "ExecuteTime": {
     "end_time": "2021-01-19T13:48:46.376593Z",
     "start_time": "2021-01-19T13:48:46.371607Z"
    }
   },
   "outputs": [
    {
     "name": "stdout",
     "output_type": "stream",
     "text": [
      "Embarked has  2  Null values\n"
     ]
    }
   ],
   "source": [
    "print('Embarked has ', sum(df_train['Embarked'].isnull()), ' Null values')"
   ]
  },
  {
   "cell_type": "markdown",
   "id": "guilty-teach",
   "metadata": {},
   "source": [
    "- Embarked 는 Null value 가 2개이고, S 에서 가장 많은 탑승객이 있었으므로, 간단하게 Null 을 S로 채우겠습니다.\n",
    "- dataframe 의 fillna method 를 이용하면 쉽게 채울 수 있습니다. 여기서 inplace=True 로 하면 df_train 에 fillna 를 실제로 적용하게 됩니다."
   ]
  },
  {
   "cell_type": "code",
   "execution_count": 56,
   "id": "facial-juice",
   "metadata": {
    "ExecuteTime": {
     "end_time": "2021-01-19T13:49:15.006350Z",
     "start_time": "2021-01-19T13:49:14.989220Z"
    }
   },
   "outputs": [],
   "source": [
    "df_train['Embarked'].fillna('S', inplace=True)"
   ]
  },
  {
   "cell_type": "markdown",
   "id": "proved-duncan",
   "metadata": {},
   "source": [
    "## 3.2 Change Age (continuous to categorical)"
   ]
  },
  {
   "cell_type": "markdown",
   "id": "valid-strip",
   "metadata": {},
   "source": [
    "- Age 는 현재 continuous feature 입니다. 이대로 써도 모델을 세울 수 있지만, Age 를 몇개의 group 으로 나누어 category 화 시켜줄 수 도 있습니다. continuous 를 categorical 로 바꾸면 자칫 information loss 가 생길 수도 있습니다만, 다양한 방법을 소개하는 것이 목적이므로 진행하도록 하겠습니다.\n",
    "- 방법은 여러가지가 있습니다. dataframe 의 indexing 방법인 loc 를 사용하여 직접해줄 수 있고, 아니면 apply 를 사용해 함수를 넣어줄 수 있습니다.\n",
    "- 나이는 10살 간격으로 나누겠습니다."
   ]
  },
  {
   "cell_type": "markdown",
   "id": "exposed-applicant",
   "metadata": {},
   "source": [
    "1. loc 를 사용한 방법"
   ]
  },
  {
   "cell_type": "code",
   "execution_count": 58,
   "id": "experimental-burke",
   "metadata": {
    "ExecuteTime": {
     "end_time": "2021-01-19T13:53:40.819553Z",
     "start_time": "2021-01-19T13:53:40.778637Z"
    }
   },
   "outputs": [],
   "source": [
    "df_train['Age_cat'] = 0\n",
    "df_train.loc[df_train['Age']<10, 'Age_cat'] = 0\n",
    "df_train.loc[(10<=df_train['Age'])&(df_train['Age']<20),'Age_cat'] = 1\n",
    "df_train.loc[(20<=df_train['Age'])&(df_train['Age']<30),'Age_cat'] = 2\n",
    "df_train.loc[(30<=df_train['Age'])&(df_train['Age']<40),'Age_cat'] = 3\n",
    "df_train.loc[(40<=df_train['Age'])&(df_train['Age']<50),'Age_cat'] = 4\n",
    "df_train.loc[(50<=df_train['Age'])&(df_train['Age']<60),'Age_cat'] = 5\n",
    "df_train.loc[(60<=df_train['Age'])&(df_train['Age']<70),'Age_cat'] = 6\n",
    "df_train.loc[70<= df_train['Age'], 'Age_cat'] = 7\n",
    "\n",
    "df_test['Age_cat'] = 0\n",
    "df_test.loc[df_test['Age']<10,'Age_cat'] = 0\n",
    "df_test.loc[(10<=df_test['Age'])&(df_test['Age']<20),'Age_cat'] = 1\n",
    "df_test.loc[(20<=df_test['Age'])&(df_test['Age']<30),'Age_cat'] = 2\n",
    "df_test.loc[(30<=df_test['Age'])&(df_test['Age']<40),'Age_cat'] = 3\n",
    "df_test.loc[(40<=df_test['Age'])&(df_test['Age']<50),'Age_cat'] = 4\n",
    "df_test.loc[(50<=df_test['Age'])&(df_test['Age']<60),'Age_cat'] = 5\n",
    "df_test.loc[(60<=df_test['Age'])&(df_test['Age']<70),'Age_cat'] = 6\n",
    "df_test.loc[70<=df_test['Age'],'Age_cat'] = 7"
   ]
  },
  {
   "cell_type": "markdown",
   "id": "bored-prerequisite",
   "metadata": {},
   "source": [
    "2. 간단한 함수를 만들어 apply 메소드에 넣어주는 방법"
   ]
  },
  {
   "cell_type": "code",
   "execution_count": 59,
   "id": "processed-bridges",
   "metadata": {
    "ExecuteTime": {
     "end_time": "2021-01-19T13:55:20.716862Z",
     "start_time": "2021-01-19T13:55:20.703392Z"
    }
   },
   "outputs": [],
   "source": [
    "def category_age(x):\n",
    "    if x<10:\n",
    "        return 0\n",
    "    elif x<20:\n",
    "        return 1\n",
    "    elif x<30:\n",
    "        return 2\n",
    "    elif x<40:\n",
    "        return 3\n",
    "    elif x<50:\n",
    "        return 4\n",
    "    elif x<60:\n",
    "        return 5\n",
    "    elif x<70:\n",
    "        return 6\n",
    "    else:\n",
    "        return 7\n",
    "\n",
    "df_train['Age_cat_2'] = df_train['Age'].apply(category_age)"
   ]
  },
  {
   "cell_type": "markdown",
   "id": "respiratory-pregnancy",
   "metadata": {},
   "source": [
    "두가지 방법이 잘 적용됬다면, 둘다 같은 결과를 내야합니다. 이를 확인하기 위해 Series 간 boolean 비교 후 all() 메소드를 사용합시다. all() 메소드는 모든 값이 True 면 True, 하나라도 False 가 있으면 False 를 줍니다."
   ]
  },
  {
   "cell_type": "code",
   "execution_count": 60,
   "id": "collective-twins",
   "metadata": {
    "ExecuteTime": {
     "end_time": "2021-01-19T13:56:11.668143Z",
     "start_time": "2021-01-19T13:56:11.652592Z"
    }
   },
   "outputs": [
    {
     "name": "stdout",
     "output_type": "stream",
     "text": [
      "1번 결과 == 2번결과라면 True를 줘야함 ->  True\n"
     ]
    }
   ],
   "source": [
    "print('1번 결과 == 2번결과라면 True를 줘야함 -> ', (df_train['Age_cat'] == df_train['Age_cat_2']).all())"
   ]
  },
  {
   "cell_type": "markdown",
   "id": "transsexual-humidity",
   "metadata": {},
   "source": [
    "이제 중복되는 Age_cat 컬럼과 원래 컬럼 Age 를 제거하겠습니다."
   ]
  },
  {
   "cell_type": "code",
   "execution_count": 63,
   "id": "proud-newfoundland",
   "metadata": {
    "ExecuteTime": {
     "end_time": "2021-01-19T13:57:09.971093Z",
     "start_time": "2021-01-19T13:57:09.954113Z"
    }
   },
   "outputs": [],
   "source": [
    "df_train.drop(['Age','Age_cat_2'],axis=1,inplace=True)\n",
    "df_test.drop(['Age'],axis=1,inplace=True)"
   ]
  },
  {
   "cell_type": "markdown",
   "id": "compact-header",
   "metadata": {},
   "source": [
    "## 3.3 Change Initial, Embarked and Sex (string to numerical)"
   ]
  },
  {
   "cell_type": "markdown",
   "id": "comparative-vacation",
   "metadata": {},
   "source": [
    "- 현재 Initial 은 Mr, Mrs, Miss, Master, Other 총 5개로 이루어져 있습니다. 이런 카테고리로 표현되어져 있는 데이터를 모델에 인풋으로 넣어줄 때 우리가 해야할 것은 먼저 컴퓨터가 인식할 수 있도록 수치화 시켜야 합니다.\n",
    "- map method 를 가지고 간단히 할 수 있습니다.\n",
    "- 사전 순서대로 정리하여 mapping 하겠습니다."
   ]
  },
  {
   "cell_type": "code",
   "execution_count": 64,
   "id": "military-florist",
   "metadata": {
    "ExecuteTime": {
     "end_time": "2021-01-19T13:58:51.104937Z",
     "start_time": "2021-01-19T13:58:51.096959Z"
    }
   },
   "outputs": [],
   "source": [
    "df_train['Initial'] = df_train['Initial'].map({'Master':0,'Miss':1,'Ms':2,'Mrs':3,'Other':4})\n",
    "df_test['Initial'] = df_test['Initial'].map({'Master':0,'Miss':1,'Ms':2,'Mrs':3,'Other':4})"
   ]
  },
  {
   "cell_type": "markdown",
   "id": "killing-immunology",
   "metadata": {},
   "source": [
    "- Embarked 도 C, Q, S로 이루어져 있습니다. map 을 이용해 바꿔봅시다.\n",
    "- 그러기 앞서서, 특정 column 에 어떤 값들이 있는 지 확인해보는 방법을 잠깐 살펴보겠습니다. 간단히 unique() 메소드를 쓰거나, value_counts() 를 써서 count 까지 보는 방법이 있습니다."
   ]
  },
  {
   "cell_type": "code",
   "execution_count": 66,
   "id": "angry-october",
   "metadata": {
    "ExecuteTime": {
     "end_time": "2021-01-19T13:59:33.008290Z",
     "start_time": "2021-01-19T13:59:33.001137Z"
    }
   },
   "outputs": [
    {
     "data": {
      "text/plain": [
       "array(['S', 'C', 'Q'], dtype=object)"
      ]
     },
     "execution_count": 66,
     "metadata": {},
     "output_type": "execute_result"
    }
   ],
   "source": [
    "df_train['Embarked'].unique()"
   ]
  },
  {
   "cell_type": "code",
   "execution_count": 67,
   "id": "musical-independence",
   "metadata": {
    "ExecuteTime": {
     "end_time": "2021-01-19T13:59:42.245577Z",
     "start_time": "2021-01-19T13:59:42.237600Z"
    }
   },
   "outputs": [
    {
     "data": {
      "text/plain": [
       "S    646\n",
       "C    168\n",
       "Q     77\n",
       "Name: Embarked, dtype: int64"
      ]
     },
     "execution_count": 67,
     "metadata": {},
     "output_type": "execute_result"
    }
   ],
   "source": [
    "df_train['Embarked'].value_counts()"
   ]
  },
  {
   "cell_type": "code",
   "execution_count": 68,
   "id": "occasional-parts",
   "metadata": {
    "ExecuteTime": {
     "end_time": "2021-01-19T14:00:16.978892Z",
     "start_time": "2021-01-19T14:00:16.961938Z"
    }
   },
   "outputs": [],
   "source": [
    "df_train['Embarked'] = df_train['Embarked'].map({'C':0,'Q':1,'S':2})\n",
    "df_test['Embarked'] = df_test['Embarked'].map({'C':0,'Q':1,'S':2})"
   ]
  },
  {
   "cell_type": "markdown",
   "id": "accredited-glasgow",
   "metadata": {},
   "source": [
    "한번 Null 이 사라졌는지 확인해봅시다. Embarked Column만 가져온 것은 하나의 pandas의 Series 객체므로, isnull() 메소드를 사용해 Series의 값들이 null 인지 아닌지에 대한 boolean 값을 얻을 수 있습니다. 그리고 이것에 any() 를 사용하여, True 가 단하나라도 있을 시(Null이 한개라도 있을 시) True 를 반환해주게 됩니다. 우리는 Null 을 S로 다 바꿔주었으므로 False 를 얻게 됩니다"
   ]
  },
  {
   "cell_type": "code",
   "execution_count": 69,
   "id": "affiliated-colors",
   "metadata": {
    "ExecuteTime": {
     "end_time": "2021-01-19T14:00:39.730502Z",
     "start_time": "2021-01-19T14:00:39.724519Z"
    }
   },
   "outputs": [
    {
     "data": {
      "text/plain": [
       "False"
      ]
     },
     "execution_count": 69,
     "metadata": {},
     "output_type": "execute_result"
    }
   ],
   "source": [
    "df_train['Embarked'].isnull().any()"
   ]
  },
  {
   "cell_type": "markdown",
   "id": "sensitive-occupation",
   "metadata": {},
   "source": [
    "Sex 도 Female, male 로 이루어져 있습니다. map 을 이용해 바꿔봅시다."
   ]
  },
  {
   "cell_type": "code",
   "execution_count": 70,
   "id": "earlier-sacramento",
   "metadata": {
    "ExecuteTime": {
     "end_time": "2021-01-19T14:01:20.942027Z",
     "start_time": "2021-01-19T14:01:20.934049Z"
    }
   },
   "outputs": [],
   "source": [
    "df_train['Sex'] = df_train['Sex'].map({'female':0,'male':1})\n",
    "df_test['Sex'] = df_test['Sex'].map({'female':0,'male':1})"
   ]
  },
  {
   "cell_type": "markdown",
   "id": "christian-collective",
   "metadata": {},
   "source": [
    "- 이제 각 feature 간의 상관관계를 한번 보려고 합니다. 두 변수간의 Pearson correlation 을 구하면 (-1, 1) 사이의 값을 얻을 수 있습니다. -1로 갈수록 음의 상관관계, 1로 갈수록 양의 상관관계를 의미하며, 0은 상관관계가 없다는 것을 의미합니다.\n",
    "- 우리는 여러 feature 를 가지고 있으니 이를 하나의 maxtrix 형태로 보면 편할 텐데, 이를 heatmap plot 이라고 하며, dataframe 의 corr() 메소드와 seaborn 을 가지고 편하게 그릴 수 있습니다."
   ]
  },
  {
   "cell_type": "code",
   "execution_count": 83,
   "id": "supposed-masters",
   "metadata": {
    "ExecuteTime": {
     "end_time": "2021-01-19T14:04:51.049504Z",
     "start_time": "2021-01-19T14:04:49.729090Z"
    }
   },
   "outputs": [
    {
     "data": {
      "image/png": "[encoded data removed]",
      "text/plain": [
       "<Figure size 1008x864 with 2 Axes>"
      ]
     },
     "metadata": {
      "needs_background": "light"
     },
     "output_type": "display_data"
    }
   ],
   "source": [
    "heatmap_data = df_train[['Survived','Pclass','Sex','Fare','Embarked','FamilySize','Initial','Age_cat']]\n",
    "\n",
    "colormap = plt.cm.RdBu\n",
    "plt.figure(figsize=(14,12))\n",
    "plt.title('Person Correlation of Features', y=1.05,size=15)\n",
    "sns.heatmap(heatmap_data.astype(float).corr(), linewidths=0.1, vmax=1.0,square=True,\n",
    "           cmap=colormap, linecolor='white',annot=True,annot_kws={'size':16})\n",
    "\n",
    "del heatmap_data"
   ]
  },
  {
   "cell_type": "markdown",
   "id": "constitutional-purse",
   "metadata": {},
   "source": [
    "- 우리가 EDA에서 살펴봤듯이, Sex 와 Pclass 가 Survived 에 상관관계가 어느 정도 있음을 볼 수 있습니다.\n",
    "- 생각보다 fare 와 Embarked 도 상관관계가 있음을 볼 수 있습니다.\n",
    "- 우리가 여기서 얻을 수 있는 정보는 서로 강한 상관관계를 가지는 feature들이 없다는 것입니다.\n",
    "- 이것은 우리가 모델을 학습시킬 때, 불필요한(redundant, superfluous) feature 가 없다는 것을 의미합니다. 1 또는 -1 의 상관관계를 가진 feature A, B 가 있다면, 우리가 얻을 수 있는 정보는 사실 하나일 거니까요.\n",
    "- 이제 실제로 모델을 학습시키기 앞서서 data preprocessing (전처리)을 진행해보겠습니다. "
   ]
  },
  {
   "cell_type": "markdown",
   "id": "advance-brook",
   "metadata": {},
   "source": [
    "## 3.4 One-hot encoding on Initial and Embarked"
   ]
  },
  {
   "cell_type": "markdown",
   "id": "medium-masters",
   "metadata": {},
   "source": [
    "- 수치화시킨 카테고리 데이터를 그대로 넣어도 되지만, 모델의 성능을 높이기 위해 one-hot encoding을 해줄 수 있습니다.\n",
    "- 수치화는 간단히 Master == 0, Miss == 1, Mr == 2, Mrs == 3, Other == 4 로 매핑해주는 것을 말합니다.\n",
    "- One-hot encoding 은 위 카테고리를 (0, 1) 로 이루어진 5차원의 벡터로 나타내는 것을 말합니다.\n",
    "- 직접 코딩할 수도 있지만, pandas 의 get_dummies 를 사용하여 쉽게 해결 할 수 있습니다.\n",
    "- 총 5개의 카테고리니, one-hot encoding 을 하고 나면 새로운 5개의 column 이 생겨납니다.\n",
    "- Initial 을 prefix로 두어서 구분이 쉽게 만들어 줍니다."
   ]
  },
  {
   "cell_type": "code",
   "execution_count": 85,
   "id": "included-vault",
   "metadata": {
    "ExecuteTime": {
     "end_time": "2021-01-19T14:07:17.011998Z",
     "start_time": "2021-01-19T14:07:16.989021Z"
    }
   },
   "outputs": [],
   "source": [
    "df_train = pd.get_dummies(df_train, columns=['Initial'], prefix='Initial')\n",
    "df_test = pd.get_dummies(df_test, columns=['Initial'], prefix='Initial')"
   ]
  },
  {
   "cell_type": "code",
   "execution_count": 86,
   "id": "organizational-inflation",
   "metadata": {
    "ExecuteTime": {
     "end_time": "2021-01-19T14:07:23.001071Z",
     "start_time": "2021-01-19T14:07:22.972122Z"
    }
   },
   "outputs": [
    {
     "data": {
      "text/html": [
       "<div>\n",
       "<style scoped>\n",
       "    .dataframe tbody tr th:only-of-type {\n",
       "        vertical-align: middle;\n",
       "    }\n",
       "\n",
       "    .dataframe tbody tr th {\n",
       "        vertical-align: top;\n",
       "    }\n",
       "\n",
       "    .dataframe thead th {\n",
       "        text-align: right;\n",
       "    }\n",
       "</style>\n",
       "<table border=\"1\" class=\"dataframe\">\n",
       "  <thead>\n",
       "    <tr style=\"text-align: right;\">\n",
       "      <th></th>\n",
       "      <th>PassengerId</th>\n",
       "      <th>Survived</th>\n",
       "      <th>Pclass</th>\n",
       "      <th>Name</th>\n",
       "      <th>Sex</th>\n",
       "      <th>SibSp</th>\n",
       "      <th>Parch</th>\n",
       "      <th>Ticket</th>\n",
       "      <th>Fare</th>\n",
       "      <th>Cabin</th>\n",
       "      <th>Embarked</th>\n",
       "      <th>FamilySize</th>\n",
       "      <th>Age_cat</th>\n",
       "      <th>Initial_0.0</th>\n",
       "      <th>Initial_1.0</th>\n",
       "      <th>Initial_3.0</th>\n",
       "      <th>Initial_4.0</th>\n",
       "    </tr>\n",
       "  </thead>\n",
       "  <tbody>\n",
       "    <tr>\n",
       "      <th>0</th>\n",
       "      <td>1</td>\n",
       "      <td>0</td>\n",
       "      <td>3</td>\n",
       "      <td>Braund, Mr. Owen Harris</td>\n",
       "      <td>1</td>\n",
       "      <td>1</td>\n",
       "      <td>0</td>\n",
       "      <td>A/5 21171</td>\n",
       "      <td>1.981001</td>\n",
       "      <td>NaN</td>\n",
       "      <td>2</td>\n",
       "      <td>2</td>\n",
       "      <td>2</td>\n",
       "      <td>0</td>\n",
       "      <td>0</td>\n",
       "      <td>0</td>\n",
       "      <td>0</td>\n",
       "    </tr>\n",
       "    <tr>\n",
       "      <th>1</th>\n",
       "      <td>2</td>\n",
       "      <td>1</td>\n",
       "      <td>1</td>\n",
       "      <td>Cumings, Mrs. John Bradley (Florence Briggs Th...</td>\n",
       "      <td>0</td>\n",
       "      <td>1</td>\n",
       "      <td>0</td>\n",
       "      <td>PC 17599</td>\n",
       "      <td>4.266662</td>\n",
       "      <td>C85</td>\n",
       "      <td>0</td>\n",
       "      <td>2</td>\n",
       "      <td>3</td>\n",
       "      <td>0</td>\n",
       "      <td>0</td>\n",
       "      <td>1</td>\n",
       "      <td>0</td>\n",
       "    </tr>\n",
       "    <tr>\n",
       "      <th>2</th>\n",
       "      <td>3</td>\n",
       "      <td>1</td>\n",
       "      <td>3</td>\n",
       "      <td>Heikkinen, Miss. Laina</td>\n",
       "      <td>0</td>\n",
       "      <td>0</td>\n",
       "      <td>0</td>\n",
       "      <td>STON/O2. 3101282</td>\n",
       "      <td>2.070022</td>\n",
       "      <td>NaN</td>\n",
       "      <td>2</td>\n",
       "      <td>1</td>\n",
       "      <td>2</td>\n",
       "      <td>0</td>\n",
       "      <td>1</td>\n",
       "      <td>0</td>\n",
       "      <td>0</td>\n",
       "    </tr>\n",
       "    <tr>\n",
       "      <th>3</th>\n",
       "      <td>4</td>\n",
       "      <td>1</td>\n",
       "      <td>1</td>\n",
       "      <td>Futrelle, Mrs. Jacques Heath (Lily May Peel)</td>\n",
       "      <td>0</td>\n",
       "      <td>1</td>\n",
       "      <td>0</td>\n",
       "      <td>113803</td>\n",
       "      <td>3.972177</td>\n",
       "      <td>C123</td>\n",
       "      <td>2</td>\n",
       "      <td>2</td>\n",
       "      <td>3</td>\n",
       "      <td>0</td>\n",
       "      <td>0</td>\n",
       "      <td>1</td>\n",
       "      <td>0</td>\n",
       "    </tr>\n",
       "    <tr>\n",
       "      <th>4</th>\n",
       "      <td>5</td>\n",
       "      <td>0</td>\n",
       "      <td>3</td>\n",
       "      <td>Allen, Mr. William Henry</td>\n",
       "      <td>1</td>\n",
       "      <td>0</td>\n",
       "      <td>0</td>\n",
       "      <td>373450</td>\n",
       "      <td>2.085672</td>\n",
       "      <td>NaN</td>\n",
       "      <td>2</td>\n",
       "      <td>1</td>\n",
       "      <td>3</td>\n",
       "      <td>0</td>\n",
       "      <td>0</td>\n",
       "      <td>0</td>\n",
       "      <td>0</td>\n",
       "    </tr>\n",
       "  </tbody>\n",
       "</table>\n",
       "</div>"
      ],
      "text/plain": [
       "   PassengerId  Survived  Pclass  \\\n",
       "0            1         0       3   \n",
       "1            2         1       1   \n",
       "2            3         1       3   \n",
       "3            4         1       1   \n",
       "4            5         0       3   \n",
       "\n",
       "                                                Name  Sex  SibSp  Parch  \\\n",
       "0                            Braund, Mr. Owen Harris    1      1      0   \n",
       "1  Cumings, Mrs. John Bradley (Florence Briggs Th...    0      1      0   \n",
       "2                             Heikkinen, Miss. Laina    0      0      0   \n",
       "3       Futrelle, Mrs. Jacques Heath (Lily May Peel)    0      1      0   \n",
       "4                           Allen, Mr. William Henry    1      0      0   \n",
       "\n",
       "             Ticket      Fare Cabin  Embarked  FamilySize  Age_cat  \\\n",
       "0         A/5 21171  1.981001   NaN         2           2        2   \n",
       "1          PC 17599  4.266662   C85         0           2        3   \n",
       "2  STON/O2. 3101282  2.070022   NaN         2           1        2   \n",
       "3            113803  3.972177  C123         2           2        3   \n",
       "4            373450  2.085672   NaN         2           1        3   \n",
       "\n",
       "   Initial_0.0  Initial_1.0  Initial_3.0  Initial_4.0  \n",
       "0            0            0            0            0  \n",
       "1            0            0            1            0  \n",
       "2            0            1            0            0  \n",
       "3            0            0            1            0  \n",
       "4            0            0            0            0  "
      ]
     },
     "execution_count": 86,
     "metadata": {},
     "output_type": "execute_result"
    }
   ],
   "source": [
    "df_train.head()"
   ]
  },
  {
   "cell_type": "markdown",
   "id": "standing-invite",
   "metadata": {},
   "source": [
    "- 오른쪽에 우리가 만들려고 했던 one-hot encoded columns 가 생성된 것이 보입니다.\n",
    "- Embarked 에도 적용하겠습니다. Initial 때와 마찬가지로 one-hot encoding 을 사용해 표현하겠습니다."
   ]
  },
  {
   "cell_type": "code",
   "execution_count": 88,
   "id": "revolutionary-configuration",
   "metadata": {
    "ExecuteTime": {
     "end_time": "2021-01-19T14:09:43.075644Z",
     "start_time": "2021-01-19T14:09:43.055699Z"
    }
   },
   "outputs": [],
   "source": [
    "df_train = pd.get_dummies(df_train, columns=['Embarked'], prefix='Embarked')\n",
    "df_test = pd.get_dummies(df_test, columns=['Embarked'],prefix='Embarked')"
   ]
  },
  {
   "cell_type": "markdown",
   "id": "varying-tribe",
   "metadata": {},
   "source": [
    "- one-hot encoding 을 적용했습니다.\n",
    "- sklearn 로 Labelencoder + OneHotencoder 이용해도 one-hot encoding 이 가능합니다.\n",
    "- 가끔 category 가 100개가 넘어가는 경우가 있습니다. 이때 one-hot encoding을 사용하면 column이 100개가 생겨, 학습시 매우 버거울 경우가 있습니다. 이런 경우는 다른 방법을 사용합니다."
   ]
  },
  {
   "cell_type": "markdown",
   "id": "finished-invasion",
   "metadata": {},
   "source": [
    "## 3.5 Drop Columns"
   ]
  },
  {
   "cell_type": "markdown",
   "id": "beautiful-parent",
   "metadata": {},
   "source": [
    "필요한 columns 만 남기고 다 지웁시다."
   ]
  },
  {
   "cell_type": "code",
   "execution_count": 89,
   "id": "ongoing-resistance",
   "metadata": {
    "ExecuteTime": {
     "end_time": "2021-01-19T14:11:25.685481Z",
     "start_time": "2021-01-19T14:11:25.675470Z"
    }
   },
   "outputs": [],
   "source": [
    "df_train.drop(['PassengerId','Name','SibSp','Parch','Ticket','Cabin'],axis=1,inplace=True)\n",
    "df_test.drop(['PassengerId','Name','SibSp','Parch','Ticket','Cabin'],axis=1,inplace=True)"
   ]
  },
  {
   "cell_type": "code",
   "execution_count": 90,
   "id": "little-script",
   "metadata": {
    "ExecuteTime": {
     "end_time": "2021-01-19T14:11:29.811836Z",
     "start_time": "2021-01-19T14:11:29.786884Z"
    }
   },
   "outputs": [
    {
     "data": {
      "text/html": [
       "<div>\n",
       "<style scoped>\n",
       "    .dataframe tbody tr th:only-of-type {\n",
       "        vertical-align: middle;\n",
       "    }\n",
       "\n",
       "    .dataframe tbody tr th {\n",
       "        vertical-align: top;\n",
       "    }\n",
       "\n",
       "    .dataframe thead th {\n",
       "        text-align: right;\n",
       "    }\n",
       "</style>\n",
       "<table border=\"1\" class=\"dataframe\">\n",
       "  <thead>\n",
       "    <tr style=\"text-align: right;\">\n",
       "      <th></th>\n",
       "      <th>Survived</th>\n",
       "      <th>Pclass</th>\n",
       "      <th>Sex</th>\n",
       "      <th>Fare</th>\n",
       "      <th>FamilySize</th>\n",
       "      <th>Age_cat</th>\n",
       "      <th>Initial_0.0</th>\n",
       "      <th>Initial_1.0</th>\n",
       "      <th>Initial_3.0</th>\n",
       "      <th>Initial_4.0</th>\n",
       "      <th>Embarked_0</th>\n",
       "      <th>Embarked_1</th>\n",
       "      <th>Embarked_2</th>\n",
       "    </tr>\n",
       "  </thead>\n",
       "  <tbody>\n",
       "    <tr>\n",
       "      <th>0</th>\n",
       "      <td>0</td>\n",
       "      <td>3</td>\n",
       "      <td>1</td>\n",
       "      <td>1.981001</td>\n",
       "      <td>2</td>\n",
       "      <td>2</td>\n",
       "      <td>0</td>\n",
       "      <td>0</td>\n",
       "      <td>0</td>\n",
       "      <td>0</td>\n",
       "      <td>0</td>\n",
       "      <td>0</td>\n",
       "      <td>1</td>\n",
       "    </tr>\n",
       "    <tr>\n",
       "      <th>1</th>\n",
       "      <td>1</td>\n",
       "      <td>1</td>\n",
       "      <td>0</td>\n",
       "      <td>4.266662</td>\n",
       "      <td>2</td>\n",
       "      <td>3</td>\n",
       "      <td>0</td>\n",
       "      <td>0</td>\n",
       "      <td>1</td>\n",
       "      <td>0</td>\n",
       "      <td>1</td>\n",
       "      <td>0</td>\n",
       "      <td>0</td>\n",
       "    </tr>\n",
       "    <tr>\n",
       "      <th>2</th>\n",
       "      <td>1</td>\n",
       "      <td>3</td>\n",
       "      <td>0</td>\n",
       "      <td>2.070022</td>\n",
       "      <td>1</td>\n",
       "      <td>2</td>\n",
       "      <td>0</td>\n",
       "      <td>1</td>\n",
       "      <td>0</td>\n",
       "      <td>0</td>\n",
       "      <td>0</td>\n",
       "      <td>0</td>\n",
       "      <td>1</td>\n",
       "    </tr>\n",
       "    <tr>\n",
       "      <th>3</th>\n",
       "      <td>1</td>\n",
       "      <td>1</td>\n",
       "      <td>0</td>\n",
       "      <td>3.972177</td>\n",
       "      <td>2</td>\n",
       "      <td>3</td>\n",
       "      <td>0</td>\n",
       "      <td>0</td>\n",
       "      <td>1</td>\n",
       "      <td>0</td>\n",
       "      <td>0</td>\n",
       "      <td>0</td>\n",
       "      <td>1</td>\n",
       "    </tr>\n",
       "    <tr>\n",
       "      <th>4</th>\n",
       "      <td>0</td>\n",
       "      <td>3</td>\n",
       "      <td>1</td>\n",
       "      <td>2.085672</td>\n",
       "      <td>1</td>\n",
       "      <td>3</td>\n",
       "      <td>0</td>\n",
       "      <td>0</td>\n",
       "      <td>0</td>\n",
       "      <td>0</td>\n",
       "      <td>0</td>\n",
       "      <td>0</td>\n",
       "      <td>1</td>\n",
       "    </tr>\n",
       "  </tbody>\n",
       "</table>\n",
       "</div>"
      ],
      "text/plain": [
       "   Survived  Pclass  Sex      Fare  FamilySize  Age_cat  Initial_0.0  \\\n",
       "0         0       3    1  1.981001           2        2            0   \n",
       "1         1       1    0  4.266662           2        3            0   \n",
       "2         1       3    0  2.070022           1        2            0   \n",
       "3         1       1    0  3.972177           2        3            0   \n",
       "4         0       3    1  2.085672           1        3            0   \n",
       "\n",
       "   Initial_1.0  Initial_3.0  Initial_4.0  Embarked_0  Embarked_1  Embarked_2  \n",
       "0            0            0            0           0           0           1  \n",
       "1            0            1            0           1           0           0  \n",
       "2            1            0            0           0           0           1  \n",
       "3            0            1            0           0           0           1  \n",
       "4            0            0            0           0           0           1  "
      ]
     },
     "execution_count": 90,
     "metadata": {},
     "output_type": "execute_result"
    }
   ],
   "source": [
    "df_train.head()"
   ]
  },
  {
   "cell_type": "code",
   "execution_count": 91,
   "id": "elegant-aluminum",
   "metadata": {
    "ExecuteTime": {
     "end_time": "2021-01-19T14:11:35.113065Z",
     "start_time": "2021-01-19T14:11:35.101058Z"
    }
   },
   "outputs": [
    {
     "data": {
      "text/html": [
       "<div>\n",
       "<style scoped>\n",
       "    .dataframe tbody tr th:only-of-type {\n",
       "        vertical-align: middle;\n",
       "    }\n",
       "\n",
       "    .dataframe tbody tr th {\n",
       "        vertical-align: top;\n",
       "    }\n",
       "\n",
       "    .dataframe thead th {\n",
       "        text-align: right;\n",
       "    }\n",
       "</style>\n",
       "<table border=\"1\" class=\"dataframe\">\n",
       "  <thead>\n",
       "    <tr style=\"text-align: right;\">\n",
       "      <th></th>\n",
       "      <th>Pclass</th>\n",
       "      <th>Sex</th>\n",
       "      <th>Fare</th>\n",
       "      <th>FamilySize</th>\n",
       "      <th>Age_cat</th>\n",
       "      <th>Initial_0.0</th>\n",
       "      <th>Initial_1.0</th>\n",
       "      <th>Initial_3.0</th>\n",
       "      <th>Initial_4.0</th>\n",
       "      <th>Embarked_0</th>\n",
       "      <th>Embarked_1</th>\n",
       "      <th>Embarked_2</th>\n",
       "    </tr>\n",
       "  </thead>\n",
       "  <tbody>\n",
       "    <tr>\n",
       "      <th>0</th>\n",
       "      <td>3</td>\n",
       "      <td>1</td>\n",
       "      <td>2.057860</td>\n",
       "      <td>1</td>\n",
       "      <td>3</td>\n",
       "      <td>0</td>\n",
       "      <td>0</td>\n",
       "      <td>0</td>\n",
       "      <td>0</td>\n",
       "      <td>0</td>\n",
       "      <td>1</td>\n",
       "      <td>0</td>\n",
       "    </tr>\n",
       "    <tr>\n",
       "      <th>1</th>\n",
       "      <td>3</td>\n",
       "      <td>0</td>\n",
       "      <td>1.945910</td>\n",
       "      <td>2</td>\n",
       "      <td>4</td>\n",
       "      <td>0</td>\n",
       "      <td>0</td>\n",
       "      <td>1</td>\n",
       "      <td>0</td>\n",
       "      <td>0</td>\n",
       "      <td>0</td>\n",
       "      <td>1</td>\n",
       "    </tr>\n",
       "    <tr>\n",
       "      <th>2</th>\n",
       "      <td>2</td>\n",
       "      <td>1</td>\n",
       "      <td>2.270836</td>\n",
       "      <td>1</td>\n",
       "      <td>6</td>\n",
       "      <td>0</td>\n",
       "      <td>0</td>\n",
       "      <td>0</td>\n",
       "      <td>0</td>\n",
       "      <td>0</td>\n",
       "      <td>1</td>\n",
       "      <td>0</td>\n",
       "    </tr>\n",
       "    <tr>\n",
       "      <th>3</th>\n",
       "      <td>3</td>\n",
       "      <td>1</td>\n",
       "      <td>2.159003</td>\n",
       "      <td>1</td>\n",
       "      <td>2</td>\n",
       "      <td>0</td>\n",
       "      <td>0</td>\n",
       "      <td>0</td>\n",
       "      <td>0</td>\n",
       "      <td>0</td>\n",
       "      <td>0</td>\n",
       "      <td>1</td>\n",
       "    </tr>\n",
       "    <tr>\n",
       "      <th>4</th>\n",
       "      <td>3</td>\n",
       "      <td>0</td>\n",
       "      <td>2.508582</td>\n",
       "      <td>3</td>\n",
       "      <td>2</td>\n",
       "      <td>0</td>\n",
       "      <td>0</td>\n",
       "      <td>1</td>\n",
       "      <td>0</td>\n",
       "      <td>0</td>\n",
       "      <td>0</td>\n",
       "      <td>1</td>\n",
       "    </tr>\n",
       "  </tbody>\n",
       "</table>\n",
       "</div>"
      ],
      "text/plain": [
       "   Pclass  Sex      Fare  FamilySize  Age_cat  Initial_0.0  Initial_1.0  \\\n",
       "0       3    1  2.057860           1        3            0            0   \n",
       "1       3    0  1.945910           2        4            0            0   \n",
       "2       2    1  2.270836           1        6            0            0   \n",
       "3       3    1  2.159003           1        2            0            0   \n",
       "4       3    0  2.508582           3        2            0            0   \n",
       "\n",
       "   Initial_3.0  Initial_4.0  Embarked_0  Embarked_1  Embarked_2  \n",
       "0            0            0           0           1           0  \n",
       "1            1            0           0           0           1  \n",
       "2            0            0           0           1           0  \n",
       "3            0            0           0           0           1  \n",
       "4            1            0           0           0           1  "
      ]
     },
     "execution_count": 91,
     "metadata": {},
     "output_type": "execute_result"
    }
   ],
   "source": [
    "df_test.head()"
   ]
  },
  {
   "cell_type": "markdown",
   "id": "final-detector",
   "metadata": {},
   "source": [
    " train 의 Survived feature(target class)를 빼면 train, test 둘다 같은 columns 를 가진 걸 확인할 수 있습니다."
   ]
  },
  {
   "cell_type": "markdown",
   "id": "intimate-ukraine",
   "metadata": {},
   "source": [
    "# 4. Building machine learning model and prediction using the trained model"
   ]
  },
  {
   "cell_type": "markdown",
   "id": "romance-romance",
   "metadata": {},
   "source": [
    "이제 준비가 다 되었으니 sklearn 을 사용해 본격적으로 머신러닝 모델을 만들어 봅시다."
   ]
  },
  {
   "cell_type": "code",
   "execution_count": 92,
   "id": "hungry-village",
   "metadata": {
    "ExecuteTime": {
     "end_time": "2021-01-19T14:13:02.354623Z",
     "start_time": "2021-01-19T14:13:02.349637Z"
    }
   },
   "outputs": [],
   "source": [
    "#importing all the required ML packages\n",
    "from sklearn.ensemble import RandomForestClassifier\n",
    "from sklearn import metrics  # 모델 평가\n",
    "from sklearn.model_selection import train_test_split"
   ]
  },
  {
   "cell_type": "markdown",
   "id": "sharing-satellite",
   "metadata": {},
   "source": [
    "- Sklearn 은 머신러닝의 처음부터 끝까지가 다 있습니다. feature engineering, preprocessing, 지도 학습 알고리즘, 비지도 학습 알고리즘, 모델 평가, 파이프라인 등 머신러닝에 관련된 모든 작업들이 손쉬운 인터페이스로 구현되어 있습니다. 데이터 분석 + 머신러닝을 하고싶다면, 이 라이브러리는 반드시 숙지해야합니다.\n",
    "- 지금 타이타닉 문제는 target class(survived)가 있으며, target class 는 0, 1로 이루어져 있으므로(binary) binary classfication 문제입니다.\n",
    "- train set 의 survived를 제외한 input 을 가지고 모델을 최적화시켜서 각 샘플(탑승객)의 생존유무를 판단하는 모델을 만들어 냅니다.\n",
    "- 그 후 모델이 학습하지 않았던 test set 을 input 으로 주어서 test set 의 각 샘플(탑승객)의 생존 유무를 예측해봅니다."
   ]
  },
  {
   "cell_type": "markdown",
   "id": "faced-copying",
   "metadata": {},
   "source": [
    "## 4.1 Preparation - Split dataset into train, valid, test set"
   ]
  },
  {
   "cell_type": "markdown",
   "id": "elegant-howard",
   "metadata": {},
   "source": [
    "가장 먼저, 학습에 쓰일 데이터와, target label(Survived)를 분리합니다. drop 을 사용해 간단히 할 수 있습니다."
   ]
  },
  {
   "cell_type": "code",
   "execution_count": 93,
   "id": "isolated-paper",
   "metadata": {
    "ExecuteTime": {
     "end_time": "2021-01-19T14:14:28.257331Z",
     "start_time": "2021-01-19T14:14:28.241152Z"
    }
   },
   "outputs": [],
   "source": [
    "X_train = df_train.drop('Survived',axis=1).values\n",
    "target_label = df_train['Survived'].values\n",
    "X_test = df_test.values"
   ]
  },
  {
   "cell_type": "markdown",
   "id": "expensive-table",
   "metadata": {},
   "source": [
    "- 실제 좋은 모델을 만들기 위해서 우리는 valid set을 따로 만들어 모델 평가를 해봅니다.\n",
    "- train_test_split 을 사용하여 쉽게 train 셋을 분리할 수 있습니다."
   ]
  },
  {
   "cell_type": "code",
   "execution_count": 94,
   "id": "lonely-drill",
   "metadata": {
    "ExecuteTime": {
     "end_time": "2021-01-19T14:15:15.754782Z",
     "start_time": "2021-01-19T14:15:15.742024Z"
    }
   },
   "outputs": [],
   "source": [
    "X_tr, X_vld, y_tr, y_vld = train_test_split(X_train, target_label, test_size=0.3, random_state=2020)"
   ]
  },
  {
   "cell_type": "markdown",
   "id": "actual-instruction",
   "metadata": {},
   "source": [
    "- sklearn 에서는 여러 머신러닝 알고리즘을 지원해줍니다. 참고 :  http://scikit-learn.org/stable/supervised_learning.html#supervised-learning \n",
    "-랜덤포레스트는 결정트리기반 모델이며, 여러 결정 트리들을 앙상블한 모델입니다. 더 구체적인 모델 설명은 여러 블로그들 참고하시면 될 것이고, 저도 한번 추후 다뤄보겠습니다.\n",
    "- 각 머신러닝 알고리즘에는 여러 파라미터들이 있습니다. 랜덤포레스트분류기도 n_estimators, max_features, max_depth, min_samples_split, min_samples_leaf 등 여러 파라미터들이 존재합니다. 이것들이 어떻게 세팅되냐에 따라 같은 데이터셋이라 하더라도 모델의 성능이 달라집니다.\n",
    "- 파라미터 튜닝은 시간, 경험, 알고리즘에 대한 이해 등이 필요합니다.\n",
    "- 모델 객체를 만들고, fit 메소드로 학습시킵니다. 그런 후 valid set input 을 넣어주어 예측값(X_vld sample(탑승객)의 생존여부)를 얻습니다."
   ]
  },
  {
   "cell_type": "markdown",
   "id": "abroad-passing",
   "metadata": {},
   "source": [
    "## 4.2 Model generation and prediction"
   ]
  },
  {
   "cell_type": "code",
   "execution_count": 95,
   "id": "asian-winning",
   "metadata": {
    "ExecuteTime": {
     "end_time": "2021-01-19T14:16:48.982821Z",
     "start_time": "2021-01-19T14:16:48.746809Z"
    }
   },
   "outputs": [],
   "source": [
    "model = RandomForestClassifier()\n",
    "model.fit(X_tr, y_tr)\n",
    "prediction = model.predict(X_vld)"
   ]
  },
  {
   "cell_type": "markdown",
   "id": "precise-nation",
   "metadata": {},
   "source": [
    "단 세줄만으로 모델을 세우고, 예측까지 해봤습니다. 이제 모델의 성능을 한번 살펴보겠습니다."
   ]
  },
  {
   "cell_type": "code",
   "execution_count": 96,
   "id": "smaller-lyric",
   "metadata": {
    "ExecuteTime": {
     "end_time": "2021-01-19T14:17:40.846001Z",
     "start_time": "2021-01-19T14:17:40.826955Z"
    }
   },
   "outputs": [
    {
     "name": "stdout",
     "output_type": "stream",
     "text": [
      "총 268명 중 80.60% 정확도로 생존을 맞춤\n"
     ]
    }
   ],
   "source": [
    "print('총 {}명 중 {:.2f}% 정확도로 생존을 맞춤'.format(y_vld.shape[0], 100*metrics.accuracy_score(prediction, y_vld)))"
   ]
  },
  {
   "cell_type": "markdown",
   "id": "experienced-monster",
   "metadata": {},
   "source": [
    "## 4.3 Feature importance"
   ]
  },
  {
   "cell_type": "markdown",
   "id": "stunning-construction",
   "metadata": {},
   "source": [
    "- 학습된 모델은 feature importance 를 가지게 되는데, 우리는 이것을 확인하여 지금 만든 모델이 어떤 feature 에 영향을 많이 받았는 지 확인할 수 있습니다.\n",
    "- pandas series 를 이용하면 쉽게 sorting 을 하여 그래프를 그릴 수 있습니다."
   ]
  },
  {
   "cell_type": "code",
   "execution_count": 98,
   "id": "destroyed-notice",
   "metadata": {
    "ExecuteTime": {
     "end_time": "2021-01-19T14:18:57.998833Z",
     "start_time": "2021-01-19T14:18:57.969887Z"
    }
   },
   "outputs": [],
   "source": [
    "from pandas import Series\n",
    "\n",
    "feature_importance = model.feature_importances_\n",
    "Series_feat_imp = Series(feature_importance, index=df_test.columns)"
   ]
  },
  {
   "cell_type": "code",
   "execution_count": 99,
   "id": "potential-huntington",
   "metadata": {
    "ExecuteTime": {
     "end_time": "2021-01-19T14:19:35.427902Z",
     "start_time": "2021-01-19T14:19:35.101775Z"
    }
   },
   "outputs": [
    {
     "data": {
      "image/png": "[encoded data removed]",
      "text/plain": [
       "<Figure size 576x576 with 1 Axes>"
      ]
     },
     "metadata": {
      "needs_background": "light"
     },
     "output_type": "display_data"
    }
   ],
   "source": [
    "plt.figure(figsize=(8,8))\n",
    "Series_feat_imp.sort_values(ascending=True).plot.barh()\n",
    "plt.xlabel('Feature importance')\n",
    "plt.ylabel('Feature')\n",
    "plt.show()"
   ]
  },
  {
   "cell_type": "markdown",
   "id": "upset-delight",
   "metadata": {},
   "source": [
    "- 모델에서는 Fare 가 가장 큰 영향력을 가지며, 그 뒤로 Initial_2, Age_cat, Pclass가 차례로 중요도를 가집니다\n",
    "- feature importance 는 지금 모델에서의 importance 를 나타냅니다. 만약 다른 모델을 사용하게 된다면 feature importance 가 다르게 나올 수 있습니다.\n",
    "- 이 feature importance 를 보고 실제로 Fare 가 중요한 feature 일 수 있다고 판단을 내릴 수는 있지만, 이것은 결국 모델에 귀속되는 하나의 결론이므로 통계적으로 좀 더 살펴보긴 해야합니다.\n",
    "- featuure importance 를 가지고 좀 더 정확도가 높은 모델을 얻기 위해 feature selection 을 할 수도 있고, 좀 더 빠른 모델을 위해 feature 제거를 할 수 있습니다."
   ]
  },
  {
   "cell_type": "markdown",
   "id": "southeast-forest",
   "metadata": {},
   "source": [
    "## 4.4 Prediction on Test set"
   ]
  },
  {
   "cell_type": "markdown",
   "id": "social-creativity",
   "metadata": {},
   "source": [
    "- 이제 모델이 학습하지 않았던 테스트셋을 모델에 주어서, 생존여부를 예측해보겠습니다.\n",
    "- 캐글 제출용"
   ]
  },
  {
   "cell_type": "code",
   "execution_count": 101,
   "id": "eligible-surveillance",
   "metadata": {
    "ExecuteTime": {
     "end_time": "2021-01-19T14:21:24.646899Z",
     "start_time": "2021-01-19T14:21:24.640750Z"
    }
   },
   "outputs": [],
   "source": [
    "submission = pd.read_csv('gender_submission.csv')"
   ]
  },
  {
   "cell_type": "code",
   "execution_count": 102,
   "id": "relevant-fisher",
   "metadata": {
    "ExecuteTime": {
     "end_time": "2021-01-19T14:21:30.843317Z",
     "start_time": "2021-01-19T14:21:30.836337Z"
    }
   },
   "outputs": [
    {
     "data": {
      "text/html": [
       "<div>\n",
       "<style scoped>\n",
       "    .dataframe tbody tr th:only-of-type {\n",
       "        vertical-align: middle;\n",
       "    }\n",
       "\n",
       "    .dataframe tbody tr th {\n",
       "        vertical-align: top;\n",
       "    }\n",
       "\n",
       "    .dataframe thead th {\n",
       "        text-align: right;\n",
       "    }\n",
       "</style>\n",
       "<table border=\"1\" class=\"dataframe\">\n",
       "  <thead>\n",
       "    <tr style=\"text-align: right;\">\n",
       "      <th></th>\n",
       "      <th>PassengerId</th>\n",
       "      <th>Survived</th>\n",
       "    </tr>\n",
       "  </thead>\n",
       "  <tbody>\n",
       "    <tr>\n",
       "      <th>0</th>\n",
       "      <td>892</td>\n",
       "      <td>0</td>\n",
       "    </tr>\n",
       "    <tr>\n",
       "      <th>1</th>\n",
       "      <td>893</td>\n",
       "      <td>1</td>\n",
       "    </tr>\n",
       "    <tr>\n",
       "      <th>2</th>\n",
       "      <td>894</td>\n",
       "      <td>0</td>\n",
       "    </tr>\n",
       "    <tr>\n",
       "      <th>3</th>\n",
       "      <td>895</td>\n",
       "      <td>0</td>\n",
       "    </tr>\n",
       "    <tr>\n",
       "      <th>4</th>\n",
       "      <td>896</td>\n",
       "      <td>1</td>\n",
       "    </tr>\n",
       "  </tbody>\n",
       "</table>\n",
       "</div>"
      ],
      "text/plain": [
       "   PassengerId  Survived\n",
       "0          892         0\n",
       "1          893         1\n",
       "2          894         0\n",
       "3          895         0\n",
       "4          896         1"
      ]
     },
     "execution_count": 102,
     "metadata": {},
     "output_type": "execute_result"
    }
   ],
   "source": [
    "submission.head()"
   ]
  },
  {
   "cell_type": "code",
   "execution_count": 103,
   "id": "fatty-means",
   "metadata": {
    "ExecuteTime": {
     "end_time": "2021-01-19T14:21:50.929929Z",
     "start_time": "2021-01-19T14:21:50.907951Z"
    }
   },
   "outputs": [],
   "source": [
    "prediction = model.predict(X_test)\n",
    "submission['Survived'] = prediction"
   ]
  },
  {
   "cell_type": "code",
   "execution_count": 104,
   "id": "sporting-burke",
   "metadata": {
    "ExecuteTime": {
     "end_time": "2021-01-19T14:22:11.100381Z",
     "start_time": "2021-01-19T14:22:11.083427Z"
    }
   },
   "outputs": [],
   "source": [
    "submission.to_csv('./2nd.csv',index=False)"
   ]
  },
  {
   "cell_type": "code",
   "execution_count": null,
   "id": "valuable-authority",
   "metadata": {},
   "outputs": [],
   "source": []
  },
  {
   "cell_type": "code",
   "execution_count": null,
   "id": "another-northwest",
   "metadata": {},
   "outputs": [],
   "source": []
  },
  {
   "cell_type": "markdown",
   "id": "ongoing-livestock",
   "metadata": {},
   "source": [
    "# 3rd"
   ]
  },
  {
   "cell_type": "code",
   "execution_count": 108,
   "id": "native-following",
   "metadata": {
    "ExecuteTime": {
     "end_time": "2021-01-19T14:30:32.690551Z",
     "start_time": "2021-01-19T14:30:32.677586Z"
    }
   },
   "outputs": [
    {
     "data": {
      "text/html": [
       "        <script type=\"text/javascript\">\n",
       "        window.PlotlyConfig = {MathJaxConfig: 'local'};\n",
       "        if (window.MathJax) {MathJax.Hub.Config({SVG: {font: \"STIX-Web\"}});}\n",
       "        if (typeof require !== 'undefined') {\n",
       "        require.undef(\"plotly\");\n",
       "        requirejs.config({\n",
       "            paths: {\n",
       "                'plotly': ['https://cdn.plot.ly/plotly-latest.min']\n",
       "            }\n",
       "        });\n",
       "        require(['plotly'], function(Plotly) {\n",
       "            window._Plotly = Plotly;\n",
       "        });\n",
       "        }\n",
       "        </script>\n",
       "        "
      ]
     },
     "metadata": {},
     "output_type": "display_data"
    }
   ],
   "source": [
    "import numpy as np\n",
    "import pandas as pd\n",
    "from pandas import Series\n",
    "import matplotlib.pyplot as plt\n",
    "import seaborn as sns\n",
    "\n",
    "plt.style.use('seaborn')\n",
    "sns.set(font_scale=2.5)\n",
    "\n",
    "import plotly.offline as py\n",
    "py.init_notebook_mode(connected=True)\n",
    "import plotly.graph_objs as go\n",
    "import plotly.tools as tls\n",
    "\n",
    "# ignore warnings\n",
    "import warnings\n",
    "warnings.filterwarnings('ignore')\n",
    "\n",
    "%matplotlib inline"
   ]
  },
  {
   "cell_type": "code",
   "execution_count": 109,
   "id": "administrative-basket",
   "metadata": {
    "ExecuteTime": {
     "end_time": "2021-01-19T14:32:47.977187Z",
     "start_time": "2021-01-19T14:32:47.947283Z"
    }
   },
   "outputs": [],
   "source": [
    "df_train = pd.read_csv('train.csv')\n",
    "df_test = pd.read_csv('test.csv')\n",
    "df_train['FamilySize'] = df_train['SibSp']+df_train['Parch']+1   #자신 포함\n",
    "df_test['FailySize'] = df_test['SibSp'] + df_test['Parch']+1\n",
    "\n",
    "df_test.loc[df_test.Fare.isnull(),'Fare'] = df_test['Fare'].mean()\n",
    "\n",
    "df_train['Fare'] = df_train['Fare'].map(lambda i:np.log(i) if i>0 else 0)\n",
    "df_test['Fare'] = df_test['Fare'].map(lambda i:np.log(i) if i>0 else 0)"
   ]
  },
  {
   "cell_type": "markdown",
   "id": "mediterranean-julian",
   "metadata": {},
   "source": [
    "# 3. Feature engineering"
   ]
  },
  {
   "cell_type": "markdown",
   "id": "dominican-canal",
   "metadata": {},
   "source": [
    "- feature engineering 을 시작해보겠습니다.\n",
    "- 가장 먼저, dataset 에 존재하는 null data를 채우려고 합니다.\n",
    "- 아무 숫자로 채울 수는 없고, null data 를 포함하는 feature 의 statistics 를 참고하거나, 다른 아이디어를 짜내어 채울 수 있습니다.\n",
    "- null data 를 어떻게 채우느냐에 따라 모델의 성능이 좌지우지될 수 있기 때문에, 신경써줘야할 부분입니다.\n",
    "- Feature engineering 은 실제 모델의 학습에 쓰려고 하는 것이므로, train 뿐만아닐라 test 도 똑같이 적용해주어야 합니다."
   ]
  },
  {
   "cell_type": "markdown",
   "id": "mineral-wages",
   "metadata": {
    "ExecuteTime": {
     "end_time": "2021-01-19T14:33:34.707465Z",
     "start_time": "2021-01-19T14:33:34.689512Z"
    }
   },
   "source": [
    "## 3.1 Fill Null"
   ]
  },
  {
   "cell_type": "markdown",
   "id": "recorded-solid",
   "metadata": {},
   "source": [
    "### 3.1.1 Fill Null in Age using title"
   ]
  },
  {
   "cell_type": "markdown",
   "id": "quiet-submission",
   "metadata": {},
   "source": [
    "- Age 에는 null data가 177개나 있습니다. 이를 채울 수 있는 여러 아이디어가 있을 것인데, 여기서 우리는 title + statistics 를 사용해 보겠습니다.\n",
    "- 영어에서는 Miss, Mrr, Mrs 같은 title이 존재합니다. 각 탑승객의 이름에는 꼭 이런 title 이 들어가게 되는데 이를 사용해보겠습니다.\n",
    "- pandas series 에는 data 를 string 으로 바꿔주는 str method, 거기에 정규표현식을 적용하게 해주는 extract method가 있습니다. 이를 사용하여 title 을 쉽게 추출할 수 있습니다. title을 Initial column에 저장하겠습니다."
   ]
  },
  {
   "cell_type": "code",
   "execution_count": 112,
   "id": "played-semiconductor",
   "metadata": {
    "ExecuteTime": {
     "end_time": "2021-01-19T14:39:21.046292Z",
     "start_time": "2021-01-19T14:39:21.027342Z"
    }
   },
   "outputs": [],
   "source": [
    "df_train['Initial'] = df_train.Name.str.extract('([A-Za-z]+)\\.')\n",
    "df_test['Initial'] = df_test.Name.str.extract('([A-Za-z]+)\\.')"
   ]
  },
  {
   "cell_type": "code",
   "execution_count": 113,
   "id": "binary-collapse",
   "metadata": {
    "ExecuteTime": {
     "end_time": "2021-01-19T14:40:02.342294Z",
     "start_time": "2021-01-19T14:40:02.290366Z"
    }
   },
   "outputs": [
    {
     "data": {
      "text/html": [
       "<style  type=\"text/css\" >\n",
       "#T_5d95d_row0_col0,#T_5d95d_row0_col1,#T_5d95d_row0_col3,#T_5d95d_row0_col4,#T_5d95d_row0_col5,#T_5d95d_row0_col7,#T_5d95d_row0_col8,#T_5d95d_row0_col12,#T_5d95d_row0_col15,#T_5d95d_row0_col16,#T_5d95d_row1_col2,#T_5d95d_row1_col6,#T_5d95d_row1_col9,#T_5d95d_row1_col10,#T_5d95d_row1_col11,#T_5d95d_row1_col13,#T_5d95d_row1_col14{\n",
       "            background-color:  #ffff66;\n",
       "            color:  #000000;\n",
       "        }#T_5d95d_row0_col2,#T_5d95d_row0_col6,#T_5d95d_row0_col9,#T_5d95d_row0_col10,#T_5d95d_row0_col11,#T_5d95d_row0_col13,#T_5d95d_row0_col14,#T_5d95d_row1_col0,#T_5d95d_row1_col1,#T_5d95d_row1_col3,#T_5d95d_row1_col4,#T_5d95d_row1_col5,#T_5d95d_row1_col7,#T_5d95d_row1_col8,#T_5d95d_row1_col12,#T_5d95d_row1_col15,#T_5d95d_row1_col16{\n",
       "            background-color:  #008066;\n",
       "            color:  #f1f1f1;\n",
       "        }</style><table id=\"T_5d95d_\" ><thead>    <tr>        <th class=\"index_name level0\" >Initial</th>        <th class=\"col_heading level0 col0\" >Capt</th>        <th class=\"col_heading level0 col1\" >Col</th>        <th class=\"col_heading level0 col2\" >Countess</th>        <th class=\"col_heading level0 col3\" >Don</th>        <th class=\"col_heading level0 col4\" >Dr</th>        <th class=\"col_heading level0 col5\" >Jonkheer</th>        <th class=\"col_heading level0 col6\" >Lady</th>        <th class=\"col_heading level0 col7\" >Major</th>        <th class=\"col_heading level0 col8\" >Master</th>        <th class=\"col_heading level0 col9\" >Miss</th>        <th class=\"col_heading level0 col10\" >Mlle</th>        <th class=\"col_heading level0 col11\" >Mme</th>        <th class=\"col_heading level0 col12\" >Mr</th>        <th class=\"col_heading level0 col13\" >Mrs</th>        <th class=\"col_heading level0 col14\" >Ms</th>        <th class=\"col_heading level0 col15\" >Rev</th>        <th class=\"col_heading level0 col16\" >Sir</th>    </tr>    <tr>        <th class=\"index_name level0\" >Sex</th>        <th class=\"blank\" ></th>        <th class=\"blank\" ></th>        <th class=\"blank\" ></th>        <th class=\"blank\" ></th>        <th class=\"blank\" ></th>        <th class=\"blank\" ></th>        <th class=\"blank\" ></th>        <th class=\"blank\" ></th>        <th class=\"blank\" ></th>        <th class=\"blank\" ></th>        <th class=\"blank\" ></th>        <th class=\"blank\" ></th>        <th class=\"blank\" ></th>        <th class=\"blank\" ></th>        <th class=\"blank\" ></th>        <th class=\"blank\" ></th>        <th class=\"blank\" ></th>    </tr></thead><tbody>\n",
       "                <tr>\n",
       "                        <th id=\"T_5d95d_level0_row0\" class=\"row_heading level0 row0\" >female</th>\n",
       "                        <td id=\"T_5d95d_row0_col0\" class=\"data row0 col0\" >0</td>\n",
       "                        <td id=\"T_5d95d_row0_col1\" class=\"data row0 col1\" >0</td>\n",
       "                        <td id=\"T_5d95d_row0_col2\" class=\"data row0 col2\" >1</td>\n",
       "                        <td id=\"T_5d95d_row0_col3\" class=\"data row0 col3\" >0</td>\n",
       "                        <td id=\"T_5d95d_row0_col4\" class=\"data row0 col4\" >1</td>\n",
       "                        <td id=\"T_5d95d_row0_col5\" class=\"data row0 col5\" >0</td>\n",
       "                        <td id=\"T_5d95d_row0_col6\" class=\"data row0 col6\" >1</td>\n",
       "                        <td id=\"T_5d95d_row0_col7\" class=\"data row0 col7\" >0</td>\n",
       "                        <td id=\"T_5d95d_row0_col8\" class=\"data row0 col8\" >0</td>\n",
       "                        <td id=\"T_5d95d_row0_col9\" class=\"data row0 col9\" >182</td>\n",
       "                        <td id=\"T_5d95d_row0_col10\" class=\"data row0 col10\" >2</td>\n",
       "                        <td id=\"T_5d95d_row0_col11\" class=\"data row0 col11\" >1</td>\n",
       "                        <td id=\"T_5d95d_row0_col12\" class=\"data row0 col12\" >0</td>\n",
       "                        <td id=\"T_5d95d_row0_col13\" class=\"data row0 col13\" >125</td>\n",
       "                        <td id=\"T_5d95d_row0_col14\" class=\"data row0 col14\" >1</td>\n",
       "                        <td id=\"T_5d95d_row0_col15\" class=\"data row0 col15\" >0</td>\n",
       "                        <td id=\"T_5d95d_row0_col16\" class=\"data row0 col16\" >0</td>\n",
       "            </tr>\n",
       "            <tr>\n",
       "                        <th id=\"T_5d95d_level0_row1\" class=\"row_heading level0 row1\" >male</th>\n",
       "                        <td id=\"T_5d95d_row1_col0\" class=\"data row1 col0\" >1</td>\n",
       "                        <td id=\"T_5d95d_row1_col1\" class=\"data row1 col1\" >2</td>\n",
       "                        <td id=\"T_5d95d_row1_col2\" class=\"data row1 col2\" >0</td>\n",
       "                        <td id=\"T_5d95d_row1_col3\" class=\"data row1 col3\" >1</td>\n",
       "                        <td id=\"T_5d95d_row1_col4\" class=\"data row1 col4\" >6</td>\n",
       "                        <td id=\"T_5d95d_row1_col5\" class=\"data row1 col5\" >1</td>\n",
       "                        <td id=\"T_5d95d_row1_col6\" class=\"data row1 col6\" >0</td>\n",
       "                        <td id=\"T_5d95d_row1_col7\" class=\"data row1 col7\" >2</td>\n",
       "                        <td id=\"T_5d95d_row1_col8\" class=\"data row1 col8\" >40</td>\n",
       "                        <td id=\"T_5d95d_row1_col9\" class=\"data row1 col9\" >0</td>\n",
       "                        <td id=\"T_5d95d_row1_col10\" class=\"data row1 col10\" >0</td>\n",
       "                        <td id=\"T_5d95d_row1_col11\" class=\"data row1 col11\" >0</td>\n",
       "                        <td id=\"T_5d95d_row1_col12\" class=\"data row1 col12\" >517</td>\n",
       "                        <td id=\"T_5d95d_row1_col13\" class=\"data row1 col13\" >0</td>\n",
       "                        <td id=\"T_5d95d_row1_col14\" class=\"data row1 col14\" >0</td>\n",
       "                        <td id=\"T_5d95d_row1_col15\" class=\"data row1 col15\" >6</td>\n",
       "                        <td id=\"T_5d95d_row1_col16\" class=\"data row1 col16\" >1</td>\n",
       "            </tr>\n",
       "    </tbody></table>"
      ],
      "text/plain": [
       "<pandas.io.formats.style.Styler at 0x2b820923b20>"
      ]
     },
     "execution_count": 113,
     "metadata": {},
     "output_type": "execute_result"
    }
   ],
   "source": [
    "pd.crosstab(df_train['Initial'], df_train['Sex']).T.style.background_gradient(cmap='summer_r')"
   ]
  },
  {
   "cell_type": "markdown",
   "id": "single-jonathan",
   "metadata": {},
   "source": [
    "위 table 을 참고하여, 남자, 여자가 쓰는 initial 을 구분해 보겠습니다. replace 메소드를 사용하면, 특정 데이터 값을 원하는 값으로 치환해줍니다."
   ]
  },
  {
   "cell_type": "code",
   "execution_count": 114,
   "id": "breathing-trailer",
   "metadata": {
    "ExecuteTime": {
     "end_time": "2021-01-19T14:41:12.704767Z",
     "start_time": "2021-01-19T14:41:12.683786Z"
    }
   },
   "outputs": [],
   "source": [
    "df_train['Initial'].replace(['Mlle','Mme','Ms','Dr','Major','Lady','Countess','Jonkheer','Col','Rev','Capt','Sir','Don', 'Dona'],\n",
    "                           ['Miss','Miss','Miss','Mr','Mr','Mrs','Mrs','Other','Other','Other','Mr','Mr','Mr', 'Mr'],\n",
    "                           inplace=True)\n",
    "df_test['Initial'].replace(['Mlle','Mme','Ms','Dr','Major','Lady','Countess','Jonkheer','Col','Rev','Capt','Sir','Don', 'Dona'],\n",
    "                           ['Miss','Miss','Miss','Mr','Mr','Mrs','Mrs','Other','Other','Other','Mr','Mr','Mr', 'Mr'],\n",
    "                           inplace=True)"
   ]
  },
  {
   "cell_type": "code",
   "execution_count": 116,
   "id": "chief-cholesterol",
   "metadata": {
    "ExecuteTime": {
     "end_time": "2021-01-19T14:41:30.172228Z",
     "start_time": "2021-01-19T14:41:30.141253Z"
    }
   },
   "outputs": [
    {
     "data": {
      "text/html": [
       "<div>\n",
       "<style scoped>\n",
       "    .dataframe tbody tr th:only-of-type {\n",
       "        vertical-align: middle;\n",
       "    }\n",
       "\n",
       "    .dataframe tbody tr th {\n",
       "        vertical-align: top;\n",
       "    }\n",
       "\n",
       "    .dataframe thead th {\n",
       "        text-align: right;\n",
       "    }\n",
       "</style>\n",
       "<table border=\"1\" class=\"dataframe\">\n",
       "  <thead>\n",
       "    <tr style=\"text-align: right;\">\n",
       "      <th></th>\n",
       "      <th>PassengerId</th>\n",
       "      <th>Survived</th>\n",
       "      <th>Pclass</th>\n",
       "      <th>Age</th>\n",
       "      <th>SibSp</th>\n",
       "      <th>Parch</th>\n",
       "      <th>Fare</th>\n",
       "      <th>FamilySize</th>\n",
       "    </tr>\n",
       "    <tr>\n",
       "      <th>Initial</th>\n",
       "      <th></th>\n",
       "      <th></th>\n",
       "      <th></th>\n",
       "      <th></th>\n",
       "      <th></th>\n",
       "      <th></th>\n",
       "      <th></th>\n",
       "      <th></th>\n",
       "    </tr>\n",
       "  </thead>\n",
       "  <tbody>\n",
       "    <tr>\n",
       "      <th>Master</th>\n",
       "      <td>414.975000</td>\n",
       "      <td>0.575000</td>\n",
       "      <td>2.625000</td>\n",
       "      <td>4.574167</td>\n",
       "      <td>2.300000</td>\n",
       "      <td>1.375000</td>\n",
       "      <td>3.340710</td>\n",
       "      <td>4.675000</td>\n",
       "    </tr>\n",
       "    <tr>\n",
       "      <th>Miss</th>\n",
       "      <td>411.741935</td>\n",
       "      <td>0.704301</td>\n",
       "      <td>2.284946</td>\n",
       "      <td>21.860000</td>\n",
       "      <td>0.698925</td>\n",
       "      <td>0.537634</td>\n",
       "      <td>3.123713</td>\n",
       "      <td>2.236559</td>\n",
       "    </tr>\n",
       "    <tr>\n",
       "      <th>Mr</th>\n",
       "      <td>455.880907</td>\n",
       "      <td>0.162571</td>\n",
       "      <td>2.381853</td>\n",
       "      <td>32.739609</td>\n",
       "      <td>0.293006</td>\n",
       "      <td>0.151229</td>\n",
       "      <td>2.651507</td>\n",
       "      <td>1.444234</td>\n",
       "    </tr>\n",
       "    <tr>\n",
       "      <th>Mrs</th>\n",
       "      <td>456.393701</td>\n",
       "      <td>0.795276</td>\n",
       "      <td>1.984252</td>\n",
       "      <td>35.981818</td>\n",
       "      <td>0.692913</td>\n",
       "      <td>0.818898</td>\n",
       "      <td>3.443751</td>\n",
       "      <td>2.511811</td>\n",
       "    </tr>\n",
       "    <tr>\n",
       "      <th>Other</th>\n",
       "      <td>564.444444</td>\n",
       "      <td>0.111111</td>\n",
       "      <td>1.666667</td>\n",
       "      <td>45.888889</td>\n",
       "      <td>0.111111</td>\n",
       "      <td>0.111111</td>\n",
       "      <td>2.641605</td>\n",
       "      <td>1.222222</td>\n",
       "    </tr>\n",
       "  </tbody>\n",
       "</table>\n",
       "</div>"
      ],
      "text/plain": [
       "         PassengerId  Survived    Pclass        Age     SibSp     Parch  \\\n",
       "Initial                                                                   \n",
       "Master    414.975000  0.575000  2.625000   4.574167  2.300000  1.375000   \n",
       "Miss      411.741935  0.704301  2.284946  21.860000  0.698925  0.537634   \n",
       "Mr        455.880907  0.162571  2.381853  32.739609  0.293006  0.151229   \n",
       "Mrs       456.393701  0.795276  1.984252  35.981818  0.692913  0.818898   \n",
       "Other     564.444444  0.111111  1.666667  45.888889  0.111111  0.111111   \n",
       "\n",
       "             Fare  FamilySize  \n",
       "Initial                        \n",
       "Master   3.340710    4.675000  \n",
       "Miss     3.123713    2.236559  \n",
       "Mr       2.651507    1.444234  \n",
       "Mrs      3.443751    2.511811  \n",
       "Other    2.641605    1.222222  "
      ]
     },
     "execution_count": 116,
     "metadata": {},
     "output_type": "execute_result"
    }
   ],
   "source": [
    "df_train.groupby('Initial').mean()"
   ]
  },
  {
   "cell_type": "markdown",
   "id": "mineral-council",
   "metadata": {},
   "source": [
    "여성과 관계있는 Miss, Mr, Mrs 가 생존률이 높은 것을 볼 수 있습니다."
   ]
  },
  {
   "cell_type": "code",
   "execution_count": 117,
   "id": "micro-jacksonville",
   "metadata": {
    "ExecuteTime": {
     "end_time": "2021-01-19T14:42:02.247175Z",
     "start_time": "2021-01-19T14:42:02.045687Z"
    }
   },
   "outputs": [
    {
     "data": {
      "text/plain": [
       "<AxesSubplot:xlabel='Initial'>"
      ]
     },
     "execution_count": 117,
     "metadata": {},
     "output_type": "execute_result"
    },
    {
     "data": {
      "image/png": "[encoded data removed]",
      "text/plain": [
       "<Figure size 432x288 with 1 Axes>"
      ]
     },
     "metadata": {
      "needs_background": "light"
     },
     "output_type": "display_data"
    }
   ],
   "source": [
    "df_train.groupby('Initial')['Survived'].mean().plot.bar()"
   ]
  },
  {
   "cell_type": "markdown",
   "id": "sticky-blade",
   "metadata": {},
   "source": [
    "- 이제 본격적으로 Null 을 채울 것입니다. null data 를 채우는 방법은 정말 많이 존재합니다. statistics 를 활용하는 방법도 있고, null data 가 없는 데이터를 기반으로 새로운 머신러닝 알고리즘을 만들어 예측해서 채워넣는 방식도 있습니다. 여기서는 statistics 를 활용하는 방법을 사용할 것입니다.\n",
    "- 여기서 statistics 는 train data 의 것을 의미합니다. 우리는 언제나 test 를 unseen 으로 둔 상태로 놔둬야 하며, train 에서 얻은 statistics 를 기반으로 test 의 null data 를 채워줘야 합니다."
   ]
  },
  {
   "cell_type": "code",
   "execution_count": 118,
   "id": "inside-province",
   "metadata": {
    "ExecuteTime": {
     "end_time": "2021-01-19T14:42:56.191742Z",
     "start_time": "2021-01-19T14:42:56.170759Z"
    }
   },
   "outputs": [
    {
     "data": {
      "text/html": [
       "<div>\n",
       "<style scoped>\n",
       "    .dataframe tbody tr th:only-of-type {\n",
       "        vertical-align: middle;\n",
       "    }\n",
       "\n",
       "    .dataframe tbody tr th {\n",
       "        vertical-align: top;\n",
       "    }\n",
       "\n",
       "    .dataframe thead th {\n",
       "        text-align: right;\n",
       "    }\n",
       "</style>\n",
       "<table border=\"1\" class=\"dataframe\">\n",
       "  <thead>\n",
       "    <tr style=\"text-align: right;\">\n",
       "      <th></th>\n",
       "      <th>PassengerId</th>\n",
       "      <th>Survived</th>\n",
       "      <th>Pclass</th>\n",
       "      <th>Age</th>\n",
       "      <th>SibSp</th>\n",
       "      <th>Parch</th>\n",
       "      <th>Fare</th>\n",
       "      <th>FamilySize</th>\n",
       "    </tr>\n",
       "    <tr>\n",
       "      <th>Initial</th>\n",
       "      <th></th>\n",
       "      <th></th>\n",
       "      <th></th>\n",
       "      <th></th>\n",
       "      <th></th>\n",
       "      <th></th>\n",
       "      <th></th>\n",
       "      <th></th>\n",
       "    </tr>\n",
       "  </thead>\n",
       "  <tbody>\n",
       "    <tr>\n",
       "      <th>Master</th>\n",
       "      <td>414.975000</td>\n",
       "      <td>0.575000</td>\n",
       "      <td>2.625000</td>\n",
       "      <td>4.574167</td>\n",
       "      <td>2.300000</td>\n",
       "      <td>1.375000</td>\n",
       "      <td>3.340710</td>\n",
       "      <td>4.675000</td>\n",
       "    </tr>\n",
       "    <tr>\n",
       "      <th>Miss</th>\n",
       "      <td>411.741935</td>\n",
       "      <td>0.704301</td>\n",
       "      <td>2.284946</td>\n",
       "      <td>21.860000</td>\n",
       "      <td>0.698925</td>\n",
       "      <td>0.537634</td>\n",
       "      <td>3.123713</td>\n",
       "      <td>2.236559</td>\n",
       "    </tr>\n",
       "    <tr>\n",
       "      <th>Mr</th>\n",
       "      <td>455.880907</td>\n",
       "      <td>0.162571</td>\n",
       "      <td>2.381853</td>\n",
       "      <td>32.739609</td>\n",
       "      <td>0.293006</td>\n",
       "      <td>0.151229</td>\n",
       "      <td>2.651507</td>\n",
       "      <td>1.444234</td>\n",
       "    </tr>\n",
       "    <tr>\n",
       "      <th>Mrs</th>\n",
       "      <td>456.393701</td>\n",
       "      <td>0.795276</td>\n",
       "      <td>1.984252</td>\n",
       "      <td>35.981818</td>\n",
       "      <td>0.692913</td>\n",
       "      <td>0.818898</td>\n",
       "      <td>3.443751</td>\n",
       "      <td>2.511811</td>\n",
       "    </tr>\n",
       "    <tr>\n",
       "      <th>Other</th>\n",
       "      <td>564.444444</td>\n",
       "      <td>0.111111</td>\n",
       "      <td>1.666667</td>\n",
       "      <td>45.888889</td>\n",
       "      <td>0.111111</td>\n",
       "      <td>0.111111</td>\n",
       "      <td>2.641605</td>\n",
       "      <td>1.222222</td>\n",
       "    </tr>\n",
       "  </tbody>\n",
       "</table>\n",
       "</div>"
      ],
      "text/plain": [
       "         PassengerId  Survived    Pclass        Age     SibSp     Parch  \\\n",
       "Initial                                                                   \n",
       "Master    414.975000  0.575000  2.625000   4.574167  2.300000  1.375000   \n",
       "Miss      411.741935  0.704301  2.284946  21.860000  0.698925  0.537634   \n",
       "Mr        455.880907  0.162571  2.381853  32.739609  0.293006  0.151229   \n",
       "Mrs       456.393701  0.795276  1.984252  35.981818  0.692913  0.818898   \n",
       "Other     564.444444  0.111111  1.666667  45.888889  0.111111  0.111111   \n",
       "\n",
       "             Fare  FamilySize  \n",
       "Initial                        \n",
       "Master   3.340710    4.675000  \n",
       "Miss     3.123713    2.236559  \n",
       "Mr       2.651507    1.444234  \n",
       "Mrs      3.443751    2.511811  \n",
       "Other    2.641605    1.222222  "
      ]
     },
     "execution_count": 118,
     "metadata": {},
     "output_type": "execute_result"
    }
   ],
   "source": [
    "df_train.groupby('Initial').mean()"
   ]
  },
  {
   "cell_type": "markdown",
   "id": "nearby-reader",
   "metadata": {},
   "source": [
    "- Age의 평균을 이용해 Null value 를 채우도록 하겠습니다.\n",
    "- pandas dataframe 을 다룰 때에는 boolean array를 이용해 indexing 하는 방법이 편리합니다.\n",
    "- 아래 코드 첫줄을 해석하자면, isnull() 이면서 Initial 이 Mr 인 조건을 만족하는 row(탑승객) 의 'Age' 의 값을 33으로 치환한다 입니다.\n",
    "- loc + boolean + column 을 사용해 값을 치환하는 방법은 자주 쓰이므로 꼭 익숙해집시다."
   ]
  },
  {
   "cell_type": "code",
   "execution_count": 119,
   "id": "static-incidence",
   "metadata": {
    "ExecuteTime": {
     "end_time": "2021-01-19T14:46:25.403606Z",
     "start_time": "2021-01-19T14:46:25.382150Z"
    }
   },
   "outputs": [],
   "source": [
    "df_train.loc[(df_train.Age.isnull())&(df_train.Initial=='Mr'),'Age'] = 33\n",
    "df_train.loc[(df_train.Age.isnull())&(df_train.Initial=='Mrs'),'Age'] = 36\n",
    "df_train.loc[(df_train.Age.isnull())&(df_train.Initial=='Master'),'Age'] = 5\n",
    "df_train.loc[(df_train.Age.isnull())&(df_train.Initial=='Miss'),'Age'] = 22\n",
    "df_train.loc[(df_train.Age.isnull())&(df_train.Initial=='Other'),'Age'] = 46\n",
    "\n",
    "df_test.loc[(df_test.Age.isnull())&(df_test.Initial=='Mr'),'Age'] = 33\n",
    "df_test.loc[(df_test.Age.isnull())&(df_test.Initial=='Mrs'),'Age'] = 36\n",
    "df_test.loc[(df_test.Age.isnull())&(df_test.Initial=='Master'),'Age'] = 5\n",
    "df_test.loc[(df_test.Age.isnull())&(df_test.Initial=='Miss'),'Age'] = 22\n",
    "df_test.loc[(df_test.Age.isnull())&(df_test.Initial=='Other'),'Age'] = 46"
   ]
  },
  {
   "cell_type": "markdown",
   "id": "imperial-lexington",
   "metadata": {},
   "source": [
    "여기선 간단하게 Null을 채웠지만, 좀 더 다양한 방법을 쓴 예시들이 다른 커널에 존재합니다. 참고 :https://www.kaggle.com/yassineghouzam/titanic-top-4-with-ensemble-modeling "
   ]
  },
  {
   "cell_type": "markdown",
   "id": "empirical-corruption",
   "metadata": {},
   "source": [
    "### 3.1.2 Fill Null in Embarked"
   ]
  },
  {
   "cell_type": "code",
   "execution_count": 120,
   "id": "noticed-scene",
   "metadata": {
    "ExecuteTime": {
     "end_time": "2021-01-19T14:47:26.210763Z",
     "start_time": "2021-01-19T14:47:26.198798Z"
    }
   },
   "outputs": [
    {
     "name": "stdout",
     "output_type": "stream",
     "text": [
      "Embarked has  2  Null values\n"
     ]
    }
   ],
   "source": [
    "print('Embarked has ',sum(df_train['Embarked'].isnull()), ' Null values')"
   ]
  },
  {
   "cell_type": "markdown",
   "id": "bottom-price",
   "metadata": {},
   "source": [
    "- Embarked 는 Null value 가 2개이고, S 에서 가장 많은 탑승객이 있었으므로, 간단하게 Null 을 S로 채우겠습니다.\n",
    "- dataframe 의 fillna method 를 이용하면 쉽게 채울 수 있습니다. 여기서 inplace=True 로 하면 df_train 에 fillna 를 실제로 적용하게 됩니다"
   ]
  },
  {
   "cell_type": "code",
   "execution_count": 121,
   "id": "sought-state",
   "metadata": {
    "ExecuteTime": {
     "end_time": "2021-01-19T14:48:12.315886Z",
     "start_time": "2021-01-19T14:48:12.299890Z"
    }
   },
   "outputs": [],
   "source": [
    "df_train['Embarked'].fillna('S',inplace=True)"
   ]
  },
  {
   "cell_type": "markdown",
   "id": "compact-institution",
   "metadata": {},
   "source": [
    "## 3.2 Change Age (continuous to categorical)"
   ]
  },
  {
   "cell_type": "markdown",
   "id": "sticky-mexico",
   "metadata": {},
   "source": [
    "- Age 는 현재 continuous feature 입니다. 이대로 써도 모델을 세울 수 있지만, Age 를 몇개의 group 으로 나누어 category 화 시켜줄 수 도 있습니다. continuous 를 categorical 로 바꾸면 자칫 information loss 가 생길 수도 있습니다만, 다양한 방법을 소개하는 것이 목적이므로 진행하도록 하겠습니다.\n",
    "- 방법은 여러가지가 있습니다. dataframe 의 indexing 방법인 loc 를 사용하여 직접해줄 수 있고, 아니면 apply 를 사용해 함수를 넣어줄 수 있습니다.\n",
    "- 첫번째로 loc 를 사용한 방법입니다. loc 는 자주쓰게 되므로 그 사용법을 숙지하시면 좋습니다.\n",
    "- 나이는 10살 간격으로 나누겠습니다."
   ]
  },
  {
   "cell_type": "code",
   "execution_count": 123,
   "id": "advanced-opening",
   "metadata": {
    "ExecuteTime": {
     "end_time": "2021-01-19T14:53:30.100234Z",
     "start_time": "2021-01-19T14:53:30.070293Z"
    }
   },
   "outputs": [],
   "source": [
    "df_train['Age_cat'] = 0\n",
    "df_train.loc[df_train['Age']<10,'Age_cat'] = 0\n",
    "df_train.loc[(10<=df_train['Age'])&(df_train['Age']<20),'Age_cat']=1\n",
    "df_train.loc[(20<=df_train['Age'])&(df_train['Age']<30),'Age_cat']=2\n",
    "df_train.loc[(30<=df_train['Age'])&(df_train['Age']<40),'Age_cat']=3\n",
    "df_train.loc[(40<=df_train['Age'])&(df_train['Age']<50),'Age_cat']=4\n",
    "df_train.loc[(50<=df_train['Age'])&(df_train['Age']<60),'Age_cat']=5\n",
    "df_train.loc[(60<=df_train['Age'])&(df_train['Age']<70),'Age_cat']=6\n",
    "df_train.loc[70<=df_train['Age'],'Age_cat'] = 7\n",
    "\n",
    "df_test['Age_cat'] = 0\n",
    "df_test.loc[df_test['Age']<10,'Age_cat'] = 0\n",
    "df_test.loc[(10<=df_test['Age'])&(df_test['Age']<20),'Age_cat']=1\n",
    "df_test.loc[(20<=df_test['Age'])&(df_test['Age']<30),'Age_cat']=2\n",
    "df_test.loc[(30<=df_test['Age'])&(df_test['Age']<40),'Age_cat']=3\n",
    "df_test.loc[(40<=df_test['Age'])&(df_test['Age']<50),'Age_cat']=4\n",
    "df_test.loc[(50<=df_test['Age'])&(df_test['Age']<60),'Age_cat']=5\n",
    "df_test.loc[(60<=df_test['Age'])&(df_test['Age']<70),'Age_cat']=6\n",
    "df_test.loc[70<=df_test['Age'],'Age_cat']=7"
   ]
  },
  {
   "cell_type": "markdown",
   "id": "complex-float",
   "metadata": {},
   "source": [
    "두번째로 간단한 함수를 만들어 apply 메소드에 넣어주는 방법입니다. 훨씬 수월합니다."
   ]
  },
  {
   "cell_type": "code",
   "execution_count": 125,
   "id": "spoken-trace",
   "metadata": {
    "ExecuteTime": {
     "end_time": "2021-01-19T14:55:32.647593Z",
     "start_time": "2021-01-19T14:55:32.638617Z"
    }
   },
   "outputs": [],
   "source": [
    "def category_age(x):\n",
    "    if x < 10:\n",
    "        return 0\n",
    "    elif x < 20:\n",
    "        return 1\n",
    "    elif x < 30:\n",
    "        return 2\n",
    "    elif x < 40:\n",
    "        return 3\n",
    "    elif x < 50:\n",
    "        return 4\n",
    "    elif x < 60:\n",
    "        return 5\n",
    "    elif x < 70:\n",
    "        return 6\n",
    "    else:\n",
    "        return 7    \n",
    "    \n",
    "df_train['Age_cat_2'] = df_train['Age'].apply(category_age)"
   ]
  },
  {
   "cell_type": "markdown",
   "id": "sublime-ferry",
   "metadata": {},
   "source": [
    "- 두가지 방법이 잘 적용됐다면, 둘다 같은 결과를 내야합니다. \n",
    "- 이를 확인하기 위해 Series 간 boolean 비교 후 all() 메소드를 사용합시다. all() 메소드는 모든 값이 True 면 True, 하나라도 False 가 있으면 False 를 줍니다."
   ]
  },
  {
   "cell_type": "code",
   "execution_count": 126,
   "id": "ceramic-advance",
   "metadata": {
    "ExecuteTime": {
     "end_time": "2021-01-19T14:56:44.794678Z",
     "start_time": "2021-01-19T14:56:44.785702Z"
    }
   },
   "outputs": [
    {
     "name": "stdout",
     "output_type": "stream",
     "text": [
      "1번 결과 == 2번 결과면 True 반환 ->  True\n"
     ]
    }
   ],
   "source": [
    "print('1번 결과 == 2번 결과면 True 반환 -> ', (df_train['Age_cat']==df_train['Age_cat_2']).all())"
   ]
  },
  {
   "cell_type": "markdown",
   "id": "muslim-digit",
   "metadata": {},
   "source": [
    "이제 중복되는 Age_cat 컬럼과 원래 컬럼 Age 를 제거하겠습니다."
   ]
  },
  {
   "cell_type": "code",
   "execution_count": 127,
   "id": "divine-arthur",
   "metadata": {
    "ExecuteTime": {
     "end_time": "2021-01-19T14:57:34.199889Z",
     "start_time": "2021-01-19T14:57:34.180938Z"
    }
   },
   "outputs": [],
   "source": [
    "df_train.drop(['Age','Age_cat_2'],axis=1,inplace=True)\n",
    "df_test.drop(['Age'],axis=1,inplace=True)"
   ]
  },
  {
   "cell_type": "markdown",
   "id": "detected-floating",
   "metadata": {},
   "source": [
    "## 3.3 Chane Initial, Embarked and Sex (string to numerical)"
   ]
  },
  {
   "cell_type": "markdown",
   "id": "typical-alliance",
   "metadata": {},
   "source": [
    "- 현재 Initial 은 Mr, Mrs, Miss, Master, Other 총 5개로 이루어져 있습니다. 이런 카테고리로 표현되어져 있는 데이터를 모델에 인풋으로 넣어줄 때 우리가 해야할 것은 먼저 컴퓨터가 인식할 수 있도록 수치화 시켜야 합니다.\n",
    "- map method 를 가지고 간단히 할 수 있습니다.\n",
    "- 사전 순서대로 정리하여 mapping 하겠습니다."
   ]
  },
  {
   "cell_type": "code",
   "execution_count": 128,
   "id": "reliable-communications",
   "metadata": {
    "ExecuteTime": {
     "end_time": "2021-01-19T14:58:43.319935Z",
     "start_time": "2021-01-19T14:58:43.306929Z"
    }
   },
   "outputs": [],
   "source": [
    "df_train['Initial'] = df_train['Initial'].map({'Master': 0, 'Miss': 1, 'Mr': 2, 'Mrs': 3, 'Other': 4})\n",
    "df_test['Initial'] = df_test['Initial'].map({'Master': 0, 'Miss': 1, 'Mr': 2, 'Mrs': 3, 'Other': 4})"
   ]
  },
  {
   "cell_type": "markdown",
   "id": "descending-locator",
   "metadata": {},
   "source": [
    "- Embarked 도 C, Q, S로 이루어져 있습니다. map 을 이용해 바꿔봅시다.\n",
    "- 그러기 앞서서, 특정 column 에 어떤 값들이 있는 지 확인해보는 방법을 잠깐 살펴보겠습니다. 간단히 unique() 메소드를 쓰거나, value_counts() 를 써서 count 까지 보는 방법이 있습니다."
   ]
  },
  {
   "cell_type": "code",
   "execution_count": 129,
   "id": "sealed-meditation",
   "metadata": {
    "ExecuteTime": {
     "end_time": "2021-01-19T14:59:06.459735Z",
     "start_time": "2021-01-19T14:59:06.444141Z"
    }
   },
   "outputs": [
    {
     "data": {
      "text/plain": [
       "array(['S', 'C', 'Q'], dtype=object)"
      ]
     },
     "execution_count": 129,
     "metadata": {},
     "output_type": "execute_result"
    }
   ],
   "source": [
    "df_train['Embarked'].unique()"
   ]
  },
  {
   "cell_type": "code",
   "execution_count": 130,
   "id": "honey-option",
   "metadata": {
    "ExecuteTime": {
     "end_time": "2021-01-19T14:59:16.740752Z",
     "start_time": "2021-01-19T14:59:16.727768Z"
    }
   },
   "outputs": [
    {
     "data": {
      "text/plain": [
       "S    646\n",
       "C    168\n",
       "Q     77\n",
       "Name: Embarked, dtype: int64"
      ]
     },
     "execution_count": 130,
     "metadata": {},
     "output_type": "execute_result"
    }
   ],
   "source": [
    "df_train['Embarked'].value_counts()"
   ]
  },
  {
   "cell_type": "code",
   "execution_count": 131,
   "id": "aggressive-seminar",
   "metadata": {
    "ExecuteTime": {
     "end_time": "2021-01-19T14:59:42.796504Z",
     "start_time": "2021-01-19T14:59:42.784032Z"
    }
   },
   "outputs": [],
   "source": [
    "df_train['Embarked'] = df_train['Embarked'].map({'C': 0, 'Q': 1, 'S': 2})\n",
    "df_test['Embarked'] = df_test['Embarked'].map({'C': 0, 'Q': 1, 'S': 2})"
   ]
  },
  {
   "cell_type": "markdown",
   "id": "wound-genetics",
   "metadata": {},
   "source": [
    "한번 Null 이 사라졌는지 확인해봅시다. Embarked Column만 가져온 것은 하나의 pandas의 Series 객체므로, isnull() 메소드를 사용해 Series의 값들이 null 인지 아닌지에 대한 boolean 값을 얻을 수 있습니다. 그리고 이것에 any() 를 사용하여, True 가 단하나라도 있을 시(Null이 한개라도 있을 시) True 를 반환해주게 됩니다. 우리는 Null 을 S로 다 바꿔주었으므로 False 를 얻게 됩니다"
   ]
  },
  {
   "cell_type": "code",
   "execution_count": 132,
   "id": "asian-samuel",
   "metadata": {
    "ExecuteTime": {
     "end_time": "2021-01-19T15:00:06.826239Z",
     "start_time": "2021-01-19T15:00:06.820254Z"
    }
   },
   "outputs": [
    {
     "data": {
      "text/plain": [
       "False"
      ]
     },
     "execution_count": 132,
     "metadata": {},
     "output_type": "execute_result"
    }
   ],
   "source": [
    "df_train['Embarked'].isnull().any()"
   ]
  },
  {
   "cell_type": "markdown",
   "id": "interested-wrong",
   "metadata": {},
   "source": [
    "Sex 도 Female, male 로 이루어져 있습니다. map 을 이용해 바꿔봅시다."
   ]
  },
  {
   "cell_type": "code",
   "execution_count": 133,
   "id": "furnished-configuration",
   "metadata": {
    "ExecuteTime": {
     "end_time": "2021-01-19T15:00:39.959496Z",
     "start_time": "2021-01-19T15:00:39.947529Z"
    }
   },
   "outputs": [],
   "source": [
    "df_train['Sex'] = df_train['Sex'].map({'female': 0, 'male': 1})\n",
    "df_test['Sex'] = df_test['Sex'].map({'female': 0, 'male': 1})"
   ]
  },
  {
   "cell_type": "markdown",
   "id": "following-expert",
   "metadata": {},
   "source": [
    "- 이제 각 feature 간의 상관관계를 한번 보려고 합니다. 두 변수간의 Pearson correlation 을 구하면 (-1, 1) 사이의 값을 얻을 수 있습니다. -1로 갈수록 음의 상관관계, 1로 갈수록 양의 상관관계를 의미하며, 0은 상관관계가 없다는 것을 의미합니다.\n",
    "- 우리는 여러 feature 를 가지고 있으니 이를 하나의 maxtrix 형태로 보면 편할 텐데, 이를 heatmap plot 이라고 하며, dataframe 의 corr() 메소드와 seaborn 을 가지고 편하게 그릴 수 있습니다."
   ]
  },
  {
   "cell_type": "code",
   "execution_count": 134,
   "id": "described-steam",
   "metadata": {
    "ExecuteTime": {
     "end_time": "2021-01-19T15:03:08.009264Z",
     "start_time": "2021-01-19T15:03:06.636538Z"
    }
   },
   "outputs": [
    {
     "data": {
      "image/png": "[encoded data removed]",
      "text/plain": [
       "<Figure size 1008x864 with 2 Axes>"
      ]
     },
     "metadata": {
      "needs_background": "light"
     },
     "output_type": "display_data"
    }
   ],
   "source": [
    "heatmap_data = df_train[['Survived','Pclass','Sex','Fare','Embarked','FamilySize','Initial','Age_cat']]\n",
    "\n",
    "colormap = plt.cm.RdBu\n",
    "plt.figure(figsize=(14,12))\n",
    "plt.title('Pearson Correlation of Features', y=1.05,size=15)\n",
    "sns.heatmap(heatmap_data.astype(float).corr(),linewidths=0.1,vmax=1.0,square=True,\n",
    "           cmap=colormap,linecolor='white',annot=True,annot_kws={'size':16})\n",
    "\n",
    "del heatmap_data"
   ]
  },
  {
   "cell_type": "markdown",
   "id": "cosmetic-tomorrow",
   "metadata": {},
   "source": [
    "- 우리가 EDA에서 살펴봤듯이, Sex 와 Pclass 가 Survived 에 상관관계가 어느 정도 있음을 볼 수 있습니다.\n",
    "- 생각보다 fare 와 Embarked 도 상관관계가 있음을 볼 수 있습니다.\n",
    "- 또한 우리가 여기서 얻을 수 있는 정보는 서로 강한 상관관계를 가지는 feature들이 없다는 것입니다.\n",
    "- 이것은 우리가 모델을 학습시킬 때, 불필요한(redundant, superfluous) feature 가 없다는 것을 의미합니다. 1 또는 -1 의 상관관계를 가진 feature A, B 가 있다면, 우리가 얻을 수 있는 정보는 사실 하나일 거니까요.\n",
    "- 이제 실제로 모델을 학습시키기 앞서서 data preprocessing (전처리)을 진행해보겠습니다."
   ]
  },
  {
   "cell_type": "markdown",
   "id": "marine-chemical",
   "metadata": {},
   "source": [
    "## 3.4 One-hot encoding on Initial and Embarked"
   ]
  },
  {
   "cell_type": "markdown",
   "id": "vanilla-faith",
   "metadata": {},
   "source": [
    "- 수치화시킨 카테고리 데이터를 그대로 넣어도 되지만, 모델의 성능을 높이기 위해 one-hot encoding을 해줄 수 있습니다.\n",
    "- 수치화는 간단히 Master == 0, Miss == 1, Mr == 2, Mrs == 3, Other == 4 로 매핑해주는 것을 말합니다.\n",
    "- One-hot encoding 은 위 카테고리를 (0, 1) 로 이루어진 5차원의 벡터로 나타내는 것을 말합니다.\n",
    "- 직접 코딩할 수도 있지만, pandas 의 get_dummies 를 사용하여 쉽게 해결 할 수 있습니다.\n",
    "- 총 5개의 카테고리니, one-hot encoding 을 하고 나면 새로운 5개의 column 이 생겨납니다.\n",
    "- Initial 을 prefix로 두어서 구분이 쉽게 만들어 줍니다."
   ]
  },
  {
   "cell_type": "code",
   "execution_count": 135,
   "id": "arranged-watson",
   "metadata": {
    "ExecuteTime": {
     "end_time": "2021-01-19T15:05:20.263760Z",
     "start_time": "2021-01-19T15:05:20.240859Z"
    }
   },
   "outputs": [],
   "source": [
    "df_train = pd.get_dummies(df_train, columns=['Initial'],prefix='Initial')\n",
    "df_test = pd.get_dummies(df_test, columns=['Initial'],prefix='Initial')"
   ]
  },
  {
   "cell_type": "code",
   "execution_count": 136,
   "id": "invalid-farming",
   "metadata": {
    "ExecuteTime": {
     "end_time": "2021-01-19T15:05:29.364220Z",
     "start_time": "2021-01-19T15:05:29.348674Z"
    }
   },
   "outputs": [
    {
     "data": {
      "text/html": [
       "<div>\n",
       "<style scoped>\n",
       "    .dataframe tbody tr th:only-of-type {\n",
       "        vertical-align: middle;\n",
       "    }\n",
       "\n",
       "    .dataframe tbody tr th {\n",
       "        vertical-align: top;\n",
       "    }\n",
       "\n",
       "    .dataframe thead th {\n",
       "        text-align: right;\n",
       "    }\n",
       "</style>\n",
       "<table border=\"1\" class=\"dataframe\">\n",
       "  <thead>\n",
       "    <tr style=\"text-align: right;\">\n",
       "      <th></th>\n",
       "      <th>PassengerId</th>\n",
       "      <th>Survived</th>\n",
       "      <th>Pclass</th>\n",
       "      <th>Name</th>\n",
       "      <th>Sex</th>\n",
       "      <th>SibSp</th>\n",
       "      <th>Parch</th>\n",
       "      <th>Ticket</th>\n",
       "      <th>Fare</th>\n",
       "      <th>Cabin</th>\n",
       "      <th>Embarked</th>\n",
       "      <th>FamilySize</th>\n",
       "      <th>Age_cat</th>\n",
       "      <th>Initial_0</th>\n",
       "      <th>Initial_1</th>\n",
       "      <th>Initial_2</th>\n",
       "      <th>Initial_3</th>\n",
       "      <th>Initial_4</th>\n",
       "    </tr>\n",
       "  </thead>\n",
       "  <tbody>\n",
       "    <tr>\n",
       "      <th>0</th>\n",
       "      <td>1</td>\n",
       "      <td>0</td>\n",
       "      <td>3</td>\n",
       "      <td>Braund, Mr. Owen Harris</td>\n",
       "      <td>1</td>\n",
       "      <td>1</td>\n",
       "      <td>0</td>\n",
       "      <td>A/5 21171</td>\n",
       "      <td>1.981001</td>\n",
       "      <td>NaN</td>\n",
       "      <td>2</td>\n",
       "      <td>2</td>\n",
       "      <td>2</td>\n",
       "      <td>0</td>\n",
       "      <td>0</td>\n",
       "      <td>1</td>\n",
       "      <td>0</td>\n",
       "      <td>0</td>\n",
       "    </tr>\n",
       "    <tr>\n",
       "      <th>1</th>\n",
       "      <td>2</td>\n",
       "      <td>1</td>\n",
       "      <td>1</td>\n",
       "      <td>Cumings, Mrs. John Bradley (Florence Briggs Th...</td>\n",
       "      <td>0</td>\n",
       "      <td>1</td>\n",
       "      <td>0</td>\n",
       "      <td>PC 17599</td>\n",
       "      <td>4.266662</td>\n",
       "      <td>C85</td>\n",
       "      <td>0</td>\n",
       "      <td>2</td>\n",
       "      <td>3</td>\n",
       "      <td>0</td>\n",
       "      <td>0</td>\n",
       "      <td>0</td>\n",
       "      <td>1</td>\n",
       "      <td>0</td>\n",
       "    </tr>\n",
       "    <tr>\n",
       "      <th>2</th>\n",
       "      <td>3</td>\n",
       "      <td>1</td>\n",
       "      <td>3</td>\n",
       "      <td>Heikkinen, Miss. Laina</td>\n",
       "      <td>0</td>\n",
       "      <td>0</td>\n",
       "      <td>0</td>\n",
       "      <td>STON/O2. 3101282</td>\n",
       "      <td>2.070022</td>\n",
       "      <td>NaN</td>\n",
       "      <td>2</td>\n",
       "      <td>1</td>\n",
       "      <td>2</td>\n",
       "      <td>0</td>\n",
       "      <td>1</td>\n",
       "      <td>0</td>\n",
       "      <td>0</td>\n",
       "      <td>0</td>\n",
       "    </tr>\n",
       "    <tr>\n",
       "      <th>3</th>\n",
       "      <td>4</td>\n",
       "      <td>1</td>\n",
       "      <td>1</td>\n",
       "      <td>Futrelle, Mrs. Jacques Heath (Lily May Peel)</td>\n",
       "      <td>0</td>\n",
       "      <td>1</td>\n",
       "      <td>0</td>\n",
       "      <td>113803</td>\n",
       "      <td>3.972177</td>\n",
       "      <td>C123</td>\n",
       "      <td>2</td>\n",
       "      <td>2</td>\n",
       "      <td>3</td>\n",
       "      <td>0</td>\n",
       "      <td>0</td>\n",
       "      <td>0</td>\n",
       "      <td>1</td>\n",
       "      <td>0</td>\n",
       "    </tr>\n",
       "    <tr>\n",
       "      <th>4</th>\n",
       "      <td>5</td>\n",
       "      <td>0</td>\n",
       "      <td>3</td>\n",
       "      <td>Allen, Mr. William Henry</td>\n",
       "      <td>1</td>\n",
       "      <td>0</td>\n",
       "      <td>0</td>\n",
       "      <td>373450</td>\n",
       "      <td>2.085672</td>\n",
       "      <td>NaN</td>\n",
       "      <td>2</td>\n",
       "      <td>1</td>\n",
       "      <td>3</td>\n",
       "      <td>0</td>\n",
       "      <td>0</td>\n",
       "      <td>1</td>\n",
       "      <td>0</td>\n",
       "      <td>0</td>\n",
       "    </tr>\n",
       "  </tbody>\n",
       "</table>\n",
       "</div>"
      ],
      "text/plain": [
       "   PassengerId  Survived  Pclass  \\\n",
       "0            1         0       3   \n",
       "1            2         1       1   \n",
       "2            3         1       3   \n",
       "3            4         1       1   \n",
       "4            5         0       3   \n",
       "\n",
       "                                                Name  Sex  SibSp  Parch  \\\n",
       "0                            Braund, Mr. Owen Harris    1      1      0   \n",
       "1  Cumings, Mrs. John Bradley (Florence Briggs Th...    0      1      0   \n",
       "2                             Heikkinen, Miss. Laina    0      0      0   \n",
       "3       Futrelle, Mrs. Jacques Heath (Lily May Peel)    0      1      0   \n",
       "4                           Allen, Mr. William Henry    1      0      0   \n",
       "\n",
       "             Ticket      Fare Cabin  Embarked  FamilySize  Age_cat  Initial_0  \\\n",
       "0         A/5 21171  1.981001   NaN         2           2        2          0   \n",
       "1          PC 17599  4.266662   C85         0           2        3          0   \n",
       "2  STON/O2. 3101282  2.070022   NaN         2           1        2          0   \n",
       "3            113803  3.972177  C123         2           2        3          0   \n",
       "4            373450  2.085672   NaN         2           1        3          0   \n",
       "\n",
       "   Initial_1  Initial_2  Initial_3  Initial_4  \n",
       "0          0          1          0          0  \n",
       "1          0          0          1          0  \n",
       "2          1          0          0          0  \n",
       "3          0          0          1          0  \n",
       "4          0          1          0          0  "
      ]
     },
     "execution_count": 136,
     "metadata": {},
     "output_type": "execute_result"
    }
   ],
   "source": [
    "df_train.head()"
   ]
  },
  {
   "cell_type": "markdown",
   "id": "upset-university",
   "metadata": {},
   "source": [
    "- 오른쪽에 우리가 만들려고 했던 one-hot encoded columns 가 생성된 것이 보입니다\n",
    "- Embarked 에도 적용하겠습니다. Initial 때와 마찬가지로 one-hot encoding 을 사용해 표현하겠습니다."
   ]
  },
  {
   "cell_type": "code",
   "execution_count": 137,
   "id": "closing-placement",
   "metadata": {
    "ExecuteTime": {
     "end_time": "2021-01-19T15:06:33.082310Z",
     "start_time": "2021-01-19T15:06:33.057470Z"
    }
   },
   "outputs": [],
   "source": [
    "df_train = pd.get_dummies(df_train, columns=['Embarked'],prefix='Embarked')\n",
    "df_test = pd.get_dummies(df_test, columns=['Embarked'],prefix='Embarked')"
   ]
  },
  {
   "cell_type": "markdown",
   "id": "muslim-internet",
   "metadata": {},
   "source": [
    "- 아주 쉽게 one-hot encoding 을 적용했습니다.\n",
    "- sklearn 로 Labelencoder + OneHotencoder 이용해도 one-hot encoding 이 가능합니다.\n",
    "- 여기서는 get_dummies 로 충분히 가능하기 때문에 get_dummies 만으로 끝내겠습니다.\n",
    "- 가끔 category 가 100개가 넘어가는 경우가 있습니다. 이때 one-hot encoding을 사용하면 column이 100개가 생겨, 학습시 매우 버거울 경우가 있습니다. 이런 경우는 다른 방법을 사용하기도 합니다."
   ]
  },
  {
   "cell_type": "markdown",
   "id": "severe-height",
   "metadata": {},
   "source": [
    "## 3.5 Drop columns"
   ]
  },
  {
   "cell_type": "markdown",
   "id": "fatal-story",
   "metadata": {},
   "source": [
    "필요한 columns 만 남기고 다 지웁시다."
   ]
  },
  {
   "cell_type": "code",
   "execution_count": 138,
   "id": "cultural-verse",
   "metadata": {
    "ExecuteTime": {
     "end_time": "2021-01-19T15:08:02.371533Z",
     "start_time": "2021-01-19T15:08:02.351607Z"
    }
   },
   "outputs": [],
   "source": [
    "df_train.drop(['PassengerId','Name','SibSp','Parch','Ticket','Cabin'],axis=1,inplace=True)\n",
    "df_test.drop(['PassengerId','Name','SibSp','Parch','Ticket','Cabin'],axis=1,inplace=True)"
   ]
  },
  {
   "cell_type": "code",
   "execution_count": 139,
   "id": "nominated-ribbon",
   "metadata": {
    "ExecuteTime": {
     "end_time": "2021-01-19T15:08:08.343027Z",
     "start_time": "2021-01-19T15:08:08.316078Z"
    }
   },
   "outputs": [
    {
     "data": {
      "text/html": [
       "<div>\n",
       "<style scoped>\n",
       "    .dataframe tbody tr th:only-of-type {\n",
       "        vertical-align: middle;\n",
       "    }\n",
       "\n",
       "    .dataframe tbody tr th {\n",
       "        vertical-align: top;\n",
       "    }\n",
       "\n",
       "    .dataframe thead th {\n",
       "        text-align: right;\n",
       "    }\n",
       "</style>\n",
       "<table border=\"1\" class=\"dataframe\">\n",
       "  <thead>\n",
       "    <tr style=\"text-align: right;\">\n",
       "      <th></th>\n",
       "      <th>Survived</th>\n",
       "      <th>Pclass</th>\n",
       "      <th>Sex</th>\n",
       "      <th>Fare</th>\n",
       "      <th>FamilySize</th>\n",
       "      <th>Age_cat</th>\n",
       "      <th>Initial_0</th>\n",
       "      <th>Initial_1</th>\n",
       "      <th>Initial_2</th>\n",
       "      <th>Initial_3</th>\n",
       "      <th>Initial_4</th>\n",
       "      <th>Embarked_0</th>\n",
       "      <th>Embarked_1</th>\n",
       "      <th>Embarked_2</th>\n",
       "    </tr>\n",
       "  </thead>\n",
       "  <tbody>\n",
       "    <tr>\n",
       "      <th>0</th>\n",
       "      <td>0</td>\n",
       "      <td>3</td>\n",
       "      <td>1</td>\n",
       "      <td>1.981001</td>\n",
       "      <td>2</td>\n",
       "      <td>2</td>\n",
       "      <td>0</td>\n",
       "      <td>0</td>\n",
       "      <td>1</td>\n",
       "      <td>0</td>\n",
       "      <td>0</td>\n",
       "      <td>0</td>\n",
       "      <td>0</td>\n",
       "      <td>1</td>\n",
       "    </tr>\n",
       "    <tr>\n",
       "      <th>1</th>\n",
       "      <td>1</td>\n",
       "      <td>1</td>\n",
       "      <td>0</td>\n",
       "      <td>4.266662</td>\n",
       "      <td>2</td>\n",
       "      <td>3</td>\n",
       "      <td>0</td>\n",
       "      <td>0</td>\n",
       "      <td>0</td>\n",
       "      <td>1</td>\n",
       "      <td>0</td>\n",
       "      <td>1</td>\n",
       "      <td>0</td>\n",
       "      <td>0</td>\n",
       "    </tr>\n",
       "    <tr>\n",
       "      <th>2</th>\n",
       "      <td>1</td>\n",
       "      <td>3</td>\n",
       "      <td>0</td>\n",
       "      <td>2.070022</td>\n",
       "      <td>1</td>\n",
       "      <td>2</td>\n",
       "      <td>0</td>\n",
       "      <td>1</td>\n",
       "      <td>0</td>\n",
       "      <td>0</td>\n",
       "      <td>0</td>\n",
       "      <td>0</td>\n",
       "      <td>0</td>\n",
       "      <td>1</td>\n",
       "    </tr>\n",
       "    <tr>\n",
       "      <th>3</th>\n",
       "      <td>1</td>\n",
       "      <td>1</td>\n",
       "      <td>0</td>\n",
       "      <td>3.972177</td>\n",
       "      <td>2</td>\n",
       "      <td>3</td>\n",
       "      <td>0</td>\n",
       "      <td>0</td>\n",
       "      <td>0</td>\n",
       "      <td>1</td>\n",
       "      <td>0</td>\n",
       "      <td>0</td>\n",
       "      <td>0</td>\n",
       "      <td>1</td>\n",
       "    </tr>\n",
       "    <tr>\n",
       "      <th>4</th>\n",
       "      <td>0</td>\n",
       "      <td>3</td>\n",
       "      <td>1</td>\n",
       "      <td>2.085672</td>\n",
       "      <td>1</td>\n",
       "      <td>3</td>\n",
       "      <td>0</td>\n",
       "      <td>0</td>\n",
       "      <td>1</td>\n",
       "      <td>0</td>\n",
       "      <td>0</td>\n",
       "      <td>0</td>\n",
       "      <td>0</td>\n",
       "      <td>1</td>\n",
       "    </tr>\n",
       "  </tbody>\n",
       "</table>\n",
       "</div>"
      ],
      "text/plain": [
       "   Survived  Pclass  Sex      Fare  FamilySize  Age_cat  Initial_0  Initial_1  \\\n",
       "0         0       3    1  1.981001           2        2          0          0   \n",
       "1         1       1    0  4.266662           2        3          0          0   \n",
       "2         1       3    0  2.070022           1        2          0          1   \n",
       "3         1       1    0  3.972177           2        3          0          0   \n",
       "4         0       3    1  2.085672           1        3          0          0   \n",
       "\n",
       "   Initial_2  Initial_3  Initial_4  Embarked_0  Embarked_1  Embarked_2  \n",
       "0          1          0          0           0           0           1  \n",
       "1          0          1          0           1           0           0  \n",
       "2          0          0          0           0           0           1  \n",
       "3          0          1          0           0           0           1  \n",
       "4          1          0          0           0           0           1  "
      ]
     },
     "execution_count": 139,
     "metadata": {},
     "output_type": "execute_result"
    }
   ],
   "source": [
    "df_train.head()"
   ]
  },
  {
   "cell_type": "code",
   "execution_count": 140,
   "id": "legal-warehouse",
   "metadata": {
    "ExecuteTime": {
     "end_time": "2021-01-19T15:08:15.831644Z",
     "start_time": "2021-01-19T15:08:15.809703Z"
    }
   },
   "outputs": [
    {
     "data": {
      "text/html": [
       "<div>\n",
       "<style scoped>\n",
       "    .dataframe tbody tr th:only-of-type {\n",
       "        vertical-align: middle;\n",
       "    }\n",
       "\n",
       "    .dataframe tbody tr th {\n",
       "        vertical-align: top;\n",
       "    }\n",
       "\n",
       "    .dataframe thead th {\n",
       "        text-align: right;\n",
       "    }\n",
       "</style>\n",
       "<table border=\"1\" class=\"dataframe\">\n",
       "  <thead>\n",
       "    <tr style=\"text-align: right;\">\n",
       "      <th></th>\n",
       "      <th>Pclass</th>\n",
       "      <th>Sex</th>\n",
       "      <th>Fare</th>\n",
       "      <th>FailySize</th>\n",
       "      <th>Age_cat</th>\n",
       "      <th>Initial_0</th>\n",
       "      <th>Initial_1</th>\n",
       "      <th>Initial_2</th>\n",
       "      <th>Initial_3</th>\n",
       "      <th>Initial_4</th>\n",
       "      <th>Embarked_0</th>\n",
       "      <th>Embarked_1</th>\n",
       "      <th>Embarked_2</th>\n",
       "    </tr>\n",
       "  </thead>\n",
       "  <tbody>\n",
       "    <tr>\n",
       "      <th>0</th>\n",
       "      <td>3</td>\n",
       "      <td>1</td>\n",
       "      <td>2.057860</td>\n",
       "      <td>1</td>\n",
       "      <td>3</td>\n",
       "      <td>0</td>\n",
       "      <td>0</td>\n",
       "      <td>1</td>\n",
       "      <td>0</td>\n",
       "      <td>0</td>\n",
       "      <td>0</td>\n",
       "      <td>1</td>\n",
       "      <td>0</td>\n",
       "    </tr>\n",
       "    <tr>\n",
       "      <th>1</th>\n",
       "      <td>3</td>\n",
       "      <td>0</td>\n",
       "      <td>1.945910</td>\n",
       "      <td>2</td>\n",
       "      <td>4</td>\n",
       "      <td>0</td>\n",
       "      <td>0</td>\n",
       "      <td>0</td>\n",
       "      <td>1</td>\n",
       "      <td>0</td>\n",
       "      <td>0</td>\n",
       "      <td>0</td>\n",
       "      <td>1</td>\n",
       "    </tr>\n",
       "    <tr>\n",
       "      <th>2</th>\n",
       "      <td>2</td>\n",
       "      <td>1</td>\n",
       "      <td>2.270836</td>\n",
       "      <td>1</td>\n",
       "      <td>6</td>\n",
       "      <td>0</td>\n",
       "      <td>0</td>\n",
       "      <td>1</td>\n",
       "      <td>0</td>\n",
       "      <td>0</td>\n",
       "      <td>0</td>\n",
       "      <td>1</td>\n",
       "      <td>0</td>\n",
       "    </tr>\n",
       "    <tr>\n",
       "      <th>3</th>\n",
       "      <td>3</td>\n",
       "      <td>1</td>\n",
       "      <td>2.159003</td>\n",
       "      <td>1</td>\n",
       "      <td>2</td>\n",
       "      <td>0</td>\n",
       "      <td>0</td>\n",
       "      <td>1</td>\n",
       "      <td>0</td>\n",
       "      <td>0</td>\n",
       "      <td>0</td>\n",
       "      <td>0</td>\n",
       "      <td>1</td>\n",
       "    </tr>\n",
       "    <tr>\n",
       "      <th>4</th>\n",
       "      <td>3</td>\n",
       "      <td>0</td>\n",
       "      <td>2.508582</td>\n",
       "      <td>3</td>\n",
       "      <td>2</td>\n",
       "      <td>0</td>\n",
       "      <td>0</td>\n",
       "      <td>0</td>\n",
       "      <td>1</td>\n",
       "      <td>0</td>\n",
       "      <td>0</td>\n",
       "      <td>0</td>\n",
       "      <td>1</td>\n",
       "    </tr>\n",
       "  </tbody>\n",
       "</table>\n",
       "</div>"
      ],
      "text/plain": [
       "   Pclass  Sex      Fare  FailySize  Age_cat  Initial_0  Initial_1  Initial_2  \\\n",
       "0       3    1  2.057860          1        3          0          0          1   \n",
       "1       3    0  1.945910          2        4          0          0          0   \n",
       "2       2    1  2.270836          1        6          0          0          1   \n",
       "3       3    1  2.159003          1        2          0          0          1   \n",
       "4       3    0  2.508582          3        2          0          0          0   \n",
       "\n",
       "   Initial_3  Initial_4  Embarked_0  Embarked_1  Embarked_2  \n",
       "0          0          0           0           1           0  \n",
       "1          1          0           0           0           1  \n",
       "2          0          0           0           1           0  \n",
       "3          0          0           0           0           1  \n",
       "4          1          0           0           0           1  "
      ]
     },
     "execution_count": 140,
     "metadata": {},
     "output_type": "execute_result"
    }
   ],
   "source": [
    "df_test.head()"
   ]
  },
  {
   "cell_type": "markdown",
   "id": "individual-volunteer",
   "metadata": {},
   "source": [
    " train 의 Survived feature(target class)를 빼면 train, test 둘다 같은 columns 를 가진 걸 확인할 수 있습니다."
   ]
  },
  {
   "cell_type": "markdown",
   "id": "transparent-detective",
   "metadata": {},
   "source": [
    "# 4. Building machine learning model and prediction using the trained model"
   ]
  },
  {
   "cell_type": "markdown",
   "id": "thorough-converter",
   "metadata": {},
   "source": [
    "이제 준비가 다 되었으니 sklearn 을 사용해 본격적으로 머신러닝 모델을 만들어 봅시다."
   ]
  },
  {
   "cell_type": "code",
   "execution_count": 142,
   "id": "graphic-anatomy",
   "metadata": {
    "ExecuteTime": {
     "end_time": "2021-01-19T15:09:43.230979Z",
     "start_time": "2021-01-19T15:09:43.225993Z"
    }
   },
   "outputs": [],
   "source": [
    "# importing all the required ML packages\n",
    "from sklearn.ensemble import RandomForestClassifier\n",
    "from sklearn import metrics  # 모델 평가\n",
    "from sklearn.model_selection import train_test_split"
   ]
  },
  {
   "cell_type": "markdown",
   "id": "interesting-action",
   "metadata": {},
   "source": [
    "- Sklearn 은 머신러닝의 처음부터 끝까지가 다 있습니다. feature engineering, preprocessing, 지도 학습 알고리즘, 비지도 학습 알고리즘, 모델 평가, 파이프라인 등 머신러닝에 관련된 모든 작업들이 손쉬운 인터페이스로 구현되어 있습니다.\n",
    "- 지금 타이타닉 문제는 target class(survived)가 있으며, target class 는 0, 1로 이루어져 있으므로(binary) binary classfication 문제입니다.\n",
    "- 우리가 지금 가지고 있는 train set 의 survived를 제외한 input 을 가지고 모델을 최적화시켜서 각 샘플(탑승객)의 생존유무를 판단하는 모델을 만들어 냅니다.\n",
    "- 그 후 모델이 학습하지 않았던 test set 을 input 으로 주어서 test set 의 각 샘플(탑승객)의 생존 유무를 예측해봅니다."
   ]
  },
  {
   "cell_type": "markdown",
   "id": "painted-purpose",
   "metadata": {},
   "source": [
    "## 4.1 Preparation - Split dataset into train, valid, test set"
   ]
  },
  {
   "cell_type": "markdown",
   "id": "alpine-conflict",
   "metadata": {},
   "source": [
    "가장 먼저, 학습에 쓰일 데이터와, target label(Survived)를 분리합니다. drop 을 사용해 간단히 할 수 있습니다."
   ]
  },
  {
   "cell_type": "code",
   "execution_count": 143,
   "id": "flexible-header",
   "metadata": {
    "ExecuteTime": {
     "end_time": "2021-01-19T15:11:27.194220Z",
     "start_time": "2021-01-19T15:11:27.184735Z"
    }
   },
   "outputs": [],
   "source": [
    "X_train = df_train.drop('Survived',axis=1).values\n",
    "target_label = df_train['Survived'].values\n",
    "X_test = df_test.values"
   ]
  },
  {
   "cell_type": "markdown",
   "id": "approved-kazakhstan",
   "metadata": {},
   "source": [
    "- 보통 train, test 만 언급되지만, 실제 좋은 모델을 만들기 위해서 우리는 valid set을 따로 만들어 모델 평가를 해봅니다.\n",
    "- train_test_split 을 사용하여 쉽게 train 셋을 분리할 수 있습니다."
   ]
  },
  {
   "cell_type": "code",
   "execution_count": 144,
   "id": "harmful-discipline",
   "metadata": {
    "ExecuteTime": {
     "end_time": "2021-01-19T15:12:11.020413Z",
     "start_time": "2021-01-19T15:12:11.001451Z"
    }
   },
   "outputs": [],
   "source": [
    "X_tr, X_vld, y_tr, y_vld = train_test_split(X_train, target_label, test_size=0.3, random_state=2021)"
   ]
  },
  {
   "cell_type": "markdown",
   "id": "fatal-distribution",
   "metadata": {},
   "source": [
    "- sklearn 에서는 여러 머신러닝 알고리즘을 지원해줍니다. 참고 : http://scikit-learn.org/stable/supervised_learning.html#supervised-learning\n",
    "- 랜덤포레스트는 결정트리기반 모델이며, 여러 결정 트리들을 앙상블한 모델입니다. \n",
    "- 각 머신러닝 알고리즘에는 여러 파라미터들이 있습니다. 랜덤포레스트분류기도 n_estimators, max_features, max_depth, min_samples_split, min_samples_leaf 등 여러 파라미터들이 존재합니다. 이것들이 어떻게 세팅되냐에 따라 같은 데이터셋이라 하더라도 모델의 성능이 달라집니다.\n",
    "- 파라미터 튜닝은 시간, 경험, 알고리즘에 대한 이해 등이 필요합니다. 결국 많이 써봐야 모델도 잘 세울 수 있는 것이죠.\n",
    "- 모델 객체를 만들고, fit 메소드로 학습시킵니다.\n",
    "- 그런 후 valid set input 을 넣어주어 예측값(X_vld sample(탑승객)의 생존여부)를 얻습니다."
   ]
  },
  {
   "cell_type": "markdown",
   "id": "dietary-tonight",
   "metadata": {},
   "source": [
    "## 4.2 Model generation and prediction"
   ]
  },
  {
   "cell_type": "code",
   "execution_count": 145,
   "id": "early-blood",
   "metadata": {
    "ExecuteTime": {
     "end_time": "2021-01-19T15:13:44.017236Z",
     "start_time": "2021-01-19T15:13:43.739908Z"
    }
   },
   "outputs": [],
   "source": [
    "model = RandomForestClassifier()\n",
    "model.fit(X_tr, y_tr)\n",
    "prediction = model.predict(X_vld)"
   ]
  },
  {
   "cell_type": "markdown",
   "id": "bottom-lewis",
   "metadata": {},
   "source": [
    " 단 세줄만으로 모델을 세우고, 예측까지 해봤습니다. 이제 모델의 성능을 한번 살펴보겠습니다."
   ]
  },
  {
   "cell_type": "code",
   "execution_count": 146,
   "id": "collective-enforcement",
   "metadata": {
    "ExecuteTime": {
     "end_time": "2021-01-19T15:14:43.203379Z",
     "start_time": "2021-01-19T15:14:43.195401Z"
    }
   },
   "outputs": [
    {
     "name": "stdout",
     "output_type": "stream",
     "text": [
      "총 268명 중 80.60% 정확도로 생존을 맞춤\n"
     ]
    }
   ],
   "source": [
    "print('총 {}명 중 {:.2f}% 정확도로 생존을 맞춤'.format(y_vld.shape[0], 100*metrics.accuracy_score(prediction,y_vld)))"
   ]
  },
  {
   "cell_type": "markdown",
   "id": "exterior-norfolk",
   "metadata": {},
   "source": [
    "## 4.3 Feature importance"
   ]
  },
  {
   "cell_type": "markdown",
   "id": "multiple-community",
   "metadata": {},
   "source": [
    "- 학습된 모델은 feature importance 를 가지게 되는데, 우리는 이것을 확인하여 지금 만든 모델이 어떤 feature 에 영향을 많이 받았는 지 확인할 수 있습니다.\n",
    "- 학습된 모델은 기본적으로 featureimportances 를 가지고 있어서 쉽게 그 수치를 얻을 수 있습니다.\n",
    "- pandas series 를 이용하면 쉽게 sorting 을 하여 그래프를 그릴 수 있습니다"
   ]
  },
  {
   "cell_type": "code",
   "execution_count": 147,
   "id": "aware-edmonton",
   "metadata": {
    "ExecuteTime": {
     "end_time": "2021-01-19T15:15:59.392104Z",
     "start_time": "2021-01-19T15:15:59.365602Z"
    }
   },
   "outputs": [],
   "source": [
    "from pandas import Series\n",
    "\n",
    "feature_importance = model.feature_importances_\n",
    "Series_feat_imp = Series(feature_importance, index=df_test.columns)"
   ]
  },
  {
   "cell_type": "code",
   "execution_count": 148,
   "id": "fiscal-dragon",
   "metadata": {
    "ExecuteTime": {
     "end_time": "2021-01-19T15:16:43.769616Z",
     "start_time": "2021-01-19T15:16:43.387478Z"
    }
   },
   "outputs": [
    {
     "data": {
      "image/png": "[encoded data removed]",
      "text/plain": [
       "<Figure size 576x576 with 1 Axes>"
      ]
     },
     "metadata": {
      "needs_background": "light"
     },
     "output_type": "display_data"
    }
   ],
   "source": [
    "plt.figure(figsize=(8,8))\n",
    "Series_feat_imp.sort_values(ascending=True).plot.barh()\n",
    "plt.xlabel('Feature importance')\n",
    "plt.ylabel('Feature')\n",
    "plt.show()"
   ]
  },
  {
   "cell_type": "markdown",
   "id": "peripheral-clarity",
   "metadata": {},
   "source": [
    "- 우리가 얻은 모델에서는 Fare 가 가장 큰 영향력을 가지며, 그 뒤로 Initial_2, Age_cat, Pclass가 차례로 중요도를 가집니다\n",
    "-  feature importance 는 지금 모델에서의 importance 를 나타냅니다. 만약 다른 모델을 사용하게 된다면 feature importance 가 다르게 나올 수 있습니다.\n",
    "- 이 feature importance 를 보고 실제로 Fare 가 중요한 feature 일 수 있다고 판단을 내릴 수는 있지만, 이것은 결국 모델에 귀속되는 하나의 결론이므로 통계적으로 좀 더 살펴보긴 해야합니다.\n",
    "- featuure importance 를 가지고 좀 더 정확도가 높은 모델을 얻기 위해 feature selection 을 할 수도 있고, 좀 더 빠른 모델을 위해 feature 제거를 할 수 있습니다."
   ]
  },
  {
   "cell_type": "markdown",
   "id": "relevant-freeware",
   "metadata": {},
   "source": [
    "## 4.4 Prediction on Test set"
   ]
  },
  {
   "cell_type": "markdown",
   "id": "atmospheric-saturn",
   "metadata": {},
   "source": [
    "이제 모델이 학습하지 않았던(보지 않았던) 테스트셋을 모델에 주어서, 생존여부를 예측해보겠습니다. (캐글 제출용)"
   ]
  },
  {
   "cell_type": "code",
   "execution_count": 149,
   "id": "confidential-broadcasting",
   "metadata": {
    "ExecuteTime": {
     "end_time": "2021-01-19T15:18:19.849519Z",
     "start_time": "2021-01-19T15:18:19.839541Z"
    }
   },
   "outputs": [],
   "source": [
    "submission = pd.read_csv('gender_submission.csv')"
   ]
  },
  {
   "cell_type": "code",
   "execution_count": 150,
   "id": "appreciated-engineer",
   "metadata": {
    "ExecuteTime": {
     "end_time": "2021-01-19T15:18:24.670518Z",
     "start_time": "2021-01-19T15:18:24.648577Z"
    }
   },
   "outputs": [
    {
     "data": {
      "text/html": [
       "<div>\n",
       "<style scoped>\n",
       "    .dataframe tbody tr th:only-of-type {\n",
       "        vertical-align: middle;\n",
       "    }\n",
       "\n",
       "    .dataframe tbody tr th {\n",
       "        vertical-align: top;\n",
       "    }\n",
       "\n",
       "    .dataframe thead th {\n",
       "        text-align: right;\n",
       "    }\n",
       "</style>\n",
       "<table border=\"1\" class=\"dataframe\">\n",
       "  <thead>\n",
       "    <tr style=\"text-align: right;\">\n",
       "      <th></th>\n",
       "      <th>PassengerId</th>\n",
       "      <th>Survived</th>\n",
       "    </tr>\n",
       "  </thead>\n",
       "  <tbody>\n",
       "    <tr>\n",
       "      <th>0</th>\n",
       "      <td>892</td>\n",
       "      <td>0</td>\n",
       "    </tr>\n",
       "    <tr>\n",
       "      <th>1</th>\n",
       "      <td>893</td>\n",
       "      <td>1</td>\n",
       "    </tr>\n",
       "    <tr>\n",
       "      <th>2</th>\n",
       "      <td>894</td>\n",
       "      <td>0</td>\n",
       "    </tr>\n",
       "    <tr>\n",
       "      <th>3</th>\n",
       "      <td>895</td>\n",
       "      <td>0</td>\n",
       "    </tr>\n",
       "    <tr>\n",
       "      <th>4</th>\n",
       "      <td>896</td>\n",
       "      <td>1</td>\n",
       "    </tr>\n",
       "  </tbody>\n",
       "</table>\n",
       "</div>"
      ],
      "text/plain": [
       "   PassengerId  Survived\n",
       "0          892         0\n",
       "1          893         1\n",
       "2          894         0\n",
       "3          895         0\n",
       "4          896         1"
      ]
     },
     "execution_count": 150,
     "metadata": {},
     "output_type": "execute_result"
    }
   ],
   "source": [
    "submission.head()"
   ]
  },
  {
   "cell_type": "code",
   "execution_count": 151,
   "id": "improving-pepper",
   "metadata": {
    "ExecuteTime": {
     "end_time": "2021-01-19T15:18:43.366993Z",
     "start_time": "2021-01-19T15:18:43.330033Z"
    }
   },
   "outputs": [],
   "source": [
    "prediction = model.predict(X_test)\n",
    "submission['Survived'] = prediction"
   ]
  },
  {
   "cell_type": "code",
   "execution_count": 152,
   "id": "after-representative",
   "metadata": {
    "ExecuteTime": {
     "end_time": "2021-01-19T15:19:00.794226Z",
     "start_time": "2021-01-19T15:19:00.774766Z"
    }
   },
   "outputs": [],
   "source": [
    "submission.to_csv('3rd',index=False)"
   ]
  }
 ],
 "metadata": {
  "kernelspec": {
   "display_name": "Python 3",
   "language": "python",
   "name": "python3"
  },
  "language_info": {
   "codemirror_mode": {
    "name": "ipython",
    "version": 3
   },
   "file_extension": ".py",
   "mimetype": "text/x-python",
   "name": "python",
   "nbconvert_exporter": "python",
   "pygments_lexer": "ipython3",
   "version": "3.9.1"
  },
  "toc": {
   "base_numbering": 1,
   "nav_menu": {},
   "number_sections": false,
   "sideBar": true,
   "skip_h1_title": false,
   "title_cell": "Table of Contents",
   "title_sidebar": "Contents",
   "toc_cell": false,
   "toc_position": {
    "height": "calc(100% - 180px)",
    "left": "10px",
    "top": "150px",
    "width": "153.438px"
   },
   "toc_section_display": true,
   "toc_window_display": false
  },
  "varInspector": {
   "cols": {
    "lenName": 16,
    "lenType": 16,
    "lenVar": 40
   },
   "kernels_config": {
    "python": {
     "delete_cmd_postfix": "",
     "delete_cmd_prefix": "del ",
     "library": "var_list.py",
     "varRefreshCmd": "print(var_dic_list())"
    },
    "r": {
     "delete_cmd_postfix": ") ",
     "delete_cmd_prefix": "rm(",
     "library": "var_list.r",
     "varRefreshCmd": "cat(var_dic_list()) "
    }
   },
   "types_to_exclude": [
    "module",
    "function",
    "builtin_function_or_method",
    "instance",
    "_Feature"
   ],
   "window_display": false
  }
 },
 "nbformat": 4,
 "nbformat_minor": 5
}
