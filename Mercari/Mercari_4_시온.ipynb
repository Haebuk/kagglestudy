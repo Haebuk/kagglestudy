{
 "cells": [
  {
   "cell_type": "markdown",
   "id": "coated-twins",
   "metadata": {},
   "source": [
    "- Day 41 : 21/03/22"
   ]
  },
  {
   "cell_type": "markdown",
   "id": "continuous-armor",
   "metadata": {},
   "source": [
    "# LGB and FM"
   ]
  },
  {
   "cell_type": "code",
   "execution_count": 4,
   "id": "impossible-confidence",
   "metadata": {
    "ExecuteTime": {
     "end_time": "2021-03-22T14:26:07.882036Z",
     "start_time": "2021-03-22T14:26:07.701818Z"
    }
   },
   "outputs": [],
   "source": [
    "import pandas as pd\n",
    "import numpy as np\n",
    "import time\n",
    "import gc\n",
    "import string\n",
    "import re\n",
    "\n",
    "from nltk.corpus import stopwords\n",
    "from scipy.sparse import csr_matrix, hstack\n",
    "from sklearn.feature_extraction.text import TfidfVectorizer\n",
    "from sklearn.feature_selection.univariate_selection import SelectKBest, f_regression\n",
    "from sklearn.preprocessing import LabelBinarizer\n",
    "\n",
    "#import wordbatch\n",
    "#from wardbatch.extractors import WordBag\n",
    "#from wordbatch.models import FM_FTRL\n",
    "\n",
    "from sklearn.model_selection import train_test_split\n",
    "from sklearn.linear_model import Ridge\n",
    "from sklearn.naive_bayes import MultinomialNB\n",
    "import lightgbm as lgb"
   ]
  },
  {
   "cell_type": "code",
   "execution_count": 5,
   "id": "rolled-metadata",
   "metadata": {
    "ExecuteTime": {
     "end_time": "2021-03-22T14:26:39.206063Z",
     "start_time": "2021-03-22T14:26:39.188112Z"
    }
   },
   "outputs": [],
   "source": [
    "def rmse(predicted, actual):\n",
    "    return np.sqrt(((predicted - actual)**2).mean())"
   ]
  },
  {
   "cell_type": "code",
   "execution_count": 6,
   "id": "lyric-friendly",
   "metadata": {
    "ExecuteTime": {
     "end_time": "2021-03-22T14:27:06.043852Z",
     "start_time": "2021-03-22T14:27:06.025900Z"
    }
   },
   "outputs": [],
   "source": [
    "def split_cat(text):\n",
    "    try:\n",
    "        return text.split('/')\n",
    "    except:\n",
    "        return ('No Label','No Label','No Label')"
   ]
  },
  {
   "cell_type": "code",
   "execution_count": 7,
   "id": "thrown-february",
   "metadata": {
    "ExecuteTime": {
     "end_time": "2021-03-22T14:38:39.914749Z",
     "start_time": "2021-03-22T14:38:39.892807Z"
    }
   },
   "outputs": [],
   "source": [
    "class TargetEncoder:\n",
    "    def __repr__(self):\n",
    "        return 'TargetEncoder'\n",
    "    \n",
    "    def __init__(self, cols, smoothing=1, min_samples_leaf=1, noise_level=0, keep_original=False):\n",
    "        self.cols = cols\n",
    "        self.smoothing = smoothing\n",
    "        self.min_samples_leaf = min_samples_leaf\n",
    "        self.noise_level = noise_level\n",
    "        self.keep_original = keep_original\n",
    "        \n",
    "    @staticmethod\n",
    "    def add_noise(series, noise_level):\n",
    "        return series * (1+noise_level * np.random.randn(len(series)))\n",
    "    \n",
    "    def encode(self, train, test, target):\n",
    "        for col in self.cols:\n",
    "            if self.keep_original:\n",
    "                trin[col+'_te'], test[col+'_te'] = self.encode_column(train[col], test[col], target)\n",
    "            else:\n",
    "                train[col], test[col] = self.encode_column(train[col], test[col], target)\n",
    "        return train, test\n",
    "        \n",
    "    def encode_column(self, trn_series, tst_series, target):\n",
    "        temp = pd.concat([trn_series, target], axis=1)\n",
    "        # target 평균 계산\n",
    "        averages = temp.groupby(by=trn_series.name)[target.name].agg(['mean','count'])\n",
    "        # smoothing 계산\n",
    "        smoothing = 1 / (1+np.exp(-(average['count']-self.min_samples_leaf) / self.smoothing))\n",
    "        # 모든 target 데이터에 평균 함수 적용\n",
    "        prior = target.mean()\n",
    "        # count 클수록 full_avg가 덜 고려됨\n",
    "        averages[target.name] = prior*(1-smoothing) + averages['mean']*smoothing\n",
    "        averages.drop(['mean','count'], axis=1, inplace=True)\n",
    "        \n",
    "        # trn, tst series에 평균 적용\n",
    "        ft_trn_series = pd.merge(trn_series.to_frame(trn_series.name),\n",
    "                                averages.reset_index().rename(columns={'index':target.name, target.name:'average'}),\n",
    "                                on=trn_series.name, how='left')['average'].rename(trn_series.name+'_mean').fillna(prior)\n",
    "        # pd.merge는 인덱스를 유지하지 않으므로 복구해줌\n",
    "        ft_trn_series.index = trn_series.index\n",
    "        \n",
    "        ft_tst_series = pd.merge(tst_series.to_frame(tst_series.name),\n",
    "                                averages.reset_index().rename(columns={'index':target.name, target.name:'average'}),\n",
    "                                on=tst_series.name, how='left')['average'].rename(trn_series.name+'_mean').fillna(prior)\n",
    "        # pd.merge는 인덱스 유지하지 않으므로 복구해줌\n",
    "        ft_tst_series.index = tst_series.index\n",
    "        \n",
    "        return self.add_noise(ft_trn_series, self.noise_level), self.add_noise(ft_tst_series, self.noise_level)"
   ]
  },
  {
   "cell_type": "code",
   "execution_count": 8,
   "id": "damaged-williams",
   "metadata": {
    "ExecuteTime": {
     "end_time": "2021-03-22T14:39:53.345382Z",
     "start_time": "2021-03-22T14:39:53.333417Z"
    }
   },
   "outputs": [],
   "source": [
    "def to_number(x):\n",
    "    try :\n",
    "        if not x.isdigit():\n",
    "            return 0\n",
    "        x = int(x)\n",
    "        if x>100:\n",
    "            return 100\n",
    "        else :\n",
    "            return x\n",
    "    except:\n",
    "        return 0"
   ]
  },
  {
   "cell_type": "code",
   "execution_count": 9,
   "id": "short-tolerance",
   "metadata": {
    "ExecuteTime": {
     "end_time": "2021-03-22T14:40:28.255113Z",
     "start_time": "2021-03-22T14:40:28.240115Z"
    }
   },
   "outputs": [],
   "source": [
    "def sum_numbers(desc):\n",
    "    if not isinstance(desc, str):\n",
    "        return 0\n",
    "    try:\n",
    "        return sum([to_number(s) for s in desc.split()])\n",
    "    except:\n",
    "        return 0"
   ]
  },
  {
   "cell_type": "code",
   "execution_count": null,
   "id": "parallel-tuition",
   "metadata": {},
   "outputs": [],
   "source": []
  },
  {
   "cell_type": "code",
   "execution_count": null,
   "id": "grateful-allocation",
   "metadata": {},
   "outputs": [],
   "source": []
  },
  {
   "cell_type": "code",
   "execution_count": null,
   "id": "acute-alberta",
   "metadata": {},
   "outputs": [],
   "source": []
  },
  {
   "cell_type": "code",
   "execution_count": null,
   "id": "worth-skill",
   "metadata": {},
   "outputs": [],
   "source": []
  },
  {
   "cell_type": "code",
   "execution_count": null,
   "id": "numerical-healing",
   "metadata": {},
   "outputs": [],
   "source": []
  },
  {
   "cell_type": "code",
   "execution_count": null,
   "id": "finnish-market",
   "metadata": {},
   "outputs": [],
   "source": []
  },
  {
   "cell_type": "code",
   "execution_count": null,
   "id": "tracked-armor",
   "metadata": {},
   "outputs": [],
   "source": []
  },
  {
   "cell_type": "code",
   "execution_count": null,
   "id": "solved-duplicate",
   "metadata": {},
   "outputs": [],
   "source": []
  },
  {
   "cell_type": "code",
   "execution_count": null,
   "id": "still-pleasure",
   "metadata": {},
   "outputs": [],
   "source": []
  },
  {
   "cell_type": "code",
   "execution_count": null,
   "id": "reliable-building",
   "metadata": {},
   "outputs": [],
   "source": []
  },
  {
   "cell_type": "code",
   "execution_count": null,
   "id": "outstanding-ambassador",
   "metadata": {},
   "outputs": [],
   "source": []
  },
  {
   "cell_type": "code",
   "execution_count": null,
   "id": "likely-destination",
   "metadata": {},
   "outputs": [],
   "source": []
  },
  {
   "cell_type": "code",
   "execution_count": null,
   "id": "coral-uniform",
   "metadata": {},
   "outputs": [],
   "source": []
  },
  {
   "cell_type": "code",
   "execution_count": null,
   "id": "local-pottery",
   "metadata": {},
   "outputs": [],
   "source": []
  }
 ],
 "metadata": {
  "kernelspec": {
   "display_name": "Python 3",
   "language": "python",
   "name": "python3"
  },
  "language_info": {
   "codemirror_mode": {
    "name": "ipython",
    "version": 3
   },
   "file_extension": ".py",
   "mimetype": "text/x-python",
   "name": "python",
   "nbconvert_exporter": "python",
   "pygments_lexer": "ipython3",
   "version": "3.8.5"
  },
  "toc": {
   "base_numbering": 1,
   "nav_menu": {},
   "number_sections": false,
   "sideBar": true,
   "skip_h1_title": false,
   "title_cell": "Table of Contents",
   "title_sidebar": "Contents",
   "toc_cell": false,
   "toc_position": {},
   "toc_section_display": true,
   "toc_window_display": false
  },
  "varInspector": {
   "cols": {
    "lenName": 16,
    "lenType": 16,
    "lenVar": 40
   },
   "kernels_config": {
    "python": {
     "delete_cmd_postfix": "",
     "delete_cmd_prefix": "del ",
     "library": "var_list.py",
     "varRefreshCmd": "print(var_dic_list())"
    },
    "r": {
     "delete_cmd_postfix": ") ",
     "delete_cmd_prefix": "rm(",
     "library": "var_list.r",
     "varRefreshCmd": "cat(var_dic_list()) "
    }
   },
   "types_to_exclude": [
    "module",
    "function",
    "builtin_function_or_method",
    "instance",
    "_Feature"
   ],
   "window_display": false
  }
 },
 "nbformat": 4,
 "nbformat_minor": 5
}
