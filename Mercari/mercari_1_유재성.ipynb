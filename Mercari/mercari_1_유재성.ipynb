{
 "cells": [
  {
   "cell_type": "markdown",
   "id": "distinct-margin",
   "metadata": {},
   "source": [
    "# Mercari Interactive EDA + Topic Modelling\n",
    "https://www.kaggle.com/thykhuely/mercari-interactive-eda-topic-modelling"
   ]
  },
  {
   "cell_type": "markdown",
   "id": "sustainable-karma",
   "metadata": {},
   "source": [
    "# Introduction\n",
    "matplotlib을 이용한 Mercari 가격에 대한 탐색적 분석을 진행합니다.\n",
    "\n",
    "bokeh와 plot.ly는 그림과 대시보드와 상호작용할 수 있는 좋은 시각화 도구입니다. \n",
    "\n",
    "이 경쟁은 Mercari라는 일본의 커뮤니티 기반 쇼핑앱에서 주최됐습니다. 주요 목적은 품목의 정보가 주어졌을 때, 판매자에게 정확한 가격을 예측해 판매자에게 제공해야합니다.\n",
    "\n",
    "해당 커널은 2가지 파트로 이루어져 있습니다.\n",
    "\n",
    "1. EDA\n",
    "2. 텍스트 프로세싱\n",
    "\n",
    "    2.1. 토크나이징과 tf-idf 알고리즘\n",
    "    \n",
    "    2.2. K-평균 군집\n",
    "    \n",
    "    2.3. LDA(잠재 디리클레 할당) / 토픽 모델링"
   ]
  },
  {
   "cell_type": "code",
   "execution_count": 1,
   "id": "billion-implementation",
   "metadata": {
    "ExecuteTime": {
     "end_time": "2021-03-15T14:08:30.914703Z",
     "start_time": "2021-03-15T14:08:30.133993Z"
    }
   },
   "outputs": [
    {
     "name": "stderr",
     "output_type": "stream",
     "text": [
      "Duplicate key in file WindowsPath('C:/ProgramData/Anaconda3/envs/tens_2g/lib/site-packages/matplotlib/mpl-data/matplotlibrc'), line 258 ('font.size:    10.0')\n",
      "Duplicate key in file WindowsPath('C:/ProgramData/Anaconda3/envs/tens_2g/lib/site-packages/matplotlib/mpl-data/matplotlibrc'), line 364 ('axes.titlesize:     large   # fontsize of the axes title')\n",
      "Duplicate key in file WindowsPath('C:/ProgramData/Anaconda3/envs/tens_2g/lib/site-packages/matplotlib/mpl-data/matplotlibrc'), line 370 ('axes.labelsize:     medium  # fontsize of the x any y labels')\n",
      "Duplicate key in file WindowsPath('C:/ProgramData/Anaconda3/envs/tens_2g/lib/site-packages/matplotlib/mpl-data/matplotlibrc'), line 469 ('xtick.labelsize:     medium  # fontsize of the tick labels')\n",
      "Duplicate key in file WindowsPath('C:/ProgramData/Anaconda3/envs/tens_2g/lib/site-packages/matplotlib/mpl-data/matplotlibrc'), line 489 ('ytick.labelsize:     medium  # fontsize of the tick labels')\n"
     ]
    }
   ],
   "source": [
    "import pandas as pd\n",
    "import numpy as np\n",
    "import matplotlib.pyplot as plt\n",
    "%matplotlib inline"
   ]
  },
  {
   "cell_type": "code",
   "execution_count": 2,
   "id": "demanding-phone",
   "metadata": {
    "ExecuteTime": {
     "end_time": "2021-03-15T14:08:37.017035Z",
     "start_time": "2021-03-15T14:08:30.915704Z"
    }
   },
   "outputs": [],
   "source": [
    "train = pd.read_csv('./input/train.tsv', sep='\\t')\n",
    "test = pd.read_csv('./input/test.tsv', sep='\\t')"
   ]
  },
  {
   "cell_type": "code",
   "execution_count": 3,
   "id": "dressed-easter",
   "metadata": {
    "ExecuteTime": {
     "end_time": "2021-03-15T14:08:37.033050Z",
     "start_time": "2021-03-15T14:08:37.018036Z"
    }
   },
   "outputs": [
    {
     "name": "stdout",
     "output_type": "stream",
     "text": [
      "(1482535, 8)\n",
      "(693359, 7)\n"
     ]
    }
   ],
   "source": [
    "# 데이터셋 크기 확인\n",
    "print(train.shape)\n",
    "print(test.shape)"
   ]
  },
  {
   "cell_type": "code",
   "execution_count": 4,
   "id": "suburban-throat",
   "metadata": {
    "ExecuteTime": {
     "end_time": "2021-03-15T14:08:37.049065Z",
     "start_time": "2021-03-15T14:08:37.034051Z"
    }
   },
   "outputs": [
    {
     "data": {
      "text/plain": [
       "train_id               int64\n",
       "name                  object\n",
       "item_condition_id      int64\n",
       "category_name         object\n",
       "brand_name            object\n",
       "price                float64\n",
       "shipping               int64\n",
       "item_description      object\n",
       "dtype: object"
      ]
     },
     "execution_count": 4,
     "metadata": {},
     "output_type": "execute_result"
    }
   ],
   "source": [
    "# 데이터셋 타입 확인\n",
    "train.dtypes"
   ]
  },
  {
   "cell_type": "code",
   "execution_count": 5,
   "id": "square-progress",
   "metadata": {
    "ExecuteTime": {
     "end_time": "2021-03-15T14:08:37.065079Z",
     "start_time": "2021-03-15T14:08:37.050065Z"
    }
   },
   "outputs": [
    {
     "data": {
      "text/html": [
       "<div>\n",
       "<style scoped>\n",
       "    .dataframe tbody tr th:only-of-type {\n",
       "        vertical-align: middle;\n",
       "    }\n",
       "\n",
       "    .dataframe tbody tr th {\n",
       "        vertical-align: top;\n",
       "    }\n",
       "\n",
       "    .dataframe thead th {\n",
       "        text-align: right;\n",
       "    }\n",
       "</style>\n",
       "<table border=\"1\" class=\"dataframe\">\n",
       "  <thead>\n",
       "    <tr style=\"text-align: right;\">\n",
       "      <th></th>\n",
       "      <th>train_id</th>\n",
       "      <th>name</th>\n",
       "      <th>item_condition_id</th>\n",
       "      <th>category_name</th>\n",
       "      <th>brand_name</th>\n",
       "      <th>price</th>\n",
       "      <th>shipping</th>\n",
       "      <th>item_description</th>\n",
       "    </tr>\n",
       "  </thead>\n",
       "  <tbody>\n",
       "    <tr>\n",
       "      <th>0</th>\n",
       "      <td>0</td>\n",
       "      <td>MLB Cincinnati Reds T Shirt Size XL</td>\n",
       "      <td>3</td>\n",
       "      <td>Men/Tops/T-shirts</td>\n",
       "      <td>NaN</td>\n",
       "      <td>10.0</td>\n",
       "      <td>1</td>\n",
       "      <td>No description yet</td>\n",
       "    </tr>\n",
       "    <tr>\n",
       "      <th>1</th>\n",
       "      <td>1</td>\n",
       "      <td>Razer BlackWidow Chroma Keyboard</td>\n",
       "      <td>3</td>\n",
       "      <td>Electronics/Computers &amp; Tablets/Components &amp; P...</td>\n",
       "      <td>Razer</td>\n",
       "      <td>52.0</td>\n",
       "      <td>0</td>\n",
       "      <td>This keyboard is in great condition and works ...</td>\n",
       "    </tr>\n",
       "    <tr>\n",
       "      <th>2</th>\n",
       "      <td>2</td>\n",
       "      <td>AVA-VIV Blouse</td>\n",
       "      <td>1</td>\n",
       "      <td>Women/Tops &amp; Blouses/Blouse</td>\n",
       "      <td>Target</td>\n",
       "      <td>10.0</td>\n",
       "      <td>1</td>\n",
       "      <td>Adorable top with a hint of lace and a key hol...</td>\n",
       "    </tr>\n",
       "    <tr>\n",
       "      <th>3</th>\n",
       "      <td>3</td>\n",
       "      <td>Leather Horse Statues</td>\n",
       "      <td>1</td>\n",
       "      <td>Home/Home Décor/Home Décor Accents</td>\n",
       "      <td>NaN</td>\n",
       "      <td>35.0</td>\n",
       "      <td>1</td>\n",
       "      <td>New with tags. Leather horses. Retail for [rm]...</td>\n",
       "    </tr>\n",
       "    <tr>\n",
       "      <th>4</th>\n",
       "      <td>4</td>\n",
       "      <td>24K GOLD plated rose</td>\n",
       "      <td>1</td>\n",
       "      <td>Women/Jewelry/Necklaces</td>\n",
       "      <td>NaN</td>\n",
       "      <td>44.0</td>\n",
       "      <td>0</td>\n",
       "      <td>Complete with certificate of authenticity</td>\n",
       "    </tr>\n",
       "  </tbody>\n",
       "</table>\n",
       "</div>"
      ],
      "text/plain": [
       "   train_id                                 name  item_condition_id  \\\n",
       "0         0  MLB Cincinnati Reds T Shirt Size XL                  3   \n",
       "1         1     Razer BlackWidow Chroma Keyboard                  3   \n",
       "2         2                       AVA-VIV Blouse                  1   \n",
       "3         3                Leather Horse Statues                  1   \n",
       "4         4                 24K GOLD plated rose                  1   \n",
       "\n",
       "                                       category_name brand_name  price  \\\n",
       "0                                  Men/Tops/T-shirts        NaN   10.0   \n",
       "1  Electronics/Computers & Tablets/Components & P...      Razer   52.0   \n",
       "2                        Women/Tops & Blouses/Blouse     Target   10.0   \n",
       "3                 Home/Home Décor/Home Décor Accents        NaN   35.0   \n",
       "4                            Women/Jewelry/Necklaces        NaN   44.0   \n",
       "\n",
       "   shipping                                   item_description  \n",
       "0         1                                 No description yet  \n",
       "1         0  This keyboard is in great condition and works ...  \n",
       "2         1  Adorable top with a hint of lace and a key hol...  \n",
       "3         1  New with tags. Leather horses. Retail for [rm]...  \n",
       "4         0          Complete with certificate of authenticity  "
      ]
     },
     "execution_count": 5,
     "metadata": {},
     "output_type": "execute_result"
    }
   ],
   "source": [
    "train.head()"
   ]
  },
  {
   "cell_type": "markdown",
   "id": "empirical-financing",
   "metadata": {},
   "source": [
    "## Target Variable: Price\n",
    "우리의 반응(타겟)변수는 판매자에게 제안할 `price`입니다. 모든 품목 가격의 중위값은 $267 이지만, 제일 비싼 가격은 $2,009입니다. 또한 분포가 매우 왼쪽으로 치우쳐있음을 알 수 있습니다. \n",
    "\n",
    "따라서 가격을 log 변환하여 정규근사시킵니다.(1을 더해 값이 0이되거나 음수가 나오는 것을 방지)"
   ]
  },
  {
   "cell_type": "code",
   "execution_count": 6,
   "id": "nervous-balloon",
   "metadata": {
    "ExecuteTime": {
     "end_time": "2021-03-15T14:08:37.129138Z",
     "start_time": "2021-03-15T14:08:37.066080Z"
    }
   },
   "outputs": [
    {
     "data": {
      "text/plain": [
       "count    1.482535e+06\n",
       "mean     2.673752e+01\n",
       "std      3.858607e+01\n",
       "min      0.000000e+00\n",
       "25%      1.000000e+01\n",
       "50%      1.700000e+01\n",
       "75%      2.900000e+01\n",
       "max      2.009000e+03\n",
       "Name: price, dtype: float64"
      ]
     },
     "execution_count": 6,
     "metadata": {},
     "output_type": "execute_result"
    }
   ],
   "source": [
    "train.price.describe()"
   ]
  },
  {
   "cell_type": "code",
   "execution_count": 8,
   "id": "modified-offering",
   "metadata": {
    "ExecuteTime": {
     "end_time": "2021-03-15T14:09:13.296540Z",
     "start_time": "2021-03-15T14:09:13.268514Z"
    }
   },
   "outputs": [],
   "source": [
    "train['price_log'] = np.log(train['price']+1)"
   ]
  },
  {
   "cell_type": "code",
   "execution_count": 23,
   "id": "presidential-champagne",
   "metadata": {
    "ExecuteTime": {
     "end_time": "2021-03-15T14:16:17.510592Z",
     "start_time": "2021-03-15T14:16:17.148263Z"
    }
   },
   "outputs": [
    {
     "data": {
      "text/plain": [
       "Text(0.5, 1.0, 'Log(Price) Distribution - Training Set')"
      ]
     },
     "execution_count": 23,
     "metadata": {},
     "output_type": "execute_result"
    },
    {
     "data": {
      "image/png": "[encoded data removed]",
      "text/plain": [
       "<Figure size 1152x576 with 2 Axes>"
      ]
     },
     "metadata": {
      "needs_background": "dark"
     },
     "output_type": "display_data"
    }
   ],
   "source": [
    "fig, ax = plt.subplots(1,2, figsize=(16,8))\n",
    "plt.subplot(1,2,1)\n",
    "plt.hist(train['price'],bins=100, range=(0,250))\n",
    "plt.xlabel('price+')\n",
    "plt.ylabel('frequency')\n",
    "plt.title('Price Distribution - Training Set')\n",
    "plt.subplot(1,2,2)\n",
    "plt.hist(train['price_log'], bins=100)\n",
    "plt.xlabel('log(price+1)')\n",
    "plt.ylabel('frequency')\n",
    "plt.title('Log(Price) Distribution - Training Set')"
   ]
  },
  {
   "cell_type": "code",
   "execution_count": 36,
   "id": "floating-officer",
   "metadata": {
    "ExecuteTime": {
     "end_time": "2021-03-15T01:44:07.553272Z",
     "start_time": "2021-03-15T01:44:07.401133Z"
    }
   },
   "outputs": [
    {
     "data": {
      "text/plain": [
       "(array([2.0000e+00, 2.0000e+00, 2.5000e+01, 1.1800e+02, 4.1800e+02,\n",
       "        1.4000e+03, 3.5030e+03, 7.3090e+03, 1.2386e+04, 1.6530e+04,\n",
       "        1.8209e+04, 1.6463e+04, 1.1633e+04, 6.9220e+03, 3.2960e+03,\n",
       "        1.2750e+03, 3.8800e+02, 9.7000e+01, 2.1000e+01, 3.0000e+00]),\n",
       " array([-0.22226873,  0.27699582,  0.77626036,  1.27552491,  1.77478946,\n",
       "         2.274054  ,  2.77331855,  3.2725831 ,  3.77184764,  4.27111219,\n",
       "         4.77037674,  5.26964128,  5.76890583,  6.26817038,  6.76743492,\n",
       "         7.26669947,  7.76596402,  8.26522857,  8.76449311,  9.26375766,\n",
       "         9.76302221]),\n",
       " <BarContainer object of 20 artists>)"
      ]
     },
     "execution_count": 36,
     "metadata": {},
     "output_type": "execute_result"
    },
    {
     "data": {
      "image/png": "[encoded data removed]",
      "text/plain": [
       "<Figure size 432x288 with 2 Axes>"
      ]
     },
     "metadata": {
      "needs_background": "dark"
     },
     "output_type": "display_data"
    }
   ],
   "source": [
    "N_points = 100000\n",
    "n_bins = 20\n",
    "\n",
    "# Generate a normal distribution, center at x=0 and y=5\n",
    "x = np.random.randn(N_points)\n",
    "y = .4 * x + np.random.randn(100000) + 5\n",
    "\n",
    "fig, axs = plt.subplots(1, 2, sharey=True, tight_layout=True)\n",
    "\n",
    "# We can set the number of bins with the `bins` kwarg\n",
    "axs[0].hist(x, bins=n_bins)\n",
    "axs[1].hist(y, bins=n_bins)"
   ]
  },
  {
   "cell_type": "markdown",
   "id": "bronze-administration",
   "metadata": {},
   "source": [
    "## Shipping\n",
    "배송비 부담은 품목의 절반 이상의 판매자(55%)가 부담합니다. 또한 배송비를 지불해야 하는 사용자가 지부하는 평균 가격은 추가 배송비가 필요하지 않은 가격보다 낮습니다. 이는 판매자들이 추가 배송비를 보상하기 위해 더 낮은 가격을 책정한다는 우리의 인식과 일치합니다."
   ]
  },
  {
   "cell_type": "code",
   "execution_count": 28,
   "id": "intellectual-flush",
   "metadata": {
    "ExecuteTime": {
     "end_time": "2021-03-15T14:20:50.941344Z",
     "start_time": "2021-03-15T14:20:50.916321Z"
    }
   },
   "outputs": [
    {
     "data": {
      "text/plain": [
       "0    0.552726\n",
       "1    0.447274\n",
       "Name: shipping, dtype: float64"
      ]
     },
     "execution_count": 28,
     "metadata": {},
     "output_type": "execute_result"
    }
   ],
   "source": [
    "train['shipping'].value_counts() / len(train['shipping'])"
   ]
  },
  {
   "cell_type": "code",
   "execution_count": 29,
   "id": "central-investor",
   "metadata": {
    "ExecuteTime": {
     "end_time": "2021-03-15T14:23:03.837746Z",
     "start_time": "2021-03-15T14:23:03.812723Z"
    }
   },
   "outputs": [],
   "source": [
    "prc_shipBySeller = train.loc[train.shipping == 1, 'price']\n",
    "prc_shipByBuyer = train.loc[train.shipping == 0, 'price']"
   ]
  },
  {
   "cell_type": "code",
   "execution_count": null,
   "id": "national-brooks",
   "metadata": {},
   "outputs": [],
   "source": [
    "fig, ax = plt.subplots(figsize=(20, 10))\n",
    "ax.hist(np.log(prc_shipBySeller+1), color='#8CB4E1', alpha=1.0, bins=50,\n",
    "        label='Price when Seller pays Shipping')\n",
    "ax.hist(np.log(prc_shipByBuyer+1), color='#007D00', alpha=1.0, bins=50,\n",
    "        label='Price when Seller pays Shipping')"
   ]
  },
  {
   "cell_type": "code",
   "execution_count": null,
   "id": "independent-component",
   "metadata": {},
   "outputs": [],
   "source": []
  },
  {
   "cell_type": "code",
   "execution_count": null,
   "id": "exempt-placement",
   "metadata": {},
   "outputs": [],
   "source": []
  },
  {
   "cell_type": "code",
   "execution_count": null,
   "id": "improving-planner",
   "metadata": {},
   "outputs": [],
   "source": []
  },
  {
   "cell_type": "code",
   "execution_count": null,
   "id": "willing-thumbnail",
   "metadata": {},
   "outputs": [],
   "source": []
  },
  {
   "cell_type": "code",
   "execution_count": null,
   "id": "opposed-programmer",
   "metadata": {},
   "outputs": [],
   "source": []
  },
  {
   "cell_type": "code",
   "execution_count": null,
   "id": "pleasant-legislation",
   "metadata": {},
   "outputs": [],
   "source": []
  },
  {
   "cell_type": "code",
   "execution_count": null,
   "id": "polish-receipt",
   "metadata": {},
   "outputs": [],
   "source": []
  },
  {
   "cell_type": "code",
   "execution_count": null,
   "id": "healthy-color",
   "metadata": {},
   "outputs": [],
   "source": []
  },
  {
   "cell_type": "code",
   "execution_count": null,
   "id": "german-receptor",
   "metadata": {},
   "outputs": [],
   "source": []
  },
  {
   "cell_type": "code",
   "execution_count": null,
   "id": "danish-barcelona",
   "metadata": {},
   "outputs": [],
   "source": []
  },
  {
   "cell_type": "code",
   "execution_count": null,
   "id": "numeric-century",
   "metadata": {},
   "outputs": [],
   "source": []
  },
  {
   "cell_type": "code",
   "execution_count": null,
   "id": "wireless-eleven",
   "metadata": {},
   "outputs": [],
   "source": []
  },
  {
   "cell_type": "code",
   "execution_count": null,
   "id": "given-workshop",
   "metadata": {},
   "outputs": [],
   "source": []
  },
  {
   "cell_type": "code",
   "execution_count": null,
   "id": "ongoing-qatar",
   "metadata": {},
   "outputs": [],
   "source": []
  },
  {
   "cell_type": "code",
   "execution_count": null,
   "id": "intellectual-marketing",
   "metadata": {},
   "outputs": [],
   "source": []
  },
  {
   "cell_type": "code",
   "execution_count": null,
   "id": "quality-budapest",
   "metadata": {},
   "outputs": [],
   "source": []
  },
  {
   "cell_type": "code",
   "execution_count": null,
   "id": "front-workplace",
   "metadata": {},
   "outputs": [],
   "source": []
  }
 ],
 "metadata": {
  "kernelspec": {
   "display_name": "Python 3",
   "language": "python",
   "name": "python3"
  },
  "language_info": {
   "codemirror_mode": {
    "name": "ipython",
    "version": 3
   },
   "file_extension": ".py",
   "mimetype": "text/x-python",
   "name": "python",
   "nbconvert_exporter": "python",
   "pygments_lexer": "ipython3",
   "version": "3.7.9"
  },
  "toc": {
   "base_numbering": 1,
   "nav_menu": {},
   "number_sections": false,
   "sideBar": true,
   "skip_h1_title": false,
   "title_cell": "Table of Contents",
   "title_sidebar": "Contents",
   "toc_cell": false,
   "toc_position": {},
   "toc_section_display": true,
   "toc_window_display": false
  }
 },
 "nbformat": 4,
 "nbformat_minor": 5
}
