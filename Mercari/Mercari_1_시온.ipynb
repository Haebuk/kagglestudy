{
 "cells": [
  {
   "cell_type": "markdown",
   "id": "appreciated-wednesday",
   "metadata": {},
   "source": [
    "Day 38 : 21/03/15\n",
    "- https://www.kaggle.com/c/mercari-price-suggestion-challenge\n",
    "- https://www.kaggle.com/thykhuely/mercari-interactive-eda-topic-modelling"
   ]
  },
  {
   "cell_type": "markdown",
   "id": "stunning-money",
   "metadata": {},
   "source": [
    "# Mercari Interactive EDA + Topic Modeling"
   ]
  },
  {
   "cell_type": "markdown",
   "id": "apparent-indianapolis",
   "metadata": {},
   "source": [
    "이것은 matplotlib을 사용한 Mercari Price Suggestion Challenge에 대한 초기 EDA다. bokeh와 Plot.ly는 예쁜 대화형 플롯과 대시보드를 만드는 시각화 도구다. 이 대회는 Mercari가 개최했고, Mercari는 상품 정보가 주어지면, 판매자에게 제시해야하는 정확한 가격을 예측하는 것을 주요 목표로 하는 일본 최대 커뮤니티 기반 쇼핑 앱이다.\n",
    "\n",
    "클러스터링 주제에 대한 문서와 기계학습 기술(K-means와 LDA)의 전처리에 대한 지침을 통해 커널을 두 파트로 나눈다.\n",
    "1. EDA (Explanatory Data Analysis)\n",
    "2. Text Processing\n",
    "- 2.1. Tokenizing and tf-idf algorithm\n",
    "- 2.2. K-means Clustering\n",
    "- 2.3. Latent Dirichlet Allocation(LDA) / Topic Modelling"
   ]
  },
  {
   "cell_type": "code",
   "execution_count": 1,
   "id": "celtic-pittsburgh",
   "metadata": {
    "ExecuteTime": {
     "end_time": "2021-03-15T02:18:58.282217Z",
     "start_time": "2021-03-15T02:18:58.263266Z"
    }
   },
   "outputs": [],
   "source": [
    "### Latent Dirichlet Allocation (LDA)\n",
    "### 토픽 모델링의 대표적 알고리즘\n",
    "### LDA는 문서들은 토픽들의 혼합으로 구성되어 있으며, 토픽들은 확률 분포에 기반해 단어들을 생성한다고 가정. \n",
    "### 데이터가 주어지면, LDA는 문서가 생성되던 과정을 역추적."
   ]
  },
  {
   "cell_type": "code",
   "execution_count": 15,
   "id": "hidden-chaos",
   "metadata": {
    "ExecuteTime": {
     "end_time": "2021-03-15T02:33:08.495731Z",
     "start_time": "2021-03-15T02:33:07.991929Z"
    }
   },
   "outputs": [],
   "source": [
    "import pandas as pd\n",
    "import numpy as np\n",
    "\n",
    "import matplotlib.pyplot as plt"
   ]
  },
  {
   "cell_type": "code",
   "execution_count": 5,
   "id": "primary-fantasy",
   "metadata": {
    "ExecuteTime": {
     "end_time": "2021-03-15T02:20:57.421071Z",
     "start_time": "2021-03-15T02:20:49.238256Z"
    }
   },
   "outputs": [],
   "source": [
    "train = pd.read_csv('../input/train.tsv', sep='\\t')\n",
    "test = pd.read_csv('../input/test.tsv', sep='\\t')"
   ]
  },
  {
   "cell_type": "code",
   "execution_count": 6,
   "id": "cardiovascular-transition",
   "metadata": {
    "ExecuteTime": {
     "end_time": "2021-03-15T02:20:59.151699Z",
     "start_time": "2021-03-15T02:20:59.136737Z"
    }
   },
   "outputs": [
    {
     "name": "stdout",
     "output_type": "stream",
     "text": [
      "(1482535, 8)\n",
      "(693359, 7)\n"
     ]
    }
   ],
   "source": [
    "print(train.shape)\n",
    "print(test.shape)"
   ]
  },
  {
   "cell_type": "code",
   "execution_count": 7,
   "id": "indoor-season",
   "metadata": {
    "ExecuteTime": {
     "end_time": "2021-03-15T02:21:09.297732Z",
     "start_time": "2021-03-15T02:21:09.273798Z"
    }
   },
   "outputs": [
    {
     "data": {
      "text/plain": [
       "train_id               int64\n",
       "name                  object\n",
       "item_condition_id      int64\n",
       "category_name         object\n",
       "brand_name            object\n",
       "price                float64\n",
       "shipping               int64\n",
       "item_description      object\n",
       "dtype: object"
      ]
     },
     "execution_count": 7,
     "metadata": {},
     "output_type": "execute_result"
    }
   ],
   "source": [
    "train.dtypes"
   ]
  },
  {
   "cell_type": "code",
   "execution_count": 8,
   "id": "outstanding-watch",
   "metadata": {
    "ExecuteTime": {
     "end_time": "2021-03-15T02:21:17.191157Z",
     "start_time": "2021-03-15T02:21:17.168219Z"
    }
   },
   "outputs": [
    {
     "data": {
      "text/html": [
       "<div>\n",
       "<style scoped>\n",
       "    .dataframe tbody tr th:only-of-type {\n",
       "        vertical-align: middle;\n",
       "    }\n",
       "\n",
       "    .dataframe tbody tr th {\n",
       "        vertical-align: top;\n",
       "    }\n",
       "\n",
       "    .dataframe thead th {\n",
       "        text-align: right;\n",
       "    }\n",
       "</style>\n",
       "<table border=\"1\" class=\"dataframe\">\n",
       "  <thead>\n",
       "    <tr style=\"text-align: right;\">\n",
       "      <th></th>\n",
       "      <th>train_id</th>\n",
       "      <th>name</th>\n",
       "      <th>item_condition_id</th>\n",
       "      <th>category_name</th>\n",
       "      <th>brand_name</th>\n",
       "      <th>price</th>\n",
       "      <th>shipping</th>\n",
       "      <th>item_description</th>\n",
       "    </tr>\n",
       "  </thead>\n",
       "  <tbody>\n",
       "    <tr>\n",
       "      <th>0</th>\n",
       "      <td>0</td>\n",
       "      <td>MLB Cincinnati Reds T Shirt Size XL</td>\n",
       "      <td>3</td>\n",
       "      <td>Men/Tops/T-shirts</td>\n",
       "      <td>NaN</td>\n",
       "      <td>10.0</td>\n",
       "      <td>1</td>\n",
       "      <td>No description yet</td>\n",
       "    </tr>\n",
       "    <tr>\n",
       "      <th>1</th>\n",
       "      <td>1</td>\n",
       "      <td>Razer BlackWidow Chroma Keyboard</td>\n",
       "      <td>3</td>\n",
       "      <td>Electronics/Computers &amp; Tablets/Components &amp; P...</td>\n",
       "      <td>Razer</td>\n",
       "      <td>52.0</td>\n",
       "      <td>0</td>\n",
       "      <td>This keyboard is in great condition and works ...</td>\n",
       "    </tr>\n",
       "    <tr>\n",
       "      <th>2</th>\n",
       "      <td>2</td>\n",
       "      <td>AVA-VIV Blouse</td>\n",
       "      <td>1</td>\n",
       "      <td>Women/Tops &amp; Blouses/Blouse</td>\n",
       "      <td>Target</td>\n",
       "      <td>10.0</td>\n",
       "      <td>1</td>\n",
       "      <td>Adorable top with a hint of lace and a key hol...</td>\n",
       "    </tr>\n",
       "    <tr>\n",
       "      <th>3</th>\n",
       "      <td>3</td>\n",
       "      <td>Leather Horse Statues</td>\n",
       "      <td>1</td>\n",
       "      <td>Home/Home Décor/Home Décor Accents</td>\n",
       "      <td>NaN</td>\n",
       "      <td>35.0</td>\n",
       "      <td>1</td>\n",
       "      <td>New with tags. Leather horses. Retail for [rm]...</td>\n",
       "    </tr>\n",
       "    <tr>\n",
       "      <th>4</th>\n",
       "      <td>4</td>\n",
       "      <td>24K GOLD plated rose</td>\n",
       "      <td>1</td>\n",
       "      <td>Women/Jewelry/Necklaces</td>\n",
       "      <td>NaN</td>\n",
       "      <td>44.0</td>\n",
       "      <td>0</td>\n",
       "      <td>Complete with certificate of authenticity</td>\n",
       "    </tr>\n",
       "  </tbody>\n",
       "</table>\n",
       "</div>"
      ],
      "text/plain": [
       "   train_id                                 name  item_condition_id  \\\n",
       "0         0  MLB Cincinnati Reds T Shirt Size XL                  3   \n",
       "1         1     Razer BlackWidow Chroma Keyboard                  3   \n",
       "2         2                       AVA-VIV Blouse                  1   \n",
       "3         3                Leather Horse Statues                  1   \n",
       "4         4                 24K GOLD plated rose                  1   \n",
       "\n",
       "                                       category_name brand_name  price  \\\n",
       "0                                  Men/Tops/T-shirts        NaN   10.0   \n",
       "1  Electronics/Computers & Tablets/Components & P...      Razer   52.0   \n",
       "2                        Women/Tops & Blouses/Blouse     Target   10.0   \n",
       "3                 Home/Home Décor/Home Décor Accents        NaN   35.0   \n",
       "4                            Women/Jewelry/Necklaces        NaN   44.0   \n",
       "\n",
       "   shipping                                   item_description  \n",
       "0         1                                 No description yet  \n",
       "1         0  This keyboard is in great condition and works ...  \n",
       "2         1  Adorable top with a hint of lace and a key hol...  \n",
       "3         1  New with tags. Leather horses. Retail for [rm]...  \n",
       "4         0          Complete with certificate of authenticity  "
      ]
     },
     "execution_count": 8,
     "metadata": {},
     "output_type": "execute_result"
    }
   ],
   "source": [
    "train.head()"
   ]
  },
  {
   "cell_type": "markdown",
   "id": "arranged-northern",
   "metadata": {},
   "source": [
    "## Target Variable : Price"
   ]
  },
  {
   "cell_type": "markdown",
   "id": "parliamentary-signature",
   "metadata": {},
   "source": [
    "다음 표준 점검은 목표 변수(대응 변수)이고, 이 경우 Mercari의 시장 판매자에게 제안할 가격이다. training에서 모든 상품의 가격 중간값은 약 $267지만, $100 이상과 최대값 $2,009인 일부 극단값의 존재가 주어져, 변수의 분포는 왼쪽으로 크게 치우쳐져있다. 따라서 가격에 로그 변환을 한다(0과 음수 피하기 위해 변환 전 값에 +1 추가)"
   ]
  },
  {
   "cell_type": "code",
   "execution_count": 9,
   "id": "minimal-netscape",
   "metadata": {
    "ExecuteTime": {
     "end_time": "2021-03-15T02:27:55.670651Z",
     "start_time": "2021-03-15T02:27:55.566929Z"
    }
   },
   "outputs": [
    {
     "data": {
      "text/plain": [
       "count    1.482535e+06\n",
       "mean     2.673752e+01\n",
       "std      3.858607e+01\n",
       "min      0.000000e+00\n",
       "25%      1.000000e+01\n",
       "50%      1.700000e+01\n",
       "75%      2.900000e+01\n",
       "max      2.009000e+03\n",
       "Name: price, dtype: float64"
      ]
     },
     "execution_count": 9,
     "metadata": {},
     "output_type": "execute_result"
    }
   ],
   "source": [
    "train.price.describe()"
   ]
  },
  {
   "cell_type": "code",
   "execution_count": 13,
   "id": "fleet-flexibility",
   "metadata": {
    "ExecuteTime": {
     "end_time": "2021-03-15T02:31:58.250399Z",
     "start_time": "2021-03-15T02:31:56.633721Z"
    }
   },
   "outputs": [],
   "source": [
    "log_price = train['price'].apply(lambda x: np.log(x+1))"
   ]
  },
  {
   "cell_type": "code",
   "execution_count": 59,
   "id": "structural-philippines",
   "metadata": {
    "ExecuteTime": {
     "end_time": "2021-03-15T03:00:23.911296Z",
     "start_time": "2021-03-15T03:00:23.221636Z"
    }
   },
   "outputs": [
    {
     "data": {
      "image/png": "[encoded data removed]",
      "text/plain": [
       "<Figure size 432x288 with 2 Axes>"
      ]
     },
     "metadata": {
      "needs_background": "light"
     },
     "output_type": "display_data"
    }
   ],
   "source": [
    "#plt.subplots(1,2, figsize=(20,10))\n",
    "plt.subplot(1,2,1)\n",
    "plt.hist(train['price'], bins=50, edgecolor='white', range=[0,250])\n",
    "plt.xlabel('price+', fontsize=13)\n",
    "plt.ylabel('frequency', fontsize=13)\n",
    "plt.tick_params(labelsize=11)\n",
    "plt.title('Price Distribution', fontsize=13)\n",
    "\n",
    "plt.subplot(1,2,2)\n",
    "plt.hist(np.log(train['price']+1), bins=50, edgecolor='white')\n",
    "plt.xlabel('log(price+1)', fontsize=13)\n",
    "plt.ylabel('frequency', fontsize=13)\n",
    "plt.tick_params(labelsize=11)\n",
    "plt.title('Log(Price) Distribution')\n",
    "\n",
    "plt.tight_layout()\n",
    "plt.show()"
   ]
  },
  {
   "cell_type": "code",
   "execution_count": null,
   "id": "opponent-investigation",
   "metadata": {},
   "outputs": [],
   "source": []
  },
  {
   "cell_type": "code",
   "execution_count": null,
   "id": "young-somalia",
   "metadata": {},
   "outputs": [],
   "source": []
  },
  {
   "cell_type": "code",
   "execution_count": null,
   "id": "celtic-colon",
   "metadata": {},
   "outputs": [],
   "source": []
  },
  {
   "cell_type": "code",
   "execution_count": null,
   "id": "billion-republic",
   "metadata": {},
   "outputs": [],
   "source": []
  },
  {
   "cell_type": "code",
   "execution_count": null,
   "id": "marked-progress",
   "metadata": {},
   "outputs": [],
   "source": []
  },
  {
   "cell_type": "code",
   "execution_count": null,
   "id": "alert-valuation",
   "metadata": {},
   "outputs": [],
   "source": []
  },
  {
   "cell_type": "code",
   "execution_count": null,
   "id": "impossible-dublin",
   "metadata": {},
   "outputs": [],
   "source": []
  },
  {
   "cell_type": "code",
   "execution_count": null,
   "id": "documentary-indonesian",
   "metadata": {},
   "outputs": [],
   "source": []
  },
  {
   "cell_type": "code",
   "execution_count": null,
   "id": "parallel-venice",
   "metadata": {},
   "outputs": [],
   "source": []
  },
  {
   "cell_type": "code",
   "execution_count": null,
   "id": "sudden-strap",
   "metadata": {},
   "outputs": [],
   "source": []
  },
  {
   "cell_type": "code",
   "execution_count": null,
   "id": "looking-shaft",
   "metadata": {},
   "outputs": [],
   "source": []
  },
  {
   "cell_type": "code",
   "execution_count": null,
   "id": "discrete-episode",
   "metadata": {},
   "outputs": [],
   "source": []
  },
  {
   "cell_type": "code",
   "execution_count": null,
   "id": "spoken-tomorrow",
   "metadata": {},
   "outputs": [],
   "source": []
  },
  {
   "cell_type": "code",
   "execution_count": null,
   "id": "connected-probe",
   "metadata": {},
   "outputs": [],
   "source": []
  },
  {
   "cell_type": "code",
   "execution_count": null,
   "id": "hidden-faculty",
   "metadata": {},
   "outputs": [],
   "source": []
  },
  {
   "cell_type": "code",
   "execution_count": null,
   "id": "hindu-seven",
   "metadata": {},
   "outputs": [],
   "source": []
  },
  {
   "cell_type": "code",
   "execution_count": null,
   "id": "taken-bennett",
   "metadata": {},
   "outputs": [],
   "source": []
  },
  {
   "cell_type": "code",
   "execution_count": null,
   "id": "alternative-southwest",
   "metadata": {},
   "outputs": [],
   "source": []
  }
 ],
 "metadata": {
  "kernelspec": {
   "display_name": "Python 3",
   "language": "python",
   "name": "python3"
  },
  "language_info": {
   "codemirror_mode": {
    "name": "ipython",
    "version": 3
   },
   "file_extension": ".py",
   "mimetype": "text/x-python",
   "name": "python",
   "nbconvert_exporter": "python",
   "pygments_lexer": "ipython3",
   "version": "3.8.5"
  },
  "toc": {
   "base_numbering": 1,
   "nav_menu": {},
   "number_sections": false,
   "sideBar": true,
   "skip_h1_title": false,
   "title_cell": "Table of Contents",
   "title_sidebar": "Contents",
   "toc_cell": false,
   "toc_position": {},
   "toc_section_display": true,
   "toc_window_display": false
  },
  "varInspector": {
   "cols": {
    "lenName": 16,
    "lenType": 16,
    "lenVar": 40
   },
   "kernels_config": {
    "python": {
     "delete_cmd_postfix": "",
     "delete_cmd_prefix": "del ",
     "library": "var_list.py",
     "varRefreshCmd": "print(var_dic_list())"
    },
    "r": {
     "delete_cmd_postfix": ") ",
     "delete_cmd_prefix": "rm(",
     "library": "var_list.r",
     "varRefreshCmd": "cat(var_dic_list()) "
    }
   },
   "types_to_exclude": [
    "module",
    "function",
    "builtin_function_or_method",
    "instance",
    "_Feature"
   ],
   "window_display": false
  }
 },
 "nbformat": 4,
 "nbformat_minor": 5
}
