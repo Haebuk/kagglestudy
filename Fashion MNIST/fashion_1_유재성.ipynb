{
 "cells": [
  {
   "cell_type": "markdown",
   "id": "chubby-public",
   "metadata": {},
   "source": [
    "## How Autoencoders work - Understanding the math and implementation\n",
    "https://www.kaggle.com/shivamb/how-autoencoders-work-intro-and-usecases"
   ]
  },
  {
   "cell_type": "markdown",
   "id": "promising-amateur",
   "metadata": {},
   "source": [
    "# Introduction"
   ]
  },
  {
   "cell_type": "markdown",
   "id": "mobile-hudson",
   "metadata": {},
   "source": [
    "## Autoencoders란\n",
    "오토 인코더는 출력이 입력과 동일한 특수한 유형의 신경망 아키텍처입니다. 오토 인코더는 입력 데이터의 극히 낮은 수준의 표현을 학습하기 위해 비지도 방식으로 학습됩니다. 그런 다음 이러한 낮은 수준의 피처는 실제 데이터를 투영하기 위해 다시 변형됩니다. 오토 인코더는 네트워크에서 입력을 예측하도록 요청되는 회귀 작업입니다(즉, ID 함수를 모델링). 이 네트워크들은 중간에 몇 개의 뉴런에 대한 병목현상이 심해서, 디코더가 원래의 입력을 재현하기 위해 사용할 수 있는 저차원 코드로 입력을 압축하는 효과적인 표현을 만들도록 강요합니다.\n",
    "\n",
    "일반적인 오토 인코더 아키텍처는 다음과 같은 세 가지 주요 구성 요소로 이루어집니다.\n",
    "- 인코딩 아키텍처: 인코더 아키텍처는 노드 수가 감소하고 궁극적으로 잠재 뷰 표현으로 감소하는 일련의 계층으로 구성됩니다.\n",
    "- 잠재 뷰 표현: 잠재 뷰는 입력이 감소되고 정보가 보존되는 가장 낮은 수준의 공간을 나타냅니다.\n",
    "- 디코딩 아키텍처: 디코딩 아키텍처는 인코딩 아키텍처의 미러 이미지이지만, 모든 계층의 노드 수가 증가하고 궁극적으로 유사한(거의) 입력을 출력합니다.\n",
    "\n",
    "고도로 미세하게 튜닝된 오토 인코더 모델은 첫 번째 계층에서 전달된 동일한 입력을 재구성할 수 있어야 합니다. 이 커널에서 오토 인코더의 작업과 오토 인코더의 구현 과정을 안내하겠습니다. 오토 인코더는 이미지 데이터와 함께 널리 사용되며, 그 사용 사례 중 일부는 다음과 같습니다.\n",
    "\n",
    "- 차원 축소\n",
    "- 이미지 압축\n",
    "- 이미지 노이즈 제거\n",
    "- 이미지 생성\n",
    "- 피쳐 추출"
   ]
  },
  {
   "cell_type": "markdown",
   "id": "wicked-focus",
   "metadata": {},
   "source": [
    "## How Autoencoders work\n",
    "오토 인코더 뒤에 숨겨진 수학에 대해 알아보겠습니다. 자동오토 인코더의 주된 아이디어는 높은 수준의 치수 데이터를 낮은 수준으로 재현하는 것입니다. 예를 들어 인코딩 프로세스를 이해하도록 해보겠습니다. 데이터 표현 공간(데이터를 나타내는 데 사용되는 N차원 공간)과 x1 및 x2의 두 변수로 표시되는 데이터 점을 고려합니다. 데이터 매니폴드는 실제 데이터가 있는 데이터 표현 공간 내부의 공간입니다."
   ]
  },
  {
   "cell_type": "code",
   "execution_count": 23,
   "id": "educated-temple",
   "metadata": {
    "ExecuteTime": {
     "end_time": "2021-02-16T14:30:22.842894Z",
     "start_time": "2021-02-16T14:30:22.813867Z"
    }
   },
   "outputs": [
    {
     "data": {
      "text/html": [
       "        <script type=\"text/javascript\">\n",
       "        window.PlotlyConfig = {MathJaxConfig: 'local'};\n",
       "        if (window.MathJax) {MathJax.Hub.Config({SVG: {font: \"STIX-Web\"}});}\n",
       "        if (typeof require !== 'undefined') {\n",
       "        require.undef(\"plotly\");\n",
       "        requirejs.config({\n",
       "            paths: {\n",
       "                'plotly': ['https://cdn.plot.ly/plotly-latest.min']\n",
       "            }\n",
       "        });\n",
       "        require(['plotly'], function(Plotly) {\n",
       "            window._Plotly = Plotly;\n",
       "        });\n",
       "        }\n",
       "        </script>\n",
       "        "
      ]
     },
     "metadata": {},
     "output_type": "display_data"
    },
    {
     "data": {
      "application/vnd.plotly.v1+json": {
       "config": {
        "linkText": "Export to plot.ly",
        "plotlyServerURL": "https://plot.ly",
        "showLink": false
       },
       "data": [
        {
         "mode": "markers",
         "name": "Actual Data",
         "type": "scatter",
         "x": [
          2,
          2.163265306122449,
          2.326530612244898,
          2.489795918367347,
          2.6530612244897958,
          2.816326530612245,
          2.979591836734694,
          3.142857142857143,
          3.3061224489795915,
          3.4693877551020407,
          3.63265306122449,
          3.7959183673469385,
          3.9591836734693877,
          4.122448979591836,
          4.285714285714286,
          4.448979591836734,
          4.612244897959183,
          4.775510204081632,
          4.938775510204081,
          5.1020408163265305,
          5.26530612244898,
          5.428571428571429,
          5.591836734693877,
          5.755102040816326,
          5.918367346938775,
          6.081632653061225,
          6.244897959183673,
          6.408163265306122,
          6.571428571428571,
          6.73469387755102,
          6.897959183673469,
          7.061224489795918,
          7.224489795918367,
          7.387755102040816,
          7.551020408163265,
          7.7142857142857135,
          7.877551020408163,
          8.040816326530612,
          8.204081632653061,
          8.367346938775508,
          8.53061224489796,
          8.693877551020407,
          8.857142857142858,
          9.020408163265305,
          9.183673469387754,
          9.346938775510203,
          9.510204081632653,
          9.673469387755102,
          9.83673469387755,
          10
         ],
         "y": [
          2,
          2.163265306122449,
          2.326530612244898,
          2.489795918367347,
          2.6530612244897958,
          2.816326530612245,
          2.979591836734694,
          3.142857142857143,
          3.3061224489795915,
          3.4693877551020407,
          3.63265306122449,
          3.7959183673469385,
          3.9591836734693877,
          4.122448979591836,
          4.285714285714286,
          4.448979591836734,
          4.612244897959183,
          4.775510204081632,
          4.938775510204081,
          5.1020408163265305,
          5.26530612244898,
          5.428571428571429,
          5.591836734693877,
          5.755102040816326,
          5.918367346938775,
          6.081632653061225,
          6.244897959183673,
          6.408163265306122,
          6.571428571428571,
          6.73469387755102,
          6.897959183673469,
          7.061224489795918,
          7.224489795918367,
          7.387755102040816,
          7.551020408163265,
          7.7142857142857135,
          7.877551020408163,
          8.040816326530612,
          8.204081632653061,
          8.367346938775508,
          8.53061224489796,
          8.693877551020407,
          8.857142857142858,
          9.020408163265305,
          9.183673469387754,
          9.346938775510203,
          9.510204081632653,
          9.673469387755102,
          9.83673469387755,
          10
         ]
        }
       ],
       "layout": {
        "annotations": [
         {
          "align": "center",
          "arrowcolor": "#636363",
          "arrowhead": 2,
          "arrowsize": 1,
          "arrowwidth": 2,
          "ax": -120,
          "ay": -30,
          "bgcolor": "orange",
          "bordercolor": "#c7c7c7",
          "borderpad": 4,
          "borderwidth": 2,
          "opacity": 0.8,
          "showarrow": true,
          "text": "This 1D line is the Data Manifold (where data resides)",
          "x": 5,
          "xref": "x",
          "y": 5,
          "yref": "y"
         }
        ],
        "height": 400,
        "template": {
         "data": {
          "bar": [
           {
            "error_x": {
             "color": "#2a3f5f"
            },
            "error_y": {
             "color": "#2a3f5f"
            },
            "marker": {
             "line": {
              "color": "#E5ECF6",
              "width": 0.5
             }
            },
            "type": "bar"
           }
          ],
          "barpolar": [
           {
            "marker": {
             "line": {
              "color": "#E5ECF6",
              "width": 0.5
             }
            },
            "type": "barpolar"
           }
          ],
          "carpet": [
           {
            "aaxis": {
             "endlinecolor": "#2a3f5f",
             "gridcolor": "white",
             "linecolor": "white",
             "minorgridcolor": "white",
             "startlinecolor": "#2a3f5f"
            },
            "baxis": {
             "endlinecolor": "#2a3f5f",
             "gridcolor": "white",
             "linecolor": "white",
             "minorgridcolor": "white",
             "startlinecolor": "#2a3f5f"
            },
            "type": "carpet"
           }
          ],
          "choropleth": [
           {
            "colorbar": {
             "outlinewidth": 0,
             "ticks": ""
            },
            "type": "choropleth"
           }
          ],
          "contour": [
           {
            "colorbar": {
             "outlinewidth": 0,
             "ticks": ""
            },
            "colorscale": [
             [
              0,
              "#0d0887"
             ],
             [
              0.1111111111111111,
              "#46039f"
             ],
             [
              0.2222222222222222,
              "#7201a8"
             ],
             [
              0.3333333333333333,
              "#9c179e"
             ],
             [
              0.4444444444444444,
              "#bd3786"
             ],
             [
              0.5555555555555556,
              "#d8576b"
             ],
             [
              0.6666666666666666,
              "#ed7953"
             ],
             [
              0.7777777777777778,
              "#fb9f3a"
             ],
             [
              0.8888888888888888,
              "#fdca26"
             ],
             [
              1,
              "#f0f921"
             ]
            ],
            "type": "contour"
           }
          ],
          "contourcarpet": [
           {
            "colorbar": {
             "outlinewidth": 0,
             "ticks": ""
            },
            "type": "contourcarpet"
           }
          ],
          "heatmap": [
           {
            "colorbar": {
             "outlinewidth": 0,
             "ticks": ""
            },
            "colorscale": [
             [
              0,
              "#0d0887"
             ],
             [
              0.1111111111111111,
              "#46039f"
             ],
             [
              0.2222222222222222,
              "#7201a8"
             ],
             [
              0.3333333333333333,
              "#9c179e"
             ],
             [
              0.4444444444444444,
              "#bd3786"
             ],
             [
              0.5555555555555556,
              "#d8576b"
             ],
             [
              0.6666666666666666,
              "#ed7953"
             ],
             [
              0.7777777777777778,
              "#fb9f3a"
             ],
             [
              0.8888888888888888,
              "#fdca26"
             ],
             [
              1,
              "#f0f921"
             ]
            ],
            "type": "heatmap"
           }
          ],
          "heatmapgl": [
           {
            "colorbar": {
             "outlinewidth": 0,
             "ticks": ""
            },
            "colorscale": [
             [
              0,
              "#0d0887"
             ],
             [
              0.1111111111111111,
              "#46039f"
             ],
             [
              0.2222222222222222,
              "#7201a8"
             ],
             [
              0.3333333333333333,
              "#9c179e"
             ],
             [
              0.4444444444444444,
              "#bd3786"
             ],
             [
              0.5555555555555556,
              "#d8576b"
             ],
             [
              0.6666666666666666,
              "#ed7953"
             ],
             [
              0.7777777777777778,
              "#fb9f3a"
             ],
             [
              0.8888888888888888,
              "#fdca26"
             ],
             [
              1,
              "#f0f921"
             ]
            ],
            "type": "heatmapgl"
           }
          ],
          "histogram": [
           {
            "marker": {
             "colorbar": {
              "outlinewidth": 0,
              "ticks": ""
             }
            },
            "type": "histogram"
           }
          ],
          "histogram2d": [
           {
            "colorbar": {
             "outlinewidth": 0,
             "ticks": ""
            },
            "colorscale": [
             [
              0,
              "#0d0887"
             ],
             [
              0.1111111111111111,
              "#46039f"
             ],
             [
              0.2222222222222222,
              "#7201a8"
             ],
             [
              0.3333333333333333,
              "#9c179e"
             ],
             [
              0.4444444444444444,
              "#bd3786"
             ],
             [
              0.5555555555555556,
              "#d8576b"
             ],
             [
              0.6666666666666666,
              "#ed7953"
             ],
             [
              0.7777777777777778,
              "#fb9f3a"
             ],
             [
              0.8888888888888888,
              "#fdca26"
             ],
             [
              1,
              "#f0f921"
             ]
            ],
            "type": "histogram2d"
           }
          ],
          "histogram2dcontour": [
           {
            "colorbar": {
             "outlinewidth": 0,
             "ticks": ""
            },
            "colorscale": [
             [
              0,
              "#0d0887"
             ],
             [
              0.1111111111111111,
              "#46039f"
             ],
             [
              0.2222222222222222,
              "#7201a8"
             ],
             [
              0.3333333333333333,
              "#9c179e"
             ],
             [
              0.4444444444444444,
              "#bd3786"
             ],
             [
              0.5555555555555556,
              "#d8576b"
             ],
             [
              0.6666666666666666,
              "#ed7953"
             ],
             [
              0.7777777777777778,
              "#fb9f3a"
             ],
             [
              0.8888888888888888,
              "#fdca26"
             ],
             [
              1,
              "#f0f921"
             ]
            ],
            "type": "histogram2dcontour"
           }
          ],
          "mesh3d": [
           {
            "colorbar": {
             "outlinewidth": 0,
             "ticks": ""
            },
            "type": "mesh3d"
           }
          ],
          "parcoords": [
           {
            "line": {
             "colorbar": {
              "outlinewidth": 0,
              "ticks": ""
             }
            },
            "type": "parcoords"
           }
          ],
          "pie": [
           {
            "automargin": true,
            "type": "pie"
           }
          ],
          "scatter": [
           {
            "marker": {
             "colorbar": {
              "outlinewidth": 0,
              "ticks": ""
             }
            },
            "type": "scatter"
           }
          ],
          "scatter3d": [
           {
            "line": {
             "colorbar": {
              "outlinewidth": 0,
              "ticks": ""
             }
            },
            "marker": {
             "colorbar": {
              "outlinewidth": 0,
              "ticks": ""
             }
            },
            "type": "scatter3d"
           }
          ],
          "scattercarpet": [
           {
            "marker": {
             "colorbar": {
              "outlinewidth": 0,
              "ticks": ""
             }
            },
            "type": "scattercarpet"
           }
          ],
          "scattergeo": [
           {
            "marker": {
             "colorbar": {
              "outlinewidth": 0,
              "ticks": ""
             }
            },
            "type": "scattergeo"
           }
          ],
          "scattergl": [
           {
            "marker": {
             "colorbar": {
              "outlinewidth": 0,
              "ticks": ""
             }
            },
            "type": "scattergl"
           }
          ],
          "scattermapbox": [
           {
            "marker": {
             "colorbar": {
              "outlinewidth": 0,
              "ticks": ""
             }
            },
            "type": "scattermapbox"
           }
          ],
          "scatterpolar": [
           {
            "marker": {
             "colorbar": {
              "outlinewidth": 0,
              "ticks": ""
             }
            },
            "type": "scatterpolar"
           }
          ],
          "scatterpolargl": [
           {
            "marker": {
             "colorbar": {
              "outlinewidth": 0,
              "ticks": ""
             }
            },
            "type": "scatterpolargl"
           }
          ],
          "scatterternary": [
           {
            "marker": {
             "colorbar": {
              "outlinewidth": 0,
              "ticks": ""
             }
            },
            "type": "scatterternary"
           }
          ],
          "surface": [
           {
            "colorbar": {
             "outlinewidth": 0,
             "ticks": ""
            },
            "colorscale": [
             [
              0,
              "#0d0887"
             ],
             [
              0.1111111111111111,
              "#46039f"
             ],
             [
              0.2222222222222222,
              "#7201a8"
             ],
             [
              0.3333333333333333,
              "#9c179e"
             ],
             [
              0.4444444444444444,
              "#bd3786"
             ],
             [
              0.5555555555555556,
              "#d8576b"
             ],
             [
              0.6666666666666666,
              "#ed7953"
             ],
             [
              0.7777777777777778,
              "#fb9f3a"
             ],
             [
              0.8888888888888888,
              "#fdca26"
             ],
             [
              1,
              "#f0f921"
             ]
            ],
            "type": "surface"
           }
          ],
          "table": [
           {
            "cells": {
             "fill": {
              "color": "#EBF0F8"
             },
             "line": {
              "color": "white"
             }
            },
            "header": {
             "fill": {
              "color": "#C8D4E3"
             },
             "line": {
              "color": "white"
             }
            },
            "type": "table"
           }
          ]
         },
         "layout": {
          "annotationdefaults": {
           "arrowcolor": "#2a3f5f",
           "arrowhead": 0,
           "arrowwidth": 1
          },
          "autotypenumbers": "strict",
          "coloraxis": {
           "colorbar": {
            "outlinewidth": 0,
            "ticks": ""
           }
          },
          "colorscale": {
           "diverging": [
            [
             0,
             "#8e0152"
            ],
            [
             0.1,
             "#c51b7d"
            ],
            [
             0.2,
             "#de77ae"
            ],
            [
             0.3,
             "#f1b6da"
            ],
            [
             0.4,
             "#fde0ef"
            ],
            [
             0.5,
             "#f7f7f7"
            ],
            [
             0.6,
             "#e6f5d0"
            ],
            [
             0.7,
             "#b8e186"
            ],
            [
             0.8,
             "#7fbc41"
            ],
            [
             0.9,
             "#4d9221"
            ],
            [
             1,
             "#276419"
            ]
           ],
           "sequential": [
            [
             0,
             "#0d0887"
            ],
            [
             0.1111111111111111,
             "#46039f"
            ],
            [
             0.2222222222222222,
             "#7201a8"
            ],
            [
             0.3333333333333333,
             "#9c179e"
            ],
            [
             0.4444444444444444,
             "#bd3786"
            ],
            [
             0.5555555555555556,
             "#d8576b"
            ],
            [
             0.6666666666666666,
             "#ed7953"
            ],
            [
             0.7777777777777778,
             "#fb9f3a"
            ],
            [
             0.8888888888888888,
             "#fdca26"
            ],
            [
             1,
             "#f0f921"
            ]
           ],
           "sequentialminus": [
            [
             0,
             "#0d0887"
            ],
            [
             0.1111111111111111,
             "#46039f"
            ],
            [
             0.2222222222222222,
             "#7201a8"
            ],
            [
             0.3333333333333333,
             "#9c179e"
            ],
            [
             0.4444444444444444,
             "#bd3786"
            ],
            [
             0.5555555555555556,
             "#d8576b"
            ],
            [
             0.6666666666666666,
             "#ed7953"
            ],
            [
             0.7777777777777778,
             "#fb9f3a"
            ],
            [
             0.8888888888888888,
             "#fdca26"
            ],
            [
             1,
             "#f0f921"
            ]
           ]
          },
          "colorway": [
           "#636efa",
           "#EF553B",
           "#00cc96",
           "#ab63fa",
           "#FFA15A",
           "#19d3f3",
           "#FF6692",
           "#B6E880",
           "#FF97FF",
           "#FECB52"
          ],
          "font": {
           "color": "#2a3f5f"
          },
          "geo": {
           "bgcolor": "white",
           "lakecolor": "white",
           "landcolor": "#E5ECF6",
           "showlakes": true,
           "showland": true,
           "subunitcolor": "white"
          },
          "hoverlabel": {
           "align": "left"
          },
          "hovermode": "closest",
          "mapbox": {
           "style": "light"
          },
          "paper_bgcolor": "white",
          "plot_bgcolor": "#E5ECF6",
          "polar": {
           "angularaxis": {
            "gridcolor": "white",
            "linecolor": "white",
            "ticks": ""
           },
           "bgcolor": "#E5ECF6",
           "radialaxis": {
            "gridcolor": "white",
            "linecolor": "white",
            "ticks": ""
           }
          },
          "scene": {
           "xaxis": {
            "backgroundcolor": "#E5ECF6",
            "gridcolor": "white",
            "gridwidth": 2,
            "linecolor": "white",
            "showbackground": true,
            "ticks": "",
            "zerolinecolor": "white"
           },
           "yaxis": {
            "backgroundcolor": "#E5ECF6",
            "gridcolor": "white",
            "gridwidth": 2,
            "linecolor": "white",
            "showbackground": true,
            "ticks": "",
            "zerolinecolor": "white"
           },
           "zaxis": {
            "backgroundcolor": "#E5ECF6",
            "gridcolor": "white",
            "gridwidth": 2,
            "linecolor": "white",
            "showbackground": true,
            "ticks": "",
            "zerolinecolor": "white"
           }
          },
          "shapedefaults": {
           "line": {
            "color": "#2a3f5f"
           }
          },
          "ternary": {
           "aaxis": {
            "gridcolor": "white",
            "linecolor": "white",
            "ticks": ""
           },
           "baxis": {
            "gridcolor": "white",
            "linecolor": "white",
            "ticks": ""
           },
           "bgcolor": "#E5ECF6",
           "caxis": {
            "gridcolor": "white",
            "linecolor": "white",
            "ticks": ""
           }
          },
          "title": {
           "x": 0.05
          },
          "xaxis": {
           "automargin": true,
           "gridcolor": "white",
           "linecolor": "white",
           "ticks": "",
           "title": {
            "standoff": 15
           },
           "zerolinecolor": "white",
           "zerolinewidth": 2
          },
          "yaxis": {
           "automargin": true,
           "gridcolor": "white",
           "linecolor": "white",
           "ticks": "",
           "title": {
            "standoff": 15
           },
           "zerolinecolor": "white",
           "zerolinewidth": 2
          }
         }
        },
        "title": {
         "text": "2D Datat Representation Space"
        },
        "xaxis": {
         "range": [
          0,
          12
         ],
         "title": {
          "text": "x2"
         }
        },
        "yaxis": {
         "range": [
          0,
          12
         ],
         "title": {
          "text": "x1"
         }
        }
       }
      },
      "text/html": [
       "<div>                            <div id=\"3ff64e02-3c4d-4090-88f3-ebf6d735eb12\" class=\"plotly-graph-div\" style=\"height:400px; width:100%;\"></div>            <script type=\"text/javascript\">                require([\"plotly\"], function(Plotly) {                    window.PLOTLYENV=window.PLOTLYENV || {};                                    if (document.getElementById(\"3ff64e02-3c4d-4090-88f3-ebf6d735eb12\")) {                    Plotly.newPlot(                        \"3ff64e02-3c4d-4090-88f3-ebf6d735eb12\",                        [{\"mode\": \"markers\", \"name\": \"Actual Data\", \"type\": \"scatter\", \"x\": [2.0, 2.163265306122449, 2.326530612244898, 2.489795918367347, 2.6530612244897958, 2.816326530612245, 2.979591836734694, 3.142857142857143, 3.3061224489795915, 3.4693877551020407, 3.63265306122449, 3.7959183673469385, 3.9591836734693877, 4.122448979591836, 4.285714285714286, 4.448979591836734, 4.612244897959183, 4.775510204081632, 4.938775510204081, 5.1020408163265305, 5.26530612244898, 5.428571428571429, 5.591836734693877, 5.755102040816326, 5.918367346938775, 6.081632653061225, 6.244897959183673, 6.408163265306122, 6.571428571428571, 6.73469387755102, 6.897959183673469, 7.061224489795918, 7.224489795918367, 7.387755102040816, 7.551020408163265, 7.7142857142857135, 7.877551020408163, 8.040816326530612, 8.204081632653061, 8.367346938775508, 8.53061224489796, 8.693877551020407, 8.857142857142858, 9.020408163265305, 9.183673469387754, 9.346938775510203, 9.510204081632653, 9.673469387755102, 9.83673469387755, 10.0], \"y\": [2.0, 2.163265306122449, 2.326530612244898, 2.489795918367347, 2.6530612244897958, 2.816326530612245, 2.979591836734694, 3.142857142857143, 3.3061224489795915, 3.4693877551020407, 3.63265306122449, 3.7959183673469385, 3.9591836734693877, 4.122448979591836, 4.285714285714286, 4.448979591836734, 4.612244897959183, 4.775510204081632, 4.938775510204081, 5.1020408163265305, 5.26530612244898, 5.428571428571429, 5.591836734693877, 5.755102040816326, 5.918367346938775, 6.081632653061225, 6.244897959183673, 6.408163265306122, 6.571428571428571, 6.73469387755102, 6.897959183673469, 7.061224489795918, 7.224489795918367, 7.387755102040816, 7.551020408163265, 7.7142857142857135, 7.877551020408163, 8.040816326530612, 8.204081632653061, 8.367346938775508, 8.53061224489796, 8.693877551020407, 8.857142857142858, 9.020408163265305, 9.183673469387754, 9.346938775510203, 9.510204081632653, 9.673469387755102, 9.83673469387755, 10.0]}],                        {\"annotations\": [{\"align\": \"center\", \"arrowcolor\": \"#636363\", \"arrowhead\": 2, \"arrowsize\": 1, \"arrowwidth\": 2, \"ax\": -120, \"ay\": -30, \"bgcolor\": \"orange\", \"bordercolor\": \"#c7c7c7\", \"borderpad\": 4, \"borderwidth\": 2, \"opacity\": 0.8, \"showarrow\": true, \"text\": \"This 1D line is the Data Manifold (where data resides)\", \"x\": 5, \"xref\": \"x\", \"y\": 5, \"yref\": \"y\"}], \"height\": 400, \"template\": {\"data\": {\"bar\": [{\"error_x\": {\"color\": \"#2a3f5f\"}, \"error_y\": {\"color\": \"#2a3f5f\"}, \"marker\": {\"line\": {\"color\": \"#E5ECF6\", \"width\": 0.5}}, \"type\": \"bar\"}], \"barpolar\": [{\"marker\": {\"line\": {\"color\": \"#E5ECF6\", \"width\": 0.5}}, \"type\": \"barpolar\"}], \"carpet\": [{\"aaxis\": {\"endlinecolor\": \"#2a3f5f\", \"gridcolor\": \"white\", \"linecolor\": \"white\", \"minorgridcolor\": \"white\", \"startlinecolor\": \"#2a3f5f\"}, \"baxis\": {\"endlinecolor\": \"#2a3f5f\", \"gridcolor\": \"white\", \"linecolor\": \"white\", \"minorgridcolor\": \"white\", \"startlinecolor\": \"#2a3f5f\"}, \"type\": \"carpet\"}], \"choropleth\": [{\"colorbar\": {\"outlinewidth\": 0, \"ticks\": \"\"}, \"type\": \"choropleth\"}], \"contour\": [{\"colorbar\": {\"outlinewidth\": 0, \"ticks\": \"\"}, \"colorscale\": [[0.0, \"#0d0887\"], [0.1111111111111111, \"#46039f\"], [0.2222222222222222, \"#7201a8\"], [0.3333333333333333, \"#9c179e\"], [0.4444444444444444, \"#bd3786\"], [0.5555555555555556, \"#d8576b\"], [0.6666666666666666, \"#ed7953\"], [0.7777777777777778, \"#fb9f3a\"], [0.8888888888888888, \"#fdca26\"], [1.0, \"#f0f921\"]], \"type\": \"contour\"}], \"contourcarpet\": [{\"colorbar\": {\"outlinewidth\": 0, \"ticks\": \"\"}, \"type\": \"contourcarpet\"}], \"heatmap\": [{\"colorbar\": {\"outlinewidth\": 0, \"ticks\": \"\"}, \"colorscale\": [[0.0, \"#0d0887\"], [0.1111111111111111, \"#46039f\"], [0.2222222222222222, \"#7201a8\"], [0.3333333333333333, \"#9c179e\"], [0.4444444444444444, \"#bd3786\"], [0.5555555555555556, \"#d8576b\"], [0.6666666666666666, \"#ed7953\"], [0.7777777777777778, \"#fb9f3a\"], [0.8888888888888888, \"#fdca26\"], [1.0, \"#f0f921\"]], \"type\": \"heatmap\"}], \"heatmapgl\": [{\"colorbar\": {\"outlinewidth\": 0, \"ticks\": \"\"}, \"colorscale\": [[0.0, \"#0d0887\"], [0.1111111111111111, \"#46039f\"], [0.2222222222222222, \"#7201a8\"], [0.3333333333333333, \"#9c179e\"], [0.4444444444444444, \"#bd3786\"], [0.5555555555555556, \"#d8576b\"], [0.6666666666666666, \"#ed7953\"], [0.7777777777777778, \"#fb9f3a\"], [0.8888888888888888, \"#fdca26\"], [1.0, \"#f0f921\"]], \"type\": \"heatmapgl\"}], \"histogram\": [{\"marker\": {\"colorbar\": {\"outlinewidth\": 0, \"ticks\": \"\"}}, \"type\": \"histogram\"}], \"histogram2d\": [{\"colorbar\": {\"outlinewidth\": 0, \"ticks\": \"\"}, \"colorscale\": [[0.0, \"#0d0887\"], [0.1111111111111111, \"#46039f\"], [0.2222222222222222, \"#7201a8\"], [0.3333333333333333, \"#9c179e\"], [0.4444444444444444, \"#bd3786\"], [0.5555555555555556, \"#d8576b\"], [0.6666666666666666, \"#ed7953\"], [0.7777777777777778, \"#fb9f3a\"], [0.8888888888888888, \"#fdca26\"], [1.0, \"#f0f921\"]], \"type\": \"histogram2d\"}], \"histogram2dcontour\": [{\"colorbar\": {\"outlinewidth\": 0, \"ticks\": \"\"}, \"colorscale\": [[0.0, \"#0d0887\"], [0.1111111111111111, \"#46039f\"], [0.2222222222222222, \"#7201a8\"], [0.3333333333333333, \"#9c179e\"], [0.4444444444444444, \"#bd3786\"], [0.5555555555555556, \"#d8576b\"], [0.6666666666666666, \"#ed7953\"], [0.7777777777777778, \"#fb9f3a\"], [0.8888888888888888, \"#fdca26\"], [1.0, \"#f0f921\"]], \"type\": \"histogram2dcontour\"}], \"mesh3d\": [{\"colorbar\": {\"outlinewidth\": 0, \"ticks\": \"\"}, \"type\": \"mesh3d\"}], \"parcoords\": [{\"line\": {\"colorbar\": {\"outlinewidth\": 0, \"ticks\": \"\"}}, \"type\": \"parcoords\"}], \"pie\": [{\"automargin\": true, \"type\": \"pie\"}], \"scatter\": [{\"marker\": {\"colorbar\": {\"outlinewidth\": 0, \"ticks\": \"\"}}, \"type\": \"scatter\"}], \"scatter3d\": [{\"line\": {\"colorbar\": {\"outlinewidth\": 0, \"ticks\": \"\"}}, \"marker\": {\"colorbar\": {\"outlinewidth\": 0, \"ticks\": \"\"}}, \"type\": \"scatter3d\"}], \"scattercarpet\": [{\"marker\": {\"colorbar\": {\"outlinewidth\": 0, \"ticks\": \"\"}}, \"type\": \"scattercarpet\"}], \"scattergeo\": [{\"marker\": {\"colorbar\": {\"outlinewidth\": 0, \"ticks\": \"\"}}, \"type\": \"scattergeo\"}], \"scattergl\": [{\"marker\": {\"colorbar\": {\"outlinewidth\": 0, \"ticks\": \"\"}}, \"type\": \"scattergl\"}], \"scattermapbox\": [{\"marker\": {\"colorbar\": {\"outlinewidth\": 0, \"ticks\": \"\"}}, \"type\": \"scattermapbox\"}], \"scatterpolar\": [{\"marker\": {\"colorbar\": {\"outlinewidth\": 0, \"ticks\": \"\"}}, \"type\": \"scatterpolar\"}], \"scatterpolargl\": [{\"marker\": {\"colorbar\": {\"outlinewidth\": 0, \"ticks\": \"\"}}, \"type\": \"scatterpolargl\"}], \"scatterternary\": [{\"marker\": {\"colorbar\": {\"outlinewidth\": 0, \"ticks\": \"\"}}, \"type\": \"scatterternary\"}], \"surface\": [{\"colorbar\": {\"outlinewidth\": 0, \"ticks\": \"\"}, \"colorscale\": [[0.0, \"#0d0887\"], [0.1111111111111111, \"#46039f\"], [0.2222222222222222, \"#7201a8\"], [0.3333333333333333, \"#9c179e\"], [0.4444444444444444, \"#bd3786\"], [0.5555555555555556, \"#d8576b\"], [0.6666666666666666, \"#ed7953\"], [0.7777777777777778, \"#fb9f3a\"], [0.8888888888888888, \"#fdca26\"], [1.0, \"#f0f921\"]], \"type\": \"surface\"}], \"table\": [{\"cells\": {\"fill\": {\"color\": \"#EBF0F8\"}, \"line\": {\"color\": \"white\"}}, \"header\": {\"fill\": {\"color\": \"#C8D4E3\"}, \"line\": {\"color\": \"white\"}}, \"type\": \"table\"}]}, \"layout\": {\"annotationdefaults\": {\"arrowcolor\": \"#2a3f5f\", \"arrowhead\": 0, \"arrowwidth\": 1}, \"autotypenumbers\": \"strict\", \"coloraxis\": {\"colorbar\": {\"outlinewidth\": 0, \"ticks\": \"\"}}, \"colorscale\": {\"diverging\": [[0, \"#8e0152\"], [0.1, \"#c51b7d\"], [0.2, \"#de77ae\"], [0.3, \"#f1b6da\"], [0.4, \"#fde0ef\"], [0.5, \"#f7f7f7\"], [0.6, \"#e6f5d0\"], [0.7, \"#b8e186\"], [0.8, \"#7fbc41\"], [0.9, \"#4d9221\"], [1, \"#276419\"]], \"sequential\": [[0.0, \"#0d0887\"], [0.1111111111111111, \"#46039f\"], [0.2222222222222222, \"#7201a8\"], [0.3333333333333333, \"#9c179e\"], [0.4444444444444444, \"#bd3786\"], [0.5555555555555556, \"#d8576b\"], [0.6666666666666666, \"#ed7953\"], [0.7777777777777778, \"#fb9f3a\"], [0.8888888888888888, \"#fdca26\"], [1.0, \"#f0f921\"]], \"sequentialminus\": [[0.0, \"#0d0887\"], [0.1111111111111111, \"#46039f\"], [0.2222222222222222, \"#7201a8\"], [0.3333333333333333, \"#9c179e\"], [0.4444444444444444, \"#bd3786\"], [0.5555555555555556, \"#d8576b\"], [0.6666666666666666, \"#ed7953\"], [0.7777777777777778, \"#fb9f3a\"], [0.8888888888888888, \"#fdca26\"], [1.0, \"#f0f921\"]]}, \"colorway\": [\"#636efa\", \"#EF553B\", \"#00cc96\", \"#ab63fa\", \"#FFA15A\", \"#19d3f3\", \"#FF6692\", \"#B6E880\", \"#FF97FF\", \"#FECB52\"], \"font\": {\"color\": \"#2a3f5f\"}, \"geo\": {\"bgcolor\": \"white\", \"lakecolor\": \"white\", \"landcolor\": \"#E5ECF6\", \"showlakes\": true, \"showland\": true, \"subunitcolor\": \"white\"}, \"hoverlabel\": {\"align\": \"left\"}, \"hovermode\": \"closest\", \"mapbox\": {\"style\": \"light\"}, \"paper_bgcolor\": \"white\", \"plot_bgcolor\": \"#E5ECF6\", \"polar\": {\"angularaxis\": {\"gridcolor\": \"white\", \"linecolor\": \"white\", \"ticks\": \"\"}, \"bgcolor\": \"#E5ECF6\", \"radialaxis\": {\"gridcolor\": \"white\", \"linecolor\": \"white\", \"ticks\": \"\"}}, \"scene\": {\"xaxis\": {\"backgroundcolor\": \"#E5ECF6\", \"gridcolor\": \"white\", \"gridwidth\": 2, \"linecolor\": \"white\", \"showbackground\": true, \"ticks\": \"\", \"zerolinecolor\": \"white\"}, \"yaxis\": {\"backgroundcolor\": \"#E5ECF6\", \"gridcolor\": \"white\", \"gridwidth\": 2, \"linecolor\": \"white\", \"showbackground\": true, \"ticks\": \"\", \"zerolinecolor\": \"white\"}, \"zaxis\": {\"backgroundcolor\": \"#E5ECF6\", \"gridcolor\": \"white\", \"gridwidth\": 2, \"linecolor\": \"white\", \"showbackground\": true, \"ticks\": \"\", \"zerolinecolor\": \"white\"}}, \"shapedefaults\": {\"line\": {\"color\": \"#2a3f5f\"}}, \"ternary\": {\"aaxis\": {\"gridcolor\": \"white\", \"linecolor\": \"white\", \"ticks\": \"\"}, \"baxis\": {\"gridcolor\": \"white\", \"linecolor\": \"white\", \"ticks\": \"\"}, \"bgcolor\": \"#E5ECF6\", \"caxis\": {\"gridcolor\": \"white\", \"linecolor\": \"white\", \"ticks\": \"\"}}, \"title\": {\"x\": 0.05}, \"xaxis\": {\"automargin\": true, \"gridcolor\": \"white\", \"linecolor\": \"white\", \"ticks\": \"\", \"title\": {\"standoff\": 15}, \"zerolinecolor\": \"white\", \"zerolinewidth\": 2}, \"yaxis\": {\"automargin\": true, \"gridcolor\": \"white\", \"linecolor\": \"white\", \"ticks\": \"\", \"title\": {\"standoff\": 15}, \"zerolinecolor\": \"white\", \"zerolinewidth\": 2}}}, \"title\": {\"text\": \"2D Datat Representation Space\"}, \"xaxis\": {\"range\": [0, 12], \"title\": {\"text\": \"x2\"}}, \"yaxis\": {\"range\": [0, 12], \"title\": {\"text\": \"x1\"}}},                        {\"responsive\": true}                    ).then(function(){\n",
       "                            \n",
       "var gd = document.getElementById('3ff64e02-3c4d-4090-88f3-ebf6d735eb12');\n",
       "var x = new MutationObserver(function (mutations, observer) {{\n",
       "        var display = window.getComputedStyle(gd).display;\n",
       "        if (!display || display === 'none') {{\n",
       "            console.log([gd, 'removed!']);\n",
       "            Plotly.purge(gd);\n",
       "            observer.disconnect();\n",
       "        }}\n",
       "}});\n",
       "\n",
       "// Listen for the removal of the full notebook cells\n",
       "var notebookContainer = gd.closest('#notebook-container');\n",
       "if (notebookContainer) {{\n",
       "    x.observe(notebookContainer, {childList: true});\n",
       "}}\n",
       "\n",
       "// Listen for the clearing of the current output cell\n",
       "var outputEl = gd.closest('.output');\n",
       "if (outputEl) {{\n",
       "    x.observe(outputEl, {childList: true});\n",
       "}}\n",
       "\n",
       "                        })                };                });            </script>        </div>"
      ]
     },
     "metadata": {},
     "output_type": "display_data"
    }
   ],
   "source": [
    "from plotly.offline import init_notebook_mode, iplot\n",
    "import plotly.graph_objs as go\n",
    "import numpy as np\n",
    "init_notebook_mode(connected=True)\n",
    "\n",
    "# generate random data\n",
    "N = 50\n",
    "random_x = np.linspace(2, 10, N)\n",
    "random_y1 = np.linspace(2, 10, N)\n",
    "random_y2 = np.linspace(2, 10, N)\n",
    "\n",
    "trace1 = go.Scatter(x=random_x, y=random_y1, mode='markers', name='Actual Data')\n",
    "trace2 = go.Scatter(x=random_x, y=random_y2, mode='lines', name='Model')\n",
    "layout = go.Layout(title='2D Datat Representation Space', xaxis=dict(title='x2', range=(0, 12)),\n",
    "                  yaxis=dict(title='x1', range=(0, 12)), height=400,\n",
    "                  annotations=[dict(x=5, y=5, xref='x', yref='y', text='This 1D line is the Data Manifold (where data resides)', showarrow=True, align='center', arrowhead=2, arrowsize=1, arrowwidth=2, arrowcolor='#636363', ax=-120, ay=-30, bordercolor='#c7c7c7', borderwidth=2, borderpad=4, bgcolor='orange', opacity=0.8)])\n",
    "figure = go.Figure(data=[trace1], layout=layout)\n",
    "iplot(figure)"
   ]
  },
  {
   "cell_type": "markdown",
   "id": "collective-madonna",
   "metadata": {},
   "source": [
    "이 데이터를 나타내기 위해 현재 X와 Y의 2차원을 사용하고 있습니다. 그러나 이 공간의 치수를 더 낮은 치수(1D)로 줄일 수 있습니다. 다음을 정의할 수 있습니다.\n",
    "\n",
    "- 선의 기준점: A입니다.\n",
    "- L을 수평축으로 기울입니다.\n",
    "\n",
    "B와 같은 다른 점은 A의 거리 \"d\"와 각도 L로 나타낼 수 있습니다."
   ]
  },
  {
   "cell_type": "code",
   "execution_count": 24,
   "id": "applicable-security",
   "metadata": {
    "ExecuteTime": {
     "end_time": "2021-02-16T14:30:22.906952Z",
     "start_time": "2021-02-16T14:30:22.843895Z"
    }
   },
   "outputs": [
    {
     "data": {
      "application/vnd.plotly.v1+json": {
       "config": {
        "linkText": "Export to plot.ly",
        "plotlyServerURL": "https://plot.ly",
        "showLink": false
       },
       "data": [
        {
         "mode": "markers",
         "type": "scatter",
         "x": [
          2,
          2.163265306122449,
          2.326530612244898,
          2.489795918367347,
          2.6530612244897958,
          2.816326530612245,
          2.979591836734694,
          3.142857142857143,
          3.3061224489795915,
          3.4693877551020407,
          3.63265306122449,
          3.7959183673469385,
          3.9591836734693877,
          4.122448979591836,
          4.285714285714286,
          4.448979591836734,
          4.612244897959183,
          4.775510204081632,
          4.938775510204081,
          5.1020408163265305,
          5.26530612244898,
          5.428571428571429,
          5.591836734693877,
          5.755102040816326,
          5.918367346938775,
          6.081632653061225,
          6.244897959183673,
          6.408163265306122,
          6.571428571428571,
          6.73469387755102,
          6.897959183673469,
          7.061224489795918,
          7.224489795918367,
          7.387755102040816,
          7.551020408163265,
          7.7142857142857135,
          7.877551020408163,
          8.040816326530612,
          8.204081632653061,
          8.367346938775508,
          8.53061224489796,
          8.693877551020407,
          8.857142857142858,
          9.020408163265305,
          9.183673469387754,
          9.346938775510203,
          9.510204081632653,
          9.673469387755102,
          9.83673469387755,
          10
         ],
         "y": [
          2,
          2.163265306122449,
          2.326530612244898,
          2.489795918367347,
          2.6530612244897958,
          2.816326530612245,
          2.979591836734694,
          3.142857142857143,
          3.3061224489795915,
          3.4693877551020407,
          3.63265306122449,
          3.7959183673469385,
          3.9591836734693877,
          4.122448979591836,
          4.285714285714286,
          4.448979591836734,
          4.612244897959183,
          4.775510204081632,
          4.938775510204081,
          5.1020408163265305,
          5.26530612244898,
          5.428571428571429,
          5.591836734693877,
          5.755102040816326,
          5.918367346938775,
          6.081632653061225,
          6.244897959183673,
          6.408163265306122,
          6.571428571428571,
          6.73469387755102,
          6.897959183673469,
          7.061224489795918,
          7.224489795918367,
          7.387755102040816,
          7.551020408163265,
          7.7142857142857135,
          7.877551020408163,
          8.040816326530612,
          8.204081632653061,
          8.367346938775508,
          8.53061224489796,
          8.693877551020407,
          8.857142857142858,
          9.020408163265305,
          9.183673469387754,
          9.346938775510203,
          9.510204081632653,
          9.673469387755102,
          9.83673469387755,
          10
         ]
        },
        {
         "mode": "lines",
         "type": "scatter",
         "x": [
          2,
          2.163265306122449,
          2.326530612244898,
          2.489795918367347,
          2.6530612244897958,
          2.816326530612245,
          2.979591836734694,
          3.142857142857143,
          3.3061224489795915,
          3.4693877551020407,
          3.63265306122449,
          3.7959183673469385,
          3.9591836734693877,
          4.122448979591836,
          4.285714285714286,
          4.448979591836734,
          4.612244897959183,
          4.775510204081632,
          4.938775510204081,
          5.1020408163265305,
          5.26530612244898,
          5.428571428571429,
          5.591836734693877,
          5.755102040816326,
          5.918367346938775,
          6.081632653061225,
          6.244897959183673,
          6.408163265306122,
          6.571428571428571,
          6.73469387755102,
          6.897959183673469,
          7.061224489795918,
          7.224489795918367,
          7.387755102040816,
          7.551020408163265,
          7.7142857142857135,
          7.877551020408163,
          8.040816326530612,
          8.204081632653061,
          8.367346938775508,
          8.53061224489796,
          8.693877551020407,
          8.857142857142858,
          9.020408163265305,
          9.183673469387754,
          9.346938775510203,
          9.510204081632653,
          9.673469387755102,
          9.83673469387755,
          10
         ],
         "y": [
          2,
          2.163265306122449,
          2.326530612244898,
          2.489795918367347,
          2.6530612244897958,
          2.816326530612245,
          2.979591836734694,
          3.142857142857143,
          3.3061224489795915,
          3.4693877551020407,
          3.63265306122449,
          3.7959183673469385,
          3.9591836734693877,
          4.122448979591836,
          4.285714285714286,
          4.448979591836734,
          4.612244897959183,
          4.775510204081632,
          4.938775510204081,
          5.1020408163265305,
          5.26530612244898,
          5.428571428571429,
          5.591836734693877,
          5.755102040816326,
          5.918367346938775,
          6.081632653061225,
          6.244897959183673,
          6.408163265306122,
          6.571428571428571,
          6.73469387755102,
          6.897959183673469,
          7.061224489795918,
          7.224489795918367,
          7.387755102040816,
          7.551020408163265,
          7.7142857142857135,
          7.877551020408163,
          8.040816326530612,
          8.204081632653061,
          8.367346938775508,
          8.53061224489796,
          8.693877551020407,
          8.857142857142858,
          9.020408163265305,
          9.183673469387754,
          9.346938775510203,
          9.510204081632653,
          9.673469387755102,
          9.83673469387755,
          10
         ]
        },
        {
         "mode": "lines",
         "type": "scatter",
         "x": [
          2,
          2.163265306122449,
          2.326530612244898,
          2.489795918367347,
          2.6530612244897958,
          2.816326530612245,
          2.979591836734694,
          3.142857142857143,
          3.3061224489795915,
          3.4693877551020407,
          3.63265306122449,
          3.7959183673469385,
          3.9591836734693877,
          4.122448979591836,
          4.285714285714286,
          4.448979591836734,
          4.612244897959183,
          4.775510204081632,
          4.938775510204081,
          5.1020408163265305,
          5.26530612244898,
          5.428571428571429,
          5.591836734693877,
          5.755102040816326,
          5.918367346938775,
          6.081632653061225,
          6.244897959183673,
          6.408163265306122,
          6.571428571428571,
          6.73469387755102,
          6.897959183673469,
          7.061224489795918,
          7.224489795918367,
          7.387755102040816,
          7.551020408163265,
          7.7142857142857135,
          7.877551020408163,
          8.040816326530612,
          8.204081632653061,
          8.367346938775508,
          8.53061224489796,
          8.693877551020407,
          8.857142857142858,
          9.020408163265305,
          9.183673469387754,
          9.346938775510203,
          9.510204081632653,
          9.673469387755102,
          9.83673469387755,
          10
         ],
         "y": [
          2,
          2,
          2,
          2,
          2,
          2,
          2,
          2,
          2,
          2,
          2,
          2,
          2,
          2,
          2,
          2,
          2,
          2,
          2,
          2,
          2,
          2,
          2,
          2,
          2,
          2,
          2,
          2,
          2,
          2,
          2,
          2,
          2,
          2,
          2,
          2,
          2,
          2,
          2,
          2,
          2,
          2,
          2,
          2,
          2,
          2,
          2,
          2,
          2,
          2,
          2,
          2,
          2,
          2,
          2,
          2,
          2,
          2,
          2,
          2,
          2,
          2,
          2,
          2,
          2,
          2,
          2,
          2,
          2,
          2,
          2,
          2,
          2,
          2,
          2,
          2,
          2,
          2,
          2,
          2,
          2,
          2,
          2,
          2,
          2,
          2,
          2,
          2,
          2,
          2,
          2,
          2,
          2,
          2,
          2,
          2,
          2,
          2,
          2,
          2
         ]
        },
        {
         "mode": "lines",
         "type": "scatter",
         "x": [
          2.6530612244897958,
          2.816326530612245,
          2.979591836734694,
          3.142857142857143,
          3.3061224489795915,
          3.4693877551020407,
          3.63265306122449,
          3.7959183673469385,
          3.9591836734693877,
          4.122448979591836,
          4.285714285714286,
          4.448979591836734,
          4.612244897959183,
          4.775510204081632,
          4.938775510204081,
          5.1020408163265305,
          5.26530612244898,
          5.428571428571429,
          5.591836734693877,
          5.755102040816326
         ],
         "y": [
          3.6530612244897958,
          3.816326530612245,
          3.979591836734694,
          4.142857142857142,
          4.3061224489795915,
          4.469387755102041,
          4.63265306122449,
          4.795918367346939,
          4.959183673469388,
          5.122448979591836,
          5.285714285714286,
          5.448979591836734,
          5.612244897959183,
          5.775510204081632,
          5.938775510204081,
          6.1020408163265305,
          6.26530612244898,
          6.428571428571429,
          6.591836734693877,
          6.755102040816326,
          6.918367346938775,
          7.081632653061225,
          7.244897959183673,
          7.408163265306122,
          7.571428571428571,
          7.73469387755102,
          7.897959183673469,
          8.061224489795919,
          8.224489795918366,
          8.387755102040817,
          8.551020408163264,
          8.714285714285714,
          8.877551020408163,
          9.040816326530612,
          9.204081632653061,
          9.367346938775508,
          9.53061224489796,
          9.693877551020407,
          9.857142857142858,
          10.020408163265305,
          10.183673469387754,
          10.346938775510203,
          10.510204081632653,
          10.673469387755102,
          10.83673469387755,
          11
         ]
        }
       ],
       "layout": {
        "annotations": [
         {
          "align": "center",
          "arrowcolor": "#636363",
          "arrowhead": 2,
          "arrowsize": 1,
          "arrowwidth": 2,
          "ax": 20,
          "ay": -30,
          "bgcolor": "orange",
          "bordercolor": "#c7c7c7",
          "borderpad": 4,
          "borderwidth": 2,
          "opacity": 0.8,
          "showarrow": true,
          "text": "A",
          "x": 2,
          "xref": "x",
          "y": 2,
          "yref": "y"
         },
         {
          "align": "center",
          "arrowcolor": "#636363",
          "arrowhead": 2,
          "arrowsize": 1,
          "arrowwidth": 2,
          "ax": 20,
          "ay": -30,
          "bgcolor": "yellow",
          "bordercolor": "#c7c7c7",
          "borderpad": 4,
          "borderwidth": 2,
          "opacity": 0.8,
          "showarrow": true,
          "text": "B",
          "x": 6,
          "xref": "x",
          "y": 6,
          "yref": "y"
         },
         {
          "ay": -40,
          "text": "d",
          "x": 4,
          "xref": "x",
          "y": 5,
          "yref": "y"
         },
         {
          "ax": 80,
          "ay": -10,
          "text": "angle L",
          "x": 2,
          "xref": "x",
          "y": 2,
          "yref": "y"
         }
        ],
        "height": 400,
        "showlegend": false,
        "template": {
         "data": {
          "bar": [
           {
            "error_x": {
             "color": "#2a3f5f"
            },
            "error_y": {
             "color": "#2a3f5f"
            },
            "marker": {
             "line": {
              "color": "#E5ECF6",
              "width": 0.5
             }
            },
            "type": "bar"
           }
          ],
          "barpolar": [
           {
            "marker": {
             "line": {
              "color": "#E5ECF6",
              "width": 0.5
             }
            },
            "type": "barpolar"
           }
          ],
          "carpet": [
           {
            "aaxis": {
             "endlinecolor": "#2a3f5f",
             "gridcolor": "white",
             "linecolor": "white",
             "minorgridcolor": "white",
             "startlinecolor": "#2a3f5f"
            },
            "baxis": {
             "endlinecolor": "#2a3f5f",
             "gridcolor": "white",
             "linecolor": "white",
             "minorgridcolor": "white",
             "startlinecolor": "#2a3f5f"
            },
            "type": "carpet"
           }
          ],
          "choropleth": [
           {
            "colorbar": {
             "outlinewidth": 0,
             "ticks": ""
            },
            "type": "choropleth"
           }
          ],
          "contour": [
           {
            "colorbar": {
             "outlinewidth": 0,
             "ticks": ""
            },
            "colorscale": [
             [
              0,
              "#0d0887"
             ],
             [
              0.1111111111111111,
              "#46039f"
             ],
             [
              0.2222222222222222,
              "#7201a8"
             ],
             [
              0.3333333333333333,
              "#9c179e"
             ],
             [
              0.4444444444444444,
              "#bd3786"
             ],
             [
              0.5555555555555556,
              "#d8576b"
             ],
             [
              0.6666666666666666,
              "#ed7953"
             ],
             [
              0.7777777777777778,
              "#fb9f3a"
             ],
             [
              0.8888888888888888,
              "#fdca26"
             ],
             [
              1,
              "#f0f921"
             ]
            ],
            "type": "contour"
           }
          ],
          "contourcarpet": [
           {
            "colorbar": {
             "outlinewidth": 0,
             "ticks": ""
            },
            "type": "contourcarpet"
           }
          ],
          "heatmap": [
           {
            "colorbar": {
             "outlinewidth": 0,
             "ticks": ""
            },
            "colorscale": [
             [
              0,
              "#0d0887"
             ],
             [
              0.1111111111111111,
              "#46039f"
             ],
             [
              0.2222222222222222,
              "#7201a8"
             ],
             [
              0.3333333333333333,
              "#9c179e"
             ],
             [
              0.4444444444444444,
              "#bd3786"
             ],
             [
              0.5555555555555556,
              "#d8576b"
             ],
             [
              0.6666666666666666,
              "#ed7953"
             ],
             [
              0.7777777777777778,
              "#fb9f3a"
             ],
             [
              0.8888888888888888,
              "#fdca26"
             ],
             [
              1,
              "#f0f921"
             ]
            ],
            "type": "heatmap"
           }
          ],
          "heatmapgl": [
           {
            "colorbar": {
             "outlinewidth": 0,
             "ticks": ""
            },
            "colorscale": [
             [
              0,
              "#0d0887"
             ],
             [
              0.1111111111111111,
              "#46039f"
             ],
             [
              0.2222222222222222,
              "#7201a8"
             ],
             [
              0.3333333333333333,
              "#9c179e"
             ],
             [
              0.4444444444444444,
              "#bd3786"
             ],
             [
              0.5555555555555556,
              "#d8576b"
             ],
             [
              0.6666666666666666,
              "#ed7953"
             ],
             [
              0.7777777777777778,
              "#fb9f3a"
             ],
             [
              0.8888888888888888,
              "#fdca26"
             ],
             [
              1,
              "#f0f921"
             ]
            ],
            "type": "heatmapgl"
           }
          ],
          "histogram": [
           {
            "marker": {
             "colorbar": {
              "outlinewidth": 0,
              "ticks": ""
             }
            },
            "type": "histogram"
           }
          ],
          "histogram2d": [
           {
            "colorbar": {
             "outlinewidth": 0,
             "ticks": ""
            },
            "colorscale": [
             [
              0,
              "#0d0887"
             ],
             [
              0.1111111111111111,
              "#46039f"
             ],
             [
              0.2222222222222222,
              "#7201a8"
             ],
             [
              0.3333333333333333,
              "#9c179e"
             ],
             [
              0.4444444444444444,
              "#bd3786"
             ],
             [
              0.5555555555555556,
              "#d8576b"
             ],
             [
              0.6666666666666666,
              "#ed7953"
             ],
             [
              0.7777777777777778,
              "#fb9f3a"
             ],
             [
              0.8888888888888888,
              "#fdca26"
             ],
             [
              1,
              "#f0f921"
             ]
            ],
            "type": "histogram2d"
           }
          ],
          "histogram2dcontour": [
           {
            "colorbar": {
             "outlinewidth": 0,
             "ticks": ""
            },
            "colorscale": [
             [
              0,
              "#0d0887"
             ],
             [
              0.1111111111111111,
              "#46039f"
             ],
             [
              0.2222222222222222,
              "#7201a8"
             ],
             [
              0.3333333333333333,
              "#9c179e"
             ],
             [
              0.4444444444444444,
              "#bd3786"
             ],
             [
              0.5555555555555556,
              "#d8576b"
             ],
             [
              0.6666666666666666,
              "#ed7953"
             ],
             [
              0.7777777777777778,
              "#fb9f3a"
             ],
             [
              0.8888888888888888,
              "#fdca26"
             ],
             [
              1,
              "#f0f921"
             ]
            ],
            "type": "histogram2dcontour"
           }
          ],
          "mesh3d": [
           {
            "colorbar": {
             "outlinewidth": 0,
             "ticks": ""
            },
            "type": "mesh3d"
           }
          ],
          "parcoords": [
           {
            "line": {
             "colorbar": {
              "outlinewidth": 0,
              "ticks": ""
             }
            },
            "type": "parcoords"
           }
          ],
          "pie": [
           {
            "automargin": true,
            "type": "pie"
           }
          ],
          "scatter": [
           {
            "marker": {
             "colorbar": {
              "outlinewidth": 0,
              "ticks": ""
             }
            },
            "type": "scatter"
           }
          ],
          "scatter3d": [
           {
            "line": {
             "colorbar": {
              "outlinewidth": 0,
              "ticks": ""
             }
            },
            "marker": {
             "colorbar": {
              "outlinewidth": 0,
              "ticks": ""
             }
            },
            "type": "scatter3d"
           }
          ],
          "scattercarpet": [
           {
            "marker": {
             "colorbar": {
              "outlinewidth": 0,
              "ticks": ""
             }
            },
            "type": "scattercarpet"
           }
          ],
          "scattergeo": [
           {
            "marker": {
             "colorbar": {
              "outlinewidth": 0,
              "ticks": ""
             }
            },
            "type": "scattergeo"
           }
          ],
          "scattergl": [
           {
            "marker": {
             "colorbar": {
              "outlinewidth": 0,
              "ticks": ""
             }
            },
            "type": "scattergl"
           }
          ],
          "scattermapbox": [
           {
            "marker": {
             "colorbar": {
              "outlinewidth": 0,
              "ticks": ""
             }
            },
            "type": "scattermapbox"
           }
          ],
          "scatterpolar": [
           {
            "marker": {
             "colorbar": {
              "outlinewidth": 0,
              "ticks": ""
             }
            },
            "type": "scatterpolar"
           }
          ],
          "scatterpolargl": [
           {
            "marker": {
             "colorbar": {
              "outlinewidth": 0,
              "ticks": ""
             }
            },
            "type": "scatterpolargl"
           }
          ],
          "scatterternary": [
           {
            "marker": {
             "colorbar": {
              "outlinewidth": 0,
              "ticks": ""
             }
            },
            "type": "scatterternary"
           }
          ],
          "surface": [
           {
            "colorbar": {
             "outlinewidth": 0,
             "ticks": ""
            },
            "colorscale": [
             [
              0,
              "#0d0887"
             ],
             [
              0.1111111111111111,
              "#46039f"
             ],
             [
              0.2222222222222222,
              "#7201a8"
             ],
             [
              0.3333333333333333,
              "#9c179e"
             ],
             [
              0.4444444444444444,
              "#bd3786"
             ],
             [
              0.5555555555555556,
              "#d8576b"
             ],
             [
              0.6666666666666666,
              "#ed7953"
             ],
             [
              0.7777777777777778,
              "#fb9f3a"
             ],
             [
              0.8888888888888888,
              "#fdca26"
             ],
             [
              1,
              "#f0f921"
             ]
            ],
            "type": "surface"
           }
          ],
          "table": [
           {
            "cells": {
             "fill": {
              "color": "#EBF0F8"
             },
             "line": {
              "color": "white"
             }
            },
            "header": {
             "fill": {
              "color": "#C8D4E3"
             },
             "line": {
              "color": "white"
             }
            },
            "type": "table"
           }
          ]
         },
         "layout": {
          "annotationdefaults": {
           "arrowcolor": "#2a3f5f",
           "arrowhead": 0,
           "arrowwidth": 1
          },
          "autotypenumbers": "strict",
          "coloraxis": {
           "colorbar": {
            "outlinewidth": 0,
            "ticks": ""
           }
          },
          "colorscale": {
           "diverging": [
            [
             0,
             "#8e0152"
            ],
            [
             0.1,
             "#c51b7d"
            ],
            [
             0.2,
             "#de77ae"
            ],
            [
             0.3,
             "#f1b6da"
            ],
            [
             0.4,
             "#fde0ef"
            ],
            [
             0.5,
             "#f7f7f7"
            ],
            [
             0.6,
             "#e6f5d0"
            ],
            [
             0.7,
             "#b8e186"
            ],
            [
             0.8,
             "#7fbc41"
            ],
            [
             0.9,
             "#4d9221"
            ],
            [
             1,
             "#276419"
            ]
           ],
           "sequential": [
            [
             0,
             "#0d0887"
            ],
            [
             0.1111111111111111,
             "#46039f"
            ],
            [
             0.2222222222222222,
             "#7201a8"
            ],
            [
             0.3333333333333333,
             "#9c179e"
            ],
            [
             0.4444444444444444,
             "#bd3786"
            ],
            [
             0.5555555555555556,
             "#d8576b"
            ],
            [
             0.6666666666666666,
             "#ed7953"
            ],
            [
             0.7777777777777778,
             "#fb9f3a"
            ],
            [
             0.8888888888888888,
             "#fdca26"
            ],
            [
             1,
             "#f0f921"
            ]
           ],
           "sequentialminus": [
            [
             0,
             "#0d0887"
            ],
            [
             0.1111111111111111,
             "#46039f"
            ],
            [
             0.2222222222222222,
             "#7201a8"
            ],
            [
             0.3333333333333333,
             "#9c179e"
            ],
            [
             0.4444444444444444,
             "#bd3786"
            ],
            [
             0.5555555555555556,
             "#d8576b"
            ],
            [
             0.6666666666666666,
             "#ed7953"
            ],
            [
             0.7777777777777778,
             "#fb9f3a"
            ],
            [
             0.8888888888888888,
             "#fdca26"
            ],
            [
             1,
             "#f0f921"
            ]
           ]
          },
          "colorway": [
           "#636efa",
           "#EF553B",
           "#00cc96",
           "#ab63fa",
           "#FFA15A",
           "#19d3f3",
           "#FF6692",
           "#B6E880",
           "#FF97FF",
           "#FECB52"
          ],
          "font": {
           "color": "#2a3f5f"
          },
          "geo": {
           "bgcolor": "white",
           "lakecolor": "white",
           "landcolor": "#E5ECF6",
           "showlakes": true,
           "showland": true,
           "subunitcolor": "white"
          },
          "hoverlabel": {
           "align": "left"
          },
          "hovermode": "closest",
          "mapbox": {
           "style": "light"
          },
          "paper_bgcolor": "white",
          "plot_bgcolor": "#E5ECF6",
          "polar": {
           "angularaxis": {
            "gridcolor": "white",
            "linecolor": "white",
            "ticks": ""
           },
           "bgcolor": "#E5ECF6",
           "radialaxis": {
            "gridcolor": "white",
            "linecolor": "white",
            "ticks": ""
           }
          },
          "scene": {
           "xaxis": {
            "backgroundcolor": "#E5ECF6",
            "gridcolor": "white",
            "gridwidth": 2,
            "linecolor": "white",
            "showbackground": true,
            "ticks": "",
            "zerolinecolor": "white"
           },
           "yaxis": {
            "backgroundcolor": "#E5ECF6",
            "gridcolor": "white",
            "gridwidth": 2,
            "linecolor": "white",
            "showbackground": true,
            "ticks": "",
            "zerolinecolor": "white"
           },
           "zaxis": {
            "backgroundcolor": "#E5ECF6",
            "gridcolor": "white",
            "gridwidth": 2,
            "linecolor": "white",
            "showbackground": true,
            "ticks": "",
            "zerolinecolor": "white"
           }
          },
          "shapedefaults": {
           "line": {
            "color": "#2a3f5f"
           }
          },
          "ternary": {
           "aaxis": {
            "gridcolor": "white",
            "linecolor": "white",
            "ticks": ""
           },
           "baxis": {
            "gridcolor": "white",
            "linecolor": "white",
            "ticks": ""
           },
           "bgcolor": "#E5ECF6",
           "caxis": {
            "gridcolor": "white",
            "linecolor": "white",
            "ticks": ""
           }
          },
          "title": {
           "x": 0.05
          },
          "xaxis": {
           "automargin": true,
           "gridcolor": "white",
           "linecolor": "white",
           "ticks": "",
           "title": {
            "standoff": 15
           },
           "zerolinecolor": "white",
           "zerolinewidth": 2
          },
          "yaxis": {
           "automargin": true,
           "gridcolor": "white",
           "linecolor": "white",
           "ticks": "",
           "title": {
            "standoff": 15
           },
           "zerolinecolor": "white",
           "zerolinewidth": 2
          }
         }
        },
        "title": {
         "text": "2D Data Repersentation Space"
        },
        "xaxis": {
         "range": [
          0,
          12
         ],
         "title": {
          "text": "x1"
         }
        },
        "yaxis": {
         "range": [
          0,
          12
         ],
         "title": {
          "text": "x2"
         }
        }
       }
      },
      "text/html": [
       "<div>                            <div id=\"98d5271e-3e8a-4f95-984b-2a0a0ef391c2\" class=\"plotly-graph-div\" style=\"height:400px; width:100%;\"></div>            <script type=\"text/javascript\">                require([\"plotly\"], function(Plotly) {                    window.PLOTLYENV=window.PLOTLYENV || {};                                    if (document.getElementById(\"98d5271e-3e8a-4f95-984b-2a0a0ef391c2\")) {                    Plotly.newPlot(                        \"98d5271e-3e8a-4f95-984b-2a0a0ef391c2\",                        [{\"mode\": \"markers\", \"type\": \"scatter\", \"x\": [2.0, 2.163265306122449, 2.326530612244898, 2.489795918367347, 2.6530612244897958, 2.816326530612245, 2.979591836734694, 3.142857142857143, 3.3061224489795915, 3.4693877551020407, 3.63265306122449, 3.7959183673469385, 3.9591836734693877, 4.122448979591836, 4.285714285714286, 4.448979591836734, 4.612244897959183, 4.775510204081632, 4.938775510204081, 5.1020408163265305, 5.26530612244898, 5.428571428571429, 5.591836734693877, 5.755102040816326, 5.918367346938775, 6.081632653061225, 6.244897959183673, 6.408163265306122, 6.571428571428571, 6.73469387755102, 6.897959183673469, 7.061224489795918, 7.224489795918367, 7.387755102040816, 7.551020408163265, 7.7142857142857135, 7.877551020408163, 8.040816326530612, 8.204081632653061, 8.367346938775508, 8.53061224489796, 8.693877551020407, 8.857142857142858, 9.020408163265305, 9.183673469387754, 9.346938775510203, 9.510204081632653, 9.673469387755102, 9.83673469387755, 10.0], \"y\": [2.0, 2.163265306122449, 2.326530612244898, 2.489795918367347, 2.6530612244897958, 2.816326530612245, 2.979591836734694, 3.142857142857143, 3.3061224489795915, 3.4693877551020407, 3.63265306122449, 3.7959183673469385, 3.9591836734693877, 4.122448979591836, 4.285714285714286, 4.448979591836734, 4.612244897959183, 4.775510204081632, 4.938775510204081, 5.1020408163265305, 5.26530612244898, 5.428571428571429, 5.591836734693877, 5.755102040816326, 5.918367346938775, 6.081632653061225, 6.244897959183673, 6.408163265306122, 6.571428571428571, 6.73469387755102, 6.897959183673469, 7.061224489795918, 7.224489795918367, 7.387755102040816, 7.551020408163265, 7.7142857142857135, 7.877551020408163, 8.040816326530612, 8.204081632653061, 8.367346938775508, 8.53061224489796, 8.693877551020407, 8.857142857142858, 9.020408163265305, 9.183673469387754, 9.346938775510203, 9.510204081632653, 9.673469387755102, 9.83673469387755, 10.0]}, {\"mode\": \"lines\", \"type\": \"scatter\", \"x\": [2.0, 2.163265306122449, 2.326530612244898, 2.489795918367347, 2.6530612244897958, 2.816326530612245, 2.979591836734694, 3.142857142857143, 3.3061224489795915, 3.4693877551020407, 3.63265306122449, 3.7959183673469385, 3.9591836734693877, 4.122448979591836, 4.285714285714286, 4.448979591836734, 4.612244897959183, 4.775510204081632, 4.938775510204081, 5.1020408163265305, 5.26530612244898, 5.428571428571429, 5.591836734693877, 5.755102040816326, 5.918367346938775, 6.081632653061225, 6.244897959183673, 6.408163265306122, 6.571428571428571, 6.73469387755102, 6.897959183673469, 7.061224489795918, 7.224489795918367, 7.387755102040816, 7.551020408163265, 7.7142857142857135, 7.877551020408163, 8.040816326530612, 8.204081632653061, 8.367346938775508, 8.53061224489796, 8.693877551020407, 8.857142857142858, 9.020408163265305, 9.183673469387754, 9.346938775510203, 9.510204081632653, 9.673469387755102, 9.83673469387755, 10.0], \"y\": [2.0, 2.163265306122449, 2.326530612244898, 2.489795918367347, 2.6530612244897958, 2.816326530612245, 2.979591836734694, 3.142857142857143, 3.3061224489795915, 3.4693877551020407, 3.63265306122449, 3.7959183673469385, 3.9591836734693877, 4.122448979591836, 4.285714285714286, 4.448979591836734, 4.612244897959183, 4.775510204081632, 4.938775510204081, 5.1020408163265305, 5.26530612244898, 5.428571428571429, 5.591836734693877, 5.755102040816326, 5.918367346938775, 6.081632653061225, 6.244897959183673, 6.408163265306122, 6.571428571428571, 6.73469387755102, 6.897959183673469, 7.061224489795918, 7.224489795918367, 7.387755102040816, 7.551020408163265, 7.7142857142857135, 7.877551020408163, 8.040816326530612, 8.204081632653061, 8.367346938775508, 8.53061224489796, 8.693877551020407, 8.857142857142858, 9.020408163265305, 9.183673469387754, 9.346938775510203, 9.510204081632653, 9.673469387755102, 9.83673469387755, 10.0]}, {\"mode\": \"lines\", \"type\": \"scatter\", \"x\": [2.0, 2.163265306122449, 2.326530612244898, 2.489795918367347, 2.6530612244897958, 2.816326530612245, 2.979591836734694, 3.142857142857143, 3.3061224489795915, 3.4693877551020407, 3.63265306122449, 3.7959183673469385, 3.9591836734693877, 4.122448979591836, 4.285714285714286, 4.448979591836734, 4.612244897959183, 4.775510204081632, 4.938775510204081, 5.1020408163265305, 5.26530612244898, 5.428571428571429, 5.591836734693877, 5.755102040816326, 5.918367346938775, 6.081632653061225, 6.244897959183673, 6.408163265306122, 6.571428571428571, 6.73469387755102, 6.897959183673469, 7.061224489795918, 7.224489795918367, 7.387755102040816, 7.551020408163265, 7.7142857142857135, 7.877551020408163, 8.040816326530612, 8.204081632653061, 8.367346938775508, 8.53061224489796, 8.693877551020407, 8.857142857142858, 9.020408163265305, 9.183673469387754, 9.346938775510203, 9.510204081632653, 9.673469387755102, 9.83673469387755, 10.0], \"y\": [2, 2, 2, 2, 2, 2, 2, 2, 2, 2, 2, 2, 2, 2, 2, 2, 2, 2, 2, 2, 2, 2, 2, 2, 2, 2, 2, 2, 2, 2, 2, 2, 2, 2, 2, 2, 2, 2, 2, 2, 2, 2, 2, 2, 2, 2, 2, 2, 2, 2, 2, 2, 2, 2, 2, 2, 2, 2, 2, 2, 2, 2, 2, 2, 2, 2, 2, 2, 2, 2, 2, 2, 2, 2, 2, 2, 2, 2, 2, 2, 2, 2, 2, 2, 2, 2, 2, 2, 2, 2, 2, 2, 2, 2, 2, 2, 2, 2, 2, 2]}, {\"mode\": \"lines\", \"type\": \"scatter\", \"x\": [2.6530612244897958, 2.816326530612245, 2.979591836734694, 3.142857142857143, 3.3061224489795915, 3.4693877551020407, 3.63265306122449, 3.7959183673469385, 3.9591836734693877, 4.122448979591836, 4.285714285714286, 4.448979591836734, 4.612244897959183, 4.775510204081632, 4.938775510204081, 5.1020408163265305, 5.26530612244898, 5.428571428571429, 5.591836734693877, 5.755102040816326], \"y\": [3.6530612244897958, 3.816326530612245, 3.979591836734694, 4.142857142857142, 4.3061224489795915, 4.469387755102041, 4.63265306122449, 4.795918367346939, 4.959183673469388, 5.122448979591836, 5.285714285714286, 5.448979591836734, 5.612244897959183, 5.775510204081632, 5.938775510204081, 6.1020408163265305, 6.26530612244898, 6.428571428571429, 6.591836734693877, 6.755102040816326, 6.918367346938775, 7.081632653061225, 7.244897959183673, 7.408163265306122, 7.571428571428571, 7.73469387755102, 7.897959183673469, 8.061224489795919, 8.224489795918366, 8.387755102040817, 8.551020408163264, 8.714285714285714, 8.877551020408163, 9.040816326530612, 9.204081632653061, 9.367346938775508, 9.53061224489796, 9.693877551020407, 9.857142857142858, 10.020408163265305, 10.183673469387754, 10.346938775510203, 10.510204081632653, 10.673469387755102, 10.83673469387755, 11.0]}],                        {\"annotations\": [{\"align\": \"center\", \"arrowcolor\": \"#636363\", \"arrowhead\": 2, \"arrowsize\": 1, \"arrowwidth\": 2, \"ax\": 20, \"ay\": -30, \"bgcolor\": \"orange\", \"bordercolor\": \"#c7c7c7\", \"borderpad\": 4, \"borderwidth\": 2, \"opacity\": 0.8, \"showarrow\": true, \"text\": \"A\", \"x\": 2, \"xref\": \"x\", \"y\": 2, \"yref\": \"y\"}, {\"align\": \"center\", \"arrowcolor\": \"#636363\", \"arrowhead\": 2, \"arrowsize\": 1, \"arrowwidth\": 2, \"ax\": 20, \"ay\": -30, \"bgcolor\": \"yellow\", \"bordercolor\": \"#c7c7c7\", \"borderpad\": 4, \"borderwidth\": 2, \"opacity\": 0.8, \"showarrow\": true, \"text\": \"B\", \"x\": 6, \"xref\": \"x\", \"y\": 6, \"yref\": \"y\"}, {\"ay\": -40, \"text\": \"d\", \"x\": 4, \"xref\": \"x\", \"y\": 5, \"yref\": \"y\"}, {\"ax\": 80, \"ay\": -10, \"text\": \"angle L\", \"x\": 2, \"xref\": \"x\", \"y\": 2, \"yref\": \"y\"}], \"height\": 400, \"showlegend\": false, \"template\": {\"data\": {\"bar\": [{\"error_x\": {\"color\": \"#2a3f5f\"}, \"error_y\": {\"color\": \"#2a3f5f\"}, \"marker\": {\"line\": {\"color\": \"#E5ECF6\", \"width\": 0.5}}, \"type\": \"bar\"}], \"barpolar\": [{\"marker\": {\"line\": {\"color\": \"#E5ECF6\", \"width\": 0.5}}, \"type\": \"barpolar\"}], \"carpet\": [{\"aaxis\": {\"endlinecolor\": \"#2a3f5f\", \"gridcolor\": \"white\", \"linecolor\": \"white\", \"minorgridcolor\": \"white\", \"startlinecolor\": \"#2a3f5f\"}, \"baxis\": {\"endlinecolor\": \"#2a3f5f\", \"gridcolor\": \"white\", \"linecolor\": \"white\", \"minorgridcolor\": \"white\", \"startlinecolor\": \"#2a3f5f\"}, \"type\": \"carpet\"}], \"choropleth\": [{\"colorbar\": {\"outlinewidth\": 0, \"ticks\": \"\"}, \"type\": \"choropleth\"}], \"contour\": [{\"colorbar\": {\"outlinewidth\": 0, \"ticks\": \"\"}, \"colorscale\": [[0.0, \"#0d0887\"], [0.1111111111111111, \"#46039f\"], [0.2222222222222222, \"#7201a8\"], [0.3333333333333333, \"#9c179e\"], [0.4444444444444444, \"#bd3786\"], [0.5555555555555556, \"#d8576b\"], [0.6666666666666666, \"#ed7953\"], [0.7777777777777778, \"#fb9f3a\"], [0.8888888888888888, \"#fdca26\"], [1.0, \"#f0f921\"]], \"type\": \"contour\"}], \"contourcarpet\": [{\"colorbar\": {\"outlinewidth\": 0, \"ticks\": \"\"}, \"type\": \"contourcarpet\"}], \"heatmap\": [{\"colorbar\": {\"outlinewidth\": 0, \"ticks\": \"\"}, \"colorscale\": [[0.0, \"#0d0887\"], [0.1111111111111111, \"#46039f\"], [0.2222222222222222, \"#7201a8\"], [0.3333333333333333, \"#9c179e\"], [0.4444444444444444, \"#bd3786\"], [0.5555555555555556, \"#d8576b\"], [0.6666666666666666, \"#ed7953\"], [0.7777777777777778, \"#fb9f3a\"], [0.8888888888888888, \"#fdca26\"], [1.0, \"#f0f921\"]], \"type\": \"heatmap\"}], \"heatmapgl\": [{\"colorbar\": {\"outlinewidth\": 0, \"ticks\": \"\"}, \"colorscale\": [[0.0, \"#0d0887\"], [0.1111111111111111, \"#46039f\"], [0.2222222222222222, \"#7201a8\"], [0.3333333333333333, \"#9c179e\"], [0.4444444444444444, \"#bd3786\"], [0.5555555555555556, \"#d8576b\"], [0.6666666666666666, \"#ed7953\"], [0.7777777777777778, \"#fb9f3a\"], [0.8888888888888888, \"#fdca26\"], [1.0, \"#f0f921\"]], \"type\": \"heatmapgl\"}], \"histogram\": [{\"marker\": {\"colorbar\": {\"outlinewidth\": 0, \"ticks\": \"\"}}, \"type\": \"histogram\"}], \"histogram2d\": [{\"colorbar\": {\"outlinewidth\": 0, \"ticks\": \"\"}, \"colorscale\": [[0.0, \"#0d0887\"], [0.1111111111111111, \"#46039f\"], [0.2222222222222222, \"#7201a8\"], [0.3333333333333333, \"#9c179e\"], [0.4444444444444444, \"#bd3786\"], [0.5555555555555556, \"#d8576b\"], [0.6666666666666666, \"#ed7953\"], [0.7777777777777778, \"#fb9f3a\"], [0.8888888888888888, \"#fdca26\"], [1.0, \"#f0f921\"]], \"type\": \"histogram2d\"}], \"histogram2dcontour\": [{\"colorbar\": {\"outlinewidth\": 0, \"ticks\": \"\"}, \"colorscale\": [[0.0, \"#0d0887\"], [0.1111111111111111, \"#46039f\"], [0.2222222222222222, \"#7201a8\"], [0.3333333333333333, \"#9c179e\"], [0.4444444444444444, \"#bd3786\"], [0.5555555555555556, \"#d8576b\"], [0.6666666666666666, \"#ed7953\"], [0.7777777777777778, \"#fb9f3a\"], [0.8888888888888888, \"#fdca26\"], [1.0, \"#f0f921\"]], \"type\": \"histogram2dcontour\"}], \"mesh3d\": [{\"colorbar\": {\"outlinewidth\": 0, \"ticks\": \"\"}, \"type\": \"mesh3d\"}], \"parcoords\": [{\"line\": {\"colorbar\": {\"outlinewidth\": 0, \"ticks\": \"\"}}, \"type\": \"parcoords\"}], \"pie\": [{\"automargin\": true, \"type\": \"pie\"}], \"scatter\": [{\"marker\": {\"colorbar\": {\"outlinewidth\": 0, \"ticks\": \"\"}}, \"type\": \"scatter\"}], \"scatter3d\": [{\"line\": {\"colorbar\": {\"outlinewidth\": 0, \"ticks\": \"\"}}, \"marker\": {\"colorbar\": {\"outlinewidth\": 0, \"ticks\": \"\"}}, \"type\": \"scatter3d\"}], \"scattercarpet\": [{\"marker\": {\"colorbar\": {\"outlinewidth\": 0, \"ticks\": \"\"}}, \"type\": \"scattercarpet\"}], \"scattergeo\": [{\"marker\": {\"colorbar\": {\"outlinewidth\": 0, \"ticks\": \"\"}}, \"type\": \"scattergeo\"}], \"scattergl\": [{\"marker\": {\"colorbar\": {\"outlinewidth\": 0, \"ticks\": \"\"}}, \"type\": \"scattergl\"}], \"scattermapbox\": [{\"marker\": {\"colorbar\": {\"outlinewidth\": 0, \"ticks\": \"\"}}, \"type\": \"scattermapbox\"}], \"scatterpolar\": [{\"marker\": {\"colorbar\": {\"outlinewidth\": 0, \"ticks\": \"\"}}, \"type\": \"scatterpolar\"}], \"scatterpolargl\": [{\"marker\": {\"colorbar\": {\"outlinewidth\": 0, \"ticks\": \"\"}}, \"type\": \"scatterpolargl\"}], \"scatterternary\": [{\"marker\": {\"colorbar\": {\"outlinewidth\": 0, \"ticks\": \"\"}}, \"type\": \"scatterternary\"}], \"surface\": [{\"colorbar\": {\"outlinewidth\": 0, \"ticks\": \"\"}, \"colorscale\": [[0.0, \"#0d0887\"], [0.1111111111111111, \"#46039f\"], [0.2222222222222222, \"#7201a8\"], [0.3333333333333333, \"#9c179e\"], [0.4444444444444444, \"#bd3786\"], [0.5555555555555556, \"#d8576b\"], [0.6666666666666666, \"#ed7953\"], [0.7777777777777778, \"#fb9f3a\"], [0.8888888888888888, \"#fdca26\"], [1.0, \"#f0f921\"]], \"type\": \"surface\"}], \"table\": [{\"cells\": {\"fill\": {\"color\": \"#EBF0F8\"}, \"line\": {\"color\": \"white\"}}, \"header\": {\"fill\": {\"color\": \"#C8D4E3\"}, \"line\": {\"color\": \"white\"}}, \"type\": \"table\"}]}, \"layout\": {\"annotationdefaults\": {\"arrowcolor\": \"#2a3f5f\", \"arrowhead\": 0, \"arrowwidth\": 1}, \"autotypenumbers\": \"strict\", \"coloraxis\": {\"colorbar\": {\"outlinewidth\": 0, \"ticks\": \"\"}}, \"colorscale\": {\"diverging\": [[0, \"#8e0152\"], [0.1, \"#c51b7d\"], [0.2, \"#de77ae\"], [0.3, \"#f1b6da\"], [0.4, \"#fde0ef\"], [0.5, \"#f7f7f7\"], [0.6, \"#e6f5d0\"], [0.7, \"#b8e186\"], [0.8, \"#7fbc41\"], [0.9, \"#4d9221\"], [1, \"#276419\"]], \"sequential\": [[0.0, \"#0d0887\"], [0.1111111111111111, \"#46039f\"], [0.2222222222222222, \"#7201a8\"], [0.3333333333333333, \"#9c179e\"], [0.4444444444444444, \"#bd3786\"], [0.5555555555555556, \"#d8576b\"], [0.6666666666666666, \"#ed7953\"], [0.7777777777777778, \"#fb9f3a\"], [0.8888888888888888, \"#fdca26\"], [1.0, \"#f0f921\"]], \"sequentialminus\": [[0.0, \"#0d0887\"], [0.1111111111111111, \"#46039f\"], [0.2222222222222222, \"#7201a8\"], [0.3333333333333333, \"#9c179e\"], [0.4444444444444444, \"#bd3786\"], [0.5555555555555556, \"#d8576b\"], [0.6666666666666666, \"#ed7953\"], [0.7777777777777778, \"#fb9f3a\"], [0.8888888888888888, \"#fdca26\"], [1.0, \"#f0f921\"]]}, \"colorway\": [\"#636efa\", \"#EF553B\", \"#00cc96\", \"#ab63fa\", \"#FFA15A\", \"#19d3f3\", \"#FF6692\", \"#B6E880\", \"#FF97FF\", \"#FECB52\"], \"font\": {\"color\": \"#2a3f5f\"}, \"geo\": {\"bgcolor\": \"white\", \"lakecolor\": \"white\", \"landcolor\": \"#E5ECF6\", \"showlakes\": true, \"showland\": true, \"subunitcolor\": \"white\"}, \"hoverlabel\": {\"align\": \"left\"}, \"hovermode\": \"closest\", \"mapbox\": {\"style\": \"light\"}, \"paper_bgcolor\": \"white\", \"plot_bgcolor\": \"#E5ECF6\", \"polar\": {\"angularaxis\": {\"gridcolor\": \"white\", \"linecolor\": \"white\", \"ticks\": \"\"}, \"bgcolor\": \"#E5ECF6\", \"radialaxis\": {\"gridcolor\": \"white\", \"linecolor\": \"white\", \"ticks\": \"\"}}, \"scene\": {\"xaxis\": {\"backgroundcolor\": \"#E5ECF6\", \"gridcolor\": \"white\", \"gridwidth\": 2, \"linecolor\": \"white\", \"showbackground\": true, \"ticks\": \"\", \"zerolinecolor\": \"white\"}, \"yaxis\": {\"backgroundcolor\": \"#E5ECF6\", \"gridcolor\": \"white\", \"gridwidth\": 2, \"linecolor\": \"white\", \"showbackground\": true, \"ticks\": \"\", \"zerolinecolor\": \"white\"}, \"zaxis\": {\"backgroundcolor\": \"#E5ECF6\", \"gridcolor\": \"white\", \"gridwidth\": 2, \"linecolor\": \"white\", \"showbackground\": true, \"ticks\": \"\", \"zerolinecolor\": \"white\"}}, \"shapedefaults\": {\"line\": {\"color\": \"#2a3f5f\"}}, \"ternary\": {\"aaxis\": {\"gridcolor\": \"white\", \"linecolor\": \"white\", \"ticks\": \"\"}, \"baxis\": {\"gridcolor\": \"white\", \"linecolor\": \"white\", \"ticks\": \"\"}, \"bgcolor\": \"#E5ECF6\", \"caxis\": {\"gridcolor\": \"white\", \"linecolor\": \"white\", \"ticks\": \"\"}}, \"title\": {\"x\": 0.05}, \"xaxis\": {\"automargin\": true, \"gridcolor\": \"white\", \"linecolor\": \"white\", \"ticks\": \"\", \"title\": {\"standoff\": 15}, \"zerolinecolor\": \"white\", \"zerolinewidth\": 2}, \"yaxis\": {\"automargin\": true, \"gridcolor\": \"white\", \"linecolor\": \"white\", \"ticks\": \"\", \"title\": {\"standoff\": 15}, \"zerolinecolor\": \"white\", \"zerolinewidth\": 2}}}, \"title\": {\"text\": \"2D Data Repersentation Space\"}, \"xaxis\": {\"range\": [0, 12], \"title\": {\"text\": \"x1\"}}, \"yaxis\": {\"range\": [0, 12], \"title\": {\"text\": \"x2\"}}},                        {\"responsive\": true}                    ).then(function(){\n",
       "                            \n",
       "var gd = document.getElementById('98d5271e-3e8a-4f95-984b-2a0a0ef391c2');\n",
       "var x = new MutationObserver(function (mutations, observer) {{\n",
       "        var display = window.getComputedStyle(gd).display;\n",
       "        if (!display || display === 'none') {{\n",
       "            console.log([gd, 'removed!']);\n",
       "            Plotly.purge(gd);\n",
       "            observer.disconnect();\n",
       "        }}\n",
       "}});\n",
       "\n",
       "// Listen for the removal of the full notebook cells\n",
       "var notebookContainer = gd.closest('#notebook-container');\n",
       "if (notebookContainer) {{\n",
       "    x.observe(notebookContainer, {childList: true});\n",
       "}}\n",
       "\n",
       "// Listen for the clearing of the current output cell\n",
       "var outputEl = gd.closest('.output');\n",
       "if (outputEl) {{\n",
       "    x.observe(outputEl, {childList: true});\n",
       "}}\n",
       "\n",
       "                        })                };                });            </script>        </div>"
      ]
     },
     "metadata": {},
     "output_type": "display_data"
    },
    {
     "data": {
      "application/vnd.plotly.v1+json": {
       "config": {
        "linkText": "Export to plot.ly",
        "plotlyServerURL": "https://plot.ly",
        "showLink": false
       },
       "data": [
        {
         "mode": "markers",
         "type": "scatter",
         "x": [
          2,
          2.163265306122449,
          2.326530612244898,
          2.489795918367347,
          2.6530612244897958,
          2.816326530612245,
          2.979591836734694,
          3.142857142857143,
          3.3061224489795915,
          3.4693877551020407,
          3.63265306122449,
          3.7959183673469385,
          3.9591836734693877,
          4.122448979591836,
          4.285714285714286,
          4.448979591836734,
          4.612244897959183,
          4.775510204081632,
          4.938775510204081,
          5.1020408163265305,
          5.26530612244898,
          5.428571428571429,
          5.591836734693877,
          5.755102040816326,
          5.918367346938775,
          6.081632653061225,
          6.244897959183673,
          6.408163265306122,
          6.571428571428571,
          6.73469387755102,
          6.897959183673469,
          7.061224489795918,
          7.224489795918367,
          7.387755102040816,
          7.551020408163265,
          7.7142857142857135,
          7.877551020408163,
          8.040816326530612,
          8.204081632653061,
          8.367346938775508,
          8.53061224489796,
          8.693877551020407,
          8.857142857142858,
          9.020408163265305,
          9.183673469387754,
          9.346938775510203,
          9.510204081632653,
          9.673469387755102,
          9.83673469387755,
          10
         ],
         "y": [
          2,
          2.163265306122449,
          2.326530612244898,
          2.489795918367347,
          2.6530612244897958,
          2.816326530612245,
          2.979591836734694,
          3.142857142857143,
          3.3061224489795915,
          3.4693877551020407,
          3.63265306122449,
          3.7959183673469385,
          3.9591836734693877,
          4.122448979591836,
          4.285714285714286,
          4.448979591836734,
          4.612244897959183,
          4.775510204081632,
          4.938775510204081,
          5.1020408163265305,
          5.26530612244898,
          5.428571428571429,
          5.591836734693877,
          5.755102040816326,
          5.918367346938775,
          6.081632653061225,
          6.244897959183673,
          6.408163265306122,
          6.571428571428571,
          6.73469387755102,
          6.897959183673469,
          7.061224489795918,
          7.224489795918367,
          7.387755102040816,
          7.551020408163265,
          7.7142857142857135,
          7.877551020408163,
          8.040816326530612,
          8.204081632653061,
          8.367346938775508,
          8.53061224489796,
          8.693877551020407,
          8.857142857142858,
          9.020408163265305,
          9.183673469387754,
          9.346938775510203,
          9.510204081632653,
          9.673469387755102,
          9.83673469387755,
          10
         ]
        },
        {
         "mode": "lines",
         "type": "scatter",
         "x": [
          2,
          2.163265306122449,
          2.326530612244898,
          2.489795918367347,
          2.6530612244897958,
          2.816326530612245,
          2.979591836734694,
          3.142857142857143,
          3.3061224489795915,
          3.4693877551020407,
          3.63265306122449,
          3.7959183673469385,
          3.9591836734693877,
          4.122448979591836,
          4.285714285714286,
          4.448979591836734,
          4.612244897959183,
          4.775510204081632,
          4.938775510204081,
          5.1020408163265305,
          5.26530612244898,
          5.428571428571429,
          5.591836734693877,
          5.755102040816326,
          5.918367346938775,
          6.081632653061225,
          6.244897959183673,
          6.408163265306122,
          6.571428571428571,
          6.73469387755102,
          6.897959183673469,
          7.061224489795918,
          7.224489795918367,
          7.387755102040816,
          7.551020408163265,
          7.7142857142857135,
          7.877551020408163,
          8.040816326530612,
          8.204081632653061,
          8.367346938775508,
          8.53061224489796,
          8.693877551020407,
          8.857142857142858,
          9.020408163265305,
          9.183673469387754,
          9.346938775510203,
          9.510204081632653,
          9.673469387755102,
          9.83673469387755,
          10
         ],
         "y": [
          2,
          2.163265306122449,
          2.326530612244898,
          2.489795918367347,
          2.6530612244897958,
          2.816326530612245,
          2.979591836734694,
          3.142857142857143,
          3.3061224489795915,
          3.4693877551020407,
          3.63265306122449,
          3.7959183673469385,
          3.9591836734693877,
          4.122448979591836,
          4.285714285714286,
          4.448979591836734,
          4.612244897959183,
          4.775510204081632,
          4.938775510204081,
          5.1020408163265305,
          5.26530612244898,
          5.428571428571429,
          5.591836734693877,
          5.755102040816326,
          5.918367346938775,
          6.081632653061225,
          6.244897959183673,
          6.408163265306122,
          6.571428571428571,
          6.73469387755102,
          6.897959183673469,
          7.061224489795918,
          7.224489795918367,
          7.387755102040816,
          7.551020408163265,
          7.7142857142857135,
          7.877551020408163,
          8.040816326530612,
          8.204081632653061,
          8.367346938775508,
          8.53061224489796,
          8.693877551020407,
          8.857142857142858,
          9.020408163265305,
          9.183673469387754,
          9.346938775510203,
          9.510204081632653,
          9.673469387755102,
          9.83673469387755,
          10
         ]
        },
        {
         "mode": "lines",
         "type": "scatter",
         "x": [
          2,
          2.163265306122449,
          2.326530612244898,
          2.489795918367347,
          2.6530612244897958,
          2.816326530612245,
          2.979591836734694,
          3.142857142857143,
          3.3061224489795915,
          3.4693877551020407,
          3.63265306122449,
          3.7959183673469385,
          3.9591836734693877,
          4.122448979591836,
          4.285714285714286,
          4.448979591836734,
          4.612244897959183,
          4.775510204081632,
          4.938775510204081,
          5.1020408163265305,
          5.26530612244898,
          5.428571428571429,
          5.591836734693877,
          5.755102040816326,
          5.918367346938775,
          6.081632653061225,
          6.244897959183673,
          6.408163265306122,
          6.571428571428571,
          6.73469387755102,
          6.897959183673469,
          7.061224489795918,
          7.224489795918367,
          7.387755102040816,
          7.551020408163265,
          7.7142857142857135,
          7.877551020408163,
          8.040816326530612,
          8.204081632653061,
          8.367346938775508,
          8.53061224489796,
          8.693877551020407,
          8.857142857142858,
          9.020408163265305,
          9.183673469387754,
          9.346938775510203,
          9.510204081632653,
          9.673469387755102,
          9.83673469387755,
          10
         ],
         "y": [
          2,
          2,
          2,
          2,
          2,
          2,
          2,
          2,
          2,
          2,
          2,
          2,
          2,
          2,
          2,
          2,
          2,
          2,
          2,
          2,
          2,
          2,
          2,
          2,
          2,
          2,
          2,
          2,
          2,
          2,
          2,
          2,
          2,
          2,
          2,
          2,
          2,
          2,
          2,
          2,
          2,
          2,
          2,
          2,
          2,
          2,
          2,
          2,
          2,
          2,
          2,
          2,
          2,
          2,
          2,
          2,
          2,
          2,
          2,
          2,
          2,
          2,
          2,
          2,
          2,
          2,
          2,
          2,
          2,
          2,
          2,
          2,
          2,
          2,
          2,
          2,
          2,
          2,
          2,
          2,
          2,
          2,
          2,
          2,
          2,
          2,
          2,
          2,
          2,
          2,
          2,
          2,
          2,
          2,
          2,
          2,
          2,
          2,
          2,
          2
         ]
        },
        {
         "mode": "lines",
         "type": "scatter",
         "x": [
          2.6530612244897958,
          2.816326530612245,
          2.979591836734694,
          3.142857142857143,
          3.3061224489795915,
          3.4693877551020407,
          3.63265306122449,
          3.7959183673469385,
          3.9591836734693877,
          4.122448979591836,
          4.285714285714286,
          4.448979591836734,
          4.612244897959183,
          4.775510204081632,
          4.938775510204081,
          5.1020408163265305,
          5.26530612244898,
          5.428571428571429,
          5.591836734693877,
          5.755102040816326
         ],
         "y": [
          3.6530612244897958,
          3.816326530612245,
          3.979591836734694,
          4.142857142857142,
          4.3061224489795915,
          4.469387755102041,
          4.63265306122449,
          4.795918367346939,
          4.959183673469388,
          5.122448979591836,
          5.285714285714286,
          5.448979591836734,
          5.612244897959183,
          5.775510204081632,
          5.938775510204081,
          6.1020408163265305,
          6.26530612244898,
          6.428571428571429,
          6.591836734693877,
          6.755102040816326,
          6.918367346938775,
          7.081632653061225,
          7.244897959183673,
          7.408163265306122,
          7.571428571428571,
          7.73469387755102,
          7.897959183673469,
          8.061224489795919,
          8.224489795918366,
          8.387755102040817,
          8.551020408163264,
          8.714285714285714,
          8.877551020408163,
          9.040816326530612,
          9.204081632653061,
          9.367346938775508,
          9.53061224489796,
          9.693877551020407,
          9.857142857142858,
          10.020408163265305,
          10.183673469387754,
          10.346938775510203,
          10.510204081632653,
          10.673469387755102,
          10.83673469387755,
          11
         ]
        }
       ],
       "layout": {
        "annotations": [
         {
          "align": "center",
          "arrowcolor": "#636363",
          "arrowhead": 2,
          "arrowsize": 1,
          "arrowwidth": 2,
          "ax": 20,
          "ay": -30,
          "bgcolor": "orange",
          "bordercolor": "#c7c7c7",
          "borderpad": 4,
          "borderwidth": 2,
          "opacity": 0.8,
          "showarrow": true,
          "text": "A",
          "x": 2,
          "xref": "x",
          "y": 2,
          "yref": "y"
         },
         {
          "align": "center",
          "arrowcolor": "#636363",
          "arrowhead": 2,
          "arrowsize": 1,
          "arrowwidth": 2,
          "ax": 20,
          "ay": -30,
          "bgcolor": "yellow",
          "bordercolor": "#c7c7c7",
          "borderpad": 4,
          "borderwidth": 2,
          "opacity": 0.8,
          "showarrow": true,
          "text": "B",
          "x": 6,
          "xref": "x",
          "y": 6,
          "yref": "y"
         },
         {
          "ay": -40,
          "text": "d",
          "x": 4,
          "xref": "x",
          "y": 5,
          "yref": "y"
         },
         {
          "ax": 80,
          "ay": -10,
          "text": "angle L",
          "x": 2,
          "xref": "x",
          "y": 2,
          "yref": "y"
         }
        ],
        "height": 400,
        "showlegend": false,
        "template": {
         "data": {
          "bar": [
           {
            "error_x": {
             "color": "#2a3f5f"
            },
            "error_y": {
             "color": "#2a3f5f"
            },
            "marker": {
             "line": {
              "color": "#E5ECF6",
              "width": 0.5
             }
            },
            "type": "bar"
           }
          ],
          "barpolar": [
           {
            "marker": {
             "line": {
              "color": "#E5ECF6",
              "width": 0.5
             }
            },
            "type": "barpolar"
           }
          ],
          "carpet": [
           {
            "aaxis": {
             "endlinecolor": "#2a3f5f",
             "gridcolor": "white",
             "linecolor": "white",
             "minorgridcolor": "white",
             "startlinecolor": "#2a3f5f"
            },
            "baxis": {
             "endlinecolor": "#2a3f5f",
             "gridcolor": "white",
             "linecolor": "white",
             "minorgridcolor": "white",
             "startlinecolor": "#2a3f5f"
            },
            "type": "carpet"
           }
          ],
          "choropleth": [
           {
            "colorbar": {
             "outlinewidth": 0,
             "ticks": ""
            },
            "type": "choropleth"
           }
          ],
          "contour": [
           {
            "colorbar": {
             "outlinewidth": 0,
             "ticks": ""
            },
            "colorscale": [
             [
              0,
              "#0d0887"
             ],
             [
              0.1111111111111111,
              "#46039f"
             ],
             [
              0.2222222222222222,
              "#7201a8"
             ],
             [
              0.3333333333333333,
              "#9c179e"
             ],
             [
              0.4444444444444444,
              "#bd3786"
             ],
             [
              0.5555555555555556,
              "#d8576b"
             ],
             [
              0.6666666666666666,
              "#ed7953"
             ],
             [
              0.7777777777777778,
              "#fb9f3a"
             ],
             [
              0.8888888888888888,
              "#fdca26"
             ],
             [
              1,
              "#f0f921"
             ]
            ],
            "type": "contour"
           }
          ],
          "contourcarpet": [
           {
            "colorbar": {
             "outlinewidth": 0,
             "ticks": ""
            },
            "type": "contourcarpet"
           }
          ],
          "heatmap": [
           {
            "colorbar": {
             "outlinewidth": 0,
             "ticks": ""
            },
            "colorscale": [
             [
              0,
              "#0d0887"
             ],
             [
              0.1111111111111111,
              "#46039f"
             ],
             [
              0.2222222222222222,
              "#7201a8"
             ],
             [
              0.3333333333333333,
              "#9c179e"
             ],
             [
              0.4444444444444444,
              "#bd3786"
             ],
             [
              0.5555555555555556,
              "#d8576b"
             ],
             [
              0.6666666666666666,
              "#ed7953"
             ],
             [
              0.7777777777777778,
              "#fb9f3a"
             ],
             [
              0.8888888888888888,
              "#fdca26"
             ],
             [
              1,
              "#f0f921"
             ]
            ],
            "type": "heatmap"
           }
          ],
          "heatmapgl": [
           {
            "colorbar": {
             "outlinewidth": 0,
             "ticks": ""
            },
            "colorscale": [
             [
              0,
              "#0d0887"
             ],
             [
              0.1111111111111111,
              "#46039f"
             ],
             [
              0.2222222222222222,
              "#7201a8"
             ],
             [
              0.3333333333333333,
              "#9c179e"
             ],
             [
              0.4444444444444444,
              "#bd3786"
             ],
             [
              0.5555555555555556,
              "#d8576b"
             ],
             [
              0.6666666666666666,
              "#ed7953"
             ],
             [
              0.7777777777777778,
              "#fb9f3a"
             ],
             [
              0.8888888888888888,
              "#fdca26"
             ],
             [
              1,
              "#f0f921"
             ]
            ],
            "type": "heatmapgl"
           }
          ],
          "histogram": [
           {
            "marker": {
             "colorbar": {
              "outlinewidth": 0,
              "ticks": ""
             }
            },
            "type": "histogram"
           }
          ],
          "histogram2d": [
           {
            "colorbar": {
             "outlinewidth": 0,
             "ticks": ""
            },
            "colorscale": [
             [
              0,
              "#0d0887"
             ],
             [
              0.1111111111111111,
              "#46039f"
             ],
             [
              0.2222222222222222,
              "#7201a8"
             ],
             [
              0.3333333333333333,
              "#9c179e"
             ],
             [
              0.4444444444444444,
              "#bd3786"
             ],
             [
              0.5555555555555556,
              "#d8576b"
             ],
             [
              0.6666666666666666,
              "#ed7953"
             ],
             [
              0.7777777777777778,
              "#fb9f3a"
             ],
             [
              0.8888888888888888,
              "#fdca26"
             ],
             [
              1,
              "#f0f921"
             ]
            ],
            "type": "histogram2d"
           }
          ],
          "histogram2dcontour": [
           {
            "colorbar": {
             "outlinewidth": 0,
             "ticks": ""
            },
            "colorscale": [
             [
              0,
              "#0d0887"
             ],
             [
              0.1111111111111111,
              "#46039f"
             ],
             [
              0.2222222222222222,
              "#7201a8"
             ],
             [
              0.3333333333333333,
              "#9c179e"
             ],
             [
              0.4444444444444444,
              "#bd3786"
             ],
             [
              0.5555555555555556,
              "#d8576b"
             ],
             [
              0.6666666666666666,
              "#ed7953"
             ],
             [
              0.7777777777777778,
              "#fb9f3a"
             ],
             [
              0.8888888888888888,
              "#fdca26"
             ],
             [
              1,
              "#f0f921"
             ]
            ],
            "type": "histogram2dcontour"
           }
          ],
          "mesh3d": [
           {
            "colorbar": {
             "outlinewidth": 0,
             "ticks": ""
            },
            "type": "mesh3d"
           }
          ],
          "parcoords": [
           {
            "line": {
             "colorbar": {
              "outlinewidth": 0,
              "ticks": ""
             }
            },
            "type": "parcoords"
           }
          ],
          "pie": [
           {
            "automargin": true,
            "type": "pie"
           }
          ],
          "scatter": [
           {
            "marker": {
             "colorbar": {
              "outlinewidth": 0,
              "ticks": ""
             }
            },
            "type": "scatter"
           }
          ],
          "scatter3d": [
           {
            "line": {
             "colorbar": {
              "outlinewidth": 0,
              "ticks": ""
             }
            },
            "marker": {
             "colorbar": {
              "outlinewidth": 0,
              "ticks": ""
             }
            },
            "type": "scatter3d"
           }
          ],
          "scattercarpet": [
           {
            "marker": {
             "colorbar": {
              "outlinewidth": 0,
              "ticks": ""
             }
            },
            "type": "scattercarpet"
           }
          ],
          "scattergeo": [
           {
            "marker": {
             "colorbar": {
              "outlinewidth": 0,
              "ticks": ""
             }
            },
            "type": "scattergeo"
           }
          ],
          "scattergl": [
           {
            "marker": {
             "colorbar": {
              "outlinewidth": 0,
              "ticks": ""
             }
            },
            "type": "scattergl"
           }
          ],
          "scattermapbox": [
           {
            "marker": {
             "colorbar": {
              "outlinewidth": 0,
              "ticks": ""
             }
            },
            "type": "scattermapbox"
           }
          ],
          "scatterpolar": [
           {
            "marker": {
             "colorbar": {
              "outlinewidth": 0,
              "ticks": ""
             }
            },
            "type": "scatterpolar"
           }
          ],
          "scatterpolargl": [
           {
            "marker": {
             "colorbar": {
              "outlinewidth": 0,
              "ticks": ""
             }
            },
            "type": "scatterpolargl"
           }
          ],
          "scatterternary": [
           {
            "marker": {
             "colorbar": {
              "outlinewidth": 0,
              "ticks": ""
             }
            },
            "type": "scatterternary"
           }
          ],
          "surface": [
           {
            "colorbar": {
             "outlinewidth": 0,
             "ticks": ""
            },
            "colorscale": [
             [
              0,
              "#0d0887"
             ],
             [
              0.1111111111111111,
              "#46039f"
             ],
             [
              0.2222222222222222,
              "#7201a8"
             ],
             [
              0.3333333333333333,
              "#9c179e"
             ],
             [
              0.4444444444444444,
              "#bd3786"
             ],
             [
              0.5555555555555556,
              "#d8576b"
             ],
             [
              0.6666666666666666,
              "#ed7953"
             ],
             [
              0.7777777777777778,
              "#fb9f3a"
             ],
             [
              0.8888888888888888,
              "#fdca26"
             ],
             [
              1,
              "#f0f921"
             ]
            ],
            "type": "surface"
           }
          ],
          "table": [
           {
            "cells": {
             "fill": {
              "color": "#EBF0F8"
             },
             "line": {
              "color": "white"
             }
            },
            "header": {
             "fill": {
              "color": "#C8D4E3"
             },
             "line": {
              "color": "white"
             }
            },
            "type": "table"
           }
          ]
         },
         "layout": {
          "annotationdefaults": {
           "arrowcolor": "#2a3f5f",
           "arrowhead": 0,
           "arrowwidth": 1
          },
          "autotypenumbers": "strict",
          "coloraxis": {
           "colorbar": {
            "outlinewidth": 0,
            "ticks": ""
           }
          },
          "colorscale": {
           "diverging": [
            [
             0,
             "#8e0152"
            ],
            [
             0.1,
             "#c51b7d"
            ],
            [
             0.2,
             "#de77ae"
            ],
            [
             0.3,
             "#f1b6da"
            ],
            [
             0.4,
             "#fde0ef"
            ],
            [
             0.5,
             "#f7f7f7"
            ],
            [
             0.6,
             "#e6f5d0"
            ],
            [
             0.7,
             "#b8e186"
            ],
            [
             0.8,
             "#7fbc41"
            ],
            [
             0.9,
             "#4d9221"
            ],
            [
             1,
             "#276419"
            ]
           ],
           "sequential": [
            [
             0,
             "#0d0887"
            ],
            [
             0.1111111111111111,
             "#46039f"
            ],
            [
             0.2222222222222222,
             "#7201a8"
            ],
            [
             0.3333333333333333,
             "#9c179e"
            ],
            [
             0.4444444444444444,
             "#bd3786"
            ],
            [
             0.5555555555555556,
             "#d8576b"
            ],
            [
             0.6666666666666666,
             "#ed7953"
            ],
            [
             0.7777777777777778,
             "#fb9f3a"
            ],
            [
             0.8888888888888888,
             "#fdca26"
            ],
            [
             1,
             "#f0f921"
            ]
           ],
           "sequentialminus": [
            [
             0,
             "#0d0887"
            ],
            [
             0.1111111111111111,
             "#46039f"
            ],
            [
             0.2222222222222222,
             "#7201a8"
            ],
            [
             0.3333333333333333,
             "#9c179e"
            ],
            [
             0.4444444444444444,
             "#bd3786"
            ],
            [
             0.5555555555555556,
             "#d8576b"
            ],
            [
             0.6666666666666666,
             "#ed7953"
            ],
            [
             0.7777777777777778,
             "#fb9f3a"
            ],
            [
             0.8888888888888888,
             "#fdca26"
            ],
            [
             1,
             "#f0f921"
            ]
           ]
          },
          "colorway": [
           "#636efa",
           "#EF553B",
           "#00cc96",
           "#ab63fa",
           "#FFA15A",
           "#19d3f3",
           "#FF6692",
           "#B6E880",
           "#FF97FF",
           "#FECB52"
          ],
          "font": {
           "color": "#2a3f5f"
          },
          "geo": {
           "bgcolor": "white",
           "lakecolor": "white",
           "landcolor": "#E5ECF6",
           "showlakes": true,
           "showland": true,
           "subunitcolor": "white"
          },
          "hoverlabel": {
           "align": "left"
          },
          "hovermode": "closest",
          "mapbox": {
           "style": "light"
          },
          "paper_bgcolor": "white",
          "plot_bgcolor": "#E5ECF6",
          "polar": {
           "angularaxis": {
            "gridcolor": "white",
            "linecolor": "white",
            "ticks": ""
           },
           "bgcolor": "#E5ECF6",
           "radialaxis": {
            "gridcolor": "white",
            "linecolor": "white",
            "ticks": ""
           }
          },
          "scene": {
           "xaxis": {
            "backgroundcolor": "#E5ECF6",
            "gridcolor": "white",
            "gridwidth": 2,
            "linecolor": "white",
            "showbackground": true,
            "ticks": "",
            "zerolinecolor": "white"
           },
           "yaxis": {
            "backgroundcolor": "#E5ECF6",
            "gridcolor": "white",
            "gridwidth": 2,
            "linecolor": "white",
            "showbackground": true,
            "ticks": "",
            "zerolinecolor": "white"
           },
           "zaxis": {
            "backgroundcolor": "#E5ECF6",
            "gridcolor": "white",
            "gridwidth": 2,
            "linecolor": "white",
            "showbackground": true,
            "ticks": "",
            "zerolinecolor": "white"
           }
          },
          "shapedefaults": {
           "line": {
            "color": "#2a3f5f"
           }
          },
          "ternary": {
           "aaxis": {
            "gridcolor": "white",
            "linecolor": "white",
            "ticks": ""
           },
           "baxis": {
            "gridcolor": "white",
            "linecolor": "white",
            "ticks": ""
           },
           "bgcolor": "#E5ECF6",
           "caxis": {
            "gridcolor": "white",
            "linecolor": "white",
            "ticks": ""
           }
          },
          "title": {
           "x": 0.05
          },
          "xaxis": {
           "automargin": true,
           "gridcolor": "white",
           "linecolor": "white",
           "ticks": "",
           "title": {
            "standoff": 15
           },
           "zerolinecolor": "white",
           "zerolinewidth": 2
          },
          "yaxis": {
           "automargin": true,
           "gridcolor": "white",
           "linecolor": "white",
           "ticks": "",
           "title": {
            "standoff": 15
           },
           "zerolinecolor": "white",
           "zerolinewidth": 2
          }
         }
        },
        "title": {
         "text": "Latent Distance View Space"
        },
        "xaxis": {
         "range": [
          1.5,
          12
         ],
         "title": {
          "text": "u1"
         }
        },
        "yaxis": {
         "range": [
          1.5,
          12
         ],
         "title": {
          "text": "u2"
         }
        }
       }
      },
      "text/html": [
       "<div>                            <div id=\"6358d5de-81e6-41c9-805f-c6cb53631bf2\" class=\"plotly-graph-div\" style=\"height:400px; width:100%;\"></div>            <script type=\"text/javascript\">                require([\"plotly\"], function(Plotly) {                    window.PLOTLYENV=window.PLOTLYENV || {};                                    if (document.getElementById(\"6358d5de-81e6-41c9-805f-c6cb53631bf2\")) {                    Plotly.newPlot(                        \"6358d5de-81e6-41c9-805f-c6cb53631bf2\",                        [{\"mode\": \"markers\", \"type\": \"scatter\", \"x\": [2.0, 2.163265306122449, 2.326530612244898, 2.489795918367347, 2.6530612244897958, 2.816326530612245, 2.979591836734694, 3.142857142857143, 3.3061224489795915, 3.4693877551020407, 3.63265306122449, 3.7959183673469385, 3.9591836734693877, 4.122448979591836, 4.285714285714286, 4.448979591836734, 4.612244897959183, 4.775510204081632, 4.938775510204081, 5.1020408163265305, 5.26530612244898, 5.428571428571429, 5.591836734693877, 5.755102040816326, 5.918367346938775, 6.081632653061225, 6.244897959183673, 6.408163265306122, 6.571428571428571, 6.73469387755102, 6.897959183673469, 7.061224489795918, 7.224489795918367, 7.387755102040816, 7.551020408163265, 7.7142857142857135, 7.877551020408163, 8.040816326530612, 8.204081632653061, 8.367346938775508, 8.53061224489796, 8.693877551020407, 8.857142857142858, 9.020408163265305, 9.183673469387754, 9.346938775510203, 9.510204081632653, 9.673469387755102, 9.83673469387755, 10.0], \"y\": [2.0, 2.163265306122449, 2.326530612244898, 2.489795918367347, 2.6530612244897958, 2.816326530612245, 2.979591836734694, 3.142857142857143, 3.3061224489795915, 3.4693877551020407, 3.63265306122449, 3.7959183673469385, 3.9591836734693877, 4.122448979591836, 4.285714285714286, 4.448979591836734, 4.612244897959183, 4.775510204081632, 4.938775510204081, 5.1020408163265305, 5.26530612244898, 5.428571428571429, 5.591836734693877, 5.755102040816326, 5.918367346938775, 6.081632653061225, 6.244897959183673, 6.408163265306122, 6.571428571428571, 6.73469387755102, 6.897959183673469, 7.061224489795918, 7.224489795918367, 7.387755102040816, 7.551020408163265, 7.7142857142857135, 7.877551020408163, 8.040816326530612, 8.204081632653061, 8.367346938775508, 8.53061224489796, 8.693877551020407, 8.857142857142858, 9.020408163265305, 9.183673469387754, 9.346938775510203, 9.510204081632653, 9.673469387755102, 9.83673469387755, 10.0]}, {\"mode\": \"lines\", \"type\": \"scatter\", \"x\": [2.0, 2.163265306122449, 2.326530612244898, 2.489795918367347, 2.6530612244897958, 2.816326530612245, 2.979591836734694, 3.142857142857143, 3.3061224489795915, 3.4693877551020407, 3.63265306122449, 3.7959183673469385, 3.9591836734693877, 4.122448979591836, 4.285714285714286, 4.448979591836734, 4.612244897959183, 4.775510204081632, 4.938775510204081, 5.1020408163265305, 5.26530612244898, 5.428571428571429, 5.591836734693877, 5.755102040816326, 5.918367346938775, 6.081632653061225, 6.244897959183673, 6.408163265306122, 6.571428571428571, 6.73469387755102, 6.897959183673469, 7.061224489795918, 7.224489795918367, 7.387755102040816, 7.551020408163265, 7.7142857142857135, 7.877551020408163, 8.040816326530612, 8.204081632653061, 8.367346938775508, 8.53061224489796, 8.693877551020407, 8.857142857142858, 9.020408163265305, 9.183673469387754, 9.346938775510203, 9.510204081632653, 9.673469387755102, 9.83673469387755, 10.0], \"y\": [2.0, 2.163265306122449, 2.326530612244898, 2.489795918367347, 2.6530612244897958, 2.816326530612245, 2.979591836734694, 3.142857142857143, 3.3061224489795915, 3.4693877551020407, 3.63265306122449, 3.7959183673469385, 3.9591836734693877, 4.122448979591836, 4.285714285714286, 4.448979591836734, 4.612244897959183, 4.775510204081632, 4.938775510204081, 5.1020408163265305, 5.26530612244898, 5.428571428571429, 5.591836734693877, 5.755102040816326, 5.918367346938775, 6.081632653061225, 6.244897959183673, 6.408163265306122, 6.571428571428571, 6.73469387755102, 6.897959183673469, 7.061224489795918, 7.224489795918367, 7.387755102040816, 7.551020408163265, 7.7142857142857135, 7.877551020408163, 8.040816326530612, 8.204081632653061, 8.367346938775508, 8.53061224489796, 8.693877551020407, 8.857142857142858, 9.020408163265305, 9.183673469387754, 9.346938775510203, 9.510204081632653, 9.673469387755102, 9.83673469387755, 10.0]}, {\"mode\": \"lines\", \"type\": \"scatter\", \"x\": [2.0, 2.163265306122449, 2.326530612244898, 2.489795918367347, 2.6530612244897958, 2.816326530612245, 2.979591836734694, 3.142857142857143, 3.3061224489795915, 3.4693877551020407, 3.63265306122449, 3.7959183673469385, 3.9591836734693877, 4.122448979591836, 4.285714285714286, 4.448979591836734, 4.612244897959183, 4.775510204081632, 4.938775510204081, 5.1020408163265305, 5.26530612244898, 5.428571428571429, 5.591836734693877, 5.755102040816326, 5.918367346938775, 6.081632653061225, 6.244897959183673, 6.408163265306122, 6.571428571428571, 6.73469387755102, 6.897959183673469, 7.061224489795918, 7.224489795918367, 7.387755102040816, 7.551020408163265, 7.7142857142857135, 7.877551020408163, 8.040816326530612, 8.204081632653061, 8.367346938775508, 8.53061224489796, 8.693877551020407, 8.857142857142858, 9.020408163265305, 9.183673469387754, 9.346938775510203, 9.510204081632653, 9.673469387755102, 9.83673469387755, 10.0], \"y\": [2, 2, 2, 2, 2, 2, 2, 2, 2, 2, 2, 2, 2, 2, 2, 2, 2, 2, 2, 2, 2, 2, 2, 2, 2, 2, 2, 2, 2, 2, 2, 2, 2, 2, 2, 2, 2, 2, 2, 2, 2, 2, 2, 2, 2, 2, 2, 2, 2, 2, 2, 2, 2, 2, 2, 2, 2, 2, 2, 2, 2, 2, 2, 2, 2, 2, 2, 2, 2, 2, 2, 2, 2, 2, 2, 2, 2, 2, 2, 2, 2, 2, 2, 2, 2, 2, 2, 2, 2, 2, 2, 2, 2, 2, 2, 2, 2, 2, 2, 2]}, {\"mode\": \"lines\", \"type\": \"scatter\", \"x\": [2.6530612244897958, 2.816326530612245, 2.979591836734694, 3.142857142857143, 3.3061224489795915, 3.4693877551020407, 3.63265306122449, 3.7959183673469385, 3.9591836734693877, 4.122448979591836, 4.285714285714286, 4.448979591836734, 4.612244897959183, 4.775510204081632, 4.938775510204081, 5.1020408163265305, 5.26530612244898, 5.428571428571429, 5.591836734693877, 5.755102040816326], \"y\": [3.6530612244897958, 3.816326530612245, 3.979591836734694, 4.142857142857142, 4.3061224489795915, 4.469387755102041, 4.63265306122449, 4.795918367346939, 4.959183673469388, 5.122448979591836, 5.285714285714286, 5.448979591836734, 5.612244897959183, 5.775510204081632, 5.938775510204081, 6.1020408163265305, 6.26530612244898, 6.428571428571429, 6.591836734693877, 6.755102040816326, 6.918367346938775, 7.081632653061225, 7.244897959183673, 7.408163265306122, 7.571428571428571, 7.73469387755102, 7.897959183673469, 8.061224489795919, 8.224489795918366, 8.387755102040817, 8.551020408163264, 8.714285714285714, 8.877551020408163, 9.040816326530612, 9.204081632653061, 9.367346938775508, 9.53061224489796, 9.693877551020407, 9.857142857142858, 10.020408163265305, 10.183673469387754, 10.346938775510203, 10.510204081632653, 10.673469387755102, 10.83673469387755, 11.0]}],                        {\"annotations\": [{\"align\": \"center\", \"arrowcolor\": \"#636363\", \"arrowhead\": 2, \"arrowsize\": 1, \"arrowwidth\": 2, \"ax\": 20, \"ay\": -30, \"bgcolor\": \"orange\", \"bordercolor\": \"#c7c7c7\", \"borderpad\": 4, \"borderwidth\": 2, \"opacity\": 0.8, \"showarrow\": true, \"text\": \"A\", \"x\": 2, \"xref\": \"x\", \"y\": 2, \"yref\": \"y\"}, {\"align\": \"center\", \"arrowcolor\": \"#636363\", \"arrowhead\": 2, \"arrowsize\": 1, \"arrowwidth\": 2, \"ax\": 20, \"ay\": -30, \"bgcolor\": \"yellow\", \"bordercolor\": \"#c7c7c7\", \"borderpad\": 4, \"borderwidth\": 2, \"opacity\": 0.8, \"showarrow\": true, \"text\": \"B\", \"x\": 6, \"xref\": \"x\", \"y\": 6, \"yref\": \"y\"}, {\"ay\": -40, \"text\": \"d\", \"x\": 4, \"xref\": \"x\", \"y\": 5, \"yref\": \"y\"}, {\"ax\": 80, \"ay\": -10, \"text\": \"angle L\", \"x\": 2, \"xref\": \"x\", \"y\": 2, \"yref\": \"y\"}], \"height\": 400, \"showlegend\": false, \"template\": {\"data\": {\"bar\": [{\"error_x\": {\"color\": \"#2a3f5f\"}, \"error_y\": {\"color\": \"#2a3f5f\"}, \"marker\": {\"line\": {\"color\": \"#E5ECF6\", \"width\": 0.5}}, \"type\": \"bar\"}], \"barpolar\": [{\"marker\": {\"line\": {\"color\": \"#E5ECF6\", \"width\": 0.5}}, \"type\": \"barpolar\"}], \"carpet\": [{\"aaxis\": {\"endlinecolor\": \"#2a3f5f\", \"gridcolor\": \"white\", \"linecolor\": \"white\", \"minorgridcolor\": \"white\", \"startlinecolor\": \"#2a3f5f\"}, \"baxis\": {\"endlinecolor\": \"#2a3f5f\", \"gridcolor\": \"white\", \"linecolor\": \"white\", \"minorgridcolor\": \"white\", \"startlinecolor\": \"#2a3f5f\"}, \"type\": \"carpet\"}], \"choropleth\": [{\"colorbar\": {\"outlinewidth\": 0, \"ticks\": \"\"}, \"type\": \"choropleth\"}], \"contour\": [{\"colorbar\": {\"outlinewidth\": 0, \"ticks\": \"\"}, \"colorscale\": [[0.0, \"#0d0887\"], [0.1111111111111111, \"#46039f\"], [0.2222222222222222, \"#7201a8\"], [0.3333333333333333, \"#9c179e\"], [0.4444444444444444, \"#bd3786\"], [0.5555555555555556, \"#d8576b\"], [0.6666666666666666, \"#ed7953\"], [0.7777777777777778, \"#fb9f3a\"], [0.8888888888888888, \"#fdca26\"], [1.0, \"#f0f921\"]], \"type\": \"contour\"}], \"contourcarpet\": [{\"colorbar\": {\"outlinewidth\": 0, \"ticks\": \"\"}, \"type\": \"contourcarpet\"}], \"heatmap\": [{\"colorbar\": {\"outlinewidth\": 0, \"ticks\": \"\"}, \"colorscale\": [[0.0, \"#0d0887\"], [0.1111111111111111, \"#46039f\"], [0.2222222222222222, \"#7201a8\"], [0.3333333333333333, \"#9c179e\"], [0.4444444444444444, \"#bd3786\"], [0.5555555555555556, \"#d8576b\"], [0.6666666666666666, \"#ed7953\"], [0.7777777777777778, \"#fb9f3a\"], [0.8888888888888888, \"#fdca26\"], [1.0, \"#f0f921\"]], \"type\": \"heatmap\"}], \"heatmapgl\": [{\"colorbar\": {\"outlinewidth\": 0, \"ticks\": \"\"}, \"colorscale\": [[0.0, \"#0d0887\"], [0.1111111111111111, \"#46039f\"], [0.2222222222222222, \"#7201a8\"], [0.3333333333333333, \"#9c179e\"], [0.4444444444444444, \"#bd3786\"], [0.5555555555555556, \"#d8576b\"], [0.6666666666666666, \"#ed7953\"], [0.7777777777777778, \"#fb9f3a\"], [0.8888888888888888, \"#fdca26\"], [1.0, \"#f0f921\"]], \"type\": \"heatmapgl\"}], \"histogram\": [{\"marker\": {\"colorbar\": {\"outlinewidth\": 0, \"ticks\": \"\"}}, \"type\": \"histogram\"}], \"histogram2d\": [{\"colorbar\": {\"outlinewidth\": 0, \"ticks\": \"\"}, \"colorscale\": [[0.0, \"#0d0887\"], [0.1111111111111111, \"#46039f\"], [0.2222222222222222, \"#7201a8\"], [0.3333333333333333, \"#9c179e\"], [0.4444444444444444, \"#bd3786\"], [0.5555555555555556, \"#d8576b\"], [0.6666666666666666, \"#ed7953\"], [0.7777777777777778, \"#fb9f3a\"], [0.8888888888888888, \"#fdca26\"], [1.0, \"#f0f921\"]], \"type\": \"histogram2d\"}], \"histogram2dcontour\": [{\"colorbar\": {\"outlinewidth\": 0, \"ticks\": \"\"}, \"colorscale\": [[0.0, \"#0d0887\"], [0.1111111111111111, \"#46039f\"], [0.2222222222222222, \"#7201a8\"], [0.3333333333333333, \"#9c179e\"], [0.4444444444444444, \"#bd3786\"], [0.5555555555555556, \"#d8576b\"], [0.6666666666666666, \"#ed7953\"], [0.7777777777777778, \"#fb9f3a\"], [0.8888888888888888, \"#fdca26\"], [1.0, \"#f0f921\"]], \"type\": \"histogram2dcontour\"}], \"mesh3d\": [{\"colorbar\": {\"outlinewidth\": 0, \"ticks\": \"\"}, \"type\": \"mesh3d\"}], \"parcoords\": [{\"line\": {\"colorbar\": {\"outlinewidth\": 0, \"ticks\": \"\"}}, \"type\": \"parcoords\"}], \"pie\": [{\"automargin\": true, \"type\": \"pie\"}], \"scatter\": [{\"marker\": {\"colorbar\": {\"outlinewidth\": 0, \"ticks\": \"\"}}, \"type\": \"scatter\"}], \"scatter3d\": [{\"line\": {\"colorbar\": {\"outlinewidth\": 0, \"ticks\": \"\"}}, \"marker\": {\"colorbar\": {\"outlinewidth\": 0, \"ticks\": \"\"}}, \"type\": \"scatter3d\"}], \"scattercarpet\": [{\"marker\": {\"colorbar\": {\"outlinewidth\": 0, \"ticks\": \"\"}}, \"type\": \"scattercarpet\"}], \"scattergeo\": [{\"marker\": {\"colorbar\": {\"outlinewidth\": 0, \"ticks\": \"\"}}, \"type\": \"scattergeo\"}], \"scattergl\": [{\"marker\": {\"colorbar\": {\"outlinewidth\": 0, \"ticks\": \"\"}}, \"type\": \"scattergl\"}], \"scattermapbox\": [{\"marker\": {\"colorbar\": {\"outlinewidth\": 0, \"ticks\": \"\"}}, \"type\": \"scattermapbox\"}], \"scatterpolar\": [{\"marker\": {\"colorbar\": {\"outlinewidth\": 0, \"ticks\": \"\"}}, \"type\": \"scatterpolar\"}], \"scatterpolargl\": [{\"marker\": {\"colorbar\": {\"outlinewidth\": 0, \"ticks\": \"\"}}, \"type\": \"scatterpolargl\"}], \"scatterternary\": [{\"marker\": {\"colorbar\": {\"outlinewidth\": 0, \"ticks\": \"\"}}, \"type\": \"scatterternary\"}], \"surface\": [{\"colorbar\": {\"outlinewidth\": 0, \"ticks\": \"\"}, \"colorscale\": [[0.0, \"#0d0887\"], [0.1111111111111111, \"#46039f\"], [0.2222222222222222, \"#7201a8\"], [0.3333333333333333, \"#9c179e\"], [0.4444444444444444, \"#bd3786\"], [0.5555555555555556, \"#d8576b\"], [0.6666666666666666, \"#ed7953\"], [0.7777777777777778, \"#fb9f3a\"], [0.8888888888888888, \"#fdca26\"], [1.0, \"#f0f921\"]], \"type\": \"surface\"}], \"table\": [{\"cells\": {\"fill\": {\"color\": \"#EBF0F8\"}, \"line\": {\"color\": \"white\"}}, \"header\": {\"fill\": {\"color\": \"#C8D4E3\"}, \"line\": {\"color\": \"white\"}}, \"type\": \"table\"}]}, \"layout\": {\"annotationdefaults\": {\"arrowcolor\": \"#2a3f5f\", \"arrowhead\": 0, \"arrowwidth\": 1}, \"autotypenumbers\": \"strict\", \"coloraxis\": {\"colorbar\": {\"outlinewidth\": 0, \"ticks\": \"\"}}, \"colorscale\": {\"diverging\": [[0, \"#8e0152\"], [0.1, \"#c51b7d\"], [0.2, \"#de77ae\"], [0.3, \"#f1b6da\"], [0.4, \"#fde0ef\"], [0.5, \"#f7f7f7\"], [0.6, \"#e6f5d0\"], [0.7, \"#b8e186\"], [0.8, \"#7fbc41\"], [0.9, \"#4d9221\"], [1, \"#276419\"]], \"sequential\": [[0.0, \"#0d0887\"], [0.1111111111111111, \"#46039f\"], [0.2222222222222222, \"#7201a8\"], [0.3333333333333333, \"#9c179e\"], [0.4444444444444444, \"#bd3786\"], [0.5555555555555556, \"#d8576b\"], [0.6666666666666666, \"#ed7953\"], [0.7777777777777778, \"#fb9f3a\"], [0.8888888888888888, \"#fdca26\"], [1.0, \"#f0f921\"]], \"sequentialminus\": [[0.0, \"#0d0887\"], [0.1111111111111111, \"#46039f\"], [0.2222222222222222, \"#7201a8\"], [0.3333333333333333, \"#9c179e\"], [0.4444444444444444, \"#bd3786\"], [0.5555555555555556, \"#d8576b\"], [0.6666666666666666, \"#ed7953\"], [0.7777777777777778, \"#fb9f3a\"], [0.8888888888888888, \"#fdca26\"], [1.0, \"#f0f921\"]]}, \"colorway\": [\"#636efa\", \"#EF553B\", \"#00cc96\", \"#ab63fa\", \"#FFA15A\", \"#19d3f3\", \"#FF6692\", \"#B6E880\", \"#FF97FF\", \"#FECB52\"], \"font\": {\"color\": \"#2a3f5f\"}, \"geo\": {\"bgcolor\": \"white\", \"lakecolor\": \"white\", \"landcolor\": \"#E5ECF6\", \"showlakes\": true, \"showland\": true, \"subunitcolor\": \"white\"}, \"hoverlabel\": {\"align\": \"left\"}, \"hovermode\": \"closest\", \"mapbox\": {\"style\": \"light\"}, \"paper_bgcolor\": \"white\", \"plot_bgcolor\": \"#E5ECF6\", \"polar\": {\"angularaxis\": {\"gridcolor\": \"white\", \"linecolor\": \"white\", \"ticks\": \"\"}, \"bgcolor\": \"#E5ECF6\", \"radialaxis\": {\"gridcolor\": \"white\", \"linecolor\": \"white\", \"ticks\": \"\"}}, \"scene\": {\"xaxis\": {\"backgroundcolor\": \"#E5ECF6\", \"gridcolor\": \"white\", \"gridwidth\": 2, \"linecolor\": \"white\", \"showbackground\": true, \"ticks\": \"\", \"zerolinecolor\": \"white\"}, \"yaxis\": {\"backgroundcolor\": \"#E5ECF6\", \"gridcolor\": \"white\", \"gridwidth\": 2, \"linecolor\": \"white\", \"showbackground\": true, \"ticks\": \"\", \"zerolinecolor\": \"white\"}, \"zaxis\": {\"backgroundcolor\": \"#E5ECF6\", \"gridcolor\": \"white\", \"gridwidth\": 2, \"linecolor\": \"white\", \"showbackground\": true, \"ticks\": \"\", \"zerolinecolor\": \"white\"}}, \"shapedefaults\": {\"line\": {\"color\": \"#2a3f5f\"}}, \"ternary\": {\"aaxis\": {\"gridcolor\": \"white\", \"linecolor\": \"white\", \"ticks\": \"\"}, \"baxis\": {\"gridcolor\": \"white\", \"linecolor\": \"white\", \"ticks\": \"\"}, \"bgcolor\": \"#E5ECF6\", \"caxis\": {\"gridcolor\": \"white\", \"linecolor\": \"white\", \"ticks\": \"\"}}, \"title\": {\"x\": 0.05}, \"xaxis\": {\"automargin\": true, \"gridcolor\": \"white\", \"linecolor\": \"white\", \"ticks\": \"\", \"title\": {\"standoff\": 15}, \"zerolinecolor\": \"white\", \"zerolinewidth\": 2}, \"yaxis\": {\"automargin\": true, \"gridcolor\": \"white\", \"linecolor\": \"white\", \"ticks\": \"\", \"title\": {\"standoff\": 15}, \"zerolinecolor\": \"white\", \"zerolinewidth\": 2}}}, \"title\": {\"text\": \"Latent Distance View Space\"}, \"xaxis\": {\"range\": [1.5, 12], \"title\": {\"text\": \"u1\"}}, \"yaxis\": {\"range\": [1.5, 12], \"title\": {\"text\": \"u2\"}}},                        {\"responsive\": true}                    ).then(function(){\n",
       "                            \n",
       "var gd = document.getElementById('6358d5de-81e6-41c9-805f-c6cb53631bf2');\n",
       "var x = new MutationObserver(function (mutations, observer) {{\n",
       "        var display = window.getComputedStyle(gd).display;\n",
       "        if (!display || display === 'none') {{\n",
       "            console.log([gd, 'removed!']);\n",
       "            Plotly.purge(gd);\n",
       "            observer.disconnect();\n",
       "        }}\n",
       "}});\n",
       "\n",
       "// Listen for the removal of the full notebook cells\n",
       "var notebookContainer = gd.closest('#notebook-container');\n",
       "if (notebookContainer) {{\n",
       "    x.observe(notebookContainer, {childList: true});\n",
       "}}\n",
       "\n",
       "// Listen for the clearing of the current output cell\n",
       "var outputEl = gd.closest('.output');\n",
       "if (outputEl) {{\n",
       "    x.observe(outputEl, {childList: true});\n",
       "}}\n",
       "\n",
       "                        })                };                });            </script>        </div>"
      ]
     },
     "metadata": {},
     "output_type": "display_data"
    }
   ],
   "source": [
    "random_y3 = [2 for i in range(100)]\n",
    "random_y4 = random_y2 + 1\n",
    "trace4 = go.Scatter(x = random_x[4:24], y = random_y4[4:300], mode=\"lines\")\n",
    "trace3 = go.Scatter(x = random_x, y = random_y3, mode=\"lines\")\n",
    "trace1 = go.Scatter(x = random_x, y = random_y1, mode=\"markers\")\n",
    "trace2 = go.Scatter(x = random_x, y = random_y2, mode=\"lines\")\n",
    "layout = go.Layout(xaxis=dict(title=\"x1\", range=(0,12)), yaxis=dict(title=\"x2\", range=(0,12)), height=400,\n",
    "                   annotations=[dict(x=2, y=2, xref='x', yref='y', text='A', showarrow=True, align='center', arrowhead=2, arrowsize=1, arrowwidth=2, \n",
    "                                     arrowcolor='#636363', ax=20, ay=-30, bordercolor='#c7c7c7', borderwidth=2, borderpad=4, bgcolor='orange', opacity=0.8), \n",
    "                                dict(x=6, y=6, xref='x', yref='y', text='B', showarrow=True, align='center', arrowhead=2, arrowsize=1, arrowwidth=2, arrowcolor='#636363',\n",
    "                                     ax=20, ay=-30, bordercolor='#c7c7c7', borderwidth=2, borderpad=4, bgcolor='yellow', opacity=0.8), dict(\n",
    "                                     x=4, y=5, xref='x', yref='y',text='d', ay=-40), \n",
    "                                dict(x=2, y=2, xref='x', yref='y', text='angle L', ax=80, ay=-10)], title=\"2D Data Repersentation Space\", showlegend=False)\n",
    "data = [trace1, trace2, trace3, trace4]\n",
    "figure = go.Figure(data = data, layout = layout)\n",
    "iplot(figure)\n",
    "\n",
    "\n",
    "#\n",
    "\n",
    "random_y3 = [2 for i in range(100)]\n",
    "random_y4 = random_y2 + 1\n",
    "trace4 = go.Scatter(x = random_x[4:24], y = random_y4[4:300], mode=\"lines\")\n",
    "trace3 = go.Scatter(x = random_x, y = random_y3, mode=\"lines\")\n",
    "trace1 = go.Scatter(x = random_x, y = random_y1, mode=\"markers\")\n",
    "trace2 = go.Scatter(x = random_x, y = random_y2, mode=\"lines\")\n",
    "layout = go.Layout(xaxis=dict(title=\"u1\", range=(1.5,12)), yaxis=dict(title=\"u2\", range=(1.5,12)), height=400,\n",
    "                   annotations=[dict(x=2, y=2, xref='x', yref='y', text='A', showarrow=True, align='center', arrowhead=2, arrowsize=1, arrowwidth=2, \n",
    "                                     arrowcolor='#636363', ax=20, ay=-30, bordercolor='#c7c7c7', borderwidth=2, borderpad=4, bgcolor='orange', opacity=0.8), \n",
    "                                dict(x=6, y=6, xref='x', yref='y', text='B', showarrow=True, align='center', arrowhead=2, arrowsize=1, arrowwidth=2, arrowcolor='#636363',\n",
    "                                     ax=20, ay=-30, bordercolor='#c7c7c7', borderwidth=2, borderpad=4, bgcolor='yellow', opacity=0.8), dict(\n",
    "                                     x=4, y=5, xref='x', yref='y',text='d', ay=-40), \n",
    "                                dict(x=2, y=2, xref='x', yref='y', text='angle L', ax=80, ay=-10)], title=\"Latent Distance View Space\", showlegend=False)\n",
    "data = [trace1, trace2, trace3, trace4]\n",
    "figure = go.Figure(data = data, layout = layout)\n",
    "iplot(figure)"
   ]
  },
  {
   "cell_type": "markdown",
   "id": "naughty-scientist",
   "metadata": {},
   "source": [
    "하지만 여기서 중요한 질문은 어떤 논리나 규칙, 지점 B가 A와 각도 L로 표현될 수 있느냐 하는 것입니다. 또는 다른 용어로 B, A, L의 방정식은 무엇입니까? 답은 간단합니다. 고정된 방정식은 없지만 비지도 학습 과정에 의해 가능한 가장 좋은 방정식이 얻어집니다. 간단히 말해서, 학습 과정은 A와 L의 형태로 B를 변환하는 규칙/방정식으로 정의될 수 있습니다. 오토 인코더의 관점에서 이 프로세스를 이해하겠습니다.\n",
    "\n",
    "숨겨진 레이어가 없는 자동 인코더를 생각해 보십시오. 입력 x1 및 x2는 낮은 표현으로 인코딩되며, 그러면 x1 및 x2에 추가로 투영됩니다.\n",
    "\n",
    "__Step1: 잠재 뷰 공간의 포인트 재현__\n",
    "\n",
    "데이터 표현 공간에서 점 A와 B의 좌표가 다음과 같은 경우:\n",
    "\n",
    "- 지점 A: (x1A, x2A)\n",
    "- 지점 B: (x1B, x2B)\n",
    "\n",
    "잠재 뷰 공간에 있는 좌표는 다음과 같습니다.\n",
    "\n",
    "- (x1A, x2A) ---> (0, 0)\n",
    "- (x1B, x2B) ---> (u1B, u2B)\n",
    "\n",
    "- 지점 A: (0, 0)\n",
    "- 지점 B: (u1B, u2B)\n",
    "\n",
    "여기서 u1B와 u2B는 점과 기준점 사이의 거리 형태로 표시될 수 있습니다.\n",
    "\n",
    "u1B = x1B - x1A\n",
    "\n",
    "u2B = x2B - x2A\n",
    "\n",
    "__Step2: 거리 d 및 각도 L로 점을 나타냅니다__\n",
    "\n",
    "이제, u1B와 u2B는 거리 d와 각도 L의 조합으로 표현될 수 있습니다. 이것을 각도 L, 수평 축으로 돌리면 L은 0.즉, 0이 됩니다.\n",
    "\n",
    "__=> (d, L)__\n",
    "\n",
    "__=> (d, 0)(회전 후)__\n",
    "\n",
    "\n",
    "이것은 인코딩 프로세스의 출력이며 저차원으로 데이터를 나타냅니다. 만약 우리가 모든 계층의 무게와 편향을 가진 신경망의 기본 방정식을 기억한다면, 그러면,\n",
    "\n",
    "__=> (d, 0) = W.(u1B, u2B)__\n",
    "\n",
    "==> 인코딩\n",
    "\n",
    "여기서 W는 은닉층의 가중치 매트릭스입니다. 그 때문에, 우리는 디코딩 프로세스가 인코딩 프로세스의 미러 이미지라는 것을 알고 있습니다.\n",
    "\n",
    "__=> (u1B, u2B) = Inverse(W).(d,0)__\n",
    "\n",
    "==> 디코딩\n",
    "\n",
    "축소된 데이터 형태(x1, x2)는 인코딩 아키텍처에서 얻은 잠재 뷰 공간에 (d, 0) 있습니다. 마찬가지로, 디코딩 아키텍처는 이 표현을 원래 형태(u1B, u2B)로 다시 변환한 다음(x1, x2)로 변환합니다. 중요한 점은 규칙 / 학습 함수 / 인코딩-디코딩 방정식은 데이터 유형에 따라 다르다는 것입니다. 예를 들어, 2차원 공간의 다음 데이터를 고려하십시오."
   ]
  },
  {
   "cell_type": "code",
   "execution_count": 25,
   "id": "preliminary-pennsylvania",
   "metadata": {
    "ExecuteTime": {
     "end_time": "2021-02-16T14:30:23.001038Z",
     "start_time": "2021-02-16T14:30:22.907953Z"
    },
    "scrolled": true
   },
   "outputs": [
    {
     "data": {
      "text/plain": [
       "[<matplotlib.lines.Line2D at 0x279b0e3d508>]"
      ]
     },
     "execution_count": 25,
     "metadata": {},
     "output_type": "execute_result"
    },
    {
     "data": {
      "image/png": "[encoded data removed]",
      "text/plain": [
       "<Figure size 1080x288 with 1 Axes>"
      ]
     },
     "metadata": {
      "needs_background": "light"
     },
     "output_type": "display_data"
    }
   ],
   "source": [
    "import matplotlib.pyplot as plt\n",
    "import numpy as np\n",
    "fs = 100 # sample rate\n",
    "f = 2 # the frequency of the signal\n",
    "x = np.arange(fs) # the points on the x axis for plotting\n",
    "y = [np.sin(2*np.pi*f*(i/fs)) for i in x]\n",
    "\n",
    "%matplotlib inline\n",
    "plt.figure(figsize=(15, 4))\n",
    "plt.stem(x,y,'r')\n",
    "plt.plot(x,y)"
   ]
  },
  {
   "cell_type": "markdown",
   "id": "gross-export",
   "metadata": {},
   "source": [
    "이러한 유형의 데이터에서는 정보를 잃지 않고 단일 차원으로 데이터 투영을 얻는 것이 핵심 문제입니다. 이러한 유형의 데이터가 잠재 공간에 투사되면 많은 정보가 손실되고 이를 원래 모양으로 변형하여 투사하는 것은 거의 불가능합니다. 시프트와 회전이 아무리 많이 적용되더라도 원본 데이터는 복구할 수 없습니다.\n",
    "\n",
    "그렇다면 신경망은 이 문제를 어떻게 해결할까요? 목적은 매니폴드 공간에서 심층 신경망은 선형 데이터 폴드 뷰를 얻기 위해 공간을 구부릴 수 있는 특성을 가지고 있다는 것입니다. 자동 인코더 아키텍처는 잠재 뷰 공간에서 낮은 수준의 표현을 학습할 수 있도록 이 속성을 히든 레이어에 적용합니다.\n",
    "\n",
    "먼저 이미지에서 기능을 학습한 다음 출력과 동일한 이미지를 투사하는 케어를 사용하여 자동 인코더를 구현합니다."
   ]
  },
  {
   "cell_type": "markdown",
   "id": "suspected-detroit",
   "metadata": {},
   "source": [
    "# Implementation"
   ]
  },
  {
   "cell_type": "markdown",
   "id": "civic-compiler",
   "metadata": {},
   "source": [
    "## UseCase1 : Image Reconstruction"
   ]
  },
  {
   "cell_type": "code",
   "execution_count": 26,
   "id": "northern-delaware",
   "metadata": {
    "ExecuteTime": {
     "end_time": "2021-02-16T14:30:23.017052Z",
     "start_time": "2021-02-16T14:30:23.002038Z"
    }
   },
   "outputs": [],
   "source": [
    "from keras.layers import Dense, Input, Conv2D, LSTM, MaxPool2D, UpSampling2D\n",
    "from sklearn.model_selection import train_test_split\n",
    "from keras.callbacks import EarlyStopping\n",
    "from keras.utils import to_categorical\n",
    "from numpy import argmax, array_equal\n",
    "import matplotlib.pyplot as plt\n",
    "from keras.models import Model\n",
    "from imgaug import augmenters\n",
    "from random import randint\n",
    "import pandas as pd\n",
    "import numpy as np"
   ]
  },
  {
   "cell_type": "markdown",
   "id": "pediatric-affiliate",
   "metadata": {},
   "source": [
    "### Dataset Prepration"
   ]
  },
  {
   "cell_type": "code",
   "execution_count": 27,
   "id": "accurate-creation",
   "metadata": {
    "ExecuteTime": {
     "end_time": "2021-02-16T14:30:25.508821Z",
     "start_time": "2021-02-16T14:30:23.018053Z"
    }
   },
   "outputs": [],
   "source": [
    "train = pd.read_csv('./input/fashion-mnist_train.csv')\n",
    "train_x = train[list(train.columns)[1:]].values\n",
    "train_y = train['label'].values\n",
    "\n",
    "# normalize and reshape the predictors\n",
    "train_x = train_x / 255\n",
    "\n",
    "# create train and validation datasets\n",
    "train_x, val_x, train_y, val_y = train_test_split(train_x, train_y, test_size=0.2)\n",
    "\n",
    "# reshape the inputs\n",
    "train_x = train_x.reshape(-1, 784)\n",
    "val_x = val_x.reshape(-1, 784)"
   ]
  },
  {
   "cell_type": "markdown",
   "id": "elementary-journalist",
   "metadata": {},
   "source": [
    "### Create Autoencoder architecture\n",
    "이 섹션에서는 오토 인코더 아키텍처를 생성하겠습니다. 인코딩 부분은 2000, 1200 및 500개의 노드가 있는 세 개의 계층으로 구성됩니다. 인코딩 아키텍처는 10개의 노드로 구성된 잠재 뷰 공간에 연결되며, 이후 500, 1200 및 2000개의 노드로 디코딩 아키텍처에 연결됩니다. 최종 계층은 입력 계층과 같은 정확한 노드 수로 구성됩니다."
   ]
  },
  {
   "cell_type": "code",
   "execution_count": 28,
   "id": "aquatic-aaron",
   "metadata": {
    "ExecuteTime": {
     "end_time": "2021-02-16T14:30:25.604909Z",
     "start_time": "2021-02-16T14:30:25.509822Z"
    }
   },
   "outputs": [],
   "source": [
    "# input layer\n",
    "input_layer = Input(shape=(784,))\n",
    "\n",
    "# encoding architecture\n",
    "encode_layer1 = Dense(1500, activation='relu')(input_layer)\n",
    "encode_layer2 = Dense(1000, activation='relu')(encode_layer1)\n",
    "encode_layer3 = Dense(500, activation='relu')(encode_layer2)\n",
    "\n",
    "# latent view\n",
    "latent_view = Dense(10, activation='sigmoid')(encode_layer3)\n",
    "\n",
    "# decoding architecture\n",
    "decode_layer1 = Dense(500, activation='relu')(latent_view)\n",
    "decode_layer2 = Dense(1000, activation='relu')(decode_layer1)\n",
    "decode_layer3 = Dense(1500, activation='relu')(decode_layer2)\n",
    "\n",
    "# output layer\n",
    "output_layer = Dense(784)(decode_layer3)\n",
    "\n",
    "model = Model(input_layer, output_layer)"
   ]
  },
  {
   "cell_type": "code",
   "execution_count": 29,
   "id": "disturbed-garlic",
   "metadata": {
    "ExecuteTime": {
     "end_time": "2021-02-16T14:30:25.620923Z",
     "start_time": "2021-02-16T14:30:25.605910Z"
    }
   },
   "outputs": [
    {
     "name": "stdout",
     "output_type": "stream",
     "text": [
      "Model: \"model_2\"\n",
      "_________________________________________________________________\n",
      "Layer (type)                 Output Shape              Param #   \n",
      "=================================================================\n",
      "input_3 (InputLayer)         (None, 784)               0         \n",
      "_________________________________________________________________\n",
      "dense_9 (Dense)              (None, 1500)              1177500   \n",
      "_________________________________________________________________\n",
      "dense_10 (Dense)             (None, 1000)              1501000   \n",
      "_________________________________________________________________\n",
      "dense_11 (Dense)             (None, 500)               500500    \n",
      "_________________________________________________________________\n",
      "dense_12 (Dense)             (None, 10)                5010      \n",
      "_________________________________________________________________\n",
      "dense_13 (Dense)             (None, 500)               5500      \n",
      "_________________________________________________________________\n",
      "dense_14 (Dense)             (None, 1000)              501000    \n",
      "_________________________________________________________________\n",
      "dense_15 (Dense)             (None, 1500)              1501500   \n",
      "_________________________________________________________________\n",
      "dense_16 (Dense)             (None, 784)               1176784   \n",
      "=================================================================\n",
      "Total params: 6,368,794\n",
      "Trainable params: 6,368,794\n",
      "Non-trainable params: 0\n",
      "_________________________________________________________________\n"
     ]
    }
   ],
   "source": [
    "model.summary()"
   ]
  },
  {
   "cell_type": "code",
   "execution_count": 30,
   "id": "qualified-spider",
   "metadata": {
    "ExecuteTime": {
     "end_time": "2021-02-16T14:30:52.209611Z",
     "start_time": "2021-02-16T14:30:25.621924Z"
    }
   },
   "outputs": [
    {
     "name": "stdout",
     "output_type": "stream",
     "text": [
      "Train on 48000 samples, validate on 12000 samples\n",
      "Epoch 1/20\n",
      "48000/48000 [==============================] - 5s 111us/step - loss: 0.0974 - val_loss: 0.0703\n",
      "Epoch 2/20\n",
      "48000/48000 [==============================] - 1s 25us/step - loss: 0.0639 - val_loss: 0.0560\n",
      "Epoch 3/20\n",
      "48000/48000 [==============================] - 1s 23us/step - loss: 0.0491 - val_loss: 0.0435\n",
      "Epoch 4/20\n",
      "48000/48000 [==============================] - 1s 23us/step - loss: 0.0405 - val_loss: 0.0385\n",
      "Epoch 5/20\n",
      "48000/48000 [==============================] - 1s 23us/step - loss: 0.0372 - val_loss: 0.0364\n",
      "Epoch 6/20\n",
      "48000/48000 [==============================] - 1s 23us/step - loss: 0.0345 - val_loss: 0.0353\n",
      "Epoch 7/20\n",
      "48000/48000 [==============================] - 1s 23us/step - loss: 0.0314 - val_loss: 0.0300\n",
      "Epoch 8/20\n",
      "48000/48000 [==============================] - 1s 22us/step - loss: 0.0287 - val_loss: 0.0288\n",
      "Epoch 9/20\n",
      "48000/48000 [==============================] - 1s 22us/step - loss: 0.0269 - val_loss: 0.0260\n",
      "Epoch 10/20\n",
      "48000/48000 [==============================] - 1s 22us/step - loss: 0.0260 - val_loss: 0.0257\n",
      "Epoch 11/20\n",
      "48000/48000 [==============================] - 1s 22us/step - loss: 0.0246 - val_loss: 0.0241\n",
      "Epoch 12/20\n",
      "48000/48000 [==============================] - 1s 22us/step - loss: 0.0237 - val_loss: 0.0235\n",
      "Epoch 13/20\n",
      "48000/48000 [==============================] - 1s 22us/step - loss: 0.0229 - val_loss: 0.0226\n",
      "Epoch 14/20\n",
      "48000/48000 [==============================] - 1s 22us/step - loss: 0.0222 - val_loss: 0.0218\n",
      "Epoch 15/20\n",
      "48000/48000 [==============================] - 1s 22us/step - loss: 0.0216 - val_loss: 0.0214\n",
      "Epoch 16/20\n",
      "48000/48000 [==============================] - 1s 22us/step - loss: 0.0210 - val_loss: 0.0209\n",
      "Epoch 17/20\n",
      "48000/48000 [==============================] - 1s 22us/step - loss: 0.0206 - val_loss: 0.0203\n",
      "Epoch 18/20\n",
      "48000/48000 [==============================] - 1s 22us/step - loss: 0.0203 - val_loss: 0.0201\n",
      "Epoch 19/20\n",
      "48000/48000 [==============================] - 1s 22us/step - loss: 0.0195 - val_loss: 0.0195\n",
      "Epoch 20/20\n",
      "48000/48000 [==============================] - 1s 22us/step - loss: 0.0196 - val_loss: 0.0192\n"
     ]
    },
    {
     "data": {
      "text/plain": [
       "<keras.callbacks.callbacks.History at 0x2784e8600c8>"
      ]
     },
     "execution_count": 30,
     "metadata": {},
     "output_type": "execute_result"
    }
   ],
   "source": [
    "model.compile(optimizer='adam', loss='mse')\n",
    "early_stopping = EarlyStopping(monitor='val_loss', min_delta=0, patience=10, verbose=1, mode='auto')\n",
    "model.fit(train_x, train_x, epochs=20, batch_size=2048, validation_data=(val_x, val_x), callbacks=[early_stopping])"
   ]
  },
  {
   "cell_type": "code",
   "execution_count": 31,
   "id": "extensive-butler",
   "metadata": {
    "ExecuteTime": {
     "end_time": "2021-02-16T14:30:52.560931Z",
     "start_time": "2021-02-16T14:30:52.210613Z"
    }
   },
   "outputs": [],
   "source": [
    "preds = model.predict(val_x)"
   ]
  },
  {
   "cell_type": "markdown",
   "id": "considered-namibia",
   "metadata": {},
   "source": [
    "#### Inputs: Actual Images"
   ]
  },
  {
   "cell_type": "code",
   "execution_count": 32,
   "id": "desirable-beginning",
   "metadata": {
    "ExecuteTime": {
     "end_time": "2021-02-16T14:30:53.344643Z",
     "start_time": "2021-02-16T14:30:52.561932Z"
    }
   },
   "outputs": [
    {
     "data": {
      "image/png": "[encoded data removed]",
      "text/plain": [
       "<Figure size 5760x2880 with 5 Axes>"
      ]
     },
     "metadata": {
      "needs_background": "light"
     },
     "output_type": "display_data"
    }
   ],
   "source": [
    "from PIL import Image\n",
    "f, ax = plt.subplots(1, 5)\n",
    "f.set_size_inches(80, 40)\n",
    "for i in range(5):\n",
    "    ax[i].imshow(val_x[i].reshape(28, 28))\n",
    "plt.show()"
   ]
  },
  {
   "cell_type": "markdown",
   "id": "loved-posting",
   "metadata": {},
   "source": [
    "#### Predicted: Autoencoder Output"
   ]
  },
  {
   "cell_type": "code",
   "execution_count": 33,
   "id": "rough-indonesia",
   "metadata": {
    "ExecuteTime": {
     "end_time": "2021-02-16T14:30:54.095830Z",
     "start_time": "2021-02-16T14:30:53.345644Z"
    }
   },
   "outputs": [
    {
     "data": {
      "image/png": "[encoded data removed]",
      "text/plain": [
       "<Figure size 5760x2880 with 5 Axes>"
      ]
     },
     "metadata": {
      "needs_background": "light"
     },
     "output_type": "display_data"
    }
   ],
   "source": [
    "f, ax = plt.subplots(1, 5)\n",
    "f.set_size_inches(80, 40)\n",
    "for i in range(5):\n",
    "    ax[i].imshow(preds[i].reshape(28, 28))\n",
    "plt.show()"
   ]
  },
  {
   "cell_type": "markdown",
   "id": "interpreted-permit",
   "metadata": {},
   "source": [
    "그래서 우리는 20개의 에포크로 훈련된 오토 인코더가 입력 이미지를 매우 잘 재구성할 수 있다는 것을 알 수 있습니다. 자동 인코더의 다른 사용 사례 - 이미지 노이즈 제거 또는 이미지 노이즈 제거에 대해 살펴보겠습니다."
   ]
  },
  {
   "cell_type": "markdown",
   "id": "smart-membrane",
   "metadata": {},
   "source": [
    "## UseCase 2 - Image Denoising\n",
    "오토 인코더는 매우 유용합니다. 오토 인코더의 다른 응용 프로그램인 이미지 노이즈 제거에 대해 살펴보겠습니다. 입력 이미지에 데이터에 노이즈가 포함되어 있는 경우 오토 인코더를 사용하여 해당 이미지를 제거할 수 있습니다. 실제로 보겠습니다. 먼저 이미지 픽셀을 포함하는 train_x 및 val_x 데이터를 준비합니다."
   ]
  },
  {
   "cell_type": "code",
   "execution_count": 34,
   "id": "civil-seeker",
   "metadata": {
    "ExecuteTime": {
     "end_time": "2021-02-16T14:30:54.687367Z",
     "start_time": "2021-02-16T14:30:54.096831Z"
    }
   },
   "outputs": [],
   "source": [
    "# recreate the train_x array and val_x array\n",
    "train_x = train[list(train.columns)[1:]].values\n",
    "train_x, val_x = train_test_split(train_x, test_size=0.2)\n",
    "\n",
    "# normalize and reshape\n",
    "train_x = train_x/255.\n",
    "val_x = val_x/255."
   ]
  },
  {
   "cell_type": "markdown",
   "id": "therapeutic-awareness",
   "metadata": {},
   "source": [
    "이 오토 인코더 네트워크에서는 컨볼루션 네트워크가 이미지 입력과 정말 잘 작동하기 때문에 컨볼루션 레이어를 추가할 것입니다. 이미지 데이터에 컨볼루션을 적용하기 위해 28 * 28 매트릭스 형식으로 입력을 재구성합니다."
   ]
  },
  {
   "cell_type": "code",
   "execution_count": 35,
   "id": "charitable-above",
   "metadata": {
    "ExecuteTime": {
     "end_time": "2021-02-16T14:30:54.703382Z",
     "start_time": "2021-02-16T14:30:54.688368Z"
    }
   },
   "outputs": [],
   "source": [
    "train_x = train_x.reshape(-1, 28, 28, 1)\n",
    "val_x = val_x.reshape(-1, 28, 28, 1)"
   ]
  },
  {
   "cell_type": "markdown",
   "id": "seven-aberdeen",
   "metadata": {},
   "source": [
    "### Noisy Images\n",
    "이미지에 노이즈를 의도적으로 도입할 수 있습니다. 예를 들어 다음과 같습니다.\n",
    "\n",
    "- 소금과 후추 노이즈\n",
    "- 가우스 노이즈\n",
    "- 주기적 노이즈\n",
    "- 반점 노이즈\n",
    "임펄스 노이즈라고도 하는 데이터에 소금과 후추 노이즈를 도입해 보겠습니다. 이 노이즈는 이미지 신호에 급격한 장애 발생을 일으킵니다. 드물게 발생하는 흰색 및 검은색 픽셀입니다."
   ]
  },
  {
   "cell_type": "code",
   "execution_count": 36,
   "id": "studied-purchase",
   "metadata": {
    "ExecuteTime": {
     "end_time": "2021-02-16T14:31:04.103716Z",
     "start_time": "2021-02-16T14:30:54.704383Z"
    }
   },
   "outputs": [],
   "source": [
    "# Lets add sample noise - Salt and Pepper\n",
    "noise = augmenters.SaltAndPepper(0.1)\n",
    "seq_object = augmenters.Sequential([noise])\n",
    "\n",
    "train_x_n = seq_object.augment_images(train_x * 255) / 255\n",
    "val_x_n = seq_object.augment_images(val_x * 255) / 255"
   ]
  },
  {
   "cell_type": "code",
   "execution_count": 37,
   "id": "bacterial-suggestion",
   "metadata": {
    "ExecuteTime": {
     "end_time": "2021-02-16T14:31:04.888430Z",
     "start_time": "2021-02-16T14:31:04.104717Z"
    }
   },
   "outputs": [
    {
     "data": {
      "image/png": "[encoded data removed]",
      "text/plain": [
       "<Figure size 5760x2880 with 5 Axes>"
      ]
     },
     "metadata": {
      "needs_background": "light"
     },
     "output_type": "display_data"
    }
   ],
   "source": [
    "f, ax = plt.subplots(1, 5)\n",
    "f.set_size_inches(80, 40)\n",
    "for i in range(5, 10):\n",
    "    ax[i-5].imshow(train_x[i].reshape(28, 28))\n",
    "plt.show()"
   ]
  },
  {
   "cell_type": "code",
   "execution_count": 38,
   "id": "subjective-stomach",
   "metadata": {
    "ExecuteTime": {
     "end_time": "2021-02-16T14:31:05.669810Z",
     "start_time": "2021-02-16T14:31:04.889431Z"
    }
   },
   "outputs": [
    {
     "data": {
      "image/png": "[encoded data removed]",
      "text/plain": [
       "<Figure size 5760x2880 with 5 Axes>"
      ]
     },
     "metadata": {
      "needs_background": "light"
     },
     "output_type": "display_data"
    }
   ],
   "source": [
    "f, ax = plt.subplots(1, 5)\n",
    "f.set_size_inches(80, 40)\n",
    "for i in range(5, 10):\n",
    "    ax[i-5].imshow(train_x_n[i].reshape(28, 28))\n",
    "plt.show()"
   ]
  },
  {
   "cell_type": "markdown",
   "id": "current-morocco",
   "metadata": {},
   "source": [
    "이제 오토 인코더의 모델 아키텍처를 생성하겠습니다. 이 문제에 대해 어떤 유형의 네트워크를 생성해야 하는지 파악합니다.\n",
    "\n",
    "__인코딩 아키텍처__:\n",
    "\n",
    "인코딩 아키텍처는 3개의 컨볼루션 레이어와 3개의 맥스 풀링 레이어가 하나씩 쌓여서 구성됩니다. Relu는 컨볼루션 레이어에서 활성함수로 사용되며 패딩은 \"동일\"로 유지됩니다. 맥스 풀링 레이어의 역할은 이미지 치수를 축소하는 것입니다. 이 계층은 초기 표현의 겹치지 않는 하위 영역에 최대 필터를 적용합니다.\n",
    "\n",
    "__아키텍처 디코딩__\n",
    "\n",
    "아키텍처 디코딩에서도 마찬가지로, 컨볼루션 레이어는 인코딩 아키텍처와 동일한 차원(반대 방식)을 가지고 사용됩니다. 하지만 3개의 맥스 풀링 레이어 대신 3개의 업샘플링 레이어를 추가할 예정입니다. 다시 활성화 함수는 동일하며(relu), 컨볼루션 레이어의 패딩도 동일해집니다. 업샘플링 레이어의 역할은 입력 벡터의 치수를 더 높은 해상도/차원으로 업샘플링하는 것입니다. 맥스 풀링 작업은 되돌릴 수 없지만 각 풀링 영역 내에서 최대치의 위치를 기록하면 근사치를 얻을 수 있습니다. 업샘플링 레이어는 이 속성을 사용하여 낮은 치수 특징 공간에서 재구성을 투영합니다."
   ]
  },
  {
   "cell_type": "code",
   "execution_count": 41,
   "id": "british-boutique",
   "metadata": {
    "ExecuteTime": {
     "end_time": "2021-02-16T14:34:04.138294Z",
     "start_time": "2021-02-16T14:34:04.032198Z"
    }
   },
   "outputs": [],
   "source": [
    "# input layer\n",
    "input_layer = Input(shape=(28, 28, 1))\n",
    "\n",
    "# encoding architecture\n",
    "encoded_layer1 = Conv2D(64, (3, 3), activation='relu', padding='same')(input_layer)\n",
    "encoded_layer1 = MaxPool2D((2, 2), padding='same')(encoded_layer1)\n",
    "encoded_layer2 = Conv2D(32, (3, 3), activation='relu', padding='same')(encoded_layer1)\n",
    "encoded_layer2 = MaxPool2D((2, 2), padding='same')(encoded_layer2)\n",
    "encoded_layer3 = Conv2D(16, (3, 3), activation='relu', padding='same')(encoded_layer2)\n",
    "latent_view = MaxPool2D((2, 2), padding='same')(encoded_layer3)\n",
    "\n",
    "# decoding architecture\n",
    "decoded_layer1 = Conv2D(16, (3, 3), activation='relu', padding='same')(latent_view)\n",
    "decoded_layer1 = UpSampling2D((2, 2))(decoded_layer1)\n",
    "decoded_layer2 = Conv2D(32, (3, 3), activation='relu', padding='same')(decoded_layer1)\n",
    "decoded_layer2 = UpSampling2D((2, 2))(decoded_layer2)\n",
    "decoded_layer3 = Conv2D(64, (3, 3), activation='relu')(decoded_layer2)\n",
    "decoded_layer3 = UpSampling2D((2, 2))(decoded_layer3)\n",
    "output_layer = Conv2D(1, (3, 3), padding='same')(decoded_layer3)\n",
    "\n",
    "# compile the model\n",
    "model_2 = Model(input_layer, output_layer)\n",
    "model_2.compile(optimizer='adam', loss='mse')"
   ]
  },
  {
   "cell_type": "code",
   "execution_count": 42,
   "id": "appreciated-generator",
   "metadata": {
    "ExecuteTime": {
     "end_time": "2021-02-16T14:34:11.844301Z",
     "start_time": "2021-02-16T14:34:11.833291Z"
    }
   },
   "outputs": [
    {
     "name": "stdout",
     "output_type": "stream",
     "text": [
      "Model: \"model_3\"\n",
      "_________________________________________________________________\n",
      "Layer (type)                 Output Shape              Param #   \n",
      "=================================================================\n",
      "input_6 (InputLayer)         (None, 28, 28, 1)         0         \n",
      "_________________________________________________________________\n",
      "conv2d_4 (Conv2D)            (None, 28, 28, 64)        640       \n",
      "_________________________________________________________________\n",
      "max_pooling2d_4 (MaxPooling2 (None, 14, 14, 64)        0         \n",
      "_________________________________________________________________\n",
      "conv2d_5 (Conv2D)            (None, 14, 14, 32)        18464     \n",
      "_________________________________________________________________\n",
      "max_pooling2d_5 (MaxPooling2 (None, 7, 7, 32)          0         \n",
      "_________________________________________________________________\n",
      "conv2d_6 (Conv2D)            (None, 7, 7, 16)          4624      \n",
      "_________________________________________________________________\n",
      "max_pooling2d_6 (MaxPooling2 (None, 4, 4, 16)          0         \n",
      "_________________________________________________________________\n",
      "conv2d_7 (Conv2D)            (None, 4, 4, 16)          2320      \n",
      "_________________________________________________________________\n",
      "up_sampling2d_1 (UpSampling2 (None, 8, 8, 16)          0         \n",
      "_________________________________________________________________\n",
      "conv2d_8 (Conv2D)            (None, 8, 8, 32)          4640      \n",
      "_________________________________________________________________\n",
      "up_sampling2d_2 (UpSampling2 (None, 16, 16, 32)        0         \n",
      "_________________________________________________________________\n",
      "conv2d_9 (Conv2D)            (None, 14, 14, 64)        18496     \n",
      "_________________________________________________________________\n",
      "up_sampling2d_3 (UpSampling2 (None, 28, 28, 64)        0         \n",
      "_________________________________________________________________\n",
      "conv2d_10 (Conv2D)           (None, 28, 28, 1)         577       \n",
      "=================================================================\n",
      "Total params: 49,761\n",
      "Trainable params: 49,761\n",
      "Non-trainable params: 0\n",
      "_________________________________________________________________\n"
     ]
    }
   ],
   "source": [
    "model_2.summary()"
   ]
  },
  {
   "cell_type": "markdown",
   "id": "solar-folks",
   "metadata": {},
   "source": [
    "조기 중지 콜백으로 모델을 교육합니다. 더 나은 결과를 얻으려면 에포크 수를 더 높은 수로 늘립니다."
   ]
  },
  {
   "cell_type": "code",
   "execution_count": 43,
   "id": "improving-security",
   "metadata": {
    "ExecuteTime": {
     "end_time": "2021-02-16T14:36:15.830117Z",
     "start_time": "2021-02-16T14:35:32.442616Z"
    }
   },
   "outputs": [
    {
     "name": "stdout",
     "output_type": "stream",
     "text": [
      "Train on 48000 samples, validate on 12000 samples\n",
      "Epoch 1/10\n",
      "48000/48000 [==============================] - 9s 193us/step - loss: 0.0834 - val_loss: 0.0490\n",
      "Epoch 2/10\n",
      "48000/48000 [==============================] - 4s 76us/step - loss: 0.0404 - val_loss: 0.0349\n",
      "Epoch 3/10\n",
      "48000/48000 [==============================] - 4s 76us/step - loss: 0.0321 - val_loss: 0.0297\n",
      "Epoch 4/10\n",
      "48000/48000 [==============================] - 4s 79us/step - loss: 0.0281 - val_loss: 0.0273\n",
      "Epoch 5/10\n",
      "48000/48000 [==============================] - 4s 78us/step - loss: 0.0259 - val_loss: 0.0250\n",
      "Epoch 6/10\n",
      "48000/48000 [==============================] - 4s 77us/step - loss: 0.0244 - val_loss: 0.0237\n",
      "Epoch 7/10\n",
      "48000/48000 [==============================] - 4s 77us/step - loss: 0.0233 - val_loss: 0.0227\n",
      "Epoch 8/10\n",
      "48000/48000 [==============================] - 4s 77us/step - loss: 0.0231 - val_loss: 0.0224\n",
      "Epoch 9/10\n",
      "48000/48000 [==============================] - 4s 76us/step - loss: 0.0220 - val_loss: 0.0214\n",
      "Epoch 10/10\n",
      "48000/48000 [==============================] - 4s 77us/step - loss: 0.0211 - val_loss: 0.0208\n"
     ]
    }
   ],
   "source": [
    "early_stopping = EarlyStopping(monitor='val_loss', min_delta=0, patience=10, verbose=5, mode='auto')\n",
    "history = model_2.fit(train_x_n, train_x, epochs=10, batch_size=2048, validation_data=(val_x_n, val_x), callbacks=[early_stopping])"
   ]
  },
  {
   "cell_type": "code",
   "execution_count": 44,
   "id": "little-walnut",
   "metadata": {
    "ExecuteTime": {
     "end_time": "2021-02-16T14:37:08.612131Z",
     "start_time": "2021-02-16T14:37:07.652756Z"
    }
   },
   "outputs": [
    {
     "data": {
      "image/png": "[encoded data removed]",
      "text/plain": [
       "<Figure size 5760x2880 with 5 Axes>"
      ]
     },
     "metadata": {
      "needs_background": "light"
     },
     "output_type": "display_data"
    }
   ],
   "source": [
    "preds = model_2.predict(val_x_n[:10])\n",
    "f, ax = plt.subplots(1, 5)\n",
    "f.set_size_inches(80, 40)\n",
    "for i in range(5, 10):\n",
    "    ax[i-5].imshow(preds[i].reshape(28, 28))\n",
    "plt.show()"
   ]
  },
  {
   "cell_type": "markdown",
   "id": "precise-product",
   "metadata": {},
   "source": [
    "이 구현에서, 더 나은 예측을 위해 500-1000범위의 에포크에 대해 네트워크를 훈련시킬 수 있습니다."
   ]
  },
  {
   "cell_type": "markdown",
   "id": "brown-usage",
   "metadata": {},
   "source": [
    "## UseCase 3: Sequence to Sequence Prediction using AutoEncoders\n",
    "다음 사용 사례는 시퀀스 예측입니다. 앞의 예에서는 기본적으로 2차원 데이터인 이미지를 입력하고, 이 예에서는 시퀀스 데이터를 1차원 입력으로 입력합니다. 시퀀스 데이터의 예로는 시계열 데이터와 텍스트 데이터가 있습니다. 이 사용 사례는 기계 번역에 적용할 수 있습니다. 이미지 예제의 CNN과는 달리, 이 사용 사례에서는 LSTM을 사용할 것입니다.\n",
    "\n",
    "__오토 인코더 아키텍처__\n",
    "\n",
    "자동 인코더 아키텍처입니다.\n",
    "이 사용 사례의 아키텍처에는 소스 시퀀스를 인코딩하는 인코더가 포함되어 있으며, 두 번째에는 인코딩된 소스 시퀀스를 디코더라고 하는 대상 시퀀스로 디코딩하는 인코더가 포함됩니다. 먼저 이 아키텍처에서 사용될 LSTM의 내부 작업을 이해하겠습니다.\n",
    "\n",
    "- LSTM(Long-Short-Term Memory)은 내부 게이트로 구성된 반복 신경망입니다.\n",
    "- 다른 반복 신경망과 달리, 네트워크의 내부 게이트는 시간을 통한 역 전파(BPTT)를 사용하여 모델을 성공적으로 훈련시키고 사라지는 그레이디언트 문제를 피할 수 있도록 합니다.\n",
    "- LSTM 계층의 LSTM 메모리 유닛 수를 정의할 수 있습니다. 레이어 내의 각 유닛 또는 셀은 종종 \"c\"로 약칭되는 내부 메모리/셀 상태를 가지며, 종종 \"h\"로 약칭되는 숨겨진 상태를 출력합니다.\n",
    "- Keras를 사용하면 LSTM 계층의 출력 상태와 LSTM 계층의 현재 상태에 모두 액세스할 수 있습니다.\n",
    "\n",
    "이제 LSTM 계층으로 구성된 시퀀스를 학습하고 생성하기 위한 자동 인코더 아키텍처를 생성하겠습니다. 두 가지 구성 요소가 있습니다.\n",
    "\n",
    "- 시퀀스를 입력으로 사용하고 LSTM의 현재 상태를 출력으로 반환하는 인코더 아키텍처입니다.\n",
    "- 시퀀스 및 인코더 LSTM 상태를 입력으로 사용하고 디코딩된 출력 시퀀스를 반환하는 디코더 아키텍처입니다.\n",
    "- 우리는 LSTM의 숨겨진 상태와 메모리 상태를 저장하고 액세스하여 보이지 않는 데이터에 대한 예측을 생성하는 동시에 이를 사용할 수 있습니다.\n",
    "\n",
    "먼저 고정된 길이의 랜덤 시퀀스를 포함하는 시퀀스 데이터 세트를 생성하겠습니다. 랜덤 시퀀스를 생성하는 기능을 만들 것입니다.\n",
    "\n",
    "- X1은 난수를 포함하는 입력 시퀀스를 나타냅니다.\n",
    "- X2는 시퀀스의 다른 요소를 재현하기 위해 시드로 사용되는 패딩 시퀀스를 나타냅니다.\n",
    "- y는 목표 시퀀스 또는 실제 시퀀스를 나타냅니다."
   ]
  },
  {
   "cell_type": "code",
   "execution_count": 45,
   "id": "editorial-chosen",
   "metadata": {
    "ExecuteTime": {
     "end_time": "2021-02-16T14:44:42.417018Z",
     "start_time": "2021-02-16T14:44:38.815744Z"
    }
   },
   "outputs": [
    {
     "name": "stdout",
     "output_type": "stream",
     "text": [
      "Shapes: (100000, 6, 51) (100000, 3, 51) (100000, 3, 51)\n",
      "Here is first categorically encoded input sequence looks like\n"
     ]
    },
    {
     "data": {
      "text/plain": [
       "array([0., 0., 0., 0., 0., 0., 0., 0., 0., 0., 0., 0., 0., 0., 0., 0., 0.,\n",
       "       0., 0., 0., 0., 0., 0., 1., 0., 0., 0., 0., 0., 0., 0., 0., 0., 0.,\n",
       "       0., 0., 0., 0., 0., 0., 0., 0., 0., 0., 0., 0., 0., 0., 0., 0., 0.],\n",
       "      dtype=float32)"
      ]
     },
     "execution_count": 45,
     "metadata": {},
     "output_type": "execute_result"
    }
   ],
   "source": [
    "def dataset_preparation(n_in, n_out, n_unique, n_samples):\n",
    "    X1, X2, y = [], [], []\n",
    "    for _ in range(n_samples):\n",
    "        ## create random numbers sequence - input\n",
    "        inp_seq = [randint(1, n_unique-1) for _ in range(n_in)]\n",
    "        \n",
    "        ## create target sequence\n",
    "        target = inp_seq[:n_out]\n",
    "        \n",
    "        ## create padded sequence / seed sequence\n",
    "        target_seq = list(reversed(target))\n",
    "        seed_seq = [0] + target_seq[:-1]\n",
    "        \n",
    "        # convert the elements to categorical using keras api\n",
    "        X1.append(to_categorical([inp_seq], num_classes=n_unique))\n",
    "        X2.append(to_categorical([seed_seq], num_classes=n_unique))\n",
    "        y.append(to_categorical([target_seq], num_classes=n_unique))\n",
    "        \n",
    "    # remove unnecessary dimension\n",
    "    X1 = np.squeeze(np.array(X1), axis=1)\n",
    "    X2 = np.squeeze(np.array(X2), axis=1)\n",
    "    y = np.squeeze(np.array(y), axis=1)\n",
    "    return X1, X2, y\n",
    "\n",
    "samples = 100000\n",
    "features = 51\n",
    "inp_size= 6\n",
    "out_size= 3\n",
    "\n",
    "inputs, seeds, outputs = dataset_preparation(inp_size, out_size, features, samples)\n",
    "print('Shapes:', inputs.shape, seeds.shape, outputs.shape)\n",
    "print('Here is first categorically encoded input sequence looks like')\n",
    "inputs[0][0]"
   ]
  },
  {
   "cell_type": "markdown",
   "id": "combined-finnish",
   "metadata": {},
   "source": [
    "다음으로, 케라스에서 우리 모델의 아키텍처를 만들어 보겠습니다."
   ]
  },
  {
   "cell_type": "code",
   "execution_count": 47,
   "id": "adopted-aberdeen",
   "metadata": {
    "ExecuteTime": {
     "end_time": "2021-02-16T14:53:48.747216Z",
     "start_time": "2021-02-16T14:53:48.425924Z"
    }
   },
   "outputs": [],
   "source": [
    "def define_models(n_input, n_output):\n",
    "    # define the encoder architecture\n",
    "    # input: sequence\n",
    "    # output: encoder states\n",
    "    encoder_inputs = Input(shape=(None, n_input))\n",
    "    encoder = LSTM(128, return_state=True)\n",
    "    encoder_outputs, state_h, state_c = encoder(encoder_inputs)\n",
    "    encoder_states = [state_h, state_c]\n",
    "    \n",
    "    # define the encoder-decoder architecture\n",
    "    # input: a seed sequence\n",
    "    # output: decoder states, decoded output\n",
    "    decoder_inputs = Input(shape=(None, n_output))\n",
    "    decoder_lstm = LSTM(128, return_sequences=True, return_state=True)\n",
    "    decoder_outputs, _, _ = decoder_lstm(decoder_inputs, initial_state=encoder_states)\n",
    "    decoder_dense = Dense(n_output, activation='softmax')\n",
    "    decoder_outputs = decoder_dense(decoder_outputs)\n",
    "    model = Model([encoder_inputs, decoder_inputs], decoder_outputs)\n",
    "    \n",
    "    # define the decoder model\n",
    "    # input: current states + encoded sequence\n",
    "    # output: decoded sequence\n",
    "    encoder_model = Model(encoder_inputs, encoder_states)\n",
    "    decoder_state_input_h = Input(shape=(128,))\n",
    "    decoder_state_input_c = Input(shape=(128,))\n",
    "    decoder_states_inputs = [decoder_state_input_h, decoder_state_input_c]\n",
    "    decoder_outputs, state_h, state_c = decoder_lstm(decoder_inputs, initial_state=decoder_states_inputs)\n",
    "    decoder_states = [state_h, state_c]\n",
    "    decoder_outputs = decoder_dense(decoder_outputs)\n",
    "    decoder_model = Model([decoder_inputs] + decoder_states_inputs, [decoder_outputs] + decoder_states)\n",
    "    \n",
    "    return model, encoder_model, decoder_model\n",
    "\n",
    "autoencoder, encoder_model, decoder_model = define_models(features, features)"
   ]
  },
  {
   "cell_type": "code",
   "execution_count": 48,
   "id": "incomplete-patrick",
   "metadata": {
    "ExecuteTime": {
     "end_time": "2021-02-16T14:53:56.608868Z",
     "start_time": "2021-02-16T14:53:56.602863Z"
    }
   },
   "outputs": [
    {
     "name": "stdout",
     "output_type": "stream",
     "text": [
      "Model: \"model_5\"\n",
      "_________________________________________________________________\n",
      "Layer (type)                 Output Shape              Param #   \n",
      "=================================================================\n",
      "input_9 (InputLayer)         (None, None, 51)          0         \n",
      "_________________________________________________________________\n",
      "lstm_3 (LSTM)                [(None, 128), (None, 128) 92160     \n",
      "=================================================================\n",
      "Total params: 92,160\n",
      "Trainable params: 92,160\n",
      "Non-trainable params: 0\n",
      "_________________________________________________________________\n"
     ]
    }
   ],
   "source": [
    "encoder_model.summary()"
   ]
  },
  {
   "cell_type": "code",
   "execution_count": 49,
   "id": "joint-differential",
   "metadata": {
    "ExecuteTime": {
     "end_time": "2021-02-16T14:54:05.097090Z",
     "start_time": "2021-02-16T14:54:05.084078Z"
    }
   },
   "outputs": [
    {
     "name": "stdout",
     "output_type": "stream",
     "text": [
      "Model: \"model_6\"\n",
      "__________________________________________________________________________________________________\n",
      "Layer (type)                    Output Shape         Param #     Connected to                     \n",
      "==================================================================================================\n",
      "input_10 (InputLayer)           (None, None, 51)     0                                            \n",
      "__________________________________________________________________________________________________\n",
      "input_11 (InputLayer)           (None, 128)          0                                            \n",
      "__________________________________________________________________________________________________\n",
      "input_12 (InputLayer)           (None, 128)          0                                            \n",
      "__________________________________________________________________________________________________\n",
      "lstm_4 (LSTM)                   [(None, None, 128),  92160       input_10[0][0]                   \n",
      "                                                                 input_11[0][0]                   \n",
      "                                                                 input_12[0][0]                   \n",
      "__________________________________________________________________________________________________\n",
      "dense_18 (Dense)                (None, None, 51)     6579        lstm_4[1][0]                     \n",
      "==================================================================================================\n",
      "Total params: 98,739\n",
      "Trainable params: 98,739\n",
      "Non-trainable params: 0\n",
      "__________________________________________________________________________________________________\n"
     ]
    }
   ],
   "source": [
    "decoder_model.summary()"
   ]
  },
  {
   "cell_type": "code",
   "execution_count": 50,
   "id": "honey-directory",
   "metadata": {
    "ExecuteTime": {
     "end_time": "2021-02-16T14:54:19.080307Z",
     "start_time": "2021-02-16T14:54:19.073301Z"
    }
   },
   "outputs": [
    {
     "name": "stdout",
     "output_type": "stream",
     "text": [
      "Model: \"model_4\"\n",
      "__________________________________________________________________________________________________\n",
      "Layer (type)                    Output Shape         Param #     Connected to                     \n",
      "==================================================================================================\n",
      "input_9 (InputLayer)            (None, None, 51)     0                                            \n",
      "__________________________________________________________________________________________________\n",
      "input_10 (InputLayer)           (None, None, 51)     0                                            \n",
      "__________________________________________________________________________________________________\n",
      "lstm_3 (LSTM)                   [(None, 128), (None, 92160       input_9[0][0]                    \n",
      "__________________________________________________________________________________________________\n",
      "lstm_4 (LSTM)                   [(None, None, 128),  92160       input_10[0][0]                   \n",
      "                                                                 lstm_3[0][1]                     \n",
      "                                                                 lstm_3[0][2]                     \n",
      "__________________________________________________________________________________________________\n",
      "dense_18 (Dense)                (None, None, 51)     6579        lstm_4[0][0]                     \n",
      "==================================================================================================\n",
      "Total params: 190,899\n",
      "Trainable params: 190,899\n",
      "Non-trainable params: 0\n",
      "__________________________________________________________________________________________________\n"
     ]
    }
   ],
   "source": [
    "autoencoder.summary()"
   ]
  },
  {
   "cell_type": "markdown",
   "id": "alive-sigma",
   "metadata": {},
   "source": [
    "이제 Adam 최적화 및 범주형 교차 엔트로치 손실 함수를 사용하여 오토 인코더 모델을 교육합니다."
   ]
  },
  {
   "cell_type": "code",
   "execution_count": 51,
   "id": "celtic-functionality",
   "metadata": {
    "ExecuteTime": {
     "end_time": "2021-02-16T14:55:54.580685Z",
     "start_time": "2021-02-16T14:55:27.902420Z"
    }
   },
   "outputs": [
    {
     "name": "stdout",
     "output_type": "stream",
     "text": [
      "Epoch 1/1\n",
      "100000/100000 [==============================] - 25s 250us/step - loss: 0.6468 - acc: 0.7954\n"
     ]
    },
    {
     "data": {
      "text/plain": [
       "<keras.callbacks.callbacks.History at 0x279bb3e7808>"
      ]
     },
     "execution_count": 51,
     "metadata": {},
     "output_type": "execute_result"
    }
   ],
   "source": [
    "autoencoder.compile(optimizer='adam', loss='categorical_crossentropy', metrics=['acc'])\n",
    "autoencoder.fit([inputs, seeds], outputs, epochs=1)"
   ]
  },
  {
   "cell_type": "markdown",
   "id": "charitable-commissioner",
   "metadata": {},
   "source": [
    "입력 시퀀스를 기준으로 시퀀스를 예측하는 함수를 쓰겠습니다."
   ]
  },
  {
   "cell_type": "code",
   "execution_count": 52,
   "id": "clear-static",
   "metadata": {
    "ExecuteTime": {
     "end_time": "2021-02-16T14:58:18.676838Z",
     "start_time": "2021-02-16T14:58:18.665828Z"
    }
   },
   "outputs": [],
   "source": [
    "def reverse_onehot(encoded_seq):\n",
    "    return [argmax(vector) for vector in encoded_seq]\n",
    "\n",
    "def predict_sequence(encoder, decoder, sequence):\n",
    "    output = []\n",
    "    target_seq = np.array([0.0 for _ in range(features)])\n",
    "    target_seq = target_seq.reshape(1, 1, features)\n",
    "    \n",
    "    current_state = encoder.predict(sequence)\n",
    "    for t in range(out_size):\n",
    "        pred, h, c = decoder.predict([target_seq] + current_state)\n",
    "        output.append(pred[0, 0, :])\n",
    "        current_state = [h, c]\n",
    "        target_seq = pred\n",
    "    return np.array(output)"
   ]
  },
  {
   "cell_type": "code",
   "execution_count": 54,
   "id": "attended-extreme",
   "metadata": {
    "ExecuteTime": {
     "end_time": "2021-02-16T14:59:47.831061Z",
     "start_time": "2021-02-16T14:59:47.803035Z"
    }
   },
   "outputs": [
    {
     "name": "stdout",
     "output_type": "stream",
     "text": [
      "\n",
      " Input Sequence=[10, 19, 37, 32, 42, 50] SeedSequence=[37, 19, 10], PredictedSequence=[37, 19, 10]\n",
      "\n",
      " Input Sequence=[5, 45, 16, 15, 37, 10] SeedSequence=[16, 45, 5], PredictedSequence=[16, 45, 5]\n",
      "\n",
      " Input Sequence=[40, 16, 33, 46, 20, 29] SeedSequence=[33, 16, 40], PredictedSequence=[33, 16, 40]\n",
      "\n",
      " Input Sequence=[19, 14, 39, 3, 2, 6] SeedSequence=[39, 14, 19], PredictedSequence=[39, 14, 19]\n",
      "\n",
      " Input Sequence=[45, 17, 34, 20, 28, 44] SeedSequence=[34, 17, 45], PredictedSequence=[34, 17, 45]\n"
     ]
    }
   ],
   "source": [
    "for k in range(5):\n",
    "    X1, X2, y = dataset_preparation(inp_size, out_size, features, 1)\n",
    "    target = predict_sequence(encoder_model, decoder_model, X1)\n",
    "    print('\\n Input Sequence=%s SeedSequence=%s, PredictedSequence=%s' % (reverse_onehot(X1[0]), reverse_onehot(y[0]), reverse_onehot(target)))"
   ]
  },
  {
   "cell_type": "code",
   "execution_count": null,
   "id": "sorted-advertiser",
   "metadata": {},
   "outputs": [],
   "source": []
  },
  {
   "cell_type": "code",
   "execution_count": null,
   "id": "raised-czech",
   "metadata": {},
   "outputs": [],
   "source": []
  },
  {
   "cell_type": "code",
   "execution_count": null,
   "id": "helpful-startup",
   "metadata": {},
   "outputs": [],
   "source": []
  },
  {
   "cell_type": "code",
   "execution_count": null,
   "id": "random-ozone",
   "metadata": {},
   "outputs": [],
   "source": []
  },
  {
   "cell_type": "code",
   "execution_count": null,
   "id": "indirect-nomination",
   "metadata": {},
   "outputs": [],
   "source": []
  },
  {
   "cell_type": "code",
   "execution_count": null,
   "id": "floppy-replacement",
   "metadata": {},
   "outputs": [],
   "source": []
  }
 ],
 "metadata": {
  "kernelspec": {
   "display_name": "Python 3",
   "language": "python",
   "name": "python3"
  },
  "language_info": {
   "codemirror_mode": {
    "name": "ipython",
    "version": 3
   },
   "file_extension": ".py",
   "mimetype": "text/x-python",
   "name": "python",
   "nbconvert_exporter": "python",
   "pygments_lexer": "ipython3",
   "version": "3.7.9"
  },
  "toc": {
   "base_numbering": 1,
   "nav_menu": {},
   "number_sections": false,
   "sideBar": true,
   "skip_h1_title": false,
   "title_cell": "Table of Contents",
   "title_sidebar": "Contents",
   "toc_cell": false,
   "toc_position": {},
   "toc_section_display": true,
   "toc_window_display": false
  }
 },
 "nbformat": 4,
 "nbformat_minor": 5
}
