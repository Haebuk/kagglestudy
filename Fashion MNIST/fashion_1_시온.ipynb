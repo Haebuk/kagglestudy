{
 "cells": [
  {
   "cell_type": "markdown",
   "id": "conditional-founder",
   "metadata": {},
   "source": [
    "# Kaggle Study Day 22"
   ]
  },
  {
   "cell_type": "markdown",
   "id": "consolidated-scene",
   "metadata": {},
   "source": [
    "# How Autoencoders Work : Intro and UseCases "
   ]
  },
  {
   "cell_type": "markdown",
   "id": "optional-studio",
   "metadata": {},
   "source": [
    "https://www.kaggle.com/shivamb/how-autoencoders-work-intro-and-usecases"
   ]
  },
  {
   "cell_type": "markdown",
   "id": "needed-drain",
   "metadata": {},
   "source": [
    "# 1. Introduction"
   ]
  },
  {
   "cell_type": "markdown",
   "id": "ideal-evolution",
   "metadata": {},
   "source": [
    "## 1.1. What are Autoencoders"
   ]
  },
  {
   "cell_type": "markdown",
   "id": "local-singer",
   "metadata": {},
   "source": [
    "Autoencoder는 출력이 입력과 동일한 특수한 유형의 인공신경망 구조다. Autoencoder는 입력 데이터의 아주 낮은 수준의 표현을 학습하기 위해 비지도방식으로 학습된다. 그런 다음 이러한 낮은 수준의 변수는 실제 데이터를 투영하기 위해 다시 변형된다. Autoencoder는 네트워크망을 통해 입력을 에측하는 회귀 작업이다(즉, identity 함수 모델링). 이런 네트워크망은 중간에 몇 뉴런의 병목현상이 있어, 디코더가 원래 입력을 재현하는 데 사용할 수 있는 저차원의 코드로 입력을 압축하는 효과적인 표현을 만들어야한다. \n",
    "\n",
    "일반적인 autoencoder 구조는 다음과 같은 세가지 주요 요소로 구성된다.\n",
    "- Encoding Architecture : 인코더 구조는 노드 수가 감소하는 일련의 레이어로 구성되며 궁극적으로 latent view representation으로 감소한다.\n",
    "- Latent View Representation : 잠재 뷰(latent view)는 입력이 감소하고 정보가 보존되는 가장 낮은 수준의 공간을 나타낸다.\n",
    "- Decoding Architecture : 디코딩 구조는 인코딩 구조의 거울 이미지이지만, 모든 레이어의 노드 수가 증가하고 궁극적으로 (거의) 유사한 입력을 출력한다.\n",
    "\n",
    "아주 미세하게 튜닝된 autoencoder 모델은 첫 레이어에서 전달된 동일한 입력을 재구성할 수 있어야한다. 이 커널에서 autoencoder 작업과 구현을 안내할 것이다. autoencoder는 이미지 데이터와 널리 사용되며 사용 예시는 다음과 같다.\n",
    "- 차원 축소\n",
    "- 이미지 압축\n",
    "- 이미지 노이즈 제거\n",
    "- 이미지 생성\n",
    "- 변수 추출"
   ]
  },
  {
   "cell_type": "markdown",
   "id": "acoustic-moses",
   "metadata": {},
   "source": [
    "## 1.2. How Autoencoders work"
   ]
  },
  {
   "cell_type": "markdown",
   "id": "friendly-delight",
   "metadata": {},
   "source": [
    "autoencoder에 숨겨진 수학을 이해해보자. autoencoder에 숨겨진 주요 아이디어는 고차원 데이터의 저차원 표현을 학습하는 것이다. 예시와 함께 인코딩 과정을 이해해보자. 데이터 표현 공간(데이터를 표현하는 데 사용되는 N 차원 공간)을 고려하고, x1과 x2 두 변수로 표현되는 데이터 포인트를 고려한다. 데이터 manifold는 실제 데이터가 있는 데이터 표현 공간의 내부 공간이다."
   ]
  },
  {
   "cell_type": "markdown",
   "id": "saving-variety",
   "metadata": {},
   "source": [
    "-- 내 설명 - 시온 -- <br>\n",
    "Manifold란 고차원 데이터(예: (256, 256, 3) 크기의 이미지)가 있을 때 고차원 데이터를 데이터 공간에 뿌리면 sample들을 잘 아우르는 subspace가 있을 것이라는 가정에서 학습을 진행하는 방법. 이렇게 찾은 manifold는 데이터의 차원을 축소시킬 수 있다."
   ]
  },
  {
   "cell_type": "code",
   "execution_count": 14,
   "id": "blond-milan",
   "metadata": {
    "ExecuteTime": {
     "end_time": "2021-02-16T11:26:34.925626Z",
     "start_time": "2021-02-16T11:26:34.847835Z"
    }
   },
   "outputs": [
    {
     "data": {
      "text/html": [
       "        <script type=\"text/javascript\">\n",
       "        window.PlotlyConfig = {MathJaxConfig: 'local'};\n",
       "        if (window.MathJax) {MathJax.Hub.Config({SVG: {font: \"STIX-Web\"}});}\n",
       "        if (typeof require !== 'undefined') {\n",
       "        require.undef(\"plotly\");\n",
       "        requirejs.config({\n",
       "            paths: {\n",
       "                'plotly': ['https://cdn.plot.ly/plotly-latest.min']\n",
       "            }\n",
       "        });\n",
       "        require(['plotly'], function(Plotly) {\n",
       "            window._Plotly = Plotly;\n",
       "        });\n",
       "        }\n",
       "        </script>\n",
       "        "
      ]
     },
     "metadata": {},
     "output_type": "display_data"
    },
    {
     "data": {
      "application/vnd.plotly.v1+json": {
       "config": {
        "linkText": "Export to plot.ly",
        "plotlyServerURL": "https://plot.ly",
        "showLink": false
       },
       "data": [
        {
         "mode": "markers",
         "name": "Actual Data",
         "type": "scatter",
         "x": [
          2,
          2.163265306122449,
          2.326530612244898,
          2.489795918367347,
          2.6530612244897958,
          2.816326530612245,
          2.979591836734694,
          3.142857142857143,
          3.3061224489795915,
          3.4693877551020407,
          3.63265306122449,
          3.7959183673469385,
          3.9591836734693877,
          4.122448979591836,
          4.285714285714286,
          4.448979591836734,
          4.612244897959183,
          4.775510204081632,
          4.938775510204081,
          5.1020408163265305,
          5.26530612244898,
          5.428571428571429,
          5.591836734693877,
          5.755102040816326,
          5.918367346938775,
          6.081632653061225,
          6.244897959183673,
          6.408163265306122,
          6.571428571428571,
          6.73469387755102,
          6.897959183673469,
          7.061224489795918,
          7.224489795918367,
          7.387755102040816,
          7.551020408163265,
          7.7142857142857135,
          7.877551020408163,
          8.040816326530612,
          8.204081632653061,
          8.367346938775508,
          8.53061224489796,
          8.693877551020407,
          8.857142857142858,
          9.020408163265305,
          9.183673469387754,
          9.346938775510203,
          9.510204081632653,
          9.673469387755102,
          9.83673469387755,
          10
         ],
         "y": [
          2,
          2.163265306122449,
          2.326530612244898,
          2.489795918367347,
          2.6530612244897958,
          2.816326530612245,
          2.979591836734694,
          3.142857142857143,
          3.3061224489795915,
          3.4693877551020407,
          3.63265306122449,
          3.7959183673469385,
          3.9591836734693877,
          4.122448979591836,
          4.285714285714286,
          4.448979591836734,
          4.612244897959183,
          4.775510204081632,
          4.938775510204081,
          5.1020408163265305,
          5.26530612244898,
          5.428571428571429,
          5.591836734693877,
          5.755102040816326,
          5.918367346938775,
          6.081632653061225,
          6.244897959183673,
          6.408163265306122,
          6.571428571428571,
          6.73469387755102,
          6.897959183673469,
          7.061224489795918,
          7.224489795918367,
          7.387755102040816,
          7.551020408163265,
          7.7142857142857135,
          7.877551020408163,
          8.040816326530612,
          8.204081632653061,
          8.367346938775508,
          8.53061224489796,
          8.693877551020407,
          8.857142857142858,
          9.020408163265305,
          9.183673469387754,
          9.346938775510203,
          9.510204081632653,
          9.673469387755102,
          9.83673469387755,
          10
         ]
        }
       ],
       "layout": {
        "annotations": [
         {
          "align": "center",
          "arrowcolor": "#636363",
          "arrowhead": 2,
          "arrowsize": 1,
          "arrowwidth": 2,
          "ax": -120,
          "ay": -30,
          "bgcolor": "orange",
          "bordercolor": "#c7c7c7",
          "borderpad": 4,
          "borderwidth": 2,
          "opacity": 0.8,
          "showarrow": true,
          "text": "This 1D line is the Data Maniffold (where data resides)",
          "x": 5,
          "xref": "x",
          "y": 5,
          "yref": "y"
         }
        ],
        "height": 400,
        "template": {
         "data": {
          "bar": [
           {
            "error_x": {
             "color": "#2a3f5f"
            },
            "error_y": {
             "color": "#2a3f5f"
            },
            "marker": {
             "line": {
              "color": "#E5ECF6",
              "width": 0.5
             }
            },
            "type": "bar"
           }
          ],
          "barpolar": [
           {
            "marker": {
             "line": {
              "color": "#E5ECF6",
              "width": 0.5
             }
            },
            "type": "barpolar"
           }
          ],
          "carpet": [
           {
            "aaxis": {
             "endlinecolor": "#2a3f5f",
             "gridcolor": "white",
             "linecolor": "white",
             "minorgridcolor": "white",
             "startlinecolor": "#2a3f5f"
            },
            "baxis": {
             "endlinecolor": "#2a3f5f",
             "gridcolor": "white",
             "linecolor": "white",
             "minorgridcolor": "white",
             "startlinecolor": "#2a3f5f"
            },
            "type": "carpet"
           }
          ],
          "choropleth": [
           {
            "colorbar": {
             "outlinewidth": 0,
             "ticks": ""
            },
            "type": "choropleth"
           }
          ],
          "contour": [
           {
            "colorbar": {
             "outlinewidth": 0,
             "ticks": ""
            },
            "colorscale": [
             [
              0,
              "#0d0887"
             ],
             [
              0.1111111111111111,
              "#46039f"
             ],
             [
              0.2222222222222222,
              "#7201a8"
             ],
             [
              0.3333333333333333,
              "#9c179e"
             ],
             [
              0.4444444444444444,
              "#bd3786"
             ],
             [
              0.5555555555555556,
              "#d8576b"
             ],
             [
              0.6666666666666666,
              "#ed7953"
             ],
             [
              0.7777777777777778,
              "#fb9f3a"
             ],
             [
              0.8888888888888888,
              "#fdca26"
             ],
             [
              1,
              "#f0f921"
             ]
            ],
            "type": "contour"
           }
          ],
          "contourcarpet": [
           {
            "colorbar": {
             "outlinewidth": 0,
             "ticks": ""
            },
            "type": "contourcarpet"
           }
          ],
          "heatmap": [
           {
            "colorbar": {
             "outlinewidth": 0,
             "ticks": ""
            },
            "colorscale": [
             [
              0,
              "#0d0887"
             ],
             [
              0.1111111111111111,
              "#46039f"
             ],
             [
              0.2222222222222222,
              "#7201a8"
             ],
             [
              0.3333333333333333,
              "#9c179e"
             ],
             [
              0.4444444444444444,
              "#bd3786"
             ],
             [
              0.5555555555555556,
              "#d8576b"
             ],
             [
              0.6666666666666666,
              "#ed7953"
             ],
             [
              0.7777777777777778,
              "#fb9f3a"
             ],
             [
              0.8888888888888888,
              "#fdca26"
             ],
             [
              1,
              "#f0f921"
             ]
            ],
            "type": "heatmap"
           }
          ],
          "heatmapgl": [
           {
            "colorbar": {
             "outlinewidth": 0,
             "ticks": ""
            },
            "colorscale": [
             [
              0,
              "#0d0887"
             ],
             [
              0.1111111111111111,
              "#46039f"
             ],
             [
              0.2222222222222222,
              "#7201a8"
             ],
             [
              0.3333333333333333,
              "#9c179e"
             ],
             [
              0.4444444444444444,
              "#bd3786"
             ],
             [
              0.5555555555555556,
              "#d8576b"
             ],
             [
              0.6666666666666666,
              "#ed7953"
             ],
             [
              0.7777777777777778,
              "#fb9f3a"
             ],
             [
              0.8888888888888888,
              "#fdca26"
             ],
             [
              1,
              "#f0f921"
             ]
            ],
            "type": "heatmapgl"
           }
          ],
          "histogram": [
           {
            "marker": {
             "colorbar": {
              "outlinewidth": 0,
              "ticks": ""
             }
            },
            "type": "histogram"
           }
          ],
          "histogram2d": [
           {
            "colorbar": {
             "outlinewidth": 0,
             "ticks": ""
            },
            "colorscale": [
             [
              0,
              "#0d0887"
             ],
             [
              0.1111111111111111,
              "#46039f"
             ],
             [
              0.2222222222222222,
              "#7201a8"
             ],
             [
              0.3333333333333333,
              "#9c179e"
             ],
             [
              0.4444444444444444,
              "#bd3786"
             ],
             [
              0.5555555555555556,
              "#d8576b"
             ],
             [
              0.6666666666666666,
              "#ed7953"
             ],
             [
              0.7777777777777778,
              "#fb9f3a"
             ],
             [
              0.8888888888888888,
              "#fdca26"
             ],
             [
              1,
              "#f0f921"
             ]
            ],
            "type": "histogram2d"
           }
          ],
          "histogram2dcontour": [
           {
            "colorbar": {
             "outlinewidth": 0,
             "ticks": ""
            },
            "colorscale": [
             [
              0,
              "#0d0887"
             ],
             [
              0.1111111111111111,
              "#46039f"
             ],
             [
              0.2222222222222222,
              "#7201a8"
             ],
             [
              0.3333333333333333,
              "#9c179e"
             ],
             [
              0.4444444444444444,
              "#bd3786"
             ],
             [
              0.5555555555555556,
              "#d8576b"
             ],
             [
              0.6666666666666666,
              "#ed7953"
             ],
             [
              0.7777777777777778,
              "#fb9f3a"
             ],
             [
              0.8888888888888888,
              "#fdca26"
             ],
             [
              1,
              "#f0f921"
             ]
            ],
            "type": "histogram2dcontour"
           }
          ],
          "mesh3d": [
           {
            "colorbar": {
             "outlinewidth": 0,
             "ticks": ""
            },
            "type": "mesh3d"
           }
          ],
          "parcoords": [
           {
            "line": {
             "colorbar": {
              "outlinewidth": 0,
              "ticks": ""
             }
            },
            "type": "parcoords"
           }
          ],
          "pie": [
           {
            "automargin": true,
            "type": "pie"
           }
          ],
          "scatter": [
           {
            "marker": {
             "colorbar": {
              "outlinewidth": 0,
              "ticks": ""
             }
            },
            "type": "scatter"
           }
          ],
          "scatter3d": [
           {
            "line": {
             "colorbar": {
              "outlinewidth": 0,
              "ticks": ""
             }
            },
            "marker": {
             "colorbar": {
              "outlinewidth": 0,
              "ticks": ""
             }
            },
            "type": "scatter3d"
           }
          ],
          "scattercarpet": [
           {
            "marker": {
             "colorbar": {
              "outlinewidth": 0,
              "ticks": ""
             }
            },
            "type": "scattercarpet"
           }
          ],
          "scattergeo": [
           {
            "marker": {
             "colorbar": {
              "outlinewidth": 0,
              "ticks": ""
             }
            },
            "type": "scattergeo"
           }
          ],
          "scattergl": [
           {
            "marker": {
             "colorbar": {
              "outlinewidth": 0,
              "ticks": ""
             }
            },
            "type": "scattergl"
           }
          ],
          "scattermapbox": [
           {
            "marker": {
             "colorbar": {
              "outlinewidth": 0,
              "ticks": ""
             }
            },
            "type": "scattermapbox"
           }
          ],
          "scatterpolar": [
           {
            "marker": {
             "colorbar": {
              "outlinewidth": 0,
              "ticks": ""
             }
            },
            "type": "scatterpolar"
           }
          ],
          "scatterpolargl": [
           {
            "marker": {
             "colorbar": {
              "outlinewidth": 0,
              "ticks": ""
             }
            },
            "type": "scatterpolargl"
           }
          ],
          "scatterternary": [
           {
            "marker": {
             "colorbar": {
              "outlinewidth": 0,
              "ticks": ""
             }
            },
            "type": "scatterternary"
           }
          ],
          "surface": [
           {
            "colorbar": {
             "outlinewidth": 0,
             "ticks": ""
            },
            "colorscale": [
             [
              0,
              "#0d0887"
             ],
             [
              0.1111111111111111,
              "#46039f"
             ],
             [
              0.2222222222222222,
              "#7201a8"
             ],
             [
              0.3333333333333333,
              "#9c179e"
             ],
             [
              0.4444444444444444,
              "#bd3786"
             ],
             [
              0.5555555555555556,
              "#d8576b"
             ],
             [
              0.6666666666666666,
              "#ed7953"
             ],
             [
              0.7777777777777778,
              "#fb9f3a"
             ],
             [
              0.8888888888888888,
              "#fdca26"
             ],
             [
              1,
              "#f0f921"
             ]
            ],
            "type": "surface"
           }
          ],
          "table": [
           {
            "cells": {
             "fill": {
              "color": "#EBF0F8"
             },
             "line": {
              "color": "white"
             }
            },
            "header": {
             "fill": {
              "color": "#C8D4E3"
             },
             "line": {
              "color": "white"
             }
            },
            "type": "table"
           }
          ]
         },
         "layout": {
          "annotationdefaults": {
           "arrowcolor": "#2a3f5f",
           "arrowhead": 0,
           "arrowwidth": 1
          },
          "autotypenumbers": "strict",
          "coloraxis": {
           "colorbar": {
            "outlinewidth": 0,
            "ticks": ""
           }
          },
          "colorscale": {
           "diverging": [
            [
             0,
             "#8e0152"
            ],
            [
             0.1,
             "#c51b7d"
            ],
            [
             0.2,
             "#de77ae"
            ],
            [
             0.3,
             "#f1b6da"
            ],
            [
             0.4,
             "#fde0ef"
            ],
            [
             0.5,
             "#f7f7f7"
            ],
            [
             0.6,
             "#e6f5d0"
            ],
            [
             0.7,
             "#b8e186"
            ],
            [
             0.8,
             "#7fbc41"
            ],
            [
             0.9,
             "#4d9221"
            ],
            [
             1,
             "#276419"
            ]
           ],
           "sequential": [
            [
             0,
             "#0d0887"
            ],
            [
             0.1111111111111111,
             "#46039f"
            ],
            [
             0.2222222222222222,
             "#7201a8"
            ],
            [
             0.3333333333333333,
             "#9c179e"
            ],
            [
             0.4444444444444444,
             "#bd3786"
            ],
            [
             0.5555555555555556,
             "#d8576b"
            ],
            [
             0.6666666666666666,
             "#ed7953"
            ],
            [
             0.7777777777777778,
             "#fb9f3a"
            ],
            [
             0.8888888888888888,
             "#fdca26"
            ],
            [
             1,
             "#f0f921"
            ]
           ],
           "sequentialminus": [
            [
             0,
             "#0d0887"
            ],
            [
             0.1111111111111111,
             "#46039f"
            ],
            [
             0.2222222222222222,
             "#7201a8"
            ],
            [
             0.3333333333333333,
             "#9c179e"
            ],
            [
             0.4444444444444444,
             "#bd3786"
            ],
            [
             0.5555555555555556,
             "#d8576b"
            ],
            [
             0.6666666666666666,
             "#ed7953"
            ],
            [
             0.7777777777777778,
             "#fb9f3a"
            ],
            [
             0.8888888888888888,
             "#fdca26"
            ],
            [
             1,
             "#f0f921"
            ]
           ]
          },
          "colorway": [
           "#636efa",
           "#EF553B",
           "#00cc96",
           "#ab63fa",
           "#FFA15A",
           "#19d3f3",
           "#FF6692",
           "#B6E880",
           "#FF97FF",
           "#FECB52"
          ],
          "font": {
           "color": "#2a3f5f"
          },
          "geo": {
           "bgcolor": "white",
           "lakecolor": "white",
           "landcolor": "#E5ECF6",
           "showlakes": true,
           "showland": true,
           "subunitcolor": "white"
          },
          "hoverlabel": {
           "align": "left"
          },
          "hovermode": "closest",
          "mapbox": {
           "style": "light"
          },
          "paper_bgcolor": "white",
          "plot_bgcolor": "#E5ECF6",
          "polar": {
           "angularaxis": {
            "gridcolor": "white",
            "linecolor": "white",
            "ticks": ""
           },
           "bgcolor": "#E5ECF6",
           "radialaxis": {
            "gridcolor": "white",
            "linecolor": "white",
            "ticks": ""
           }
          },
          "scene": {
           "xaxis": {
            "backgroundcolor": "#E5ECF6",
            "gridcolor": "white",
            "gridwidth": 2,
            "linecolor": "white",
            "showbackground": true,
            "ticks": "",
            "zerolinecolor": "white"
           },
           "yaxis": {
            "backgroundcolor": "#E5ECF6",
            "gridcolor": "white",
            "gridwidth": 2,
            "linecolor": "white",
            "showbackground": true,
            "ticks": "",
            "zerolinecolor": "white"
           },
           "zaxis": {
            "backgroundcolor": "#E5ECF6",
            "gridcolor": "white",
            "gridwidth": 2,
            "linecolor": "white",
            "showbackground": true,
            "ticks": "",
            "zerolinecolor": "white"
           }
          },
          "shapedefaults": {
           "line": {
            "color": "#2a3f5f"
           }
          },
          "ternary": {
           "aaxis": {
            "gridcolor": "white",
            "linecolor": "white",
            "ticks": ""
           },
           "baxis": {
            "gridcolor": "white",
            "linecolor": "white",
            "ticks": ""
           },
           "bgcolor": "#E5ECF6",
           "caxis": {
            "gridcolor": "white",
            "linecolor": "white",
            "ticks": ""
           }
          },
          "title": {
           "x": 0.05
          },
          "xaxis": {
           "automargin": true,
           "gridcolor": "white",
           "linecolor": "white",
           "ticks": "",
           "title": {
            "standoff": 15
           },
           "zerolinecolor": "white",
           "zerolinewidth": 2
          },
          "yaxis": {
           "automargin": true,
           "gridcolor": "white",
           "linecolor": "white",
           "ticks": "",
           "title": {
            "standoff": 15
           },
           "zerolinecolor": "white",
           "zerolinewidth": 2
          }
         }
        },
        "title": {
         "text": "2D Data Representation Space"
        },
        "xaxis": {
         "range": [
          0,
          12
         ],
         "title": {
          "text": "x2"
         }
        },
        "yaxis": {
         "range": [
          0,
          12
         ],
         "title": {
          "text": "x1"
         }
        }
       }
      },
      "text/html": [
       "<div>                            <div id=\"30307b3a-9c7b-4146-ae82-b43b55d15434\" class=\"plotly-graph-div\" style=\"height:400px; width:100%;\"></div>            <script type=\"text/javascript\">                require([\"plotly\"], function(Plotly) {                    window.PLOTLYENV=window.PLOTLYENV || {};                                    if (document.getElementById(\"30307b3a-9c7b-4146-ae82-b43b55d15434\")) {                    Plotly.newPlot(                        \"30307b3a-9c7b-4146-ae82-b43b55d15434\",                        [{\"mode\": \"markers\", \"name\": \"Actual Data\", \"type\": \"scatter\", \"x\": [2.0, 2.163265306122449, 2.326530612244898, 2.489795918367347, 2.6530612244897958, 2.816326530612245, 2.979591836734694, 3.142857142857143, 3.3061224489795915, 3.4693877551020407, 3.63265306122449, 3.7959183673469385, 3.9591836734693877, 4.122448979591836, 4.285714285714286, 4.448979591836734, 4.612244897959183, 4.775510204081632, 4.938775510204081, 5.1020408163265305, 5.26530612244898, 5.428571428571429, 5.591836734693877, 5.755102040816326, 5.918367346938775, 6.081632653061225, 6.244897959183673, 6.408163265306122, 6.571428571428571, 6.73469387755102, 6.897959183673469, 7.061224489795918, 7.224489795918367, 7.387755102040816, 7.551020408163265, 7.7142857142857135, 7.877551020408163, 8.040816326530612, 8.204081632653061, 8.367346938775508, 8.53061224489796, 8.693877551020407, 8.857142857142858, 9.020408163265305, 9.183673469387754, 9.346938775510203, 9.510204081632653, 9.673469387755102, 9.83673469387755, 10.0], \"y\": [2.0, 2.163265306122449, 2.326530612244898, 2.489795918367347, 2.6530612244897958, 2.816326530612245, 2.979591836734694, 3.142857142857143, 3.3061224489795915, 3.4693877551020407, 3.63265306122449, 3.7959183673469385, 3.9591836734693877, 4.122448979591836, 4.285714285714286, 4.448979591836734, 4.612244897959183, 4.775510204081632, 4.938775510204081, 5.1020408163265305, 5.26530612244898, 5.428571428571429, 5.591836734693877, 5.755102040816326, 5.918367346938775, 6.081632653061225, 6.244897959183673, 6.408163265306122, 6.571428571428571, 6.73469387755102, 6.897959183673469, 7.061224489795918, 7.224489795918367, 7.387755102040816, 7.551020408163265, 7.7142857142857135, 7.877551020408163, 8.040816326530612, 8.204081632653061, 8.367346938775508, 8.53061224489796, 8.693877551020407, 8.857142857142858, 9.020408163265305, 9.183673469387754, 9.346938775510203, 9.510204081632653, 9.673469387755102, 9.83673469387755, 10.0]}],                        {\"annotations\": [{\"align\": \"center\", \"arrowcolor\": \"#636363\", \"arrowhead\": 2, \"arrowsize\": 1, \"arrowwidth\": 2, \"ax\": -120, \"ay\": -30, \"bgcolor\": \"orange\", \"bordercolor\": \"#c7c7c7\", \"borderpad\": 4, \"borderwidth\": 2, \"opacity\": 0.8, \"showarrow\": true, \"text\": \"This 1D line is the Data Maniffold (where data resides)\", \"x\": 5, \"xref\": \"x\", \"y\": 5, \"yref\": \"y\"}], \"height\": 400, \"template\": {\"data\": {\"bar\": [{\"error_x\": {\"color\": \"#2a3f5f\"}, \"error_y\": {\"color\": \"#2a3f5f\"}, \"marker\": {\"line\": {\"color\": \"#E5ECF6\", \"width\": 0.5}}, \"type\": \"bar\"}], \"barpolar\": [{\"marker\": {\"line\": {\"color\": \"#E5ECF6\", \"width\": 0.5}}, \"type\": \"barpolar\"}], \"carpet\": [{\"aaxis\": {\"endlinecolor\": \"#2a3f5f\", \"gridcolor\": \"white\", \"linecolor\": \"white\", \"minorgridcolor\": \"white\", \"startlinecolor\": \"#2a3f5f\"}, \"baxis\": {\"endlinecolor\": \"#2a3f5f\", \"gridcolor\": \"white\", \"linecolor\": \"white\", \"minorgridcolor\": \"white\", \"startlinecolor\": \"#2a3f5f\"}, \"type\": \"carpet\"}], \"choropleth\": [{\"colorbar\": {\"outlinewidth\": 0, \"ticks\": \"\"}, \"type\": \"choropleth\"}], \"contour\": [{\"colorbar\": {\"outlinewidth\": 0, \"ticks\": \"\"}, \"colorscale\": [[0.0, \"#0d0887\"], [0.1111111111111111, \"#46039f\"], [0.2222222222222222, \"#7201a8\"], [0.3333333333333333, \"#9c179e\"], [0.4444444444444444, \"#bd3786\"], [0.5555555555555556, \"#d8576b\"], [0.6666666666666666, \"#ed7953\"], [0.7777777777777778, \"#fb9f3a\"], [0.8888888888888888, \"#fdca26\"], [1.0, \"#f0f921\"]], \"type\": \"contour\"}], \"contourcarpet\": [{\"colorbar\": {\"outlinewidth\": 0, \"ticks\": \"\"}, \"type\": \"contourcarpet\"}], \"heatmap\": [{\"colorbar\": {\"outlinewidth\": 0, \"ticks\": \"\"}, \"colorscale\": [[0.0, \"#0d0887\"], [0.1111111111111111, \"#46039f\"], [0.2222222222222222, \"#7201a8\"], [0.3333333333333333, \"#9c179e\"], [0.4444444444444444, \"#bd3786\"], [0.5555555555555556, \"#d8576b\"], [0.6666666666666666, \"#ed7953\"], [0.7777777777777778, \"#fb9f3a\"], [0.8888888888888888, \"#fdca26\"], [1.0, \"#f0f921\"]], \"type\": \"heatmap\"}], \"heatmapgl\": [{\"colorbar\": {\"outlinewidth\": 0, \"ticks\": \"\"}, \"colorscale\": [[0.0, \"#0d0887\"], [0.1111111111111111, \"#46039f\"], [0.2222222222222222, \"#7201a8\"], [0.3333333333333333, \"#9c179e\"], [0.4444444444444444, \"#bd3786\"], [0.5555555555555556, \"#d8576b\"], [0.6666666666666666, \"#ed7953\"], [0.7777777777777778, \"#fb9f3a\"], [0.8888888888888888, \"#fdca26\"], [1.0, \"#f0f921\"]], \"type\": \"heatmapgl\"}], \"histogram\": [{\"marker\": {\"colorbar\": {\"outlinewidth\": 0, \"ticks\": \"\"}}, \"type\": \"histogram\"}], \"histogram2d\": [{\"colorbar\": {\"outlinewidth\": 0, \"ticks\": \"\"}, \"colorscale\": [[0.0, \"#0d0887\"], [0.1111111111111111, \"#46039f\"], [0.2222222222222222, \"#7201a8\"], [0.3333333333333333, \"#9c179e\"], [0.4444444444444444, \"#bd3786\"], [0.5555555555555556, \"#d8576b\"], [0.6666666666666666, \"#ed7953\"], [0.7777777777777778, \"#fb9f3a\"], [0.8888888888888888, \"#fdca26\"], [1.0, \"#f0f921\"]], \"type\": \"histogram2d\"}], \"histogram2dcontour\": [{\"colorbar\": {\"outlinewidth\": 0, \"ticks\": \"\"}, \"colorscale\": [[0.0, \"#0d0887\"], [0.1111111111111111, \"#46039f\"], [0.2222222222222222, \"#7201a8\"], [0.3333333333333333, \"#9c179e\"], [0.4444444444444444, \"#bd3786\"], [0.5555555555555556, \"#d8576b\"], [0.6666666666666666, \"#ed7953\"], [0.7777777777777778, \"#fb9f3a\"], [0.8888888888888888, \"#fdca26\"], [1.0, \"#f0f921\"]], \"type\": \"histogram2dcontour\"}], \"mesh3d\": [{\"colorbar\": {\"outlinewidth\": 0, \"ticks\": \"\"}, \"type\": \"mesh3d\"}], \"parcoords\": [{\"line\": {\"colorbar\": {\"outlinewidth\": 0, \"ticks\": \"\"}}, \"type\": \"parcoords\"}], \"pie\": [{\"automargin\": true, \"type\": \"pie\"}], \"scatter\": [{\"marker\": {\"colorbar\": {\"outlinewidth\": 0, \"ticks\": \"\"}}, \"type\": \"scatter\"}], \"scatter3d\": [{\"line\": {\"colorbar\": {\"outlinewidth\": 0, \"ticks\": \"\"}}, \"marker\": {\"colorbar\": {\"outlinewidth\": 0, \"ticks\": \"\"}}, \"type\": \"scatter3d\"}], \"scattercarpet\": [{\"marker\": {\"colorbar\": {\"outlinewidth\": 0, \"ticks\": \"\"}}, \"type\": \"scattercarpet\"}], \"scattergeo\": [{\"marker\": {\"colorbar\": {\"outlinewidth\": 0, \"ticks\": \"\"}}, \"type\": \"scattergeo\"}], \"scattergl\": [{\"marker\": {\"colorbar\": {\"outlinewidth\": 0, \"ticks\": \"\"}}, \"type\": \"scattergl\"}], \"scattermapbox\": [{\"marker\": {\"colorbar\": {\"outlinewidth\": 0, \"ticks\": \"\"}}, \"type\": \"scattermapbox\"}], \"scatterpolar\": [{\"marker\": {\"colorbar\": {\"outlinewidth\": 0, \"ticks\": \"\"}}, \"type\": \"scatterpolar\"}], \"scatterpolargl\": [{\"marker\": {\"colorbar\": {\"outlinewidth\": 0, \"ticks\": \"\"}}, \"type\": \"scatterpolargl\"}], \"scatterternary\": [{\"marker\": {\"colorbar\": {\"outlinewidth\": 0, \"ticks\": \"\"}}, \"type\": \"scatterternary\"}], \"surface\": [{\"colorbar\": {\"outlinewidth\": 0, \"ticks\": \"\"}, \"colorscale\": [[0.0, \"#0d0887\"], [0.1111111111111111, \"#46039f\"], [0.2222222222222222, \"#7201a8\"], [0.3333333333333333, \"#9c179e\"], [0.4444444444444444, \"#bd3786\"], [0.5555555555555556, \"#d8576b\"], [0.6666666666666666, \"#ed7953\"], [0.7777777777777778, \"#fb9f3a\"], [0.8888888888888888, \"#fdca26\"], [1.0, \"#f0f921\"]], \"type\": \"surface\"}], \"table\": [{\"cells\": {\"fill\": {\"color\": \"#EBF0F8\"}, \"line\": {\"color\": \"white\"}}, \"header\": {\"fill\": {\"color\": \"#C8D4E3\"}, \"line\": {\"color\": \"white\"}}, \"type\": \"table\"}]}, \"layout\": {\"annotationdefaults\": {\"arrowcolor\": \"#2a3f5f\", \"arrowhead\": 0, \"arrowwidth\": 1}, \"autotypenumbers\": \"strict\", \"coloraxis\": {\"colorbar\": {\"outlinewidth\": 0, \"ticks\": \"\"}}, \"colorscale\": {\"diverging\": [[0, \"#8e0152\"], [0.1, \"#c51b7d\"], [0.2, \"#de77ae\"], [0.3, \"#f1b6da\"], [0.4, \"#fde0ef\"], [0.5, \"#f7f7f7\"], [0.6, \"#e6f5d0\"], [0.7, \"#b8e186\"], [0.8, \"#7fbc41\"], [0.9, \"#4d9221\"], [1, \"#276419\"]], \"sequential\": [[0.0, \"#0d0887\"], [0.1111111111111111, \"#46039f\"], [0.2222222222222222, \"#7201a8\"], [0.3333333333333333, \"#9c179e\"], [0.4444444444444444, \"#bd3786\"], [0.5555555555555556, \"#d8576b\"], [0.6666666666666666, \"#ed7953\"], [0.7777777777777778, \"#fb9f3a\"], [0.8888888888888888, \"#fdca26\"], [1.0, \"#f0f921\"]], \"sequentialminus\": [[0.0, \"#0d0887\"], [0.1111111111111111, \"#46039f\"], [0.2222222222222222, \"#7201a8\"], [0.3333333333333333, \"#9c179e\"], [0.4444444444444444, \"#bd3786\"], [0.5555555555555556, \"#d8576b\"], [0.6666666666666666, \"#ed7953\"], [0.7777777777777778, \"#fb9f3a\"], [0.8888888888888888, \"#fdca26\"], [1.0, \"#f0f921\"]]}, \"colorway\": [\"#636efa\", \"#EF553B\", \"#00cc96\", \"#ab63fa\", \"#FFA15A\", \"#19d3f3\", \"#FF6692\", \"#B6E880\", \"#FF97FF\", \"#FECB52\"], \"font\": {\"color\": \"#2a3f5f\"}, \"geo\": {\"bgcolor\": \"white\", \"lakecolor\": \"white\", \"landcolor\": \"#E5ECF6\", \"showlakes\": true, \"showland\": true, \"subunitcolor\": \"white\"}, \"hoverlabel\": {\"align\": \"left\"}, \"hovermode\": \"closest\", \"mapbox\": {\"style\": \"light\"}, \"paper_bgcolor\": \"white\", \"plot_bgcolor\": \"#E5ECF6\", \"polar\": {\"angularaxis\": {\"gridcolor\": \"white\", \"linecolor\": \"white\", \"ticks\": \"\"}, \"bgcolor\": \"#E5ECF6\", \"radialaxis\": {\"gridcolor\": \"white\", \"linecolor\": \"white\", \"ticks\": \"\"}}, \"scene\": {\"xaxis\": {\"backgroundcolor\": \"#E5ECF6\", \"gridcolor\": \"white\", \"gridwidth\": 2, \"linecolor\": \"white\", \"showbackground\": true, \"ticks\": \"\", \"zerolinecolor\": \"white\"}, \"yaxis\": {\"backgroundcolor\": \"#E5ECF6\", \"gridcolor\": \"white\", \"gridwidth\": 2, \"linecolor\": \"white\", \"showbackground\": true, \"ticks\": \"\", \"zerolinecolor\": \"white\"}, \"zaxis\": {\"backgroundcolor\": \"#E5ECF6\", \"gridcolor\": \"white\", \"gridwidth\": 2, \"linecolor\": \"white\", \"showbackground\": true, \"ticks\": \"\", \"zerolinecolor\": \"white\"}}, \"shapedefaults\": {\"line\": {\"color\": \"#2a3f5f\"}}, \"ternary\": {\"aaxis\": {\"gridcolor\": \"white\", \"linecolor\": \"white\", \"ticks\": \"\"}, \"baxis\": {\"gridcolor\": \"white\", \"linecolor\": \"white\", \"ticks\": \"\"}, \"bgcolor\": \"#E5ECF6\", \"caxis\": {\"gridcolor\": \"white\", \"linecolor\": \"white\", \"ticks\": \"\"}}, \"title\": {\"x\": 0.05}, \"xaxis\": {\"automargin\": true, \"gridcolor\": \"white\", \"linecolor\": \"white\", \"ticks\": \"\", \"title\": {\"standoff\": 15}, \"zerolinecolor\": \"white\", \"zerolinewidth\": 2}, \"yaxis\": {\"automargin\": true, \"gridcolor\": \"white\", \"linecolor\": \"white\", \"ticks\": \"\", \"title\": {\"standoff\": 15}, \"zerolinecolor\": \"white\", \"zerolinewidth\": 2}}}, \"title\": {\"text\": \"2D Data Representation Space\"}, \"xaxis\": {\"range\": [0, 12], \"title\": {\"text\": \"x2\"}}, \"yaxis\": {\"range\": [0, 12], \"title\": {\"text\": \"x1\"}}},                        {\"responsive\": true}                    ).then(function(){\n",
       "                            \n",
       "var gd = document.getElementById('30307b3a-9c7b-4146-ae82-b43b55d15434');\n",
       "var x = new MutationObserver(function (mutations, observer) {{\n",
       "        var display = window.getComputedStyle(gd).display;\n",
       "        if (!display || display === 'none') {{\n",
       "            console.log([gd, 'removed!']);\n",
       "            Plotly.purge(gd);\n",
       "            observer.disconnect();\n",
       "        }}\n",
       "}});\n",
       "\n",
       "// Listen for the removal of the full notebook cells\n",
       "var notebookContainer = gd.closest('#notebook-container');\n",
       "if (notebookContainer) {{\n",
       "    x.observe(notebookContainer, {childList: true});\n",
       "}}\n",
       "\n",
       "// Listen for the clearing of the current output cell\n",
       "var outputEl = gd.closest('.output');\n",
       "if (outputEl) {{\n",
       "    x.observe(outputEl, {childList: true});\n",
       "}}\n",
       "\n",
       "                        })                };                });            </script>        </div>"
      ]
     },
     "metadata": {},
     "output_type": "display_data"
    }
   ],
   "source": [
    "from plotly.offline import init_notebook_mode, iplot\n",
    "import plotly.graph_objs as go\n",
    "import numpy as np\n",
    "init_notebook_mode(connected=True)\n",
    "\n",
    "# 랜덤 데이터 생성\n",
    "N = 50\n",
    "random_x = np.linspace(2,10,N)  ### linspace(start, stop, num)\n",
    "random_y1 = np.linspace(2,10,N) ### start부터 stop까지 num개의 수열 생성\n",
    "random_y2 = np.linspace(2,10,N)\n",
    "\n",
    "trace1 = go.Scatter(x=random_x, y=random_y1, mode='markers', name='Actual Data')\n",
    "trace2 = go.Scatter(x=random_x, y=random_y2, mode='lines', name='Model')\n",
    "layout = go.Layout(title='2D Data Representation Space', xaxis=dict(title='x2', range=(0,12)), yaxis=dict(title='x1', range=(0,12)), height=400,\n",
    "                  annotations=[dict(x=5,y=5,xref='x',yref='y',text='This 1D line is the Data Maniffold (where data resides)',\n",
    "                                   showarrow=True, align='center', arrowhead=2, arrowsize=1, arrowwidth=2, arrowcolor='#636363',\n",
    "                                   ax=-120, ay=-30, bordercolor='#c7c7c7', borderwidth=2, borderpad=4, bgcolor='orange', opacity=0.8)])\n",
    "figure = go.Figure(data=[trace1], layout=layout)\n",
    "iplot(figure)"
   ]
  },
  {
   "cell_type": "markdown",
   "id": "hindu-logistics",
   "metadata": {},
   "source": [
    "이 데이터를 표현하기 위해 현재 X와 Y의 2차원을 사용하고 있다. 하지만 이 공간의 차원을 저차원(1D)으로 줄이는 게 가능하다.\n",
    "- 선의 기준점 : A\n",
    "- 수평축을 가진 각도 L\n",
    "\n",
    "위의 두가지를 정의할 수 있으면, 선 A 위의 다른 점(B)은 A부터의 거리 'd'와 각도 L로 나타낼 수 있다."
   ]
  },
  {
   "cell_type": "code",
   "execution_count": 16,
   "id": "aware-florence",
   "metadata": {
    "ExecuteTime": {
     "end_time": "2021-02-16T11:37:25.205246Z",
     "start_time": "2021-02-16T11:37:25.062626Z"
    }
   },
   "outputs": [
    {
     "data": {
      "application/vnd.plotly.v1+json": {
       "config": {
        "linkText": "Export to plot.ly",
        "plotlyServerURL": "https://plot.ly",
        "showLink": false
       },
       "data": [
        {
         "mode": "markers",
         "type": "scatter",
         "x": [
          2,
          2.163265306122449,
          2.326530612244898,
          2.489795918367347,
          2.6530612244897958,
          2.816326530612245,
          2.979591836734694,
          3.142857142857143,
          3.3061224489795915,
          3.4693877551020407,
          3.63265306122449,
          3.7959183673469385,
          3.9591836734693877,
          4.122448979591836,
          4.285714285714286,
          4.448979591836734,
          4.612244897959183,
          4.775510204081632,
          4.938775510204081,
          5.1020408163265305,
          5.26530612244898,
          5.428571428571429,
          5.591836734693877,
          5.755102040816326,
          5.918367346938775,
          6.081632653061225,
          6.244897959183673,
          6.408163265306122,
          6.571428571428571,
          6.73469387755102,
          6.897959183673469,
          7.061224489795918,
          7.224489795918367,
          7.387755102040816,
          7.551020408163265,
          7.7142857142857135,
          7.877551020408163,
          8.040816326530612,
          8.204081632653061,
          8.367346938775508,
          8.53061224489796,
          8.693877551020407,
          8.857142857142858,
          9.020408163265305,
          9.183673469387754,
          9.346938775510203,
          9.510204081632653,
          9.673469387755102,
          9.83673469387755,
          10
         ],
         "y": [
          2,
          2.163265306122449,
          2.326530612244898,
          2.489795918367347,
          2.6530612244897958,
          2.816326530612245,
          2.979591836734694,
          3.142857142857143,
          3.3061224489795915,
          3.4693877551020407,
          3.63265306122449,
          3.7959183673469385,
          3.9591836734693877,
          4.122448979591836,
          4.285714285714286,
          4.448979591836734,
          4.612244897959183,
          4.775510204081632,
          4.938775510204081,
          5.1020408163265305,
          5.26530612244898,
          5.428571428571429,
          5.591836734693877,
          5.755102040816326,
          5.918367346938775,
          6.081632653061225,
          6.244897959183673,
          6.408163265306122,
          6.571428571428571,
          6.73469387755102,
          6.897959183673469,
          7.061224489795918,
          7.224489795918367,
          7.387755102040816,
          7.551020408163265,
          7.7142857142857135,
          7.877551020408163,
          8.040816326530612,
          8.204081632653061,
          8.367346938775508,
          8.53061224489796,
          8.693877551020407,
          8.857142857142858,
          9.020408163265305,
          9.183673469387754,
          9.346938775510203,
          9.510204081632653,
          9.673469387755102,
          9.83673469387755,
          10
         ]
        },
        {
         "mode": "lines",
         "type": "scatter",
         "x": [
          2,
          2.163265306122449,
          2.326530612244898,
          2.489795918367347,
          2.6530612244897958,
          2.816326530612245,
          2.979591836734694,
          3.142857142857143,
          3.3061224489795915,
          3.4693877551020407,
          3.63265306122449,
          3.7959183673469385,
          3.9591836734693877,
          4.122448979591836,
          4.285714285714286,
          4.448979591836734,
          4.612244897959183,
          4.775510204081632,
          4.938775510204081,
          5.1020408163265305,
          5.26530612244898,
          5.428571428571429,
          5.591836734693877,
          5.755102040816326,
          5.918367346938775,
          6.081632653061225,
          6.244897959183673,
          6.408163265306122,
          6.571428571428571,
          6.73469387755102,
          6.897959183673469,
          7.061224489795918,
          7.224489795918367,
          7.387755102040816,
          7.551020408163265,
          7.7142857142857135,
          7.877551020408163,
          8.040816326530612,
          8.204081632653061,
          8.367346938775508,
          8.53061224489796,
          8.693877551020407,
          8.857142857142858,
          9.020408163265305,
          9.183673469387754,
          9.346938775510203,
          9.510204081632653,
          9.673469387755102,
          9.83673469387755,
          10
         ],
         "y": [
          2,
          2.163265306122449,
          2.326530612244898,
          2.489795918367347,
          2.6530612244897958,
          2.816326530612245,
          2.979591836734694,
          3.142857142857143,
          3.3061224489795915,
          3.4693877551020407,
          3.63265306122449,
          3.7959183673469385,
          3.9591836734693877,
          4.122448979591836,
          4.285714285714286,
          4.448979591836734,
          4.612244897959183,
          4.775510204081632,
          4.938775510204081,
          5.1020408163265305,
          5.26530612244898,
          5.428571428571429,
          5.591836734693877,
          5.755102040816326,
          5.918367346938775,
          6.081632653061225,
          6.244897959183673,
          6.408163265306122,
          6.571428571428571,
          6.73469387755102,
          6.897959183673469,
          7.061224489795918,
          7.224489795918367,
          7.387755102040816,
          7.551020408163265,
          7.7142857142857135,
          7.877551020408163,
          8.040816326530612,
          8.204081632653061,
          8.367346938775508,
          8.53061224489796,
          8.693877551020407,
          8.857142857142858,
          9.020408163265305,
          9.183673469387754,
          9.346938775510203,
          9.510204081632653,
          9.673469387755102,
          9.83673469387755,
          10
         ]
        },
        {
         "mode": "lines",
         "type": "scatter",
         "x": [
          2,
          2.163265306122449,
          2.326530612244898,
          2.489795918367347,
          2.6530612244897958,
          2.816326530612245,
          2.979591836734694,
          3.142857142857143,
          3.3061224489795915,
          3.4693877551020407,
          3.63265306122449,
          3.7959183673469385,
          3.9591836734693877,
          4.122448979591836,
          4.285714285714286,
          4.448979591836734,
          4.612244897959183,
          4.775510204081632,
          4.938775510204081,
          5.1020408163265305,
          5.26530612244898,
          5.428571428571429,
          5.591836734693877,
          5.755102040816326,
          5.918367346938775,
          6.081632653061225,
          6.244897959183673,
          6.408163265306122,
          6.571428571428571,
          6.73469387755102,
          6.897959183673469,
          7.061224489795918,
          7.224489795918367,
          7.387755102040816,
          7.551020408163265,
          7.7142857142857135,
          7.877551020408163,
          8.040816326530612,
          8.204081632653061,
          8.367346938775508,
          8.53061224489796,
          8.693877551020407,
          8.857142857142858,
          9.020408163265305,
          9.183673469387754,
          9.346938775510203,
          9.510204081632653,
          9.673469387755102,
          9.83673469387755,
          10
         ],
         "y": [
          2,
          2,
          2,
          2,
          2,
          2,
          2,
          2,
          2,
          2,
          2,
          2,
          2,
          2,
          2,
          2,
          2,
          2,
          2,
          2,
          2,
          2,
          2,
          2,
          2,
          2,
          2,
          2,
          2,
          2,
          2,
          2,
          2,
          2,
          2,
          2,
          2,
          2,
          2,
          2,
          2,
          2,
          2,
          2,
          2,
          2,
          2,
          2,
          2,
          2,
          2,
          2,
          2,
          2,
          2,
          2,
          2,
          2,
          2,
          2,
          2,
          2,
          2,
          2,
          2,
          2,
          2,
          2,
          2,
          2,
          2,
          2,
          2,
          2,
          2,
          2,
          2,
          2,
          2,
          2,
          2,
          2,
          2,
          2,
          2,
          2,
          2,
          2,
          2,
          2,
          2,
          2,
          2,
          2,
          2,
          2,
          2,
          2,
          2,
          2
         ]
        },
        {
         "mode": "lines",
         "type": "scatter",
         "x": [
          2.6530612244897958,
          2.816326530612245,
          2.979591836734694,
          3.142857142857143,
          3.3061224489795915,
          3.4693877551020407,
          3.63265306122449,
          3.7959183673469385,
          3.9591836734693877,
          4.122448979591836,
          4.285714285714286,
          4.448979591836734,
          4.612244897959183,
          4.775510204081632,
          4.938775510204081,
          5.1020408163265305,
          5.26530612244898,
          5.428571428571429,
          5.591836734693877,
          5.755102040816326
         ],
         "y": [
          3.6530612244897958,
          3.816326530612245,
          3.979591836734694,
          4.142857142857142,
          4.3061224489795915,
          4.469387755102041,
          4.63265306122449,
          4.795918367346939,
          4.959183673469388,
          5.122448979591836,
          5.285714285714286,
          5.448979591836734,
          5.612244897959183,
          5.775510204081632,
          5.938775510204081,
          6.1020408163265305,
          6.26530612244898,
          6.428571428571429,
          6.591836734693877,
          6.755102040816326,
          6.918367346938775,
          7.081632653061225,
          7.244897959183673,
          7.408163265306122,
          7.571428571428571,
          7.73469387755102,
          7.897959183673469,
          8.061224489795919,
          8.224489795918366,
          8.387755102040817,
          8.551020408163264,
          8.714285714285714,
          8.877551020408163,
          9.040816326530612,
          9.204081632653061,
          9.367346938775508,
          9.53061224489796,
          9.693877551020407,
          9.857142857142858,
          10.020408163265305,
          10.183673469387754,
          10.346938775510203,
          10.510204081632653,
          10.673469387755102,
          10.83673469387755,
          11
         ]
        }
       ],
       "layout": {
        "annotations": [
         {
          "align": "center",
          "arrowcolor": "#636363",
          "arrowhead": 2,
          "arrowsize": 1,
          "arrowwidth": 2,
          "ax": 20,
          "ay": -30,
          "bgcolor": "orange",
          "bordercolor": "#c7c7c7",
          "borderpad": 4,
          "borderwidth": 2,
          "opacity": 0.8,
          "showarrow": true,
          "text": "A",
          "x": 2,
          "xref": "x",
          "y": 2,
          "yref": "y"
         },
         {
          "align": "center",
          "arrowcolor": "#636363",
          "arrowhead": 2,
          "arrowsize": 1,
          "arrowwidth": 2,
          "ax": 20,
          "ay": -30,
          "bgcolor": "yellow",
          "bordercolor": "#c7c7c7",
          "borderpad": 4,
          "borderwidth": 2,
          "opacity": 0.8,
          "showarrow": true,
          "text": "B",
          "x": 6,
          "xref": "x",
          "y": 6,
          "yref": "y"
         },
         {
          "ay": -40,
          "text": "d",
          "x": 4,
          "xref": "x",
          "y": 5,
          "yref": "y"
         },
         {
          "ax": 80,
          "ay": -10,
          "text": "angle L",
          "x": 2,
          "xref": "x",
          "y": 2,
          "yref": "y"
         }
        ],
        "height": 400,
        "showlegend": false,
        "template": {
         "data": {
          "bar": [
           {
            "error_x": {
             "color": "#2a3f5f"
            },
            "error_y": {
             "color": "#2a3f5f"
            },
            "marker": {
             "line": {
              "color": "#E5ECF6",
              "width": 0.5
             }
            },
            "type": "bar"
           }
          ],
          "barpolar": [
           {
            "marker": {
             "line": {
              "color": "#E5ECF6",
              "width": 0.5
             }
            },
            "type": "barpolar"
           }
          ],
          "carpet": [
           {
            "aaxis": {
             "endlinecolor": "#2a3f5f",
             "gridcolor": "white",
             "linecolor": "white",
             "minorgridcolor": "white",
             "startlinecolor": "#2a3f5f"
            },
            "baxis": {
             "endlinecolor": "#2a3f5f",
             "gridcolor": "white",
             "linecolor": "white",
             "minorgridcolor": "white",
             "startlinecolor": "#2a3f5f"
            },
            "type": "carpet"
           }
          ],
          "choropleth": [
           {
            "colorbar": {
             "outlinewidth": 0,
             "ticks": ""
            },
            "type": "choropleth"
           }
          ],
          "contour": [
           {
            "colorbar": {
             "outlinewidth": 0,
             "ticks": ""
            },
            "colorscale": [
             [
              0,
              "#0d0887"
             ],
             [
              0.1111111111111111,
              "#46039f"
             ],
             [
              0.2222222222222222,
              "#7201a8"
             ],
             [
              0.3333333333333333,
              "#9c179e"
             ],
             [
              0.4444444444444444,
              "#bd3786"
             ],
             [
              0.5555555555555556,
              "#d8576b"
             ],
             [
              0.6666666666666666,
              "#ed7953"
             ],
             [
              0.7777777777777778,
              "#fb9f3a"
             ],
             [
              0.8888888888888888,
              "#fdca26"
             ],
             [
              1,
              "#f0f921"
             ]
            ],
            "type": "contour"
           }
          ],
          "contourcarpet": [
           {
            "colorbar": {
             "outlinewidth": 0,
             "ticks": ""
            },
            "type": "contourcarpet"
           }
          ],
          "heatmap": [
           {
            "colorbar": {
             "outlinewidth": 0,
             "ticks": ""
            },
            "colorscale": [
             [
              0,
              "#0d0887"
             ],
             [
              0.1111111111111111,
              "#46039f"
             ],
             [
              0.2222222222222222,
              "#7201a8"
             ],
             [
              0.3333333333333333,
              "#9c179e"
             ],
             [
              0.4444444444444444,
              "#bd3786"
             ],
             [
              0.5555555555555556,
              "#d8576b"
             ],
             [
              0.6666666666666666,
              "#ed7953"
             ],
             [
              0.7777777777777778,
              "#fb9f3a"
             ],
             [
              0.8888888888888888,
              "#fdca26"
             ],
             [
              1,
              "#f0f921"
             ]
            ],
            "type": "heatmap"
           }
          ],
          "heatmapgl": [
           {
            "colorbar": {
             "outlinewidth": 0,
             "ticks": ""
            },
            "colorscale": [
             [
              0,
              "#0d0887"
             ],
             [
              0.1111111111111111,
              "#46039f"
             ],
             [
              0.2222222222222222,
              "#7201a8"
             ],
             [
              0.3333333333333333,
              "#9c179e"
             ],
             [
              0.4444444444444444,
              "#bd3786"
             ],
             [
              0.5555555555555556,
              "#d8576b"
             ],
             [
              0.6666666666666666,
              "#ed7953"
             ],
             [
              0.7777777777777778,
              "#fb9f3a"
             ],
             [
              0.8888888888888888,
              "#fdca26"
             ],
             [
              1,
              "#f0f921"
             ]
            ],
            "type": "heatmapgl"
           }
          ],
          "histogram": [
           {
            "marker": {
             "colorbar": {
              "outlinewidth": 0,
              "ticks": ""
             }
            },
            "type": "histogram"
           }
          ],
          "histogram2d": [
           {
            "colorbar": {
             "outlinewidth": 0,
             "ticks": ""
            },
            "colorscale": [
             [
              0,
              "#0d0887"
             ],
             [
              0.1111111111111111,
              "#46039f"
             ],
             [
              0.2222222222222222,
              "#7201a8"
             ],
             [
              0.3333333333333333,
              "#9c179e"
             ],
             [
              0.4444444444444444,
              "#bd3786"
             ],
             [
              0.5555555555555556,
              "#d8576b"
             ],
             [
              0.6666666666666666,
              "#ed7953"
             ],
             [
              0.7777777777777778,
              "#fb9f3a"
             ],
             [
              0.8888888888888888,
              "#fdca26"
             ],
             [
              1,
              "#f0f921"
             ]
            ],
            "type": "histogram2d"
           }
          ],
          "histogram2dcontour": [
           {
            "colorbar": {
             "outlinewidth": 0,
             "ticks": ""
            },
            "colorscale": [
             [
              0,
              "#0d0887"
             ],
             [
              0.1111111111111111,
              "#46039f"
             ],
             [
              0.2222222222222222,
              "#7201a8"
             ],
             [
              0.3333333333333333,
              "#9c179e"
             ],
             [
              0.4444444444444444,
              "#bd3786"
             ],
             [
              0.5555555555555556,
              "#d8576b"
             ],
             [
              0.6666666666666666,
              "#ed7953"
             ],
             [
              0.7777777777777778,
              "#fb9f3a"
             ],
             [
              0.8888888888888888,
              "#fdca26"
             ],
             [
              1,
              "#f0f921"
             ]
            ],
            "type": "histogram2dcontour"
           }
          ],
          "mesh3d": [
           {
            "colorbar": {
             "outlinewidth": 0,
             "ticks": ""
            },
            "type": "mesh3d"
           }
          ],
          "parcoords": [
           {
            "line": {
             "colorbar": {
              "outlinewidth": 0,
              "ticks": ""
             }
            },
            "type": "parcoords"
           }
          ],
          "pie": [
           {
            "automargin": true,
            "type": "pie"
           }
          ],
          "scatter": [
           {
            "marker": {
             "colorbar": {
              "outlinewidth": 0,
              "ticks": ""
             }
            },
            "type": "scatter"
           }
          ],
          "scatter3d": [
           {
            "line": {
             "colorbar": {
              "outlinewidth": 0,
              "ticks": ""
             }
            },
            "marker": {
             "colorbar": {
              "outlinewidth": 0,
              "ticks": ""
             }
            },
            "type": "scatter3d"
           }
          ],
          "scattercarpet": [
           {
            "marker": {
             "colorbar": {
              "outlinewidth": 0,
              "ticks": ""
             }
            },
            "type": "scattercarpet"
           }
          ],
          "scattergeo": [
           {
            "marker": {
             "colorbar": {
              "outlinewidth": 0,
              "ticks": ""
             }
            },
            "type": "scattergeo"
           }
          ],
          "scattergl": [
           {
            "marker": {
             "colorbar": {
              "outlinewidth": 0,
              "ticks": ""
             }
            },
            "type": "scattergl"
           }
          ],
          "scattermapbox": [
           {
            "marker": {
             "colorbar": {
              "outlinewidth": 0,
              "ticks": ""
             }
            },
            "type": "scattermapbox"
           }
          ],
          "scatterpolar": [
           {
            "marker": {
             "colorbar": {
              "outlinewidth": 0,
              "ticks": ""
             }
            },
            "type": "scatterpolar"
           }
          ],
          "scatterpolargl": [
           {
            "marker": {
             "colorbar": {
              "outlinewidth": 0,
              "ticks": ""
             }
            },
            "type": "scatterpolargl"
           }
          ],
          "scatterternary": [
           {
            "marker": {
             "colorbar": {
              "outlinewidth": 0,
              "ticks": ""
             }
            },
            "type": "scatterternary"
           }
          ],
          "surface": [
           {
            "colorbar": {
             "outlinewidth": 0,
             "ticks": ""
            },
            "colorscale": [
             [
              0,
              "#0d0887"
             ],
             [
              0.1111111111111111,
              "#46039f"
             ],
             [
              0.2222222222222222,
              "#7201a8"
             ],
             [
              0.3333333333333333,
              "#9c179e"
             ],
             [
              0.4444444444444444,
              "#bd3786"
             ],
             [
              0.5555555555555556,
              "#d8576b"
             ],
             [
              0.6666666666666666,
              "#ed7953"
             ],
             [
              0.7777777777777778,
              "#fb9f3a"
             ],
             [
              0.8888888888888888,
              "#fdca26"
             ],
             [
              1,
              "#f0f921"
             ]
            ],
            "type": "surface"
           }
          ],
          "table": [
           {
            "cells": {
             "fill": {
              "color": "#EBF0F8"
             },
             "line": {
              "color": "white"
             }
            },
            "header": {
             "fill": {
              "color": "#C8D4E3"
             },
             "line": {
              "color": "white"
             }
            },
            "type": "table"
           }
          ]
         },
         "layout": {
          "annotationdefaults": {
           "arrowcolor": "#2a3f5f",
           "arrowhead": 0,
           "arrowwidth": 1
          },
          "autotypenumbers": "strict",
          "coloraxis": {
           "colorbar": {
            "outlinewidth": 0,
            "ticks": ""
           }
          },
          "colorscale": {
           "diverging": [
            [
             0,
             "#8e0152"
            ],
            [
             0.1,
             "#c51b7d"
            ],
            [
             0.2,
             "#de77ae"
            ],
            [
             0.3,
             "#f1b6da"
            ],
            [
             0.4,
             "#fde0ef"
            ],
            [
             0.5,
             "#f7f7f7"
            ],
            [
             0.6,
             "#e6f5d0"
            ],
            [
             0.7,
             "#b8e186"
            ],
            [
             0.8,
             "#7fbc41"
            ],
            [
             0.9,
             "#4d9221"
            ],
            [
             1,
             "#276419"
            ]
           ],
           "sequential": [
            [
             0,
             "#0d0887"
            ],
            [
             0.1111111111111111,
             "#46039f"
            ],
            [
             0.2222222222222222,
             "#7201a8"
            ],
            [
             0.3333333333333333,
             "#9c179e"
            ],
            [
             0.4444444444444444,
             "#bd3786"
            ],
            [
             0.5555555555555556,
             "#d8576b"
            ],
            [
             0.6666666666666666,
             "#ed7953"
            ],
            [
             0.7777777777777778,
             "#fb9f3a"
            ],
            [
             0.8888888888888888,
             "#fdca26"
            ],
            [
             1,
             "#f0f921"
            ]
           ],
           "sequentialminus": [
            [
             0,
             "#0d0887"
            ],
            [
             0.1111111111111111,
             "#46039f"
            ],
            [
             0.2222222222222222,
             "#7201a8"
            ],
            [
             0.3333333333333333,
             "#9c179e"
            ],
            [
             0.4444444444444444,
             "#bd3786"
            ],
            [
             0.5555555555555556,
             "#d8576b"
            ],
            [
             0.6666666666666666,
             "#ed7953"
            ],
            [
             0.7777777777777778,
             "#fb9f3a"
            ],
            [
             0.8888888888888888,
             "#fdca26"
            ],
            [
             1,
             "#f0f921"
            ]
           ]
          },
          "colorway": [
           "#636efa",
           "#EF553B",
           "#00cc96",
           "#ab63fa",
           "#FFA15A",
           "#19d3f3",
           "#FF6692",
           "#B6E880",
           "#FF97FF",
           "#FECB52"
          ],
          "font": {
           "color": "#2a3f5f"
          },
          "geo": {
           "bgcolor": "white",
           "lakecolor": "white",
           "landcolor": "#E5ECF6",
           "showlakes": true,
           "showland": true,
           "subunitcolor": "white"
          },
          "hoverlabel": {
           "align": "left"
          },
          "hovermode": "closest",
          "mapbox": {
           "style": "light"
          },
          "paper_bgcolor": "white",
          "plot_bgcolor": "#E5ECF6",
          "polar": {
           "angularaxis": {
            "gridcolor": "white",
            "linecolor": "white",
            "ticks": ""
           },
           "bgcolor": "#E5ECF6",
           "radialaxis": {
            "gridcolor": "white",
            "linecolor": "white",
            "ticks": ""
           }
          },
          "scene": {
           "xaxis": {
            "backgroundcolor": "#E5ECF6",
            "gridcolor": "white",
            "gridwidth": 2,
            "linecolor": "white",
            "showbackground": true,
            "ticks": "",
            "zerolinecolor": "white"
           },
           "yaxis": {
            "backgroundcolor": "#E5ECF6",
            "gridcolor": "white",
            "gridwidth": 2,
            "linecolor": "white",
            "showbackground": true,
            "ticks": "",
            "zerolinecolor": "white"
           },
           "zaxis": {
            "backgroundcolor": "#E5ECF6",
            "gridcolor": "white",
            "gridwidth": 2,
            "linecolor": "white",
            "showbackground": true,
            "ticks": "",
            "zerolinecolor": "white"
           }
          },
          "shapedefaults": {
           "line": {
            "color": "#2a3f5f"
           }
          },
          "ternary": {
           "aaxis": {
            "gridcolor": "white",
            "linecolor": "white",
            "ticks": ""
           },
           "baxis": {
            "gridcolor": "white",
            "linecolor": "white",
            "ticks": ""
           },
           "bgcolor": "#E5ECF6",
           "caxis": {
            "gridcolor": "white",
            "linecolor": "white",
            "ticks": ""
           }
          },
          "title": {
           "x": 0.05
          },
          "xaxis": {
           "automargin": true,
           "gridcolor": "white",
           "linecolor": "white",
           "ticks": "",
           "title": {
            "standoff": 15
           },
           "zerolinecolor": "white",
           "zerolinewidth": 2
          },
          "yaxis": {
           "automargin": true,
           "gridcolor": "white",
           "linecolor": "white",
           "ticks": "",
           "title": {
            "standoff": 15
           },
           "zerolinecolor": "white",
           "zerolinewidth": 2
          }
         }
        },
        "title": {
         "text": "2D Data Repersentation Space"
        },
        "xaxis": {
         "range": [
          0,
          12
         ],
         "title": {
          "text": "x1"
         }
        },
        "yaxis": {
         "range": [
          0,
          12
         ],
         "title": {
          "text": "x2"
         }
        }
       }
      },
      "text/html": [
       "<div>                            <div id=\"275afe74-fdf5-47d1-9de4-fef040b9f7be\" class=\"plotly-graph-div\" style=\"height:400px; width:100%;\"></div>            <script type=\"text/javascript\">                require([\"plotly\"], function(Plotly) {                    window.PLOTLYENV=window.PLOTLYENV || {};                                    if (document.getElementById(\"275afe74-fdf5-47d1-9de4-fef040b9f7be\")) {                    Plotly.newPlot(                        \"275afe74-fdf5-47d1-9de4-fef040b9f7be\",                        [{\"mode\": \"markers\", \"type\": \"scatter\", \"x\": [2.0, 2.163265306122449, 2.326530612244898, 2.489795918367347, 2.6530612244897958, 2.816326530612245, 2.979591836734694, 3.142857142857143, 3.3061224489795915, 3.4693877551020407, 3.63265306122449, 3.7959183673469385, 3.9591836734693877, 4.122448979591836, 4.285714285714286, 4.448979591836734, 4.612244897959183, 4.775510204081632, 4.938775510204081, 5.1020408163265305, 5.26530612244898, 5.428571428571429, 5.591836734693877, 5.755102040816326, 5.918367346938775, 6.081632653061225, 6.244897959183673, 6.408163265306122, 6.571428571428571, 6.73469387755102, 6.897959183673469, 7.061224489795918, 7.224489795918367, 7.387755102040816, 7.551020408163265, 7.7142857142857135, 7.877551020408163, 8.040816326530612, 8.204081632653061, 8.367346938775508, 8.53061224489796, 8.693877551020407, 8.857142857142858, 9.020408163265305, 9.183673469387754, 9.346938775510203, 9.510204081632653, 9.673469387755102, 9.83673469387755, 10.0], \"y\": [2.0, 2.163265306122449, 2.326530612244898, 2.489795918367347, 2.6530612244897958, 2.816326530612245, 2.979591836734694, 3.142857142857143, 3.3061224489795915, 3.4693877551020407, 3.63265306122449, 3.7959183673469385, 3.9591836734693877, 4.122448979591836, 4.285714285714286, 4.448979591836734, 4.612244897959183, 4.775510204081632, 4.938775510204081, 5.1020408163265305, 5.26530612244898, 5.428571428571429, 5.591836734693877, 5.755102040816326, 5.918367346938775, 6.081632653061225, 6.244897959183673, 6.408163265306122, 6.571428571428571, 6.73469387755102, 6.897959183673469, 7.061224489795918, 7.224489795918367, 7.387755102040816, 7.551020408163265, 7.7142857142857135, 7.877551020408163, 8.040816326530612, 8.204081632653061, 8.367346938775508, 8.53061224489796, 8.693877551020407, 8.857142857142858, 9.020408163265305, 9.183673469387754, 9.346938775510203, 9.510204081632653, 9.673469387755102, 9.83673469387755, 10.0]}, {\"mode\": \"lines\", \"type\": \"scatter\", \"x\": [2.0, 2.163265306122449, 2.326530612244898, 2.489795918367347, 2.6530612244897958, 2.816326530612245, 2.979591836734694, 3.142857142857143, 3.3061224489795915, 3.4693877551020407, 3.63265306122449, 3.7959183673469385, 3.9591836734693877, 4.122448979591836, 4.285714285714286, 4.448979591836734, 4.612244897959183, 4.775510204081632, 4.938775510204081, 5.1020408163265305, 5.26530612244898, 5.428571428571429, 5.591836734693877, 5.755102040816326, 5.918367346938775, 6.081632653061225, 6.244897959183673, 6.408163265306122, 6.571428571428571, 6.73469387755102, 6.897959183673469, 7.061224489795918, 7.224489795918367, 7.387755102040816, 7.551020408163265, 7.7142857142857135, 7.877551020408163, 8.040816326530612, 8.204081632653061, 8.367346938775508, 8.53061224489796, 8.693877551020407, 8.857142857142858, 9.020408163265305, 9.183673469387754, 9.346938775510203, 9.510204081632653, 9.673469387755102, 9.83673469387755, 10.0], \"y\": [2.0, 2.163265306122449, 2.326530612244898, 2.489795918367347, 2.6530612244897958, 2.816326530612245, 2.979591836734694, 3.142857142857143, 3.3061224489795915, 3.4693877551020407, 3.63265306122449, 3.7959183673469385, 3.9591836734693877, 4.122448979591836, 4.285714285714286, 4.448979591836734, 4.612244897959183, 4.775510204081632, 4.938775510204081, 5.1020408163265305, 5.26530612244898, 5.428571428571429, 5.591836734693877, 5.755102040816326, 5.918367346938775, 6.081632653061225, 6.244897959183673, 6.408163265306122, 6.571428571428571, 6.73469387755102, 6.897959183673469, 7.061224489795918, 7.224489795918367, 7.387755102040816, 7.551020408163265, 7.7142857142857135, 7.877551020408163, 8.040816326530612, 8.204081632653061, 8.367346938775508, 8.53061224489796, 8.693877551020407, 8.857142857142858, 9.020408163265305, 9.183673469387754, 9.346938775510203, 9.510204081632653, 9.673469387755102, 9.83673469387755, 10.0]}, {\"mode\": \"lines\", \"type\": \"scatter\", \"x\": [2.0, 2.163265306122449, 2.326530612244898, 2.489795918367347, 2.6530612244897958, 2.816326530612245, 2.979591836734694, 3.142857142857143, 3.3061224489795915, 3.4693877551020407, 3.63265306122449, 3.7959183673469385, 3.9591836734693877, 4.122448979591836, 4.285714285714286, 4.448979591836734, 4.612244897959183, 4.775510204081632, 4.938775510204081, 5.1020408163265305, 5.26530612244898, 5.428571428571429, 5.591836734693877, 5.755102040816326, 5.918367346938775, 6.081632653061225, 6.244897959183673, 6.408163265306122, 6.571428571428571, 6.73469387755102, 6.897959183673469, 7.061224489795918, 7.224489795918367, 7.387755102040816, 7.551020408163265, 7.7142857142857135, 7.877551020408163, 8.040816326530612, 8.204081632653061, 8.367346938775508, 8.53061224489796, 8.693877551020407, 8.857142857142858, 9.020408163265305, 9.183673469387754, 9.346938775510203, 9.510204081632653, 9.673469387755102, 9.83673469387755, 10.0], \"y\": [2, 2, 2, 2, 2, 2, 2, 2, 2, 2, 2, 2, 2, 2, 2, 2, 2, 2, 2, 2, 2, 2, 2, 2, 2, 2, 2, 2, 2, 2, 2, 2, 2, 2, 2, 2, 2, 2, 2, 2, 2, 2, 2, 2, 2, 2, 2, 2, 2, 2, 2, 2, 2, 2, 2, 2, 2, 2, 2, 2, 2, 2, 2, 2, 2, 2, 2, 2, 2, 2, 2, 2, 2, 2, 2, 2, 2, 2, 2, 2, 2, 2, 2, 2, 2, 2, 2, 2, 2, 2, 2, 2, 2, 2, 2, 2, 2, 2, 2, 2]}, {\"mode\": \"lines\", \"type\": \"scatter\", \"x\": [2.6530612244897958, 2.816326530612245, 2.979591836734694, 3.142857142857143, 3.3061224489795915, 3.4693877551020407, 3.63265306122449, 3.7959183673469385, 3.9591836734693877, 4.122448979591836, 4.285714285714286, 4.448979591836734, 4.612244897959183, 4.775510204081632, 4.938775510204081, 5.1020408163265305, 5.26530612244898, 5.428571428571429, 5.591836734693877, 5.755102040816326], \"y\": [3.6530612244897958, 3.816326530612245, 3.979591836734694, 4.142857142857142, 4.3061224489795915, 4.469387755102041, 4.63265306122449, 4.795918367346939, 4.959183673469388, 5.122448979591836, 5.285714285714286, 5.448979591836734, 5.612244897959183, 5.775510204081632, 5.938775510204081, 6.1020408163265305, 6.26530612244898, 6.428571428571429, 6.591836734693877, 6.755102040816326, 6.918367346938775, 7.081632653061225, 7.244897959183673, 7.408163265306122, 7.571428571428571, 7.73469387755102, 7.897959183673469, 8.061224489795919, 8.224489795918366, 8.387755102040817, 8.551020408163264, 8.714285714285714, 8.877551020408163, 9.040816326530612, 9.204081632653061, 9.367346938775508, 9.53061224489796, 9.693877551020407, 9.857142857142858, 10.020408163265305, 10.183673469387754, 10.346938775510203, 10.510204081632653, 10.673469387755102, 10.83673469387755, 11.0]}],                        {\"annotations\": [{\"align\": \"center\", \"arrowcolor\": \"#636363\", \"arrowhead\": 2, \"arrowsize\": 1, \"arrowwidth\": 2, \"ax\": 20, \"ay\": -30, \"bgcolor\": \"orange\", \"bordercolor\": \"#c7c7c7\", \"borderpad\": 4, \"borderwidth\": 2, \"opacity\": 0.8, \"showarrow\": true, \"text\": \"A\", \"x\": 2, \"xref\": \"x\", \"y\": 2, \"yref\": \"y\"}, {\"align\": \"center\", \"arrowcolor\": \"#636363\", \"arrowhead\": 2, \"arrowsize\": 1, \"arrowwidth\": 2, \"ax\": 20, \"ay\": -30, \"bgcolor\": \"yellow\", \"bordercolor\": \"#c7c7c7\", \"borderpad\": 4, \"borderwidth\": 2, \"opacity\": 0.8, \"showarrow\": true, \"text\": \"B\", \"x\": 6, \"xref\": \"x\", \"y\": 6, \"yref\": \"y\"}, {\"ay\": -40, \"text\": \"d\", \"x\": 4, \"xref\": \"x\", \"y\": 5, \"yref\": \"y\"}, {\"ax\": 80, \"ay\": -10, \"text\": \"angle L\", \"x\": 2, \"xref\": \"x\", \"y\": 2, \"yref\": \"y\"}], \"height\": 400, \"showlegend\": false, \"template\": {\"data\": {\"bar\": [{\"error_x\": {\"color\": \"#2a3f5f\"}, \"error_y\": {\"color\": \"#2a3f5f\"}, \"marker\": {\"line\": {\"color\": \"#E5ECF6\", \"width\": 0.5}}, \"type\": \"bar\"}], \"barpolar\": [{\"marker\": {\"line\": {\"color\": \"#E5ECF6\", \"width\": 0.5}}, \"type\": \"barpolar\"}], \"carpet\": [{\"aaxis\": {\"endlinecolor\": \"#2a3f5f\", \"gridcolor\": \"white\", \"linecolor\": \"white\", \"minorgridcolor\": \"white\", \"startlinecolor\": \"#2a3f5f\"}, \"baxis\": {\"endlinecolor\": \"#2a3f5f\", \"gridcolor\": \"white\", \"linecolor\": \"white\", \"minorgridcolor\": \"white\", \"startlinecolor\": \"#2a3f5f\"}, \"type\": \"carpet\"}], \"choropleth\": [{\"colorbar\": {\"outlinewidth\": 0, \"ticks\": \"\"}, \"type\": \"choropleth\"}], \"contour\": [{\"colorbar\": {\"outlinewidth\": 0, \"ticks\": \"\"}, \"colorscale\": [[0.0, \"#0d0887\"], [0.1111111111111111, \"#46039f\"], [0.2222222222222222, \"#7201a8\"], [0.3333333333333333, \"#9c179e\"], [0.4444444444444444, \"#bd3786\"], [0.5555555555555556, \"#d8576b\"], [0.6666666666666666, \"#ed7953\"], [0.7777777777777778, \"#fb9f3a\"], [0.8888888888888888, \"#fdca26\"], [1.0, \"#f0f921\"]], \"type\": \"contour\"}], \"contourcarpet\": [{\"colorbar\": {\"outlinewidth\": 0, \"ticks\": \"\"}, \"type\": \"contourcarpet\"}], \"heatmap\": [{\"colorbar\": {\"outlinewidth\": 0, \"ticks\": \"\"}, \"colorscale\": [[0.0, \"#0d0887\"], [0.1111111111111111, \"#46039f\"], [0.2222222222222222, \"#7201a8\"], [0.3333333333333333, \"#9c179e\"], [0.4444444444444444, \"#bd3786\"], [0.5555555555555556, \"#d8576b\"], [0.6666666666666666, \"#ed7953\"], [0.7777777777777778, \"#fb9f3a\"], [0.8888888888888888, \"#fdca26\"], [1.0, \"#f0f921\"]], \"type\": \"heatmap\"}], \"heatmapgl\": [{\"colorbar\": {\"outlinewidth\": 0, \"ticks\": \"\"}, \"colorscale\": [[0.0, \"#0d0887\"], [0.1111111111111111, \"#46039f\"], [0.2222222222222222, \"#7201a8\"], [0.3333333333333333, \"#9c179e\"], [0.4444444444444444, \"#bd3786\"], [0.5555555555555556, \"#d8576b\"], [0.6666666666666666, \"#ed7953\"], [0.7777777777777778, \"#fb9f3a\"], [0.8888888888888888, \"#fdca26\"], [1.0, \"#f0f921\"]], \"type\": \"heatmapgl\"}], \"histogram\": [{\"marker\": {\"colorbar\": {\"outlinewidth\": 0, \"ticks\": \"\"}}, \"type\": \"histogram\"}], \"histogram2d\": [{\"colorbar\": {\"outlinewidth\": 0, \"ticks\": \"\"}, \"colorscale\": [[0.0, \"#0d0887\"], [0.1111111111111111, \"#46039f\"], [0.2222222222222222, \"#7201a8\"], [0.3333333333333333, \"#9c179e\"], [0.4444444444444444, \"#bd3786\"], [0.5555555555555556, \"#d8576b\"], [0.6666666666666666, \"#ed7953\"], [0.7777777777777778, \"#fb9f3a\"], [0.8888888888888888, \"#fdca26\"], [1.0, \"#f0f921\"]], \"type\": \"histogram2d\"}], \"histogram2dcontour\": [{\"colorbar\": {\"outlinewidth\": 0, \"ticks\": \"\"}, \"colorscale\": [[0.0, \"#0d0887\"], [0.1111111111111111, \"#46039f\"], [0.2222222222222222, \"#7201a8\"], [0.3333333333333333, \"#9c179e\"], [0.4444444444444444, \"#bd3786\"], [0.5555555555555556, \"#d8576b\"], [0.6666666666666666, \"#ed7953\"], [0.7777777777777778, \"#fb9f3a\"], [0.8888888888888888, \"#fdca26\"], [1.0, \"#f0f921\"]], \"type\": \"histogram2dcontour\"}], \"mesh3d\": [{\"colorbar\": {\"outlinewidth\": 0, \"ticks\": \"\"}, \"type\": \"mesh3d\"}], \"parcoords\": [{\"line\": {\"colorbar\": {\"outlinewidth\": 0, \"ticks\": \"\"}}, \"type\": \"parcoords\"}], \"pie\": [{\"automargin\": true, \"type\": \"pie\"}], \"scatter\": [{\"marker\": {\"colorbar\": {\"outlinewidth\": 0, \"ticks\": \"\"}}, \"type\": \"scatter\"}], \"scatter3d\": [{\"line\": {\"colorbar\": {\"outlinewidth\": 0, \"ticks\": \"\"}}, \"marker\": {\"colorbar\": {\"outlinewidth\": 0, \"ticks\": \"\"}}, \"type\": \"scatter3d\"}], \"scattercarpet\": [{\"marker\": {\"colorbar\": {\"outlinewidth\": 0, \"ticks\": \"\"}}, \"type\": \"scattercarpet\"}], \"scattergeo\": [{\"marker\": {\"colorbar\": {\"outlinewidth\": 0, \"ticks\": \"\"}}, \"type\": \"scattergeo\"}], \"scattergl\": [{\"marker\": {\"colorbar\": {\"outlinewidth\": 0, \"ticks\": \"\"}}, \"type\": \"scattergl\"}], \"scattermapbox\": [{\"marker\": {\"colorbar\": {\"outlinewidth\": 0, \"ticks\": \"\"}}, \"type\": \"scattermapbox\"}], \"scatterpolar\": [{\"marker\": {\"colorbar\": {\"outlinewidth\": 0, \"ticks\": \"\"}}, \"type\": \"scatterpolar\"}], \"scatterpolargl\": [{\"marker\": {\"colorbar\": {\"outlinewidth\": 0, \"ticks\": \"\"}}, \"type\": \"scatterpolargl\"}], \"scatterternary\": [{\"marker\": {\"colorbar\": {\"outlinewidth\": 0, \"ticks\": \"\"}}, \"type\": \"scatterternary\"}], \"surface\": [{\"colorbar\": {\"outlinewidth\": 0, \"ticks\": \"\"}, \"colorscale\": [[0.0, \"#0d0887\"], [0.1111111111111111, \"#46039f\"], [0.2222222222222222, \"#7201a8\"], [0.3333333333333333, \"#9c179e\"], [0.4444444444444444, \"#bd3786\"], [0.5555555555555556, \"#d8576b\"], [0.6666666666666666, \"#ed7953\"], [0.7777777777777778, \"#fb9f3a\"], [0.8888888888888888, \"#fdca26\"], [1.0, \"#f0f921\"]], \"type\": \"surface\"}], \"table\": [{\"cells\": {\"fill\": {\"color\": \"#EBF0F8\"}, \"line\": {\"color\": \"white\"}}, \"header\": {\"fill\": {\"color\": \"#C8D4E3\"}, \"line\": {\"color\": \"white\"}}, \"type\": \"table\"}]}, \"layout\": {\"annotationdefaults\": {\"arrowcolor\": \"#2a3f5f\", \"arrowhead\": 0, \"arrowwidth\": 1}, \"autotypenumbers\": \"strict\", \"coloraxis\": {\"colorbar\": {\"outlinewidth\": 0, \"ticks\": \"\"}}, \"colorscale\": {\"diverging\": [[0, \"#8e0152\"], [0.1, \"#c51b7d\"], [0.2, \"#de77ae\"], [0.3, \"#f1b6da\"], [0.4, \"#fde0ef\"], [0.5, \"#f7f7f7\"], [0.6, \"#e6f5d0\"], [0.7, \"#b8e186\"], [0.8, \"#7fbc41\"], [0.9, \"#4d9221\"], [1, \"#276419\"]], \"sequential\": [[0.0, \"#0d0887\"], [0.1111111111111111, \"#46039f\"], [0.2222222222222222, \"#7201a8\"], [0.3333333333333333, \"#9c179e\"], [0.4444444444444444, \"#bd3786\"], [0.5555555555555556, \"#d8576b\"], [0.6666666666666666, \"#ed7953\"], [0.7777777777777778, \"#fb9f3a\"], [0.8888888888888888, \"#fdca26\"], [1.0, \"#f0f921\"]], \"sequentialminus\": [[0.0, \"#0d0887\"], [0.1111111111111111, \"#46039f\"], [0.2222222222222222, \"#7201a8\"], [0.3333333333333333, \"#9c179e\"], [0.4444444444444444, \"#bd3786\"], [0.5555555555555556, \"#d8576b\"], [0.6666666666666666, \"#ed7953\"], [0.7777777777777778, \"#fb9f3a\"], [0.8888888888888888, \"#fdca26\"], [1.0, \"#f0f921\"]]}, \"colorway\": [\"#636efa\", \"#EF553B\", \"#00cc96\", \"#ab63fa\", \"#FFA15A\", \"#19d3f3\", \"#FF6692\", \"#B6E880\", \"#FF97FF\", \"#FECB52\"], \"font\": {\"color\": \"#2a3f5f\"}, \"geo\": {\"bgcolor\": \"white\", \"lakecolor\": \"white\", \"landcolor\": \"#E5ECF6\", \"showlakes\": true, \"showland\": true, \"subunitcolor\": \"white\"}, \"hoverlabel\": {\"align\": \"left\"}, \"hovermode\": \"closest\", \"mapbox\": {\"style\": \"light\"}, \"paper_bgcolor\": \"white\", \"plot_bgcolor\": \"#E5ECF6\", \"polar\": {\"angularaxis\": {\"gridcolor\": \"white\", \"linecolor\": \"white\", \"ticks\": \"\"}, \"bgcolor\": \"#E5ECF6\", \"radialaxis\": {\"gridcolor\": \"white\", \"linecolor\": \"white\", \"ticks\": \"\"}}, \"scene\": {\"xaxis\": {\"backgroundcolor\": \"#E5ECF6\", \"gridcolor\": \"white\", \"gridwidth\": 2, \"linecolor\": \"white\", \"showbackground\": true, \"ticks\": \"\", \"zerolinecolor\": \"white\"}, \"yaxis\": {\"backgroundcolor\": \"#E5ECF6\", \"gridcolor\": \"white\", \"gridwidth\": 2, \"linecolor\": \"white\", \"showbackground\": true, \"ticks\": \"\", \"zerolinecolor\": \"white\"}, \"zaxis\": {\"backgroundcolor\": \"#E5ECF6\", \"gridcolor\": \"white\", \"gridwidth\": 2, \"linecolor\": \"white\", \"showbackground\": true, \"ticks\": \"\", \"zerolinecolor\": \"white\"}}, \"shapedefaults\": {\"line\": {\"color\": \"#2a3f5f\"}}, \"ternary\": {\"aaxis\": {\"gridcolor\": \"white\", \"linecolor\": \"white\", \"ticks\": \"\"}, \"baxis\": {\"gridcolor\": \"white\", \"linecolor\": \"white\", \"ticks\": \"\"}, \"bgcolor\": \"#E5ECF6\", \"caxis\": {\"gridcolor\": \"white\", \"linecolor\": \"white\", \"ticks\": \"\"}}, \"title\": {\"x\": 0.05}, \"xaxis\": {\"automargin\": true, \"gridcolor\": \"white\", \"linecolor\": \"white\", \"ticks\": \"\", \"title\": {\"standoff\": 15}, \"zerolinecolor\": \"white\", \"zerolinewidth\": 2}, \"yaxis\": {\"automargin\": true, \"gridcolor\": \"white\", \"linecolor\": \"white\", \"ticks\": \"\", \"title\": {\"standoff\": 15}, \"zerolinecolor\": \"white\", \"zerolinewidth\": 2}}}, \"title\": {\"text\": \"2D Data Repersentation Space\"}, \"xaxis\": {\"range\": [0, 12], \"title\": {\"text\": \"x1\"}}, \"yaxis\": {\"range\": [0, 12], \"title\": {\"text\": \"x2\"}}},                        {\"responsive\": true}                    ).then(function(){\n",
       "                            \n",
       "var gd = document.getElementById('275afe74-fdf5-47d1-9de4-fef040b9f7be');\n",
       "var x = new MutationObserver(function (mutations, observer) {{\n",
       "        var display = window.getComputedStyle(gd).display;\n",
       "        if (!display || display === 'none') {{\n",
       "            console.log([gd, 'removed!']);\n",
       "            Plotly.purge(gd);\n",
       "            observer.disconnect();\n",
       "        }}\n",
       "}});\n",
       "\n",
       "// Listen for the removal of the full notebook cells\n",
       "var notebookContainer = gd.closest('#notebook-container');\n",
       "if (notebookContainer) {{\n",
       "    x.observe(notebookContainer, {childList: true});\n",
       "}}\n",
       "\n",
       "// Listen for the clearing of the current output cell\n",
       "var outputEl = gd.closest('.output');\n",
       "if (outputEl) {{\n",
       "    x.observe(outputEl, {childList: true});\n",
       "}}\n",
       "\n",
       "                        })                };                });            </script>        </div>"
      ]
     },
     "metadata": {},
     "output_type": "display_data"
    },
    {
     "data": {
      "application/vnd.plotly.v1+json": {
       "config": {
        "linkText": "Export to plot.ly",
        "plotlyServerURL": "https://plot.ly",
        "showLink": false
       },
       "data": [
        {
         "mode": "markers",
         "type": "scatter",
         "x": [
          2,
          2.163265306122449,
          2.326530612244898,
          2.489795918367347,
          2.6530612244897958,
          2.816326530612245,
          2.979591836734694,
          3.142857142857143,
          3.3061224489795915,
          3.4693877551020407,
          3.63265306122449,
          3.7959183673469385,
          3.9591836734693877,
          4.122448979591836,
          4.285714285714286,
          4.448979591836734,
          4.612244897959183,
          4.775510204081632,
          4.938775510204081,
          5.1020408163265305,
          5.26530612244898,
          5.428571428571429,
          5.591836734693877,
          5.755102040816326,
          5.918367346938775,
          6.081632653061225,
          6.244897959183673,
          6.408163265306122,
          6.571428571428571,
          6.73469387755102,
          6.897959183673469,
          7.061224489795918,
          7.224489795918367,
          7.387755102040816,
          7.551020408163265,
          7.7142857142857135,
          7.877551020408163,
          8.040816326530612,
          8.204081632653061,
          8.367346938775508,
          8.53061224489796,
          8.693877551020407,
          8.857142857142858,
          9.020408163265305,
          9.183673469387754,
          9.346938775510203,
          9.510204081632653,
          9.673469387755102,
          9.83673469387755,
          10
         ],
         "y": [
          2,
          2.163265306122449,
          2.326530612244898,
          2.489795918367347,
          2.6530612244897958,
          2.816326530612245,
          2.979591836734694,
          3.142857142857143,
          3.3061224489795915,
          3.4693877551020407,
          3.63265306122449,
          3.7959183673469385,
          3.9591836734693877,
          4.122448979591836,
          4.285714285714286,
          4.448979591836734,
          4.612244897959183,
          4.775510204081632,
          4.938775510204081,
          5.1020408163265305,
          5.26530612244898,
          5.428571428571429,
          5.591836734693877,
          5.755102040816326,
          5.918367346938775,
          6.081632653061225,
          6.244897959183673,
          6.408163265306122,
          6.571428571428571,
          6.73469387755102,
          6.897959183673469,
          7.061224489795918,
          7.224489795918367,
          7.387755102040816,
          7.551020408163265,
          7.7142857142857135,
          7.877551020408163,
          8.040816326530612,
          8.204081632653061,
          8.367346938775508,
          8.53061224489796,
          8.693877551020407,
          8.857142857142858,
          9.020408163265305,
          9.183673469387754,
          9.346938775510203,
          9.510204081632653,
          9.673469387755102,
          9.83673469387755,
          10
         ]
        },
        {
         "mode": "lines",
         "type": "scatter",
         "x": [
          2,
          2.163265306122449,
          2.326530612244898,
          2.489795918367347,
          2.6530612244897958,
          2.816326530612245,
          2.979591836734694,
          3.142857142857143,
          3.3061224489795915,
          3.4693877551020407,
          3.63265306122449,
          3.7959183673469385,
          3.9591836734693877,
          4.122448979591836,
          4.285714285714286,
          4.448979591836734,
          4.612244897959183,
          4.775510204081632,
          4.938775510204081,
          5.1020408163265305,
          5.26530612244898,
          5.428571428571429,
          5.591836734693877,
          5.755102040816326,
          5.918367346938775,
          6.081632653061225,
          6.244897959183673,
          6.408163265306122,
          6.571428571428571,
          6.73469387755102,
          6.897959183673469,
          7.061224489795918,
          7.224489795918367,
          7.387755102040816,
          7.551020408163265,
          7.7142857142857135,
          7.877551020408163,
          8.040816326530612,
          8.204081632653061,
          8.367346938775508,
          8.53061224489796,
          8.693877551020407,
          8.857142857142858,
          9.020408163265305,
          9.183673469387754,
          9.346938775510203,
          9.510204081632653,
          9.673469387755102,
          9.83673469387755,
          10
         ],
         "y": [
          2,
          2.163265306122449,
          2.326530612244898,
          2.489795918367347,
          2.6530612244897958,
          2.816326530612245,
          2.979591836734694,
          3.142857142857143,
          3.3061224489795915,
          3.4693877551020407,
          3.63265306122449,
          3.7959183673469385,
          3.9591836734693877,
          4.122448979591836,
          4.285714285714286,
          4.448979591836734,
          4.612244897959183,
          4.775510204081632,
          4.938775510204081,
          5.1020408163265305,
          5.26530612244898,
          5.428571428571429,
          5.591836734693877,
          5.755102040816326,
          5.918367346938775,
          6.081632653061225,
          6.244897959183673,
          6.408163265306122,
          6.571428571428571,
          6.73469387755102,
          6.897959183673469,
          7.061224489795918,
          7.224489795918367,
          7.387755102040816,
          7.551020408163265,
          7.7142857142857135,
          7.877551020408163,
          8.040816326530612,
          8.204081632653061,
          8.367346938775508,
          8.53061224489796,
          8.693877551020407,
          8.857142857142858,
          9.020408163265305,
          9.183673469387754,
          9.346938775510203,
          9.510204081632653,
          9.673469387755102,
          9.83673469387755,
          10
         ]
        },
        {
         "mode": "lines",
         "type": "scatter",
         "x": [
          2,
          2.163265306122449,
          2.326530612244898,
          2.489795918367347,
          2.6530612244897958,
          2.816326530612245,
          2.979591836734694,
          3.142857142857143,
          3.3061224489795915,
          3.4693877551020407,
          3.63265306122449,
          3.7959183673469385,
          3.9591836734693877,
          4.122448979591836,
          4.285714285714286,
          4.448979591836734,
          4.612244897959183,
          4.775510204081632,
          4.938775510204081,
          5.1020408163265305,
          5.26530612244898,
          5.428571428571429,
          5.591836734693877,
          5.755102040816326,
          5.918367346938775,
          6.081632653061225,
          6.244897959183673,
          6.408163265306122,
          6.571428571428571,
          6.73469387755102,
          6.897959183673469,
          7.061224489795918,
          7.224489795918367,
          7.387755102040816,
          7.551020408163265,
          7.7142857142857135,
          7.877551020408163,
          8.040816326530612,
          8.204081632653061,
          8.367346938775508,
          8.53061224489796,
          8.693877551020407,
          8.857142857142858,
          9.020408163265305,
          9.183673469387754,
          9.346938775510203,
          9.510204081632653,
          9.673469387755102,
          9.83673469387755,
          10
         ],
         "y": [
          2,
          2,
          2,
          2,
          2,
          2,
          2,
          2,
          2,
          2,
          2,
          2,
          2,
          2,
          2,
          2,
          2,
          2,
          2,
          2,
          2,
          2,
          2,
          2,
          2,
          2,
          2,
          2,
          2,
          2,
          2,
          2,
          2,
          2,
          2,
          2,
          2,
          2,
          2,
          2,
          2,
          2,
          2,
          2,
          2,
          2,
          2,
          2,
          2,
          2,
          2,
          2,
          2,
          2,
          2,
          2,
          2,
          2,
          2,
          2,
          2,
          2,
          2,
          2,
          2,
          2,
          2,
          2,
          2,
          2,
          2,
          2,
          2,
          2,
          2,
          2,
          2,
          2,
          2,
          2,
          2,
          2,
          2,
          2,
          2,
          2,
          2,
          2,
          2,
          2,
          2,
          2,
          2,
          2,
          2,
          2,
          2,
          2,
          2,
          2
         ]
        },
        {
         "mode": "lines",
         "type": "scatter",
         "x": [
          2.6530612244897958,
          2.816326530612245,
          2.979591836734694,
          3.142857142857143,
          3.3061224489795915,
          3.4693877551020407,
          3.63265306122449,
          3.7959183673469385,
          3.9591836734693877,
          4.122448979591836,
          4.285714285714286,
          4.448979591836734,
          4.612244897959183,
          4.775510204081632,
          4.938775510204081,
          5.1020408163265305,
          5.26530612244898,
          5.428571428571429,
          5.591836734693877,
          5.755102040816326
         ],
         "y": [
          3.6530612244897958,
          3.816326530612245,
          3.979591836734694,
          4.142857142857142,
          4.3061224489795915,
          4.469387755102041,
          4.63265306122449,
          4.795918367346939,
          4.959183673469388,
          5.122448979591836,
          5.285714285714286,
          5.448979591836734,
          5.612244897959183,
          5.775510204081632,
          5.938775510204081,
          6.1020408163265305,
          6.26530612244898,
          6.428571428571429,
          6.591836734693877,
          6.755102040816326,
          6.918367346938775,
          7.081632653061225,
          7.244897959183673,
          7.408163265306122,
          7.571428571428571,
          7.73469387755102,
          7.897959183673469,
          8.061224489795919,
          8.224489795918366,
          8.387755102040817,
          8.551020408163264,
          8.714285714285714,
          8.877551020408163,
          9.040816326530612,
          9.204081632653061,
          9.367346938775508,
          9.53061224489796,
          9.693877551020407,
          9.857142857142858,
          10.020408163265305,
          10.183673469387754,
          10.346938775510203,
          10.510204081632653,
          10.673469387755102,
          10.83673469387755,
          11
         ]
        }
       ],
       "layout": {
        "annotations": [
         {
          "align": "center",
          "arrowcolor": "#636363",
          "arrowhead": 2,
          "arrowsize": 1,
          "arrowwidth": 2,
          "ax": 20,
          "ay": -30,
          "bgcolor": "orange",
          "bordercolor": "#c7c7c7",
          "borderpad": 4,
          "borderwidth": 2,
          "opacity": 0.8,
          "showarrow": true,
          "text": "A",
          "x": 2,
          "xref": "x",
          "y": 2,
          "yref": "y"
         },
         {
          "align": "center",
          "arrowcolor": "#636363",
          "arrowhead": 2,
          "arrowsize": 1,
          "arrowwidth": 2,
          "ax": 20,
          "ay": -30,
          "bgcolor": "yellow",
          "bordercolor": "#c7c7c7",
          "borderpad": 4,
          "borderwidth": 2,
          "opacity": 0.8,
          "showarrow": true,
          "text": "B",
          "x": 6,
          "xref": "x",
          "y": 6,
          "yref": "y"
         },
         {
          "ay": -40,
          "text": "d",
          "x": 4,
          "xref": "x",
          "y": 5,
          "yref": "y"
         },
         {
          "ax": 80,
          "ay": -10,
          "text": "angle L",
          "x": 2,
          "xref": "x",
          "y": 2,
          "yref": "y"
         }
        ],
        "height": 400,
        "showlegend": false,
        "template": {
         "data": {
          "bar": [
           {
            "error_x": {
             "color": "#2a3f5f"
            },
            "error_y": {
             "color": "#2a3f5f"
            },
            "marker": {
             "line": {
              "color": "#E5ECF6",
              "width": 0.5
             }
            },
            "type": "bar"
           }
          ],
          "barpolar": [
           {
            "marker": {
             "line": {
              "color": "#E5ECF6",
              "width": 0.5
             }
            },
            "type": "barpolar"
           }
          ],
          "carpet": [
           {
            "aaxis": {
             "endlinecolor": "#2a3f5f",
             "gridcolor": "white",
             "linecolor": "white",
             "minorgridcolor": "white",
             "startlinecolor": "#2a3f5f"
            },
            "baxis": {
             "endlinecolor": "#2a3f5f",
             "gridcolor": "white",
             "linecolor": "white",
             "minorgridcolor": "white",
             "startlinecolor": "#2a3f5f"
            },
            "type": "carpet"
           }
          ],
          "choropleth": [
           {
            "colorbar": {
             "outlinewidth": 0,
             "ticks": ""
            },
            "type": "choropleth"
           }
          ],
          "contour": [
           {
            "colorbar": {
             "outlinewidth": 0,
             "ticks": ""
            },
            "colorscale": [
             [
              0,
              "#0d0887"
             ],
             [
              0.1111111111111111,
              "#46039f"
             ],
             [
              0.2222222222222222,
              "#7201a8"
             ],
             [
              0.3333333333333333,
              "#9c179e"
             ],
             [
              0.4444444444444444,
              "#bd3786"
             ],
             [
              0.5555555555555556,
              "#d8576b"
             ],
             [
              0.6666666666666666,
              "#ed7953"
             ],
             [
              0.7777777777777778,
              "#fb9f3a"
             ],
             [
              0.8888888888888888,
              "#fdca26"
             ],
             [
              1,
              "#f0f921"
             ]
            ],
            "type": "contour"
           }
          ],
          "contourcarpet": [
           {
            "colorbar": {
             "outlinewidth": 0,
             "ticks": ""
            },
            "type": "contourcarpet"
           }
          ],
          "heatmap": [
           {
            "colorbar": {
             "outlinewidth": 0,
             "ticks": ""
            },
            "colorscale": [
             [
              0,
              "#0d0887"
             ],
             [
              0.1111111111111111,
              "#46039f"
             ],
             [
              0.2222222222222222,
              "#7201a8"
             ],
             [
              0.3333333333333333,
              "#9c179e"
             ],
             [
              0.4444444444444444,
              "#bd3786"
             ],
             [
              0.5555555555555556,
              "#d8576b"
             ],
             [
              0.6666666666666666,
              "#ed7953"
             ],
             [
              0.7777777777777778,
              "#fb9f3a"
             ],
             [
              0.8888888888888888,
              "#fdca26"
             ],
             [
              1,
              "#f0f921"
             ]
            ],
            "type": "heatmap"
           }
          ],
          "heatmapgl": [
           {
            "colorbar": {
             "outlinewidth": 0,
             "ticks": ""
            },
            "colorscale": [
             [
              0,
              "#0d0887"
             ],
             [
              0.1111111111111111,
              "#46039f"
             ],
             [
              0.2222222222222222,
              "#7201a8"
             ],
             [
              0.3333333333333333,
              "#9c179e"
             ],
             [
              0.4444444444444444,
              "#bd3786"
             ],
             [
              0.5555555555555556,
              "#d8576b"
             ],
             [
              0.6666666666666666,
              "#ed7953"
             ],
             [
              0.7777777777777778,
              "#fb9f3a"
             ],
             [
              0.8888888888888888,
              "#fdca26"
             ],
             [
              1,
              "#f0f921"
             ]
            ],
            "type": "heatmapgl"
           }
          ],
          "histogram": [
           {
            "marker": {
             "colorbar": {
              "outlinewidth": 0,
              "ticks": ""
             }
            },
            "type": "histogram"
           }
          ],
          "histogram2d": [
           {
            "colorbar": {
             "outlinewidth": 0,
             "ticks": ""
            },
            "colorscale": [
             [
              0,
              "#0d0887"
             ],
             [
              0.1111111111111111,
              "#46039f"
             ],
             [
              0.2222222222222222,
              "#7201a8"
             ],
             [
              0.3333333333333333,
              "#9c179e"
             ],
             [
              0.4444444444444444,
              "#bd3786"
             ],
             [
              0.5555555555555556,
              "#d8576b"
             ],
             [
              0.6666666666666666,
              "#ed7953"
             ],
             [
              0.7777777777777778,
              "#fb9f3a"
             ],
             [
              0.8888888888888888,
              "#fdca26"
             ],
             [
              1,
              "#f0f921"
             ]
            ],
            "type": "histogram2d"
           }
          ],
          "histogram2dcontour": [
           {
            "colorbar": {
             "outlinewidth": 0,
             "ticks": ""
            },
            "colorscale": [
             [
              0,
              "#0d0887"
             ],
             [
              0.1111111111111111,
              "#46039f"
             ],
             [
              0.2222222222222222,
              "#7201a8"
             ],
             [
              0.3333333333333333,
              "#9c179e"
             ],
             [
              0.4444444444444444,
              "#bd3786"
             ],
             [
              0.5555555555555556,
              "#d8576b"
             ],
             [
              0.6666666666666666,
              "#ed7953"
             ],
             [
              0.7777777777777778,
              "#fb9f3a"
             ],
             [
              0.8888888888888888,
              "#fdca26"
             ],
             [
              1,
              "#f0f921"
             ]
            ],
            "type": "histogram2dcontour"
           }
          ],
          "mesh3d": [
           {
            "colorbar": {
             "outlinewidth": 0,
             "ticks": ""
            },
            "type": "mesh3d"
           }
          ],
          "parcoords": [
           {
            "line": {
             "colorbar": {
              "outlinewidth": 0,
              "ticks": ""
             }
            },
            "type": "parcoords"
           }
          ],
          "pie": [
           {
            "automargin": true,
            "type": "pie"
           }
          ],
          "scatter": [
           {
            "marker": {
             "colorbar": {
              "outlinewidth": 0,
              "ticks": ""
             }
            },
            "type": "scatter"
           }
          ],
          "scatter3d": [
           {
            "line": {
             "colorbar": {
              "outlinewidth": 0,
              "ticks": ""
             }
            },
            "marker": {
             "colorbar": {
              "outlinewidth": 0,
              "ticks": ""
             }
            },
            "type": "scatter3d"
           }
          ],
          "scattercarpet": [
           {
            "marker": {
             "colorbar": {
              "outlinewidth": 0,
              "ticks": ""
             }
            },
            "type": "scattercarpet"
           }
          ],
          "scattergeo": [
           {
            "marker": {
             "colorbar": {
              "outlinewidth": 0,
              "ticks": ""
             }
            },
            "type": "scattergeo"
           }
          ],
          "scattergl": [
           {
            "marker": {
             "colorbar": {
              "outlinewidth": 0,
              "ticks": ""
             }
            },
            "type": "scattergl"
           }
          ],
          "scattermapbox": [
           {
            "marker": {
             "colorbar": {
              "outlinewidth": 0,
              "ticks": ""
             }
            },
            "type": "scattermapbox"
           }
          ],
          "scatterpolar": [
           {
            "marker": {
             "colorbar": {
              "outlinewidth": 0,
              "ticks": ""
             }
            },
            "type": "scatterpolar"
           }
          ],
          "scatterpolargl": [
           {
            "marker": {
             "colorbar": {
              "outlinewidth": 0,
              "ticks": ""
             }
            },
            "type": "scatterpolargl"
           }
          ],
          "scatterternary": [
           {
            "marker": {
             "colorbar": {
              "outlinewidth": 0,
              "ticks": ""
             }
            },
            "type": "scatterternary"
           }
          ],
          "surface": [
           {
            "colorbar": {
             "outlinewidth": 0,
             "ticks": ""
            },
            "colorscale": [
             [
              0,
              "#0d0887"
             ],
             [
              0.1111111111111111,
              "#46039f"
             ],
             [
              0.2222222222222222,
              "#7201a8"
             ],
             [
              0.3333333333333333,
              "#9c179e"
             ],
             [
              0.4444444444444444,
              "#bd3786"
             ],
             [
              0.5555555555555556,
              "#d8576b"
             ],
             [
              0.6666666666666666,
              "#ed7953"
             ],
             [
              0.7777777777777778,
              "#fb9f3a"
             ],
             [
              0.8888888888888888,
              "#fdca26"
             ],
             [
              1,
              "#f0f921"
             ]
            ],
            "type": "surface"
           }
          ],
          "table": [
           {
            "cells": {
             "fill": {
              "color": "#EBF0F8"
             },
             "line": {
              "color": "white"
             }
            },
            "header": {
             "fill": {
              "color": "#C8D4E3"
             },
             "line": {
              "color": "white"
             }
            },
            "type": "table"
           }
          ]
         },
         "layout": {
          "annotationdefaults": {
           "arrowcolor": "#2a3f5f",
           "arrowhead": 0,
           "arrowwidth": 1
          },
          "autotypenumbers": "strict",
          "coloraxis": {
           "colorbar": {
            "outlinewidth": 0,
            "ticks": ""
           }
          },
          "colorscale": {
           "diverging": [
            [
             0,
             "#8e0152"
            ],
            [
             0.1,
             "#c51b7d"
            ],
            [
             0.2,
             "#de77ae"
            ],
            [
             0.3,
             "#f1b6da"
            ],
            [
             0.4,
             "#fde0ef"
            ],
            [
             0.5,
             "#f7f7f7"
            ],
            [
             0.6,
             "#e6f5d0"
            ],
            [
             0.7,
             "#b8e186"
            ],
            [
             0.8,
             "#7fbc41"
            ],
            [
             0.9,
             "#4d9221"
            ],
            [
             1,
             "#276419"
            ]
           ],
           "sequential": [
            [
             0,
             "#0d0887"
            ],
            [
             0.1111111111111111,
             "#46039f"
            ],
            [
             0.2222222222222222,
             "#7201a8"
            ],
            [
             0.3333333333333333,
             "#9c179e"
            ],
            [
             0.4444444444444444,
             "#bd3786"
            ],
            [
             0.5555555555555556,
             "#d8576b"
            ],
            [
             0.6666666666666666,
             "#ed7953"
            ],
            [
             0.7777777777777778,
             "#fb9f3a"
            ],
            [
             0.8888888888888888,
             "#fdca26"
            ],
            [
             1,
             "#f0f921"
            ]
           ],
           "sequentialminus": [
            [
             0,
             "#0d0887"
            ],
            [
             0.1111111111111111,
             "#46039f"
            ],
            [
             0.2222222222222222,
             "#7201a8"
            ],
            [
             0.3333333333333333,
             "#9c179e"
            ],
            [
             0.4444444444444444,
             "#bd3786"
            ],
            [
             0.5555555555555556,
             "#d8576b"
            ],
            [
             0.6666666666666666,
             "#ed7953"
            ],
            [
             0.7777777777777778,
             "#fb9f3a"
            ],
            [
             0.8888888888888888,
             "#fdca26"
            ],
            [
             1,
             "#f0f921"
            ]
           ]
          },
          "colorway": [
           "#636efa",
           "#EF553B",
           "#00cc96",
           "#ab63fa",
           "#FFA15A",
           "#19d3f3",
           "#FF6692",
           "#B6E880",
           "#FF97FF",
           "#FECB52"
          ],
          "font": {
           "color": "#2a3f5f"
          },
          "geo": {
           "bgcolor": "white",
           "lakecolor": "white",
           "landcolor": "#E5ECF6",
           "showlakes": true,
           "showland": true,
           "subunitcolor": "white"
          },
          "hoverlabel": {
           "align": "left"
          },
          "hovermode": "closest",
          "mapbox": {
           "style": "light"
          },
          "paper_bgcolor": "white",
          "plot_bgcolor": "#E5ECF6",
          "polar": {
           "angularaxis": {
            "gridcolor": "white",
            "linecolor": "white",
            "ticks": ""
           },
           "bgcolor": "#E5ECF6",
           "radialaxis": {
            "gridcolor": "white",
            "linecolor": "white",
            "ticks": ""
           }
          },
          "scene": {
           "xaxis": {
            "backgroundcolor": "#E5ECF6",
            "gridcolor": "white",
            "gridwidth": 2,
            "linecolor": "white",
            "showbackground": true,
            "ticks": "",
            "zerolinecolor": "white"
           },
           "yaxis": {
            "backgroundcolor": "#E5ECF6",
            "gridcolor": "white",
            "gridwidth": 2,
            "linecolor": "white",
            "showbackground": true,
            "ticks": "",
            "zerolinecolor": "white"
           },
           "zaxis": {
            "backgroundcolor": "#E5ECF6",
            "gridcolor": "white",
            "gridwidth": 2,
            "linecolor": "white",
            "showbackground": true,
            "ticks": "",
            "zerolinecolor": "white"
           }
          },
          "shapedefaults": {
           "line": {
            "color": "#2a3f5f"
           }
          },
          "ternary": {
           "aaxis": {
            "gridcolor": "white",
            "linecolor": "white",
            "ticks": ""
           },
           "baxis": {
            "gridcolor": "white",
            "linecolor": "white",
            "ticks": ""
           },
           "bgcolor": "#E5ECF6",
           "caxis": {
            "gridcolor": "white",
            "linecolor": "white",
            "ticks": ""
           }
          },
          "title": {
           "x": 0.05
          },
          "xaxis": {
           "automargin": true,
           "gridcolor": "white",
           "linecolor": "white",
           "ticks": "",
           "title": {
            "standoff": 15
           },
           "zerolinecolor": "white",
           "zerolinewidth": 2
          },
          "yaxis": {
           "automargin": true,
           "gridcolor": "white",
           "linecolor": "white",
           "ticks": "",
           "title": {
            "standoff": 15
           },
           "zerolinecolor": "white",
           "zerolinewidth": 2
          }
         }
        },
        "title": {
         "text": "Latent Distance View Space"
        },
        "xaxis": {
         "range": [
          1.5,
          12
         ],
         "title": {
          "text": "u1"
         }
        },
        "yaxis": {
         "range": [
          1.5,
          12
         ],
         "title": {
          "text": "u2"
         }
        }
       }
      },
      "text/html": [
       "<div>                            <div id=\"2bb314cf-e18f-48e2-aff5-9bb49fc07751\" class=\"plotly-graph-div\" style=\"height:400px; width:100%;\"></div>            <script type=\"text/javascript\">                require([\"plotly\"], function(Plotly) {                    window.PLOTLYENV=window.PLOTLYENV || {};                                    if (document.getElementById(\"2bb314cf-e18f-48e2-aff5-9bb49fc07751\")) {                    Plotly.newPlot(                        \"2bb314cf-e18f-48e2-aff5-9bb49fc07751\",                        [{\"mode\": \"markers\", \"type\": \"scatter\", \"x\": [2.0, 2.163265306122449, 2.326530612244898, 2.489795918367347, 2.6530612244897958, 2.816326530612245, 2.979591836734694, 3.142857142857143, 3.3061224489795915, 3.4693877551020407, 3.63265306122449, 3.7959183673469385, 3.9591836734693877, 4.122448979591836, 4.285714285714286, 4.448979591836734, 4.612244897959183, 4.775510204081632, 4.938775510204081, 5.1020408163265305, 5.26530612244898, 5.428571428571429, 5.591836734693877, 5.755102040816326, 5.918367346938775, 6.081632653061225, 6.244897959183673, 6.408163265306122, 6.571428571428571, 6.73469387755102, 6.897959183673469, 7.061224489795918, 7.224489795918367, 7.387755102040816, 7.551020408163265, 7.7142857142857135, 7.877551020408163, 8.040816326530612, 8.204081632653061, 8.367346938775508, 8.53061224489796, 8.693877551020407, 8.857142857142858, 9.020408163265305, 9.183673469387754, 9.346938775510203, 9.510204081632653, 9.673469387755102, 9.83673469387755, 10.0], \"y\": [2.0, 2.163265306122449, 2.326530612244898, 2.489795918367347, 2.6530612244897958, 2.816326530612245, 2.979591836734694, 3.142857142857143, 3.3061224489795915, 3.4693877551020407, 3.63265306122449, 3.7959183673469385, 3.9591836734693877, 4.122448979591836, 4.285714285714286, 4.448979591836734, 4.612244897959183, 4.775510204081632, 4.938775510204081, 5.1020408163265305, 5.26530612244898, 5.428571428571429, 5.591836734693877, 5.755102040816326, 5.918367346938775, 6.081632653061225, 6.244897959183673, 6.408163265306122, 6.571428571428571, 6.73469387755102, 6.897959183673469, 7.061224489795918, 7.224489795918367, 7.387755102040816, 7.551020408163265, 7.7142857142857135, 7.877551020408163, 8.040816326530612, 8.204081632653061, 8.367346938775508, 8.53061224489796, 8.693877551020407, 8.857142857142858, 9.020408163265305, 9.183673469387754, 9.346938775510203, 9.510204081632653, 9.673469387755102, 9.83673469387755, 10.0]}, {\"mode\": \"lines\", \"type\": \"scatter\", \"x\": [2.0, 2.163265306122449, 2.326530612244898, 2.489795918367347, 2.6530612244897958, 2.816326530612245, 2.979591836734694, 3.142857142857143, 3.3061224489795915, 3.4693877551020407, 3.63265306122449, 3.7959183673469385, 3.9591836734693877, 4.122448979591836, 4.285714285714286, 4.448979591836734, 4.612244897959183, 4.775510204081632, 4.938775510204081, 5.1020408163265305, 5.26530612244898, 5.428571428571429, 5.591836734693877, 5.755102040816326, 5.918367346938775, 6.081632653061225, 6.244897959183673, 6.408163265306122, 6.571428571428571, 6.73469387755102, 6.897959183673469, 7.061224489795918, 7.224489795918367, 7.387755102040816, 7.551020408163265, 7.7142857142857135, 7.877551020408163, 8.040816326530612, 8.204081632653061, 8.367346938775508, 8.53061224489796, 8.693877551020407, 8.857142857142858, 9.020408163265305, 9.183673469387754, 9.346938775510203, 9.510204081632653, 9.673469387755102, 9.83673469387755, 10.0], \"y\": [2.0, 2.163265306122449, 2.326530612244898, 2.489795918367347, 2.6530612244897958, 2.816326530612245, 2.979591836734694, 3.142857142857143, 3.3061224489795915, 3.4693877551020407, 3.63265306122449, 3.7959183673469385, 3.9591836734693877, 4.122448979591836, 4.285714285714286, 4.448979591836734, 4.612244897959183, 4.775510204081632, 4.938775510204081, 5.1020408163265305, 5.26530612244898, 5.428571428571429, 5.591836734693877, 5.755102040816326, 5.918367346938775, 6.081632653061225, 6.244897959183673, 6.408163265306122, 6.571428571428571, 6.73469387755102, 6.897959183673469, 7.061224489795918, 7.224489795918367, 7.387755102040816, 7.551020408163265, 7.7142857142857135, 7.877551020408163, 8.040816326530612, 8.204081632653061, 8.367346938775508, 8.53061224489796, 8.693877551020407, 8.857142857142858, 9.020408163265305, 9.183673469387754, 9.346938775510203, 9.510204081632653, 9.673469387755102, 9.83673469387755, 10.0]}, {\"mode\": \"lines\", \"type\": \"scatter\", \"x\": [2.0, 2.163265306122449, 2.326530612244898, 2.489795918367347, 2.6530612244897958, 2.816326530612245, 2.979591836734694, 3.142857142857143, 3.3061224489795915, 3.4693877551020407, 3.63265306122449, 3.7959183673469385, 3.9591836734693877, 4.122448979591836, 4.285714285714286, 4.448979591836734, 4.612244897959183, 4.775510204081632, 4.938775510204081, 5.1020408163265305, 5.26530612244898, 5.428571428571429, 5.591836734693877, 5.755102040816326, 5.918367346938775, 6.081632653061225, 6.244897959183673, 6.408163265306122, 6.571428571428571, 6.73469387755102, 6.897959183673469, 7.061224489795918, 7.224489795918367, 7.387755102040816, 7.551020408163265, 7.7142857142857135, 7.877551020408163, 8.040816326530612, 8.204081632653061, 8.367346938775508, 8.53061224489796, 8.693877551020407, 8.857142857142858, 9.020408163265305, 9.183673469387754, 9.346938775510203, 9.510204081632653, 9.673469387755102, 9.83673469387755, 10.0], \"y\": [2, 2, 2, 2, 2, 2, 2, 2, 2, 2, 2, 2, 2, 2, 2, 2, 2, 2, 2, 2, 2, 2, 2, 2, 2, 2, 2, 2, 2, 2, 2, 2, 2, 2, 2, 2, 2, 2, 2, 2, 2, 2, 2, 2, 2, 2, 2, 2, 2, 2, 2, 2, 2, 2, 2, 2, 2, 2, 2, 2, 2, 2, 2, 2, 2, 2, 2, 2, 2, 2, 2, 2, 2, 2, 2, 2, 2, 2, 2, 2, 2, 2, 2, 2, 2, 2, 2, 2, 2, 2, 2, 2, 2, 2, 2, 2, 2, 2, 2, 2]}, {\"mode\": \"lines\", \"type\": \"scatter\", \"x\": [2.6530612244897958, 2.816326530612245, 2.979591836734694, 3.142857142857143, 3.3061224489795915, 3.4693877551020407, 3.63265306122449, 3.7959183673469385, 3.9591836734693877, 4.122448979591836, 4.285714285714286, 4.448979591836734, 4.612244897959183, 4.775510204081632, 4.938775510204081, 5.1020408163265305, 5.26530612244898, 5.428571428571429, 5.591836734693877, 5.755102040816326], \"y\": [3.6530612244897958, 3.816326530612245, 3.979591836734694, 4.142857142857142, 4.3061224489795915, 4.469387755102041, 4.63265306122449, 4.795918367346939, 4.959183673469388, 5.122448979591836, 5.285714285714286, 5.448979591836734, 5.612244897959183, 5.775510204081632, 5.938775510204081, 6.1020408163265305, 6.26530612244898, 6.428571428571429, 6.591836734693877, 6.755102040816326, 6.918367346938775, 7.081632653061225, 7.244897959183673, 7.408163265306122, 7.571428571428571, 7.73469387755102, 7.897959183673469, 8.061224489795919, 8.224489795918366, 8.387755102040817, 8.551020408163264, 8.714285714285714, 8.877551020408163, 9.040816326530612, 9.204081632653061, 9.367346938775508, 9.53061224489796, 9.693877551020407, 9.857142857142858, 10.020408163265305, 10.183673469387754, 10.346938775510203, 10.510204081632653, 10.673469387755102, 10.83673469387755, 11.0]}],                        {\"annotations\": [{\"align\": \"center\", \"arrowcolor\": \"#636363\", \"arrowhead\": 2, \"arrowsize\": 1, \"arrowwidth\": 2, \"ax\": 20, \"ay\": -30, \"bgcolor\": \"orange\", \"bordercolor\": \"#c7c7c7\", \"borderpad\": 4, \"borderwidth\": 2, \"opacity\": 0.8, \"showarrow\": true, \"text\": \"A\", \"x\": 2, \"xref\": \"x\", \"y\": 2, \"yref\": \"y\"}, {\"align\": \"center\", \"arrowcolor\": \"#636363\", \"arrowhead\": 2, \"arrowsize\": 1, \"arrowwidth\": 2, \"ax\": 20, \"ay\": -30, \"bgcolor\": \"yellow\", \"bordercolor\": \"#c7c7c7\", \"borderpad\": 4, \"borderwidth\": 2, \"opacity\": 0.8, \"showarrow\": true, \"text\": \"B\", \"x\": 6, \"xref\": \"x\", \"y\": 6, \"yref\": \"y\"}, {\"ay\": -40, \"text\": \"d\", \"x\": 4, \"xref\": \"x\", \"y\": 5, \"yref\": \"y\"}, {\"ax\": 80, \"ay\": -10, \"text\": \"angle L\", \"x\": 2, \"xref\": \"x\", \"y\": 2, \"yref\": \"y\"}], \"height\": 400, \"showlegend\": false, \"template\": {\"data\": {\"bar\": [{\"error_x\": {\"color\": \"#2a3f5f\"}, \"error_y\": {\"color\": \"#2a3f5f\"}, \"marker\": {\"line\": {\"color\": \"#E5ECF6\", \"width\": 0.5}}, \"type\": \"bar\"}], \"barpolar\": [{\"marker\": {\"line\": {\"color\": \"#E5ECF6\", \"width\": 0.5}}, \"type\": \"barpolar\"}], \"carpet\": [{\"aaxis\": {\"endlinecolor\": \"#2a3f5f\", \"gridcolor\": \"white\", \"linecolor\": \"white\", \"minorgridcolor\": \"white\", \"startlinecolor\": \"#2a3f5f\"}, \"baxis\": {\"endlinecolor\": \"#2a3f5f\", \"gridcolor\": \"white\", \"linecolor\": \"white\", \"minorgridcolor\": \"white\", \"startlinecolor\": \"#2a3f5f\"}, \"type\": \"carpet\"}], \"choropleth\": [{\"colorbar\": {\"outlinewidth\": 0, \"ticks\": \"\"}, \"type\": \"choropleth\"}], \"contour\": [{\"colorbar\": {\"outlinewidth\": 0, \"ticks\": \"\"}, \"colorscale\": [[0.0, \"#0d0887\"], [0.1111111111111111, \"#46039f\"], [0.2222222222222222, \"#7201a8\"], [0.3333333333333333, \"#9c179e\"], [0.4444444444444444, \"#bd3786\"], [0.5555555555555556, \"#d8576b\"], [0.6666666666666666, \"#ed7953\"], [0.7777777777777778, \"#fb9f3a\"], [0.8888888888888888, \"#fdca26\"], [1.0, \"#f0f921\"]], \"type\": \"contour\"}], \"contourcarpet\": [{\"colorbar\": {\"outlinewidth\": 0, \"ticks\": \"\"}, \"type\": \"contourcarpet\"}], \"heatmap\": [{\"colorbar\": {\"outlinewidth\": 0, \"ticks\": \"\"}, \"colorscale\": [[0.0, \"#0d0887\"], [0.1111111111111111, \"#46039f\"], [0.2222222222222222, \"#7201a8\"], [0.3333333333333333, \"#9c179e\"], [0.4444444444444444, \"#bd3786\"], [0.5555555555555556, \"#d8576b\"], [0.6666666666666666, \"#ed7953\"], [0.7777777777777778, \"#fb9f3a\"], [0.8888888888888888, \"#fdca26\"], [1.0, \"#f0f921\"]], \"type\": \"heatmap\"}], \"heatmapgl\": [{\"colorbar\": {\"outlinewidth\": 0, \"ticks\": \"\"}, \"colorscale\": [[0.0, \"#0d0887\"], [0.1111111111111111, \"#46039f\"], [0.2222222222222222, \"#7201a8\"], [0.3333333333333333, \"#9c179e\"], [0.4444444444444444, \"#bd3786\"], [0.5555555555555556, \"#d8576b\"], [0.6666666666666666, \"#ed7953\"], [0.7777777777777778, \"#fb9f3a\"], [0.8888888888888888, \"#fdca26\"], [1.0, \"#f0f921\"]], \"type\": \"heatmapgl\"}], \"histogram\": [{\"marker\": {\"colorbar\": {\"outlinewidth\": 0, \"ticks\": \"\"}}, \"type\": \"histogram\"}], \"histogram2d\": [{\"colorbar\": {\"outlinewidth\": 0, \"ticks\": \"\"}, \"colorscale\": [[0.0, \"#0d0887\"], [0.1111111111111111, \"#46039f\"], [0.2222222222222222, \"#7201a8\"], [0.3333333333333333, \"#9c179e\"], [0.4444444444444444, \"#bd3786\"], [0.5555555555555556, \"#d8576b\"], [0.6666666666666666, \"#ed7953\"], [0.7777777777777778, \"#fb9f3a\"], [0.8888888888888888, \"#fdca26\"], [1.0, \"#f0f921\"]], \"type\": \"histogram2d\"}], \"histogram2dcontour\": [{\"colorbar\": {\"outlinewidth\": 0, \"ticks\": \"\"}, \"colorscale\": [[0.0, \"#0d0887\"], [0.1111111111111111, \"#46039f\"], [0.2222222222222222, \"#7201a8\"], [0.3333333333333333, \"#9c179e\"], [0.4444444444444444, \"#bd3786\"], [0.5555555555555556, \"#d8576b\"], [0.6666666666666666, \"#ed7953\"], [0.7777777777777778, \"#fb9f3a\"], [0.8888888888888888, \"#fdca26\"], [1.0, \"#f0f921\"]], \"type\": \"histogram2dcontour\"}], \"mesh3d\": [{\"colorbar\": {\"outlinewidth\": 0, \"ticks\": \"\"}, \"type\": \"mesh3d\"}], \"parcoords\": [{\"line\": {\"colorbar\": {\"outlinewidth\": 0, \"ticks\": \"\"}}, \"type\": \"parcoords\"}], \"pie\": [{\"automargin\": true, \"type\": \"pie\"}], \"scatter\": [{\"marker\": {\"colorbar\": {\"outlinewidth\": 0, \"ticks\": \"\"}}, \"type\": \"scatter\"}], \"scatter3d\": [{\"line\": {\"colorbar\": {\"outlinewidth\": 0, \"ticks\": \"\"}}, \"marker\": {\"colorbar\": {\"outlinewidth\": 0, \"ticks\": \"\"}}, \"type\": \"scatter3d\"}], \"scattercarpet\": [{\"marker\": {\"colorbar\": {\"outlinewidth\": 0, \"ticks\": \"\"}}, \"type\": \"scattercarpet\"}], \"scattergeo\": [{\"marker\": {\"colorbar\": {\"outlinewidth\": 0, \"ticks\": \"\"}}, \"type\": \"scattergeo\"}], \"scattergl\": [{\"marker\": {\"colorbar\": {\"outlinewidth\": 0, \"ticks\": \"\"}}, \"type\": \"scattergl\"}], \"scattermapbox\": [{\"marker\": {\"colorbar\": {\"outlinewidth\": 0, \"ticks\": \"\"}}, \"type\": \"scattermapbox\"}], \"scatterpolar\": [{\"marker\": {\"colorbar\": {\"outlinewidth\": 0, \"ticks\": \"\"}}, \"type\": \"scatterpolar\"}], \"scatterpolargl\": [{\"marker\": {\"colorbar\": {\"outlinewidth\": 0, \"ticks\": \"\"}}, \"type\": \"scatterpolargl\"}], \"scatterternary\": [{\"marker\": {\"colorbar\": {\"outlinewidth\": 0, \"ticks\": \"\"}}, \"type\": \"scatterternary\"}], \"surface\": [{\"colorbar\": {\"outlinewidth\": 0, \"ticks\": \"\"}, \"colorscale\": [[0.0, \"#0d0887\"], [0.1111111111111111, \"#46039f\"], [0.2222222222222222, \"#7201a8\"], [0.3333333333333333, \"#9c179e\"], [0.4444444444444444, \"#bd3786\"], [0.5555555555555556, \"#d8576b\"], [0.6666666666666666, \"#ed7953\"], [0.7777777777777778, \"#fb9f3a\"], [0.8888888888888888, \"#fdca26\"], [1.0, \"#f0f921\"]], \"type\": \"surface\"}], \"table\": [{\"cells\": {\"fill\": {\"color\": \"#EBF0F8\"}, \"line\": {\"color\": \"white\"}}, \"header\": {\"fill\": {\"color\": \"#C8D4E3\"}, \"line\": {\"color\": \"white\"}}, \"type\": \"table\"}]}, \"layout\": {\"annotationdefaults\": {\"arrowcolor\": \"#2a3f5f\", \"arrowhead\": 0, \"arrowwidth\": 1}, \"autotypenumbers\": \"strict\", \"coloraxis\": {\"colorbar\": {\"outlinewidth\": 0, \"ticks\": \"\"}}, \"colorscale\": {\"diverging\": [[0, \"#8e0152\"], [0.1, \"#c51b7d\"], [0.2, \"#de77ae\"], [0.3, \"#f1b6da\"], [0.4, \"#fde0ef\"], [0.5, \"#f7f7f7\"], [0.6, \"#e6f5d0\"], [0.7, \"#b8e186\"], [0.8, \"#7fbc41\"], [0.9, \"#4d9221\"], [1, \"#276419\"]], \"sequential\": [[0.0, \"#0d0887\"], [0.1111111111111111, \"#46039f\"], [0.2222222222222222, \"#7201a8\"], [0.3333333333333333, \"#9c179e\"], [0.4444444444444444, \"#bd3786\"], [0.5555555555555556, \"#d8576b\"], [0.6666666666666666, \"#ed7953\"], [0.7777777777777778, \"#fb9f3a\"], [0.8888888888888888, \"#fdca26\"], [1.0, \"#f0f921\"]], \"sequentialminus\": [[0.0, \"#0d0887\"], [0.1111111111111111, \"#46039f\"], [0.2222222222222222, \"#7201a8\"], [0.3333333333333333, \"#9c179e\"], [0.4444444444444444, \"#bd3786\"], [0.5555555555555556, \"#d8576b\"], [0.6666666666666666, \"#ed7953\"], [0.7777777777777778, \"#fb9f3a\"], [0.8888888888888888, \"#fdca26\"], [1.0, \"#f0f921\"]]}, \"colorway\": [\"#636efa\", \"#EF553B\", \"#00cc96\", \"#ab63fa\", \"#FFA15A\", \"#19d3f3\", \"#FF6692\", \"#B6E880\", \"#FF97FF\", \"#FECB52\"], \"font\": {\"color\": \"#2a3f5f\"}, \"geo\": {\"bgcolor\": \"white\", \"lakecolor\": \"white\", \"landcolor\": \"#E5ECF6\", \"showlakes\": true, \"showland\": true, \"subunitcolor\": \"white\"}, \"hoverlabel\": {\"align\": \"left\"}, \"hovermode\": \"closest\", \"mapbox\": {\"style\": \"light\"}, \"paper_bgcolor\": \"white\", \"plot_bgcolor\": \"#E5ECF6\", \"polar\": {\"angularaxis\": {\"gridcolor\": \"white\", \"linecolor\": \"white\", \"ticks\": \"\"}, \"bgcolor\": \"#E5ECF6\", \"radialaxis\": {\"gridcolor\": \"white\", \"linecolor\": \"white\", \"ticks\": \"\"}}, \"scene\": {\"xaxis\": {\"backgroundcolor\": \"#E5ECF6\", \"gridcolor\": \"white\", \"gridwidth\": 2, \"linecolor\": \"white\", \"showbackground\": true, \"ticks\": \"\", \"zerolinecolor\": \"white\"}, \"yaxis\": {\"backgroundcolor\": \"#E5ECF6\", \"gridcolor\": \"white\", \"gridwidth\": 2, \"linecolor\": \"white\", \"showbackground\": true, \"ticks\": \"\", \"zerolinecolor\": \"white\"}, \"zaxis\": {\"backgroundcolor\": \"#E5ECF6\", \"gridcolor\": \"white\", \"gridwidth\": 2, \"linecolor\": \"white\", \"showbackground\": true, \"ticks\": \"\", \"zerolinecolor\": \"white\"}}, \"shapedefaults\": {\"line\": {\"color\": \"#2a3f5f\"}}, \"ternary\": {\"aaxis\": {\"gridcolor\": \"white\", \"linecolor\": \"white\", \"ticks\": \"\"}, \"baxis\": {\"gridcolor\": \"white\", \"linecolor\": \"white\", \"ticks\": \"\"}, \"bgcolor\": \"#E5ECF6\", \"caxis\": {\"gridcolor\": \"white\", \"linecolor\": \"white\", \"ticks\": \"\"}}, \"title\": {\"x\": 0.05}, \"xaxis\": {\"automargin\": true, \"gridcolor\": \"white\", \"linecolor\": \"white\", \"ticks\": \"\", \"title\": {\"standoff\": 15}, \"zerolinecolor\": \"white\", \"zerolinewidth\": 2}, \"yaxis\": {\"automargin\": true, \"gridcolor\": \"white\", \"linecolor\": \"white\", \"ticks\": \"\", \"title\": {\"standoff\": 15}, \"zerolinecolor\": \"white\", \"zerolinewidth\": 2}}}, \"title\": {\"text\": \"Latent Distance View Space\"}, \"xaxis\": {\"range\": [1.5, 12], \"title\": {\"text\": \"u1\"}}, \"yaxis\": {\"range\": [1.5, 12], \"title\": {\"text\": \"u2\"}}},                        {\"responsive\": true}                    ).then(function(){\n",
       "                            \n",
       "var gd = document.getElementById('2bb314cf-e18f-48e2-aff5-9bb49fc07751');\n",
       "var x = new MutationObserver(function (mutations, observer) {{\n",
       "        var display = window.getComputedStyle(gd).display;\n",
       "        if (!display || display === 'none') {{\n",
       "            console.log([gd, 'removed!']);\n",
       "            Plotly.purge(gd);\n",
       "            observer.disconnect();\n",
       "        }}\n",
       "}});\n",
       "\n",
       "// Listen for the removal of the full notebook cells\n",
       "var notebookContainer = gd.closest('#notebook-container');\n",
       "if (notebookContainer) {{\n",
       "    x.observe(notebookContainer, {childList: true});\n",
       "}}\n",
       "\n",
       "// Listen for the clearing of the current output cell\n",
       "var outputEl = gd.closest('.output');\n",
       "if (outputEl) {{\n",
       "    x.observe(outputEl, {childList: true});\n",
       "}}\n",
       "\n",
       "                        })                };                });            </script>        </div>"
      ]
     },
     "metadata": {},
     "output_type": "display_data"
    }
   ],
   "source": [
    "random_y3 = [2 for i in range(100)]  # 100개의 2가 있는 리스트\n",
    "random_y4 = random_y2 + 1\n",
    "trace4 = go.Scatter(x=random_x[4:24], y=random_y4[4:300], mode='lines')\n",
    "trace3 = go.Scatter(x=random_x, y=random_y3, mode='lines')\n",
    "trace1 = go.Scatter(x=random_x, y=random_y1, mode='markers')\n",
    "trace2 = go.Scatter(x=random_x, y=random_y2, mode='lines')\n",
    "\n",
    "layout = go.Layout(xaxis=dict(title=\"x1\", range=(0,12)), yaxis=dict(title=\"x2\", range=(0,12)), height=400,\n",
    "                   annotations=[dict(x=2, y=2, xref='x', yref='y', text='A', showarrow=True, align='center', arrowhead=2, arrowsize=1, arrowwidth=2, \n",
    "                                     arrowcolor='#636363', ax=20, ay=-30, bordercolor='#c7c7c7', borderwidth=2, borderpad=4, bgcolor='orange', opacity=0.8), \n",
    "                                dict(x=6, y=6, xref='x', yref='y', text='B', showarrow=True, align='center', arrowhead=2, arrowsize=1, arrowwidth=2, arrowcolor='#636363',\n",
    "                                     ax=20, ay=-30, bordercolor='#c7c7c7', borderwidth=2, borderpad=4, bgcolor='yellow', opacity=0.8), dict(\n",
    "                                     x=4, y=5, xref='x', yref='y',text='d', ay=-40), \n",
    "                                dict(x=2, y=2, xref='x', yref='y', text='angle L', ax=80, ay=-10)], title=\"2D Data Repersentation Space\", showlegend=False)\n",
    "data = [trace1, trace2, trace3, trace4]\n",
    "figure = go.Figure(data=data, layout=layout)\n",
    "iplot(figure)\n",
    "\n",
    "\n",
    "###################\n",
    "\n",
    "random_y3 = [2 for i in range(100)]\n",
    "random_y4 = random_y2 + 1\n",
    "trace4 = go.Scatter(x = random_x[4:24], y = random_y4[4:300], mode=\"lines\")\n",
    "trace3 = go.Scatter(x = random_x, y = random_y3, mode=\"lines\")\n",
    "trace1 = go.Scatter(x = random_x, y = random_y1, mode=\"markers\")\n",
    "trace2 = go.Scatter(x = random_x, y = random_y2, mode=\"lines\")\n",
    "layout = go.Layout(xaxis=dict(title=\"u1\", range=(1.5,12)), yaxis=dict(title=\"u2\", range=(1.5,12)), height=400,\n",
    "                   annotations=[dict(x=2, y=2, xref='x', yref='y', text='A', showarrow=True, align='center', arrowhead=2, arrowsize=1, arrowwidth=2, \n",
    "                                     arrowcolor='#636363', ax=20, ay=-30, bordercolor='#c7c7c7', borderwidth=2, borderpad=4, bgcolor='orange', opacity=0.8), \n",
    "                                dict(x=6, y=6, xref='x', yref='y', text='B', showarrow=True, align='center', arrowhead=2, arrowsize=1, arrowwidth=2, arrowcolor='#636363',\n",
    "                                     ax=20, ay=-30, bordercolor='#c7c7c7', borderwidth=2, borderpad=4, bgcolor='yellow', opacity=0.8), dict(\n",
    "                                     x=4, y=5, xref='x', yref='y',text='d', ay=-40), \n",
    "                                dict(x=2, y=2, xref='x', yref='y', text='angle L', ax=80, ay=-10)], title=\"Latent Distance View Space\", showlegend=False)\n",
    "data = [trace1, trace2, trace3, trace4]\n",
    "figure = go.Figure(data = data, layout = layout)\n",
    "iplot(figure)"
   ]
  },
  {
   "cell_type": "markdown",
   "id": "pacific-cargo",
   "metadata": {},
   "source": [
    "하지만 여기서 중요한 질문은 어떤 로직이나 규칙으로 점 B가 A와 각도 L의 조건에서 표현될 수 있냐는 것이다. 혹은 다른 말로, B, A, L의 방정식은 무엇인가이다. 답은 간단하다. 고정된 방정식은 없지만 비지도학습 과정에 의해 최적의 방정식이 얻어진다. 간단히 말하면, 학습 과정은 B를 A와 L의 형태로 변환하는 규칙/방정식으로 정의될 수 있다. autoencoder의 관점에서 이 과정을 이해해보자.\n",
    "\n",
    "은닉층이 없는 autoencoder를 고려해보자. 입력 x1와 x2는 나중에 x1과 x2로 투영되는 저차원 표현 d로 인코딩된다."
   ]
  },
  {
   "cell_type": "markdown",
   "id": "known-romance",
   "metadata": {},
   "source": [
    "### Step1 : Represent the points in Latent View Space"
   ]
  },
  {
   "cell_type": "markdown",
   "id": "placed-probability",
   "metadata": {},
   "source": [
    "데이터 표현 공간에서 점 A와 B의 좌표가 \n",
    "- point A : (x1A, x2B)\n",
    "- point B : (x1B, x2B)\n",
    "\n",
    "라면, latent view space에서 이들의 좌표는 다음과 같다. <br>\n",
    "(x1A, x2A) ---> (0, 0) <br>\n",
    "(x1B, x2B) ---> (u1B, u2B)\n",
    "- point A : (0,0)\n",
    "- point B : (u1B, u2B)\n",
    "\n",
    "여기서 u1B와 u2B는 점과 기준점 사이의 거리 형태로 표현될 수 있다.<br>\n",
    "u1B = x1B - x1A <br>\n",
    "u2B = x2B - x2A"
   ]
  },
  {
   "cell_type": "markdown",
   "id": "medical-queensland",
   "metadata": {},
   "source": [
    "### Step 2: Represent the points with distance d and angle L"
   ]
  },
  {
   "cell_type": "markdown",
   "id": "conscious-darkness",
   "metadata": {},
   "source": [
    "이제 u1B와 u2B는 거리 d와 각도 L의 조합으로 표현될 수 있다. 이것을 각도 L, 수평축으로 돌리면, L은 0, 즉, 아래와 같다.<br>\n",
    "=> (d, L) <br>\n",
    "=> (d, 0) (after rotation)\n",
    "\n",
    "이것은 인코딩 과정의 출력이며 저차원으로 데이터를 나타낸다. 모든 레이어의 가중치와 편향(bias)를 가진 신경망의 기본 방정식을 recall한다면, 다음과 같다. <br>\n",
    "=> (d, 0) = W.(u1B, u2B)\n",
    "==> (encoding)\n",
    "\n",
    "W는 은닉층의 가중치행렬이다. 이로 인해 디코딩 과정이 인코딩 과정의 거울이미지라는 것을 알 수 있다. <br>\n",
    "=> (u1B, u2B) = Inverse(W).(d, 0) <br>\n",
    "==> (decoding)\n",
    "\n",
    "데이터 (x1, x2)의 축소된 형태는 인코딩 구조에서 얻은 latent view space의 (d, 0)이다. 마찬가지로, 디코딩 구조는 이 표현을 원래 형식 (u1B, u2B)로 변환한 다음 (x1, x2)로 변환한다. 중요한 점은 규칙 / 학습 함수 / 인코딩-디코딩 방정식이 다양한 데이터타입에 따라 다르다는 것이다. 예를 들어, 2차원 공간에서 다음 데이터를 고려해보자."
   ]
  },
  {
   "cell_type": "markdown",
   "id": "quarterly-breathing",
   "metadata": {},
   "source": [
    "#### Different Rules for Different Data"
   ]
  },
  {
   "cell_type": "markdown",
   "id": "stretch-elephant",
   "metadata": {},
   "source": [
    "모든 데이터타입에 동일한 규칙을 적용할 수 없다. 예를 들어, 위의 예제에서 선형 데이터 매니폴드를 한 차원에 투영하고 각도 L을 제거했다. 하지만 데이터 매니폴드가 제대로 투영되지 않는다면. 예를 들어 다음 데이터 매니폴드 보기를 고려해보자."
   ]
  },
  {
   "cell_type": "code",
   "execution_count": 17,
   "id": "institutional-vampire",
   "metadata": {
    "ExecuteTime": {
     "end_time": "2021-02-16T14:33:26.371222Z",
     "start_time": "2021-02-16T14:33:25.676611Z"
    }
   },
   "outputs": [
    {
     "data": {
      "text/plain": [
       "[<matplotlib.lines.Line2D at 0x257532f2760>]"
      ]
     },
     "execution_count": 17,
     "metadata": {},
     "output_type": "execute_result"
    },
    {
     "data": {
      "image/png": "[encoded data removed]",
      "text/plain": [
       "<Figure size 1080x288 with 1 Axes>"
      ]
     },
     "metadata": {
      "needs_background": "light"
     },
     "output_type": "display_data"
    }
   ],
   "source": [
    "import matplotlib.pyplot as plt\n",
    "import numpy as np\n",
    "fs = 100  # 표본 비율\n",
    "f = 2  # 신호 빈도\n",
    "x = np.arange(fs)  # plotting을 위한 x축 위의 점\n",
    "y = [np.sin(2*np.pi*f*(i/fs)) for i in x]\n",
    "\n",
    "%matplotlib inline\n",
    "plt.figure(figsize=(15,4))\n",
    "plt.stem(x,y,'r',)\n",
    "plt.plot(x,y)"
   ]
  },
  {
   "cell_type": "markdown",
   "id": "psychological-conspiracy",
   "metadata": {},
   "source": [
    "이런 데이터타입에서, 핵심적인 문제는 정보를 잃지 않고 단일 차원으로 데이터의 투영을 얻는 것이다. 이런 데이터타입이 latent space에서 투영되면, 많은 정보가 손실되고 원래 모양으로 투영하는 것은 거의 불가능하다. shift와 rotation이 아무리 많이 적용되어도 원본 데이터는 복구할 수 없다.\n",
    "\n",
    "그렇다면 신경망은 이 문제를 어떻게 해결할까? 의도는, 매니폴드 공간에서, 심층신경망이 linear data fold view를 얻기 위해 공간을 구부리는 속성을 가지고 있는 것이다. autoencoder 구조는 latent view space에서 저차원 표현을 학습할 수 있게 이 속성을 은닉층에 적용한다. (참고 이미지는 맨 위 링크에서 찾아볼 것. 이해에 도움됨)\n",
    "\n",
    "먼저 이미지에서 변수를 학습한 keras를 사용해 autoencoder를 실행하고, 출력과 동일한 이미지를 투사해보자."
   ]
  },
  {
   "cell_type": "markdown",
   "id": "prepared-preparation",
   "metadata": {},
   "source": [
    "# 2. Implementation"
   ]
  },
  {
   "cell_type": "markdown",
   "id": "minus-joseph",
   "metadata": {},
   "source": [
    "## 2.1. UseCase 1: Image Reconstruction"
   ]
  },
  {
   "cell_type": "markdown",
   "id": "cubic-documentation",
   "metadata": {},
   "source": [
    "### 2.1.1. Load the required libraries"
   ]
  },
  {
   "cell_type": "code",
   "execution_count": 35,
   "id": "adequate-arbor",
   "metadata": {
    "ExecuteTime": {
     "end_time": "2021-02-16T15:54:38.518467Z",
     "start_time": "2021-02-16T15:54:38.508492Z"
    }
   },
   "outputs": [],
   "source": [
    "from keras.layers import Dense, Input, Conv2D, LSTM, MaxPool2D, UpSampling2D\n",
    "from sklearn.model_selection import train_test_split\n",
    "from keras.callbacks import EarlyStopping\n",
    "from keras.utils import to_categorical\n",
    "from numpy import argmax, array_equal\n",
    "import matplotlib.pyplot as plt\n",
    "from keras.models import Model\n",
    "from imgaug import augmenters\n",
    "from random import randint\n",
    "import pandas as pd\n",
    "import numpy as np"
   ]
  },
  {
   "cell_type": "markdown",
   "id": "split-talent",
   "metadata": {},
   "source": [
    "### 2.1.2. Dataset Preparation"
   ]
  },
  {
   "cell_type": "markdown",
   "id": "blond-orleans",
   "metadata": {},
   "source": [
    "데이터셋을 읽어오고, 예측변수와 타겟을 분리하고, 입력을 정규화한다."
   ]
  },
  {
   "cell_type": "code",
   "execution_count": 21,
   "id": "regional-density",
   "metadata": {
    "ExecuteTime": {
     "end_time": "2021-02-16T14:52:36.509926Z",
     "start_time": "2021-02-16T14:52:30.949848Z"
    }
   },
   "outputs": [],
   "source": [
    "# 데이터셋 읽기\n",
    "train = pd.read_csv('../input/fashion-mnist_train.csv')\n",
    "train_x = train[list(train.columns)[1:]].values\n",
    "train_y = train['label'].values\n",
    "\n",
    "# 예측변수 정규화 및 형태 변경\n",
    "train_x = train_x / 255\n",
    "\n",
    "# train, validation 데이터셋 생성\n",
    "train_x, val_x, train_y, val_y = train_test_split(train_x, train_y, test_size=0.2)\n",
    "\n",
    "# 입력 형태 변경\n",
    "train_x = train_x.reshape(-1, 784)\n",
    "val_x = val_x.reshape(-1, 784)"
   ]
  },
  {
   "cell_type": "markdown",
   "id": "aggressive-leader",
   "metadata": {},
   "source": [
    "### 2.1.3. Create Autoencoder architecture"
   ]
  },
  {
   "cell_type": "markdown",
   "id": "artificial-horizon",
   "metadata": {},
   "source": [
    "autoencdoer 아키텍쳐를 생성한다. 인코딩 부분은 2000, 1200, 500개의 노드를 가진 세 개의 레이어로 구성된다. 인코딩 아키텍쳐는 10개의 노드로 구성된 latent view space에 연결되며, 이후 500, 1200, 2000개의 노드를 가진 디코딩 아키텍쳐에 연결된다. 마지막 레이어는 입력 레이어와 같은 정확한 노드의 수로 구성된다."
   ]
  },
  {
   "cell_type": "code",
   "execution_count": 22,
   "id": "respected-intro",
   "metadata": {
    "ExecuteTime": {
     "end_time": "2021-02-16T14:59:54.487374Z",
     "start_time": "2021-02-16T14:59:54.270408Z"
    }
   },
   "outputs": [],
   "source": [
    "# input layer\n",
    "input_layer = Input(shape=(784,))\n",
    "\n",
    "# encoding architecture\n",
    "encode_layer1 = Dense(1500, activation='relu')(input_layer)\n",
    "encode_layer2 = Dense(1000, activation='relu')(encode_layer1)\n",
    "encode_layer3 = Dense(500, activation='relu')(encode_layer2)\n",
    "\n",
    "# latent view\n",
    "latent_view = Dense(500, activation='relu')(encode_layer3)\n",
    "\n",
    "# decoding architecture\n",
    "decode_layer1 = Dense(500, activation='relu')(latent_view)\n",
    "decode_layer2 = Dense(1000, activation='relu')(decode_layer1)\n",
    "decode_layer3 = Dense(1500, activation='relu')(decode_layer2)\n",
    "\n",
    "# output layer\n",
    "output_layer = Dense(784)(decode_layer3)\n",
    "\n",
    "model = Model(input_layer, output_layer)"
   ]
  },
  {
   "cell_type": "code",
   "execution_count": 23,
   "id": "widespread-sitting",
   "metadata": {
    "ExecuteTime": {
     "end_time": "2021-02-16T15:11:20.792323Z",
     "start_time": "2021-02-16T15:11:20.784345Z"
    }
   },
   "outputs": [
    {
     "name": "stdout",
     "output_type": "stream",
     "text": [
      "Model: \"model\"\n",
      "_________________________________________________________________\n",
      "Layer (type)                 Output Shape              Param #   \n",
      "=================================================================\n",
      "input_1 (InputLayer)         [(None, 784)]             0         \n",
      "_________________________________________________________________\n",
      "dense (Dense)                (None, 1500)              1177500   \n",
      "_________________________________________________________________\n",
      "dense_1 (Dense)              (None, 1000)              1501000   \n",
      "_________________________________________________________________\n",
      "dense_2 (Dense)              (None, 500)               500500    \n",
      "_________________________________________________________________\n",
      "dense_3 (Dense)              (None, 500)               250500    \n",
      "_________________________________________________________________\n",
      "dense_4 (Dense)              (None, 500)               250500    \n",
      "_________________________________________________________________\n",
      "dense_5 (Dense)              (None, 1000)              501000    \n",
      "_________________________________________________________________\n",
      "dense_6 (Dense)              (None, 1500)              1501500   \n",
      "_________________________________________________________________\n",
      "dense_7 (Dense)              (None, 784)               1176784   \n",
      "=================================================================\n",
      "Total params: 6,859,284\n",
      "Trainable params: 6,859,284\n",
      "Non-trainable params: 0\n",
      "_________________________________________________________________\n"
     ]
    }
   ],
   "source": [
    "model.summary()"
   ]
  },
  {
   "cell_type": "markdown",
   "id": "floating-twist",
   "metadata": {},
   "source": [
    "다음으로, 조기멈춤 callback으로 모델을 학습시킨다."
   ]
  },
  {
   "cell_type": "code",
   "execution_count": 24,
   "id": "considerable-proof",
   "metadata": {
    "ExecuteTime": {
     "end_time": "2021-02-16T15:29:09.418131Z",
     "start_time": "2021-02-16T15:19:50.692535Z"
    }
   },
   "outputs": [
    {
     "name": "stdout",
     "output_type": "stream",
     "text": [
      "Epoch 1/20\n",
      "24/24 [==============================] - 20s 812ms/step - loss: 0.1538 - val_loss: 0.0658\n",
      "Epoch 2/20\n",
      "24/24 [==============================] - 20s 826ms/step - loss: 0.0611 - val_loss: 0.0441\n",
      "Epoch 3/20\n",
      "24/24 [==============================] - 20s 836ms/step - loss: 0.0420 - val_loss: 0.0368\n",
      "Epoch 4/20\n",
      "24/24 [==============================] - 23s 953ms/step - loss: 0.0360 - val_loss: 0.0319\n",
      "Epoch 5/20\n",
      "24/24 [==============================] - 33s 1s/step - loss: 0.0312 - val_loss: 0.0280\n",
      "Epoch 6/20\n",
      "24/24 [==============================] - 41s 2s/step - loss: 0.0275 - val_loss: 0.0254\n",
      "Epoch 7/20\n",
      "24/24 [==============================] - 28s 1s/step - loss: 0.0253 - val_loss: 0.0239\n",
      "Epoch 8/20\n",
      "24/24 [==============================] - 21s 893ms/step - loss: 0.0236 - val_loss: 0.0233\n",
      "Epoch 9/20\n",
      "24/24 [==============================] - 22s 921ms/step - loss: 0.0225 - val_loss: 0.0217\n",
      "Epoch 10/20\n",
      "24/24 [==============================] - 29s 1s/step - loss: 0.0214 - val_loss: 0.0206\n",
      "Epoch 11/20\n",
      "24/24 [==============================] - 45s 2s/step - loss: 0.0209 - val_loss: 0.0193\n",
      "Epoch 12/20\n",
      "24/24 [==============================] - 35s 1s/step - loss: 0.0191 - val_loss: 0.0189\n",
      "Epoch 13/20\n",
      "24/24 [==============================] - 23s 966ms/step - loss: 0.0185 - val_loss: 0.0179\n",
      "Epoch 14/20\n",
      "24/24 [==============================] - 21s 883ms/step - loss: 0.0178 - val_loss: 0.0174\n",
      "Epoch 15/20\n",
      "24/24 [==============================] - 26s 1s/step - loss: 0.0172 - val_loss: 0.0166\n",
      "Epoch 16/20\n",
      "24/24 [==============================] - 38s 2s/step - loss: 0.0168 - val_loss: 0.0161\n",
      "Epoch 17/20\n",
      "24/24 [==============================] - 40s 2s/step - loss: 0.0161 - val_loss: 0.0158\n",
      "Epoch 18/20\n",
      "24/24 [==============================] - 25s 1s/step - loss: 0.0156 - val_loss: 0.0159\n",
      "Epoch 19/20\n",
      "24/24 [==============================] - 22s 904ms/step - loss: 0.0152 - val_loss: 0.0161\n",
      "Epoch 20/20\n",
      "24/24 [==============================] - 26s 1s/step - loss: 0.0153 - val_loss: 0.0145\n"
     ]
    },
    {
     "data": {
      "text/plain": [
       "<tensorflow.python.keras.callbacks.History at 0x2575f22eb80>"
      ]
     },
     "execution_count": 24,
     "metadata": {},
     "output_type": "execute_result"
    }
   ],
   "source": [
    "model.compile(optimizer='adam', loss='mse')\n",
    "early_stopping = EarlyStopping(monitor='val_loss', min_delta=0, patience=10, verbose=1, mode='auto')\n",
    "### verbose : model.fit()의 진행과정을 표시\n",
    "### verbose 0: 표시X   verbose 1: 진행바   verbose 2: epoch당 한 줄\n",
    "### verbose 예시 사진 :https://github.com/keras-team/keras/issues/12860\n",
    "model.fit(train_x, train_x, epochs=20, batch_size=2048, validation_data=(val_x, val_x), callbacks=[early_stopping])"
   ]
  },
  {
   "cell_type": "markdown",
   "id": "superb-output",
   "metadata": {},
   "source": [
    "validation 데이터로 예측을 생성해보자."
   ]
  },
  {
   "cell_type": "code",
   "execution_count": 26,
   "id": "cooperative-tumor",
   "metadata": {
    "ExecuteTime": {
     "end_time": "2021-02-16T15:29:23.037288Z",
     "start_time": "2021-02-16T15:29:16.020039Z"
    }
   },
   "outputs": [],
   "source": [
    "preds = model.predict(val_x)"
   ]
  },
  {
   "cell_type": "markdown",
   "id": "focal-sheriff",
   "metadata": {},
   "source": [
    "원본 데이터와 예측된 데이터를 시각화해보자."
   ]
  },
  {
   "cell_type": "markdown",
   "id": "fantastic-listening",
   "metadata": {},
   "source": [
    "##### Inputs : Actual Images"
   ]
  },
  {
   "cell_type": "code",
   "execution_count": 27,
   "id": "divine-cheese",
   "metadata": {
    "ExecuteTime": {
     "end_time": "2021-02-16T15:29:26.925722Z",
     "start_time": "2021-02-16T15:29:25.335970Z"
    }
   },
   "outputs": [
    {
     "data": {
      "image/png": "[encoded data removed]",
      "text/plain": [
       "<Figure size 5760x2880 with 5 Axes>"
      ]
     },
     "metadata": {
      "needs_background": "light"
     },
     "output_type": "display_data"
    }
   ],
   "source": [
    "from PIL import Image\n",
    "f, ax = plt.subplots(1,5)\n",
    "f.set_size_inches(80,40)\n",
    "for i in range(5):\n",
    "    ax[i].imshow(val_x[i].reshape(28,28))\n",
    "plt.show()"
   ]
  },
  {
   "cell_type": "markdown",
   "id": "burning-tampa",
   "metadata": {},
   "source": [
    "##### Predicted : Autoencdoer Output"
   ]
  },
  {
   "cell_type": "code",
   "execution_count": 28,
   "id": "compatible-cisco",
   "metadata": {
    "ExecuteTime": {
     "end_time": "2021-02-16T15:29:31.258208Z",
     "start_time": "2021-02-16T15:29:29.821973Z"
    }
   },
   "outputs": [
    {
     "data": {
      "image/png": "[encoded data removed]",
      "text/plain": [
       "<Figure size 5760x2880 with 5 Axes>"
      ]
     },
     "metadata": {
      "needs_background": "light"
     },
     "output_type": "display_data"
    }
   ],
   "source": [
    "f, ax = plt.subplots(1,5)\n",
    "f.set_size_inches(80,40)\n",
    "for i in range(5):\n",
    "    ax[i].imshow(preds[i].reshape(28,28))\n",
    "plt.show()"
   ]
  },
  {
   "cell_type": "markdown",
   "id": "designed-salon",
   "metadata": {},
   "source": [
    "따라서 20 epochs으로 학습된 autoencoder가 입력 이미지를 아주 잘 재구성할 수 있다는 것을 볼 수 있다. autoencoder의 다른 사용 예시 - 이미지 denoising 혹은 이미지 노이즈 제거를 알아보자."
   ]
  },
  {
   "cell_type": "markdown",
   "id": "secret-reporter",
   "metadata": {},
   "source": [
    "## 2.2. UseCase 2 : Image Denoising"
   ]
  },
  {
   "cell_type": "markdown",
   "id": "shared-recipe",
   "metadata": {},
   "source": [
    "autoencoder는 매우 유용하다. autoencoder의 또 다른 응용인 이미지 denoising을 알아보자. 입력 이미지는 데이터에 노이즈를 포함한 경우가 많으므로, autoencoder는 그러한 이미지를 제거하는 데 사용될 수 있다. 실제로 확인해보자. 먼저 이미지 픽셀을 포함하는 train_x와 val_x 데이터를 준비한다."
   ]
  },
  {
   "cell_type": "code",
   "execution_count": 29,
   "id": "falling-bandwidth",
   "metadata": {
    "ExecuteTime": {
     "end_time": "2021-02-16T15:29:42.188915Z",
     "start_time": "2021-02-16T15:29:40.758738Z"
    }
   },
   "outputs": [],
   "source": [
    "# train_x array와 val_x array 재생성\n",
    "train_x = train[list(train.columns)[1:]].values\n",
    "train_x, val_x = train_test_split(train_x, test_size=0.2)\n",
    "\n",
    "# 정규화 및 모형 변경\n",
    "train_x = train_x / 255.\n",
    "val_x = val_x / 255."
   ]
  },
  {
   "cell_type": "markdown",
   "id": "objective-luther",
   "metadata": {},
   "source": [
    "이 autoencoder 네트워크에서, 컨볼루션 네트워크가 이미지 입력과 잘 작동하기 때문에 컨볼루션 레이어를 추가한다. 이미지 데이터에 컨볼루션을 적용하기 위해, 입력을 28*28 행렬 형태로 변환한다. "
   ]
  },
  {
   "cell_type": "code",
   "execution_count": 30,
   "id": "intensive-torture",
   "metadata": {
    "ExecuteTime": {
     "end_time": "2021-02-16T15:31:53.549965Z",
     "start_time": "2021-02-16T15:31:53.535965Z"
    }
   },
   "outputs": [],
   "source": [
    "train_x = train_x.reshape(-1, 28, 28, 1)\n",
    "val_x = val_x.reshape(-1, 28, 28, 1)"
   ]
  },
  {
   "cell_type": "markdown",
   "id": "intelligent-stability",
   "metadata": {},
   "source": [
    "### Noisy Images"
   ]
  },
  {
   "cell_type": "markdown",
   "id": "literary-london",
   "metadata": {},
   "source": [
    "이미지에 노이즈를 의도적으로 적용할 수 있다. imgaug 패키지를 사용해 다양한 변형으로 이미지를 증강시킬 수 있다. 그런 변형 중 하나는 노이즈 도입이다. 다양한 유형의 노이즈를 이미지에 추가할 수 있다. \n",
    "- Salt and Pepper Noise\n",
    "- Gaussain Noise\n",
    "- Periodic Noise\n",
    "- Speckle Noise\n",
    "\n",
    "데이터에 impulse noise라고도 불리는 salt and pepper noise를 추가해보자. 이 노이즈는 이미지 신호에 급격한 장애를 발생시킨다. 이는 자기 자신을 흑백 픽셀로 나타낸다."
   ]
  },
  {
   "cell_type": "code",
   "execution_count": 31,
   "id": "forbidden-enlargement",
   "metadata": {
    "ExecuteTime": {
     "end_time": "2021-02-16T15:39:52.705753Z",
     "start_time": "2021-02-16T15:39:37.573976Z"
    }
   },
   "outputs": [],
   "source": [
    "# 샘플 노이즈를 추가해보자. - Salt and Pepper\n",
    "noise = augmenters.SaltAndPepper(0.1)\n",
    "seq_object = augmenters.Sequential([noise])\n",
    "\n",
    "train_x_n = seq_object.augment_images(train_x*255) / 255\n",
    "val_x_n = seq_object.augment_images(val_x*255) / 255"
   ]
  },
  {
   "cell_type": "markdown",
   "id": "beginning-diamond",
   "metadata": {},
   "source": [
    "노이즈 추가 이전"
   ]
  },
  {
   "cell_type": "code",
   "execution_count": 32,
   "id": "driven-crash",
   "metadata": {
    "ExecuteTime": {
     "end_time": "2021-02-16T15:40:21.240798Z",
     "start_time": "2021-02-16T15:40:20.020237Z"
    }
   },
   "outputs": [
    {
     "data": {
      "image/png": "[encoded data removed]",
      "text/plain": [
       "<Figure size 5760x2880 with 5 Axes>"
      ]
     },
     "metadata": {
      "needs_background": "light"
     },
     "output_type": "display_data"
    }
   ],
   "source": [
    "f, ax = plt.subplots(1,5)\n",
    "f.set_size_inches(80,40)\n",
    "for i in range(5, 10):\n",
    "    ax[i-5].imshow(train_x[i].reshape(28,28))\n",
    "plt.show()"
   ]
  },
  {
   "cell_type": "markdown",
   "id": "recognized-rabbit",
   "metadata": {},
   "source": [
    "노이즈 추가 이후"
   ]
  },
  {
   "cell_type": "code",
   "execution_count": 33,
   "id": "meaning-heather",
   "metadata": {
    "ExecuteTime": {
     "end_time": "2021-02-16T15:41:12.367819Z",
     "start_time": "2021-02-16T15:41:11.192958Z"
    }
   },
   "outputs": [
    {
     "data": {
      "image/png": "[encoded data removed]",
      "text/plain": [
       "<Figure size 5760x2880 with 5 Axes>"
      ]
     },
     "metadata": {
      "needs_background": "light"
     },
     "output_type": "display_data"
    }
   ],
   "source": [
    "f, ax = plt.subplots(1,5)\n",
    "f.set_size_inches(80,40)\n",
    "for i in range(5,10):\n",
    "    ax[i-5].imshow(train_x_n[i].reshape(28,28))\n",
    "plt.show()"
   ]
  },
  {
   "cell_type": "markdown",
   "id": "palestinian-liquid",
   "metadata": {},
   "source": [
    "이제 autoencoder를 위한 모델 아키텍쳐를 생성해보자. 이 문제에 대해 어떤 유형의 네트워크를 생성해야하는지 파악한다."
   ]
  },
  {
   "cell_type": "markdown",
   "id": "raising-scene",
   "metadata": {},
   "source": [
    "- Encoding Architecture:\n",
    "\n",
    "인코딩 아키텍쳐는 3개의 컨볼루션 레이어와 3개의 MaxPooling 레이어가 하나씩 쌓여 구성된다. Relu는 컨볼루션 레이어에서 활성화함수로 사용되고 패딩은 '같은' 상태로 유지된다. max pooling 레이어의 역할은 이미지의 차원을 축소하는 것이다. 이 레이어는 초기 표현의 겹치지 않는 하위 영역에 max 필터를 적용한다.\n",
    "\n",
    "- Decoding Architecture:\n",
    "\n",
    "디코딩 아키텍쳐에서도 마찬가지로, 컨볼루션 레이어는 인코딩 아키텍쳐와 동일한 차원(역방향 방식)을 갖는 데 사용된다. 하지만 3개의  maxpooling 레이어 대신, 3개의 업샘플링 레이어가 추가된다. 다시 활성화함수는 같고(relu), 컨볼루션 레이어의 패딩도 같다. 업샘플링 레이어의 역할은 입력 벡터의 차원을 더 높은 해상도 / 차원으로 업샘플링하는 것이다. max pooling 연산은 되돌릴 수 없지만, 각 풀링 영역 내의 maxima의 위치를 기록해 근사치를 얻을 수 있다. 업샘플링 레이어는 이 속성 사용해 저차원 특징 공간에서 재구성한다."
   ]
  },
  {
   "cell_type": "code",
   "execution_count": 38,
   "id": "nuclear-mainland",
   "metadata": {
    "ExecuteTime": {
     "end_time": "2021-02-16T15:55:04.918410Z",
     "start_time": "2021-02-16T15:55:04.777279Z"
    }
   },
   "outputs": [],
   "source": [
    "# input layer\n",
    "input_layer = Input(shape=(28,28,1))\n",
    "\n",
    "# encoding architecture\n",
    "encoded_layer1 = Conv2D(64, (3,3), activation='relu', padding='same')(input_layer)\n",
    "encoded_layer1 = MaxPool2D((2,2), padding='same')(encoded_layer1)\n",
    "encoded_layer2 = Conv2D(32, (3,3), activation='relu', padding='same')(encoded_layer1)\n",
    "encoded_layer2 = MaxPool2D((2,2), padding='same')(encoded_layer2)\n",
    "encoded_layer3 = Conv2D(16, (3,3), activation='relu', padding='same')(encoded_layer2)\n",
    "latent_view = MaxPool2D((2,2), padding='same')(encoded_layer3)\n",
    "\n",
    "# decoding architecture\n",
    "decoded_layer1 = Conv2D(16, (3,3), activation='relu', padding='same')(latent_view)\n",
    "decoded_layer1 = UpSampling2D((2,2))(decoded_layer1)\n",
    "decoded_layer2 = Conv2D(32, (3,3), activation='relu', padding='same')(decoded_layer1)\n",
    "decoded_layer2 = UpSampling2D((2,2))(decoded_layer2)\n",
    "decoded_layer3 = Conv2D(64, (3,3), activation='relu')(decoded_layer2)\n",
    "decoded_layer3 = UpSampling2D((2,2))(decoded_layer3)\n",
    "output_layer = Conv2D(1, (3,3), padding='same')(decoded_layer3)\n",
    "\n",
    "# compile the model\n",
    "model_2 = Model(input_layer, output_layer)\n",
    "model_2.compile(optimizer='adam', loss='mse')"
   ]
  },
  {
   "cell_type": "code",
   "execution_count": 39,
   "id": "million-improvement",
   "metadata": {
    "ExecuteTime": {
     "end_time": "2021-02-16T15:55:11.901071Z",
     "start_time": "2021-02-16T15:55:11.879093Z"
    }
   },
   "outputs": [
    {
     "name": "stdout",
     "output_type": "stream",
     "text": [
      "Model: \"model_1\"\n",
      "_________________________________________________________________\n",
      "Layer (type)                 Output Shape              Param #   \n",
      "=================================================================\n",
      "input_5 (InputLayer)         [(None, 28, 28, 1)]       0         \n",
      "_________________________________________________________________\n",
      "conv2d_8 (Conv2D)            (None, 28, 28, 64)        640       \n",
      "_________________________________________________________________\n",
      "max_pooling2d_4 (MaxPooling2 (None, 14, 14, 64)        0         \n",
      "_________________________________________________________________\n",
      "conv2d_9 (Conv2D)            (None, 14, 14, 32)        18464     \n",
      "_________________________________________________________________\n",
      "max_pooling2d_5 (MaxPooling2 (None, 7, 7, 32)          0         \n",
      "_________________________________________________________________\n",
      "conv2d_10 (Conv2D)           (None, 7, 7, 16)          4624      \n",
      "_________________________________________________________________\n",
      "max_pooling2d_6 (MaxPooling2 (None, 4, 4, 16)          0         \n",
      "_________________________________________________________________\n",
      "conv2d_11 (Conv2D)           (None, 4, 4, 16)          2320      \n",
      "_________________________________________________________________\n",
      "up_sampling2d_2 (UpSampling2 (None, 8, 8, 16)          0         \n",
      "_________________________________________________________________\n",
      "conv2d_12 (Conv2D)           (None, 8, 8, 32)          4640      \n",
      "_________________________________________________________________\n",
      "up_sampling2d_3 (UpSampling2 (None, 16, 16, 32)        0         \n",
      "_________________________________________________________________\n",
      "conv2d_13 (Conv2D)           (None, 14, 14, 64)        18496     \n",
      "_________________________________________________________________\n",
      "up_sampling2d_4 (UpSampling2 (None, 28, 28, 64)        0         \n",
      "_________________________________________________________________\n",
      "conv2d_14 (Conv2D)           (None, 28, 28, 1)         577       \n",
      "=================================================================\n",
      "Total params: 49,761\n",
      "Trainable params: 49,761\n",
      "Non-trainable params: 0\n",
      "_________________________________________________________________\n"
     ]
    }
   ],
   "source": [
    "model_2.summary()"
   ]
  },
  {
   "cell_type": "markdown",
   "id": "nonprofit-jumping",
   "metadata": {},
   "source": [
    "조기멈춤 callback으로 모델을 학습시킨다. 더 좋은 결과를 얻으려면 epoch 수를 늘린다."
   ]
  },
  {
   "cell_type": "code",
   "execution_count": 40,
   "id": "viral-argentina",
   "metadata": {
    "ExecuteTime": {
     "end_time": "2021-02-16T16:30:50.414660Z",
     "start_time": "2021-02-16T15:57:24.095244Z"
    }
   },
   "outputs": [
    {
     "name": "stdout",
     "output_type": "stream",
     "text": [
      "Epoch 1/10\n",
      "24/24 [==============================] - 182s 8s/step - loss: 0.1419 - val_loss: 0.0621\n",
      "Epoch 2/10\n",
      "24/24 [==============================] - 198s 8s/step - loss: 0.0544 - val_loss: 0.0405\n",
      "Epoch 3/10\n",
      "24/24 [==============================] - 200s 8s/step - loss: 0.0391 - val_loss: 0.0346\n",
      "Epoch 4/10\n",
      "24/24 [==============================] - 217s 9s/step - loss: 0.0338 - val_loss: 0.0311\n",
      "Epoch 5/10\n",
      "24/24 [==============================] - 193s 8s/step - loss: 0.0302 - val_loss: 0.0280\n",
      "Epoch 6/10\n",
      "24/24 [==============================] - 198s 8s/step - loss: 0.0274 - val_loss: 0.0257\n",
      "Epoch 7/10\n",
      "24/24 [==============================] - 211s 9s/step - loss: 0.0256 - val_loss: 0.0243\n",
      "Epoch 8/10\n",
      "24/24 [==============================] - 198s 8s/step - loss: 0.0242 - val_loss: 0.0233\n",
      "Epoch 9/10\n",
      "24/24 [==============================] - 203s 9s/step - loss: 0.0235 - val_loss: 0.0224\n",
      "Epoch 10/10\n",
      "24/24 [==============================] - 206s 9s/step - loss: 0.0224 - val_loss: 0.0219\n"
     ]
    }
   ],
   "source": [
    "early_stopping = EarlyStopping(monitor='val_loss', min_delta=0, patience=10, verbose=5, mode='auto')\n",
    "history = model_2.fit(train_x_n, train_x, epochs=10, batch_size=2048, validation_data=(val_x_n,val_x), callbacks=[early_stopping])"
   ]
  },
  {
   "cell_type": "markdown",
   "id": "synthetic-future",
   "metadata": {},
   "source": [
    "모델로 예측해보자."
   ]
  },
  {
   "cell_type": "code",
   "execution_count": 43,
   "id": "smart-perception",
   "metadata": {
    "ExecuteTime": {
     "end_time": "2021-02-16T16:31:09.232673Z",
     "start_time": "2021-02-16T16:31:06.691066Z"
    }
   },
   "outputs": [
    {
     "data": {
      "image/png": "[encoded data removed]",
      "text/plain": [
       "<Figure size 5760x2880 with 5 Axes>"
      ]
     },
     "metadata": {
      "needs_background": "light"
     },
     "output_type": "display_data"
    }
   ],
   "source": [
    "preds = model_2.predict(val_x_n[:10])\n",
    "f, ax = plt.subplots(1,5)\n",
    "f.set_size_inches(80,40)\n",
    "for i in range(5,10):\n",
    "    ax[i-5].imshow(preds[i].reshape(28,28))\n",
    "plt.show()"
   ]
  },
  {
   "cell_type": "markdown",
   "id": "subjective-adoption",
   "metadata": {},
   "source": [
    "이 실행에서, 더 긴 epochs로 네트워크를 학습시키진 않았지만, 더 나은 예측을 위해 500~1000 범위 정도의 epochs로 네트워크를 학습시킬 수 있다."
   ]
  },
  {
   "cell_type": "markdown",
   "id": "damaged-cowboy",
   "metadata": {},
   "source": [
    "## 2.3. UseCase 3 : Sequence to Sequence Prediction using AutoEncoders"
   ]
  },
  {
   "cell_type": "markdown",
   "id": "welcome-disposal",
   "metadata": {},
   "source": [
    "다음 사용 예제는 sequence to sequence 예측이다. 이전 예시에서 기본적으로 2차우너 데이터인 이미지를 입력했지만, 이 예제에서 시퀀스 데이터를 1차원으로 입력한다. 시퀀스 데이터의 예는 시계열 데이터와 텍스트 데이터가 있다. 이 사용 예시는 기계 번역에 적용할 수 있다. 이미지 예시에서 CNN과 달리, 이 사용 예시에서는 LSTM을 사용한다."
   ]
  },
  {
   "cell_type": "markdown",
   "id": "imperial-conversation",
   "metadata": {},
   "source": [
    "##### Autoencdoer Architecture"
   ]
  },
  {
   "cell_type": "markdown",
   "id": "current-wheel",
   "metadata": {},
   "source": [
    "이 사용예시의 아키텍쳐는 소스 시퀀스를 인코딩하는 인코더와, 다음으로 인코딩된 소스 시퀀스를 타겟 시퀀스로 디코딩하는 디코더를 포함한다. 먼저 이 아키텍쳐에서 사용될 LSTM의 내부 작업을 이해한다.\n",
    "- LSTM(Long Short-Term Memory)은 내부 게이트로 구성된 반복 신경망이다. \n",
    "- 다른 반복 신경망과 달리, 네트워크의 내부 게이트는 BPTT(역전파)를 사용해 모델을 성공적으로 학습시키고, 가중치가 사라지는 문제를 피할 수 있게 한다. \n",
    "- LSTM 레이어에서 LSTM 메모리 유닛의 수를 정의할 수 있다. 레이어 내의 각 유닛 혹은 셀은 내부 메모리/셀 상태 'c'를 가지며, 은닉상태 'h'를 출력한다.\n",
    "- keras를 사용해 LSTM 레이어의 현재 상태뿐만 아니라 LSTM의 출력 상태에 모두 접근할 수 있다.\n",
    "\n",
    "이제 LSTM 레이어로 구성된 시퀀스를 학습하고 생성하기 위한 autoencoder 아키텍쳐를 생성해보자. 두 가지 구성요소가 있다.\n",
    "- 시퀀스를 입력으로 하고 LSTM의 현재 상태를 출력으로 반환하는 인코더 아키텍쳐\n",
    "- 시퀀스와 인코더 LSTM 상태를 입력으로 하고 디코딩된 출력 시퀀스를 반환하는 디코더 아키텍쳐\n",
    "- 보이지 않는 데이터에 대한 예측을 생성할 때 LSTM을 사용할 수 있도록 은닉과 메모리 상태를 저장하고 액세스한다."
   ]
  },
  {
   "cell_type": "markdown",
   "id": "mobile-concept",
   "metadata": {},
   "source": [
    "먼저 고정된 길이의 랜덤 시퀀스를 포함하는 시퀀스 데이터셋을 생성하자. 랜덤시퀀스를 생성하는 함수를 만든다.\n",
    "- X1 : 난수를 포함하는 입력 시퀀스\n",
    "- X2 : 시퀀스의 다른 요소를 재현하기 위해 seed로 사용되는 패딩 시퀀스\n",
    "- y : 타겟 시퀀스 혹은 실제 시퀀스"
   ]
  },
  {
   "cell_type": "code",
   "execution_count": 46,
   "id": "hydraulic-natural",
   "metadata": {
    "ExecuteTime": {
     "end_time": "2021-02-16T16:32:04.855031Z",
     "start_time": "2021-02-16T16:31:59.131325Z"
    }
   },
   "outputs": [
    {
     "name": "stdout",
     "output_type": "stream",
     "text": [
      "Shapes : (100000, 6, 51) (100000, 3, 51) (100000, 3, 51)\n",
      "Here is first categorically encoded input sequence loos like :\n"
     ]
    },
    {
     "data": {
      "text/plain": [
       "array([0., 0., 0., 0., 0., 0., 0., 0., 0., 0., 0., 0., 0., 0., 0., 0., 0.,\n",
       "       0., 1., 0., 0., 0., 0., 0., 0., 0., 0., 0., 0., 0., 0., 0., 0., 0.,\n",
       "       0., 0., 0., 0., 0., 0., 0., 0., 0., 0., 0., 0., 0., 0., 0., 0., 0.],\n",
       "      dtype=float32)"
      ]
     },
     "execution_count": 46,
     "metadata": {},
     "output_type": "execute_result"
    }
   ],
   "source": [
    "def dataset_preparation(n_in, n_out, n_unique, n_samples):\n",
    "    X1, X2, y = [], [], []\n",
    "    for _ in range(n_samples):\n",
    "        # 난수 시퀀스 생성 - input\n",
    "        inp_seq = [randint(1, n_unique-1) for _ in range(n_in)]\n",
    "        # 타켓 시퀀스 생성\n",
    "        target = inp_seq[:n_out]\n",
    "        # 패딩 시퀀스 / 시드 시퀀스 생성\n",
    "        target_seq = list(reversed(target))\n",
    "        seed_seq = [0] + target_seq[:-1]\n",
    "        \n",
    "        # keras api를 이용해 범주화\n",
    "        X1.append(to_categorical([inp_seq], num_classes=n_unique))\n",
    "        X2.append(to_categorical([seed_seq], num_classes=n_unique))\n",
    "        y.append(to_categorical([target_seq], num_classes=n_unique))\n",
    "        \n",
    "    # 불필요한 차원 제거\n",
    "    X1 = np.squeeze(np.array(X1), axis=1)  ### np.squeeze : 1차원 제거 (기본값이 1). 즉 차원축소에 사용됨\n",
    "    X2 = np.squeeze(np.array(X2), axis=1)  ### (5,3,1)이면 (5,3)으로 / (4,1,1,5)면 (4,5)로 축소\n",
    "    y = np.squeeze(np.array(y), axis=1)\n",
    "    \n",
    "    return X1, X2, y\n",
    "\n",
    "samples = 100000\n",
    "features = 51\n",
    "inp_size = 6\n",
    "out_size = 3\n",
    "\n",
    "inputs, seeds, outputs = dataset_preparation(inp_size, out_size, features, samples)\n",
    "print('Shapes :', inputs.shape, seeds.shape, outputs.shape)\n",
    "print('Here is first categorically encoded input sequence loos like :',)\n",
    "inputs[0][0]"
   ]
  },
  {
   "cell_type": "markdown",
   "id": "general-velvet",
   "metadata": {},
   "source": [
    "다음으로 keras에서 모델의 아키텍쳐를 생성해보자."
   ]
  },
  {
   "cell_type": "code",
   "execution_count": 48,
   "id": "inclusive-generic",
   "metadata": {
    "ExecuteTime": {
     "end_time": "2021-02-16T16:40:12.389569Z",
     "start_time": "2021-02-16T16:40:11.214710Z"
    }
   },
   "outputs": [],
   "source": [
    "def define_models(n_input, n_output):\n",
    "    # 인코더 아키텍쳐 정의\n",
    "    # input : 시퀀스\n",
    "    # output : 인코더 상태\n",
    "    encoder_inputs = Input(shape=(None, n_input))\n",
    "    encoder = LSTM(128, return_state=True)\n",
    "    encoder_outputs, state_h, state_c = encoder(encoder_inputs)\n",
    "    encoder_states = [state_h, state_c]\n",
    "    \n",
    "    # 인코더-디코더 아키텍쳐 정의\n",
    "    # input : 시드 시퀀스\n",
    "    # output : 디코더 상태, 디코딩된 output\n",
    "    decoder_inputs = Input(shape=(None, n_output))\n",
    "    decoder_lstm = LSTM(128, return_sequences=True, return_state=True)\n",
    "    decoder_outputs, _, _ = decoder_lstm(decoder_inputs, initial_state=encoder_states)\n",
    "    decoder_dense = Dense(n_output, activation='softmax')\n",
    "    decoder_outputs = decoder_dense(decoder_outputs)\n",
    "    model = Model([encoder_inputs, decoder_inputs], decoder_outputs)\n",
    "    \n",
    "    # 디코더 모델 정의\n",
    "    # input : 현재 상태 + 인코딩된 시퀀스\n",
    "    # output : 디코딩된 시퀀스\n",
    "    encoder_model = Model(encoder_inputs, encoder_states)\n",
    "    decoder_state_input_h = Input(shape=(128,))\n",
    "    decoder_state_input_c = Input(shape=(128,))\n",
    "    decoder_states_inputs = [decoder_state_input_h, decoder_state_input_c]\n",
    "    decoder_outputs, state_h, state_c = decoder_lstm(decoder_inputs, initial_state=decoder_states_inputs)\n",
    "    decoder_states = [state_h, state_c]\n",
    "    decoder_outputs = decoder_dense(decoder_outputs)\n",
    "    decoder_model = Model([decoder_inputs] + decoder_states_inputs, [decoder_outputs] + decoder_states)\n",
    "    \n",
    "    return model, encoder_model, decoder_model\n",
    "\n",
    "autoencoder, encoder_model, decoder_model = define_models(features, features)"
   ]
  },
  {
   "cell_type": "code",
   "execution_count": 49,
   "id": "copyrighted-pavilion",
   "metadata": {
    "ExecuteTime": {
     "end_time": "2021-02-16T16:40:21.211526Z",
     "start_time": "2021-02-16T16:40:21.201590Z"
    }
   },
   "outputs": [
    {
     "name": "stdout",
     "output_type": "stream",
     "text": [
      "Model: \"model_3\"\n",
      "_________________________________________________________________\n",
      "Layer (type)                 Output Shape              Param #   \n",
      "=================================================================\n",
      "input_8 (InputLayer)         [(None, None, 51)]        0         \n",
      "_________________________________________________________________\n",
      "lstm_2 (LSTM)                [(None, 128), (None, 128) 92160     \n",
      "=================================================================\n",
      "Total params: 92,160\n",
      "Trainable params: 92,160\n",
      "Non-trainable params: 0\n",
      "_________________________________________________________________\n"
     ]
    }
   ],
   "source": [
    "encoder_model.summary()"
   ]
  },
  {
   "cell_type": "code",
   "execution_count": 50,
   "id": "through-absence",
   "metadata": {
    "ExecuteTime": {
     "end_time": "2021-02-16T16:41:34.667720Z",
     "start_time": "2021-02-16T16:41:34.658745Z"
    }
   },
   "outputs": [
    {
     "name": "stdout",
     "output_type": "stream",
     "text": [
      "Model: \"model_4\"\n",
      "__________________________________________________________________________________________________\n",
      "Layer (type)                    Output Shape         Param #     Connected to                     \n",
      "==================================================================================================\n",
      "input_9 (InputLayer)            [(None, None, 51)]   0                                            \n",
      "__________________________________________________________________________________________________\n",
      "input_10 (InputLayer)           [(None, 128)]        0                                            \n",
      "__________________________________________________________________________________________________\n",
      "input_11 (InputLayer)           [(None, 128)]        0                                            \n",
      "__________________________________________________________________________________________________\n",
      "lstm_3 (LSTM)                   [(None, None, 128),  92160       input_9[0][0]                    \n",
      "                                                                 input_10[0][0]                   \n",
      "                                                                 input_11[0][0]                   \n",
      "__________________________________________________________________________________________________\n",
      "dense_9 (Dense)                 (None, None, 51)     6579        lstm_3[1][0]                     \n",
      "==================================================================================================\n",
      "Total params: 98,739\n",
      "Trainable params: 98,739\n",
      "Non-trainable params: 0\n",
      "__________________________________________________________________________________________________\n"
     ]
    }
   ],
   "source": [
    "decoder_model.summary()"
   ]
  },
  {
   "cell_type": "code",
   "execution_count": 51,
   "id": "funky-gross",
   "metadata": {
    "ExecuteTime": {
     "end_time": "2021-02-16T16:42:19.753972Z",
     "start_time": "2021-02-16T16:42:19.743002Z"
    }
   },
   "outputs": [
    {
     "name": "stdout",
     "output_type": "stream",
     "text": [
      "Model: \"model_2\"\n",
      "__________________________________________________________________________________________________\n",
      "Layer (type)                    Output Shape         Param #     Connected to                     \n",
      "==================================================================================================\n",
      "input_8 (InputLayer)            [(None, None, 51)]   0                                            \n",
      "__________________________________________________________________________________________________\n",
      "input_9 (InputLayer)            [(None, None, 51)]   0                                            \n",
      "__________________________________________________________________________________________________\n",
      "lstm_2 (LSTM)                   [(None, 128), (None, 92160       input_8[0][0]                    \n",
      "__________________________________________________________________________________________________\n",
      "lstm_3 (LSTM)                   [(None, None, 128),  92160       input_9[0][0]                    \n",
      "                                                                 lstm_2[0][1]                     \n",
      "                                                                 lstm_2[0][2]                     \n",
      "__________________________________________________________________________________________________\n",
      "dense_9 (Dense)                 (None, None, 51)     6579        lstm_3[0][0]                     \n",
      "==================================================================================================\n",
      "Total params: 190,899\n",
      "Trainable params: 190,899\n",
      "Non-trainable params: 0\n",
      "__________________________________________________________________________________________________\n"
     ]
    }
   ],
   "source": [
    "autoencoder.summary()"
   ]
  },
  {
   "cell_type": "markdown",
   "id": "together-intellectual",
   "metadata": {},
   "source": [
    "이제 Adam Optimizer와 Categorical Cross Entropy 손실 함수를 사용해 autoencoder 모델을 학습시켜보자."
   ]
  },
  {
   "cell_type": "code",
   "execution_count": 52,
   "id": "authentic-affect",
   "metadata": {
    "ExecuteTime": {
     "end_time": "2021-02-16T16:44:23.840107Z",
     "start_time": "2021-02-16T16:43:56.318033Z"
    }
   },
   "outputs": [
    {
     "name": "stdout",
     "output_type": "stream",
     "text": [
      "3125/3125 [==============================] - 27s 8ms/step - loss: 1.4426 - acc: 0.5544\n"
     ]
    },
    {
     "data": {
      "text/plain": [
       "<tensorflow.python.keras.callbacks.History at 0x2577f14f850>"
      ]
     },
     "execution_count": 52,
     "metadata": {},
     "output_type": "execute_result"
    }
   ],
   "source": [
    "autoencoder.compile(optimizer='adam', loss='categorical_crossentropy', metrics=['acc'])\n",
    "autoencoder.fit([inputs, seeds], outputs, epochs=1)"
   ]
  },
  {
   "cell_type": "markdown",
   "id": "green-cancer",
   "metadata": {},
   "source": [
    "입력 시퀀스를 기준으로 시퀀스를 예측하는 함수를 작성해보자."
   ]
  },
  {
   "cell_type": "code",
   "execution_count": 54,
   "id": "cross-colleague",
   "metadata": {
    "ExecuteTime": {
     "end_time": "2021-02-16T16:46:41.049553Z",
     "start_time": "2021-02-16T16:46:41.041574Z"
    }
   },
   "outputs": [],
   "source": [
    "def reverse_onehot(encoded_seq):\n",
    "    return [argmax(vertor) for vertor in encoded_seq]\n",
    "\n",
    "\n",
    "def predict_sequence(encoder, decoder, sequence):\n",
    "    output = []\n",
    "    target_seq = np.array([0.0 for _ in range(features)])\n",
    "    target_seq = target_seq.reshape(1,1,features)\n",
    "    \n",
    "    current_state = encoder.predict(sequence)\n",
    "    for t in range(out_size):\n",
    "        pred, h, c = decoder.predict([target_seq] + current_state)\n",
    "        output.append(pred[0,0,:])\n",
    "        current_state = [h, c]\n",
    "        target_seq = pred\n",
    "    \n",
    "    return np.array(output)"
   ]
  },
  {
   "cell_type": "markdown",
   "id": "unavailable-vermont",
   "metadata": {},
   "source": [
    "예측을 생성한다."
   ]
  },
  {
   "cell_type": "code",
   "execution_count": 55,
   "id": "atomic-longer",
   "metadata": {
    "ExecuteTime": {
     "end_time": "2021-02-16T16:48:32.206005Z",
     "start_time": "2021-02-16T16:48:28.832020Z"
    }
   },
   "outputs": [
    {
     "name": "stdout",
     "output_type": "stream",
     "text": [
      "\n",
      "Input Sequence=[37, 21, 21, 18, 26, 43],  SeedSequence=[21, 21, 37],  PredictedSequence=[21, 21, 37]\n",
      "\n",
      "Input Sequence=[47, 43, 39, 26, 15, 46],  SeedSequence=[39, 43, 47],  PredictedSequence=[39, 43, 47]\n",
      "\n",
      "Input Sequence=[48, 8, 35, 16, 34, 4],  SeedSequence=[35, 8, 48],  PredictedSequence=[35, 8, 48]\n",
      "\n",
      "Input Sequence=[21, 15, 16, 9, 49, 2],  SeedSequence=[16, 15, 21],  PredictedSequence=[16, 15, 21]\n",
      "\n",
      "Input Sequence=[47, 27, 19, 11, 31, 43],  SeedSequence=[19, 27, 47],  PredictedSequence=[19, 27, 47]\n"
     ]
    }
   ],
   "source": [
    "for k in range(5):\n",
    "    X1, X2, y = dataset_preparation(inp_size, out_size, features, 1)\n",
    "    target = predict_sequence(encoder_model, decoder_model, X1)\n",
    "    print('\\nInput Sequence=%s,  SeedSequence=%s,  PredictedSequence=%s'\n",
    "         %(reverse_onehot(X1[0]), reverse_onehot(y[0]), reverse_onehot(target)))"
   ]
  }
 ],
 "metadata": {
  "kernelspec": {
   "display_name": "Python 3",
   "language": "python",
   "name": "python3"
  },
  "language_info": {
   "codemirror_mode": {
    "name": "ipython",
    "version": 3
   },
   "file_extension": ".py",
   "mimetype": "text/x-python",
   "name": "python",
   "nbconvert_exporter": "python",
   "pygments_lexer": "ipython3",
   "version": "3.8.5"
  },
  "toc": {
   "base_numbering": 1,
   "nav_menu": {},
   "number_sections": false,
   "sideBar": true,
   "skip_h1_title": false,
   "title_cell": "Table of Contents",
   "title_sidebar": "Contents",
   "toc_cell": false,
   "toc_position": {
    "height": "572px",
    "left": "48px",
    "top": "121.2px",
    "width": "153.6px"
   },
   "toc_section_display": true,
   "toc_window_display": false
  },
  "varInspector": {
   "cols": {
    "lenName": 16,
    "lenType": 16,
    "lenVar": 40
   },
   "kernels_config": {
    "python": {
     "delete_cmd_postfix": "",
     "delete_cmd_prefix": "del ",
     "library": "var_list.py",
     "varRefreshCmd": "print(var_dic_list())"
    },
    "r": {
     "delete_cmd_postfix": ") ",
     "delete_cmd_prefix": "rm(",
     "library": "var_list.r",
     "varRefreshCmd": "cat(var_dic_list()) "
    }
   },
   "types_to_exclude": [
    "module",
    "function",
    "builtin_function_or_method",
    "instance",
    "_Feature"
   ],
   "window_display": false
  }
 },
 "nbformat": 4,
 "nbformat_minor": 5
}
