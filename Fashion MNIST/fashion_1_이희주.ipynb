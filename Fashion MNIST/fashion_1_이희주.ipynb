{
 "cells": [
  {
   "cell_type": "markdown",
   "metadata": {},
   "source": [
    "- competition/dataset : [https://www.kaggle.com/zalando-research/fashionmnist](https://www.kaggle.com/zalando-research/fashionmnist)\n",
    "- date : 2021/02/16\n",
    "- original : [https://www.kaggle.com/shivamb/how-autoencoders-work-intro-and-usecases](https://www.kaggle.com/shivamb/how-autoencoders-work-intro-and-usecases)"
   ]
  },
  {
   "cell_type": "markdown",
   "metadata": {},
   "source": [
    "## How Autoencoders Work: Intro and UseCases"
   ]
  },
  {
   "cell_type": "markdown",
   "metadata": {
    "execution": {
     "iopub.execute_input": "2021-01-19T23:23:23.804833Z",
     "iopub.status.busy": "2021-01-19T23:23:23.803834Z",
     "iopub.status.idle": "2021-01-19T23:23:23.811814Z",
     "shell.execute_reply": "2021-01-19T23:23:23.810817Z",
     "shell.execute_reply.started": "2021-01-19T23:23:23.804833Z"
    }
   },
   "source": [
    "**✏ 필사 1회** "
   ]
  },
  {
   "cell_type": "markdown",
   "metadata": {},
   "source": [
    "### How Autoencoders work - Understanding the math and implementation\n",
    "**Contents**  \n",
    "1. Introduction   \n",
    "    1-1. What are Autoencoders?  \n",
    "    1-2. How Autoencoders Work?  \n",
    "2. Implementation and UseCases  \n",
    "    2-1. UseCase 1: Image Reconstruction  \n",
    "    2-2. UseCase 2: Noise Removal  \n",
    "    2-3. UseCase 3: Sequence to Sequence Prediction  "
   ]
  },
  {
   "cell_type": "markdown",
   "metadata": {},
   "source": [
    "### 1. Introduction"
   ]
  },
  {
   "cell_type": "markdown",
   "metadata": {},
   "source": [
    "#### 1-1. What are Autoencoders?\n",
    "오토인코더는 출력이 입력과 동일한 특별한 타입의 신경망 구조입니다. 오토인코더는 입력 데이터의 극도로 낮은 수준의 표현을 학습하기 위해 비지도 방식으로 훈련됩니다. 그 다음 이러한 낮은 수준의 feature들은 다시 변형되어 실제 데이터를 투영합니다. 오토인코더는 네트워크에서 입력을 예측하도록 요구되는 회귀 작업입니다. 이러한 네트워크들은 중앙의 일부 뉴런들에서 병목 현상이 있기 때문에, 디코더가 원래의 입력을 재현하기 위해 사용할 수 있는 저차원 코드로 입력을 압축하는 효과적인 표현을 만들 수 밖에 없습니다.  \n",
    "\n",
    "일반적인 오토인코더 구조는 세 개의 메인 컴포넌트로 구성됩니다:  \n",
    "* **Encoding Architecture**: 노드 수가 계속 감소하여 latent view representation으로 줄어드는 계층으로 구성\n",
    "* **Latent View Representation**: 가장 낮은 수준의 공간으로, 입력이 줄어들고 정보는 유지됨\n",
    "* **Decoding Architecture**: encoding architecture와 똑같은 형태이나 매 계층마다 노드 수가 증가하고, 궁극적으로 결과는 입력과 유사해짐  \n",
    "\n",
    "![architecture](data/Rrmaise.png)\n",
    "\n",
    "매우 정교하게 튜닝된 오토인코더 모델은 첫 번째 층에서 전달된 입력을 동일하게 재구성할 수 있어야 합니다. 이 커널에서는 오토인코더의 작업과 구현 과정을 안내하겠습니다. 오토인코더는 이미지 데이터와 함께 널리 사용되며 사례 중 일부는 다음과 같습니다:\n",
    "* Dimentionality Reduction (차원 축소)\n",
    "* Image Compression (이미지 압축)\n",
    "* Image Denoising (이미지 노이즈 제거)\n",
    "* Image Generation (이미지 생성)\n",
    "* Feature Extraction (feature 추출)"
   ]
  },
  {
   "cell_type": "markdown",
   "metadata": {},
   "source": [
    "#### 1-2.How Autoencoders Work?\n",
    "오토인코더와 관련된 수학을 이해해봅시다. 오토인코더에 대한 주된 아이디어는 높은 수준의 차원 데이터에 대한 낮은 수준의 재현을 배우는 것입니다. 예시를 보며 인코딩 과정을 이해해봅시다. 데이터 재현 공간(데이터를 나타내는데 사용되는 N차원 공간) 및 두 변수 x1, x2로 나타내어지는 데이터의 점을 고려해야 합니다. 데이터 manifold는 실제 데이터가 있는 데이터 재현 공간 내부의 공간입니다."
   ]
  },
  {
   "cell_type": "code",
   "execution_count": 3,
   "metadata": {
    "execution": {
     "iopub.execute_input": "2021-02-16T08:26:15.791100Z",
     "iopub.status.busy": "2021-02-16T08:26:15.791100Z",
     "iopub.status.idle": "2021-02-16T08:26:17.346607Z",
     "shell.execute_reply": "2021-02-16T08:26:17.345609Z",
     "shell.execute_reply.started": "2021-02-16T08:26:15.791100Z"
    }
   },
   "outputs": [
    {
     "data": {
      "text/html": [
       "        <script type=\"text/javascript\">\n",
       "        window.PlotlyConfig = {MathJaxConfig: 'local'};\n",
       "        if (window.MathJax) {MathJax.Hub.Config({SVG: {font: \"STIX-Web\"}});}\n",
       "        if (typeof require !== 'undefined') {\n",
       "        require.undef(\"plotly\");\n",
       "        requirejs.config({\n",
       "            paths: {\n",
       "                'plotly': ['https://cdn.plot.ly/plotly-latest.min']\n",
       "            }\n",
       "        });\n",
       "        require(['plotly'], function(Plotly) {\n",
       "            window._Plotly = Plotly;\n",
       "        });\n",
       "        }\n",
       "        </script>\n",
       "        "
      ]
     },
     "metadata": {},
     "output_type": "display_data"
    },
    {
     "data": {
      "application/vnd.plotly.v1+json": {
       "config": {
        "linkText": "Export to plot.ly",
        "plotlyServerURL": "https://plot.ly",
        "showLink": false
       },
       "data": [
        {
         "mode": "markers",
         "name": "Actual Data",
         "type": "scatter",
         "x": [
          2,
          2.163265306122449,
          2.326530612244898,
          2.489795918367347,
          2.6530612244897958,
          2.816326530612245,
          2.979591836734694,
          3.142857142857143,
          3.3061224489795915,
          3.4693877551020407,
          3.63265306122449,
          3.7959183673469385,
          3.9591836734693877,
          4.122448979591836,
          4.285714285714286,
          4.448979591836734,
          4.612244897959183,
          4.775510204081632,
          4.938775510204081,
          5.1020408163265305,
          5.26530612244898,
          5.428571428571429,
          5.591836734693877,
          5.755102040816326,
          5.918367346938775,
          6.081632653061225,
          6.244897959183673,
          6.408163265306122,
          6.571428571428571,
          6.73469387755102,
          6.897959183673469,
          7.061224489795918,
          7.224489795918367,
          7.387755102040816,
          7.551020408163265,
          7.7142857142857135,
          7.877551020408163,
          8.040816326530612,
          8.204081632653061,
          8.367346938775508,
          8.53061224489796,
          8.693877551020407,
          8.857142857142858,
          9.020408163265305,
          9.183673469387754,
          9.346938775510203,
          9.510204081632653,
          9.673469387755102,
          9.83673469387755,
          10
         ],
         "y": [
          2,
          2.163265306122449,
          2.326530612244898,
          2.489795918367347,
          2.6530612244897958,
          2.816326530612245,
          2.979591836734694,
          3.142857142857143,
          3.3061224489795915,
          3.4693877551020407,
          3.63265306122449,
          3.7959183673469385,
          3.9591836734693877,
          4.122448979591836,
          4.285714285714286,
          4.448979591836734,
          4.612244897959183,
          4.775510204081632,
          4.938775510204081,
          5.1020408163265305,
          5.26530612244898,
          5.428571428571429,
          5.591836734693877,
          5.755102040816326,
          5.918367346938775,
          6.081632653061225,
          6.244897959183673,
          6.408163265306122,
          6.571428571428571,
          6.73469387755102,
          6.897959183673469,
          7.061224489795918,
          7.224489795918367,
          7.387755102040816,
          7.551020408163265,
          7.7142857142857135,
          7.877551020408163,
          8.040816326530612,
          8.204081632653061,
          8.367346938775508,
          8.53061224489796,
          8.693877551020407,
          8.857142857142858,
          9.020408163265305,
          9.183673469387754,
          9.346938775510203,
          9.510204081632653,
          9.673469387755102,
          9.83673469387755,
          10
         ]
        }
       ],
       "layout": {
        "annotations": [
         {
          "align": "center",
          "arrowcolor": "#636363",
          "arrowhead": 2,
          "arrowsize": 1,
          "arrowwidth": 2,
          "ax": -120,
          "ay": -30,
          "bgcolor": "orange",
          "bordercolor": "#c7c7c7",
          "borderpad": 4,
          "borderwidth": 2,
          "opacity": 0.8,
          "showarrow": true,
          "text": "This 1D line is the Data Manifold (where data resides)",
          "x": 5,
          "xref": "x",
          "y": 5,
          "yref": "y"
         }
        ],
        "autosize": true,
        "template": {
         "data": {
          "bar": [
           {
            "error_x": {
             "color": "#2a3f5f"
            },
            "error_y": {
             "color": "#2a3f5f"
            },
            "marker": {
             "line": {
              "color": "#E5ECF6",
              "width": 0.5
             }
            },
            "type": "bar"
           }
          ],
          "barpolar": [
           {
            "marker": {
             "line": {
              "color": "#E5ECF6",
              "width": 0.5
             }
            },
            "type": "barpolar"
           }
          ],
          "carpet": [
           {
            "aaxis": {
             "endlinecolor": "#2a3f5f",
             "gridcolor": "white",
             "linecolor": "white",
             "minorgridcolor": "white",
             "startlinecolor": "#2a3f5f"
            },
            "baxis": {
             "endlinecolor": "#2a3f5f",
             "gridcolor": "white",
             "linecolor": "white",
             "minorgridcolor": "white",
             "startlinecolor": "#2a3f5f"
            },
            "type": "carpet"
           }
          ],
          "choropleth": [
           {
            "colorbar": {
             "outlinewidth": 0,
             "ticks": ""
            },
            "type": "choropleth"
           }
          ],
          "contour": [
           {
            "colorbar": {
             "outlinewidth": 0,
             "ticks": ""
            },
            "colorscale": [
             [
              0,
              "#0d0887"
             ],
             [
              0.1111111111111111,
              "#46039f"
             ],
             [
              0.2222222222222222,
              "#7201a8"
             ],
             [
              0.3333333333333333,
              "#9c179e"
             ],
             [
              0.4444444444444444,
              "#bd3786"
             ],
             [
              0.5555555555555556,
              "#d8576b"
             ],
             [
              0.6666666666666666,
              "#ed7953"
             ],
             [
              0.7777777777777778,
              "#fb9f3a"
             ],
             [
              0.8888888888888888,
              "#fdca26"
             ],
             [
              1,
              "#f0f921"
             ]
            ],
            "type": "contour"
           }
          ],
          "contourcarpet": [
           {
            "colorbar": {
             "outlinewidth": 0,
             "ticks": ""
            },
            "type": "contourcarpet"
           }
          ],
          "heatmap": [
           {
            "colorbar": {
             "outlinewidth": 0,
             "ticks": ""
            },
            "colorscale": [
             [
              0,
              "#0d0887"
             ],
             [
              0.1111111111111111,
              "#46039f"
             ],
             [
              0.2222222222222222,
              "#7201a8"
             ],
             [
              0.3333333333333333,
              "#9c179e"
             ],
             [
              0.4444444444444444,
              "#bd3786"
             ],
             [
              0.5555555555555556,
              "#d8576b"
             ],
             [
              0.6666666666666666,
              "#ed7953"
             ],
             [
              0.7777777777777778,
              "#fb9f3a"
             ],
             [
              0.8888888888888888,
              "#fdca26"
             ],
             [
              1,
              "#f0f921"
             ]
            ],
            "type": "heatmap"
           }
          ],
          "heatmapgl": [
           {
            "colorbar": {
             "outlinewidth": 0,
             "ticks": ""
            },
            "colorscale": [
             [
              0,
              "#0d0887"
             ],
             [
              0.1111111111111111,
              "#46039f"
             ],
             [
              0.2222222222222222,
              "#7201a8"
             ],
             [
              0.3333333333333333,
              "#9c179e"
             ],
             [
              0.4444444444444444,
              "#bd3786"
             ],
             [
              0.5555555555555556,
              "#d8576b"
             ],
             [
              0.6666666666666666,
              "#ed7953"
             ],
             [
              0.7777777777777778,
              "#fb9f3a"
             ],
             [
              0.8888888888888888,
              "#fdca26"
             ],
             [
              1,
              "#f0f921"
             ]
            ],
            "type": "heatmapgl"
           }
          ],
          "histogram": [
           {
            "marker": {
             "colorbar": {
              "outlinewidth": 0,
              "ticks": ""
             }
            },
            "type": "histogram"
           }
          ],
          "histogram2d": [
           {
            "colorbar": {
             "outlinewidth": 0,
             "ticks": ""
            },
            "colorscale": [
             [
              0,
              "#0d0887"
             ],
             [
              0.1111111111111111,
              "#46039f"
             ],
             [
              0.2222222222222222,
              "#7201a8"
             ],
             [
              0.3333333333333333,
              "#9c179e"
             ],
             [
              0.4444444444444444,
              "#bd3786"
             ],
             [
              0.5555555555555556,
              "#d8576b"
             ],
             [
              0.6666666666666666,
              "#ed7953"
             ],
             [
              0.7777777777777778,
              "#fb9f3a"
             ],
             [
              0.8888888888888888,
              "#fdca26"
             ],
             [
              1,
              "#f0f921"
             ]
            ],
            "type": "histogram2d"
           }
          ],
          "histogram2dcontour": [
           {
            "colorbar": {
             "outlinewidth": 0,
             "ticks": ""
            },
            "colorscale": [
             [
              0,
              "#0d0887"
             ],
             [
              0.1111111111111111,
              "#46039f"
             ],
             [
              0.2222222222222222,
              "#7201a8"
             ],
             [
              0.3333333333333333,
              "#9c179e"
             ],
             [
              0.4444444444444444,
              "#bd3786"
             ],
             [
              0.5555555555555556,
              "#d8576b"
             ],
             [
              0.6666666666666666,
              "#ed7953"
             ],
             [
              0.7777777777777778,
              "#fb9f3a"
             ],
             [
              0.8888888888888888,
              "#fdca26"
             ],
             [
              1,
              "#f0f921"
             ]
            ],
            "type": "histogram2dcontour"
           }
          ],
          "mesh3d": [
           {
            "colorbar": {
             "outlinewidth": 0,
             "ticks": ""
            },
            "type": "mesh3d"
           }
          ],
          "parcoords": [
           {
            "line": {
             "colorbar": {
              "outlinewidth": 0,
              "ticks": ""
             }
            },
            "type": "parcoords"
           }
          ],
          "pie": [
           {
            "automargin": true,
            "type": "pie"
           }
          ],
          "scatter": [
           {
            "marker": {
             "colorbar": {
              "outlinewidth": 0,
              "ticks": ""
             }
            },
            "type": "scatter"
           }
          ],
          "scatter3d": [
           {
            "line": {
             "colorbar": {
              "outlinewidth": 0,
              "ticks": ""
             }
            },
            "marker": {
             "colorbar": {
              "outlinewidth": 0,
              "ticks": ""
             }
            },
            "type": "scatter3d"
           }
          ],
          "scattercarpet": [
           {
            "marker": {
             "colorbar": {
              "outlinewidth": 0,
              "ticks": ""
             }
            },
            "type": "scattercarpet"
           }
          ],
          "scattergeo": [
           {
            "marker": {
             "colorbar": {
              "outlinewidth": 0,
              "ticks": ""
             }
            },
            "type": "scattergeo"
           }
          ],
          "scattergl": [
           {
            "marker": {
             "colorbar": {
              "outlinewidth": 0,
              "ticks": ""
             }
            },
            "type": "scattergl"
           }
          ],
          "scattermapbox": [
           {
            "marker": {
             "colorbar": {
              "outlinewidth": 0,
              "ticks": ""
             }
            },
            "type": "scattermapbox"
           }
          ],
          "scatterpolar": [
           {
            "marker": {
             "colorbar": {
              "outlinewidth": 0,
              "ticks": ""
             }
            },
            "type": "scatterpolar"
           }
          ],
          "scatterpolargl": [
           {
            "marker": {
             "colorbar": {
              "outlinewidth": 0,
              "ticks": ""
             }
            },
            "type": "scatterpolargl"
           }
          ],
          "scatterternary": [
           {
            "marker": {
             "colorbar": {
              "outlinewidth": 0,
              "ticks": ""
             }
            },
            "type": "scatterternary"
           }
          ],
          "surface": [
           {
            "colorbar": {
             "outlinewidth": 0,
             "ticks": ""
            },
            "colorscale": [
             [
              0,
              "#0d0887"
             ],
             [
              0.1111111111111111,
              "#46039f"
             ],
             [
              0.2222222222222222,
              "#7201a8"
             ],
             [
              0.3333333333333333,
              "#9c179e"
             ],
             [
              0.4444444444444444,
              "#bd3786"
             ],
             [
              0.5555555555555556,
              "#d8576b"
             ],
             [
              0.6666666666666666,
              "#ed7953"
             ],
             [
              0.7777777777777778,
              "#fb9f3a"
             ],
             [
              0.8888888888888888,
              "#fdca26"
             ],
             [
              1,
              "#f0f921"
             ]
            ],
            "type": "surface"
           }
          ],
          "table": [
           {
            "cells": {
             "fill": {
              "color": "#EBF0F8"
             },
             "line": {
              "color": "white"
             }
            },
            "header": {
             "fill": {
              "color": "#C8D4E3"
             },
             "line": {
              "color": "white"
             }
            },
            "type": "table"
           }
          ]
         },
         "layout": {
          "annotationdefaults": {
           "arrowcolor": "#2a3f5f",
           "arrowhead": 0,
           "arrowwidth": 1
          },
          "autotypenumbers": "strict",
          "coloraxis": {
           "colorbar": {
            "outlinewidth": 0,
            "ticks": ""
           }
          },
          "colorscale": {
           "diverging": [
            [
             0,
             "#8e0152"
            ],
            [
             0.1,
             "#c51b7d"
            ],
            [
             0.2,
             "#de77ae"
            ],
            [
             0.3,
             "#f1b6da"
            ],
            [
             0.4,
             "#fde0ef"
            ],
            [
             0.5,
             "#f7f7f7"
            ],
            [
             0.6,
             "#e6f5d0"
            ],
            [
             0.7,
             "#b8e186"
            ],
            [
             0.8,
             "#7fbc41"
            ],
            [
             0.9,
             "#4d9221"
            ],
            [
             1,
             "#276419"
            ]
           ],
           "sequential": [
            [
             0,
             "#0d0887"
            ],
            [
             0.1111111111111111,
             "#46039f"
            ],
            [
             0.2222222222222222,
             "#7201a8"
            ],
            [
             0.3333333333333333,
             "#9c179e"
            ],
            [
             0.4444444444444444,
             "#bd3786"
            ],
            [
             0.5555555555555556,
             "#d8576b"
            ],
            [
             0.6666666666666666,
             "#ed7953"
            ],
            [
             0.7777777777777778,
             "#fb9f3a"
            ],
            [
             0.8888888888888888,
             "#fdca26"
            ],
            [
             1,
             "#f0f921"
            ]
           ],
           "sequentialminus": [
            [
             0,
             "#0d0887"
            ],
            [
             0.1111111111111111,
             "#46039f"
            ],
            [
             0.2222222222222222,
             "#7201a8"
            ],
            [
             0.3333333333333333,
             "#9c179e"
            ],
            [
             0.4444444444444444,
             "#bd3786"
            ],
            [
             0.5555555555555556,
             "#d8576b"
            ],
            [
             0.6666666666666666,
             "#ed7953"
            ],
            [
             0.7777777777777778,
             "#fb9f3a"
            ],
            [
             0.8888888888888888,
             "#fdca26"
            ],
            [
             1,
             "#f0f921"
            ]
           ]
          },
          "colorway": [
           "#636efa",
           "#EF553B",
           "#00cc96",
           "#ab63fa",
           "#FFA15A",
           "#19d3f3",
           "#FF6692",
           "#B6E880",
           "#FF97FF",
           "#FECB52"
          ],
          "font": {
           "color": "#2a3f5f"
          },
          "geo": {
           "bgcolor": "white",
           "lakecolor": "white",
           "landcolor": "#E5ECF6",
           "showlakes": true,
           "showland": true,
           "subunitcolor": "white"
          },
          "hoverlabel": {
           "align": "left"
          },
          "hovermode": "closest",
          "mapbox": {
           "style": "light"
          },
          "paper_bgcolor": "white",
          "plot_bgcolor": "#E5ECF6",
          "polar": {
           "angularaxis": {
            "gridcolor": "white",
            "linecolor": "white",
            "ticks": ""
           },
           "bgcolor": "#E5ECF6",
           "radialaxis": {
            "gridcolor": "white",
            "linecolor": "white",
            "ticks": ""
           }
          },
          "scene": {
           "xaxis": {
            "backgroundcolor": "#E5ECF6",
            "gridcolor": "white",
            "gridwidth": 2,
            "linecolor": "white",
            "showbackground": true,
            "ticks": "",
            "zerolinecolor": "white"
           },
           "yaxis": {
            "backgroundcolor": "#E5ECF6",
            "gridcolor": "white",
            "gridwidth": 2,
            "linecolor": "white",
            "showbackground": true,
            "ticks": "",
            "zerolinecolor": "white"
           },
           "zaxis": {
            "backgroundcolor": "#E5ECF6",
            "gridcolor": "white",
            "gridwidth": 2,
            "linecolor": "white",
            "showbackground": true,
            "ticks": "",
            "zerolinecolor": "white"
           }
          },
          "shapedefaults": {
           "line": {
            "color": "#2a3f5f"
           }
          },
          "ternary": {
           "aaxis": {
            "gridcolor": "white",
            "linecolor": "white",
            "ticks": ""
           },
           "baxis": {
            "gridcolor": "white",
            "linecolor": "white",
            "ticks": ""
           },
           "bgcolor": "#E5ECF6",
           "caxis": {
            "gridcolor": "white",
            "linecolor": "white",
            "ticks": ""
           }
          },
          "title": {
           "x": 0.05
          },
          "xaxis": {
           "automargin": true,
           "gridcolor": "white",
           "linecolor": "white",
           "ticks": "",
           "title": {
            "standoff": 15
           },
           "zerolinecolor": "white",
           "zerolinewidth": 2
          },
          "yaxis": {
           "automargin": true,
           "gridcolor": "white",
           "linecolor": "white",
           "ticks": "",
           "title": {
            "standoff": 15
           },
           "zerolinecolor": "white",
           "zerolinewidth": 2
          }
         }
        },
        "title": {
         "text": "2D Data Representation Space"
        },
        "xaxis": {
         "autorange": false,
         "range": [
          0,
          12
         ],
         "showspikes": false,
         "title": {
          "text": "x2"
         },
         "type": "linear"
        },
        "yaxis": {
         "autorange": false,
         "range": [
          0,
          12
         ],
         "showspikes": false,
         "title": {
          "text": "x1"
         },
         "type": "linear"
        }
       }
      },
      "image/png": "[encoded data removed]",
      "text/html": [
       "<div>                            <div id=\"eab7ecd9-7dd9-4bdc-a4ff-392b2a1d5031\" class=\"plotly-graph-div\" style=\"height:400px; width:100%;\"></div>            <script type=\"text/javascript\">                require([\"plotly\"], function(Plotly) {                    window.PLOTLYENV=window.PLOTLYENV || {};                                    if (document.getElementById(\"eab7ecd9-7dd9-4bdc-a4ff-392b2a1d5031\")) {                    Plotly.newPlot(                        \"eab7ecd9-7dd9-4bdc-a4ff-392b2a1d5031\",                        [{\"mode\": \"markers\", \"name\": \"Actual Data\", \"type\": \"scatter\", \"x\": [2.0, 2.163265306122449, 2.326530612244898, 2.489795918367347, 2.6530612244897958, 2.816326530612245, 2.979591836734694, 3.142857142857143, 3.3061224489795915, 3.4693877551020407, 3.63265306122449, 3.7959183673469385, 3.9591836734693877, 4.122448979591836, 4.285714285714286, 4.448979591836734, 4.612244897959183, 4.775510204081632, 4.938775510204081, 5.1020408163265305, 5.26530612244898, 5.428571428571429, 5.591836734693877, 5.755102040816326, 5.918367346938775, 6.081632653061225, 6.244897959183673, 6.408163265306122, 6.571428571428571, 6.73469387755102, 6.897959183673469, 7.061224489795918, 7.224489795918367, 7.387755102040816, 7.551020408163265, 7.7142857142857135, 7.877551020408163, 8.040816326530612, 8.204081632653061, 8.367346938775508, 8.53061224489796, 8.693877551020407, 8.857142857142858, 9.020408163265305, 9.183673469387754, 9.346938775510203, 9.510204081632653, 9.673469387755102, 9.83673469387755, 10.0], \"y\": [2.0, 2.163265306122449, 2.326530612244898, 2.489795918367347, 2.6530612244897958, 2.816326530612245, 2.979591836734694, 3.142857142857143, 3.3061224489795915, 3.4693877551020407, 3.63265306122449, 3.7959183673469385, 3.9591836734693877, 4.122448979591836, 4.285714285714286, 4.448979591836734, 4.612244897959183, 4.775510204081632, 4.938775510204081, 5.1020408163265305, 5.26530612244898, 5.428571428571429, 5.591836734693877, 5.755102040816326, 5.918367346938775, 6.081632653061225, 6.244897959183673, 6.408163265306122, 6.571428571428571, 6.73469387755102, 6.897959183673469, 7.061224489795918, 7.224489795918367, 7.387755102040816, 7.551020408163265, 7.7142857142857135, 7.877551020408163, 8.040816326530612, 8.204081632653061, 8.367346938775508, 8.53061224489796, 8.693877551020407, 8.857142857142858, 9.020408163265305, 9.183673469387754, 9.346938775510203, 9.510204081632653, 9.673469387755102, 9.83673469387755, 10.0]}],                        {\"annotations\": [{\"align\": \"center\", \"arrowcolor\": \"#636363\", \"arrowhead\": 2, \"arrowsize\": 1, \"arrowwidth\": 2, \"ax\": -120, \"ay\": -30, \"bgcolor\": \"orange\", \"bordercolor\": \"#c7c7c7\", \"borderpad\": 4, \"borderwidth\": 2, \"opacity\": 0.8, \"showarrow\": true, \"text\": \"This 1D line is the Data Manifold (where data resides)\", \"x\": 5, \"xref\": \"x\", \"y\": 5, \"yref\": \"y\"}], \"height\": 400, \"template\": {\"data\": {\"bar\": [{\"error_x\": {\"color\": \"#2a3f5f\"}, \"error_y\": {\"color\": \"#2a3f5f\"}, \"marker\": {\"line\": {\"color\": \"#E5ECF6\", \"width\": 0.5}}, \"type\": \"bar\"}], \"barpolar\": [{\"marker\": {\"line\": {\"color\": \"#E5ECF6\", \"width\": 0.5}}, \"type\": \"barpolar\"}], \"carpet\": [{\"aaxis\": {\"endlinecolor\": \"#2a3f5f\", \"gridcolor\": \"white\", \"linecolor\": \"white\", \"minorgridcolor\": \"white\", \"startlinecolor\": \"#2a3f5f\"}, \"baxis\": {\"endlinecolor\": \"#2a3f5f\", \"gridcolor\": \"white\", \"linecolor\": \"white\", \"minorgridcolor\": \"white\", \"startlinecolor\": \"#2a3f5f\"}, \"type\": \"carpet\"}], \"choropleth\": [{\"colorbar\": {\"outlinewidth\": 0, \"ticks\": \"\"}, \"type\": \"choropleth\"}], \"contour\": [{\"colorbar\": {\"outlinewidth\": 0, \"ticks\": \"\"}, \"colorscale\": [[0.0, \"#0d0887\"], [0.1111111111111111, \"#46039f\"], [0.2222222222222222, \"#7201a8\"], [0.3333333333333333, \"#9c179e\"], [0.4444444444444444, \"#bd3786\"], [0.5555555555555556, \"#d8576b\"], [0.6666666666666666, \"#ed7953\"], [0.7777777777777778, \"#fb9f3a\"], [0.8888888888888888, \"#fdca26\"], [1.0, \"#f0f921\"]], \"type\": \"contour\"}], \"contourcarpet\": [{\"colorbar\": {\"outlinewidth\": 0, \"ticks\": \"\"}, \"type\": \"contourcarpet\"}], \"heatmap\": [{\"colorbar\": {\"outlinewidth\": 0, \"ticks\": \"\"}, \"colorscale\": [[0.0, \"#0d0887\"], [0.1111111111111111, \"#46039f\"], [0.2222222222222222, \"#7201a8\"], [0.3333333333333333, \"#9c179e\"], [0.4444444444444444, \"#bd3786\"], [0.5555555555555556, \"#d8576b\"], [0.6666666666666666, \"#ed7953\"], [0.7777777777777778, \"#fb9f3a\"], [0.8888888888888888, \"#fdca26\"], [1.0, \"#f0f921\"]], \"type\": \"heatmap\"}], \"heatmapgl\": [{\"colorbar\": {\"outlinewidth\": 0, \"ticks\": \"\"}, \"colorscale\": [[0.0, \"#0d0887\"], [0.1111111111111111, \"#46039f\"], [0.2222222222222222, \"#7201a8\"], [0.3333333333333333, \"#9c179e\"], [0.4444444444444444, \"#bd3786\"], [0.5555555555555556, \"#d8576b\"], [0.6666666666666666, \"#ed7953\"], [0.7777777777777778, \"#fb9f3a\"], [0.8888888888888888, \"#fdca26\"], [1.0, \"#f0f921\"]], \"type\": \"heatmapgl\"}], \"histogram\": [{\"marker\": {\"colorbar\": {\"outlinewidth\": 0, \"ticks\": \"\"}}, \"type\": \"histogram\"}], \"histogram2d\": [{\"colorbar\": {\"outlinewidth\": 0, \"ticks\": \"\"}, \"colorscale\": [[0.0, \"#0d0887\"], [0.1111111111111111, \"#46039f\"], [0.2222222222222222, \"#7201a8\"], [0.3333333333333333, \"#9c179e\"], [0.4444444444444444, \"#bd3786\"], [0.5555555555555556, \"#d8576b\"], [0.6666666666666666, \"#ed7953\"], [0.7777777777777778, \"#fb9f3a\"], [0.8888888888888888, \"#fdca26\"], [1.0, \"#f0f921\"]], \"type\": \"histogram2d\"}], \"histogram2dcontour\": [{\"colorbar\": {\"outlinewidth\": 0, \"ticks\": \"\"}, \"colorscale\": [[0.0, \"#0d0887\"], [0.1111111111111111, \"#46039f\"], [0.2222222222222222, \"#7201a8\"], [0.3333333333333333, \"#9c179e\"], [0.4444444444444444, \"#bd3786\"], [0.5555555555555556, \"#d8576b\"], [0.6666666666666666, \"#ed7953\"], [0.7777777777777778, \"#fb9f3a\"], [0.8888888888888888, \"#fdca26\"], [1.0, \"#f0f921\"]], \"type\": \"histogram2dcontour\"}], \"mesh3d\": [{\"colorbar\": {\"outlinewidth\": 0, \"ticks\": \"\"}, \"type\": \"mesh3d\"}], \"parcoords\": [{\"line\": {\"colorbar\": {\"outlinewidth\": 0, \"ticks\": \"\"}}, \"type\": \"parcoords\"}], \"pie\": [{\"automargin\": true, \"type\": \"pie\"}], \"scatter\": [{\"marker\": {\"colorbar\": {\"outlinewidth\": 0, \"ticks\": \"\"}}, \"type\": \"scatter\"}], \"scatter3d\": [{\"line\": {\"colorbar\": {\"outlinewidth\": 0, \"ticks\": \"\"}}, \"marker\": {\"colorbar\": {\"outlinewidth\": 0, \"ticks\": \"\"}}, \"type\": \"scatter3d\"}], \"scattercarpet\": [{\"marker\": {\"colorbar\": {\"outlinewidth\": 0, \"ticks\": \"\"}}, \"type\": \"scattercarpet\"}], \"scattergeo\": [{\"marker\": {\"colorbar\": {\"outlinewidth\": 0, \"ticks\": \"\"}}, \"type\": \"scattergeo\"}], \"scattergl\": [{\"marker\": {\"colorbar\": {\"outlinewidth\": 0, \"ticks\": \"\"}}, \"type\": \"scattergl\"}], \"scattermapbox\": [{\"marker\": {\"colorbar\": {\"outlinewidth\": 0, \"ticks\": \"\"}}, \"type\": \"scattermapbox\"}], \"scatterpolar\": [{\"marker\": {\"colorbar\": {\"outlinewidth\": 0, \"ticks\": \"\"}}, \"type\": \"scatterpolar\"}], \"scatterpolargl\": [{\"marker\": {\"colorbar\": {\"outlinewidth\": 0, \"ticks\": \"\"}}, \"type\": \"scatterpolargl\"}], \"scatterternary\": [{\"marker\": {\"colorbar\": {\"outlinewidth\": 0, \"ticks\": \"\"}}, \"type\": \"scatterternary\"}], \"surface\": [{\"colorbar\": {\"outlinewidth\": 0, \"ticks\": \"\"}, \"colorscale\": [[0.0, \"#0d0887\"], [0.1111111111111111, \"#46039f\"], [0.2222222222222222, \"#7201a8\"], [0.3333333333333333, \"#9c179e\"], [0.4444444444444444, \"#bd3786\"], [0.5555555555555556, \"#d8576b\"], [0.6666666666666666, \"#ed7953\"], [0.7777777777777778, \"#fb9f3a\"], [0.8888888888888888, \"#fdca26\"], [1.0, \"#f0f921\"]], \"type\": \"surface\"}], \"table\": [{\"cells\": {\"fill\": {\"color\": \"#EBF0F8\"}, \"line\": {\"color\": \"white\"}}, \"header\": {\"fill\": {\"color\": \"#C8D4E3\"}, \"line\": {\"color\": \"white\"}}, \"type\": \"table\"}]}, \"layout\": {\"annotationdefaults\": {\"arrowcolor\": \"#2a3f5f\", \"arrowhead\": 0, \"arrowwidth\": 1}, \"autotypenumbers\": \"strict\", \"coloraxis\": {\"colorbar\": {\"outlinewidth\": 0, \"ticks\": \"\"}}, \"colorscale\": {\"diverging\": [[0, \"#8e0152\"], [0.1, \"#c51b7d\"], [0.2, \"#de77ae\"], [0.3, \"#f1b6da\"], [0.4, \"#fde0ef\"], [0.5, \"#f7f7f7\"], [0.6, \"#e6f5d0\"], [0.7, \"#b8e186\"], [0.8, \"#7fbc41\"], [0.9, \"#4d9221\"], [1, \"#276419\"]], \"sequential\": [[0.0, \"#0d0887\"], [0.1111111111111111, \"#46039f\"], [0.2222222222222222, \"#7201a8\"], [0.3333333333333333, \"#9c179e\"], [0.4444444444444444, \"#bd3786\"], [0.5555555555555556, \"#d8576b\"], [0.6666666666666666, \"#ed7953\"], [0.7777777777777778, \"#fb9f3a\"], [0.8888888888888888, \"#fdca26\"], [1.0, \"#f0f921\"]], \"sequentialminus\": [[0.0, \"#0d0887\"], [0.1111111111111111, \"#46039f\"], [0.2222222222222222, \"#7201a8\"], [0.3333333333333333, \"#9c179e\"], [0.4444444444444444, \"#bd3786\"], [0.5555555555555556, \"#d8576b\"], [0.6666666666666666, \"#ed7953\"], [0.7777777777777778, \"#fb9f3a\"], [0.8888888888888888, \"#fdca26\"], [1.0, \"#f0f921\"]]}, \"colorway\": [\"#636efa\", \"#EF553B\", \"#00cc96\", \"#ab63fa\", \"#FFA15A\", \"#19d3f3\", \"#FF6692\", \"#B6E880\", \"#FF97FF\", \"#FECB52\"], \"font\": {\"color\": \"#2a3f5f\"}, \"geo\": {\"bgcolor\": \"white\", \"lakecolor\": \"white\", \"landcolor\": \"#E5ECF6\", \"showlakes\": true, \"showland\": true, \"subunitcolor\": \"white\"}, \"hoverlabel\": {\"align\": \"left\"}, \"hovermode\": \"closest\", \"mapbox\": {\"style\": \"light\"}, \"paper_bgcolor\": \"white\", \"plot_bgcolor\": \"#E5ECF6\", \"polar\": {\"angularaxis\": {\"gridcolor\": \"white\", \"linecolor\": \"white\", \"ticks\": \"\"}, \"bgcolor\": \"#E5ECF6\", \"radialaxis\": {\"gridcolor\": \"white\", \"linecolor\": \"white\", \"ticks\": \"\"}}, \"scene\": {\"xaxis\": {\"backgroundcolor\": \"#E5ECF6\", \"gridcolor\": \"white\", \"gridwidth\": 2, \"linecolor\": \"white\", \"showbackground\": true, \"ticks\": \"\", \"zerolinecolor\": \"white\"}, \"yaxis\": {\"backgroundcolor\": \"#E5ECF6\", \"gridcolor\": \"white\", \"gridwidth\": 2, \"linecolor\": \"white\", \"showbackground\": true, \"ticks\": \"\", \"zerolinecolor\": \"white\"}, \"zaxis\": {\"backgroundcolor\": \"#E5ECF6\", \"gridcolor\": \"white\", \"gridwidth\": 2, \"linecolor\": \"white\", \"showbackground\": true, \"ticks\": \"\", \"zerolinecolor\": \"white\"}}, \"shapedefaults\": {\"line\": {\"color\": \"#2a3f5f\"}}, \"ternary\": {\"aaxis\": {\"gridcolor\": \"white\", \"linecolor\": \"white\", \"ticks\": \"\"}, \"baxis\": {\"gridcolor\": \"white\", \"linecolor\": \"white\", \"ticks\": \"\"}, \"bgcolor\": \"#E5ECF6\", \"caxis\": {\"gridcolor\": \"white\", \"linecolor\": \"white\", \"ticks\": \"\"}}, \"title\": {\"x\": 0.05}, \"xaxis\": {\"automargin\": true, \"gridcolor\": \"white\", \"linecolor\": \"white\", \"ticks\": \"\", \"title\": {\"standoff\": 15}, \"zerolinecolor\": \"white\", \"zerolinewidth\": 2}, \"yaxis\": {\"automargin\": true, \"gridcolor\": \"white\", \"linecolor\": \"white\", \"ticks\": \"\", \"title\": {\"standoff\": 15}, \"zerolinecolor\": \"white\", \"zerolinewidth\": 2}}}, \"title\": {\"text\": \"2D Data Representation Space\"}, \"xaxis\": {\"range\": [0, 12], \"title\": {\"text\": \"x2\"}}, \"yaxis\": {\"range\": [0, 12], \"title\": {\"text\": \"x1\"}}},                        {\"responsive\": true}                    ).then(function(){\n",
       "                            \n",
       "var gd = document.getElementById('eab7ecd9-7dd9-4bdc-a4ff-392b2a1d5031');\n",
       "var x = new MutationObserver(function (mutations, observer) {{\n",
       "        var display = window.getComputedStyle(gd).display;\n",
       "        if (!display || display === 'none') {{\n",
       "            console.log([gd, 'removed!']);\n",
       "            Plotly.purge(gd);\n",
       "            observer.disconnect();\n",
       "        }}\n",
       "}});\n",
       "\n",
       "// Listen for the removal of the full notebook cells\n",
       "var notebookContainer = gd.closest('#notebook-container');\n",
       "if (notebookContainer) {{\n",
       "    x.observe(notebookContainer, {childList: true});\n",
       "}}\n",
       "\n",
       "// Listen for the clearing of the current output cell\n",
       "var outputEl = gd.closest('.output');\n",
       "if (outputEl) {{\n",
       "    x.observe(outputEl, {childList: true});\n",
       "}}\n",
       "\n",
       "                        })                };                });            </script>        </div>"
      ]
     },
     "metadata": {},
     "output_type": "display_data"
    }
   ],
   "source": [
    "from plotly.offline import init_notebook_mode, iplot\n",
    "import plotly.graph_objs as go\n",
    "import numpy as np\n",
    "init_notebook_mode(connected=True)\n",
    "\n",
    "# generate random data\n",
    "N = 50\n",
    "random_x = np.linspace(2, 10, N)\n",
    "random_y1 = np.linspace(2, 10, N)\n",
    "random_y2 = np.linspace(2, 10, N)\n",
    "\n",
    "trace1 = go.Scatter(x=random_x, y=random_y1, mode='markers', name='Actual Data')\n",
    "trace2 = go.Scatter(x=random_x, y=random_y2, mode='lines', name='Model')\n",
    "layout = go.Layout(\n",
    "    title='2D Data Representation Space',\n",
    "    xaxis=dict(title='x2', range=(0, 12)), yaxis=dict(title='x1', range=(0, 12)),\n",
    "    height=400, annotations=[\n",
    "        dict(x=5, y=5, xref='x', yref='y',\n",
    "             text='This 1D line is the Data Manifold (where data resides)',\n",
    "             showarrow=True, align='center', arrowhead=2, arrowsize=1, arrowwidth=2,\n",
    "             arrowcolor='#636363', ax=-120, ay=-30, bordercolor='#c7c7c7',\n",
    "             borderwidth=2, borderpad=4, bgcolor='orange', opacity=0.8)\n",
    "    ]\n",
    ")\n",
    "figure = go.Figure(data=[trace1], layout=layout)\n",
    "iplot(figure)"
   ]
  },
  {
   "cell_type": "markdown",
   "metadata": {},
   "source": [
    "이 데이터를 재현하기 위해 우리는 일반적으로 X, Y 2원을 사용합니다. 그러나 다음의 경우들을 정의할 수 있다면 이 공간의 차원을 1D로 축소할 수 있습니다:  \n",
    "* 선의 기준점 A\n",
    "* 수평선으로부터의 각도 L  \n",
    "\n",
    "이 경우 직선 위 다른 점 B는 A와 각도 L로부터의 거리 d의 관점으로 나타낼 수 있습니다."
   ]
  },
  {
   "cell_type": "code",
   "execution_count": 4,
   "metadata": {
    "execution": {
     "iopub.execute_input": "2021-02-16T08:36:38.845883Z",
     "iopub.status.busy": "2021-02-16T08:36:38.845883Z",
     "iopub.status.idle": "2021-02-16T08:36:38.949605Z",
     "shell.execute_reply": "2021-02-16T08:36:38.948607Z",
     "shell.execute_reply.started": "2021-02-16T08:36:38.845883Z"
    }
   },
   "outputs": [
    {
     "data": {
      "application/vnd.plotly.v1+json": {
       "config": {
        "linkText": "Export to plot.ly",
        "plotlyServerURL": "https://plot.ly",
        "showLink": false
       },
       "data": [
        {
         "mode": "markers",
         "name": "Actual Data",
         "type": "scatter",
         "x": [
          2,
          2.163265306122449,
          2.326530612244898,
          2.489795918367347,
          2.6530612244897958,
          2.816326530612245,
          2.979591836734694,
          3.142857142857143,
          3.3061224489795915,
          3.4693877551020407,
          3.63265306122449,
          3.7959183673469385,
          3.9591836734693877,
          4.122448979591836,
          4.285714285714286,
          4.448979591836734,
          4.612244897959183,
          4.775510204081632,
          4.938775510204081,
          5.1020408163265305,
          5.26530612244898,
          5.428571428571429,
          5.591836734693877,
          5.755102040816326,
          5.918367346938775,
          6.081632653061225,
          6.244897959183673,
          6.408163265306122,
          6.571428571428571,
          6.73469387755102,
          6.897959183673469,
          7.061224489795918,
          7.224489795918367,
          7.387755102040816,
          7.551020408163265,
          7.7142857142857135,
          7.877551020408163,
          8.040816326530612,
          8.204081632653061,
          8.367346938775508,
          8.53061224489796,
          8.693877551020407,
          8.857142857142858,
          9.020408163265305,
          9.183673469387754,
          9.346938775510203,
          9.510204081632653,
          9.673469387755102,
          9.83673469387755,
          10
         ],
         "y": [
          2,
          2.163265306122449,
          2.326530612244898,
          2.489795918367347,
          2.6530612244897958,
          2.816326530612245,
          2.979591836734694,
          3.142857142857143,
          3.3061224489795915,
          3.4693877551020407,
          3.63265306122449,
          3.7959183673469385,
          3.9591836734693877,
          4.122448979591836,
          4.285714285714286,
          4.448979591836734,
          4.612244897959183,
          4.775510204081632,
          4.938775510204081,
          5.1020408163265305,
          5.26530612244898,
          5.428571428571429,
          5.591836734693877,
          5.755102040816326,
          5.918367346938775,
          6.081632653061225,
          6.244897959183673,
          6.408163265306122,
          6.571428571428571,
          6.73469387755102,
          6.897959183673469,
          7.061224489795918,
          7.224489795918367,
          7.387755102040816,
          7.551020408163265,
          7.7142857142857135,
          7.877551020408163,
          8.040816326530612,
          8.204081632653061,
          8.367346938775508,
          8.53061224489796,
          8.693877551020407,
          8.857142857142858,
          9.020408163265305,
          9.183673469387754,
          9.346938775510203,
          9.510204081632653,
          9.673469387755102,
          9.83673469387755,
          10
         ]
        }
       ],
       "layout": {
        "annotations": [
         {
          "align": "center",
          "arrowcolor": "#636363",
          "arrowhead": 2,
          "arrowsize": 1,
          "arrowwidth": 2,
          "ax": -120,
          "ay": -30,
          "bgcolor": "orange",
          "bordercolor": "#c7c7c7",
          "borderpad": 4,
          "borderwidth": 2,
          "opacity": 0.8,
          "showarrow": true,
          "text": "This 1D line is the Data Manifold (where data resides)",
          "x": 5,
          "xref": "x",
          "y": 5,
          "yref": "y"
         }
        ],
        "autosize": true,
        "template": {
         "data": {
          "bar": [
           {
            "error_x": {
             "color": "#2a3f5f"
            },
            "error_y": {
             "color": "#2a3f5f"
            },
            "marker": {
             "line": {
              "color": "#E5ECF6",
              "width": 0.5
             }
            },
            "type": "bar"
           }
          ],
          "barpolar": [
           {
            "marker": {
             "line": {
              "color": "#E5ECF6",
              "width": 0.5
             }
            },
            "type": "barpolar"
           }
          ],
          "carpet": [
           {
            "aaxis": {
             "endlinecolor": "#2a3f5f",
             "gridcolor": "white",
             "linecolor": "white",
             "minorgridcolor": "white",
             "startlinecolor": "#2a3f5f"
            },
            "baxis": {
             "endlinecolor": "#2a3f5f",
             "gridcolor": "white",
             "linecolor": "white",
             "minorgridcolor": "white",
             "startlinecolor": "#2a3f5f"
            },
            "type": "carpet"
           }
          ],
          "choropleth": [
           {
            "colorbar": {
             "outlinewidth": 0,
             "ticks": ""
            },
            "type": "choropleth"
           }
          ],
          "contour": [
           {
            "colorbar": {
             "outlinewidth": 0,
             "ticks": ""
            },
            "colorscale": [
             [
              0,
              "#0d0887"
             ],
             [
              0.1111111111111111,
              "#46039f"
             ],
             [
              0.2222222222222222,
              "#7201a8"
             ],
             [
              0.3333333333333333,
              "#9c179e"
             ],
             [
              0.4444444444444444,
              "#bd3786"
             ],
             [
              0.5555555555555556,
              "#d8576b"
             ],
             [
              0.6666666666666666,
              "#ed7953"
             ],
             [
              0.7777777777777778,
              "#fb9f3a"
             ],
             [
              0.8888888888888888,
              "#fdca26"
             ],
             [
              1,
              "#f0f921"
             ]
            ],
            "type": "contour"
           }
          ],
          "contourcarpet": [
           {
            "colorbar": {
             "outlinewidth": 0,
             "ticks": ""
            },
            "type": "contourcarpet"
           }
          ],
          "heatmap": [
           {
            "colorbar": {
             "outlinewidth": 0,
             "ticks": ""
            },
            "colorscale": [
             [
              0,
              "#0d0887"
             ],
             [
              0.1111111111111111,
              "#46039f"
             ],
             [
              0.2222222222222222,
              "#7201a8"
             ],
             [
              0.3333333333333333,
              "#9c179e"
             ],
             [
              0.4444444444444444,
              "#bd3786"
             ],
             [
              0.5555555555555556,
              "#d8576b"
             ],
             [
              0.6666666666666666,
              "#ed7953"
             ],
             [
              0.7777777777777778,
              "#fb9f3a"
             ],
             [
              0.8888888888888888,
              "#fdca26"
             ],
             [
              1,
              "#f0f921"
             ]
            ],
            "type": "heatmap"
           }
          ],
          "heatmapgl": [
           {
            "colorbar": {
             "outlinewidth": 0,
             "ticks": ""
            },
            "colorscale": [
             [
              0,
              "#0d0887"
             ],
             [
              0.1111111111111111,
              "#46039f"
             ],
             [
              0.2222222222222222,
              "#7201a8"
             ],
             [
              0.3333333333333333,
              "#9c179e"
             ],
             [
              0.4444444444444444,
              "#bd3786"
             ],
             [
              0.5555555555555556,
              "#d8576b"
             ],
             [
              0.6666666666666666,
              "#ed7953"
             ],
             [
              0.7777777777777778,
              "#fb9f3a"
             ],
             [
              0.8888888888888888,
              "#fdca26"
             ],
             [
              1,
              "#f0f921"
             ]
            ],
            "type": "heatmapgl"
           }
          ],
          "histogram": [
           {
            "marker": {
             "colorbar": {
              "outlinewidth": 0,
              "ticks": ""
             }
            },
            "type": "histogram"
           }
          ],
          "histogram2d": [
           {
            "colorbar": {
             "outlinewidth": 0,
             "ticks": ""
            },
            "colorscale": [
             [
              0,
              "#0d0887"
             ],
             [
              0.1111111111111111,
              "#46039f"
             ],
             [
              0.2222222222222222,
              "#7201a8"
             ],
             [
              0.3333333333333333,
              "#9c179e"
             ],
             [
              0.4444444444444444,
              "#bd3786"
             ],
             [
              0.5555555555555556,
              "#d8576b"
             ],
             [
              0.6666666666666666,
              "#ed7953"
             ],
             [
              0.7777777777777778,
              "#fb9f3a"
             ],
             [
              0.8888888888888888,
              "#fdca26"
             ],
             [
              1,
              "#f0f921"
             ]
            ],
            "type": "histogram2d"
           }
          ],
          "histogram2dcontour": [
           {
            "colorbar": {
             "outlinewidth": 0,
             "ticks": ""
            },
            "colorscale": [
             [
              0,
              "#0d0887"
             ],
             [
              0.1111111111111111,
              "#46039f"
             ],
             [
              0.2222222222222222,
              "#7201a8"
             ],
             [
              0.3333333333333333,
              "#9c179e"
             ],
             [
              0.4444444444444444,
              "#bd3786"
             ],
             [
              0.5555555555555556,
              "#d8576b"
             ],
             [
              0.6666666666666666,
              "#ed7953"
             ],
             [
              0.7777777777777778,
              "#fb9f3a"
             ],
             [
              0.8888888888888888,
              "#fdca26"
             ],
             [
              1,
              "#f0f921"
             ]
            ],
            "type": "histogram2dcontour"
           }
          ],
          "mesh3d": [
           {
            "colorbar": {
             "outlinewidth": 0,
             "ticks": ""
            },
            "type": "mesh3d"
           }
          ],
          "parcoords": [
           {
            "line": {
             "colorbar": {
              "outlinewidth": 0,
              "ticks": ""
             }
            },
            "type": "parcoords"
           }
          ],
          "pie": [
           {
            "automargin": true,
            "type": "pie"
           }
          ],
          "scatter": [
           {
            "marker": {
             "colorbar": {
              "outlinewidth": 0,
              "ticks": ""
             }
            },
            "type": "scatter"
           }
          ],
          "scatter3d": [
           {
            "line": {
             "colorbar": {
              "outlinewidth": 0,
              "ticks": ""
             }
            },
            "marker": {
             "colorbar": {
              "outlinewidth": 0,
              "ticks": ""
             }
            },
            "type": "scatter3d"
           }
          ],
          "scattercarpet": [
           {
            "marker": {
             "colorbar": {
              "outlinewidth": 0,
              "ticks": ""
             }
            },
            "type": "scattercarpet"
           }
          ],
          "scattergeo": [
           {
            "marker": {
             "colorbar": {
              "outlinewidth": 0,
              "ticks": ""
             }
            },
            "type": "scattergeo"
           }
          ],
          "scattergl": [
           {
            "marker": {
             "colorbar": {
              "outlinewidth": 0,
              "ticks": ""
             }
            },
            "type": "scattergl"
           }
          ],
          "scattermapbox": [
           {
            "marker": {
             "colorbar": {
              "outlinewidth": 0,
              "ticks": ""
             }
            },
            "type": "scattermapbox"
           }
          ],
          "scatterpolar": [
           {
            "marker": {
             "colorbar": {
              "outlinewidth": 0,
              "ticks": ""
             }
            },
            "type": "scatterpolar"
           }
          ],
          "scatterpolargl": [
           {
            "marker": {
             "colorbar": {
              "outlinewidth": 0,
              "ticks": ""
             }
            },
            "type": "scatterpolargl"
           }
          ],
          "scatterternary": [
           {
            "marker": {
             "colorbar": {
              "outlinewidth": 0,
              "ticks": ""
             }
            },
            "type": "scatterternary"
           }
          ],
          "surface": [
           {
            "colorbar": {
             "outlinewidth": 0,
             "ticks": ""
            },
            "colorscale": [
             [
              0,
              "#0d0887"
             ],
             [
              0.1111111111111111,
              "#46039f"
             ],
             [
              0.2222222222222222,
              "#7201a8"
             ],
             [
              0.3333333333333333,
              "#9c179e"
             ],
             [
              0.4444444444444444,
              "#bd3786"
             ],
             [
              0.5555555555555556,
              "#d8576b"
             ],
             [
              0.6666666666666666,
              "#ed7953"
             ],
             [
              0.7777777777777778,
              "#fb9f3a"
             ],
             [
              0.8888888888888888,
              "#fdca26"
             ],
             [
              1,
              "#f0f921"
             ]
            ],
            "type": "surface"
           }
          ],
          "table": [
           {
            "cells": {
             "fill": {
              "color": "#EBF0F8"
             },
             "line": {
              "color": "white"
             }
            },
            "header": {
             "fill": {
              "color": "#C8D4E3"
             },
             "line": {
              "color": "white"
             }
            },
            "type": "table"
           }
          ]
         },
         "layout": {
          "annotationdefaults": {
           "arrowcolor": "#2a3f5f",
           "arrowhead": 0,
           "arrowwidth": 1
          },
          "autotypenumbers": "strict",
          "coloraxis": {
           "colorbar": {
            "outlinewidth": 0,
            "ticks": ""
           }
          },
          "colorscale": {
           "diverging": [
            [
             0,
             "#8e0152"
            ],
            [
             0.1,
             "#c51b7d"
            ],
            [
             0.2,
             "#de77ae"
            ],
            [
             0.3,
             "#f1b6da"
            ],
            [
             0.4,
             "#fde0ef"
            ],
            [
             0.5,
             "#f7f7f7"
            ],
            [
             0.6,
             "#e6f5d0"
            ],
            [
             0.7,
             "#b8e186"
            ],
            [
             0.8,
             "#7fbc41"
            ],
            [
             0.9,
             "#4d9221"
            ],
            [
             1,
             "#276419"
            ]
           ],
           "sequential": [
            [
             0,
             "#0d0887"
            ],
            [
             0.1111111111111111,
             "#46039f"
            ],
            [
             0.2222222222222222,
             "#7201a8"
            ],
            [
             0.3333333333333333,
             "#9c179e"
            ],
            [
             0.4444444444444444,
             "#bd3786"
            ],
            [
             0.5555555555555556,
             "#d8576b"
            ],
            [
             0.6666666666666666,
             "#ed7953"
            ],
            [
             0.7777777777777778,
             "#fb9f3a"
            ],
            [
             0.8888888888888888,
             "#fdca26"
            ],
            [
             1,
             "#f0f921"
            ]
           ],
           "sequentialminus": [
            [
             0,
             "#0d0887"
            ],
            [
             0.1111111111111111,
             "#46039f"
            ],
            [
             0.2222222222222222,
             "#7201a8"
            ],
            [
             0.3333333333333333,
             "#9c179e"
            ],
            [
             0.4444444444444444,
             "#bd3786"
            ],
            [
             0.5555555555555556,
             "#d8576b"
            ],
            [
             0.6666666666666666,
             "#ed7953"
            ],
            [
             0.7777777777777778,
             "#fb9f3a"
            ],
            [
             0.8888888888888888,
             "#fdca26"
            ],
            [
             1,
             "#f0f921"
            ]
           ]
          },
          "colorway": [
           "#636efa",
           "#EF553B",
           "#00cc96",
           "#ab63fa",
           "#FFA15A",
           "#19d3f3",
           "#FF6692",
           "#B6E880",
           "#FF97FF",
           "#FECB52"
          ],
          "font": {
           "color": "#2a3f5f"
          },
          "geo": {
           "bgcolor": "white",
           "lakecolor": "white",
           "landcolor": "#E5ECF6",
           "showlakes": true,
           "showland": true,
           "subunitcolor": "white"
          },
          "hoverlabel": {
           "align": "left"
          },
          "hovermode": "closest",
          "mapbox": {
           "style": "light"
          },
          "paper_bgcolor": "white",
          "plot_bgcolor": "#E5ECF6",
          "polar": {
           "angularaxis": {
            "gridcolor": "white",
            "linecolor": "white",
            "ticks": ""
           },
           "bgcolor": "#E5ECF6",
           "radialaxis": {
            "gridcolor": "white",
            "linecolor": "white",
            "ticks": ""
           }
          },
          "scene": {
           "xaxis": {
            "backgroundcolor": "#E5ECF6",
            "gridcolor": "white",
            "gridwidth": 2,
            "linecolor": "white",
            "showbackground": true,
            "ticks": "",
            "zerolinecolor": "white"
           },
           "yaxis": {
            "backgroundcolor": "#E5ECF6",
            "gridcolor": "white",
            "gridwidth": 2,
            "linecolor": "white",
            "showbackground": true,
            "ticks": "",
            "zerolinecolor": "white"
           },
           "zaxis": {
            "backgroundcolor": "#E5ECF6",
            "gridcolor": "white",
            "gridwidth": 2,
            "linecolor": "white",
            "showbackground": true,
            "ticks": "",
            "zerolinecolor": "white"
           }
          },
          "shapedefaults": {
           "line": {
            "color": "#2a3f5f"
           }
          },
          "ternary": {
           "aaxis": {
            "gridcolor": "white",
            "linecolor": "white",
            "ticks": ""
           },
           "baxis": {
            "gridcolor": "white",
            "linecolor": "white",
            "ticks": ""
           },
           "bgcolor": "#E5ECF6",
           "caxis": {
            "gridcolor": "white",
            "linecolor": "white",
            "ticks": ""
           }
          },
          "title": {
           "x": 0.05
          },
          "xaxis": {
           "automargin": true,
           "gridcolor": "white",
           "linecolor": "white",
           "ticks": "",
           "title": {
            "standoff": 15
           },
           "zerolinecolor": "white",
           "zerolinewidth": 2
          },
          "yaxis": {
           "automargin": true,
           "gridcolor": "white",
           "linecolor": "white",
           "ticks": "",
           "title": {
            "standoff": 15
           },
           "zerolinecolor": "white",
           "zerolinewidth": 2
          }
         }
        },
        "title": {
         "text": "2D Data Representation Space"
        },
        "xaxis": {
         "range": [
          0,
          12
         ],
         "title": {
          "text": "x2"
         },
         "type": "linear"
        },
        "yaxis": {
         "range": [
          0,
          12
         ],
         "title": {
          "text": "x1"
         },
         "type": "linear"
        }
       }
      },
      "image/png": "[encoded data removed]",
      "text/html": [
       "<div>                            <div id=\"697a65c3-9798-4727-8f8a-c422adeecb46\" class=\"plotly-graph-div\" style=\"height:400px; width:100%;\"></div>            <script type=\"text/javascript\">                require([\"plotly\"], function(Plotly) {                    window.PLOTLYENV=window.PLOTLYENV || {};                                    if (document.getElementById(\"697a65c3-9798-4727-8f8a-c422adeecb46\")) {                    Plotly.newPlot(                        \"697a65c3-9798-4727-8f8a-c422adeecb46\",                        [{\"mode\": \"markers\", \"name\": \"Actual Data\", \"type\": \"scatter\", \"x\": [2.0, 2.163265306122449, 2.326530612244898, 2.489795918367347, 2.6530612244897958, 2.816326530612245, 2.979591836734694, 3.142857142857143, 3.3061224489795915, 3.4693877551020407, 3.63265306122449, 3.7959183673469385, 3.9591836734693877, 4.122448979591836, 4.285714285714286, 4.448979591836734, 4.612244897959183, 4.775510204081632, 4.938775510204081, 5.1020408163265305, 5.26530612244898, 5.428571428571429, 5.591836734693877, 5.755102040816326, 5.918367346938775, 6.081632653061225, 6.244897959183673, 6.408163265306122, 6.571428571428571, 6.73469387755102, 6.897959183673469, 7.061224489795918, 7.224489795918367, 7.387755102040816, 7.551020408163265, 7.7142857142857135, 7.877551020408163, 8.040816326530612, 8.204081632653061, 8.367346938775508, 8.53061224489796, 8.693877551020407, 8.857142857142858, 9.020408163265305, 9.183673469387754, 9.346938775510203, 9.510204081632653, 9.673469387755102, 9.83673469387755, 10.0], \"y\": [2.0, 2.163265306122449, 2.326530612244898, 2.489795918367347, 2.6530612244897958, 2.816326530612245, 2.979591836734694, 3.142857142857143, 3.3061224489795915, 3.4693877551020407, 3.63265306122449, 3.7959183673469385, 3.9591836734693877, 4.122448979591836, 4.285714285714286, 4.448979591836734, 4.612244897959183, 4.775510204081632, 4.938775510204081, 5.1020408163265305, 5.26530612244898, 5.428571428571429, 5.591836734693877, 5.755102040816326, 5.918367346938775, 6.081632653061225, 6.244897959183673, 6.408163265306122, 6.571428571428571, 6.73469387755102, 6.897959183673469, 7.061224489795918, 7.224489795918367, 7.387755102040816, 7.551020408163265, 7.7142857142857135, 7.877551020408163, 8.040816326530612, 8.204081632653061, 8.367346938775508, 8.53061224489796, 8.693877551020407, 8.857142857142858, 9.020408163265305, 9.183673469387754, 9.346938775510203, 9.510204081632653, 9.673469387755102, 9.83673469387755, 10.0]}],                        {\"annotations\": [{\"align\": \"center\", \"arrowcolor\": \"#636363\", \"arrowhead\": 2, \"arrowsize\": 1, \"arrowwidth\": 2, \"ax\": -120, \"ay\": -30, \"bgcolor\": \"orange\", \"bordercolor\": \"#c7c7c7\", \"borderpad\": 4, \"borderwidth\": 2, \"opacity\": 0.8, \"showarrow\": true, \"text\": \"This 1D line is the Data Manifold (where data resides)\", \"x\": 5, \"xref\": \"x\", \"y\": 5, \"yref\": \"y\"}], \"height\": 400, \"template\": {\"data\": {\"bar\": [{\"error_x\": {\"color\": \"#2a3f5f\"}, \"error_y\": {\"color\": \"#2a3f5f\"}, \"marker\": {\"line\": {\"color\": \"#E5ECF6\", \"width\": 0.5}}, \"type\": \"bar\"}], \"barpolar\": [{\"marker\": {\"line\": {\"color\": \"#E5ECF6\", \"width\": 0.5}}, \"type\": \"barpolar\"}], \"carpet\": [{\"aaxis\": {\"endlinecolor\": \"#2a3f5f\", \"gridcolor\": \"white\", \"linecolor\": \"white\", \"minorgridcolor\": \"white\", \"startlinecolor\": \"#2a3f5f\"}, \"baxis\": {\"endlinecolor\": \"#2a3f5f\", \"gridcolor\": \"white\", \"linecolor\": \"white\", \"minorgridcolor\": \"white\", \"startlinecolor\": \"#2a3f5f\"}, \"type\": \"carpet\"}], \"choropleth\": [{\"colorbar\": {\"outlinewidth\": 0, \"ticks\": \"\"}, \"type\": \"choropleth\"}], \"contour\": [{\"colorbar\": {\"outlinewidth\": 0, \"ticks\": \"\"}, \"colorscale\": [[0.0, \"#0d0887\"], [0.1111111111111111, \"#46039f\"], [0.2222222222222222, \"#7201a8\"], [0.3333333333333333, \"#9c179e\"], [0.4444444444444444, \"#bd3786\"], [0.5555555555555556, \"#d8576b\"], [0.6666666666666666, \"#ed7953\"], [0.7777777777777778, \"#fb9f3a\"], [0.8888888888888888, \"#fdca26\"], [1.0, \"#f0f921\"]], \"type\": \"contour\"}], \"contourcarpet\": [{\"colorbar\": {\"outlinewidth\": 0, \"ticks\": \"\"}, \"type\": \"contourcarpet\"}], \"heatmap\": [{\"colorbar\": {\"outlinewidth\": 0, \"ticks\": \"\"}, \"colorscale\": [[0.0, \"#0d0887\"], [0.1111111111111111, \"#46039f\"], [0.2222222222222222, \"#7201a8\"], [0.3333333333333333, \"#9c179e\"], [0.4444444444444444, \"#bd3786\"], [0.5555555555555556, \"#d8576b\"], [0.6666666666666666, \"#ed7953\"], [0.7777777777777778, \"#fb9f3a\"], [0.8888888888888888, \"#fdca26\"], [1.0, \"#f0f921\"]], \"type\": \"heatmap\"}], \"heatmapgl\": [{\"colorbar\": {\"outlinewidth\": 0, \"ticks\": \"\"}, \"colorscale\": [[0.0, \"#0d0887\"], [0.1111111111111111, \"#46039f\"], [0.2222222222222222, \"#7201a8\"], [0.3333333333333333, \"#9c179e\"], [0.4444444444444444, \"#bd3786\"], [0.5555555555555556, \"#d8576b\"], [0.6666666666666666, \"#ed7953\"], [0.7777777777777778, \"#fb9f3a\"], [0.8888888888888888, \"#fdca26\"], [1.0, \"#f0f921\"]], \"type\": \"heatmapgl\"}], \"histogram\": [{\"marker\": {\"colorbar\": {\"outlinewidth\": 0, \"ticks\": \"\"}}, \"type\": \"histogram\"}], \"histogram2d\": [{\"colorbar\": {\"outlinewidth\": 0, \"ticks\": \"\"}, \"colorscale\": [[0.0, \"#0d0887\"], [0.1111111111111111, \"#46039f\"], [0.2222222222222222, \"#7201a8\"], [0.3333333333333333, \"#9c179e\"], [0.4444444444444444, \"#bd3786\"], [0.5555555555555556, \"#d8576b\"], [0.6666666666666666, \"#ed7953\"], [0.7777777777777778, \"#fb9f3a\"], [0.8888888888888888, \"#fdca26\"], [1.0, \"#f0f921\"]], \"type\": \"histogram2d\"}], \"histogram2dcontour\": [{\"colorbar\": {\"outlinewidth\": 0, \"ticks\": \"\"}, \"colorscale\": [[0.0, \"#0d0887\"], [0.1111111111111111, \"#46039f\"], [0.2222222222222222, \"#7201a8\"], [0.3333333333333333, \"#9c179e\"], [0.4444444444444444, \"#bd3786\"], [0.5555555555555556, \"#d8576b\"], [0.6666666666666666, \"#ed7953\"], [0.7777777777777778, \"#fb9f3a\"], [0.8888888888888888, \"#fdca26\"], [1.0, \"#f0f921\"]], \"type\": \"histogram2dcontour\"}], \"mesh3d\": [{\"colorbar\": {\"outlinewidth\": 0, \"ticks\": \"\"}, \"type\": \"mesh3d\"}], \"parcoords\": [{\"line\": {\"colorbar\": {\"outlinewidth\": 0, \"ticks\": \"\"}}, \"type\": \"parcoords\"}], \"pie\": [{\"automargin\": true, \"type\": \"pie\"}], \"scatter\": [{\"marker\": {\"colorbar\": {\"outlinewidth\": 0, \"ticks\": \"\"}}, \"type\": \"scatter\"}], \"scatter3d\": [{\"line\": {\"colorbar\": {\"outlinewidth\": 0, \"ticks\": \"\"}}, \"marker\": {\"colorbar\": {\"outlinewidth\": 0, \"ticks\": \"\"}}, \"type\": \"scatter3d\"}], \"scattercarpet\": [{\"marker\": {\"colorbar\": {\"outlinewidth\": 0, \"ticks\": \"\"}}, \"type\": \"scattercarpet\"}], \"scattergeo\": [{\"marker\": {\"colorbar\": {\"outlinewidth\": 0, \"ticks\": \"\"}}, \"type\": \"scattergeo\"}], \"scattergl\": [{\"marker\": {\"colorbar\": {\"outlinewidth\": 0, \"ticks\": \"\"}}, \"type\": \"scattergl\"}], \"scattermapbox\": [{\"marker\": {\"colorbar\": {\"outlinewidth\": 0, \"ticks\": \"\"}}, \"type\": \"scattermapbox\"}], \"scatterpolar\": [{\"marker\": {\"colorbar\": {\"outlinewidth\": 0, \"ticks\": \"\"}}, \"type\": \"scatterpolar\"}], \"scatterpolargl\": [{\"marker\": {\"colorbar\": {\"outlinewidth\": 0, \"ticks\": \"\"}}, \"type\": \"scatterpolargl\"}], \"scatterternary\": [{\"marker\": {\"colorbar\": {\"outlinewidth\": 0, \"ticks\": \"\"}}, \"type\": \"scatterternary\"}], \"surface\": [{\"colorbar\": {\"outlinewidth\": 0, \"ticks\": \"\"}, \"colorscale\": [[0.0, \"#0d0887\"], [0.1111111111111111, \"#46039f\"], [0.2222222222222222, \"#7201a8\"], [0.3333333333333333, \"#9c179e\"], [0.4444444444444444, \"#bd3786\"], [0.5555555555555556, \"#d8576b\"], [0.6666666666666666, \"#ed7953\"], [0.7777777777777778, \"#fb9f3a\"], [0.8888888888888888, \"#fdca26\"], [1.0, \"#f0f921\"]], \"type\": \"surface\"}], \"table\": [{\"cells\": {\"fill\": {\"color\": \"#EBF0F8\"}, \"line\": {\"color\": \"white\"}}, \"header\": {\"fill\": {\"color\": \"#C8D4E3\"}, \"line\": {\"color\": \"white\"}}, \"type\": \"table\"}]}, \"layout\": {\"annotationdefaults\": {\"arrowcolor\": \"#2a3f5f\", \"arrowhead\": 0, \"arrowwidth\": 1}, \"autotypenumbers\": \"strict\", \"coloraxis\": {\"colorbar\": {\"outlinewidth\": 0, \"ticks\": \"\"}}, \"colorscale\": {\"diverging\": [[0, \"#8e0152\"], [0.1, \"#c51b7d\"], [0.2, \"#de77ae\"], [0.3, \"#f1b6da\"], [0.4, \"#fde0ef\"], [0.5, \"#f7f7f7\"], [0.6, \"#e6f5d0\"], [0.7, \"#b8e186\"], [0.8, \"#7fbc41\"], [0.9, \"#4d9221\"], [1, \"#276419\"]], \"sequential\": [[0.0, \"#0d0887\"], [0.1111111111111111, \"#46039f\"], [0.2222222222222222, \"#7201a8\"], [0.3333333333333333, \"#9c179e\"], [0.4444444444444444, \"#bd3786\"], [0.5555555555555556, \"#d8576b\"], [0.6666666666666666, \"#ed7953\"], [0.7777777777777778, \"#fb9f3a\"], [0.8888888888888888, \"#fdca26\"], [1.0, \"#f0f921\"]], \"sequentialminus\": [[0.0, \"#0d0887\"], [0.1111111111111111, \"#46039f\"], [0.2222222222222222, \"#7201a8\"], [0.3333333333333333, \"#9c179e\"], [0.4444444444444444, \"#bd3786\"], [0.5555555555555556, \"#d8576b\"], [0.6666666666666666, \"#ed7953\"], [0.7777777777777778, \"#fb9f3a\"], [0.8888888888888888, \"#fdca26\"], [1.0, \"#f0f921\"]]}, \"colorway\": [\"#636efa\", \"#EF553B\", \"#00cc96\", \"#ab63fa\", \"#FFA15A\", \"#19d3f3\", \"#FF6692\", \"#B6E880\", \"#FF97FF\", \"#FECB52\"], \"font\": {\"color\": \"#2a3f5f\"}, \"geo\": {\"bgcolor\": \"white\", \"lakecolor\": \"white\", \"landcolor\": \"#E5ECF6\", \"showlakes\": true, \"showland\": true, \"subunitcolor\": \"white\"}, \"hoverlabel\": {\"align\": \"left\"}, \"hovermode\": \"closest\", \"mapbox\": {\"style\": \"light\"}, \"paper_bgcolor\": \"white\", \"plot_bgcolor\": \"#E5ECF6\", \"polar\": {\"angularaxis\": {\"gridcolor\": \"white\", \"linecolor\": \"white\", \"ticks\": \"\"}, \"bgcolor\": \"#E5ECF6\", \"radialaxis\": {\"gridcolor\": \"white\", \"linecolor\": \"white\", \"ticks\": \"\"}}, \"scene\": {\"xaxis\": {\"backgroundcolor\": \"#E5ECF6\", \"gridcolor\": \"white\", \"gridwidth\": 2, \"linecolor\": \"white\", \"showbackground\": true, \"ticks\": \"\", \"zerolinecolor\": \"white\"}, \"yaxis\": {\"backgroundcolor\": \"#E5ECF6\", \"gridcolor\": \"white\", \"gridwidth\": 2, \"linecolor\": \"white\", \"showbackground\": true, \"ticks\": \"\", \"zerolinecolor\": \"white\"}, \"zaxis\": {\"backgroundcolor\": \"#E5ECF6\", \"gridcolor\": \"white\", \"gridwidth\": 2, \"linecolor\": \"white\", \"showbackground\": true, \"ticks\": \"\", \"zerolinecolor\": \"white\"}}, \"shapedefaults\": {\"line\": {\"color\": \"#2a3f5f\"}}, \"ternary\": {\"aaxis\": {\"gridcolor\": \"white\", \"linecolor\": \"white\", \"ticks\": \"\"}, \"baxis\": {\"gridcolor\": \"white\", \"linecolor\": \"white\", \"ticks\": \"\"}, \"bgcolor\": \"#E5ECF6\", \"caxis\": {\"gridcolor\": \"white\", \"linecolor\": \"white\", \"ticks\": \"\"}}, \"title\": {\"x\": 0.05}, \"xaxis\": {\"automargin\": true, \"gridcolor\": \"white\", \"linecolor\": \"white\", \"ticks\": \"\", \"title\": {\"standoff\": 15}, \"zerolinecolor\": \"white\", \"zerolinewidth\": 2}, \"yaxis\": {\"automargin\": true, \"gridcolor\": \"white\", \"linecolor\": \"white\", \"ticks\": \"\", \"title\": {\"standoff\": 15}, \"zerolinecolor\": \"white\", \"zerolinewidth\": 2}}}, \"title\": {\"text\": \"2D Data Representation Space\"}, \"xaxis\": {\"range\": [0, 12], \"title\": {\"text\": \"x2\"}}, \"yaxis\": {\"range\": [0, 12], \"title\": {\"text\": \"x1\"}}},                        {\"responsive\": true}                    ).then(function(){\n",
       "                            \n",
       "var gd = document.getElementById('697a65c3-9798-4727-8f8a-c422adeecb46');\n",
       "var x = new MutationObserver(function (mutations, observer) {{\n",
       "        var display = window.getComputedStyle(gd).display;\n",
       "        if (!display || display === 'none') {{\n",
       "            console.log([gd, 'removed!']);\n",
       "            Plotly.purge(gd);\n",
       "            observer.disconnect();\n",
       "        }}\n",
       "}});\n",
       "\n",
       "// Listen for the removal of the full notebook cells\n",
       "var notebookContainer = gd.closest('#notebook-container');\n",
       "if (notebookContainer) {{\n",
       "    x.observe(notebookContainer, {childList: true});\n",
       "}}\n",
       "\n",
       "// Listen for the clearing of the current output cell\n",
       "var outputEl = gd.closest('.output');\n",
       "if (outputEl) {{\n",
       "    x.observe(outputEl, {childList: true});\n",
       "}}\n",
       "\n",
       "                        })                };                });            </script>        </div>"
      ]
     },
     "metadata": {},
     "output_type": "display_data"
    },
    {
     "data": {
      "application/vnd.plotly.v1+json": {
       "config": {
        "linkText": "Export to plot.ly",
        "plotlyServerURL": "https://plot.ly",
        "showLink": false
       },
       "data": [
        {
         "mode": "lines",
         "type": "scatter",
         "x": [
          2,
          2.163265306122449,
          2.326530612244898,
          2.489795918367347,
          2.6530612244897958,
          2.816326530612245,
          2.979591836734694,
          3.142857142857143,
          3.3061224489795915,
          3.4693877551020407,
          3.63265306122449,
          3.7959183673469385,
          3.9591836734693877,
          4.122448979591836,
          4.285714285714286,
          4.448979591836734,
          4.612244897959183,
          4.775510204081632,
          4.938775510204081,
          5.1020408163265305,
          5.26530612244898,
          5.428571428571429,
          5.591836734693877,
          5.755102040816326,
          5.918367346938775,
          6.081632653061225,
          6.244897959183673,
          6.408163265306122,
          6.571428571428571,
          6.73469387755102,
          6.897959183673469,
          7.061224489795918,
          7.224489795918367,
          7.387755102040816,
          7.551020408163265,
          7.7142857142857135,
          7.877551020408163,
          8.040816326530612,
          8.204081632653061,
          8.367346938775508,
          8.53061224489796,
          8.693877551020407,
          8.857142857142858,
          9.020408163265305,
          9.183673469387754,
          9.346938775510203,
          9.510204081632653,
          9.673469387755102,
          9.83673469387755,
          10
         ],
         "y": [
          2,
          2.163265306122449,
          2.326530612244898,
          2.489795918367347,
          2.6530612244897958,
          2.816326530612245,
          2.979591836734694,
          3.142857142857143,
          3.3061224489795915,
          3.4693877551020407,
          3.63265306122449,
          3.7959183673469385,
          3.9591836734693877,
          4.122448979591836,
          4.285714285714286,
          4.448979591836734,
          4.612244897959183,
          4.775510204081632,
          4.938775510204081,
          5.1020408163265305,
          5.26530612244898,
          5.428571428571429,
          5.591836734693877,
          5.755102040816326,
          5.918367346938775,
          6.081632653061225,
          6.244897959183673,
          6.408163265306122,
          6.571428571428571,
          6.73469387755102,
          6.897959183673469,
          7.061224489795918,
          7.224489795918367,
          7.387755102040816,
          7.551020408163265,
          7.7142857142857135,
          7.877551020408163,
          8.040816326530612,
          8.204081632653061,
          8.367346938775508,
          8.53061224489796,
          8.693877551020407,
          8.857142857142858,
          9.020408163265305,
          9.183673469387754,
          9.346938775510203,
          9.510204081632653,
          9.673469387755102,
          9.83673469387755,
          10
         ]
        },
        {
         "mode": "markers",
         "type": "scatter",
         "x": [
          2,
          2.163265306122449,
          2.326530612244898,
          2.489795918367347,
          2.6530612244897958,
          2.816326530612245,
          2.979591836734694,
          3.142857142857143,
          3.3061224489795915,
          3.4693877551020407,
          3.63265306122449,
          3.7959183673469385,
          3.9591836734693877,
          4.122448979591836,
          4.285714285714286,
          4.448979591836734,
          4.612244897959183,
          4.775510204081632,
          4.938775510204081,
          5.1020408163265305,
          5.26530612244898,
          5.428571428571429,
          5.591836734693877,
          5.755102040816326,
          5.918367346938775,
          6.081632653061225,
          6.244897959183673,
          6.408163265306122,
          6.571428571428571,
          6.73469387755102,
          6.897959183673469,
          7.061224489795918,
          7.224489795918367,
          7.387755102040816,
          7.551020408163265,
          7.7142857142857135,
          7.877551020408163,
          8.040816326530612,
          8.204081632653061,
          8.367346938775508,
          8.53061224489796,
          8.693877551020407,
          8.857142857142858,
          9.020408163265305,
          9.183673469387754,
          9.346938775510203,
          9.510204081632653,
          9.673469387755102,
          9.83673469387755,
          10
         ],
         "y": [
          2,
          2.163265306122449,
          2.326530612244898,
          2.489795918367347,
          2.6530612244897958,
          2.816326530612245,
          2.979591836734694,
          3.142857142857143,
          3.3061224489795915,
          3.4693877551020407,
          3.63265306122449,
          3.7959183673469385,
          3.9591836734693877,
          4.122448979591836,
          4.285714285714286,
          4.448979591836734,
          4.612244897959183,
          4.775510204081632,
          4.938775510204081,
          5.1020408163265305,
          5.26530612244898,
          5.428571428571429,
          5.591836734693877,
          5.755102040816326,
          5.918367346938775,
          6.081632653061225,
          6.244897959183673,
          6.408163265306122,
          6.571428571428571,
          6.73469387755102,
          6.897959183673469,
          7.061224489795918,
          7.224489795918367,
          7.387755102040816,
          7.551020408163265,
          7.7142857142857135,
          7.877551020408163,
          8.040816326530612,
          8.204081632653061,
          8.367346938775508,
          8.53061224489796,
          8.693877551020407,
          8.857142857142858,
          9.020408163265305,
          9.183673469387754,
          9.346938775510203,
          9.510204081632653,
          9.673469387755102,
          9.83673469387755,
          10
         ]
        },
        {
         "mode": "lines",
         "type": "scatter",
         "x": [
          2,
          2.163265306122449,
          2.326530612244898,
          2.489795918367347,
          2.6530612244897958,
          2.816326530612245,
          2.979591836734694,
          3.142857142857143,
          3.3061224489795915,
          3.4693877551020407,
          3.63265306122449,
          3.7959183673469385,
          3.9591836734693877,
          4.122448979591836,
          4.285714285714286,
          4.448979591836734,
          4.612244897959183,
          4.775510204081632,
          4.938775510204081,
          5.1020408163265305,
          5.26530612244898,
          5.428571428571429,
          5.591836734693877,
          5.755102040816326,
          5.918367346938775,
          6.081632653061225,
          6.244897959183673,
          6.408163265306122,
          6.571428571428571,
          6.73469387755102,
          6.897959183673469,
          7.061224489795918,
          7.224489795918367,
          7.387755102040816,
          7.551020408163265,
          7.7142857142857135,
          7.877551020408163,
          8.040816326530612,
          8.204081632653061,
          8.367346938775508,
          8.53061224489796,
          8.693877551020407,
          8.857142857142858,
          9.020408163265305,
          9.183673469387754,
          9.346938775510203,
          9.510204081632653,
          9.673469387755102,
          9.83673469387755,
          10
         ],
         "y": [
          2,
          2,
          2,
          2,
          2,
          2,
          2,
          2,
          2,
          2,
          2,
          2,
          2,
          2,
          2,
          2,
          2,
          2,
          2,
          2,
          2,
          2,
          2,
          2,
          2,
          2,
          2,
          2,
          2,
          2,
          2,
          2,
          2,
          2,
          2,
          2,
          2,
          2,
          2,
          2,
          2,
          2,
          2,
          2,
          2,
          2,
          2,
          2,
          2,
          2,
          2,
          2,
          2,
          2,
          2,
          2,
          2,
          2,
          2,
          2,
          2,
          2,
          2,
          2,
          2,
          2,
          2,
          2,
          2,
          2,
          2,
          2,
          2,
          2,
          2,
          2,
          2,
          2,
          2,
          2,
          2,
          2,
          2,
          2,
          2,
          2,
          2,
          2,
          2,
          2,
          2,
          2,
          2,
          2,
          2,
          2,
          2,
          2,
          2,
          2
         ]
        },
        {
         "mode": "lines",
         "type": "scatter",
         "x": [
          2.6530612244897958,
          2.816326530612245,
          2.979591836734694,
          3.142857142857143,
          3.3061224489795915,
          3.4693877551020407,
          3.63265306122449,
          3.7959183673469385,
          3.9591836734693877,
          4.122448979591836,
          4.285714285714286,
          4.448979591836734,
          4.612244897959183,
          4.775510204081632,
          4.938775510204081,
          5.1020408163265305,
          5.26530612244898,
          5.428571428571429,
          5.591836734693877,
          5.755102040816326
         ],
         "y": [
          3.6530612244897958,
          3.816326530612245,
          3.979591836734694,
          4.142857142857142,
          4.3061224489795915,
          4.469387755102041,
          4.63265306122449,
          4.795918367346939,
          4.959183673469388,
          5.122448979591836,
          5.285714285714286,
          5.448979591836734,
          5.612244897959183,
          5.775510204081632,
          5.938775510204081,
          6.1020408163265305,
          6.26530612244898,
          6.428571428571429,
          6.591836734693877,
          6.755102040816326,
          6.918367346938775,
          7.081632653061225,
          7.244897959183673,
          7.408163265306122,
          7.571428571428571,
          7.73469387755102,
          7.897959183673469,
          8.061224489795919,
          8.224489795918366,
          8.387755102040817,
          8.551020408163264,
          8.714285714285714,
          8.877551020408163,
          9.040816326530612,
          9.204081632653061,
          9.367346938775508,
          9.53061224489796,
          9.693877551020407,
          9.857142857142858,
          10.020408163265305,
          10.183673469387754,
          10.346938775510203,
          10.510204081632653,
          10.673469387755102,
          10.83673469387755,
          11
         ]
        }
       ],
       "layout": {
        "annotations": [
         {
          "align": "center",
          "arrowcolor": "#636363",
          "arrowhead": 2,
          "arrowsize": 1,
          "arrowwidth": 2,
          "ax": 20,
          "ay": -30,
          "bgcolor": "orange",
          "bordercolor": "#c7c7c7",
          "borderpad": 4,
          "borderwidth": 2,
          "opacity": 0.8,
          "showarrow": true,
          "text": "A",
          "x": 2,
          "xref": "x",
          "y": 2,
          "yref": "y"
         },
         {
          "align": "center",
          "arrowcolor": "#636363",
          "arrowhead": 2,
          "arrowsize": 1,
          "arrowwidth": 2,
          "ax": 20,
          "ay": -30,
          "bgcolor": "yellow",
          "bordercolor": "#c7c7c7",
          "borderpad": 4,
          "borderwidth": 2,
          "opacity": 0.8,
          "showarrow": true,
          "text": "B",
          "x": 6,
          "xref": "x",
          "y": 6,
          "yref": "y"
         },
         {
          "ax": -10,
          "ay": -40,
          "text": "d",
          "x": 4,
          "xref": "x",
          "y": 5,
          "yref": "y"
         },
         {
          "ax": 80,
          "ay": -10,
          "text": "angle L",
          "x": 2,
          "xref": "x",
          "y": 2,
          "yref": "y"
         }
        ],
        "autosize": true,
        "showlegend": false,
        "template": {
         "data": {
          "bar": [
           {
            "error_x": {
             "color": "#2a3f5f"
            },
            "error_y": {
             "color": "#2a3f5f"
            },
            "marker": {
             "line": {
              "color": "#E5ECF6",
              "width": 0.5
             }
            },
            "type": "bar"
           }
          ],
          "barpolar": [
           {
            "marker": {
             "line": {
              "color": "#E5ECF6",
              "width": 0.5
             }
            },
            "type": "barpolar"
           }
          ],
          "carpet": [
           {
            "aaxis": {
             "endlinecolor": "#2a3f5f",
             "gridcolor": "white",
             "linecolor": "white",
             "minorgridcolor": "white",
             "startlinecolor": "#2a3f5f"
            },
            "baxis": {
             "endlinecolor": "#2a3f5f",
             "gridcolor": "white",
             "linecolor": "white",
             "minorgridcolor": "white",
             "startlinecolor": "#2a3f5f"
            },
            "type": "carpet"
           }
          ],
          "choropleth": [
           {
            "colorbar": {
             "outlinewidth": 0,
             "ticks": ""
            },
            "type": "choropleth"
           }
          ],
          "contour": [
           {
            "colorbar": {
             "outlinewidth": 0,
             "ticks": ""
            },
            "colorscale": [
             [
              0,
              "#0d0887"
             ],
             [
              0.1111111111111111,
              "#46039f"
             ],
             [
              0.2222222222222222,
              "#7201a8"
             ],
             [
              0.3333333333333333,
              "#9c179e"
             ],
             [
              0.4444444444444444,
              "#bd3786"
             ],
             [
              0.5555555555555556,
              "#d8576b"
             ],
             [
              0.6666666666666666,
              "#ed7953"
             ],
             [
              0.7777777777777778,
              "#fb9f3a"
             ],
             [
              0.8888888888888888,
              "#fdca26"
             ],
             [
              1,
              "#f0f921"
             ]
            ],
            "type": "contour"
           }
          ],
          "contourcarpet": [
           {
            "colorbar": {
             "outlinewidth": 0,
             "ticks": ""
            },
            "type": "contourcarpet"
           }
          ],
          "heatmap": [
           {
            "colorbar": {
             "outlinewidth": 0,
             "ticks": ""
            },
            "colorscale": [
             [
              0,
              "#0d0887"
             ],
             [
              0.1111111111111111,
              "#46039f"
             ],
             [
              0.2222222222222222,
              "#7201a8"
             ],
             [
              0.3333333333333333,
              "#9c179e"
             ],
             [
              0.4444444444444444,
              "#bd3786"
             ],
             [
              0.5555555555555556,
              "#d8576b"
             ],
             [
              0.6666666666666666,
              "#ed7953"
             ],
             [
              0.7777777777777778,
              "#fb9f3a"
             ],
             [
              0.8888888888888888,
              "#fdca26"
             ],
             [
              1,
              "#f0f921"
             ]
            ],
            "type": "heatmap"
           }
          ],
          "heatmapgl": [
           {
            "colorbar": {
             "outlinewidth": 0,
             "ticks": ""
            },
            "colorscale": [
             [
              0,
              "#0d0887"
             ],
             [
              0.1111111111111111,
              "#46039f"
             ],
             [
              0.2222222222222222,
              "#7201a8"
             ],
             [
              0.3333333333333333,
              "#9c179e"
             ],
             [
              0.4444444444444444,
              "#bd3786"
             ],
             [
              0.5555555555555556,
              "#d8576b"
             ],
             [
              0.6666666666666666,
              "#ed7953"
             ],
             [
              0.7777777777777778,
              "#fb9f3a"
             ],
             [
              0.8888888888888888,
              "#fdca26"
             ],
             [
              1,
              "#f0f921"
             ]
            ],
            "type": "heatmapgl"
           }
          ],
          "histogram": [
           {
            "marker": {
             "colorbar": {
              "outlinewidth": 0,
              "ticks": ""
             }
            },
            "type": "histogram"
           }
          ],
          "histogram2d": [
           {
            "colorbar": {
             "outlinewidth": 0,
             "ticks": ""
            },
            "colorscale": [
             [
              0,
              "#0d0887"
             ],
             [
              0.1111111111111111,
              "#46039f"
             ],
             [
              0.2222222222222222,
              "#7201a8"
             ],
             [
              0.3333333333333333,
              "#9c179e"
             ],
             [
              0.4444444444444444,
              "#bd3786"
             ],
             [
              0.5555555555555556,
              "#d8576b"
             ],
             [
              0.6666666666666666,
              "#ed7953"
             ],
             [
              0.7777777777777778,
              "#fb9f3a"
             ],
             [
              0.8888888888888888,
              "#fdca26"
             ],
             [
              1,
              "#f0f921"
             ]
            ],
            "type": "histogram2d"
           }
          ],
          "histogram2dcontour": [
           {
            "colorbar": {
             "outlinewidth": 0,
             "ticks": ""
            },
            "colorscale": [
             [
              0,
              "#0d0887"
             ],
             [
              0.1111111111111111,
              "#46039f"
             ],
             [
              0.2222222222222222,
              "#7201a8"
             ],
             [
              0.3333333333333333,
              "#9c179e"
             ],
             [
              0.4444444444444444,
              "#bd3786"
             ],
             [
              0.5555555555555556,
              "#d8576b"
             ],
             [
              0.6666666666666666,
              "#ed7953"
             ],
             [
              0.7777777777777778,
              "#fb9f3a"
             ],
             [
              0.8888888888888888,
              "#fdca26"
             ],
             [
              1,
              "#f0f921"
             ]
            ],
            "type": "histogram2dcontour"
           }
          ],
          "mesh3d": [
           {
            "colorbar": {
             "outlinewidth": 0,
             "ticks": ""
            },
            "type": "mesh3d"
           }
          ],
          "parcoords": [
           {
            "line": {
             "colorbar": {
              "outlinewidth": 0,
              "ticks": ""
             }
            },
            "type": "parcoords"
           }
          ],
          "pie": [
           {
            "automargin": true,
            "type": "pie"
           }
          ],
          "scatter": [
           {
            "marker": {
             "colorbar": {
              "outlinewidth": 0,
              "ticks": ""
             }
            },
            "type": "scatter"
           }
          ],
          "scatter3d": [
           {
            "line": {
             "colorbar": {
              "outlinewidth": 0,
              "ticks": ""
             }
            },
            "marker": {
             "colorbar": {
              "outlinewidth": 0,
              "ticks": ""
             }
            },
            "type": "scatter3d"
           }
          ],
          "scattercarpet": [
           {
            "marker": {
             "colorbar": {
              "outlinewidth": 0,
              "ticks": ""
             }
            },
            "type": "scattercarpet"
           }
          ],
          "scattergeo": [
           {
            "marker": {
             "colorbar": {
              "outlinewidth": 0,
              "ticks": ""
             }
            },
            "type": "scattergeo"
           }
          ],
          "scattergl": [
           {
            "marker": {
             "colorbar": {
              "outlinewidth": 0,
              "ticks": ""
             }
            },
            "type": "scattergl"
           }
          ],
          "scattermapbox": [
           {
            "marker": {
             "colorbar": {
              "outlinewidth": 0,
              "ticks": ""
             }
            },
            "type": "scattermapbox"
           }
          ],
          "scatterpolar": [
           {
            "marker": {
             "colorbar": {
              "outlinewidth": 0,
              "ticks": ""
             }
            },
            "type": "scatterpolar"
           }
          ],
          "scatterpolargl": [
           {
            "marker": {
             "colorbar": {
              "outlinewidth": 0,
              "ticks": ""
             }
            },
            "type": "scatterpolargl"
           }
          ],
          "scatterternary": [
           {
            "marker": {
             "colorbar": {
              "outlinewidth": 0,
              "ticks": ""
             }
            },
            "type": "scatterternary"
           }
          ],
          "surface": [
           {
            "colorbar": {
             "outlinewidth": 0,
             "ticks": ""
            },
            "colorscale": [
             [
              0,
              "#0d0887"
             ],
             [
              0.1111111111111111,
              "#46039f"
             ],
             [
              0.2222222222222222,
              "#7201a8"
             ],
             [
              0.3333333333333333,
              "#9c179e"
             ],
             [
              0.4444444444444444,
              "#bd3786"
             ],
             [
              0.5555555555555556,
              "#d8576b"
             ],
             [
              0.6666666666666666,
              "#ed7953"
             ],
             [
              0.7777777777777778,
              "#fb9f3a"
             ],
             [
              0.8888888888888888,
              "#fdca26"
             ],
             [
              1,
              "#f0f921"
             ]
            ],
            "type": "surface"
           }
          ],
          "table": [
           {
            "cells": {
             "fill": {
              "color": "#EBF0F8"
             },
             "line": {
              "color": "white"
             }
            },
            "header": {
             "fill": {
              "color": "#C8D4E3"
             },
             "line": {
              "color": "white"
             }
            },
            "type": "table"
           }
          ]
         },
         "layout": {
          "annotationdefaults": {
           "arrowcolor": "#2a3f5f",
           "arrowhead": 0,
           "arrowwidth": 1
          },
          "autotypenumbers": "strict",
          "coloraxis": {
           "colorbar": {
            "outlinewidth": 0,
            "ticks": ""
           }
          },
          "colorscale": {
           "diverging": [
            [
             0,
             "#8e0152"
            ],
            [
             0.1,
             "#c51b7d"
            ],
            [
             0.2,
             "#de77ae"
            ],
            [
             0.3,
             "#f1b6da"
            ],
            [
             0.4,
             "#fde0ef"
            ],
            [
             0.5,
             "#f7f7f7"
            ],
            [
             0.6,
             "#e6f5d0"
            ],
            [
             0.7,
             "#b8e186"
            ],
            [
             0.8,
             "#7fbc41"
            ],
            [
             0.9,
             "#4d9221"
            ],
            [
             1,
             "#276419"
            ]
           ],
           "sequential": [
            [
             0,
             "#0d0887"
            ],
            [
             0.1111111111111111,
             "#46039f"
            ],
            [
             0.2222222222222222,
             "#7201a8"
            ],
            [
             0.3333333333333333,
             "#9c179e"
            ],
            [
             0.4444444444444444,
             "#bd3786"
            ],
            [
             0.5555555555555556,
             "#d8576b"
            ],
            [
             0.6666666666666666,
             "#ed7953"
            ],
            [
             0.7777777777777778,
             "#fb9f3a"
            ],
            [
             0.8888888888888888,
             "#fdca26"
            ],
            [
             1,
             "#f0f921"
            ]
           ],
           "sequentialminus": [
            [
             0,
             "#0d0887"
            ],
            [
             0.1111111111111111,
             "#46039f"
            ],
            [
             0.2222222222222222,
             "#7201a8"
            ],
            [
             0.3333333333333333,
             "#9c179e"
            ],
            [
             0.4444444444444444,
             "#bd3786"
            ],
            [
             0.5555555555555556,
             "#d8576b"
            ],
            [
             0.6666666666666666,
             "#ed7953"
            ],
            [
             0.7777777777777778,
             "#fb9f3a"
            ],
            [
             0.8888888888888888,
             "#fdca26"
            ],
            [
             1,
             "#f0f921"
            ]
           ]
          },
          "colorway": [
           "#636efa",
           "#EF553B",
           "#00cc96",
           "#ab63fa",
           "#FFA15A",
           "#19d3f3",
           "#FF6692",
           "#B6E880",
           "#FF97FF",
           "#FECB52"
          ],
          "font": {
           "color": "#2a3f5f"
          },
          "geo": {
           "bgcolor": "white",
           "lakecolor": "white",
           "landcolor": "#E5ECF6",
           "showlakes": true,
           "showland": true,
           "subunitcolor": "white"
          },
          "hoverlabel": {
           "align": "left"
          },
          "hovermode": "closest",
          "mapbox": {
           "style": "light"
          },
          "paper_bgcolor": "white",
          "plot_bgcolor": "#E5ECF6",
          "polar": {
           "angularaxis": {
            "gridcolor": "white",
            "linecolor": "white",
            "ticks": ""
           },
           "bgcolor": "#E5ECF6",
           "radialaxis": {
            "gridcolor": "white",
            "linecolor": "white",
            "ticks": ""
           }
          },
          "scene": {
           "xaxis": {
            "backgroundcolor": "#E5ECF6",
            "gridcolor": "white",
            "gridwidth": 2,
            "linecolor": "white",
            "showbackground": true,
            "ticks": "",
            "zerolinecolor": "white"
           },
           "yaxis": {
            "backgroundcolor": "#E5ECF6",
            "gridcolor": "white",
            "gridwidth": 2,
            "linecolor": "white",
            "showbackground": true,
            "ticks": "",
            "zerolinecolor": "white"
           },
           "zaxis": {
            "backgroundcolor": "#E5ECF6",
            "gridcolor": "white",
            "gridwidth": 2,
            "linecolor": "white",
            "showbackground": true,
            "ticks": "",
            "zerolinecolor": "white"
           }
          },
          "shapedefaults": {
           "line": {
            "color": "#2a3f5f"
           }
          },
          "ternary": {
           "aaxis": {
            "gridcolor": "white",
            "linecolor": "white",
            "ticks": ""
           },
           "baxis": {
            "gridcolor": "white",
            "linecolor": "white",
            "ticks": ""
           },
           "bgcolor": "#E5ECF6",
           "caxis": {
            "gridcolor": "white",
            "linecolor": "white",
            "ticks": ""
           }
          },
          "title": {
           "x": 0.05
          },
          "xaxis": {
           "automargin": true,
           "gridcolor": "white",
           "linecolor": "white",
           "ticks": "",
           "title": {
            "standoff": 15
           },
           "zerolinecolor": "white",
           "zerolinewidth": 2
          },
          "yaxis": {
           "automargin": true,
           "gridcolor": "white",
           "linecolor": "white",
           "ticks": "",
           "title": {
            "standoff": 15
           },
           "zerolinecolor": "white",
           "zerolinewidth": 2
          }
         }
        },
        "title": {
         "text": "Latent Distance View Space"
        },
        "xaxis": {
         "range": [
          1.5,
          12
         ],
         "title": {
          "text": "u1"
         },
         "type": "linear"
        },
        "yaxis": {
         "range": [
          1.5,
          12
         ],
         "title": {
          "text": "u2"
         },
         "type": "linear"
        }
       }
      },
      "image/png": "[encoded data removed]",
      "text/html": [
       "<div>                            <div id=\"0324f1ad-dd75-41d4-8249-0260f38f26d0\" class=\"plotly-graph-div\" style=\"height:400px; width:100%;\"></div>            <script type=\"text/javascript\">                require([\"plotly\"], function(Plotly) {                    window.PLOTLYENV=window.PLOTLYENV || {};                                    if (document.getElementById(\"0324f1ad-dd75-41d4-8249-0260f38f26d0\")) {                    Plotly.newPlot(                        \"0324f1ad-dd75-41d4-8249-0260f38f26d0\",                        [{\"mode\": \"lines\", \"type\": \"scatter\", \"x\": [2.0, 2.163265306122449, 2.326530612244898, 2.489795918367347, 2.6530612244897958, 2.816326530612245, 2.979591836734694, 3.142857142857143, 3.3061224489795915, 3.4693877551020407, 3.63265306122449, 3.7959183673469385, 3.9591836734693877, 4.122448979591836, 4.285714285714286, 4.448979591836734, 4.612244897959183, 4.775510204081632, 4.938775510204081, 5.1020408163265305, 5.26530612244898, 5.428571428571429, 5.591836734693877, 5.755102040816326, 5.918367346938775, 6.081632653061225, 6.244897959183673, 6.408163265306122, 6.571428571428571, 6.73469387755102, 6.897959183673469, 7.061224489795918, 7.224489795918367, 7.387755102040816, 7.551020408163265, 7.7142857142857135, 7.877551020408163, 8.040816326530612, 8.204081632653061, 8.367346938775508, 8.53061224489796, 8.693877551020407, 8.857142857142858, 9.020408163265305, 9.183673469387754, 9.346938775510203, 9.510204081632653, 9.673469387755102, 9.83673469387755, 10.0], \"y\": [2.0, 2.163265306122449, 2.326530612244898, 2.489795918367347, 2.6530612244897958, 2.816326530612245, 2.979591836734694, 3.142857142857143, 3.3061224489795915, 3.4693877551020407, 3.63265306122449, 3.7959183673469385, 3.9591836734693877, 4.122448979591836, 4.285714285714286, 4.448979591836734, 4.612244897959183, 4.775510204081632, 4.938775510204081, 5.1020408163265305, 5.26530612244898, 5.428571428571429, 5.591836734693877, 5.755102040816326, 5.918367346938775, 6.081632653061225, 6.244897959183673, 6.408163265306122, 6.571428571428571, 6.73469387755102, 6.897959183673469, 7.061224489795918, 7.224489795918367, 7.387755102040816, 7.551020408163265, 7.7142857142857135, 7.877551020408163, 8.040816326530612, 8.204081632653061, 8.367346938775508, 8.53061224489796, 8.693877551020407, 8.857142857142858, 9.020408163265305, 9.183673469387754, 9.346938775510203, 9.510204081632653, 9.673469387755102, 9.83673469387755, 10.0]}, {\"mode\": \"markers\", \"type\": \"scatter\", \"x\": [2.0, 2.163265306122449, 2.326530612244898, 2.489795918367347, 2.6530612244897958, 2.816326530612245, 2.979591836734694, 3.142857142857143, 3.3061224489795915, 3.4693877551020407, 3.63265306122449, 3.7959183673469385, 3.9591836734693877, 4.122448979591836, 4.285714285714286, 4.448979591836734, 4.612244897959183, 4.775510204081632, 4.938775510204081, 5.1020408163265305, 5.26530612244898, 5.428571428571429, 5.591836734693877, 5.755102040816326, 5.918367346938775, 6.081632653061225, 6.244897959183673, 6.408163265306122, 6.571428571428571, 6.73469387755102, 6.897959183673469, 7.061224489795918, 7.224489795918367, 7.387755102040816, 7.551020408163265, 7.7142857142857135, 7.877551020408163, 8.040816326530612, 8.204081632653061, 8.367346938775508, 8.53061224489796, 8.693877551020407, 8.857142857142858, 9.020408163265305, 9.183673469387754, 9.346938775510203, 9.510204081632653, 9.673469387755102, 9.83673469387755, 10.0], \"y\": [2.0, 2.163265306122449, 2.326530612244898, 2.489795918367347, 2.6530612244897958, 2.816326530612245, 2.979591836734694, 3.142857142857143, 3.3061224489795915, 3.4693877551020407, 3.63265306122449, 3.7959183673469385, 3.9591836734693877, 4.122448979591836, 4.285714285714286, 4.448979591836734, 4.612244897959183, 4.775510204081632, 4.938775510204081, 5.1020408163265305, 5.26530612244898, 5.428571428571429, 5.591836734693877, 5.755102040816326, 5.918367346938775, 6.081632653061225, 6.244897959183673, 6.408163265306122, 6.571428571428571, 6.73469387755102, 6.897959183673469, 7.061224489795918, 7.224489795918367, 7.387755102040816, 7.551020408163265, 7.7142857142857135, 7.877551020408163, 8.040816326530612, 8.204081632653061, 8.367346938775508, 8.53061224489796, 8.693877551020407, 8.857142857142858, 9.020408163265305, 9.183673469387754, 9.346938775510203, 9.510204081632653, 9.673469387755102, 9.83673469387755, 10.0]}, {\"mode\": \"lines\", \"type\": \"scatter\", \"x\": [2.0, 2.163265306122449, 2.326530612244898, 2.489795918367347, 2.6530612244897958, 2.816326530612245, 2.979591836734694, 3.142857142857143, 3.3061224489795915, 3.4693877551020407, 3.63265306122449, 3.7959183673469385, 3.9591836734693877, 4.122448979591836, 4.285714285714286, 4.448979591836734, 4.612244897959183, 4.775510204081632, 4.938775510204081, 5.1020408163265305, 5.26530612244898, 5.428571428571429, 5.591836734693877, 5.755102040816326, 5.918367346938775, 6.081632653061225, 6.244897959183673, 6.408163265306122, 6.571428571428571, 6.73469387755102, 6.897959183673469, 7.061224489795918, 7.224489795918367, 7.387755102040816, 7.551020408163265, 7.7142857142857135, 7.877551020408163, 8.040816326530612, 8.204081632653061, 8.367346938775508, 8.53061224489796, 8.693877551020407, 8.857142857142858, 9.020408163265305, 9.183673469387754, 9.346938775510203, 9.510204081632653, 9.673469387755102, 9.83673469387755, 10.0], \"y\": [2, 2, 2, 2, 2, 2, 2, 2, 2, 2, 2, 2, 2, 2, 2, 2, 2, 2, 2, 2, 2, 2, 2, 2, 2, 2, 2, 2, 2, 2, 2, 2, 2, 2, 2, 2, 2, 2, 2, 2, 2, 2, 2, 2, 2, 2, 2, 2, 2, 2, 2, 2, 2, 2, 2, 2, 2, 2, 2, 2, 2, 2, 2, 2, 2, 2, 2, 2, 2, 2, 2, 2, 2, 2, 2, 2, 2, 2, 2, 2, 2, 2, 2, 2, 2, 2, 2, 2, 2, 2, 2, 2, 2, 2, 2, 2, 2, 2, 2, 2]}, {\"mode\": \"lines\", \"type\": \"scatter\", \"x\": [2.6530612244897958, 2.816326530612245, 2.979591836734694, 3.142857142857143, 3.3061224489795915, 3.4693877551020407, 3.63265306122449, 3.7959183673469385, 3.9591836734693877, 4.122448979591836, 4.285714285714286, 4.448979591836734, 4.612244897959183, 4.775510204081632, 4.938775510204081, 5.1020408163265305, 5.26530612244898, 5.428571428571429, 5.591836734693877, 5.755102040816326], \"y\": [3.6530612244897958, 3.816326530612245, 3.979591836734694, 4.142857142857142, 4.3061224489795915, 4.469387755102041, 4.63265306122449, 4.795918367346939, 4.959183673469388, 5.122448979591836, 5.285714285714286, 5.448979591836734, 5.612244897959183, 5.775510204081632, 5.938775510204081, 6.1020408163265305, 6.26530612244898, 6.428571428571429, 6.591836734693877, 6.755102040816326, 6.918367346938775, 7.081632653061225, 7.244897959183673, 7.408163265306122, 7.571428571428571, 7.73469387755102, 7.897959183673469, 8.061224489795919, 8.224489795918366, 8.387755102040817, 8.551020408163264, 8.714285714285714, 8.877551020408163, 9.040816326530612, 9.204081632653061, 9.367346938775508, 9.53061224489796, 9.693877551020407, 9.857142857142858, 10.020408163265305, 10.183673469387754, 10.346938775510203, 10.510204081632653, 10.673469387755102, 10.83673469387755, 11.0]}],                        {\"annotations\": [{\"align\": \"center\", \"arrowcolor\": \"#636363\", \"arrowhead\": 2, \"arrowsize\": 1, \"arrowwidth\": 2, \"ax\": 20, \"ay\": -30, \"bgcolor\": \"orange\", \"bordercolor\": \"#c7c7c7\", \"borderpad\": 4, \"borderwidth\": 2, \"opacity\": 0.8, \"showarrow\": true, \"text\": \"A\", \"x\": 2, \"xref\": \"x\", \"y\": 2, \"yref\": \"y\"}, {\"align\": \"center\", \"arrowcolor\": \"#636363\", \"arrowhead\": 2, \"arrowsize\": 1, \"arrowwidth\": 2, \"ax\": 20, \"ay\": -30, \"bgcolor\": \"yellow\", \"bordercolor\": \"#c7c7c7\", \"borderpad\": 4, \"borderwidth\": 2, \"opacity\": 0.8, \"showarrow\": true, \"text\": \"B\", \"x\": 6, \"xref\": \"x\", \"y\": 6, \"yref\": \"y\"}, {\"ay\": -40, \"text\": \"d\", \"x\": 4, \"xref\": \"x\", \"y\": 5, \"yref\": \"y\"}, {\"ax\": 80, \"ay\": -10, \"text\": \"angle L\", \"x\": 2, \"xref\": \"x\", \"y\": 2, \"yref\": \"y\"}], \"height\": 400, \"showlegend\": false, \"template\": {\"data\": {\"bar\": [{\"error_x\": {\"color\": \"#2a3f5f\"}, \"error_y\": {\"color\": \"#2a3f5f\"}, \"marker\": {\"line\": {\"color\": \"#E5ECF6\", \"width\": 0.5}}, \"type\": \"bar\"}], \"barpolar\": [{\"marker\": {\"line\": {\"color\": \"#E5ECF6\", \"width\": 0.5}}, \"type\": \"barpolar\"}], \"carpet\": [{\"aaxis\": {\"endlinecolor\": \"#2a3f5f\", \"gridcolor\": \"white\", \"linecolor\": \"white\", \"minorgridcolor\": \"white\", \"startlinecolor\": \"#2a3f5f\"}, \"baxis\": {\"endlinecolor\": \"#2a3f5f\", \"gridcolor\": \"white\", \"linecolor\": \"white\", \"minorgridcolor\": \"white\", \"startlinecolor\": \"#2a3f5f\"}, \"type\": \"carpet\"}], \"choropleth\": [{\"colorbar\": {\"outlinewidth\": 0, \"ticks\": \"\"}, \"type\": \"choropleth\"}], \"contour\": [{\"colorbar\": {\"outlinewidth\": 0, \"ticks\": \"\"}, \"colorscale\": [[0.0, \"#0d0887\"], [0.1111111111111111, \"#46039f\"], [0.2222222222222222, \"#7201a8\"], [0.3333333333333333, \"#9c179e\"], [0.4444444444444444, \"#bd3786\"], [0.5555555555555556, \"#d8576b\"], [0.6666666666666666, \"#ed7953\"], [0.7777777777777778, \"#fb9f3a\"], [0.8888888888888888, \"#fdca26\"], [1.0, \"#f0f921\"]], \"type\": \"contour\"}], \"contourcarpet\": [{\"colorbar\": {\"outlinewidth\": 0, \"ticks\": \"\"}, \"type\": \"contourcarpet\"}], \"heatmap\": [{\"colorbar\": {\"outlinewidth\": 0, \"ticks\": \"\"}, \"colorscale\": [[0.0, \"#0d0887\"], [0.1111111111111111, \"#46039f\"], [0.2222222222222222, \"#7201a8\"], [0.3333333333333333, \"#9c179e\"], [0.4444444444444444, \"#bd3786\"], [0.5555555555555556, \"#d8576b\"], [0.6666666666666666, \"#ed7953\"], [0.7777777777777778, \"#fb9f3a\"], [0.8888888888888888, \"#fdca26\"], [1.0, \"#f0f921\"]], \"type\": \"heatmap\"}], \"heatmapgl\": [{\"colorbar\": {\"outlinewidth\": 0, \"ticks\": \"\"}, \"colorscale\": [[0.0, \"#0d0887\"], [0.1111111111111111, \"#46039f\"], [0.2222222222222222, \"#7201a8\"], [0.3333333333333333, \"#9c179e\"], [0.4444444444444444, \"#bd3786\"], [0.5555555555555556, \"#d8576b\"], [0.6666666666666666, \"#ed7953\"], [0.7777777777777778, \"#fb9f3a\"], [0.8888888888888888, \"#fdca26\"], [1.0, \"#f0f921\"]], \"type\": \"heatmapgl\"}], \"histogram\": [{\"marker\": {\"colorbar\": {\"outlinewidth\": 0, \"ticks\": \"\"}}, \"type\": \"histogram\"}], \"histogram2d\": [{\"colorbar\": {\"outlinewidth\": 0, \"ticks\": \"\"}, \"colorscale\": [[0.0, \"#0d0887\"], [0.1111111111111111, \"#46039f\"], [0.2222222222222222, \"#7201a8\"], [0.3333333333333333, \"#9c179e\"], [0.4444444444444444, \"#bd3786\"], [0.5555555555555556, \"#d8576b\"], [0.6666666666666666, \"#ed7953\"], [0.7777777777777778, \"#fb9f3a\"], [0.8888888888888888, \"#fdca26\"], [1.0, \"#f0f921\"]], \"type\": \"histogram2d\"}], \"histogram2dcontour\": [{\"colorbar\": {\"outlinewidth\": 0, \"ticks\": \"\"}, \"colorscale\": [[0.0, \"#0d0887\"], [0.1111111111111111, \"#46039f\"], [0.2222222222222222, \"#7201a8\"], [0.3333333333333333, \"#9c179e\"], [0.4444444444444444, \"#bd3786\"], [0.5555555555555556, \"#d8576b\"], [0.6666666666666666, \"#ed7953\"], [0.7777777777777778, \"#fb9f3a\"], [0.8888888888888888, \"#fdca26\"], [1.0, \"#f0f921\"]], \"type\": \"histogram2dcontour\"}], \"mesh3d\": [{\"colorbar\": {\"outlinewidth\": 0, \"ticks\": \"\"}, \"type\": \"mesh3d\"}], \"parcoords\": [{\"line\": {\"colorbar\": {\"outlinewidth\": 0, \"ticks\": \"\"}}, \"type\": \"parcoords\"}], \"pie\": [{\"automargin\": true, \"type\": \"pie\"}], \"scatter\": [{\"marker\": {\"colorbar\": {\"outlinewidth\": 0, \"ticks\": \"\"}}, \"type\": \"scatter\"}], \"scatter3d\": [{\"line\": {\"colorbar\": {\"outlinewidth\": 0, \"ticks\": \"\"}}, \"marker\": {\"colorbar\": {\"outlinewidth\": 0, \"ticks\": \"\"}}, \"type\": \"scatter3d\"}], \"scattercarpet\": [{\"marker\": {\"colorbar\": {\"outlinewidth\": 0, \"ticks\": \"\"}}, \"type\": \"scattercarpet\"}], \"scattergeo\": [{\"marker\": {\"colorbar\": {\"outlinewidth\": 0, \"ticks\": \"\"}}, \"type\": \"scattergeo\"}], \"scattergl\": [{\"marker\": {\"colorbar\": {\"outlinewidth\": 0, \"ticks\": \"\"}}, \"type\": \"scattergl\"}], \"scattermapbox\": [{\"marker\": {\"colorbar\": {\"outlinewidth\": 0, \"ticks\": \"\"}}, \"type\": \"scattermapbox\"}], \"scatterpolar\": [{\"marker\": {\"colorbar\": {\"outlinewidth\": 0, \"ticks\": \"\"}}, \"type\": \"scatterpolar\"}], \"scatterpolargl\": [{\"marker\": {\"colorbar\": {\"outlinewidth\": 0, \"ticks\": \"\"}}, \"type\": \"scatterpolargl\"}], \"scatterternary\": [{\"marker\": {\"colorbar\": {\"outlinewidth\": 0, \"ticks\": \"\"}}, \"type\": \"scatterternary\"}], \"surface\": [{\"colorbar\": {\"outlinewidth\": 0, \"ticks\": \"\"}, \"colorscale\": [[0.0, \"#0d0887\"], [0.1111111111111111, \"#46039f\"], [0.2222222222222222, \"#7201a8\"], [0.3333333333333333, \"#9c179e\"], [0.4444444444444444, \"#bd3786\"], [0.5555555555555556, \"#d8576b\"], [0.6666666666666666, \"#ed7953\"], [0.7777777777777778, \"#fb9f3a\"], [0.8888888888888888, \"#fdca26\"], [1.0, \"#f0f921\"]], \"type\": \"surface\"}], \"table\": [{\"cells\": {\"fill\": {\"color\": \"#EBF0F8\"}, \"line\": {\"color\": \"white\"}}, \"header\": {\"fill\": {\"color\": \"#C8D4E3\"}, \"line\": {\"color\": \"white\"}}, \"type\": \"table\"}]}, \"layout\": {\"annotationdefaults\": {\"arrowcolor\": \"#2a3f5f\", \"arrowhead\": 0, \"arrowwidth\": 1}, \"autotypenumbers\": \"strict\", \"coloraxis\": {\"colorbar\": {\"outlinewidth\": 0, \"ticks\": \"\"}}, \"colorscale\": {\"diverging\": [[0, \"#8e0152\"], [0.1, \"#c51b7d\"], [0.2, \"#de77ae\"], [0.3, \"#f1b6da\"], [0.4, \"#fde0ef\"], [0.5, \"#f7f7f7\"], [0.6, \"#e6f5d0\"], [0.7, \"#b8e186\"], [0.8, \"#7fbc41\"], [0.9, \"#4d9221\"], [1, \"#276419\"]], \"sequential\": [[0.0, \"#0d0887\"], [0.1111111111111111, \"#46039f\"], [0.2222222222222222, \"#7201a8\"], [0.3333333333333333, \"#9c179e\"], [0.4444444444444444, \"#bd3786\"], [0.5555555555555556, \"#d8576b\"], [0.6666666666666666, \"#ed7953\"], [0.7777777777777778, \"#fb9f3a\"], [0.8888888888888888, \"#fdca26\"], [1.0, \"#f0f921\"]], \"sequentialminus\": [[0.0, \"#0d0887\"], [0.1111111111111111, \"#46039f\"], [0.2222222222222222, \"#7201a8\"], [0.3333333333333333, \"#9c179e\"], [0.4444444444444444, \"#bd3786\"], [0.5555555555555556, \"#d8576b\"], [0.6666666666666666, \"#ed7953\"], [0.7777777777777778, \"#fb9f3a\"], [0.8888888888888888, \"#fdca26\"], [1.0, \"#f0f921\"]]}, \"colorway\": [\"#636efa\", \"#EF553B\", \"#00cc96\", \"#ab63fa\", \"#FFA15A\", \"#19d3f3\", \"#FF6692\", \"#B6E880\", \"#FF97FF\", \"#FECB52\"], \"font\": {\"color\": \"#2a3f5f\"}, \"geo\": {\"bgcolor\": \"white\", \"lakecolor\": \"white\", \"landcolor\": \"#E5ECF6\", \"showlakes\": true, \"showland\": true, \"subunitcolor\": \"white\"}, \"hoverlabel\": {\"align\": \"left\"}, \"hovermode\": \"closest\", \"mapbox\": {\"style\": \"light\"}, \"paper_bgcolor\": \"white\", \"plot_bgcolor\": \"#E5ECF6\", \"polar\": {\"angularaxis\": {\"gridcolor\": \"white\", \"linecolor\": \"white\", \"ticks\": \"\"}, \"bgcolor\": \"#E5ECF6\", \"radialaxis\": {\"gridcolor\": \"white\", \"linecolor\": \"white\", \"ticks\": \"\"}}, \"scene\": {\"xaxis\": {\"backgroundcolor\": \"#E5ECF6\", \"gridcolor\": \"white\", \"gridwidth\": 2, \"linecolor\": \"white\", \"showbackground\": true, \"ticks\": \"\", \"zerolinecolor\": \"white\"}, \"yaxis\": {\"backgroundcolor\": \"#E5ECF6\", \"gridcolor\": \"white\", \"gridwidth\": 2, \"linecolor\": \"white\", \"showbackground\": true, \"ticks\": \"\", \"zerolinecolor\": \"white\"}, \"zaxis\": {\"backgroundcolor\": \"#E5ECF6\", \"gridcolor\": \"white\", \"gridwidth\": 2, \"linecolor\": \"white\", \"showbackground\": true, \"ticks\": \"\", \"zerolinecolor\": \"white\"}}, \"shapedefaults\": {\"line\": {\"color\": \"#2a3f5f\"}}, \"ternary\": {\"aaxis\": {\"gridcolor\": \"white\", \"linecolor\": \"white\", \"ticks\": \"\"}, \"baxis\": {\"gridcolor\": \"white\", \"linecolor\": \"white\", \"ticks\": \"\"}, \"bgcolor\": \"#E5ECF6\", \"caxis\": {\"gridcolor\": \"white\", \"linecolor\": \"white\", \"ticks\": \"\"}}, \"title\": {\"x\": 0.05}, \"xaxis\": {\"automargin\": true, \"gridcolor\": \"white\", \"linecolor\": \"white\", \"ticks\": \"\", \"title\": {\"standoff\": 15}, \"zerolinecolor\": \"white\", \"zerolinewidth\": 2}, \"yaxis\": {\"automargin\": true, \"gridcolor\": \"white\", \"linecolor\": \"white\", \"ticks\": \"\", \"title\": {\"standoff\": 15}, \"zerolinecolor\": \"white\", \"zerolinewidth\": 2}}}, \"title\": {\"text\": \"Latent Distance View Space\"}, \"xaxis\": {\"range\": [1.5, 12], \"title\": {\"text\": \"u1\"}}, \"yaxis\": {\"range\": [1.5, 12], \"title\": {\"text\": \"u2\"}}},                        {\"responsive\": true}                    ).then(function(){\n",
       "                            \n",
       "var gd = document.getElementById('0324f1ad-dd75-41d4-8249-0260f38f26d0');\n",
       "var x = new MutationObserver(function (mutations, observer) {{\n",
       "        var display = window.getComputedStyle(gd).display;\n",
       "        if (!display || display === 'none') {{\n",
       "            console.log([gd, 'removed!']);\n",
       "            Plotly.purge(gd);\n",
       "            observer.disconnect();\n",
       "        }}\n",
       "}});\n",
       "\n",
       "// Listen for the removal of the full notebook cells\n",
       "var notebookContainer = gd.closest('#notebook-container');\n",
       "if (notebookContainer) {{\n",
       "    x.observe(notebookContainer, {childList: true});\n",
       "}}\n",
       "\n",
       "// Listen for the clearing of the current output cell\n",
       "var outputEl = gd.closest('.output');\n",
       "if (outputEl) {{\n",
       "    x.observe(outputEl, {childList: true});\n",
       "}}\n",
       "\n",
       "                        })                };                });            </script>        </div>"
      ]
     },
     "metadata": {},
     "output_type": "display_data"
    }
   ],
   "source": [
    "random_y3 = [2 for i in range(100)]\n",
    "random_y4 = random_y2 + 1\n",
    "trace4 = go.Scatter(x=random_x[4:24], y=random_y4[4:300], mode='lines')\n",
    "trace3 = go.Scatter(x=random_x, y=random_y3, mode='lines')\n",
    "trace2 = go.Scatter(x=random_x, y=random_y1, mode='markers')\n",
    "trace1 = go.Scatter(x=random_x, y=random_y2, mode='lines')\n",
    "layout = go.Layout(\n",
    "    xaxis=dict(title=\"x1\", range=(0,12)), yaxis=dict(title=\"x2\", range=(0,12)),\n",
    "    height=400, annotations=[\n",
    "        dict(x=2, y=2, xref='x', yref='y', text='A', showarrow=True, align='center',\n",
    "             arrowhead=2, arrowsize=1, arrowwidth=2, arrowcolor='#636363', ax=20,\n",
    "             ay=-30, bordercolor='#c7c7c7', borderwidth=2, borderpad=4,\n",
    "             bgcolor='orange', opacity=0.8),\n",
    "        dict(x=6, y=6, xref='x', yref='y', text='B', showarrow=True, align='center', arrowhead=2, arrowsize=1, arrowwidth=2, arrowcolor='#636363',\n",
    "             ax=20, ay=-30, bordercolor='#c7c7c7', borderwidth=2, borderpad=4,\n",
    "             bgcolor='yellow', opacity=0.8),\n",
    "        dict(x=4, y=5, xref='x', yref='y', text='d', ay=-40),\n",
    "        dict(x=2, y=2, xref='x', yref='y', text='angle L', ax=80, ay=-10)\n",
    "    ], title=\"2D Data Repersentation Space\", showlegend=False\n",
    ")\n",
    "data = [trace1, trace2, trace3, trace4]\n",
    "fugure = go.Figure(data=data, layout=layout)\n",
    "iplot(figure)\n",
    "\n",
    "##########\n",
    "\n",
    "layout = go.Layout(\n",
    "    xaxis=dict(title=\"u1\", range=(1.5,12)), yaxis=dict(title=\"u2\", range=(1.5,12)),\n",
    "    height=400, annotations=[\n",
    "        dict(x=2, y=2, xref='x', yref='y', text='A', showarrow=True, align='center',\n",
    "             arrowhead=2, arrowsize=1, arrowwidth=2, arrowcolor='#636363', ax=20,\n",
    "             ay=-30, bordercolor='#c7c7c7', borderwidth=2, borderpad=4,\n",
    "             bgcolor='orange', opacity=0.8), \n",
    "        dict(x=6, y=6, xref='x', yref='y', text='B', showarrow=True, align='center',\n",
    "             arrowhead=2, arrowsize=1, arrowwidth=2, arrowcolor='#636363', ax=20,\n",
    "             ay=-30, bordercolor='#c7c7c7', borderwidth=2, borderpad=4,\n",
    "             bgcolor='yellow', opacity=0.8),\n",
    "        dict(x=4, y=5, xref='x', yref='y',text='d', ay=-40), \n",
    "        dict(x=2, y=2, xref='x', yref='y', text='angle L', ax=80, ay=-10)\n",
    "    ], title=\"Latent Distance View Space\", showlegend=False\n",
    ")\n",
    "data = [trace1, trace2, trace3, trace4]\n",
    "figure = go.Figure(data=data, layout=layout)\n",
    "iplot(figure)"
   ]
  },
  {
   "cell_type": "markdown",
   "metadata": {},
   "source": [
    "그러나 여기서 로직/규칙에 관한 가장 중요한 질문은 점 B를 A와 각 L에 대해 나타낼 수 있는가라는 점입니다. 혹은 다른 용어로, B, A, L의 방정식은 무엇입니까? 고정된 식은 없지만 가장 가능한 방정식은 비지도 학습 과정을 통해 얻을 수 있다는 것이 그 답입니다. 간단히 말하면, 학습 과정은 B를 A와 L 형태로 바꾸는 규칙/방정식으로 나타낼 수 있습니다. 오토인코더 관점에서 이 과정을 이해해봅시다.  \n",
    "\n",
    "은닉층이 없는 오토인코더를 생각해보면, 입력값 x1과 x2는 낮은 표현 d로 인코딩된 후 x1과 x2에 추가로 투영됩니다.  \n",
    "\n",
    "![process](data/process.png)\n",
    "\n",
    "**Step 1: Latent view 공간에서 포인트 재현**  \n",
    "데이터 재현 공간에서 점 A와 B의 좌표는 다음과 같습니다:  \n",
    "* Point A: (x1A, x2A)\n",
    "* Point B: (x1B, x2B)\n",
    "\n",
    "이 좌표는 latent view 공간에서 다음과 같습니다:  \n",
    "(x1A, x2A) → (0, 0)  \n",
    "(x1B, x2B) → (u1B, u2B)  \n",
    "* Point A: (0, 0)\n",
    "* point B: (u1B, u2B)\n",
    "\n",
    "u1B와 u2B는 해당 점과 기준점 사이의 거리 형태로 나타내어질 수 있습니다:  \n",
    "u1B = x1B - x1A  \n",
    "u2B = x2B - x2A  \n",
    "\n",
    "**Step 2: 점을 거리 d와 각도 L로 표현**  \n",
    "이제, u1B와 u2B는 거리 d와 각도 L의 조합으로 나타낼 수 있습니다. 만약 이 점을 수직선 방향으로 각도 L만큼 회전하면 L은 0이 될 것입니다:  \n",
    "**(d, L) → (d, 0)** (회전 후)  \n",
    "\n",
    "이것은 인코딩 과정의 결과이며 저차원으로 데이터를 나타냅니다. 모든 layer의 weight과 bias를 가진 신경망의 기본 방정식을 상기해보자면 다음과 같습니다:  \n",
    "**(d, 0) = W.(u1B, u2B)** (encoding)  \n",
    "\n",
    "W는 은닉층의 weight 매트릭스입니다. 이런 이유로, 디코딩 과정은 인코딩 과정를 반사시킨 이미지라는 것을 알고 있습니다.  \n",
    "**(u1B, u2B) = Inverse(W).(d, 0)** (decoding)  \n",
    "\n",
    "latent view 공간에서 데이터 (x1, x2)의 축소된 형식은 (d, 0)이며 이것은 encoding architecture를 통해 얻어집니다. 유사하게 decoding architecture는 이 표현을 원래 형태 (u1B, u2B)로 변환한 다음 (x1, x2)로 변환합니다. 가장 중요한 점은 규칙/학습 함수/인코딩-디코딩 방정식은 데이터의 타입에 따라 달라진다는 점입니다."
   ]
  },
  {
   "cell_type": "markdown",
   "metadata": {},
   "source": [
    "#### Different Rules for Different Data\n",
    "모든 타입의 데이터에 같은 규칙을 적용할 수는 없습니다. 예를들어, 이전 예제에서 우리는 1차원의 선형 데이터 매니폴드를 투영하고 각 L을 제거했습니다. 다음 데이터 매니폴드 예제를 살펴봅시다."
   ]
  },
  {
   "cell_type": "code",
   "execution_count": 8,
   "metadata": {
    "execution": {
     "iopub.execute_input": "2021-02-16T09:29:46.761879Z",
     "iopub.status.busy": "2021-02-16T09:29:46.761879Z",
     "iopub.status.idle": "2021-02-16T09:29:47.034152Z",
     "shell.execute_reply": "2021-02-16T09:29:47.033175Z",
     "shell.execute_reply.started": "2021-02-16T09:29:46.761879Z"
    }
   },
   "outputs": [
    {
     "data": {
      "image/png": "[encoded data removed]",
      "text/plain": [
       "<Figure size 1080x288 with 1 Axes>"
      ]
     },
     "metadata": {
      "needs_background": "light"
     },
     "output_type": "display_data"
    }
   ],
   "source": [
    "import matplotlib.pyplot as plt\n",
    "import numpy as np\n",
    "fs = 100\n",
    "f = 2\n",
    "x = np.arange(fs)\n",
    "y = [np.sin(2 * np.pi * f * (i/fs)) for i in x]\n",
    "\n",
    "%matplotlib inline\n",
    "plt.figure(figsize=(15, 4))\n",
    "plt.stem(x, y, 'r',)\n",
    "plt.plot(x, y)\n",
    "plt.show()"
   ]
  },
  {
   "cell_type": "markdown",
   "metadata": {},
   "source": [
    "이러한 타입의 데이터에서 가장 중요한 문제점은 정보를 잃지 않고 단일 차원에서 데이터의 투영을 얻는 것입니다. 이러한 타입의 데이터가 latent space에 투영될 경우, 많은 정보가 손실되어 원래 형태로 변형시키고 투영하는 것이 거의 불가능합니다. 이동과 회전이 아무리 많이 적용되더라도 원본 데이터는 복구될 수 없습니다.  \n",
    "\n",
    "그렇다면 신경망은 어떻게 이러한 문제점을 해결할까요? 매니폴드 공간에서 심층 신경망은 선형 데이터 폴드 뷰를 얻기 위해 공간을 구부릴 수 있는 속성을 가지고 있습니다. 오토인코더 구조는 latent view space에서 이들이 낮은 수준의 재현을 학습할 수 있도록 은닉층에 이러한 속성을 적용합니다.  \n",
    "\n",
    "다음 이미지가 이러한 속성을 묘사합니다:  \n",
    "\n",
    "![bend the space](data/gKCOdiL.png)\n",
    "\n",
    "keras를 사용하여 오토인코더를 실행해봅시다. 먼저, 이미지로부터 feature들을 학습하고, 그 다음 같은 이미지를 결과로 투영해보겠습니다."
   ]
  },
  {
   "cell_type": "markdown",
   "metadata": {},
   "source": [
    "### 2. Implementation"
   ]
  },
  {
   "cell_type": "markdown",
   "metadata": {},
   "source": [
    "#### 2-1. UseCase 1: Image Reconstruction"
   ]
  },
  {
   "cell_type": "markdown",
   "metadata": {},
   "source": [
    "##### Load the required libraries"
   ]
  },
  {
   "cell_type": "code",
   "execution_count": 12,
   "metadata": {
    "execution": {
     "iopub.execute_input": "2021-02-16T09:57:10.769318Z",
     "iopub.status.busy": "2021-02-16T09:57:10.768321Z",
     "iopub.status.idle": "2021-02-16T09:57:10.783281Z",
     "shell.execute_reply": "2021-02-16T09:57:10.782313Z",
     "shell.execute_reply.started": "2021-02-16T09:57:10.769318Z"
    }
   },
   "outputs": [],
   "source": [
    "import pandas as pd\n",
    "import numpy as np\n",
    "from numpy import argmax, array_equal\n",
    "import matplotlib.pyplot as plt\n",
    "\n",
    "from keras.layers import Dense, Input, Conv2D, LSTM, MaxPool2D, UpSampling2D\n",
    "from sklearn.model_selection import train_test_split\n",
    "from keras.callbacks import EarlyStopping\n",
    "from keras.utils import to_categorical\n",
    "from keras.models import Model\n",
    "from imgaug import augmenters\n",
    "from random import randint"
   ]
  },
  {
   "cell_type": "markdown",
   "metadata": {},
   "source": [
    "##### Dataset Preparation\n",
    "데이터셋 로딩, 예측 변수와 타겟 분리, 입력 정규화"
   ]
  },
  {
   "cell_type": "code",
   "execution_count": 30,
   "metadata": {
    "execution": {
     "iopub.execute_input": "2021-02-16T10:01:26.598277Z",
     "iopub.status.busy": "2021-02-16T10:01:26.597279Z",
     "iopub.status.idle": "2021-02-16T10:01:32.129745Z",
     "shell.execute_reply": "2021-02-16T10:01:32.128730Z",
     "shell.execute_reply.started": "2021-02-16T10:01:26.598277Z"
    }
   },
   "outputs": [],
   "source": [
    "# read dataset\n",
    "train = pd.read_csv('data/fashion-mnist_train.csv')\n",
    "train_x = train.drop('label', axis=1).values\n",
    "train_y = train['label'].values\n",
    "\n",
    "# normalize and reshape the predictors\n",
    "train_x = train_x / 255\n",
    "\n",
    "# create train and validation datasets\n",
    "train_x, val_x, train_y, val_y = train_test_split(train_x, train_y, test_size=0.2)\n",
    "\n",
    "# reshape the inputs\n",
    "train_x = train_x.reshape(-1, 784)\n",
    "val_x = val_x.reshape(-1, 784)"
   ]
  },
  {
   "cell_type": "markdown",
   "metadata": {
    "execution": {
     "iopub.execute_input": "2021-02-16T10:00:09.740158Z",
     "iopub.status.busy": "2021-02-16T10:00:09.740158Z",
     "iopub.status.idle": "2021-02-16T10:00:09.999465Z",
     "shell.execute_reply": "2021-02-16T10:00:09.998466Z",
     "shell.execute_reply.started": "2021-02-16T10:00:09.740158Z"
    }
   },
   "source": [
    "##### Create Autoencoder architecture\n",
    "오토인코더 구조를 만들어봅시다. 인코딩 파트는 2000, 1200, 500개 노드 총 세 layer로 구성되어 있습니다. 인코딩 구조는 10개의 노드로 된 latent view space와 연결되어 있으며, 이것은 500, 1200, 2000개의 노드로 구성된 디코딩 구조와 연결됩니다. 최종 layer는 입력 layer와 동일한 노드의 개수로 구성되어 있습니다."
   ]
  },
  {
   "cell_type": "code",
   "execution_count": 31,
   "metadata": {
    "execution": {
     "iopub.execute_input": "2021-02-16T10:08:13.965096Z",
     "iopub.status.busy": "2021-02-16T10:08:13.965096Z",
     "iopub.status.idle": "2021-02-16T10:08:22.297321Z",
     "shell.execute_reply": "2021-02-16T10:08:22.296323Z",
     "shell.execute_reply.started": "2021-02-16T10:08:13.965096Z"
    }
   },
   "outputs": [],
   "source": [
    "# input layer\n",
    "input_layer = Input(shape=(784,))\n",
    "\n",
    "# encoding layer\n",
    "encode_layer1 = Dense(2000, activation='relu')(input_layer)\n",
    "encode_layer2 = Dense(1200, activation='relu')(encode_layer1)\n",
    "encode_layer3 = Dense( 500, activation='relu')(encode_layer2)\n",
    "\n",
    "# latent view\n",
    "latent_view = Dense(10, activation='sigmoid')(encode_layer3)\n",
    "\n",
    "# decoding layer\n",
    "decode_layer1 = Dense( 500, activation='relu')(latent_view)\n",
    "decode_layer2 = Dense(1200, activation='relu')(decode_layer1)\n",
    "decode_layer3 = Dense(2000, activation='relu')(decode_layer2)\n",
    "\n",
    "# output layer\n",
    "output_layer = Dense(784)(decode_layer3)\n",
    "\n",
    "model = Model(input_layer, output_layer)"
   ]
  },
  {
   "cell_type": "code",
   "execution_count": 32,
   "metadata": {
    "execution": {
     "iopub.execute_input": "2021-02-16T10:08:34.744277Z",
     "iopub.status.busy": "2021-02-16T10:08:34.744277Z",
     "iopub.status.idle": "2021-02-16T10:08:34.765222Z",
     "shell.execute_reply": "2021-02-16T10:08:34.764224Z",
     "shell.execute_reply.started": "2021-02-16T10:08:34.744277Z"
    }
   },
   "outputs": [
    {
     "name": "stdout",
     "output_type": "stream",
     "text": [
      "Model: \"model\"\n",
      "_________________________________________________________________\n",
      "Layer (type)                 Output Shape              Param #   \n",
      "=================================================================\n",
      "input_1 (InputLayer)         [(None, 784)]             0         \n",
      "_________________________________________________________________\n",
      "dense (Dense)                (None, 2000)              1570000   \n",
      "_________________________________________________________________\n",
      "dense_1 (Dense)              (None, 1200)              2401200   \n",
      "_________________________________________________________________\n",
      "dense_2 (Dense)              (None, 500)               600500    \n",
      "_________________________________________________________________\n",
      "dense_3 (Dense)              (None, 10)                5010      \n",
      "_________________________________________________________________\n",
      "dense_4 (Dense)              (None, 500)               5500      \n",
      "_________________________________________________________________\n",
      "dense_5 (Dense)              (None, 1200)              601200    \n",
      "_________________________________________________________________\n",
      "dense_6 (Dense)              (None, 2000)              2402000   \n",
      "_________________________________________________________________\n",
      "dense_7 (Dense)              (None, 784)               1568784   \n",
      "=================================================================\n",
      "Total params: 9,154,194\n",
      "Trainable params: 9,154,194\n",
      "Non-trainable params: 0\n",
      "_________________________________________________________________\n"
     ]
    }
   ],
   "source": [
    "model.summary()"
   ]
  },
  {
   "cell_type": "markdown",
   "metadata": {},
   "source": [
    "이제, early stoppig callback을 사용하여 모델을 훈련해보겠습니다."
   ]
  },
  {
   "cell_type": "code",
   "execution_count": 33,
   "metadata": {
    "execution": {
     "iopub.execute_input": "2021-02-16T10:11:27.855474Z",
     "iopub.status.busy": "2021-02-16T10:11:27.855474Z",
     "iopub.status.idle": "2021-02-16T10:16:29.641303Z",
     "shell.execute_reply": "2021-02-16T10:16:29.640304Z",
     "shell.execute_reply.started": "2021-02-16T10:11:27.855474Z"
    },
    "scrolled": true
   },
   "outputs": [
    {
     "name": "stdout",
     "output_type": "stream",
     "text": [
      "Epoch 1/20\n",
      "24/24 [==============================] - 16s 610ms/step - loss: 0.1193 - val_loss: 0.0668\n",
      "Epoch 2/20\n",
      "24/24 [==============================] - 15s 639ms/step - loss: 0.0628 - val_loss: 0.0487\n",
      "Epoch 3/20\n",
      "24/24 [==============================] - 15s 615ms/step - loss: 0.0462 - val_loss: 0.0401\n",
      "Epoch 4/20\n",
      "24/24 [==============================] - 15s 644ms/step - loss: 0.0390 - val_loss: 0.0373\n",
      "Epoch 5/20\n",
      "24/24 [==============================] - 15s 637ms/step - loss: 0.0370 - val_loss: 0.0338\n",
      "Epoch 6/20\n",
      "24/24 [==============================] - 15s 609ms/step - loss: 0.0331 - val_loss: 0.0312\n",
      "Epoch 7/20\n",
      "24/24 [==============================] - 14s 595ms/step - loss: 0.0305 - val_loss: 0.0290\n",
      "Epoch 8/20\n",
      "24/24 [==============================] - 14s 582ms/step - loss: 0.0281 - val_loss: 0.0265\n",
      "Epoch 9/20\n",
      "24/24 [==============================] - 16s 671ms/step - loss: 0.0260 - val_loss: 0.0253\n",
      "Epoch 10/20\n",
      "24/24 [==============================] - 15s 613ms/step - loss: 0.0246 - val_loss: 0.0237\n",
      "Epoch 11/20\n",
      "24/24 [==============================] - 16s 666ms/step - loss: 0.0233 - val_loss: 0.0248\n",
      "Epoch 12/20\n",
      "24/24 [==============================] - 16s 640ms/step - loss: 0.0231 - val_loss: 0.0219\n",
      "Epoch 13/20\n",
      "24/24 [==============================] - 14s 592ms/step - loss: 0.0217 - val_loss: 0.0212\n",
      "Epoch 14/20\n",
      "24/24 [==============================] - 15s 647ms/step - loss: 0.0209 - val_loss: 0.0214\n",
      "Epoch 15/20\n",
      "24/24 [==============================] - 16s 675ms/step - loss: 0.0206 - val_loss: 0.0201\n",
      "Epoch 16/20\n",
      "24/24 [==============================] - 16s 662ms/step - loss: 0.0199 - val_loss: 0.0196\n",
      "Epoch 17/20\n",
      "24/24 [==============================] - 15s 623ms/step - loss: 0.0194 - val_loss: 0.0192\n",
      "Epoch 18/20\n",
      "24/24 [==============================] - 14s 597ms/step - loss: 0.0192 - val_loss: 0.0189\n",
      "Epoch 19/20\n",
      "24/24 [==============================] - 14s 582ms/step - loss: 0.0186 - val_loss: 0.0183\n",
      "Epoch 20/20\n",
      "24/24 [==============================] - 15s 610ms/step - loss: 0.0182 - val_loss: 0.0187\n"
     ]
    },
    {
     "data": {
      "text/plain": [
       "<tensorflow.python.keras.callbacks.History at 0x1acdf0cd0a0>"
      ]
     },
     "execution_count": 33,
     "metadata": {},
     "output_type": "execute_result"
    }
   ],
   "source": [
    "model.compile(optimizer='adam', loss='mse')\n",
    "early_stopping = EarlyStopping(monitor='val_loss', min_delta=0, patience=10,\n",
    "                               verbose=1, mode='auto')\n",
    "model.fit(train_x, train_x, epochs=20, batch_size=2048,\n",
    "          validation_data=(val_x, val_x), callbacks=[early_stopping])"
   ]
  },
  {
   "cell_type": "markdown",
   "metadata": {},
   "source": [
    "검증 데이터로 예측결과를 만들어 보겠습니다."
   ]
  },
  {
   "cell_type": "code",
   "execution_count": 34,
   "metadata": {
    "execution": {
     "iopub.execute_input": "2021-02-16T10:16:45.574496Z",
     "iopub.status.busy": "2021-02-16T10:16:45.574496Z",
     "iopub.status.idle": "2021-02-16T10:16:52.130954Z",
     "shell.execute_reply": "2021-02-16T10:16:52.129956Z",
     "shell.execute_reply.started": "2021-02-16T10:16:45.574496Z"
    }
   },
   "outputs": [],
   "source": [
    "preds = model.predict(val_x)"
   ]
  },
  {
   "cell_type": "markdown",
   "metadata": {},
   "source": [
    "원래와 예측된 이미지를 시각화합니다.  \n",
    "**Inputs: 실제 이미지**"
   ]
  },
  {
   "cell_type": "code",
   "execution_count": 35,
   "metadata": {
    "execution": {
     "iopub.execute_input": "2021-02-16T10:17:43.952833Z",
     "iopub.status.busy": "2021-02-16T10:17:43.951843Z",
     "iopub.status.idle": "2021-02-16T10:17:45.367653Z",
     "shell.execute_reply": "2021-02-16T10:17:45.365657Z",
     "shell.execute_reply.started": "2021-02-16T10:17:43.952833Z"
    }
   },
   "outputs": [
    {
     "data": {
      "image/png": "[encoded data removed]",
      "text/plain": [
       "<Figure size 5760x2880 with 5 Axes>"
      ]
     },
     "metadata": {
      "needs_background": "light"
     },
     "output_type": "display_data"
    }
   ],
   "source": [
    "f, ax = plt.subplots(1, 5)\n",
    "f.set_size_inches(80, 40)\n",
    "for i in range(5):\n",
    "    ax[i].imshow(val_x[i].reshape(28, 28))\n",
    "plt.show()"
   ]
  },
  {
   "cell_type": "markdown",
   "metadata": {},
   "source": [
    "**Predicted: 오토인코더 결과**"
   ]
  },
  {
   "cell_type": "code",
   "execution_count": 38,
   "metadata": {
    "execution": {
     "iopub.execute_input": "2021-02-16T10:18:25.005064Z",
     "iopub.status.busy": "2021-02-16T10:18:25.004066Z",
     "iopub.status.idle": "2021-02-16T10:18:26.313804Z",
     "shell.execute_reply": "2021-02-16T10:18:26.312806Z",
     "shell.execute_reply.started": "2021-02-16T10:18:25.005064Z"
    }
   },
   "outputs": [
    {
     "data": {
      "image/png": "[encoded data removed]",
      "text/plain": [
       "<Figure size 5760x2880 with 5 Axes>"
      ]
     },
     "metadata": {
      "needs_background": "light"
     },
     "output_type": "display_data"
    }
   ],
   "source": [
    "f, ax = plt.subplots(1, 5)\n",
    "f.set_size_inches(80, 40)\n",
    "for i in range(5):\n",
    "    ax[i].imshow(preds[i].reshape(28, 28))\n",
    "plt.show()"
   ]
  },
  {
   "cell_type": "markdown",
   "metadata": {},
   "source": [
    "#### 2-2. UseCase 2: Image Denoising\n",
    "오토인코더는 매우 유용합니다. 오토인코더의 또다른 응용인 이미지 노이즈 제거에 대해 살펴봅시다. 많은 경우에 이미지는 데이터에 노이즈를 가지고 있으며, 오토인코더는 그러한 이미지를 제거하는데 사용할 수 있습니다.  \n",
    "\n",
    "![denoising](data/denoising-autoencoder-600x299.jpg)  \n",
    "\n",
    "먼저, 이미지 픽셀을 가지고 있는 train_x와 val_x 데이터를 준비해봅시다."
   ]
  },
  {
   "cell_type": "code",
   "execution_count": 41,
   "metadata": {
    "execution": {
     "iopub.execute_input": "2021-02-16T10:19:56.860591Z",
     "iopub.status.busy": "2021-02-16T10:19:56.860591Z",
     "iopub.status.idle": "2021-02-16T10:19:58.515164Z",
     "shell.execute_reply": "2021-02-16T10:19:58.514206Z",
     "shell.execute_reply.started": "2021-02-16T10:19:56.860591Z"
    }
   },
   "outputs": [],
   "source": [
    "# recreate the train_x array and val_x array\n",
    "train_x = train.drop('label', axis=1).values\n",
    "train_x, val_x = train_test_split(train_x, test_size=0.2)\n",
    "\n",
    "# normalize and reshape\n",
    "train_x = train_x / 255.\n",
    "val_x = val_x / 255."
   ]
  },
  {
   "cell_type": "markdown",
   "metadata": {},
   "source": [
    "오토인코더 네트워크에서 우리는 합성곱 네트워크가 이미지 입력에 매우 적합하기 대문에 합성곱 layer를 추가할 것입니다. 합성곱을 이미지 데이터에 적용하기 위해 우리는 입력을 28\\*28 형태로 바꿔야합니다. CNN에 관련된 자세한 정보는 [이전 커널](https://www.kaggle.com/shivamb/a-very-comprehensive-tutorial-nn-cnn)을 참고하세요."
   ]
  },
  {
   "cell_type": "code",
   "execution_count": 42,
   "metadata": {
    "execution": {
     "iopub.execute_input": "2021-02-16T10:23:14.228179Z",
     "iopub.status.busy": "2021-02-16T10:23:14.228179Z",
     "iopub.status.idle": "2021-02-16T10:23:14.233167Z",
     "shell.execute_reply": "2021-02-16T10:23:14.232176Z",
     "shell.execute_reply.started": "2021-02-16T10:23:14.228179Z"
    }
   },
   "outputs": [],
   "source": [
    "train_x = train_x.reshape(-1, 28, 28, 1)\n",
    "val_x = val_x.reshape(-1, 28, 28, 1)"
   ]
  },
  {
   "cell_type": "markdown",
   "metadata": {},
   "source": [
    "##### Noisy Image\n",
    "의도적으로 이미지에 노이즈를 넣을 수 있습니다. 저는 다양한 변형으로 이미지를 늘리기 위해 imgaug 패키지를 사용합니다. 이러한 변형 중 하나는 노이즈의 도입일 수 있습니다. 다음과 같은 또다른 타입의 노이즈들 또한 추가될 수 있습니다:  \n",
    "* Salt and Pepper Noise\n",
    "* Gaussian Noise\n",
    "* Periodic Noise\n",
    "* Speckle Noise  \n",
    "\n",
    "impulse noise로도 알려진 salt and pepper noise를 우리 데이터에 적용해보겠습니다. 이 노이즈는 이미지 신호에 급격한 장애를 발생시키며, 여기저기 흰색과 검은색 픽셀들을 나타나게 합니다."
   ]
  },
  {
   "cell_type": "code",
   "execution_count": 44,
   "metadata": {
    "execution": {
     "iopub.execute_input": "2021-02-16T10:32:34.454700Z",
     "iopub.status.busy": "2021-02-16T10:32:34.454700Z",
     "iopub.status.idle": "2021-02-16T10:32:51.035751Z",
     "shell.execute_reply": "2021-02-16T10:32:51.035751Z",
     "shell.execute_reply.started": "2021-02-16T10:32:34.454700Z"
    }
   },
   "outputs": [],
   "source": [
    "# Let's add sample noise - Salt and Pepper\n",
    "noise = augmenters.SaltAndPepper(0.1)\n",
    "seq_object = augmenters.Sequential([noise])\n",
    "\n",
    "train_x_n = seq_object.augment_images(train_x * 255) / 255\n",
    "val_x_n = seq_object.augment_images(val_x * 255) / 255"
   ]
  },
  {
   "cell_type": "markdown",
   "metadata": {},
   "source": [
    "노이즈 추가 전"
   ]
  },
  {
   "cell_type": "code",
   "execution_count": 45,
   "metadata": {
    "execution": {
     "iopub.execute_input": "2021-02-16T10:33:13.110175Z",
     "iopub.status.busy": "2021-02-16T10:33:13.109177Z",
     "iopub.status.idle": "2021-02-16T10:33:14.646067Z",
     "shell.execute_reply": "2021-02-16T10:33:14.645067Z",
     "shell.execute_reply.started": "2021-02-16T10:33:13.110175Z"
    }
   },
   "outputs": [
    {
     "data": {
      "image/png": "[encoded data removed]",
      "text/plain": [
       "<Figure size 5760x2880 with 5 Axes>"
      ]
     },
     "metadata": {
      "needs_background": "light"
     },
     "output_type": "display_data"
    }
   ],
   "source": [
    "f, ax = plt.subplots(1, 5)\n",
    "f.set_size_inches(80, 40)\n",
    "for i in range(5, 10):\n",
    "    ax[i-5].imshow(train_x[i].reshape(28, 28))\n",
    "plt.show()"
   ]
  },
  {
   "cell_type": "markdown",
   "metadata": {},
   "source": [
    "노이즈 추가 후"
   ]
  },
  {
   "cell_type": "code",
   "execution_count": 46,
   "metadata": {
    "execution": {
     "iopub.execute_input": "2021-02-16T10:34:00.822107Z",
     "iopub.status.busy": "2021-02-16T10:34:00.821110Z",
     "iopub.status.idle": "2021-02-16T10:34:02.287187Z",
     "shell.execute_reply": "2021-02-16T10:34:02.286189Z",
     "shell.execute_reply.started": "2021-02-16T10:34:00.822107Z"
    }
   },
   "outputs": [
    {
     "data": {
      "image/png": "[encoded data removed]",
      "text/plain": [
       "<Figure size 5760x2880 with 5 Axes>"
      ]
     },
     "metadata": {
      "needs_background": "light"
     },
     "output_type": "display_data"
    }
   ],
   "source": [
    "f, ax = plt.subplots(1, 5)\n",
    "f.set_size_inches(80, 40)\n",
    "for i in range(5, 10):\n",
    "    ax[i-5].imshow(train_x_n[i].reshape(28, 28))\n",
    "plt.show()"
   ]
  },
  {
   "cell_type": "markdown",
   "metadata": {},
   "source": [
    "이제 오토인코더를 위한 모델 구조를 만들어 보겠습니다. 이러한 문제를 해결하기 위해 어떤 타입의 네트워크가 필요할지 이해해봅시다.  \n",
    "\n",
    "**Encoding Architecture:**  \n",
    "encoding architecture는 3개의 convolution layer와 3개의 max pooling layer가 차례차례 쌓인 구조로 이루어져 있습니다. relu가 convolution layer의 활성 함수로 사용되며 padding은 'same'으로 유지합니다. max pooling layer의 역할은 이미지 차원을 다운샘플링하는 것입니다. 이 layer는 초기 표현의 겹치지 않는 하위 영역에 대해 최대 필터를 적용합니다.  \n",
    "\n",
    "**Decoding Architecture:**  \n",
    "decoding architecture에서도 유사하게 convolution layer는 encoding architecture와 같은 차원을 사용합니다. 그러나 3개의 max pooling layer 대신 3개의 upsampling layer를 추가합니다. 활성 함수는 이전과 동일하며, convolution layer에서 padding 또한 동일합니다. max pooling 작업은 되돌릴 수 없으나, 각 pooling 지역 내 최대 위치를 기록함으로써 비슷하게 되돌릴 수 있습니다. upsampling layer는 이 속성을 사용하여 낮은 차원의 feature space에서 재구성을 투영합니다."
   ]
  },
  {
   "cell_type": "code",
   "execution_count": 54,
   "metadata": {
    "execution": {
     "iopub.execute_input": "2021-02-16T11:06:53.181311Z",
     "iopub.status.busy": "2021-02-16T11:06:53.181311Z",
     "iopub.status.idle": "2021-02-16T11:06:53.647064Z",
     "shell.execute_reply": "2021-02-16T11:06:53.646065Z",
     "shell.execute_reply.started": "2021-02-16T11:06:53.181311Z"
    }
   },
   "outputs": [],
   "source": [
    "# input layer\n",
    "input_layer = Input(shape=(28, 28, 1))\n",
    "\n",
    "# encoding architecture\n",
    "encoded_layer1 = Conv2D(64, (3, 3), activation='relu', padding='same')(input_layer)\n",
    "encoded_layer1 = MaxPool2D( (2, 2), padding='same')(encoded_layer1)\n",
    "encoded_layer2 = Conv2D(32, (3, 3), activation='relu', padding='same')(encoded_layer1)\n",
    "encoded_layer2 = MaxPool2D( (2, 2), padding='same')(encoded_layer2)\n",
    "encoded_layer3 = Conv2D(16, (3, 3), activation='relu', padding='same')(encoded_layer2)\n",
    "\n",
    "# latent view\n",
    "latent_view   = MaxPool2D( (2, 2), padding='same')(encoded_layer3)\n",
    "\n",
    "# decoding architecture\n",
    "decoded_layer1 = Conv2D(  16, (3, 3), activation='relu', padding='same')(latent_view)\n",
    "decoded_layer1 = UpSampling2D((2, 2))(decoded_layer1)\n",
    "decoded_layer2 = Conv2D(  32, (3, 3), activation='relu', padding='same')(decoded_layer1)\n",
    "decoded_layer2 = UpSampling2D((2, 2))(decoded_layer2)\n",
    "decoded_layer3 = Conv2D(  64, (3, 3), activation='relu')(decoded_layer2)\n",
    "decoded_layer3 = UpSampling2D((2, 2))(decoded_layer3)\n",
    "\n",
    "# output layer\n",
    "output_layer = Conv2D(1, (3, 3), padding='same')(decoded_layer3)\n",
    "\n",
    "# compile the model\n",
    "model_2 = Model(input_layer, output_layer)\n",
    "model_2.compile(optimizer='adam', loss='mse')"
   ]
  },
  {
   "cell_type": "code",
   "execution_count": 55,
   "metadata": {
    "execution": {
     "iopub.execute_input": "2021-02-16T11:06:53.648062Z",
     "iopub.status.busy": "2021-02-16T11:06:53.648062Z",
     "iopub.status.idle": "2021-02-16T11:06:53.662025Z",
     "shell.execute_reply": "2021-02-16T11:06:53.661027Z",
     "shell.execute_reply.started": "2021-02-16T11:06:53.648062Z"
    }
   },
   "outputs": [
    {
     "name": "stdout",
     "output_type": "stream",
     "text": [
      "Model: \"model_3\"\n",
      "_________________________________________________________________\n",
      "Layer (type)                 Output Shape              Param #   \n",
      "=================================================================\n",
      "input_5 (InputLayer)         [(None, 28, 28, 1)]       0         \n",
      "_________________________________________________________________\n",
      "conv2d_16 (Conv2D)           (None, 28, 28, 64)        640       \n",
      "_________________________________________________________________\n",
      "max_pooling2d_9 (MaxPooling2 (None, 14, 14, 64)        0         \n",
      "_________________________________________________________________\n",
      "conv2d_17 (Conv2D)           (None, 14, 14, 32)        18464     \n",
      "_________________________________________________________________\n",
      "max_pooling2d_10 (MaxPooling (None, 7, 7, 32)          0         \n",
      "_________________________________________________________________\n",
      "conv2d_18 (Conv2D)           (None, 7, 7, 16)          4624      \n",
      "_________________________________________________________________\n",
      "max_pooling2d_11 (MaxPooling (None, 4, 4, 16)          0         \n",
      "_________________________________________________________________\n",
      "conv2d_19 (Conv2D)           (None, 4, 4, 16)          2320      \n",
      "_________________________________________________________________\n",
      "up_sampling2d_6 (UpSampling2 (None, 8, 8, 16)          0         \n",
      "_________________________________________________________________\n",
      "conv2d_20 (Conv2D)           (None, 8, 8, 32)          4640      \n",
      "_________________________________________________________________\n",
      "up_sampling2d_7 (UpSampling2 (None, 16, 16, 32)        0         \n",
      "_________________________________________________________________\n",
      "conv2d_21 (Conv2D)           (None, 14, 14, 64)        18496     \n",
      "_________________________________________________________________\n",
      "up_sampling2d_8 (UpSampling2 (None, 28, 28, 64)        0         \n",
      "_________________________________________________________________\n",
      "conv2d_22 (Conv2D)           (None, 28, 28, 1)         577       \n",
      "=================================================================\n",
      "Total params: 49,761\n",
      "Trainable params: 49,761\n",
      "Non-trainable params: 0\n",
      "_________________________________________________________________\n"
     ]
    }
   ],
   "source": [
    "model_2.summary()"
   ]
  },
  {
   "cell_type": "markdown",
   "metadata": {},
   "source": [
    "early stopping callback을 사용하여 모델을 학습해 보겠습니다. epochs 값을 높일수록 더 나은 결과가 나옵니다."
   ]
  },
  {
   "cell_type": "code",
   "execution_count": 56,
   "metadata": {
    "execution": {
     "iopub.execute_input": "2021-02-16T11:06:56.396700Z",
     "iopub.status.busy": "2021-02-16T11:06:56.396700Z",
     "iopub.status.idle": "2021-02-16T11:28:38.214279Z",
     "shell.execute_reply": "2021-02-16T11:28:38.212284Z",
     "shell.execute_reply.started": "2021-02-16T11:06:56.396700Z"
    },
    "scrolled": true
   },
   "outputs": [
    {
     "name": "stdout",
     "output_type": "stream",
     "text": [
      "Epoch 1/10\n",
      "24/24 [==============================] - 141s 6s/step - loss: 0.1281 - val_loss: 0.0606\n",
      "Epoch 2/10\n",
      "24/24 [==============================] - 135s 6s/step - loss: 0.0531 - val_loss: 0.0397\n",
      "Epoch 3/10\n",
      "24/24 [==============================] - 127s 5s/step - loss: 0.0376 - val_loss: 0.0332\n",
      "Epoch 4/10\n",
      "24/24 [==============================] - 129s 5s/step - loss: 0.0322 - val_loss: 0.0293\n",
      "Epoch 5/10\n",
      "24/24 [==============================] - 130s 5s/step - loss: 0.0286 - val_loss: 0.0269\n",
      "Epoch 6/10\n",
      "24/24 [==============================] - 128s 5s/step - loss: 0.0264 - val_loss: 0.0253\n",
      "Epoch 7/10\n",
      "24/24 [==============================] - 130s 5s/step - loss: 0.0253 - val_loss: 0.0240\n",
      "Epoch 8/10\n",
      "24/24 [==============================] - 125s 5s/step - loss: 0.0237 - val_loss: 0.0229\n",
      "Epoch 9/10\n",
      "24/24 [==============================] - 128s 5s/step - loss: 0.0227 - val_loss: 0.0220\n",
      "Epoch 10/10\n",
      "24/24 [==============================] - 130s 5s/step - loss: 0.0218 - val_loss: 0.0212\n"
     ]
    }
   ],
   "source": [
    "early_stopping = EarlyStopping(monitor='val_loss', min_delta=0, patience=10,\n",
    "                               verbose=5, mode='auto')\n",
    "history = model_2.fit(train_x_n, train_x, epochs=10, batch_size=2048,\n",
    "                      validation_data=(val_x_n, val_x), callbacks=[early_stopping])"
   ]
  },
  {
   "cell_type": "markdown",
   "metadata": {},
   "source": [
    "모델의 예측 결과를 얻어봅시다."
   ]
  },
  {
   "cell_type": "code",
   "execution_count": 59,
   "metadata": {
    "execution": {
     "iopub.execute_input": "2021-02-16T11:29:23.399500Z",
     "iopub.status.busy": "2021-02-16T11:29:23.399500Z",
     "iopub.status.idle": "2021-02-16T11:29:25.131687Z",
     "shell.execute_reply": "2021-02-16T11:29:25.130689Z",
     "shell.execute_reply.started": "2021-02-16T11:29:23.399500Z"
    }
   },
   "outputs": [
    {
     "data": {
      "image/png": "[encoded data removed]",
      "text/plain": [
       "<Figure size 5760x2880 with 5 Axes>"
      ]
     },
     "metadata": {
      "needs_background": "light"
     },
     "output_type": "display_data"
    }
   ],
   "source": [
    "preds = model_2.predict(val_x_n[:10])\n",
    "f, ax = plt.subplots(1, 5)\n",
    "f.set_size_inches(80, 40)\n",
    "for i in range(5, 10):\n",
    "    ax[i-5].imshow(preds[i].reshape(28, 28))\n",
    "plt.show()"
   ]
  },
  {
   "cell_type": "markdown",
   "metadata": {},
   "source": [
    "이 실행에서는 epochs 값을 크게 적용하지 않았지만 더 나은 예측을 위해서는 500 - 1000 범위의 큰 숫자를 적용할 수 있습니다."
   ]
  },
  {
   "cell_type": "markdown",
   "metadata": {},
   "source": [
    "#### 2-3. UseCase 3: Sequence to Sequence Prediction using AutoEncoders\n",
    "다음 유즈케이스는 sequence to sequence 예측입니다. 이전 예제에서 우리는 2차원 데이터를 입력하였으며, 이번 예제에서는 1차원적인 sequence 데이터를 입력할 것입니다. sequence 데이터의 예로는 시리즈 데이터와 텍스트 데이터가 있습니다. 이 유즈케이스는 기계 번역에 적용될 수 있습니다. 이미지 예제의 CNN과는 다르게 이 유즈케이스에서는 LSTM을 사용할 것입니다.  \n",
    "\n",
    "이 섹션에서 대부분의 코드는 [Jason Brownie의 레퍼런스](https://machinelearningmastery.com/develop-encoder-decoder-model-sequence-sequence-prediction-keras)를 참고했습니다."
   ]
  },
  {
   "cell_type": "markdown",
   "metadata": {},
   "source": [
    "##### Autoencoder Architecture\n",
    "이 유즈케이스의 구조는 소스 sequence를 인코딩하는 인코더와 인코딩된 소스 sequence를 타깃 sequence로 디코딩하는 디코더로 구성되어 있습니다. 먼저, 여기서 사용할 LSTM의 내부 작업을 이해해봅시다.  \n",
    "\n",
    "* Long Short-Term Memory(LSTM)는 내부 게이트로 구성된 반복 신경망입니다.\n",
    "* 다른 신경망들과는 다르게 네트워크의 내부 게이트는 backpropagation through time(BPTT)을 사용하여 모델을 성공적으로 훈련시키며, 기울기가 사라지는 문제를 피할 수 있게 합니다.\n",
    "* LSTM layer에서 LSTM 메모리 유닛의 수를 정의할 수 있습니다. layer 내 각 유닛/셀은 'c'라고 하는 내부 메모리/셀 상태를 가지고 있으며, 종종 'h'라는 은닉 상태를 출력합니다.\n",
    "* keras를 사용하여 LSTM layer의 현재 상태뿐만 아니라 출력 상태까지도 접근할 수 있습니다.  \n",
    "\n",
    "이제 LSTM layer로 이루어진 sequence를 학습하고 생성하기 위한 오토인코더 구조를 만들어봅시다. 여기에는 두 가지 요소가 있습니다:  \n",
    "* encoder architecture는 입력으로 sequence를 취하며 출력으로 LSTM의 상태를 반환합니다.\n",
    "* decoder architecture는 입력으로 sequence와 encoder LSTM 상태를 취하며 디코딩된 출력 sequence를 반환합니다.\n",
    "* LSTM의 은닉 상태와 메모리 상태를 저장하고 접근하여 보이지 않는 데이터에 대한 예측을 생성하는데 사용합니다.  \n",
    "\n",
    "먼저, 고정된 길이의 random sequence를 포함한 sequence 데이터셋을 생성합니다. random sequence를 생성하는 함수를 만들겠습니다.\n",
    "* X1: 무작위 숫자를 포함한 입력 sequence\n",
    "* X2: 다른 sequence 요소를 재현하기 위한 seed로 사용하는 padded sequence\n",
    "* y: 타깃 sequence나 실제 sequence"
   ]
  },
  {
   "cell_type": "code",
   "execution_count": 60,
   "metadata": {
    "execution": {
     "iopub.execute_input": "2021-02-16T11:34:18.008300Z",
     "iopub.status.busy": "2021-02-16T11:34:18.008300Z",
     "iopub.status.idle": "2021-02-16T11:34:24.279138Z",
     "shell.execute_reply": "2021-02-16T11:34:24.278140Z",
     "shell.execute_reply.started": "2021-02-16T11:34:18.008300Z"
    }
   },
   "outputs": [
    {
     "name": "stdout",
     "output_type": "stream",
     "text": [
      "Shapes: (100000, 6, 51) (100000, 3, 51) (100000, 3, 51)\n",
      "Here is first categorically encoded input sequence looks like:\n"
     ]
    },
    {
     "data": {
      "text/plain": [
       "array([0., 0., 0., 0., 0., 0., 0., 0., 0., 0., 0., 0., 0., 0., 0., 0., 0.,\n",
       "       1., 0., 0., 0., 0., 0., 0., 0., 0., 0., 0., 0., 0., 0., 0., 0., 0.,\n",
       "       0., 0., 0., 0., 0., 0., 0., 0., 0., 0., 0., 0., 0., 0., 0., 0., 0.],\n",
       "      dtype=float32)"
      ]
     },
     "execution_count": 60,
     "metadata": {},
     "output_type": "execute_result"
    }
   ],
   "source": [
    "def dataset_preparation(n_in, n_out, n_unique, n_samples):\n",
    "    X1, X2, y = [], [], []\n",
    "    for _ in range(n_samples):\n",
    "        # create random numbers sequence - input\n",
    "        inp_seq = [randint(1, n_unique-1) for _ in range(n_in)]\n",
    "        \n",
    "        # create target sequence\n",
    "        target = inp_seq[:n_out]\n",
    "        \n",
    "        # create padded sequence / seed sequence\n",
    "        target_seq = list(reversed(target))\n",
    "        seed_seq = [0] + target_seq[:-1]\n",
    "        \n",
    "        # convert to elements to categorical using keras api\n",
    "        X1.append(to_categorical([inp_seq], num_classes=n_unique))\n",
    "        X2.append(to_categorical([seed_seq], num_classes=n_unique))\n",
    "        y.append(to_categorical([target_seq], num_classes=n_unique))\n",
    "    \n",
    "    # remove unnecessary dimension\n",
    "    X1 = np.squeeze(np.array(X1), axis=1)\n",
    "    X2 = np.squeeze(np.array(X2), axis=1)\n",
    "    y = np.squeeze(np.array(y), axis=1)\n",
    "    return X1, X2, y\n",
    "\n",
    "samples = 100000\n",
    "features = 51\n",
    "inp_size = 6\n",
    "out_size = 3\n",
    "\n",
    "inputs, seeds, outputs = dataset_preparation(inp_size, out_size, features, samples)\n",
    "print('Shapes:', inputs.shape, seeds.shape, outputs.shape)\n",
    "print('Here is first categorically encoded input sequence looks like:',)\n",
    "inputs[0][0]"
   ]
  },
  {
   "cell_type": "code",
   "execution_count": 67,
   "metadata": {
    "execution": {
     "iopub.execute_input": "2021-02-16T11:45:30.500020Z",
     "iopub.status.busy": "2021-02-16T11:45:30.500020Z",
     "iopub.status.idle": "2021-02-16T11:45:31.600079Z",
     "shell.execute_reply": "2021-02-16T11:45:31.599088Z",
     "shell.execute_reply.started": "2021-02-16T11:45:30.500020Z"
    }
   },
   "outputs": [],
   "source": [
    "def define_models(n_input, n_output):\n",
    "    # define the encoder architecture\n",
    "    # input: sequence\n",
    "    # output: encoder states\n",
    "    encoder_inputs = Input(shape=(None, n_input))\n",
    "    encoder = LSTM(128, return_state=True)\n",
    "    encoder_outputs, state_h, state_c = encoder(encoder_inputs)\n",
    "    encoder_states = [state_h, state_c]\n",
    "    \n",
    "    # define the encoder-decoder architecture\n",
    "    # input: a seed sequence\n",
    "    # output: decoder state, decoded output\n",
    "    decoder_inputs = Input(shape=(None, n_output))\n",
    "    decoder_lstm = LSTM(128, return_sequences=True, return_state=True)\n",
    "    decoder_outputs, _, _ = decoder_lstm(decoder_inputs, initial_state=encoder_states)\n",
    "    decoder_dense = Dense(n_output, activation='softmax')\n",
    "    decoder_outputs = decoder_dense(decoder_outputs)\n",
    "    model = Model([encoder_inputs, decoder_inputs], decoder_outputs)\n",
    "    \n",
    "    # define the decoder model\n",
    "    # input: current states + encoded sequence\n",
    "    # output: decoded sequence\n",
    "    encoder_model = Model(encoder_inputs, encoder_states)\n",
    "    decoder_state_input_h = Input(shape=(128,))\n",
    "    decoder_state_input_c = Input(shape=(128,))\n",
    "    decoder_states_inputs = [decoder_state_input_h, decoder_state_input_c]\n",
    "    decoder_outputs, state_h, state_c = decoder_lstm(decoder_inputs, initial_state=decoder_states_inputs)\n",
    "    decoder_states = [state_h, state_c]\n",
    "    decoder_outputs = decoder_dense(decoder_outputs)\n",
    "    decoder_model = Model([decoder_inputs] + decoder_states_inputs,\n",
    "                          [decoder_outputs] + decoder_states)\n",
    "    \n",
    "    return model, encoder_model, decoder_model\n",
    "\n",
    "autoencoder, encoder_model, decoder_model = define_models(features, features)"
   ]
  },
  {
   "cell_type": "code",
   "execution_count": 68,
   "metadata": {
    "execution": {
     "iopub.execute_input": "2021-02-16T11:45:40.831631Z",
     "iopub.status.busy": "2021-02-16T11:45:40.830631Z",
     "iopub.status.idle": "2021-02-16T11:45:40.845591Z",
     "shell.execute_reply": "2021-02-16T11:45:40.844592Z",
     "shell.execute_reply.started": "2021-02-16T11:45:40.831631Z"
    }
   },
   "outputs": [
    {
     "name": "stdout",
     "output_type": "stream",
     "text": [
      "Model: \"model_11\"\n",
      "_________________________________________________________________\n",
      "Layer (type)                 Output Shape              Param #   \n",
      "=================================================================\n",
      "input_21 (InputLayer)        [(None, None, 51)]        0         \n",
      "_________________________________________________________________\n",
      "lstm_11 (LSTM)               [(None, 128), (None, 128) 92160     \n",
      "=================================================================\n",
      "Total params: 92,160\n",
      "Trainable params: 92,160\n",
      "Non-trainable params: 0\n",
      "_________________________________________________________________\n"
     ]
    }
   ],
   "source": [
    "encoder_model.summary()"
   ]
  },
  {
   "cell_type": "code",
   "execution_count": 69,
   "metadata": {
    "execution": {
     "iopub.execute_input": "2021-02-16T11:45:46.671136Z",
     "iopub.status.busy": "2021-02-16T11:45:46.670139Z",
     "iopub.status.idle": "2021-02-16T11:45:46.692081Z",
     "shell.execute_reply": "2021-02-16T11:45:46.691084Z",
     "shell.execute_reply.started": "2021-02-16T11:45:46.671136Z"
    }
   },
   "outputs": [
    {
     "name": "stdout",
     "output_type": "stream",
     "text": [
      "Model: \"model_12\"\n",
      "__________________________________________________________________________________________________\n",
      "Layer (type)                    Output Shape         Param #     Connected to                     \n",
      "==================================================================================================\n",
      "input_22 (InputLayer)           [(None, None, 51)]   0                                            \n",
      "__________________________________________________________________________________________________\n",
      "input_23 (InputLayer)           [(None, 128)]        0                                            \n",
      "__________________________________________________________________________________________________\n",
      "input_24 (InputLayer)           [(None, 128)]        0                                            \n",
      "__________________________________________________________________________________________________\n",
      "lstm_12 (LSTM)                  [(None, None, 128),  92160       input_22[0][0]                   \n",
      "                                                                 input_23[0][0]                   \n",
      "                                                                 input_24[0][0]                   \n",
      "__________________________________________________________________________________________________\n",
      "dense_11 (Dense)                (None, None, 51)     6579        lstm_12[1][0]                    \n",
      "==================================================================================================\n",
      "Total params: 98,739\n",
      "Trainable params: 98,739\n",
      "Non-trainable params: 0\n",
      "__________________________________________________________________________________________________\n"
     ]
    }
   ],
   "source": [
    "decoder_model.summary()"
   ]
  },
  {
   "cell_type": "code",
   "execution_count": 70,
   "metadata": {
    "execution": {
     "iopub.execute_input": "2021-02-16T11:45:55.741796Z",
     "iopub.status.busy": "2021-02-16T11:45:55.741796Z",
     "iopub.status.idle": "2021-02-16T11:45:55.750772Z",
     "shell.execute_reply": "2021-02-16T11:45:55.749775Z",
     "shell.execute_reply.started": "2021-02-16T11:45:55.741796Z"
    }
   },
   "outputs": [
    {
     "name": "stdout",
     "output_type": "stream",
     "text": [
      "Model: \"model_10\"\n",
      "__________________________________________________________________________________________________\n",
      "Layer (type)                    Output Shape         Param #     Connected to                     \n",
      "==================================================================================================\n",
      "input_21 (InputLayer)           [(None, None, 51)]   0                                            \n",
      "__________________________________________________________________________________________________\n",
      "input_22 (InputLayer)           [(None, None, 51)]   0                                            \n",
      "__________________________________________________________________________________________________\n",
      "lstm_11 (LSTM)                  [(None, 128), (None, 92160       input_21[0][0]                   \n",
      "__________________________________________________________________________________________________\n",
      "lstm_12 (LSTM)                  [(None, None, 128),  92160       input_22[0][0]                   \n",
      "                                                                 lstm_11[0][1]                    \n",
      "                                                                 lstm_11[0][2]                    \n",
      "__________________________________________________________________________________________________\n",
      "dense_11 (Dense)                (None, None, 51)     6579        lstm_12[0][0]                    \n",
      "==================================================================================================\n",
      "Total params: 190,899\n",
      "Trainable params: 190,899\n",
      "Non-trainable params: 0\n",
      "__________________________________________________________________________________________________\n"
     ]
    }
   ],
   "source": [
    "autoencoder.summary()"
   ]
  },
  {
   "cell_type": "code",
   "execution_count": 71,
   "metadata": {
    "execution": {
     "iopub.execute_input": "2021-02-16T11:46:32.350510Z",
     "iopub.status.busy": "2021-02-16T11:46:32.350510Z",
     "iopub.status.idle": "2021-02-16T11:46:55.066302Z",
     "shell.execute_reply": "2021-02-16T11:46:55.065305Z",
     "shell.execute_reply.started": "2021-02-16T11:46:32.350510Z"
    }
   },
   "outputs": [
    {
     "name": "stdout",
     "output_type": "stream",
     "text": [
      "3125/3125 [==============================] - 23s 6ms/step - loss: 1.4462 - acc: 0.5546\n"
     ]
    },
    {
     "data": {
      "text/plain": [
       "<tensorflow.python.keras.callbacks.History at 0x1ad2b253c40>"
      ]
     },
     "execution_count": 71,
     "metadata": {},
     "output_type": "execute_result"
    }
   ],
   "source": [
    "autoencoder.compile(optimizer='adam', loss='categorical_crossentropy', metrics=['acc'])\n",
    "autoencoder.fit([inputs, seeds], outputs, epochs=1)"
   ]
  },
  {
   "cell_type": "markdown",
   "metadata": {},
   "source": [
    "입력 sequence를 기반으로 하여 예측 sequence를 생성하는 함수를 만들겠습니다."
   ]
  },
  {
   "cell_type": "code",
   "execution_count": 72,
   "metadata": {
    "execution": {
     "iopub.execute_input": "2021-02-16T11:47:41.317862Z",
     "iopub.status.busy": "2021-02-16T11:47:41.317862Z",
     "iopub.status.idle": "2021-02-16T11:47:41.326838Z",
     "shell.execute_reply": "2021-02-16T11:47:41.325841Z",
     "shell.execute_reply.started": "2021-02-16T11:47:41.317862Z"
    }
   },
   "outputs": [],
   "source": [
    "def reverse_onehot(encoded_seq):\n",
    "    return [argmax(vector) for vector in encoded_seq]"
   ]
  },
  {
   "cell_type": "code",
   "execution_count": 73,
   "metadata": {
    "execution": {
     "iopub.execute_input": "2021-02-16T11:48:56.160113Z",
     "iopub.status.busy": "2021-02-16T11:48:56.160113Z",
     "iopub.status.idle": "2021-02-16T11:48:56.172080Z",
     "shell.execute_reply": "2021-02-16T11:48:56.171107Z",
     "shell.execute_reply.started": "2021-02-16T11:48:56.160113Z"
    }
   },
   "outputs": [],
   "source": [
    "def predict_sequence(encoder, decoder, sequence):\n",
    "    output = []\n",
    "    target_seq = np.array([0.0 for _ in range(features)])\n",
    "    target_seq = target_seq.reshape(1, 1, features)\n",
    "    \n",
    "    current_state = encoder.predict(sequence)\n",
    "    for t in range(out_size):\n",
    "        pred, h, c = decoder.predict([target_seq] + current_state)\n",
    "        output.append(pred[0, 0, :])\n",
    "        current_state = [h, c]\n",
    "        target_seq = pred\n",
    "    return np.array(output)"
   ]
  },
  {
   "cell_type": "code",
   "execution_count": 74,
   "metadata": {
    "execution": {
     "iopub.execute_input": "2021-02-16T11:50:17.656547Z",
     "iopub.status.busy": "2021-02-16T11:50:17.655549Z",
     "iopub.status.idle": "2021-02-16T11:50:20.490548Z",
     "shell.execute_reply": "2021-02-16T11:50:20.489550Z",
     "shell.execute_reply.started": "2021-02-16T11:50:17.656547Z"
    }
   },
   "outputs": [
    {
     "name": "stdout",
     "output_type": "stream",
     "text": [
      "\n",
      "Input Sequence=[18, 35, 42, 44, 43, 40], SeedSequence=[42, 35, 18], PredictedSequence=[42, 35, 18]\n",
      "\n",
      "Input Sequence=[7, 3, 20, 26, 22, 31], SeedSequence=[20, 3, 7], PredictedSequence=[20, 3, 7]\n",
      "\n",
      "Input Sequence=[23, 50, 5, 50, 41, 24], SeedSequence=[5, 50, 23], PredictedSequence=[5, 50, 23]\n",
      "\n",
      "Input Sequence=[5, 47, 31, 30, 22, 6], SeedSequence=[31, 47, 5], PredictedSequence=[31, 47, 5]\n",
      "\n",
      "Input Sequence=[39, 39, 10, 11, 22, 32], SeedSequence=[10, 39, 39], PredictedSequence=[10, 39, 39]\n"
     ]
    }
   ],
   "source": [
    "for k in range(5):\n",
    "    X1, X2, y = dataset_preparation(inp_size, out_size, features, 1)\n",
    "    target = predict_sequence(encoder_model, decoder_model, X1)\n",
    "    print('\\nInput Sequence=%s, SeedSequence=%s, PredictedSequence=%s'\n",
    "          %(reverse_onehot(X1[0]), reverse_onehot(y[0]), reverse_onehot(target)))"
   ]
  }
 ],
 "metadata": {
  "kernelspec": {
   "display_name": "Python 3",
   "language": "python",
   "name": "python3"
  },
  "language_info": {
   "codemirror_mode": {
    "name": "ipython",
    "version": 3
   },
   "file_extension": ".py",
   "mimetype": "text/x-python",
   "name": "python",
   "nbconvert_exporter": "python",
   "pygments_lexer": "ipython3",
   "version": "3.8.5"
  }
 },
 "nbformat": 4,
 "nbformat_minor": 4
}
