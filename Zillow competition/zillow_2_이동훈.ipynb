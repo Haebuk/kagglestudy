{
 "cells": [
  {
   "cell_type": "markdown",
   "metadata": {},
   "source": [
    "# kaggle study 31일차(zillow)\n",
    "코드출처 :https://www.kaggle.com/anokas/simple-xgboost-starter-0-0655"
   ]
  },
  {
   "cell_type": "code",
   "execution_count": 1,
   "metadata": {
    "ExecuteTime": {
     "end_time": "2021-03-01T03:18:44.476732Z",
     "start_time": "2021-03-01T03:18:42.180870Z"
    }
   },
   "outputs": [],
   "source": [
    "import numpy as np\n",
    "import pandas as pd\n",
    "import xgboost as xgb\n",
    "import gc"
   ]
  },
  {
   "cell_type": "markdown",
   "metadata": {},
   "source": [
    "\n",
    "### Loading data"
   ]
  },
  {
   "cell_type": "code",
   "execution_count": 2,
   "metadata": {
    "ExecuteTime": {
     "end_time": "2021-03-01T03:18:59.265393Z",
     "start_time": "2021-03-01T03:18:44.478727Z"
    }
   },
   "outputs": [
    {
     "name": "stderr",
     "output_type": "stream",
     "text": [
      "C:\\Anaconda\\lib\\site-packages\\IPython\\core\\interactiveshell.py:3146: DtypeWarning: Columns (22,32,34,49,55) have mixed types.Specify dtype option on import or set low_memory=False.\n",
      "  has_raised = await self.run_ast_nodes(code_ast.body, cell_name,\n"
     ]
    }
   ],
   "source": [
    "train = pd.read_csv('C:/Users/이동훈/Desktop/github/kaggle/kagglestudy/Data/zillow/train_2016_v2.csv')\n",
    "prop = pd.read_csv('C:/Users/이동훈/Desktop/github/kaggle/kagglestudy/Data/zillow/properties_2016.csv')\n",
    "sample = pd.read_csv('C:/Users/이동훈/Desktop/github/kaggle/kagglestudy/Data/zillow//sample_submission.csv')"
   ]
  },
  {
   "cell_type": "markdown",
   "metadata": {},
   "source": [
    "### Binding to float32"
   ]
  },
  {
   "cell_type": "code",
   "execution_count": 3,
   "metadata": {
    "ExecuteTime": {
     "end_time": "2021-03-01T03:19:19.536899Z",
     "start_time": "2021-03-01T03:18:59.269383Z"
    }
   },
   "outputs": [],
   "source": [
    "for c, dtype in zip(prop.columns, prop.dtypes):\n",
    "    if dtype == np.float64:\n",
    "        prop[c] = prop[c].astype(np.float32)"
   ]
  },
  {
   "cell_type": "markdown",
   "metadata": {},
   "source": [
    "### Creating training set\n"
   ]
  },
  {
   "cell_type": "code",
   "execution_count": 4,
   "metadata": {
    "ExecuteTime": {
     "end_time": "2021-03-01T03:19:22.933818Z",
     "start_time": "2021-03-01T03:19:19.538894Z"
    }
   },
   "outputs": [
    {
     "name": "stdout",
     "output_type": "stream",
     "text": [
      "(90275, 55) (90275,)\n"
     ]
    }
   ],
   "source": [
    "df_train = train.merge(prop, how='left', on='parcelid')\n",
    "\n",
    "x_train = df_train.drop(['parcelid', 'logerror', 'transactiondate', 'propertyzoningdesc', 'propertycountylandusecode'], axis=1)\n",
    "y_train = df_train['logerror'].values\n",
    "print(x_train.shape, y_train.shape)\n",
    "\n",
    "train_columns = x_train.columns\n",
    "\n",
    "for c in x_train.dtypes[x_train.dtypes == object].index.values:\n",
    "    x_train[c] = (x_train[c] == True)\n",
    "\n",
    "del df_train; gc.collect()\n",
    "\n",
    "split = 80000\n",
    "x_train, y_train, x_valid, y_valid = x_train[:split], y_train[:split], x_train[split:], y_train[split:]"
   ]
  },
  {
   "cell_type": "markdown",
   "metadata": {},
   "source": [
    "### Building DMatrix"
   ]
  },
  {
   "cell_type": "code",
   "execution_count": 5,
   "metadata": {
    "ExecuteTime": {
     "end_time": "2021-03-01T03:19:23.451433Z",
     "start_time": "2021-03-01T03:19:22.934815Z"
    }
   },
   "outputs": [
    {
     "data": {
      "text/plain": [
       "31"
      ]
     },
     "execution_count": 5,
     "metadata": {},
     "output_type": "execute_result"
    }
   ],
   "source": [
    "d_train = xgb.DMatrix(x_train, label=y_train)\n",
    "d_valid = xgb.DMatrix(x_valid, label=y_valid)\n",
    "\n",
    "del x_train, x_valid; gc.collect()\n"
   ]
  },
  {
   "cell_type": "markdown",
   "metadata": {},
   "source": [
    "### Training"
   ]
  },
  {
   "cell_type": "code",
   "execution_count": 6,
   "metadata": {
    "ExecuteTime": {
     "end_time": "2021-03-01T03:19:53.440585Z",
     "start_time": "2021-03-01T03:19:23.454426Z"
    }
   },
   "outputs": [
    {
     "name": "stdout",
     "output_type": "stream",
     "text": [
      "[12:19:23] WARNING: C:/Users/Administrator/workspace/xgboost-win64_release_1.3.0/src/objective/regression_obj.cu:170: reg:linear is now deprecated in favor of reg:squarederror.\n",
      "[12:19:24] WARNING: C:/Users/Administrator/workspace/xgboost-win64_release_1.3.0/src/learner.cc:541: \n",
      "Parameters: { silent } might not be used.\n",
      "\n",
      "  This may not be accurate due to some parameters are only used in language bindings but\n",
      "  passed down to XGBoost core.  Or some parameters are not used but slip through this\n",
      "  verification. Please open an issue if you find above cases.\n",
      "\n",
      "\n",
      "[0]\ttrain-mae:0.48807\tvalid-mae:0.48112\n",
      "[10]\ttrain-mae:0.40222\tvalid-mae:0.39544\n",
      "[20]\ttrain-mae:0.33268\tvalid-mae:0.32610\n",
      "[30]\ttrain-mae:0.27652\tvalid-mae:0.27013\n",
      "[40]\ttrain-mae:0.23132\tvalid-mae:0.22521\n",
      "[50]\ttrain-mae:0.19506\tvalid-mae:0.18933\n",
      "[60]\ttrain-mae:0.16612\tvalid-mae:0.16073\n",
      "[70]\ttrain-mae:0.14312\tvalid-mae:0.13805\n",
      "[80]\ttrain-mae:0.12497\tvalid-mae:0.12024\n",
      "[90]\ttrain-mae:0.11078\tvalid-mae:0.10635\n",
      "[100]\ttrain-mae:0.09982\tvalid-mae:0.09570\n",
      "[110]\ttrain-mae:0.09145\tvalid-mae:0.08761\n",
      "[120]\ttrain-mae:0.08514\tvalid-mae:0.08160\n",
      "[130]\ttrain-mae:0.08045\tvalid-mae:0.07723\n",
      "[140]\ttrain-mae:0.07700\tvalid-mae:0.07408\n",
      "[150]\ttrain-mae:0.07450\tvalid-mae:0.07184\n",
      "[160]\ttrain-mae:0.07268\tvalid-mae:0.07025\n",
      "[170]\ttrain-mae:0.07136\tvalid-mae:0.06914\n",
      "[180]\ttrain-mae:0.07040\tvalid-mae:0.06839\n",
      "[190]\ttrain-mae:0.06970\tvalid-mae:0.06788\n",
      "[200]\ttrain-mae:0.06919\tvalid-mae:0.06753\n",
      "[210]\ttrain-mae:0.06882\tvalid-mae:0.06729\n",
      "[220]\ttrain-mae:0.06854\tvalid-mae:0.06714\n",
      "[230]\ttrain-mae:0.06833\tvalid-mae:0.06703\n",
      "[240]\ttrain-mae:0.06816\tvalid-mae:0.06696\n",
      "[250]\ttrain-mae:0.06803\tvalid-mae:0.06691\n",
      "[260]\ttrain-mae:0.06794\tvalid-mae:0.06689\n",
      "[270]\ttrain-mae:0.06786\tvalid-mae:0.06687\n",
      "[280]\ttrain-mae:0.06779\tvalid-mae:0.06686\n",
      "[290]\ttrain-mae:0.06774\tvalid-mae:0.06687\n",
      "[300]\ttrain-mae:0.06769\tvalid-mae:0.06686\n",
      "[310]\ttrain-mae:0.06765\tvalid-mae:0.06686\n",
      "[320]\ttrain-mae:0.06762\tvalid-mae:0.06687\n",
      "[330]\ttrain-mae:0.06759\tvalid-mae:0.06687\n",
      "[340]\ttrain-mae:0.06757\tvalid-mae:0.06688\n",
      "[350]\ttrain-mae:0.06754\tvalid-mae:0.06689\n",
      "[360]\ttrain-mae:0.06752\tvalid-mae:0.06689\n",
      "[370]\ttrain-mae:0.06750\tvalid-mae:0.06690\n",
      "[380]\ttrain-mae:0.06749\tvalid-mae:0.06691\n",
      "[390]\ttrain-mae:0.06747\tvalid-mae:0.06692\n",
      "[400]\ttrain-mae:0.06745\tvalid-mae:0.06693\n",
      "[401]\ttrain-mae:0.06745\tvalid-mae:0.06693\n"
     ]
    }
   ],
   "source": [
    "params = {}\n",
    "params['eta'] = 0.02\n",
    "params['objective'] = 'reg:linear'\n",
    "params['eval_metric'] = 'mae'\n",
    "params['max_depth'] = 4\n",
    "params['silent'] = 1\n",
    "\n",
    "watchlist = [(d_train, 'train'), (d_valid, 'valid')]\n",
    "clf = xgb.train(params, d_train, 10000, watchlist, early_stopping_rounds=100, verbose_eval=10)\n",
    "\n",
    "del d_train, d_valid\n"
   ]
  },
  {
   "cell_type": "markdown",
   "metadata": {},
   "source": [
    "### Building test set"
   ]
  },
  {
   "cell_type": "code",
   "execution_count": 7,
   "metadata": {
    "ExecuteTime": {
     "end_time": "2021-03-01T03:21:25.232934Z",
     "start_time": "2021-03-01T03:19:53.455546Z"
    }
   },
   "outputs": [
    {
     "name": "stderr",
     "output_type": "stream",
     "text": [
      "<ipython-input-7-3829caa3446f>:8: SettingWithCopyWarning: \n",
      "A value is trying to be set on a copy of a slice from a DataFrame.\n",
      "Try using .loc[row_indexer,col_indexer] = value instead\n",
      "\n",
      "See the caveats in the documentation: https://pandas.pydata.org/pandas-docs/stable/user_guide/indexing.html#returning-a-view-versus-a-copy\n",
      "  x_test[c] = (x_test[c] == True)\n"
     ]
    },
    {
     "data": {
      "text/plain": [
       "9"
      ]
     },
     "execution_count": 7,
     "metadata": {},
     "output_type": "execute_result"
    }
   ],
   "source": [
    "sample['parcelid'] = sample['ParcelId']\n",
    "df_test = sample.merge(prop, on='parcelid', how='left')\n",
    "\n",
    "del prop; gc.collect()\n",
    "\n",
    "x_test = df_test[train_columns]\n",
    "for c in x_test.dtypes[x_test.dtypes == object].index.values:\n",
    "    x_test[c] = (x_test[c] == True)\n",
    "\n",
    "del df_test, sample; gc.collect()\n",
    "\n",
    "d_test = xgb.DMatrix(x_test)\n",
    "\n",
    "del x_test; gc.collect()\n"
   ]
  },
  {
   "cell_type": "markdown",
   "metadata": {},
   "source": [
    "### Predicting on test"
   ]
  },
  {
   "cell_type": "code",
   "execution_count": 8,
   "metadata": {
    "ExecuteTime": {
     "end_time": "2021-03-01T03:21:29.559360Z",
     "start_time": "2021-03-01T03:21:25.239928Z"
    }
   },
   "outputs": [],
   "source": [
    "p_test = clf.predict(d_test)\n",
    "\n",
    "del d_test; gc.collect()\n",
    "\n",
    "sub = pd.read_csv('C:/Users/이동훈/Desktop/github/kaggle/kagglestudy/Data/zillow//sample_submission.csv')\n",
    "for c in sub.columns[sub.columns != 'ParcelId']:\n",
    "    sub[c] = p_test"
   ]
  },
  {
   "cell_type": "markdown",
   "metadata": {},
   "source": [
    "### Writing csv"
   ]
  },
  {
   "cell_type": "code",
   "execution_count": 9,
   "metadata": {
    "ExecuteTime": {
     "end_time": "2021-03-01T03:21:59.945170Z",
     "start_time": "2021-03-01T03:21:29.561354Z"
    }
   },
   "outputs": [],
   "source": [
    "sub.to_csv('xgb_starter.csv', index=False, float_format='%.4f') # Thanks to @inversion"
   ]
  },
  {
   "cell_type": "code",
   "execution_count": null,
   "metadata": {},
   "outputs": [],
   "source": []
  }
 ],
 "metadata": {
  "kernelspec": {
   "display_name": "Python 3",
   "language": "python",
   "name": "python3"
  },
  "language_info": {
   "codemirror_mode": {
    "name": "ipython",
    "version": 3
   },
   "file_extension": ".py",
   "mimetype": "text/x-python",
   "name": "python",
   "nbconvert_exporter": "python",
   "pygments_lexer": "ipython3",
   "version": "3.8.5"
  },
  "toc": {
   "base_numbering": 1,
   "nav_menu": {},
   "number_sections": true,
   "sideBar": true,
   "skip_h1_title": false,
   "title_cell": "Table of Contents",
   "title_sidebar": "Contents",
   "toc_cell": false,
   "toc_position": {},
   "toc_section_display": true,
   "toc_window_display": false
  }
 },
 "nbformat": 4,
 "nbformat_minor": 4
}
