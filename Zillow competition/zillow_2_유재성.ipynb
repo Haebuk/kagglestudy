{
 "cells": [
  {
   "cell_type": "markdown",
   "id": "dimensional-bermuda",
   "metadata": {},
   "source": [
    "# Simple XGBoost starter\n",
    "https://www.kaggle.com/anokas/simple-xgboost-starter-0-0655"
   ]
  },
  {
   "cell_type": "code",
   "execution_count": 1,
   "id": "quarterly-recruitment",
   "metadata": {
    "ExecuteTime": {
     "end_time": "2021-03-01T02:05:53.890428Z",
     "start_time": "2021-03-01T02:05:52.614269Z"
    }
   },
   "outputs": [],
   "source": [
    "import numpy as np\n",
    "import pandas as pd\n",
    "import xgboost as xgb\n",
    "import gc"
   ]
  },
  {
   "cell_type": "code",
   "execution_count": 3,
   "id": "golden-democrat",
   "metadata": {
    "ExecuteTime": {
     "end_time": "2021-03-01T02:17:57.887520Z",
     "start_time": "2021-03-01T02:17:15.258788Z"
    }
   },
   "outputs": [
    {
     "name": "stdout",
     "output_type": "stream",
     "text": [
      "Loading data...\n"
     ]
    },
    {
     "name": "stderr",
     "output_type": "stream",
     "text": [
      "C:\\ProgramData\\Anaconda3\\envs\\tens_2g\\lib\\site-packages\\IPython\\core\\interactiveshell.py:3156: DtypeWarning: Columns (22,32,34,49,55) have mixed types.Specify dtype option on import or set low_memory=False.\n",
      "  interactivity=interactivity, compiler=compiler, result=result)\n"
     ]
    },
    {
     "name": "stdout",
     "output_type": "stream",
     "text": [
      "Binding to float32\n",
      "Creating training set...\n",
      "(90275, 55) (90275,)\n",
      "Building DMatrix...\n",
      "Training...\n",
      "[0]\ttrain-mae:0.488065\tvalid-mae:0.481119\n",
      "Multiple eval metrics have been passed: 'valid-mae' will be used for early stopping.\n",
      "\n",
      "Will train until valid-mae hasn't improved in 100 rounds.\n",
      "[10]\ttrain-mae:0.402221\tvalid-mae:0.395444\n",
      "[20]\ttrain-mae:0.332679\tvalid-mae:0.326099\n",
      "[30]\ttrain-mae:0.276518\tvalid-mae:0.270132\n",
      "[40]\ttrain-mae:0.231316\tvalid-mae:0.225214\n",
      "[50]\ttrain-mae:0.195057\tvalid-mae:0.189328\n",
      "[60]\ttrain-mae:0.166122\tvalid-mae:0.160725\n",
      "[70]\ttrain-mae:0.143116\tvalid-mae:0.13805\n",
      "[80]\ttrain-mae:0.124973\tvalid-mae:0.120241\n",
      "[90]\ttrain-mae:0.110785\tvalid-mae:0.106352\n",
      "[100]\ttrain-mae:0.099816\tvalid-mae:0.095695\n",
      "[110]\ttrain-mae:0.091452\tvalid-mae:0.087611\n",
      "[120]\ttrain-mae:0.085136\tvalid-mae:0.081602\n",
      "[130]\ttrain-mae:0.080447\tvalid-mae:0.077224\n",
      "[140]\ttrain-mae:0.077012\tvalid-mae:0.074089\n",
      "[150]\ttrain-mae:0.074499\tvalid-mae:0.07184\n",
      "[160]\ttrain-mae:0.072682\tvalid-mae:0.070257\n",
      "[170]\ttrain-mae:0.071361\tvalid-mae:0.069146\n",
      "[180]\ttrain-mae:0.070406\tvalid-mae:0.068383\n",
      "[190]\ttrain-mae:0.06971\tvalid-mae:0.067882\n",
      "[200]\ttrain-mae:0.0692\tvalid-mae:0.067532\n",
      "[210]\ttrain-mae:0.068821\tvalid-mae:0.067292\n",
      "[220]\ttrain-mae:0.068541\tvalid-mae:0.067139\n",
      "[230]\ttrain-mae:0.068328\tvalid-mae:0.067037\n",
      "[240]\ttrain-mae:0.068161\tvalid-mae:0.066967\n",
      "[250]\ttrain-mae:0.068034\tvalid-mae:0.066927\n",
      "[260]\ttrain-mae:0.067932\tvalid-mae:0.066906\n",
      "[270]\ttrain-mae:0.067852\tvalid-mae:0.066887\n",
      "[280]\ttrain-mae:0.067791\tvalid-mae:0.066882\n",
      "[290]\ttrain-mae:0.067737\tvalid-mae:0.066876\n",
      "[300]\ttrain-mae:0.06769\tvalid-mae:0.066874\n",
      "[310]\ttrain-mae:0.067649\tvalid-mae:0.066877\n",
      "[320]\ttrain-mae:0.067618\tvalid-mae:0.066878\n",
      "[330]\ttrain-mae:0.067589\tvalid-mae:0.066885\n",
      "[340]\ttrain-mae:0.067561\tvalid-mae:0.066893\n",
      "[350]\ttrain-mae:0.06754\tvalid-mae:0.066895\n",
      "[360]\ttrain-mae:0.067521\tvalid-mae:0.066906\n",
      "[370]\ttrain-mae:0.067502\tvalid-mae:0.066915\n",
      "[380]\ttrain-mae:0.067484\tvalid-mae:0.066919\n",
      "[390]\ttrain-mae:0.067467\tvalid-mae:0.066926\n",
      "Stopping. Best iteration:\n",
      "[298]\ttrain-mae:0.0677\tvalid-mae:0.066873\n",
      "\n",
      "Building test set...\n"
     ]
    },
    {
     "name": "stderr",
     "output_type": "stream",
     "text": [
      "C:\\ProgramData\\Anaconda3\\envs\\tens_2g\\lib\\site-packages\\ipykernel_launcher.py:58: SettingWithCopyWarning: \n",
      "A value is trying to be set on a copy of a slice from a DataFrame.\n",
      "Try using .loc[row_indexer,col_indexer] = value instead\n",
      "\n",
      "See the caveats in the documentation: https://pandas.pydata.org/pandas-docs/stable/user_guide/indexing.html#returning-a-view-versus-a-copy\n"
     ]
    },
    {
     "name": "stdout",
     "output_type": "stream",
     "text": [
      "Predicting on test...\n",
      "Writing csv...\n"
     ]
    }
   ],
   "source": [
    "print('Loading data...')\n",
    "train = pd.read_csv('./input/train_2016_v2.csv')\n",
    "prop = pd.read_csv('./input/properties_2016.csv')\n",
    "sample = pd.read_csv('./input/sample_submission.csv')\n",
    "\n",
    "print('Binding to float32')\n",
    "for c, dtype in zip(prop.columns, prop.dtypes):\n",
    "    if dtype == np.float64:\n",
    "        prop[c] = prop[c].astype(np.float32)\n",
    "        \n",
    "print('Creating training set...')\n",
    "df_train = train.merge(prop, how='left', on='parcelid')\n",
    "\n",
    "x_train = df_train.drop(['parcelid', 'logerror', 'transactiondate', 'propertyzoningdesc', 'propertycountylandusecode'], axis=1)\n",
    "y_train = df_train['logerror'].values\n",
    "print(x_train.shape, y_train.shape)\n",
    "\n",
    "train_columns = x_train.columns\n",
    "\n",
    "for c in x_train.dtypes[x_train.dtypes == object].index.values:\n",
    "    x_train[c] = (x_train[c] == True)\n",
    "    \n",
    "del df_train; gc.collect()\n",
    "\n",
    "split = 80000\n",
    "x_train, y_train, x_valid, y_valid = x_train[:split], y_train[:split], x_train[split:], y_train[split:]\n",
    "\n",
    "print('Building DMatrix...')\n",
    "\n",
    "d_train = xgb.DMatrix(x_train, label=y_train)\n",
    "d_valid = xgb.DMatrix(x_valid, label=y_valid)\n",
    "\n",
    "del x_train, x_valid; gc.collect()\n",
    "\n",
    "print('Training...')\n",
    "\n",
    "params = {}\n",
    "params['eta'] = 0.02\n",
    "params['objective'] = \"reg:linear\"\n",
    "params['eval_metric'] = 'mae'\n",
    "params['max_depth'] = 4\n",
    "params['silent'] = 1\n",
    "\n",
    "watchlist = [(d_train, 'train'), (d_valid, 'valid')]\n",
    "clf = xgb.train(params, d_train, 10000, watchlist, early_stopping_rounds=100, verbose_eval=10)\n",
    "\n",
    "del d_train, d_valid\n",
    "\n",
    "print('Building test set...')\n",
    "\n",
    "sample['parcelid'] = sample['ParcelId']\n",
    "df_test = sample.merge(prop, on='parcelid', how='left')\n",
    "\n",
    "del prop; gc.collect()\n",
    "\n",
    "x_test = df_test[train_columns]\n",
    "for c in x_test.dtypes[x_test.dtypes == object].index.values:\n",
    "    x_test[c] = (x_test[c] == True)\n",
    "    \n",
    "del df_test, sample; gc.collect()\n",
    "\n",
    "d_test = xgb.DMatrix(x_test)\n",
    "del x_test; gc.collect()\n",
    "\n",
    "print(\"Predicting on test...\")\n",
    "\n",
    "p_test = clf.predict(d_test)\n",
    "\n",
    "del d_test; gc.collect()\n",
    "\n",
    "sub = pd.read_csv('./input/sample_submission.csv')\n",
    "for c in sub.columns[sub.columns != 'ParcelId']:\n",
    "    sub[c]: p_test\n",
    "\n",
    "print('Writing csv...')\n",
    "sub.to_csv('xgb_starter.csv', index=False, float_format='%.4f')"
   ]
  }
 ],
 "metadata": {
  "kernelspec": {
   "display_name": "Python 3",
   "language": "python",
   "name": "python3"
  },
  "language_info": {
   "codemirror_mode": {
    "name": "ipython",
    "version": 3
   },
   "file_extension": ".py",
   "mimetype": "text/x-python",
   "name": "python",
   "nbconvert_exporter": "python",
   "pygments_lexer": "ipython3",
   "version": "3.7.9"
  },
  "toc": {
   "base_numbering": 1,
   "nav_menu": {},
   "number_sections": false,
   "sideBar": true,
   "skip_h1_title": false,
   "title_cell": "Table of Contents",
   "title_sidebar": "Contents",
   "toc_cell": false,
   "toc_position": {},
   "toc_section_display": true,
   "toc_window_display": false
  }
 },
 "nbformat": 4,
 "nbformat_minor": 5
}
