{
 "cells": [
  {
   "cell_type": "markdown",
   "id": "tough-novelty",
   "metadata": {},
   "source": [
    "# Day 31 - Simple XGBoost Starter"
   ]
  },
  {
   "cell_type": "markdown",
   "id": "closed-swing",
   "metadata": {},
   "source": [
    "https://www.kaggle.com/anokas/simple-xgboost-starter-0-0655"
   ]
  },
  {
   "cell_type": "code",
   "execution_count": 1,
   "id": "acknowledged-velvet",
   "metadata": {
    "ExecuteTime": {
     "end_time": "2021-03-01T04:44:33.888314Z",
     "start_time": "2021-03-01T04:44:25.528653Z"
    }
   },
   "outputs": [],
   "source": [
    "import numpy as np\n",
    "import pandas as pd\n",
    "import xgboost as xgb\n",
    "import gc"
   ]
  },
  {
   "cell_type": "code",
   "execution_count": 6,
   "id": "foster-dependence",
   "metadata": {
    "ExecuteTime": {
     "end_time": "2021-03-01T04:47:25.704549Z",
     "start_time": "2021-03-01T04:47:09.379030Z"
    }
   },
   "outputs": [
    {
     "name": "stderr",
     "output_type": "stream",
     "text": [
      "c:\\anaconda3\\envs\\study\\lib\\site-packages\\IPython\\core\\interactiveshell.py:3155: DtypeWarning: Columns (22,32,34,49,55) have mixed types.Specify dtype option on import or set low_memory=False.\n",
      "  has_raised = await self.run_ast_nodes(code_ast.body, cell_name,\n"
     ]
    },
    {
     "data": {
      "text/html": [
       "<div>\n",
       "<style scoped>\n",
       "    .dataframe tbody tr th:only-of-type {\n",
       "        vertical-align: middle;\n",
       "    }\n",
       "\n",
       "    .dataframe tbody tr th {\n",
       "        vertical-align: top;\n",
       "    }\n",
       "\n",
       "    .dataframe thead th {\n",
       "        text-align: right;\n",
       "    }\n",
       "</style>\n",
       "<table border=\"1\" class=\"dataframe\">\n",
       "  <thead>\n",
       "    <tr style=\"text-align: right;\">\n",
       "      <th></th>\n",
       "      <th>parcelid</th>\n",
       "      <th>logerror</th>\n",
       "      <th>transactiondate</th>\n",
       "    </tr>\n",
       "  </thead>\n",
       "  <tbody>\n",
       "    <tr>\n",
       "      <th>0</th>\n",
       "      <td>11016594</td>\n",
       "      <td>0.0276</td>\n",
       "      <td>2016-01-01</td>\n",
       "    </tr>\n",
       "    <tr>\n",
       "      <th>1</th>\n",
       "      <td>14366692</td>\n",
       "      <td>-0.1684</td>\n",
       "      <td>2016-01-01</td>\n",
       "    </tr>\n",
       "  </tbody>\n",
       "</table>\n",
       "</div>"
      ],
      "text/plain": [
       "   parcelid  logerror transactiondate\n",
       "0  11016594    0.0276      2016-01-01\n",
       "1  14366692   -0.1684      2016-01-01"
      ]
     },
     "execution_count": 6,
     "metadata": {},
     "output_type": "execute_result"
    }
   ],
   "source": [
    "# Load data\n",
    "\n",
    "train = pd.read_csv('../input/train_2016_v2.csv')\n",
    "prop = pd.read_csv('../input/properties_2016.csv')\n",
    "sample = pd.read_csv('../input/sample_submission.csv')\n",
    "\n",
    "train.head(2)"
   ]
  },
  {
   "cell_type": "code",
   "execution_count": 7,
   "id": "young-surname",
   "metadata": {
    "ExecuteTime": {
     "end_time": "2021-03-01T04:47:27.415958Z",
     "start_time": "2021-03-01T04:47:27.361104Z"
    }
   },
   "outputs": [
    {
     "data": {
      "text/html": [
       "<div>\n",
       "<style scoped>\n",
       "    .dataframe tbody tr th:only-of-type {\n",
       "        vertical-align: middle;\n",
       "    }\n",
       "\n",
       "    .dataframe tbody tr th {\n",
       "        vertical-align: top;\n",
       "    }\n",
       "\n",
       "    .dataframe thead th {\n",
       "        text-align: right;\n",
       "    }\n",
       "</style>\n",
       "<table border=\"1\" class=\"dataframe\">\n",
       "  <thead>\n",
       "    <tr style=\"text-align: right;\">\n",
       "      <th></th>\n",
       "      <th>parcelid</th>\n",
       "      <th>airconditioningtypeid</th>\n",
       "      <th>architecturalstyletypeid</th>\n",
       "      <th>basementsqft</th>\n",
       "      <th>bathroomcnt</th>\n",
       "      <th>bedroomcnt</th>\n",
       "      <th>buildingclasstypeid</th>\n",
       "      <th>buildingqualitytypeid</th>\n",
       "      <th>calculatedbathnbr</th>\n",
       "      <th>decktypeid</th>\n",
       "      <th>...</th>\n",
       "      <th>numberofstories</th>\n",
       "      <th>fireplaceflag</th>\n",
       "      <th>structuretaxvaluedollarcnt</th>\n",
       "      <th>taxvaluedollarcnt</th>\n",
       "      <th>assessmentyear</th>\n",
       "      <th>landtaxvaluedollarcnt</th>\n",
       "      <th>taxamount</th>\n",
       "      <th>taxdelinquencyflag</th>\n",
       "      <th>taxdelinquencyyear</th>\n",
       "      <th>censustractandblock</th>\n",
       "    </tr>\n",
       "  </thead>\n",
       "  <tbody>\n",
       "    <tr>\n",
       "      <th>0</th>\n",
       "      <td>10754147</td>\n",
       "      <td>NaN</td>\n",
       "      <td>NaN</td>\n",
       "      <td>NaN</td>\n",
       "      <td>0.0</td>\n",
       "      <td>0.0</td>\n",
       "      <td>NaN</td>\n",
       "      <td>NaN</td>\n",
       "      <td>NaN</td>\n",
       "      <td>NaN</td>\n",
       "      <td>...</td>\n",
       "      <td>NaN</td>\n",
       "      <td>NaN</td>\n",
       "      <td>NaN</td>\n",
       "      <td>9.0</td>\n",
       "      <td>2015.0</td>\n",
       "      <td>9.0</td>\n",
       "      <td>NaN</td>\n",
       "      <td>NaN</td>\n",
       "      <td>NaN</td>\n",
       "      <td>NaN</td>\n",
       "    </tr>\n",
       "    <tr>\n",
       "      <th>1</th>\n",
       "      <td>10759547</td>\n",
       "      <td>NaN</td>\n",
       "      <td>NaN</td>\n",
       "      <td>NaN</td>\n",
       "      <td>0.0</td>\n",
       "      <td>0.0</td>\n",
       "      <td>NaN</td>\n",
       "      <td>NaN</td>\n",
       "      <td>NaN</td>\n",
       "      <td>NaN</td>\n",
       "      <td>...</td>\n",
       "      <td>NaN</td>\n",
       "      <td>NaN</td>\n",
       "      <td>NaN</td>\n",
       "      <td>27516.0</td>\n",
       "      <td>2015.0</td>\n",
       "      <td>27516.0</td>\n",
       "      <td>NaN</td>\n",
       "      <td>NaN</td>\n",
       "      <td>NaN</td>\n",
       "      <td>NaN</td>\n",
       "    </tr>\n",
       "  </tbody>\n",
       "</table>\n",
       "<p>2 rows × 58 columns</p>\n",
       "</div>"
      ],
      "text/plain": [
       "   parcelid  airconditioningtypeid  architecturalstyletypeid  basementsqft  \\\n",
       "0  10754147                    NaN                       NaN           NaN   \n",
       "1  10759547                    NaN                       NaN           NaN   \n",
       "\n",
       "   bathroomcnt  bedroomcnt  buildingclasstypeid  buildingqualitytypeid  \\\n",
       "0          0.0         0.0                  NaN                    NaN   \n",
       "1          0.0         0.0                  NaN                    NaN   \n",
       "\n",
       "   calculatedbathnbr  decktypeid  ...  numberofstories  fireplaceflag  \\\n",
       "0                NaN         NaN  ...              NaN            NaN   \n",
       "1                NaN         NaN  ...              NaN            NaN   \n",
       "\n",
       "   structuretaxvaluedollarcnt  taxvaluedollarcnt  assessmentyear  \\\n",
       "0                         NaN                9.0          2015.0   \n",
       "1                         NaN            27516.0          2015.0   \n",
       "\n",
       "   landtaxvaluedollarcnt  taxamount  taxdelinquencyflag  taxdelinquencyyear  \\\n",
       "0                    9.0        NaN                 NaN                 NaN   \n",
       "1                27516.0        NaN                 NaN                 NaN   \n",
       "\n",
       "   censustractandblock  \n",
       "0                  NaN  \n",
       "1                  NaN  \n",
       "\n",
       "[2 rows x 58 columns]"
      ]
     },
     "execution_count": 7,
     "metadata": {},
     "output_type": "execute_result"
    }
   ],
   "source": [
    "prop.head(2)"
   ]
  },
  {
   "cell_type": "code",
   "execution_count": 5,
   "id": "south-greek",
   "metadata": {
    "ExecuteTime": {
     "end_time": "2021-03-01T04:46:33.309942Z",
     "start_time": "2021-03-01T04:46:33.287005Z"
    }
   },
   "outputs": [
    {
     "data": {
      "text/html": [
       "<div>\n",
       "<style scoped>\n",
       "    .dataframe tbody tr th:only-of-type {\n",
       "        vertical-align: middle;\n",
       "    }\n",
       "\n",
       "    .dataframe tbody tr th {\n",
       "        vertical-align: top;\n",
       "    }\n",
       "\n",
       "    .dataframe thead th {\n",
       "        text-align: right;\n",
       "    }\n",
       "</style>\n",
       "<table border=\"1\" class=\"dataframe\">\n",
       "  <thead>\n",
       "    <tr style=\"text-align: right;\">\n",
       "      <th></th>\n",
       "      <th>ParcelId</th>\n",
       "      <th>201610</th>\n",
       "      <th>201611</th>\n",
       "      <th>201612</th>\n",
       "      <th>201710</th>\n",
       "      <th>201711</th>\n",
       "      <th>201712</th>\n",
       "    </tr>\n",
       "  </thead>\n",
       "  <tbody>\n",
       "    <tr>\n",
       "      <th>0</th>\n",
       "      <td>10754147</td>\n",
       "      <td>0</td>\n",
       "      <td>0</td>\n",
       "      <td>0</td>\n",
       "      <td>0</td>\n",
       "      <td>0</td>\n",
       "      <td>0</td>\n",
       "    </tr>\n",
       "    <tr>\n",
       "      <th>1</th>\n",
       "      <td>10759547</td>\n",
       "      <td>0</td>\n",
       "      <td>0</td>\n",
       "      <td>0</td>\n",
       "      <td>0</td>\n",
       "      <td>0</td>\n",
       "      <td>0</td>\n",
       "    </tr>\n",
       "  </tbody>\n",
       "</table>\n",
       "</div>"
      ],
      "text/plain": [
       "   ParcelId  201610  201611  201612  201710  201711  201712\n",
       "0  10754147       0       0       0       0       0       0\n",
       "1  10759547       0       0       0       0       0       0"
      ]
     },
     "execution_count": 5,
     "metadata": {},
     "output_type": "execute_result"
    }
   ],
   "source": [
    "sample.head(2)"
   ]
  },
  {
   "cell_type": "code",
   "execution_count": 8,
   "id": "waiting-louis",
   "metadata": {
    "ExecuteTime": {
     "end_time": "2021-03-01T04:48:47.022856Z",
     "start_time": "2021-03-01T04:48:35.368524Z"
    }
   },
   "outputs": [],
   "source": [
    "# Bind to float 32\n",
    "\n",
    "for c, dtype in zip(prop.columns, prop.dtypes):\n",
    "    if dtype == np.float64:\n",
    "        prop[c] = prop[c].astype(np.float32)"
   ]
  },
  {
   "cell_type": "code",
   "execution_count": 13,
   "id": "employed-philip",
   "metadata": {
    "ExecuteTime": {
     "end_time": "2021-03-01T04:53:37.868617Z",
     "start_time": "2021-03-01T04:53:35.334955Z"
    }
   },
   "outputs": [
    {
     "name": "stdout",
     "output_type": "stream",
     "text": [
      "(90275, 55) (90275,)\n"
     ]
    }
   ],
   "source": [
    "# Creat training set\n",
    "\n",
    "df_train = train.merge(prop, how='left', on='parcelid')\n",
    "\n",
    "x_train = df_train.drop(['parcelid','logerror','transactiondate','propertyzoningdesc','propertycountylandusecode'], axis=1)\n",
    "y_train = df_train['logerror'].values\n",
    "\n",
    "print(x_train.shape, y_train.shape)"
   ]
  },
  {
   "cell_type": "code",
   "execution_count": 14,
   "id": "diagnostic-teacher",
   "metadata": {
    "ExecuteTime": {
     "end_time": "2021-03-01T04:53:39.809806Z",
     "start_time": "2021-03-01T04:53:39.740990Z"
    }
   },
   "outputs": [],
   "source": [
    "train_columns = x_train.columns\n",
    "\n",
    "for c in x_train.dtypes[x_train.dtypes==object].index.values:\n",
    "    x_train[c] = (x_train[c]==True)\n",
    "\n",
    "del df_train\n",
    "gc.collect()\n",
    "\n",
    "split = 80000\n",
    "x_train, y_train, x_valid, y_valid = x_train[:split], y_train[:split], x_train[split:], y_train[split:]"
   ]
  },
  {
   "cell_type": "code",
   "execution_count": 15,
   "id": "processed-cuisine",
   "metadata": {
    "ExecuteTime": {
     "end_time": "2021-03-01T04:58:48.395807Z",
     "start_time": "2021-03-01T04:58:47.835510Z"
    }
   },
   "outputs": [
    {
     "data": {
      "text/plain": [
       "31"
      ]
     },
     "execution_count": 15,
     "metadata": {},
     "output_type": "execute_result"
    }
   ],
   "source": [
    "# Build DMatrix\n",
    "### DMatrix : XGBoost에 의해 사용되는, 메모리 효율성과\n",
    "###           학습 속도에 최적화된 내부 데이터 구조.\n",
    "###           원본 데이터에서 DMatrix 구성 가능\n",
    "\n",
    "d_train = xgb.DMatrix(x_train, label=y_train)\n",
    "d_valid = xgb.DMatrix(x_valid, label=y_valid)\n",
    "\n",
    "del x_train, x_valid\n",
    "gc.collect()"
   ]
  },
  {
   "cell_type": "code",
   "execution_count": 18,
   "id": "large-yellow",
   "metadata": {
    "ExecuteTime": {
     "end_time": "2021-03-01T05:02:08.142162Z",
     "start_time": "2021-03-01T05:01:17.825103Z"
    }
   },
   "outputs": [
    {
     "name": "stdout",
     "output_type": "stream",
     "text": [
      "[14:01:17] WARNING: C:/Users/Administrator/workspace/xgboost-win64_release_1.3.0/src/objective/regression_obj.cu:170: reg:linear is now deprecated in favor of reg:squarederror.\n",
      "[14:01:17] WARNING: C:/Users/Administrator/workspace/xgboost-win64_release_1.3.0/src/learner.cc:541: \n",
      "Parameters: { silent } might not be used.\n",
      "\n",
      "  This may not be accurate due to some parameters are only used in language bindings but\n",
      "  passed down to XGBoost core.  Or some parameters are not used but slip through this\n",
      "  verification. Please open an issue if you find above cases.\n",
      "\n",
      "\n",
      "[0]\ttrain-mae:0.48807\tvalid-mae:0.48112\n",
      "[10]\ttrain-mae:0.40222\tvalid-mae:0.39544\n",
      "[20]\ttrain-mae:0.33269\tvalid-mae:0.32610\n",
      "[30]\ttrain-mae:0.27652\tvalid-mae:0.27013\n",
      "[40]\ttrain-mae:0.23132\tvalid-mae:0.22521\n",
      "[50]\ttrain-mae:0.19506\tvalid-mae:0.18933\n",
      "[60]\ttrain-mae:0.16612\tvalid-mae:0.16073\n",
      "[70]\ttrain-mae:0.14312\tvalid-mae:0.13805\n",
      "[80]\ttrain-mae:0.12497\tvalid-mae:0.12024\n",
      "[90]\ttrain-mae:0.11078\tvalid-mae:0.10635\n",
      "[100]\ttrain-mae:0.09982\tvalid-mae:0.09570\n",
      "[110]\ttrain-mae:0.09145\tvalid-mae:0.08761\n",
      "[120]\ttrain-mae:0.08514\tvalid-mae:0.08160\n",
      "[130]\ttrain-mae:0.08045\tvalid-mae:0.07722\n",
      "[140]\ttrain-mae:0.07700\tvalid-mae:0.07408\n",
      "[150]\ttrain-mae:0.07450\tvalid-mae:0.07184\n",
      "[160]\ttrain-mae:0.07268\tvalid-mae:0.07025\n",
      "[170]\ttrain-mae:0.07136\tvalid-mae:0.06914\n",
      "[180]\ttrain-mae:0.07040\tvalid-mae:0.06839\n",
      "[190]\ttrain-mae:0.06970\tvalid-mae:0.06788\n",
      "[200]\ttrain-mae:0.06919\tvalid-mae:0.06753\n",
      "[210]\ttrain-mae:0.06882\tvalid-mae:0.06729\n",
      "[220]\ttrain-mae:0.06854\tvalid-mae:0.06714\n",
      "[230]\ttrain-mae:0.06832\tvalid-mae:0.06703\n",
      "[240]\ttrain-mae:0.06816\tvalid-mae:0.06696\n",
      "[250]\ttrain-mae:0.06803\tvalid-mae:0.06691\n",
      "[260]\ttrain-mae:0.06794\tvalid-mae:0.06689\n",
      "[270]\ttrain-mae:0.06786\tvalid-mae:0.06687\n",
      "[280]\ttrain-mae:0.06779\tvalid-mae:0.06686\n",
      "[290]\ttrain-mae:0.06774\tvalid-mae:0.06687\n",
      "[300]\ttrain-mae:0.06769\tvalid-mae:0.06686\n",
      "[310]\ttrain-mae:0.06765\tvalid-mae:0.06686\n",
      "[320]\ttrain-mae:0.06762\tvalid-mae:0.06687\n",
      "[330]\ttrain-mae:0.06759\tvalid-mae:0.06687\n",
      "[340]\ttrain-mae:0.06757\tvalid-mae:0.06688\n",
      "[350]\ttrain-mae:0.06754\tvalid-mae:0.06689\n",
      "[360]\ttrain-mae:0.06752\tvalid-mae:0.06689\n",
      "[370]\ttrain-mae:0.06750\tvalid-mae:0.06690\n",
      "[380]\ttrain-mae:0.06749\tvalid-mae:0.06691\n",
      "[390]\ttrain-mae:0.06747\tvalid-mae:0.06692\n",
      "[400]\ttrain-mae:0.06745\tvalid-mae:0.06693\n",
      "[402]\ttrain-mae:0.06745\tvalid-mae:0.06693\n"
     ]
    }
   ],
   "source": [
    "# Train\n",
    "\n",
    "params = {}\n",
    "params['eta'] = 0.02\n",
    "params['objective'] = 'reg:linear'\n",
    "params['eval_metric'] = 'mae'\n",
    "params['max_depth'] = 4\n",
    "params['silent'] = 1\n",
    "\n",
    "watchlist = [(d_train, 'train'), (d_valid, 'valid')]\n",
    "clf = xgb.train(params, d_train, 10000, watchlist, early_stopping_rounds=100, verbose_eval=10)\n",
    "\n",
    "del d_train, d_valid"
   ]
  },
  {
   "cell_type": "code",
   "execution_count": 19,
   "id": "about-contract",
   "metadata": {
    "ExecuteTime": {
     "end_time": "2021-03-01T05:04:48.784266Z",
     "start_time": "2021-03-01T05:04:42.136435Z"
    }
   },
   "outputs": [
    {
     "data": {
      "text/plain": [
       "36"
      ]
     },
     "execution_count": 19,
     "metadata": {},
     "output_type": "execute_result"
    }
   ],
   "source": [
    "# Build test set\n",
    "\n",
    "sample['parcelid'] = sample['ParcelId']\n",
    "df_test = sample.merge(prop, on='parcelid', how='left')\n",
    "\n",
    "del prop\n",
    "gc.collect()"
   ]
  },
  {
   "cell_type": "code",
   "execution_count": 20,
   "id": "average-virgin",
   "metadata": {
    "ExecuteTime": {
     "end_time": "2021-03-01T05:06:08.876584Z",
     "start_time": "2021-03-01T05:05:44.743996Z"
    }
   },
   "outputs": [
    {
     "name": "stderr",
     "output_type": "stream",
     "text": [
      "<ipython-input-20-2d32b1a84139>:3: SettingWithCopyWarning: \n",
      "A value is trying to be set on a copy of a slice from a DataFrame.\n",
      "Try using .loc[row_indexer,col_indexer] = value instead\n",
      "\n",
      "See the caveats in the documentation: https://pandas.pydata.org/pandas-docs/stable/user_guide/indexing.html#returning-a-view-versus-a-copy\n",
      "  x_test[c] = (x_test[c]==True)\n"
     ]
    },
    {
     "data": {
      "text/plain": [
       "9"
      ]
     },
     "execution_count": 20,
     "metadata": {},
     "output_type": "execute_result"
    }
   ],
   "source": [
    "x_test = df_test[train_columns]\n",
    "for c in x_test.dtypes[x_test.dtypes==object].index.values:\n",
    "    x_test[c] = (x_test[c]==True)\n",
    "    \n",
    "del df_test, sample\n",
    "gc.collect()\n",
    "\n",
    "d_test = xgb.DMatrix(x_test)\n",
    "del x_test\n",
    "gc.collect()"
   ]
  },
  {
   "cell_type": "code",
   "execution_count": 21,
   "id": "agricultural-auckland",
   "metadata": {
    "ExecuteTime": {
     "end_time": "2021-03-01T05:06:35.220160Z",
     "start_time": "2021-03-01T05:06:25.103194Z"
    }
   },
   "outputs": [
    {
     "data": {
      "text/plain": [
       "40"
      ]
     },
     "execution_count": 21,
     "metadata": {},
     "output_type": "execute_result"
    }
   ],
   "source": [
    "# Predict on test\n",
    "\n",
    "p_test = clf.predict(d_test)\n",
    "del d_test\n",
    "gc.collect()"
   ]
  },
  {
   "cell_type": "code",
   "execution_count": 23,
   "id": "casual-hypothesis",
   "metadata": {
    "ExecuteTime": {
     "end_time": "2021-03-01T05:08:24.429117Z",
     "start_time": "2021-03-01T05:07:44.235600Z"
    }
   },
   "outputs": [],
   "source": [
    "sub = pd.read_csv('../input/sample_submission.csv')\n",
    "for c in sub.columns[sub.columns != 'ParcelId']:\n",
    "    sub[c] = p_test\n",
    "\n",
    "# Write csv\n",
    "sub.to_csv('xgb_starter.csv', index=False, float_format='%.4f')"
   ]
  }
 ],
 "metadata": {
  "kernelspec": {
   "display_name": "Python 3",
   "language": "python",
   "name": "python3"
  },
  "language_info": {
   "codemirror_mode": {
    "name": "ipython",
    "version": 3
   },
   "file_extension": ".py",
   "mimetype": "text/x-python",
   "name": "python",
   "nbconvert_exporter": "python",
   "pygments_lexer": "ipython3",
   "version": "3.8.5"
  },
  "toc": {
   "base_numbering": 1,
   "nav_menu": {},
   "number_sections": false,
   "sideBar": true,
   "skip_h1_title": false,
   "title_cell": "Table of Contents",
   "title_sidebar": "Contents",
   "toc_cell": false,
   "toc_position": {},
   "toc_section_display": true,
   "toc_window_display": false
  },
  "varInspector": {
   "cols": {
    "lenName": 16,
    "lenType": 16,
    "lenVar": 40
   },
   "kernels_config": {
    "python": {
     "delete_cmd_postfix": "",
     "delete_cmd_prefix": "del ",
     "library": "var_list.py",
     "varRefreshCmd": "print(var_dic_list())"
    },
    "r": {
     "delete_cmd_postfix": ") ",
     "delete_cmd_prefix": "rm(",
     "library": "var_list.r",
     "varRefreshCmd": "cat(var_dic_list()) "
    }
   },
   "types_to_exclude": [
    "module",
    "function",
    "builtin_function_or_method",
    "instance",
    "_Feature"
   ],
   "window_display": false
  }
 },
 "nbformat": 4,
 "nbformat_minor": 5
}
