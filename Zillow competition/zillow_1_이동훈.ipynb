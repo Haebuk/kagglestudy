{
 "cells": [
  {
   "cell_type": "markdown",
   "metadata": {},
   "source": [
    "# kaggle study 30일차(New-York taxi)\n",
    "코드출처 :https://www.kaggle.com/sudalairajkumar/simple-exploration-notebook-zillow-prize"
   ]
  },
  {
   "cell_type": "markdown",
   "metadata": {},
   "source": [
    "이 노트에서, 우리는 zillow 경품 경진대회에서 주어진 데이터를 살펴보도록 하겠습니다. 데이터를 자세히 살펴보기 전에 경쟁업체에 대해 좀 더 자세히 알아보십시오.\n",
    "\n",
    "zillow:\n",
    "\n",
    "Zillow는 2006년에 설립된 온라인 부동산 데이터베이스 회사입니다 - 위키백과\n",
    "\n",
    "추정치:\n",
    "\n",
    "\"예상치\"는 각 속성에 대한 수백 개의 데이터 포인트를 분석하는 750만 개의 통계 및 기계 학습 모델을 기반으로 추정된 집 값입니다. 또한 중앙 오차 한계를 지속적으로 개선함으로써(시작 시 14%에서 현재 5%로),\n",
    "\n",
    "목표:\n",
    "\n",
    "Z 추정 잔차 오류를 개선하기 위한 모형 작성입니다.\n",
    "\n",
    "그 대회는 두 단계로 나뉘어 있습니다. 이 공개 경쟁은 2018년 1월까지 계속되며 상금은 5만 달러입니다. 이번 대회에서는 상이하기 때문에 상 세부 정보와 경기 개요에 대해 반드시 읽어보시기 바랍니다.\n",
    "\n",
    "먼저 필요한 모듈을 가져오겠습니다."
   ]
  },
  {
   "cell_type": "code",
   "execution_count": null,
   "metadata": {
    "ExecuteTime": {
     "end_time": "2021-02-26T11:43:38.184739Z",
     "start_time": "2021-02-26T11:43:35.617Z"
    }
   },
   "outputs": [],
   "source": [
    "import numpy as np \n",
    "import pandas as pd\n",
    "import matplotlib.pyplot as plt\n",
    "import seaborn as sns\n",
    "color = sns.color_palette()\n",
    "\n",
    "%matplotlib inline\n",
    "\n",
    "pd.options.mode.chained_assignment = None\n",
    "pd.options.display.max_columns = 999"
   ]
  },
  {
   "cell_type": "code",
   "execution_count": null,
   "metadata": {
    "ExecuteTime": {
     "end_time": "2021-02-26T11:43:38.187741Z",
     "start_time": "2021-02-26T11:43:35.620Z"
    }
   },
   "outputs": [],
   "source": [
    "train_df = pd.read_csv(\"C:/Users/이동훈/Desktop/github/kaggle/kagglestudy/Data/zillow/train_2016_v2.csv\", engine='python', parse_dates=[\"transactiondate\"])\n",
    "train_df.shape"
   ]
  },
  {
   "cell_type": "code",
   "execution_count": null,
   "metadata": {
    "ExecuteTime": {
     "end_time": "2021-02-26T11:43:38.189726Z",
     "start_time": "2021-02-26T11:43:35.623Z"
    }
   },
   "outputs": [],
   "source": [
    "train_df.head()"
   ]
  },
  {
   "cell_type": "markdown",
   "metadata": {},
   "source": [
    "__Logerror__:  \n",
    "이 경기의 대상 변수는 \"Logerror\" 필드입니다. 먼저 이 분야에 대한 분석을 해보겠습니다."
   ]
  },
  {
   "cell_type": "code",
   "execution_count": null,
   "metadata": {
    "ExecuteTime": {
     "end_time": "2021-02-26T11:43:38.190725Z",
     "start_time": "2021-02-26T11:43:35.625Z"
    }
   },
   "outputs": [],
   "source": [
    "plt.figure(figsize=(8,6))\n",
    "plt.scatter(range(train_df.shape[0]), np.sort(train_df.logerror.values))\n",
    "plt.xlabel('index', fontsize=12)\n",
    "plt.ylabel('logerror', fontsize=12)\n",
    "plt.show()"
   ]
  },
  {
   "cell_type": "markdown",
   "metadata": {},
   "source": [
    "양쪽 끝에 특이치가 있는 것이 보기 좋습니다!\n",
    "\n",
    "특이치를 제거한 다음 히스토그램 그림을 동일한 방법으로 수행하겠습니다."
   ]
  },
  {
   "cell_type": "code",
   "execution_count": null,
   "metadata": {
    "ExecuteTime": {
     "end_time": "2021-02-26T11:43:38.192719Z",
     "start_time": "2021-02-26T11:43:35.627Z"
    }
   },
   "outputs": [],
   "source": [
    "ulimit = np.percentile(train_df.logerror.values, 99)\n",
    "llimit = np.percentile(train_df.logerror.values, 1)\n",
    "train_df['logerror'][train_df['logerror']>ulimit] = ulimit\n",
    "train_df['logerror'][train_df['logerror']<llimit] = llimit\n",
    "\n",
    "plt.figure(figsize=(12,8))\n",
    "sns.distplot(train_df.logerror.values, bins=50, kde=False)\n",
    "plt.xlabel('logerror', fontsize=12)\n",
    "plt.show()"
   ]
  },
  {
   "cell_type": "markdown",
   "metadata": {},
   "source": [
    "로그 오류에 대한 정규 분포가 좋군요\n",
    "\n",
    "__Transaction Date__:\n",
    "\n",
    "이제 날짜 필드를 살펴보겠습니다. 우선 매월 거래 건수를 확인해 보겠습니다."
   ]
  },
  {
   "cell_type": "code",
   "execution_count": null,
   "metadata": {
    "ExecuteTime": {
     "end_time": "2021-02-26T11:43:38.194718Z",
     "start_time": "2021-02-26T11:43:35.629Z"
    }
   },
   "outputs": [],
   "source": [
    "train_df['transaction_month'] = train_df['transactiondate'].dt.month\n",
    "\n",
    "cnt_srs = train_df['transaction_month'].value_counts()\n",
    "plt.figure(figsize=(12,6))\n",
    "sns.barplot(cnt_srs.index, cnt_srs.values, alpha=0.8, color=color[3])\n",
    "plt.xticks(rotation='vertical')\n",
    "plt.xlabel('Month of transaction', fontsize=12)\n",
    "plt.ylabel('Number of Occurrences', fontsize=12)\n",
    "plt.show()"
   ]
  },
  {
   "cell_type": "markdown",
   "metadata": {},
   "source": [
    "데이터 페이지에서도 볼 수 있듯이 열차 데이터는 2016년 10월 15일 이전의 모든 트랜잭션과 2016년 10월 15일 이후의 일부 트랜잭션을 포함합니다.\n",
    "\n",
    "그래서 지난 3개월 동안 짧은 막대가 있습니다.  \n",
    "  \n",
    "__Parcel Id__:"
   ]
  },
  {
   "cell_type": "code",
   "execution_count": null,
   "metadata": {
    "ExecuteTime": {
     "end_time": "2021-02-26T11:43:38.196707Z",
     "start_time": "2021-02-26T11:43:35.631Z"
    }
   },
   "outputs": [],
   "source": [
    "(train_df['parcelid'].value_counts().reset_index())['parcelid'].value_counts()"
   ]
  },
  {
   "cell_type": "markdown",
   "metadata": {},
   "source": [
    "따라서 대부분의  parcel ids는 데이터 세트에 한 번만 나타납니다.\n",
    "\n",
    "__Properties 2016__:\n",
    "\n",
    "이제 properties_2016 파일을 살펴보겠습니다."
   ]
  },
  {
   "cell_type": "code",
   "execution_count": null,
   "metadata": {
    "ExecuteTime": {
     "end_time": "2021-02-26T11:43:38.198704Z",
     "start_time": "2021-02-26T11:43:35.633Z"
    }
   },
   "outputs": [],
   "source": [
    "prop_df = pd.read_csv(\"C:/Users/이동훈/Desktop/github/kaggle/kagglestudy/Data/zillow/properties_2016.csv\",engine='python')\n",
    "prop_df.shape"
   ]
  },
  {
   "cell_type": "code",
   "execution_count": null,
   "metadata": {
    "ExecuteTime": {
     "end_time": "2021-02-26T11:43:38.200700Z",
     "start_time": "2021-02-26T11:43:35.635Z"
    }
   },
   "outputs": [],
   "source": [
    "prop_df.head()"
   ]
  },
  {
   "cell_type": "code",
   "execution_count": null,
   "metadata": {
    "ExecuteTime": {
     "end_time": "2021-02-26T11:43:38.202694Z",
     "start_time": "2021-02-26T11:43:35.638Z"
    }
   },
   "outputs": [],
   "source": [
    "missing_df = prop_df.isnull().sum(axis=0).reset_index()\n",
    "missing_df.columns = ['column_name', 'missing_count']\n",
    "missing_df = missing_df[missing_df['missing_count']>0]\n",
    "missing_df = missing_df.sort_values(by='missing_count')\n",
    "\n",
    "ind = np.arange(missing_df.shape[0])\n",
    "width = 0.9\n",
    "fig, ax = plt.subplots(figsize=(12,18))\n",
    "rects = ax.barh(ind, missing_df.missing_count.values, color='blue')\n",
    "ax.set_yticks(ind)\n",
    "ax.set_yticklabels(missing_df.column_name.values, rotation='horizontal')\n",
    "ax.set_xlabel(\"Count of missing values\")\n",
    "ax.set_title(\"Number of missing values in each column\")\n",
    "plt.show()"
   ]
  },
  {
   "cell_type": "markdown",
   "metadata": {},
   "source": [
    "우선 위도 및 경도 변수를 살펴보겠습니다."
   ]
  },
  {
   "cell_type": "code",
   "execution_count": null,
   "metadata": {
    "ExecuteTime": {
     "end_time": "2021-02-26T11:43:38.205686Z",
     "start_time": "2021-02-26T11:43:35.644Z"
    }
   },
   "outputs": [],
   "source": [
    "plt.figure(figsize=(12,12))\n",
    "sns.jointplot(x=prop_df.latitude.values, y=prop_df.longitude.values, size=10)\n",
    "plt.ylabel('Longitude', fontsize=12)\n",
    "plt.xlabel('Latitude', fontsize=12)\n",
    "plt.show()"
   ]
  },
  {
   "cell_type": "markdown",
   "metadata": {},
   "source": [
    "데이터 페이지에서 2016년 3개 카운티(Los Angeles, Orange 및 Ventura, California)의 부동산 전체 목록을 제공합니다.\n",
    "\n",
    "열차에는 약 90275개의 행이 있지만 속성 파일에는 약 2,985,217개의 행이 있습니다. 두 개의 파일을 병합한 다음 분석을 수행하겠습니다."
   ]
  },
  {
   "cell_type": "code",
   "execution_count": null,
   "metadata": {
    "ExecuteTime": {
     "end_time": "2021-02-26T11:43:38.207680Z",
     "start_time": "2021-02-26T11:43:35.646Z"
    }
   },
   "outputs": [],
   "source": [
    "train_df = pd.merge(train_df, prop_df, on='parcelid', how='left')\n",
    "train_df.head()"
   ]
  },
  {
   "cell_type": "markdown",
   "metadata": {},
   "source": [
    "이제 다양한 유형의 변수의 dtype을 살펴보겠습니다."
   ]
  },
  {
   "cell_type": "code",
   "execution_count": null,
   "metadata": {
    "ExecuteTime": {
     "end_time": "2021-02-26T11:43:38.209674Z",
     "start_time": "2021-02-26T11:43:35.648Z"
    }
   },
   "outputs": [],
   "source": [
    "pd.options.display.max_rows = 65\n",
    "\n",
    "dtype_df = train_df.dtypes.reset_index()\n",
    "dtype_df.columns = [\"Count\", \"Column Type\"]\n",
    "dtype_df"
   ]
  },
  {
   "cell_type": "markdown",
   "metadata": {},
   "source": [
    "거의 모든 변수가 개체(범주형) 변수가 거의 없는 부동 변수입니다. 계산해 보겠습니다."
   ]
  },
  {
   "cell_type": "code",
   "execution_count": null,
   "metadata": {
    "ExecuteTime": {
     "end_time": "2021-02-26T11:43:38.211668Z",
     "start_time": "2021-02-26T11:43:35.650Z"
    }
   },
   "outputs": [],
   "source": [
    "dtype_df.groupby(\"Column Type\").aggregate('count').reset_index()"
   ]
  },
  {
   "cell_type": "markdown",
   "metadata": {},
   "source": [
    "이제 이 새로운 병합된 데이터 세트의 Null 수를 확인해 보겠습니다."
   ]
  },
  {
   "cell_type": "code",
   "execution_count": null,
   "metadata": {
    "ExecuteTime": {
     "end_time": "2021-02-26T11:43:38.214661Z",
     "start_time": "2021-02-26T11:43:35.653Z"
    }
   },
   "outputs": [],
   "source": [
    "missing_df = train_df.isnull().sum(axis=0).reset_index()\n",
    "missing_df.columns = ['column_name', 'missing_count']\n",
    "missing_df['missing_ratio'] = missing_df['missing_count']  / train_df.shape[0]\n",
    "missing_df[missing_df['missing_ratio'] > 0.999]"
   ]
  },
  {
   "cell_type": "markdown",
   "metadata": {},
   "source": [
    "네 개의 열에 99.9%의 결측값이 있습니다.!\n",
    "\n",
    "__Univariate Analysis(일변량 분석)__:\n",
    "\n",
    "변수가 너무 많으므로 먼저 'float' 변수만 취한 다음 대상 변수와의 상관 관계를 파악하여 변수들이 어떻게 연관되어 있는지 알아보겠습니다."
   ]
  },
  {
   "cell_type": "code",
   "execution_count": null,
   "metadata": {
    "ExecuteTime": {
     "end_time": "2021-02-26T11:43:38.215657Z",
     "start_time": "2021-02-26T11:43:35.657Z"
    }
   },
   "outputs": [],
   "source": [
    "mean_values = train_df.mean(axis=0)\n",
    "train_df.fillna(mean_values, inplace=True)\n",
    "train_df_new = train_df\n",
    "x_cols = [col for col in train_df_new.columns \n",
    "          if col not in ['logerror'] if train_df_new[col].dtype=='float64']\n",
    "\n",
    "labels = []\n",
    "values = []\n",
    "\n",
    "for col in x_cols:\n",
    "    labels.append(col)\n",
    "    values.append(np.corrcoef(train_df_new[col].values, \n",
    "                             train_df.logerror.values)[0,1])\n",
    "corr_df = pd.DataFrame({'col_labels':labels, 'corr_values':values})\n",
    "corr_df = corr_df.sort_values(by='corr_values')\n",
    "\n",
    "ind = np.arange(len(labels))\n",
    "width = 0.9\n",
    "fig, ax = plt.subplots(figsize=(12,40))\n",
    "rects = ax.barh(ind, np.array(corr_df.corr_values.values), color='y')\n",
    "ax.set_yticks(ind)\n",
    "ax.set_yticklabels(corr_df.col_labels.values, rotation= 'horizontal')\n",
    "ax.set_xlabel(\"Correlation coefficient\")\n",
    "ax.set_title(\"Correlation coefficeint of the variables\")\n",
    "plt.show()"
   ]
  },
  {
   "cell_type": "markdown",
   "metadata": {},
   "source": [
    "지정된 변수 집합과 대상 변수의 상관 관계는 전반적으로 낮습니다.\n",
    "\n",
    "이 그래프의 맨 위에 상관 값이 없는 변수는 거의 없습니다. 내 생각에 그들은 하나의 고유한 값만 가지고 있기 때문에 상관 관계가 없는 것 같아요. 같은 내용을 확인해 보겠습니다."
   ]
  },
  {
   "cell_type": "code",
   "execution_count": null,
   "metadata": {
    "ExecuteTime": {
     "end_time": "2021-02-26T11:43:38.216689Z",
     "start_time": "2021-02-26T11:43:35.661Z"
    }
   },
   "outputs": [],
   "source": [
    "corr_zero_cols = ['assessmentyear', 'storytypeid', 'pooltypeid2', 'pooltypeid7', 'pooltypeid10', 'poolcnt', 'decktypeid', 'buildingclasstypeid']\n",
    "for col in corr_zero_cols:\n",
    "    print(col, len(train_df_new[col].unique()))"
   ]
  },
  {
   "cell_type": "markdown",
   "metadata": {},
   "source": [
    "상관 관계가 높은 값을 가진 변수를 취하여 분석을 해보겠습니다."
   ]
  },
  {
   "cell_type": "code",
   "execution_count": null,
   "metadata": {
    "ExecuteTime": {
     "end_time": "2021-02-26T11:43:38.217684Z",
     "start_time": "2021-02-26T11:43:35.665Z"
    }
   },
   "outputs": [],
   "source": [
    "corr_df_sel = corr_df[(corr_df['corr_values']>0.02) | (corr_df['corr_values'] < -0.01)]\n",
    "corr_df_sel"
   ]
  },
  {
   "cell_type": "code",
   "execution_count": null,
   "metadata": {
    "ExecuteTime": {
     "end_time": "2021-02-26T11:43:38.218649Z",
     "start_time": "2021-02-26T11:43:35.668Z"
    }
   },
   "outputs": [],
   "source": [
    "cols_to_use = corr_df_sel.col_labels.tolist()\n",
    "\n",
    "temp_df = train_df[cols_to_use]\n",
    "corrmat = temp_df.corr(method='spearman')\n",
    "f, ax = plt.subplots(figsize=(8, 8))\n",
    "\n",
    "sns.heatmap(corrmat, vmax=1., square=True)\n",
    "plt.title(\"Important variables correlation map\", fontsize=15)\n",
    "plt.show()"
   ]
  },
  {
   "cell_type": "markdown",
   "metadata": {},
   "source": [
    "중요한 변수들 자체는 매우 높은 상관관계를 가지고 있습니다. 이제 각 항목을 살펴보겠습니다.\n",
    "\n",
    "__Finished SquareFeet 12:__:\n",
    "\n",
    "완성된 정사각형 피트 12가 로그 오류에 따라 어떻게 변하는지 살펴보겠습니다."
   ]
  },
  {
   "cell_type": "code",
   "execution_count": null,
   "metadata": {
    "ExecuteTime": {
     "end_time": "2021-02-26T11:43:38.220646Z",
     "start_time": "2021-02-26T11:43:35.671Z"
    }
   },
   "outputs": [],
   "source": [
    "col = \"finishedsquarefeet12\"\n",
    "ulimit = np.percentile(train_df[col].values, 99.5)\n",
    "llimit = np.percentile(train_df[col].values, 0.5)\n",
    "train_df[col][train_df[col]>ulimit] = ulimit\n",
    "train_df[col][train_df[col]<llimit] = llimit\n",
    "\n",
    "plt.figure(figsize=(12,12))\n",
    "sns.jointplot(x=train_df.finishedsquarefeet12.values, y=train_df.logerror.values, size=10, color=color[4])\n",
    "plt.ylabel('Log Error', fontsize=12)\n",
    "plt.xlabel('Finished Square Feet 12', fontsize=12)\n",
    "plt.title(\"Finished square feet 12 Vs Log error\", fontsize=15)\n",
    "plt.show()"
   ]
  },
  {
   "cell_type": "markdown",
   "metadata": {},
   "source": [
    "완성된 정사각형 피트 12 변수가 증가함에 따라 더 큰 오차 범위가 좁아지는 것 같습니다. 아마 더 큰 집은 예측하기 쉬울까요?  \n",
    "__Calculated finished square feet__:"
   ]
  },
  {
   "cell_type": "code",
   "execution_count": null,
   "metadata": {
    "ExecuteTime": {
     "end_time": "2021-02-26T11:43:38.222648Z",
     "start_time": "2021-02-26T11:43:35.677Z"
    }
   },
   "outputs": [],
   "source": [
    "col = \"calculatedfinishedsquarefeet\"\n",
    "ulimit = np.percentile(train_df[col].values, 99.5)\n",
    "llimit = np.percentile(train_df[col].values, 0.5)\n",
    "train_df[col][train_df[col]>ulimit] = ulimit\n",
    "train_df[col][train_df[col]<llimit] = llimit\n",
    "\n",
    "plt.figure(figsize=(12,12))\n",
    "sns.jointplot(x=train_df.calculatedfinishedsquarefeet.values, y=train_df.logerror.values, size=10, color=color[5])\n",
    "plt.ylabel('Log Error', fontsize=12)\n",
    "plt.xlabel('Calculated finished square feet', fontsize=12)\n",
    "plt.title(\"Calculated finished square feet Vs Log error\", fontsize=15)\n",
    "plt.show()"
   ]
  },
  {
   "cell_type": "markdown",
   "metadata": {},
   "source": [
    "여기도 분포가 이전 분포와 매우 유사합니다. 두 변수 사이의 상관 관계도 높은 것은 당연합니다.\n",
    "\n",
    "__Bathroom Count__:"
   ]
  },
  {
   "cell_type": "code",
   "execution_count": null,
   "metadata": {
    "ExecuteTime": {
     "end_time": "2021-02-26T11:43:38.225633Z",
     "start_time": "2021-02-26T11:43:35.679Z"
    }
   },
   "outputs": [],
   "source": [
    "plt.figure(figsize=(12,8))\n",
    "sns.countplot(x=\"bathroomcnt\", data=train_df)\n",
    "plt.ylabel('Count', fontsize=12)\n",
    "plt.xlabel('Bathroom', fontsize=12)\n",
    "plt.xticks(rotation='vertical')\n",
    "plt.title(\"Frequency of Bathroom count\", fontsize=15)\n",
    "plt.show()"
   ]
  },
  {
   "cell_type": "markdown",
   "metadata": {},
   "source": [
    "욕실 수에는 흥미로운 2.279 값이 있습니다.\n",
    "\n",
    "편집: MihwaHan이 코멘트에서 지적했듯이, 이것은 평균값입니다:)\n",
    "\n",
    "이제 이를 기반으로 로그 오류가 어떻게 변경되는지 확인해 보겠습니다."
   ]
  },
  {
   "cell_type": "code",
   "execution_count": null,
   "metadata": {
    "ExecuteTime": {
     "end_time": "2021-02-26T11:43:38.227625Z",
     "start_time": "2021-02-26T11:43:35.681Z"
    }
   },
   "outputs": [],
   "source": [
    "plt.figure(figsize=(12,8))\n",
    "sns.boxplot(x=\"bathroomcnt\", y='logerror',data=train_df)\n",
    "plt.ylabel('Log error', fontsize=12)\n",
    "plt.xlabel('Bathroom Count', fontsize=12)\n",
    "plt.xticks(rotation='vertical')\n",
    "plt.title(\"How long error changes with bathroom count?\", fontsize=15)\n",
    "plt.show()"
   ]
  },
  {
   "cell_type": "markdown",
   "metadata": {},
   "source": [
    "__Bedroom count__:"
   ]
  },
  {
   "cell_type": "code",
   "execution_count": null,
   "metadata": {
    "ExecuteTime": {
     "end_time": "2021-02-26T11:43:38.230621Z",
     "start_time": "2021-02-26T11:43:35.683Z"
    }
   },
   "outputs": [],
   "source": [
    "plt.figure(figsize=(12,8))\n",
    "sns.countplot(x=\"bedroomcnt\",data=train_df)\n",
    "plt.ylabel('Frequency', fontsize=12)\n",
    "plt.xlabel('Bedroom Count', fontsize=12)\n",
    "plt.xticks(rotation='vertical')\n",
    "plt.title(\"Frequency of Bedroom count\", fontsize=15)\n",
    "plt.show()"
   ]
  },
  {
   "cell_type": "markdown",
   "metadata": {},
   "source": [
    "3.03은 Null 값을 대체한 평균 값입니다."
   ]
  },
  {
   "cell_type": "code",
   "execution_count": null,
   "metadata": {
    "ExecuteTime": {
     "end_time": "2021-02-26T11:43:38.231615Z",
     "start_time": "2021-02-26T11:43:35.685Z"
    }
   },
   "outputs": [],
   "source": [
    "train_df['bedroomcnt'][train_df['bedroomcnt']>7] = 7\n",
    "plt.figure(figsize=(12,8))\n",
    "sns.violinplot(x='bedroomcnt', y='logerror', data=train_df)\n",
    "plt.xlabel('Bedroom count', fontsize=12)\n",
    "plt.ylabel('Log Error', fontsize=12)\n",
    "plt.show()"
   ]
  },
  {
   "cell_type": "code",
   "execution_count": null,
   "metadata": {
    "ExecuteTime": {
     "end_time": "2021-02-26T11:43:38.232612Z",
     "start_time": "2021-02-26T11:43:35.688Z"
    }
   },
   "outputs": [],
   "source": [
    "col = \"taxamount\"\n",
    "ulimit = np.percentile(train_df[col].values, 99.5)\n",
    "llimit = np.percentile(train_df[col].values, 0.5)\n",
    "train_df[col][train_df[col]>ulimit] = ulimit\n",
    "train_df[col][train_df[col]<llimit] = llimit\n",
    "\n",
    "plt.figure(figsize=(12,12))\n",
    "sns.jointplot(x=train_df['taxamount'].values, y=train_df['logerror'].values, size=10, color='g')\n",
    "plt.ylabel('Log Error', fontsize=12)\n",
    "plt.xlabel('Tax Amount', fontsize=12)\n",
    "plt.title(\"Tax Amount Vs Log error\", fontsize=15)\n",
    "plt.show()"
   ]
  },
  {
   "cell_type": "markdown",
   "metadata": {},
   "source": [
    "__YearBuilt__:  \n",
    "연도별 변수에 따라 오차가 어떻게 변하는지 살펴보겠습니다."
   ]
  },
  {
   "cell_type": "code",
   "execution_count": null,
   "metadata": {
    "ExecuteTime": {
     "end_time": "2021-02-26T11:43:38.233609Z",
     "start_time": "2021-02-26T11:43:35.692Z"
    },
    "scrolled": true
   },
   "outputs": [],
   "source": [
    "from plotnine  import *\n",
    "ggplot(aes(x=train_df['yearbuilt'], y=train_df['logerror']), data=train_df) + \\\n",
    "    geom_point(color='steelblue', size=1) + \\\n",
    "    stat_smooth()"
   ]
  },
  {
   "cell_type": "markdown",
   "metadata": {},
   "source": [
    "건설 연도와 관련하여 소폭의 증가 추세가 나타나고 있습니다.\n",
    "\n",
    "이제 위도 및 경도에 따라 로거 오차가 어떻게 변하는지 살펴보겠습니다."
   ]
  },
  {
   "cell_type": "code",
   "execution_count": null,
   "metadata": {},
   "outputs": [],
   "source": [
    "ggplot(aes(x='latitude', y='longitude', color='logerror'), data=train_df) + \\\n",
    "    geom_point() + \\\n",
    "    scale_color_gradient(low = 'red', high = 'blue')"
   ]
  },
  {
   "cell_type": "markdown",
   "metadata": {},
   "source": [
    "적어도 육안으로는 위도나 경도와 관련하여 보이는 주머니가 없습니다.\n",
    "\n",
    "양의 상관 관계가 가장 높고 음의 상관 관계가 가장 높은 변수를 사용하여 몇 가지 가시적인 패턴을 볼 수 있는지 알아보겠습니다."
   ]
  },
  {
   "cell_type": "code",
   "execution_count": null,
   "metadata": {},
   "outputs": [],
   "source": [
    "ggplot(aes(x='finishedsquarefeet12', y='taxamount', color='logerror'), data=train_df) + \\\n",
    "    geom_point(alpha=0.7) + \\\n",
    "    scale_color_gradient(low = 'pink', high = 'blue')"
   ]
  },
  {
   "cell_type": "markdown",
   "metadata": {},
   "source": [
    "우리는 일변량 분석을 통해 중요한 변수를 이해했습니다. 하지만 이것은 독립적인 기준이며 또한 선형성 가정도 가지고 있습니다. 이제 추가 트리 모델을 구축하여 중요한 변수를 얻을 수 있는 비선형 모델을 구축하겠습니다."
   ]
  },
  {
   "cell_type": "code",
   "execution_count": null,
   "metadata": {
    "ExecuteTime": {
     "end_time": "2021-02-26T11:43:38.234606Z",
     "start_time": "2021-02-26T11:43:35.699Z"
    }
   },
   "outputs": [],
   "source": [
    "train_y = train_df['logerror'].values\n",
    "cat_cols = [\"hashottuborspa\", \"propertycountylandusecode\", \"propertyzoningdesc\", \"fireplaceflag\", \"taxdelinquencyflag\"]\n",
    "train_df = train_df.drop(['parcelid', 'logerror', 'transactiondate', 'transaction_month']+cat_cols, axis=1)\n",
    "feat_names = train_df.columns.values\n",
    "\n",
    "from sklearn import ensemble\n",
    "model = ensemble.ExtraTreesRegressor(n_estimators=25, max_depth=30, max_features=0.3, n_jobs=-1, random_state=0)\n",
    "model.fit(train_df, train_y)\n",
    "\n",
    "## plot the importances ##\n",
    "importances = model.feature_importances_\n",
    "std = np.std([tree.feature_importances_ for tree in model.estimators_], axis=0)\n",
    "indices = np.argsort(importances)[::-1][:20]\n",
    "\n",
    "plt.figure(figsize=(12,12))\n",
    "plt.title(\"Feature importances\")\n",
    "plt.bar(range(len(indices)), importances[indices], color=\"r\", yerr=std[indices], align=\"center\")\n",
    "plt.xticks(range(len(indices)), feat_names[indices], rotation='vertical')\n",
    "plt.xlim([-1, len(indices)])\n",
    "plt.show()"
   ]
  },
  {
   "cell_type": "code",
   "execution_count": null,
   "metadata": {
    "ExecuteTime": {
     "end_time": "2021-02-26T11:43:38.236604Z",
     "start_time": "2021-02-26T11:43:35.701Z"
    }
   },
   "outputs": [],
   "source": [
    "import xgboost as xgb\n",
    "xgb_params = {'eta': 0.05,\n",
    "              'max_depth': 8,\n",
    "              'subsample': 0.7,\n",
    "              'colsample_bytree': 0.7,\n",
    "              'objective': 'reg:linear',\n",
    "              'silent': 1,\n",
    "              'seed' : 0}\n",
    "dtrain = xgb.DMatrix(train_df, train_y, feature_names=train_df.columns.values)\n",
    "model = xgb.train(dict(xgb_params, silent=0), dtrain, num_boost_round=50)\n",
    "\n",
    "# plot the important features #\n",
    "fig, ax = plt.subplots(figsize=(12,18))\n",
    "xgb.plot_importance(model, max_num_features=50, height=0.8, ax=ax)\n",
    "plt.show()"
   ]
  },
  {
   "cell_type": "code",
   "execution_count": null,
   "metadata": {},
   "outputs": [],
   "source": []
  }
 ],
 "metadata": {
  "kernelspec": {
   "display_name": "Python 3",
   "language": "python",
   "name": "python3"
  },
  "toc": {
   "base_numbering": 1,
   "nav_menu": {},
   "number_sections": true,
   "sideBar": true,
   "skip_h1_title": false,
   "title_cell": "Table of Contents",
   "title_sidebar": "Contents",
   "toc_cell": false,
   "toc_position": {},
   "toc_section_display": true,
   "toc_window_display": false
  }
 },
 "nbformat": 4,
 "nbformat_minor": 4
}
