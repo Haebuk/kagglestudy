{
 "cells": [
  {
   "cell_type": "markdown",
   "id": "patient-wagner",
   "metadata": {},
   "source": [
    "Day 37 : 21.03.12"
   ]
  },
  {
   "cell_type": "markdown",
   "id": "convinced-buddy",
   "metadata": {},
   "source": [
    "# Simple Feature Engg Notebook - Spooky Author"
   ]
  },
  {
   "cell_type": "markdown",
   "id": "coordinated-player",
   "metadata": {},
   "source": [
    "https://www.kaggle.com/sudalairajkumar/simple-feature-engg-notebook-spooky-author"
   ]
  },
  {
   "cell_type": "markdown",
   "id": "burning-acquisition",
   "metadata": {},
   "source": [
    "이 대회의 데이터셋은 다음과 같은 유명하고 무서운 저자들이 쓴 소설 작품의 텍스트를 포함한다.\n",
    "1. Edgar Allen Poe (EAP)\n",
    "2. HP Lovecraft (HPL)\n",
    "3. Mary Wollstonecraft Shelley (MWS)\n",
    "\n",
    "이 커널에선 무서운 작가를 식별하는 데 도움이 되는 다양한 변수를 만들어본다. 첫 단계로, feature engineering 파트에 깊이 들어가기 전, 몇 가지 기본적인 데이터 시각화 및 전처리를 수행한다."
   ]
  },
  {
   "cell_type": "code",
   "execution_count": 1,
   "id": "environmental-fluid",
   "metadata": {
    "ExecuteTime": {
     "end_time": "2021-03-12T12:33:10.610191Z",
     "start_time": "2021-03-12T12:33:02.344103Z"
    }
   },
   "outputs": [],
   "source": [
    "import numpy as np\n",
    "import pandas as pd\n",
    "import matplotlib.pyplot as plt\n",
    "import seaborn as sns\n",
    "import nltk\n",
    "from nltk.corpus import stopwords\n",
    "import string\n",
    "import xgboost as xgb\n",
    "from sklearn.feature_extraction.text import TfidfVectorizer, CountVectorizer\n",
    "from sklearn.decomposition import TruncatedSVD\n",
    "from sklearn import ensemble, metrics, model_selection, naive_bayes\n",
    "color = sns.color_palette()\n",
    "\n",
    "%matplotlib inline\n",
    "\n",
    "eng_stopwords = set(stopwords.words('english'))\n",
    "pd.options.mode.chained_assignment = None"
   ]
  },
  {
   "cell_type": "code",
   "execution_count": 7,
   "id": "promising-manor",
   "metadata": {
    "ExecuteTime": {
     "end_time": "2021-03-12T12:36:48.632255Z",
     "start_time": "2021-03-12T12:36:48.628264Z"
    }
   },
   "outputs": [],
   "source": [
    "import warnings\n",
    "warnings.filterwarnings('ignore')"
   ]
  },
  {
   "cell_type": "code",
   "execution_count": 2,
   "id": "sought-editing",
   "metadata": {
    "ExecuteTime": {
     "end_time": "2021-03-12T12:34:24.927715Z",
     "start_time": "2021-03-12T12:34:24.798062Z"
    }
   },
   "outputs": [
    {
     "name": "stdout",
     "output_type": "stream",
     "text": [
      "Number of rows in train dataset :  19579\n",
      "Number of rows in test dataset :  8392\n"
     ]
    }
   ],
   "source": [
    "train_df = pd.read_csv('../input/train.csv')\n",
    "test_df = pd.read_csv('../input/test.csv')\n",
    "print('Number of rows in train dataset : ', train_df.shape[0])\n",
    "print('Number of rows in test dataset : ', test_df.shape[0])"
   ]
  },
  {
   "cell_type": "code",
   "execution_count": 4,
   "id": "parental-intention",
   "metadata": {
    "ExecuteTime": {
     "end_time": "2021-03-12T12:34:35.236131Z",
     "start_time": "2021-03-12T12:34:35.222129Z"
    }
   },
   "outputs": [
    {
     "data": {
      "text/html": [
       "<div>\n",
       "<style scoped>\n",
       "    .dataframe tbody tr th:only-of-type {\n",
       "        vertical-align: middle;\n",
       "    }\n",
       "\n",
       "    .dataframe tbody tr th {\n",
       "        vertical-align: top;\n",
       "    }\n",
       "\n",
       "    .dataframe thead th {\n",
       "        text-align: right;\n",
       "    }\n",
       "</style>\n",
       "<table border=\"1\" class=\"dataframe\">\n",
       "  <thead>\n",
       "    <tr style=\"text-align: right;\">\n",
       "      <th></th>\n",
       "      <th>id</th>\n",
       "      <th>text</th>\n",
       "      <th>author</th>\n",
       "    </tr>\n",
       "  </thead>\n",
       "  <tbody>\n",
       "    <tr>\n",
       "      <th>0</th>\n",
       "      <td>id26305</td>\n",
       "      <td>This process, however, afforded me no means of...</td>\n",
       "      <td>EAP</td>\n",
       "    </tr>\n",
       "    <tr>\n",
       "      <th>1</th>\n",
       "      <td>id17569</td>\n",
       "      <td>It never once occurred to me that the fumbling...</td>\n",
       "      <td>HPL</td>\n",
       "    </tr>\n",
       "    <tr>\n",
       "      <th>2</th>\n",
       "      <td>id11008</td>\n",
       "      <td>In his left hand was a gold snuff box, from wh...</td>\n",
       "      <td>EAP</td>\n",
       "    </tr>\n",
       "    <tr>\n",
       "      <th>3</th>\n",
       "      <td>id27763</td>\n",
       "      <td>How lovely is spring As we looked from Windsor...</td>\n",
       "      <td>MWS</td>\n",
       "    </tr>\n",
       "    <tr>\n",
       "      <th>4</th>\n",
       "      <td>id12958</td>\n",
       "      <td>Finding nothing else, not even gold, the Super...</td>\n",
       "      <td>HPL</td>\n",
       "    </tr>\n",
       "  </tbody>\n",
       "</table>\n",
       "</div>"
      ],
      "text/plain": [
       "        id                                               text author\n",
       "0  id26305  This process, however, afforded me no means of...    EAP\n",
       "1  id17569  It never once occurred to me that the fumbling...    HPL\n",
       "2  id11008  In his left hand was a gold snuff box, from wh...    EAP\n",
       "3  id27763  How lovely is spring As we looked from Windsor...    MWS\n",
       "4  id12958  Finding nothing else, not even gold, the Super...    HPL"
      ]
     },
     "execution_count": 4,
     "metadata": {},
     "output_type": "execute_result"
    }
   ],
   "source": [
    "train_df.head()"
   ]
  },
  {
   "cell_type": "markdown",
   "id": "elder-enclosure",
   "metadata": {},
   "source": [
    "클래스가 균형적인지 보기 위해 각 저자의 발생 횟수를 확인할 수 있다."
   ]
  },
  {
   "cell_type": "code",
   "execution_count": 8,
   "id": "literary-effectiveness",
   "metadata": {
    "ExecuteTime": {
     "end_time": "2021-03-12T12:36:51.818174Z",
     "start_time": "2021-03-12T12:36:51.590959Z"
    }
   },
   "outputs": [
    {
     "data": {
      "image/png": "[encoded data removed]",
      "text/plain": [
       "<Figure size 576x288 with 1 Axes>"
      ]
     },
     "metadata": {
      "needs_background": "light"
     },
     "output_type": "display_data"
    }
   ],
   "source": [
    "cnt_srs = train_df['author'].value_counts()\n",
    "\n",
    "plt.figure(figsize=(8,4))\n",
    "sns.barplot(cnt_srs.index, cnt_srs.values, alpha=0.8)\n",
    "plt.ylabel('Number of Occurences', fontsize=12)\n",
    "plt.xlabel('Author Name', fontsize=12)\n",
    "plt.show()"
   ]
  },
  {
   "cell_type": "markdown",
   "id": "afraid-server",
   "metadata": {},
   "source": [
    "클래스의 불균형이 심하지 않다. 각 저자의 몇 줄씩 출력해 가능하면 그들의 작문 스타일을 이해보자."
   ]
  },
  {
   "cell_type": "code",
   "execution_count": 9,
   "id": "numerical-ocean",
   "metadata": {
    "ExecuteTime": {
     "end_time": "2021-03-12T12:38:35.813107Z",
     "start_time": "2021-03-12T12:38:35.792120Z"
    }
   },
   "outputs": [
    {
     "name": "stdout",
     "output_type": "stream",
     "text": [
      "Author name :  EAP\n",
      "This process, however, afforded me no means of ascertaining the dimensions of my dungeon; as I might make its circuit, and return to the point whence I set out, without being aware of the fact; so perfectly uniform seemed the wall.\n",
      "In his left hand was a gold snuff box, from which, as he capered down the hill, cutting all manner of fantastic steps, he took snuff incessantly with an air of the greatest possible self satisfaction.\n",
      "The astronomer, perhaps, at this point, took refuge in the suggestion of non luminosity; and here analogy was suddenly let fall.\n",
      "The surcingle hung in ribands from my body.\n",
      "I knew that you could not say to yourself 'stereotomy' without being brought to think of atomies, and thus of the theories of Epicurus; and since, when we discussed this subject not very long ago, I mentioned to you how singularly, yet with how little notice, the vague guesses of that noble Greek had met with confirmation in the late nebular cosmogony, I felt that you could not avoid casting your eyes upward to the great nebula in Orion, and I certainly expected that you would do so.\n",
      "\n",
      "\n",
      "Author name :  HPL\n",
      "It never once occurred to me that the fumbling might be a mere mistake.\n",
      "Finding nothing else, not even gold, the Superintendent abandoned his attempts; but a perplexed look occasionally steals over his countenance as he sits thinking at his desk.\n",
      "Herbert West needed fresh bodies because his life work was the reanimation of the dead.\n",
      "The farm like grounds extended back very deeply up the hill, almost to Wheaton Street.\n",
      "His facial aspect, too, was remarkable for its maturity; for though he shared his mother's and grandfather's chinlessness, his firm and precociously shaped nose united with the expression of his large, dark, almost Latin eyes to give him an air of quasi adulthood and well nigh preternatural intelligence.\n",
      "\n",
      "\n",
      "Author name :  MWS\n",
      "How lovely is spring As we looked from Windsor Terrace on the sixteen fertile counties spread beneath, speckled by happy cottages and wealthier towns, all looked as in former years, heart cheering and fair.\n",
      "A youth passed in solitude, my best years spent under your gentle and feminine fosterage, has so refined the groundwork of my character that I cannot overcome an intense distaste to the usual brutality exercised on board ship: I have never believed it to be necessary, and when I heard of a mariner equally noted for his kindliness of heart and the respect and obedience paid to him by his crew, I felt myself peculiarly fortunate in being able to secure his services.\n",
      "I confess that neither the structure of languages, nor the code of governments, nor the politics of various states possessed attractions for me.\n",
      "He shall find that I can feel my injuries; he shall learn to dread my revenge\" A few days after he arrived.\n",
      "He had escaped me, and I must commence a destructive and almost endless journey across the mountainous ices of the ocean, amidst cold that few of the inhabitants could long endure and which I, the native of a genial and sunny climate, could not hope to survive.\n",
      "\n",
      "\n"
     ]
    }
   ],
   "source": [
    "grouped_df = train_df.groupby('author')\n",
    "for name, group in grouped_df:\n",
    "    print('Author name : ', name)\n",
    "    cnt = 0\n",
    "    for ind, row in group.iterrows():\n",
    "        print(row['text'])\n",
    "        cnt += 1\n",
    "        if cnt == 5:\n",
    "            break\n",
    "    print('\\n')"
   ]
  },
  {
   "cell_type": "markdown",
   "id": "instant-running",
   "metadata": {},
   "source": [
    "text 데이터에 특수문자가 많다는 것을 알 수 있다. 이 특수문자들이 좋은 변수일 수 있다.\n",
    "\n",
    "그거 말고는, 단서가 많지 않다. "
   ]
  },
  {
   "cell_type": "markdown",
   "id": "progressive-chest",
   "metadata": {},
   "source": [
    "## Feature engineering"
   ]
  },
  {
   "cell_type": "markdown",
   "id": "selected-blink",
   "metadata": {},
   "source": [
    "이제 feature engineering을 해보자. 두 가지 주요 부분으로 구성된다.\n",
    "\n",
    "1. Meta features : 단어 수, 중지단어 수, 문장부호 수 등과 같은 text에서 추출되는 변수\n",
    "2. Text based features : 빈도, svd, word2vec 등과 같은 텍스트/단어을 직접적 기반으로 하는 변수"
   ]
  },
  {
   "cell_type": "markdown",
   "id": "fuzzy-relay",
   "metadata": {},
   "source": [
    "### Meta Features"
   ]
  },
  {
   "cell_type": "markdown",
   "id": "genuine-invalid",
   "metadata": {},
   "source": [
    "메타 변수를 만든느 것부터 시작해 그것들이 작가를 얼마나 잘 예측하는지 볼 것이다. 다음은 변수 목록이다.\n",
    "1. 텍스트의 단어 수\n",
    "2. 텍스트의 고유 단어 수\n",
    "3. 텍스트의 문자 수\n",
    "4. 중지단어 수\n",
    "5. 구두점 수\n",
    "6. 대문자 수\n",
    "7. 제목 수\n",
    "8. 단어 평균 길이"
   ]
  },
  {
   "cell_type": "code",
   "execution_count": 16,
   "id": "automatic-target",
   "metadata": {
    "ExecuteTime": {
     "end_time": "2021-03-12T12:54:12.079688Z",
     "start_time": "2021-03-12T12:54:10.224643Z"
    }
   },
   "outputs": [],
   "source": [
    "# 1. 텍스트의 단어 수\n",
    "train_df['num_words'] = train_df['text'].apply(lambda x: len(str(x).split()))\n",
    "test_df['num_words'] = test_df['text'].apply(lambda x:  len(str(x).split()))\n",
    "\n",
    "# 2. 텍스트의 고유 단어 수\n",
    "train_df['num_unique_words'] = train_df['text'].apply(lambda x: len(set(str(x).split())))\n",
    "test_df['num_unique_words'] = test_df['text'].apply(lambda x: len(set(str(x).split())))\n",
    "\n",
    "# 3. 텍스트의 문자 수\n",
    "train_df['num_chars'] = train_df['text'].apply(lambda x: len(str(x)))\n",
    "test_df['num_chars'] = test_df['text'].apply(lambda x: len(str(x)))\n",
    "\n",
    "# 4. 텍스트의 중지단어 수\n",
    "train_df['num_stopwords'] = train_df['text'].apply(lambda x: len([w for w in str(x).lower().split() if w in eng_stopwords]))\n",
    "test_df['num_stopwords'] = test_df['text'].apply(lambda x: len([w for w in str(x).lower().split() if w in eng_stopwords]))\n",
    "\n",
    "# 5. 텍스트의 구두점 수\n",
    "train_df['num_punctuations'] = train_df['text'].apply(lambda x: len([c for c in str(x) if c in string.punctuation]))\n",
    "test_df['num_punctuations'] = test_df['text'].apply(lambda x: len([c for c in str(x) if c in string.punctuation]))\n",
    "\n",
    "# 6. 텍스트의 대문자 수\n",
    "train_df['num_words_upper'] = train_df['text'].apply(lambda x: len([w for w in str(x).split() if w.isupper()]))\n",
    "test_df['num_words_upper'] = test_df['text'].apply(lambda x: len([w for w in str(x).split() if w.isupper()]))\n",
    "\n",
    "# 7. 텍스트의 제목 수\n",
    "train_df['num_words_title'] = train_df['text'].apply(lambda x: len([w for w in str(x).split() if w.istitle()]))\n",
    "test_df['num_words_title'] = test_df['text'].apply(lambda x: len([w for w in str(x).split() if w.istitle()]))\n",
    "\n",
    "# 8. 텍스트의 단어 평균 길이\n",
    "train_df['mean_word_len'] = train_df['text'].apply(lambda x: np.mean([len(w) for w in str(x).split()]))\n",
    "test_df['mean_word_len'] = test_df['text'].apply(lambda x: np.mean([len(w) for w in str(x).split()]))"
   ]
  },
  {
   "cell_type": "markdown",
   "id": "taken-character",
   "metadata": {},
   "source": [
    "이제 예측에 도움이 될지 보기 위해 새로운 변수 중 일부를 시각화해보자."
   ]
  },
  {
   "cell_type": "code",
   "execution_count": 18,
   "id": "driven-palestine",
   "metadata": {
    "ExecuteTime": {
     "end_time": "2021-03-12T12:56:26.553157Z",
     "start_time": "2021-03-12T12:56:24.326748Z"
    }
   },
   "outputs": [
    {
     "data": {
      "image/png": "[encoded data removed]",
      "text/plain": [
       "<Figure size 864x576 with 1 Axes>"
      ]
     },
     "metadata": {
      "needs_background": "light"
     },
     "output_type": "display_data"
    }
   ],
   "source": [
    "train_df['num_words'].loc[train_df['num_words']>80] = 80 # 더 나은 시각화 위해\n",
    "plt.figure(figsize=(12,8))\n",
    "sns.violinplot(x='author', y='num_words', data=train_df)\n",
    "plt.xlabel('Author Name', fontsize=12)\n",
    "plt.ylabel('Number of words in text', fontsize=12)\n",
    "plt.title('Number of words by author', fontsize=15)\n",
    "plt.show()"
   ]
  },
  {
   "cell_type": "markdown",
   "id": "recovered-crowd",
   "metadata": {},
   "source": [
    "EAP는 MWS나 HPL보다 단어 수가 약간 적어보인다."
   ]
  },
  {
   "cell_type": "code",
   "execution_count": 19,
   "id": "another-sheriff",
   "metadata": {
    "ExecuteTime": {
     "end_time": "2021-03-12T12:57:39.291327Z",
     "start_time": "2021-03-12T12:57:38.922313Z"
    }
   },
   "outputs": [
    {
     "data": {
      "image/png": "[encoded data removed]",
      "text/plain": [
       "<Figure size 864x576 with 1 Axes>"
      ]
     },
     "metadata": {
      "needs_background": "light"
     },
     "output_type": "display_data"
    }
   ],
   "source": [
    "train_df['num_punctuations'].loc[train_df['num_punctuations']>10] = 19\n",
    "plt.figure(figsize=(12,8))\n",
    "sns.violinplot(x='author', y='num_punctuations', data=train_df)\n",
    "plt.xlabel('Author Name', fontsize=12)\n",
    "plt.ylabel('Number of puntuations in text', fontsize=12)\n",
    "plt.title(\"Number of punctuations by author\", fontsize=15)\n",
    "plt.show()"
   ]
  },
  {
   "cell_type": "markdown",
   "id": "superior-hearing",
   "metadata": {},
   "source": [
    "다소 유용해보인다. 이제 텍스트 기반 변수를 만드는 데 초점을 두자. 먼저 이렇나 메타 변수가 어떻게 도움이 되는지 볼 수 있는 기본 모델을 구축한다."
   ]
  },
  {
   "cell_type": "code",
   "execution_count": 20,
   "id": "functional-teens",
   "metadata": {
    "ExecuteTime": {
     "end_time": "2021-03-12T13:00:30.051684Z",
     "start_time": "2021-03-12T13:00:29.176603Z"
    }
   },
   "outputs": [],
   "source": [
    "# 모델링 위한 데이터 준비\n",
    "author_mapping_dict = {'EAP':0, 'HPL':1, 'MWS':2}\n",
    "train_y = train_df['author'].map(author_mapping_dict)\n",
    "train_id = train_df['id'].values\n",
    "test_id = test_df['id'].values\n",
    "\n",
    "# 잘라낸 변수 다시 계산\n",
    "train_df['num_words'] = train_df['text'].apply(lambda x: len(str(x).split()))\n",
    "test_df[\"num_words\"] = test_df[\"text\"].apply(lambda x: len(str(x).split()))\n",
    "train_df[\"mean_word_len\"] = train_df[\"text\"].apply(lambda x: np.mean([len(w) for w in str(x).split()]))\n",
    "test_df[\"mean_word_len\"] = test_df[\"text\"].apply(lambda x: np.mean([len(w) for w in str(x).split()]))\n",
    "\n",
    "cols_to_drop = ['id','text']\n",
    "train_X = train_df.drop(cols_to_drop+['author'], axis=1)\n",
    "test_X = test_df.drop(cols_to_drop, axis=1)"
   ]
  },
  {
   "cell_type": "markdown",
   "id": "certified-boston",
   "metadata": {},
   "source": [
    "이 메타 변수만으로 XGBoost를 학습시킬 수 있다."
   ]
  },
  {
   "cell_type": "code",
   "execution_count": 21,
   "id": "composed-drawing",
   "metadata": {
    "ExecuteTime": {
     "end_time": "2021-03-12T13:04:26.595193Z",
     "start_time": "2021-03-12T13:04:26.574250Z"
    }
   },
   "outputs": [],
   "source": [
    "def runXGB(train_X, train_y, test_X, test_y=None, test_X2=None, seed_val=0, child=1, colsample=0.3):\n",
    "    param = {}\n",
    "    param['objective'] = 'multi:softprob'\n",
    "    param['eta'] = 0.1\n",
    "    param['max_depth'] = 3\n",
    "    param['silent'] = 1\n",
    "    param['num_class'] = 3\n",
    "    param['eval_metric'] = \"mlogloss\"\n",
    "    param['min_child_weight'] = child\n",
    "    param['subsample'] = 0.8\n",
    "    param['colsample_bytree'] = colsample\n",
    "    param['seed'] = seed_val\n",
    "    num_rounds = 2000\n",
    "    \n",
    "    plst = list(param.items())\n",
    "    xgtrain = xgb.DMatrix(train_X, label=train_y)\n",
    "    \n",
    "    if test_y is not None:\n",
    "        xgtest = xbg.DMatrix(test_X, label=test_y)\n",
    "        watchlist = [(xgtrain,'train'), (xgtest,'test')]\n",
    "        model = xgb.train(plst, xgtrain, num_rounds, watchlist, early_stopping_rounds=50, verbose_eval=20)\n",
    "    else:\n",
    "        xgtest = xgb.Dmatrix(test_y)\n",
    "        model = xgb.train(plst, xgtrain, num_rounds)\n",
    "        \n",
    "    pred_test_y = model.predict(xgtest, ntree_limit=model.best_ntree_limit)\n",
    "    if test_X2 is not None:\n",
    "        xgtest2 = xgb.DMatrix(test_X2)\n",
    "        pred_test_y2 = model.predict(xgtest2, ntree_limit=model.best_ntree_limit)\n",
    "        \n",
    "    return pred_test_y, pred_test_y2, model"
   ]
  },
  {
   "cell_type": "code",
   "execution_count": null,
   "id": "powered-botswana",
   "metadata": {},
   "outputs": [],
   "source": []
  },
  {
   "cell_type": "code",
   "execution_count": null,
   "id": "induced-shelter",
   "metadata": {},
   "outputs": [],
   "source": []
  },
  {
   "cell_type": "code",
   "execution_count": null,
   "id": "personal-vermont",
   "metadata": {},
   "outputs": [],
   "source": []
  },
  {
   "cell_type": "code",
   "execution_count": null,
   "id": "tutorial-recipient",
   "metadata": {},
   "outputs": [],
   "source": []
  },
  {
   "cell_type": "code",
   "execution_count": null,
   "id": "helpful-commitment",
   "metadata": {},
   "outputs": [],
   "source": []
  },
  {
   "cell_type": "code",
   "execution_count": null,
   "id": "tight-pathology",
   "metadata": {},
   "outputs": [],
   "source": []
  },
  {
   "cell_type": "code",
   "execution_count": null,
   "id": "embedded-sunrise",
   "metadata": {},
   "outputs": [],
   "source": []
  },
  {
   "cell_type": "code",
   "execution_count": null,
   "id": "adaptive-withdrawal",
   "metadata": {},
   "outputs": [],
   "source": []
  },
  {
   "cell_type": "code",
   "execution_count": null,
   "id": "south-nomination",
   "metadata": {},
   "outputs": [],
   "source": []
  },
  {
   "cell_type": "code",
   "execution_count": null,
   "id": "innocent-halifax",
   "metadata": {},
   "outputs": [],
   "source": []
  },
  {
   "cell_type": "code",
   "execution_count": null,
   "id": "specific-survival",
   "metadata": {},
   "outputs": [],
   "source": []
  },
  {
   "cell_type": "code",
   "execution_count": null,
   "id": "advised-straight",
   "metadata": {},
   "outputs": [],
   "source": []
  },
  {
   "cell_type": "code",
   "execution_count": null,
   "id": "controlling-locking",
   "metadata": {},
   "outputs": [],
   "source": []
  },
  {
   "cell_type": "code",
   "execution_count": null,
   "id": "hundred-symposium",
   "metadata": {},
   "outputs": [],
   "source": []
  },
  {
   "cell_type": "code",
   "execution_count": null,
   "id": "altered-novel",
   "metadata": {},
   "outputs": [],
   "source": []
  },
  {
   "cell_type": "code",
   "execution_count": null,
   "id": "posted-connectivity",
   "metadata": {},
   "outputs": [],
   "source": []
  },
  {
   "cell_type": "code",
   "execution_count": null,
   "id": "intensive-preservation",
   "metadata": {},
   "outputs": [],
   "source": []
  },
  {
   "cell_type": "code",
   "execution_count": null,
   "id": "characteristic-impossible",
   "metadata": {},
   "outputs": [],
   "source": []
  }
 ],
 "metadata": {
  "kernelspec": {
   "display_name": "Python 3",
   "language": "python",
   "name": "python3"
  },
  "language_info": {
   "codemirror_mode": {
    "name": "ipython",
    "version": 3
   },
   "file_extension": ".py",
   "mimetype": "text/x-python",
   "name": "python",
   "nbconvert_exporter": "python",
   "pygments_lexer": "ipython3",
   "version": "3.8.5"
  },
  "toc": {
   "base_numbering": 1,
   "nav_menu": {},
   "number_sections": false,
   "sideBar": true,
   "skip_h1_title": false,
   "title_cell": "Table of Contents",
   "title_sidebar": "Contents",
   "toc_cell": false,
   "toc_position": {},
   "toc_section_display": true,
   "toc_window_display": false
  },
  "varInspector": {
   "cols": {
    "lenName": 16,
    "lenType": 16,
    "lenVar": 40
   },
   "kernels_config": {
    "python": {
     "delete_cmd_postfix": "",
     "delete_cmd_prefix": "del ",
     "library": "var_list.py",
     "varRefreshCmd": "print(var_dic_list())"
    },
    "r": {
     "delete_cmd_postfix": ") ",
     "delete_cmd_prefix": "rm(",
     "library": "var_list.r",
     "varRefreshCmd": "cat(var_dic_list()) "
    }
   },
   "types_to_exclude": [
    "module",
    "function",
    "builtin_function_or_method",
    "instance",
    "_Feature"
   ],
   "window_display": false
  }
 },
 "nbformat": 4,
 "nbformat_minor": 5
}
