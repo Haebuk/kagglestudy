{
 "cells": [
  {
   "cell_type": "markdown",
   "id": "proof-boxing",
   "metadata": {},
   "source": [
    "# Kaggle Survey - Data Analysis Report\n",
    "https://www.kaggle.com/mhajabri/what-do-kagglers-say-about-data-science\n",
    "\n",
    "## About the Survey\n",
    "이 설문조사에 16716명의 Kaggle 응답자가 있었습니다. 이 질문에는 작업 커뮤니티와 학습 커뮤니티 모두에 대한 특정 DS/ML 질문으로 넘어가기 전에 일반적인 인구 통계 질문부터 시작하여 광범위한 스펙트럼이 다루어졌습니다.\n",
    "\n",
    "이 설문조사와 함께 제공되는 파일은 5개입니다.\n",
    "\n",
    "- multipleChoiceResponses.csv : 객관식 질문에 대한 참가자의 답변입니다. 각 열에는 특정 질문에 대한 응답자 한 명의 답변이 들어 있습니다.\n",
    "- freeform Responses.csv : 응답자가 'Other'를 선택하고 'Please specify' 부분을 채울 때마다, 이 csv파일에 응답이 추가됩니다.\n",
    "- schema.csv : 이 파일은 질문받은 모든 질문을 포함하고, 각각의 질문에 대해 설명하고, 질문받은 사람(학습자, 코더 등)을 정확하게 설명합니다.\n",
    "- RespendTypeREADME.txt : Kaggle에 의해 인스턴스가 정의되는 방법, 즉 학습자, 작업자, 코딩 작업자 등을 이해하기 위한 것입니다.\n",
    "- conversionRates.csv : USD에 대한 환율입니다.\n",
    "\n",
    "가장 중요한 파일은 필요한 대부분의 정보를 포함하는 multipleChoiceRespones.csv입니다. ResponentTypeREADME.txt는 kagglers 및 schema.csv의 특정 커뮤니티의 동작을 이해하려는 경우에 필요합니다.\n",
    "\n",
    "파일을 로드해보겠습니다."
   ]
  },
  {
   "cell_type": "code",
   "execution_count": 2,
   "id": "killing-diana",
   "metadata": {
    "ExecuteTime": {
     "end_time": "2021-04-12T13:40:13.848823Z",
     "start_time": "2021-04-12T13:40:13.838813Z"
    }
   },
   "outputs": [
    {
     "data": {
      "text/html": [
       "        <script type=\"text/javascript\">\n",
       "        window.PlotlyConfig = {MathJaxConfig: 'local'};\n",
       "        if (window.MathJax) {MathJax.Hub.Config({SVG: {font: \"STIX-Web\"}});}\n",
       "        if (typeof require !== 'undefined') {\n",
       "        require.undef(\"plotly\");\n",
       "        requirejs.config({\n",
       "            paths: {\n",
       "                'plotly': ['https://cdn.plot.ly/plotly-latest.min']\n",
       "            }\n",
       "        });\n",
       "        require(['plotly'], function(Plotly) {\n",
       "            window._Plotly = Plotly;\n",
       "        });\n",
       "        }\n",
       "        </script>\n",
       "        "
      ]
     },
     "metadata": {},
     "output_type": "display_data"
    }
   ],
   "source": [
    "import numpy as np\n",
    "import pandas as pd\n",
    "import matplotlib.pyplot as plt\n",
    "import seaborn as sns\n",
    "sns.set(color_codes=True)\n",
    "import operator\n",
    "\n",
    "import plotly.offline as py\n",
    "py.init_notebook_mode(connected=True)\n",
    "import plotly.graph_objs as go\n",
    "import plotly.tools as tls"
   ]
  },
  {
   "cell_type": "code",
   "execution_count": 3,
   "id": "sacred-immigration",
   "metadata": {
    "ExecuteTime": {
     "end_time": "2021-04-12T13:41:03.195109Z",
     "start_time": "2021-04-12T13:41:02.729687Z"
    }
   },
   "outputs": [
    {
     "name": "stderr",
     "output_type": "stream",
     "text": [
      "C:\\ProgramData\\Anaconda3\\envs\\tens_2g\\lib\\site-packages\\IPython\\core\\interactiveshell.py:3166: DtypeWarning:\n",
      "\n",
      "Columns (5,17,21,38,50) have mixed types.Specify dtype option on import or set low_memory=False.\n",
      "\n",
      "C:\\ProgramData\\Anaconda3\\envs\\tens_2g\\lib\\site-packages\\IPython\\core\\interactiveshell.py:3166: DtypeWarning:\n",
      "\n",
      "Columns (31,83,86,87,98,99,109,116,123,124,127,129,130,164) have mixed types.Specify dtype option on import or set low_memory=False.\n",
      "\n"
     ]
    }
   ],
   "source": [
    "cvRates = pd.read_csv('./input/conversionRates.csv', encoding='ISO-8859-1')\n",
    "freeForm = pd.read_csv('./input/freeformResponses.csv', encoding='ISO-8859-1')\n",
    "data = pd.read_csv('./input/multipleChoiceResponses.csv', encoding='ISO-8859-1')\n",
    "schema = pd.read_csv('./input/schema.csv', encoding='ISO-8859-1')"
   ]
  }
 ],
 "metadata": {
  "kernelspec": {
   "display_name": "Python 3",
   "language": "python",
   "name": "python3"
  },
  "language_info": {
   "codemirror_mode": {
    "name": "ipython",
    "version": 3
   },
   "file_extension": ".py",
   "mimetype": "text/x-python",
   "name": "python",
   "nbconvert_exporter": "python",
   "pygments_lexer": "ipython3",
   "version": "3.7.10"
  },
  "toc": {
   "base_numbering": 1,
   "nav_menu": {},
   "number_sections": false,
   "sideBar": true,
   "skip_h1_title": false,
   "title_cell": "Table of Contents",
   "title_sidebar": "Contents",
   "toc_cell": false,
   "toc_position": {},
   "toc_section_display": true,
   "toc_window_display": false
  },
  "varInspector": {
   "cols": {
    "lenName": 16,
    "lenType": 16,
    "lenVar": 40
   },
   "kernels_config": {
    "python": {
     "delete_cmd_postfix": "",
     "delete_cmd_prefix": "del ",
     "library": "var_list.py",
     "varRefreshCmd": "print(var_dic_list())"
    },
    "r": {
     "delete_cmd_postfix": ") ",
     "delete_cmd_prefix": "rm(",
     "library": "var_list.r",
     "varRefreshCmd": "cat(var_dic_list()) "
    }
   },
   "types_to_exclude": [
    "module",
    "function",
    "builtin_function_or_method",
    "instance",
    "_Feature"
   ],
   "window_display": false
  }
 },
 "nbformat": 4,
 "nbformat_minor": 5
}
