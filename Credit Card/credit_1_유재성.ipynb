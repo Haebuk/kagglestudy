{
 "cells": [
  {
   "cell_type": "markdown",
   "id": "current-worship",
   "metadata": {},
   "source": [
    "# In depth skewed data classif.\n",
    "https://www.kaggle.com/joparga3/in-depth-skewed-data-classif-93-recall-acc-now"
   ]
  },
  {
   "cell_type": "markdown",
   "id": "wrong-music",
   "metadata": {},
   "source": [
    "이 노트북은 편향된 데이터에 대해 여러 테스트를 합니다. 해당 아이디어는 예측 모델의 효율성을 저해할 수 있는 어떤 압도적인 주 클래스가 있을 때 어떤 전처리가 더 잘 작동하는지를 비교합니다.\n",
    "\n",
    "각기 다른 모델에 하이퍼파라미터 튜닝에 대한 교차 검증도 살펴 봅니다. 다음과 같은 모델을 사용합니다:\n",
    "1. Logistic Regression\n",
    "2. SVM\n",
    "3. Decision Trees"
   ]
  },
  {
   "cell_type": "code",
   "execution_count": 30,
   "id": "academic-liver",
   "metadata": {
    "ExecuteTime": {
     "end_time": "2021-04-01T12:11:29.963272Z",
     "start_time": "2021-04-01T12:11:29.947272Z"
    }
   },
   "outputs": [],
   "source": [
    "import pandas as pd\n",
    "import matplotlib.pyplot as plt\n",
    "import numpy as np\n",
    "\n",
    "%matplotlib inline"
   ]
  },
  {
   "cell_type": "markdown",
   "id": "yellow-copyright",
   "metadata": {},
   "source": [
    "## Loading the dataset"
   ]
  },
  {
   "cell_type": "code",
   "execution_count": 31,
   "id": "naval-console",
   "metadata": {
    "ExecuteTime": {
     "end_time": "2021-04-01T12:11:31.094874Z",
     "start_time": "2021-04-01T12:11:29.964271Z"
    }
   },
   "outputs": [
    {
     "data": {
      "text/html": [
       "<div>\n",
       "<style scoped>\n",
       "    .dataframe tbody tr th:only-of-type {\n",
       "        vertical-align: middle;\n",
       "    }\n",
       "\n",
       "    .dataframe tbody tr th {\n",
       "        vertical-align: top;\n",
       "    }\n",
       "\n",
       "    .dataframe thead th {\n",
       "        text-align: right;\n",
       "    }\n",
       "</style>\n",
       "<table border=\"1\" class=\"dataframe\">\n",
       "  <thead>\n",
       "    <tr style=\"text-align: right;\">\n",
       "      <th></th>\n",
       "      <th>Time</th>\n",
       "      <th>V1</th>\n",
       "      <th>V2</th>\n",
       "      <th>V3</th>\n",
       "      <th>V4</th>\n",
       "      <th>V5</th>\n",
       "      <th>V6</th>\n",
       "      <th>V7</th>\n",
       "      <th>V8</th>\n",
       "      <th>V9</th>\n",
       "      <th>...</th>\n",
       "      <th>V21</th>\n",
       "      <th>V22</th>\n",
       "      <th>V23</th>\n",
       "      <th>V24</th>\n",
       "      <th>V25</th>\n",
       "      <th>V26</th>\n",
       "      <th>V27</th>\n",
       "      <th>V28</th>\n",
       "      <th>Amount</th>\n",
       "      <th>Class</th>\n",
       "    </tr>\n",
       "  </thead>\n",
       "  <tbody>\n",
       "    <tr>\n",
       "      <th>0</th>\n",
       "      <td>0.0</td>\n",
       "      <td>-1.359807</td>\n",
       "      <td>-0.072781</td>\n",
       "      <td>2.536347</td>\n",
       "      <td>1.378155</td>\n",
       "      <td>-0.338321</td>\n",
       "      <td>0.462388</td>\n",
       "      <td>0.239599</td>\n",
       "      <td>0.098698</td>\n",
       "      <td>0.363787</td>\n",
       "      <td>...</td>\n",
       "      <td>-0.018307</td>\n",
       "      <td>0.277838</td>\n",
       "      <td>-0.110474</td>\n",
       "      <td>0.066928</td>\n",
       "      <td>0.128539</td>\n",
       "      <td>-0.189115</td>\n",
       "      <td>0.133558</td>\n",
       "      <td>-0.021053</td>\n",
       "      <td>149.62</td>\n",
       "      <td>0</td>\n",
       "    </tr>\n",
       "    <tr>\n",
       "      <th>1</th>\n",
       "      <td>0.0</td>\n",
       "      <td>1.191857</td>\n",
       "      <td>0.266151</td>\n",
       "      <td>0.166480</td>\n",
       "      <td>0.448154</td>\n",
       "      <td>0.060018</td>\n",
       "      <td>-0.082361</td>\n",
       "      <td>-0.078803</td>\n",
       "      <td>0.085102</td>\n",
       "      <td>-0.255425</td>\n",
       "      <td>...</td>\n",
       "      <td>-0.225775</td>\n",
       "      <td>-0.638672</td>\n",
       "      <td>0.101288</td>\n",
       "      <td>-0.339846</td>\n",
       "      <td>0.167170</td>\n",
       "      <td>0.125895</td>\n",
       "      <td>-0.008983</td>\n",
       "      <td>0.014724</td>\n",
       "      <td>2.69</td>\n",
       "      <td>0</td>\n",
       "    </tr>\n",
       "    <tr>\n",
       "      <th>2</th>\n",
       "      <td>1.0</td>\n",
       "      <td>-1.358354</td>\n",
       "      <td>-1.340163</td>\n",
       "      <td>1.773209</td>\n",
       "      <td>0.379780</td>\n",
       "      <td>-0.503198</td>\n",
       "      <td>1.800499</td>\n",
       "      <td>0.791461</td>\n",
       "      <td>0.247676</td>\n",
       "      <td>-1.514654</td>\n",
       "      <td>...</td>\n",
       "      <td>0.247998</td>\n",
       "      <td>0.771679</td>\n",
       "      <td>0.909412</td>\n",
       "      <td>-0.689281</td>\n",
       "      <td>-0.327642</td>\n",
       "      <td>-0.139097</td>\n",
       "      <td>-0.055353</td>\n",
       "      <td>-0.059752</td>\n",
       "      <td>378.66</td>\n",
       "      <td>0</td>\n",
       "    </tr>\n",
       "    <tr>\n",
       "      <th>3</th>\n",
       "      <td>1.0</td>\n",
       "      <td>-0.966272</td>\n",
       "      <td>-0.185226</td>\n",
       "      <td>1.792993</td>\n",
       "      <td>-0.863291</td>\n",
       "      <td>-0.010309</td>\n",
       "      <td>1.247203</td>\n",
       "      <td>0.237609</td>\n",
       "      <td>0.377436</td>\n",
       "      <td>-1.387024</td>\n",
       "      <td>...</td>\n",
       "      <td>-0.108300</td>\n",
       "      <td>0.005274</td>\n",
       "      <td>-0.190321</td>\n",
       "      <td>-1.175575</td>\n",
       "      <td>0.647376</td>\n",
       "      <td>-0.221929</td>\n",
       "      <td>0.062723</td>\n",
       "      <td>0.061458</td>\n",
       "      <td>123.50</td>\n",
       "      <td>0</td>\n",
       "    </tr>\n",
       "    <tr>\n",
       "      <th>4</th>\n",
       "      <td>2.0</td>\n",
       "      <td>-1.158233</td>\n",
       "      <td>0.877737</td>\n",
       "      <td>1.548718</td>\n",
       "      <td>0.403034</td>\n",
       "      <td>-0.407193</td>\n",
       "      <td>0.095921</td>\n",
       "      <td>0.592941</td>\n",
       "      <td>-0.270533</td>\n",
       "      <td>0.817739</td>\n",
       "      <td>...</td>\n",
       "      <td>-0.009431</td>\n",
       "      <td>0.798278</td>\n",
       "      <td>-0.137458</td>\n",
       "      <td>0.141267</td>\n",
       "      <td>-0.206010</td>\n",
       "      <td>0.502292</td>\n",
       "      <td>0.219422</td>\n",
       "      <td>0.215153</td>\n",
       "      <td>69.99</td>\n",
       "      <td>0</td>\n",
       "    </tr>\n",
       "  </tbody>\n",
       "</table>\n",
       "<p>5 rows × 31 columns</p>\n",
       "</div>"
      ],
      "text/plain": [
       "   Time        V1        V2        V3        V4        V5        V6        V7  \\\n",
       "0   0.0 -1.359807 -0.072781  2.536347  1.378155 -0.338321  0.462388  0.239599   \n",
       "1   0.0  1.191857  0.266151  0.166480  0.448154  0.060018 -0.082361 -0.078803   \n",
       "2   1.0 -1.358354 -1.340163  1.773209  0.379780 -0.503198  1.800499  0.791461   \n",
       "3   1.0 -0.966272 -0.185226  1.792993 -0.863291 -0.010309  1.247203  0.237609   \n",
       "4   2.0 -1.158233  0.877737  1.548718  0.403034 -0.407193  0.095921  0.592941   \n",
       "\n",
       "         V8        V9  ...       V21       V22       V23       V24       V25  \\\n",
       "0  0.098698  0.363787  ... -0.018307  0.277838 -0.110474  0.066928  0.128539   \n",
       "1  0.085102 -0.255425  ... -0.225775 -0.638672  0.101288 -0.339846  0.167170   \n",
       "2  0.247676 -1.514654  ...  0.247998  0.771679  0.909412 -0.689281 -0.327642   \n",
       "3  0.377436 -1.387024  ... -0.108300  0.005274 -0.190321 -1.175575  0.647376   \n",
       "4 -0.270533  0.817739  ... -0.009431  0.798278 -0.137458  0.141267 -0.206010   \n",
       "\n",
       "        V26       V27       V28  Amount  Class  \n",
       "0 -0.189115  0.133558 -0.021053  149.62      0  \n",
       "1  0.125895 -0.008983  0.014724    2.69      0  \n",
       "2 -0.139097 -0.055353 -0.059752  378.66      0  \n",
       "3 -0.221929  0.062723  0.061458  123.50      0  \n",
       "4  0.502292  0.219422  0.215153   69.99      0  \n",
       "\n",
       "[5 rows x 31 columns]"
      ]
     },
     "execution_count": 31,
     "metadata": {},
     "output_type": "execute_result"
    }
   ],
   "source": [
    "data = pd.read_csv('./input/creditcard.csv')\n",
    "data.head()"
   ]
  },
  {
   "cell_type": "markdown",
   "id": "adapted-reliance",
   "metadata": {},
   "source": [
    "## Checking the target classes"
   ]
  },
  {
   "cell_type": "code",
   "execution_count": 32,
   "id": "changing-settle",
   "metadata": {
    "ExecuteTime": {
     "end_time": "2021-04-01T12:11:31.189873Z",
     "start_time": "2021-04-01T12:11:31.095875Z"
    }
   },
   "outputs": [
    {
     "data": {
      "text/plain": [
       "Text(0, 0.5, 'Frequency')"
      ]
     },
     "execution_count": 32,
     "metadata": {},
     "output_type": "execute_result"
    },
    {
     "data": {
      "image/png": "[encoded data removed]",
      "text/plain": [
       "<Figure size 432x288 with 1 Axes>"
      ]
     },
     "metadata": {
      "needs_background": "light"
     },
     "output_type": "display_data"
    }
   ],
   "source": [
    "count_classes = pd.value_counts(data['Class'], sort=True).sort_index()\n",
    "count_classes.plot(kind='bar')\n",
    "plt.title('Fraud class histogram')\n",
    "plt.xlabel('Class')\n",
    "plt.ylabel('Frequency')"
   ]
  },
  {
   "cell_type": "markdown",
   "id": "korean-colors",
   "metadata": {},
   "source": [
    "데이터가 엄청나게 불균형임을 알 수 있습니다.\n",
    "\n",
    "이것은 일반적인 정확도 점수를 사용하여 분류 알고리즘을 평가하는 명확한 예입니다.\n",
    "\n",
    "예를 들어, 만약 모든 데이터에 대해 주 클래스를 사용하여 값을 할당한다면, 높은 점수를 얻을 수는 있겠지만 모든 분류를 \"1\"로 잘못 분류할 수 있습니다.\n",
    "\n",
    "이러한 불균형을 고려하는 분류 문제에 대해 몇 가지 접근을 해볼 수 있습니다.\n",
    "- 데이터를 더 수집하는 것 -> 좋은 전략이나 이번 케이스에는 적합하지 않습니다.\n",
    "- 성능 지표를 바꾸는것:\n",
    "    - 혼동 매트릭스를 사용하여 Precision과 Recall을 계산\n",
    "    - F1score(precision recall에 대한 가중 평균)\n",
    "    - Kappa - 데이터의 불균형을 정규화한 분류 정확도\n",
    "    - ROC 커브 - sensitivity/specificity ratio 계산\n",
    "- 데이터셋 리샘플링\n",
    "    - 데이터를 약 50대50의 비율로 맞추는 방법\n",
    "    - 데이터를 적게 가지고 있을 때, 적은 수의 클래스 데이터를 복제하는 오버샘플링을 통한 방법\n",
    "    - 데이터를 많이 가지고 있을 때, 많은 수의 클래스 데이터를 삭제하는 언더샘플링을 통한 방법"
   ]
  },
  {
   "cell_type": "markdown",
   "id": "invisible-decline",
   "metadata": {},
   "source": [
    "## Approach\n",
    "1. 처음부터 피처 엔지니어링을 진행하지 않습니다. 데이터셋은 30개의 피처(28개의 익명변수 + time + amount)\n",
    "2. 리샘플링을 했을 때와 하지 않았을 때를 비교합니다. 단순 로지스틱 회귀 분류기를 통해 이를 테스트 합니다.\n",
    "3. 위에서 언급한 몇 가지 평가 지표를 통해 모델을 평가합니다.\n",
    "4. 로지스틱 회귀 분류기의 파라미터를 조정하면서 가장 좋았던 리샘플링을 하거나/하지 않은 케이스를 반복합니다.\n",
    "5. 마지막으로 다른 분류 알고리즘을 사용하여 분류를 수행합니다."
   ]
  },
  {
   "cell_type": "markdown",
   "id": "scenic-halifax",
   "metadata": {},
   "source": [
    "## Setting out input and target variables + resampling"
   ]
  },
  {
   "cell_type": "markdown",
   "id": "imposed-criticism",
   "metadata": {},
   "source": [
    "### 1. amount열에 대해 정규화를 진행합니다. "
   ]
  },
  {
   "cell_type": "code",
   "execution_count": 33,
   "id": "interested-average",
   "metadata": {
    "ExecuteTime": {
     "end_time": "2021-04-01T12:11:31.253874Z",
     "start_time": "2021-04-01T12:11:31.190874Z"
    }
   },
   "outputs": [
    {
     "data": {
      "text/html": [
       "<div>\n",
       "<style scoped>\n",
       "    .dataframe tbody tr th:only-of-type {\n",
       "        vertical-align: middle;\n",
       "    }\n",
       "\n",
       "    .dataframe tbody tr th {\n",
       "        vertical-align: top;\n",
       "    }\n",
       "\n",
       "    .dataframe thead th {\n",
       "        text-align: right;\n",
       "    }\n",
       "</style>\n",
       "<table border=\"1\" class=\"dataframe\">\n",
       "  <thead>\n",
       "    <tr style=\"text-align: right;\">\n",
       "      <th></th>\n",
       "      <th>V1</th>\n",
       "      <th>V2</th>\n",
       "      <th>V3</th>\n",
       "      <th>V4</th>\n",
       "      <th>V5</th>\n",
       "      <th>V6</th>\n",
       "      <th>V7</th>\n",
       "      <th>V8</th>\n",
       "      <th>V9</th>\n",
       "      <th>V10</th>\n",
       "      <th>...</th>\n",
       "      <th>V21</th>\n",
       "      <th>V22</th>\n",
       "      <th>V23</th>\n",
       "      <th>V24</th>\n",
       "      <th>V25</th>\n",
       "      <th>V26</th>\n",
       "      <th>V27</th>\n",
       "      <th>V28</th>\n",
       "      <th>Class</th>\n",
       "      <th>normAmount</th>\n",
       "    </tr>\n",
       "  </thead>\n",
       "  <tbody>\n",
       "    <tr>\n",
       "      <th>0</th>\n",
       "      <td>-1.359807</td>\n",
       "      <td>-0.072781</td>\n",
       "      <td>2.536347</td>\n",
       "      <td>1.378155</td>\n",
       "      <td>-0.338321</td>\n",
       "      <td>0.462388</td>\n",
       "      <td>0.239599</td>\n",
       "      <td>0.098698</td>\n",
       "      <td>0.363787</td>\n",
       "      <td>0.090794</td>\n",
       "      <td>...</td>\n",
       "      <td>-0.018307</td>\n",
       "      <td>0.277838</td>\n",
       "      <td>-0.110474</td>\n",
       "      <td>0.066928</td>\n",
       "      <td>0.128539</td>\n",
       "      <td>-0.189115</td>\n",
       "      <td>0.133558</td>\n",
       "      <td>-0.021053</td>\n",
       "      <td>0</td>\n",
       "      <td>0.244964</td>\n",
       "    </tr>\n",
       "    <tr>\n",
       "      <th>1</th>\n",
       "      <td>1.191857</td>\n",
       "      <td>0.266151</td>\n",
       "      <td>0.166480</td>\n",
       "      <td>0.448154</td>\n",
       "      <td>0.060018</td>\n",
       "      <td>-0.082361</td>\n",
       "      <td>-0.078803</td>\n",
       "      <td>0.085102</td>\n",
       "      <td>-0.255425</td>\n",
       "      <td>-0.166974</td>\n",
       "      <td>...</td>\n",
       "      <td>-0.225775</td>\n",
       "      <td>-0.638672</td>\n",
       "      <td>0.101288</td>\n",
       "      <td>-0.339846</td>\n",
       "      <td>0.167170</td>\n",
       "      <td>0.125895</td>\n",
       "      <td>-0.008983</td>\n",
       "      <td>0.014724</td>\n",
       "      <td>0</td>\n",
       "      <td>-0.342475</td>\n",
       "    </tr>\n",
       "    <tr>\n",
       "      <th>2</th>\n",
       "      <td>-1.358354</td>\n",
       "      <td>-1.340163</td>\n",
       "      <td>1.773209</td>\n",
       "      <td>0.379780</td>\n",
       "      <td>-0.503198</td>\n",
       "      <td>1.800499</td>\n",
       "      <td>0.791461</td>\n",
       "      <td>0.247676</td>\n",
       "      <td>-1.514654</td>\n",
       "      <td>0.207643</td>\n",
       "      <td>...</td>\n",
       "      <td>0.247998</td>\n",
       "      <td>0.771679</td>\n",
       "      <td>0.909412</td>\n",
       "      <td>-0.689281</td>\n",
       "      <td>-0.327642</td>\n",
       "      <td>-0.139097</td>\n",
       "      <td>-0.055353</td>\n",
       "      <td>-0.059752</td>\n",
       "      <td>0</td>\n",
       "      <td>1.160686</td>\n",
       "    </tr>\n",
       "    <tr>\n",
       "      <th>3</th>\n",
       "      <td>-0.966272</td>\n",
       "      <td>-0.185226</td>\n",
       "      <td>1.792993</td>\n",
       "      <td>-0.863291</td>\n",
       "      <td>-0.010309</td>\n",
       "      <td>1.247203</td>\n",
       "      <td>0.237609</td>\n",
       "      <td>0.377436</td>\n",
       "      <td>-1.387024</td>\n",
       "      <td>-0.054952</td>\n",
       "      <td>...</td>\n",
       "      <td>-0.108300</td>\n",
       "      <td>0.005274</td>\n",
       "      <td>-0.190321</td>\n",
       "      <td>-1.175575</td>\n",
       "      <td>0.647376</td>\n",
       "      <td>-0.221929</td>\n",
       "      <td>0.062723</td>\n",
       "      <td>0.061458</td>\n",
       "      <td>0</td>\n",
       "      <td>0.140534</td>\n",
       "    </tr>\n",
       "    <tr>\n",
       "      <th>4</th>\n",
       "      <td>-1.158233</td>\n",
       "      <td>0.877737</td>\n",
       "      <td>1.548718</td>\n",
       "      <td>0.403034</td>\n",
       "      <td>-0.407193</td>\n",
       "      <td>0.095921</td>\n",
       "      <td>0.592941</td>\n",
       "      <td>-0.270533</td>\n",
       "      <td>0.817739</td>\n",
       "      <td>0.753074</td>\n",
       "      <td>...</td>\n",
       "      <td>-0.009431</td>\n",
       "      <td>0.798278</td>\n",
       "      <td>-0.137458</td>\n",
       "      <td>0.141267</td>\n",
       "      <td>-0.206010</td>\n",
       "      <td>0.502292</td>\n",
       "      <td>0.219422</td>\n",
       "      <td>0.215153</td>\n",
       "      <td>0</td>\n",
       "      <td>-0.073403</td>\n",
       "    </tr>\n",
       "  </tbody>\n",
       "</table>\n",
       "<p>5 rows × 30 columns</p>\n",
       "</div>"
      ],
      "text/plain": [
       "         V1        V2        V3        V4        V5        V6        V7  \\\n",
       "0 -1.359807 -0.072781  2.536347  1.378155 -0.338321  0.462388  0.239599   \n",
       "1  1.191857  0.266151  0.166480  0.448154  0.060018 -0.082361 -0.078803   \n",
       "2 -1.358354 -1.340163  1.773209  0.379780 -0.503198  1.800499  0.791461   \n",
       "3 -0.966272 -0.185226  1.792993 -0.863291 -0.010309  1.247203  0.237609   \n",
       "4 -1.158233  0.877737  1.548718  0.403034 -0.407193  0.095921  0.592941   \n",
       "\n",
       "         V8        V9       V10  ...       V21       V22       V23       V24  \\\n",
       "0  0.098698  0.363787  0.090794  ... -0.018307  0.277838 -0.110474  0.066928   \n",
       "1  0.085102 -0.255425 -0.166974  ... -0.225775 -0.638672  0.101288 -0.339846   \n",
       "2  0.247676 -1.514654  0.207643  ...  0.247998  0.771679  0.909412 -0.689281   \n",
       "3  0.377436 -1.387024 -0.054952  ... -0.108300  0.005274 -0.190321 -1.175575   \n",
       "4 -0.270533  0.817739  0.753074  ... -0.009431  0.798278 -0.137458  0.141267   \n",
       "\n",
       "        V25       V26       V27       V28  Class  normAmount  \n",
       "0  0.128539 -0.189115  0.133558 -0.021053      0    0.244964  \n",
       "1  0.167170  0.125895 -0.008983  0.014724      0   -0.342475  \n",
       "2 -0.327642 -0.139097 -0.055353 -0.059752      0    1.160686  \n",
       "3  0.647376 -0.221929  0.062723  0.061458      0    0.140534  \n",
       "4 -0.206010  0.502292  0.219422  0.215153      0   -0.073403  \n",
       "\n",
       "[5 rows x 30 columns]"
      ]
     },
     "execution_count": 33,
     "metadata": {},
     "output_type": "execute_result"
    }
   ],
   "source": [
    "from sklearn.preprocessing import StandardScaler\n",
    "\n",
    "data['normAmount'] = StandardScaler().fit_transform(data['Amount'].values.reshape(-1,1))\n",
    "data = data.drop(['Time', 'Amount'], axis=1)\n",
    "data.head()"
   ]
  },
  {
   "cell_type": "markdown",
   "id": "collaborative-photography",
   "metadata": {},
   "source": [
    "### 2. 리샘플링\n",
    "- 처음 언급했던 것처럼, 편향된 데이터를 리샘플링하는 여러 방법이 있습니다. 언더/오버샘플링을 떠나서, 매우 인기있는 접근인 오버/언더샘플링을 조합하지만 오버샘플링을 소수 클래스를 복제하는 것이 아닌 알고리즘을 통해 새로운 소수 클래스 데이터 인스턴스를 구성하는 SMOTE(Synthetic Minority Over-Sampling Technique)가 있습니다.\n",
    "- 이 노트북에서는 전통적인 언더샘플링을 사용합니다. \n",
    "- 데이터셋을 50대50 비율이 될 때 까지 언더샘플링합니다. 이는 주 클래스 샘플의 'x'만큼 선택해 소수 클래스에서 총 레코드 수를 'x'로 지정합니다."
   ]
  },
  {
   "cell_type": "code",
   "execution_count": 34,
   "id": "earlier-compact",
   "metadata": {
    "ExecuteTime": {
     "end_time": "2021-04-01T12:11:31.284924Z",
     "start_time": "2021-04-01T12:11:31.254873Z"
    }
   },
   "outputs": [],
   "source": [
    "X = data.loc[:, data.columns != 'Class']\n",
    "y = data.loc[:, data.columns == 'Class']"
   ]
  },
  {
   "cell_type": "code",
   "execution_count": 35,
   "id": "fleet-mounting",
   "metadata": {
    "ExecuteTime": {
     "end_time": "2021-04-01T12:11:31.332415Z",
     "start_time": "2021-04-01T12:11:31.286573Z"
    }
   },
   "outputs": [
    {
     "name": "stdout",
     "output_type": "stream",
     "text": [
      "Ratio of normal transactions:  0.5\n",
      "Ratio of fraud transactions:  0.5\n",
      "Total number of transaction in resampled data:  984\n"
     ]
    }
   ],
   "source": [
    "# 소수 클래스의 데이터 개수\n",
    "number_records_fraud = len(data[data.Class==1])\n",
    "fraud_indices = np.array(data[data.Class==1].index)\n",
    "\n",
    "# 일반 클래스의 인덱스 추출\n",
    "normal_indices = data[data.Class==0].index\n",
    "\n",
    "# 추출한 인덱스에서 랜덤하게 'x'개 선택(number_records_fraud)\n",
    "random_normal_indices = np.random.choice(normal_indices, number_records_fraud, replace=False)\n",
    "random_normal_indices = np.array(random_normal_indices)\n",
    "\n",
    "# 2개의 인덱스 결합\n",
    "under_sample_indices = np.concatenate([fraud_indices, random_normal_indices])\n",
    "\n",
    "# 언더샘플링 데이터셋\n",
    "under_sample_data = data.iloc[under_sample_indices, :]\n",
    "\n",
    "X_undersample = under_sample_data.loc[:, under_sample_data.columns!='Class']\n",
    "y_undersample = under_sample_data.loc[:, under_sample_data.columns=='Class']\n",
    "\n",
    "# 비율\n",
    "print('Ratio of normal transactions: ', len(under_sample_data[under_sample_data.Class==0])/len(under_sample_data))\n",
    "print('Ratio of fraud transactions: ', len(under_sample_data[under_sample_data.Class==1])/len(under_sample_data))\n",
    "print('Total number of transaction in resampled data: ', len(under_sample_data))"
   ]
  },
  {
   "cell_type": "markdown",
   "id": "excessive-treat",
   "metadata": {
    "ExecuteTime": {
     "end_time": "2021-03-31T15:17:47.866458Z",
     "start_time": "2021-03-31T15:17:47.838460Z"
    }
   },
   "source": [
    "## Splitting Data and Cross Validation"
   ]
  },
  {
   "cell_type": "code",
   "execution_count": 36,
   "id": "popular-optimization",
   "metadata": {
    "ExecuteTime": {
     "end_time": "2021-04-01T12:11:31.427920Z",
     "start_time": "2021-04-01T12:11:31.333415Z"
    }
   },
   "outputs": [
    {
     "name": "stdout",
     "output_type": "stream",
     "text": [
      "Number transactions train dataset:  199364\n",
      "Number transactions test dataset:  85443\n",
      "Total number of transactions:  284807\n",
      "\n",
      "Number transactions train dataset:  688\n",
      "Number transactions test dataset:  296\n",
      "Total number of transactions:  984\n"
     ]
    }
   ],
   "source": [
    "from sklearn.model_selection import train_test_split\n",
    "\n",
    "# 전체 데이터셋\n",
    "X_train, X_test, y_train, y_test = train_test_split(X, y, test_size=0.3, random_state=0)\n",
    "\n",
    "print('Number transactions train dataset: ', len(X_train))\n",
    "print('Number transactions test dataset: ', len(X_test))\n",
    "print('Total number of transactions: ', len(X_train)+len(X_test))\n",
    "\n",
    "# 언더샘플링 데이터셋\n",
    "X_train_undersample, X_test_undersample, y_train_undersample, y_test_undersample = train_test_split(X_undersample, y_undersample, test_size=0.3, random_state=0)\n",
    "\n",
    "print(\"\")\n",
    "print('Number transactions train dataset: ', len(X_train_undersample))\n",
    "print('Number transactions test dataset: ', len(X_test_undersample))\n",
    "print('Total number of transactions: ', len(X_train_undersample)+len(X_test_undersample))"
   ]
  },
  {
   "cell_type": "markdown",
   "id": "artificial-shadow",
   "metadata": {},
   "source": [
    "## Logistic regression classifier - Undersampled data\n",
    "\n",
    "recall score가 가장 부정한 거래를 포착하는 데 도움이 되는 평가지표이기 때문에, 이를 살펴봅니다. Precision과 recall이 혼돈 매트릭스에 어떻게 작용하는지 알고 있는 경우 recall은 매우 흥미로운 지표가 될 수 있습니다.\n",
    "\n",
    "- Accuracy = (TP+TN)/total\n",
    "- Precision = TP/(TP+FP)\n",
    "- Recall = TP/(TP+FN)\n",
    "\n",
    "우리가 알고 있듯이, 데이터의 불균형때문에 많은 관측이 FN으로 관측됩니다. 따라서 Recall은 이를 포착합니다.\n",
    "- 명백하게, recall을 증가시키면 precision이 감소하는 경향이 있습니다. 그러나, 이 케이스에서는 정상 거래를 사기라고 판명하는 경우가 반대인 경우보다 덜 심각한 문제입니다.\n",
    "- 또한 FN과 FP를 다른 가중치를 갖는 비용함수를 적용할수도 있습니다."
   ]
  },
  {
   "cell_type": "code",
   "execution_count": 37,
   "id": "lesser-focus",
   "metadata": {
    "ExecuteTime": {
     "end_time": "2021-04-01T12:11:31.443920Z",
     "start_time": "2021-04-01T12:11:31.429921Z"
    }
   },
   "outputs": [],
   "source": [
    "from sklearn.linear_model import LogisticRegression\n",
    "from sklearn.model_selection import KFold, cross_val_score\n",
    "from sklearn.metrics import confusion_matrix, precision_recall_curve, auc, roc_auc_score, roc_curve, recall_score, classification_report"
   ]
  },
  {
   "cell_type": "markdown",
   "id": "listed-documentation",
   "metadata": {},
   "source": [
    "### Very ad-hoc function to print k_fold_scores"
   ]
  },
  {
   "cell_type": "code",
   "execution_count": 62,
   "id": "subtle-gnome",
   "metadata": {
    "ExecuteTime": {
     "end_time": "2021-04-01T12:18:52.618277Z",
     "start_time": "2021-04-01T12:18:52.599279Z"
    }
   },
   "outputs": [],
   "source": [
    "def printing_kfold_scores(x_train_data, y_train_data):\n",
    "    fold = KFold(5,shuffle=False)\n",
    "    \n",
    "    # Different C params\n",
    "    c_param_range = [0.01, 0.1, 1, 10, 100]\n",
    "    \n",
    "    result_table = pd.DataFrame(index=range(len(c_param_range),2), columns=['C_parameter', 'Mean recall score'])\n",
    "    result_table['C_parameter'] = c_param_range\n",
    "    \n",
    "    # k-fold는 2개의 리스트 제공: train_indices=indices[0], test_indices=indices[1]\n",
    "    j = 0\n",
    "    for c_param in c_param_range:\n",
    "        print('-'*30)\n",
    "        print('C parameter: ', c_param)\n",
    "        print('-'*30)\n",
    "        print('')\n",
    "        \n",
    "        recall_accs = []\n",
    "        for iteration, indices in enumerate(fold.split(x_train_data), start=1):\n",
    "            # 특정 C 파라미터를 가진 로지스틱 회귀 모형 호출\n",
    "            lr = LogisticRegression(C = c_param, penalty='l2')\n",
    "            \n",
    "            # 폴드된 훈련 데이터를 사용하여 모델 훈련\n",
    "            # 모델을 가지고 예측\n",
    "            lr.fit(x_train_data.iloc[indices[0],:], y_train_data.iloc[indices[0],:].values.ravel())\n",
    "            \n",
    "            # 훈련 데이터의 테스트 인덱스를 사용하여 값 예측\n",
    "            y_pred_undersample = lr.predict(x_train_data.iloc[indices[1],:].values)\n",
    "            # recall score 계산 후 현재 C값과 리스트에 추가\n",
    "            recall_acc = recall_score(y_train_data.iloc[indices[1],:].values,\n",
    "                                      y_pred_undersample)\n",
    "            recall_accs.append(recall_acc)\n",
    "            print('Iteration ', iteration, ': recall score = ', recall_acc)\n",
    "            \n",
    "        # recall score의 평균 저장\n",
    "        result_table.loc[j, 'Mean recall score'] = np.mean(recall_acc)\n",
    "        j += 1\n",
    "        print('')\n",
    "        print('Mean recall score', np.mean(recall_accs))\n",
    "        print('')\n",
    "        \n",
    "    best_c = result_table.iloc[result_table['Mean recall score'].astype(float).idxmax()]['C_parameter']\n",
    "    \n",
    "    # 최종적으로, 가장 최고의 C 파라미터 확인\n",
    "    print('*'*30)\n",
    "    print('Best model to choose from cross validation is with C parameter=', best_c)\n",
    "    return best_c"
   ]
  },
  {
   "cell_type": "code",
   "execution_count": 63,
   "id": "banner-horizontal",
   "metadata": {
    "ExecuteTime": {
     "end_time": "2021-04-01T12:18:53.357591Z",
     "start_time": "2021-04-01T12:18:52.991573Z"
    }
   },
   "outputs": [
    {
     "name": "stdout",
     "output_type": "stream",
     "text": [
      "------------------------------\n",
      "C parameter:  0.01\n",
      "------------------------------\n",
      "\n",
      "Iteration  1 : recall score =  0.5294117647058824\n",
      "Iteration  2 : recall score =  0.4838709677419355\n",
      "Iteration  3 : recall score =  0.5\n",
      "Iteration  4 : recall score =  0.48484848484848486\n",
      "Iteration  5 : recall score =  0.8461538461538461\n",
      "\n",
      "Mean recall score 0.5688570126900298\n",
      "\n",
      "------------------------------\n",
      "C parameter:  0.1\n",
      "------------------------------\n",
      "\n",
      "Iteration  1 : recall score =  0.5\n",
      "Iteration  2 : recall score =  0.3225806451612903\n",
      "Iteration  3 : recall score =  0.5333333333333333\n",
      "Iteration  4 : recall score =  0.45454545454545453\n",
      "Iteration  5 : recall score =  0.8846153846153846\n",
      "\n",
      "Mean recall score 0.5390149635310926\n",
      "\n",
      "------------------------------\n",
      "C parameter:  1\n",
      "------------------------------\n",
      "\n",
      "Iteration  1 : recall score =  0.5588235294117647\n",
      "Iteration  2 : recall score =  0.3548387096774194\n",
      "Iteration  3 : recall score =  0.5666666666666667\n",
      "Iteration  4 : recall score =  0.42424242424242425\n"
     ]
    },
    {
     "name": "stderr",
     "output_type": "stream",
     "text": [
      "C:\\ProgramData\\Anaconda3\\envs\\tens_2g\\lib\\site-packages\\sklearn\\linear_model\\_logistic.py:765: ConvergenceWarning: lbfgs failed to converge (status=1):\n",
      "STOP: TOTAL NO. of ITERATIONS REACHED LIMIT.\n",
      "\n",
      "Increase the number of iterations (max_iter) or scale the data as shown in:\n",
      "    https://scikit-learn.org/stable/modules/preprocessing.html\n",
      "Please also refer to the documentation for alternative solver options:\n",
      "    https://scikit-learn.org/stable/modules/linear_model.html#logistic-regression\n",
      "  extra_warning_msg=_LOGISTIC_SOLVER_CONVERGENCE_MSG)\n",
      "C:\\ProgramData\\Anaconda3\\envs\\tens_2g\\lib\\site-packages\\sklearn\\linear_model\\_logistic.py:765: ConvergenceWarning: lbfgs failed to converge (status=1):\n",
      "STOP: TOTAL NO. of ITERATIONS REACHED LIMIT.\n",
      "\n",
      "Increase the number of iterations (max_iter) or scale the data as shown in:\n",
      "    https://scikit-learn.org/stable/modules/preprocessing.html\n",
      "Please also refer to the documentation for alternative solver options:\n",
      "    https://scikit-learn.org/stable/modules/linear_model.html#logistic-regression\n",
      "  extra_warning_msg=_LOGISTIC_SOLVER_CONVERGENCE_MSG)\n",
      "C:\\ProgramData\\Anaconda3\\envs\\tens_2g\\lib\\site-packages\\sklearn\\linear_model\\_logistic.py:765: ConvergenceWarning: lbfgs failed to converge (status=1):\n",
      "STOP: TOTAL NO. of ITERATIONS REACHED LIMIT.\n",
      "\n",
      "Increase the number of iterations (max_iter) or scale the data as shown in:\n",
      "    https://scikit-learn.org/stable/modules/preprocessing.html\n",
      "Please also refer to the documentation for alternative solver options:\n",
      "    https://scikit-learn.org/stable/modules/linear_model.html#logistic-regression\n",
      "  extra_warning_msg=_LOGISTIC_SOLVER_CONVERGENCE_MSG)\n",
      "C:\\ProgramData\\Anaconda3\\envs\\tens_2g\\lib\\site-packages\\sklearn\\linear_model\\_logistic.py:765: ConvergenceWarning: lbfgs failed to converge (status=1):\n",
      "STOP: TOTAL NO. of ITERATIONS REACHED LIMIT.\n",
      "\n",
      "Increase the number of iterations (max_iter) or scale the data as shown in:\n",
      "    https://scikit-learn.org/stable/modules/preprocessing.html\n",
      "Please also refer to the documentation for alternative solver options:\n",
      "    https://scikit-learn.org/stable/modules/linear_model.html#logistic-regression\n",
      "  extra_warning_msg=_LOGISTIC_SOLVER_CONVERGENCE_MSG)\n",
      "C:\\ProgramData\\Anaconda3\\envs\\tens_2g\\lib\\site-packages\\sklearn\\linear_model\\_logistic.py:765: ConvergenceWarning: lbfgs failed to converge (status=1):\n",
      "STOP: TOTAL NO. of ITERATIONS REACHED LIMIT.\n",
      "\n",
      "Increase the number of iterations (max_iter) or scale the data as shown in:\n",
      "    https://scikit-learn.org/stable/modules/preprocessing.html\n",
      "Please also refer to the documentation for alternative solver options:\n",
      "    https://scikit-learn.org/stable/modules/linear_model.html#logistic-regression\n",
      "  extra_warning_msg=_LOGISTIC_SOLVER_CONVERGENCE_MSG)\n",
      "C:\\ProgramData\\Anaconda3\\envs\\tens_2g\\lib\\site-packages\\sklearn\\linear_model\\_logistic.py:765: ConvergenceWarning: lbfgs failed to converge (status=1):\n",
      "STOP: TOTAL NO. of ITERATIONS REACHED LIMIT.\n",
      "\n",
      "Increase the number of iterations (max_iter) or scale the data as shown in:\n",
      "    https://scikit-learn.org/stable/modules/preprocessing.html\n",
      "Please also refer to the documentation for alternative solver options:\n",
      "    https://scikit-learn.org/stable/modules/linear_model.html#logistic-regression\n",
      "  extra_warning_msg=_LOGISTIC_SOLVER_CONVERGENCE_MSG)\n",
      "C:\\ProgramData\\Anaconda3\\envs\\tens_2g\\lib\\site-packages\\sklearn\\linear_model\\_logistic.py:765: ConvergenceWarning: lbfgs failed to converge (status=1):\n",
      "STOP: TOTAL NO. of ITERATIONS REACHED LIMIT.\n",
      "\n",
      "Increase the number of iterations (max_iter) or scale the data as shown in:\n",
      "    https://scikit-learn.org/stable/modules/preprocessing.html\n",
      "Please also refer to the documentation for alternative solver options:\n",
      "    https://scikit-learn.org/stable/modules/linear_model.html#logistic-regression\n",
      "  extra_warning_msg=_LOGISTIC_SOLVER_CONVERGENCE_MSG)\n",
      "C:\\ProgramData\\Anaconda3\\envs\\tens_2g\\lib\\site-packages\\sklearn\\linear_model\\_logistic.py:765: ConvergenceWarning: lbfgs failed to converge (status=1):\n",
      "STOP: TOTAL NO. of ITERATIONS REACHED LIMIT.\n",
      "\n",
      "Increase the number of iterations (max_iter) or scale the data as shown in:\n",
      "    https://scikit-learn.org/stable/modules/preprocessing.html\n",
      "Please also refer to the documentation for alternative solver options:\n",
      "    https://scikit-learn.org/stable/modules/linear_model.html#logistic-regression\n",
      "  extra_warning_msg=_LOGISTIC_SOLVER_CONVERGENCE_MSG)\n",
      "C:\\ProgramData\\Anaconda3\\envs\\tens_2g\\lib\\site-packages\\sklearn\\linear_model\\_logistic.py:765: ConvergenceWarning: lbfgs failed to converge (status=1):\n",
      "STOP: TOTAL NO. of ITERATIONS REACHED LIMIT.\n",
      "\n",
      "Increase the number of iterations (max_iter) or scale the data as shown in:\n",
      "    https://scikit-learn.org/stable/modules/preprocessing.html\n",
      "Please also refer to the documentation for alternative solver options:\n",
      "    https://scikit-learn.org/stable/modules/linear_model.html#logistic-regression\n",
      "  extra_warning_msg=_LOGISTIC_SOLVER_CONVERGENCE_MSG)\n",
      "C:\\ProgramData\\Anaconda3\\envs\\tens_2g\\lib\\site-packages\\sklearn\\linear_model\\_logistic.py:765: ConvergenceWarning: lbfgs failed to converge (status=1):\n",
      "STOP: TOTAL NO. of ITERATIONS REACHED LIMIT.\n",
      "\n",
      "Increase the number of iterations (max_iter) or scale the data as shown in:\n",
      "    https://scikit-learn.org/stable/modules/preprocessing.html\n",
      "Please also refer to the documentation for alternative solver options:\n",
      "    https://scikit-learn.org/stable/modules/linear_model.html#logistic-regression\n",
      "  extra_warning_msg=_LOGISTIC_SOLVER_CONVERGENCE_MSG)\n",
      "C:\\ProgramData\\Anaconda3\\envs\\tens_2g\\lib\\site-packages\\sklearn\\linear_model\\_logistic.py:765: ConvergenceWarning: lbfgs failed to converge (status=1):\n",
      "STOP: TOTAL NO. of ITERATIONS REACHED LIMIT.\n",
      "\n",
      "Increase the number of iterations (max_iter) or scale the data as shown in:\n",
      "    https://scikit-learn.org/stable/modules/preprocessing.html\n",
      "Please also refer to the documentation for alternative solver options:\n",
      "    https://scikit-learn.org/stable/modules/linear_model.html#logistic-regression\n",
      "  extra_warning_msg=_LOGISTIC_SOLVER_CONVERGENCE_MSG)\n"
     ]
    },
    {
     "name": "stdout",
     "output_type": "stream",
     "text": [
      "Iteration  5 : recall score =  0.8846153846153846\n",
      "\n",
      "Mean recall score 0.5578373429227319\n",
      "\n",
      "------------------------------\n",
      "C parameter:  10\n",
      "------------------------------\n",
      "\n",
      "Iteration  1 : recall score =  0.5294117647058824\n",
      "Iteration  2 : recall score =  0.3548387096774194\n",
      "Iteration  3 : recall score =  0.6\n",
      "Iteration  4 : recall score =  0.48484848484848486\n",
      "Iteration  5 : recall score =  0.8846153846153846\n",
      "\n",
      "Mean recall score 0.5707428687694343\n",
      "\n",
      "------------------------------\n",
      "C parameter:  100\n",
      "------------------------------\n",
      "\n",
      "Iteration  1 : recall score =  0.5\n",
      "Iteration  2 : recall score =  0.3548387096774194\n",
      "Iteration  3 : recall score =  0.6\n",
      "Iteration  4 : recall score =  0.48484848484848486\n",
      "Iteration  5 : recall score =  0.8846153846153846\n",
      "\n",
      "Mean recall score 0.5648605158282578\n",
      "\n",
      "******************************\n",
      "Best model to choose from cross validation is with C parameter= 0.1\n"
     ]
    },
    {
     "name": "stderr",
     "output_type": "stream",
     "text": [
      "C:\\ProgramData\\Anaconda3\\envs\\tens_2g\\lib\\site-packages\\sklearn\\linear_model\\_logistic.py:765: ConvergenceWarning: lbfgs failed to converge (status=1):\n",
      "STOP: TOTAL NO. of ITERATIONS REACHED LIMIT.\n",
      "\n",
      "Increase the number of iterations (max_iter) or scale the data as shown in:\n",
      "    https://scikit-learn.org/stable/modules/preprocessing.html\n",
      "Please also refer to the documentation for alternative solver options:\n",
      "    https://scikit-learn.org/stable/modules/linear_model.html#logistic-regression\n",
      "  extra_warning_msg=_LOGISTIC_SOLVER_CONVERGENCE_MSG)\n",
      "C:\\ProgramData\\Anaconda3\\envs\\tens_2g\\lib\\site-packages\\sklearn\\linear_model\\_logistic.py:765: ConvergenceWarning: lbfgs failed to converge (status=1):\n",
      "STOP: TOTAL NO. of ITERATIONS REACHED LIMIT.\n",
      "\n",
      "Increase the number of iterations (max_iter) or scale the data as shown in:\n",
      "    https://scikit-learn.org/stable/modules/preprocessing.html\n",
      "Please also refer to the documentation for alternative solver options:\n",
      "    https://scikit-learn.org/stable/modules/linear_model.html#logistic-regression\n",
      "  extra_warning_msg=_LOGISTIC_SOLVER_CONVERGENCE_MSG)\n",
      "C:\\ProgramData\\Anaconda3\\envs\\tens_2g\\lib\\site-packages\\sklearn\\linear_model\\_logistic.py:765: ConvergenceWarning: lbfgs failed to converge (status=1):\n",
      "STOP: TOTAL NO. of ITERATIONS REACHED LIMIT.\n",
      "\n",
      "Increase the number of iterations (max_iter) or scale the data as shown in:\n",
      "    https://scikit-learn.org/stable/modules/preprocessing.html\n",
      "Please also refer to the documentation for alternative solver options:\n",
      "    https://scikit-learn.org/stable/modules/linear_model.html#logistic-regression\n",
      "  extra_warning_msg=_LOGISTIC_SOLVER_CONVERGENCE_MSG)\n"
     ]
    }
   ],
   "source": [
    "best_c = printing_kfold_scores(X_test_undersample, y_train_undersample)"
   ]
  },
  {
   "cell_type": "markdown",
   "id": "photographic-birthday",
   "metadata": {},
   "source": [
    "### Confusion matrix"
   ]
  },
  {
   "cell_type": "code",
   "execution_count": 64,
   "id": "inclusive-biotechnology",
   "metadata": {
    "ExecuteTime": {
     "end_time": "2021-04-01T12:23:43.918789Z",
     "start_time": "2021-04-01T12:23:43.906832Z"
    }
   },
   "outputs": [],
   "source": [
    "import itertools\n",
    "\n",
    "def plot_confusion_matrix(cm, classes,\n",
    "                          normalize=False,\n",
    "                          title='Confusion matrix',\n",
    "                          cmap=plt.cm.Blues):\n",
    "    \"\"\"\n",
    "    혼동 매트릭스를 그리는 함수\n",
    "    정규화는 normalize=True 시 적용\n",
    "    \"\"\"\n",
    "    plt.imshow(cm, interpolation='nearest', cmap=cmap)\n",
    "    plt.title(title)\n",
    "    plt.colorbar()\n",
    "    tick_marks = np.arange(len(classes))\n",
    "    plt.xticks(tick_marks, classes, rotation=0)\n",
    "    plt.yticks(tick_marks, classes)\n",
    "    \n",
    "    if normalize:\n",
    "        cm = cm.astype('float') / cm.sum(axis=1)[:,np.newaxis]\n",
    "    thresh = cm.max() / 2.\n",
    "    for i, j in itertools.product(range(cm.shape[0]), range(cm.shape[1])):\n",
    "        plt.text(j, i, cm[i, j],\n",
    "                 horizontalalignment='center',\n",
    "                 color='white' if cm[i, j] > thresh else \"black\")\n",
    "        \n",
    "        plt.tight_layout()\n",
    "        plt.ylabel('True label')\n",
    "        plt.xlabel('Predicted label')"
   ]
  },
  {
   "cell_type": "markdown",
   "id": "saving-pendant",
   "metadata": {},
   "source": [
    "예측 모델이 얼마나 효과적인지를 recall score을 사용하는 것에 대해 말해왔습니다. 그렇지만 언더샘플링된 데이터가 특정 클래스에 대한 왜도가 없기 때문에 recall 평가 지표가 매우 중요하지 않음을 기억해두시기 바랍니다. "
   ]
  },
  {
   "cell_type": "code",
   "execution_count": 65,
   "id": "adjusted-maine",
   "metadata": {
    "ExecuteTime": {
     "end_time": "2021-04-01T12:38:07.210964Z",
     "start_time": "2021-04-01T12:38:07.033055Z"
    }
   },
   "outputs": [
    {
     "name": "stdout",
     "output_type": "stream",
     "text": [
      "Recall metric in the testing dataset:  0.9183673469387755\n"
     ]
    },
    {
     "data": {
      "image/png": "[encoded data removed]",
      "text/plain": [
       "<Figure size 432x288 with 2 Axes>"
      ]
     },
     "metadata": {
      "needs_background": "light"
     },
     "output_type": "display_data"
    }
   ],
   "source": [
    "# C_parameter을 사용하여 최종 모델을 구축\n",
    "lr = LogisticRegression(C=best_c, penalty='l2')\n",
    "lr.fit(X_train_undersample, y_train_undersample.values.ravel())\n",
    "y_pred_undersample = lr.predict(X_test_undersample.values)\n",
    "\n",
    "# 혼동 매트릭스 계산\n",
    "cnf_matrix = confusion_matrix(y_test_undersample, y_pred_undersample)\n",
    "np.set_printoptions(precision=2)\n",
    "\n",
    "print('Recall metric in the testing dataset: ', cnf_matrix[1,1]/(cnf_matrix[1,0]+cnf_matrix[1,1]))\n",
    "\n",
    "# 정규화되지 않은 혼동 매트릭스 그림\n",
    "class_names = [0,1]\n",
    "plt.figure()\n",
    "plot_confusion_matrix(cnf_matrix,\n",
    "                      classes=class_names,\n",
    "                      title='Confusion matrix')\n",
    "plt.show()"
   ]
  },
  {
   "cell_type": "markdown",
   "id": "coated-eclipse",
   "metadata": {
    "ExecuteTime": {
     "end_time": "2021-04-01T12:40:02.322394Z",
     "start_time": "2021-04-01T12:40:02.318395Z"
    }
   },
   "source": [
    "언더샘플링 테스트 셋의 recall 점수가 91.8%가 나왔습니다.\n",
    "\n",
    "얻은 결과가 나쁘지 않네요, 우리 모델을 전체 데이터 셋에 대해 테스트해봅니다."
   ]
  },
  {
   "cell_type": "code",
   "execution_count": 69,
   "id": "handed-radius",
   "metadata": {
    "ExecuteTime": {
     "end_time": "2021-04-01T12:44:03.330400Z",
     "start_time": "2021-04-01T12:44:03.092390Z"
    }
   },
   "outputs": [
    {
     "name": "stdout",
     "output_type": "stream",
     "text": [
      "Recall metric in the testing dataset:  0.9115646258503401\n"
     ]
    },
    {
     "data": {
      "image/png": "[encoded data removed]",
      "text/plain": [
       "<Figure size 432x288 with 2 Axes>"
      ]
     },
     "metadata": {
      "needs_background": "light"
     },
     "output_type": "display_data"
    }
   ],
   "source": [
    "lr = LogisticRegression(C=best_c, penalty='l2')\n",
    "lr.fit(X_train_undersample, y_train_undersample.values.ravel())\n",
    "y_pred = lr.predict(X_test.values)\n",
    "\n",
    "# 혼동 매트릭스 계산\n",
    "cnf_matrix = confusion_matrix(y_test, y_pred)\n",
    "np.set_printoptions(precision=2)\n",
    "\n",
    "print(\"Recall metric in the testing dataset: \", cnf_matrix[1,1]/(cnf_matrix[1,0]+cnf_matrix[1,1]))\n",
    "\n",
    "# 정규화되지 않은 혼동 매트릭스 계산\n",
    "class_names = [0,1]\n",
    "plt.figure()\n",
    "plot_confusion_matrix(cnf_matrix,\n",
    "                      classes=class_names,\n",
    "                      title='Confusion matrix')\n",
    "plt.show()"
   ]
  },
  {
   "cell_type": "markdown",
   "id": "impossible-gnome",
   "metadata": {},
   "source": [
    "매우 치우친 데이터셋에서도 recall 점수가 높게 나왔습니다.\n",
    "\n",
    "### Plotting ROC curve Precision-Recall curve\n",
    "- '양성'클래스를 '음성'클래스보다 중요하게 여기는 이 문제에서는 precision-recall 곡선이 더 편리합니다. (그러나 혼동매트릭스를 그려봤기 때문에 아직 그리지 않겠습니다.)\n",
    "- AUC 와 ROC 곡선은 또한 모형이 전체적으로 정확하게 예측하고 많은 오차를 만들지는 않는지 확인하는 데 유용합니다."
   ]
  },
  {
   "cell_type": "code",
   "execution_count": 70,
   "id": "colonial-fisher",
   "metadata": {
    "ExecuteTime": {
     "end_time": "2021-04-01T12:52:36.565382Z",
     "start_time": "2021-04-01T12:52:36.447377Z"
    },
    "scrolled": true
   },
   "outputs": [
    {
     "data": {
      "image/png": "[encoded data removed]",
      "text/plain": [
       "<Figure size 432x288 with 1 Axes>"
      ]
     },
     "metadata": {
      "needs_background": "light"
     },
     "output_type": "display_data"
    }
   ],
   "source": [
    "# ROC CURVE\n",
    "lr = LogisticRegression(C=best_c, penalty='l2')\n",
    "y_pred_undersample_score = lr.fit(X_train_undersample, y_train_undersample.values.ravel()).decision_function(X_test_undersample.values)\n",
    "\n",
    "fpr, tpr, thresholds = roc_curve(y_test_undersample.values.ravel(), y_pred_undersample_score)\n",
    "roc_auc = auc(fpr, tpr)\n",
    "\n",
    "# Plot ROC\n",
    "plt.title('Receiver Operation Characteristic')\n",
    "plt.plot(fpr, tpr, 'b', label='AUC=%0.2f'%roc_auc)\n",
    "plt.legend(loc='lower right')\n",
    "plt.plot([0,1],[0,1],'r--')\n",
    "plt.xlim([-0.1,1.0])\n",
    "plt.ylim([-0.1,1.01])\n",
    "plt.ylabel('True Positive Rate')\n",
    "plt.xlabel('False Positive Rate')\n",
    "plt.show()"
   ]
  },
  {
   "cell_type": "markdown",
   "id": "awful-princeton",
   "metadata": {},
   "source": [
    "언더샘플링한 데이터 세트를 여러번 초기화하고 프로세스를 반복하는 것이 흥미로운 결과를 가져올 수 있습니다. \n",
    "\n",
    "언더샘플링 데이터를 생성하기 위해 주 클래스에서 랜덤하게 데이터를 얻었습니다. 이는 유효한 테크닉이지만 실제 모집단을 나타내지 않으므로 서로 다른 언더샘플링 구성으로 프로세스를 반복하고 이전에 선택했던 데이터가 여전히 가장 효과적인지 확인하는 것이 좋습니다. \n",
    "\n",
    "결국 전체 데이터 세트를 여러번 언더샘플링을 반복하고 평균적인 최상의 파라미터를 선택하는 것이 아이디어입니다."
   ]
  },
  {
   "cell_type": "markdown",
   "id": "recreational-action",
   "metadata": {},
   "source": [
    "## Logistic regression classifier - Skewed data"
   ]
  },
  {
   "cell_type": "code",
   "execution_count": 71,
   "id": "tired-cylinder",
   "metadata": {
    "ExecuteTime": {
     "end_time": "2021-04-01T13:02:36.638482Z",
     "start_time": "2021-04-01T13:02:21.438299Z"
    }
   },
   "outputs": [
    {
     "name": "stdout",
     "output_type": "stream",
     "text": [
      "------------------------------\n",
      "C parameter:  0.01\n",
      "------------------------------\n",
      "\n",
      "Iteration  1 : recall score =  0.5373134328358209\n",
      "Iteration  2 : recall score =  0.6164383561643836\n",
      "Iteration  3 : recall score =  0.6666666666666666\n",
      "Iteration  4 : recall score =  0.6\n",
      "Iteration  5 : recall score =  0.5\n",
      "\n",
      "Mean recall score 0.5840836911333742\n",
      "\n",
      "------------------------------\n",
      "C parameter:  0.1\n",
      "------------------------------\n",
      "\n",
      "Iteration  1 : recall score =  0.5522388059701493\n",
      "Iteration  2 : recall score =  0.6164383561643836\n",
      "Iteration  3 : recall score =  0.7166666666666667\n",
      "Iteration  4 : recall score =  0.6153846153846154\n",
      "Iteration  5 : recall score =  0.5625\n",
      "\n",
      "Mean recall score 0.612645688837163\n",
      "\n",
      "------------------------------\n",
      "C parameter:  1\n",
      "------------------------------\n",
      "\n",
      "Iteration  1 : recall score =  0.5522388059701493\n",
      "Iteration  2 : recall score =  0.6164383561643836\n",
      "Iteration  3 : recall score =  0.7333333333333333\n",
      "Iteration  4 : recall score =  0.6153846153846154\n",
      "Iteration  5 : recall score =  0.575\n",
      "\n",
      "Mean recall score 0.6184790221704963\n",
      "\n",
      "------------------------------\n",
      "C parameter:  10\n",
      "------------------------------\n",
      "\n",
      "Iteration  1 : recall score =  0.5522388059701493\n",
      "Iteration  2 : recall score =  0.6164383561643836\n",
      "Iteration  3 : recall score =  0.7333333333333333\n",
      "Iteration  4 : recall score =  0.6153846153846154\n",
      "Iteration  5 : recall score =  0.575\n",
      "\n",
      "Mean recall score 0.6184790221704963\n",
      "\n",
      "------------------------------\n",
      "C parameter:  100\n",
      "------------------------------\n",
      "\n",
      "Iteration  1 : recall score =  0.5522388059701493\n",
      "Iteration  2 : recall score =  0.6164383561643836\n",
      "Iteration  3 : recall score =  0.7333333333333333\n",
      "Iteration  4 : recall score =  0.6153846153846154\n",
      "Iteration  5 : recall score =  0.575\n",
      "\n",
      "Mean recall score 0.6184790221704963\n",
      "\n",
      "******************************\n",
      "Best model to choose from cross validation is with C parameter= 1.0\n"
     ]
    }
   ],
   "source": [
    "best_c = printing_kfold_scores(X_train, y_train)"
   ]
  },
  {
   "cell_type": "code",
   "execution_count": 73,
   "id": "sweet-glossary",
   "metadata": {
    "ExecuteTime": {
     "end_time": "2021-04-01T13:04:37.545212Z",
     "start_time": "2021-04-01T13:04:36.506772Z"
    }
   },
   "outputs": [
    {
     "name": "stdout",
     "output_type": "stream",
     "text": [
      "Recall metric in the testing dataset:  0.6190476190476191\n"
     ]
    },
    {
     "data": {
      "image/png": "[encoded data removed]",
      "text/plain": [
       "<Figure size 432x288 with 2 Axes>"
      ]
     },
     "metadata": {
      "needs_background": "light"
     },
     "output_type": "display_data"
    }
   ],
   "source": [
    "lr = LogisticRegression(C=best_c, penalty='l2')\n",
    "lr.fit(X_train, y_train.values.ravel())\n",
    "y_pred_undersample = lr.predict(X_test.values)\n",
    "\n",
    "# confusion matrix\n",
    "cnf_matrix = confusion_matrix(y_test, y_pred_undersample)\n",
    "np.set_printoptions(precision=2)\n",
    "\n",
    "print(\"Recall metric in the testing dataset: \", cnf_matrix[1,1]/(cnf_matrix[1,0]+cnf_matrix[1,1]))\n",
    "\n",
    "# Plot\n",
    "class_names = [0,1]\n",
    "plt.figure()\n",
    "plot_confusion_matrix(cnf_matrix,\n",
    "                      classes=class_names,\n",
    "                      title='confusion matrix')\n",
    "plt.show()"
   ]
  },
  {
   "cell_type": "markdown",
   "id": "organic-turtle",
   "metadata": {},
   "source": [
    "## Change Classification Threshold\n",
    "\n",
    "데이터를 언더샘플링함으로써 알고리즘이 사기를 탐지하는 데 효과적이라는 것을 살펴봤습니다. 또한 임계값을 변경하여 최종 분류를 어떻게 조정할지 살펴보겠습니다.\n",
    "- 처음에는 분류 모델을 구축하고 관측하지 않은 데이터에 사용합니다.\n",
    "- 이전에는 `predict()`메서드를 이용하여 '1', '0'을 결정했습니다.\n",
    "- 이번에는 `predict_proba()`를 사용합니다.\n",
    "    - 이 메서드는 각 클래스에 대한 확률을 반환합니다. 클래스 1에 대한 임계값을 변경하여 precision 과 recall 값을 조정할 수 있습니다.\n",
    "   "
   ]
  },
  {
   "cell_type": "code",
   "execution_count": 74,
   "id": "pointed-groove",
   "metadata": {
    "ExecuteTime": {
     "end_time": "2021-04-01T13:11:25.317289Z",
     "start_time": "2021-04-01T13:11:22.909452Z"
    },
    "scrolled": false
   },
   "outputs": [
    {
     "name": "stdout",
     "output_type": "stream",
     "text": [
      "Recall metric in the testing dataset:  0.9795918367346939\n",
      "Recall metric in the testing dataset:  0.9455782312925171\n",
      "Recall metric in the testing dataset:  0.9251700680272109\n",
      "Recall metric in the testing dataset:  0.9251700680272109\n",
      "Recall metric in the testing dataset:  0.9183673469387755\n",
      "Recall metric in the testing dataset:  0.891156462585034\n",
      "Recall metric in the testing dataset:  0.8639455782312925\n",
      "Recall metric in the testing dataset:  0.8639455782312925\n",
      "Recall metric in the testing dataset:  0.8503401360544217\n"
     ]
    },
    {
     "data": {
      "image/png": "[encoded data removed]",
      "text/plain": [
       "<Figure size 432x288 with 18 Axes>"
      ]
     },
     "metadata": {
      "needs_background": "light"
     },
     "output_type": "display_data"
    }
   ],
   "source": [
    "lr = LogisticRegression(C=0.1, penalty='l2')\n",
    "lr.fit(X_train_undersample, y_train_undersample.values.ravel())\n",
    "y_pred_undersample_proba = lr.predict_proba(X_test_undersample.values)\n",
    "\n",
    "thresholds = [0.1, 0.2, 0.3, 0.4, 0.5, 0.6, 0.7, 0.8, 0.9]\n",
    "\n",
    "plt.figure()\n",
    "\n",
    "j = 1\n",
    "for i in thresholds:\n",
    "    y_test_predictions_high_recall = y_pred_undersample_proba[:,1] > i\n",
    "    \n",
    "    plt.subplot(3,3,j)\n",
    "    j += 1\n",
    "    \n",
    "    # Confusion matrix\n",
    "    cnf_matrix = confusion_matrix(y_test_undersample, y_test_predictions_high_recall)\n",
    "    np.set_printoptions(precision=2)\n",
    "    \n",
    "    print('Recall metric in the testing dataset: ', cnf_matrix[1,1]/(cnf_matrix[1,0]+cnf_matrix[1,1]))\n",
    "    \n",
    "    # plot\n",
    "    class_names = [0,1]\n",
    "    plot_confusion_matrix(cnf_matrix,\n",
    "                          classes=class_names,\n",
    "                          title='Threshold >= %s'%i)"
   ]
  },
  {
   "cell_type": "markdown",
   "id": "grand-violence",
   "metadata": {},
   "source": [
    "클래스 1에 특정 값을 입력하는 데 필요한 확률을 낮출수록 더 많은 기록이 들어갑니다.\n",
    "\n",
    "이는 recall의 증가를 의미하나, 동시에 정확도의 감소를 의미합니다.\n",
    "\n",
    "recall이 우리의 목표 평가지표지만, 모델이 정확도를 잃지 않았으면 좋겠습니다.\n",
    "- 다시 임계값 변경으로 돌아가면 Precision-Recall 곡선이라는 옵션이 있습니다. 선택한 임계값에 따라 모델의 성능을 시각적으로 확인함으로써 높은 정밀도 값을 유지하면서recall이 충분히 높은 지점을 찾을 수 있습니다."
   ]
  },
  {
   "cell_type": "markdown",
   "id": "economic-studio",
   "metadata": {},
   "source": [
    "### Precision-Recall curve"
   ]
  },
  {
   "cell_type": "code",
   "execution_count": 76,
   "id": "sustainable-skating",
   "metadata": {
    "ExecuteTime": {
     "end_time": "2021-04-01T13:19:49.213554Z",
     "start_time": "2021-04-01T13:19:49.042552Z"
    }
   },
   "outputs": [
    {
     "data": {
      "image/png": "[encoded data removed]",
      "text/plain": [
       "<Figure size 360x360 with 1 Axes>"
      ]
     },
     "metadata": {
      "needs_background": "light"
     },
     "output_type": "display_data"
    }
   ],
   "source": [
    "from itertools import cycle\n",
    "lr = LogisticRegression(C=0.1, penalty='l2')\n",
    "lr.fit(X_train_undersample, y_train_undersample.values.ravel())\n",
    "y_pred_undersample_proba = lr.predict_proba(X_test_undersample.values)\n",
    "\n",
    "thresholds = [0.1, 0.2, 0.3, 0.4, 0.5, 0.6, 0.7, 0.8, 0.9]\n",
    "colors = cycle(['navy', 'turquoise', 'darkorange', 'cornflowerblue', 'teal', 'red', 'yellow', 'green', 'blue', 'black'])\n",
    "\n",
    "plt.figure(figsize=(5,5))\n",
    "\n",
    "j = 1\n",
    "for i, color in zip(thresholds, colors):\n",
    "    y_test_predictions_prob = y_pred_undersample_proba[:,1] > i\n",
    "    \n",
    "    precision, recall, thresholds = precision_recall_curve(y_test_undersample, y_test_predictions_prob)\n",
    "    \n",
    "    # plot\n",
    "    plt.plot(recall, precision, color=color,\n",
    "             label='Threshold: %s'%i)\n",
    "    plt.xlabel('Recall')\n",
    "    plt.ylabel('Precision')\n",
    "    plt.ylim([0.0, 1.05])\n",
    "    plt.xlim([0.0, 1.0])\n",
    "    plt.title('Precision-Recall example')\n",
    "    plt.legend(loc='lower left')"
   ]
  },
  {
   "cell_type": "markdown",
   "id": "numerous-position",
   "metadata": {},
   "source": [
    "임계값이 0.2일 때 정확도와 리콜이 어느정도 높게 나오므로 이가 적당해보입니다."
   ]
  }
 ],
 "metadata": {
  "kernelspec": {
   "display_name": "Python 3",
   "language": "python",
   "name": "python3"
  },
  "language_info": {
   "codemirror_mode": {
    "name": "ipython",
    "version": 3
   },
   "file_extension": ".py",
   "mimetype": "text/x-python",
   "name": "python",
   "nbconvert_exporter": "python",
   "pygments_lexer": "ipython3",
   "version": "3.7.10"
  },
  "toc": {
   "base_numbering": 1,
   "nav_menu": {},
   "number_sections": false,
   "sideBar": true,
   "skip_h1_title": false,
   "title_cell": "Table of Contents",
   "title_sidebar": "Contents",
   "toc_cell": false,
   "toc_position": {},
   "toc_section_display": true,
   "toc_window_display": false
  }
 },
 "nbformat": 4,
 "nbformat_minor": 5
}
