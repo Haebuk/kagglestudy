{
 "cells": [
  {
   "cell_type": "markdown",
   "id": "vocational-treasure",
   "metadata": {},
   "source": [
    "# LightGBM 7th place solution"
   ]
  },
  {
   "cell_type": "markdown",
   "id": "hindu-vision",
   "metadata": {},
   "source": [
    "참고 : https://www.kaggle.com/jsaguiar/lightgbm-7th-place-solution"
   ]
  },
  {
   "cell_type": "markdown",
   "id": "golden-chest",
   "metadata": {},
   "source": [
    "이 모델은 appplication의 범주형 변수에 goss와 label encode를 사용한 LightGBM을 사용한다."
   ]
  },
  {
   "cell_type": "code",
   "execution_count": 1,
   "id": "requested-verification",
   "metadata": {
    "ExecuteTime": {
     "end_time": "2021-02-02T10:47:56.010955Z",
     "start_time": "2021-02-02T10:47:53.278386Z"
    }
   },
   "outputs": [],
   "source": [
    "import os\n",
    "import gc\n",
    "import time\n",
    "import numpy as np\n",
    "import pandas as pd\n",
    "from contextlib import contextmanager\n",
    "import multiprocessing as mp\n",
    "from functools import partial\n",
    "from scipy.stats import kurtosis, iqr, skew\n",
    "from lightgbm import LGBMClassifier\n",
    "from sklearn.linear_model import LinearRegression\n",
    "from sklearn.model_selection import KFold, StratifiedKFold\n",
    "from sklearn.metrics import roc_auc_score\n",
    "import warnings\n",
    "warnings.simplefilter(action='ignore',category=FutureWarning)"
   ]
  },
  {
   "cell_type": "code",
   "execution_count": 2,
   "id": "outdoor-cutting",
   "metadata": {
    "ExecuteTime": {
     "end_time": "2021-02-02T10:48:41.330781Z",
     "start_time": "2021-02-02T10:48:41.315822Z"
    }
   },
   "outputs": [],
   "source": [
    "def main(debug=False):\n",
    "    num_rows = 30000 if debug else None\n",
    "    \n",
    "    with timer('application_train and application_test'):\n",
    "        df = get_train_test(DATA_DIRECTORY, num_rows=num_rows)\n",
    "        print('Application dataframe shape :', df.shape)\n",
    "        \n",
    "    with timer('Bureau and bureau_balance data'):\n",
    "        bureau_df = get_bureau(DATA_DIRECTORY, num_rows=num_rows)\n",
    "        print('Bureau dataframe shape :', bureau.shape)\n",
    "        del bureau_df\n",
    "        gc.collet()\n",
    "        \n",
    "    with timer('previous_application'):\n",
    "        prev_df = get_previous_applications(DATA_DIRECTORY, num_rows)\n",
    "        df = pd.merge(df, prev_df, on='SK_ID_CURR', how='left')\n",
    "        print('Previous dataframe shape :', prev_df.shape)\n",
    "        del prev_df\n",
    "        gc.collect()\n",
    "        \n",
    "    with timer('previous applications balances'):\n",
    "        pos = get_pos_cash(DATA_DIRECTORY, num_rows)\n",
    "        df = pd.merge(df, pos, on='SK_ID_CURR', how='left')\n",
    "        print('Pos=cash dataframe shape :', pos.shape)\n",
    "        del pos\n",
    "        gc.collet()\n",
    "        \n",
    "        ins = get_installment_payments(DAYA_DIRECTORY, num_rows)\n",
    "        df = pd.merge(df, ins, on='SK_ID_CURR', how='left')\n",
    "        print('Installments dataframe shape :', ins.shape)\n",
    "        del ins\n",
    "        gc.collect()\n",
    "        \n",
    "        cc = get_credit_card(DATA_DIRECTORY, num_rows)\n",
    "        df = pd.merge(df, cc, on='SK_ID_CURR', how='left')\n",
    "        print('Credit card dataframe shape :', cc.shape)\n",
    "        del cc\n",
    "        gc.collect()\n",
    "        \n",
    "    # 비율 추가 및 다른 테이블간 그룹화\n",
    "    df = add_ratios_features(df)\n",
    "    df = reduce_memory(df)\n",
    "    lgbm_categorical_feat = ['CODE_GENDER', 'FLAG_OWN_CAR', 'NAME_CONTRACT_TYPE', 'NAME_EDUCATION_TYPE',\n",
    "        'NAME_FAMILY_STATUS', 'NAME_HOUSING_TYPE', 'NAME_INCOME_TYPE', 'OCCUPATION_TYPE',\n",
    "        'ORGANIZATION_TYPE', 'WEEKDAY_APPR_PROCESS_START', 'NAME_TYPE_SUITE', 'WALLSMATERIAL_MODE']\n",
    "    with timer('Run LightGBM'):\n",
    "        feat_importance = kfold_lightgbm_sklearn(df, lgbm_categorical_feat)\n",
    "        print(feat_importance)"
   ]
  },
  {
   "cell_type": "code",
   "execution_count": 3,
   "id": "spectacular-hometown",
   "metadata": {
    "ExecuteTime": {
     "end_time": "2021-02-02T10:48:42.851299Z",
     "start_time": "2021-02-02T10:48:42.838333Z"
    }
   },
   "outputs": [],
   "source": [
    "# 비율 추가 함수\n",
    "def add_ratios_features(df):\n",
    "    # 신용 대 소득 비율\n",
    "    df['BUREAU_INCOME_CREDIT_RATIO'] = df['BUREAU_AMT_CREDIT_SUM_MEAN'] / df['AMT_INCOME_TOTAL']\n",
    "    df['BUREAU_ACTIVE_CREDIT_TO_INCOME_RATIO'] = df['BUREAU_ACTIVE_AMT_CREDIT_SUM_SUM'] / df['AMT_INCOME_TOTAL']\n",
    "    # 이전 신용 대 현재 신용 비율\n",
    "    df['CURRENT_TO_APPROVED_CREDIT_MIN_RATIO'] = df['APPROVED_AMT_CREDIT_MIN'] / df['AMT_CREDIT']\n",
    "    df['CURRENT_TO_APPROVED_CREDIT_MAX_RATIO'] = df['APPROVED_AMT_CREDIT_MAX'] / df['AMT_CREDIT']\n",
    "    df['CURRENT_TO_APPROVED_CREDIT_MEAN_RATIO'] = df['APPROVED_AMT_CREDIT_MEAN'] / df['AMT_CREDIT']\n",
    "    # 이전 신용 대 현재 연금 비율\n",
    "    df['CURRENT_TO_APPROVED_ANNUITY_MAX_RATIO'] = df['APPROVED_AMT_ANNUITY_MAX'] / df['AMT_ANNUITY']\n",
    "    df['CURRENT_TO_APPROVED_ANNUITY_MEAN_RATIO'] = df['APPROVED_AMT_ANNUITY_MEAN'] / df['AMT_ANNUITY']\n",
    "    df['PAYMENT_MIN_TO_ANNUITY_RATIO'] = df['INS_AMT_PAYMENT_MIN'] / df['AMT_ANNUITY']\n",
    "    df['PAYMENT_MAX_TO_ANNUITY_RATIO'] = df['INS_AMT_PAYMENT_MAX'] / df['AMT_ANNUITY']\n",
    "    df['PAYMENT_MEAN_TO_ANNUITY_RATIO'] = df['INS_AMT_PAYMENT_MEAN'] / df['AMT_ANNUITY']\n",
    "    # 이전신용 대 현재신용 대 연금 비율\n",
    "    df['CTA_CREDIT_TO_ANNUITY_MAX_RATIO'] = df['APPROVED_CREDIT_TO_ANNUITY_RATIO_MAX'] / df[\n",
    "        'CREDIT_TO_ANNUITY_RATIO']\n",
    "    df['CTA_CREDIT_TO_ANNUITY_MEAN_RATIO'] = df['APPROVED_CREDIT_TO_ANNUITY_RATIO_MEAN'] / df[\n",
    "        'CREDIT_TO_ANNUITY_RATIO']\n",
    "    # 일수 차이 및 비율\n",
    "    df['DAYS_DECISION_MEAN_TO_BIRTH'] = df['APPROVED_DAYS_DECISION_MEAN'] / df['DAYS_BIRTH']\n",
    "    df['DAYS_CREDIT_MEAN_TO_BIRTH'] = df['BUREAU_DAYS_CREDIT_MEAN'] / df['DAYS_BIRTH']\n",
    "    df['DAYS_DECISION_MEAN_TO_EMPLOYED'] = df['APPROVED_DAYS_DECISION_MEAN'] / df['DAYS_EMPLOYED']\n",
    "    df['DAYS_CREDIT_MEAN_TO_EMPLOYED'] = df['BUREAU_DAYS_CREDIT_MEAN'] / df['DAYS_EMPLOYED']\n",
    "    \n",
    "    return df"
   ]
  },
  {
   "cell_type": "markdown",
   "id": "abroad-employer",
   "metadata": {},
   "source": [
    "## LgithGBM Model"
   ]
  },
  {
   "cell_type": "code",
   "execution_count": 4,
   "id": "rental-toddler",
   "metadata": {
    "ExecuteTime": {
     "end_time": "2021-02-02T10:48:47.928648Z",
     "start_time": "2021-02-02T10:48:47.905711Z"
    }
   },
   "outputs": [],
   "source": [
    "def kfold_lightgbm_sklearn(data, categorical_feature=None):\n",
    "    df = data[data['TARGET'].notnull()]  # TARGET이 결측값이 아닌 데이터\n",
    "    test = data[data['TARGET'].isnull()]  # TARGET이 결측값인 데이터 (test는 target없음)\n",
    "    print('Train/valid shape : {}, test shape : {}'.format(df.shape,test.shape))\n",
    "    \n",
    "    del_features = ['TARGET','SK_ID_CURR','SK_ID_BUREAU','SK_ID_PREV','index','levle_0']\n",
    "    predictors = list(filter(lambda v: v not in del_features, df.columns))  # 삭제할 변수가 아닌 변수 리스트\n",
    "    \n",
    "    if not STRATIFIED_KFOLD:\n",
    "        folds = KFold(n_splits=NUM_FOLDS, shuffle=True, random_state=RANDOM_SEED)\n",
    "    else:\n",
    "        folds = StratifiedKFold(n_splits=NUM_FOLDS,shuffle=True,random_state=RANDOM_SEED)\n",
    "        \n",
    "    \n",
    "    # oof 예측, test 예측, 변수 중요도, train/valid auc\n",
    "    oof_preds = np.zeros(df.shape[0])\n",
    "    sub_preds = np.zeros(test.shape[0])\n",
    "    importance_df = pd.DataFrame()\n",
    "    eval_results = dict()\n",
    "    \n",
    "    for n_fold, (train_idx,valid_idx) in enumerate(folds.split(df[predictors],df['TARGET'])):\n",
    "        train_x, train_y = df[predictors].iloc[train_idx], df['TARGET'].iloc[train_idx]\n",
    "        valid_x, valid_y = df[predictors].iloc[valid_idx], df['TARGET'].iloc[valid_idx]\n",
    "        \n",
    "        params = {'random_state':RANDOM_SEED, 'nthread':NUM_THREADS}\n",
    "        clf = LGBMClassifier(**{**params, **LIGHTGBM_PARMAS})\n",
    "        if not categorical_feature:  ### 범주형 변수 아니면\n",
    "            clf.fit(train_x,train_y, eval_set=[(train_x,train_y),(valid_x,valid_y)],\n",
    "                   eval_metric='auc',verbose=400,early_stopping_rounds=EARLY_STOPPING)\n",
    "        else :  ### 범주형 변수면 맨 아래줄 추가\n",
    "            clf.fit(train_x,train_y, eval_set=[(train_x,train_y),(valid_X,valid_y)],\n",
    "                   eval_metric='auc',verbose=400,early_stopping_rounds=EARLY_STTOPING,  \n",
    "                   feature_name=list(df[predictors].columns),categorical_feautre=categorical_feature)\n",
    "        \n",
    "        oof_preds[valid_idx] = clf.predict_proba(valid_x, num_iteration=clf.best_iteration_)[:,1]\n",
    "        sub_preds += clf.predict_proba(test[predictors], num_iteration=clf.best_iteration_)[:,1] / folds.n_splits\n",
    "        \n",
    "        # GAIN, SPLIT 사용한 변수 중요도\n",
    "        fold_importance = pd.DataFrame()\n",
    "        fold_importance['feature'] = predictors\n",
    "        fold_importance['gain'] = clf.booster_.feature_importance(importance_type='gain')\n",
    "        fold_importance['split'] = clf.booster_.feature_importance(importance_type='split')\n",
    "        importance_df = pd.concat([importance_df, fold-importance],axis=0)\n",
    "        eval_results['train_{}'.format(n_fold+1)] = clf.evals_result_['training']['auc']\n",
    "        eval_results['valid_{}'.format(n_fold+1)] = clf.evals_result_['valid_1']['auc']\n",
    "        \n",
    "        print('Fold %2d AUC : %.6f' %(n_fold+1, roc_auc_score(valid_y,oof_preds[valid_idx])))\n",
    "        del clf, train_x, tarin_y, valid_x, valid_y\n",
    "        gc.collect()\n",
    "        \n",
    "    print('Full AUC score %.6f' %roc_auc_score(df['TARGET'],oof_preds))\n",
    "    test['TARGET'] = sub_preds.copy()\n",
    "    \n",
    "    # folds간 평균 변수 중요도\n",
    "    mean_importance = importance_df.groupby('feature').mean().reset_index()\n",
    "    mean_importance.sort_values(by='gain', ascending=False, inplace=True)\n",
    "    \n",
    "    # 변수중요도, test 예측, oof 예측을 csv로 저장\n",
    "    if GENERATE_SUBMISSION_FILES:\n",
    "        # oof csv\n",
    "        oof = pd.DataFrame()\n",
    "        oof['SK_ID_CURR'] = df['SK_ID_CURR'].copy()\n",
    "        df['PREDICTIONS'] = oof_preds.copy()\n",
    "        df['TARGET'] = df['TARGET'].copy()\n",
    "        df.to_csv('oof{}.csv'.format(SUBMISSION_SUFIX),index=False)\n",
    "        # 제출(test)파일과 변수중요도 저장\n",
    "        test[['SK_ID_CURR','TARGET']].to_csv('submission{}.csv'.format(SUBMISSION_SUFIX),index=False)\n",
    "        mean_importance.to_csv('feature_importance{}.csv'.format(SUBMISSION_SUFIX),index=False)\n",
    "        \n",
    "    return mean_importance"
   ]
  },
  {
   "cell_type": "markdown",
   "id": "spanish-listing",
   "metadata": {},
   "source": [
    "## Application Pipeline"
   ]
  },
  {
   "cell_type": "code",
   "execution_count": 6,
   "id": "recorded-hammer",
   "metadata": {
    "ExecuteTime": {
     "end_time": "2021-02-02T10:59:04.343076Z",
     "start_time": "2021-02-02T10:59:04.310165Z"
    }
   },
   "outputs": [],
   "source": [
    "def get_train_test(path, num_rows=None):  # application_train/test.csv 처리 및 데이터프레임 반환\n",
    "    train = pd.read_csv(os.path.join(path,'application_train.csv'),nrows=num_rows)\n",
    "    test = pd.read_csv(os.path.join(path,'application_test.csv'),nrows=num_rows)\n",
    "    df = train.append(test)\n",
    "    del train,test\n",
    "    gc.collect()\n",
    "    \n",
    "    # Data cleaning\n",
    "    df = df[df['CODE_GENDER']!='XNA']  # XNA 코드 성별 가진 사람 4명\n",
    "    df = df[df['AMT_INCOME_TOTAL']<20000000]  # test 최대 income 4M, train 117M\n",
    "    df['DAYS_EMPLOYED'].replace(365243,np.nan,inplace=True)  ### 이상치인 365243을 nan으로 대체\n",
    "    df['DAYS_LAST_PHONE_CHANGE'].replace(0,np.nan,inplace=True)\n",
    "    \n",
    "    # Flag_document 변수 - 개수 및 첨도\n",
    "    docs = [f for f in df.columns if 'FLAG_DOC' in f]  # Flag_document 변수 저장\n",
    "    df['DOCUMETN_COUNT'] = df[docs].sum(axis=1)\n",
    "    df['NEW_DOC_KURT'] = df[docs].kurtosis(axis=1)\n",
    "    # 범주형 변수 age - target=1인 plot\n",
    "    df['AGE_RANGE'] = df['DAYS_BIRTH'].apply(lambda x:get_age_label(x))\n",
    "    \n",
    "    # External source 변수 통한 새로운 변수 생성\n",
    "    df['EXT_SOURCES_PROD'] = df['EXT_SOURCE_1'] * df['EXT_SOURCE_2'] * df['EXT_SOURCE_3']\n",
    "    df['EXT_SOURCES_WEIGHTED'] = df.EXT_SOURCE_1*2 + df.EXT_SOURCE2*1 + df.EXT_SOURCE_3*3\n",
    "    \n",
    "    np.warnings.filterwarnings('ignore', r'All-NaN (slice|axis) encountered')\n",
    "    for function_name in ['min','max','mean','namedian','var']:\n",
    "        feature_name = 'EXT_SOURCES_{}'.format(function_name.upper())\n",
    "        df[feature_name] = eval('np.{}'.format(function_name))(\n",
    "            df[['EXT_SOURCE_1','EXT_SOURCE_2','EXT_SOURCE_3']],axis=1)\n",
    "        \n",
    "        \n",
    "    # 신용 비율\n",
    "    df['CREDIT_TO_ANNUITY_RATIO'] = df['AMT_CREDIT'] / df['AMT_ANNUITY']\n",
    "    df['CREDIT_TO_GOODS_RATIO'] = df['AMT_CREDIT'] / df['AMT_GOODS_PRICE']\n",
    "    # 소득 비율\n",
    "    df['ANNUITY_TO_INCOME_RATIO'] = df['AMT_ANNUITY'] / df['AMT_INCOME_TOTAL']\n",
    "    df['CREDIT_TO_INCOME_RATIO'] = df['AMT_CREDIT'] / df['AMT_INCOME_TOTAL']\n",
    "    df['INCOME_TO_EMPLOYED_RATIO'] = df['AMT_INCOME_TOTAL'] / df['DAYS_EMPLOYED']\n",
    "    df['INCOME_TO_BIRTH_RATIO'] = df['AMT_INCOME_TOTAL'] / df['DAYS_BIRTH']\n",
    "    # 시간 비율\n",
    "    df['EMPLOYED_TO_BIRTH_RATIO'] = df['DAYS_EMPLOYED'] / df['DAYS_BIRTH']\n",
    "    df['ID_TO_BIRTH_RATIO'] = df['DAYS_ID_PUBLISH'] / df['DAYS_BIRTH']\n",
    "    df['CAR_TO_BIRTH_RATIO'] = df['OWN_CAR_AGE'] / df['DAYS_BIRTH']\n",
    "    df['CAR_TO_EMPLOYED_RATIO'] = df['OWN_CAR_AGE'] / df['DAYS_EMPLOYED']\n",
    "    df['PHONE_TO_BIRTH_RATIO'] = df['DAYS_LAST_PHONE_CHANGE'] / df['DAYS_BIRTH']\n",
    "    \n",
    "    # 같은 그룹인 applications의 통계량으로 그룹화\n",
    "    group = ['ORGANIZATION_TYPE', 'NAME_EDUCATION_TYPE', 'OCCUPATION_TYPE', 'AGE_RANGE', 'CODE_GENDER']\n",
    "    df = do_median(df, group, 'EXT_SOURCES_MEAN', 'GROUP_EXT_SOURCES_MEDIAN')\n",
    "    df = do_std(df, group, 'EXT_SOURCES_MEAN', 'GROUP_EXT_SOURCES_STD')\n",
    "    df = do_mean(df, group, 'AMT_INCOME_TOTAL', 'GROUP_INCOME_MEAN')\n",
    "    df = do_std(df, group, 'AMT_INCOME_TOTAL', 'GROUP_INCOME_STD')\n",
    "    df = do_mean(df, group, 'CREDIT_TO_ANNUITY_RATIO', 'GROUP_CREDIT_TO_ANNUITY_MEAN')\n",
    "    df = do_std(df, group, 'CREDIT_TO_ANNUITY_RATIO', 'GROUP_CREDIT_TO_ANNUITY_STD')\n",
    "    df = do_mean(df, group, 'AMT_CREDIT', 'GROUP_CREDIT_MEAN')\n",
    "    df = do_mean(df, group, 'AMT_ANNUITY', 'GROUP_ANNUITY_MEAN')\n",
    "    df = do_std(df, group, 'AMT_ANNUITY', 'GROUP_ANNUITY_STD')\n",
    "    \n",
    "    # 범주형 변수 인코드(LabelEncoder)\n",
    "    df, le_encoded_cols = label_encoder(df,None)\n",
    "    df = drop_application_columns(df)\n",
    "    return df"
   ]
  },
  {
   "cell_type": "code",
   "execution_count": 7,
   "id": "ready-courtesy",
   "metadata": {
    "ExecuteTime": {
     "end_time": "2021-02-02T11:01:40.366164Z",
     "start_time": "2021-02-02T11:01:40.356192Z"
    }
   },
   "outputs": [],
   "source": [
    "# 순열 변수 중요도에 따른 변수 삭제\n",
    "def drop_application_columns(df):\n",
    "    drop_list = [\n",
    "        'CNT_CHILDREN', 'CNT_FAM_MEMBERS', 'HOUR_APPR_PROCESS_START',\n",
    "        'FLAG_EMP_PHONE', 'FLAG_MOBIL', 'FLAG_CONT_MOBILE', 'FLAG_EMAIL', 'FLAG_PHONE',\n",
    "        'FLAG_OWN_REALTY', 'REG_REGION_NOT_LIVE_REGION', 'REG_REGION_NOT_WORK_REGION',\n",
    "        'REG_CITY_NOT_WORK_CITY', 'OBS_30_CNT_SOCIAL_CIRCLE', 'OBS_60_CNT_SOCIAL_CIRCLE',\n",
    "        'AMT_REQ_CREDIT_BUREAU_DAY', 'AMT_REQ_CREDIT_BUREAU_MON', 'AMT_REQ_CREDIT_BUREAU_YEAR', \n",
    "        'COMMONAREA_MODE', 'NONLIVINGAREA_MODE', 'ELEVATORS_MODE', 'NONLIVINGAREA_AVG',\n",
    "        'FLOORSMIN_MEDI', 'LANDAREA_MODE', 'NONLIVINGAREA_MEDI', 'LIVINGAPARTMENTS_MODE',\n",
    "        'FLOORSMIN_AVG', 'LANDAREA_AVG', 'FLOORSMIN_MODE', 'LANDAREA_MEDI',\n",
    "        'COMMONAREA_MEDI', 'YEARS_BUILD_AVG', 'COMMONAREA_AVG', 'BASEMENTAREA_AVG',\n",
    "        'BASEMENTAREA_MODE', 'NONLIVINGAPARTMENTS_MEDI', 'BASEMENTAREA_MEDI', \n",
    "        'LIVINGAPARTMENTS_AVG', 'ELEVATORS_AVG', 'YEARS_BUILD_MEDI', 'ENTRANCES_MODE',\n",
    "        'NONLIVINGAPARTMENTS_MODE', 'LIVINGAREA_MODE', 'LIVINGAPARTMENTS_MEDI',\n",
    "        'YEARS_BUILD_MODE', 'YEARS_BEGINEXPLUATATION_AVG', 'ELEVATORS_MEDI', 'LIVINGAREA_MEDI',\n",
    "        'YEARS_BEGINEXPLUATATION_MODE', 'NONLIVINGAPARTMENTS_AVG', 'HOUSETYPE_MODE',\n",
    "        'FONDKAPREMONT_MODE', 'EMERGENCYSTATE_MODE'\n",
    "    ]\n",
    "    # 대부분의 flag document 열 삭제\n",
    "    for doc_num in [2,4,5,6,7,9,10,11,12,13,14,15,16,17,19,20,21]:\n",
    "        drop_list.append('FLAG_DOCUMENT_{}'.format(doc_num))\n",
    "        \n",
    "    df.drop(drop_list, aixs=1, inplace=True)\n",
    "    \n",
    "    return df"
   ]
  },
  {
   "cell_type": "code",
   "execution_count": 8,
   "id": "turned-workshop",
   "metadata": {
    "ExecuteTime": {
     "end_time": "2021-02-02T11:03:30.791651Z",
     "start_time": "2021-02-02T11:03:30.780682Z"
    }
   },
   "outputs": [],
   "source": [
    "# 연령 그룹 레이블(int) 반환  ### age 변수 범주화\n",
    "def get_age_label(days_birth):\n",
    "    age_years = -days_birth / 365\n",
    "    if age_years<27: return 1\n",
    "    elif age_years<40: return 2\n",
    "    elif age_years<50: return 3\n",
    "    elif age_years<65: return 4\n",
    "    elif age_years<99: return 5\n",
    "    else: return 0"
   ]
  },
  {
   "cell_type": "markdown",
   "id": "decreased-knock",
   "metadata": {},
   "source": [
    "## Bureau Pipeline"
   ]
  },
  {
   "cell_type": "code",
   "execution_count": 9,
   "id": "favorite-survey",
   "metadata": {
    "ExecuteTime": {
     "end_time": "2021-02-02T11:24:11.228611Z",
     "start_time": "2021-02-02T11:24:11.208627Z"
    }
   },
   "outputs": [],
   "source": [
    "# bureau.csv와 bureau_balance.csv 처리 및 데이터프레임 반환\n",
    "def get_bureau(path,num_rows=None):\n",
    "    bureau = pd.read_csv(os.path.join(path, 'bureau.csv'), nrows=num_rows)\n",
    "    # 신용기간과 신용/계좌 만료일 차이\n",
    "    bureau['CREDIT_DURATION'] = -bureau['DAYS_CREDIT'] + bureau['DAYS_CREDIT_ENDDATE']\n",
    "    bureau['ENDDATE_ID'] = bureau['DAYS_CREDIT_ENDDATE'] - bureau['DAYS_ENDDATE_FACT']\n",
    "    # 신용 대 부채 비율 및 차이\n",
    "    bureau['DEBT_PERCENTAGE'] = bureau['AMT_CREDIT_SUM'] / bureau['AMT_CREDIT_SUM_DEBT']\n",
    "    bureau['DEBT_CREDIT_DIFF'] = bureau['AMT_CREDIT_SUM'] - bureau['AMT_CREDIT_SUM_DEBT']\n",
    "    bureau['CREDIT_TO_ANNUITY_RATIO'] = bureau['AMT_CREDIT_SUM'] / bureau['AMT_ANNUITY']\n",
    "    \n",
    "    # One-hot encoder\n",
    "    bureau, categorical_cols = one_hot_encoder(bureau, nan_as_cateogry=False)\n",
    "    # bureau balance 변수와 조인\n",
    "    bureau = bureau.merge(get_bureau_balance(path,num_rows), how='left', on='SK_ID_BUREAU')\n",
    "    # 지급이 늦은 flag 달 (만기일 경과한 달)\n",
    "    bureau['STATUS_12345'] = 0\n",
    "    for i in range(1,6):\n",
    "        bureau['STATUS_12345'] += bureau['STATUS_{}'.format(i)]\n",
    "        \n",
    "    # balance의 달 수로 집계하고 bureau와 병합 (대출 길이 집계)\n",
    "    features = ['AMT_CREDIT_MAX_OVERDUE', 'AMT_CREDIT_SUM_OVERDUE', 'AMT_CREDIT_SUM',\n",
    "        'AMT_CREDIT_SUM_DEBT', 'DEBT_PERCENTAGE', 'DEBT_CREDIT_DIFF', 'STATUS_0', 'STATUS_12345']\n",
    "    agg_length = bureau.groupby('MONTHS_BALANCE_SIZE')[feature].mean().reset_index()\n",
    "    agg_length.rename({feat:'LL_' + feat for feat in features}, axis=1, inplace=True)\n",
    "    bureau = bureau.merge(agg_length, how='left', on='MONTHS_BALANCE_SIZE')\n",
    "    del agg_length\n",
    "    gc.collet()\n",
    "    \n",
    "    agg_bureau = group(bureau, 'BUREAU_', BUREAU_AGG)  # 일반 대출 집계\n",
    "    active = bureau[bureau['CREDIT_ACTIVE_Active']==1]\n",
    "    agg_bureau = group_and_merge(active, agg_bureau, 'BUREAU_ACTIVE_', BUREAU_ACTIVE_AGG)\n",
    "    closed = bureau[bureau['CREDIT_ACTIVE_Close']==1]\n",
    "    agg_bureau = group_and_merge(closed,agg_bureau,'BUREAU_CLOSED_',BUREAU_CLOSED_AGG)\n",
    "    del active, closed\n",
    "    gc.collect()\n",
    "    \n",
    "    # main loan 유형으로 집계\n",
    "    for credit_type in ['Consumer credit', 'Credit card', 'Mortgage', 'Car loan', 'Microloan']:\n",
    "        type_df = bureau[bureau['CREDIT_TYPE_'+credit_type]==1]\n",
    "        prefix = 'BUREAU_' + credit_type.split(' ')[0].upper() + '_'\n",
    "        agg_bureau = group_and_merge(type_df,agg_bureau,prefix,BUREAU_LOAN_TYPE_AGG)\n",
    "        del type_df\n",
    "        gc.collet()\n",
    "        \n",
    "    # 지난 x 달로 집계한 시간\n",
    "    for time_frame in [6,12]:\n",
    "        prefix = 'BUREAU_LAST{}M_'.format(time_frame)\n",
    "        time_frame_df = bureau[bureau['DAYS_CREDIT'] >= -39*time_frame]\n",
    "        agg_bureau = group_and_merge(time_frame_df,agg_bureau,prefix,BUREAU_TIME_AGG)\n",
    "        del time_frame_df\n",
    "        gc.collect()\n",
    "        \n",
    "    # 지난 대출금 연체 최대값\n",
    "    sort_bureau = bureau.sort_values(by=['DAYS_CREDIT'])\n",
    "    gr = sort_bureau.groupby('SK_ID_CURR')['AMT_CREDIT_MAX_OVERDUE'].last().reset_index()\n",
    "    gr.rename({'AMT_CREDIT_MAX_OVERDUE': 'BUREAU_LAST_LOAN_MAX_OVERDUE'}, inplace=True)\n",
    "    agg_bureau = agg_bureau.merge(gr,on='SK_ID_CURR',how='left')\n",
    "    \n",
    "    # 총 부채 / 총 신용 비율 및 활성 대출금 부채 / 활성 대출금 신용 비율\n",
    "    agg_bureau['BUREAU_DEBT_OVER_CREDIT'] = agg_bureau['BUREAU_AMT_CREDIT_SUM_DEBT_SUM'] / agg_bureau['BUREAU_AMT_CREDIT_SUM_SUM']\n",
    "    agg_bureau['BUREAU_ACTIVE_DEBT_OVER_CREDIT'] = agg_bureau['BUREAU_ACTIVE_AMT_CREDIT_SUM_DEBT_SUM']/agg_bureau['BUREAU_ACTIVE_AMT_CREDIT_SUM_SUM']\n",
    "    \n",
    "    return agg_bureau"
   ]
  },
  {
   "cell_type": "code",
   "execution_count": 10,
   "id": "blond-controversy",
   "metadata": {
    "ExecuteTime": {
     "end_time": "2021-02-02T11:27:10.068354Z",
     "start_time": "2021-02-02T11:27:10.059380Z"
    }
   },
   "outputs": [],
   "source": [
    "def get_bureau_balance(path, num_rows=None):\n",
    "    bb = pd.read_csv(os.path.join(path, 'bureau_balance.csv'), nrows=num_rows)\n",
    "    bb,categorical_cols = one_hot_encoder(bb,nan_as_category=False)\n",
    "    \n",
    "    # 각 범주 비율 계산\n",
    "    bb_processed = bb.groupby('SK_ID_BUREAU')[categorical_cols].mean().reset_index()\n",
    "    # 납부기간의 최소, 최대, 개수, 평균 (월)\n",
    "    agg = {'MONTHS_BALANCE': ['min','max','mean','size']}\n",
    "    bb_precessed = group_and_merge(bb,bb_precessed,'',agg,'SK_ID_BUREAU')\n",
    "    del bb\n",
    "    gc.collect()\n",
    "    \n",
    "    return bb_processed"
   ]
  },
  {
   "cell_type": "markdown",
   "id": "stable-pursuit",
   "metadata": {},
   "source": [
    "## Previous Pipeline"
   ]
  },
  {
   "cell_type": "code",
   "execution_count": 12,
   "id": "conservative-anderson",
   "metadata": {
    "ExecuteTime": {
     "end_time": "2021-02-02T11:44:07.800622Z",
     "start_time": "2021-02-02T11:44:07.775648Z"
    }
   },
   "outputs": [],
   "source": [
    "# previoius_application.csv 처리 및 데이터프레임 반환\n",
    "def get_previous_applications(path,num_rows=None):\n",
    "    prev = pd.read_csv(os.path.join(path,'previous_applications.csv'),nrows=num_rows)\n",
    "    pay = pd.read_csv(os.path.join(path,'installments_payments.csv'),nrows=nume_rows)\n",
    "    \n",
    "    # 중요한 범주형 변수 one-hot encoding\n",
    "    ohe_columns = [\n",
    "        'NAME_CONTRACT_STATUS', 'NAME_CONTRACT_TYPE', 'CHANNEL_TYPE',\n",
    "        'NAME_TYPE_SUITE', 'NAME_YIELD_GROUP', 'PRODUCT_COMBINATION',\n",
    "        'NAME_PRODUCT_TYPE', 'NAME_CLIENT_TYPE']\n",
    "    prev, categorical_cols = one_hot_encoder(prev,ohe_columns,nan_as_category=False)\n",
    "    \n",
    "    # feature engineering : 비율과 차이\n",
    "    prev['APPLICATION_CREDIT_DIFF'] = prev['AMT_APPLICATION'] - prev['AMT_CREDIT']\n",
    "    prev['APPLICATON_CREDIT_RATIO'] = prev['AMT_APPLICATION'] / prev['AMT_CREDIT']\n",
    "    prev['CREDIT_TO_ANNUITY_RATIO'] = prev['AMT_CREDIT']/prev['AMT_ANNUITY']\n",
    "    prev['DOWN_PAYMENT_TO_CREDIT'] = prev['AMT_DOWN_PAYMENT'] / prev['AMT_CREDIT']\n",
    "    \n",
    "    # previous application에 대한 이자율 (간소화)\n",
    "    total_payment = prev['AMT_ANNUITY'] * prev['CNT_PAYMENT']\n",
    "    prev['SIMPLE_INTERESTS'] = (total_payment/prev['AMT_CREIDT']-1) / prev['CNT_PAYMENT']\n",
    "    \n",
    "    # Active loans - 승인되고 납부되지 않은 (last_due 365243)\n",
    "    approved = prev[prev['NAME_CONTRACT_STATUS_Approved']==1]\n",
    "    active_df = approved[approved['DAYS_LAST_DUE']==365243]\n",
    "    # active loans에서 이미 지불된 금액 확인 (installments.csv 사용)\n",
    "    active_pay = pay[pay['SK_ID_PREV'].isin(active_df['SK_ID_PREV'])]\n",
    "    active_pay_agg = active_pay.groupby('SK_ID_PREV')[['AMT_INSTALMENT', 'AMT_PAYMENT']].sum()\n",
    "    active_pay_agg.reset_index(inplace=True)\n",
    "    # Active loans : 지불된 것과 할부된 것의 차이\n",
    "    active_pay_agg['INSTALMENT_PAYMENT_DIFF'] = active_pay_agg['AMT_INSTALMENT'] - active_pay_agg['AMT_PAYMENT']\n",
    "    # active_df 병합\n",
    "    active_df = active_df.merge(active_pay_agg, on='SK_ID_PREV', how='left')\n",
    "    active_df['REMAINING_DEBT'] = active_df['AMT_CREDIT'] - active_df['AMT_PAYMENT']\n",
    "    active_df['REPAYMENT_RATIO'] = active_df['AMT_PAYMENT'] / active_df['AMT_CREDIT']\n",
    "    # Active applications 로 집계\n",
    "    active_agg_df = group(active_df, 'PREV_ACTIVE_', PREVIOUS_ACTIVE_AGG)\n",
    "    active_agg_df['TOTAL_REPAYMENT_RATIO'] = active_agg_df['PREV_ACTIVE_AMT_PAYMENT_SUM']/                                             active_agg_df['PREV_ACTIVE_AMT_CREDIT_SUM']\n",
    "    del active_pay, active_pay_agg, active_df\n",
    "    gc.collect()\n",
    "    \n",
    "    # 365.243값을 nan(결측값)으로 대체\n",
    "    prev['DAYS_FIRST_DRAWING'].replace(365243, np.nan, inplace= True)\n",
    "    prev['DAYS_FIRST_DUE'].replace(365243, np.nan, inplace= True)\n",
    "    prev['DAYS_LAST_DUE_1ST_VERSION'].replace(365243, np.nan, inplace= True)\n",
    "    prev['DAYS_LAST_DUE'].replace(365243, np.nan, inplace= True)\n",
    "    prev['DAYS_TERMINATION'].replace(365243, np.nan, inplace= True)\n",
    "    \n",
    "    # days last due difference (scehduled x done)\n",
    "    prev['DAYS_LAST_DUE_DIFF'] = prev['DAYS_LAST_DUE_1ST_VERSION'] - prev['DAYS_LAST_DUE']\n",
    "    approved['DAYS_LAST_DUE_DIFF'] = approved['DAYS_LAST_DUE_1ST_VERSION'] - approved['DAYS_LAST_DUE']\n",
    "    \n",
    "    # 범주형 변수\n",
    "    categorical_agg = {key:['mean'] for key in categorical_cols}\n",
    "    # general aggregations\n",
    "    agg_prev = group(prev, 'PREV_', {**PREVIOUS_AGG, **categorical_agg})\n",
    "    # agg_prev에 active loan 병합\n",
    "    agg_prev = agg_prev.merge(active_agg_df, how='left', on='SK_ID_CURR')\n",
    "    del active_agg_df\n",
    "    gc.collect()\n",
    "    # aggregations for approved and refused loans\n",
    "    agg_prev = group_and_merge(approved, agg_prev, 'APPROVED_', PREVIOUS_APPROVED_AGG)\n",
    "    refused = prev[prev['NAME_CONTRACT_STATUS_Refused'] == 1]\n",
    "    agg_prev = group_and_merge(refused, agg_prev, 'REFUSED_', PREVIOUS_REFUSED_AGG)\n",
    "    del approved, refused\n",
    "    gc.collect()\n",
    "    # Aggregations for Consumer loans and Cash loans\n",
    "    for loan_type in ['Consumer loans', 'Cash loans']:\n",
    "        type_df = prev[prev['NAME_CONTRACT_TYPE_{}'.format(loan_type)] == 1]\n",
    "        prefix = 'PREV_' + loan_type.split(\" \")[0] + '_'\n",
    "        agg_prev = group_and_merge(type_df, agg_prev, prefix, PREVIOUS_LOAN_TYPE_AGG)\n",
    "        del type_df\n",
    "        gc.collect()\n",
    "        \n",
    "    # 납부가 늦은 대출금으로 SK_ID_PREV 얻기\n",
    "    pay['LATE_PAYMENT'] = pay['DAYS_ENTRY_PAYMENT'] - pay['DAYS_INSTALMENT']\n",
    "    pay['LATE_PAYMENT'] = pay['LATE_PAYMENT'].apply(lambda x: 1 if x > 0 else 0)\n",
    "    dpd_id = pay[pay['LATE_PAYMENT'] > 0]['SK_ID_PREV'].unique()\n",
    "    # 납부 늦은 대출금으로 집계\n",
    "    agg_dpd = group_and_merge(prev[prev['SK_ID_PREV'].isin(dpd_id)], agg_prev,'PREV_LATE_', PREVIOUS_LATE_PAYMENTS_AGG)\n",
    "    del agg_dpd, dpd_id\n",
    "    gc.collect()\n",
    "    # Aggregations for loans in the last x months\n",
    "    for time_frame in [12, 24]:\n",
    "        time_frame_df = prev[prev['DAYS_DECISION'] >= -30*time_frame]\n",
    "        prefix = 'PREV_LAST{}M_'.format(time_frame)\n",
    "        agg_prev = group_and_merge(time_frame_df, agg_prev, prefix, PREVIOUS_TIME_AGG)\n",
    "        del time_frame_df; gc.collect()\n",
    "    del prev\n",
    "    gc.collect()\n",
    "    \n",
    "    return agg_prev"
   ]
  },
  {
   "cell_type": "markdown",
   "id": "recorded-brooks",
   "metadata": {},
   "source": [
    "## Pos-Cash Pipeline"
   ]
  },
  {
   "cell_type": "code",
   "execution_count": null,
   "id": "previous-fifteen",
   "metadata": {},
   "outputs": [],
   "source": []
  },
  {
   "cell_type": "code",
   "execution_count": null,
   "id": "hungry-short",
   "metadata": {},
   "outputs": [],
   "source": []
  },
  {
   "cell_type": "code",
   "execution_count": null,
   "id": "affected-clinton",
   "metadata": {},
   "outputs": [],
   "source": []
  },
  {
   "cell_type": "code",
   "execution_count": null,
   "id": "published-intro",
   "metadata": {},
   "outputs": [],
   "source": []
  },
  {
   "cell_type": "code",
   "execution_count": null,
   "id": "outdoor-netherlands",
   "metadata": {},
   "outputs": [],
   "source": []
  },
  {
   "cell_type": "code",
   "execution_count": null,
   "id": "upset-makeup",
   "metadata": {},
   "outputs": [],
   "source": []
  },
  {
   "cell_type": "code",
   "execution_count": null,
   "id": "checked-norfolk",
   "metadata": {},
   "outputs": [],
   "source": []
  },
  {
   "cell_type": "code",
   "execution_count": null,
   "id": "suburban-ranking",
   "metadata": {},
   "outputs": [],
   "source": []
  },
  {
   "cell_type": "code",
   "execution_count": null,
   "id": "median-martial",
   "metadata": {},
   "outputs": [],
   "source": []
  },
  {
   "cell_type": "code",
   "execution_count": null,
   "id": "banner-engineering",
   "metadata": {},
   "outputs": [],
   "source": []
  },
  {
   "cell_type": "code",
   "execution_count": null,
   "id": "governing-decision",
   "metadata": {},
   "outputs": [],
   "source": []
  },
  {
   "cell_type": "code",
   "execution_count": null,
   "id": "initial-register",
   "metadata": {},
   "outputs": [],
   "source": []
  },
  {
   "cell_type": "code",
   "execution_count": null,
   "id": "endangered-investigation",
   "metadata": {},
   "outputs": [],
   "source": []
  },
  {
   "cell_type": "code",
   "execution_count": null,
   "id": "located-cuisine",
   "metadata": {},
   "outputs": [],
   "source": []
  },
  {
   "cell_type": "code",
   "execution_count": null,
   "id": "identical-train",
   "metadata": {},
   "outputs": [],
   "source": []
  },
  {
   "cell_type": "code",
   "execution_count": null,
   "id": "hindu-library",
   "metadata": {},
   "outputs": [],
   "source": []
  },
  {
   "cell_type": "code",
   "execution_count": null,
   "id": "ongoing-shower",
   "metadata": {},
   "outputs": [],
   "source": []
  },
  {
   "cell_type": "code",
   "execution_count": null,
   "id": "amateur-aberdeen",
   "metadata": {},
   "outputs": [],
   "source": []
  },
  {
   "cell_type": "code",
   "execution_count": null,
   "id": "divided-chick",
   "metadata": {},
   "outputs": [],
   "source": []
  },
  {
   "cell_type": "code",
   "execution_count": null,
   "id": "handmade-basics",
   "metadata": {},
   "outputs": [],
   "source": []
  },
  {
   "cell_type": "code",
   "execution_count": null,
   "id": "becoming-beatles",
   "metadata": {},
   "outputs": [],
   "source": []
  },
  {
   "cell_type": "code",
   "execution_count": null,
   "id": "blessed-regular",
   "metadata": {},
   "outputs": [],
   "source": []
  },
  {
   "cell_type": "code",
   "execution_count": null,
   "id": "funded-nashville",
   "metadata": {},
   "outputs": [],
   "source": []
  },
  {
   "cell_type": "code",
   "execution_count": null,
   "id": "bored-diameter",
   "metadata": {},
   "outputs": [],
   "source": []
  },
  {
   "cell_type": "code",
   "execution_count": null,
   "id": "split-registrar",
   "metadata": {},
   "outputs": [],
   "source": []
  },
  {
   "cell_type": "code",
   "execution_count": null,
   "id": "vulnerable-interference",
   "metadata": {},
   "outputs": [],
   "source": []
  },
  {
   "cell_type": "code",
   "execution_count": null,
   "id": "affected-postage",
   "metadata": {},
   "outputs": [],
   "source": []
  }
 ],
 "metadata": {
  "kernelspec": {
   "display_name": "Python 3",
   "language": "python",
   "name": "python3"
  },
  "language_info": {
   "codemirror_mode": {
    "name": "ipython",
    "version": 3
   },
   "file_extension": ".py",
   "mimetype": "text/x-python",
   "name": "python",
   "nbconvert_exporter": "python",
   "pygments_lexer": "ipython3",
   "version": "3.9.1"
  },
  "toc": {
   "base_numbering": 1,
   "nav_menu": {},
   "number_sections": false,
   "sideBar": true,
   "skip_h1_title": false,
   "title_cell": "Table of Contents",
   "title_sidebar": "Contents",
   "toc_cell": false,
   "toc_position": {
    "height": "574.4px",
    "left": "796.8px",
    "top": "180px",
    "width": "307.2px"
   },
   "toc_section_display": true,
   "toc_window_display": false
  },
  "varInspector": {
   "cols": {
    "lenName": 16,
    "lenType": 16,
    "lenVar": 40
   },
   "kernels_config": {
    "python": {
     "delete_cmd_postfix": "",
     "delete_cmd_prefix": "del ",
     "library": "var_list.py",
     "varRefreshCmd": "print(var_dic_list())"
    },
    "r": {
     "delete_cmd_postfix": ") ",
     "delete_cmd_prefix": "rm(",
     "library": "var_list.r",
     "varRefreshCmd": "cat(var_dic_list()) "
    }
   },
   "types_to_exclude": [
    "module",
    "function",
    "builtin_function_or_method",
    "instance",
    "_Feature"
   ],
   "window_display": false
  }
 },
 "nbformat": 4,
 "nbformat_minor": 5
}
