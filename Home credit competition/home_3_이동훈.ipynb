{
 "cells": [
  {
   "cell_type": "markdown",
   "metadata": {},
   "source": [
    "# Kaggle Study 12일차 - 1 (home_credit)"
   ]
  },
  {
   "cell_type": "markdown",
   "metadata": {
    "ExecuteTime": {
     "end_time": "2021-02-02T00:57:16.344400Z",
     "start_time": "2021-02-02T00:57:16.337397Z"
    }
   },
   "source": [
    "코드출처 : https://www.kaggle.com/eliotbarr/stacking-test-sklearn-xgboost-catboost-lightgbm"
   ]
  },
  {
   "cell_type": "markdown",
   "metadata": {},
   "source": [
    "-  Allstate Faron의 스크립트를 기반으로 Starter를 만듦.\n",
    "  \n",
    "링크 : https://www.kaggle.com/mmueller/allstate-claims-severity/stacking-starter/run/390867을 참조하십시오.  \n",
    "  \n",
    "- ogrellier의 사전 처리를 참고함\n",
    "  \n",
    "링크 : https://www.kaggle.com/ogrellier/good-fun-with-ligthgbm을 참조하십시오"
   ]
  },
  {
   "cell_type": "code",
   "execution_count": 1,
   "metadata": {
    "ExecuteTime": {
     "end_time": "2021-02-02T02:06:09.435215Z",
     "start_time": "2021-02-02T02:06:03.926673Z"
    }
   },
   "outputs": [],
   "source": [
    "import pandas as pd\n",
    "import numpy as np\n",
    "from scipy.stats import skew\n",
    "import xgboost as xgb\n",
    "from sklearn.model_selection import KFold\n",
    "from sklearn.ensemble import ExtraTreesClassifier\n",
    "from sklearn.ensemble import RandomForestClassifier\n",
    "from sklearn.metrics import mean_squared_error\n",
    "from sklearn.linear_model import LogisticRegression\n",
    "from math import sqrt\n",
    "from sklearn.metrics import roc_auc_score\n",
    "from sklearn.model_selection import KFold\n",
    "from catboost import CatBoostClassifier\n",
    "from lightgbm import LGBMClassifier\n",
    "import gc"
   ]
  },
  {
   "cell_type": "code",
   "execution_count": 2,
   "metadata": {
    "ExecuteTime": {
     "end_time": "2021-02-02T02:06:09.457633Z",
     "start_time": "2021-02-02T02:06:09.445475Z"
    }
   },
   "outputs": [],
   "source": [
    "NFOLDS = 3\n",
    "SEED = 0\n",
    "NROWS = None"
   ]
  },
  {
   "cell_type": "code",
   "execution_count": 3,
   "metadata": {
    "ExecuteTime": {
     "end_time": "2021-02-02T02:06:31.524602Z",
     "start_time": "2021-02-02T02:06:09.468559Z"
    }
   },
   "outputs": [],
   "source": [
    "data = pd.read_csv('C:/Users/이동훈/Desktop/github/kaggle/kagglestudy/Data/home_credit/application_train.csv')\n",
    "test = pd.read_csv('C:/Users/이동훈/Desktop/github/kaggle/kagglestudy/Data/home_credit/application_test.csv')\n",
    "prev = pd.read_csv('C:/Users/이동훈/Desktop/github/kaggle/kagglestudy/Data/home_credit/previous_application.csv')"
   ]
  },
  {
   "cell_type": "code",
   "execution_count": 4,
   "metadata": {
    "ExecuteTime": {
     "end_time": "2021-02-02T02:06:31.545543Z",
     "start_time": "2021-02-02T02:06:31.528642Z"
    }
   },
   "outputs": [],
   "source": [
    "categorical_feats = [\n",
    "    f for f in data.columns if data[f].dtype == 'object'\n",
    "]"
   ]
  },
  {
   "cell_type": "code",
   "execution_count": 5,
   "metadata": {
    "ExecuteTime": {
     "end_time": "2021-02-02T02:06:33.137285Z",
     "start_time": "2021-02-02T02:06:31.548518Z"
    }
   },
   "outputs": [],
   "source": [
    "for f_ in categorical_feats:\n",
    "    data[f_], indexer = pd.factorize(data[f_])\n",
    "    test[f_] = indexer.get_indexer(test[f_])\n",
    "    \n",
    "gc.enable()\n",
    "\n",
    "y_train = data['TARGET']\n",
    "del data['TARGET']"
   ]
  },
  {
   "cell_type": "code",
   "execution_count": 6,
   "metadata": {
    "ExecuteTime": {
     "end_time": "2021-02-02T02:06:38.360624Z",
     "start_time": "2021-02-02T02:06:33.140263Z"
    }
   },
   "outputs": [],
   "source": [
    "prev_cat_features = [\n",
    "    f_ for f_ in prev.columns if prev[f_].dtype == 'object'\n",
    "]\n",
    "for f_ in prev_cat_features:\n",
    "    prev[f_], _ = pd.factorize(prev[f_])"
   ]
  },
  {
   "cell_type": "code",
   "execution_count": 7,
   "metadata": {
    "ExecuteTime": {
     "end_time": "2021-02-02T02:06:43.368888Z",
     "start_time": "2021-02-02T02:06:38.363616Z"
    }
   },
   "outputs": [],
   "source": [
    "avg_prev = prev.groupby('SK_ID_CURR').mean()\n",
    "cnt_prev = prev[['SK_ID_CURR', 'SK_ID_PREV']].groupby('SK_ID_CURR').count()\n",
    "avg_prev['nb_app'] = cnt_prev['SK_ID_PREV']\n",
    "del avg_prev['SK_ID_PREV']"
   ]
  },
  {
   "cell_type": "code",
   "execution_count": 8,
   "metadata": {
    "ExecuteTime": {
     "end_time": "2021-02-02T02:06:47.958034Z",
     "start_time": "2021-02-02T02:06:43.384839Z"
    }
   },
   "outputs": [],
   "source": [
    "x_train = data.merge(right=avg_prev.reset_index(), how='left', on='SK_ID_CURR')\n",
    "x_test = test.merge(right=avg_prev.reset_index(), how='left', on='SK_ID_CURR')"
   ]
  },
  {
   "cell_type": "code",
   "execution_count": 9,
   "metadata": {
    "ExecuteTime": {
     "end_time": "2021-02-02T02:06:49.674645Z",
     "start_time": "2021-02-02T02:06:47.961998Z"
    }
   },
   "outputs": [],
   "source": [
    "x_train = x_train.fillna(0)\n",
    "x_test= x_test.fillna(0)"
   ]
  },
  {
   "cell_type": "code",
   "execution_count": 10,
   "metadata": {
    "ExecuteTime": {
     "end_time": "2021-02-02T02:06:49.680629Z",
     "start_time": "2021-02-02T02:06:49.676641Z"
    }
   },
   "outputs": [],
   "source": [
    "ntrain = x_train.shape[0]\n",
    "ntest = x_test.shape[0]"
   ]
  },
  {
   "cell_type": "code",
   "execution_count": 11,
   "metadata": {
    "ExecuteTime": {
     "end_time": "2021-02-02T02:06:49.698715Z",
     "start_time": "2021-02-02T02:06:49.687746Z"
    }
   },
   "outputs": [],
   "source": [
    "excluded_feats = ['SK_ID_CURR']\n",
    "features = [f_ for f_ in x_train.columns if f_ not in  excluded_feats]"
   ]
  },
  {
   "cell_type": "code",
   "execution_count": 12,
   "metadata": {
    "ExecuteTime": {
     "end_time": "2021-02-02T02:06:50.146896Z",
     "start_time": "2021-02-02T02:06:49.705831Z"
    }
   },
   "outputs": [],
   "source": [
    "x_train = x_train[features]\n",
    "x_test = x_test[features]"
   ]
  },
  {
   "cell_type": "code",
   "execution_count": 13,
   "metadata": {
    "ExecuteTime": {
     "end_time": "2021-02-02T02:06:50.153793Z",
     "start_time": "2021-02-02T02:06:50.148837Z"
    }
   },
   "outputs": [],
   "source": [
    "kf = KFold(n_splits = NFOLDS, shuffle = True, random_state = SEED)"
   ]
  },
  {
   "cell_type": "code",
   "execution_count": 14,
   "metadata": {
    "ExecuteTime": {
     "end_time": "2021-02-02T02:06:50.172743Z",
     "start_time": "2021-02-02T02:06:50.157783Z"
    }
   },
   "outputs": [],
   "source": [
    "class SklearnWrapper(object):\n",
    "    def __init__(self,clf,seed=0,params=None):\n",
    "        params['random_state']=seed\n",
    "        self.clf = clf(**params)\n",
    "        \n",
    "    def train(self,x_train,y_train):\n",
    "        self.clf.fit(x_train,y_train)\n",
    "        \n",
    "    def predict(self,x):\n",
    "        return self.clf.predict_proba(x)[:,1]"
   ]
  },
  {
   "cell_type": "code",
   "execution_count": 15,
   "metadata": {
    "ExecuteTime": {
     "end_time": "2021-02-02T02:06:50.187703Z",
     "start_time": "2021-02-02T02:06:50.178730Z"
    }
   },
   "outputs": [],
   "source": [
    "class CatboostWrapper(object):\n",
    "    def __init__(self,clf,seed=0,params=None):\n",
    "        params['random_seed']=seed\n",
    "        self.clf = clf(**params)\n",
    "        \n",
    "    def train(self,x_train,y_train):\n",
    "        self.clf.fit(x_train,y_train)\n",
    "        \n",
    "    def predict(self,x):\n",
    "        return self.clf.predict_proba(x)[:,1]"
   ]
  },
  {
   "cell_type": "code",
   "execution_count": 16,
   "metadata": {
    "ExecuteTime": {
     "end_time": "2021-02-02T02:06:50.201665Z",
     "start_time": "2021-02-02T02:06:50.191692Z"
    }
   },
   "outputs": [],
   "source": [
    "class LightGBMWrapper(object):\n",
    "    def __init__(self,clf,seed=0,params=None):\n",
    "        params['feature_fraction_seed']=seed\n",
    "        params['bagging_seed']=seed\n",
    "        self.clf = clf(**params)\n",
    "        \n",
    "    def train(self,x_train,y_train):\n",
    "        self.clf.fit(x_train,y_train)\n",
    "        \n",
    "    def predict(self,x):\n",
    "        return self.clf.predict_proba(x)[:,1]"
   ]
  },
  {
   "cell_type": "code",
   "execution_count": 17,
   "metadata": {
    "ExecuteTime": {
     "end_time": "2021-02-02T02:06:50.214631Z",
     "start_time": "2021-02-02T02:06:50.204657Z"
    }
   },
   "outputs": [],
   "source": [
    "class XgbWrapper(object):\n",
    "    def __init__(self,seed=0,params=None):\n",
    "        self.param = params\n",
    "        self.param['seed']=seed\n",
    "        self.nrounds = params.pop('nrounds',250)\n",
    "        \n",
    "    def train(self,x_train,y_train):\n",
    "        dtrain = xgb.DMatrix(x_train,label=y_train)\n",
    "        self.gbdt= xgb.train(self.param,dtrain,self.nrounds)\n",
    "        \n",
    "    def predict(self,x):\n",
    "        return self.gbdt.predict(xgb.DMatrix(x))"
   ]
  },
  {
   "cell_type": "code",
   "execution_count": 18,
   "metadata": {
    "ExecuteTime": {
     "end_time": "2021-02-02T02:06:50.230589Z",
     "start_time": "2021-02-02T02:06:50.217623Z"
    }
   },
   "outputs": [],
   "source": [
    "def get_oof(clf):\n",
    "    oof_train = np.zeros((ntrain,))\n",
    "    oof_test = np.zeros((ntest,))\n",
    "    oof_test_skf = np.empty((NFOLDS, ntest))\n",
    "\n",
    "    for i, (train_index, test_index) in enumerate(kf.split(x_train)):\n",
    "        x_tr = x_train.loc[train_index]\n",
    "        y_tr = y_train.loc[train_index]\n",
    "        x_te = x_train.loc[test_index]\n",
    "\n",
    "        clf.train(x_tr, y_tr)\n",
    "\n",
    "        oof_train[test_index] = clf.predict(x_te)\n",
    "        oof_test_skf[i, :] = clf.predict(x_test)\n",
    "\n",
    "    oof_test[:] = oof_test_skf.mean(axis=0)\n",
    "    return oof_train.reshape(-1, 1), oof_test.reshape(-1, 1)"
   ]
  },
  {
   "cell_type": "code",
   "execution_count": 19,
   "metadata": {
    "ExecuteTime": {
     "end_time": "2021-02-02T02:06:50.245548Z",
     "start_time": "2021-02-02T02:06:50.233580Z"
    }
   },
   "outputs": [],
   "source": [
    "et_params = {'n_jobs': 16,'n_estimators': 200,'max_features': 0.5,\n",
    "             'max_depth': 12,'min_samples_leaf': 2}\n",
    "\n",
    "rf_params = {'n_jobs': 16,'n_estimators': 200,'max_features': 0.2,\n",
    "             'max_depth': 12,'min_samples_leaf': 2}\n",
    "\n",
    "xgb_params = {'seed': 0,'colsample_bytree': 0.7,'silent': 1,'subsample': 0.7,\\\n",
    "              'learning_rate': 0.075,'objective': 'binary:logistic','max_depth': 4,\n",
    "              'num_parallel_tree': 1,'min_child_weight': 1,'nrounds': 200}\n",
    "\n",
    "catboost_params = {'iterations': 200,'learning_rate': 0.5,'depth': 3,\n",
    "                   'l2_leaf_reg': 40,'bootstrap_type': 'Bernoulli','subsample': 0.7,\n",
    "                   'scale_pos_weight': 5,'eval_metric': 'AUC','od_type': 'Iter',\n",
    "                   'allow_writing_files': False}\n",
    "\n",
    "lightgbm_params = {'n_estimators':200,'learning_rate':0.1,'num_leaves':123,\n",
    "                   'colsample_bytree':0.8,'subsample':0.9,'max_depth':15,\n",
    "                   'reg_alpha':0.1,'reg_lambda':0.1,'min_split_gain':0.01,\n",
    "                   'min_child_weight':2}"
   ]
  },
  {
   "cell_type": "code",
   "execution_count": 22,
   "metadata": {
    "ExecuteTime": {
     "end_time": "2021-02-02T02:28:39.853112Z",
     "start_time": "2021-02-02T02:28:39.755232Z"
    }
   },
   "outputs": [],
   "source": [
    "xg = XgbWrapper(seed=SEED, params=xgb_params)\n",
    "et = SklearnWrapper(clf=ExtraTreesClassifier, seed=SEED, params=et_params)\n",
    "rf = SklearnWrapper(clf=RandomForestClassifier, seed=SEED, params=rf_params)\n",
    "cb = CatboostWrapper(clf=CatBoostClassifier, seed=SEED, params=catboost_params)\n",
    "lg = LightGBMWrapper(clf=LGBMClassifier, seed=SEED, params=lightgbm_params)"
   ]
  },
  {
   "cell_type": "code",
   "execution_count": 23,
   "metadata": {
    "ExecuteTime": {
     "end_time": "2021-02-02T02:50:57.773282Z",
     "start_time": "2021-02-02T02:28:45.022298Z"
    }
   },
   "outputs": [
    {
     "name": "stdout",
     "output_type": "stream",
     "text": [
      "0:\ttotal: 118ms\tremaining: 23.4s\n",
      "1:\ttotal: 159ms\tremaining: 15.8s\n",
      "2:\ttotal: 191ms\tremaining: 12.6s\n",
      "3:\ttotal: 229ms\tremaining: 11.2s\n",
      "4:\ttotal: 266ms\tremaining: 10.4s\n",
      "5:\ttotal: 300ms\tremaining: 9.7s\n",
      "6:\ttotal: 336ms\tremaining: 9.27s\n",
      "7:\ttotal: 370ms\tremaining: 8.89s\n",
      "8:\ttotal: 403ms\tremaining: 8.55s\n",
      "9:\ttotal: 438ms\tremaining: 8.33s\n",
      "10:\ttotal: 471ms\tremaining: 8.1s\n",
      "11:\ttotal: 508ms\tremaining: 7.96s\n",
      "12:\ttotal: 541ms\tremaining: 7.79s\n",
      "13:\ttotal: 577ms\tremaining: 7.67s\n",
      "14:\ttotal: 615ms\tremaining: 7.58s\n",
      "15:\ttotal: 655ms\tremaining: 7.53s\n",
      "16:\ttotal: 692ms\tremaining: 7.44s\n",
      "17:\ttotal: 726ms\tremaining: 7.34s\n",
      "18:\ttotal: 761ms\tremaining: 7.25s\n",
      "19:\ttotal: 796ms\tremaining: 7.16s\n",
      "20:\ttotal: 830ms\tremaining: 7.07s\n",
      "21:\ttotal: 868ms\tremaining: 7.02s\n",
      "22:\ttotal: 905ms\tremaining: 6.96s\n",
      "23:\ttotal: 946ms\tremaining: 6.94s\n",
      "24:\ttotal: 985ms\tremaining: 6.89s\n",
      "25:\ttotal: 1.02s\tremaining: 6.82s\n",
      "26:\ttotal: 1.05s\tremaining: 6.75s\n",
      "27:\ttotal: 1.08s\tremaining: 6.67s\n",
      "28:\ttotal: 1.12s\tremaining: 6.62s\n",
      "29:\ttotal: 1.16s\tremaining: 6.55s\n",
      "30:\ttotal: 1.19s\tremaining: 6.5s\n",
      "31:\ttotal: 1.23s\tremaining: 6.44s\n",
      "32:\ttotal: 1.26s\tremaining: 6.38s\n",
      "33:\ttotal: 1.29s\tremaining: 6.32s\n",
      "34:\ttotal: 1.33s\tremaining: 6.28s\n",
      "35:\ttotal: 1.37s\tremaining: 6.23s\n",
      "36:\ttotal: 1.4s\tremaining: 6.19s\n",
      "37:\ttotal: 1.44s\tremaining: 6.14s\n",
      "38:\ttotal: 1.48s\tremaining: 6.1s\n",
      "39:\ttotal: 1.5s\tremaining: 6.02s\n",
      "40:\ttotal: 1.55s\tremaining: 6s\n",
      "41:\ttotal: 1.59s\tremaining: 5.97s\n",
      "42:\ttotal: 1.63s\tremaining: 5.95s\n",
      "43:\ttotal: 1.67s\tremaining: 5.93s\n",
      "44:\ttotal: 1.71s\tremaining: 5.89s\n",
      "45:\ttotal: 1.75s\tremaining: 5.85s\n",
      "46:\ttotal: 1.78s\tremaining: 5.8s\n",
      "47:\ttotal: 1.82s\tremaining: 5.75s\n",
      "48:\ttotal: 1.85s\tremaining: 5.7s\n",
      "49:\ttotal: 1.89s\tremaining: 5.66s\n",
      "50:\ttotal: 1.93s\tremaining: 5.63s\n",
      "51:\ttotal: 1.97s\tremaining: 5.6s\n",
      "52:\ttotal: 2.01s\tremaining: 5.58s\n",
      "53:\ttotal: 2.05s\tremaining: 5.55s\n",
      "54:\ttotal: 2.09s\tremaining: 5.52s\n",
      "55:\ttotal: 2.13s\tremaining: 5.47s\n",
      "56:\ttotal: 2.17s\tremaining: 5.43s\n",
      "57:\ttotal: 2.2s\tremaining: 5.39s\n",
      "58:\ttotal: 2.25s\tremaining: 5.37s\n",
      "59:\ttotal: 2.29s\tremaining: 5.33s\n",
      "60:\ttotal: 2.33s\tremaining: 5.31s\n",
      "61:\ttotal: 2.38s\tremaining: 5.29s\n",
      "62:\ttotal: 2.41s\tremaining: 5.25s\n",
      "63:\ttotal: 2.45s\tremaining: 5.21s\n",
      "64:\ttotal: 2.48s\tremaining: 5.16s\n",
      "65:\ttotal: 2.53s\tremaining: 5.13s\n",
      "66:\ttotal: 2.57s\tremaining: 5.1s\n",
      "67:\ttotal: 2.6s\tremaining: 5.06s\n",
      "68:\ttotal: 2.65s\tremaining: 5.02s\n",
      "69:\ttotal: 2.68s\tremaining: 4.98s\n",
      "70:\ttotal: 2.72s\tremaining: 4.94s\n",
      "71:\ttotal: 2.75s\tremaining: 4.9s\n",
      "72:\ttotal: 2.79s\tremaining: 4.86s\n",
      "73:\ttotal: 2.83s\tremaining: 4.82s\n",
      "74:\ttotal: 2.87s\tremaining: 4.78s\n",
      "75:\ttotal: 2.91s\tremaining: 4.74s\n",
      "76:\ttotal: 2.95s\tremaining: 4.71s\n",
      "77:\ttotal: 2.99s\tremaining: 4.68s\n",
      "78:\ttotal: 3.03s\tremaining: 4.64s\n",
      "79:\ttotal: 3.07s\tremaining: 4.61s\n",
      "80:\ttotal: 3.11s\tremaining: 4.57s\n",
      "81:\ttotal: 3.15s\tremaining: 4.54s\n",
      "82:\ttotal: 3.19s\tremaining: 4.5s\n",
      "83:\ttotal: 3.23s\tremaining: 4.46s\n",
      "84:\ttotal: 3.26s\tremaining: 4.41s\n",
      "85:\ttotal: 3.3s\tremaining: 4.38s\n",
      "86:\ttotal: 3.34s\tremaining: 4.34s\n",
      "87:\ttotal: 3.38s\tremaining: 4.3s\n",
      "88:\ttotal: 3.42s\tremaining: 4.26s\n",
      "89:\ttotal: 3.46s\tremaining: 4.23s\n",
      "90:\ttotal: 3.49s\tremaining: 4.19s\n",
      "91:\ttotal: 3.53s\tremaining: 4.14s\n",
      "92:\ttotal: 3.56s\tremaining: 4.1s\n",
      "93:\ttotal: 3.6s\tremaining: 4.06s\n",
      "94:\ttotal: 3.64s\tremaining: 4.02s\n",
      "95:\ttotal: 3.68s\tremaining: 3.98s\n",
      "96:\ttotal: 3.71s\tremaining: 3.94s\n",
      "97:\ttotal: 3.75s\tremaining: 3.91s\n",
      "98:\ttotal: 3.79s\tremaining: 3.87s\n",
      "99:\ttotal: 3.83s\tremaining: 3.83s\n",
      "100:\ttotal: 3.87s\tremaining: 3.79s\n",
      "101:\ttotal: 3.91s\tremaining: 3.75s\n",
      "102:\ttotal: 3.95s\tremaining: 3.72s\n",
      "103:\ttotal: 3.99s\tremaining: 3.68s\n",
      "104:\ttotal: 4.03s\tremaining: 3.64s\n",
      "105:\ttotal: 4.07s\tremaining: 3.61s\n",
      "106:\ttotal: 4.11s\tremaining: 3.57s\n",
      "107:\ttotal: 4.14s\tremaining: 3.53s\n",
      "108:\ttotal: 4.19s\tremaining: 3.5s\n",
      "109:\ttotal: 4.22s\tremaining: 3.46s\n",
      "110:\ttotal: 4.26s\tremaining: 3.42s\n",
      "111:\ttotal: 4.31s\tremaining: 3.39s\n",
      "112:\ttotal: 4.35s\tremaining: 3.35s\n",
      "113:\ttotal: 4.39s\tremaining: 3.31s\n",
      "114:\ttotal: 4.43s\tremaining: 3.27s\n",
      "115:\ttotal: 4.46s\tremaining: 3.23s\n",
      "116:\ttotal: 4.5s\tremaining: 3.19s\n",
      "117:\ttotal: 4.53s\tremaining: 3.15s\n",
      "118:\ttotal: 4.57s\tremaining: 3.11s\n",
      "119:\ttotal: 4.61s\tremaining: 3.07s\n",
      "120:\ttotal: 4.64s\tremaining: 3.03s\n",
      "121:\ttotal: 4.68s\tremaining: 2.99s\n",
      "122:\ttotal: 4.72s\tremaining: 2.96s\n",
      "123:\ttotal: 4.77s\tremaining: 2.92s\n",
      "124:\ttotal: 4.82s\tremaining: 2.89s\n",
      "125:\ttotal: 4.85s\tremaining: 2.85s\n",
      "126:\ttotal: 4.9s\tremaining: 2.81s\n",
      "127:\ttotal: 4.94s\tremaining: 2.78s\n",
      "128:\ttotal: 4.99s\tremaining: 2.74s\n",
      "129:\ttotal: 5.03s\tremaining: 2.71s\n",
      "130:\ttotal: 5.06s\tremaining: 2.66s\n",
      "131:\ttotal: 5.1s\tremaining: 2.63s\n",
      "132:\ttotal: 5.13s\tremaining: 2.59s\n",
      "133:\ttotal: 5.18s\tremaining: 2.55s\n",
      "134:\ttotal: 5.22s\tremaining: 2.51s\n",
      "135:\ttotal: 5.26s\tremaining: 2.48s\n",
      "136:\ttotal: 5.31s\tremaining: 2.44s\n",
      "137:\ttotal: 5.35s\tremaining: 2.4s\n",
      "138:\ttotal: 5.39s\tremaining: 2.37s\n",
      "139:\ttotal: 5.43s\tremaining: 2.33s\n",
      "140:\ttotal: 5.47s\tremaining: 2.29s\n",
      "141:\ttotal: 5.51s\tremaining: 2.25s\n",
      "142:\ttotal: 5.54s\tremaining: 2.21s\n",
      "143:\ttotal: 5.58s\tremaining: 2.17s\n",
      "144:\ttotal: 5.61s\tremaining: 2.13s\n",
      "145:\ttotal: 5.66s\tremaining: 2.09s\n",
      "146:\ttotal: 5.69s\tremaining: 2.05s\n",
      "147:\ttotal: 5.73s\tremaining: 2.01s\n",
      "148:\ttotal: 5.77s\tremaining: 1.98s\n",
      "149:\ttotal: 5.81s\tremaining: 1.94s\n",
      "150:\ttotal: 5.85s\tremaining: 1.9s\n",
      "151:\ttotal: 5.89s\tremaining: 1.86s\n",
      "152:\ttotal: 5.93s\tremaining: 1.82s\n",
      "153:\ttotal: 5.96s\tremaining: 1.78s\n",
      "154:\ttotal: 6s\tremaining: 1.74s\n",
      "155:\ttotal: 6.04s\tremaining: 1.71s\n",
      "156:\ttotal: 6.08s\tremaining: 1.67s\n",
      "157:\ttotal: 6.13s\tremaining: 1.63s\n",
      "158:\ttotal: 6.17s\tremaining: 1.59s\n",
      "159:\ttotal: 6.22s\tremaining: 1.55s\n",
      "160:\ttotal: 6.26s\tremaining: 1.52s\n",
      "161:\ttotal: 6.3s\tremaining: 1.48s\n",
      "162:\ttotal: 6.34s\tremaining: 1.44s\n",
      "163:\ttotal: 6.38s\tremaining: 1.4s\n",
      "164:\ttotal: 6.42s\tremaining: 1.36s\n",
      "165:\ttotal: 6.45s\tremaining: 1.32s\n",
      "166:\ttotal: 6.5s\tremaining: 1.28s\n",
      "167:\ttotal: 6.53s\tremaining: 1.24s\n",
      "168:\ttotal: 6.57s\tremaining: 1.21s\n",
      "169:\ttotal: 6.61s\tremaining: 1.17s\n",
      "170:\ttotal: 6.65s\tremaining: 1.13s\n",
      "171:\ttotal: 6.68s\tremaining: 1.09s\n",
      "172:\ttotal: 6.72s\tremaining: 1.05s\n",
      "173:\ttotal: 6.76s\tremaining: 1.01s\n",
      "174:\ttotal: 6.8s\tremaining: 972ms\n",
      "175:\ttotal: 6.84s\tremaining: 933ms\n",
      "176:\ttotal: 6.88s\tremaining: 894ms\n",
      "177:\ttotal: 6.92s\tremaining: 856ms\n",
      "178:\ttotal: 6.97s\tremaining: 818ms\n",
      "179:\ttotal: 7.01s\tremaining: 779ms\n",
      "180:\ttotal: 7.05s\tremaining: 740ms\n",
      "181:\ttotal: 7.09s\tremaining: 701ms\n",
      "182:\ttotal: 7.13s\tremaining: 663ms\n",
      "183:\ttotal: 7.17s\tremaining: 623ms\n",
      "184:\ttotal: 7.21s\tremaining: 584ms\n",
      "185:\ttotal: 7.24s\tremaining: 545ms\n",
      "186:\ttotal: 7.28s\tremaining: 506ms\n",
      "187:\ttotal: 7.32s\tremaining: 467ms\n",
      "188:\ttotal: 7.36s\tremaining: 428ms\n",
      "189:\ttotal: 7.4s\tremaining: 390ms\n",
      "190:\ttotal: 7.45s\tremaining: 351ms\n",
      "191:\ttotal: 7.49s\tremaining: 312ms\n",
      "192:\ttotal: 7.53s\tremaining: 273ms\n",
      "193:\ttotal: 7.57s\tremaining: 234ms\n",
      "194:\ttotal: 7.61s\tremaining: 195ms\n",
      "195:\ttotal: 7.64s\tremaining: 156ms\n",
      "196:\ttotal: 7.68s\tremaining: 117ms\n",
      "197:\ttotal: 7.73s\tremaining: 78.1ms\n",
      "198:\ttotal: 7.78s\tremaining: 39.1ms\n",
      "199:\ttotal: 7.82s\tremaining: 0us\n",
      "0:\ttotal: 38ms\tremaining: 7.56s\n",
      "1:\ttotal: 77ms\tremaining: 7.62s\n",
      "2:\ttotal: 115ms\tremaining: 7.54s\n",
      "3:\ttotal: 152ms\tremaining: 7.44s\n",
      "4:\ttotal: 188ms\tremaining: 7.34s\n",
      "5:\ttotal: 227ms\tremaining: 7.34s\n",
      "6:\ttotal: 267ms\tremaining: 7.35s\n",
      "7:\ttotal: 302ms\tremaining: 7.26s\n",
      "8:\ttotal: 340ms\tremaining: 7.21s\n",
      "9:\ttotal: 374ms\tremaining: 7.11s\n",
      "10:\ttotal: 411ms\tremaining: 7.05s\n",
      "11:\ttotal: 447ms\tremaining: 7.01s\n",
      "12:\ttotal: 491ms\tremaining: 7.07s\n",
      "13:\ttotal: 530ms\tremaining: 7.05s\n",
      "14:\ttotal: 568ms\tremaining: 7s\n",
      "15:\ttotal: 611ms\tremaining: 7.03s\n",
      "16:\ttotal: 653ms\tremaining: 7.03s\n",
      "17:\ttotal: 693ms\tremaining: 7s\n",
      "18:\ttotal: 738ms\tremaining: 7.03s\n",
      "19:\ttotal: 790ms\tremaining: 7.11s\n",
      "20:\ttotal: 834ms\tremaining: 7.11s\n",
      "21:\ttotal: 873ms\tremaining: 7.06s\n",
      "22:\ttotal: 910ms\tremaining: 7s\n",
      "23:\ttotal: 950ms\tremaining: 6.97s\n",
      "24:\ttotal: 985ms\tremaining: 6.9s\n",
      "25:\ttotal: 1.02s\tremaining: 6.85s\n",
      "26:\ttotal: 1.06s\tremaining: 6.77s\n",
      "27:\ttotal: 1.1s\tremaining: 6.74s\n",
      "28:\ttotal: 1.13s\tremaining: 6.68s\n",
      "29:\ttotal: 1.17s\tremaining: 6.63s\n",
      "30:\ttotal: 1.21s\tremaining: 6.59s\n",
      "31:\ttotal: 1.25s\tremaining: 6.55s\n",
      "32:\ttotal: 1.28s\tremaining: 6.47s\n",
      "33:\ttotal: 1.32s\tremaining: 6.43s\n",
      "34:\ttotal: 1.35s\tremaining: 6.38s\n",
      "35:\ttotal: 1.39s\tremaining: 6.34s\n",
      "36:\ttotal: 1.42s\tremaining: 6.27s\n",
      "37:\ttotal: 1.45s\tremaining: 6.2s\n",
      "38:\ttotal: 1.49s\tremaining: 6.15s\n",
      "39:\ttotal: 1.53s\tremaining: 6.11s\n",
      "40:\ttotal: 1.56s\tremaining: 6.06s\n"
     ]
    },
    {
     "name": "stdout",
     "output_type": "stream",
     "text": [
      "41:\ttotal: 1.6s\tremaining: 6.03s\n",
      "42:\ttotal: 1.64s\tremaining: 5.99s\n",
      "43:\ttotal: 1.68s\tremaining: 5.94s\n",
      "44:\ttotal: 1.71s\tremaining: 5.9s\n",
      "45:\ttotal: 1.75s\tremaining: 5.86s\n",
      "46:\ttotal: 1.78s\tremaining: 5.81s\n",
      "47:\ttotal: 1.82s\tremaining: 5.78s\n",
      "48:\ttotal: 1.86s\tremaining: 5.75s\n",
      "49:\ttotal: 1.9s\tremaining: 5.71s\n",
      "50:\ttotal: 1.94s\tremaining: 5.68s\n",
      "51:\ttotal: 1.97s\tremaining: 5.62s\n",
      "52:\ttotal: 2.01s\tremaining: 5.58s\n",
      "53:\ttotal: 2.05s\tremaining: 5.53s\n",
      "54:\ttotal: 2.09s\tremaining: 5.5s\n",
      "55:\ttotal: 2.13s\tremaining: 5.47s\n",
      "56:\ttotal: 2.16s\tremaining: 5.43s\n",
      "57:\ttotal: 2.2s\tremaining: 5.39s\n",
      "58:\ttotal: 2.24s\tremaining: 5.36s\n",
      "59:\ttotal: 2.29s\tremaining: 5.34s\n",
      "60:\ttotal: 2.33s\tremaining: 5.32s\n",
      "61:\ttotal: 2.37s\tremaining: 5.28s\n",
      "62:\ttotal: 2.42s\tremaining: 5.26s\n",
      "63:\ttotal: 2.46s\tremaining: 5.23s\n",
      "64:\ttotal: 2.5s\tremaining: 5.2s\n",
      "65:\ttotal: 2.54s\tremaining: 5.16s\n",
      "66:\ttotal: 2.57s\tremaining: 5.11s\n",
      "67:\ttotal: 2.61s\tremaining: 5.08s\n",
      "68:\ttotal: 2.65s\tremaining: 5.04s\n",
      "69:\ttotal: 2.69s\tremaining: 4.99s\n",
      "70:\ttotal: 2.73s\tremaining: 4.95s\n",
      "71:\ttotal: 2.76s\tremaining: 4.9s\n",
      "72:\ttotal: 2.79s\tremaining: 4.86s\n",
      "73:\ttotal: 2.83s\tremaining: 4.82s\n",
      "74:\ttotal: 2.87s\tremaining: 4.78s\n",
      "75:\ttotal: 2.9s\tremaining: 4.74s\n",
      "76:\ttotal: 2.94s\tremaining: 4.7s\n",
      "77:\ttotal: 2.98s\tremaining: 4.66s\n",
      "78:\ttotal: 3.02s\tremaining: 4.62s\n",
      "79:\ttotal: 3.05s\tremaining: 4.58s\n",
      "80:\ttotal: 3.09s\tremaining: 4.54s\n",
      "81:\ttotal: 3.13s\tremaining: 4.51s\n",
      "82:\ttotal: 3.18s\tremaining: 4.48s\n",
      "83:\ttotal: 3.21s\tremaining: 4.44s\n",
      "84:\ttotal: 3.25s\tremaining: 4.4s\n",
      "85:\ttotal: 3.29s\tremaining: 4.36s\n",
      "86:\ttotal: 3.32s\tremaining: 4.32s\n",
      "87:\ttotal: 3.36s\tremaining: 4.28s\n",
      "88:\ttotal: 3.4s\tremaining: 4.24s\n",
      "89:\ttotal: 3.44s\tremaining: 4.2s\n",
      "90:\ttotal: 3.48s\tremaining: 4.17s\n",
      "91:\ttotal: 3.52s\tremaining: 4.13s\n",
      "92:\ttotal: 3.56s\tremaining: 4.09s\n",
      "93:\ttotal: 3.6s\tremaining: 4.05s\n",
      "94:\ttotal: 3.64s\tremaining: 4.02s\n",
      "95:\ttotal: 3.67s\tremaining: 3.98s\n",
      "96:\ttotal: 3.71s\tremaining: 3.94s\n",
      "97:\ttotal: 3.75s\tremaining: 3.9s\n",
      "98:\ttotal: 3.79s\tremaining: 3.86s\n",
      "99:\ttotal: 3.83s\tremaining: 3.83s\n",
      "100:\ttotal: 3.87s\tremaining: 3.79s\n",
      "101:\ttotal: 3.92s\tremaining: 3.76s\n",
      "102:\ttotal: 3.96s\tremaining: 3.73s\n",
      "103:\ttotal: 4s\tremaining: 3.7s\n",
      "104:\ttotal: 4.04s\tremaining: 3.66s\n",
      "105:\ttotal: 4.09s\tremaining: 3.62s\n",
      "106:\ttotal: 4.13s\tremaining: 3.59s\n",
      "107:\ttotal: 4.17s\tremaining: 3.55s\n",
      "108:\ttotal: 4.2s\tremaining: 3.51s\n",
      "109:\ttotal: 4.24s\tremaining: 3.47s\n",
      "110:\ttotal: 4.27s\tremaining: 3.43s\n",
      "111:\ttotal: 4.31s\tremaining: 3.39s\n",
      "112:\ttotal: 4.36s\tremaining: 3.35s\n",
      "113:\ttotal: 4.39s\tremaining: 3.31s\n",
      "114:\ttotal: 4.43s\tremaining: 3.27s\n",
      "115:\ttotal: 4.47s\tremaining: 3.24s\n",
      "116:\ttotal: 4.51s\tremaining: 3.2s\n",
      "117:\ttotal: 4.55s\tremaining: 3.16s\n",
      "118:\ttotal: 4.58s\tremaining: 3.12s\n",
      "119:\ttotal: 4.63s\tremaining: 3.08s\n",
      "120:\ttotal: 4.66s\tremaining: 3.04s\n",
      "121:\ttotal: 4.7s\tremaining: 3.01s\n",
      "122:\ttotal: 4.74s\tremaining: 2.97s\n",
      "123:\ttotal: 4.78s\tremaining: 2.93s\n",
      "124:\ttotal: 4.81s\tremaining: 2.89s\n",
      "125:\ttotal: 4.85s\tremaining: 2.85s\n",
      "126:\ttotal: 4.89s\tremaining: 2.81s\n",
      "127:\ttotal: 4.93s\tremaining: 2.77s\n",
      "128:\ttotal: 4.98s\tremaining: 2.74s\n",
      "129:\ttotal: 5.02s\tremaining: 2.7s\n",
      "130:\ttotal: 5.06s\tremaining: 2.67s\n",
      "131:\ttotal: 5.11s\tremaining: 2.63s\n",
      "132:\ttotal: 5.14s\tremaining: 2.59s\n",
      "133:\ttotal: 5.18s\tremaining: 2.55s\n",
      "134:\ttotal: 5.22s\tremaining: 2.52s\n",
      "135:\ttotal: 5.27s\tremaining: 2.48s\n",
      "136:\ttotal: 5.31s\tremaining: 2.44s\n",
      "137:\ttotal: 5.35s\tremaining: 2.4s\n",
      "138:\ttotal: 5.39s\tremaining: 2.36s\n",
      "139:\ttotal: 5.43s\tremaining: 2.33s\n",
      "140:\ttotal: 5.46s\tremaining: 2.29s\n",
      "141:\ttotal: 5.51s\tremaining: 2.25s\n",
      "142:\ttotal: 5.55s\tremaining: 2.21s\n",
      "143:\ttotal: 5.58s\tremaining: 2.17s\n",
      "144:\ttotal: 5.62s\tremaining: 2.13s\n",
      "145:\ttotal: 5.66s\tremaining: 2.09s\n",
      "146:\ttotal: 5.69s\tremaining: 2.05s\n",
      "147:\ttotal: 5.73s\tremaining: 2.01s\n",
      "148:\ttotal: 5.77s\tremaining: 1.97s\n",
      "149:\ttotal: 5.81s\tremaining: 1.94s\n",
      "150:\ttotal: 5.85s\tremaining: 1.9s\n",
      "151:\ttotal: 5.89s\tremaining: 1.86s\n",
      "152:\ttotal: 5.93s\tremaining: 1.82s\n",
      "153:\ttotal: 5.97s\tremaining: 1.78s\n",
      "154:\ttotal: 6.01s\tremaining: 1.74s\n",
      "155:\ttotal: 6.05s\tremaining: 1.71s\n",
      "156:\ttotal: 6.09s\tremaining: 1.67s\n",
      "157:\ttotal: 6.13s\tremaining: 1.63s\n",
      "158:\ttotal: 6.16s\tremaining: 1.59s\n",
      "159:\ttotal: 6.2s\tremaining: 1.55s\n",
      "160:\ttotal: 6.24s\tremaining: 1.51s\n",
      "161:\ttotal: 6.28s\tremaining: 1.47s\n",
      "162:\ttotal: 6.32s\tremaining: 1.43s\n",
      "163:\ttotal: 6.36s\tremaining: 1.4s\n",
      "164:\ttotal: 6.4s\tremaining: 1.36s\n",
      "165:\ttotal: 6.43s\tremaining: 1.32s\n",
      "166:\ttotal: 6.47s\tremaining: 1.28s\n",
      "167:\ttotal: 6.51s\tremaining: 1.24s\n",
      "168:\ttotal: 6.56s\tremaining: 1.2s\n",
      "169:\ttotal: 6.6s\tremaining: 1.16s\n",
      "170:\ttotal: 6.64s\tremaining: 1.13s\n",
      "171:\ttotal: 6.67s\tremaining: 1.09s\n",
      "172:\ttotal: 6.71s\tremaining: 1.05s\n",
      "173:\ttotal: 6.75s\tremaining: 1.01s\n",
      "174:\ttotal: 6.78s\tremaining: 969ms\n",
      "175:\ttotal: 6.82s\tremaining: 930ms\n",
      "176:\ttotal: 6.86s\tremaining: 891ms\n",
      "177:\ttotal: 6.9s\tremaining: 853ms\n",
      "178:\ttotal: 6.94s\tremaining: 814ms\n",
      "179:\ttotal: 6.98s\tremaining: 775ms\n",
      "180:\ttotal: 7.02s\tremaining: 737ms\n",
      "181:\ttotal: 7.07s\tremaining: 699ms\n",
      "182:\ttotal: 7.12s\tremaining: 661ms\n",
      "183:\ttotal: 7.15s\tremaining: 622ms\n",
      "184:\ttotal: 7.19s\tremaining: 583ms\n",
      "185:\ttotal: 7.23s\tremaining: 544ms\n",
      "186:\ttotal: 7.27s\tremaining: 505ms\n",
      "187:\ttotal: 7.3s\tremaining: 466ms\n",
      "188:\ttotal: 7.34s\tremaining: 427ms\n",
      "189:\ttotal: 7.37s\tremaining: 388ms\n",
      "190:\ttotal: 7.41s\tremaining: 349ms\n",
      "191:\ttotal: 7.45s\tremaining: 310ms\n",
      "192:\ttotal: 7.5s\tremaining: 272ms\n",
      "193:\ttotal: 7.54s\tremaining: 233ms\n",
      "194:\ttotal: 7.58s\tremaining: 194ms\n",
      "195:\ttotal: 7.62s\tremaining: 156ms\n",
      "196:\ttotal: 7.66s\tremaining: 117ms\n",
      "197:\ttotal: 7.7s\tremaining: 77.7ms\n",
      "198:\ttotal: 7.73s\tremaining: 38.9ms\n",
      "199:\ttotal: 7.77s\tremaining: 0us\n",
      "0:\ttotal: 42.6ms\tremaining: 8.48s\n",
      "1:\ttotal: 78.5ms\tremaining: 7.77s\n",
      "2:\ttotal: 113ms\tremaining: 7.45s\n",
      "3:\ttotal: 149ms\tremaining: 7.31s\n",
      "4:\ttotal: 186ms\tremaining: 7.26s\n",
      "5:\ttotal: 222ms\tremaining: 7.19s\n",
      "6:\ttotal: 257ms\tremaining: 7.09s\n",
      "7:\ttotal: 294ms\tremaining: 7.07s\n",
      "8:\ttotal: 338ms\tremaining: 7.18s\n",
      "9:\ttotal: 376ms\tremaining: 7.14s\n",
      "10:\ttotal: 417ms\tremaining: 7.16s\n",
      "11:\ttotal: 460ms\tremaining: 7.21s\n",
      "12:\ttotal: 499ms\tremaining: 7.18s\n",
      "13:\ttotal: 548ms\tremaining: 7.27s\n",
      "14:\ttotal: 590ms\tremaining: 7.27s\n",
      "15:\ttotal: 628ms\tremaining: 7.22s\n",
      "16:\ttotal: 664ms\tremaining: 7.15s\n",
      "17:\ttotal: 702ms\tremaining: 7.09s\n",
      "18:\ttotal: 740ms\tremaining: 7.05s\n",
      "19:\ttotal: 784ms\tremaining: 7.05s\n",
      "20:\ttotal: 827ms\tremaining: 7.05s\n",
      "21:\ttotal: 873ms\tremaining: 7.07s\n",
      "22:\ttotal: 918ms\tremaining: 7.06s\n",
      "23:\ttotal: 958ms\tremaining: 7.03s\n",
      "24:\ttotal: 998ms\tremaining: 6.99s\n",
      "25:\ttotal: 1.04s\tremaining: 6.96s\n",
      "26:\ttotal: 1.09s\tremaining: 6.99s\n",
      "27:\ttotal: 1.14s\tremaining: 6.98s\n",
      "28:\ttotal: 1.18s\tremaining: 6.95s\n",
      "29:\ttotal: 1.22s\tremaining: 6.91s\n",
      "30:\ttotal: 1.26s\tremaining: 6.87s\n",
      "31:\ttotal: 1.29s\tremaining: 6.8s\n",
      "32:\ttotal: 1.34s\tremaining: 6.77s\n",
      "33:\ttotal: 1.38s\tremaining: 6.74s\n",
      "34:\ttotal: 1.42s\tremaining: 6.71s\n",
      "35:\ttotal: 1.46s\tremaining: 6.66s\n",
      "36:\ttotal: 1.5s\tremaining: 6.63s\n",
      "37:\ttotal: 1.55s\tremaining: 6.6s\n",
      "38:\ttotal: 1.59s\tremaining: 6.58s\n",
      "39:\ttotal: 1.64s\tremaining: 6.55s\n",
      "40:\ttotal: 1.69s\tremaining: 6.54s\n",
      "41:\ttotal: 1.73s\tremaining: 6.49s\n",
      "42:\ttotal: 1.76s\tremaining: 6.44s\n",
      "43:\ttotal: 1.8s\tremaining: 6.38s\n",
      "44:\ttotal: 1.83s\tremaining: 6.32s\n",
      "45:\ttotal: 1.87s\tremaining: 6.26s\n",
      "46:\ttotal: 1.91s\tremaining: 6.2s\n",
      "47:\ttotal: 1.94s\tremaining: 6.14s\n",
      "48:\ttotal: 1.98s\tremaining: 6.11s\n",
      "49:\ttotal: 2.02s\tremaining: 6.06s\n",
      "50:\ttotal: 2.06s\tremaining: 6.01s\n",
      "51:\ttotal: 2.09s\tremaining: 5.96s\n",
      "52:\ttotal: 2.13s\tremaining: 5.91s\n",
      "53:\ttotal: 2.17s\tremaining: 5.86s\n",
      "54:\ttotal: 2.21s\tremaining: 5.82s\n",
      "55:\ttotal: 2.24s\tremaining: 5.77s\n",
      "56:\ttotal: 2.28s\tremaining: 5.72s\n",
      "57:\ttotal: 2.32s\tremaining: 5.68s\n",
      "58:\ttotal: 2.35s\tremaining: 5.63s\n",
      "59:\ttotal: 2.39s\tremaining: 5.58s\n",
      "60:\ttotal: 2.42s\tremaining: 5.53s\n",
      "61:\ttotal: 2.46s\tremaining: 5.48s\n",
      "62:\ttotal: 2.5s\tremaining: 5.43s\n",
      "63:\ttotal: 2.53s\tremaining: 5.38s\n",
      "64:\ttotal: 2.56s\tremaining: 5.32s\n",
      "65:\ttotal: 2.6s\tremaining: 5.27s\n",
      "66:\ttotal: 2.63s\tremaining: 5.23s\n",
      "67:\ttotal: 2.67s\tremaining: 5.19s\n",
      "68:\ttotal: 2.71s\tremaining: 5.15s\n",
      "69:\ttotal: 2.75s\tremaining: 5.1s\n",
      "70:\ttotal: 2.78s\tremaining: 5.05s\n",
      "71:\ttotal: 2.82s\tremaining: 5.01s\n",
      "72:\ttotal: 2.85s\tremaining: 4.96s\n",
      "73:\ttotal: 2.89s\tremaining: 4.93s\n",
      "74:\ttotal: 2.93s\tremaining: 4.88s\n",
      "75:\ttotal: 2.96s\tremaining: 4.84s\n",
      "76:\ttotal: 3.01s\tremaining: 4.8s\n",
      "77:\ttotal: 3.04s\tremaining: 4.76s\n",
      "78:\ttotal: 3.07s\tremaining: 4.71s\n",
      "79:\ttotal: 3.11s\tremaining: 4.67s\n",
      "80:\ttotal: 3.15s\tremaining: 4.63s\n",
      "81:\ttotal: 3.19s\tremaining: 4.59s\n"
     ]
    },
    {
     "name": "stdout",
     "output_type": "stream",
     "text": [
      "82:\ttotal: 3.23s\tremaining: 4.56s\n",
      "83:\ttotal: 3.27s\tremaining: 4.51s\n",
      "84:\ttotal: 3.31s\tremaining: 4.47s\n",
      "85:\ttotal: 3.34s\tremaining: 4.43s\n",
      "86:\ttotal: 3.38s\tremaining: 4.39s\n",
      "87:\ttotal: 3.42s\tremaining: 4.35s\n",
      "88:\ttotal: 3.45s\tremaining: 4.31s\n",
      "89:\ttotal: 3.49s\tremaining: 4.27s\n",
      "90:\ttotal: 3.53s\tremaining: 4.23s\n",
      "91:\ttotal: 3.57s\tremaining: 4.19s\n",
      "92:\ttotal: 3.6s\tremaining: 4.15s\n",
      "93:\ttotal: 3.64s\tremaining: 4.1s\n",
      "94:\ttotal: 3.68s\tremaining: 4.07s\n",
      "95:\ttotal: 3.72s\tremaining: 4.03s\n",
      "96:\ttotal: 3.75s\tremaining: 3.98s\n",
      "97:\ttotal: 3.79s\tremaining: 3.94s\n",
      "98:\ttotal: 3.83s\tremaining: 3.91s\n",
      "99:\ttotal: 3.87s\tremaining: 3.87s\n",
      "100:\ttotal: 3.91s\tremaining: 3.83s\n",
      "101:\ttotal: 3.95s\tremaining: 3.79s\n",
      "102:\ttotal: 3.99s\tremaining: 3.75s\n",
      "103:\ttotal: 4.02s\tremaining: 3.71s\n",
      "104:\ttotal: 4.05s\tremaining: 3.67s\n",
      "105:\ttotal: 4.09s\tremaining: 3.63s\n",
      "106:\ttotal: 4.13s\tremaining: 3.59s\n",
      "107:\ttotal: 4.17s\tremaining: 3.55s\n",
      "108:\ttotal: 4.21s\tremaining: 3.51s\n",
      "109:\ttotal: 4.24s\tremaining: 3.47s\n",
      "110:\ttotal: 4.28s\tremaining: 3.44s\n",
      "111:\ttotal: 4.32s\tremaining: 3.4s\n",
      "112:\ttotal: 4.36s\tremaining: 3.36s\n",
      "113:\ttotal: 4.4s\tremaining: 3.32s\n",
      "114:\ttotal: 4.45s\tremaining: 3.29s\n",
      "115:\ttotal: 4.48s\tremaining: 3.25s\n",
      "116:\ttotal: 4.53s\tremaining: 3.21s\n",
      "117:\ttotal: 4.57s\tremaining: 3.17s\n",
      "118:\ttotal: 4.61s\tremaining: 3.13s\n",
      "119:\ttotal: 4.64s\tremaining: 3.09s\n",
      "120:\ttotal: 4.68s\tremaining: 3.06s\n",
      "121:\ttotal: 4.73s\tremaining: 3.02s\n",
      "122:\ttotal: 4.78s\tremaining: 2.99s\n",
      "123:\ttotal: 4.82s\tremaining: 2.95s\n",
      "124:\ttotal: 4.86s\tremaining: 2.91s\n",
      "125:\ttotal: 4.89s\tremaining: 2.88s\n",
      "126:\ttotal: 4.93s\tremaining: 2.83s\n",
      "127:\ttotal: 4.96s\tremaining: 2.79s\n",
      "128:\ttotal: 5s\tremaining: 2.75s\n",
      "129:\ttotal: 5.04s\tremaining: 2.71s\n",
      "130:\ttotal: 5.08s\tremaining: 2.67s\n",
      "131:\ttotal: 5.11s\tremaining: 2.63s\n",
      "132:\ttotal: 5.15s\tremaining: 2.6s\n",
      "133:\ttotal: 5.19s\tremaining: 2.56s\n",
      "134:\ttotal: 5.22s\tremaining: 2.51s\n",
      "135:\ttotal: 5.26s\tremaining: 2.48s\n",
      "136:\ttotal: 5.3s\tremaining: 2.44s\n",
      "137:\ttotal: 5.34s\tremaining: 2.4s\n",
      "138:\ttotal: 5.37s\tremaining: 2.36s\n",
      "139:\ttotal: 5.41s\tremaining: 2.32s\n",
      "140:\ttotal: 5.44s\tremaining: 2.28s\n",
      "141:\ttotal: 5.48s\tremaining: 2.24s\n",
      "142:\ttotal: 5.51s\tremaining: 2.2s\n",
      "143:\ttotal: 5.55s\tremaining: 2.16s\n",
      "144:\ttotal: 5.59s\tremaining: 2.12s\n",
      "145:\ttotal: 5.62s\tremaining: 2.08s\n",
      "146:\ttotal: 5.66s\tremaining: 2.04s\n",
      "147:\ttotal: 5.69s\tremaining: 2s\n",
      "148:\ttotal: 5.73s\tremaining: 1.96s\n",
      "149:\ttotal: 5.76s\tremaining: 1.92s\n",
      "150:\ttotal: 5.8s\tremaining: 1.88s\n",
      "151:\ttotal: 5.84s\tremaining: 1.84s\n",
      "152:\ttotal: 5.88s\tremaining: 1.81s\n",
      "153:\ttotal: 5.92s\tremaining: 1.77s\n",
      "154:\ttotal: 5.96s\tremaining: 1.73s\n",
      "155:\ttotal: 6s\tremaining: 1.69s\n",
      "156:\ttotal: 6.03s\tremaining: 1.65s\n",
      "157:\ttotal: 6.06s\tremaining: 1.61s\n",
      "158:\ttotal: 6.1s\tremaining: 1.57s\n",
      "159:\ttotal: 6.13s\tremaining: 1.53s\n",
      "160:\ttotal: 6.17s\tremaining: 1.49s\n",
      "161:\ttotal: 6.2s\tremaining: 1.46s\n",
      "162:\ttotal: 6.24s\tremaining: 1.42s\n",
      "163:\ttotal: 6.28s\tremaining: 1.38s\n",
      "164:\ttotal: 6.32s\tremaining: 1.34s\n",
      "165:\ttotal: 6.35s\tremaining: 1.3s\n",
      "166:\ttotal: 6.39s\tremaining: 1.26s\n",
      "167:\ttotal: 6.43s\tremaining: 1.22s\n",
      "168:\ttotal: 6.46s\tremaining: 1.19s\n",
      "169:\ttotal: 6.49s\tremaining: 1.15s\n",
      "170:\ttotal: 6.53s\tremaining: 1.11s\n",
      "171:\ttotal: 6.56s\tremaining: 1.07s\n",
      "172:\ttotal: 6.6s\tremaining: 1.03s\n",
      "173:\ttotal: 6.63s\tremaining: 991ms\n",
      "174:\ttotal: 6.67s\tremaining: 952ms\n",
      "175:\ttotal: 6.7s\tremaining: 914ms\n",
      "176:\ttotal: 6.74s\tremaining: 876ms\n",
      "177:\ttotal: 6.77s\tremaining: 837ms\n",
      "178:\ttotal: 6.81s\tremaining: 799ms\n",
      "179:\ttotal: 6.85s\tremaining: 761ms\n",
      "180:\ttotal: 6.89s\tremaining: 723ms\n",
      "181:\ttotal: 6.92s\tremaining: 685ms\n",
      "182:\ttotal: 6.96s\tremaining: 647ms\n",
      "183:\ttotal: 7s\tremaining: 609ms\n",
      "184:\ttotal: 7.03s\tremaining: 570ms\n",
      "185:\ttotal: 7.07s\tremaining: 532ms\n",
      "186:\ttotal: 7.1s\tremaining: 494ms\n",
      "187:\ttotal: 7.14s\tremaining: 456ms\n",
      "188:\ttotal: 7.17s\tremaining: 417ms\n",
      "189:\ttotal: 7.21s\tremaining: 379ms\n",
      "190:\ttotal: 7.25s\tremaining: 342ms\n",
      "191:\ttotal: 7.29s\tremaining: 304ms\n",
      "192:\ttotal: 7.33s\tremaining: 266ms\n",
      "193:\ttotal: 7.38s\tremaining: 228ms\n",
      "194:\ttotal: 7.42s\tremaining: 190ms\n",
      "195:\ttotal: 7.46s\tremaining: 152ms\n",
      "196:\ttotal: 7.51s\tremaining: 114ms\n",
      "197:\ttotal: 7.55s\tremaining: 76.3ms\n",
      "198:\ttotal: 7.6s\tremaining: 38.2ms\n",
      "199:\ttotal: 7.63s\tremaining: 0us\n"
     ]
    }
   ],
   "source": [
    "xg_oof_train, xg_oof_test = get_oof(xg)\n",
    "et_oof_train, et_oof_test = get_oof(et)\n",
    "rf_oof_train, rf_oof_test = get_oof(rf)\n",
    "cb_oof_train, cb_oof_test = get_oof(cb)"
   ]
  },
  {
   "cell_type": "code",
   "execution_count": 24,
   "metadata": {
    "ExecuteTime": {
     "end_time": "2021-02-02T02:53:32.949849Z",
     "start_time": "2021-02-02T02:53:32.908925Z"
    }
   },
   "outputs": [
    {
     "name": "stdout",
     "output_type": "stream",
     "text": [
      "XG-CV: 0.2594620936343568\n",
      "ET-CV: 0.26296502347137407\n",
      "RF-CV: 0.2629856213006646\n",
      "RF-CV: 0.33114480486162\n"
     ]
    }
   ],
   "source": [
    "print(\"XG-CV: {}\".format(sqrt(mean_squared_error(y_train, xg_oof_train))))\n",
    "print(\"ET-CV: {}\".format(sqrt(mean_squared_error(y_train, et_oof_train))))\n",
    "print(\"RF-CV: {}\".format(sqrt(mean_squared_error(y_train, rf_oof_train))))\n",
    "print(\"RF-CV: {}\".format(sqrt(mean_squared_error(y_train, cb_oof_train))))"
   ]
  },
  {
   "cell_type": "code",
   "execution_count": 25,
   "metadata": {
    "ExecuteTime": {
     "end_time": "2021-02-02T03:00:21.836826Z",
     "start_time": "2021-02-02T03:00:21.753019Z"
    }
   },
   "outputs": [
    {
     "name": "stdout",
     "output_type": "stream",
     "text": [
      "(307511, 4),(48744, 4)\n"
     ]
    }
   ],
   "source": [
    "x_train = np.concatenate((xg_oof_train, et_oof_train, rf_oof_train, cb_oof_train), axis=1)\n",
    "x_test = np.concatenate((xg_oof_test, et_oof_test, rf_oof_test, cb_oof_test), axis=1)\n",
    "\n",
    "print(\"{},{}\".format(x_train.shape, x_test.shape))"
   ]
  },
  {
   "cell_type": "code",
   "execution_count": 26,
   "metadata": {
    "ExecuteTime": {
     "end_time": "2021-02-02T03:40:43.394847Z",
     "start_time": "2021-02-02T03:40:41.607590Z"
    }
   },
   "outputs": [],
   "source": [
    "logistic_regression = LogisticRegression()\n",
    "logistic_regression.fit(x_train,y_train)\n",
    "\n",
    "test['TARGET'] = logistic_regression.predict_proba(x_test)[:,1]\n",
    "\n",
    "test[['SK_ID_CURR', 'TARGET']].to_csv('first_submission.csv', index=False, float_format='%.8f')"
   ]
  },
  {
   "cell_type": "code",
   "execution_count": null,
   "metadata": {},
   "outputs": [],
   "source": []
  }
 ],
 "metadata": {
  "kernelspec": {
   "display_name": "Python 3",
   "language": "python",
   "name": "python3"
  },
  "language_info": {
   "codemirror_mode": {
    "name": "ipython",
    "version": 3
   },
   "file_extension": ".py",
   "mimetype": "text/x-python",
   "name": "python",
   "nbconvert_exporter": "python",
   "pygments_lexer": "ipython3",
   "version": "3.7.6"
  }
 },
 "nbformat": 4,
 "nbformat_minor": 4
}
