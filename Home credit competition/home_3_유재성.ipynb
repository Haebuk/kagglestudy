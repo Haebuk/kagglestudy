{
 "cells": [
  {
   "cell_type": "code",
   "execution_count": 1,
   "metadata": {
    "ExecuteTime": {
     "end_time": "2021-02-02T12:54:43.189111Z",
     "start_time": "2021-02-02T12:54:40.697847Z"
    }
   },
   "outputs": [],
   "source": [
    "import pandas as pd\n",
    "import numpy as np\n",
    "from scipy.stats import skew\n",
    "import xgboost as xgb\n",
    "from sklearn.model_selection import KFold\n",
    "from sklearn.ensemble import ExtraTreesClassifier, RandomForestClassifier\n",
    "from sklearn.metrics import mean_squared_error, roc_auc_score\n",
    "from sklearn.linear_model import LogisticRegression\n",
    "from math import sqrt\n",
    "from catboost import CatBoostClassifier\n",
    "from lightgbm import LGBMClassifier\n",
    "import gc"
   ]
  },
  {
   "cell_type": "code",
   "execution_count": 2,
   "metadata": {
    "ExecuteTime": {
     "end_time": "2021-02-02T12:54:43.205125Z",
     "start_time": "2021-02-02T12:54:43.190112Z"
    }
   },
   "outputs": [],
   "source": [
    "NFOLDS = 3\n",
    "SEED = 0\n",
    "NROWS = None"
   ]
  },
  {
   "cell_type": "code",
   "execution_count": 3,
   "metadata": {
    "ExecuteTime": {
     "end_time": "2021-02-02T12:54:49.121503Z",
     "start_time": "2021-02-02T12:54:43.206127Z"
    },
    "scrolled": false
   },
   "outputs": [],
   "source": [
    "data = pd.read_csv('./input/application_train.csv')\n",
    "test = pd.read_csv('./input/application_test.csv')\n",
    "prev = pd.read_csv('./input/previous_application.csv')"
   ]
  },
  {
   "cell_type": "code",
   "execution_count": 4,
   "metadata": {
    "ExecuteTime": {
     "end_time": "2021-02-02T12:54:49.137518Z",
     "start_time": "2021-02-02T12:54:49.122504Z"
    }
   },
   "outputs": [],
   "source": [
    "categorical_feats = [f for f in data.columns if data[f].dtype == 'object']"
   ]
  },
  {
   "cell_type": "code",
   "execution_count": 5,
   "metadata": {
    "ExecuteTime": {
     "end_time": "2021-02-02T12:54:49.600939Z",
     "start_time": "2021-02-02T12:54:49.138519Z"
    }
   },
   "outputs": [],
   "source": [
    "for f_ in categorical_feats:\n",
    "    data[f_], indexer = pd.factorize(data[f_])\n",
    "    test[f_] = indexer.get_indexer(test[f_])"
   ]
  },
  {
   "cell_type": "code",
   "execution_count": 6,
   "metadata": {
    "ExecuteTime": {
     "end_time": "2021-02-02T12:54:49.616954Z",
     "start_time": "2021-02-02T12:54:49.601940Z"
    }
   },
   "outputs": [],
   "source": [
    "gc.enable()"
   ]
  },
  {
   "cell_type": "code",
   "execution_count": 7,
   "metadata": {
    "ExecuteTime": {
     "end_time": "2021-02-02T12:54:49.632968Z",
     "start_time": "2021-02-02T12:54:49.617954Z"
    }
   },
   "outputs": [],
   "source": [
    "y_train = data['TARGET']\n",
    "del data['TARGET']"
   ]
  },
  {
   "cell_type": "code",
   "execution_count": 8,
   "metadata": {
    "ExecuteTime": {
     "end_time": "2021-02-02T12:54:51.696844Z",
     "start_time": "2021-02-02T12:54:49.633969Z"
    }
   },
   "outputs": [],
   "source": [
    "prev_cat_features = [f_ for f_ in prev.columns if prev[f_].dtype == 'object']\n",
    "for f_ in prev_cat_features:\n",
    "    prev[f_], _ = pd.factorize(prev[f_])"
   ]
  },
  {
   "cell_type": "code",
   "execution_count": 9,
   "metadata": {
    "ExecuteTime": {
     "end_time": "2021-02-02T12:54:53.071093Z",
     "start_time": "2021-02-02T12:54:51.697845Z"
    }
   },
   "outputs": [],
   "source": [
    "avg_prev = prev.groupby('SK_ID_CURR').mean()\n",
    "cnt_prev = prev[['SK_ID_CURR', 'SK_ID_PREV']].groupby('SK_ID_CURR').count()\n",
    "avg_prev['nb_app'] = cnt_prev['SK_ID_PREV']\n",
    "del avg_prev['SK_ID_PREV']"
   ]
  },
  {
   "cell_type": "code",
   "execution_count": 10,
   "metadata": {
    "ExecuteTime": {
     "end_time": "2021-02-02T12:54:54.496388Z",
     "start_time": "2021-02-02T12:54:53.072094Z"
    }
   },
   "outputs": [],
   "source": [
    "x_train = data.merge(right=avg_prev.reset_index(), how='left', on='SK_ID_CURR')\n",
    "x_test = test.merge(right=avg_prev.reset_index(), how='left', on='SK_ID_CURR')"
   ]
  },
  {
   "cell_type": "code",
   "execution_count": 11,
   "metadata": {
    "ExecuteTime": {
     "end_time": "2021-02-02T12:54:54.702576Z",
     "start_time": "2021-02-02T12:54:54.497390Z"
    }
   },
   "outputs": [],
   "source": [
    "x_train = x_train.fillna(0)\n",
    "x_test = x_test.fillna(0)"
   ]
  },
  {
   "cell_type": "code",
   "execution_count": 12,
   "metadata": {
    "ExecuteTime": {
     "end_time": "2021-02-02T12:54:54.718590Z",
     "start_time": "2021-02-02T12:54:54.703577Z"
    }
   },
   "outputs": [],
   "source": [
    "ntrain = x_train.shape[0]\n",
    "ntest = x_test.shape[0]"
   ]
  },
  {
   "cell_type": "code",
   "execution_count": 13,
   "metadata": {
    "ExecuteTime": {
     "end_time": "2021-02-02T12:54:54.734605Z",
     "start_time": "2021-02-02T12:54:54.719592Z"
    }
   },
   "outputs": [],
   "source": [
    "excluded_feats = ['SK_ID_CURR']\n",
    "features = [f_ for f_ in x_train.columns if f_ not in excluded_feats]"
   ]
  },
  {
   "cell_type": "code",
   "execution_count": 14,
   "metadata": {
    "ExecuteTime": {
     "end_time": "2021-02-02T12:54:54.974823Z",
     "start_time": "2021-02-02T12:54:54.735606Z"
    }
   },
   "outputs": [],
   "source": [
    "x_train = x_train[features]\n",
    "x_test = x_test[features]"
   ]
  },
  {
   "cell_type": "code",
   "execution_count": 15,
   "metadata": {
    "ExecuteTime": {
     "end_time": "2021-02-02T12:54:54.990838Z",
     "start_time": "2021-02-02T12:54:54.975825Z"
    }
   },
   "outputs": [],
   "source": [
    "kf = KFold(n_splits=NFOLDS, shuffle=True, random_state=SEED)"
   ]
  },
  {
   "cell_type": "code",
   "execution_count": 16,
   "metadata": {
    "ExecuteTime": {
     "end_time": "2021-02-02T12:54:55.006852Z",
     "start_time": "2021-02-02T12:54:54.991839Z"
    }
   },
   "outputs": [],
   "source": [
    "class SKlearnWrapper(object):\n",
    "    def __init__(self, clf, seed=0, params=None):\n",
    "        params['random_state'] = seed\n",
    "        self.clf = clf(**params)\n",
    "        \n",
    "    def train(self, x_train, y_train):\n",
    "        self.clf.fit(x_train, y_train)\n",
    "        \n",
    "    def predict(self, x):\n",
    "        return self.clf.predict_proba(x)[:,1]\n",
    "    \n",
    "class CatboostWrapper(object):\n",
    "    def __init__(self, clf, seed=0, params=None):\n",
    "        params['random_state'] = seed\n",
    "        self.clf = clf(**params)\n",
    "        \n",
    "    def train(self, x_train, y_train):\n",
    "        self.clf.fit(x_train, y_train)\n",
    "        \n",
    "    def predict(self, x):\n",
    "        return self.clf.predict_proba(x)[:,1]\n",
    "    \n",
    "class LightGBMWrapper(object):\n",
    "    def __init__(self, clf, seed=0, params=None):\n",
    "        params['feature_fraction_seed'] = seed\n",
    "        params['bagging_seed'] = seed\n",
    "        self.clf = clf(**params)\n",
    "        \n",
    "    def train(self, x_train, y_train):\n",
    "        self.clf.fit(x_train, y_train)\n",
    "        \n",
    "    def predict(self, x):\n",
    "        return self.clf.predict_proba(x)[:,1]\n",
    "    \n",
    "class XgbWrapper(object):\n",
    "    def __init__(self, seed=0, params=None):\n",
    "        self.param = params\n",
    "        self.param['seed'] = seed\n",
    "        self.nrounds = params.pop('nrounds', 250)\n",
    "        \n",
    "    def train(self, x_train, y_train):\n",
    "        dtrain = xgb.DMatrix(x_train, label=y_train)\n",
    "        self.gbdt = xgb.train(self.param, dtrain, self.nrounds)\n",
    "        \n",
    "    def predict(self, x):\n",
    "        return self.gbdt.predict(xgb.DMatrix(x))"
   ]
  },
  {
   "cell_type": "code",
   "execution_count": 17,
   "metadata": {
    "ExecuteTime": {
     "end_time": "2021-02-02T12:54:55.022867Z",
     "start_time": "2021-02-02T12:54:55.007854Z"
    }
   },
   "outputs": [],
   "source": [
    "def get_oof(clf):\n",
    "    oof_train = np.zeros((ntrain,))\n",
    "    oof_test = np.zeros((ntest,))\n",
    "    oof_test_skf = np.empty((NFOLDS, ntest))\n",
    "    \n",
    "    for i, (train_index, test_index) in enumerate(kf.split(x_train)):\n",
    "        x_tr = x_train.loc[train_index]\n",
    "        y_tr = y_train.loc[train_index]\n",
    "        x_te = x_train.loc[test_index]\n",
    "        \n",
    "        clf.train(x_tr, y_tr)\n",
    "        \n",
    "        oof_train[test_index] = clf.predict(x_te)\n",
    "        oof_test_skf[i, :] = clf.predict(x_test)\n",
    "        \n",
    "    oof_test[:] = oof_test_skf.mean(axis=0)\n",
    "    return oof_train.reshape(-1, 1), oof_test.reshape(-1, 1)"
   ]
  },
  {
   "cell_type": "code",
   "execution_count": 21,
   "metadata": {
    "ExecuteTime": {
     "end_time": "2021-02-02T13:03:12.911339Z",
     "start_time": "2021-02-02T13:03:12.900329Z"
    }
   },
   "outputs": [],
   "source": [
    "et_params = {\n",
    "    'n_jobs': 16,\n",
    "    'n_estimators': 200,\n",
    "    'max_features': 0.5,\n",
    "    'max_depth': 12,\n",
    "    'min_samples_leaf': 2,\n",
    "}\n",
    "\n",
    "rf_params = {\n",
    "    'n_jobs': 16,\n",
    "    'n_estimators': 200,\n",
    "    'max_features': 0.2,\n",
    "    'max_depth': 12,\n",
    "    'min_samples_leaf': 2,\n",
    "}\n",
    "\n",
    "xgb_params = {\n",
    "    'seed': 0,\n",
    "    'colsample_bytree': 0.7,\n",
    "    'silent': 1,\n",
    "    'subsample': 0.7,\n",
    "    'learning_rate': 0.075,\n",
    "    'objective': 'binary:logistic',\n",
    "    'max_depth': 4,\n",
    "    'num_parallel_tree': 1,\n",
    "    'min_child_weight': 1,\n",
    "    'nrounds': 200\n",
    "}\n",
    "\n",
    "catboost_params = {\n",
    "    'iterations': 200,\n",
    "    'learning_rate': 0.5,\n",
    "    'depth': 3,\n",
    "    'l2_leaf_reg': 40,\n",
    "    'bootstrap_type': 'Bernoulli',\n",
    "    'subsample': 0.7,\n",
    "    'scale_pos_weight': 5,\n",
    "    'eval_metric': 'AUC',\n",
    "    'od_type': 'Iter',\n",
    "    'allow_writing_files': False\n",
    "}\n",
    "\n",
    "lightgbm_params = {\n",
    "    'n_estimators': 200,\n",
    "    'learning_rate': 0.1,\n",
    "    'num_leaves': 123,\n",
    "    'colsample_bytree': 0.8,\n",
    "    'subsample': 0.9,\n",
    "    'max_depth': 15,\n",
    "    'reg_alpha': 0.1,\n",
    "    'reg_lambda': 0.1,\n",
    "    'min_split_gain': 0.01,\n",
    "    'min_child_weight': 2\n",
    "}"
   ]
  },
  {
   "cell_type": "code",
   "execution_count": 22,
   "metadata": {
    "ExecuteTime": {
     "end_time": "2021-02-02T13:03:17.454469Z",
     "start_time": "2021-02-02T13:03:17.437453Z"
    }
   },
   "outputs": [],
   "source": [
    "xg = XgbWrapper(seed=SEED, params=xgb_params)\n",
    "et = SKlearnWrapper(clf=ExtraTreesClassifier, seed=SEED, params=et_params)\n",
    "rf = SKlearnWrapper(clf=RandomForestClassifier, seed=SEED, params=rf_params)\n",
    "cb = SKlearnWrapper(clf=CatBoostClassifier, seed=SEED, params=catboost_params)\n",
    "lg = SKlearnWrapper(clf=LGBMClassifier, seed=SEED, params=lightgbm_params)"
   ]
  },
  {
   "cell_type": "code",
   "execution_count": 23,
   "metadata": {
    "ExecuteTime": {
     "end_time": "2021-02-02T13:10:59.706430Z",
     "start_time": "2021-02-02T13:03:18.110065Z"
    },
    "scrolled": false
   },
   "outputs": [
    {
     "name": "stdout",
     "output_type": "stream",
     "text": [
      "[22:03:18] WARNING: C:/Users/Administrator/workspace/xgboost-win64_release_1.3.0/src/learner.cc:541: \n",
      "Parameters: { silent } might not be used.\n",
      "\n",
      "  This may not be accurate due to some parameters are only used in language bindings but\n",
      "  passed down to XGBoost core.  Or some parameters are not used but slip through this\n",
      "  verification. Please open an issue if you find above cases.\n",
      "\n",
      "\n",
      "[22:03:18] WARNING: C:/Users/Administrator/workspace/xgboost-win64_release_1.3.0/src/learner.cc:1061: Starting in XGBoost 1.3.0, the default evaluation metric used with the objective 'binary:logistic' was changed from 'error' to 'logloss'. Explicitly set eval_metric if you'd like to restore the old behavior.\n",
      "[22:03:38] WARNING: C:/Users/Administrator/workspace/xgboost-win64_release_1.3.0/src/learner.cc:541: \n",
      "Parameters: { silent } might not be used.\n",
      "\n",
      "  This may not be accurate due to some parameters are only used in language bindings but\n",
      "  passed down to XGBoost core.  Or some parameters are not used but slip through this\n",
      "  verification. Please open an issue if you find above cases.\n",
      "\n",
      "\n",
      "[22:03:39] WARNING: C:/Users/Administrator/workspace/xgboost-win64_release_1.3.0/src/learner.cc:1061: Starting in XGBoost 1.3.0, the default evaluation metric used with the objective 'binary:logistic' was changed from 'error' to 'logloss'. Explicitly set eval_metric if you'd like to restore the old behavior.\n",
      "[22:03:59] WARNING: C:/Users/Administrator/workspace/xgboost-win64_release_1.3.0/src/learner.cc:541: \n",
      "Parameters: { silent } might not be used.\n",
      "\n",
      "  This may not be accurate due to some parameters are only used in language bindings but\n",
      "  passed down to XGBoost core.  Or some parameters are not used but slip through this\n",
      "  verification. Please open an issue if you find above cases.\n",
      "\n",
      "\n",
      "[22:03:59] WARNING: C:/Users/Administrator/workspace/xgboost-win64_release_1.3.0/src/learner.cc:1061: Starting in XGBoost 1.3.0, the default evaluation metric used with the objective 'binary:logistic' was changed from 'error' to 'logloss'. Explicitly set eval_metric if you'd like to restore the old behavior.\n",
      "0:\ttotal: 183ms\tremaining: 36.5s\n",
      "1:\ttotal: 206ms\tremaining: 20.4s\n",
      "2:\ttotal: 226ms\tremaining: 14.8s\n",
      "3:\ttotal: 248ms\tremaining: 12.1s\n",
      "4:\ttotal: 270ms\tremaining: 10.5s\n",
      "5:\ttotal: 291ms\tremaining: 9.42s\n",
      "6:\ttotal: 316ms\tremaining: 8.71s\n",
      "7:\ttotal: 336ms\tremaining: 8.07s\n",
      "8:\ttotal: 358ms\tremaining: 7.6s\n",
      "9:\ttotal: 379ms\tremaining: 7.21s\n",
      "10:\ttotal: 403ms\tremaining: 6.93s\n",
      "11:\ttotal: 428ms\tremaining: 6.7s\n",
      "12:\ttotal: 451ms\tremaining: 6.49s\n",
      "13:\ttotal: 474ms\tremaining: 6.3s\n",
      "14:\ttotal: 498ms\tremaining: 6.14s\n",
      "15:\ttotal: 521ms\tremaining: 5.99s\n",
      "16:\ttotal: 541ms\tremaining: 5.82s\n",
      "17:\ttotal: 562ms\tremaining: 5.68s\n",
      "18:\ttotal: 584ms\tremaining: 5.56s\n",
      "19:\ttotal: 605ms\tremaining: 5.45s\n",
      "20:\ttotal: 626ms\tremaining: 5.33s\n",
      "21:\ttotal: 649ms\tremaining: 5.25s\n",
      "22:\ttotal: 672ms\tremaining: 5.17s\n",
      "23:\ttotal: 695ms\tremaining: 5.1s\n",
      "24:\ttotal: 717ms\tremaining: 5.02s\n",
      "25:\ttotal: 740ms\tremaining: 4.96s\n",
      "26:\ttotal: 764ms\tremaining: 4.89s\n",
      "27:\ttotal: 784ms\tremaining: 4.82s\n",
      "28:\ttotal: 807ms\tremaining: 4.76s\n",
      "29:\ttotal: 829ms\tremaining: 4.7s\n",
      "30:\ttotal: 851ms\tremaining: 4.64s\n",
      "31:\ttotal: 872ms\tremaining: 4.58s\n",
      "32:\ttotal: 891ms\tremaining: 4.51s\n",
      "33:\ttotal: 913ms\tremaining: 4.46s\n",
      "34:\ttotal: 936ms\tremaining: 4.41s\n",
      "35:\ttotal: 959ms\tremaining: 4.37s\n",
      "36:\ttotal: 981ms\tremaining: 4.32s\n",
      "37:\ttotal: 1s\tremaining: 4.27s\n",
      "38:\ttotal: 1.02s\tremaining: 4.22s\n",
      "39:\ttotal: 1.04s\tremaining: 4.18s\n",
      "40:\ttotal: 1.07s\tremaining: 4.14s\n",
      "41:\ttotal: 1.09s\tremaining: 4.11s\n",
      "42:\ttotal: 1.11s\tremaining: 4.07s\n",
      "43:\ttotal: 1.14s\tremaining: 4.04s\n",
      "44:\ttotal: 1.16s\tremaining: 4.01s\n",
      "45:\ttotal: 1.19s\tremaining: 3.98s\n",
      "46:\ttotal: 1.21s\tremaining: 3.94s\n",
      "47:\ttotal: 1.23s\tremaining: 3.9s\n",
      "48:\ttotal: 1.25s\tremaining: 3.85s\n",
      "49:\ttotal: 1.27s\tremaining: 3.82s\n",
      "50:\ttotal: 1.3s\tremaining: 3.8s\n",
      "51:\ttotal: 1.32s\tremaining: 3.77s\n",
      "52:\ttotal: 1.35s\tremaining: 3.74s\n",
      "53:\ttotal: 1.37s\tremaining: 3.7s\n",
      "54:\ttotal: 1.39s\tremaining: 3.67s\n",
      "55:\ttotal: 1.41s\tremaining: 3.63s\n",
      "56:\ttotal: 1.44s\tremaining: 3.6s\n",
      "57:\ttotal: 1.46s\tremaining: 3.57s\n",
      "58:\ttotal: 1.48s\tremaining: 3.54s\n",
      "59:\ttotal: 1.5s\tremaining: 3.51s\n",
      "60:\ttotal: 1.52s\tremaining: 3.47s\n",
      "61:\ttotal: 1.55s\tremaining: 3.45s\n",
      "62:\ttotal: 1.57s\tremaining: 3.42s\n",
      "63:\ttotal: 1.59s\tremaining: 3.39s\n",
      "64:\ttotal: 1.61s\tremaining: 3.35s\n",
      "65:\ttotal: 1.64s\tremaining: 3.32s\n",
      "66:\ttotal: 1.66s\tremaining: 3.29s\n",
      "67:\ttotal: 1.68s\tremaining: 3.26s\n",
      "68:\ttotal: 1.71s\tremaining: 3.24s\n",
      "69:\ttotal: 1.73s\tremaining: 3.21s\n",
      "70:\ttotal: 1.75s\tremaining: 3.18s\n",
      "71:\ttotal: 1.77s\tremaining: 3.15s\n",
      "72:\ttotal: 1.8s\tremaining: 3.13s\n",
      "73:\ttotal: 1.82s\tremaining: 3.1s\n",
      "74:\ttotal: 1.84s\tremaining: 3.07s\n",
      "75:\ttotal: 1.86s\tremaining: 3.04s\n",
      "76:\ttotal: 1.89s\tremaining: 3.02s\n",
      "77:\ttotal: 1.91s\tremaining: 2.99s\n",
      "78:\ttotal: 1.93s\tremaining: 2.96s\n",
      "79:\ttotal: 1.96s\tremaining: 2.94s\n",
      "80:\ttotal: 1.98s\tremaining: 2.91s\n",
      "81:\ttotal: 2s\tremaining: 2.88s\n",
      "82:\ttotal: 2.02s\tremaining: 2.85s\n",
      "83:\ttotal: 2.05s\tremaining: 2.83s\n",
      "84:\ttotal: 2.07s\tremaining: 2.8s\n",
      "85:\ttotal: 2.09s\tremaining: 2.77s\n",
      "86:\ttotal: 2.11s\tremaining: 2.75s\n",
      "87:\ttotal: 2.14s\tremaining: 2.72s\n",
      "88:\ttotal: 2.16s\tremaining: 2.7s\n",
      "89:\ttotal: 2.18s\tremaining: 2.67s\n",
      "90:\ttotal: 2.21s\tremaining: 2.64s\n",
      "91:\ttotal: 2.23s\tremaining: 2.61s\n",
      "92:\ttotal: 2.25s\tremaining: 2.59s\n",
      "93:\ttotal: 2.27s\tremaining: 2.56s\n",
      "94:\ttotal: 2.29s\tremaining: 2.53s\n",
      "95:\ttotal: 2.32s\tremaining: 2.51s\n",
      "96:\ttotal: 2.34s\tremaining: 2.49s\n",
      "97:\ttotal: 2.36s\tremaining: 2.46s\n",
      "98:\ttotal: 2.38s\tremaining: 2.43s\n",
      "99:\ttotal: 2.41s\tremaining: 2.41s\n",
      "100:\ttotal: 2.43s\tremaining: 2.38s\n",
      "101:\ttotal: 2.45s\tremaining: 2.36s\n",
      "102:\ttotal: 2.48s\tremaining: 2.33s\n",
      "103:\ttotal: 2.5s\tremaining: 2.31s\n",
      "104:\ttotal: 2.52s\tremaining: 2.28s\n",
      "105:\ttotal: 2.55s\tremaining: 2.26s\n",
      "106:\ttotal: 2.57s\tremaining: 2.23s\n",
      "107:\ttotal: 2.59s\tremaining: 2.21s\n",
      "108:\ttotal: 2.61s\tremaining: 2.18s\n",
      "109:\ttotal: 2.63s\tremaining: 2.15s\n",
      "110:\ttotal: 2.65s\tremaining: 2.13s\n",
      "111:\ttotal: 2.68s\tremaining: 2.1s\n",
      "112:\ttotal: 2.7s\tremaining: 2.08s\n",
      "113:\ttotal: 2.72s\tremaining: 2.05s\n",
      "114:\ttotal: 2.75s\tremaining: 2.03s\n",
      "115:\ttotal: 2.77s\tremaining: 2.01s\n",
      "116:\ttotal: 2.79s\tremaining: 1.98s\n",
      "117:\ttotal: 2.81s\tremaining: 1.96s\n",
      "118:\ttotal: 2.84s\tremaining: 1.93s\n",
      "119:\ttotal: 2.86s\tremaining: 1.91s\n",
      "120:\ttotal: 2.89s\tremaining: 1.89s\n",
      "121:\ttotal: 2.91s\tremaining: 1.86s\n",
      "122:\ttotal: 2.93s\tremaining: 1.83s\n",
      "123:\ttotal: 2.95s\tremaining: 1.81s\n",
      "124:\ttotal: 2.98s\tremaining: 1.79s\n",
      "125:\ttotal: 3s\tremaining: 1.76s\n",
      "126:\ttotal: 3.02s\tremaining: 1.74s\n",
      "127:\ttotal: 3.05s\tremaining: 1.71s\n",
      "128:\ttotal: 3.08s\tremaining: 1.69s\n",
      "129:\ttotal: 3.1s\tremaining: 1.67s\n",
      "130:\ttotal: 3.12s\tremaining: 1.64s\n",
      "131:\ttotal: 3.14s\tremaining: 1.62s\n",
      "132:\ttotal: 3.16s\tremaining: 1.59s\n",
      "133:\ttotal: 3.19s\tremaining: 1.57s\n",
      "134:\ttotal: 3.21s\tremaining: 1.55s\n",
      "135:\ttotal: 3.23s\tremaining: 1.52s\n",
      "136:\ttotal: 3.26s\tremaining: 1.5s\n",
      "137:\ttotal: 3.29s\tremaining: 1.48s\n",
      "138:\ttotal: 3.31s\tremaining: 1.46s\n",
      "139:\ttotal: 3.34s\tremaining: 1.43s\n",
      "140:\ttotal: 3.36s\tremaining: 1.41s\n",
      "141:\ttotal: 3.38s\tremaining: 1.38s\n",
      "142:\ttotal: 3.41s\tremaining: 1.36s\n",
      "143:\ttotal: 3.43s\tremaining: 1.33s\n",
      "144:\ttotal: 3.45s\tremaining: 1.31s\n",
      "145:\ttotal: 3.48s\tremaining: 1.28s\n",
      "146:\ttotal: 3.5s\tremaining: 1.26s\n",
      "147:\ttotal: 3.52s\tremaining: 1.24s\n",
      "148:\ttotal: 3.54s\tremaining: 1.21s\n",
      "149:\ttotal: 3.56s\tremaining: 1.19s\n",
      "150:\ttotal: 3.59s\tremaining: 1.16s\n",
      "151:\ttotal: 3.61s\tremaining: 1.14s\n",
      "152:\ttotal: 3.64s\tremaining: 1.12s\n",
      "153:\ttotal: 3.66s\tremaining: 1.09s\n",
      "154:\ttotal: 3.68s\tremaining: 1.07s\n",
      "155:\ttotal: 3.71s\tremaining: 1.04s\n",
      "156:\ttotal: 3.73s\tremaining: 1.02s\n",
      "157:\ttotal: 3.75s\tremaining: 997ms\n",
      "158:\ttotal: 3.77s\tremaining: 973ms\n",
      "159:\ttotal: 3.8s\tremaining: 951ms\n",
      "160:\ttotal: 3.82s\tremaining: 926ms\n",
      "161:\ttotal: 3.85s\tremaining: 902ms\n",
      "162:\ttotal: 3.87s\tremaining: 878ms\n",
      "163:\ttotal: 3.89s\tremaining: 854ms\n",
      "164:\ttotal: 3.91s\tremaining: 830ms\n",
      "165:\ttotal: 3.93s\tremaining: 806ms\n",
      "166:\ttotal: 3.96s\tremaining: 782ms\n",
      "167:\ttotal: 3.98s\tremaining: 758ms\n",
      "168:\ttotal: 4s\tremaining: 735ms\n",
      "169:\ttotal: 4.03s\tremaining: 711ms\n",
      "170:\ttotal: 4.05s\tremaining: 687ms\n",
      "171:\ttotal: 4.07s\tremaining: 663ms\n",
      "172:\ttotal: 4.09s\tremaining: 639ms\n",
      "173:\ttotal: 4.11s\tremaining: 615ms\n",
      "174:\ttotal: 4.14s\tremaining: 591ms\n",
      "175:\ttotal: 4.16s\tremaining: 567ms\n",
      "176:\ttotal: 4.18s\tremaining: 544ms\n",
      "177:\ttotal: 4.2s\tremaining: 520ms\n",
      "178:\ttotal: 4.23s\tremaining: 496ms\n",
      "179:\ttotal: 4.25s\tremaining: 472ms\n",
      "180:\ttotal: 4.27s\tremaining: 449ms\n",
      "181:\ttotal: 4.3s\tremaining: 425ms\n",
      "182:\ttotal: 4.32s\tremaining: 402ms\n",
      "183:\ttotal: 4.34s\tremaining: 378ms\n"
     ]
    },
    {
     "name": "stdout",
     "output_type": "stream",
     "text": [
      "184:\ttotal: 4.37s\tremaining: 354ms\n",
      "185:\ttotal: 4.39s\tremaining: 330ms\n",
      "186:\ttotal: 4.41s\tremaining: 307ms\n",
      "187:\ttotal: 4.44s\tremaining: 283ms\n",
      "188:\ttotal: 4.46s\tremaining: 259ms\n",
      "189:\ttotal: 4.48s\tremaining: 236ms\n",
      "190:\ttotal: 4.5s\tremaining: 212ms\n",
      "191:\ttotal: 4.53s\tremaining: 189ms\n",
      "192:\ttotal: 4.55s\tremaining: 165ms\n",
      "193:\ttotal: 4.57s\tremaining: 141ms\n",
      "194:\ttotal: 4.6s\tremaining: 118ms\n",
      "195:\ttotal: 4.62s\tremaining: 94.3ms\n",
      "196:\ttotal: 4.64s\tremaining: 70.7ms\n",
      "197:\ttotal: 4.67s\tremaining: 47.1ms\n",
      "198:\ttotal: 4.69s\tremaining: 23.6ms\n",
      "199:\ttotal: 4.71s\tremaining: 0us\n",
      "0:\ttotal: 23.9ms\tremaining: 4.75s\n",
      "1:\ttotal: 45.2ms\tremaining: 4.47s\n",
      "2:\ttotal: 66.3ms\tremaining: 4.36s\n",
      "3:\ttotal: 88.4ms\tremaining: 4.33s\n",
      "4:\ttotal: 112ms\tremaining: 4.35s\n",
      "5:\ttotal: 134ms\tremaining: 4.33s\n",
      "6:\ttotal: 156ms\tremaining: 4.31s\n",
      "7:\ttotal: 182ms\tremaining: 4.36s\n",
      "8:\ttotal: 203ms\tremaining: 4.32s\n",
      "9:\ttotal: 224ms\tremaining: 4.26s\n",
      "10:\ttotal: 245ms\tremaining: 4.21s\n",
      "11:\ttotal: 266ms\tremaining: 4.17s\n",
      "12:\ttotal: 289ms\tremaining: 4.16s\n",
      "13:\ttotal: 313ms\tremaining: 4.16s\n",
      "14:\ttotal: 332ms\tremaining: 4.1s\n",
      "15:\ttotal: 355ms\tremaining: 4.08s\n",
      "16:\ttotal: 378ms\tremaining: 4.06s\n",
      "17:\ttotal: 399ms\tremaining: 4.04s\n",
      "18:\ttotal: 422ms\tremaining: 4.02s\n",
      "19:\ttotal: 447ms\tremaining: 4.02s\n",
      "20:\ttotal: 469ms\tremaining: 4s\n",
      "21:\ttotal: 494ms\tremaining: 3.99s\n",
      "22:\ttotal: 516ms\tremaining: 3.97s\n",
      "23:\ttotal: 541ms\tremaining: 3.96s\n",
      "24:\ttotal: 561ms\tremaining: 3.93s\n",
      "25:\ttotal: 586ms\tremaining: 3.92s\n",
      "26:\ttotal: 608ms\tremaining: 3.9s\n",
      "27:\ttotal: 635ms\tremaining: 3.9s\n",
      "28:\ttotal: 656ms\tremaining: 3.87s\n",
      "29:\ttotal: 679ms\tremaining: 3.85s\n",
      "30:\ttotal: 702ms\tremaining: 3.83s\n",
      "31:\ttotal: 724ms\tremaining: 3.8s\n",
      "32:\ttotal: 744ms\tremaining: 3.77s\n",
      "33:\ttotal: 766ms\tremaining: 3.74s\n",
      "34:\ttotal: 789ms\tremaining: 3.72s\n",
      "35:\ttotal: 812ms\tremaining: 3.7s\n",
      "36:\ttotal: 833ms\tremaining: 3.67s\n",
      "37:\ttotal: 856ms\tremaining: 3.65s\n",
      "38:\ttotal: 882ms\tremaining: 3.64s\n",
      "39:\ttotal: 903ms\tremaining: 3.61s\n",
      "40:\ttotal: 923ms\tremaining: 3.58s\n",
      "41:\ttotal: 946ms\tremaining: 3.56s\n",
      "42:\ttotal: 966ms\tremaining: 3.53s\n",
      "43:\ttotal: 989ms\tremaining: 3.51s\n",
      "44:\ttotal: 1.01s\tremaining: 3.48s\n",
      "45:\ttotal: 1.03s\tremaining: 3.46s\n",
      "46:\ttotal: 1.05s\tremaining: 3.43s\n",
      "47:\ttotal: 1.08s\tremaining: 3.42s\n",
      "48:\ttotal: 1.1s\tremaining: 3.39s\n",
      "49:\ttotal: 1.13s\tremaining: 3.38s\n",
      "50:\ttotal: 1.15s\tremaining: 3.36s\n",
      "51:\ttotal: 1.17s\tremaining: 3.34s\n",
      "52:\ttotal: 1.2s\tremaining: 3.32s\n",
      "53:\ttotal: 1.22s\tremaining: 3.29s\n",
      "54:\ttotal: 1.25s\tremaining: 3.28s\n",
      "55:\ttotal: 1.27s\tremaining: 3.26s\n",
      "56:\ttotal: 1.29s\tremaining: 3.23s\n",
      "57:\ttotal: 1.31s\tremaining: 3.2s\n",
      "58:\ttotal: 1.33s\tremaining: 3.18s\n",
      "59:\ttotal: 1.36s\tremaining: 3.16s\n",
      "60:\ttotal: 1.38s\tremaining: 3.14s\n",
      "61:\ttotal: 1.4s\tremaining: 3.12s\n",
      "62:\ttotal: 1.42s\tremaining: 3.1s\n",
      "63:\ttotal: 1.45s\tremaining: 3.07s\n",
      "64:\ttotal: 1.47s\tremaining: 3.05s\n",
      "65:\ttotal: 1.49s\tremaining: 3.02s\n",
      "66:\ttotal: 1.51s\tremaining: 3s\n",
      "67:\ttotal: 1.53s\tremaining: 2.97s\n",
      "68:\ttotal: 1.56s\tremaining: 2.96s\n",
      "69:\ttotal: 1.58s\tremaining: 2.93s\n",
      "70:\ttotal: 1.6s\tremaining: 2.91s\n",
      "71:\ttotal: 1.62s\tremaining: 2.88s\n",
      "72:\ttotal: 1.64s\tremaining: 2.86s\n",
      "73:\ttotal: 1.66s\tremaining: 2.83s\n",
      "74:\ttotal: 1.69s\tremaining: 2.81s\n",
      "75:\ttotal: 1.71s\tremaining: 2.79s\n",
      "76:\ttotal: 1.73s\tremaining: 2.76s\n",
      "77:\ttotal: 1.75s\tremaining: 2.74s\n",
      "78:\ttotal: 1.78s\tremaining: 2.73s\n",
      "79:\ttotal: 1.8s\tremaining: 2.7s\n",
      "80:\ttotal: 1.82s\tremaining: 2.68s\n",
      "81:\ttotal: 1.85s\tremaining: 2.66s\n",
      "82:\ttotal: 1.87s\tremaining: 2.64s\n",
      "83:\ttotal: 1.9s\tremaining: 2.62s\n",
      "84:\ttotal: 1.92s\tremaining: 2.59s\n",
      "85:\ttotal: 1.94s\tremaining: 2.57s\n",
      "86:\ttotal: 1.96s\tremaining: 2.55s\n",
      "87:\ttotal: 1.99s\tremaining: 2.53s\n",
      "88:\ttotal: 2.01s\tremaining: 2.51s\n",
      "89:\ttotal: 2.03s\tremaining: 2.48s\n",
      "90:\ttotal: 2.05s\tremaining: 2.46s\n",
      "91:\ttotal: 2.07s\tremaining: 2.44s\n",
      "92:\ttotal: 2.1s\tremaining: 2.41s\n",
      "93:\ttotal: 2.12s\tremaining: 2.39s\n",
      "94:\ttotal: 2.14s\tremaining: 2.37s\n",
      "95:\ttotal: 2.17s\tremaining: 2.35s\n",
      "96:\ttotal: 2.19s\tremaining: 2.32s\n",
      "97:\ttotal: 2.21s\tremaining: 2.3s\n",
      "98:\ttotal: 2.23s\tremaining: 2.28s\n",
      "99:\ttotal: 2.25s\tremaining: 2.25s\n",
      "100:\ttotal: 2.27s\tremaining: 2.23s\n",
      "101:\ttotal: 2.29s\tremaining: 2.2s\n",
      "102:\ttotal: 2.31s\tremaining: 2.18s\n",
      "103:\ttotal: 2.34s\tremaining: 2.16s\n",
      "104:\ttotal: 2.36s\tremaining: 2.13s\n",
      "105:\ttotal: 2.38s\tremaining: 2.11s\n",
      "106:\ttotal: 2.41s\tremaining: 2.09s\n",
      "107:\ttotal: 2.43s\tremaining: 2.07s\n",
      "108:\ttotal: 2.45s\tremaining: 2.05s\n",
      "109:\ttotal: 2.47s\tremaining: 2.02s\n",
      "110:\ttotal: 2.5s\tremaining: 2s\n",
      "111:\ttotal: 2.52s\tremaining: 1.98s\n",
      "112:\ttotal: 2.55s\tremaining: 1.96s\n",
      "113:\ttotal: 2.57s\tremaining: 1.94s\n",
      "114:\ttotal: 2.59s\tremaining: 1.92s\n",
      "115:\ttotal: 2.61s\tremaining: 1.89s\n",
      "116:\ttotal: 2.64s\tremaining: 1.87s\n",
      "117:\ttotal: 2.66s\tremaining: 1.85s\n",
      "118:\ttotal: 2.68s\tremaining: 1.82s\n",
      "119:\ttotal: 2.71s\tremaining: 1.8s\n",
      "120:\ttotal: 2.73s\tremaining: 1.78s\n",
      "121:\ttotal: 2.75s\tremaining: 1.76s\n",
      "122:\ttotal: 2.78s\tremaining: 1.74s\n",
      "123:\ttotal: 2.8s\tremaining: 1.72s\n",
      "124:\ttotal: 2.82s\tremaining: 1.69s\n",
      "125:\ttotal: 2.85s\tremaining: 1.67s\n",
      "126:\ttotal: 2.87s\tremaining: 1.65s\n",
      "127:\ttotal: 2.89s\tremaining: 1.62s\n",
      "128:\ttotal: 2.91s\tremaining: 1.6s\n",
      "129:\ttotal: 2.93s\tremaining: 1.58s\n",
      "130:\ttotal: 2.96s\tremaining: 1.56s\n",
      "131:\ttotal: 2.98s\tremaining: 1.53s\n",
      "132:\ttotal: 3s\tremaining: 1.51s\n",
      "133:\ttotal: 3.03s\tremaining: 1.49s\n",
      "134:\ttotal: 3.05s\tremaining: 1.47s\n",
      "135:\ttotal: 3.07s\tremaining: 1.44s\n",
      "136:\ttotal: 3.09s\tremaining: 1.42s\n",
      "137:\ttotal: 3.12s\tremaining: 1.4s\n",
      "138:\ttotal: 3.15s\tremaining: 1.38s\n",
      "139:\ttotal: 3.17s\tremaining: 1.36s\n",
      "140:\ttotal: 3.19s\tremaining: 1.33s\n",
      "141:\ttotal: 3.21s\tremaining: 1.31s\n",
      "142:\ttotal: 3.23s\tremaining: 1.29s\n",
      "143:\ttotal: 3.25s\tremaining: 1.26s\n",
      "144:\ttotal: 3.27s\tremaining: 1.24s\n",
      "145:\ttotal: 3.3s\tremaining: 1.22s\n",
      "146:\ttotal: 3.32s\tremaining: 1.2s\n",
      "147:\ttotal: 3.34s\tremaining: 1.17s\n",
      "148:\ttotal: 3.36s\tremaining: 1.15s\n",
      "149:\ttotal: 3.39s\tremaining: 1.13s\n",
      "150:\ttotal: 3.41s\tremaining: 1.11s\n",
      "151:\ttotal: 3.43s\tremaining: 1.08s\n",
      "152:\ttotal: 3.45s\tremaining: 1.06s\n",
      "153:\ttotal: 3.48s\tremaining: 1.04s\n",
      "154:\ttotal: 3.5s\tremaining: 1.01s\n",
      "155:\ttotal: 3.52s\tremaining: 994ms\n",
      "156:\ttotal: 3.55s\tremaining: 972ms\n",
      "157:\ttotal: 3.57s\tremaining: 948ms\n",
      "158:\ttotal: 3.59s\tremaining: 925ms\n",
      "159:\ttotal: 3.61s\tremaining: 903ms\n",
      "160:\ttotal: 3.63s\tremaining: 880ms\n",
      "161:\ttotal: 3.66s\tremaining: 858ms\n",
      "162:\ttotal: 3.68s\tremaining: 835ms\n",
      "163:\ttotal: 3.7s\tremaining: 813ms\n",
      "164:\ttotal: 3.73s\tremaining: 791ms\n",
      "165:\ttotal: 3.75s\tremaining: 768ms\n",
      "166:\ttotal: 3.78s\tremaining: 746ms\n",
      "167:\ttotal: 3.8s\tremaining: 724ms\n",
      "168:\ttotal: 3.82s\tremaining: 701ms\n",
      "169:\ttotal: 3.85s\tremaining: 679ms\n",
      "170:\ttotal: 3.87s\tremaining: 657ms\n",
      "171:\ttotal: 3.9s\tremaining: 635ms\n",
      "172:\ttotal: 3.92s\tremaining: 613ms\n",
      "173:\ttotal: 3.95s\tremaining: 590ms\n",
      "174:\ttotal: 3.97s\tremaining: 567ms\n",
      "175:\ttotal: 3.99s\tremaining: 545ms\n",
      "176:\ttotal: 4.02s\tremaining: 522ms\n",
      "177:\ttotal: 4.04s\tremaining: 499ms\n",
      "178:\ttotal: 4.06s\tremaining: 477ms\n",
      "179:\ttotal: 4.08s\tremaining: 454ms\n",
      "180:\ttotal: 4.11s\tremaining: 432ms\n",
      "181:\ttotal: 4.13s\tremaining: 409ms\n",
      "182:\ttotal: 4.16s\tremaining: 386ms\n",
      "183:\ttotal: 4.18s\tremaining: 363ms\n",
      "184:\ttotal: 4.2s\tremaining: 341ms\n",
      "185:\ttotal: 4.23s\tremaining: 318ms\n",
      "186:\ttotal: 4.25s\tremaining: 295ms\n",
      "187:\ttotal: 4.27s\tremaining: 272ms\n",
      "188:\ttotal: 4.29s\tremaining: 250ms\n",
      "189:\ttotal: 4.32s\tremaining: 227ms\n",
      "190:\ttotal: 4.34s\tremaining: 204ms\n",
      "191:\ttotal: 4.36s\tremaining: 182ms\n",
      "192:\ttotal: 4.38s\tremaining: 159ms\n",
      "193:\ttotal: 4.41s\tremaining: 136ms\n",
      "194:\ttotal: 4.43s\tremaining: 114ms\n",
      "195:\ttotal: 4.46s\tremaining: 91ms\n",
      "196:\ttotal: 4.48s\tremaining: 68.2ms\n",
      "197:\ttotal: 4.5s\tremaining: 45.5ms\n",
      "198:\ttotal: 4.53s\tremaining: 22.7ms\n",
      "199:\ttotal: 4.55s\tremaining: 0us\n",
      "0:\ttotal: 24.5ms\tremaining: 4.88s\n",
      "1:\ttotal: 45.1ms\tremaining: 4.47s\n",
      "2:\ttotal: 66.5ms\tremaining: 4.37s\n",
      "3:\ttotal: 88.6ms\tremaining: 4.34s\n",
      "4:\ttotal: 114ms\tremaining: 4.43s\n",
      "5:\ttotal: 135ms\tremaining: 4.35s\n",
      "6:\ttotal: 154ms\tremaining: 4.25s\n",
      "7:\ttotal: 178ms\tremaining: 4.27s\n",
      "8:\ttotal: 203ms\tremaining: 4.3s\n",
      "9:\ttotal: 225ms\tremaining: 4.27s\n",
      "10:\ttotal: 246ms\tremaining: 4.23s\n",
      "11:\ttotal: 268ms\tremaining: 4.19s\n",
      "12:\ttotal: 288ms\tremaining: 4.15s\n",
      "13:\ttotal: 312ms\tremaining: 4.14s\n",
      "14:\ttotal: 336ms\tremaining: 4.15s\n",
      "15:\ttotal: 357ms\tremaining: 4.11s\n",
      "16:\ttotal: 381ms\tremaining: 4.1s\n",
      "17:\ttotal: 402ms\tremaining: 4.06s\n",
      "18:\ttotal: 423ms\tremaining: 4.03s\n",
      "19:\ttotal: 450ms\tremaining: 4.05s\n",
      "20:\ttotal: 475ms\tremaining: 4.04s\n",
      "21:\ttotal: 497ms\tremaining: 4.02s\n",
      "22:\ttotal: 520ms\tremaining: 4s\n",
      "23:\ttotal: 541ms\tremaining: 3.97s\n",
      "24:\ttotal: 562ms\tremaining: 3.93s\n",
      "25:\ttotal: 585ms\tremaining: 3.91s\n"
     ]
    },
    {
     "name": "stdout",
     "output_type": "stream",
     "text": [
      "26:\ttotal: 611ms\tremaining: 3.91s\n",
      "27:\ttotal: 639ms\tremaining: 3.93s\n",
      "28:\ttotal: 660ms\tremaining: 3.89s\n",
      "29:\ttotal: 683ms\tremaining: 3.87s\n",
      "30:\ttotal: 706ms\tremaining: 3.85s\n",
      "31:\ttotal: 725ms\tremaining: 3.81s\n",
      "32:\ttotal: 747ms\tremaining: 3.78s\n",
      "33:\ttotal: 769ms\tremaining: 3.75s\n",
      "34:\ttotal: 791ms\tremaining: 3.73s\n",
      "35:\ttotal: 812ms\tremaining: 3.7s\n",
      "36:\ttotal: 835ms\tremaining: 3.68s\n",
      "37:\ttotal: 858ms\tremaining: 3.66s\n",
      "38:\ttotal: 882ms\tremaining: 3.64s\n",
      "39:\ttotal: 902ms\tremaining: 3.61s\n",
      "40:\ttotal: 926ms\tremaining: 3.59s\n",
      "41:\ttotal: 947ms\tremaining: 3.56s\n",
      "42:\ttotal: 968ms\tremaining: 3.54s\n",
      "43:\ttotal: 993ms\tremaining: 3.52s\n",
      "44:\ttotal: 1.01s\tremaining: 3.5s\n",
      "45:\ttotal: 1.04s\tremaining: 3.47s\n",
      "46:\ttotal: 1.06s\tremaining: 3.45s\n",
      "47:\ttotal: 1.08s\tremaining: 3.42s\n",
      "48:\ttotal: 1.1s\tremaining: 3.4s\n",
      "49:\ttotal: 1.13s\tremaining: 3.39s\n",
      "50:\ttotal: 1.15s\tremaining: 3.37s\n",
      "51:\ttotal: 1.17s\tremaining: 3.34s\n",
      "52:\ttotal: 1.19s\tremaining: 3.31s\n",
      "53:\ttotal: 1.22s\tremaining: 3.29s\n",
      "54:\ttotal: 1.24s\tremaining: 3.27s\n",
      "55:\ttotal: 1.26s\tremaining: 3.25s\n",
      "56:\ttotal: 1.28s\tremaining: 3.22s\n",
      "57:\ttotal: 1.31s\tremaining: 3.21s\n",
      "58:\ttotal: 1.33s\tremaining: 3.18s\n",
      "59:\ttotal: 1.35s\tremaining: 3.15s\n",
      "60:\ttotal: 1.37s\tremaining: 3.13s\n",
      "61:\ttotal: 1.4s\tremaining: 3.11s\n",
      "62:\ttotal: 1.42s\tremaining: 3.08s\n",
      "63:\ttotal: 1.44s\tremaining: 3.06s\n",
      "64:\ttotal: 1.46s\tremaining: 3.03s\n",
      "65:\ttotal: 1.48s\tremaining: 3s\n",
      "66:\ttotal: 1.5s\tremaining: 2.98s\n",
      "67:\ttotal: 1.52s\tremaining: 2.96s\n",
      "68:\ttotal: 1.55s\tremaining: 2.94s\n",
      "69:\ttotal: 1.57s\tremaining: 2.91s\n",
      "70:\ttotal: 1.59s\tremaining: 2.88s\n",
      "71:\ttotal: 1.61s\tremaining: 2.87s\n",
      "72:\ttotal: 1.63s\tremaining: 2.84s\n",
      "73:\ttotal: 1.66s\tremaining: 2.82s\n",
      "74:\ttotal: 1.68s\tremaining: 2.8s\n",
      "75:\ttotal: 1.7s\tremaining: 2.78s\n",
      "76:\ttotal: 1.73s\tremaining: 2.76s\n",
      "77:\ttotal: 1.75s\tremaining: 2.74s\n",
      "78:\ttotal: 1.77s\tremaining: 2.72s\n",
      "79:\ttotal: 1.8s\tremaining: 2.69s\n",
      "80:\ttotal: 1.82s\tremaining: 2.68s\n",
      "81:\ttotal: 1.85s\tremaining: 2.66s\n",
      "82:\ttotal: 1.88s\tremaining: 2.65s\n",
      "83:\ttotal: 1.9s\tremaining: 2.62s\n",
      "84:\ttotal: 1.92s\tremaining: 2.6s\n",
      "85:\ttotal: 1.94s\tremaining: 2.58s\n",
      "86:\ttotal: 1.97s\tremaining: 2.56s\n",
      "87:\ttotal: 1.99s\tremaining: 2.53s\n",
      "88:\ttotal: 2.01s\tremaining: 2.51s\n",
      "89:\ttotal: 2.03s\tremaining: 2.48s\n",
      "90:\ttotal: 2.06s\tremaining: 2.46s\n",
      "91:\ttotal: 2.08s\tremaining: 2.44s\n",
      "92:\ttotal: 2.1s\tremaining: 2.42s\n",
      "93:\ttotal: 2.13s\tremaining: 2.4s\n",
      "94:\ttotal: 2.15s\tremaining: 2.38s\n",
      "95:\ttotal: 2.17s\tremaining: 2.35s\n",
      "96:\ttotal: 2.19s\tremaining: 2.33s\n",
      "97:\ttotal: 2.21s\tremaining: 2.31s\n",
      "98:\ttotal: 2.24s\tremaining: 2.28s\n",
      "99:\ttotal: 2.26s\tremaining: 2.26s\n",
      "100:\ttotal: 2.28s\tremaining: 2.23s\n",
      "101:\ttotal: 2.31s\tremaining: 2.21s\n",
      "102:\ttotal: 2.33s\tremaining: 2.19s\n",
      "103:\ttotal: 2.35s\tremaining: 2.17s\n",
      "104:\ttotal: 2.37s\tremaining: 2.15s\n",
      "105:\ttotal: 2.39s\tremaining: 2.12s\n",
      "106:\ttotal: 2.42s\tremaining: 2.1s\n",
      "107:\ttotal: 2.44s\tremaining: 2.08s\n",
      "108:\ttotal: 2.46s\tremaining: 2.06s\n",
      "109:\ttotal: 2.48s\tremaining: 2.03s\n",
      "110:\ttotal: 2.51s\tremaining: 2.01s\n",
      "111:\ttotal: 2.53s\tremaining: 1.99s\n",
      "112:\ttotal: 2.56s\tremaining: 1.97s\n",
      "113:\ttotal: 2.58s\tremaining: 1.95s\n",
      "114:\ttotal: 2.6s\tremaining: 1.93s\n",
      "115:\ttotal: 2.63s\tremaining: 1.9s\n",
      "116:\ttotal: 2.65s\tremaining: 1.88s\n",
      "117:\ttotal: 2.68s\tremaining: 1.86s\n",
      "118:\ttotal: 2.7s\tremaining: 1.84s\n",
      "119:\ttotal: 2.72s\tremaining: 1.81s\n",
      "120:\ttotal: 2.74s\tremaining: 1.79s\n",
      "121:\ttotal: 2.76s\tremaining: 1.77s\n",
      "122:\ttotal: 2.79s\tremaining: 1.74s\n",
      "123:\ttotal: 2.81s\tremaining: 1.72s\n",
      "124:\ttotal: 2.83s\tremaining: 1.7s\n",
      "125:\ttotal: 2.86s\tremaining: 1.68s\n",
      "126:\ttotal: 2.88s\tremaining: 1.66s\n",
      "127:\ttotal: 2.9s\tremaining: 1.63s\n",
      "128:\ttotal: 2.92s\tremaining: 1.61s\n",
      "129:\ttotal: 2.94s\tremaining: 1.58s\n",
      "130:\ttotal: 2.97s\tremaining: 1.56s\n",
      "131:\ttotal: 2.99s\tremaining: 1.54s\n",
      "132:\ttotal: 3.02s\tremaining: 1.52s\n",
      "133:\ttotal: 3.04s\tremaining: 1.5s\n",
      "134:\ttotal: 3.06s\tremaining: 1.47s\n",
      "135:\ttotal: 3.08s\tremaining: 1.45s\n",
      "136:\ttotal: 3.1s\tremaining: 1.43s\n",
      "137:\ttotal: 3.13s\tremaining: 1.4s\n",
      "138:\ttotal: 3.15s\tremaining: 1.38s\n",
      "139:\ttotal: 3.17s\tremaining: 1.36s\n",
      "140:\ttotal: 3.19s\tremaining: 1.33s\n",
      "141:\ttotal: 3.21s\tremaining: 1.31s\n",
      "142:\ttotal: 3.23s\tremaining: 1.29s\n",
      "143:\ttotal: 3.26s\tremaining: 1.27s\n",
      "144:\ttotal: 3.28s\tremaining: 1.24s\n",
      "145:\ttotal: 3.3s\tremaining: 1.22s\n",
      "146:\ttotal: 3.32s\tremaining: 1.2s\n",
      "147:\ttotal: 3.35s\tremaining: 1.18s\n",
      "148:\ttotal: 3.37s\tremaining: 1.15s\n",
      "149:\ttotal: 3.39s\tremaining: 1.13s\n",
      "150:\ttotal: 3.41s\tremaining: 1.11s\n",
      "151:\ttotal: 3.43s\tremaining: 1.08s\n",
      "152:\ttotal: 3.46s\tremaining: 1.06s\n",
      "153:\ttotal: 3.48s\tremaining: 1.04s\n",
      "154:\ttotal: 3.5s\tremaining: 1.02s\n",
      "155:\ttotal: 3.52s\tremaining: 994ms\n",
      "156:\ttotal: 3.55s\tremaining: 971ms\n",
      "157:\ttotal: 3.57s\tremaining: 948ms\n",
      "158:\ttotal: 3.59s\tremaining: 926ms\n",
      "159:\ttotal: 3.61s\tremaining: 903ms\n",
      "160:\ttotal: 3.63s\tremaining: 880ms\n",
      "161:\ttotal: 3.66s\tremaining: 858ms\n",
      "162:\ttotal: 3.68s\tremaining: 835ms\n",
      "163:\ttotal: 3.7s\tremaining: 813ms\n",
      "164:\ttotal: 3.73s\tremaining: 790ms\n",
      "165:\ttotal: 3.75s\tremaining: 768ms\n",
      "166:\ttotal: 3.77s\tremaining: 745ms\n",
      "167:\ttotal: 3.79s\tremaining: 723ms\n",
      "168:\ttotal: 3.82s\tremaining: 700ms\n",
      "169:\ttotal: 3.84s\tremaining: 678ms\n",
      "170:\ttotal: 3.86s\tremaining: 655ms\n",
      "171:\ttotal: 3.88s\tremaining: 632ms\n",
      "172:\ttotal: 3.9s\tremaining: 610ms\n",
      "173:\ttotal: 3.93s\tremaining: 587ms\n",
      "174:\ttotal: 3.95s\tremaining: 564ms\n",
      "175:\ttotal: 3.98s\tremaining: 542ms\n",
      "176:\ttotal: 4s\tremaining: 520ms\n",
      "177:\ttotal: 4.02s\tremaining: 497ms\n",
      "178:\ttotal: 4.04s\tremaining: 474ms\n",
      "179:\ttotal: 4.07s\tremaining: 452ms\n",
      "180:\ttotal: 4.09s\tremaining: 429ms\n",
      "181:\ttotal: 4.12s\tremaining: 407ms\n",
      "182:\ttotal: 4.14s\tremaining: 384ms\n",
      "183:\ttotal: 4.16s\tremaining: 362ms\n",
      "184:\ttotal: 4.18s\tremaining: 339ms\n",
      "185:\ttotal: 4.21s\tremaining: 317ms\n",
      "186:\ttotal: 4.23s\tremaining: 294ms\n",
      "187:\ttotal: 4.25s\tremaining: 271ms\n",
      "188:\ttotal: 4.27s\tremaining: 249ms\n",
      "189:\ttotal: 4.29s\tremaining: 226ms\n",
      "190:\ttotal: 4.32s\tremaining: 203ms\n",
      "191:\ttotal: 4.34s\tremaining: 181ms\n",
      "192:\ttotal: 4.36s\tremaining: 158ms\n",
      "193:\ttotal: 4.39s\tremaining: 136ms\n",
      "194:\ttotal: 4.41s\tremaining: 113ms\n",
      "195:\ttotal: 4.43s\tremaining: 90.5ms\n",
      "196:\ttotal: 4.46s\tremaining: 67.9ms\n",
      "197:\ttotal: 4.48s\tremaining: 45.3ms\n",
      "198:\ttotal: 4.51s\tremaining: 22.6ms\n",
      "199:\ttotal: 4.53s\tremaining: 0us\n"
     ]
    }
   ],
   "source": [
    "xg_oof_train, xg_oof_test = get_oof(xg)\n",
    "et_oof_train, et_oof_test = get_oof(et)\n",
    "rf_oof_train, rf_oof_test = get_oof(rf)\n",
    "cb_oof_train, cb_oof_test = get_oof(cb)"
   ]
  },
  {
   "cell_type": "code",
   "execution_count": 24,
   "metadata": {
    "ExecuteTime": {
     "end_time": "2021-02-02T13:12:29.973477Z",
     "start_time": "2021-02-02T13:12:29.949456Z"
    }
   },
   "outputs": [
    {
     "name": "stdout",
     "output_type": "stream",
     "text": [
      "XG-CV: 0.25969546149690725\n",
      "XG-CV: 0.25969546149690725\n",
      "XG-CV: 0.25969546149690725\n",
      "XG-CV: 0.25969546149690725\n"
     ]
    }
   ],
   "source": [
    "print('XG-CV: {}'.format(sqrt(mean_squared_error(y_train, xg_oof_train))))\n",
    "print('XG-CV: {}'.format(sqrt(mean_squared_error(y_train, xg_oof_train))))\n",
    "print('XG-CV: {}'.format(sqrt(mean_squared_error(y_train, xg_oof_train))))\n",
    "print('XG-CV: {}'.format(sqrt(mean_squared_error(y_train, xg_oof_train))))"
   ]
  },
  {
   "cell_type": "code",
   "execution_count": 25,
   "metadata": {
    "ExecuteTime": {
     "end_time": "2021-02-02T13:12:32.276571Z",
     "start_time": "2021-02-02T13:12:32.247544Z"
    }
   },
   "outputs": [],
   "source": [
    "x_train = np.concatenate((xg_oof_train, et_oof_train, rf_oof_train, cb_oof_train), axis=1)\n",
    "x_test = np.concatenate((xg_oof_test, et_oof_test, rf_oof_test, cb_oof_test), axis=1)"
   ]
  },
  {
   "cell_type": "code",
   "execution_count": 26,
   "metadata": {
    "ExecuteTime": {
     "end_time": "2021-02-02T13:12:34.178299Z",
     "start_time": "2021-02-02T13:12:34.167289Z"
    }
   },
   "outputs": [
    {
     "name": "stdout",
     "output_type": "stream",
     "text": [
      "(307511, 4), (48744, 4)\n"
     ]
    }
   ],
   "source": [
    "print('{}, {}'.format(x_train.shape, x_test.shape))"
   ]
  },
  {
   "cell_type": "code",
   "execution_count": 27,
   "metadata": {
    "ExecuteTime": {
     "end_time": "2021-02-02T13:12:36.017971Z",
     "start_time": "2021-02-02T13:12:35.488490Z"
    }
   },
   "outputs": [
    {
     "data": {
      "text/plain": [
       "LogisticRegression()"
      ]
     },
     "execution_count": 27,
     "metadata": {},
     "output_type": "execute_result"
    }
   ],
   "source": [
    "logistic_regression = LogisticRegression()\n",
    "logistic_regression.fit(x_train, y_train)"
   ]
  },
  {
   "cell_type": "code",
   "execution_count": 28,
   "metadata": {
    "ExecuteTime": {
     "end_time": "2021-02-02T13:12:36.751638Z",
     "start_time": "2021-02-02T13:12:36.737625Z"
    }
   },
   "outputs": [],
   "source": [
    "test['TARGET'] = logistic_regression.predict_proba(x_test)[:,1]"
   ]
  },
  {
   "cell_type": "code",
   "execution_count": 29,
   "metadata": {
    "ExecuteTime": {
     "end_time": "2021-02-02T13:12:37.727525Z",
     "start_time": "2021-02-02T13:12:37.597406Z"
    }
   },
   "outputs": [],
   "source": [
    "test[['SK_ID_CURR', 'TARGET']].to_csv('first_submission.csv', index=False, float_format='%.8f')"
   ]
  }
 ],
 "metadata": {
  "kernelspec": {
   "display_name": "Python 3",
   "language": "python",
   "name": "python3"
  },
  "language_info": {
   "codemirror_mode": {
    "name": "ipython",
    "version": 3
   },
   "file_extension": ".py",
   "mimetype": "text/x-python",
   "name": "python",
   "nbconvert_exporter": "python",
   "pygments_lexer": "ipython3",
   "version": "3.8.5"
  },
  "toc": {
   "base_numbering": 1,
   "nav_menu": {},
   "number_sections": false,
   "sideBar": true,
   "skip_h1_title": false,
   "title_cell": "Table of Contents",
   "title_sidebar": "Contents",
   "toc_cell": false,
   "toc_position": {},
   "toc_section_display": true,
   "toc_window_display": false
  },
  "varInspector": {
   "cols": {
    "lenName": 16,
    "lenType": 16,
    "lenVar": 40
   },
   "kernels_config": {
    "python": {
     "delete_cmd_postfix": "",
     "delete_cmd_prefix": "del ",
     "library": "var_list.py",
     "varRefreshCmd": "print(var_dic_list())"
    },
    "r": {
     "delete_cmd_postfix": ") ",
     "delete_cmd_prefix": "rm(",
     "library": "var_list.r",
     "varRefreshCmd": "cat(var_dic_list()) "
    }
   },
   "types_to_exclude": [
    "module",
    "function",
    "builtin_function_or_method",
    "instance",
    "_Feature"
   ],
   "window_display": false
  }
 },
 "nbformat": 4,
 "nbformat_minor": 4
}
