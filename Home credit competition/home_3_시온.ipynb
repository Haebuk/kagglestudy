{
 "cells": [
  {
   "cell_type": "markdown",
   "id": "incorporate-funds",
   "metadata": {},
   "source": [
    "# Stacking Test-Sklearn, XGBoost, CatBoost, LightGBM"
   ]
  },
  {
   "cell_type": "markdown",
   "id": "standing-tower",
   "metadata": {},
   "source": [
    "참고 : https://www.kaggle.com/eliotbarr/stacking-test-sklearn-xgboost-catboost-lightgbm/code"
   ]
  },
  {
   "cell_type": "code",
   "execution_count": 1,
   "id": "affiliated-franklin",
   "metadata": {
    "ExecuteTime": {
     "end_time": "2021-02-02T09:50:19.154010Z",
     "start_time": "2021-02-02T09:50:11.724678Z"
    }
   },
   "outputs": [],
   "source": [
    "import pandas as pd\n",
    "import numpy as np\n",
    "from scipy.stats import skew\n",
    "\n",
    "import xgboost as xgb\n",
    "from sklearn.model_selection import KFold\n",
    "from sklearn.ensemble import ExtraTreesClassifier\n",
    "from sklearn.ensemble import RandomForestClassifier\n",
    "from sklearn.metrics import mean_squared_error\n",
    "from sklearn.linear_model import LogisticRegression\n",
    "\n",
    "from math import sqrt\n",
    "from sklearn.metrics import roc_auc_score\n",
    "from sklearn.model_selection import KFold\n",
    "from catboost import CatBoostClassifier\n",
    "from lightgbm import LGBMClassifier\n",
    "import gc\n",
    "\n",
    "NFOLDS = 3\n",
    "SEED = 0\n",
    "NROWS = None"
   ]
  },
  {
   "cell_type": "code",
   "execution_count": 2,
   "id": "coordinated-thomas",
   "metadata": {
    "ExecuteTime": {
     "end_time": "2021-02-02T09:50:33.929440Z",
     "start_time": "2021-02-02T09:50:19.155949Z"
    }
   },
   "outputs": [],
   "source": [
    "data = pd.read_csv('../input/application_train.csv')\n",
    "test = pd.read_csv('../input/application_test.csv')\n",
    "prev = pd.read_csv('../input/previous_application.csv')"
   ]
  },
  {
   "cell_type": "code",
   "execution_count": 3,
   "id": "scientific-worst",
   "metadata": {
    "ExecuteTime": {
     "end_time": "2021-02-02T09:50:34.777188Z",
     "start_time": "2021-02-02T09:50:33.932432Z"
    }
   },
   "outputs": [],
   "source": [
    "categorical_feats = [f for f in data.columns if data[f].dtype == 'object']\n",
    "\n",
    "for f_ in categorical_feats:\n",
    "    data[f_], indexer = pd.factorize(data[f_])  # 범주를 정수로 인코딩\n",
    "    test[f_] = indexer.get_indexer(test[f_])  # indexer에서 test[f_]의 인덱스를 찾음. 없으면 -1 반환    "
   ]
  },
  {
   "cell_type": "code",
   "execution_count": 4,
   "id": "centered-fever",
   "metadata": {
    "ExecuteTime": {
     "end_time": "2021-02-02T09:50:34.809176Z",
     "start_time": "2021-02-02T09:50:34.779190Z"
    }
   },
   "outputs": [],
   "source": [
    "gc.enable()\n",
    "\n",
    "y_train = data['TARGET']\n",
    "del data['TARGET']"
   ]
  },
  {
   "cell_type": "code",
   "execution_count": 5,
   "id": "occasional-system",
   "metadata": {
    "ExecuteTime": {
     "end_time": "2021-02-02T09:50:37.769194Z",
     "start_time": "2021-02-02T09:50:34.811104Z"
    }
   },
   "outputs": [],
   "source": [
    "# 팩터화된 범주 평균화\n",
    "prev_cat_features = [f_ for f_ in prev.columns if prev[f_].dtype == 'object']\n",
    "\n",
    "for f_ in prev_cat_features :\n",
    "    prev[f_], _ = pd.factorize(prev[f_])  # 범주를 정수로 인코딩"
   ]
  },
  {
   "cell_type": "code",
   "execution_count": 6,
   "id": "patient-resistance",
   "metadata": {
    "ExecuteTime": {
     "end_time": "2021-02-02T09:50:40.511805Z",
     "start_time": "2021-02-02T09:50:37.773184Z"
    }
   },
   "outputs": [],
   "source": [
    "avg_prev = prev.groupby('SK_ID_CURR').mean()  # id별 평균\n",
    "cnt_prev = prev[['SK_ID_CURR','SK_ID_PREV']].groupby('SK_ID_CURR').count() # id별 개수\n",
    "avg_prev['nb_app'] = cnt_prev['SK_ID_PREV']  # prev id 추가\n",
    "del avg_prev['SK_ID_PREV']"
   ]
  },
  {
   "cell_type": "code",
   "execution_count": 7,
   "id": "protected-discipline",
   "metadata": {
    "ExecuteTime": {
     "end_time": "2021-02-02T09:50:42.523144Z",
     "start_time": "2021-02-02T09:50:40.514452Z"
    }
   },
   "outputs": [],
   "source": [
    "# id로 train, test 데이터와 avg_prev 병합\n",
    "x_train = data.merge(right=avg_prev.reset_index(), how='left', on='SK_ID_CURR')\n",
    "x_test = test.merge(right=avg_prev.reset_index(), how='left', on='SK_ID_CURR')"
   ]
  },
  {
   "cell_type": "code",
   "execution_count": 8,
   "id": "alternative-angle",
   "metadata": {
    "ExecuteTime": {
     "end_time": "2021-02-02T09:50:43.198323Z",
     "start_time": "2021-02-02T09:50:42.525124Z"
    }
   },
   "outputs": [],
   "source": [
    "# 결측값 0으로 대체\n",
    "x_train = x_train.fillna(0)\n",
    "x_test = x_test.fillna(0)"
   ]
  },
  {
   "cell_type": "code",
   "execution_count": 9,
   "id": "threaded-shift",
   "metadata": {
    "ExecuteTime": {
     "end_time": "2021-02-02T09:50:43.214282Z",
     "start_time": "2021-02-02T09:50:43.202313Z"
    }
   },
   "outputs": [],
   "source": [
    "# train, test 데이터셋 크기\n",
    "ntrain = x_train.shape[0]\n",
    "ntest = x_test.shape[0]"
   ]
  },
  {
   "cell_type": "code",
   "execution_count": 10,
   "id": "hired-subscription",
   "metadata": {
    "ExecuteTime": {
     "end_time": "2021-02-02T09:50:43.402776Z",
     "start_time": "2021-02-02T09:50:43.222260Z"
    }
   },
   "outputs": [],
   "source": [
    "excluded_feats = ['SK_ID_CURR']\n",
    "features = [f_ for f_ in x_train.columns if f_ not in excluded_feats]  # id 아닌 변수\n",
    "\n",
    "x_train = x_train[features]  # id 아닌 변수를 갖는 데이터\n",
    "x_test = x_test[features]"
   ]
  },
  {
   "cell_type": "code",
   "execution_count": 11,
   "id": "further-testimony",
   "metadata": {
    "ExecuteTime": {
     "end_time": "2021-02-02T09:50:43.417737Z",
     "start_time": "2021-02-02T09:50:43.405769Z"
    }
   },
   "outputs": [],
   "source": [
    "kf = KFold(n_splits=NFOLDS, shuffle=True, random_state=SEED)"
   ]
  },
  {
   "cell_type": "code",
   "execution_count": 12,
   "id": "proper-arthur",
   "metadata": {
    "ExecuteTime": {
     "end_time": "2021-02-02T09:50:43.433695Z",
     "start_time": "2021-02-02T09:50:43.420729Z"
    }
   },
   "outputs": [],
   "source": [
    "# 분류기 학습 및 예측하는 클래스\n",
    "\n",
    "class SklearnWrapper(object):\n",
    "    def __init__(self, clf, seed=0, params=None):\n",
    "        params['random_state'] = seed\n",
    "        self.clf = clf(**params)\n",
    "        \n",
    "    def train(self, x_train, y_train):\n",
    "        self.clf.fit(x_train, y_train)\n",
    "        \n",
    "    def predict(self, x):\n",
    "        return self.clf.predict_proba(x)[:,1]"
   ]
  },
  {
   "cell_type": "code",
   "execution_count": 13,
   "id": "oriented-czech",
   "metadata": {
    "ExecuteTime": {
     "end_time": "2021-02-02T09:50:43.449651Z",
     "start_time": "2021-02-02T09:50:43.436687Z"
    }
   },
   "outputs": [],
   "source": [
    "# catboost 학습 및 예측하는 클래스\n",
    "\n",
    "class CatboostWrapper(object):\n",
    "    def __init__(self, clf, seed=0, params=None):\n",
    "        params['random_seed'] = seed\n",
    "        self.clf = clf(**params)\n",
    "        \n",
    "    def train(self, x_train, y_train):\n",
    "        self.clf.fit(x_train, y_train)\n",
    "        \n",
    "    def predict(self, x):\n",
    "        return self.clf.predict_proba(x)[:,1]"
   ]
  },
  {
   "cell_type": "code",
   "execution_count": 14,
   "id": "enhanced-lodge",
   "metadata": {
    "ExecuteTime": {
     "end_time": "2021-02-02T09:50:43.480569Z",
     "start_time": "2021-02-02T09:50:43.454638Z"
    }
   },
   "outputs": [],
   "source": [
    "# LightGBM 학습 및 예측하는 클래스\n",
    "\n",
    "class LightGBMWrapper(object):\n",
    "    def __init__(self, clf, seed=0, params=None):\n",
    "        params['feature_fraction_seed'] = seed\n",
    "        params['bagging_seed'] = seed\n",
    "        self.clf = clf(**params)\n",
    "        \n",
    "    def train(self, x_train, y_train):\n",
    "        self.clf.fit(x_train, y_train)\n",
    "        \n",
    "    def predict(self, x):\n",
    "        return self.clf.predict_proba(x)[:,1]"
   ]
  },
  {
   "cell_type": "code",
   "execution_count": 15,
   "id": "piano-reservoir",
   "metadata": {
    "ExecuteTime": {
     "end_time": "2021-02-02T09:50:43.495528Z",
     "start_time": "2021-02-02T09:50:43.483561Z"
    }
   },
   "outputs": [],
   "source": [
    "# XGBoost 학습 및 예측하는 클래스\n",
    "\n",
    "class XgbWrapper(object):\n",
    "    def __init__(self, seed=0, params=None):\n",
    "        self.param = params\n",
    "        self.param['seed'] = seed\n",
    "        self.nrounds = params.pop('nrounds',250)  # params 딕셔너리에서 'nrounds'와 해당값 삭제\n",
    "                                                  # 250은 pop의 디폴트값으로 특정 키가 설정되지 않으면 반환할 값\n",
    "    def train(self, x_train, y_train):\n",
    "        dtrain = xgb.DMatrix(x_train, label=y_train)\n",
    "        self.gbdt = xgb.train(self.param, dtrain, self.nrounds)\n",
    "        \n",
    "    def predict(self, x):\n",
    "        return self.gbdt.predict(xgb.DMatrix(x))"
   ]
  },
  {
   "cell_type": "code",
   "execution_count": 16,
   "id": "rising-craps",
   "metadata": {
    "ExecuteTime": {
     "end_time": "2021-02-02T09:50:43.530436Z",
     "start_time": "2021-02-02T09:50:43.498521Z"
    }
   },
   "outputs": [],
   "source": [
    "# 객제지향함수 생성 - 해당 분류기(clf)로 학습 및 예측\n",
    "def get_oof(clf):\n",
    "    oof_train = np.zeros((ntrain,))\n",
    "    oof_test = np.zeros((ntest,))\n",
    "    oof_test_skf = np.empty((NFOLDS, ntest))  # np.empty : NFOLDS행 ntest크기 열로 array 생성\n",
    "    \n",
    "    for i, (train_index, test_index) in enumerate(kf.split(x_train)):\n",
    "        x_tr = x_train.loc[train_index]\n",
    "        y_tr = y_train.loc[train_index]\n",
    "        x_te = x_train.loc[test_index]\n",
    "        \n",
    "        clf.train(x_tr, y_tr)\n",
    "\n",
    "        oof_train[test_index] = clf.predict(x_te)\n",
    "        oof_test_skf[i, :] = clf.predict(x_test)\n",
    "        \n",
    "    oof_test[:] = oof_test_skf.mean(axis=0)\n",
    "    \n",
    "    return oof_train.reshape(-1,1), oof_test.reshape(-1,1)"
   ]
  },
  {
   "cell_type": "code",
   "execution_count": 17,
   "id": "distinguished-facing",
   "metadata": {
    "ExecuteTime": {
     "end_time": "2021-02-02T09:50:43.558361Z",
     "start_time": "2021-02-02T09:50:43.536420Z"
    }
   },
   "outputs": [],
   "source": [
    "# 파라미터 설정\n",
    "et_params = {'n_estimators':200,'max_features':0.5,'max_depth':12,'min_samples_leaf':2,}\n",
    "rf_params = {'n_estimators':200,'max_features':0.2,'max_depth':12,'min_samples_leaf':2,}\n",
    "xgb_params = {'seed':0,'colsample_bytree':0.7,'subsample':0.7,'learning_rate':0.075,'objective':'binary:logistic','eval_metric':'logloss','max_depth':4,'num_parallel_tree':1,'min_child_weight':1,'nrounds':200}\n",
    "catboost_params = {'iterations':200,'learning_rate':0.5,'depth':3,'l2_leaf_reg':40,'bootstrap_type':'Bernoulli','subsample':0.7,'scale_pos_weight':5,'eval_metric':'AUC','od_type':'Iter','allow_writing_files':False}\n",
    "lightgbm_params = {'n_estimators':200,'learning_rate':0.1,'num_leaves':123,'colsample_bytree':0.8,'subsample':0.9,'max_depth':15,'reg_alpha':0.1,'reg_lambda':0.1,'min_split_gain':0.01,'min_child_weight':2  }"
   ]
  },
  {
   "cell_type": "code",
   "execution_count": 18,
   "id": "right-explanation",
   "metadata": {
    "ExecuteTime": {
     "end_time": "2021-02-02T09:50:43.573329Z",
     "start_time": "2021-02-02T09:50:43.563347Z"
    }
   },
   "outputs": [],
   "source": [
    "# 클래스 이용해 분류기 학습 및 예측\n",
    "xg = XgbWrapper(seed=SEED, params=xgb_params)\n",
    "et = SklearnWrapper(clf=ExtraTreesClassifier, seed=SEED, params=et_params)\n",
    "rf = SklearnWrapper(clf=RandomForestClassifier, seed=SEED, params=rf_params)\n",
    "cb = CatboostWrapper(clf=CatBoostClassifier, seed=SEED, params=catboost_params)\n",
    "lg = LightGBMWrapper(clf=LGBMClassifier, seed=SEED, params=lightgbm_params)"
   ]
  },
  {
   "cell_type": "code",
   "execution_count": 19,
   "id": "palestinian-guyana",
   "metadata": {
    "ExecuteTime": {
     "end_time": "2021-02-02T10:45:16.748167Z",
     "start_time": "2021-02-02T09:50:43.577310Z"
    }
   },
   "outputs": [
    {
     "name": "stdout",
     "output_type": "stream",
     "text": [
      "0:\ttotal: 287ms\tremaining: 57.2s\n",
      "1:\ttotal: 410ms\tremaining: 40.6s\n",
      "2:\ttotal: 517ms\tremaining: 33.9s\n",
      "3:\ttotal: 684ms\tremaining: 33.5s\n",
      "4:\ttotal: 849ms\tremaining: 33.1s\n",
      "5:\ttotal: 1.05s\tremaining: 34s\n",
      "6:\ttotal: 1.24s\tremaining: 34.1s\n",
      "7:\ttotal: 1.37s\tremaining: 32.9s\n",
      "8:\ttotal: 1.52s\tremaining: 32.3s\n",
      "9:\ttotal: 1.66s\tremaining: 31.5s\n",
      "10:\ttotal: 1.79s\tremaining: 30.8s\n",
      "11:\ttotal: 1.93s\tremaining: 30.2s\n",
      "12:\ttotal: 2.08s\tremaining: 30s\n",
      "13:\ttotal: 2.24s\tremaining: 29.8s\n",
      "14:\ttotal: 2.42s\tremaining: 29.9s\n",
      "15:\ttotal: 2.58s\tremaining: 29.7s\n",
      "16:\ttotal: 2.73s\tremaining: 29.4s\n",
      "17:\ttotal: 2.9s\tremaining: 29.3s\n",
      "18:\ttotal: 3.03s\tremaining: 28.9s\n",
      "19:\ttotal: 3.19s\tremaining: 28.7s\n",
      "20:\ttotal: 3.33s\tremaining: 28.4s\n",
      "21:\ttotal: 3.47s\tremaining: 28.1s\n",
      "22:\ttotal: 3.6s\tremaining: 27.7s\n",
      "23:\ttotal: 3.75s\tremaining: 27.5s\n",
      "24:\ttotal: 3.88s\tremaining: 27.2s\n",
      "25:\ttotal: 4.02s\tremaining: 26.9s\n",
      "26:\ttotal: 4.17s\tremaining: 26.7s\n",
      "27:\ttotal: 4.39s\tremaining: 27s\n",
      "28:\ttotal: 4.6s\tremaining: 27.1s\n",
      "29:\ttotal: 4.74s\tremaining: 26.9s\n",
      "30:\ttotal: 4.89s\tremaining: 26.7s\n",
      "31:\ttotal: 5.01s\tremaining: 26.3s\n",
      "32:\ttotal: 5.13s\tremaining: 26s\n",
      "33:\ttotal: 5.25s\tremaining: 25.6s\n",
      "34:\ttotal: 5.36s\tremaining: 25.3s\n",
      "35:\ttotal: 5.51s\tremaining: 25.1s\n",
      "36:\ttotal: 5.64s\tremaining: 24.9s\n",
      "37:\ttotal: 5.78s\tremaining: 24.6s\n",
      "38:\ttotal: 5.97s\tremaining: 24.7s\n",
      "39:\ttotal: 6.13s\tremaining: 24.5s\n",
      "40:\ttotal: 6.28s\tremaining: 24.3s\n",
      "41:\ttotal: 6.44s\tremaining: 24.2s\n",
      "42:\ttotal: 6.63s\tremaining: 24.2s\n",
      "43:\ttotal: 6.78s\tremaining: 24s\n",
      "44:\ttotal: 6.94s\tremaining: 23.9s\n",
      "45:\ttotal: 7.08s\tremaining: 23.7s\n",
      "46:\ttotal: 7.22s\tremaining: 23.5s\n",
      "47:\ttotal: 7.36s\tremaining: 23.3s\n",
      "48:\ttotal: 7.48s\tremaining: 23s\n",
      "49:\ttotal: 7.63s\tremaining: 22.9s\n",
      "50:\ttotal: 7.86s\tremaining: 23s\n",
      "51:\ttotal: 8.03s\tremaining: 22.9s\n",
      "52:\ttotal: 8.19s\tremaining: 22.7s\n",
      "53:\ttotal: 8.33s\tremaining: 22.5s\n",
      "54:\ttotal: 8.47s\tremaining: 22.3s\n",
      "55:\ttotal: 8.63s\tremaining: 22.2s\n",
      "56:\ttotal: 8.76s\tremaining: 22s\n",
      "57:\ttotal: 8.91s\tremaining: 21.8s\n",
      "58:\ttotal: 9.06s\tremaining: 21.6s\n",
      "59:\ttotal: 9.19s\tremaining: 21.4s\n",
      "60:\ttotal: 9.34s\tremaining: 21.3s\n",
      "61:\ttotal: 9.46s\tremaining: 21.1s\n",
      "62:\ttotal: 9.62s\tremaining: 20.9s\n",
      "63:\ttotal: 9.8s\tremaining: 20.8s\n",
      "64:\ttotal: 9.97s\tremaining: 20.7s\n",
      "65:\ttotal: 10.1s\tremaining: 20.6s\n",
      "66:\ttotal: 10.3s\tremaining: 20.4s\n",
      "67:\ttotal: 10.4s\tremaining: 20.2s\n",
      "68:\ttotal: 10.6s\tremaining: 20s\n",
      "69:\ttotal: 10.7s\tremaining: 19.8s\n",
      "70:\ttotal: 10.8s\tremaining: 19.6s\n",
      "71:\ttotal: 10.9s\tremaining: 19.5s\n",
      "72:\ttotal: 11.2s\tremaining: 19.5s\n",
      "73:\ttotal: 11.4s\tremaining: 19.4s\n",
      "74:\ttotal: 11.5s\tremaining: 19.2s\n",
      "75:\ttotal: 11.6s\tremaining: 19s\n",
      "76:\ttotal: 11.8s\tremaining: 18.9s\n",
      "77:\ttotal: 12s\tremaining: 18.7s\n",
      "78:\ttotal: 12.1s\tremaining: 18.5s\n",
      "79:\ttotal: 12.2s\tremaining: 18.4s\n",
      "80:\ttotal: 12.4s\tremaining: 18.2s\n",
      "81:\ttotal: 12.5s\tremaining: 18s\n",
      "82:\ttotal: 12.7s\tremaining: 17.9s\n",
      "83:\ttotal: 12.8s\tremaining: 17.7s\n",
      "84:\ttotal: 13s\tremaining: 17.5s\n",
      "85:\ttotal: 13.1s\tremaining: 17.4s\n",
      "86:\ttotal: 13.3s\tremaining: 17.3s\n",
      "87:\ttotal: 13.5s\tremaining: 17.1s\n",
      "88:\ttotal: 13.6s\tremaining: 17s\n",
      "89:\ttotal: 13.8s\tremaining: 16.8s\n",
      "90:\ttotal: 13.9s\tremaining: 16.7s\n",
      "91:\ttotal: 14.1s\tremaining: 16.5s\n",
      "92:\ttotal: 14.2s\tremaining: 16.3s\n",
      "93:\ttotal: 14.3s\tremaining: 16.2s\n",
      "94:\ttotal: 14.6s\tremaining: 16.1s\n",
      "95:\ttotal: 14.8s\tremaining: 16s\n",
      "96:\ttotal: 14.9s\tremaining: 15.8s\n",
      "97:\ttotal: 15.1s\tremaining: 15.7s\n",
      "98:\ttotal: 15.2s\tremaining: 15.5s\n",
      "99:\ttotal: 15.3s\tremaining: 15.3s\n",
      "100:\ttotal: 15.5s\tremaining: 15.2s\n",
      "101:\ttotal: 15.6s\tremaining: 15s\n",
      "102:\ttotal: 15.8s\tremaining: 14.9s\n",
      "103:\ttotal: 15.9s\tremaining: 14.7s\n",
      "104:\ttotal: 16s\tremaining: 14.5s\n",
      "105:\ttotal: 16.2s\tremaining: 14.3s\n",
      "106:\ttotal: 16.3s\tremaining: 14.2s\n",
      "107:\ttotal: 16.4s\tremaining: 14s\n",
      "108:\ttotal: 16.6s\tremaining: 13.8s\n",
      "109:\ttotal: 16.7s\tremaining: 13.7s\n",
      "110:\ttotal: 16.9s\tremaining: 13.6s\n",
      "111:\ttotal: 17.1s\tremaining: 13.5s\n",
      "112:\ttotal: 17.3s\tremaining: 13.3s\n",
      "113:\ttotal: 17.4s\tremaining: 13.2s\n",
      "114:\ttotal: 17.6s\tremaining: 13s\n",
      "115:\ttotal: 17.7s\tremaining: 12.8s\n",
      "116:\ttotal: 17.9s\tremaining: 12.7s\n",
      "117:\ttotal: 18.2s\tremaining: 12.6s\n",
      "118:\ttotal: 18.4s\tremaining: 12.5s\n",
      "119:\ttotal: 18.5s\tremaining: 12.3s\n",
      "120:\ttotal: 18.7s\tremaining: 12.2s\n",
      "121:\ttotal: 18.8s\tremaining: 12s\n",
      "122:\ttotal: 19s\tremaining: 11.9s\n",
      "123:\ttotal: 19.1s\tremaining: 11.7s\n",
      "124:\ttotal: 19.2s\tremaining: 11.5s\n",
      "125:\ttotal: 19.4s\tremaining: 11.4s\n",
      "126:\ttotal: 19.6s\tremaining: 11.2s\n",
      "127:\ttotal: 19.7s\tremaining: 11.1s\n",
      "128:\ttotal: 19.8s\tremaining: 10.9s\n",
      "129:\ttotal: 19.9s\tremaining: 10.7s\n",
      "130:\ttotal: 20.1s\tremaining: 10.6s\n",
      "131:\ttotal: 20.2s\tremaining: 10.4s\n",
      "132:\ttotal: 20.4s\tremaining: 10.3s\n",
      "133:\ttotal: 20.5s\tremaining: 10.1s\n",
      "134:\ttotal: 20.7s\tremaining: 9.95s\n",
      "135:\ttotal: 20.9s\tremaining: 9.83s\n",
      "136:\ttotal: 21s\tremaining: 9.66s\n",
      "137:\ttotal: 21.2s\tremaining: 9.51s\n",
      "138:\ttotal: 21.3s\tremaining: 9.37s\n",
      "139:\ttotal: 21.5s\tremaining: 9.23s\n",
      "140:\ttotal: 21.7s\tremaining: 9.09s\n",
      "141:\ttotal: 21.8s\tremaining: 8.92s\n",
      "142:\ttotal: 22s\tremaining: 8.76s\n",
      "143:\ttotal: 22.1s\tremaining: 8.6s\n",
      "144:\ttotal: 22.3s\tremaining: 8.44s\n",
      "145:\ttotal: 22.4s\tremaining: 8.29s\n",
      "146:\ttotal: 22.5s\tremaining: 8.12s\n",
      "147:\ttotal: 22.7s\tremaining: 7.96s\n",
      "148:\ttotal: 22.8s\tremaining: 7.8s\n",
      "149:\ttotal: 22.9s\tremaining: 7.64s\n",
      "150:\ttotal: 23s\tremaining: 7.47s\n",
      "151:\ttotal: 23.2s\tremaining: 7.32s\n",
      "152:\ttotal: 23.3s\tremaining: 7.16s\n",
      "153:\ttotal: 23.4s\tremaining: 7s\n",
      "154:\ttotal: 23.6s\tremaining: 6.84s\n",
      "155:\ttotal: 23.7s\tremaining: 6.68s\n",
      "156:\ttotal: 23.8s\tremaining: 6.53s\n",
      "157:\ttotal: 24s\tremaining: 6.37s\n",
      "158:\ttotal: 24.1s\tremaining: 6.22s\n",
      "159:\ttotal: 24.3s\tremaining: 6.07s\n",
      "160:\ttotal: 24.4s\tremaining: 5.92s\n",
      "161:\ttotal: 24.6s\tremaining: 5.77s\n",
      "162:\ttotal: 24.8s\tremaining: 5.62s\n",
      "163:\ttotal: 24.9s\tremaining: 5.48s\n",
      "164:\ttotal: 25.1s\tremaining: 5.32s\n",
      "165:\ttotal: 25.2s\tremaining: 5.17s\n",
      "166:\ttotal: 25.3s\tremaining: 5.01s\n",
      "167:\ttotal: 25.5s\tremaining: 4.85s\n",
      "168:\ttotal: 25.6s\tremaining: 4.69s\n",
      "169:\ttotal: 25.7s\tremaining: 4.53s\n",
      "170:\ttotal: 25.8s\tremaining: 4.37s\n",
      "171:\ttotal: 25.9s\tremaining: 4.22s\n",
      "172:\ttotal: 26.1s\tremaining: 4.07s\n",
      "173:\ttotal: 26.2s\tremaining: 3.91s\n",
      "174:\ttotal: 26.3s\tremaining: 3.76s\n",
      "175:\ttotal: 26.4s\tremaining: 3.6s\n",
      "176:\ttotal: 26.6s\tremaining: 3.45s\n",
      "177:\ttotal: 26.7s\tremaining: 3.3s\n",
      "178:\ttotal: 26.9s\tremaining: 3.15s\n",
      "179:\ttotal: 27s\tremaining: 3s\n",
      "180:\ttotal: 27.2s\tremaining: 2.85s\n",
      "181:\ttotal: 27.3s\tremaining: 2.7s\n",
      "182:\ttotal: 27.4s\tremaining: 2.55s\n",
      "183:\ttotal: 27.6s\tremaining: 2.4s\n",
      "184:\ttotal: 27.8s\tremaining: 2.25s\n",
      "185:\ttotal: 28s\tremaining: 2.1s\n",
      "186:\ttotal: 28.2s\tremaining: 1.96s\n",
      "187:\ttotal: 28.4s\tremaining: 1.81s\n",
      "188:\ttotal: 28.5s\tremaining: 1.66s\n",
      "189:\ttotal: 28.7s\tremaining: 1.51s\n",
      "190:\ttotal: 28.8s\tremaining: 1.35s\n",
      "191:\ttotal: 28.9s\tremaining: 1.2s\n",
      "192:\ttotal: 29s\tremaining: 1.05s\n",
      "193:\ttotal: 29.1s\tremaining: 901ms\n",
      "194:\ttotal: 29.3s\tremaining: 751ms\n",
      "195:\ttotal: 29.4s\tremaining: 600ms\n",
      "196:\ttotal: 29.5s\tremaining: 449ms\n",
      "197:\ttotal: 29.6s\tremaining: 299ms\n",
      "198:\ttotal: 29.7s\tremaining: 149ms\n",
      "199:\ttotal: 29.9s\tremaining: 0us\n",
      "0:\ttotal: 117ms\tremaining: 23.3s\n",
      "1:\ttotal: 232ms\tremaining: 23s\n",
      "2:\ttotal: 344ms\tremaining: 22.6s\n",
      "3:\ttotal: 454ms\tremaining: 22.3s\n",
      "4:\ttotal: 571ms\tremaining: 22.3s\n",
      "5:\ttotal: 677ms\tremaining: 21.9s\n",
      "6:\ttotal: 794ms\tremaining: 21.9s\n",
      "7:\ttotal: 910ms\tremaining: 21.8s\n",
      "8:\ttotal: 995ms\tremaining: 21.1s\n",
      "9:\ttotal: 1.16s\tremaining: 22.1s\n",
      "10:\ttotal: 1.29s\tremaining: 22.1s\n",
      "11:\ttotal: 1.41s\tremaining: 22s\n",
      "12:\ttotal: 1.56s\tremaining: 22.4s\n",
      "13:\ttotal: 1.66s\tremaining: 22.1s\n",
      "14:\ttotal: 1.75s\tremaining: 21.6s\n",
      "15:\ttotal: 1.87s\tremaining: 21.5s\n",
      "16:\ttotal: 1.98s\tremaining: 21.3s\n",
      "17:\ttotal: 2.1s\tremaining: 21.2s\n",
      "18:\ttotal: 2.22s\tremaining: 21.1s\n",
      "19:\ttotal: 2.34s\tremaining: 21s\n",
      "20:\ttotal: 2.47s\tremaining: 21.1s\n",
      "21:\ttotal: 2.64s\tremaining: 21.4s\n",
      "22:\ttotal: 2.82s\tremaining: 21.7s\n",
      "23:\ttotal: 2.95s\tremaining: 21.6s\n",
      "24:\ttotal: 3.05s\tremaining: 21.4s\n",
      "25:\ttotal: 3.15s\tremaining: 21.1s\n",
      "26:\ttotal: 3.26s\tremaining: 20.9s\n",
      "27:\ttotal: 3.36s\tremaining: 20.6s\n",
      "28:\ttotal: 3.45s\tremaining: 20.3s\n",
      "29:\ttotal: 3.57s\tremaining: 20.2s\n",
      "30:\ttotal: 3.67s\tremaining: 20s\n",
      "31:\ttotal: 3.75s\tremaining: 19.7s\n",
      "32:\ttotal: 3.85s\tremaining: 19.5s\n",
      "33:\ttotal: 3.97s\tremaining: 19.4s\n",
      "34:\ttotal: 4.07s\tremaining: 19.2s\n",
      "35:\ttotal: 4.18s\tremaining: 19.1s\n",
      "36:\ttotal: 4.28s\tremaining: 18.9s\n",
      "37:\ttotal: 4.4s\tremaining: 18.8s\n",
      "38:\ttotal: 4.52s\tremaining: 18.7s\n",
      "39:\ttotal: 4.63s\tremaining: 18.5s\n",
      "40:\ttotal: 4.73s\tremaining: 18.3s\n",
      "41:\ttotal: 4.83s\tremaining: 18.2s\n",
      "42:\ttotal: 4.94s\tremaining: 18s\n"
     ]
    },
    {
     "name": "stdout",
     "output_type": "stream",
     "text": [
      "43:\ttotal: 5.04s\tremaining: 17.9s\n",
      "44:\ttotal: 5.14s\tremaining: 17.7s\n",
      "45:\ttotal: 5.23s\tremaining: 17.5s\n",
      "46:\ttotal: 5.35s\tremaining: 17.4s\n",
      "47:\ttotal: 5.45s\tremaining: 17.3s\n",
      "48:\ttotal: 5.55s\tremaining: 17.1s\n",
      "49:\ttotal: 5.64s\tremaining: 16.9s\n",
      "50:\ttotal: 5.76s\tremaining: 16.8s\n",
      "51:\ttotal: 5.87s\tremaining: 16.7s\n",
      "52:\ttotal: 6.02s\tremaining: 16.7s\n",
      "53:\ttotal: 6.17s\tremaining: 16.7s\n",
      "54:\ttotal: 6.3s\tremaining: 16.6s\n",
      "55:\ttotal: 6.42s\tremaining: 16.5s\n",
      "56:\ttotal: 6.54s\tremaining: 16.4s\n",
      "57:\ttotal: 6.64s\tremaining: 16.3s\n",
      "58:\ttotal: 6.75s\tremaining: 16.1s\n",
      "59:\ttotal: 6.86s\tremaining: 16s\n",
      "60:\ttotal: 6.97s\tremaining: 15.9s\n",
      "61:\ttotal: 7.06s\tremaining: 15.7s\n",
      "62:\ttotal: 7.15s\tremaining: 15.5s\n",
      "63:\ttotal: 7.24s\tremaining: 15.4s\n",
      "64:\ttotal: 7.32s\tremaining: 15.2s\n",
      "65:\ttotal: 7.42s\tremaining: 15.1s\n",
      "66:\ttotal: 7.53s\tremaining: 14.9s\n",
      "67:\ttotal: 7.64s\tremaining: 14.8s\n",
      "68:\ttotal: 7.73s\tremaining: 14.7s\n",
      "69:\ttotal: 7.84s\tremaining: 14.6s\n",
      "70:\ttotal: 7.95s\tremaining: 14.4s\n",
      "71:\ttotal: 8.04s\tremaining: 14.3s\n",
      "72:\ttotal: 8.14s\tremaining: 14.2s\n",
      "73:\ttotal: 8.25s\tremaining: 14s\n",
      "74:\ttotal: 8.38s\tremaining: 14s\n",
      "75:\ttotal: 8.48s\tremaining: 13.8s\n",
      "76:\ttotal: 8.6s\tremaining: 13.7s\n",
      "77:\ttotal: 8.71s\tremaining: 13.6s\n",
      "78:\ttotal: 8.81s\tremaining: 13.5s\n",
      "79:\ttotal: 8.91s\tremaining: 13.4s\n",
      "80:\ttotal: 9.02s\tremaining: 13.2s\n",
      "81:\ttotal: 9.11s\tremaining: 13.1s\n",
      "82:\ttotal: 9.21s\tremaining: 13s\n",
      "83:\ttotal: 9.34s\tremaining: 12.9s\n",
      "84:\ttotal: 9.46s\tremaining: 12.8s\n",
      "85:\ttotal: 9.61s\tremaining: 12.7s\n",
      "86:\ttotal: 9.72s\tremaining: 12.6s\n",
      "87:\ttotal: 9.83s\tremaining: 12.5s\n",
      "88:\ttotal: 9.94s\tremaining: 12.4s\n",
      "89:\ttotal: 10.1s\tremaining: 12.3s\n",
      "90:\ttotal: 10.2s\tremaining: 12.2s\n",
      "91:\ttotal: 10.3s\tremaining: 12.1s\n",
      "92:\ttotal: 10.4s\tremaining: 12s\n",
      "93:\ttotal: 10.5s\tremaining: 11.9s\n",
      "94:\ttotal: 10.6s\tremaining: 11.7s\n",
      "95:\ttotal: 10.7s\tremaining: 11.6s\n",
      "96:\ttotal: 10.8s\tremaining: 11.5s\n",
      "97:\ttotal: 10.9s\tremaining: 11.3s\n",
      "98:\ttotal: 11s\tremaining: 11.2s\n",
      "99:\ttotal: 11.1s\tremaining: 11.1s\n",
      "100:\ttotal: 11.2s\tremaining: 11s\n",
      "101:\ttotal: 11.3s\tremaining: 10.9s\n",
      "102:\ttotal: 11.4s\tremaining: 10.7s\n",
      "103:\ttotal: 11.5s\tremaining: 10.6s\n",
      "104:\ttotal: 11.6s\tremaining: 10.5s\n",
      "105:\ttotal: 11.7s\tremaining: 10.4s\n",
      "106:\ttotal: 11.8s\tremaining: 10.2s\n",
      "107:\ttotal: 11.9s\tremaining: 10.1s\n",
      "108:\ttotal: 12s\tremaining: 9.99s\n",
      "109:\ttotal: 12.1s\tremaining: 9.87s\n",
      "110:\ttotal: 12.1s\tremaining: 9.74s\n",
      "111:\ttotal: 12.2s\tremaining: 9.62s\n",
      "112:\ttotal: 12.4s\tremaining: 9.51s\n",
      "113:\ttotal: 12.4s\tremaining: 9.39s\n",
      "114:\ttotal: 12.6s\tremaining: 9.29s\n",
      "115:\ttotal: 12.7s\tremaining: 9.22s\n",
      "116:\ttotal: 12.9s\tremaining: 9.12s\n",
      "117:\ttotal: 13s\tremaining: 9.01s\n",
      "118:\ttotal: 13s\tremaining: 8.88s\n",
      "119:\ttotal: 13.2s\tremaining: 8.77s\n",
      "120:\ttotal: 13.3s\tremaining: 8.65s\n",
      "121:\ttotal: 13.4s\tremaining: 8.54s\n",
      "122:\ttotal: 13.5s\tremaining: 8.44s\n",
      "123:\ttotal: 13.6s\tremaining: 8.32s\n",
      "124:\ttotal: 13.7s\tremaining: 8.2s\n",
      "125:\ttotal: 13.7s\tremaining: 8.07s\n",
      "126:\ttotal: 13.8s\tremaining: 7.95s\n",
      "127:\ttotal: 13.9s\tremaining: 7.83s\n",
      "128:\ttotal: 14s\tremaining: 7.71s\n",
      "129:\ttotal: 14.1s\tremaining: 7.59s\n",
      "130:\ttotal: 14.2s\tremaining: 7.47s\n",
      "131:\ttotal: 14.3s\tremaining: 7.35s\n",
      "132:\ttotal: 14.4s\tremaining: 7.23s\n",
      "133:\ttotal: 14.4s\tremaining: 7.12s\n",
      "134:\ttotal: 14.5s\tremaining: 7s\n",
      "135:\ttotal: 14.6s\tremaining: 6.89s\n",
      "136:\ttotal: 14.8s\tremaining: 6.78s\n",
      "137:\ttotal: 14.8s\tremaining: 6.67s\n",
      "138:\ttotal: 14.9s\tremaining: 6.56s\n",
      "139:\ttotal: 15s\tremaining: 6.45s\n",
      "140:\ttotal: 15.1s\tremaining: 6.33s\n",
      "141:\ttotal: 15.2s\tremaining: 6.22s\n",
      "142:\ttotal: 15.3s\tremaining: 6.11s\n",
      "143:\ttotal: 15.4s\tremaining: 5.99s\n",
      "144:\ttotal: 15.5s\tremaining: 5.87s\n",
      "145:\ttotal: 15.6s\tremaining: 5.76s\n",
      "146:\ttotal: 15.7s\tremaining: 5.65s\n",
      "147:\ttotal: 15.7s\tremaining: 5.53s\n",
      "148:\ttotal: 15.9s\tremaining: 5.43s\n",
      "149:\ttotal: 16s\tremaining: 5.33s\n",
      "150:\ttotal: 16.1s\tremaining: 5.23s\n",
      "151:\ttotal: 16.2s\tremaining: 5.12s\n",
      "152:\ttotal: 16.3s\tremaining: 5.01s\n",
      "153:\ttotal: 16.4s\tremaining: 4.9s\n",
      "154:\ttotal: 16.5s\tremaining: 4.79s\n",
      "155:\ttotal: 16.6s\tremaining: 4.68s\n",
      "156:\ttotal: 16.7s\tremaining: 4.58s\n",
      "157:\ttotal: 16.8s\tremaining: 4.47s\n",
      "158:\ttotal: 16.9s\tremaining: 4.37s\n",
      "159:\ttotal: 17s\tremaining: 4.25s\n",
      "160:\ttotal: 17.1s\tremaining: 4.14s\n",
      "161:\ttotal: 17.2s\tremaining: 4.03s\n",
      "162:\ttotal: 17.3s\tremaining: 3.92s\n",
      "163:\ttotal: 17.4s\tremaining: 3.81s\n",
      "164:\ttotal: 17.4s\tremaining: 3.7s\n",
      "165:\ttotal: 17.5s\tremaining: 3.59s\n",
      "166:\ttotal: 17.6s\tremaining: 3.48s\n",
      "167:\ttotal: 17.7s\tremaining: 3.38s\n",
      "168:\ttotal: 17.8s\tremaining: 3.27s\n",
      "169:\ttotal: 17.9s\tremaining: 3.16s\n",
      "170:\ttotal: 18s\tremaining: 3.05s\n",
      "171:\ttotal: 18.1s\tremaining: 2.94s\n",
      "172:\ttotal: 18.2s\tremaining: 2.84s\n",
      "173:\ttotal: 18.3s\tremaining: 2.73s\n",
      "174:\ttotal: 18.4s\tremaining: 2.62s\n",
      "175:\ttotal: 18.5s\tremaining: 2.52s\n",
      "176:\ttotal: 18.6s\tremaining: 2.41s\n",
      "177:\ttotal: 18.6s\tremaining: 2.3s\n",
      "178:\ttotal: 18.7s\tremaining: 2.2s\n",
      "179:\ttotal: 18.8s\tremaining: 2.09s\n",
      "180:\ttotal: 18.9s\tremaining: 1.99s\n",
      "181:\ttotal: 19s\tremaining: 1.88s\n",
      "182:\ttotal: 19.2s\tremaining: 1.78s\n",
      "183:\ttotal: 19.4s\tremaining: 1.69s\n",
      "184:\ttotal: 19.5s\tremaining: 1.58s\n",
      "185:\ttotal: 19.7s\tremaining: 1.48s\n",
      "186:\ttotal: 19.8s\tremaining: 1.38s\n",
      "187:\ttotal: 20s\tremaining: 1.28s\n",
      "188:\ttotal: 20.2s\tremaining: 1.17s\n",
      "189:\ttotal: 20.3s\tremaining: 1.07s\n",
      "190:\ttotal: 20.4s\tremaining: 963ms\n",
      "191:\ttotal: 20.6s\tremaining: 856ms\n",
      "192:\ttotal: 20.7s\tremaining: 750ms\n",
      "193:\ttotal: 20.8s\tremaining: 644ms\n",
      "194:\ttotal: 20.9s\tremaining: 537ms\n",
      "195:\ttotal: 21.1s\tremaining: 430ms\n",
      "196:\ttotal: 21.3s\tremaining: 324ms\n",
      "197:\ttotal: 21.4s\tremaining: 216ms\n",
      "198:\ttotal: 21.5s\tremaining: 108ms\n",
      "199:\ttotal: 21.6s\tremaining: 0us\n",
      "0:\ttotal: 120ms\tremaining: 23.8s\n",
      "1:\ttotal: 213ms\tremaining: 21.1s\n",
      "2:\ttotal: 311ms\tremaining: 20.4s\n",
      "3:\ttotal: 423ms\tremaining: 20.7s\n",
      "4:\ttotal: 528ms\tremaining: 20.6s\n",
      "5:\ttotal: 655ms\tremaining: 21.2s\n",
      "6:\ttotal: 761ms\tremaining: 21s\n",
      "7:\ttotal: 868ms\tremaining: 20.8s\n",
      "8:\ttotal: 972ms\tremaining: 20.6s\n",
      "9:\ttotal: 1.06s\tremaining: 20.3s\n",
      "10:\ttotal: 1.16s\tremaining: 19.9s\n",
      "11:\ttotal: 1.25s\tremaining: 19.6s\n",
      "12:\ttotal: 1.33s\tremaining: 19.1s\n",
      "13:\ttotal: 1.42s\tremaining: 18.9s\n",
      "14:\ttotal: 1.51s\tremaining: 18.7s\n",
      "15:\ttotal: 1.6s\tremaining: 18.5s\n",
      "16:\ttotal: 1.69s\tremaining: 18.2s\n",
      "17:\ttotal: 1.84s\tremaining: 18.7s\n",
      "18:\ttotal: 1.96s\tremaining: 18.6s\n",
      "19:\ttotal: 2.07s\tremaining: 18.6s\n",
      "20:\ttotal: 2.16s\tremaining: 18.4s\n",
      "21:\ttotal: 2.27s\tremaining: 18.4s\n",
      "22:\ttotal: 2.35s\tremaining: 18.1s\n",
      "23:\ttotal: 2.43s\tremaining: 17.8s\n",
      "24:\ttotal: 2.52s\tremaining: 17.6s\n",
      "25:\ttotal: 2.61s\tremaining: 17.5s\n",
      "26:\ttotal: 2.71s\tremaining: 17.4s\n",
      "27:\ttotal: 2.8s\tremaining: 17.2s\n",
      "28:\ttotal: 2.92s\tremaining: 17.2s\n",
      "29:\ttotal: 3.02s\tremaining: 17.1s\n",
      "30:\ttotal: 3.12s\tremaining: 17s\n",
      "31:\ttotal: 3.2s\tremaining: 16.8s\n",
      "32:\ttotal: 3.31s\tremaining: 16.8s\n",
      "33:\ttotal: 3.39s\tremaining: 16.6s\n",
      "34:\ttotal: 3.47s\tremaining: 16.3s\n",
      "35:\ttotal: 3.55s\tremaining: 16.2s\n",
      "36:\ttotal: 3.63s\tremaining: 16s\n",
      "37:\ttotal: 3.73s\tremaining: 15.9s\n",
      "38:\ttotal: 3.82s\tremaining: 15.8s\n",
      "39:\ttotal: 3.92s\tremaining: 15.7s\n",
      "40:\ttotal: 4s\tremaining: 15.5s\n",
      "41:\ttotal: 4.1s\tremaining: 15.4s\n",
      "42:\ttotal: 4.18s\tremaining: 15.3s\n",
      "43:\ttotal: 4.26s\tremaining: 15.1s\n",
      "44:\ttotal: 4.35s\tremaining: 15s\n",
      "45:\ttotal: 4.43s\tremaining: 14.8s\n",
      "46:\ttotal: 4.52s\tremaining: 14.7s\n",
      "47:\ttotal: 4.61s\tremaining: 14.6s\n",
      "48:\ttotal: 4.69s\tremaining: 14.5s\n",
      "49:\ttotal: 4.78s\tremaining: 14.3s\n",
      "50:\ttotal: 4.88s\tremaining: 14.3s\n",
      "51:\ttotal: 4.96s\tremaining: 14.1s\n",
      "52:\ttotal: 5.07s\tremaining: 14.1s\n",
      "53:\ttotal: 5.2s\tremaining: 14s\n",
      "54:\ttotal: 5.31s\tremaining: 14s\n",
      "55:\ttotal: 5.42s\tremaining: 13.9s\n",
      "56:\ttotal: 5.49s\tremaining: 13.8s\n",
      "57:\ttotal: 5.58s\tremaining: 13.7s\n",
      "58:\ttotal: 5.67s\tremaining: 13.6s\n",
      "59:\ttotal: 5.76s\tremaining: 13.4s\n",
      "60:\ttotal: 5.86s\tremaining: 13.3s\n",
      "61:\ttotal: 5.96s\tremaining: 13.3s\n",
      "62:\ttotal: 6.05s\tremaining: 13.2s\n",
      "63:\ttotal: 6.16s\tremaining: 13.1s\n",
      "64:\ttotal: 6.27s\tremaining: 13s\n",
      "65:\ttotal: 6.37s\tremaining: 12.9s\n",
      "66:\ttotal: 6.48s\tremaining: 12.9s\n",
      "67:\ttotal: 6.59s\tremaining: 12.8s\n",
      "68:\ttotal: 6.68s\tremaining: 12.7s\n",
      "69:\ttotal: 6.77s\tremaining: 12.6s\n",
      "70:\ttotal: 6.89s\tremaining: 12.5s\n",
      "71:\ttotal: 6.98s\tremaining: 12.4s\n",
      "72:\ttotal: 7.07s\tremaining: 12.3s\n",
      "73:\ttotal: 7.17s\tremaining: 12.2s\n",
      "74:\ttotal: 7.28s\tremaining: 12.1s\n",
      "75:\ttotal: 7.37s\tremaining: 12s\n",
      "76:\ttotal: 7.48s\tremaining: 11.9s\n",
      "77:\ttotal: 7.58s\tremaining: 11.9s\n",
      "78:\ttotal: 7.67s\tremaining: 11.8s\n",
      "79:\ttotal: 7.77s\tremaining: 11.7s\n",
      "80:\ttotal: 7.86s\tremaining: 11.6s\n",
      "81:\ttotal: 7.96s\tremaining: 11.5s\n",
      "82:\ttotal: 8.06s\tremaining: 11.4s\n",
      "83:\ttotal: 8.17s\tremaining: 11.3s\n",
      "84:\ttotal: 8.25s\tremaining: 11.2s\n"
     ]
    },
    {
     "name": "stdout",
     "output_type": "stream",
     "text": [
      "85:\ttotal: 8.35s\tremaining: 11.1s\n",
      "86:\ttotal: 8.48s\tremaining: 11s\n",
      "87:\ttotal: 8.6s\tremaining: 10.9s\n",
      "88:\ttotal: 8.69s\tremaining: 10.8s\n",
      "89:\ttotal: 8.8s\tremaining: 10.8s\n",
      "90:\ttotal: 8.89s\tremaining: 10.7s\n",
      "91:\ttotal: 8.97s\tremaining: 10.5s\n",
      "92:\ttotal: 9.04s\tremaining: 10.4s\n",
      "93:\ttotal: 9.15s\tremaining: 10.3s\n",
      "94:\ttotal: 9.23s\tremaining: 10.2s\n",
      "95:\ttotal: 9.3s\tremaining: 10.1s\n",
      "96:\ttotal: 9.39s\tremaining: 9.97s\n",
      "97:\ttotal: 9.46s\tremaining: 9.85s\n",
      "98:\ttotal: 9.55s\tremaining: 9.74s\n",
      "99:\ttotal: 9.64s\tremaining: 9.64s\n",
      "100:\ttotal: 9.73s\tremaining: 9.54s\n",
      "101:\ttotal: 9.83s\tremaining: 9.45s\n",
      "102:\ttotal: 9.93s\tremaining: 9.35s\n",
      "103:\ttotal: 10s\tremaining: 9.24s\n",
      "104:\ttotal: 10.1s\tremaining: 9.13s\n",
      "105:\ttotal: 10.2s\tremaining: 9.02s\n",
      "106:\ttotal: 10.3s\tremaining: 8.91s\n",
      "107:\ttotal: 10.3s\tremaining: 8.81s\n",
      "108:\ttotal: 10.4s\tremaining: 8.7s\n",
      "109:\ttotal: 10.5s\tremaining: 8.59s\n",
      "110:\ttotal: 10.6s\tremaining: 8.5s\n",
      "111:\ttotal: 10.7s\tremaining: 8.39s\n",
      "112:\ttotal: 10.8s\tremaining: 8.31s\n",
      "113:\ttotal: 10.9s\tremaining: 8.19s\n",
      "114:\ttotal: 10.9s\tremaining: 8.09s\n",
      "115:\ttotal: 11s\tremaining: 7.98s\n",
      "116:\ttotal: 11.1s\tremaining: 7.88s\n",
      "117:\ttotal: 11.2s\tremaining: 7.78s\n",
      "118:\ttotal: 11.3s\tremaining: 7.67s\n",
      "119:\ttotal: 11.4s\tremaining: 7.57s\n",
      "120:\ttotal: 11.4s\tremaining: 7.46s\n",
      "121:\ttotal: 11.5s\tremaining: 7.37s\n",
      "122:\ttotal: 11.6s\tremaining: 7.29s\n",
      "123:\ttotal: 11.8s\tremaining: 7.22s\n",
      "124:\ttotal: 11.9s\tremaining: 7.12s\n",
      "125:\ttotal: 12s\tremaining: 7.02s\n",
      "126:\ttotal: 12s\tremaining: 6.92s\n",
      "127:\ttotal: 12.1s\tremaining: 6.82s\n",
      "128:\ttotal: 12.2s\tremaining: 6.72s\n",
      "129:\ttotal: 12.3s\tremaining: 6.62s\n",
      "130:\ttotal: 12.4s\tremaining: 6.52s\n",
      "131:\ttotal: 12.5s\tremaining: 6.42s\n",
      "132:\ttotal: 12.5s\tremaining: 6.32s\n",
      "133:\ttotal: 12.6s\tremaining: 6.22s\n",
      "134:\ttotal: 12.7s\tremaining: 6.12s\n",
      "135:\ttotal: 12.8s\tremaining: 6.02s\n",
      "136:\ttotal: 12.9s\tremaining: 5.92s\n",
      "137:\ttotal: 13s\tremaining: 5.82s\n",
      "138:\ttotal: 13s\tremaining: 5.72s\n",
      "139:\ttotal: 13.1s\tremaining: 5.63s\n",
      "140:\ttotal: 13.2s\tremaining: 5.53s\n",
      "141:\ttotal: 13.3s\tremaining: 5.43s\n",
      "142:\ttotal: 13.4s\tremaining: 5.34s\n",
      "143:\ttotal: 13.5s\tremaining: 5.24s\n",
      "144:\ttotal: 13.6s\tremaining: 5.14s\n",
      "145:\ttotal: 13.6s\tremaining: 5.04s\n",
      "146:\ttotal: 13.7s\tremaining: 4.94s\n",
      "147:\ttotal: 13.8s\tremaining: 4.85s\n",
      "148:\ttotal: 13.9s\tremaining: 4.75s\n",
      "149:\ttotal: 14s\tremaining: 4.66s\n",
      "150:\ttotal: 14.1s\tremaining: 4.56s\n",
      "151:\ttotal: 14.1s\tremaining: 4.47s\n",
      "152:\ttotal: 14.2s\tremaining: 4.37s\n",
      "153:\ttotal: 14.3s\tremaining: 4.27s\n",
      "154:\ttotal: 14.4s\tremaining: 4.17s\n",
      "155:\ttotal: 14.5s\tremaining: 4.08s\n",
      "156:\ttotal: 14.5s\tremaining: 3.98s\n",
      "157:\ttotal: 14.6s\tremaining: 3.89s\n",
      "158:\ttotal: 14.7s\tremaining: 3.8s\n",
      "159:\ttotal: 14.8s\tremaining: 3.7s\n",
      "160:\ttotal: 14.9s\tremaining: 3.61s\n",
      "161:\ttotal: 15s\tremaining: 3.52s\n",
      "162:\ttotal: 15.1s\tremaining: 3.43s\n",
      "163:\ttotal: 15.2s\tremaining: 3.33s\n",
      "164:\ttotal: 15.3s\tremaining: 3.24s\n",
      "165:\ttotal: 15.3s\tremaining: 3.14s\n",
      "166:\ttotal: 15.4s\tremaining: 3.05s\n",
      "167:\ttotal: 15.5s\tremaining: 2.95s\n",
      "168:\ttotal: 15.6s\tremaining: 2.86s\n",
      "169:\ttotal: 15.7s\tremaining: 2.77s\n",
      "170:\ttotal: 15.8s\tremaining: 2.68s\n",
      "171:\ttotal: 15.9s\tremaining: 2.58s\n",
      "172:\ttotal: 15.9s\tremaining: 2.49s\n",
      "173:\ttotal: 16s\tremaining: 2.39s\n",
      "174:\ttotal: 16.1s\tremaining: 2.3s\n",
      "175:\ttotal: 16.2s\tremaining: 2.21s\n",
      "176:\ttotal: 16.3s\tremaining: 2.11s\n",
      "177:\ttotal: 16.4s\tremaining: 2.02s\n",
      "178:\ttotal: 16.5s\tremaining: 1.93s\n",
      "179:\ttotal: 16.5s\tremaining: 1.84s\n",
      "180:\ttotal: 16.6s\tremaining: 1.75s\n",
      "181:\ttotal: 16.7s\tremaining: 1.65s\n",
      "182:\ttotal: 16.8s\tremaining: 1.56s\n",
      "183:\ttotal: 16.9s\tremaining: 1.47s\n",
      "184:\ttotal: 17s\tremaining: 1.38s\n",
      "185:\ttotal: 17.1s\tremaining: 1.28s\n",
      "186:\ttotal: 17.1s\tremaining: 1.19s\n",
      "187:\ttotal: 17.2s\tremaining: 1.1s\n",
      "188:\ttotal: 17.3s\tremaining: 1.01s\n",
      "189:\ttotal: 17.4s\tremaining: 915ms\n",
      "190:\ttotal: 17.5s\tremaining: 823ms\n",
      "191:\ttotal: 17.5s\tremaining: 731ms\n",
      "192:\ttotal: 17.6s\tremaining: 639ms\n",
      "193:\ttotal: 17.7s\tremaining: 547ms\n",
      "194:\ttotal: 17.8s\tremaining: 456ms\n",
      "195:\ttotal: 17.9s\tremaining: 365ms\n",
      "196:\ttotal: 17.9s\tremaining: 273ms\n",
      "197:\ttotal: 18s\tremaining: 182ms\n",
      "198:\ttotal: 18.1s\tremaining: 91ms\n",
      "199:\ttotal: 18.2s\tremaining: 0us\n"
     ]
    }
   ],
   "source": [
    "xg_oof_train, xg_oof_test = get_oof(xg)\n",
    "et_oof_train, et_oof_test = get_oof(et)\n",
    "rf_oof_train, rf_oof_test = get_oof(rf)\n",
    "cb_oof_train, cb_oof_test = get_oof(cb)"
   ]
  },
  {
   "cell_type": "code",
   "execution_count": 21,
   "id": "surrounded-century",
   "metadata": {
    "ExecuteTime": {
     "end_time": "2021-02-02T10:45:58.341271Z",
     "start_time": "2021-02-02T10:45:58.313347Z"
    }
   },
   "outputs": [
    {
     "name": "stdout",
     "output_type": "stream",
     "text": [
      "XG-CV: 0.25969546149690725\n",
      "ET-CV: 0.26296502347137407\n",
      "RF-CV: 0.2629856213006646\n",
      "RF-CV: 0.33101423487560705\n"
     ]
    }
   ],
   "source": [
    "print('XG-CV: {}'.format(sqrt(mean_squared_error(y_train,xg_oof_train))))\n",
    "print('ET-CV: {}'.format(sqrt(mean_squared_error(y_train,et_oof_train))))\n",
    "print('RF-CV: {}'.format(sqrt(mean_squared_error(y_train,rf_oof_train))))\n",
    "print('RF-CV: {}'.format(sqrt(mean_squared_error(y_train,cb_oof_train))))"
   ]
  },
  {
   "cell_type": "code",
   "execution_count": 22,
   "id": "developing-cruise",
   "metadata": {
    "ExecuteTime": {
     "end_time": "2021-02-02T10:46:00.219439Z",
     "start_time": "2021-02-02T10:46:00.159598Z"
    }
   },
   "outputs": [
    {
     "name": "stdout",
     "output_type": "stream",
     "text": [
      "(307511, 4),(48744, 4)\n"
     ]
    }
   ],
   "source": [
    "x_train = np.concatenate((xg_oof_train,et_oof_train,rf_oof_train,cb_oof_train),axis=1)\n",
    "x_test = np.concatenate((xg_oof_test,et_oof_test,rf_oof_test,cb_oof_test),axis=1)\n",
    "\n",
    "print('{},{}'.format(x_train.shape, x_test.shape))"
   ]
  },
  {
   "cell_type": "code",
   "execution_count": 23,
   "id": "spectacular-galaxy",
   "metadata": {
    "ExecuteTime": {
     "end_time": "2021-02-02T10:46:02.689782Z",
     "start_time": "2021-02-02T10:46:01.897514Z"
    }
   },
   "outputs": [
    {
     "data": {
      "text/plain": [
       "LogisticRegression()"
      ]
     },
     "execution_count": 23,
     "metadata": {},
     "output_type": "execute_result"
    }
   ],
   "source": [
    "logistic_regression = LogisticRegression()\n",
    "logistic_regression.fit(x_train, y_train)"
   ]
  },
  {
   "cell_type": "code",
   "execution_count": 24,
   "id": "cathedral-meter",
   "metadata": {
    "ExecuteTime": {
     "end_time": "2021-02-02T10:46:04.620652Z",
     "start_time": "2021-02-02T10:46:04.407217Z"
    }
   },
   "outputs": [],
   "source": [
    "test['TARGET'] = logistic_regression.predict_proba(x_test)[:,1]\n",
    "\n",
    "test[['SK_ID_CURR','TARGET']].to_csv('home_3_sion.csv',index=False,float_format='%.8f')"
   ]
  }
 ],
 "metadata": {
  "kernelspec": {
   "display_name": "Python 3",
   "language": "python",
   "name": "python3"
  },
  "language_info": {
   "codemirror_mode": {
    "name": "ipython",
    "version": 3
   },
   "file_extension": ".py",
   "mimetype": "text/x-python",
   "name": "python",
   "nbconvert_exporter": "python",
   "pygments_lexer": "ipython3",
   "version": "3.9.1"
  },
  "toc": {
   "base_numbering": 1,
   "nav_menu": {},
   "number_sections": false,
   "sideBar": true,
   "skip_h1_title": false,
   "title_cell": "Table of Contents",
   "title_sidebar": "Contents",
   "toc_cell": false,
   "toc_position": {
    "height": "574.4px",
    "left": "1031px",
    "top": "147px",
    "width": "165px"
   },
   "toc_section_display": true,
   "toc_window_display": false
  },
  "varInspector": {
   "cols": {
    "lenName": 16,
    "lenType": 16,
    "lenVar": 40
   },
   "kernels_config": {
    "python": {
     "delete_cmd_postfix": "",
     "delete_cmd_prefix": "del ",
     "library": "var_list.py",
     "varRefreshCmd": "print(var_dic_list())"
    },
    "r": {
     "delete_cmd_postfix": ") ",
     "delete_cmd_prefix": "rm(",
     "library": "var_list.r",
     "varRefreshCmd": "cat(var_dic_list()) "
    }
   },
   "types_to_exclude": [
    "module",
    "function",
    "builtin_function_or_method",
    "instance",
    "_Feature"
   ],
   "window_display": false
  }
 },
 "nbformat": 4,
 "nbformat_minor": 5
}
