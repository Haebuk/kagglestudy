{
 "cells": [
  {
   "cell_type": "markdown",
   "metadata": {},
   "source": [
    "- competition/dataset : [https://www.kaggle.com/c/home-credit-default-risk/data](https://www.kaggle.com/c/home-credit-default-risk/data)\n",
    "- date : 2021/01/29\n",
    "- original : [https://www.kaggle.com/willkoehrsen/start-here-a-gentle-introduction](https://www.kaggle.com/willkoehrsen/start-here-a-gentle-introduction)"
   ]
  },
  {
   "cell_type": "markdown",
   "metadata": {},
   "source": [
    "## Start Here: A Gentle Introduction"
   ]
  },
  {
   "cell_type": "markdown",
   "metadata": {
    "execution": {
     "iopub.execute_input": "2021-01-19T23:23:23.804833Z",
     "iopub.status.busy": "2021-01-19T23:23:23.803834Z",
     "iopub.status.idle": "2021-01-19T23:23:23.811814Z",
     "shell.execute_reply": "2021-01-19T23:23:23.810817Z",
     "shell.execute_reply.started": "2021-01-19T23:23:23.804833Z"
    }
   },
   "source": [
    "**✏ 필사 1회** "
   ]
  },
  {
   "cell_type": "markdown",
   "metadata": {},
   "source": [
    "### Introduction: Home Credit Default Risk Competiton"
   ]
  },
  {
   "cell_type": "markdown",
   "metadata": {},
   "source": [
    "이 노트북은 머신러닝 대회가 처음이거나 문제에 대한 부드러운 소개를 원하는 사람들을 위한 것입니다. 머신러닝을 시작하기 위한 기본을 보여주기 위해 일부러 복잡한 모델을 만들거나 많은 양의 데이터를 결합하는 것은 피합니다.  \n",
    "\n",
    "여기서는 Kaggle에 게시된 Home Credit default risk 머신러닝 대회를 처음 살펴볼 것입니다. 이 대회의 목적은 과거의 대출 신청 데이터를 사용하여 신청자가 대출금을 상환할 수 있을지를 예측하는 것입니다. 이것은 전형적인 지도학습 분류 과제입니다.  \n",
    "\n",
    "* **Supervised**: 라벨이 트레이닝 데이터에 포함되어 있고, 목표는 모델을 학습하여 feature들로부터 라벨을 예측하는 것입니다.  \n",
    "* **Classification**: 라벨은 0(즉시 대출), 1(재대출 어려움)로 이루어진 이진 변수입니다."
   ]
  },
  {
   "cell_type": "markdown",
   "metadata": {},
   "source": [
    "## Data\n",
    "데이터는 계좌가 없는 사람들에게 제공되는 신용(대출) 전용 서비스인 [Home Credit](https://www.homecredit.net/about-us.aspx)에서 제공합니다. 고객이 대출금을 상환할지 혹은 어려울지 예측하는 것은 중요한 비즈니스 요구 사항이며, Home Credit은 머신러닝 커뮤니티가 이 과제에서 그들을 돕기 위해 어떤 종류의 모델을 개발할 수 있는지 알아보기 위해 Kaggle에 대회를 개최합니다.  \n",
    "\n",
    "7가지 종류의 데이터가 있습니다:  \n",
    "* application_train/application_test  \n",
    "Home Credit 대출 신청자들에 대한 정보가 담긴 주된 데이터.  \n",
    "모든 대출자에게는 자체 행이 있으며, ```SK_ID_CURR``` 변수로 식별 가능합니다. 트레이닝 데이터에는 0(상환됨), 1(상환되지 않음)을 나타내는 ```TARGET```이 있습니다.  \n",
    "* bureau  \n",
    "다른 금융기관에서 받은 고객의 이전 신용에 관한 데이터.  \n",
    "각각의 과거 신용은 bureau에 자체 행이 있지만 application data에 있는 하나의 대출은 여러 개의 이전 신용기록을 가질 수 있습니다.  \n",
    "* bureau_balance  \n",
    "bureau의 이전 신용기록에 대한 월별 데이터.  \n",
    "각각의 행은 한달 동안의 이전 이력이며, 하나의 이전 신용이력은 각 월에 하나씩 여러 행을 가질 수 있습니다.  \n",
    "* previous_application  \n",
    "application 데이터에 있는 대출 신청 고객의 Home Credit 대출 신청 이력.  \n",
    "application 데이터의 현재 신청자들은 각각 여러 개의 이력을 가질 수 있습니다. 과거의 신청 이력은 각각 하나의 행이며, ```SK_ID_PREV``` 변수를 통해 알 수 있습니다.\n",
    "* POS_CASH_BALANCE  \n",
    "과거의 판매 시점이나 고객이 Home Credit에 의해 가지고 있는 현금 대출에 대한 월별 데이터.  \n",
    "각 행은 한달이며, 하나의 이전 대출은 여러 개의 행을 가질 수 있습니다.  \n",
    "* installments_payment  \n",
    "Home Credit에서의 이전 대출에 대한 결제 이력.  \n",
    "각 결제마다 하나의 행이며, 누락된 결제에 대한 행도 있습니다.  \n",
    "\n",
    "다음 그림은 데이터가 어떻게 연관되어 있는지를 나타냅니다.\n",
    "\n",
    "![diagram](data/home_credit.png)  \n",
    "\n",
    "모든 컬럼에 대한 정의서(```HomeCredit_columns_description.csv```)와 예상 제출 파일의 예시에 대한 데이터도 있습니다."
   ]
  },
  {
   "cell_type": "markdown",
   "metadata": {},
   "source": [
    "## Metric: ROC AUC\n",
    "데이터에 대해 이해한 후, 우리의 제출물을 평가하는 메트릭에 대해 이해해야 합니다.이 경우에는 [Receiver Operating Characteristic Area Under the Curve (ROC AUC, AUROC)](https://stats.stackexchange.com/questions/132777/what-does-auc-stand-for-and-what-is-it)로 알려진 보편적인 분류 메트릭입니다.  \n",
    "\n",
    "ROC AUC는 어려워 보이지만, 두 가지의 개념만 머리에 입력하면 상대적으로 어렵지 않습니다. Receiver Operating Characteristic (ROC) 곡선은 positive의 비율 대 반대의 비율을 그래프로 나타냅니다.  \n",
    "\n",
    "![ROC](data/ROC-curve.png)  \n",
    "\n",
    "그래프의 한 선은 단일 모델의 곡선을 나타내며, 곡선을 따라 이동하는 것은 positive 인스턴스를 분류하는데 사용된 임계값이 변화하는 것을 나타냅니다. 임계값은 오른쪽 상단에서 0으로 시작하여 왼쪽 하단의 1로 향합니다. 곡선이 왼쪽 위에 있을수록 더 좋은 모델임을 의미합니다. 예를 들어, 파란색 모델은 빨간색 모델보다 좋으며, 검은색 대각선은 날 것의 무작위 추측 모델을 나타냅니다.  \n",
    "\n",
    "Area Under the Curve (AUC)는 이름 그대로 ROC 곡선 아래 영역(곡선의 적분)을 의미합니다.  이 메트릭은 0에서 1 사이이며 나은 모델일수록 점수가 높습니다. 단순히 무작위로 맞추는 모델은 ROC AUC가 0.5일 것입니다.  \n",
    "\n",
    "ROC AUC에 따라 분류기를 측정할 때, 0이나 1에 대한 예측을 생성하는 것이 아니라 0과 1 사이의 확률을 생성합니다. 우리는 주로 정확도 측면에서 생각하기를 좋아하기 때문에 혼란스러울 수 있으나, 우리가 불균형한 클래스로 문제가 생겼을 때 정확도는 최상의 메트릭이 아닙니다. 예를 들어, 99.9999%의 정확도를 가진 테러리스트 탐지 모델을 만들고자 할 때, 단순히 모든 사람이 테러리스트가 아니라고 하는 모델을 만든다고 가정합니다. 분명히 그것은 효과가 없을 것이며(재현율 = 0), 분류기의 성능을 정확하게 반영하기 위해 ROC AUC나 F1 score와 같은 고급 메트릭들을 사용합니다. ROC AUC가 큰 모델은 정확도 또한 높을 것이지만, ROC AUC는 모델의 성능을 더 잘 표현합니다.  \n",
    "\n",
    "우리가 사용할 데이터의 배경과 최대화를 위한 메트릭을 알고 있다면, 이제 데이터 탐색을 해보겠습니다. 앞에서 말했듯이, 우리는 앞으로의 작업에서 메인 데이터와 우리가 구축할 수 있는 단순한 모델만을 고수할 것입니다.  \n",
    "\n",
    "**참고한 커널들**:\n",
    "* [Manual Feature Engineering Part One](https://www.kaggle.com/willkoehrsen/introduction-to-manual-feature-engineering)\n",
    "* [Manual Feature Engineering Part Two](https://www.kaggle.com/willkoehrsen/introduction-to-manual-feature-engineering-p2)\n",
    "* [Introduction to Automated Feature Engineering](https://www.kaggle.com/willkoehrsen/automated-feature-engineering-basics)\n",
    "* [Advanced Automated Feature Engineering](https://www.kaggle.com/willkoehrsen/tuning-automated-feature-engineering-exploratory)\n",
    "* [Feature Selection](https://www.kaggle.com/willkoehrsen/introduction-to-feature-selection)\n",
    "* [Intro to Model Tuning: Grid and Random Search](https://www.kaggle.com/willkoehrsen/intro-to-model-tuning-grid-and-random-search)\n",
    "* [Automated Model Tuning](https://www.kaggle.com/willkoehrsen/automated-model-tuning)\n",
    "* [Model Tuning Results](https://www.kaggle.com/willkoehrsen/model-tuning-results-random-vs-bayesian-opt/notebook)"
   ]
  },
  {
   "cell_type": "markdown",
   "metadata": {},
   "source": [
    "## Imports\n",
    "전형적인 데이터 사이언스 스택을 사용합니다: ```numpy```, ```pandas```, ```sklearn```, ```matplotlib```"
   ]
  },
  {
   "cell_type": "code",
   "execution_count": 1,
   "metadata": {
    "execution": {
     "iopub.execute_input": "2021-01-30T13:12:23.900811Z",
     "iopub.status.busy": "2021-01-30T13:12:23.900811Z",
     "iopub.status.idle": "2021-01-30T13:12:30.776417Z",
     "shell.execute_reply": "2021-01-30T13:12:30.776417Z",
     "shell.execute_reply.started": "2021-01-30T13:12:23.900811Z"
    }
   },
   "outputs": [],
   "source": [
    "# 데이터 조작\n",
    "import numpy as np\n",
    "import pandas as pd\n",
    "\n",
    "# 범주형 변수 다루기\n",
    "from sklearn.preprocessing import LabelEncoder\n",
    "\n",
    "# 파일 시스템 관리\n",
    "import os\n",
    "\n",
    "# 경고 숨기기\n",
    "import warnings\n",
    "warnings.filterwarnings('ignore')\n",
    "\n",
    "# 시각화\n",
    "import matplotlib.pyplot as plt\n",
    "import seaborn as sns"
   ]
  },
  {
   "cell_type": "markdown",
   "metadata": {},
   "source": [
    "## Read in Data\n",
    "먼저, 사용가능한 모든 데이터 파일을 나열할 수 있습니다. 트레이닝을 위한 주 데이터 1개, 테스트를 위한 주 데이터 1개, 제출 예시 파일 1개, 각 대출자들에 대한 부가적인 정보가 들어있는 기타 파일 6개, 총 9개의 파일이 있습니다. "
   ]
  },
  {
   "cell_type": "code",
   "execution_count": 2,
   "metadata": {
    "execution": {
     "iopub.execute_input": "2021-01-30T13:12:30.778412Z",
     "iopub.status.busy": "2021-01-30T13:12:30.778412Z",
     "iopub.status.idle": "2021-01-30T13:12:30.791377Z",
     "shell.execute_reply": "2021-01-30T13:12:30.790380Z",
     "shell.execute_reply.started": "2021-01-30T13:12:30.778412Z"
    }
   },
   "outputs": [
    {
     "name": "stdout",
     "output_type": "stream",
     "text": [
      "['application_test.csv', 'application_train.csv', 'bureau.csv', 'bureau_balance.csv', 'credit_card_balance.csv', 'HomeCredit_columns_description.csv', 'home_credit.png', 'label_encoding.png', 'one_hot_encoding.png', 'ROC-curve.png']\n"
     ]
    }
   ],
   "source": [
    "# 사용 가능한 파일 리스트\n",
    "print(os.listdir('data/'))"
   ]
  },
  {
   "cell_type": "code",
   "execution_count": 3,
   "metadata": {
    "execution": {
     "iopub.execute_input": "2021-01-30T13:12:30.793373Z",
     "iopub.status.busy": "2021-01-30T13:12:30.793373Z",
     "iopub.status.idle": "2021-01-30T13:12:36.952897Z",
     "shell.execute_reply": "2021-01-30T13:12:36.951899Z",
     "shell.execute_reply.started": "2021-01-30T13:12:30.793373Z"
    }
   },
   "outputs": [
    {
     "name": "stdout",
     "output_type": "stream",
     "text": [
      "Training data shape: (307511, 122)\n"
     ]
    },
    {
     "data": {
      "text/html": [
       "<div>\n",
       "<style scoped>\n",
       "    .dataframe tbody tr th:only-of-type {\n",
       "        vertical-align: middle;\n",
       "    }\n",
       "\n",
       "    .dataframe tbody tr th {\n",
       "        vertical-align: top;\n",
       "    }\n",
       "\n",
       "    .dataframe thead th {\n",
       "        text-align: right;\n",
       "    }\n",
       "</style>\n",
       "<table border=\"1\" class=\"dataframe\">\n",
       "  <thead>\n",
       "    <tr style=\"text-align: right;\">\n",
       "      <th></th>\n",
       "      <th>SK_ID_CURR</th>\n",
       "      <th>TARGET</th>\n",
       "      <th>NAME_CONTRACT_TYPE</th>\n",
       "      <th>CODE_GENDER</th>\n",
       "      <th>FLAG_OWN_CAR</th>\n",
       "      <th>FLAG_OWN_REALTY</th>\n",
       "      <th>CNT_CHILDREN</th>\n",
       "      <th>AMT_INCOME_TOTAL</th>\n",
       "      <th>AMT_CREDIT</th>\n",
       "      <th>AMT_ANNUITY</th>\n",
       "      <th>...</th>\n",
       "      <th>FLAG_DOCUMENT_18</th>\n",
       "      <th>FLAG_DOCUMENT_19</th>\n",
       "      <th>FLAG_DOCUMENT_20</th>\n",
       "      <th>FLAG_DOCUMENT_21</th>\n",
       "      <th>AMT_REQ_CREDIT_BUREAU_HOUR</th>\n",
       "      <th>AMT_REQ_CREDIT_BUREAU_DAY</th>\n",
       "      <th>AMT_REQ_CREDIT_BUREAU_WEEK</th>\n",
       "      <th>AMT_REQ_CREDIT_BUREAU_MON</th>\n",
       "      <th>AMT_REQ_CREDIT_BUREAU_QRT</th>\n",
       "      <th>AMT_REQ_CREDIT_BUREAU_YEAR</th>\n",
       "    </tr>\n",
       "  </thead>\n",
       "  <tbody>\n",
       "    <tr>\n",
       "      <th>0</th>\n",
       "      <td>100002</td>\n",
       "      <td>1</td>\n",
       "      <td>Cash loans</td>\n",
       "      <td>M</td>\n",
       "      <td>N</td>\n",
       "      <td>Y</td>\n",
       "      <td>0</td>\n",
       "      <td>202500.0</td>\n",
       "      <td>406597.5</td>\n",
       "      <td>24700.5</td>\n",
       "      <td>...</td>\n",
       "      <td>0</td>\n",
       "      <td>0</td>\n",
       "      <td>0</td>\n",
       "      <td>0</td>\n",
       "      <td>0.0</td>\n",
       "      <td>0.0</td>\n",
       "      <td>0.0</td>\n",
       "      <td>0.0</td>\n",
       "      <td>0.0</td>\n",
       "      <td>1.0</td>\n",
       "    </tr>\n",
       "    <tr>\n",
       "      <th>1</th>\n",
       "      <td>100003</td>\n",
       "      <td>0</td>\n",
       "      <td>Cash loans</td>\n",
       "      <td>F</td>\n",
       "      <td>N</td>\n",
       "      <td>N</td>\n",
       "      <td>0</td>\n",
       "      <td>270000.0</td>\n",
       "      <td>1293502.5</td>\n",
       "      <td>35698.5</td>\n",
       "      <td>...</td>\n",
       "      <td>0</td>\n",
       "      <td>0</td>\n",
       "      <td>0</td>\n",
       "      <td>0</td>\n",
       "      <td>0.0</td>\n",
       "      <td>0.0</td>\n",
       "      <td>0.0</td>\n",
       "      <td>0.0</td>\n",
       "      <td>0.0</td>\n",
       "      <td>0.0</td>\n",
       "    </tr>\n",
       "    <tr>\n",
       "      <th>2</th>\n",
       "      <td>100004</td>\n",
       "      <td>0</td>\n",
       "      <td>Revolving loans</td>\n",
       "      <td>M</td>\n",
       "      <td>Y</td>\n",
       "      <td>Y</td>\n",
       "      <td>0</td>\n",
       "      <td>67500.0</td>\n",
       "      <td>135000.0</td>\n",
       "      <td>6750.0</td>\n",
       "      <td>...</td>\n",
       "      <td>0</td>\n",
       "      <td>0</td>\n",
       "      <td>0</td>\n",
       "      <td>0</td>\n",
       "      <td>0.0</td>\n",
       "      <td>0.0</td>\n",
       "      <td>0.0</td>\n",
       "      <td>0.0</td>\n",
       "      <td>0.0</td>\n",
       "      <td>0.0</td>\n",
       "    </tr>\n",
       "    <tr>\n",
       "      <th>3</th>\n",
       "      <td>100006</td>\n",
       "      <td>0</td>\n",
       "      <td>Cash loans</td>\n",
       "      <td>F</td>\n",
       "      <td>N</td>\n",
       "      <td>Y</td>\n",
       "      <td>0</td>\n",
       "      <td>135000.0</td>\n",
       "      <td>312682.5</td>\n",
       "      <td>29686.5</td>\n",
       "      <td>...</td>\n",
       "      <td>0</td>\n",
       "      <td>0</td>\n",
       "      <td>0</td>\n",
       "      <td>0</td>\n",
       "      <td>NaN</td>\n",
       "      <td>NaN</td>\n",
       "      <td>NaN</td>\n",
       "      <td>NaN</td>\n",
       "      <td>NaN</td>\n",
       "      <td>NaN</td>\n",
       "    </tr>\n",
       "    <tr>\n",
       "      <th>4</th>\n",
       "      <td>100007</td>\n",
       "      <td>0</td>\n",
       "      <td>Cash loans</td>\n",
       "      <td>M</td>\n",
       "      <td>N</td>\n",
       "      <td>Y</td>\n",
       "      <td>0</td>\n",
       "      <td>121500.0</td>\n",
       "      <td>513000.0</td>\n",
       "      <td>21865.5</td>\n",
       "      <td>...</td>\n",
       "      <td>0</td>\n",
       "      <td>0</td>\n",
       "      <td>0</td>\n",
       "      <td>0</td>\n",
       "      <td>0.0</td>\n",
       "      <td>0.0</td>\n",
       "      <td>0.0</td>\n",
       "      <td>0.0</td>\n",
       "      <td>0.0</td>\n",
       "      <td>0.0</td>\n",
       "    </tr>\n",
       "  </tbody>\n",
       "</table>\n",
       "<p>5 rows × 122 columns</p>\n",
       "</div>"
      ],
      "text/plain": [
       "   SK_ID_CURR  TARGET NAME_CONTRACT_TYPE CODE_GENDER FLAG_OWN_CAR  \\\n",
       "0      100002       1         Cash loans           M            N   \n",
       "1      100003       0         Cash loans           F            N   \n",
       "2      100004       0    Revolving loans           M            Y   \n",
       "3      100006       0         Cash loans           F            N   \n",
       "4      100007       0         Cash loans           M            N   \n",
       "\n",
       "  FLAG_OWN_REALTY  CNT_CHILDREN  AMT_INCOME_TOTAL  AMT_CREDIT  AMT_ANNUITY  \\\n",
       "0               Y             0          202500.0    406597.5      24700.5   \n",
       "1               N             0          270000.0   1293502.5      35698.5   \n",
       "2               Y             0           67500.0    135000.0       6750.0   \n",
       "3               Y             0          135000.0    312682.5      29686.5   \n",
       "4               Y             0          121500.0    513000.0      21865.5   \n",
       "\n",
       "   ...  FLAG_DOCUMENT_18 FLAG_DOCUMENT_19 FLAG_DOCUMENT_20 FLAG_DOCUMENT_21  \\\n",
       "0  ...                 0                0                0                0   \n",
       "1  ...                 0                0                0                0   \n",
       "2  ...                 0                0                0                0   \n",
       "3  ...                 0                0                0                0   \n",
       "4  ...                 0                0                0                0   \n",
       "\n",
       "  AMT_REQ_CREDIT_BUREAU_HOUR AMT_REQ_CREDIT_BUREAU_DAY  \\\n",
       "0                        0.0                       0.0   \n",
       "1                        0.0                       0.0   \n",
       "2                        0.0                       0.0   \n",
       "3                        NaN                       NaN   \n",
       "4                        0.0                       0.0   \n",
       "\n",
       "   AMT_REQ_CREDIT_BUREAU_WEEK  AMT_REQ_CREDIT_BUREAU_MON  \\\n",
       "0                         0.0                        0.0   \n",
       "1                         0.0                        0.0   \n",
       "2                         0.0                        0.0   \n",
       "3                         NaN                        NaN   \n",
       "4                         0.0                        0.0   \n",
       "\n",
       "   AMT_REQ_CREDIT_BUREAU_QRT  AMT_REQ_CREDIT_BUREAU_YEAR  \n",
       "0                        0.0                         1.0  \n",
       "1                        0.0                         0.0  \n",
       "2                        0.0                         0.0  \n",
       "3                        NaN                         NaN  \n",
       "4                        0.0                         0.0  \n",
       "\n",
       "[5 rows x 122 columns]"
      ]
     },
     "execution_count": 3,
     "metadata": {},
     "output_type": "execute_result"
    }
   ],
   "source": [
    "# 트레이닝 데이터\n",
    "app_train = pd.read_csv('data/application_train.csv')\n",
    "print('Training data shape:', app_train.shape)\n",
    "app_train.head()"
   ]
  },
  {
   "cell_type": "markdown",
   "metadata": {},
   "source": [
    "트레이닝 데이터에는 307,511개의 데이터와 ```TARGET```을 포함한 122개의 변수가 있습니다."
   ]
  },
  {
   "cell_type": "code",
   "execution_count": 4,
   "metadata": {
    "execution": {
     "iopub.execute_input": "2021-01-30T13:12:36.954892Z",
     "iopub.status.busy": "2021-01-30T13:12:36.954892Z",
     "iopub.status.idle": "2021-01-30T13:12:38.055951Z",
     "shell.execute_reply": "2021-01-30T13:12:38.054950Z",
     "shell.execute_reply.started": "2021-01-30T13:12:36.954892Z"
    }
   },
   "outputs": [
    {
     "name": "stdout",
     "output_type": "stream",
     "text": [
      "Testing data shape: (48744, 121)\n"
     ]
    },
    {
     "data": {
      "text/html": [
       "<div>\n",
       "<style scoped>\n",
       "    .dataframe tbody tr th:only-of-type {\n",
       "        vertical-align: middle;\n",
       "    }\n",
       "\n",
       "    .dataframe tbody tr th {\n",
       "        vertical-align: top;\n",
       "    }\n",
       "\n",
       "    .dataframe thead th {\n",
       "        text-align: right;\n",
       "    }\n",
       "</style>\n",
       "<table border=\"1\" class=\"dataframe\">\n",
       "  <thead>\n",
       "    <tr style=\"text-align: right;\">\n",
       "      <th></th>\n",
       "      <th>SK_ID_CURR</th>\n",
       "      <th>NAME_CONTRACT_TYPE</th>\n",
       "      <th>CODE_GENDER</th>\n",
       "      <th>FLAG_OWN_CAR</th>\n",
       "      <th>FLAG_OWN_REALTY</th>\n",
       "      <th>CNT_CHILDREN</th>\n",
       "      <th>AMT_INCOME_TOTAL</th>\n",
       "      <th>AMT_CREDIT</th>\n",
       "      <th>AMT_ANNUITY</th>\n",
       "      <th>AMT_GOODS_PRICE</th>\n",
       "      <th>...</th>\n",
       "      <th>FLAG_DOCUMENT_18</th>\n",
       "      <th>FLAG_DOCUMENT_19</th>\n",
       "      <th>FLAG_DOCUMENT_20</th>\n",
       "      <th>FLAG_DOCUMENT_21</th>\n",
       "      <th>AMT_REQ_CREDIT_BUREAU_HOUR</th>\n",
       "      <th>AMT_REQ_CREDIT_BUREAU_DAY</th>\n",
       "      <th>AMT_REQ_CREDIT_BUREAU_WEEK</th>\n",
       "      <th>AMT_REQ_CREDIT_BUREAU_MON</th>\n",
       "      <th>AMT_REQ_CREDIT_BUREAU_QRT</th>\n",
       "      <th>AMT_REQ_CREDIT_BUREAU_YEAR</th>\n",
       "    </tr>\n",
       "  </thead>\n",
       "  <tbody>\n",
       "    <tr>\n",
       "      <th>0</th>\n",
       "      <td>100001</td>\n",
       "      <td>Cash loans</td>\n",
       "      <td>F</td>\n",
       "      <td>N</td>\n",
       "      <td>Y</td>\n",
       "      <td>0</td>\n",
       "      <td>135000.0</td>\n",
       "      <td>568800.0</td>\n",
       "      <td>20560.5</td>\n",
       "      <td>450000.0</td>\n",
       "      <td>...</td>\n",
       "      <td>0</td>\n",
       "      <td>0</td>\n",
       "      <td>0</td>\n",
       "      <td>0</td>\n",
       "      <td>0.0</td>\n",
       "      <td>0.0</td>\n",
       "      <td>0.0</td>\n",
       "      <td>0.0</td>\n",
       "      <td>0.0</td>\n",
       "      <td>0.0</td>\n",
       "    </tr>\n",
       "    <tr>\n",
       "      <th>1</th>\n",
       "      <td>100005</td>\n",
       "      <td>Cash loans</td>\n",
       "      <td>M</td>\n",
       "      <td>N</td>\n",
       "      <td>Y</td>\n",
       "      <td>0</td>\n",
       "      <td>99000.0</td>\n",
       "      <td>222768.0</td>\n",
       "      <td>17370.0</td>\n",
       "      <td>180000.0</td>\n",
       "      <td>...</td>\n",
       "      <td>0</td>\n",
       "      <td>0</td>\n",
       "      <td>0</td>\n",
       "      <td>0</td>\n",
       "      <td>0.0</td>\n",
       "      <td>0.0</td>\n",
       "      <td>0.0</td>\n",
       "      <td>0.0</td>\n",
       "      <td>0.0</td>\n",
       "      <td>3.0</td>\n",
       "    </tr>\n",
       "    <tr>\n",
       "      <th>2</th>\n",
       "      <td>100013</td>\n",
       "      <td>Cash loans</td>\n",
       "      <td>M</td>\n",
       "      <td>Y</td>\n",
       "      <td>Y</td>\n",
       "      <td>0</td>\n",
       "      <td>202500.0</td>\n",
       "      <td>663264.0</td>\n",
       "      <td>69777.0</td>\n",
       "      <td>630000.0</td>\n",
       "      <td>...</td>\n",
       "      <td>0</td>\n",
       "      <td>0</td>\n",
       "      <td>0</td>\n",
       "      <td>0</td>\n",
       "      <td>0.0</td>\n",
       "      <td>0.0</td>\n",
       "      <td>0.0</td>\n",
       "      <td>0.0</td>\n",
       "      <td>1.0</td>\n",
       "      <td>4.0</td>\n",
       "    </tr>\n",
       "    <tr>\n",
       "      <th>3</th>\n",
       "      <td>100028</td>\n",
       "      <td>Cash loans</td>\n",
       "      <td>F</td>\n",
       "      <td>N</td>\n",
       "      <td>Y</td>\n",
       "      <td>2</td>\n",
       "      <td>315000.0</td>\n",
       "      <td>1575000.0</td>\n",
       "      <td>49018.5</td>\n",
       "      <td>1575000.0</td>\n",
       "      <td>...</td>\n",
       "      <td>0</td>\n",
       "      <td>0</td>\n",
       "      <td>0</td>\n",
       "      <td>0</td>\n",
       "      <td>0.0</td>\n",
       "      <td>0.0</td>\n",
       "      <td>0.0</td>\n",
       "      <td>0.0</td>\n",
       "      <td>0.0</td>\n",
       "      <td>3.0</td>\n",
       "    </tr>\n",
       "    <tr>\n",
       "      <th>4</th>\n",
       "      <td>100038</td>\n",
       "      <td>Cash loans</td>\n",
       "      <td>M</td>\n",
       "      <td>Y</td>\n",
       "      <td>N</td>\n",
       "      <td>1</td>\n",
       "      <td>180000.0</td>\n",
       "      <td>625500.0</td>\n",
       "      <td>32067.0</td>\n",
       "      <td>625500.0</td>\n",
       "      <td>...</td>\n",
       "      <td>0</td>\n",
       "      <td>0</td>\n",
       "      <td>0</td>\n",
       "      <td>0</td>\n",
       "      <td>NaN</td>\n",
       "      <td>NaN</td>\n",
       "      <td>NaN</td>\n",
       "      <td>NaN</td>\n",
       "      <td>NaN</td>\n",
       "      <td>NaN</td>\n",
       "    </tr>\n",
       "  </tbody>\n",
       "</table>\n",
       "<p>5 rows × 121 columns</p>\n",
       "</div>"
      ],
      "text/plain": [
       "   SK_ID_CURR NAME_CONTRACT_TYPE CODE_GENDER FLAG_OWN_CAR FLAG_OWN_REALTY  \\\n",
       "0      100001         Cash loans           F            N               Y   \n",
       "1      100005         Cash loans           M            N               Y   \n",
       "2      100013         Cash loans           M            Y               Y   \n",
       "3      100028         Cash loans           F            N               Y   \n",
       "4      100038         Cash loans           M            Y               N   \n",
       "\n",
       "   CNT_CHILDREN  AMT_INCOME_TOTAL  AMT_CREDIT  AMT_ANNUITY  AMT_GOODS_PRICE  \\\n",
       "0             0          135000.0    568800.0      20560.5         450000.0   \n",
       "1             0           99000.0    222768.0      17370.0         180000.0   \n",
       "2             0          202500.0    663264.0      69777.0         630000.0   \n",
       "3             2          315000.0   1575000.0      49018.5        1575000.0   \n",
       "4             1          180000.0    625500.0      32067.0         625500.0   \n",
       "\n",
       "   ... FLAG_DOCUMENT_18 FLAG_DOCUMENT_19 FLAG_DOCUMENT_20 FLAG_DOCUMENT_21  \\\n",
       "0  ...                0                0                0                0   \n",
       "1  ...                0                0                0                0   \n",
       "2  ...                0                0                0                0   \n",
       "3  ...                0                0                0                0   \n",
       "4  ...                0                0                0                0   \n",
       "\n",
       "  AMT_REQ_CREDIT_BUREAU_HOUR  AMT_REQ_CREDIT_BUREAU_DAY  \\\n",
       "0                        0.0                        0.0   \n",
       "1                        0.0                        0.0   \n",
       "2                        0.0                        0.0   \n",
       "3                        0.0                        0.0   \n",
       "4                        NaN                        NaN   \n",
       "\n",
       "   AMT_REQ_CREDIT_BUREAU_WEEK  AMT_REQ_CREDIT_BUREAU_MON  \\\n",
       "0                         0.0                        0.0   \n",
       "1                         0.0                        0.0   \n",
       "2                         0.0                        0.0   \n",
       "3                         0.0                        0.0   \n",
       "4                         NaN                        NaN   \n",
       "\n",
       "   AMT_REQ_CREDIT_BUREAU_QRT  AMT_REQ_CREDIT_BUREAU_YEAR  \n",
       "0                        0.0                         0.0  \n",
       "1                        0.0                         3.0  \n",
       "2                        1.0                         4.0  \n",
       "3                        0.0                         3.0  \n",
       "4                        NaN                         NaN  \n",
       "\n",
       "[5 rows x 121 columns]"
      ]
     },
     "execution_count": 4,
     "metadata": {},
     "output_type": "execute_result"
    }
   ],
   "source": [
    "# 테스트 데이터\n",
    "app_test = pd.read_csv('data/application_test.csv')\n",
    "print('Testing data shape:', app_test.shape)\n",
    "app_test.head()"
   ]
  },
  {
   "cell_type": "markdown",
   "metadata": {},
   "source": [
    "테스트 셋은 상당히 작으며 ```TARGET``` 컬럼이 없습니다."
   ]
  },
  {
   "cell_type": "markdown",
   "metadata": {},
   "source": [
    "## Exploratory Data Analysis\n",
    "탐색적 데이터 분석(EDA)은 통계량을 계산하고 수치를 만들어 데이터 내의 트렌드, 이상치, 패턴, 관계 등을 찾는 개방형 프로세스입니다. EDA의 목표는 데이터가 우리에게 알려줄 수 있는 것들을 익히는 것입니다.일반적으로 높은 수준의 관점에서 시작하여 데이터의 흥미로운 부분을 찾아 특정 영역으로 좁혀 들어갑니다. 그러한 발견은 그 자체로 흥미로울 수 있으며, 어떤 변수들을 사용할지 결정하는 것을 도움으로써 모델 선택에 도움을 주는데 사용할 수 있습니다."
   ]
  },
  {
   "cell_type": "markdown",
   "metadata": {},
   "source": [
    "### Examin the Distribution of Target Column\n",
    "목표는 대출이 제때 상환되었으면 0, 상환에 어려움이 있는 고객은 1로 예측하는 것입니다. 우리는 먼저 각 범주에 속하는 대출 건수를 확인할 수 있습니다."
   ]
  },
  {
   "cell_type": "code",
   "execution_count": 5,
   "metadata": {
    "execution": {
     "iopub.execute_input": "2021-01-30T13:12:38.063926Z",
     "iopub.status.busy": "2021-01-30T13:12:38.057942Z",
     "iopub.status.idle": "2021-01-30T13:12:38.076892Z",
     "shell.execute_reply": "2021-01-30T13:12:38.075895Z",
     "shell.execute_reply.started": "2021-01-30T13:12:38.062928Z"
    }
   },
   "outputs": [
    {
     "data": {
      "text/plain": [
       "0    282686\n",
       "1     24825\n",
       "Name: TARGET, dtype: int64"
      ]
     },
     "execution_count": 5,
     "metadata": {},
     "output_type": "execute_result"
    }
   ],
   "source": [
    "app_train['TARGET'].value_counts()"
   ]
  },
  {
   "cell_type": "code",
   "execution_count": 6,
   "metadata": {
    "execution": {
     "iopub.execute_input": "2021-01-30T13:12:38.077888Z",
     "iopub.status.busy": "2021-01-30T13:12:38.077888Z",
     "iopub.status.idle": "2021-01-30T13:12:38.471834Z",
     "shell.execute_reply": "2021-01-30T13:12:38.471834Z",
     "shell.execute_reply.started": "2021-01-30T13:12:38.077888Z"
    }
   },
   "outputs": [
    {
     "data": {
      "text/plain": [
       "<AxesSubplot:ylabel='Frequency'>"
      ]
     },
     "execution_count": 6,
     "metadata": {},
     "output_type": "execute_result"
    },
    {
     "data": {
      "image/png": "[encoded data removed]",
      "text/plain": [
       "<Figure size 432x288 with 1 Axes>"
      ]
     },
     "metadata": {
      "needs_background": "light"
     },
     "output_type": "display_data"
    }
   ],
   "source": [
    "app_train['TARGET'].astype(int).plot.hist()"
   ]
  },
  {
   "cell_type": "markdown",
   "metadata": {},
   "source": [
    "여기에서 우리는 [불균형한 클래스의 문제](http://www.chioka.in/class-imbalance-problem/)를 발견할 수 있습니다. 상환하지 못한 대출보다 제때 상환한 대출이 훨씬 많습니다. 일단 더 정교한 머신러닝 모델에 들어가면, 이러한 불균형을 반영하기 위해 데이터의 표현에 따라 클래스에 가중치를 부여할 수 있습니다."
   ]
  },
  {
   "cell_type": "markdown",
   "metadata": {},
   "source": [
    "### Examine Missing Values\n",
    "이제 각 컬럼의 결측값 수와 비율을 살펴봅시다."
   ]
  },
  {
   "cell_type": "code",
   "execution_count": 7,
   "metadata": {
    "execution": {
     "iopub.execute_input": "2021-01-30T13:12:38.474827Z",
     "iopub.status.busy": "2021-01-30T13:12:38.473830Z",
     "iopub.status.idle": "2021-01-30T13:12:38.481808Z",
     "shell.execute_reply": "2021-01-30T13:12:38.481808Z",
     "shell.execute_reply.started": "2021-01-30T13:12:38.474827Z"
    }
   },
   "outputs": [],
   "source": [
    "# 컬럼별 결측값을 계산하기 위한 함수\n",
    "def missing_values_table(df):\n",
    "    # 전체 결측값\n",
    "    mis_val = df.isnull().sum()\n",
    "    \n",
    "    # 결측값의 비율\n",
    "    mis_val_percent = 100 * df.isnull().sum()/len(df)\n",
    "    \n",
    "    # 결과에 대한 테이블 생성\n",
    "    mis_val_table = pd.concat([mis_val, mis_val_percent], axis=1)\n",
    "    \n",
    "    # 컬럼명 변경\n",
    "    mis_val_table_ren_columns = mis_val_table.rename(columns={0:'Missing Values', 1:'% of Total Values'})\n",
    "    \n",
    "    # 결측값 비율에 대해 내림차순 정렬\n",
    "    mis_val_table_ren_columns = mis_val_table_ren_columns[mis_val_table_ren_columns.iloc[:, 1] != 0].sort_values('% of Total Values', ascending=False).round(1)\n",
    "    \n",
    "    # 요약 정보 출력\n",
    "    print('Your selected dataframe has ' + str(df.shape[1]) + ' columns.\\nThere are ' + str(mis_val_table_ren_columns.shape[0]) + ' columns that have missing values.')\n",
    "    \n",
    "    # 결측값 정보 테이블 리턴\n",
    "    return mis_val_table_ren_columns"
   ]
  },
  {
   "cell_type": "code",
   "execution_count": 8,
   "metadata": {
    "execution": {
     "iopub.execute_input": "2021-01-30T13:12:38.484800Z",
     "iopub.status.busy": "2021-01-30T13:12:38.484800Z",
     "iopub.status.idle": "2021-01-30T13:12:39.186922Z",
     "shell.execute_reply": "2021-01-30T13:12:39.186922Z",
     "shell.execute_reply.started": "2021-01-30T13:12:38.484800Z"
    }
   },
   "outputs": [
    {
     "name": "stdout",
     "output_type": "stream",
     "text": [
      "Your selected dataframe has 122 columns.\n",
      "There are 67 columns that have missing values.\n"
     ]
    },
    {
     "data": {
      "text/html": [
       "<div>\n",
       "<style scoped>\n",
       "    .dataframe tbody tr th:only-of-type {\n",
       "        vertical-align: middle;\n",
       "    }\n",
       "\n",
       "    .dataframe tbody tr th {\n",
       "        vertical-align: top;\n",
       "    }\n",
       "\n",
       "    .dataframe thead th {\n",
       "        text-align: right;\n",
       "    }\n",
       "</style>\n",
       "<table border=\"1\" class=\"dataframe\">\n",
       "  <thead>\n",
       "    <tr style=\"text-align: right;\">\n",
       "      <th></th>\n",
       "      <th>Missing Values</th>\n",
       "      <th>% of Total Values</th>\n",
       "    </tr>\n",
       "  </thead>\n",
       "  <tbody>\n",
       "    <tr>\n",
       "      <th>COMMONAREA_MEDI</th>\n",
       "      <td>214865</td>\n",
       "      <td>69.9</td>\n",
       "    </tr>\n",
       "    <tr>\n",
       "      <th>COMMONAREA_AVG</th>\n",
       "      <td>214865</td>\n",
       "      <td>69.9</td>\n",
       "    </tr>\n",
       "    <tr>\n",
       "      <th>COMMONAREA_MODE</th>\n",
       "      <td>214865</td>\n",
       "      <td>69.9</td>\n",
       "    </tr>\n",
       "    <tr>\n",
       "      <th>NONLIVINGAPARTMENTS_MEDI</th>\n",
       "      <td>213514</td>\n",
       "      <td>69.4</td>\n",
       "    </tr>\n",
       "    <tr>\n",
       "      <th>NONLIVINGAPARTMENTS_MODE</th>\n",
       "      <td>213514</td>\n",
       "      <td>69.4</td>\n",
       "    </tr>\n",
       "    <tr>\n",
       "      <th>NONLIVINGAPARTMENTS_AVG</th>\n",
       "      <td>213514</td>\n",
       "      <td>69.4</td>\n",
       "    </tr>\n",
       "    <tr>\n",
       "      <th>FONDKAPREMONT_MODE</th>\n",
       "      <td>210295</td>\n",
       "      <td>68.4</td>\n",
       "    </tr>\n",
       "    <tr>\n",
       "      <th>LIVINGAPARTMENTS_MODE</th>\n",
       "      <td>210199</td>\n",
       "      <td>68.4</td>\n",
       "    </tr>\n",
       "    <tr>\n",
       "      <th>LIVINGAPARTMENTS_MEDI</th>\n",
       "      <td>210199</td>\n",
       "      <td>68.4</td>\n",
       "    </tr>\n",
       "    <tr>\n",
       "      <th>LIVINGAPARTMENTS_AVG</th>\n",
       "      <td>210199</td>\n",
       "      <td>68.4</td>\n",
       "    </tr>\n",
       "    <tr>\n",
       "      <th>FLOORSMIN_MODE</th>\n",
       "      <td>208642</td>\n",
       "      <td>67.8</td>\n",
       "    </tr>\n",
       "    <tr>\n",
       "      <th>FLOORSMIN_MEDI</th>\n",
       "      <td>208642</td>\n",
       "      <td>67.8</td>\n",
       "    </tr>\n",
       "    <tr>\n",
       "      <th>FLOORSMIN_AVG</th>\n",
       "      <td>208642</td>\n",
       "      <td>67.8</td>\n",
       "    </tr>\n",
       "    <tr>\n",
       "      <th>YEARS_BUILD_MODE</th>\n",
       "      <td>204488</td>\n",
       "      <td>66.5</td>\n",
       "    </tr>\n",
       "    <tr>\n",
       "      <th>YEARS_BUILD_MEDI</th>\n",
       "      <td>204488</td>\n",
       "      <td>66.5</td>\n",
       "    </tr>\n",
       "    <tr>\n",
       "      <th>YEARS_BUILD_AVG</th>\n",
       "      <td>204488</td>\n",
       "      <td>66.5</td>\n",
       "    </tr>\n",
       "    <tr>\n",
       "      <th>OWN_CAR_AGE</th>\n",
       "      <td>202929</td>\n",
       "      <td>66.0</td>\n",
       "    </tr>\n",
       "    <tr>\n",
       "      <th>LANDAREA_AVG</th>\n",
       "      <td>182590</td>\n",
       "      <td>59.4</td>\n",
       "    </tr>\n",
       "    <tr>\n",
       "      <th>LANDAREA_MEDI</th>\n",
       "      <td>182590</td>\n",
       "      <td>59.4</td>\n",
       "    </tr>\n",
       "    <tr>\n",
       "      <th>LANDAREA_MODE</th>\n",
       "      <td>182590</td>\n",
       "      <td>59.4</td>\n",
       "    </tr>\n",
       "  </tbody>\n",
       "</table>\n",
       "</div>"
      ],
      "text/plain": [
       "                          Missing Values  % of Total Values\n",
       "COMMONAREA_MEDI                   214865               69.9\n",
       "COMMONAREA_AVG                    214865               69.9\n",
       "COMMONAREA_MODE                   214865               69.9\n",
       "NONLIVINGAPARTMENTS_MEDI          213514               69.4\n",
       "NONLIVINGAPARTMENTS_MODE          213514               69.4\n",
       "NONLIVINGAPARTMENTS_AVG           213514               69.4\n",
       "FONDKAPREMONT_MODE                210295               68.4\n",
       "LIVINGAPARTMENTS_MODE             210199               68.4\n",
       "LIVINGAPARTMENTS_MEDI             210199               68.4\n",
       "LIVINGAPARTMENTS_AVG              210199               68.4\n",
       "FLOORSMIN_MODE                    208642               67.8\n",
       "FLOORSMIN_MEDI                    208642               67.8\n",
       "FLOORSMIN_AVG                     208642               67.8\n",
       "YEARS_BUILD_MODE                  204488               66.5\n",
       "YEARS_BUILD_MEDI                  204488               66.5\n",
       "YEARS_BUILD_AVG                   204488               66.5\n",
       "OWN_CAR_AGE                       202929               66.0\n",
       "LANDAREA_AVG                      182590               59.4\n",
       "LANDAREA_MEDI                     182590               59.4\n",
       "LANDAREA_MODE                     182590               59.4"
      ]
     },
     "execution_count": 8,
     "metadata": {},
     "output_type": "execute_result"
    }
   ],
   "source": [
    "# 결측값 통계량\n",
    "missing_values = missing_values_table(app_train)\n",
    "missing_values.head(20)"
   ]
  },
  {
   "cell_type": "markdown",
   "metadata": {},
   "source": [
    "머신러닝 모델을 만들 때가 되면, 이 결측값들을 채워야 합니다(=imputation). 이후 작업에서 우리는 [imputation 없이도 결측값을 다룰 수 있는](https://stats.stackexchange.com/questions/235489/xgboost-can-handle-missing-data-in-the-forecasting-phase) XGBoost와 같은 모델을 사용할 것입니다. 또다른 방법은 결측값의 비율이 매우 큰 컬럼을 제거하는 것인데, 이러한 컬럼들이 우리의 모델에 도움이 되는지 미리 알 수가 없습니다. 따라서 현재는 모든 컬럼을 유지하겠습니다."
   ]
  },
  {
   "cell_type": "markdown",
   "metadata": {},
   "source": [
    "### Column Types\n",
    "컬럼들이 데이터 타입을 살펴봅시다. ```int64```와 ```float64```는 숫자형 변수(이산형 혹은 연속형)이고, ```object``` 컬럼들은 문자열을 포함하며 범주형 변수입니다."
   ]
  },
  {
   "cell_type": "code",
   "execution_count": 9,
   "metadata": {
    "execution": {
     "iopub.execute_input": "2021-01-30T13:12:39.189915Z",
     "iopub.status.busy": "2021-01-30T13:12:39.188917Z",
     "iopub.status.idle": "2021-01-30T13:12:39.198890Z",
     "shell.execute_reply": "2021-01-30T13:12:39.197893Z",
     "shell.execute_reply.started": "2021-01-30T13:12:39.189915Z"
    }
   },
   "outputs": [
    {
     "data": {
      "text/plain": [
       "float64    65\n",
       "int64      41\n",
       "object     16\n",
       "dtype: int64"
      ]
     },
     "execution_count": 9,
     "metadata": {},
     "output_type": "execute_result"
    }
   ],
   "source": [
    "# 각 타입별 컬럼 수 확인\n",
    "app_train.dtypes.value_counts()"
   ]
  },
  {
   "cell_type": "markdown",
   "metadata": {},
   "source": [
    "```object```(범주형) 컬럼들 각각의 범주 개수를 살펴봅시다."
   ]
  },
  {
   "cell_type": "code",
   "execution_count": 10,
   "metadata": {
    "execution": {
     "iopub.execute_input": "2021-01-30T13:12:39.200885Z",
     "iopub.status.busy": "2021-01-30T13:12:39.199888Z",
     "iopub.status.idle": "2021-01-30T13:12:39.598821Z",
     "shell.execute_reply": "2021-01-30T13:12:39.597822Z",
     "shell.execute_reply.started": "2021-01-30T13:12:39.200885Z"
    }
   },
   "outputs": [
    {
     "data": {
      "text/plain": [
       "NAME_CONTRACT_TYPE             2\n",
       "CODE_GENDER                    3\n",
       "FLAG_OWN_CAR                   2\n",
       "FLAG_OWN_REALTY                2\n",
       "NAME_TYPE_SUITE                7\n",
       "NAME_INCOME_TYPE               8\n",
       "NAME_EDUCATION_TYPE            5\n",
       "NAME_FAMILY_STATUS             6\n",
       "NAME_HOUSING_TYPE              6\n",
       "OCCUPATION_TYPE               18\n",
       "WEEKDAY_APPR_PROCESS_START     7\n",
       "ORGANIZATION_TYPE             58\n",
       "FONDKAPREMONT_MODE             4\n",
       "HOUSETYPE_MODE                 3\n",
       "WALLSMATERIAL_MODE             7\n",
       "EMERGENCYSTATE_MODE            2\n",
       "dtype: int64"
      ]
     },
     "execution_count": 10,
     "metadata": {},
     "output_type": "execute_result"
    }
   ],
   "source": [
    "app_train.select_dtypes('object').apply(pd.Series.nunique, axis=0)"
   ]
  },
  {
   "cell_type": "markdown",
   "metadata": {},
   "source": [
    "대부분의 범주형 변수는 고유한 항목의 수가 상대적으로 적습니다. 이러한 범주형 변수들을 다룰 방법을 찾아야합니다."
   ]
  },
  {
   "cell_type": "markdown",
   "metadata": {},
   "source": [
    "### Encoding Categorical Variables\n",
    "더 진행하기 전에, 성가신 범주형 변수들을 처리해야 합니다. 불행히도 머신러닝 모델은 범주형 변수를 다룰 수 없습니다([LightGBM](https://lightgbm.readthedocs.io/en/latest/Features.html)과 같은 모델은 예외). 따라서 모델에 반영하기 전에 이러한 변수들을 숫자로 변환할 방법을 찾아야 합니다. 이러한 방법은 크게 두 가지가 있습니다.  \n",
    "\n",
    "* Label encoding  \n",
    "범주형 변수의 각각의 고유한 항목들을 숫자에 할당합니다. 새로운 컬럼이 생성되지 않습니다.  \n",
    "![LabelEncoding](data/label_encoding.png)  \n",
    "\n",
    "* One-hot encoding  \n",
    "범주형 변수의 각 범주마다 새로운 컬럼을 생성합니다. 각 관측치는 해당 범주에 대한 컬럼에는 1을, 나머지 새로운 컬럼들에는 0을 입력합니다.  \n",
    "![OneHotEncoding](data/one_hot_encoding.png)  \n",
    "\n",
    "레이블인코딩의 문제점은 범주들에 임의로 순서를 준다는 점입니다. 그 값은 각 범주들에 무작위로 할당되고, 그 범주에 고유한 측면을 전혀 반영하지 못합니다. 위의 예제에서 programmer는 4를 받고, data scientist는 1을 받았지만, 다시 해당 과정을 수행하면 라벨은 바뀌거나 전혀 달라집니다. 정수의 실제 할당은 임의적입니다. 따라서 레이블인코딩을 수행할 때, 모델은 해당 컬럼의 상대적인 값을 사용하여 우리가 원치 않는 가중치를 할당할 수도 있습니다. 만약 범주형 변수에 고유한 값이 두개라면 레이블인코딩이 괜찮지만, 2개보다 많을 때는 원핫인코딩이 더 안전한 방법입니다.  \n",
    "\n",
    "이러한 접근 방식의 상대적 장점에 대해 약간의 논쟁이 있으며, 어떤 모델은 레이블인코딩된 범주형 변수를 사용해도 아무 문제가 없습니다. 여기에 좋은 [Stack Overflow](https://datascience.stackexchange.com/questions/9443/when-to-use-one-hot-encoding-vs-labelencoder-vs-dictvectorizor) 토론이 있습니다. 개인적인 생각으로는 클래스가 많은 범주형 변수에 대해서는 범주에 임의로 값을 부여하지 않는다는 점에서 원핫인코딩이 가장 안전합니다. 원핫인코딩의 한 가지 안 좋은 점은 범주형 변수가 많은 범주를 가질 때 변수의 수(데이터의 차원)가 폭발한다는 것입니다. 이것을 다루기 위해, 우리는 차원의 수를 줄이기 위해 [PCA](http://www.cs.otago.ac.nz/cosc453/student_tutorials/principal_components.pdf)나 [다른 차원 축소 방법](https://www.analyticsvidhya.com/blog/2015/07/dimension-reduction-methods/)을 진행한 후에 원핫인코딩을 수행할 수 있습니다.  \n",
    "\n",
    "우리는 두 개의 범주를 가진 범주형 변수에는 레이블인코딩을 사용하고, 2개보다 많은 범주를 가진 변수에 대해서는 원핫인코딩을 사용할 것입니다. 이 과정은 프로젝트에 더 깊게 들어가면 바꿔야 할 수도 있지만, 지금은 이것이 주는 영향을 확인해볼 수 있습니다. (또한 이 노트북에서는 차원 축소를 진행하지 않을 것입니다.)"
   ]
  },
  {
   "cell_type": "markdown",
   "metadata": {},
   "source": [
    "#### Label Encoding and One-Hot Encoding\n",
    "위에서 설명했던 방식을 구현해봅시다. 두 개의 고유한 범주를 갖는 범주형 변수들은 모두 레이블인코딩을, 두개 넘는 변수들은 원핫인코딩을 사용할 것입니다.  \n",
    "\n",
    "레이블인코딩은 Scikit-Learn의 ```LabelEncoder```를, 원핫인코딩은 Pandas의 ```get_dummies```를 사용하겠습니다."
   ]
  },
  {
   "cell_type": "code",
   "execution_count": 11,
   "metadata": {
    "execution": {
     "iopub.execute_input": "2021-01-30T13:12:39.599818Z",
     "iopub.status.busy": "2021-01-30T13:12:39.599818Z",
     "iopub.status.idle": "2021-01-30T13:12:40.256062Z",
     "shell.execute_reply": "2021-01-30T13:12:40.256062Z",
     "shell.execute_reply.started": "2021-01-30T13:12:39.599818Z"
    }
   },
   "outputs": [
    {
     "name": "stdout",
     "output_type": "stream",
     "text": [
      "3 columns were label encoded\n"
     ]
    }
   ],
   "source": [
    "# 레이블인코딩\n",
    "# 레이블인코더 객체 생성\n",
    "le = LabelEncoder()\n",
    "le_count = 0\n",
    "\n",
    "# 컬럼마다 반복\n",
    "for col in app_train:\n",
    "    if app_train[col].dtype == 'object':\n",
    "        if len(app_train[col].unique()) <= 2:\n",
    "            # 트레이닝 데이터 학습\n",
    "            le.fit(app_train[col])\n",
    "            # 트레이닝 데이터와 테스트 데이터 변환\n",
    "            app_train[col] = le.transform(app_train[col])\n",
    "            app_test[col] = le.transform(app_test[col])\n",
    "            \n",
    "            # 몇 개의 컬럼이 라벨인코딩되었는지 추적\n",
    "            le_count += 1\n",
    "\n",
    "print('%d columns were label encoded'%le_count)"
   ]
  },
  {
   "cell_type": "code",
   "execution_count": 12,
   "metadata": {
    "execution": {
     "iopub.execute_input": "2021-01-30T13:12:40.258057Z",
     "iopub.status.busy": "2021-01-30T13:12:40.257060Z",
     "iopub.status.idle": "2021-01-30T13:12:41.608445Z",
     "shell.execute_reply": "2021-01-30T13:12:41.607448Z",
     "shell.execute_reply.started": "2021-01-30T13:12:40.258057Z"
    }
   },
   "outputs": [
    {
     "name": "stdout",
     "output_type": "stream",
     "text": [
      "Training Feature shape: (307511, 243)\n",
      "Testing Feature shape: (48744, 239)\n"
     ]
    }
   ],
   "source": [
    "# 원핫인코딩\n",
    "app_train = pd.get_dummies(app_train)\n",
    "app_test = pd.get_dummies(app_test)\n",
    "\n",
    "print('Training Feature shape:', app_train.shape)\n",
    "print('Testing Feature shape:', app_test.shape)"
   ]
  },
  {
   "cell_type": "markdown",
   "metadata": {},
   "source": [
    "#### Aligning Training and Testing Data\n",
    "트레이닝 데이터와 테스트 데이터에는 모두 같은 컬럼들이 있어야 합니다. 원핫인코딩은 테스트 데이터에 나타나지 않은 범주들을 가진 범주형 변수들 때문에 트레이닝 데이터에는 더 많은 변수들이 있습니다. 테스트 데이터에 없는 컬럼들을 트레이닝 데이터에서 지우기 위해서는 데이터 정렬이 필요합니다. 먼저, 타겟 컬럼을 추출하고(테스트 데이터에는 없으나 해당 정보를 가지고 있어야 하기 때문), ```axis=1```를 설정하여 행이 아닌 열을 정렬합니다."
   ]
  },
  {
   "cell_type": "code",
   "execution_count": 13,
   "metadata": {
    "execution": {
     "iopub.execute_input": "2021-01-30T13:12:41.609443Z",
     "iopub.status.busy": "2021-01-30T13:12:41.609443Z",
     "iopub.status.idle": "2021-01-30T13:12:42.459169Z",
     "shell.execute_reply": "2021-01-30T13:12:42.458172Z",
     "shell.execute_reply.started": "2021-01-30T13:12:41.609443Z"
    }
   },
   "outputs": [
    {
     "name": "stdout",
     "output_type": "stream",
     "text": [
      "Training Feature shape: (307511, 240)\n",
      "Testing Feature shape: (48744, 239)\n"
     ]
    }
   ],
   "source": [
    "train_labels = app_train['TARGET']\n",
    "\n",
    "# 양쪽에 존재하는 컬럼만 유지하며 정렬\n",
    "app_train, app_test = app_train.align(app_test, join='inner', axis=1)\n",
    "\n",
    "# 타겟 데이터 다시 추가\n",
    "app_train['TARGET'] = train_labels\n",
    "\n",
    "print('Training Feature shape:', app_train.shape)\n",
    "print('Testing Feature shape:', app_test.shape)"
   ]
  },
  {
   "cell_type": "markdown",
   "metadata": {},
   "source": [
    " 트레이닝 셋과 테스트 셋은 이제 동일한 컬럼 수를 가지며, 이것은 머신러닝에 요구되는 사항입니다. 컬럼이 수는 원핫인코딩 때문에 매우 늘어났습니다. 어느 순간에 아마도 우리는 데이터 셋의 크기를 줄이기 위해 [차원 축소](https://en.wikipedia.org/wiki/Dimensionality_reduction)를 원하게 될 것입니다."
   ]
  },
  {
   "cell_type": "markdown",
   "metadata": {},
   "source": [
    "### Back to Exploratory Data Analysis"
   ]
  },
  {
   "cell_type": "markdown",
   "metadata": {},
   "source": [
    "#### Anomalies\n",
    "EDA를 할 때 우리가 항상 경계하고 싶은 한 가지 문제점은 데이터 내의 이상값입니다. 이것은 잘못 입력된 수, 측정 장비의 오류, 혹은 유효하지만 극단적인 값 때문일 것입니다. 이상값들을 정량적으로 확인하는 방법은 ```describe``` 메소드를 사용하여 컬럼의 통계량을 확인하는 것입니다. ```DAYS_BIRTH``` 컬럼의 수는 현재 대출 신청과 대하여 기록되므로 음수 값입니다. 연도별로 통계를 보기 위해 -1을 곱하고, 날짜 수로 나눌 수 있습니다."
   ]
  },
  {
   "cell_type": "code",
   "execution_count": 14,
   "metadata": {
    "execution": {
     "iopub.execute_input": "2021-01-30T13:12:42.460167Z",
     "iopub.status.busy": "2021-01-30T13:12:42.460167Z",
     "iopub.status.idle": "2021-01-30T13:12:42.494076Z",
     "shell.execute_reply": "2021-01-30T13:12:42.493080Z",
     "shell.execute_reply.started": "2021-01-30T13:12:42.460167Z"
    }
   },
   "outputs": [
    {
     "data": {
      "text/plain": [
       "count    307511.000000\n",
       "mean         43.936973\n",
       "std          11.956133\n",
       "min          20.517808\n",
       "25%          34.008219\n",
       "50%          43.150685\n",
       "75%          53.923288\n",
       "max          69.120548\n",
       "Name: DAYS_BIRTH, dtype: float64"
      ]
     },
     "execution_count": 14,
     "metadata": {},
     "output_type": "execute_result"
    }
   ],
   "source": [
    "(app_train['DAYS_BIRTH'] / -365).describe()"
   ]
  },
  {
   "cell_type": "markdown",
   "metadata": {},
   "source": [
    "나이대는 합리적인 것 같아 보입니다. 높거나 낮은 이상값은 보이지 않습니다. 근로일수는 어떨까요?"
   ]
  },
  {
   "cell_type": "code",
   "execution_count": 15,
   "metadata": {
    "execution": {
     "iopub.execute_input": "2021-01-30T13:12:42.495073Z",
     "iopub.status.busy": "2021-01-30T13:12:42.495073Z",
     "iopub.status.idle": "2021-01-30T13:12:42.522002Z",
     "shell.execute_reply": "2021-01-30T13:12:42.521004Z",
     "shell.execute_reply.started": "2021-01-30T13:12:42.495073Z"
    }
   },
   "outputs": [
    {
     "data": {
      "text/plain": [
       "count    307511.000000\n",
       "mean      63815.045904\n",
       "std      141275.766519\n",
       "min      -17912.000000\n",
       "25%       -2760.000000\n",
       "50%       -1213.000000\n",
       "75%        -289.000000\n",
       "max      365243.000000\n",
       "Name: DAYS_EMPLOYED, dtype: float64"
      ]
     },
     "execution_count": 15,
     "metadata": {},
     "output_type": "execute_result"
    }
   ],
   "source": [
    "app_train['DAYS_EMPLOYED'].describe()"
   ]
  },
  {
   "cell_type": "markdown",
   "metadata": {},
   "source": [
    "이것은 괜찮지 않아 보입니다. 최댓값은 약 1000년입니다."
   ]
  },
  {
   "cell_type": "code",
   "execution_count": 16,
   "metadata": {
    "execution": {
     "iopub.execute_input": "2021-01-30T13:12:42.523996Z",
     "iopub.status.busy": "2021-01-30T13:12:42.523996Z",
     "iopub.status.idle": "2021-01-30T13:12:42.907970Z",
     "shell.execute_reply": "2021-01-30T13:12:42.906972Z",
     "shell.execute_reply.started": "2021-01-30T13:12:42.523996Z"
    }
   },
   "outputs": [
    {
     "data": {
      "image/png": "[encoded data removed]",
      "text/plain": [
       "<Figure size 432x288 with 1 Axes>"
      ]
     },
     "metadata": {
      "needs_background": "light"
     },
     "output_type": "display_data"
    }
   ],
   "source": [
    "app_train['DAYS_EMPLOYED'].plot.hist(title='Days Employment Histogram')\n",
    "plt.xlabel('Days Employment')\n",
    "plt.show()"
   ]
  },
  {
   "cell_type": "markdown",
   "metadata": {},
   "source": [
    "궁금하니 이상값을 가진 고객을 세분화하여 다른 고객들에 비해 채무불이행 비율이 높은지 낮은지 알아봅시다."
   ]
  },
  {
   "cell_type": "code",
   "execution_count": 17,
   "metadata": {
    "execution": {
     "iopub.execute_input": "2021-01-30T13:12:42.909964Z",
     "iopub.status.busy": "2021-01-30T13:12:42.908966Z",
     "iopub.status.idle": "2021-01-30T13:12:43.570197Z",
     "shell.execute_reply": "2021-01-30T13:12:43.569201Z",
     "shell.execute_reply.started": "2021-01-30T13:12:42.909964Z"
    }
   },
   "outputs": [
    {
     "name": "stdout",
     "output_type": "stream",
     "text": [
      "The non-anomalies default on 8.66% of loans\n",
      "The anomalies default on 5.40% of loans\n",
      "There are 55374 anomalous days of employment\n"
     ]
    }
   ],
   "source": [
    "anom = app_train[app_train['DAYS_EMPLOYED'] == 365243]\n",
    "non_anom = app_train[app_train['DAYS_EMPLOYED'] != 365243]\n",
    "print('The non-anomalies default on %.2f%% of loans'%(100*non_anom['TARGET'].mean()))\n",
    "print('The anomalies default on %.2f%% of loans'%(100*anom['TARGET'].mean()))\n",
    "print('There are %d anomalous days of employment'%len(anom))"
   ]
  },
  {
   "cell_type": "markdown",
   "metadata": {},
   "source": [
    "매우 흥미롭게도 이상값의 채무불이행률이 더 낮게 나왔습니다.  \n",
    "\n",
    "이상값을 처리하는 것은 규칙이 설정되지 않은 정확한 상황에 따라 달라집니다. 가장 안전한 방법중 하나는 이상값을 결측값으로 처리하고 머신러닝 전에 Imputation을 사용하여 채우는 것입니다. 이 경우에는 모든 이상값이 동일한 값을 갖기 때문에 모든 대출이 공통점을 공유하는 경우에 대비하여 같은 값으로 채우고자 합니다. 이상값이 중요한 것 같아 보이기 때문에 우리는 이상값을 ```np.nan```으로 채우고 이상값인지 아닌지 나타내는 boolean형 컬럼을 만들 것입니다."
   ]
  },
  {
   "cell_type": "code",
   "execution_count": 18,
   "metadata": {
    "execution": {
     "iopub.execute_input": "2021-01-30T13:12:43.571195Z",
     "iopub.status.busy": "2021-01-30T13:12:43.571195Z",
     "iopub.status.idle": "2021-01-30T13:12:44.032960Z",
     "shell.execute_reply": "2021-01-30T13:12:44.031963Z",
     "shell.execute_reply.started": "2021-01-30T13:12:43.571195Z"
    }
   },
   "outputs": [
    {
     "data": {
      "image/png": "[encoded data removed]",
      "text/plain": [
       "<Figure size 432x288 with 1 Axes>"
      ]
     },
     "metadata": {
      "needs_background": "light"
     },
     "output_type": "display_data"
    }
   ],
   "source": [
    "### 이상값에 대한 flag 컬럼 생성\n",
    "app_train['DAYS_EMPLOYED_ANOM'] = app_train['DAYS_EMPLOYED'] == 365243\n",
    "\n",
    "# 이상값을 nan으로 대체\n",
    "app_train['DAYS_EMPLOYED'].replace({365243:np.nan}, inplace=True)\n",
    "\n",
    "app_train['DAYS_EMPLOYED'].plot.hist(title='Days Employment Histogram')\n",
    "plt.xlabel('Days Employment')\n",
    "plt.show()"
   ]
  },
  {
   "cell_type": "markdown",
   "metadata": {},
   "source": [
    "분포가 우리가 생각했던 것과 매우 일치하는 것으로 보이며, 이 값들이 원래 이상값이라는 것을 모델에게 알리기 위해 새로운 컬럼을 만들었습니다(nan값은 중앙값과 같은 값으로 채워야 하기 때문). ```DAYS```와 관련된 다른 컬럼들은 확실한 이상값은 없는 것 같아 보입니다.  \n",
    "\n",
    "여기서 매우 중요한 것은, 무엇이는 트레이닝 데이터에 한 것은 테스트 데이터에도 적용해야 한다는 점입니다. 테스트 셋에도 새로운 컬럼을 만들고 기존 컬럼에 ```np.nan```을 채우도록 하겠습니다."
   ]
  },
  {
   "cell_type": "code",
   "execution_count": 19,
   "metadata": {
    "execution": {
     "iopub.execute_input": "2021-01-30T13:12:44.033958Z",
     "iopub.status.busy": "2021-01-30T13:12:44.033958Z",
     "iopub.status.idle": "2021-01-30T13:12:44.059888Z",
     "shell.execute_reply": "2021-01-30T13:12:44.058892Z",
     "shell.execute_reply.started": "2021-01-30T13:12:44.033958Z"
    }
   },
   "outputs": [
    {
     "name": "stdout",
     "output_type": "stream",
     "text": [
      "There are 9274 anomalies in the test data out of 48744 entries\n"
     ]
    }
   ],
   "source": [
    "app_test['DAYS_EMPLOYED_ANOM'] = app_test['DAYS_EMPLOYED'] == 365243\n",
    "app_test['DAYS_EMPLOYED'].replace({365243:np.nan}, inplace=True)\n",
    "\n",
    "print('There are %d anomalies in the test data out of %d entries'%(app_test['DAYS_EMPLOYED_ANOM'].sum(), len(app_test)))"
   ]
  },
  {
   "cell_type": "markdown",
   "metadata": {},
   "source": [
    "#### Correlations\n",
    "이제 범주형 변수와 이상값을 처리했으므로, EDA를 계속 진행하겠습니다. 데이터를 이해하고 다룰 방법은 변수들과 타겟 간의 상관관계를 살펴보는 것입니다. ```.corr``` 메소드를 사용하여 모든 변수들과 타겟 사이의 피어슨 상관관계를 계산할 수 있습니다.  \n",
    "\n",
    "상관계수는 변수의 관련성을 나타내는 가장 좋은 방법은 아니지만 데이터 내에서 가능한 관계에 대한 아이디어를 줍니다. 상관계수의 절댓값에 대한 일반적인 해석은 다음과 같습니다.  \n",
    "\n",
    "* .00-.19: 매우 약함\n",
    "* .20-.39: 약함\n",
    "* .40-.59: 보통\n",
    "* .60-.79: 강함\n",
    "* .80-1.0: 매우 강함"
   ]
  },
  {
   "cell_type": "code",
   "execution_count": 20,
   "metadata": {
    "execution": {
     "iopub.execute_input": "2021-01-30T13:12:44.060886Z",
     "iopub.status.busy": "2021-01-30T13:12:44.060886Z",
     "iopub.status.idle": "2021-01-30T13:13:53.932996Z",
     "shell.execute_reply": "2021-01-30T13:13:53.931998Z",
     "shell.execute_reply.started": "2021-01-30T13:12:44.060886Z"
    }
   },
   "outputs": [
    {
     "name": "stdout",
     "output_type": "stream",
     "text": [
      "Most Positive Correlations:\n",
      " OCCUPATION_TYPE_Laborers                             0.043019\n",
      "FLAG_DOCUMENT_3                                      0.044346\n",
      "REG_CITY_NOT_LIVE_CITY                               0.044395\n",
      "FLAG_EMP_PHONE                                       0.045982\n",
      "NAME_EDUCATION_TYPE_Secondary / secondary special    0.049824\n",
      "REG_CITY_NOT_WORK_CITY                               0.050994\n",
      "DAYS_ID_PUBLISH                                      0.051457\n",
      "CODE_GENDER_M                                        0.054713\n",
      "DAYS_LAST_PHONE_CHANGE                               0.055218\n",
      "NAME_INCOME_TYPE_Working                             0.057481\n",
      "REGION_RATING_CLIENT                                 0.058899\n",
      "REGION_RATING_CLIENT_W_CITY                          0.060893\n",
      "DAYS_EMPLOYED                                        0.074958\n",
      "DAYS_BIRTH                                           0.078239\n",
      "TARGET                                               1.000000\n",
      "Name: TARGET, dtype: float64\n",
      "\n",
      "Most Negetive Correlations:\n",
      " EXT_SOURCE_3                           -0.178919\n",
      "EXT_SOURCE_2                           -0.160472\n",
      "EXT_SOURCE_1                           -0.155317\n",
      "NAME_EDUCATION_TYPE_Higher education   -0.056593\n",
      "CODE_GENDER_F                          -0.054704\n",
      "NAME_INCOME_TYPE_Pensioner             -0.046209\n",
      "DAYS_EMPLOYED_ANOM                     -0.045987\n",
      "ORGANIZATION_TYPE_XNA                  -0.045987\n",
      "FLOORSMAX_AVG                          -0.044003\n",
      "FLOORSMAX_MEDI                         -0.043768\n",
      "FLOORSMAX_MODE                         -0.043226\n",
      "EMERGENCYSTATE_MODE_No                 -0.042201\n",
      "HOUSETYPE_MODE_block of flats          -0.040594\n",
      "AMT_GOODS_PRICE                        -0.039645\n",
      "REGION_POPULATION_RELATIVE             -0.037227\n",
      "Name: TARGET, dtype: float64\n"
     ]
    }
   ],
   "source": [
    "# 타겟변수에 대한 상관관계 파악\n",
    "correlations = app_train.corr()['TARGET'].sort_values()\n",
    "\n",
    "# 상관관계 확인\n",
    "print('Most Positive Correlations:\\n', correlations.tail(15))\n",
    "print('\\nMost Negetive Correlations:\\n', correlations.head(15))"
   ]
  },
  {
   "cell_type": "markdown",
   "metadata": {},
   "source": [
    "더 중요한 상관관계들을 다뤄봅시다. ```DAYS_BIRTH```는 가장 강한 상관관계입니다. 문서를 살펴보면, ```DAYS_BIRTH```는 음수로 대출 시점에 고객의 나이를 일수로 계산한 컬럼입니다. 상관관계는 양수이지만 해당 컬럼의 값이 실제로 음수이기 때문에 고객의 나이가 많을수록 채무불이행(target == 0)이 발생할 가능성이 적다는 것을 의미합니다. 약간 혼란스럽기 때문에 변수에 절댓값을 취할 것이고, 아마 상관관계는 음의 상관관계가 될 것입니다."
   ]
  },
  {
   "cell_type": "markdown",
   "metadata": {},
   "source": [
    "#### Effect of Age on Repayment"
   ]
  },
  {
   "cell_type": "code",
   "execution_count": 21,
   "metadata": {
    "execution": {
     "iopub.execute_input": "2021-01-30T13:13:53.934990Z",
     "iopub.status.busy": "2021-01-30T13:13:53.934990Z",
     "iopub.status.idle": "2021-01-30T13:13:53.960921Z",
     "shell.execute_reply": "2021-01-30T13:13:53.959923Z",
     "shell.execute_reply.started": "2021-01-30T13:13:53.934990Z"
    }
   },
   "outputs": [
    {
     "data": {
      "text/plain": [
       "-0.07823930830982712"
      ]
     },
     "execution_count": 21,
     "metadata": {},
     "output_type": "execute_result"
    }
   ],
   "source": [
    "app_train['DAYS_BIRTH'] = abs(app_train['DAYS_BIRTH'])\n",
    "app_train['DAYS_BIRTH'].corr(app_train['TARGET'])"
   ]
  },
  {
   "cell_type": "markdown",
   "metadata": {},
   "source": [
    "고객의 연령이 높을수록 target과 음의 선형 상관관계를 가진다는 것은 나이가 많을수록 제때에 대출금을 상환하려는 경향이 있다는 것을 의미합니다.  \n",
    "\n",
    "이 변수를 제대로 살펴봅시다. 먼저, 나이에 대한 히스토그램을 작성할 수 있습니다. x축에 년을 넣어 조금 더 이해가 잘 되도록 시각화하겠습니다."
   ]
  },
  {
   "cell_type": "code",
   "execution_count": 22,
   "metadata": {
    "execution": {
     "iopub.execute_input": "2021-01-30T13:13:53.963914Z",
     "iopub.status.busy": "2021-01-30T13:13:53.962916Z",
     "iopub.status.idle": "2021-01-30T13:13:54.387780Z",
     "shell.execute_reply": "2021-01-30T13:13:54.386782Z",
     "shell.execute_reply.started": "2021-01-30T13:13:53.963914Z"
    }
   },
   "outputs": [
    {
     "data": {
      "image/png": "[encoded data removed]",
      "text/plain": [
       "<Figure size 432x288 with 1 Axes>"
      ]
     },
     "metadata": {},
     "output_type": "display_data"
    }
   ],
   "source": [
    "# 플롯의 스타일 설정\n",
    "plt.style.use('fivethirtyeight')\n",
    "\n",
    "# 연령별 분포 시각화\n",
    "plt.hist(app_train['DAYS_BIRTH']/365, edgecolor='k', bins=25)\n",
    "plt.title('Age of Client')\n",
    "plt.xlabel('Age (years)')\n",
    "plt.ylabel('Count')\n",
    "plt.show()"
   ]
  },
  {
   "cell_type": "markdown",
   "metadata": {},
   "source": [
    "나이의 분포는 모든 연령들이 합리적이기 때문에 이상값이 없다는 것 외에는 그다지 많은 것을 알려주지 않습니다. target에 대한 나이의 효과를 시각화하기 위해, target 값마다 다른 색상을 준 커널 밀도 추정 플롯(KDE)을 만들 것입니다. 커널 밀도 추청 플롯은 단일 변수의 분포를 보여주며 평활화된 히스토그램으로 생각할 수 있습니다. (단일 평활 곡선 개발을 위해 각 데이터의 지점과 그것들을 평균화한 값을 사용하여 커널을 생성합니다.) seaborn의 ```kdeplot```을 사용하여 만들어보겠습니다."
   ]
  },
  {
   "cell_type": "code",
   "execution_count": 25,
   "metadata": {
    "execution": {
     "iopub.execute_input": "2021-01-30T13:32:06.645057Z",
     "iopub.status.busy": "2021-01-30T13:32:06.644063Z",
     "iopub.status.idle": "2021-01-30T13:32:08.294644Z",
     "shell.execute_reply": "2021-01-30T13:32:08.265722Z",
     "shell.execute_reply.started": "2021-01-30T13:32:06.645057Z"
    }
   },
   "outputs": [
    {
     "data": {
      "image/png": "[encoded data removed]",
      "text/plain": [
       "<Figure size 720x576 with 1 Axes>"
      ]
     },
     "metadata": {},
     "output_type": "display_data"
    }
   ],
   "source": [
    "plt.figure(figsize=(10, 8))\n",
    "\n",
    "# 제때 상환한 대출들에 대한 KDE 플롯\n",
    "sns.kdeplot(app_train.loc[app_train['TARGET'] == 0, 'DAYS_BIRTH']/365, label='target == 0')\n",
    "sns.kdeplot(app_train.loc[app_train['TARGET'] == 1, 'DAYS_BIRTH']/365, label='target == 1')\n",
    "\n",
    "# 레이블 추가\n",
    "plt.legend(loc='best')\n",
    "plt.xlabel('Age (years)')\n",
    "plt.ylabel('Density')\n",
    "plt.title('Distribution of Ages')\n",
    "plt.show()"
   ]
  },
  {
   "cell_type": "markdown",
   "metadata": {},
   "source": [
    "target == 1인 곡선은 나이가 어린 쪽을 향해 기울어집니다. 유의한 상관관계는 아니더라도(-0.07) 이 변수는 타겟에 영향을 주기 때문에 머신러닝 모델에 유용할 것으로 보입니다. 이 관계를 다른 방법으로 알아봅시다. (연령대별 대출 상환의 평균 실패)  \n",
    "\n",
    "이 그래프를 만들기 위해 먼저 ```cut```을 사용하여 나이 범주를 5개 년씩 잘라야 합니다. 그 다음, 각 범주마다 타겟에 대한 평균값을 계산하여 대출을 상환하지 않은 비율을 알아봅니다."
   ]
  },
  {
   "cell_type": "code",
   "execution_count": 26,
   "metadata": {
    "execution": {
     "iopub.execute_input": "2021-01-30T13:39:46.784315Z",
     "iopub.status.busy": "2021-01-30T13:39:46.783325Z",
     "iopub.status.idle": "2021-01-30T13:39:47.148320Z",
     "shell.execute_reply": "2021-01-30T13:39:47.147324Z",
     "shell.execute_reply.started": "2021-01-30T13:39:46.784315Z"
    }
   },
   "outputs": [
    {
     "data": {
      "text/html": [
       "<div>\n",
       "<style scoped>\n",
       "    .dataframe tbody tr th:only-of-type {\n",
       "        vertical-align: middle;\n",
       "    }\n",
       "\n",
       "    .dataframe tbody tr th {\n",
       "        vertical-align: top;\n",
       "    }\n",
       "\n",
       "    .dataframe thead th {\n",
       "        text-align: right;\n",
       "    }\n",
       "</style>\n",
       "<table border=\"1\" class=\"dataframe\">\n",
       "  <thead>\n",
       "    <tr style=\"text-align: right;\">\n",
       "      <th></th>\n",
       "      <th>TARGET</th>\n",
       "      <th>DAYS_BIRTH</th>\n",
       "      <th>YEARS_BIRTH</th>\n",
       "      <th>YEARS_BINNED</th>\n",
       "    </tr>\n",
       "  </thead>\n",
       "  <tbody>\n",
       "    <tr>\n",
       "      <th>0</th>\n",
       "      <td>1</td>\n",
       "      <td>9461</td>\n",
       "      <td>25.920548</td>\n",
       "      <td>(25.0, 30.0]</td>\n",
       "    </tr>\n",
       "    <tr>\n",
       "      <th>1</th>\n",
       "      <td>0</td>\n",
       "      <td>16765</td>\n",
       "      <td>45.931507</td>\n",
       "      <td>(45.0, 50.0]</td>\n",
       "    </tr>\n",
       "    <tr>\n",
       "      <th>2</th>\n",
       "      <td>0</td>\n",
       "      <td>19046</td>\n",
       "      <td>52.180822</td>\n",
       "      <td>(50.0, 55.0]</td>\n",
       "    </tr>\n",
       "    <tr>\n",
       "      <th>3</th>\n",
       "      <td>0</td>\n",
       "      <td>19005</td>\n",
       "      <td>52.068493</td>\n",
       "      <td>(50.0, 55.0]</td>\n",
       "    </tr>\n",
       "    <tr>\n",
       "      <th>4</th>\n",
       "      <td>0</td>\n",
       "      <td>19932</td>\n",
       "      <td>54.608219</td>\n",
       "      <td>(50.0, 55.0]</td>\n",
       "    </tr>\n",
       "    <tr>\n",
       "      <th>5</th>\n",
       "      <td>0</td>\n",
       "      <td>16941</td>\n",
       "      <td>46.413699</td>\n",
       "      <td>(45.0, 50.0]</td>\n",
       "    </tr>\n",
       "    <tr>\n",
       "      <th>6</th>\n",
       "      <td>0</td>\n",
       "      <td>13778</td>\n",
       "      <td>37.747945</td>\n",
       "      <td>(35.0, 40.0]</td>\n",
       "    </tr>\n",
       "    <tr>\n",
       "      <th>7</th>\n",
       "      <td>0</td>\n",
       "      <td>18850</td>\n",
       "      <td>51.643836</td>\n",
       "      <td>(50.0, 55.0]</td>\n",
       "    </tr>\n",
       "    <tr>\n",
       "      <th>8</th>\n",
       "      <td>0</td>\n",
       "      <td>20099</td>\n",
       "      <td>55.065753</td>\n",
       "      <td>(55.0, 60.0]</td>\n",
       "    </tr>\n",
       "    <tr>\n",
       "      <th>9</th>\n",
       "      <td>0</td>\n",
       "      <td>14469</td>\n",
       "      <td>39.641096</td>\n",
       "      <td>(35.0, 40.0]</td>\n",
       "    </tr>\n",
       "  </tbody>\n",
       "</table>\n",
       "</div>"
      ],
      "text/plain": [
       "   TARGET  DAYS_BIRTH  YEARS_BIRTH  YEARS_BINNED\n",
       "0       1        9461    25.920548  (25.0, 30.0]\n",
       "1       0       16765    45.931507  (45.0, 50.0]\n",
       "2       0       19046    52.180822  (50.0, 55.0]\n",
       "3       0       19005    52.068493  (50.0, 55.0]\n",
       "4       0       19932    54.608219  (50.0, 55.0]\n",
       "5       0       16941    46.413699  (45.0, 50.0]\n",
       "6       0       13778    37.747945  (35.0, 40.0]\n",
       "7       0       18850    51.643836  (50.0, 55.0]\n",
       "8       0       20099    55.065753  (55.0, 60.0]\n",
       "9       0       14469    39.641096  (35.0, 40.0]"
      ]
     },
     "execution_count": 26,
     "metadata": {},
     "output_type": "execute_result"
    }
   ],
   "source": [
    "# 나이 정보를 분리된 데이터프레임에 저장\n",
    "age_data = app_train[['TARGET', 'DAYS_BIRTH']]\n",
    "age_data['YEARS_BIRTH'] = age_data['DAYS_BIRTH']/365\n",
    "\n",
    "# 나이 데이터 구간화\n",
    "age_data['YEARS_BINNED'] = pd.cut(age_data['YEARS_BIRTH'], bins=np.linspace(20, 70, num=11))\n",
    "age_data.head(10)"
   ]
  },
  {
   "cell_type": "code",
   "execution_count": 27,
   "metadata": {
    "execution": {
     "iopub.execute_input": "2021-01-30T13:40:34.714912Z",
     "iopub.status.busy": "2021-01-30T13:40:34.714912Z",
     "iopub.status.idle": "2021-01-30T13:40:34.756800Z",
     "shell.execute_reply": "2021-01-30T13:40:34.755803Z",
     "shell.execute_reply.started": "2021-01-30T13:40:34.714912Z"
    }
   },
   "outputs": [
    {
     "data": {
      "text/html": [
       "<div>\n",
       "<style scoped>\n",
       "    .dataframe tbody tr th:only-of-type {\n",
       "        vertical-align: middle;\n",
       "    }\n",
       "\n",
       "    .dataframe tbody tr th {\n",
       "        vertical-align: top;\n",
       "    }\n",
       "\n",
       "    .dataframe thead th {\n",
       "        text-align: right;\n",
       "    }\n",
       "</style>\n",
       "<table border=\"1\" class=\"dataframe\">\n",
       "  <thead>\n",
       "    <tr style=\"text-align: right;\">\n",
       "      <th></th>\n",
       "      <th>TARGET</th>\n",
       "      <th>DAYS_BIRTH</th>\n",
       "      <th>YEARS_BIRTH</th>\n",
       "    </tr>\n",
       "    <tr>\n",
       "      <th>YEARS_BINNED</th>\n",
       "      <th></th>\n",
       "      <th></th>\n",
       "      <th></th>\n",
       "    </tr>\n",
       "  </thead>\n",
       "  <tbody>\n",
       "    <tr>\n",
       "      <th>(20.0, 25.0]</th>\n",
       "      <td>0.123036</td>\n",
       "      <td>8532.795625</td>\n",
       "      <td>23.377522</td>\n",
       "    </tr>\n",
       "    <tr>\n",
       "      <th>(25.0, 30.0]</th>\n",
       "      <td>0.111436</td>\n",
       "      <td>10155.219250</td>\n",
       "      <td>27.822518</td>\n",
       "    </tr>\n",
       "    <tr>\n",
       "      <th>(30.0, 35.0]</th>\n",
       "      <td>0.102814</td>\n",
       "      <td>11854.848377</td>\n",
       "      <td>32.479037</td>\n",
       "    </tr>\n",
       "    <tr>\n",
       "      <th>(35.0, 40.0]</th>\n",
       "      <td>0.089414</td>\n",
       "      <td>13707.908253</td>\n",
       "      <td>37.555913</td>\n",
       "    </tr>\n",
       "    <tr>\n",
       "      <th>(40.0, 45.0]</th>\n",
       "      <td>0.078491</td>\n",
       "      <td>15497.661233</td>\n",
       "      <td>42.459346</td>\n",
       "    </tr>\n",
       "    <tr>\n",
       "      <th>(45.0, 50.0]</th>\n",
       "      <td>0.074171</td>\n",
       "      <td>17323.900441</td>\n",
       "      <td>47.462741</td>\n",
       "    </tr>\n",
       "    <tr>\n",
       "      <th>(50.0, 55.0]</th>\n",
       "      <td>0.066968</td>\n",
       "      <td>19196.494791</td>\n",
       "      <td>52.593136</td>\n",
       "    </tr>\n",
       "    <tr>\n",
       "      <th>(55.0, 60.0]</th>\n",
       "      <td>0.055314</td>\n",
       "      <td>20984.262742</td>\n",
       "      <td>57.491131</td>\n",
       "    </tr>\n",
       "    <tr>\n",
       "      <th>(60.0, 65.0]</th>\n",
       "      <td>0.052737</td>\n",
       "      <td>22780.547460</td>\n",
       "      <td>62.412459</td>\n",
       "    </tr>\n",
       "    <tr>\n",
       "      <th>(65.0, 70.0]</th>\n",
       "      <td>0.037270</td>\n",
       "      <td>24292.614340</td>\n",
       "      <td>66.555108</td>\n",
       "    </tr>\n",
       "  </tbody>\n",
       "</table>\n",
       "</div>"
      ],
      "text/plain": [
       "                TARGET    DAYS_BIRTH  YEARS_BIRTH\n",
       "YEARS_BINNED                                     \n",
       "(20.0, 25.0]  0.123036   8532.795625    23.377522\n",
       "(25.0, 30.0]  0.111436  10155.219250    27.822518\n",
       "(30.0, 35.0]  0.102814  11854.848377    32.479037\n",
       "(35.0, 40.0]  0.089414  13707.908253    37.555913\n",
       "(40.0, 45.0]  0.078491  15497.661233    42.459346\n",
       "(45.0, 50.0]  0.074171  17323.900441    47.462741\n",
       "(50.0, 55.0]  0.066968  19196.494791    52.593136\n",
       "(55.0, 60.0]  0.055314  20984.262742    57.491131\n",
       "(60.0, 65.0]  0.052737  22780.547460    62.412459\n",
       "(65.0, 70.0]  0.037270  24292.614340    66.555108"
      ]
     },
     "execution_count": 27,
     "metadata": {},
     "output_type": "execute_result"
    }
   ],
   "source": [
    "# 구간별로 그룹화 후 평균 계산\n",
    "age_groups = age_data.groupby('YEARS_BINNED').mean()\n",
    "age_groups"
   ]
  },
  {
   "cell_type": "code",
   "execution_count": 28,
   "metadata": {
    "execution": {
     "iopub.execute_input": "2021-01-30T13:42:47.409186Z",
     "iopub.status.busy": "2021-01-30T13:42:47.409186Z",
     "iopub.status.idle": "2021-01-30T13:42:47.746255Z",
     "shell.execute_reply": "2021-01-30T13:42:47.745257Z",
     "shell.execute_reply.started": "2021-01-30T13:42:47.409186Z"
    }
   },
   "outputs": [
    {
     "data": {
      "image/png": "[encoded data removed]",
      "text/plain": [
       "<Figure size 576x576 with 1 Axes>"
      ]
     },
     "metadata": {},
     "output_type": "display_data"
    }
   ],
   "source": [
    "plt.figure(figsize=(8, 8))\n",
    "\n",
    "# 나이 구간과 타겟의 평균값을 bar plot으로 시각화\n",
    "plt.bar(age_groups.index.astype(str), 100*age_groups['TARGET'])\n",
    "\n",
    "# 라벨링\n",
    "plt.xticks(rotation=75)\n",
    "plt.xlabel('Age Group (years)')\n",
    "plt.ylabel('Failure to Repay (%)')\n",
    "plt.title('Failure to Repay by Age Group')\n",
    "plt.show()"
   ]
  },
  {
   "cell_type": "markdown",
   "metadata": {},
   "source": [
    "확실한 추세가 있습니다. 젊은 신청자일수록 대출을 잘 갚지 않는 것 같습니다! 상환 실패율은 가장 어린 세 그룹의 경우 10%를 넘고, 가장 높은 연령대는 5%를 넘지 않습니다.  \n",
    "\n",
    "이것은 은행에서 직접 사용할 수 있는 정보입니다. 젊은 고객들은 대출금을 상환할 가능성이 낮기 때문에 그들에게 더 많은 지침이나 재정 계획 팁을 제공해야 할 수도 있습니다. 이것은 은행이 젊은 연령의 고객들을 차별해야 한다는 것이 아니라 해당 고객들이 제때 상환할 수 있도록 예방 조치를 취하는 것이 현명하다는 것을 의미합니다."
   ]
  },
  {
   "cell_type": "markdown",
   "metadata": {},
   "source": [
    "#### Exterior Sources\n",
    "target과 가장 강한 음의 상관관계를 가지는 세 개의 변수는 ```EXT_SOURCE_1```, ```EXT_SOURCE_2```, ```EXT_SOURCE_3```입니다. 문서에 따르면, 이 변수들은 '외부 데이터 소스로부터 정규화된 수치'를 나타냅니다. 정확히 무슨 의미인지는 모르겠지만, 수많은 데이터 소스를 이용하여 만들어진 누적 신용 등급일 수 있습니다.  \n",
    "\n",
    "이 변수들을 살펴봅시다.  \n",
    "\n",
    "먼저, target과 다른 변수들에 대하여 ```EXT_SOURCE``` 변수들의 상관관계를 볼 수 있습니다."
   ]
  },
  {
   "cell_type": "code",
   "execution_count": 32,
   "metadata": {
    "execution": {
     "iopub.execute_input": "2021-01-30T14:15:38.775961Z",
     "iopub.status.busy": "2021-01-30T14:15:38.775961Z",
     "iopub.status.idle": "2021-01-30T14:15:38.866718Z",
     "shell.execute_reply": "2021-01-30T14:15:38.865722Z",
     "shell.execute_reply.started": "2021-01-30T14:15:38.775961Z"
    }
   },
   "outputs": [
    {
     "data": {
      "text/html": [
       "<div>\n",
       "<style scoped>\n",
       "    .dataframe tbody tr th:only-of-type {\n",
       "        vertical-align: middle;\n",
       "    }\n",
       "\n",
       "    .dataframe tbody tr th {\n",
       "        vertical-align: top;\n",
       "    }\n",
       "\n",
       "    .dataframe thead th {\n",
       "        text-align: right;\n",
       "    }\n",
       "</style>\n",
       "<table border=\"1\" class=\"dataframe\">\n",
       "  <thead>\n",
       "    <tr style=\"text-align: right;\">\n",
       "      <th></th>\n",
       "      <th>TARGET</th>\n",
       "      <th>EXT_SOURCE_1</th>\n",
       "      <th>EXT_SOURCE_2</th>\n",
       "      <th>EXT_SOURCE_3</th>\n",
       "      <th>DAYS_BIRTH</th>\n",
       "    </tr>\n",
       "  </thead>\n",
       "  <tbody>\n",
       "    <tr>\n",
       "      <th>TARGET</th>\n",
       "      <td>1.000000</td>\n",
       "      <td>-0.155317</td>\n",
       "      <td>-0.160472</td>\n",
       "      <td>-0.178919</td>\n",
       "      <td>-0.078239</td>\n",
       "    </tr>\n",
       "    <tr>\n",
       "      <th>EXT_SOURCE_1</th>\n",
       "      <td>-0.155317</td>\n",
       "      <td>1.000000</td>\n",
       "      <td>0.213982</td>\n",
       "      <td>0.186846</td>\n",
       "      <td>0.600610</td>\n",
       "    </tr>\n",
       "    <tr>\n",
       "      <th>EXT_SOURCE_2</th>\n",
       "      <td>-0.160472</td>\n",
       "      <td>0.213982</td>\n",
       "      <td>1.000000</td>\n",
       "      <td>0.109167</td>\n",
       "      <td>0.091996</td>\n",
       "    </tr>\n",
       "    <tr>\n",
       "      <th>EXT_SOURCE_3</th>\n",
       "      <td>-0.178919</td>\n",
       "      <td>0.186846</td>\n",
       "      <td>0.109167</td>\n",
       "      <td>1.000000</td>\n",
       "      <td>0.205478</td>\n",
       "    </tr>\n",
       "    <tr>\n",
       "      <th>DAYS_BIRTH</th>\n",
       "      <td>-0.078239</td>\n",
       "      <td>0.600610</td>\n",
       "      <td>0.091996</td>\n",
       "      <td>0.205478</td>\n",
       "      <td>1.000000</td>\n",
       "    </tr>\n",
       "  </tbody>\n",
       "</table>\n",
       "</div>"
      ],
      "text/plain": [
       "                TARGET  EXT_SOURCE_1  EXT_SOURCE_2  EXT_SOURCE_3  DAYS_BIRTH\n",
       "TARGET        1.000000     -0.155317     -0.160472     -0.178919   -0.078239\n",
       "EXT_SOURCE_1 -0.155317      1.000000      0.213982      0.186846    0.600610\n",
       "EXT_SOURCE_2 -0.160472      0.213982      1.000000      0.109167    0.091996\n",
       "EXT_SOURCE_3 -0.178919      0.186846      0.109167      1.000000    0.205478\n",
       "DAYS_BIRTH   -0.078239      0.600610      0.091996      0.205478    1.000000"
      ]
     },
     "execution_count": 32,
     "metadata": {},
     "output_type": "execute_result"
    }
   ],
   "source": [
    "# EXT_SOURCE 변수들을 추출하여 상관관계 파악\n",
    "ext_data = app_train[['TARGET', 'EXT_SOURCE_1', 'EXT_SOURCE_2', 'EXT_SOURCE_3', 'DAYS_BIRTH']]\n",
    "ext_data_corrs = ext_data.corr()\n",
    "ext_data_corrs"
   ]
  },
  {
   "cell_type": "code",
   "execution_count": 35,
   "metadata": {
    "execution": {
     "iopub.execute_input": "2021-01-30T14:16:40.011212Z",
     "iopub.status.busy": "2021-01-30T14:16:40.011212Z",
     "iopub.status.idle": "2021-01-30T14:16:40.556280Z",
     "shell.execute_reply": "2021-01-30T14:16:40.555282Z",
     "shell.execute_reply.started": "2021-01-30T14:16:40.011212Z"
    }
   },
   "outputs": [
    {
     "data": {
      "image/png": "[encoded data removed]",
      "text/plain": [
       "<Figure size 576x432 with 2 Axes>"
      ]
     },
     "metadata": {},
     "output_type": "display_data"
    }
   ],
   "source": [
    "plt.figure(figsize=(8, 6))\n",
    "\n",
    "# 상관관계 히트맵\n",
    "sns.heatmap(ext_data_corrs, cmap=plt.cm.RdYlBu_r, vmin=-0.25, annot=True, vmax=0.6)\n",
    "plt.title('Correlation Heatmap')\n",
    "plt.show()"
   ]
  },
  {
   "cell_type": "markdown",
   "metadata": {},
   "source": [
    "세 개의 ```EXT_SOURCE``` 변수들은 모두 타겟과 음의 상관관계를 가지고, 이는 ```EXT_SOURCE``` 값이 증가할수록 고객이 대출금을 더 잘 상환하는 경향이 있다는 것을 나타냅니다. 또한 ```DAYS_BIRTH```가 ```EXT_SOURCE_1```과 양의 상관관계를 가지며, 이것은  이 점수의 요인 중 하나가 고객의 연령일 수 있음을 알 수 있습니다.  \n",
    "\n",
    "다음으로 target의 값에 따라 다른 색을 주어 이 변수들 각각의 분포를 확인해볼 수 있습니다. 이렇게 하면 해당 변수가 target에 미치는 영향을 시각화할 수 있습니다."
   ]
  },
  {
   "cell_type": "code",
   "execution_count": 39,
   "metadata": {
    "execution": {
     "iopub.execute_input": "2021-01-30T14:26:04.241630Z",
     "iopub.status.busy": "2021-01-30T14:26:04.241630Z",
     "iopub.status.idle": "2021-01-30T14:26:07.991489Z",
     "shell.execute_reply": "2021-01-30T14:26:07.989514Z",
     "shell.execute_reply.started": "2021-01-30T14:26:04.241630Z"
    }
   },
   "outputs": [
    {
     "data": {
      "image/png": "[encoded data removed]",
      "text/plain": [
       "<Figure size 720x864 with 3 Axes>"
      ]
     },
     "metadata": {},
     "output_type": "display_data"
    }
   ],
   "source": [
    "plt.figure(figsize=(10, 12))\n",
    "\n",
    "for i, source in enumerate(['EXT_SOURCE_1', 'EXT_SOURCE_2', 'EXT_SOURCE_3']):\n",
    "    plt.subplot(3, 1, i+1)\n",
    "    sns.kdeplot(app_train.loc[app_train['TARGET']==0, source], label='target == 0')\n",
    "    sns.kdeplot(app_train.loc[app_train['TARGET']==1, source], label='target == 1')\n",
    "    \n",
    "    plt.title('Distribution of %s by Target Value'%source)\n",
    "    plt.xlabel('%s'%source)\n",
    "    plt.ylabel('Density')\n",
    "    plt.legend(loc='best')\n",
    "plt.tight_layout(h_pad=2.5)"
   ]
  },
  {
   "cell_type": "markdown",
   "metadata": {},
   "source": [
    "```EXT_SOURCE_3```은 target의 값에 따라 큰 차이를 보입니다. 우리는 이 변수가 신청자의 대출 상환 가능성과 어느정도 관계가 있음을 명확하게 알 수 있습니다. 관계가 강하지는 않지만 이 변수들은 여전히 머신러닝 모델이 신청자가 제때 대출금을 상환할 수 있을지 없을지를 예측하는데 유용할 것입니다."
   ]
  }
 ],
 "metadata": {
  "kernelspec": {
   "display_name": "Python 3",
   "language": "python",
   "name": "python3"
  },
  "language_info": {
   "codemirror_mode": {
    "name": "ipython",
    "version": 3
   },
   "file_extension": ".py",
   "mimetype": "text/x-python",
   "name": "python",
   "nbconvert_exporter": "python",
   "pygments_lexer": "ipython3",
   "version": "3.8.5"
  }
 },
 "nbformat": 4,
 "nbformat_minor": 4
}
