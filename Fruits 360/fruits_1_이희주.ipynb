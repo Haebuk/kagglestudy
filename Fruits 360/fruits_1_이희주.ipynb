{
 "cells": [
  {
   "cell_type": "markdown",
   "metadata": {},
   "source": [
    "- competition/dataset : [https://www.kaggle.com/moltean/fruits](https://www.kaggle.com/moltean/fruits)\n",
    "- date : 2021/02/15\n",
    "- original : [https://www.kaggle.com/amadeus1996/fruits-360-transfer-learning-using-keras/](https://www.kaggle.com/amadeus1996/fruits-360-transfer-learning-using-keras/)"
   ]
  },
  {
   "cell_type": "markdown",
   "metadata": {},
   "source": [
    "## Fruits-360 - Transfer Learning using Keras"
   ]
  },
  {
   "cell_type": "markdown",
   "metadata": {
    "execution": {
     "iopub.execute_input": "2021-01-19T23:23:23.804833Z",
     "iopub.status.busy": "2021-01-19T23:23:23.803834Z",
     "iopub.status.idle": "2021-01-19T23:23:23.811814Z",
     "shell.execute_reply": "2021-01-19T23:23:23.810817Z",
     "shell.execute_reply.started": "2021-01-19T23:23:23.804833Z"
    }
   },
   "source": [
    "**✏ 필사 1회** "
   ]
  },
  {
   "cell_type": "markdown",
   "metadata": {},
   "source": [
    "- 이 노트북은 Fruits-360 데이터셋에 대한 transfer leraning을 간략하게 적용했습니다.\n",
    "- 데이터 셋은 64개의 과일에 대한 42345개의 이미지입니다.\n",
    "- 우리는 transfer lerning 접근 방법을 일반적인 접근 방법과 비교합니다.\n",
    "- 2 epochs 이내에 98.44%의 정확도를 달성합니다."
   ]
  },
  {
   "cell_type": "markdown",
   "metadata": {},
   "source": [
    "**Contents:**  \n",
    "1. Brief Explanation of Transfer Learning\n",
    "2. Transfer Learning using Kaggle Kernels\n",
    "3. Reading and Visualizing the Data\n",
    "4. Building and Compiling the Models\n",
    "5. Training and Validating the Pretained Model\n",
    "6. Training and Validating Vanilla Model\n",
    "7. Comparison between Pretained Models and Vanila Model"
   ]
  },
  {
   "cell_type": "code",
   "execution_count": 1,
   "metadata": {
    "execution": {
     "iopub.execute_input": "2021-02-14T23:37:52.209923Z",
     "iopub.status.busy": "2021-02-14T23:37:52.208925Z",
     "iopub.status.idle": "2021-02-14T23:38:11.694390Z",
     "shell.execute_reply": "2021-02-14T23:38:11.693390Z",
     "shell.execute_reply.started": "2021-02-14T23:37:52.209923Z"
    }
   },
   "outputs": [],
   "source": [
    "import os\n",
    "from os import listdir, makedirs\n",
    "from os.path import join, exists, expanduser\n",
    "\n",
    "from keras import applications\n",
    "from keras.preprocessing.image import ImageDataGenerator\n",
    "from keras import optimizers\n",
    "from keras.models import Sequential, Model\n",
    "from keras.layers import GlobalAveragePooling2D\n",
    "from keras.layers import Activation, Dropout, Flatten, Dense\n",
    "from keras import backend as K\n",
    "import tensorflow as tf"
   ]
  },
  {
   "cell_type": "markdown",
   "metadata": {},
   "source": [
    "## 1. Brief Explanation of Transfer Learning\n",
    "transfer learning에서 우리는 먼저 기본 데이터 셋과 작업에 대해 기본 네트워크를 훈련한 다음 학습된 feature를 변경하거나 두 번째 target 네트워크로 전송하여 target 데이터셋과 작업에 대해 훈련합니다. 이 프로세스는 feature가 기본 작업에만 특정하지 않고 기본과 target 작업 모두에 적합할 때 작동하는 경향이 있습니다.  \n",
    "\n",
    "Lisa Torrey와 Jude Shavlik는 transfer learning을 사용했을 때 가능한 세 가지 이점을 말했습니다:  \n",
    "- 시작점은 소스 모델의 초기 기술(모델 다듬기 전)이 그렇지 않은 경우보다 높습니다.\n",
    "- 소스 모델의 훈련 중 스킬의 향상 속도(기울기)는 그렇지 않은 경우보다 가파릅니다.\n",
    "- 훈련 모델의 수렴은 그렇지 앟은 경우보다 우수합니다.\n",
    "\n",
    "![transfer learning vs. without transfer](data/Three-ways-in-which-transfer-might-improve-learning.png)  \n",
    "\n",
    "일반적으로 우리의 데이터셋에 대해 이미 학습과 정교한 튜닝이 된 모델을 사용합니다(네트워크의 weight와 parameter가 큰 데이터셋에 대해 이미 훈련됨). 이미 학습된 모델은 초기화된 가중치를 제공하여 빠른 수렴을 유도하거나 진행중인 작업의 고정된 feature 추출기로 작용할 것이라는 생각입니다.  \n",
    "\n",
    "transfer learning의 두 가지 주요 시나리오는 다음과 같습니다:  \n",
    "- convnet 미세 조정: 무작위 초기화 대신 imagenet 1000과 같은 큰 데이터셋으로 훈련된 사전 훈련된 네트워크로 네트워크를 초기화합니다. 나머지 훈련은 일반적입니다. 이 시나리오에서 전체 네트워크는 우리의 관심인 데이터셋에 대해 재훈련시켜야 합니다.\n",
    "- 고정된 feature 추출기로서의 convnet: 마지막 fully connected layer을 제외한 모든 네트워크에 대해 weight을 고정시킬 것입니다. 마지막 fully connected layer는 random weight을 가진 새로운 것과 교체되며 이 layer만 훈련됩니다.  \n",
    "\n",
    "이 노트북에서 우리는 첫 번째 시나리오를 보여줄 것입니다."
   ]
  },
  {
   "cell_type": "markdown",
   "metadata": {},
   "source": [
    "## 2. Transfer Learning using Kaggle Kernels"
   ]
  },
  {
   "cell_type": "markdown",
   "metadata": {},
   "source": [
    "### Using the Kears Pretrained Models dataset\n",
    "Kaggle 커널에서는 네트워크 연결을 사용하여 미리 훈련된 keras 모델을 다운로드할 수 없습니다. [이 데이터셋](https://www.kaggle.com/moltean/fruits)이 kaggle 환경에서 우리가 선호하는 사전 훈련된 모델을 사용하는데 도움이 될 것입니다.  \n",
    "\n",
    "우리가 해야 할 일은 미리 훈련된 모델을 keras가 찾고 있는 캐시 디렉토리(~/.keras/models)에 복사하는 것입니다."
   ]
  },
  {
   "cell_type": "code",
   "execution_count": 8,
   "metadata": {
    "execution": {
     "iopub.execute_input": "2021-02-15T02:43:20.224016Z",
     "iopub.status.busy": "2021-02-15T02:43:20.224016Z",
     "iopub.status.idle": "2021-02-15T02:43:20.240970Z",
     "shell.execute_reply": "2021-02-15T02:43:20.239974Z",
     "shell.execute_reply.started": "2021-02-15T02:43:20.224016Z"
    }
   },
   "outputs": [],
   "source": [
    "cache_dir = expanduser(join('~', '.keras'))\n",
    "if not exists(cache_dir):\n",
    "    makedirs(cache_dir)\n",
    "models_dir = join(cache_dir, 'models')\n",
    "if not exists(models_dir):\n",
    "    makedirs(models_dir)"
   ]
  },
  {
   "cell_type": "code",
   "execution_count": 15,
   "metadata": {
    "execution": {
     "iopub.execute_input": "2021-02-15T03:00:38.736155Z",
     "iopub.status.busy": "2021-02-15T03:00:38.735158Z",
     "iopub.status.idle": "2021-02-15T03:00:41.358367Z",
     "shell.execute_reply": "2021-02-15T03:00:41.357362Z",
     "shell.execute_reply.started": "2021-02-15T03:00:38.736155Z"
    }
   },
   "outputs": [
    {
     "name": "stdout",
     "output_type": "stream",
     "text": [
      "        1개 파일이 복사되었습니다.\n",
      "G:\\GitHub\\kaggle\\6. Fruits\\keras-pretrained-models\\resnet50_weights_tf_dim_ordering_tf_kernels.h5\n",
      "G:\\GitHub\\kaggle\\6. Fruits\\keras-pretrained-models\\resnet50_weights_tf_dim_ordering_tf_kernels_notop.h5\n",
      "        2개 파일이 복사되었습니다.\n"
     ]
    }
   ],
   "source": [
    "!copy G:\\GitHub\\kaggle\\\"6. Fruits\"\\keras-pretrained-models\\*notop* C:\\Users\\PC\\.keras\\models\n",
    "!copy G:\\GitHub\\kaggle\\\"6. Fruits\"\\keras-pretrained-models\\imagenet_class_index.json C:\\Users\\PC\\.keras\\models\n",
    "!copy G:\\GitHub\\kaggle\\\"6. Fruits\"\\keras-pretrained-models\\resnet50* C:\\Users\\PC\\.keras\\models"
   ]
  },
  {
   "cell_type": "code",
   "execution_count": 17,
   "metadata": {
    "execution": {
     "iopub.execute_input": "2021-02-15T03:02:04.592169Z",
     "iopub.status.busy": "2021-02-15T03:02:04.592169Z",
     "iopub.status.idle": "2021-02-15T03:02:04.650581Z",
     "shell.execute_reply": "2021-02-15T03:02:04.648615Z",
     "shell.execute_reply.started": "2021-02-15T03:02:04.592169Z"
    }
   },
   "outputs": [
    {
     "name": "stdout",
     "output_type": "stream",
     "text": [
      "Available Pretrained Models:\n",
      "\n",
      " C 드라이브의 볼륨에는 이름이 없습니다.\n",
      " 볼륨 일련 번호: 7AA4-5BDC\n",
      "\n",
      " C:\\Users\\PC\\.keras\\models 디렉터리\n",
      "\n",
      "2021-02-15  오후 12:00    <DIR>          .\n",
      "2021-02-15  오후 12:00    <DIR>          ..\n",
      "2019-09-21  오전 05:16            35,363 imagenet_class_index.json\n",
      "2019-09-21  오전 05:16       219,055,592 inception_resnet_v2_weights_tf_dim_ordering_tf_kernels_notop.h5\n",
      "2019-09-21  오전 05:17        87,910,968 inception_v3_weights_tf_dim_ordering_tf_kernels_notop.h5\n",
      "2019-09-21  오전 05:17       102,853,048 resnet50_weights_tf_dim_ordering_tf_kernels.h5\n",
      "2019-09-21  오전 05:17        94,653,016 resnet50_weights_tf_dim_ordering_tf_kernels_notop.h5\n",
      "2019-09-21  오전 05:18        58,889,256 vgg16_weights_tf_dim_ordering_tf_kernels_notop.h5\n",
      "2019-09-21  오전 05:18        83,683,744 xception_weights_tf_dim_ordering_tf_kernels_notop.h5\n",
      "               7개 파일         647,080,987 바이트\n",
      "               2개 디렉터리  16,929,521,664 바이트 남음\n"
     ]
    }
   ],
   "source": [
    "print('Available Pretrained Models:\\n')\n",
    "!dir C:\\Users\\PC\\.keras\\models"
   ]
  },
  {
   "cell_type": "markdown",
   "metadata": {},
   "source": [
    "## 3. Reading and Visualizing the Data"
   ]
  },
  {
   "cell_type": "markdown",
   "metadata": {},
   "source": [
    "### Reading the Data\n",
    "다른 keras와 같이 이미지 확대 API는 간단하지만 강력합니다. **ImageDataGenerator**를 사용하여 데이터를 패치하고 우리의 네트워크에 넣어보겠습니다.  \n",
    "\n",
    "keras는 이미지 데이터를 준비하고 확대하기 위한 형태의 **ImageDataGenerator**를 제공합니다. "
   ]
  }
 ],
 "metadata": {
  "kernelspec": {
   "display_name": "Python 3",
   "language": "python",
   "name": "python3"
  },
  "language_info": {
   "codemirror_mode": {
    "name": "ipython",
    "version": 3
   },
   "file_extension": ".py",
   "mimetype": "text/x-python",
   "name": "python",
   "nbconvert_exporter": "python",
   "pygments_lexer": "ipython3",
   "version": "3.8.5"
  }
 },
 "nbformat": 4,
 "nbformat_minor": 4
}
