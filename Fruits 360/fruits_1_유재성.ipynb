{
 "cells": [
  {
   "cell_type": "markdown",
   "id": "supported-generic",
   "metadata": {},
   "source": [
    "# Keras을 이용한 전이 학습"
   ]
  },
  {
   "cell_type": "markdown",
   "id": "chief-insight",
   "metadata": {},
   "source": [
    "https://www.kaggle.com/amadeus1996/fruits-360-transfer-learning-using-keras\n",
    "\n",
    "이 노트북은 Fruits-360 데이터 세트에 대한 전이학습을 간략하게 적용한 것입니다.\n",
    "\n",
    "이 데이터 세트는 64개 과일의 42345개의 이미지로 구성됩니다.\n",
    "\n",
    "우리는 전이 학습 접근 방식을 일반 접근 방식과 비교합니다.\n",
    "\n",
    "정확도는 2 epoch 내에서 98.44% 입니다."
   ]
  },
  {
   "cell_type": "markdown",
   "id": "violent-technology",
   "metadata": {},
   "source": [
    "### Contents\n",
    "    1. 전이 학습에 대한 간략한 설명\n",
    "    2. 캐글 커널을 사용한 전이 학습\n",
    "    3. 데이터 로드\n",
    "    4. 모델 구축 및 컴파일\n",
    "    5. 사전교육 모델 학습 및 검증\n",
    "    6. 일반 모델 학습 및 검증\n",
    "    7. 두 모델 비교"
   ]
  },
  {
   "cell_type": "code",
   "execution_count": 1,
   "id": "dominican-victor",
   "metadata": {
    "ExecuteTime": {
     "end_time": "2021-02-15T13:36:36.678156Z",
     "start_time": "2021-02-15T13:36:32.194559Z"
    }
   },
   "outputs": [
    {
     "name": "stderr",
     "output_type": "stream",
     "text": [
      "Using TensorFlow backend.\n"
     ]
    }
   ],
   "source": [
    "import os\n",
    "from os import listdir, makedirs\n",
    "from os.path import join, exists, expanduser\n",
    "\n",
    "from keras import applications\n",
    "from keras.preprocessing.image import ImageDataGenerator\n",
    "from keras import optimizers\n",
    "from keras.models import Sequential, Model\n",
    "from keras.layers import Dense, GlobalAveragePooling2D\n",
    "from keras.layers import Activation, Dropout, Flatten, Dense\n",
    "from keras import backend as K\n",
    "import tensorflow as tf"
   ]
  },
  {
   "cell_type": "markdown",
   "id": "worthy-print",
   "metadata": {},
   "source": [
    "## Transfer Learning\n",
    "전이 학습에서 우리는 먼저 기본 데이터 세트와 작업을 기반으로 기본 네트워크를 훈련한 다음 학습된 피처의 용도를 변경하거나 두 번째 대상 네트워크로 전송하여 대상 데이터 세트와 작업에 대해 훈련합니다. 이 프로세스는 피처가 기본 태스크에 한정되지 않고 기본 태스크와 대상 태스크 모두에 적합한 일반적인 경우 작동하는 경향이 있습니다.\n",
    "\n",
    "Lisa Torrey와 Jude Shavlik은 전이 학습을 사용할 때 다음과 같은 세 가지 이점을 설명합니다.\n",
    "   - 그래프가 더 높이 시작합니다. 소스 모델의 초기 기술(모델을 다듬기 전)이 그렇지 않은 경우보다 높습니다.\n",
    "   - 높은 경사를 가집니다. 소스 모델을 교육하는 동안 스킬의 향상 속도는 그렇지 않은 경우보다 더 가파릅니다.\n",
    "   - 더 높은 점근선을 가집니다. 훈련된 모델의 융합된 기술은 그렇지 않은 경우보다 더 우수합니다.\n",
    "   \n",
    "기본적으로 사전 훈련된 모델(다른 사람에 의해 대규모 데이터 세트에서 훈련된 네트워크의 가중치와 매개 변수)을 취하고 자체 데이터 세트로 모델을 '세밀하게 조정'합니다. 이 사전 훈련된 모델은 초기화된 가중치를 제공하여 더 빠른 수렴을 유도하거나 관심 작업의 고정 피처 추출기로서의 역할을 할 것이라는 생각입니다.\n",
    "\n",
    "이러한 두 가지 주요 전이 학습 시나리오는 다음과 같습니다.\n",
    "\n",
    "- convnet 미세 조정: 랜덤 초기화 대신 imagenet 1000 같은 대규모 데이터 세트에서 사전 학습된 네트워크로 네트워크를 초기화합니다. 나머지 훈련은 평소와 같습니다. 이 시나리오에서는 전체 네트워크를 관심있는 데이터 세트에 대해 재교육해야 합니다.\n",
    "\n",
    "- ConvNet을 고정 피처 추출기로 사용: 여기서는 최종적으로 완전히 연결된 레이어를 제외한 모든 네트워크의 가중치를 동결합니다. 최종적으로 완전히 연결된 레이어는 무작위 가중치를 가진 새로운 레이어로 대체되고 이 레이어만 훈련됩니다.\n",
    "\n",
    "이 노트북에서는 첫 번째 시나리오를 시연합니다."
   ]
  },
  {
   "cell_type": "markdown",
   "id": "distant-adaptation",
   "metadata": {},
   "source": [
    "## Transfer Learning using Kaggle Kernels\n",
    "__Using the Keras Pertrained Models dataset__\n",
    "\n",
    "캐글 커널은 네트워크 연결을 사용하여 사전 훈련된 keras 모델을 다운로드 할 수 없습니다. 이 데이터 세트는 캐글 커널 환경에서 가장 선호하는 사전 훈련된 모델을 사용하는 데 도움이 됩니다.\n",
    "\n",
    "우리가 해야 할 일은 미리 훈련된 모델을 keras가 갖고 있는 캐시 디렉토리(~/.keras/models)에 복사하는 것입니다. (생략)"
   ]
  },
  {
   "cell_type": "code",
   "execution_count": 2,
   "id": "killing-supervision",
   "metadata": {
    "ExecuteTime": {
     "end_time": "2021-02-15T13:36:36.774243Z",
     "start_time": "2021-02-15T13:36:36.679157Z"
    },
    "scrolled": true
   },
   "outputs": [
    {
     "name": "stderr",
     "output_type": "stream",
     "text": [
      "'cp'은(는) 내부 또는 외부 명령, 실행할 수 있는 프로그램, 또는\n",
      "배치 파일이 아닙니다.\n",
      "'cp'은(는) 내부 또는 외부 명령, 실행할 수 있는 프로그램, 또는\n",
      "배치 파일이 아닙니다.\n"
     ]
    },
    {
     "name": "stdout",
     "output_type": "stream",
     "text": [
      "Available Pretrained Models:\n",
      "\n"
     ]
    },
    {
     "name": "stderr",
     "output_type": "stream",
     "text": [
      "'cp'은(는) 내부 또는 외부 명령, 실행할 수 있는 프로그램, 또는\n",
      "배치 파일이 아닙니다.\n",
      "'ls'은(는) 내부 또는 외부 명령, 실행할 수 있는 프로그램, 또는\n",
      "배치 파일이 아닙니다.\n"
     ]
    }
   ],
   "source": [
    "cache_dir = expanduser(join('~', '.keras'))\n",
    "if not exists(cache_dir):\n",
    "    makedirs(cache_dir)\n",
    "models_dir = join(cache_dir, 'models')\n",
    "if not exists(models_dir):\n",
    "    makedirs(models_dir)\n",
    "    \n",
    "!cp ../input/keras-pretrained-models/*notop* ~/.keras/models/\n",
    "!cp ../input/keras-pretrained-models/imagenet_class_index.json ~/.keras/models/\n",
    "!cp ../input/keras-pretrained-models/resnet50* ~/.keras/models/\n",
    "\n",
    "print('Available Pretrained Models:\\n')\n",
    "!ls ~/.keras/models"
   ]
  },
  {
   "cell_type": "markdown",
   "id": "official-naples",
   "metadata": {},
   "source": [
    "## Reading and Visualizing the Data\n",
    "\n",
    "ImageDataGenerator를 이용하여 데이터를 가져와 네트워크에 제공할 것입니다.\n",
    "\n",
    "keras는 ImageDataGenerator를 제공하여 이미지 데이터 준비 및 증강을 위한 구성을 정의합니다. 전체 이미지 데이터 세트에 대한 작업을 메모리에 수행하는 대신, API는 딥러닝 모델 피팅 프로세스를 통해 반복되도록 설계되어 있어 적시에 증강 이미지 데이터를 생성할 수 있습니다. 이렇게 하면 메모리 오버헤드가 감소하지만 모델 교육동안 약간의 시간 비용이 추가됩니다.\n",
    "\n",
    "데이터 생성기 자체는 실제로 반복자로, 요청 시 디렉토리에서 이미지 샘플 배치를 반환합니다. flow_from_directory() 함수를 호출하여 배치 크기를 구성하고 데이터 생성기를 준비하고 이미지 배치를 가져올 수 있습니다."
   ]
  },
  {
   "cell_type": "code",
   "execution_count": 3,
   "id": "fantastic-valve",
   "metadata": {
    "ExecuteTime": {
     "end_time": "2021-02-15T13:36:36.790258Z",
     "start_time": "2021-02-15T13:36:36.775244Z"
    }
   },
   "outputs": [],
   "source": [
    "# dimensions of our images\n",
    "img_width, img_height = 224, 224 # 우리가 사용할 미리 훈련된 모델에 따라 설정. ResNet-50 입력 사이즈는 224 X 224 X 3\n",
    "\n",
    "train_data_dir = './input/Training/'\n",
    "validation_data_dir = './input/Test/'\n",
    "nb_train_samples = 31688\n",
    "nb_validation_samples = 10657\n",
    "batch_size=16"
   ]
  },
  {
   "cell_type": "code",
   "execution_count": 4,
   "id": "official-rebound",
   "metadata": {
    "ExecuteTime": {
     "end_time": "2021-02-15T13:36:40.000929Z",
     "start_time": "2021-02-15T13:36:36.791258Z"
    }
   },
   "outputs": [
    {
     "name": "stdout",
     "output_type": "stream",
     "text": [
      "Found 67692 images belonging to 131 classes.\n",
      "Found 22688 images belonging to 131 classes.\n"
     ]
    }
   ],
   "source": [
    "train_datagen = ImageDataGenerator(rescale=1. /255,\n",
    "                                  shear_range=0.2,\n",
    "                                  zoom_range=0.2,\n",
    "                                  horizontal_flip=True)\n",
    "\n",
    "test_datagen = ImageDataGenerator(rescale=1./ 255)\n",
    "\n",
    "train_generator = train_datagen.flow_from_directory(train_data_dir,\n",
    "                                                   target_size=(img_height, img_width),\n",
    "                                                   batch_size=batch_size,\n",
    "                                                   class_mode='categorical')\n",
    "\n",
    "validation_generator = test_datagen.flow_from_directory(validation_data_dir,\n",
    "                                                       target_size=(img_height, img_width),\n",
    "                                                       batch_size=batch_size,\n",
    "                                                       class_mode='categorical')"
   ]
  },
  {
   "cell_type": "markdown",
   "id": "distinct-scoop",
   "metadata": {},
   "source": [
    "### Visualizing the Data"
   ]
  },
  {
   "cell_type": "code",
   "execution_count": 5,
   "id": "deadly-colorado",
   "metadata": {
    "ExecuteTime": {
     "end_time": "2021-02-15T13:36:40.160150Z",
     "start_time": "2021-02-15T13:36:40.001928Z"
    }
   },
   "outputs": [
    {
     "data": {
      "text/html": [
       "        <script type=\"text/javascript\">\n",
       "        window.PlotlyConfig = {MathJaxConfig: 'local'};\n",
       "        if (window.MathJax) {MathJax.Hub.Config({SVG: {font: \"STIX-Web\"}});}\n",
       "        if (typeof require !== 'undefined') {\n",
       "        require.undef(\"plotly\");\n",
       "        requirejs.config({\n",
       "            paths: {\n",
       "                'plotly': ['https://cdn.plot.ly/plotly-latest.min']\n",
       "            }\n",
       "        });\n",
       "        require(['plotly'], function(Plotly) {\n",
       "            window._Plotly = Plotly;\n",
       "        });\n",
       "        }\n",
       "        </script>\n",
       "        "
      ]
     },
     "metadata": {},
     "output_type": "display_data"
    }
   ],
   "source": [
    "import pandas as pd\n",
    "from plotly.offline import init_notebook_mode, iplot\n",
    "import plotly.graph_objects as go\n",
    "init_notebook_mode(connected=True)"
   ]
  },
  {
   "cell_type": "code",
   "execution_count": 6,
   "id": "forced-concert",
   "metadata": {
    "ExecuteTime": {
     "end_time": "2021-02-15T13:36:40.176165Z",
     "start_time": "2021-02-15T13:36:40.161151Z"
    }
   },
   "outputs": [],
   "source": [
    "training_data = pd.DataFrame(train_generator.classes, columns=['classes'])\n",
    "testing_data = pd.DataFrame(validation_generator.classes, columns=['classes'])\n"
   ]
  },
  {
   "cell_type": "code",
   "execution_count": 7,
   "id": "refined-profit",
   "metadata": {
    "ExecuteTime": {
     "end_time": "2021-02-15T13:36:40.192179Z",
     "start_time": "2021-02-15T13:36:40.177166Z"
    }
   },
   "outputs": [],
   "source": [
    "def create_stack_bar_data(col, df):\n",
    "    aggregated = df[col].value_counts().sort_index()\n",
    "    x_values = aggregated.index.tolist()\n",
    "    y_values = aggregated.values.tolist()\n",
    "    return x_values, y_values"
   ]
  },
  {
   "cell_type": "code",
   "execution_count": 8,
   "id": "applicable-industry",
   "metadata": {
    "ExecuteTime": {
     "end_time": "2021-02-15T13:36:40.868369Z",
     "start_time": "2021-02-15T13:36:40.193180Z"
    },
    "scrolled": false
   },
   "outputs": [
    {
     "data": {
      "application/vnd.plotly.v1+json": {
       "config": {
        "linkText": "Export to plot.ly",
        "plotlyServerURL": "https://plot.ly",
        "showLink": false
       },
       "data": [
        {
         "name": "Class Count",
         "opacity": 0.75,
         "type": "bar",
         "x": [
          "Apple Braeburn",
          "Apple Crimson Snow",
          "Apple Golden 1",
          "Apple Golden 2",
          "Apple Golden 3",
          "Apple Granny Smith",
          "Apple Pink Lady",
          "Apple Red 1",
          "Apple Red 2",
          "Apple Red 3",
          "Apple Red Delicious",
          "Apple Red Yellow 1",
          "Apple Red Yellow 2",
          "Apricot",
          "Avocado",
          "Avocado ripe",
          "Banana",
          "Banana Lady Finger",
          "Banana Red",
          "Beetroot",
          "Blueberry",
          "Cactus fruit",
          "Cantaloupe 1",
          "Cantaloupe 2",
          "Carambula",
          "Cauliflower",
          "Cherry 1",
          "Cherry 2",
          "Cherry Rainier",
          "Cherry Wax Black",
          "Cherry Wax Red",
          "Cherry Wax Yellow",
          "Chestnut",
          "Clementine",
          "Cocos",
          "Corn",
          "Corn Husk",
          "Cucumber Ripe",
          "Cucumber Ripe 2",
          "Dates",
          "Eggplant",
          "Fig",
          "Ginger Root",
          "Granadilla",
          "Grape Blue",
          "Grape Pink",
          "Grape White",
          "Grape White 2",
          "Grape White 3",
          "Grape White 4",
          "Grapefruit Pink",
          "Grapefruit White",
          "Guava",
          "Hazelnut",
          "Huckleberry",
          "Kaki",
          "Kiwi",
          "Kohlrabi",
          "Kumquats",
          "Lemon",
          "Lemon Meyer",
          "Limes",
          "Lychee",
          "Mandarine",
          "Mango",
          "Mango Red",
          "Mangostan",
          "Maracuja",
          "Melon Piel de Sapo",
          "Mulberry",
          "Nectarine",
          "Nectarine Flat",
          "Nut Forest",
          "Nut Pecan",
          "Onion Red",
          "Onion Red Peeled",
          "Onion White",
          "Orange",
          "Papaya",
          "Passion Fruit",
          "Peach",
          "Peach 2",
          "Peach Flat",
          "Pear",
          "Pear 2",
          "Pear Abate",
          "Pear Forelle",
          "Pear Kaiser",
          "Pear Monster",
          "Pear Red",
          "Pear Stone",
          "Pear Williams",
          "Pepino",
          "Pepper Green",
          "Pepper Orange",
          "Pepper Red",
          "Pepper Yellow",
          "Physalis",
          "Physalis with Husk",
          "Pineapple",
          "Pineapple Mini",
          "Pitahaya Red",
          "Plum",
          "Plum 2",
          "Plum 3",
          "Pomegranate",
          "Pomelo Sweetie",
          "Potato Red",
          "Potato Red Washed",
          "Potato Sweet",
          "Potato White",
          "Quince",
          "Rambutan",
          "Raspberry",
          "Redcurrant",
          "Salak",
          "Strawberry",
          "Strawberry Wedge",
          "Tamarillo",
          "Tangelo",
          "Tomato 1",
          "Tomato 2",
          "Tomato 3",
          "Tomato 4",
          "Tomato Cherry Red",
          "Tomato Heart",
          "Tomato Maroon",
          "Tomato Yellow",
          "Tomato not Ripened",
          "Walnut",
          "Watermelon"
         ],
         "y": [
          492,
          444,
          480,
          492,
          481,
          492,
          456,
          492,
          492,
          429,
          490,
          492,
          672,
          492,
          427,
          491,
          490,
          450,
          490,
          450,
          462,
          490,
          492,
          492,
          490,
          702,
          492,
          738,
          738,
          492,
          492,
          492,
          450,
          490,
          490,
          450,
          462,
          392,
          468,
          490,
          468,
          702,
          297,
          490,
          984,
          492,
          490,
          490,
          492,
          471,
          490,
          492,
          490,
          464,
          490,
          490,
          466,
          471,
          490,
          492,
          490,
          490,
          490,
          490,
          490,
          426,
          300,
          490,
          738,
          492,
          492,
          480,
          654,
          534,
          450,
          445,
          438,
          479,
          492,
          490,
          492,
          738,
          492,
          492,
          696,
          490,
          702,
          300,
          490,
          666,
          711,
          490,
          490,
          444,
          702,
          666,
          666,
          492,
          492,
          490,
          493,
          490,
          447,
          420,
          900,
          492,
          450,
          450,
          453,
          450,
          450,
          490,
          492,
          490,
          492,
          490,
          492,
          738,
          490,
          490,
          738,
          672,
          738,
          479,
          492,
          684,
          367,
          459,
          474,
          735,
          475
         ]
        }
       ],
       "layout": {
        "height": 400,
        "legend": {
         "orientation": "h"
        },
        "template": {
         "data": {
          "bar": [
           {
            "error_x": {
             "color": "#2a3f5f"
            },
            "error_y": {
             "color": "#2a3f5f"
            },
            "marker": {
             "line": {
              "color": "#E5ECF6",
              "width": 0.5
             }
            },
            "type": "bar"
           }
          ],
          "barpolar": [
           {
            "marker": {
             "line": {
              "color": "#E5ECF6",
              "width": 0.5
             }
            },
            "type": "barpolar"
           }
          ],
          "carpet": [
           {
            "aaxis": {
             "endlinecolor": "#2a3f5f",
             "gridcolor": "white",
             "linecolor": "white",
             "minorgridcolor": "white",
             "startlinecolor": "#2a3f5f"
            },
            "baxis": {
             "endlinecolor": "#2a3f5f",
             "gridcolor": "white",
             "linecolor": "white",
             "minorgridcolor": "white",
             "startlinecolor": "#2a3f5f"
            },
            "type": "carpet"
           }
          ],
          "choropleth": [
           {
            "colorbar": {
             "outlinewidth": 0,
             "ticks": ""
            },
            "type": "choropleth"
           }
          ],
          "contour": [
           {
            "colorbar": {
             "outlinewidth": 0,
             "ticks": ""
            },
            "colorscale": [
             [
              0,
              "#0d0887"
             ],
             [
              0.1111111111111111,
              "#46039f"
             ],
             [
              0.2222222222222222,
              "#7201a8"
             ],
             [
              0.3333333333333333,
              "#9c179e"
             ],
             [
              0.4444444444444444,
              "#bd3786"
             ],
             [
              0.5555555555555556,
              "#d8576b"
             ],
             [
              0.6666666666666666,
              "#ed7953"
             ],
             [
              0.7777777777777778,
              "#fb9f3a"
             ],
             [
              0.8888888888888888,
              "#fdca26"
             ],
             [
              1,
              "#f0f921"
             ]
            ],
            "type": "contour"
           }
          ],
          "contourcarpet": [
           {
            "colorbar": {
             "outlinewidth": 0,
             "ticks": ""
            },
            "type": "contourcarpet"
           }
          ],
          "heatmap": [
           {
            "colorbar": {
             "outlinewidth": 0,
             "ticks": ""
            },
            "colorscale": [
             [
              0,
              "#0d0887"
             ],
             [
              0.1111111111111111,
              "#46039f"
             ],
             [
              0.2222222222222222,
              "#7201a8"
             ],
             [
              0.3333333333333333,
              "#9c179e"
             ],
             [
              0.4444444444444444,
              "#bd3786"
             ],
             [
              0.5555555555555556,
              "#d8576b"
             ],
             [
              0.6666666666666666,
              "#ed7953"
             ],
             [
              0.7777777777777778,
              "#fb9f3a"
             ],
             [
              0.8888888888888888,
              "#fdca26"
             ],
             [
              1,
              "#f0f921"
             ]
            ],
            "type": "heatmap"
           }
          ],
          "heatmapgl": [
           {
            "colorbar": {
             "outlinewidth": 0,
             "ticks": ""
            },
            "colorscale": [
             [
              0,
              "#0d0887"
             ],
             [
              0.1111111111111111,
              "#46039f"
             ],
             [
              0.2222222222222222,
              "#7201a8"
             ],
             [
              0.3333333333333333,
              "#9c179e"
             ],
             [
              0.4444444444444444,
              "#bd3786"
             ],
             [
              0.5555555555555556,
              "#d8576b"
             ],
             [
              0.6666666666666666,
              "#ed7953"
             ],
             [
              0.7777777777777778,
              "#fb9f3a"
             ],
             [
              0.8888888888888888,
              "#fdca26"
             ],
             [
              1,
              "#f0f921"
             ]
            ],
            "type": "heatmapgl"
           }
          ],
          "histogram": [
           {
            "marker": {
             "colorbar": {
              "outlinewidth": 0,
              "ticks": ""
             }
            },
            "type": "histogram"
           }
          ],
          "histogram2d": [
           {
            "colorbar": {
             "outlinewidth": 0,
             "ticks": ""
            },
            "colorscale": [
             [
              0,
              "#0d0887"
             ],
             [
              0.1111111111111111,
              "#46039f"
             ],
             [
              0.2222222222222222,
              "#7201a8"
             ],
             [
              0.3333333333333333,
              "#9c179e"
             ],
             [
              0.4444444444444444,
              "#bd3786"
             ],
             [
              0.5555555555555556,
              "#d8576b"
             ],
             [
              0.6666666666666666,
              "#ed7953"
             ],
             [
              0.7777777777777778,
              "#fb9f3a"
             ],
             [
              0.8888888888888888,
              "#fdca26"
             ],
             [
              1,
              "#f0f921"
             ]
            ],
            "type": "histogram2d"
           }
          ],
          "histogram2dcontour": [
           {
            "colorbar": {
             "outlinewidth": 0,
             "ticks": ""
            },
            "colorscale": [
             [
              0,
              "#0d0887"
             ],
             [
              0.1111111111111111,
              "#46039f"
             ],
             [
              0.2222222222222222,
              "#7201a8"
             ],
             [
              0.3333333333333333,
              "#9c179e"
             ],
             [
              0.4444444444444444,
              "#bd3786"
             ],
             [
              0.5555555555555556,
              "#d8576b"
             ],
             [
              0.6666666666666666,
              "#ed7953"
             ],
             [
              0.7777777777777778,
              "#fb9f3a"
             ],
             [
              0.8888888888888888,
              "#fdca26"
             ],
             [
              1,
              "#f0f921"
             ]
            ],
            "type": "histogram2dcontour"
           }
          ],
          "mesh3d": [
           {
            "colorbar": {
             "outlinewidth": 0,
             "ticks": ""
            },
            "type": "mesh3d"
           }
          ],
          "parcoords": [
           {
            "line": {
             "colorbar": {
              "outlinewidth": 0,
              "ticks": ""
             }
            },
            "type": "parcoords"
           }
          ],
          "pie": [
           {
            "automargin": true,
            "type": "pie"
           }
          ],
          "scatter": [
           {
            "marker": {
             "colorbar": {
              "outlinewidth": 0,
              "ticks": ""
             }
            },
            "type": "scatter"
           }
          ],
          "scatter3d": [
           {
            "line": {
             "colorbar": {
              "outlinewidth": 0,
              "ticks": ""
             }
            },
            "marker": {
             "colorbar": {
              "outlinewidth": 0,
              "ticks": ""
             }
            },
            "type": "scatter3d"
           }
          ],
          "scattercarpet": [
           {
            "marker": {
             "colorbar": {
              "outlinewidth": 0,
              "ticks": ""
             }
            },
            "type": "scattercarpet"
           }
          ],
          "scattergeo": [
           {
            "marker": {
             "colorbar": {
              "outlinewidth": 0,
              "ticks": ""
             }
            },
            "type": "scattergeo"
           }
          ],
          "scattergl": [
           {
            "marker": {
             "colorbar": {
              "outlinewidth": 0,
              "ticks": ""
             }
            },
            "type": "scattergl"
           }
          ],
          "scattermapbox": [
           {
            "marker": {
             "colorbar": {
              "outlinewidth": 0,
              "ticks": ""
             }
            },
            "type": "scattermapbox"
           }
          ],
          "scatterpolar": [
           {
            "marker": {
             "colorbar": {
              "outlinewidth": 0,
              "ticks": ""
             }
            },
            "type": "scatterpolar"
           }
          ],
          "scatterpolargl": [
           {
            "marker": {
             "colorbar": {
              "outlinewidth": 0,
              "ticks": ""
             }
            },
            "type": "scatterpolargl"
           }
          ],
          "scatterternary": [
           {
            "marker": {
             "colorbar": {
              "outlinewidth": 0,
              "ticks": ""
             }
            },
            "type": "scatterternary"
           }
          ],
          "surface": [
           {
            "colorbar": {
             "outlinewidth": 0,
             "ticks": ""
            },
            "colorscale": [
             [
              0,
              "#0d0887"
             ],
             [
              0.1111111111111111,
              "#46039f"
             ],
             [
              0.2222222222222222,
              "#7201a8"
             ],
             [
              0.3333333333333333,
              "#9c179e"
             ],
             [
              0.4444444444444444,
              "#bd3786"
             ],
             [
              0.5555555555555556,
              "#d8576b"
             ],
             [
              0.6666666666666666,
              "#ed7953"
             ],
             [
              0.7777777777777778,
              "#fb9f3a"
             ],
             [
              0.8888888888888888,
              "#fdca26"
             ],
             [
              1,
              "#f0f921"
             ]
            ],
            "type": "surface"
           }
          ],
          "table": [
           {
            "cells": {
             "fill": {
              "color": "#EBF0F8"
             },
             "line": {
              "color": "white"
             }
            },
            "header": {
             "fill": {
              "color": "#C8D4E3"
             },
             "line": {
              "color": "white"
             }
            },
            "type": "table"
           }
          ]
         },
         "layout": {
          "annotationdefaults": {
           "arrowcolor": "#2a3f5f",
           "arrowhead": 0,
           "arrowwidth": 1
          },
          "autotypenumbers": "strict",
          "coloraxis": {
           "colorbar": {
            "outlinewidth": 0,
            "ticks": ""
           }
          },
          "colorscale": {
           "diverging": [
            [
             0,
             "#8e0152"
            ],
            [
             0.1,
             "#c51b7d"
            ],
            [
             0.2,
             "#de77ae"
            ],
            [
             0.3,
             "#f1b6da"
            ],
            [
             0.4,
             "#fde0ef"
            ],
            [
             0.5,
             "#f7f7f7"
            ],
            [
             0.6,
             "#e6f5d0"
            ],
            [
             0.7,
             "#b8e186"
            ],
            [
             0.8,
             "#7fbc41"
            ],
            [
             0.9,
             "#4d9221"
            ],
            [
             1,
             "#276419"
            ]
           ],
           "sequential": [
            [
             0,
             "#0d0887"
            ],
            [
             0.1111111111111111,
             "#46039f"
            ],
            [
             0.2222222222222222,
             "#7201a8"
            ],
            [
             0.3333333333333333,
             "#9c179e"
            ],
            [
             0.4444444444444444,
             "#bd3786"
            ],
            [
             0.5555555555555556,
             "#d8576b"
            ],
            [
             0.6666666666666666,
             "#ed7953"
            ],
            [
             0.7777777777777778,
             "#fb9f3a"
            ],
            [
             0.8888888888888888,
             "#fdca26"
            ],
            [
             1,
             "#f0f921"
            ]
           ],
           "sequentialminus": [
            [
             0,
             "#0d0887"
            ],
            [
             0.1111111111111111,
             "#46039f"
            ],
            [
             0.2222222222222222,
             "#7201a8"
            ],
            [
             0.3333333333333333,
             "#9c179e"
            ],
            [
             0.4444444444444444,
             "#bd3786"
            ],
            [
             0.5555555555555556,
             "#d8576b"
            ],
            [
             0.6666666666666666,
             "#ed7953"
            ],
            [
             0.7777777777777778,
             "#fb9f3a"
            ],
            [
             0.8888888888888888,
             "#fdca26"
            ],
            [
             1,
             "#f0f921"
            ]
           ]
          },
          "colorway": [
           "#636efa",
           "#EF553B",
           "#00cc96",
           "#ab63fa",
           "#FFA15A",
           "#19d3f3",
           "#FF6692",
           "#B6E880",
           "#FF97FF",
           "#FECB52"
          ],
          "font": {
           "color": "#2a3f5f"
          },
          "geo": {
           "bgcolor": "white",
           "lakecolor": "white",
           "landcolor": "#E5ECF6",
           "showlakes": true,
           "showland": true,
           "subunitcolor": "white"
          },
          "hoverlabel": {
           "align": "left"
          },
          "hovermode": "closest",
          "mapbox": {
           "style": "light"
          },
          "paper_bgcolor": "white",
          "plot_bgcolor": "#E5ECF6",
          "polar": {
           "angularaxis": {
            "gridcolor": "white",
            "linecolor": "white",
            "ticks": ""
           },
           "bgcolor": "#E5ECF6",
           "radialaxis": {
            "gridcolor": "white",
            "linecolor": "white",
            "ticks": ""
           }
          },
          "scene": {
           "xaxis": {
            "backgroundcolor": "#E5ECF6",
            "gridcolor": "white",
            "gridwidth": 2,
            "linecolor": "white",
            "showbackground": true,
            "ticks": "",
            "zerolinecolor": "white"
           },
           "yaxis": {
            "backgroundcolor": "#E5ECF6",
            "gridcolor": "white",
            "gridwidth": 2,
            "linecolor": "white",
            "showbackground": true,
            "ticks": "",
            "zerolinecolor": "white"
           },
           "zaxis": {
            "backgroundcolor": "#E5ECF6",
            "gridcolor": "white",
            "gridwidth": 2,
            "linecolor": "white",
            "showbackground": true,
            "ticks": "",
            "zerolinecolor": "white"
           }
          },
          "shapedefaults": {
           "line": {
            "color": "#2a3f5f"
           }
          },
          "ternary": {
           "aaxis": {
            "gridcolor": "white",
            "linecolor": "white",
            "ticks": ""
           },
           "baxis": {
            "gridcolor": "white",
            "linecolor": "white",
            "ticks": ""
           },
           "bgcolor": "#E5ECF6",
           "caxis": {
            "gridcolor": "white",
            "linecolor": "white",
            "ticks": ""
           }
          },
          "title": {
           "x": 0.05
          },
          "xaxis": {
           "automargin": true,
           "gridcolor": "white",
           "linecolor": "white",
           "ticks": "",
           "title": {
            "standoff": 15
           },
           "zerolinecolor": "white",
           "zerolinewidth": 2
          },
          "yaxis": {
           "automargin": true,
           "gridcolor": "white",
           "linecolor": "white",
           "ticks": "",
           "title": {
            "standoff": 15
           },
           "zerolinecolor": "white",
           "zerolinewidth": 2
          }
         }
        },
        "title": {
         "text": "Class Distribution in Training Data"
        },
        "width": 1200,
        "yaxis": {
         "title": {
          "text": "Class Count"
         }
        }
       }
      },
      "text/html": [
       "<div>                            <div id=\"c3ef40d2-1482-4d27-9a29-04d135ccc785\" class=\"plotly-graph-div\" style=\"height:400px; width:1200px;\"></div>            <script type=\"text/javascript\">                require([\"plotly\"], function(Plotly) {                    window.PLOTLYENV=window.PLOTLYENV || {};                                    if (document.getElementById(\"c3ef40d2-1482-4d27-9a29-04d135ccc785\")) {                    Plotly.newPlot(                        \"c3ef40d2-1482-4d27-9a29-04d135ccc785\",                        [{\"name\": \"Class Count\", \"opacity\": 0.75, \"type\": \"bar\", \"x\": [\"Apple Braeburn\", \"Apple Crimson Snow\", \"Apple Golden 1\", \"Apple Golden 2\", \"Apple Golden 3\", \"Apple Granny Smith\", \"Apple Pink Lady\", \"Apple Red 1\", \"Apple Red 2\", \"Apple Red 3\", \"Apple Red Delicious\", \"Apple Red Yellow 1\", \"Apple Red Yellow 2\", \"Apricot\", \"Avocado\", \"Avocado ripe\", \"Banana\", \"Banana Lady Finger\", \"Banana Red\", \"Beetroot\", \"Blueberry\", \"Cactus fruit\", \"Cantaloupe 1\", \"Cantaloupe 2\", \"Carambula\", \"Cauliflower\", \"Cherry 1\", \"Cherry 2\", \"Cherry Rainier\", \"Cherry Wax Black\", \"Cherry Wax Red\", \"Cherry Wax Yellow\", \"Chestnut\", \"Clementine\", \"Cocos\", \"Corn\", \"Corn Husk\", \"Cucumber Ripe\", \"Cucumber Ripe 2\", \"Dates\", \"Eggplant\", \"Fig\", \"Ginger Root\", \"Granadilla\", \"Grape Blue\", \"Grape Pink\", \"Grape White\", \"Grape White 2\", \"Grape White 3\", \"Grape White 4\", \"Grapefruit Pink\", \"Grapefruit White\", \"Guava\", \"Hazelnut\", \"Huckleberry\", \"Kaki\", \"Kiwi\", \"Kohlrabi\", \"Kumquats\", \"Lemon\", \"Lemon Meyer\", \"Limes\", \"Lychee\", \"Mandarine\", \"Mango\", \"Mango Red\", \"Mangostan\", \"Maracuja\", \"Melon Piel de Sapo\", \"Mulberry\", \"Nectarine\", \"Nectarine Flat\", \"Nut Forest\", \"Nut Pecan\", \"Onion Red\", \"Onion Red Peeled\", \"Onion White\", \"Orange\", \"Papaya\", \"Passion Fruit\", \"Peach\", \"Peach 2\", \"Peach Flat\", \"Pear\", \"Pear 2\", \"Pear Abate\", \"Pear Forelle\", \"Pear Kaiser\", \"Pear Monster\", \"Pear Red\", \"Pear Stone\", \"Pear Williams\", \"Pepino\", \"Pepper Green\", \"Pepper Orange\", \"Pepper Red\", \"Pepper Yellow\", \"Physalis\", \"Physalis with Husk\", \"Pineapple\", \"Pineapple Mini\", \"Pitahaya Red\", \"Plum\", \"Plum 2\", \"Plum 3\", \"Pomegranate\", \"Pomelo Sweetie\", \"Potato Red\", \"Potato Red Washed\", \"Potato Sweet\", \"Potato White\", \"Quince\", \"Rambutan\", \"Raspberry\", \"Redcurrant\", \"Salak\", \"Strawberry\", \"Strawberry Wedge\", \"Tamarillo\", \"Tangelo\", \"Tomato 1\", \"Tomato 2\", \"Tomato 3\", \"Tomato 4\", \"Tomato Cherry Red\", \"Tomato Heart\", \"Tomato Maroon\", \"Tomato Yellow\", \"Tomato not Ripened\", \"Walnut\", \"Watermelon\"], \"y\": [492, 444, 480, 492, 481, 492, 456, 492, 492, 429, 490, 492, 672, 492, 427, 491, 490, 450, 490, 450, 462, 490, 492, 492, 490, 702, 492, 738, 738, 492, 492, 492, 450, 490, 490, 450, 462, 392, 468, 490, 468, 702, 297, 490, 984, 492, 490, 490, 492, 471, 490, 492, 490, 464, 490, 490, 466, 471, 490, 492, 490, 490, 490, 490, 490, 426, 300, 490, 738, 492, 492, 480, 654, 534, 450, 445, 438, 479, 492, 490, 492, 738, 492, 492, 696, 490, 702, 300, 490, 666, 711, 490, 490, 444, 702, 666, 666, 492, 492, 490, 493, 490, 447, 420, 900, 492, 450, 450, 453, 450, 450, 490, 492, 490, 492, 490, 492, 738, 490, 490, 738, 672, 738, 479, 492, 684, 367, 459, 474, 735, 475]}],                        {\"height\": 400, \"legend\": {\"orientation\": \"h\"}, \"template\": {\"data\": {\"bar\": [{\"error_x\": {\"color\": \"#2a3f5f\"}, \"error_y\": {\"color\": \"#2a3f5f\"}, \"marker\": {\"line\": {\"color\": \"#E5ECF6\", \"width\": 0.5}}, \"type\": \"bar\"}], \"barpolar\": [{\"marker\": {\"line\": {\"color\": \"#E5ECF6\", \"width\": 0.5}}, \"type\": \"barpolar\"}], \"carpet\": [{\"aaxis\": {\"endlinecolor\": \"#2a3f5f\", \"gridcolor\": \"white\", \"linecolor\": \"white\", \"minorgridcolor\": \"white\", \"startlinecolor\": \"#2a3f5f\"}, \"baxis\": {\"endlinecolor\": \"#2a3f5f\", \"gridcolor\": \"white\", \"linecolor\": \"white\", \"minorgridcolor\": \"white\", \"startlinecolor\": \"#2a3f5f\"}, \"type\": \"carpet\"}], \"choropleth\": [{\"colorbar\": {\"outlinewidth\": 0, \"ticks\": \"\"}, \"type\": \"choropleth\"}], \"contour\": [{\"colorbar\": {\"outlinewidth\": 0, \"ticks\": \"\"}, \"colorscale\": [[0.0, \"#0d0887\"], [0.1111111111111111, \"#46039f\"], [0.2222222222222222, \"#7201a8\"], [0.3333333333333333, \"#9c179e\"], [0.4444444444444444, \"#bd3786\"], [0.5555555555555556, \"#d8576b\"], [0.6666666666666666, \"#ed7953\"], [0.7777777777777778, \"#fb9f3a\"], [0.8888888888888888, \"#fdca26\"], [1.0, \"#f0f921\"]], \"type\": \"contour\"}], \"contourcarpet\": [{\"colorbar\": {\"outlinewidth\": 0, \"ticks\": \"\"}, \"type\": \"contourcarpet\"}], \"heatmap\": [{\"colorbar\": {\"outlinewidth\": 0, \"ticks\": \"\"}, \"colorscale\": [[0.0, \"#0d0887\"], [0.1111111111111111, \"#46039f\"], [0.2222222222222222, \"#7201a8\"], [0.3333333333333333, \"#9c179e\"], [0.4444444444444444, \"#bd3786\"], [0.5555555555555556, \"#d8576b\"], [0.6666666666666666, \"#ed7953\"], [0.7777777777777778, \"#fb9f3a\"], [0.8888888888888888, \"#fdca26\"], [1.0, \"#f0f921\"]], \"type\": \"heatmap\"}], \"heatmapgl\": [{\"colorbar\": {\"outlinewidth\": 0, \"ticks\": \"\"}, \"colorscale\": [[0.0, \"#0d0887\"], [0.1111111111111111, \"#46039f\"], [0.2222222222222222, \"#7201a8\"], [0.3333333333333333, \"#9c179e\"], [0.4444444444444444, \"#bd3786\"], [0.5555555555555556, \"#d8576b\"], [0.6666666666666666, \"#ed7953\"], [0.7777777777777778, \"#fb9f3a\"], [0.8888888888888888, \"#fdca26\"], [1.0, \"#f0f921\"]], \"type\": \"heatmapgl\"}], \"histogram\": [{\"marker\": {\"colorbar\": {\"outlinewidth\": 0, \"ticks\": \"\"}}, \"type\": \"histogram\"}], \"histogram2d\": [{\"colorbar\": {\"outlinewidth\": 0, \"ticks\": \"\"}, \"colorscale\": [[0.0, \"#0d0887\"], [0.1111111111111111, \"#46039f\"], [0.2222222222222222, \"#7201a8\"], [0.3333333333333333, \"#9c179e\"], [0.4444444444444444, \"#bd3786\"], [0.5555555555555556, \"#d8576b\"], [0.6666666666666666, \"#ed7953\"], [0.7777777777777778, \"#fb9f3a\"], [0.8888888888888888, \"#fdca26\"], [1.0, \"#f0f921\"]], \"type\": \"histogram2d\"}], \"histogram2dcontour\": [{\"colorbar\": {\"outlinewidth\": 0, \"ticks\": \"\"}, \"colorscale\": [[0.0, \"#0d0887\"], [0.1111111111111111, \"#46039f\"], [0.2222222222222222, \"#7201a8\"], [0.3333333333333333, \"#9c179e\"], [0.4444444444444444, \"#bd3786\"], [0.5555555555555556, \"#d8576b\"], [0.6666666666666666, \"#ed7953\"], [0.7777777777777778, \"#fb9f3a\"], [0.8888888888888888, \"#fdca26\"], [1.0, \"#f0f921\"]], \"type\": \"histogram2dcontour\"}], \"mesh3d\": [{\"colorbar\": {\"outlinewidth\": 0, \"ticks\": \"\"}, \"type\": \"mesh3d\"}], \"parcoords\": [{\"line\": {\"colorbar\": {\"outlinewidth\": 0, \"ticks\": \"\"}}, \"type\": \"parcoords\"}], \"pie\": [{\"automargin\": true, \"type\": \"pie\"}], \"scatter\": [{\"marker\": {\"colorbar\": {\"outlinewidth\": 0, \"ticks\": \"\"}}, \"type\": \"scatter\"}], \"scatter3d\": [{\"line\": {\"colorbar\": {\"outlinewidth\": 0, \"ticks\": \"\"}}, \"marker\": {\"colorbar\": {\"outlinewidth\": 0, \"ticks\": \"\"}}, \"type\": \"scatter3d\"}], \"scattercarpet\": [{\"marker\": {\"colorbar\": {\"outlinewidth\": 0, \"ticks\": \"\"}}, \"type\": \"scattercarpet\"}], \"scattergeo\": [{\"marker\": {\"colorbar\": {\"outlinewidth\": 0, \"ticks\": \"\"}}, \"type\": \"scattergeo\"}], \"scattergl\": [{\"marker\": {\"colorbar\": {\"outlinewidth\": 0, \"ticks\": \"\"}}, \"type\": \"scattergl\"}], \"scattermapbox\": [{\"marker\": {\"colorbar\": {\"outlinewidth\": 0, \"ticks\": \"\"}}, \"type\": \"scattermapbox\"}], \"scatterpolar\": [{\"marker\": {\"colorbar\": {\"outlinewidth\": 0, \"ticks\": \"\"}}, \"type\": \"scatterpolar\"}], \"scatterpolargl\": [{\"marker\": {\"colorbar\": {\"outlinewidth\": 0, \"ticks\": \"\"}}, \"type\": \"scatterpolargl\"}], \"scatterternary\": [{\"marker\": {\"colorbar\": {\"outlinewidth\": 0, \"ticks\": \"\"}}, \"type\": \"scatterternary\"}], \"surface\": [{\"colorbar\": {\"outlinewidth\": 0, \"ticks\": \"\"}, \"colorscale\": [[0.0, \"#0d0887\"], [0.1111111111111111, \"#46039f\"], [0.2222222222222222, \"#7201a8\"], [0.3333333333333333, \"#9c179e\"], [0.4444444444444444, \"#bd3786\"], [0.5555555555555556, \"#d8576b\"], [0.6666666666666666, \"#ed7953\"], [0.7777777777777778, \"#fb9f3a\"], [0.8888888888888888, \"#fdca26\"], [1.0, \"#f0f921\"]], \"type\": \"surface\"}], \"table\": [{\"cells\": {\"fill\": {\"color\": \"#EBF0F8\"}, \"line\": {\"color\": \"white\"}}, \"header\": {\"fill\": {\"color\": \"#C8D4E3\"}, \"line\": {\"color\": \"white\"}}, \"type\": \"table\"}]}, \"layout\": {\"annotationdefaults\": {\"arrowcolor\": \"#2a3f5f\", \"arrowhead\": 0, \"arrowwidth\": 1}, \"autotypenumbers\": \"strict\", \"coloraxis\": {\"colorbar\": {\"outlinewidth\": 0, \"ticks\": \"\"}}, \"colorscale\": {\"diverging\": [[0, \"#8e0152\"], [0.1, \"#c51b7d\"], [0.2, \"#de77ae\"], [0.3, \"#f1b6da\"], [0.4, \"#fde0ef\"], [0.5, \"#f7f7f7\"], [0.6, \"#e6f5d0\"], [0.7, \"#b8e186\"], [0.8, \"#7fbc41\"], [0.9, \"#4d9221\"], [1, \"#276419\"]], \"sequential\": [[0.0, \"#0d0887\"], [0.1111111111111111, \"#46039f\"], [0.2222222222222222, \"#7201a8\"], [0.3333333333333333, \"#9c179e\"], [0.4444444444444444, \"#bd3786\"], [0.5555555555555556, \"#d8576b\"], [0.6666666666666666, \"#ed7953\"], [0.7777777777777778, \"#fb9f3a\"], [0.8888888888888888, \"#fdca26\"], [1.0, \"#f0f921\"]], \"sequentialminus\": [[0.0, \"#0d0887\"], [0.1111111111111111, \"#46039f\"], [0.2222222222222222, \"#7201a8\"], [0.3333333333333333, \"#9c179e\"], [0.4444444444444444, \"#bd3786\"], [0.5555555555555556, \"#d8576b\"], [0.6666666666666666, \"#ed7953\"], [0.7777777777777778, \"#fb9f3a\"], [0.8888888888888888, \"#fdca26\"], [1.0, \"#f0f921\"]]}, \"colorway\": [\"#636efa\", \"#EF553B\", \"#00cc96\", \"#ab63fa\", \"#FFA15A\", \"#19d3f3\", \"#FF6692\", \"#B6E880\", \"#FF97FF\", \"#FECB52\"], \"font\": {\"color\": \"#2a3f5f\"}, \"geo\": {\"bgcolor\": \"white\", \"lakecolor\": \"white\", \"landcolor\": \"#E5ECF6\", \"showlakes\": true, \"showland\": true, \"subunitcolor\": \"white\"}, \"hoverlabel\": {\"align\": \"left\"}, \"hovermode\": \"closest\", \"mapbox\": {\"style\": \"light\"}, \"paper_bgcolor\": \"white\", \"plot_bgcolor\": \"#E5ECF6\", \"polar\": {\"angularaxis\": {\"gridcolor\": \"white\", \"linecolor\": \"white\", \"ticks\": \"\"}, \"bgcolor\": \"#E5ECF6\", \"radialaxis\": {\"gridcolor\": \"white\", \"linecolor\": \"white\", \"ticks\": \"\"}}, \"scene\": {\"xaxis\": {\"backgroundcolor\": \"#E5ECF6\", \"gridcolor\": \"white\", \"gridwidth\": 2, \"linecolor\": \"white\", \"showbackground\": true, \"ticks\": \"\", \"zerolinecolor\": \"white\"}, \"yaxis\": {\"backgroundcolor\": \"#E5ECF6\", \"gridcolor\": \"white\", \"gridwidth\": 2, \"linecolor\": \"white\", \"showbackground\": true, \"ticks\": \"\", \"zerolinecolor\": \"white\"}, \"zaxis\": {\"backgroundcolor\": \"#E5ECF6\", \"gridcolor\": \"white\", \"gridwidth\": 2, \"linecolor\": \"white\", \"showbackground\": true, \"ticks\": \"\", \"zerolinecolor\": \"white\"}}, \"shapedefaults\": {\"line\": {\"color\": \"#2a3f5f\"}}, \"ternary\": {\"aaxis\": {\"gridcolor\": \"white\", \"linecolor\": \"white\", \"ticks\": \"\"}, \"baxis\": {\"gridcolor\": \"white\", \"linecolor\": \"white\", \"ticks\": \"\"}, \"bgcolor\": \"#E5ECF6\", \"caxis\": {\"gridcolor\": \"white\", \"linecolor\": \"white\", \"ticks\": \"\"}}, \"title\": {\"x\": 0.05}, \"xaxis\": {\"automargin\": true, \"gridcolor\": \"white\", \"linecolor\": \"white\", \"ticks\": \"\", \"title\": {\"standoff\": 15}, \"zerolinecolor\": \"white\", \"zerolinewidth\": 2}, \"yaxis\": {\"automargin\": true, \"gridcolor\": \"white\", \"linecolor\": \"white\", \"ticks\": \"\", \"title\": {\"standoff\": 15}, \"zerolinecolor\": \"white\", \"zerolinewidth\": 2}}}, \"title\": {\"text\": \"Class Distribution in Training Data\"}, \"width\": 1200, \"yaxis\": {\"title\": {\"text\": \"Class Count\"}}},                        {\"responsive\": true}                    ).then(function(){\n",
       "                            \n",
       "var gd = document.getElementById('c3ef40d2-1482-4d27-9a29-04d135ccc785');\n",
       "var x = new MutationObserver(function (mutations, observer) {{\n",
       "        var display = window.getComputedStyle(gd).display;\n",
       "        if (!display || display === 'none') {{\n",
       "            console.log([gd, 'removed!']);\n",
       "            Plotly.purge(gd);\n",
       "            observer.disconnect();\n",
       "        }}\n",
       "}});\n",
       "\n",
       "// Listen for the removal of the full notebook cells\n",
       "var notebookContainer = gd.closest('#notebook-container');\n",
       "if (notebookContainer) {{\n",
       "    x.observe(notebookContainer, {childList: true});\n",
       "}}\n",
       "\n",
       "// Listen for the clearing of the current output cell\n",
       "var outputEl = gd.closest('.output');\n",
       "if (outputEl) {{\n",
       "    x.observe(outputEl, {childList: true});\n",
       "}}\n",
       "\n",
       "                        })                };                });            </script>        </div>"
      ]
     },
     "metadata": {},
     "output_type": "display_data"
    }
   ],
   "source": [
    "x1, y1 = create_stack_bar_data('classes', training_data)\n",
    "x1 = list(train_generator.class_indices.keys())\n",
    "\n",
    "trace1 = go.Bar(x=x1, y=y1, opacity=0.75, name='Class Count')\n",
    "layout = dict(height=400, width=1200, title='Class Distribution in Training Data', legend=dict(orientation='h'), yaxis=dict(title='Class Count'))\n",
    "fig = go.Figure(data=[trace1], layout=layout)\n",
    "iplot(fig)"
   ]
  },
  {
   "cell_type": "code",
   "execution_count": 9,
   "id": "agreed-melissa",
   "metadata": {
    "ExecuteTime": {
     "end_time": "2021-02-15T13:36:40.900398Z",
     "start_time": "2021-02-15T13:36:40.869370Z"
    },
    "scrolled": false
   },
   "outputs": [
    {
     "data": {
      "application/vnd.plotly.v1+json": {
       "config": {
        "linkText": "Export to plot.ly",
        "plotlyServerURL": "https://plot.ly",
        "showLink": false
       },
       "data": [
        {
         "name": "Class Count",
         "opacity": 0.75,
         "type": "bar",
         "x": [
          "Apple Braeburn",
          "Apple Crimson Snow",
          "Apple Golden 1",
          "Apple Golden 2",
          "Apple Golden 3",
          "Apple Granny Smith",
          "Apple Pink Lady",
          "Apple Red 1",
          "Apple Red 2",
          "Apple Red 3",
          "Apple Red Delicious",
          "Apple Red Yellow 1",
          "Apple Red Yellow 2",
          "Apricot",
          "Avocado",
          "Avocado ripe",
          "Banana",
          "Banana Lady Finger",
          "Banana Red",
          "Beetroot",
          "Blueberry",
          "Cactus fruit",
          "Cantaloupe 1",
          "Cantaloupe 2",
          "Carambula",
          "Cauliflower",
          "Cherry 1",
          "Cherry 2",
          "Cherry Rainier",
          "Cherry Wax Black",
          "Cherry Wax Red",
          "Cherry Wax Yellow",
          "Chestnut",
          "Clementine",
          "Cocos",
          "Corn",
          "Corn Husk",
          "Cucumber Ripe",
          "Cucumber Ripe 2",
          "Dates",
          "Eggplant",
          "Fig",
          "Ginger Root",
          "Granadilla",
          "Grape Blue",
          "Grape Pink",
          "Grape White",
          "Grape White 2",
          "Grape White 3",
          "Grape White 4",
          "Grapefruit Pink",
          "Grapefruit White",
          "Guava",
          "Hazelnut",
          "Huckleberry",
          "Kaki",
          "Kiwi",
          "Kohlrabi",
          "Kumquats",
          "Lemon",
          "Lemon Meyer",
          "Limes",
          "Lychee",
          "Mandarine",
          "Mango",
          "Mango Red",
          "Mangostan",
          "Maracuja",
          "Melon Piel de Sapo",
          "Mulberry",
          "Nectarine",
          "Nectarine Flat",
          "Nut Forest",
          "Nut Pecan",
          "Onion Red",
          "Onion Red Peeled",
          "Onion White",
          "Orange",
          "Papaya",
          "Passion Fruit",
          "Peach",
          "Peach 2",
          "Peach Flat",
          "Pear",
          "Pear 2",
          "Pear Abate",
          "Pear Forelle",
          "Pear Kaiser",
          "Pear Monster",
          "Pear Red",
          "Pear Stone",
          "Pear Williams",
          "Pepino",
          "Pepper Green",
          "Pepper Orange",
          "Pepper Red",
          "Pepper Yellow",
          "Physalis",
          "Physalis with Husk",
          "Pineapple",
          "Pineapple Mini",
          "Pitahaya Red",
          "Plum",
          "Plum 2",
          "Plum 3",
          "Pomegranate",
          "Pomelo Sweetie",
          "Potato Red",
          "Potato Red Washed",
          "Potato Sweet",
          "Potato White",
          "Quince",
          "Rambutan",
          "Raspberry",
          "Redcurrant",
          "Salak",
          "Strawberry",
          "Strawberry Wedge",
          "Tamarillo",
          "Tangelo",
          "Tomato 1",
          "Tomato 2",
          "Tomato 3",
          "Tomato 4",
          "Tomato Cherry Red",
          "Tomato Heart",
          "Tomato Maroon",
          "Tomato Yellow",
          "Tomato not Ripened",
          "Walnut",
          "Watermelon"
         ],
         "y": [
          164,
          148,
          160,
          164,
          161,
          164,
          152,
          164,
          164,
          144,
          166,
          164,
          219,
          164,
          143,
          166,
          166,
          152,
          166,
          150,
          154,
          166,
          164,
          164,
          166,
          234,
          164,
          246,
          246,
          164,
          164,
          164,
          153,
          166,
          166,
          150,
          154,
          130,
          156,
          166,
          156,
          234,
          99,
          166,
          328,
          164,
          166,
          166,
          164,
          158,
          166,
          164,
          166,
          157,
          166,
          166,
          156,
          157,
          166,
          164,
          166,
          166,
          166,
          166,
          166,
          142,
          102,
          166,
          246,
          164,
          164,
          160,
          218,
          178,
          150,
          155,
          146,
          160,
          164,
          166,
          164,
          246,
          164,
          164,
          232,
          166,
          234,
          102,
          166,
          222,
          237,
          166,
          166,
          148,
          234,
          222,
          222,
          164,
          164,
          166,
          163,
          166,
          151,
          142,
          304,
          164,
          153,
          150,
          151,
          150,
          150,
          166,
          164,
          166,
          164,
          162,
          164,
          246,
          166,
          166,
          246,
          225,
          246,
          160,
          164,
          228,
          127,
          153,
          158,
          249,
          157
         ]
        }
       ],
       "layout": {
        "height": 400,
        "legend": {
         "orientation": "h"
        },
        "template": {
         "data": {
          "bar": [
           {
            "error_x": {
             "color": "#2a3f5f"
            },
            "error_y": {
             "color": "#2a3f5f"
            },
            "marker": {
             "line": {
              "color": "#E5ECF6",
              "width": 0.5
             }
            },
            "type": "bar"
           }
          ],
          "barpolar": [
           {
            "marker": {
             "line": {
              "color": "#E5ECF6",
              "width": 0.5
             }
            },
            "type": "barpolar"
           }
          ],
          "carpet": [
           {
            "aaxis": {
             "endlinecolor": "#2a3f5f",
             "gridcolor": "white",
             "linecolor": "white",
             "minorgridcolor": "white",
             "startlinecolor": "#2a3f5f"
            },
            "baxis": {
             "endlinecolor": "#2a3f5f",
             "gridcolor": "white",
             "linecolor": "white",
             "minorgridcolor": "white",
             "startlinecolor": "#2a3f5f"
            },
            "type": "carpet"
           }
          ],
          "choropleth": [
           {
            "colorbar": {
             "outlinewidth": 0,
             "ticks": ""
            },
            "type": "choropleth"
           }
          ],
          "contour": [
           {
            "colorbar": {
             "outlinewidth": 0,
             "ticks": ""
            },
            "colorscale": [
             [
              0,
              "#0d0887"
             ],
             [
              0.1111111111111111,
              "#46039f"
             ],
             [
              0.2222222222222222,
              "#7201a8"
             ],
             [
              0.3333333333333333,
              "#9c179e"
             ],
             [
              0.4444444444444444,
              "#bd3786"
             ],
             [
              0.5555555555555556,
              "#d8576b"
             ],
             [
              0.6666666666666666,
              "#ed7953"
             ],
             [
              0.7777777777777778,
              "#fb9f3a"
             ],
             [
              0.8888888888888888,
              "#fdca26"
             ],
             [
              1,
              "#f0f921"
             ]
            ],
            "type": "contour"
           }
          ],
          "contourcarpet": [
           {
            "colorbar": {
             "outlinewidth": 0,
             "ticks": ""
            },
            "type": "contourcarpet"
           }
          ],
          "heatmap": [
           {
            "colorbar": {
             "outlinewidth": 0,
             "ticks": ""
            },
            "colorscale": [
             [
              0,
              "#0d0887"
             ],
             [
              0.1111111111111111,
              "#46039f"
             ],
             [
              0.2222222222222222,
              "#7201a8"
             ],
             [
              0.3333333333333333,
              "#9c179e"
             ],
             [
              0.4444444444444444,
              "#bd3786"
             ],
             [
              0.5555555555555556,
              "#d8576b"
             ],
             [
              0.6666666666666666,
              "#ed7953"
             ],
             [
              0.7777777777777778,
              "#fb9f3a"
             ],
             [
              0.8888888888888888,
              "#fdca26"
             ],
             [
              1,
              "#f0f921"
             ]
            ],
            "type": "heatmap"
           }
          ],
          "heatmapgl": [
           {
            "colorbar": {
             "outlinewidth": 0,
             "ticks": ""
            },
            "colorscale": [
             [
              0,
              "#0d0887"
             ],
             [
              0.1111111111111111,
              "#46039f"
             ],
             [
              0.2222222222222222,
              "#7201a8"
             ],
             [
              0.3333333333333333,
              "#9c179e"
             ],
             [
              0.4444444444444444,
              "#bd3786"
             ],
             [
              0.5555555555555556,
              "#d8576b"
             ],
             [
              0.6666666666666666,
              "#ed7953"
             ],
             [
              0.7777777777777778,
              "#fb9f3a"
             ],
             [
              0.8888888888888888,
              "#fdca26"
             ],
             [
              1,
              "#f0f921"
             ]
            ],
            "type": "heatmapgl"
           }
          ],
          "histogram": [
           {
            "marker": {
             "colorbar": {
              "outlinewidth": 0,
              "ticks": ""
             }
            },
            "type": "histogram"
           }
          ],
          "histogram2d": [
           {
            "colorbar": {
             "outlinewidth": 0,
             "ticks": ""
            },
            "colorscale": [
             [
              0,
              "#0d0887"
             ],
             [
              0.1111111111111111,
              "#46039f"
             ],
             [
              0.2222222222222222,
              "#7201a8"
             ],
             [
              0.3333333333333333,
              "#9c179e"
             ],
             [
              0.4444444444444444,
              "#bd3786"
             ],
             [
              0.5555555555555556,
              "#d8576b"
             ],
             [
              0.6666666666666666,
              "#ed7953"
             ],
             [
              0.7777777777777778,
              "#fb9f3a"
             ],
             [
              0.8888888888888888,
              "#fdca26"
             ],
             [
              1,
              "#f0f921"
             ]
            ],
            "type": "histogram2d"
           }
          ],
          "histogram2dcontour": [
           {
            "colorbar": {
             "outlinewidth": 0,
             "ticks": ""
            },
            "colorscale": [
             [
              0,
              "#0d0887"
             ],
             [
              0.1111111111111111,
              "#46039f"
             ],
             [
              0.2222222222222222,
              "#7201a8"
             ],
             [
              0.3333333333333333,
              "#9c179e"
             ],
             [
              0.4444444444444444,
              "#bd3786"
             ],
             [
              0.5555555555555556,
              "#d8576b"
             ],
             [
              0.6666666666666666,
              "#ed7953"
             ],
             [
              0.7777777777777778,
              "#fb9f3a"
             ],
             [
              0.8888888888888888,
              "#fdca26"
             ],
             [
              1,
              "#f0f921"
             ]
            ],
            "type": "histogram2dcontour"
           }
          ],
          "mesh3d": [
           {
            "colorbar": {
             "outlinewidth": 0,
             "ticks": ""
            },
            "type": "mesh3d"
           }
          ],
          "parcoords": [
           {
            "line": {
             "colorbar": {
              "outlinewidth": 0,
              "ticks": ""
             }
            },
            "type": "parcoords"
           }
          ],
          "pie": [
           {
            "automargin": true,
            "type": "pie"
           }
          ],
          "scatter": [
           {
            "marker": {
             "colorbar": {
              "outlinewidth": 0,
              "ticks": ""
             }
            },
            "type": "scatter"
           }
          ],
          "scatter3d": [
           {
            "line": {
             "colorbar": {
              "outlinewidth": 0,
              "ticks": ""
             }
            },
            "marker": {
             "colorbar": {
              "outlinewidth": 0,
              "ticks": ""
             }
            },
            "type": "scatter3d"
           }
          ],
          "scattercarpet": [
           {
            "marker": {
             "colorbar": {
              "outlinewidth": 0,
              "ticks": ""
             }
            },
            "type": "scattercarpet"
           }
          ],
          "scattergeo": [
           {
            "marker": {
             "colorbar": {
              "outlinewidth": 0,
              "ticks": ""
             }
            },
            "type": "scattergeo"
           }
          ],
          "scattergl": [
           {
            "marker": {
             "colorbar": {
              "outlinewidth": 0,
              "ticks": ""
             }
            },
            "type": "scattergl"
           }
          ],
          "scattermapbox": [
           {
            "marker": {
             "colorbar": {
              "outlinewidth": 0,
              "ticks": ""
             }
            },
            "type": "scattermapbox"
           }
          ],
          "scatterpolar": [
           {
            "marker": {
             "colorbar": {
              "outlinewidth": 0,
              "ticks": ""
             }
            },
            "type": "scatterpolar"
           }
          ],
          "scatterpolargl": [
           {
            "marker": {
             "colorbar": {
              "outlinewidth": 0,
              "ticks": ""
             }
            },
            "type": "scatterpolargl"
           }
          ],
          "scatterternary": [
           {
            "marker": {
             "colorbar": {
              "outlinewidth": 0,
              "ticks": ""
             }
            },
            "type": "scatterternary"
           }
          ],
          "surface": [
           {
            "colorbar": {
             "outlinewidth": 0,
             "ticks": ""
            },
            "colorscale": [
             [
              0,
              "#0d0887"
             ],
             [
              0.1111111111111111,
              "#46039f"
             ],
             [
              0.2222222222222222,
              "#7201a8"
             ],
             [
              0.3333333333333333,
              "#9c179e"
             ],
             [
              0.4444444444444444,
              "#bd3786"
             ],
             [
              0.5555555555555556,
              "#d8576b"
             ],
             [
              0.6666666666666666,
              "#ed7953"
             ],
             [
              0.7777777777777778,
              "#fb9f3a"
             ],
             [
              0.8888888888888888,
              "#fdca26"
             ],
             [
              1,
              "#f0f921"
             ]
            ],
            "type": "surface"
           }
          ],
          "table": [
           {
            "cells": {
             "fill": {
              "color": "#EBF0F8"
             },
             "line": {
              "color": "white"
             }
            },
            "header": {
             "fill": {
              "color": "#C8D4E3"
             },
             "line": {
              "color": "white"
             }
            },
            "type": "table"
           }
          ]
         },
         "layout": {
          "annotationdefaults": {
           "arrowcolor": "#2a3f5f",
           "arrowhead": 0,
           "arrowwidth": 1
          },
          "autotypenumbers": "strict",
          "coloraxis": {
           "colorbar": {
            "outlinewidth": 0,
            "ticks": ""
           }
          },
          "colorscale": {
           "diverging": [
            [
             0,
             "#8e0152"
            ],
            [
             0.1,
             "#c51b7d"
            ],
            [
             0.2,
             "#de77ae"
            ],
            [
             0.3,
             "#f1b6da"
            ],
            [
             0.4,
             "#fde0ef"
            ],
            [
             0.5,
             "#f7f7f7"
            ],
            [
             0.6,
             "#e6f5d0"
            ],
            [
             0.7,
             "#b8e186"
            ],
            [
             0.8,
             "#7fbc41"
            ],
            [
             0.9,
             "#4d9221"
            ],
            [
             1,
             "#276419"
            ]
           ],
           "sequential": [
            [
             0,
             "#0d0887"
            ],
            [
             0.1111111111111111,
             "#46039f"
            ],
            [
             0.2222222222222222,
             "#7201a8"
            ],
            [
             0.3333333333333333,
             "#9c179e"
            ],
            [
             0.4444444444444444,
             "#bd3786"
            ],
            [
             0.5555555555555556,
             "#d8576b"
            ],
            [
             0.6666666666666666,
             "#ed7953"
            ],
            [
             0.7777777777777778,
             "#fb9f3a"
            ],
            [
             0.8888888888888888,
             "#fdca26"
            ],
            [
             1,
             "#f0f921"
            ]
           ],
           "sequentialminus": [
            [
             0,
             "#0d0887"
            ],
            [
             0.1111111111111111,
             "#46039f"
            ],
            [
             0.2222222222222222,
             "#7201a8"
            ],
            [
             0.3333333333333333,
             "#9c179e"
            ],
            [
             0.4444444444444444,
             "#bd3786"
            ],
            [
             0.5555555555555556,
             "#d8576b"
            ],
            [
             0.6666666666666666,
             "#ed7953"
            ],
            [
             0.7777777777777778,
             "#fb9f3a"
            ],
            [
             0.8888888888888888,
             "#fdca26"
            ],
            [
             1,
             "#f0f921"
            ]
           ]
          },
          "colorway": [
           "#636efa",
           "#EF553B",
           "#00cc96",
           "#ab63fa",
           "#FFA15A",
           "#19d3f3",
           "#FF6692",
           "#B6E880",
           "#FF97FF",
           "#FECB52"
          ],
          "font": {
           "color": "#2a3f5f"
          },
          "geo": {
           "bgcolor": "white",
           "lakecolor": "white",
           "landcolor": "#E5ECF6",
           "showlakes": true,
           "showland": true,
           "subunitcolor": "white"
          },
          "hoverlabel": {
           "align": "left"
          },
          "hovermode": "closest",
          "mapbox": {
           "style": "light"
          },
          "paper_bgcolor": "white",
          "plot_bgcolor": "#E5ECF6",
          "polar": {
           "angularaxis": {
            "gridcolor": "white",
            "linecolor": "white",
            "ticks": ""
           },
           "bgcolor": "#E5ECF6",
           "radialaxis": {
            "gridcolor": "white",
            "linecolor": "white",
            "ticks": ""
           }
          },
          "scene": {
           "xaxis": {
            "backgroundcolor": "#E5ECF6",
            "gridcolor": "white",
            "gridwidth": 2,
            "linecolor": "white",
            "showbackground": true,
            "ticks": "",
            "zerolinecolor": "white"
           },
           "yaxis": {
            "backgroundcolor": "#E5ECF6",
            "gridcolor": "white",
            "gridwidth": 2,
            "linecolor": "white",
            "showbackground": true,
            "ticks": "",
            "zerolinecolor": "white"
           },
           "zaxis": {
            "backgroundcolor": "#E5ECF6",
            "gridcolor": "white",
            "gridwidth": 2,
            "linecolor": "white",
            "showbackground": true,
            "ticks": "",
            "zerolinecolor": "white"
           }
          },
          "shapedefaults": {
           "line": {
            "color": "#2a3f5f"
           }
          },
          "ternary": {
           "aaxis": {
            "gridcolor": "white",
            "linecolor": "white",
            "ticks": ""
           },
           "baxis": {
            "gridcolor": "white",
            "linecolor": "white",
            "ticks": ""
           },
           "bgcolor": "#E5ECF6",
           "caxis": {
            "gridcolor": "white",
            "linecolor": "white",
            "ticks": ""
           }
          },
          "title": {
           "x": 0.05
          },
          "xaxis": {
           "automargin": true,
           "gridcolor": "white",
           "linecolor": "white",
           "ticks": "",
           "title": {
            "standoff": 15
           },
           "zerolinecolor": "white",
           "zerolinewidth": 2
          },
          "yaxis": {
           "automargin": true,
           "gridcolor": "white",
           "linecolor": "white",
           "ticks": "",
           "title": {
            "standoff": 15
           },
           "zerolinecolor": "white",
           "zerolinewidth": 2
          }
         }
        },
        "title": {
         "text": "Class Distribution in Testing Data"
        },
        "width": 1200,
        "yaxis": {
         "title": {
          "text": "Class Count"
         }
        }
       }
      },
      "text/html": [
       "<div>                            <div id=\"9bbeaefb-d578-4490-822e-e2c20c3d78da\" class=\"plotly-graph-div\" style=\"height:400px; width:1200px;\"></div>            <script type=\"text/javascript\">                require([\"plotly\"], function(Plotly) {                    window.PLOTLYENV=window.PLOTLYENV || {};                                    if (document.getElementById(\"9bbeaefb-d578-4490-822e-e2c20c3d78da\")) {                    Plotly.newPlot(                        \"9bbeaefb-d578-4490-822e-e2c20c3d78da\",                        [{\"name\": \"Class Count\", \"opacity\": 0.75, \"type\": \"bar\", \"x\": [\"Apple Braeburn\", \"Apple Crimson Snow\", \"Apple Golden 1\", \"Apple Golden 2\", \"Apple Golden 3\", \"Apple Granny Smith\", \"Apple Pink Lady\", \"Apple Red 1\", \"Apple Red 2\", \"Apple Red 3\", \"Apple Red Delicious\", \"Apple Red Yellow 1\", \"Apple Red Yellow 2\", \"Apricot\", \"Avocado\", \"Avocado ripe\", \"Banana\", \"Banana Lady Finger\", \"Banana Red\", \"Beetroot\", \"Blueberry\", \"Cactus fruit\", \"Cantaloupe 1\", \"Cantaloupe 2\", \"Carambula\", \"Cauliflower\", \"Cherry 1\", \"Cherry 2\", \"Cherry Rainier\", \"Cherry Wax Black\", \"Cherry Wax Red\", \"Cherry Wax Yellow\", \"Chestnut\", \"Clementine\", \"Cocos\", \"Corn\", \"Corn Husk\", \"Cucumber Ripe\", \"Cucumber Ripe 2\", \"Dates\", \"Eggplant\", \"Fig\", \"Ginger Root\", \"Granadilla\", \"Grape Blue\", \"Grape Pink\", \"Grape White\", \"Grape White 2\", \"Grape White 3\", \"Grape White 4\", \"Grapefruit Pink\", \"Grapefruit White\", \"Guava\", \"Hazelnut\", \"Huckleberry\", \"Kaki\", \"Kiwi\", \"Kohlrabi\", \"Kumquats\", \"Lemon\", \"Lemon Meyer\", \"Limes\", \"Lychee\", \"Mandarine\", \"Mango\", \"Mango Red\", \"Mangostan\", \"Maracuja\", \"Melon Piel de Sapo\", \"Mulberry\", \"Nectarine\", \"Nectarine Flat\", \"Nut Forest\", \"Nut Pecan\", \"Onion Red\", \"Onion Red Peeled\", \"Onion White\", \"Orange\", \"Papaya\", \"Passion Fruit\", \"Peach\", \"Peach 2\", \"Peach Flat\", \"Pear\", \"Pear 2\", \"Pear Abate\", \"Pear Forelle\", \"Pear Kaiser\", \"Pear Monster\", \"Pear Red\", \"Pear Stone\", \"Pear Williams\", \"Pepino\", \"Pepper Green\", \"Pepper Orange\", \"Pepper Red\", \"Pepper Yellow\", \"Physalis\", \"Physalis with Husk\", \"Pineapple\", \"Pineapple Mini\", \"Pitahaya Red\", \"Plum\", \"Plum 2\", \"Plum 3\", \"Pomegranate\", \"Pomelo Sweetie\", \"Potato Red\", \"Potato Red Washed\", \"Potato Sweet\", \"Potato White\", \"Quince\", \"Rambutan\", \"Raspberry\", \"Redcurrant\", \"Salak\", \"Strawberry\", \"Strawberry Wedge\", \"Tamarillo\", \"Tangelo\", \"Tomato 1\", \"Tomato 2\", \"Tomato 3\", \"Tomato 4\", \"Tomato Cherry Red\", \"Tomato Heart\", \"Tomato Maroon\", \"Tomato Yellow\", \"Tomato not Ripened\", \"Walnut\", \"Watermelon\"], \"y\": [164, 148, 160, 164, 161, 164, 152, 164, 164, 144, 166, 164, 219, 164, 143, 166, 166, 152, 166, 150, 154, 166, 164, 164, 166, 234, 164, 246, 246, 164, 164, 164, 153, 166, 166, 150, 154, 130, 156, 166, 156, 234, 99, 166, 328, 164, 166, 166, 164, 158, 166, 164, 166, 157, 166, 166, 156, 157, 166, 164, 166, 166, 166, 166, 166, 142, 102, 166, 246, 164, 164, 160, 218, 178, 150, 155, 146, 160, 164, 166, 164, 246, 164, 164, 232, 166, 234, 102, 166, 222, 237, 166, 166, 148, 234, 222, 222, 164, 164, 166, 163, 166, 151, 142, 304, 164, 153, 150, 151, 150, 150, 166, 164, 166, 164, 162, 164, 246, 166, 166, 246, 225, 246, 160, 164, 228, 127, 153, 158, 249, 157]}],                        {\"height\": 400, \"legend\": {\"orientation\": \"h\"}, \"template\": {\"data\": {\"bar\": [{\"error_x\": {\"color\": \"#2a3f5f\"}, \"error_y\": {\"color\": \"#2a3f5f\"}, \"marker\": {\"line\": {\"color\": \"#E5ECF6\", \"width\": 0.5}}, \"type\": \"bar\"}], \"barpolar\": [{\"marker\": {\"line\": {\"color\": \"#E5ECF6\", \"width\": 0.5}}, \"type\": \"barpolar\"}], \"carpet\": [{\"aaxis\": {\"endlinecolor\": \"#2a3f5f\", \"gridcolor\": \"white\", \"linecolor\": \"white\", \"minorgridcolor\": \"white\", \"startlinecolor\": \"#2a3f5f\"}, \"baxis\": {\"endlinecolor\": \"#2a3f5f\", \"gridcolor\": \"white\", \"linecolor\": \"white\", \"minorgridcolor\": \"white\", \"startlinecolor\": \"#2a3f5f\"}, \"type\": \"carpet\"}], \"choropleth\": [{\"colorbar\": {\"outlinewidth\": 0, \"ticks\": \"\"}, \"type\": \"choropleth\"}], \"contour\": [{\"colorbar\": {\"outlinewidth\": 0, \"ticks\": \"\"}, \"colorscale\": [[0.0, \"#0d0887\"], [0.1111111111111111, \"#46039f\"], [0.2222222222222222, \"#7201a8\"], [0.3333333333333333, \"#9c179e\"], [0.4444444444444444, \"#bd3786\"], [0.5555555555555556, \"#d8576b\"], [0.6666666666666666, \"#ed7953\"], [0.7777777777777778, \"#fb9f3a\"], [0.8888888888888888, \"#fdca26\"], [1.0, \"#f0f921\"]], \"type\": \"contour\"}], \"contourcarpet\": [{\"colorbar\": {\"outlinewidth\": 0, \"ticks\": \"\"}, \"type\": \"contourcarpet\"}], \"heatmap\": [{\"colorbar\": {\"outlinewidth\": 0, \"ticks\": \"\"}, \"colorscale\": [[0.0, \"#0d0887\"], [0.1111111111111111, \"#46039f\"], [0.2222222222222222, \"#7201a8\"], [0.3333333333333333, \"#9c179e\"], [0.4444444444444444, \"#bd3786\"], [0.5555555555555556, \"#d8576b\"], [0.6666666666666666, \"#ed7953\"], [0.7777777777777778, \"#fb9f3a\"], [0.8888888888888888, \"#fdca26\"], [1.0, \"#f0f921\"]], \"type\": \"heatmap\"}], \"heatmapgl\": [{\"colorbar\": {\"outlinewidth\": 0, \"ticks\": \"\"}, \"colorscale\": [[0.0, \"#0d0887\"], [0.1111111111111111, \"#46039f\"], [0.2222222222222222, \"#7201a8\"], [0.3333333333333333, \"#9c179e\"], [0.4444444444444444, \"#bd3786\"], [0.5555555555555556, \"#d8576b\"], [0.6666666666666666, \"#ed7953\"], [0.7777777777777778, \"#fb9f3a\"], [0.8888888888888888, \"#fdca26\"], [1.0, \"#f0f921\"]], \"type\": \"heatmapgl\"}], \"histogram\": [{\"marker\": {\"colorbar\": {\"outlinewidth\": 0, \"ticks\": \"\"}}, \"type\": \"histogram\"}], \"histogram2d\": [{\"colorbar\": {\"outlinewidth\": 0, \"ticks\": \"\"}, \"colorscale\": [[0.0, \"#0d0887\"], [0.1111111111111111, \"#46039f\"], [0.2222222222222222, \"#7201a8\"], [0.3333333333333333, \"#9c179e\"], [0.4444444444444444, \"#bd3786\"], [0.5555555555555556, \"#d8576b\"], [0.6666666666666666, \"#ed7953\"], [0.7777777777777778, \"#fb9f3a\"], [0.8888888888888888, \"#fdca26\"], [1.0, \"#f0f921\"]], \"type\": \"histogram2d\"}], \"histogram2dcontour\": [{\"colorbar\": {\"outlinewidth\": 0, \"ticks\": \"\"}, \"colorscale\": [[0.0, \"#0d0887\"], [0.1111111111111111, \"#46039f\"], [0.2222222222222222, \"#7201a8\"], [0.3333333333333333, \"#9c179e\"], [0.4444444444444444, \"#bd3786\"], [0.5555555555555556, \"#d8576b\"], [0.6666666666666666, \"#ed7953\"], [0.7777777777777778, \"#fb9f3a\"], [0.8888888888888888, \"#fdca26\"], [1.0, \"#f0f921\"]], \"type\": \"histogram2dcontour\"}], \"mesh3d\": [{\"colorbar\": {\"outlinewidth\": 0, \"ticks\": \"\"}, \"type\": \"mesh3d\"}], \"parcoords\": [{\"line\": {\"colorbar\": {\"outlinewidth\": 0, \"ticks\": \"\"}}, \"type\": \"parcoords\"}], \"pie\": [{\"automargin\": true, \"type\": \"pie\"}], \"scatter\": [{\"marker\": {\"colorbar\": {\"outlinewidth\": 0, \"ticks\": \"\"}}, \"type\": \"scatter\"}], \"scatter3d\": [{\"line\": {\"colorbar\": {\"outlinewidth\": 0, \"ticks\": \"\"}}, \"marker\": {\"colorbar\": {\"outlinewidth\": 0, \"ticks\": \"\"}}, \"type\": \"scatter3d\"}], \"scattercarpet\": [{\"marker\": {\"colorbar\": {\"outlinewidth\": 0, \"ticks\": \"\"}}, \"type\": \"scattercarpet\"}], \"scattergeo\": [{\"marker\": {\"colorbar\": {\"outlinewidth\": 0, \"ticks\": \"\"}}, \"type\": \"scattergeo\"}], \"scattergl\": [{\"marker\": {\"colorbar\": {\"outlinewidth\": 0, \"ticks\": \"\"}}, \"type\": \"scattergl\"}], \"scattermapbox\": [{\"marker\": {\"colorbar\": {\"outlinewidth\": 0, \"ticks\": \"\"}}, \"type\": \"scattermapbox\"}], \"scatterpolar\": [{\"marker\": {\"colorbar\": {\"outlinewidth\": 0, \"ticks\": \"\"}}, \"type\": \"scatterpolar\"}], \"scatterpolargl\": [{\"marker\": {\"colorbar\": {\"outlinewidth\": 0, \"ticks\": \"\"}}, \"type\": \"scatterpolargl\"}], \"scatterternary\": [{\"marker\": {\"colorbar\": {\"outlinewidth\": 0, \"ticks\": \"\"}}, \"type\": \"scatterternary\"}], \"surface\": [{\"colorbar\": {\"outlinewidth\": 0, \"ticks\": \"\"}, \"colorscale\": [[0.0, \"#0d0887\"], [0.1111111111111111, \"#46039f\"], [0.2222222222222222, \"#7201a8\"], [0.3333333333333333, \"#9c179e\"], [0.4444444444444444, \"#bd3786\"], [0.5555555555555556, \"#d8576b\"], [0.6666666666666666, \"#ed7953\"], [0.7777777777777778, \"#fb9f3a\"], [0.8888888888888888, \"#fdca26\"], [1.0, \"#f0f921\"]], \"type\": \"surface\"}], \"table\": [{\"cells\": {\"fill\": {\"color\": \"#EBF0F8\"}, \"line\": {\"color\": \"white\"}}, \"header\": {\"fill\": {\"color\": \"#C8D4E3\"}, \"line\": {\"color\": \"white\"}}, \"type\": \"table\"}]}, \"layout\": {\"annotationdefaults\": {\"arrowcolor\": \"#2a3f5f\", \"arrowhead\": 0, \"arrowwidth\": 1}, \"autotypenumbers\": \"strict\", \"coloraxis\": {\"colorbar\": {\"outlinewidth\": 0, \"ticks\": \"\"}}, \"colorscale\": {\"diverging\": [[0, \"#8e0152\"], [0.1, \"#c51b7d\"], [0.2, \"#de77ae\"], [0.3, \"#f1b6da\"], [0.4, \"#fde0ef\"], [0.5, \"#f7f7f7\"], [0.6, \"#e6f5d0\"], [0.7, \"#b8e186\"], [0.8, \"#7fbc41\"], [0.9, \"#4d9221\"], [1, \"#276419\"]], \"sequential\": [[0.0, \"#0d0887\"], [0.1111111111111111, \"#46039f\"], [0.2222222222222222, \"#7201a8\"], [0.3333333333333333, \"#9c179e\"], [0.4444444444444444, \"#bd3786\"], [0.5555555555555556, \"#d8576b\"], [0.6666666666666666, \"#ed7953\"], [0.7777777777777778, \"#fb9f3a\"], [0.8888888888888888, \"#fdca26\"], [1.0, \"#f0f921\"]], \"sequentialminus\": [[0.0, \"#0d0887\"], [0.1111111111111111, \"#46039f\"], [0.2222222222222222, \"#7201a8\"], [0.3333333333333333, \"#9c179e\"], [0.4444444444444444, \"#bd3786\"], [0.5555555555555556, \"#d8576b\"], [0.6666666666666666, \"#ed7953\"], [0.7777777777777778, \"#fb9f3a\"], [0.8888888888888888, \"#fdca26\"], [1.0, \"#f0f921\"]]}, \"colorway\": [\"#636efa\", \"#EF553B\", \"#00cc96\", \"#ab63fa\", \"#FFA15A\", \"#19d3f3\", \"#FF6692\", \"#B6E880\", \"#FF97FF\", \"#FECB52\"], \"font\": {\"color\": \"#2a3f5f\"}, \"geo\": {\"bgcolor\": \"white\", \"lakecolor\": \"white\", \"landcolor\": \"#E5ECF6\", \"showlakes\": true, \"showland\": true, \"subunitcolor\": \"white\"}, \"hoverlabel\": {\"align\": \"left\"}, \"hovermode\": \"closest\", \"mapbox\": {\"style\": \"light\"}, \"paper_bgcolor\": \"white\", \"plot_bgcolor\": \"#E5ECF6\", \"polar\": {\"angularaxis\": {\"gridcolor\": \"white\", \"linecolor\": \"white\", \"ticks\": \"\"}, \"bgcolor\": \"#E5ECF6\", \"radialaxis\": {\"gridcolor\": \"white\", \"linecolor\": \"white\", \"ticks\": \"\"}}, \"scene\": {\"xaxis\": {\"backgroundcolor\": \"#E5ECF6\", \"gridcolor\": \"white\", \"gridwidth\": 2, \"linecolor\": \"white\", \"showbackground\": true, \"ticks\": \"\", \"zerolinecolor\": \"white\"}, \"yaxis\": {\"backgroundcolor\": \"#E5ECF6\", \"gridcolor\": \"white\", \"gridwidth\": 2, \"linecolor\": \"white\", \"showbackground\": true, \"ticks\": \"\", \"zerolinecolor\": \"white\"}, \"zaxis\": {\"backgroundcolor\": \"#E5ECF6\", \"gridcolor\": \"white\", \"gridwidth\": 2, \"linecolor\": \"white\", \"showbackground\": true, \"ticks\": \"\", \"zerolinecolor\": \"white\"}}, \"shapedefaults\": {\"line\": {\"color\": \"#2a3f5f\"}}, \"ternary\": {\"aaxis\": {\"gridcolor\": \"white\", \"linecolor\": \"white\", \"ticks\": \"\"}, \"baxis\": {\"gridcolor\": \"white\", \"linecolor\": \"white\", \"ticks\": \"\"}, \"bgcolor\": \"#E5ECF6\", \"caxis\": {\"gridcolor\": \"white\", \"linecolor\": \"white\", \"ticks\": \"\"}}, \"title\": {\"x\": 0.05}, \"xaxis\": {\"automargin\": true, \"gridcolor\": \"white\", \"linecolor\": \"white\", \"ticks\": \"\", \"title\": {\"standoff\": 15}, \"zerolinecolor\": \"white\", \"zerolinewidth\": 2}, \"yaxis\": {\"automargin\": true, \"gridcolor\": \"white\", \"linecolor\": \"white\", \"ticks\": \"\", \"title\": {\"standoff\": 15}, \"zerolinecolor\": \"white\", \"zerolinewidth\": 2}}}, \"title\": {\"text\": \"Class Distribution in Testing Data\"}, \"width\": 1200, \"yaxis\": {\"title\": {\"text\": \"Class Count\"}}},                        {\"responsive\": true}                    ).then(function(){\n",
       "                            \n",
       "var gd = document.getElementById('9bbeaefb-d578-4490-822e-e2c20c3d78da');\n",
       "var x = new MutationObserver(function (mutations, observer) {{\n",
       "        var display = window.getComputedStyle(gd).display;\n",
       "        if (!display || display === 'none') {{\n",
       "            console.log([gd, 'removed!']);\n",
       "            Plotly.purge(gd);\n",
       "            observer.disconnect();\n",
       "        }}\n",
       "}});\n",
       "\n",
       "// Listen for the removal of the full notebook cells\n",
       "var notebookContainer = gd.closest('#notebook-container');\n",
       "if (notebookContainer) {{\n",
       "    x.observe(notebookContainer, {childList: true});\n",
       "}}\n",
       "\n",
       "// Listen for the clearing of the current output cell\n",
       "var outputEl = gd.closest('.output');\n",
       "if (outputEl) {{\n",
       "    x.observe(outputEl, {childList: true});\n",
       "}}\n",
       "\n",
       "                        })                };                });            </script>        </div>"
      ]
     },
     "metadata": {},
     "output_type": "display_data"
    }
   ],
   "source": [
    "x1, y1 = create_stack_bar_data('classes', testing_data)\n",
    "x1 = list(validation_generator.class_indices.keys())\n",
    "\n",
    "trace1 = go.Bar(x=x1, y=y1, opacity=0.75, name='Class Count')\n",
    "layout = dict(height=400, width=1200, title='Class Distribution in Testing Data', legend=dict(orientation='h'), yaxis=dict(title='Class Count'))\n",
    "fig = go.Figure(data=[trace1], layout=layout)\n",
    "iplot(fig)"
   ]
  },
  {
   "cell_type": "markdown",
   "id": "formed-remark",
   "metadata": {},
   "source": [
    "두 데이터셋의 균형이 잘 이루어져 있습니다."
   ]
  },
  {
   "cell_type": "markdown",
   "id": "immune-schema",
   "metadata": {},
   "source": [
    "## Building and Compiling the Model\n",
    "\n",
    "ResNet-50을 ImageNet 가중치와 함께 로드합니다. 우리는 클래스의 수에 따라 레이어를 추가할 수 있도록 꼭대기 제거합니다. 그런 다음 자체 계층을 추가하여 모델 아키텍처를 완성합니다."
   ]
  },
  {
   "cell_type": "markdown",
   "id": "directed-amendment",
   "metadata": {},
   "source": [
    "### Pretained Model 구축"
   ]
  },
  {
   "cell_type": "code",
   "execution_count": 10,
   "id": "unknown-stephen",
   "metadata": {
    "ExecuteTime": {
     "end_time": "2021-02-15T13:36:45.892829Z",
     "start_time": "2021-02-15T13:36:40.901399Z"
    }
   },
   "outputs": [
    {
     "name": "stderr",
     "output_type": "stream",
     "text": [
      "C:\\ProgramData\\Anaconda3\\envs\\tens_2g\\lib\\site-packages\\keras_applications\\resnet50.py:265: UserWarning:\n",
      "\n",
      "The output shape of `ResNet50(include_top=False)` has been changed since Keras 2.2.0.\n",
      "\n"
     ]
    }
   ],
   "source": [
    "inception_base = applications.ResNet50(weights='imagenet', include_top=False)\n",
    "\n",
    "# add a global spatial average pooling layer\n",
    "x = inception_base.output\n",
    "x = GlobalAveragePooling2D()(x)\n",
    "# add a fully-connected layer\n",
    "x = Dense(512, activation='relu')(x)\n",
    "# and a fully connected output/classification layer\n",
    "predictions = Dense(131, activation='softmax')(x)\n",
    "# create the full network so we can train on it\n",
    "inception_transfer = Model(inputs=inception_base.input, outputs=predictions)"
   ]
  },
  {
   "cell_type": "markdown",
   "id": "inside-child",
   "metadata": {},
   "source": [
    "### 바닐라 모델 구축"
   ]
  },
  {
   "cell_type": "code",
   "execution_count": 11,
   "id": "single-residence",
   "metadata": {
    "ExecuteTime": {
     "end_time": "2021-02-15T13:36:48.710773Z",
     "start_time": "2021-02-15T13:36:45.893831Z"
    }
   },
   "outputs": [],
   "source": [
    "inception_base_vanila = applications.ResNet50(weights=None, include_top = False)\n",
    "\n",
    "x = inception_base_vanila.output\n",
    "x = GlobalAveragePooling2D()(x)\n",
    "\n",
    "x = Dense(512, activation='relu')(x)\n",
    "\n",
    "predictions = Dense(131, activation='softmax')(x)\n",
    "\n",
    "inception_transfer_vanila = Model(inputs=inception_base_vanila.input, outputs=predictions)"
   ]
  },
  {
   "cell_type": "markdown",
   "id": "enclosed-scope",
   "metadata": {},
   "source": [
    "### Compiling the Models\n",
    "\n",
    "손실함수, 사용할 최적화 알고리즘 및 각 에포치에 계산할 메트릭을 설정합니다."
   ]
  },
  {
   "cell_type": "code",
   "execution_count": 12,
   "id": "vietnamese-soccer",
   "metadata": {
    "ExecuteTime": {
     "end_time": "2021-02-15T13:36:48.798632Z",
     "start_time": "2021-02-15T13:36:48.710773Z"
    }
   },
   "outputs": [],
   "source": [
    "inception_transfer.compile(loss='categorical_crossentropy',\n",
    "                          optimizer=optimizers.SGD(lr=1e-4, momentum=0.9),\n",
    "                          metrics=['accuracy'])\n",
    "\n",
    "inception_transfer_vanila.compile(loss='categorical_crossentropy',\n",
    "                          optimizer=optimizers.SGD(lr=1e-4, momentum=0.9),\n",
    "                          metrics=['accuracy'])\n"
   ]
  },
  {
   "cell_type": "code",
   "execution_count": 13,
   "id": "verbal-traffic",
   "metadata": {
    "ExecuteTime": {
     "end_time": "2021-02-15T13:36:48.814646Z",
     "start_time": "2021-02-15T13:36:48.799632Z"
    }
   },
   "outputs": [
    {
     "name": "stdout",
     "output_type": "stream",
     "text": [
      "[name: \"/device:CPU:0\"\n",
      "device_type: \"CPU\"\n",
      "memory_limit: 268435456\n",
      "locality {\n",
      "}\n",
      "incarnation: 12946951022531812366\n",
      ", name: \"/device:GPU:0\"\n",
      "device_type: \"GPU\"\n",
      "memory_limit: 4994957312\n",
      "locality {\n",
      "  bus_id: 1\n",
      "  links {\n",
      "  }\n",
      "}\n",
      "incarnation: 4989163198140385765\n",
      "physical_device_desc: \"device: 0, name: GeForce GTX 1660 SUPER, pci bus id: 0000:06:00.0, compute capability: 7.5\"\n",
      "]\n"
     ]
    }
   ],
   "source": [
    "from tensorflow.python.client import device_lib\n",
    "print(device_lib.list_local_devices())"
   ]
  },
  {
   "cell_type": "markdown",
   "id": "alpha-heritage",
   "metadata": {},
   "source": [
    "## Training and Validating the Pretrained Model\n",
    "\n",
    "ImageDataGenerateor 클래스의 객체를 사용하여 데이터를 가져오므로 fit_generater() 함수를 이용합니다."
   ]
  },
  {
   "cell_type": "code",
   "execution_count": 14,
   "id": "asian-choir",
   "metadata": {
    "ExecuteTime": {
     "end_time": "2021-02-15T15:36:36.523755Z",
     "start_time": "2021-02-15T13:36:48.815647Z"
    }
   },
   "outputs": [
    {
     "name": "stdout",
     "output_type": "stream",
     "text": [
      "Epoch 1/5\n",
      "4231/4231 [==============================] - 1409s 333ms/step - loss: 1.1881 - accuracy: 0.8009 - val_loss: 0.2472 - val_accuracy: 0.9762\n",
      "Epoch 2/5\n",
      "4231/4231 [==============================] - 1411s 333ms/step - loss: 0.0789 - accuracy: 0.9920 - val_loss: 0.0105 - val_accuracy: 0.9851\n",
      "Epoch 3/5\n",
      "4231/4231 [==============================] - 1408s 333ms/step - loss: 0.0361 - accuracy: 0.9969 - val_loss: 0.0422 - val_accuracy: 0.9898\n",
      "Epoch 4/5\n",
      "4231/4231 [==============================] - 1390s 329ms/step - loss: 0.0231 - accuracy: 0.9981 - val_loss: 0.0035 - val_accuracy: 0.9894\n",
      "Epoch 5/5\n",
      "4231/4231 [==============================] - 1377s 325ms/step - loss: 0.0167 - accuracy: 0.9986 - val_loss: 0.0032 - val_accuracy: 0.9910\n"
     ]
    }
   ],
   "source": [
    "\n",
    "history_pretrained = inception_transfer.fit_generator(train_generator,\n",
    "                                                         epochs=5, shuffle=True,\n",
    "                                                         verbose=1, validation_data=validation_generator)"
   ]
  },
  {
   "cell_type": "code",
   "execution_count": 15,
   "id": "expected-resistance",
   "metadata": {
    "ExecuteTime": {
     "end_time": "2021-02-15T17:39:07.274419Z",
     "start_time": "2021-02-15T15:36:36.526758Z"
    }
   },
   "outputs": [
    {
     "name": "stdout",
     "output_type": "stream",
     "text": [
      "Epoch 1/5\n",
      "4231/4231 [==============================] - 1382s 327ms/step - loss: 3.8444 - accuracy: 0.1370 - val_loss: 2.1908 - val_accuracy: 0.4315\n",
      "Epoch 2/5\n",
      "4231/4231 [==============================] - 1367s 323ms/step - loss: 1.7500 - accuracy: 0.5421 - val_loss: 0.8325 - val_accuracy: 0.8426\n",
      "Epoch 3/5\n",
      "4231/4231 [==============================] - 1369s 324ms/step - loss: 0.8610 - accuracy: 0.7659 - val_loss: 0.2978 - val_accuracy: 0.8981\n",
      "Epoch 4/5\n",
      "4231/4231 [==============================] - 1367s 323ms/step - loss: 0.5139 - accuracy: 0.8619 - val_loss: 0.4162 - val_accuracy: 0.9413\n",
      "Epoch 5/5\n",
      "4231/4231 [==============================] - 1365s 323ms/step - loss: 0.3506 - accuracy: 0.9056 - val_loss: 0.0652 - val_accuracy: 0.9572\n"
     ]
    }
   ],
   "source": [
    "\n",
    "history_vanila = inception_transfer_vanila.fit_generator(train_generator,\n",
    "                                                         epochs=5, shuffle=True,\n",
    "                                                         verbose=1, validation_data=validation_generator)"
   ]
  },
  {
   "cell_type": "code",
   "execution_count": 17,
   "id": "allied-czech",
   "metadata": {
    "ExecuteTime": {
     "end_time": "2021-02-15T21:44:17.630027Z",
     "start_time": "2021-02-15T21:44:17.606006Z"
    }
   },
   "outputs": [
    {
     "ename": "KeyError",
     "evalue": "'val_acc'",
     "output_type": "error",
     "traceback": [
      "\u001b[1;31m---------------------------------------------------------------------------\u001b[0m",
      "\u001b[1;31mKeyError\u001b[0m                                  Traceback (most recent call last)",
      "\u001b[1;32m<ipython-input-17-b155a94f4866>\u001b[0m in \u001b[0;36m<module>\u001b[1;34m\u001b[0m\n\u001b[0;32m      1\u001b[0m \u001b[1;32mimport\u001b[0m \u001b[0mmatplotlib\u001b[0m\u001b[1;33m.\u001b[0m\u001b[0mpyplot\u001b[0m \u001b[1;32mas\u001b[0m \u001b[0mplt\u001b[0m\u001b[1;33m\u001b[0m\u001b[1;33m\u001b[0m\u001b[0m\n\u001b[0;32m      2\u001b[0m \u001b[1;31m# summarize history for accuracy\u001b[0m\u001b[1;33m\u001b[0m\u001b[1;33m\u001b[0m\u001b[1;33m\u001b[0m\u001b[0m\n\u001b[1;32m----> 3\u001b[1;33m \u001b[0mplt\u001b[0m\u001b[1;33m.\u001b[0m\u001b[0mplot\u001b[0m\u001b[1;33m(\u001b[0m\u001b[0mhistory_pretrained\u001b[0m\u001b[1;33m.\u001b[0m\u001b[0mhistory\u001b[0m\u001b[1;33m[\u001b[0m\u001b[1;34m'val_acc'\u001b[0m\u001b[1;33m]\u001b[0m\u001b[1;33m)\u001b[0m\u001b[1;33m\u001b[0m\u001b[1;33m\u001b[0m\u001b[0m\n\u001b[0m\u001b[0;32m      4\u001b[0m \u001b[0mplt\u001b[0m\u001b[1;33m.\u001b[0m\u001b[0mplot\u001b[0m\u001b[1;33m(\u001b[0m\u001b[0mhistory_vanila\u001b[0m\u001b[1;33m.\u001b[0m\u001b[0mhistory\u001b[0m\u001b[1;33m[\u001b[0m\u001b[1;34m'val_acc'\u001b[0m\u001b[1;33m]\u001b[0m\u001b[1;33m)\u001b[0m\u001b[1;33m\u001b[0m\u001b[1;33m\u001b[0m\u001b[0m\n\u001b[0;32m      5\u001b[0m \u001b[0mplt\u001b[0m\u001b[1;33m.\u001b[0m\u001b[0mtitle\u001b[0m\u001b[1;33m(\u001b[0m\u001b[1;34m'model accuracy'\u001b[0m\u001b[1;33m)\u001b[0m\u001b[1;33m\u001b[0m\u001b[1;33m\u001b[0m\u001b[0m\n",
      "\u001b[1;31mKeyError\u001b[0m: 'val_acc'"
     ]
    }
   ],
   "source": [
    "import matplotlib.pyplot as plt\n",
    "# summarize history for accuracy\n",
    "plt.plot(history_pretrained.history['val_acc'])\n",
    "plt.plot(history_vanila.history['val_acc'])\n",
    "plt.title('model accuracy')\n",
    "plt.ylabel('accuracy')\n",
    "plt.xlabel('epoch')\n",
    "plt.legend(['Pretrained', 'Vanila'], loc='upper left')\n",
    "plt.show()\n",
    "# summarize history for loss\n",
    "plt.plot(history_pretrained.history['val_loss'])\n",
    "plt.plot(history_vanila.history['val_loss'])\n",
    "plt.title('model loss')\n",
    "plt.ylabel('loss')\n",
    "plt.xlabel('epoch')\n",
    "plt.legend(['Pretrained', 'Vanila'], loc='upper left')\n",
    "plt.show()"
   ]
  },
  {
   "cell_type": "code",
   "execution_count": null,
   "id": "threaded-accident",
   "metadata": {},
   "outputs": [],
   "source": []
  },
  {
   "cell_type": "code",
   "execution_count": null,
   "id": "suspended-terror",
   "metadata": {},
   "outputs": [],
   "source": []
  },
  {
   "cell_type": "code",
   "execution_count": null,
   "id": "cardiac-positive",
   "metadata": {},
   "outputs": [],
   "source": []
  },
  {
   "cell_type": "code",
   "execution_count": null,
   "id": "noticed-scholar",
   "metadata": {},
   "outputs": [],
   "source": []
  },
  {
   "cell_type": "code",
   "execution_count": null,
   "id": "frank-netherlands",
   "metadata": {},
   "outputs": [],
   "source": []
  },
  {
   "cell_type": "code",
   "execution_count": null,
   "id": "brutal-quarterly",
   "metadata": {},
   "outputs": [],
   "source": []
  },
  {
   "cell_type": "code",
   "execution_count": null,
   "id": "australian-machinery",
   "metadata": {},
   "outputs": [],
   "source": []
  },
  {
   "cell_type": "code",
   "execution_count": null,
   "id": "bibliographic-retention",
   "metadata": {},
   "outputs": [],
   "source": []
  }
 ],
 "metadata": {
  "kernelspec": {
   "display_name": "Python 3",
   "language": "python",
   "name": "python3"
  },
  "language_info": {
   "codemirror_mode": {
    "name": "ipython",
    "version": 3
   },
   "file_extension": ".py",
   "mimetype": "text/x-python",
   "name": "python",
   "nbconvert_exporter": "python",
   "pygments_lexer": "ipython3",
   "version": "3.7.9"
  },
  "toc": {
   "base_numbering": 1,
   "nav_menu": {},
   "number_sections": true,
   "sideBar": true,
   "skip_h1_title": false,
   "title_cell": "Table of Contents",
   "title_sidebar": "Contents",
   "toc_cell": false,
   "toc_position": {},
   "toc_section_display": true,
   "toc_window_display": false
  }
 },
 "nbformat": 4,
 "nbformat_minor": 5
}
