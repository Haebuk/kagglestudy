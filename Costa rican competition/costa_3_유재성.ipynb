{
 "cells": [
  {
   "cell_type": "markdown",
   "metadata": {},
   "source": [
    "# 1회차"
   ]
  },
  {
   "cell_type": "markdown",
   "metadata": {},
   "source": [
    "- LightGBM 모델은 XGBoost로 대체되었으며 그에 따라 코드가 업데이트됐습니다.\n",
    "- 또한 랜덤 포레스트의 투표 분류기를 장착하고 XGB의 결과를 RF와 결합합니다.\n",
    "- 데이터를 한 번 쪼개서 LGBM 조기 정지에 대한 검증 데이터를 사용하는 대신 전체 교육 세트를 훈련할 수 있도록 교육 중 데이터를 분할했습니다. 이것이 이 케이스에서 kfold 분할보다 더 효과가 있음을 발견했습니다.\n",
    "\n",
    "- 이 커널은 하이퍼 파라미터 최적화를 실행하는 대신 해당 커널의 최적값을 사용하여 더 빨리 실행됩니다.\n",
    "\n",
    "- __몇 가지 주요 요점은 다음과 같습니다.__:\n",
    "    - 이 커널은 가장에 대해서만 교육을 실행합니다. \n",
    "    - 클래스 크기의 균형을 맞추는 것이 매우 중요해보입니다. 이는 수작업으로 할 수 있고, 언더 샘플링으로 달성할 수 있습니다. 그러나 sklearn API의 LGBM 모델 생성자에 `class_weight='balance'`을 설정하는 것이 가장 간단합니다.\n",
    "    - 이 커널은 매크로 F1점수를 사용하여 교육을 조기 중단합니다. \n",
    "    - 범주는 블라인드 레이블 인코딩 대신 적절한 매핑을 가진 숫자로 바뀝니다.\n",
    "    - OHE를 라벨 인코딩으로 반전시키면, 트리 모델에 더 적합할 수 있으나 , 논트리 모델에는 안 좋을 수 있으니 유의해야합니다.\n",
    "    - `idhogar`는 훈련에서 사용되지 않습니다. 정보가 있을 수 있는 유일한 방법은 데이터 누출입니다. \n",
    "    - 가구 내에서 집계가 이루어지며 새로운 기능은 수작업으로 제작됩니다. 대부분의 기능이 이미 가정 수준에서 인용되었기 때문에 집계할 수 있는 기능이 많지 않습니다.\n",
    "    - 투표 분류기는 여러 LGBM 모델에서 평균을 내는데 사용됩니다"
   ]
  },
  {
   "cell_type": "markdown",
   "metadata": {},
   "source": [
    "### import"
   ]
  },
  {
   "cell_type": "code",
   "execution_count": 113,
   "metadata": {
    "ExecuteTime": {
     "end_time": "2021-02-08T13:11:36.229621Z",
     "start_time": "2021-02-08T13:11:36.220613Z"
    }
   },
   "outputs": [],
   "source": [
    "import numpy as np\n",
    "import pandas as pd\n",
    "import matplotlib\n",
    "import matplotlib.pyplot as plt\n",
    "import seaborn as sns\n",
    "%matplotlib inline\n",
    "import lightgbm as lgb\n",
    "import xgboost as xgb\n",
    "from sklearn.metrics import f1_score\n",
    "from joblib import Parallel, delayed\n",
    "from sklearn.base import clone\n",
    "from sklearn.ensemble import VotingClassifier, ExtraTreesClassifier, RandomForestClassifier\n",
    "from sklearn.utils import class_weight\n",
    "import warnings\n",
    "warnings.filterwarnings('ignore')"
   ]
  },
  {
   "cell_type": "markdown",
   "metadata": {},
   "source": [
    "### mapping"
   ]
  },
  {
   "cell_type": "code",
   "execution_count": 114,
   "metadata": {
    "ExecuteTime": {
     "end_time": "2021-02-08T13:11:36.245636Z",
     "start_time": "2021-02-08T13:11:36.230622Z"
    }
   },
   "outputs": [],
   "source": [
    "from sklearn.preprocessing import LabelEncoder\n",
    "\n",
    "# this only transforms the idhogar field, the other things this function used to do are done elsewhere\n",
    "def encode_data(df):\n",
    "    df['idhogar'] = LabelEncoder().fit_transform(df['idhogar'])\n",
    "\n",
    "# plot feature importance for sklearn decision trees    \n",
    "def feature_importance(forest, X_train, display_results=True):\n",
    "    ranked_list = []\n",
    "    zero_features = []\n",
    "    \n",
    "    importances = forest.feature_importances_\n",
    "\n",
    "    indices = np.argsort(importances)[::-1]\n",
    "    \n",
    "    if display_results:\n",
    "        # Print the feature ranking\n",
    "        print(\"Feature ranking:\")\n",
    "\n",
    "    for f in range(X_train.shape[1]):\n",
    "        if display_results:\n",
    "            print(\"%d. feature %d (%f)\" % (f + 1, indices[f], importances[indices[f]]) + \" - \" + X_train.columns[indices[f]])\n",
    "        \n",
    "        ranked_list.append(X_train.columns[indices[f]])\n",
    "        \n",
    "        if importances[indices[f]] == 0.0:\n",
    "            zero_features.append(X_train.columns[indices[f]])\n",
    "            \n",
    "    return ranked_list, zero_features"
   ]
  },
  {
   "cell_type": "markdown",
   "metadata": {},
   "source": [
    "### feature engineering"
   ]
  },
  {
   "cell_type": "code",
   "execution_count": 115,
   "metadata": {
    "ExecuteTime": {
     "end_time": "2021-02-08T13:11:36.261650Z",
     "start_time": "2021-02-08T13:11:36.246637Z"
    }
   },
   "outputs": [],
   "source": [
    "def do_features(df):\n",
    "    feats_div = [('children_fraction', 'r4t1', 'r4t3'), \n",
    "                 ('working_man_fraction', 'r4h2', 'r4t3'),\n",
    "                 ('all_man_fraction', 'r4h3', 'r4t3'),\n",
    "                 ('human_density', 'tamviv', 'rooms'),\n",
    "                 ('human_bed_density', 'tamviv', 'bedrooms'),\n",
    "                 ('rent_per_person', 'v2a1', 'r4t3'),\n",
    "                 ('rent_per_room', 'v2a1', 'rooms'),\n",
    "                 ('mobile_density', 'qmobilephone', 'r4t3'),\n",
    "                 ('tablet_density', 'v18q1', 'r4t3'),\n",
    "                 ('mobile_adult_density', 'qmobilephone', 'r4t2'),\n",
    "                 ('tablet_adult_density', 'v18q1', 'r4t2'),\n",
    "                ]\n",
    "    \n",
    "    feats_sub = [('people_not_living', 'tamhog', 'tamviv'),\n",
    "                 ('people_weird_stat', 'tamhog', 'r4t3')]\n",
    "\n",
    "    for f_new, f1, f2 in feats_div:\n",
    "        df['fe_' + f_new] = (df[f1] / df[f2]).astype(np.float32)       \n",
    "    for f_new, f1, f2 in feats_sub:\n",
    "        df['fe_' + f_new] = (df[f1] - df[f2]).astype(np.float32)\n",
    "    \n",
    "    # aggregation rules over household\n",
    "    aggs_num = {'age': ['min', 'max', 'mean'],\n",
    "                'escolari': ['min', 'max', 'mean']\n",
    "               }\n",
    "    \n",
    "    aggs_cat = {'dis': ['mean']}\n",
    "    for s_ in ['estadocivil', 'parentesco', 'instlevel']:\n",
    "        for f_ in [f_ for f_ in df.columns if f_.startswith(s_)]:\n",
    "            aggs_cat[f_] = ['mean', 'count']\n",
    "\n",
    "    # aggregation over household\n",
    "    for name_, df_ in [('18', df.query('age >= 18'))]:\n",
    "        df_agg = df_.groupby('idhogar').agg({**aggs_num, **aggs_cat}).astype(np.float32)\n",
    "        df_agg.columns = pd.Index(['agg' + name_ + '_' + e[0] + \"_\" + e[1].upper() for e in df_agg.columns.tolist()])\n",
    "        df = df.join(df_agg, how='left', on='idhogar')\n",
    "        del df_agg\n",
    "\n",
    "    # Drop id's\n",
    "    df.drop(['Id'], axis=1, inplace=True)\n",
    "    \n",
    "    return df"
   ]
  },
  {
   "cell_type": "code",
   "execution_count": 116,
   "metadata": {
    "ExecuteTime": {
     "end_time": "2021-02-08T13:11:36.277665Z",
     "start_time": "2021-02-08T13:11:36.262652Z"
    }
   },
   "outputs": [],
   "source": [
    "# convert one hot edcoded fields to label encoding\n",
    "def convert_OHE2LE(df):\n",
    "    tmp_df = df.copy(deep=True)\n",
    "    for s_ in ['pared', 'piso', 'techo', 'abastagua', 'sanitario', 'energcocinar', 'elimbasu', \n",
    "               'epared', 'etecho', 'eviv', 'estadocivil', 'parentesco', \n",
    "               'instlevel', 'lugar', 'tipovivi',\n",
    "               'manual_elec']:\n",
    "        if 'manual_' not in s_:\n",
    "            cols_s_ = [f_ for f_ in df.columns if f_.startswith(s_)]\n",
    "        elif 'elec' in s_:\n",
    "            cols_s_ = ['public', 'planpri', 'noelec', 'coopele']\n",
    "        sum_ohe = tmp_df[cols_s_].sum(axis=1).unique()\n",
    "        #deal with those OHE, where there is a sum over columns == 0\n",
    "        if 0 in sum_ohe:\n",
    "            print('The OHE in {} is incomplete. A new column will be added before label encoding'\n",
    "                  .format(s_))\n",
    "            # dummy colmn name to be added\n",
    "            col_dummy = s_+'_dummy'\n",
    "            # add the column to the dataframe\n",
    "            tmp_df[col_dummy] = (tmp_df[cols_s_].sum(axis=1) == 0).astype(np.int8)\n",
    "            # add the name to the list of columns to be label-encoded\n",
    "            cols_s_.append(col_dummy)\n",
    "            # proof-check, that now the category is complete\n",
    "            sum_ohe = tmp_df[cols_s_].sum(axis=1).unique()\n",
    "            if 0 in sum_ohe:\n",
    "                 print(\"The category completion did not work\")\n",
    "        tmp_cat = tmp_df[cols_s_].idxmax(axis=1)\n",
    "        tmp_df[s_ + '_LE'] = LabelEncoder().fit_transform(tmp_cat).astype(np.int16)\n",
    "        if 'parentesco1' in cols_s_:\n",
    "            cols_s_.remove('parentesco1')\n",
    "        tmp_df.drop(cols_s_, axis=1, inplace=True)\n",
    "    return tmp_df"
   ]
  },
  {
   "cell_type": "markdown",
   "metadata": {},
   "source": [
    "## Read in the data and clean it up"
   ]
  },
  {
   "cell_type": "code",
   "execution_count": 117,
   "metadata": {
    "ExecuteTime": {
     "end_time": "2021-02-08T13:11:36.468838Z",
     "start_time": "2021-02-08T13:11:36.278666Z"
    }
   },
   "outputs": [],
   "source": [
    "train = pd.read_csv('./input/train.csv')\n",
    "test = pd.read_csv('./input/test.csv')\n",
    "\n",
    "test_ids = test.Id"
   ]
  },
  {
   "cell_type": "code",
   "execution_count": 118,
   "metadata": {
    "ExecuteTime": {
     "end_time": "2021-02-08T13:11:36.677027Z",
     "start_time": "2021-02-08T13:11:36.469839Z"
    }
   },
   "outputs": [],
   "source": [
    "def process_df(df_):\n",
    "    # encode the idhogar\n",
    "    encode_data(df_)\n",
    "    \n",
    "    # create aggregate features\n",
    "    return do_features(df_)\n",
    "\n",
    "train = process_df(train)\n",
    "test = process_df(test)"
   ]
  },
  {
   "cell_type": "markdown",
   "metadata": {},
   "source": [
    "결측치를 정리하고 오브젝트를 숫자형으로 변환합니다."
   ]
  },
  {
   "cell_type": "code",
   "execution_count": 119,
   "metadata": {
    "ExecuteTime": {
     "end_time": "2021-02-08T13:11:36.741085Z",
     "start_time": "2021-02-08T13:11:36.678028Z"
    }
   },
   "outputs": [],
   "source": [
    "# Some dependencies are Na, fill those with the square root of the square\n",
    "train['dependency'] = np.sqrt(train['SQBdependency'])\n",
    "test['dependency'] = np.sqrt(test['SQBdependency'])\n",
    "\n",
    "# fill 'no's for education with 0s\n",
    "train.loc[train['edjefa'] == 'no', 'edjefa'] = 0\n",
    "train.loc[train['edjefe'] == 'no', 'edjefe'] = 0\n",
    "test.loc[test['edjefa'] == 'no', 'edjefa'] = 0\n",
    "test.loc[test['edjefe'] == 'no', 'edjefe'] = 0\n",
    "\n",
    "# if education is 'yes' and person is head of household, fill with escolari\n",
    "train.loc[(train['edjefa'] == 'yes') & (train['parentesco1'] == 1), 'edjefa'] = train.loc[(train['edjefa'] == 'yes') & (train['parentesco1'] == 1), 'escolari']\n",
    "train.loc[(train['edjefe'] == 'yes') & (train['parentesco1'] == 1), 'edjefe'] = train.loc[(train['edjefe'] == 'yes') & (train['parentesco1'] == 1), 'escolari']\n",
    "\n",
    "test.loc[(test['edjefa'] == 'yes') & (test['parentesco1'] == 1), 'edjefa'] = test.loc[(test['edjefa'] == 'yes') & (test['parentesco1'] == 1), 'escolari']\n",
    "test.loc[(test['edjefe'] == 'yes') & (test['parentesco1'] == 1), 'edjefe'] = test.loc[(test['edjefe'] == 'yes') & (test['parentesco1'] == 1), 'escolari']\n",
    "\n",
    "# this field is supposed to be interaction between gender and escolari, but it isn't clear what 'yes' means. let's fill it with 4\n",
    "train.loc[train['edjefa'] == 'yes', 'edjefa'] = 4\n",
    "train.loc[train['edjefe'] == 'yes', 'edjefe'] = 4\n",
    "\n",
    "test.loc[test['edjefa'] == 'yes', 'edjefa'] = 4\n",
    "test.loc[test['edjefe'] == 'yes', 'edjefe'] = 4\n",
    "\n",
    "# Convert to int for our models\n",
    "train['edjefe'] = train['edjefe'].astype('int')\n",
    "train['edjefa'] = train['edjefa'].astype('int')\n",
    "test['edjefe'] = test['edjefe'].astype('int')\n",
    "test['edjefa'] = test['edjefa'].astype('int')\n",
    "\n",
    "# create feature with max education of either head of household\n",
    "train['edjef'] = np.max(train[['edjefa', 'edjefe']], axis=1)\n",
    "test['edjef'] = np.max(test[['edjefa', 'edjefe']], axis=1)\n",
    "\n",
    "# fill some nas\n",
    "train['v2a1'] = train['v2a1'].fillna(0)\n",
    "test['v2a1'] = test['v2a1'].fillna(0)\n",
    "\n",
    "train['v18q1'] = train['v18q1'].fillna(0)\n",
    "test['v18q1'] = test['v18q1'].fillna(0)\n",
    "\n",
    "train['rez_esc'] = train['rez_esc'].fillna(0)\n",
    "test['rez_esc'] = test['rez_esc'].fillna(0)\n",
    "\n",
    "train.loc[train.meaneduc.isnull(), 'meaneduc'] = 0\n",
    "train.loc[train.SQBmeaned.isnull(), 'SQBmeaned'] = 0\n",
    "\n",
    "test.loc[test.meaneduc.isnull(), 'meaneduc'] = 0\n",
    "test.loc[test.SQBmeaned.isnull(), 'SQBmeaned'] = 0\n",
    "\n",
    "# fix some inconsistencies in the data - some rows indicate both that the household does and does not not have a toilet,\n",
    "# if there is no water we'll assume they do not\n",
    "train.loc[(train.v14a == 1) & (train.sanitario1 == 1) & (train.abastaguano == 0), 'v14a'] = 0\n",
    "train.loc[(train.v14a == 1) & (train.sanitario1 == 1) & (train.abastaguano == 0), 'sanitario'] = 0\n",
    "\n",
    "test.loc[(test.v14a == 1) & (test.sanitario1 == 1) & (test.abastaguano == 0), 'v14a'] = 0\n",
    "test.loc[(test.v14a == 1) & (test.sanitario1 == 1) & (test.abastaguano == 0), 'sanitario'] = 0"
   ]
  },
  {
   "cell_type": "code",
   "execution_count": 120,
   "metadata": {
    "ExecuteTime": {
     "end_time": "2021-02-08T13:11:36.757100Z",
     "start_time": "2021-02-08T13:11:36.742086Z"
    }
   },
   "outputs": [],
   "source": [
    "def train_test_apply_func(train_, test_, func_):\n",
    "    test_['Target'] = 0\n",
    "    xx = pd.concat([train_, test_])\n",
    "    \n",
    "    xx_func = func_(xx)\n",
    "    train_ = xx_func.iloc[:train_.shape[0], :]\n",
    "    test_ = xx_func.iloc[train_.shape[0]:, :].drop('Target', axis=1)\n",
    "    \n",
    "    del xx, xx_func\n",
    "    return train_, test_"
   ]
  },
  {
   "cell_type": "code",
   "execution_count": 121,
   "metadata": {
    "ExecuteTime": {
     "end_time": "2021-02-08T13:11:37.605870Z",
     "start_time": "2021-02-08T13:11:36.758101Z"
    }
   },
   "outputs": [
    {
     "name": "stdout",
     "output_type": "stream",
     "text": [
      "The OHE in techo is incomplete. A new column will be added before label encoding\n",
      "The OHE in instlevel is incomplete. A new column will be added before label encoding\n",
      "The OHE in manual_elec is incomplete. A new column will be added before label encoding\n"
     ]
    }
   ],
   "source": [
    "# convert the one hot fields into label encoded\n",
    "train, test = train_test_apply_func(train, test, convert_OHE2LE)"
   ]
  },
  {
   "cell_type": "markdown",
   "metadata": {},
   "source": [
    "### Geo aggregates"
   ]
  },
  {
   "cell_type": "code",
   "execution_count": 122,
   "metadata": {
    "ExecuteTime": {
     "end_time": "2021-02-08T13:11:37.717973Z",
     "start_time": "2021-02-08T13:11:37.606871Z"
    }
   },
   "outputs": [],
   "source": [
    "cols_2_ohe = ['eviv_LE', 'etecho_LE', 'epared_LE', 'elimbasu_LE', 'energcocinar_LE', 'sanitario_LE', 'manual_elec_LE', 'pared_LE']\n",
    "cols_nums = ['age', 'meaneduc', 'dependency', 'hogar_nin', 'hogar_adul', 'hogar_mayor', 'hogar_total', 'bedrooms' ,'overcrowding']\n",
    "\n",
    "def convert_geo2aggs(df_):\n",
    "    tmp_df = pd.concat([df_[(['lugar_LE', 'idhogar'] + cols_nums)], pd.get_dummies(df_[cols_2_ohe], columns=cols_2_ohe)], axis=1)\n",
    "    \n",
    "    geo_agg = tmp_df.groupby(['lugar_LE', 'idhogar']).mean().groupby('lugar_LE').mean().astype(np.float32)\n",
    "    geo_agg.columns = pd.Index(['geo_' + e for e in geo_agg.columns.tolist()])\n",
    "    \n",
    "    del tmp_df\n",
    "    return df_.join(geo_agg, how='left', on='lugar_LE')\n",
    "\n",
    "# add some aggregates by geography\n",
    "train, test = train_test_apply_func(train, test, convert_geo2aggs)"
   ]
  },
  {
   "cell_type": "code",
   "execution_count": 123,
   "metadata": {
    "ExecuteTime": {
     "end_time": "2021-02-08T13:11:37.893131Z",
     "start_time": "2021-02-08T13:11:37.718973Z"
    }
   },
   "outputs": [],
   "source": [
    "# add the number of people over 18 in each household\n",
    "train['num_over_18'] = 0\n",
    "train['num_over_18'] = train[train.age >= 18].groupby('idhogar').transform('count')\n",
    "train['num_over_18'] = train.groupby('idhogar')['num_over_18'].transform('max')\n",
    "train['num_over_18'] = train['num_over_18'].fillna(0)\n",
    "\n",
    "test['num_over_18'] = 0\n",
    "test['num_over_18'] = test[test.age >= 18].groupby('idhogar').transform('count')\n",
    "test['num_over_18'] = test.groupby('idhogar')['num_over_18'].transform('max')\n",
    "test['num_over_18'] = test['num_over_18'].fillna(0)\n",
    "\n",
    "# add some extra features, these were taken from another kernel\n",
    "def extract_features(df):\n",
    "    df['bedrooms_to_rooms'] = df['bedrooms'] / df['rooms']\n",
    "    df['rent_to_rooms'] = df['v2a1'] / df['rooms']\n",
    "    df['tamhog_to_rooms'] = df['tamhog'] / df['rooms'] # tamhog - size of the household\n",
    "    df['r4t3_to_tamhog'] = df['r4t3'] / df['tamhog'] # r4t3 - Total persons in the household\n",
    "    df['r4t3_to_rooms'] = df['r4t3'] / df['rooms']\n",
    "    df['v2a1_to_r4t3'] = df['v2a1'] / df['r4t3'] # rent to people in household\n",
    "    df['v2a1_to_under_12'] = df['v2a1'] / (df['r4t3'] - df['r4t1']) # rent to people under age 12\n",
    "    df['hhsize_to_rooms'] = df['hhsize'] / df['rooms'] # rooms per person\n",
    "    df['rent_to_hhsize'] = df['v2a1'] / df['hhsize'] # rent to household size\n",
    "    df['rent_to_over_18'] = df['v2a1'] / df['num_over_18'] # some households have no one over 18, use the total rent for those\n",
    "    df.loc[df.num_over_18 == 0, 'rent_to_over_18'] = df[df.num_over_18 == 0].v2a1\n",
    "    \n",
    "extract_features(train)\n",
    "extract_features(test)"
   ]
  },
  {
   "cell_type": "code",
   "execution_count": 124,
   "metadata": {
    "ExecuteTime": {
     "end_time": "2021-02-08T13:11:37.909146Z",
     "start_time": "2021-02-08T13:11:37.894132Z"
    }
   },
   "outputs": [],
   "source": [
    "# drop duplicated columns\n",
    "needless_cols = ['r4t3', 'tamhog', 'tamviv', 'hhsize', 'v18q', 'v14a', 'agesq', 'mobilephone', 'female']\n",
    "\n",
    "instlevel_cols = [s for s in train.columns.tolist() if 'instlevel' in s]\n",
    "\n",
    "needless_cols.extend(instlevel_cols)\n",
    "\n",
    "train = train.drop(needless_cols, axis=1)\n",
    "test = test.drop(needless_cols, axis=1)"
   ]
  },
  {
   "cell_type": "markdown",
   "metadata": {},
   "source": [
    "### Split the data\n",
    "동일한 가구에 속하는 행은 대개 동일한 타겟을 가지므로, 누출을 방지하기 위해 가구별로 데이터를 분할합니다. 가장만 포함하도록 데이터를 필터링하고 이는 기술적으로는 필요하지 않지만, 그렇게 하면 전체 교육 데이터 세트를 쉽게 사용할 수 있습니다.\n",
    "\n",
    "데이터를 분할한 후에는 열차 데이터를 전체 데이터 세트로 덮어써 모든 데이터를 훈련할 수 있습니다. split_data 기능은 데이터를 덮어쓰지 않고 동일한 작업을 수행하며, 교육 루프 내에서 K-Fold 분할을 근사화하는 데 사용됩니다."
   ]
  },
  {
   "cell_type": "code",
   "execution_count": 125,
   "metadata": {
    "ExecuteTime": {
     "end_time": "2021-02-08T13:11:37.925160Z",
     "start_time": "2021-02-08T13:11:37.910147Z"
    }
   },
   "outputs": [],
   "source": [
    "def split_data(train, y, sample_weight=None, households=None, test_percentage=0.20, seed=None):\n",
    "    \n",
    "    train2 = train.copy()\n",
    "    \n",
    "    # pick some random households to use for the test data\n",
    "    cv_hhs = np.random.choice(households, size=int(len(households) * test_percentage), replace=False)\n",
    "    \n",
    "    # select households which are in the random selection\n",
    "    cv_idx = np.isin(households, cv_hhs)\n",
    "    X_test = train2[cv_idx]\n",
    "    y_test = y[cv_idx]\n",
    "    \n",
    "    X_train = train2[~cv_idx]\n",
    "    y_train = y[~cv_idx]\n",
    "    \n",
    "    if sample_weight is not None:\n",
    "        y_train_weights = sample_weight[~cv_idx]\n",
    "        return X_train, y_train, X_test, y_test, y_train_weights\n",
    "    \n",
    "    return X_train, y_train, X_test, y_test"
   ]
  },
  {
   "cell_type": "code",
   "execution_count": 126,
   "metadata": {
    "ExecuteTime": {
     "end_time": "2021-02-08T13:11:37.957190Z",
     "start_time": "2021-02-08T13:11:37.926162Z"
    }
   },
   "outputs": [],
   "source": [
    "X = train.query('parentesco1==1')\n",
    "\n",
    "y = X['Target'] - 1\n",
    "X = X.drop(['Target'], axis=1)\n",
    "\n",
    "np.random.seed(seed=None)\n",
    "\n",
    "train2 = X.copy()\n",
    "\n",
    "train_hhs = train2.idhogar\n",
    "\n",
    "households = train2.idhogar.unique()\n",
    "cv_hhs = np.random.choice(households, size=int(len(households) * 0.15), replace=False)\n",
    "\n",
    "cv_idx = np.isin(train2.idhogar, cv_hhs)\n",
    "\n",
    "X_test = train2[cv_idx]\n",
    "y_test = y[cv_idx]\n",
    "\n",
    "X_train = train2[~cv_idx]\n",
    "y_train = y[~cv_idx]\n",
    "\n",
    "# train on entire dataset\n",
    "X_train = train2\n",
    "y_train = y\n",
    "\n",
    "train_households = X_train.idhogar"
   ]
  },
  {
   "cell_type": "code",
   "execution_count": 127,
   "metadata": {
    "ExecuteTime": {
     "end_time": "2021-02-08T13:11:37.973204Z",
     "start_time": "2021-02-08T13:11:37.958190Z"
    }
   },
   "outputs": [],
   "source": [
    "# figure out the class weights for training with unbalanced classes\n",
    "y_train_weights = class_weight.compute_sample_weight('balanced', y_train, indices=None)"
   ]
  },
  {
   "cell_type": "code",
   "execution_count": 128,
   "metadata": {
    "ExecuteTime": {
     "end_time": "2021-02-08T13:11:37.989218Z",
     "start_time": "2021-02-08T13:11:37.974205Z"
    }
   },
   "outputs": [],
   "source": [
    "# drop some features which aren't used by the LGBM or have very low importance\n",
    "extra_drop_features = [\n",
    " 'agg18_estadocivil1_MEAN',\n",
    " 'agg18_estadocivil6_COUNT',\n",
    " 'agg18_estadocivil7_COUNT',\n",
    " 'agg18_parentesco10_COUNT',\n",
    " 'agg18_parentesco11_COUNT',\n",
    " 'agg18_parentesco12_COUNT',\n",
    " 'agg18_parentesco1_COUNT',\n",
    " 'agg18_parentesco2_COUNT',\n",
    " 'agg18_parentesco3_COUNT',\n",
    " 'agg18_parentesco4_COUNT',\n",
    " 'agg18_parentesco5_COUNT',\n",
    " 'agg18_parentesco6_COUNT',\n",
    " 'agg18_parentesco7_COUNT',\n",
    " 'agg18_parentesco8_COUNT',\n",
    " 'agg18_parentesco9_COUNT',\n",
    " 'geo_elimbasu_LE_4',\n",
    " 'geo_energcocinar_LE_1',\n",
    " 'geo_energcocinar_LE_2',\n",
    " 'geo_epared_LE_0',\n",
    " 'geo_hogar_mayor',\n",
    " 'geo_manual_elec_LE_2',\n",
    " 'geo_pared_LE_3',\n",
    " 'geo_pared_LE_4',\n",
    " 'geo_pared_LE_5',\n",
    " 'geo_pared_LE_6',\n",
    " 'num_over_18',\n",
    " 'parentesco_LE',\n",
    " 'rez_esc']"
   ]
  },
  {
   "cell_type": "code",
   "execution_count": 129,
   "metadata": {
    "ExecuteTime": {
     "end_time": "2021-02-08T13:11:38.005233Z",
     "start_time": "2021-02-08T13:11:37.990220Z"
    }
   },
   "outputs": [],
   "source": [
    "xgb_drop_cols = extra_drop_features + ['idhogar', 'parentesco1']"
   ]
  },
  {
   "cell_type": "markdown",
   "metadata": {},
   "source": [
    "### Fit a voting classifier\n",
    "조기 중지를 위해 `fit_params`를 전달할 수 있도록 VotingClassifier을 정의합니다. LGBM에 기반하여 매크로 F1과 학습률의 줄어듬에 따라 조기 중지합니다."
   ]
  },
  {
   "cell_type": "code",
   "execution_count": 130,
   "metadata": {
    "ExecuteTime": {
     "end_time": "2021-02-08T13:11:38.021247Z",
     "start_time": "2021-02-08T13:11:38.006234Z"
    }
   },
   "outputs": [],
   "source": [
    "# 4\n",
    "opt_parameters = {'max_depth':35, 'eta':0.1, 'silent':0, 'objective':'multi:softmax', 'min_child_weight': 1, 'num_class': 4, 'gamma': 2.0, 'colsample_bylevel': 0.9, 'subsample': 0.84, 'colsample_bytree': 0.88, 'reg_lambda': 0.40}\n",
    "# 5\n",
    "opt_parameters = {'max_depth':35, 'eta':0.15, 'silent':1, 'objective':'multi:softmax', 'min_child_weight': 2, 'num_class': 4, 'gamma': 2.5, 'colsample_bylevel': 1, 'subsample': 0.95, 'colsample_bytree': 0.85, 'reg_lambda': 0.35}\n",
    "\n",
    "def evaluate_macroF1_lgb(predictions, truth):\n",
    "    pred_labels = predictions.argmax(axis=1)\n",
    "    truth = truth.get_label()\n",
    "    f1 = f1_score(truth, pred_labels, average='macro')\n",
    "    return ('macroF1', 1-f1)\n",
    "\n",
    "fit_params = {'early_stopping_rounds': 500,\n",
    "             'eval_metric': evaluate_macroF1_lgb,\n",
    "             'eval_set': [(X_train, y_train), (X_test, y_test)],\n",
    "             'verbose': False}\n",
    "\n",
    "def learning_rate_power_0997(current_iter):\n",
    "    base_learning_rate = 0.1\n",
    "    min_learning_rate = 0.02\n",
    "    lr = base_learning_rate * np.power(.995, current_iter)\n",
    "    return max(lr, min_learning_rate)\n",
    "\n",
    "fit_params['verbose'] = 50"
   ]
  },
  {
   "cell_type": "code",
   "execution_count": 131,
   "metadata": {
    "ExecuteTime": {
     "end_time": "2021-02-08T13:11:38.037262Z",
     "start_time": "2021-02-08T13:11:38.022249Z"
    }
   },
   "outputs": [],
   "source": [
    "np.random.seed(100)\n",
    "\n",
    "def _parallel_fit_estimator(estimator1, X, y, sample_weight=None, threshold=True, **fit_params):\n",
    "    estimator = clone(estimator1)\n",
    "    \n",
    "    # randomly split the data so we have a test set for early stopping\n",
    "    if sample_weight is not None:\n",
    "        X_train, y_train, X_test, y_test, y_train_weight = split_data(X, y, sample_weight, households=train_households)\n",
    "    else:\n",
    "        X_train, y_train, X_test, y_test = split_data(X, y, None, households=train_households)\n",
    "        \n",
    "    # update the fit params with our new split\n",
    "    fit_params[\"eval_set\"] = [(X_test,y_test)]\n",
    "    \n",
    "    # fit the estimator\n",
    "    if sample_weight is not None:\n",
    "        if isinstance(estimator1, ExtraTreesClassifier) or isinstance(estimator1, RandomForestClassifier):\n",
    "            estimator.fit(X_train, y_train)\n",
    "        else:\n",
    "            _ = estimator.fit(X_train, y_train, sample_weight=y_train_weight, **fit_params)\n",
    "    else:\n",
    "        if isinstance(estimator1, ExtraTreesClassifier) or isinstance(estimator1, RandomForestClassifier):\n",
    "            estimator.fit(X_train, y_train)\n",
    "        else:\n",
    "            _ = estimator.fit(X_train, y_train, **fit_params)\n",
    "    \n",
    "    if not isinstance(estimator1, ExtraTreesClassifier) and not isinstance(estimator1, RandomForestClassifier) and not isinstance(estimator1, xgb.XGBClassifier):\n",
    "        best_cv_round = np.argmax(estimator.evals_result_['validation_0']['mlogloss'])\n",
    "        best_cv = np.max(estimator.evals_result_['validation_0']['mlogloss'])\n",
    "        best_train = estimator.evals_result_['train']['macroF1'][best_cv_round]\n",
    "    else:\n",
    "        best_train = f1_score(y_train, estimator.predict(X_train), average=\"macro\")\n",
    "        best_cv = f1_score(y_test, estimator.predict(X_test), average=\"macro\")\n",
    "        print(\"Train F1:\", best_train)\n",
    "        print(\"Test F1:\", best_cv)\n",
    "        \n",
    "    # reject some estimators based on their performance on train and test sets\n",
    "    if threshold:\n",
    "        # if the valid score is very high we'll allow a little more leeway with the train scores\n",
    "        if ((best_cv > 0.37) and (best_train > 0.75)) or ((best_cv > 0.44) and (best_train > 0.65)):\n",
    "            return estimator\n",
    "\n",
    "        # else recurse until we get a better one\n",
    "        else:\n",
    "            print(\"Unacceptable!!! Trying again...\")\n",
    "            return _parallel_fit_estimator(estimator1, X, y, sample_weight=sample_weight, **fit_params)\n",
    "    \n",
    "    else:\n",
    "        return estimator\n",
    "    \n",
    "class VotingClassifierLGBM(VotingClassifier):\n",
    "    '''\n",
    "    This implements the fit method of the VotingClassifier propagating fit_params\n",
    "    '''\n",
    "    def fit(self, X, y, sample_weight=None, threshold=True, **fit_params):\n",
    "        \n",
    "        if isinstance(y, np.ndarray) and len(y.shape) > 1 and y.shape[1] > 1:\n",
    "            raise NotImplementedError('Multilabel and multi-output'\n",
    "                                      ' classification is not supported.')\n",
    "\n",
    "        if self.voting not in ('soft', 'hard'):\n",
    "            raise ValueError(\"Voting must be 'soft' or 'hard'; got (voting=%r)\"\n",
    "                             % self.voting)\n",
    "\n",
    "        if self.estimators is None or len(self.estimators) == 0:\n",
    "            raise AttributeError('Invalid `estimators` attribute, `estimators`'\n",
    "                                 ' should be a list of (string, estimator)'\n",
    "                                 ' tuples')\n",
    "\n",
    "        if (self.weights is not None and\n",
    "                len(self.weights) != len(self.estimators)):\n",
    "            raise ValueError('Number of classifiers and weights must be equal'\n",
    "                             '; got %d weights, %d estimators'\n",
    "                             % (len(self.weights), len(self.estimators)))\n",
    "\n",
    "        names, clfs = zip(*self.estimators)\n",
    "        self._validate_names(names)\n",
    "\n",
    "        n_isnone = np.sum([clf is None for _, clf in self.estimators])\n",
    "        if n_isnone == len(self.estimators):\n",
    "            raise ValueError('All estimators are None. At least one is '\n",
    "                             'required to be a classifier!')\n",
    "\n",
    "        self.le_ = LabelEncoder().fit(y)\n",
    "        self.classes_ = self.le_.classes_\n",
    "        self.estimators_ = []\n",
    "\n",
    "        transformed_y = self.le_.transform(y)\n",
    "\n",
    "        self.estimators_ = Parallel(n_jobs=self.n_jobs)(\n",
    "                delayed(_parallel_fit_estimator)(clone(clf), X, transformed_y,\n",
    "                                                 sample_weight=sample_weight, threshold=threshold, **fit_params)\n",
    "                for clf in clfs if clf is not None)\n",
    "\n",
    "        return self"
   ]
  },
  {
   "cell_type": "code",
   "execution_count": 132,
   "metadata": {
    "ExecuteTime": {
     "end_time": "2021-02-08T13:13:31.934952Z",
     "start_time": "2021-02-08T13:11:38.038263Z"
    },
    "scrolled": false
   },
   "outputs": [
    {
     "name": "stdout",
     "output_type": "stream",
     "text": [
      "[22:11:38] WARNING: C:/Users/Administrator/workspace/xgboost-win64_release_1.3.0/src/learner.cc:541: \n",
      "Parameters: { silent } might not be used.\n",
      "\n",
      "  This may not be accurate due to some parameters are only used in language bindings but\n",
      "  passed down to XGBoost core.  Or some parameters are not used but slip through this\n",
      "  verification. Please open an issue if you find above cases.\n",
      "\n",
      "\n",
      "[22:11:38] WARNING: C:/Users/Administrator/workspace/xgboost-win64_release_1.3.0/src/learner.cc:1061: Starting in XGBoost 1.3.0, the default evaluation metric used with the objective 'multi:softprob' was changed from 'merror' to 'mlogloss'. Explicitly set eval_metric if you'd like to restore the old behavior.\n",
      "[0]\tvalidation_0-mlogloss:1.30039\tvalidation_0-macroF1:0.64244\n",
      "[50]\tvalidation_0-mlogloss:0.91911\tvalidation_0-macroF1:0.59801\n",
      "[100]\tvalidation_0-mlogloss:0.91816\tvalidation_0-macroF1:0.61256\n",
      "[150]\tvalidation_0-mlogloss:0.91795\tvalidation_0-macroF1:0.62226\n",
      "[200]\tvalidation_0-mlogloss:0.91941\tvalidation_0-macroF1:0.61902\n",
      "[250]\tvalidation_0-mlogloss:0.92048\tvalidation_0-macroF1:0.61853\n",
      "[299]\tvalidation_0-mlogloss:0.92179\tvalidation_0-macroF1:0.62086\n",
      "Train F1: 0.9023897544564117\n",
      "Test F1: 0.40598167996933926\n",
      "[22:11:45] WARNING: C:/Users/Administrator/workspace/xgboost-win64_release_1.3.0/src/learner.cc:541: \n",
      "Parameters: { silent } might not be used.\n",
      "\n",
      "  This may not be accurate due to some parameters are only used in language bindings but\n",
      "  passed down to XGBoost core.  Or some parameters are not used but slip through this\n",
      "  verification. Please open an issue if you find above cases.\n",
      "\n",
      "\n",
      "[22:11:45] WARNING: C:/Users/Administrator/workspace/xgboost-win64_release_1.3.0/src/learner.cc:1061: Starting in XGBoost 1.3.0, the default evaluation metric used with the objective 'multi:softprob' was changed from 'merror' to 'mlogloss'. Explicitly set eval_metric if you'd like to restore the old behavior.\n",
      "[0]\tvalidation_0-mlogloss:1.30323\tvalidation_0-macroF1:0.63434\n",
      "[50]\tvalidation_0-mlogloss:0.91776\tvalidation_0-macroF1:0.59493\n",
      "[100]\tvalidation_0-mlogloss:0.91175\tvalidation_0-macroF1:0.60202\n",
      "[150]\tvalidation_0-mlogloss:0.91428\tvalidation_0-macroF1:0.60132\n",
      "[200]\tvalidation_0-mlogloss:0.91381\tvalidation_0-macroF1:0.60178\n",
      "[250]\tvalidation_0-mlogloss:0.91499\tvalidation_0-macroF1:0.60255\n",
      "[299]\tvalidation_0-mlogloss:0.91500\tvalidation_0-macroF1:0.59703\n",
      "Train F1: 0.8840374825298526\n",
      "Test F1: 0.42208902935525716\n",
      "[22:11:52] WARNING: C:/Users/Administrator/workspace/xgboost-win64_release_1.3.0/src/learner.cc:541: \n",
      "Parameters: { silent } might not be used.\n",
      "\n",
      "  This may not be accurate due to some parameters are only used in language bindings but\n",
      "  passed down to XGBoost core.  Or some parameters are not used but slip through this\n",
      "  verification. Please open an issue if you find above cases.\n",
      "\n",
      "\n",
      "[22:11:52] WARNING: C:/Users/Administrator/workspace/xgboost-win64_release_1.3.0/src/learner.cc:1061: Starting in XGBoost 1.3.0, the default evaluation metric used with the objective 'multi:softprob' was changed from 'merror' to 'mlogloss'. Explicitly set eval_metric if you'd like to restore the old behavior.\n",
      "[0]\tvalidation_0-mlogloss:1.30509\tvalidation_0-macroF1:0.66722\n",
      "[50]\tvalidation_0-mlogloss:0.93498\tvalidation_0-macroF1:0.60034\n",
      "[100]\tvalidation_0-mlogloss:0.93097\tvalidation_0-macroF1:0.60746\n",
      "[150]\tvalidation_0-mlogloss:0.92785\tvalidation_0-macroF1:0.59684\n",
      "[200]\tvalidation_0-mlogloss:0.92684\tvalidation_0-macroF1:0.60087\n",
      "[250]\tvalidation_0-mlogloss:0.92628\tvalidation_0-macroF1:0.59817\n",
      "[299]\tvalidation_0-mlogloss:0.92513\tvalidation_0-macroF1:0.59604\n",
      "Train F1: 0.8930464438163366\n",
      "Test F1: 0.41938606278128876\n",
      "[22:12:00] WARNING: C:/Users/Administrator/workspace/xgboost-win64_release_1.3.0/src/learner.cc:541: \n",
      "Parameters: { silent } might not be used.\n",
      "\n",
      "  This may not be accurate due to some parameters are only used in language bindings but\n",
      "  passed down to XGBoost core.  Or some parameters are not used but slip through this\n",
      "  verification. Please open an issue if you find above cases.\n",
      "\n",
      "\n",
      "[22:12:00] WARNING: C:/Users/Administrator/workspace/xgboost-win64_release_1.3.0/src/learner.cc:1061: Starting in XGBoost 1.3.0, the default evaluation metric used with the objective 'multi:softprob' was changed from 'merror' to 'mlogloss'. Explicitly set eval_metric if you'd like to restore the old behavior.\n",
      "[0]\tvalidation_0-mlogloss:1.29553\tvalidation_0-macroF1:0.59152\n",
      "[50]\tvalidation_0-mlogloss:0.94408\tvalidation_0-macroF1:0.57513\n",
      "[100]\tvalidation_0-mlogloss:0.93617\tvalidation_0-macroF1:0.57493\n",
      "[150]\tvalidation_0-mlogloss:0.93304\tvalidation_0-macroF1:0.57543\n",
      "[200]\tvalidation_0-mlogloss:0.93339\tvalidation_0-macroF1:0.57810\n",
      "[250]\tvalidation_0-mlogloss:0.93533\tvalidation_0-macroF1:0.55781\n",
      "[299]\tvalidation_0-mlogloss:0.93460\tvalidation_0-macroF1:0.55638\n",
      "Train F1: 0.9247169184833447\n",
      "Test F1: 0.4442304164818409\n",
      "[22:12:07] WARNING: C:/Users/Administrator/workspace/xgboost-win64_release_1.3.0/src/learner.cc:541: \n",
      "Parameters: { silent } might not be used.\n",
      "\n",
      "  This may not be accurate due to some parameters are only used in language bindings but\n",
      "  passed down to XGBoost core.  Or some parameters are not used but slip through this\n",
      "  verification. Please open an issue if you find above cases.\n",
      "\n",
      "\n",
      "[22:12:07] WARNING: C:/Users/Administrator/workspace/xgboost-win64_release_1.3.0/src/learner.cc:1061: Starting in XGBoost 1.3.0, the default evaluation metric used with the objective 'multi:softprob' was changed from 'merror' to 'mlogloss'. Explicitly set eval_metric if you'd like to restore the old behavior.\n",
      "[0]\tvalidation_0-mlogloss:1.30007\tvalidation_0-macroF1:0.61877\n",
      "[50]\tvalidation_0-mlogloss:0.94124\tvalidation_0-macroF1:0.61706\n",
      "[100]\tvalidation_0-mlogloss:0.93691\tvalidation_0-macroF1:0.62152\n",
      "[150]\tvalidation_0-mlogloss:0.93663\tvalidation_0-macroF1:0.62981\n",
      "[200]\tvalidation_0-mlogloss:0.93615\tvalidation_0-macroF1:0.62866\n",
      "[250]\tvalidation_0-mlogloss:0.93661\tvalidation_0-macroF1:0.63527\n",
      "[299]\tvalidation_0-mlogloss:0.93619\tvalidation_0-macroF1:0.63366\n",
      "Train F1: 0.9095593248892776\n",
      "Test F1: 0.39211206712608365\n",
      "[22:12:15] WARNING: C:/Users/Administrator/workspace/xgboost-win64_release_1.3.0/src/learner.cc:541: \n",
      "Parameters: { silent } might not be used.\n",
      "\n",
      "  This may not be accurate due to some parameters are only used in language bindings but\n",
      "  passed down to XGBoost core.  Or some parameters are not used but slip through this\n",
      "  verification. Please open an issue if you find above cases.\n",
      "\n",
      "\n",
      "[22:12:15] WARNING: C:/Users/Administrator/workspace/xgboost-win64_release_1.3.0/src/learner.cc:1061: Starting in XGBoost 1.3.0, the default evaluation metric used with the objective 'multi:softprob' was changed from 'merror' to 'mlogloss'. Explicitly set eval_metric if you'd like to restore the old behavior.\n",
      "[0]\tvalidation_0-mlogloss:1.29958\tvalidation_0-macroF1:0.66091\n",
      "[50]\tvalidation_0-mlogloss:0.91252\tvalidation_0-macroF1:0.58885\n",
      "[100]\tvalidation_0-mlogloss:0.90714\tvalidation_0-macroF1:0.58321\n",
      "[150]\tvalidation_0-mlogloss:0.90687\tvalidation_0-macroF1:0.59067\n",
      "[200]\tvalidation_0-mlogloss:0.90731\tvalidation_0-macroF1:0.58333\n",
      "[250]\tvalidation_0-mlogloss:0.90810\tvalidation_0-macroF1:0.58558\n",
      "[299]\tvalidation_0-mlogloss:0.90561\tvalidation_0-macroF1:0.58041\n",
      "Train F1: 0.928471911977598\n",
      "Test F1: 0.4264194550461333\n",
      "[22:12:23] WARNING: C:/Users/Administrator/workspace/xgboost-win64_release_1.3.0/src/learner.cc:541: \n",
      "Parameters: { silent } might not be used.\n",
      "\n",
      "  This may not be accurate due to some parameters are only used in language bindings but\n",
      "  passed down to XGBoost core.  Or some parameters are not used but slip through this\n",
      "  verification. Please open an issue if you find above cases.\n",
      "\n",
      "\n",
      "[22:12:23] WARNING: C:/Users/Administrator/workspace/xgboost-win64_release_1.3.0/src/learner.cc:1061: Starting in XGBoost 1.3.0, the default evaluation metric used with the objective 'multi:softprob' was changed from 'merror' to 'mlogloss'. Explicitly set eval_metric if you'd like to restore the old behavior.\n",
      "[0]\tvalidation_0-mlogloss:1.29781\tvalidation_0-macroF1:0.65299\n",
      "[50]\tvalidation_0-mlogloss:0.92180\tvalidation_0-macroF1:0.59378\n",
      "[100]\tvalidation_0-mlogloss:0.91733\tvalidation_0-macroF1:0.58665\n",
      "[150]\tvalidation_0-mlogloss:0.91842\tvalidation_0-macroF1:0.59646\n",
      "[200]\tvalidation_0-mlogloss:0.91746\tvalidation_0-macroF1:0.58739\n"
     ]
    },
    {
     "name": "stdout",
     "output_type": "stream",
     "text": [
      "[250]\tvalidation_0-mlogloss:0.91859\tvalidation_0-macroF1:0.58896\n",
      "[299]\tvalidation_0-mlogloss:0.91927\tvalidation_0-macroF1:0.59010\n",
      "Train F1: 0.8952954970083489\n",
      "Test F1: 0.4185828757772069\n",
      "[22:12:31] WARNING: C:/Users/Administrator/workspace/xgboost-win64_release_1.3.0/src/learner.cc:541: \n",
      "Parameters: { silent } might not be used.\n",
      "\n",
      "  This may not be accurate due to some parameters are only used in language bindings but\n",
      "  passed down to XGBoost core.  Or some parameters are not used but slip through this\n",
      "  verification. Please open an issue if you find above cases.\n",
      "\n",
      "\n",
      "[22:12:31] WARNING: C:/Users/Administrator/workspace/xgboost-win64_release_1.3.0/src/learner.cc:1061: Starting in XGBoost 1.3.0, the default evaluation metric used with the objective 'multi:softprob' was changed from 'merror' to 'mlogloss'. Explicitly set eval_metric if you'd like to restore the old behavior.\n",
      "[0]\tvalidation_0-mlogloss:1.30113\tvalidation_0-macroF1:0.62662\n",
      "[50]\tvalidation_0-mlogloss:0.94249\tvalidation_0-macroF1:0.61305\n",
      "[100]\tvalidation_0-mlogloss:0.93815\tvalidation_0-macroF1:0.61161\n",
      "[150]\tvalidation_0-mlogloss:0.94009\tvalidation_0-macroF1:0.62866\n",
      "[200]\tvalidation_0-mlogloss:0.94015\tvalidation_0-macroF1:0.62751\n",
      "[250]\tvalidation_0-mlogloss:0.93901\tvalidation_0-macroF1:0.62519\n",
      "[299]\tvalidation_0-mlogloss:0.93804\tvalidation_0-macroF1:0.62389\n",
      "Train F1: 0.8938783060148262\n",
      "Test F1: 0.39977809923009056\n",
      "[22:12:38] WARNING: C:/Users/Administrator/workspace/xgboost-win64_release_1.3.0/src/learner.cc:541: \n",
      "Parameters: { silent } might not be used.\n",
      "\n",
      "  This may not be accurate due to some parameters are only used in language bindings but\n",
      "  passed down to XGBoost core.  Or some parameters are not used but slip through this\n",
      "  verification. Please open an issue if you find above cases.\n",
      "\n",
      "\n",
      "[22:12:38] WARNING: C:/Users/Administrator/workspace/xgboost-win64_release_1.3.0/src/learner.cc:1061: Starting in XGBoost 1.3.0, the default evaluation metric used with the objective 'multi:softprob' was changed from 'merror' to 'mlogloss'. Explicitly set eval_metric if you'd like to restore the old behavior.\n",
      "[0]\tvalidation_0-mlogloss:1.29735\tvalidation_0-macroF1:0.61374\n",
      "[50]\tvalidation_0-mlogloss:0.87947\tvalidation_0-macroF1:0.54613\n",
      "[100]\tvalidation_0-mlogloss:0.87186\tvalidation_0-macroF1:0.53651\n",
      "[150]\tvalidation_0-mlogloss:0.87169\tvalidation_0-macroF1:0.54521\n",
      "[200]\tvalidation_0-mlogloss:0.87119\tvalidation_0-macroF1:0.54851\n",
      "[250]\tvalidation_0-mlogloss:0.87316\tvalidation_0-macroF1:0.54651\n",
      "[299]\tvalidation_0-mlogloss:0.87223\tvalidation_0-macroF1:0.55052\n",
      "Train F1: 0.9282367761873961\n",
      "Test F1: 0.46977035456498095\n",
      "[22:12:46] WARNING: C:/Users/Administrator/workspace/xgboost-win64_release_1.3.0/src/learner.cc:541: \n",
      "Parameters: { silent } might not be used.\n",
      "\n",
      "  This may not be accurate due to some parameters are only used in language bindings but\n",
      "  passed down to XGBoost core.  Or some parameters are not used but slip through this\n",
      "  verification. Please open an issue if you find above cases.\n",
      "\n",
      "\n",
      "[22:12:46] WARNING: C:/Users/Administrator/workspace/xgboost-win64_release_1.3.0/src/learner.cc:1061: Starting in XGBoost 1.3.0, the default evaluation metric used with the objective 'multi:softprob' was changed from 'merror' to 'mlogloss'. Explicitly set eval_metric if you'd like to restore the old behavior.\n",
      "[0]\tvalidation_0-mlogloss:1.29833\tvalidation_0-macroF1:0.64861\n",
      "[50]\tvalidation_0-mlogloss:0.89494\tvalidation_0-macroF1:0.60320\n",
      "[100]\tvalidation_0-mlogloss:0.89050\tvalidation_0-macroF1:0.59093\n",
      "[150]\tvalidation_0-mlogloss:0.88598\tvalidation_0-macroF1:0.60269\n",
      "[200]\tvalidation_0-mlogloss:0.88597\tvalidation_0-macroF1:0.62142\n",
      "[250]\tvalidation_0-mlogloss:0.88259\tvalidation_0-macroF1:0.63520\n",
      "[299]\tvalidation_0-mlogloss:0.88067\tvalidation_0-macroF1:0.63369\n",
      "Train F1: 0.9124479789540482\n",
      "Test F1: 0.4131010888638619\n",
      "[22:12:55] WARNING: C:/Users/Administrator/workspace/xgboost-win64_release_1.3.0/src/learner.cc:541: \n",
      "Parameters: { silent } might not be used.\n",
      "\n",
      "  This may not be accurate due to some parameters are only used in language bindings but\n",
      "  passed down to XGBoost core.  Or some parameters are not used but slip through this\n",
      "  verification. Please open an issue if you find above cases.\n",
      "\n",
      "\n",
      "[22:12:55] WARNING: C:/Users/Administrator/workspace/xgboost-win64_release_1.3.0/src/learner.cc:1061: Starting in XGBoost 1.3.0, the default evaluation metric used with the objective 'multi:softprob' was changed from 'merror' to 'mlogloss'. Explicitly set eval_metric if you'd like to restore the old behavior.\n",
      "[0]\tvalidation_0-mlogloss:1.30128\tvalidation_0-macroF1:0.68225\n",
      "[50]\tvalidation_0-mlogloss:0.93110\tvalidation_0-macroF1:0.59769\n",
      "[100]\tvalidation_0-mlogloss:0.93201\tvalidation_0-macroF1:0.58912\n",
      "[150]\tvalidation_0-mlogloss:0.93252\tvalidation_0-macroF1:0.57160\n",
      "[200]\tvalidation_0-mlogloss:0.93485\tvalidation_0-macroF1:0.58269\n",
      "[250]\tvalidation_0-mlogloss:0.93577\tvalidation_0-macroF1:0.58122\n",
      "[299]\tvalidation_0-mlogloss:0.93668\tvalidation_0-macroF1:0.57621\n",
      "Train F1: 0.9178826270377575\n",
      "Test F1: 0.43307199619769143\n",
      "[22:13:02] WARNING: C:/Users/Administrator/workspace/xgboost-win64_release_1.3.0/src/learner.cc:541: \n",
      "Parameters: { silent } might not be used.\n",
      "\n",
      "  This may not be accurate due to some parameters are only used in language bindings but\n",
      "  passed down to XGBoost core.  Or some parameters are not used but slip through this\n",
      "  verification. Please open an issue if you find above cases.\n",
      "\n",
      "\n",
      "[22:13:02] WARNING: C:/Users/Administrator/workspace/xgboost-win64_release_1.3.0/src/learner.cc:1061: Starting in XGBoost 1.3.0, the default evaluation metric used with the objective 'multi:softprob' was changed from 'merror' to 'mlogloss'. Explicitly set eval_metric if you'd like to restore the old behavior.\n",
      "[0]\tvalidation_0-mlogloss:1.30864\tvalidation_0-macroF1:0.69160\n",
      "[50]\tvalidation_0-mlogloss:0.92733\tvalidation_0-macroF1:0.56798\n",
      "[100]\tvalidation_0-mlogloss:0.92265\tvalidation_0-macroF1:0.56708\n",
      "[150]\tvalidation_0-mlogloss:0.92036\tvalidation_0-macroF1:0.56315\n",
      "[200]\tvalidation_0-mlogloss:0.92220\tvalidation_0-macroF1:0.55860\n",
      "[250]\tvalidation_0-mlogloss:0.92169\tvalidation_0-macroF1:0.56802\n",
      "[299]\tvalidation_0-mlogloss:0.92271\tvalidation_0-macroF1:0.56818\n",
      "Train F1: 0.89402246734799\n",
      "Test F1: 0.4443421258632525\n",
      "[22:13:10] WARNING: C:/Users/Administrator/workspace/xgboost-win64_release_1.3.0/src/learner.cc:541: \n",
      "Parameters: { silent } might not be used.\n",
      "\n",
      "  This may not be accurate due to some parameters are only used in language bindings but\n",
      "  passed down to XGBoost core.  Or some parameters are not used but slip through this\n",
      "  verification. Please open an issue if you find above cases.\n",
      "\n",
      "\n",
      "[22:13:10] WARNING: C:/Users/Administrator/workspace/xgboost-win64_release_1.3.0/src/learner.cc:1061: Starting in XGBoost 1.3.0, the default evaluation metric used with the objective 'multi:softprob' was changed from 'merror' to 'mlogloss'. Explicitly set eval_metric if you'd like to restore the old behavior.\n",
      "[0]\tvalidation_0-mlogloss:1.29598\tvalidation_0-macroF1:0.61541\n",
      "[50]\tvalidation_0-mlogloss:0.90862\tvalidation_0-macroF1:0.58183\n",
      "[100]\tvalidation_0-mlogloss:0.90383\tvalidation_0-macroF1:0.58173\n",
      "[150]\tvalidation_0-mlogloss:0.89775\tvalidation_0-macroF1:0.57942\n",
      "[200]\tvalidation_0-mlogloss:0.89763\tvalidation_0-macroF1:0.58280\n",
      "[250]\tvalidation_0-mlogloss:0.89796\tvalidation_0-macroF1:0.58158\n",
      "[299]\tvalidation_0-mlogloss:0.89823\tvalidation_0-macroF1:0.58293\n",
      "Train F1: 0.86808350650277\n",
      "Test F1: 0.44888787527181384\n",
      "[22:13:17] WARNING: C:/Users/Administrator/workspace/xgboost-win64_release_1.3.0/src/learner.cc:541: \n",
      "Parameters: { silent } might not be used.\n",
      "\n",
      "  This may not be accurate due to some parameters are only used in language bindings but\n",
      "  passed down to XGBoost core.  Or some parameters are not used but slip through this\n",
      "  verification. Please open an issue if you find above cases.\n",
      "\n",
      "\n",
      "[22:13:17] WARNING: C:/Users/Administrator/workspace/xgboost-win64_release_1.3.0/src/learner.cc:1061: Starting in XGBoost 1.3.0, the default evaluation metric used with the objective 'multi:softprob' was changed from 'merror' to 'mlogloss'. Explicitly set eval_metric if you'd like to restore the old behavior.\n",
      "[0]\tvalidation_0-mlogloss:1.30402\tvalidation_0-macroF1:0.66065\n",
      "[50]\tvalidation_0-mlogloss:0.91008\tvalidation_0-macroF1:0.56998\n"
     ]
    },
    {
     "name": "stdout",
     "output_type": "stream",
     "text": [
      "[100]\tvalidation_0-mlogloss:0.90577\tvalidation_0-macroF1:0.54980\n",
      "[150]\tvalidation_0-mlogloss:0.90260\tvalidation_0-macroF1:0.55784\n",
      "[200]\tvalidation_0-mlogloss:0.90185\tvalidation_0-macroF1:0.56932\n",
      "[250]\tvalidation_0-mlogloss:0.90101\tvalidation_0-macroF1:0.55274\n",
      "[299]\tvalidation_0-mlogloss:0.90182\tvalidation_0-macroF1:0.56280\n",
      "Train F1: 0.9121177304574287\n",
      "Test F1: 0.45772563588510834\n",
      "[22:13:24] WARNING: C:/Users/Administrator/workspace/xgboost-win64_release_1.3.0/src/learner.cc:541: \n",
      "Parameters: { silent } might not be used.\n",
      "\n",
      "  This may not be accurate due to some parameters are only used in language bindings but\n",
      "  passed down to XGBoost core.  Or some parameters are not used but slip through this\n",
      "  verification. Please open an issue if you find above cases.\n",
      "\n",
      "\n",
      "[22:13:24] WARNING: C:/Users/Administrator/workspace/xgboost-win64_release_1.3.0/src/learner.cc:1061: Starting in XGBoost 1.3.0, the default evaluation metric used with the objective 'multi:softprob' was changed from 'merror' to 'mlogloss'. Explicitly set eval_metric if you'd like to restore the old behavior.\n",
      "[0]\tvalidation_0-mlogloss:1.29922\tvalidation_0-macroF1:0.63620\n",
      "[50]\tvalidation_0-mlogloss:0.88286\tvalidation_0-macroF1:0.56866\n",
      "[100]\tvalidation_0-mlogloss:0.87406\tvalidation_0-macroF1:0.55138\n",
      "[150]\tvalidation_0-mlogloss:0.87344\tvalidation_0-macroF1:0.54867\n",
      "[200]\tvalidation_0-mlogloss:0.87268\tvalidation_0-macroF1:0.55747\n",
      "[250]\tvalidation_0-mlogloss:0.87244\tvalidation_0-macroF1:0.56708\n",
      "[299]\tvalidation_0-mlogloss:0.87208\tvalidation_0-macroF1:0.55686\n",
      "Train F1: 0.9197628298915272\n",
      "Test F1: 0.4546057263444401\n"
     ]
    }
   ],
   "source": [
    "clfs = []\n",
    "for i in range(15):\n",
    "    clf = xgb.XGBClassifier(random_state=217*i, n_estimators=300, learning_rate=0.15, n_jobs=-1, **opt_parameters)\n",
    "    \n",
    "    clfs.append(('xgb{}'.format(i), clf))\n",
    "    \n",
    "vc = VotingClassifierLGBM(clfs, voting='soft')\n",
    "del(clfs)\n",
    "\n",
    "# Train the final model with learning rate decay\n",
    "_ = vc.fit(X_train.drop(xgb_drop_cols, axis=1), y_train, sample_weight=y_train_weights, threshold=False, **fit_params)\n",
    "\n",
    "clf_final = vc.estimators_[0]"
   ]
  },
  {
   "cell_type": "code",
   "execution_count": 133,
   "metadata": {
    "ExecuteTime": {
     "end_time": "2021-02-08T13:13:32.095097Z",
     "start_time": "2021-02-08T13:13:31.935953Z"
    }
   },
   "outputs": [
    {
     "name": "stdout",
     "output_type": "stream",
     "text": [
      "Validation score of a single LGBM Classifier: 0.8236\n",
      "Validation score of a VotingClassifier on 3 LGBMs with soft voting strategy: 0.9088\n",
      "Validation score of a VotingClassifier on 3 LGBMs with hard voting strategy: 0.9178\n"
     ]
    }
   ],
   "source": [
    "# params 4 - 400 early stop - 15 estimators - l1 used features - weighted\n",
    "global_score = f1_score(y_test, clf_final.predict(X_test.drop(xgb_drop_cols, axis=1)), average='macro')\n",
    "vc.voting = 'soft'\n",
    "global_score_soft = f1_score(y_test, vc.predict(X_test.drop(xgb_drop_cols, axis=1)), average='macro')\n",
    "vc.voting = 'hard'\n",
    "global_score_hard = f1_score(y_test, vc.predict(X_test.drop(xgb_drop_cols, axis=1)), average='macro')\n",
    "\n",
    "print('Validation score of a single LGBM Classifier: {:.4f}'.format(global_score))\n",
    "print('Validation score of a VotingClassifier on 3 LGBMs with soft voting strategy: {:.4f}'.format(global_score_soft))\n",
    "print('Validation score of a VotingClassifier on 3 LGBMs with hard voting strategy: {:.4f}'.format(global_score_hard))"
   ]
  },
  {
   "cell_type": "code",
   "execution_count": 134,
   "metadata": {
    "ExecuteTime": {
     "end_time": "2021-02-08T13:13:33.821664Z",
     "start_time": "2021-02-08T13:13:32.096098Z"
    }
   },
   "outputs": [
    {
     "data": {
      "text/plain": [
       "{'agg18_estadocivil3_COUNT',\n",
       " 'agg18_estadocivil4_COUNT',\n",
       " 'agg18_estadocivil5_COUNT',\n",
       " 'agg18_parentesco10_MEAN',\n",
       " 'fe_human_bed_density',\n",
       " 'fe_people_weird_stat',\n",
       " 'geo_elimbasu_LE_3',\n",
       " 'geo_energcocinar_LE_0',\n",
       " 'geo_epared_LE_2',\n",
       " 'geo_eviv_LE_0',\n",
       " 'geo_manual_elec_LE_3',\n",
       " 'geo_manual_elec_LE_4',\n",
       " 'geo_pared_LE_0',\n",
       " 'geo_pared_LE_1',\n",
       " 'geo_sanitario_LE_0',\n",
       " 'geo_sanitario_LE_2',\n",
       " 'hacapo'}"
      ]
     },
     "execution_count": 134,
     "metadata": {},
     "output_type": "execute_result"
    }
   ],
   "source": [
    "# see which features are not used by ANY models\n",
    "useless_features = []\n",
    "drop_features = set()\n",
    "counter = 0\n",
    "for est in vc.estimators_:\n",
    "    ranked_features, unused_features = feature_importance(est, X_train.drop(xgb_drop_cols, axis=1), display_results=False)\n",
    "    useless_features.append(unused_features)\n",
    "    if counter == 0:\n",
    "        drop_features = set(unused_features)\n",
    "    else:\n",
    "        drop_features = drop_features.intersection(set(unused_features))\n",
    "        counter += 1\n",
    "        \n",
    "drop_features"
   ]
  },
  {
   "cell_type": "code",
   "execution_count": 135,
   "metadata": {
    "ExecuteTime": {
     "end_time": "2021-02-08T13:13:33.948780Z",
     "start_time": "2021-02-08T13:13:33.823666Z"
    },
    "scrolled": false
   },
   "outputs": [
    {
     "name": "stdout",
     "output_type": "stream",
     "text": [
      "Feature ranking:\n",
      "1. feature 59 (0.022441) - agg18_escolari_MAX\n",
      "2. feature 85 (0.021199) - edjef\n",
      "3. feature 42 (0.017726) - fe_children_fraction\n",
      "4. feature 123 (0.015770) - geo_sanitario_LE_0\n",
      "5. feature 119 (0.015614) - geo_elimbasu_LE_3\n",
      "6. feature 17 (0.015298) - male\n",
      "7. feature 74 (0.015210) - agg18_parentesco2_MEAN\n",
      "8. feature 37 (0.014125) - SQBedjefe\n",
      "9. feature 3 (0.013019) - hacapo\n",
      "10. feature 107 (0.011342) - geo_overcrowding\n",
      "11. feature 104 (0.011086) - geo_hogar_adul\n",
      "12. feature 112 (0.011028) - geo_etecho_LE_1\n",
      "13. feature 22 (0.010883) - dependency\n",
      "14. feature 35 (0.010827) - SQBage\n",
      "15. feature 41 (0.010744) - SQBmeaned\n",
      "16. feature 15 (0.010707) - cielorazo\n",
      "17. feature 110 (0.010428) - geo_eviv_LE_2\n",
      "18. feature 87 (0.010364) - piso_LE\n",
      "19. feature 10 (0.010159) - r4m2\n",
      "20. feature 38 (0.009978) - SQBhogar_nin\n",
      "21. feature 60 (0.009952) - agg18_escolari_MEAN\n",
      "22. feature 109 (0.009545) - geo_eviv_LE_1\n",
      "23. feature 12 (0.009511) - r4t1\n",
      "24. feature 49 (0.009490) - fe_mobile_density\n",
      "25. feature 65 (0.009468) - agg18_estadocivil3_MEAN\n",
      "26. feature 129 (0.009422) - geo_manual_elec_LE_1\n",
      "27. feature 117 (0.009359) - geo_elimbasu_LE_1\n",
      "28. feature 105 (0.009260) - geo_hogar_total\n",
      "29. feature 19 (0.009097) - hogar_adul\n",
      "30. feature 8 (0.009020) - r4h3\n",
      "31. feature 62 (0.008956) - agg18_estadocivil1_COUNT\n",
      "32. feature 137 (0.008927) - rent_to_rooms\n",
      "33. feature 102 (0.008822) - geo_dependency\n",
      "34. feature 23 (0.008691) - edjefe\n",
      "35. feature 95 (0.008676) - eviv_LE\n",
      "36. feature 9 (0.008572) - r4m1\n",
      "37. feature 94 (0.008555) - etecho_LE\n",
      "38. feature 127 (0.008521) - geo_sanitario_LE_4\n",
      "39. feature 96 (0.008432) - estadocivil_LE\n",
      "40. feature 71 (0.008423) - agg18_estadocivil6_MEAN\n",
      "41. feature 120 (0.008417) - geo_elimbasu_LE_5\n",
      "42. feature 63 (0.008359) - agg18_estadocivil2_MEAN\n",
      "43. feature 93 (0.008187) - epared_LE\n",
      "44. feature 40 (0.008160) - SQBdependency\n",
      "45. feature 21 (0.008141) - hogar_total\n",
      "46. feature 55 (0.008135) - agg18_age_MIN\n",
      "47. feature 14 (0.008089) - escolari\n",
      "48. feature 27 (0.008041) - overcrowding\n",
      "49. feature 91 (0.008033) - energcocinar_LE\n",
      "50. feature 97 (0.007974) - lugar_LE\n",
      "51. feature 58 (0.007965) - agg18_escolari_MIN\n",
      "52. feature 98 (0.007956) - tipovivi_LE\n",
      "53. feature 47 (0.007820) - fe_rent_per_person\n",
      "54. feature 69 (0.007818) - agg18_estadocivil5_MEAN\n",
      "55. feature 33 (0.007753) - age\n",
      "56. feature 100 (0.007743) - geo_age\n",
      "57. feature 44 (0.007713) - fe_all_man_fraction\n",
      "58. feature 32 (0.007708) - area2\n",
      "59. feature 122 (0.007707) - geo_energcocinar_LE_3\n",
      "60. feature 106 (0.007685) - geo_bedrooms\n",
      "61. feature 51 (0.007627) - fe_mobile_adult_density\n",
      "62. feature 31 (0.007581) - area1\n",
      "63. feature 136 (0.007576) - bedrooms_to_rooms\n",
      "64. feature 128 (0.007513) - geo_manual_elec_LE_0\n",
      "65. feature 43 (0.007294) - fe_working_man_fraction\n",
      "66. feature 34 (0.007233) - SQBescolari\n",
      "67. feature 25 (0.007219) - meaneduc\n",
      "68. feature 7 (0.007215) - r4h2\n",
      "69. feature 114 (0.007154) - geo_epared_LE_1\n",
      "70. feature 86 (0.007149) - pared_LE\n",
      "71. feature 125 (0.007097) - geo_sanitario_LE_2\n",
      "72. feature 75 (0.007059) - agg18_parentesco3_MEAN\n",
      "73. feature 56 (0.007027) - agg18_age_MAX\n",
      "74. feature 90 (0.007011) - sanitario_LE\n",
      "75. feature 6 (0.006968) - r4h1\n",
      "76. feature 26 (0.006873) - bedrooms\n",
      "77. feature 30 (0.006855) - qmobilephone\n",
      "78. feature 0 (0.006828) - v2a1\n",
      "79. feature 64 (0.006727) - agg18_estadocivil2_COUNT\n",
      "80. feature 13 (0.006723) - r4t2\n",
      "81. feature 45 (0.006667) - fe_human_density\n",
      "82. feature 1 (0.006649) - hacdor\n",
      "83. feature 11 (0.006600) - r4m3\n",
      "84. feature 39 (0.006592) - SQBovercrowding\n",
      "85. feature 124 (0.006581) - geo_sanitario_LE_1\n",
      "86. feature 72 (0.006562) - agg18_estadocivil7_MEAN\n",
      "87. feature 116 (0.006545) - geo_elimbasu_LE_0\n",
      "88. feature 57 (0.006480) - agg18_age_MEAN\n",
      "89. feature 140 (0.006454) - r4t3_to_rooms\n",
      "90. feature 24 (0.006333) - edjefa\n",
      "91. feature 52 (0.006314) - fe_tablet_adult_density\n",
      "92. feature 5 (0.006280) - v18q1\n",
      "93. feature 99 (0.006257) - manual_elec_LE\n",
      "94. feature 61 (0.006256) - agg18_dis_MEAN\n",
      "95. feature 4 (0.006113) - refrig\n",
      "96. feature 111 (0.006095) - geo_etecho_LE_0\n",
      "97. feature 48 (0.006049) - fe_rent_per_room\n",
      "98. feature 144 (0.005988) - rent_to_hhsize\n",
      "99. feature 29 (0.005974) - television\n",
      "100. feature 18 (0.005917) - hogar_nin\n",
      "101. feature 92 (0.005864) - elimbasu_LE\n",
      "102. feature 16 (0.005849) - dis\n",
      "103. feature 50 (0.005785) - fe_tablet_density\n",
      "104. feature 2 (0.005768) - rooms\n",
      "105. feature 138 (0.005650) - tamhog_to_rooms\n",
      "106. feature 141 (0.005374) - v2a1_to_r4t3\n",
      "107. feature 126 (0.005177) - geo_sanitario_LE_3\n",
      "108. feature 101 (0.005047) - geo_meaneduc\n",
      "109. feature 20 (0.005003) - hogar_mayor\n",
      "110. feature 36 (0.004961) - SQBhogar_total\n",
      "111. feature 145 (0.004906) - rent_to_over_18\n",
      "112. feature 88 (0.004834) - techo_LE\n",
      "113. feature 83 (0.004755) - agg18_parentesco11_MEAN\n",
      "114. feature 67 (0.004353) - agg18_estadocivil4_MEAN\n",
      "115. feature 131 (0.004217) - geo_manual_elec_LE_4\n",
      "116. feature 28 (0.004085) - computer\n",
      "117. feature 113 (0.004004) - geo_etecho_LE_2\n",
      "118. feature 53 (0.003859) - fe_people_not_living\n",
      "119. feature 142 (0.003785) - v2a1_to_under_12\n",
      "120. feature 76 (0.003727) - agg18_parentesco4_MEAN\n",
      "121. feature 89 (0.003681) - abastagua_LE\n",
      "122. feature 81 (0.003634) - agg18_parentesco9_MEAN\n",
      "123. feature 143 (0.003051) - hhsize_to_rooms\n",
      "124. feature 130 (0.003012) - geo_manual_elec_LE_3\n",
      "125. feature 78 (0.002550) - agg18_parentesco6_MEAN\n",
      "126. feature 77 (0.002085) - agg18_parentesco5_MEAN\n",
      "127. feature 84 (0.002078) - agg18_parentesco12_MEAN\n",
      "128. feature 79 (0.002007) - agg18_parentesco7_MEAN\n",
      "129. feature 80 (0.001794) - agg18_parentesco8_MEAN\n",
      "130. feature 139 (0.001620) - r4t3_to_tamhog\n",
      "131. feature 54 (0.000000) - fe_people_weird_stat\n",
      "132. feature 68 (0.000000) - agg18_estadocivil4_COUNT\n",
      "133. feature 134 (0.000000) - geo_pared_LE_2\n",
      "134. feature 135 (0.000000) - geo_pared_LE_7\n",
      "135. feature 46 (0.000000) - fe_human_bed_density\n",
      "136. feature 133 (0.000000) - geo_pared_LE_1\n",
      "137. feature 132 (0.000000) - geo_pared_LE_0\n",
      "138. feature 121 (0.000000) - geo_energcocinar_LE_0\n",
      "139. feature 118 (0.000000) - geo_elimbasu_LE_2\n",
      "140. feature 70 (0.000000) - agg18_estadocivil5_COUNT\n",
      "141. feature 108 (0.000000) - geo_eviv_LE_0\n",
      "142. feature 66 (0.000000) - agg18_estadocivil3_COUNT\n",
      "143. feature 103 (0.000000) - geo_hogar_nin\n",
      "144. feature 73 (0.000000) - agg18_parentesco1_MEAN\n",
      "145. feature 82 (0.000000) - agg18_parentesco10_MEAN\n",
      "146. feature 115 (0.000000) - geo_epared_LE_2\n"
     ]
    }
   ],
   "source": [
    "ranked_features = feature_importance(clf_final, X_train.drop(xgb_drop_cols, axis=1))"
   ]
  },
  {
   "cell_type": "markdown",
   "metadata": {},
   "source": [
    "### Random Forest"
   ]
  },
  {
   "cell_type": "code",
   "execution_count": 136,
   "metadata": {
    "ExecuteTime": {
     "end_time": "2021-02-08T13:13:33.964794Z",
     "start_time": "2021-02-08T13:13:33.950782Z"
    }
   },
   "outputs": [],
   "source": [
    "et_drop_cols = ['agg18_age_MAX', 'agg18_age_MEAN', 'agg18_age_MIN', 'agg18_dis_MEAN',\n",
    "       'agg18_escolari_MAX', 'agg18_escolari_MEAN', 'agg18_escolari_MIN',\n",
    "       'agg18_estadocivil1_COUNT', 'agg18_estadocivil1_MEAN',\n",
    "       'agg18_estadocivil2_COUNT', 'agg18_estadocivil2_MEAN',\n",
    "       'agg18_estadocivil3_COUNT', 'agg18_estadocivil3_MEAN',\n",
    "       'agg18_estadocivil4_COUNT', 'agg18_estadocivil4_MEAN',\n",
    "       'agg18_estadocivil5_COUNT', 'agg18_estadocivil5_MEAN',\n",
    "       'agg18_estadocivil6_COUNT', 'agg18_estadocivil6_MEAN',\n",
    "       'agg18_estadocivil7_COUNT', 'agg18_estadocivil7_MEAN',\n",
    "       'agg18_parentesco10_COUNT', 'agg18_parentesco10_MEAN',\n",
    "       'agg18_parentesco11_COUNT', 'agg18_parentesco11_MEAN',\n",
    "       'agg18_parentesco12_COUNT', 'agg18_parentesco12_MEAN',\n",
    "       'agg18_parentesco1_COUNT', 'agg18_parentesco1_MEAN',\n",
    "       'agg18_parentesco2_COUNT', 'agg18_parentesco2_MEAN',\n",
    "       'agg18_parentesco3_COUNT', 'agg18_parentesco3_MEAN',\n",
    "       'agg18_parentesco4_COUNT', 'agg18_parentesco4_MEAN',\n",
    "       'agg18_parentesco5_COUNT', 'agg18_parentesco5_MEAN',\n",
    "       'agg18_parentesco6_COUNT', 'agg18_parentesco6_MEAN',\n",
    "       'agg18_parentesco7_COUNT', 'agg18_parentesco7_MEAN',\n",
    "       'agg18_parentesco8_COUNT', 'agg18_parentesco8_MEAN',\n",
    "       'agg18_parentesco9_COUNT', 'agg18_parentesco9_MEAN']\n",
    "\n",
    "et_drop_cols.extend(['idhogar', 'parentesco1', 'fe_rent_per_person', 'fe_rent_per_room', 'fe_tablet_adult_density', 'fe_tablet_density'])"
   ]
  },
  {
   "cell_type": "code",
   "execution_count": 137,
   "metadata": {
    "ExecuteTime": {
     "end_time": "2021-02-08T13:13:47.320918Z",
     "start_time": "2021-02-08T13:13:33.965796Z"
    }
   },
   "outputs": [
    {
     "name": "stdout",
     "output_type": "stream",
     "text": [
      "Train F1: 0.9017837485614384\n",
      "Test F1: 0.4226694191575666\n",
      "Train F1: 0.897162614447881\n",
      "Test F1: 0.3979130421976129\n",
      "Train F1: 0.8881944338931395\n",
      "Test F1: 0.3875998252669628\n",
      "Train F1: 0.8921515721754021\n",
      "Test F1: 0.4279783767850778\n",
      "Train F1: 0.8934553837403496\n",
      "Test F1: 0.4601330497233288\n",
      "Train F1: 0.8966981952722992\n",
      "Test F1: 0.43569219669688775\n",
      "Train F1: 0.8919247831845957\n",
      "Test F1: 0.42471715056612247\n",
      "Train F1: 0.894263835407065\n",
      "Test F1: 0.46390572961302057\n",
      "Train F1: 0.906635460295664\n",
      "Test F1: 0.4338689224939225\n",
      "Train F1: 0.895577038796373\n",
      "Test F1: 0.4242719526777626\n"
     ]
    }
   ],
   "source": [
    "# do the same thing for some extra trees classifiers\n",
    "ets = []\n",
    "for i in range(10):\n",
    "    rf = RandomForestClassifier(max_depth=None, random_state=217+i, n_jobs=-1, n_estimators=700, min_impurity_decrease=1e-3, min_samples_leaf=2, verbose=0, class_weight='balanced')\n",
    "    ets.append(('rf{}'.format(i), rf))\n",
    "    \n",
    "vc2 = VotingClassifierLGBM(ets, voting='soft')\n",
    "_ = vc2.fit(X_train.drop(et_drop_cols, axis=1), y_train, threshold=False)"
   ]
  },
  {
   "cell_type": "code",
   "execution_count": 138,
   "metadata": {
    "ExecuteTime": {
     "end_time": "2021-02-08T13:13:49.049487Z",
     "start_time": "2021-02-08T13:13:47.321919Z"
    }
   },
   "outputs": [
    {
     "name": "stdout",
     "output_type": "stream",
     "text": [
      "Validation score of a VotingClassifier on 3 LGBM with soft voting strategy: 0.8588\n",
      "Validation score of a VotingClassifier on 3 LGBM with hard voting strategy: 0.8821\n"
     ]
    }
   ],
   "source": [
    "# w/o threshold, extra drop cols\n",
    "vc2.voting = 'soft'\n",
    "global_rf_score_soft = f1_score(y_test, vc2.predict(X_test.drop(et_drop_cols, axis=1)), average='macro')\n",
    "vc2.voting = 'hard'\n",
    "global_rf_score_hard = f1_score(y_test, vc2.predict(X_test.drop(et_drop_cols, axis=1)), average='macro')\n",
    "\n",
    "print('Validation score of a VotingClassifier on 3 LGBM with soft voting strategy: {:.4f}'.format(global_rf_score_soft))\n",
    "print('Validation score of a VotingClassifier on 3 LGBM with hard voting strategy: {:.4f}'.format(global_rf_score_hard))"
   ]
  },
  {
   "cell_type": "code",
   "execution_count": 139,
   "metadata": {
    "ExecuteTime": {
     "end_time": "2021-02-08T13:13:49.641024Z",
     "start_time": "2021-02-08T13:13:49.050488Z"
    }
   },
   "outputs": [
    {
     "data": {
      "text/plain": [
       "{'parentesco_LE', 'rez_esc'}"
      ]
     },
     "execution_count": 139,
     "metadata": {},
     "output_type": "execute_result"
    }
   ],
   "source": [
    "# see which features are not used by ANY models\n",
    "useless_features =[]\n",
    "drop_features = set()\n",
    "counter = 0\n",
    "for est in vc2.estimators_:\n",
    "    ranked_features, unused_features = feature_importance(est, X_train.drop(et_drop_cols, axis=1), display_results=False)\n",
    "    useless_features.append(unused_features)\n",
    "    if counter == 0:\n",
    "        drop_features = set(unused_features)\n",
    "    else:\n",
    "        drop_features = drop_features.intersection(set(unused_features))\n",
    "    counter += 1\n",
    "    \n",
    "drop_features"
   ]
  },
  {
   "cell_type": "code",
   "execution_count": 142,
   "metadata": {
    "ExecuteTime": {
     "end_time": "2021-02-08T13:14:45.329575Z",
     "start_time": "2021-02-08T13:14:45.322568Z"
    }
   },
   "outputs": [],
   "source": [
    "def combine_voters(data, weights=[0.5, 0.5]):\n",
    "    # do soft voting with both classifiers\n",
    "    vc.voting=\"soft\"\n",
    "    vc1_probs = vc.predict_proba(data.drop(xgb_drop_cols, axis=1))\n",
    "    vc2.voting=\"soft\"\n",
    "    vc2_probs = vc2.predict_proba(data.drop(et_drop_cols, axis=1))\n",
    "    \n",
    "    final_vote = (vc1_probs * weights[0]) + (vc2_probs * weights[1])\n",
    "    predictions = np.argmax(final_vote, axis=1)\n",
    "    \n",
    "    return predictions"
   ]
  },
  {
   "cell_type": "code",
   "execution_count": 143,
   "metadata": {
    "ExecuteTime": {
     "end_time": "2021-02-08T13:14:46.768881Z",
     "start_time": "2021-02-08T13:14:45.893086Z"
    }
   },
   "outputs": [
    {
     "data": {
      "text/plain": [
       "0.9033903866168669"
      ]
     },
     "execution_count": 143,
     "metadata": {},
     "output_type": "execute_result"
    }
   ],
   "source": [
    "combo_preds = combine_voters(X_test, weights=[0.5, 0.5])\n",
    "global_combo_score_soft = f1_score(y_test, combo_preds, average='macro')\n",
    "global_combo_score_soft"
   ]
  },
  {
   "cell_type": "code",
   "execution_count": 144,
   "metadata": {
    "ExecuteTime": {
     "end_time": "2021-02-08T13:15:29.905037Z",
     "start_time": "2021-02-08T13:15:28.972190Z"
    }
   },
   "outputs": [
    {
     "data": {
      "text/plain": [
       "0.8957383332482677"
      ]
     },
     "execution_count": 144,
     "metadata": {},
     "output_type": "execute_result"
    }
   ],
   "source": [
    "combo_preds = combine_voters(X_test, weights=[0.4, 0.6])\n",
    "global_combo_score_soft = f1_score(y_test, combo_preds, average='macro')\n",
    "global_combo_score_soft"
   ]
  },
  {
   "cell_type": "code",
   "execution_count": 145,
   "metadata": {
    "ExecuteTime": {
     "end_time": "2021-02-08T13:15:50.204464Z",
     "start_time": "2021-02-08T13:15:49.282627Z"
    }
   },
   "outputs": [
    {
     "data": {
      "text/plain": [
       "0.9037477506086342"
      ]
     },
     "execution_count": 145,
     "metadata": {},
     "output_type": "execute_result"
    }
   ],
   "source": [
    "combo_preds = combine_voters(X_test, weights=[0.6, 0.4])\n",
    "global_combo_score_soft = f1_score(y_test, combo_preds, average='macro')\n",
    "global_combo_score_soft"
   ]
  },
  {
   "cell_type": "markdown",
   "metadata": {},
   "source": [
    "### Prepare submission"
   ]
  },
  {
   "cell_type": "code",
   "execution_count": 146,
   "metadata": {
    "ExecuteTime": {
     "end_time": "2021-02-08T13:16:09.425912Z",
     "start_time": "2021-02-08T13:16:09.412900Z"
    }
   },
   "outputs": [],
   "source": [
    "y_subm = pd.DataFrame()\n",
    "y_subm['Id'] = test_ids"
   ]
  },
  {
   "cell_type": "code",
   "execution_count": 147,
   "metadata": {
    "ExecuteTime": {
     "end_time": "2021-02-08T13:17:38.732979Z",
     "start_time": "2021-02-08T13:17:30.854828Z"
    }
   },
   "outputs": [],
   "source": [
    "vc.voting = 'soft'\n",
    "y_subm_lgb = y_subm.copy(deep=True)\n",
    "y_subm_lgb['Target'] = vc.predict(test.drop(xgb_drop_cols, axis=1)) + 1\n",
    "\n",
    "vc2.voting = 'soft'\n",
    "y_subm_rf = y_subm.copy(deep=True)\n",
    "y_subm_rf['Target'] = vc2.predict(test.drop(et_drop_cols, axis=1)) + 1\n",
    "\n",
    "y_subm_ens = y_subm.copy(deep=True)\n",
    "y_subm_ens['Target'] = combine_voters(test) + 1"
   ]
  },
  {
   "cell_type": "code",
   "execution_count": 148,
   "metadata": {
    "ExecuteTime": {
     "end_time": "2021-02-08T13:19:43.053829Z",
     "start_time": "2021-02-08T13:19:42.955740Z"
    }
   },
   "outputs": [],
   "source": [
    "from datetime import datetime\n",
    "now = datetime.now()\n",
    "\n",
    "sub_file_lgb = 'submission_soft_XGB_{:.4f}_{}.csv'.format(global_score_soft, str(now.strftime('%Y-%m-%d-%H-%M')))\n",
    "sub_file_rf = 'submission_soft_RF_{:.4f}_{}.csv'.format(global_rf_score_soft, str(now.strftime('%Y-%m-%d-%H-%M')))\n",
    "sub_file_ens = 'submission_ens_{:.4f}_{}.csv'.format(global_combo_score_soft, str(now.strftime('%Y-%m-%d-%H-%M')))\n",
    "\n",
    "y_subm_lgb.to_csv(sub_file_lgb, index=False)\n",
    "y_subm_rf.to_csv(sub_file_rf, index=False)\n",
    "y_subm_ens.to_csv(sub_file_ens, index=False)"
   ]
  },
  {
   "cell_type": "markdown",
   "metadata": {},
   "source": [
    "# 2회차"
   ]
  },
  {
   "cell_type": "markdown",
   "metadata": {},
   "source": [
    "- LightGBM 모델은 XGBoost로 대체되었으며 그에 따라 코드가 업데이트됐습니다.\n",
    "- 또한 랜덤 포레스트의 투표 분류기를 장착하고 XGB의 결과를 RF와 결합합니다.\n",
    "- 데이터를 한 번 쪼개서 LGBM 조기 정지에 대한 검증 데이터를 사용하는 대신 전체 교육 세트를 훈련할 수 있도록 교육 중 데이터를 분할했습니다. 이것이 이 케이스에서 kfold 분할보다 더 효과가 있음을 발견했습니다.\n",
    "\n",
    "- 이 커널은 하이퍼 파라미터 최적화를 실행하는 대신 해당 커널의 최적값을 사용하여 더 빨리 실행됩니다.\n",
    "\n",
    "- __몇 가지 주요 요점은 다음과 같습니다.__:\n",
    "    - 이 커널은 가장에 대해서만 교육을 실행합니다. \n",
    "    - 클래스 크기의 균형을 맞추는 것이 매우 중요해보입니다. 이는 수작업으로 할 수 있고, 언더 샘플링으로 달성할 수 있습니다. 그러나 sklearn API의 LGBM 모델 생성자에 `class_weight='balance'`을 설정하는 것이 가장 간단합니다.\n",
    "    - 이 커널은 매크로 F1점수를 사용하여 교육을 조기 중단합니다. \n",
    "    - 범주는 블라인드 레이블 인코딩 대신 적절한 매핑을 가진 숫자로 바뀝니다.\n",
    "    - OHE를 라벨 인코딩으로 반전시키면, 트리 모델에 더 적합할 수 있으나 , 논트리 모델에는 안 좋을 수 있으니 유의해야합니다.\n",
    "    - `idhogar`는 훈련에서 사용되지 않습니다. 정보가 있을 수 있는 유일한 방법은 데이터 누출입니다. \n",
    "    - 가구 내에서 집계가 이루어지며 새로운 기능은 수작업으로 제작됩니다. 대부분의 기능이 이미 가정 수준에서 인용되었기 때문에 집계할 수 있는 기능이 많지 않습니다.\n",
    "    - 투표 분류기는 여러 LGBM 모델에서 평균을 내는데 사용됩니다"
   ]
  },
  {
   "cell_type": "markdown",
   "metadata": {},
   "source": [
    "### import "
   ]
  },
  {
   "cell_type": "code",
   "execution_count": 149,
   "metadata": {
    "ExecuteTime": {
     "end_time": "2021-02-08T13:50:12.837392Z",
     "start_time": "2021-02-08T13:50:12.832388Z"
    }
   },
   "outputs": [],
   "source": [
    "import numpy as np\n",
    "import pandas as pd\n",
    "import matplotlib\n",
    "import matplotlib.pyplot as plt\n",
    "import seaborn as sns\n",
    "%matplotlib inline\n",
    "import lightgbm as lgb\n",
    "import xgboost as xgb\n",
    "from sklearn.metrics import f1_score\n",
    "from joblib import Parallel, delayed\n",
    "from sklearn.base import clone\n",
    "from sklearn.ensemble import VotingClassifier, ExtraTreesClassifier, RandomForestClassifier\n",
    "from sklearn.utils import class_weight\n",
    "import warnings\n",
    "warnings.filterwarnings('ignore')"
   ]
  },
  {
   "cell_type": "markdown",
   "metadata": {},
   "source": [
    "### mapping"
   ]
  },
  {
   "cell_type": "code",
   "execution_count": 151,
   "metadata": {
    "ExecuteTime": {
     "end_time": "2021-02-08T13:54:29.138045Z",
     "start_time": "2021-02-08T13:54:29.119028Z"
    }
   },
   "outputs": [],
   "source": [
    "from sklearn.preprocessing import LabelEncoder\n",
    "\n",
    "def encode_data(df):\n",
    "    df['idhogar'] = LabelEncoder().fit_transform(df['idhogar'])\n",
    "    \n",
    "def feature_importance(forest, X_train, display_results=True):\n",
    "    ranked_list=[]\n",
    "    zero_features=[]\n",
    "    \n",
    "    importances = forest.feature_importances_\n",
    "    \n",
    "    indices = np.argsort(importances)[::-1]\n",
    "    \n",
    "    if display_results:\n",
    "        print('Feature ranking:')\n",
    "        \n",
    "    for f in range(X_train.shape[1]):\n",
    "        if display_results:\n",
    "            print('%d. feature %d (%f)' % (f+1, indices[f], importances[indices[f]]) + ' - ' + X_train.columns[indices[f]])\n",
    "            \n",
    "        ranked_list.append(X_train.columns[indices[f]])\n",
    "        \n",
    "        if importances[indices[f]] == 0.0:\n",
    "            zero_features.append(X_train.columns[indices[f]])\n",
    "            \n",
    "    return ranked_list, zero_features"
   ]
  },
  {
   "cell_type": "markdown",
   "metadata": {},
   "source": [
    "### feature engineering"
   ]
  },
  {
   "cell_type": "code",
   "execution_count": 152,
   "metadata": {
    "ExecuteTime": {
     "end_time": "2021-02-08T13:58:59.321300Z",
     "start_time": "2021-02-08T13:58:59.311291Z"
    }
   },
   "outputs": [],
   "source": [
    "def do_features(df):\n",
    "    feats_div = [('children_fraction', 'r4t1', 'r4t3'), \n",
    "                 ('working_man_fraction', 'r4h2', 'r4t3'),\n",
    "                 ('all_man_fraction', 'r4h3', 'r4t3'),\n",
    "                 ('human_density', 'tamviv', 'rooms'),\n",
    "                 ('human_bed_density', 'tamviv', 'bedrooms'),\n",
    "                 ('rent_per_person', 'v2a1', 'r4t3'),\n",
    "                 ('rent_per_room', 'v2a1', 'rooms'),\n",
    "                 ('mobile_density', 'qmobilephone', 'r4t3'),\n",
    "                 ('tablet_density', 'v18q1', 'r4t3'),\n",
    "                 ('mobile_adult_density', 'qmobilephone', 'r4t2'),\n",
    "                 ('tablet_adult_density', 'v18q1', 'r4t2'),\n",
    "                ]\n",
    "    \n",
    "    feats_sub = [('people_not_living', 'tamhog', 'tamviv'),\n",
    "                 ('people_weird_stat', 'tamhog', 'r4t3')]\n",
    "    \n",
    "    for f_new, f1, f2 in feats_div:\n",
    "        df['fe_' + f_new] = (df[f1] / df[f2]).astype(np.float32)\n",
    "    for f_new, f1, f2 in feats_sub:\n",
    "        df['fe_' + f_new] = (df[f1] - df[f2]).astype(np.float32)\n",
    "        \n",
    "    aggs_num = {'age': ['min', 'max', 'mean'],\n",
    "               'escolari': ['min', 'max', 'mean']}\n",
    "    \n",
    "    aggs_cat = {'dis': ['mean']}\n",
    "    for s_ in ['estadocivil', 'parentesco', 'instlevel']:\n",
    "        for f_ in [f_ for f_ in df.columns if f_.startswith(s_)]:\n",
    "            aggs_cat[f_] = ['mean', 'count']\n",
    "            \n",
    "    for name_, df_ in [('18', df.query('age >= 18'))]:\n",
    "        df_agg = df_.groupby('idhogar').agg({**aggs_num, **aggs_cat}).astype(np.float32)\n",
    "        df_agg.columns = pd.Index(['agg' + name_ + '_' + e[0] + '_' + e[1].upper() for e in df_agg.columns.tolist()])\n",
    "        df = df.join(df_agg, how='left', on='idhogar')\n",
    "        del df_agg\n",
    "        \n",
    "    df.drop(['Id'], axis=1, inplace=True)\n",
    "    \n",
    "    return df"
   ]
  },
  {
   "cell_type": "code",
   "execution_count": 168,
   "metadata": {
    "ExecuteTime": {
     "end_time": "2021-02-08T14:10:56.297123Z",
     "start_time": "2021-02-08T14:10:56.288115Z"
    }
   },
   "outputs": [],
   "source": [
    "# convert one hot edcoded fields to label encoding\n",
    "def convert_OHE2LE(df):\n",
    "    tmp_df = df.copy(deep=True)\n",
    "    for s_ in ['pared', 'piso', 'techo', 'abastagua', 'sanitario', 'energcocinar', 'elimbasu', \n",
    "               'epared', 'etecho', 'eviv', 'estadocivil', 'parentesco', \n",
    "               'instlevel', 'lugar', 'tipovivi',\n",
    "               'manual_elec']:\n",
    "        if 'manual_' not in s_:\n",
    "            cols_s_ = [f_ for f_ in df.columns if f_.startswith(s_)]\n",
    "        elif 'elec' in s_:\n",
    "            cols_s_ = ['public', 'planpri', 'noelec', 'coopele']\n",
    "        sum_ohe = tmp_df[cols_s_].sum(axis=1).unique()\n",
    "        #deal with those OHE, where there is a sum over columns == 0\n",
    "        if 0 in sum_ohe:\n",
    "            print('The OHE in {} is incomplete. A new column will be added before label encoding'\n",
    "                  .format(s_))\n",
    "            # dummy colmn name to be added\n",
    "            col_dummy = s_+'_dummy'\n",
    "            # add the column to the dataframe\n",
    "            tmp_df[col_dummy] = (tmp_df[cols_s_].sum(axis=1) == 0).astype(np.int8)\n",
    "            # add the name to the list of columns to be label-encoded\n",
    "            cols_s_.append(col_dummy)\n",
    "            # proof-check, that now the category is complete\n",
    "            sum_ohe = tmp_df[cols_s_].sum(axis=1).unique()\n",
    "            if 0 in sum_ohe:\n",
    "                 print(\"The category completion did not work\")\n",
    "        tmp_cat = tmp_df[cols_s_].idxmax(axis=1)\n",
    "        tmp_df[s_ + '_LE'] = LabelEncoder().fit_transform(tmp_cat).astype(np.int16)\n",
    "        if 'parentesco1' in cols_s_:\n",
    "            cols_s_.remove('parentesco1')\n",
    "        tmp_df.drop(cols_s_, axis=1, inplace=True)\n",
    "    return tmp_df"
   ]
  },
  {
   "cell_type": "markdown",
   "metadata": {},
   "source": [
    "### Read in the data and clean it up"
   ]
  },
  {
   "cell_type": "code",
   "execution_count": 169,
   "metadata": {
    "ExecuteTime": {
     "end_time": "2021-02-08T14:10:56.808587Z",
     "start_time": "2021-02-08T14:10:56.617414Z"
    }
   },
   "outputs": [],
   "source": [
    "train = pd.read_csv('./input/train.csv')\n",
    "test = pd.read_csv('./input/test.csv')\n",
    "\n",
    "test_ids = test.Id"
   ]
  },
  {
   "cell_type": "code",
   "execution_count": 170,
   "metadata": {
    "ExecuteTime": {
     "end_time": "2021-02-08T14:10:57.336066Z",
     "start_time": "2021-02-08T14:10:57.112864Z"
    }
   },
   "outputs": [],
   "source": [
    "def process_df(df_):\n",
    "    encode_data(df_)\n",
    "    \n",
    "    return do_features(df_)\n",
    "\n",
    "train = process_df(train)\n",
    "test = process_df(test)"
   ]
  },
  {
   "cell_type": "markdown",
   "metadata": {},
   "source": [
    "결측치를 정리하고 오브젝트를 숫자형으로 변환합니다."
   ]
  },
  {
   "cell_type": "code",
   "execution_count": 171,
   "metadata": {
    "ExecuteTime": {
     "end_time": "2021-02-08T14:10:57.704401Z",
     "start_time": "2021-02-08T14:10:57.641344Z"
    }
   },
   "outputs": [],
   "source": [
    "# Some dependencies are Na, fill those with the square root of the square\n",
    "train['dependency'] = np.sqrt(train['SQBdependency'])\n",
    "test['dependency'] = np.sqrt(test['SQBdependency'])\n",
    "\n",
    "# fill 'no's for education with 0s\n",
    "train.loc[train['edjefa'] == 'no', 'edjefa'] = 0\n",
    "train.loc[train['edjefe'] == 'no', 'edjefe'] = 0\n",
    "test.loc[test['edjefa'] == 'no', 'edjefa'] = 0\n",
    "test.loc[test['edjefe'] == 'no', 'edjefe'] = 0\n",
    "\n",
    "# if education is 'yes' and person is head of household, fill with escolari\n",
    "train.loc[(train['edjefa'] == 'yes') & (train['parentesco1'] == 1), 'edjefa'] = train.loc[(train['edjefa'] == 'yes') & (train['parentesco1'] == 1), 'escolari']\n",
    "train.loc[(train['edjefe'] == 'yes') & (train['parentesco1'] == 1), 'edjefe'] = train.loc[(train['edjefe'] == 'yes') & (train['parentesco1'] == 1), 'escolari']\n",
    "\n",
    "test.loc[(test['edjefa'] == 'yes') & (test['parentesco1'] == 1), 'edjefa'] = test.loc[(test['edjefa'] == 'yes') & (test['parentesco1'] == 1), 'escolari']\n",
    "test.loc[(test['edjefe'] == 'yes') & (test['parentesco1'] == 1), 'edjefe'] = test.loc[(test['edjefe'] == 'yes') & (test['parentesco1'] == 1), 'escolari']\n",
    "\n",
    "# this field is supposed to be interaction between gender and escolari, but it isn't clear what 'yes' means. let's fill it with 4\n",
    "train.loc[train['edjefa'] == 'yes', 'edjefa'] = 4\n",
    "train.loc[train['edjefe'] == 'yes', 'edjefe'] = 4\n",
    "\n",
    "test.loc[test['edjefa'] == 'yes', 'edjefa'] = 4\n",
    "test.loc[test['edjefe'] == 'yes', 'edjefe'] = 4\n",
    "\n",
    "# Convert to int for our models\n",
    "train['edjefe'] = train['edjefe'].astype('int')\n",
    "train['edjefa'] = train['edjefa'].astype('int')\n",
    "test['edjefe'] = test['edjefe'].astype('int')\n",
    "test['edjefa'] = test['edjefa'].astype('int')\n",
    "\n",
    "# create feature with max education of either head of household\n",
    "train['edjef'] = np.max(train[['edjefa', 'edjefe']], axis=1)\n",
    "test['edjef'] = np.max(test[['edjefa', 'edjefe']], axis=1)\n",
    "\n",
    "# fill some nas\n",
    "train['v2a1'] = train['v2a1'].fillna(0)\n",
    "test['v2a1'] = test['v2a1'].fillna(0)\n",
    "\n",
    "train['v18q1'] = train['v18q1'].fillna(0)\n",
    "test['v18q1'] = test['v18q1'].fillna(0)\n",
    "\n",
    "train['rez_esc'] = train['rez_esc'].fillna(0)\n",
    "test['rez_esc'] = test['rez_esc'].fillna(0)\n",
    "\n",
    "train.loc[train.meaneduc.isnull(), 'meaneduc'] = 0\n",
    "train.loc[train.SQBmeaned.isnull(), 'SQBmeaned'] = 0\n",
    "\n",
    "test.loc[test.meaneduc.isnull(), 'meaneduc'] = 0\n",
    "test.loc[test.SQBmeaned.isnull(), 'SQBmeaned'] = 0\n",
    "\n",
    "# fix some inconsistencies in the data - some rows indicate both that the household does and does not not have a toilet,\n",
    "# if there is no water we'll assume they do not\n",
    "train.loc[(train.v14a == 1) & (train.sanitario1 == 1) & (train.abastaguano == 0), 'v14a'] = 0\n",
    "train.loc[(train.v14a == 1) & (train.sanitario1 == 1) & (train.abastaguano == 0), 'sanitario'] = 0\n",
    "\n",
    "test.loc[(test.v14a == 1) & (test.sanitario1 == 1) & (test.abastaguano == 0), 'v14a'] = 0\n",
    "test.loc[(test.v14a == 1) & (test.sanitario1 == 1) & (test.abastaguano == 0), 'sanitario'] = 0"
   ]
  },
  {
   "cell_type": "code",
   "execution_count": 172,
   "metadata": {
    "ExecuteTime": {
     "end_time": "2021-02-08T14:10:58.023690Z",
     "start_time": "2021-02-08T14:10:58.008677Z"
    }
   },
   "outputs": [],
   "source": [
    "def train_test_apply_func(train_, test_, func_):\n",
    "    test_['Target'] = 0\n",
    "    xx = pd.concat([train_, test_])\n",
    "    \n",
    "    xx_func = func_(xx)\n",
    "    train_ = xx_func.iloc[:train_.shape[0], :]\n",
    "    test_ = xx_func.iloc[train_.shape[0]:, :].drop('Target', axis=1)\n",
    "    \n",
    "    del xx, xx_func\n",
    "    return train_, test_"
   ]
  },
  {
   "cell_type": "code",
   "execution_count": 173,
   "metadata": {
    "ExecuteTime": {
     "end_time": "2021-02-08T14:10:59.174735Z",
     "start_time": "2021-02-08T14:10:58.312953Z"
    }
   },
   "outputs": [
    {
     "name": "stdout",
     "output_type": "stream",
     "text": [
      "The OHE in techo is incomplete. A new column will be added before label encoding\n",
      "The OHE in instlevel is incomplete. A new column will be added before label encoding\n",
      "The OHE in manual_elec is incomplete. A new column will be added before label encoding\n"
     ]
    }
   ],
   "source": [
    "# convert the one hot fields into label encoded\n",
    "train, test = train_test_apply_func(train, test, convert_OHE2LE)"
   ]
  },
  {
   "cell_type": "markdown",
   "metadata": {},
   "source": [
    "### geo aggregates"
   ]
  },
  {
   "cell_type": "code",
   "execution_count": 174,
   "metadata": {
    "ExecuteTime": {
     "end_time": "2021-02-08T14:18:21.714947Z",
     "start_time": "2021-02-08T14:18:21.599843Z"
    }
   },
   "outputs": [],
   "source": [
    "cols_2_ohe = ['eviv_LE', 'etecho_LE', 'epared_LE', 'elimbasu_LE', 'energcocinar_LE', 'sanitario_LE', 'manual_elec_LE', 'pared_LE']\n",
    "cols_nums = ['age', 'meaneduc', 'dependency', 'hogar_nin', 'hogar_adul', 'hogar_mayor', 'hogar_total', 'bedrooms' ,'overcrowding']\n",
    "\n",
    "def convert_geo2aggs(df_):\n",
    "    tmp_df = pd.concat([df_[(['lugar_LE', 'idhogar'] + cols_nums)], pd.get_dummies(df_[cols_2_ohe], columns=cols_2_ohe)], axis=1)\n",
    "    \n",
    "    geo_agg = tmp_df.groupby(['lugar_LE', 'idhogar']).mean().groupby('lugar_LE').mean().astype(np.float32)\n",
    "    geo_agg.columns = pd.Index(['geo_' + e for e in geo_agg.columns.tolist()])\n",
    "    \n",
    "    del tmp_df\n",
    "    return df_.join(geo_agg, how='left', on='lugar_LE')\n",
    "\n",
    "train, test = train_test_apply_func(train, test, convert_geo2aggs)"
   ]
  },
  {
   "cell_type": "code",
   "execution_count": 175,
   "metadata": {
    "ExecuteTime": {
     "end_time": "2021-02-08T14:18:26.433230Z",
     "start_time": "2021-02-08T14:18:26.247062Z"
    }
   },
   "outputs": [],
   "source": [
    "# add the number of people over 18 in each household\n",
    "train['num_over_18'] = 0\n",
    "train['num_over_18'] = train[train.age >= 18].groupby('idhogar').transform('count')\n",
    "train['num_over_18'] = train.groupby('idhogar')['num_over_18'].transform('max')\n",
    "train['num_over_18'] = train['num_over_18'].fillna(0)\n",
    "\n",
    "test['num_over_18'] = 0\n",
    "test['num_over_18'] = test[test.age >= 18].groupby('idhogar').transform('count')\n",
    "test['num_over_18'] = test.groupby('idhogar')['num_over_18'].transform('max')\n",
    "test['num_over_18'] = test['num_over_18'].fillna(0)\n",
    "\n",
    "# add some extra features, these were taken from another kernel\n",
    "def extract_features(df):\n",
    "    df['bedrooms_to_rooms'] = df['bedrooms'] / df['rooms']\n",
    "    df['rent_to_rooms'] = df['v2a1'] / df['rooms']\n",
    "    df['tamhog_to_rooms'] = df['tamhog'] / df['rooms'] # tamhog - size of the household\n",
    "    df['r4t3_to_tamhog'] = df['r4t3'] / df['tamhog'] # r4t3 - Total persons in the household\n",
    "    df['r4t3_to_rooms'] = df['r4t3'] / df['rooms']\n",
    "    df['v2a1_to_r4t3'] = df['v2a1'] / df['r4t3'] # rent to people in household\n",
    "    df['v2a1_to_under_12'] = df['v2a1'] / (df['r4t3'] - df['r4t1']) # rent to people under age 12\n",
    "    df['hhsize_to_rooms'] = df['hhsize'] / df['rooms'] # rooms per person\n",
    "    df['rent_to_hhsize'] = df['v2a1'] / df['hhsize'] # rent to household size\n",
    "    df['rent_to_over_18'] = df['v2a1'] / df['num_over_18'] # some households have no one over 18, use the total rent for those\n",
    "    df.loc[df.num_over_18 == 0, 'rent_to_over_18'] = df[df.num_over_18 == 0].v2a1\n",
    "    \n",
    "extract_features(train)\n",
    "extract_features(test)"
   ]
  },
  {
   "cell_type": "code",
   "execution_count": 176,
   "metadata": {
    "ExecuteTime": {
     "end_time": "2021-02-08T14:19:47.389717Z",
     "start_time": "2021-02-08T14:19:47.369699Z"
    }
   },
   "outputs": [],
   "source": [
    "needless_cols = ['r4t3', 'tamhog', 'tamviv', 'hhsize', 'v18q', 'v14a' ,'agesq', 'mobilephone', 'female']\n",
    "\n",
    "instlevel_cols = [s for s in train.columns.tolist() if 'instlevel' in s]\n",
    "\n",
    "needless_cols.extend(instlevel_cols)\n",
    "\n",
    "train = train.drop(needless_cols, axis=1)\n",
    "test = test.drop(needless_cols, axis=1)"
   ]
  },
  {
   "cell_type": "markdown",
   "metadata": {},
   "source": [
    "### Split the data\n",
    "동일한 가구에 속하는 행은 대개 동일한 타겟을 가지므로, 누출을 방지하기 위해 가구별로 데이터를 분할합니다. 가장만 포함하도록 데이터를 필터링하고 이는 기술적으로는 필요하지 않지만, 그렇게 하면 전체 교육 데이터 세트를 쉽게 사용할 수 있습니다.\n",
    "\n",
    "데이터를 분할한 후에는 열차 데이터를 전체 데이터 세트로 덮어써 모든 데이터를 훈련할 수 있습니다. split_data 기능은 데이터를 덮어쓰지 않고 동일한 작업을 수행하며, 교육 루프 내에서 K-Fold 분할을 근사화하는 데 사용됩니다."
   ]
  },
  {
   "cell_type": "code",
   "execution_count": 177,
   "metadata": {
    "ExecuteTime": {
     "end_time": "2021-02-08T14:22:30.248550Z",
     "start_time": "2021-02-08T14:22:30.239542Z"
    }
   },
   "outputs": [],
   "source": [
    "def split_data(train, y, sample_weight=None, households=None, test_percentage=0.20, seed=None):\n",
    "    \n",
    "    train2 = train.copy()\n",
    "    \n",
    "    cv_hhs = np.random.choice(households, size=int(len(households) * test_percentage), replace=False)\n",
    "    \n",
    "    cv_idx = np.isin(households, cv_hhs)\n",
    "    X_test = train2[cv_idx]\n",
    "    y_test = y[cv_idx]\n",
    "    \n",
    "    X_train = train2[~cv_idx]\n",
    "    y_train = y[~cv_idx]\n",
    "    \n",
    "    if sample_weight is not None:\n",
    "        y_train_weights = sample_weight[~cv_idx]\n",
    "        return X_train, y_train, X_test, y_test, y_train_weights\n",
    "    \n",
    "    return X_train, y_train, X_test, y_test"
   ]
  },
  {
   "cell_type": "code",
   "execution_count": 178,
   "metadata": {
    "ExecuteTime": {
     "end_time": "2021-02-08T14:24:46.400139Z",
     "start_time": "2021-02-08T14:24:46.381122Z"
    }
   },
   "outputs": [],
   "source": [
    "X = train.query('parentesco1==1')\n",
    "\n",
    "y = X['Target'] - 1\n",
    "X = X.drop(['Target'], axis=1)\n",
    "\n",
    "np.random.seed(seed=None)\n",
    "\n",
    "train2 = X.copy()\n",
    "\n",
    "train_hhs = train2.idhogar\n",
    "\n",
    "households = train2.idhogar.unique()\n",
    "cv_hhs = np.random.choice(households, size=int(len(households) * 0.15), replace=False)\n",
    "\n",
    "cv_idx = np.isin(train2.idhogar, cv_hhs)\n",
    "\n",
    "X_test = train2[cv_idx]\n",
    "y_test = y[cv_idx]\n",
    "\n",
    "X_train = train2[~cv_idx]\n",
    "y_train = y[~cv_idx]\n",
    "\n",
    "X_train = train2\n",
    "y_train = y\n",
    "\n",
    "train_households = X_train.idhogar"
   ]
  },
  {
   "cell_type": "code",
   "execution_count": 179,
   "metadata": {
    "ExecuteTime": {
     "end_time": "2021-02-08T14:25:11.201653Z",
     "start_time": "2021-02-08T14:25:11.196648Z"
    }
   },
   "outputs": [],
   "source": [
    "y_train_weights = class_weight.compute_sample_weight('balanced', y_train, indices=None)"
   ]
  },
  {
   "cell_type": "code",
   "execution_count": 180,
   "metadata": {
    "ExecuteTime": {
     "end_time": "2021-02-08T14:25:15.520573Z",
     "start_time": "2021-02-08T14:25:15.517570Z"
    }
   },
   "outputs": [],
   "source": [
    "# drop some features which aren't used by the LGBM or have very low importance\n",
    "extra_drop_features = [\n",
    " 'agg18_estadocivil1_MEAN',\n",
    " 'agg18_estadocivil6_COUNT',\n",
    " 'agg18_estadocivil7_COUNT',\n",
    " 'agg18_parentesco10_COUNT',\n",
    " 'agg18_parentesco11_COUNT',\n",
    " 'agg18_parentesco12_COUNT',\n",
    " 'agg18_parentesco1_COUNT',\n",
    " 'agg18_parentesco2_COUNT',\n",
    " 'agg18_parentesco3_COUNT',\n",
    " 'agg18_parentesco4_COUNT',\n",
    " 'agg18_parentesco5_COUNT',\n",
    " 'agg18_parentesco6_COUNT',\n",
    " 'agg18_parentesco7_COUNT',\n",
    " 'agg18_parentesco8_COUNT',\n",
    " 'agg18_parentesco9_COUNT',\n",
    " 'geo_elimbasu_LE_4',\n",
    " 'geo_energcocinar_LE_1',\n",
    " 'geo_energcocinar_LE_2',\n",
    " 'geo_epared_LE_0',\n",
    " 'geo_hogar_mayor',\n",
    " 'geo_manual_elec_LE_2',\n",
    " 'geo_pared_LE_3',\n",
    " 'geo_pared_LE_4',\n",
    " 'geo_pared_LE_5',\n",
    " 'geo_pared_LE_6',\n",
    " 'num_over_18',\n",
    " 'parentesco_LE',\n",
    " 'rez_esc']"
   ]
  },
  {
   "cell_type": "code",
   "execution_count": 181,
   "metadata": {
    "ExecuteTime": {
     "end_time": "2021-02-08T14:25:29.353129Z",
     "start_time": "2021-02-08T14:25:29.337115Z"
    }
   },
   "outputs": [],
   "source": [
    "xgb_drop_cols = extra_drop_features + ['idhogar', 'parentesco1']"
   ]
  },
  {
   "cell_type": "markdown",
   "metadata": {},
   "source": [
    "### Fit a voting classifier\n",
    "조기 중지를 위해 fit_params를 전달할 수 있도록 VotingClassifier을 정의합니다. LGBM에 기반하여 매크로 F1과 학습률의 줄어듬에 따라 조기 중지합니다."
   ]
  },
  {
   "cell_type": "code",
   "execution_count": 182,
   "metadata": {
    "ExecuteTime": {
     "end_time": "2021-02-08T14:28:08.753822Z",
     "start_time": "2021-02-08T14:28:08.748818Z"
    }
   },
   "outputs": [],
   "source": [
    "opt_parameters = {'max_depth':35, 'eta':0.15, 'silent':1, 'objective':'multi:softmax', 'min_child_weight': 2, 'num_class': 4, 'gamma': 2.5, 'colsample_bylevel': 1, 'subsample': 0.95, 'colsample_bytree': 0.85, 'reg_lambda': 0.35}\n",
    "\n",
    "def evaluate_macroF1_lgb(predictions, truth):\n",
    "    pred_labels = predictions.argmax(axis=1)\n",
    "    truth = truth.get_label()\n",
    "    f1 = f1_score(truth, pred_labels, average='macro')\n",
    "    return ('macro1', 1-f1)\n",
    "\n",
    "fit_params = {'early_stopping_rounds': 500,\n",
    "             'eval_metric': evaluate_macroF1_lgb,\n",
    "             'eval_set': [(X_train, y_train), (X_test, y_test)],\n",
    "             'verbose': False}\n",
    "\n",
    "def learning_rate_power_0997(current_iter):\n",
    "    base_learning_rate = 0.1\n",
    "    min_learning_rate = 0.02\n",
    "    lr = base_learning_rate * np.power(.995, current_iter)\n",
    "    return max(lr, min_learning_rate)\n",
    "\n",
    "fit_params['verbose'] = 50"
   ]
  },
  {
   "cell_type": "code",
   "execution_count": 183,
   "metadata": {
    "ExecuteTime": {
     "end_time": "2021-02-08T14:28:17.931153Z",
     "start_time": "2021-02-08T14:28:17.907132Z"
    }
   },
   "outputs": [],
   "source": [
    "np.random.seed(100)\n",
    "\n",
    "def _parallel_fit_estimator(estimator1, X, y, sample_weight=None, threshold=True, **fit_params):\n",
    "    estimator = clone(estimator1)\n",
    "    \n",
    "    # randomly split the data so we have a test set for early stopping\n",
    "    if sample_weight is not None:\n",
    "        X_train, y_train, X_test, y_test, y_train_weight = split_data(X, y, sample_weight, households=train_households)\n",
    "    else:\n",
    "        X_train, y_train, X_test, y_test = split_data(X, y, None, households=train_households)\n",
    "        \n",
    "    # update the fit params with our new split\n",
    "    fit_params[\"eval_set\"] = [(X_test,y_test)]\n",
    "    \n",
    "    # fit the estimator\n",
    "    if sample_weight is not None:\n",
    "        if isinstance(estimator1, ExtraTreesClassifier) or isinstance(estimator1, RandomForestClassifier):\n",
    "            estimator.fit(X_train, y_train)\n",
    "        else:\n",
    "            _ = estimator.fit(X_train, y_train, sample_weight=y_train_weight, **fit_params)\n",
    "    else:\n",
    "        if isinstance(estimator1, ExtraTreesClassifier) or isinstance(estimator1, RandomForestClassifier):\n",
    "            estimator.fit(X_train, y_train)\n",
    "        else:\n",
    "            _ = estimator.fit(X_train, y_train, **fit_params)\n",
    "    \n",
    "    if not isinstance(estimator1, ExtraTreesClassifier) and not isinstance(estimator1, RandomForestClassifier) and not isinstance(estimator1, xgb.XGBClassifier):\n",
    "        best_cv_round = np.argmax(estimator.evals_result_['validation_0']['mlogloss'])\n",
    "        best_cv = np.max(estimator.evals_result_['validation_0']['mlogloss'])\n",
    "        best_train = estimator.evals_result_['train']['macroF1'][best_cv_round]\n",
    "    else:\n",
    "        best_train = f1_score(y_train, estimator.predict(X_train), average=\"macro\")\n",
    "        best_cv = f1_score(y_test, estimator.predict(X_test), average=\"macro\")\n",
    "        print(\"Train F1:\", best_train)\n",
    "        print(\"Test F1:\", best_cv)\n",
    "        \n",
    "    # reject some estimators based on their performance on train and test sets\n",
    "    if threshold:\n",
    "        # if the valid score is very high we'll allow a little more leeway with the train scores\n",
    "        if ((best_cv > 0.37) and (best_train > 0.75)) or ((best_cv > 0.44) and (best_train > 0.65)):\n",
    "            return estimator\n",
    "\n",
    "        # else recurse until we get a better one\n",
    "        else:\n",
    "            print(\"Unacceptable!!! Trying again...\")\n",
    "            return _parallel_fit_estimator(estimator1, X, y, sample_weight=sample_weight, **fit_params)\n",
    "    \n",
    "    else:\n",
    "        return estimator\n",
    "    \n",
    "class VotingClassifierLGBM(VotingClassifier):\n",
    "    '''\n",
    "    This implements the fit method of the VotingClassifier propagating fit_params\n",
    "    '''\n",
    "    def fit(self, X, y, sample_weight=None, threshold=True, **fit_params):\n",
    "        \n",
    "        if isinstance(y, np.ndarray) and len(y.shape) > 1 and y.shape[1] > 1:\n",
    "            raise NotImplementedError('Multilabel and multi-output'\n",
    "                                      ' classification is not supported.')\n",
    "\n",
    "        if self.voting not in ('soft', 'hard'):\n",
    "            raise ValueError(\"Voting must be 'soft' or 'hard'; got (voting=%r)\"\n",
    "                             % self.voting)\n",
    "\n",
    "        if self.estimators is None or len(self.estimators) == 0:\n",
    "            raise AttributeError('Invalid `estimators` attribute, `estimators`'\n",
    "                                 ' should be a list of (string, estimator)'\n",
    "                                 ' tuples')\n",
    "\n",
    "        if (self.weights is not None and\n",
    "                len(self.weights) != len(self.estimators)):\n",
    "            raise ValueError('Number of classifiers and weights must be equal'\n",
    "                             '; got %d weights, %d estimators'\n",
    "                             % (len(self.weights), len(self.estimators)))\n",
    "\n",
    "        names, clfs = zip(*self.estimators)\n",
    "        self._validate_names(names)\n",
    "\n",
    "        n_isnone = np.sum([clf is None for _, clf in self.estimators])\n",
    "        if n_isnone == len(self.estimators):\n",
    "            raise ValueError('All estimators are None. At least one is '\n",
    "                             'required to be a classifier!')\n",
    "\n",
    "        self.le_ = LabelEncoder().fit(y)\n",
    "        self.classes_ = self.le_.classes_\n",
    "        self.estimators_ = []\n",
    "\n",
    "        transformed_y = self.le_.transform(y)\n",
    "\n",
    "        self.estimators_ = Parallel(n_jobs=self.n_jobs)(\n",
    "                delayed(_parallel_fit_estimator)(clone(clf), X, transformed_y,\n",
    "                                                 sample_weight=sample_weight, threshold=threshold, **fit_params)\n",
    "                for clf in clfs if clf is not None)\n",
    "\n",
    "        return self"
   ]
  },
  {
   "cell_type": "code",
   "execution_count": 184,
   "metadata": {
    "ExecuteTime": {
     "end_time": "2021-02-08T14:31:54.145418Z",
     "start_time": "2021-02-08T14:30:06.899067Z"
    }
   },
   "outputs": [
    {
     "name": "stdout",
     "output_type": "stream",
     "text": [
      "[23:30:06] WARNING: C:/Users/Administrator/workspace/xgboost-win64_release_1.3.0/src/learner.cc:541: \n",
      "Parameters: { silent } might not be used.\n",
      "\n",
      "  This may not be accurate due to some parameters are only used in language bindings but\n",
      "  passed down to XGBoost core.  Or some parameters are not used but slip through this\n",
      "  verification. Please open an issue if you find above cases.\n",
      "\n",
      "\n",
      "[23:30:06] WARNING: C:/Users/Administrator/workspace/xgboost-win64_release_1.3.0/src/learner.cc:1061: Starting in XGBoost 1.3.0, the default evaluation metric used with the objective 'multi:softprob' was changed from 'merror' to 'mlogloss'. Explicitly set eval_metric if you'd like to restore the old behavior.\n",
      "[0]\tvalidation_0-mlogloss:1.30039\tvalidation_0-macro1:0.64244\n",
      "[50]\tvalidation_0-mlogloss:0.91911\tvalidation_0-macro1:0.59801\n",
      "[100]\tvalidation_0-mlogloss:0.91816\tvalidation_0-macro1:0.61256\n",
      "[150]\tvalidation_0-mlogloss:0.91795\tvalidation_0-macro1:0.62226\n",
      "[200]\tvalidation_0-mlogloss:0.91941\tvalidation_0-macro1:0.61902\n",
      "[250]\tvalidation_0-mlogloss:0.92048\tvalidation_0-macro1:0.61853\n",
      "[299]\tvalidation_0-mlogloss:0.92179\tvalidation_0-macro1:0.62086\n",
      "Train F1: 0.9023897544564117\n",
      "Test F1: 0.40598167996933926\n",
      "[23:30:14] WARNING: C:/Users/Administrator/workspace/xgboost-win64_release_1.3.0/src/learner.cc:541: \n",
      "Parameters: { silent } might not be used.\n",
      "\n",
      "  This may not be accurate due to some parameters are only used in language bindings but\n",
      "  passed down to XGBoost core.  Or some parameters are not used but slip through this\n",
      "  verification. Please open an issue if you find above cases.\n",
      "\n",
      "\n",
      "[23:30:14] WARNING: C:/Users/Administrator/workspace/xgboost-win64_release_1.3.0/src/learner.cc:1061: Starting in XGBoost 1.3.0, the default evaluation metric used with the objective 'multi:softprob' was changed from 'merror' to 'mlogloss'. Explicitly set eval_metric if you'd like to restore the old behavior.\n",
      "[0]\tvalidation_0-mlogloss:1.30323\tvalidation_0-macro1:0.63434\n",
      "[50]\tvalidation_0-mlogloss:0.91776\tvalidation_0-macro1:0.59493\n",
      "[100]\tvalidation_0-mlogloss:0.91175\tvalidation_0-macro1:0.60202\n",
      "[150]\tvalidation_0-mlogloss:0.91428\tvalidation_0-macro1:0.60132\n",
      "[200]\tvalidation_0-mlogloss:0.91381\tvalidation_0-macro1:0.60178\n",
      "[250]\tvalidation_0-mlogloss:0.91499\tvalidation_0-macro1:0.60255\n",
      "[299]\tvalidation_0-mlogloss:0.91500\tvalidation_0-macro1:0.59703\n",
      "Train F1: 0.8840374825298526\n",
      "Test F1: 0.42208902935525716\n",
      "[23:30:21] WARNING: C:/Users/Administrator/workspace/xgboost-win64_release_1.3.0/src/learner.cc:541: \n",
      "Parameters: { silent } might not be used.\n",
      "\n",
      "  This may not be accurate due to some parameters are only used in language bindings but\n",
      "  passed down to XGBoost core.  Or some parameters are not used but slip through this\n",
      "  verification. Please open an issue if you find above cases.\n",
      "\n",
      "\n",
      "[23:30:21] WARNING: C:/Users/Administrator/workspace/xgboost-win64_release_1.3.0/src/learner.cc:1061: Starting in XGBoost 1.3.0, the default evaluation metric used with the objective 'multi:softprob' was changed from 'merror' to 'mlogloss'. Explicitly set eval_metric if you'd like to restore the old behavior.\n",
      "[0]\tvalidation_0-mlogloss:1.30509\tvalidation_0-macro1:0.66722\n",
      "[50]\tvalidation_0-mlogloss:0.93498\tvalidation_0-macro1:0.60034\n",
      "[100]\tvalidation_0-mlogloss:0.93097\tvalidation_0-macro1:0.60746\n",
      "[150]\tvalidation_0-mlogloss:0.92785\tvalidation_0-macro1:0.59684\n",
      "[200]\tvalidation_0-mlogloss:0.92684\tvalidation_0-macro1:0.60087\n",
      "[250]\tvalidation_0-mlogloss:0.92628\tvalidation_0-macro1:0.59817\n",
      "[299]\tvalidation_0-mlogloss:0.92513\tvalidation_0-macro1:0.59604\n",
      "Train F1: 0.8930464438163366\n",
      "Test F1: 0.41938606278128876\n",
      "[23:30:28] WARNING: C:/Users/Administrator/workspace/xgboost-win64_release_1.3.0/src/learner.cc:541: \n",
      "Parameters: { silent } might not be used.\n",
      "\n",
      "  This may not be accurate due to some parameters are only used in language bindings but\n",
      "  passed down to XGBoost core.  Or some parameters are not used but slip through this\n",
      "  verification. Please open an issue if you find above cases.\n",
      "\n",
      "\n",
      "[23:30:28] WARNING: C:/Users/Administrator/workspace/xgboost-win64_release_1.3.0/src/learner.cc:1061: Starting in XGBoost 1.3.0, the default evaluation metric used with the objective 'multi:softprob' was changed from 'merror' to 'mlogloss'. Explicitly set eval_metric if you'd like to restore the old behavior.\n",
      "[0]\tvalidation_0-mlogloss:1.29553\tvalidation_0-macro1:0.59152\n",
      "[50]\tvalidation_0-mlogloss:0.94408\tvalidation_0-macro1:0.57513\n",
      "[100]\tvalidation_0-mlogloss:0.93617\tvalidation_0-macro1:0.57493\n",
      "[150]\tvalidation_0-mlogloss:0.93304\tvalidation_0-macro1:0.57543\n",
      "[200]\tvalidation_0-mlogloss:0.93339\tvalidation_0-macro1:0.57810\n",
      "[250]\tvalidation_0-mlogloss:0.93533\tvalidation_0-macro1:0.55781\n",
      "[299]\tvalidation_0-mlogloss:0.93460\tvalidation_0-macro1:0.55638\n",
      "Train F1: 0.9247169184833447\n",
      "Test F1: 0.4442304164818409\n",
      "[23:30:36] WARNING: C:/Users/Administrator/workspace/xgboost-win64_release_1.3.0/src/learner.cc:541: \n",
      "Parameters: { silent } might not be used.\n",
      "\n",
      "  This may not be accurate due to some parameters are only used in language bindings but\n",
      "  passed down to XGBoost core.  Or some parameters are not used but slip through this\n",
      "  verification. Please open an issue if you find above cases.\n",
      "\n",
      "\n",
      "[23:30:36] WARNING: C:/Users/Administrator/workspace/xgboost-win64_release_1.3.0/src/learner.cc:1061: Starting in XGBoost 1.3.0, the default evaluation metric used with the objective 'multi:softprob' was changed from 'merror' to 'mlogloss'. Explicitly set eval_metric if you'd like to restore the old behavior.\n",
      "[0]\tvalidation_0-mlogloss:1.30007\tvalidation_0-macro1:0.61877\n",
      "[50]\tvalidation_0-mlogloss:0.94124\tvalidation_0-macro1:0.61706\n",
      "[100]\tvalidation_0-mlogloss:0.93691\tvalidation_0-macro1:0.62152\n",
      "[150]\tvalidation_0-mlogloss:0.93663\tvalidation_0-macro1:0.62981\n",
      "[200]\tvalidation_0-mlogloss:0.93615\tvalidation_0-macro1:0.62866\n",
      "[250]\tvalidation_0-mlogloss:0.93661\tvalidation_0-macro1:0.63527\n",
      "[299]\tvalidation_0-mlogloss:0.93619\tvalidation_0-macro1:0.63366\n",
      "Train F1: 0.9095593248892776\n",
      "Test F1: 0.39211206712608365\n",
      "[23:30:43] WARNING: C:/Users/Administrator/workspace/xgboost-win64_release_1.3.0/src/learner.cc:541: \n",
      "Parameters: { silent } might not be used.\n",
      "\n",
      "  This may not be accurate due to some parameters are only used in language bindings but\n",
      "  passed down to XGBoost core.  Or some parameters are not used but slip through this\n",
      "  verification. Please open an issue if you find above cases.\n",
      "\n",
      "\n",
      "[23:30:43] WARNING: C:/Users/Administrator/workspace/xgboost-win64_release_1.3.0/src/learner.cc:1061: Starting in XGBoost 1.3.0, the default evaluation metric used with the objective 'multi:softprob' was changed from 'merror' to 'mlogloss'. Explicitly set eval_metric if you'd like to restore the old behavior.\n",
      "[0]\tvalidation_0-mlogloss:1.29958\tvalidation_0-macro1:0.66091\n",
      "[50]\tvalidation_0-mlogloss:0.91252\tvalidation_0-macro1:0.58885\n",
      "[100]\tvalidation_0-mlogloss:0.90714\tvalidation_0-macro1:0.58321\n",
      "[150]\tvalidation_0-mlogloss:0.90687\tvalidation_0-macro1:0.59067\n",
      "[200]\tvalidation_0-mlogloss:0.90731\tvalidation_0-macro1:0.58333\n",
      "[250]\tvalidation_0-mlogloss:0.90810\tvalidation_0-macro1:0.58558\n",
      "[299]\tvalidation_0-mlogloss:0.90561\tvalidation_0-macro1:0.58041\n",
      "Train F1: 0.928471911977598\n",
      "Test F1: 0.4264194550461333\n",
      "[23:30:50] WARNING: C:/Users/Administrator/workspace/xgboost-win64_release_1.3.0/src/learner.cc:541: \n",
      "Parameters: { silent } might not be used.\n",
      "\n",
      "  This may not be accurate due to some parameters are only used in language bindings but\n",
      "  passed down to XGBoost core.  Or some parameters are not used but slip through this\n",
      "  verification. Please open an issue if you find above cases.\n",
      "\n",
      "\n",
      "[23:30:50] WARNING: C:/Users/Administrator/workspace/xgboost-win64_release_1.3.0/src/learner.cc:1061: Starting in XGBoost 1.3.0, the default evaluation metric used with the objective 'multi:softprob' was changed from 'merror' to 'mlogloss'. Explicitly set eval_metric if you'd like to restore the old behavior.\n",
      "[0]\tvalidation_0-mlogloss:1.29781\tvalidation_0-macro1:0.65299\n",
      "[50]\tvalidation_0-mlogloss:0.92180\tvalidation_0-macro1:0.59378\n",
      "[100]\tvalidation_0-mlogloss:0.91733\tvalidation_0-macro1:0.58665\n",
      "[150]\tvalidation_0-mlogloss:0.91842\tvalidation_0-macro1:0.59646\n",
      "[200]\tvalidation_0-mlogloss:0.91746\tvalidation_0-macro1:0.58739\n"
     ]
    },
    {
     "name": "stdout",
     "output_type": "stream",
     "text": [
      "[250]\tvalidation_0-mlogloss:0.91859\tvalidation_0-macro1:0.58896\n",
      "[299]\tvalidation_0-mlogloss:0.91927\tvalidation_0-macro1:0.59010\n",
      "Train F1: 0.8952954970083489\n",
      "Test F1: 0.4185828757772069\n",
      "[23:30:57] WARNING: C:/Users/Administrator/workspace/xgboost-win64_release_1.3.0/src/learner.cc:541: \n",
      "Parameters: { silent } might not be used.\n",
      "\n",
      "  This may not be accurate due to some parameters are only used in language bindings but\n",
      "  passed down to XGBoost core.  Or some parameters are not used but slip through this\n",
      "  verification. Please open an issue if you find above cases.\n",
      "\n",
      "\n",
      "[23:30:57] WARNING: C:/Users/Administrator/workspace/xgboost-win64_release_1.3.0/src/learner.cc:1061: Starting in XGBoost 1.3.0, the default evaluation metric used with the objective 'multi:softprob' was changed from 'merror' to 'mlogloss'. Explicitly set eval_metric if you'd like to restore the old behavior.\n",
      "[0]\tvalidation_0-mlogloss:1.30113\tvalidation_0-macro1:0.62662\n",
      "[50]\tvalidation_0-mlogloss:0.94249\tvalidation_0-macro1:0.61305\n",
      "[100]\tvalidation_0-mlogloss:0.93815\tvalidation_0-macro1:0.61161\n",
      "[150]\tvalidation_0-mlogloss:0.94009\tvalidation_0-macro1:0.62866\n",
      "[200]\tvalidation_0-mlogloss:0.94015\tvalidation_0-macro1:0.62751\n",
      "[250]\tvalidation_0-mlogloss:0.93901\tvalidation_0-macro1:0.62519\n",
      "[299]\tvalidation_0-mlogloss:0.93804\tvalidation_0-macro1:0.62389\n",
      "Train F1: 0.8938783060148262\n",
      "Test F1: 0.39977809923009056\n",
      "[23:31:04] WARNING: C:/Users/Administrator/workspace/xgboost-win64_release_1.3.0/src/learner.cc:541: \n",
      "Parameters: { silent } might not be used.\n",
      "\n",
      "  This may not be accurate due to some parameters are only used in language bindings but\n",
      "  passed down to XGBoost core.  Or some parameters are not used but slip through this\n",
      "  verification. Please open an issue if you find above cases.\n",
      "\n",
      "\n",
      "[23:31:04] WARNING: C:/Users/Administrator/workspace/xgboost-win64_release_1.3.0/src/learner.cc:1061: Starting in XGBoost 1.3.0, the default evaluation metric used with the objective 'multi:softprob' was changed from 'merror' to 'mlogloss'. Explicitly set eval_metric if you'd like to restore the old behavior.\n",
      "[0]\tvalidation_0-mlogloss:1.29735\tvalidation_0-macro1:0.61374\n",
      "[50]\tvalidation_0-mlogloss:0.87947\tvalidation_0-macro1:0.54613\n",
      "[100]\tvalidation_0-mlogloss:0.87186\tvalidation_0-macro1:0.53651\n",
      "[150]\tvalidation_0-mlogloss:0.87169\tvalidation_0-macro1:0.54521\n",
      "[200]\tvalidation_0-mlogloss:0.87119\tvalidation_0-macro1:0.54851\n",
      "[250]\tvalidation_0-mlogloss:0.87316\tvalidation_0-macro1:0.54651\n",
      "[299]\tvalidation_0-mlogloss:0.87223\tvalidation_0-macro1:0.55052\n",
      "Train F1: 0.9282367761873961\n",
      "Test F1: 0.46977035456498095\n",
      "[23:31:11] WARNING: C:/Users/Administrator/workspace/xgboost-win64_release_1.3.0/src/learner.cc:541: \n",
      "Parameters: { silent } might not be used.\n",
      "\n",
      "  This may not be accurate due to some parameters are only used in language bindings but\n",
      "  passed down to XGBoost core.  Or some parameters are not used but slip through this\n",
      "  verification. Please open an issue if you find above cases.\n",
      "\n",
      "\n",
      "[23:31:11] WARNING: C:/Users/Administrator/workspace/xgboost-win64_release_1.3.0/src/learner.cc:1061: Starting in XGBoost 1.3.0, the default evaluation metric used with the objective 'multi:softprob' was changed from 'merror' to 'mlogloss'. Explicitly set eval_metric if you'd like to restore the old behavior.\n",
      "[0]\tvalidation_0-mlogloss:1.29833\tvalidation_0-macro1:0.64861\n",
      "[50]\tvalidation_0-mlogloss:0.89494\tvalidation_0-macro1:0.60320\n",
      "[100]\tvalidation_0-mlogloss:0.89050\tvalidation_0-macro1:0.59093\n",
      "[150]\tvalidation_0-mlogloss:0.88598\tvalidation_0-macro1:0.60269\n",
      "[200]\tvalidation_0-mlogloss:0.88597\tvalidation_0-macro1:0.62142\n",
      "[250]\tvalidation_0-mlogloss:0.88259\tvalidation_0-macro1:0.63520\n",
      "[299]\tvalidation_0-mlogloss:0.88067\tvalidation_0-macro1:0.63369\n",
      "Train F1: 0.9124479789540482\n",
      "Test F1: 0.4131010888638619\n",
      "[23:31:19] WARNING: C:/Users/Administrator/workspace/xgboost-win64_release_1.3.0/src/learner.cc:541: \n",
      "Parameters: { silent } might not be used.\n",
      "\n",
      "  This may not be accurate due to some parameters are only used in language bindings but\n",
      "  passed down to XGBoost core.  Or some parameters are not used but slip through this\n",
      "  verification. Please open an issue if you find above cases.\n",
      "\n",
      "\n",
      "[23:31:19] WARNING: C:/Users/Administrator/workspace/xgboost-win64_release_1.3.0/src/learner.cc:1061: Starting in XGBoost 1.3.0, the default evaluation metric used with the objective 'multi:softprob' was changed from 'merror' to 'mlogloss'. Explicitly set eval_metric if you'd like to restore the old behavior.\n",
      "[0]\tvalidation_0-mlogloss:1.30128\tvalidation_0-macro1:0.68225\n",
      "[50]\tvalidation_0-mlogloss:0.93110\tvalidation_0-macro1:0.59769\n",
      "[100]\tvalidation_0-mlogloss:0.93201\tvalidation_0-macro1:0.58912\n",
      "[150]\tvalidation_0-mlogloss:0.93252\tvalidation_0-macro1:0.57160\n",
      "[200]\tvalidation_0-mlogloss:0.93485\tvalidation_0-macro1:0.58269\n",
      "[250]\tvalidation_0-mlogloss:0.93577\tvalidation_0-macro1:0.58122\n",
      "[299]\tvalidation_0-mlogloss:0.93668\tvalidation_0-macro1:0.57621\n",
      "Train F1: 0.9178826270377575\n",
      "Test F1: 0.43307199619769143\n",
      "[23:31:25] WARNING: C:/Users/Administrator/workspace/xgboost-win64_release_1.3.0/src/learner.cc:541: \n",
      "Parameters: { silent } might not be used.\n",
      "\n",
      "  This may not be accurate due to some parameters are only used in language bindings but\n",
      "  passed down to XGBoost core.  Or some parameters are not used but slip through this\n",
      "  verification. Please open an issue if you find above cases.\n",
      "\n",
      "\n",
      "[23:31:25] WARNING: C:/Users/Administrator/workspace/xgboost-win64_release_1.3.0/src/learner.cc:1061: Starting in XGBoost 1.3.0, the default evaluation metric used with the objective 'multi:softprob' was changed from 'merror' to 'mlogloss'. Explicitly set eval_metric if you'd like to restore the old behavior.\n",
      "[0]\tvalidation_0-mlogloss:1.30864\tvalidation_0-macro1:0.69160\n",
      "[50]\tvalidation_0-mlogloss:0.92733\tvalidation_0-macro1:0.56798\n",
      "[100]\tvalidation_0-mlogloss:0.92265\tvalidation_0-macro1:0.56708\n",
      "[150]\tvalidation_0-mlogloss:0.92036\tvalidation_0-macro1:0.56315\n",
      "[200]\tvalidation_0-mlogloss:0.92220\tvalidation_0-macro1:0.55860\n",
      "[250]\tvalidation_0-mlogloss:0.92169\tvalidation_0-macro1:0.56802\n",
      "[299]\tvalidation_0-mlogloss:0.92271\tvalidation_0-macro1:0.56818\n",
      "Train F1: 0.89402246734799\n",
      "Test F1: 0.4443421258632525\n",
      "[23:31:32] WARNING: C:/Users/Administrator/workspace/xgboost-win64_release_1.3.0/src/learner.cc:541: \n",
      "Parameters: { silent } might not be used.\n",
      "\n",
      "  This may not be accurate due to some parameters are only used in language bindings but\n",
      "  passed down to XGBoost core.  Or some parameters are not used but slip through this\n",
      "  verification. Please open an issue if you find above cases.\n",
      "\n",
      "\n",
      "[23:31:32] WARNING: C:/Users/Administrator/workspace/xgboost-win64_release_1.3.0/src/learner.cc:1061: Starting in XGBoost 1.3.0, the default evaluation metric used with the objective 'multi:softprob' was changed from 'merror' to 'mlogloss'. Explicitly set eval_metric if you'd like to restore the old behavior.\n",
      "[0]\tvalidation_0-mlogloss:1.29598\tvalidation_0-macro1:0.61541\n",
      "[50]\tvalidation_0-mlogloss:0.90862\tvalidation_0-macro1:0.58183\n",
      "[100]\tvalidation_0-mlogloss:0.90383\tvalidation_0-macro1:0.58173\n",
      "[150]\tvalidation_0-mlogloss:0.89775\tvalidation_0-macro1:0.57942\n",
      "[200]\tvalidation_0-mlogloss:0.89763\tvalidation_0-macro1:0.58280\n",
      "[250]\tvalidation_0-mlogloss:0.89796\tvalidation_0-macro1:0.58158\n",
      "[299]\tvalidation_0-mlogloss:0.89823\tvalidation_0-macro1:0.58293\n",
      "Train F1: 0.86808350650277\n",
      "Test F1: 0.44888787527181384\n",
      "[23:31:40] WARNING: C:/Users/Administrator/workspace/xgboost-win64_release_1.3.0/src/learner.cc:541: \n",
      "Parameters: { silent } might not be used.\n",
      "\n",
      "  This may not be accurate due to some parameters are only used in language bindings but\n",
      "  passed down to XGBoost core.  Or some parameters are not used but slip through this\n",
      "  verification. Please open an issue if you find above cases.\n",
      "\n",
      "\n",
      "[23:31:40] WARNING: C:/Users/Administrator/workspace/xgboost-win64_release_1.3.0/src/learner.cc:1061: Starting in XGBoost 1.3.0, the default evaluation metric used with the objective 'multi:softprob' was changed from 'merror' to 'mlogloss'. Explicitly set eval_metric if you'd like to restore the old behavior.\n",
      "[0]\tvalidation_0-mlogloss:1.30402\tvalidation_0-macro1:0.66065\n",
      "[50]\tvalidation_0-mlogloss:0.91008\tvalidation_0-macro1:0.56998\n",
      "[100]\tvalidation_0-mlogloss:0.90577\tvalidation_0-macro1:0.54980\n"
     ]
    },
    {
     "name": "stdout",
     "output_type": "stream",
     "text": [
      "[150]\tvalidation_0-mlogloss:0.90260\tvalidation_0-macro1:0.55784\n",
      "[200]\tvalidation_0-mlogloss:0.90185\tvalidation_0-macro1:0.56932\n",
      "[250]\tvalidation_0-mlogloss:0.90101\tvalidation_0-macro1:0.55274\n",
      "[299]\tvalidation_0-mlogloss:0.90182\tvalidation_0-macro1:0.56280\n",
      "Train F1: 0.9121177304574287\n",
      "Test F1: 0.45772563588510834\n",
      "[23:31:47] WARNING: C:/Users/Administrator/workspace/xgboost-win64_release_1.3.0/src/learner.cc:541: \n",
      "Parameters: { silent } might not be used.\n",
      "\n",
      "  This may not be accurate due to some parameters are only used in language bindings but\n",
      "  passed down to XGBoost core.  Or some parameters are not used but slip through this\n",
      "  verification. Please open an issue if you find above cases.\n",
      "\n",
      "\n",
      "[23:31:47] WARNING: C:/Users/Administrator/workspace/xgboost-win64_release_1.3.0/src/learner.cc:1061: Starting in XGBoost 1.3.0, the default evaluation metric used with the objective 'multi:softprob' was changed from 'merror' to 'mlogloss'. Explicitly set eval_metric if you'd like to restore the old behavior.\n",
      "[0]\tvalidation_0-mlogloss:1.29922\tvalidation_0-macro1:0.63620\n",
      "[50]\tvalidation_0-mlogloss:0.88286\tvalidation_0-macro1:0.56866\n",
      "[100]\tvalidation_0-mlogloss:0.87406\tvalidation_0-macro1:0.55138\n",
      "[150]\tvalidation_0-mlogloss:0.87344\tvalidation_0-macro1:0.54867\n",
      "[200]\tvalidation_0-mlogloss:0.87268\tvalidation_0-macro1:0.55747\n",
      "[250]\tvalidation_0-mlogloss:0.87244\tvalidation_0-macro1:0.56708\n",
      "[299]\tvalidation_0-mlogloss:0.87208\tvalidation_0-macro1:0.55686\n",
      "Train F1: 0.9197628298915272\n",
      "Test F1: 0.4546057263444401\n"
     ]
    }
   ],
   "source": [
    "clfs = []\n",
    "for i in range(15):\n",
    "    clf = xgb.XGBClassifier(random_state=217*i, n_estimators=300, learning_rate=0.15, n_jobs=-1, **opt_parameters)\n",
    "    \n",
    "    clfs.append(('xgb{}'.format(i), clf))\n",
    "    \n",
    "vc = VotingClassifierLGBM(clfs, voting='soft')\n",
    "\n",
    "_ = vc.fit(X_train.drop(xgb_drop_cols, axis=1), y_train, sample_weight=y_train_weights, threshold=False, **fit_params)\n",
    "\n",
    "clf_final = vc.estimators_[0]"
   ]
  },
  {
   "cell_type": "code",
   "execution_count": 185,
   "metadata": {
    "ExecuteTime": {
     "end_time": "2021-02-08T14:34:43.992594Z",
     "start_time": "2021-02-08T14:34:43.828446Z"
    }
   },
   "outputs": [
    {
     "name": "stdout",
     "output_type": "stream",
     "text": [
      "단일 lgbm 분류기 교차 평가 점수: 0.8463\n",
      "3 lgbm + soft 보팅: 0.9342\n",
      "3 lgbm + hard 보팅: 0.9361\n"
     ]
    }
   ],
   "source": [
    "global_score = f1_score(y_test, clf_final.predict(X_test.drop(xgb_drop_cols, axis=1)), average='macro')\n",
    "vc.voting = 'soft'\n",
    "global_score_soft = f1_score(y_test, vc.predict(X_test.drop(xgb_drop_cols, axis=1)), average='macro')\n",
    "vc.voting = 'hard'\n",
    "global_score_hard = f1_score(y_test, vc.predict(X_test.drop(xgb_drop_cols, axis=1)), average='macro')\n",
    "\n",
    "print('단일 lgbm 분류기 교차 평가 점수: {:.4f}'.format(global_score))\n",
    "print('3 lgbm + soft 보팅: {:.4f}'.format(global_score_soft))\n",
    "print('3 lgbm + hard 보팅: {:.4f}'.format(global_score_hard))"
   ]
  },
  {
   "cell_type": "code",
   "execution_count": 186,
   "metadata": {
    "ExecuteTime": {
     "end_time": "2021-02-08T14:36:08.840614Z",
     "start_time": "2021-02-08T14:36:07.548441Z"
    }
   },
   "outputs": [
    {
     "data": {
      "text/plain": [
       "{'agg18_estadocivil3_COUNT',\n",
       " 'agg18_estadocivil4_COUNT',\n",
       " 'agg18_estadocivil5_COUNT',\n",
       " 'agg18_parentesco10_MEAN',\n",
       " 'fe_human_bed_density',\n",
       " 'fe_people_weird_stat',\n",
       " 'geo_elimbasu_LE_3',\n",
       " 'geo_energcocinar_LE_0',\n",
       " 'geo_epared_LE_2',\n",
       " 'geo_eviv_LE_0',\n",
       " 'geo_manual_elec_LE_3',\n",
       " 'geo_manual_elec_LE_4',\n",
       " 'geo_pared_LE_0',\n",
       " 'geo_pared_LE_1',\n",
       " 'geo_sanitario_LE_0',\n",
       " 'geo_sanitario_LE_2',\n",
       " 'hacapo'}"
      ]
     },
     "execution_count": 186,
     "metadata": {},
     "output_type": "execute_result"
    }
   ],
   "source": [
    "useless_features = []\n",
    "drop_features = set()\n",
    "counter = 0\n",
    "for est in vc.estimators_:\n",
    "    ranked_features, unused_features = feature_importance(est, X_train.drop(xgb_drop_cols, axis=1), display_results=False)\n",
    "    useless_features.append(unused_features)\n",
    "    if counter == 0:\n",
    "        drop_features = set(unused_features)\n",
    "    else:\n",
    "        drop_features = drop_features.intersection(set(unused_features))\n",
    "        counter+=1\n",
    "        \n",
    "drop_features"
   ]
  },
  {
   "cell_type": "code",
   "execution_count": 187,
   "metadata": {
    "ExecuteTime": {
     "end_time": "2021-02-08T14:36:27.340407Z",
     "start_time": "2021-02-08T14:36:27.237313Z"
    }
   },
   "outputs": [
    {
     "name": "stdout",
     "output_type": "stream",
     "text": [
      "Feature ranking:\n",
      "1. feature 59 (0.022441) - agg18_escolari_MAX\n",
      "2. feature 85 (0.021199) - edjef\n",
      "3. feature 42 (0.017726) - fe_children_fraction\n",
      "4. feature 123 (0.015770) - geo_sanitario_LE_0\n",
      "5. feature 119 (0.015614) - geo_elimbasu_LE_3\n",
      "6. feature 17 (0.015298) - male\n",
      "7. feature 74 (0.015210) - agg18_parentesco2_MEAN\n",
      "8. feature 37 (0.014125) - SQBedjefe\n",
      "9. feature 3 (0.013019) - hacapo\n",
      "10. feature 107 (0.011342) - geo_overcrowding\n",
      "11. feature 104 (0.011086) - geo_hogar_adul\n",
      "12. feature 112 (0.011028) - geo_etecho_LE_1\n",
      "13. feature 22 (0.010883) - dependency\n",
      "14. feature 35 (0.010827) - SQBage\n",
      "15. feature 41 (0.010744) - SQBmeaned\n",
      "16. feature 15 (0.010707) - cielorazo\n",
      "17. feature 110 (0.010428) - geo_eviv_LE_2\n",
      "18. feature 87 (0.010364) - piso_LE\n",
      "19. feature 10 (0.010159) - r4m2\n",
      "20. feature 38 (0.009978) - SQBhogar_nin\n",
      "21. feature 60 (0.009952) - agg18_escolari_MEAN\n",
      "22. feature 109 (0.009545) - geo_eviv_LE_1\n",
      "23. feature 12 (0.009511) - r4t1\n",
      "24. feature 49 (0.009490) - fe_mobile_density\n",
      "25. feature 65 (0.009468) - agg18_estadocivil3_MEAN\n",
      "26. feature 129 (0.009422) - geo_manual_elec_LE_1\n",
      "27. feature 117 (0.009359) - geo_elimbasu_LE_1\n",
      "28. feature 105 (0.009260) - geo_hogar_total\n",
      "29. feature 19 (0.009097) - hogar_adul\n",
      "30. feature 8 (0.009020) - r4h3\n",
      "31. feature 62 (0.008956) - agg18_estadocivil1_COUNT\n",
      "32. feature 137 (0.008927) - rent_to_rooms\n",
      "33. feature 102 (0.008822) - geo_dependency\n",
      "34. feature 23 (0.008691) - edjefe\n",
      "35. feature 95 (0.008676) - eviv_LE\n",
      "36. feature 9 (0.008572) - r4m1\n",
      "37. feature 94 (0.008555) - etecho_LE\n",
      "38. feature 127 (0.008521) - geo_sanitario_LE_4\n",
      "39. feature 96 (0.008432) - estadocivil_LE\n",
      "40. feature 71 (0.008423) - agg18_estadocivil6_MEAN\n",
      "41. feature 120 (0.008417) - geo_elimbasu_LE_5\n",
      "42. feature 63 (0.008359) - agg18_estadocivil2_MEAN\n",
      "43. feature 93 (0.008187) - epared_LE\n",
      "44. feature 40 (0.008160) - SQBdependency\n",
      "45. feature 21 (0.008141) - hogar_total\n",
      "46. feature 55 (0.008135) - agg18_age_MIN\n",
      "47. feature 14 (0.008089) - escolari\n",
      "48. feature 27 (0.008041) - overcrowding\n",
      "49. feature 91 (0.008033) - energcocinar_LE\n",
      "50. feature 97 (0.007974) - lugar_LE\n",
      "51. feature 58 (0.007965) - agg18_escolari_MIN\n",
      "52. feature 98 (0.007956) - tipovivi_LE\n",
      "53. feature 47 (0.007820) - fe_rent_per_person\n",
      "54. feature 69 (0.007818) - agg18_estadocivil5_MEAN\n",
      "55. feature 33 (0.007753) - age\n",
      "56. feature 100 (0.007743) - geo_age\n",
      "57. feature 44 (0.007713) - fe_all_man_fraction\n",
      "58. feature 32 (0.007708) - area2\n",
      "59. feature 122 (0.007707) - geo_energcocinar_LE_3\n",
      "60. feature 106 (0.007685) - geo_bedrooms\n",
      "61. feature 51 (0.007627) - fe_mobile_adult_density\n",
      "62. feature 31 (0.007581) - area1\n",
      "63. feature 136 (0.007576) - bedrooms_to_rooms\n",
      "64. feature 128 (0.007513) - geo_manual_elec_LE_0\n",
      "65. feature 43 (0.007294) - fe_working_man_fraction\n",
      "66. feature 34 (0.007233) - SQBescolari\n",
      "67. feature 25 (0.007219) - meaneduc\n",
      "68. feature 7 (0.007215) - r4h2\n",
      "69. feature 114 (0.007154) - geo_epared_LE_1\n",
      "70. feature 86 (0.007149) - pared_LE\n",
      "71. feature 125 (0.007097) - geo_sanitario_LE_2\n",
      "72. feature 75 (0.007059) - agg18_parentesco3_MEAN\n",
      "73. feature 56 (0.007027) - agg18_age_MAX\n",
      "74. feature 90 (0.007011) - sanitario_LE\n",
      "75. feature 6 (0.006968) - r4h1\n",
      "76. feature 26 (0.006873) - bedrooms\n",
      "77. feature 30 (0.006855) - qmobilephone\n",
      "78. feature 0 (0.006828) - v2a1\n",
      "79. feature 64 (0.006727) - agg18_estadocivil2_COUNT\n",
      "80. feature 13 (0.006723) - r4t2\n",
      "81. feature 45 (0.006667) - fe_human_density\n",
      "82. feature 1 (0.006649) - hacdor\n",
      "83. feature 11 (0.006600) - r4m3\n",
      "84. feature 39 (0.006592) - SQBovercrowding\n",
      "85. feature 124 (0.006581) - geo_sanitario_LE_1\n",
      "86. feature 72 (0.006562) - agg18_estadocivil7_MEAN\n",
      "87. feature 116 (0.006545) - geo_elimbasu_LE_0\n",
      "88. feature 57 (0.006480) - agg18_age_MEAN\n",
      "89. feature 140 (0.006454) - r4t3_to_rooms\n",
      "90. feature 24 (0.006333) - edjefa\n",
      "91. feature 52 (0.006314) - fe_tablet_adult_density\n",
      "92. feature 5 (0.006280) - v18q1\n",
      "93. feature 99 (0.006257) - manual_elec_LE\n",
      "94. feature 61 (0.006256) - agg18_dis_MEAN\n",
      "95. feature 4 (0.006113) - refrig\n",
      "96. feature 111 (0.006095) - geo_etecho_LE_0\n",
      "97. feature 48 (0.006049) - fe_rent_per_room\n",
      "98. feature 144 (0.005988) - rent_to_hhsize\n",
      "99. feature 29 (0.005974) - television\n",
      "100. feature 18 (0.005917) - hogar_nin\n",
      "101. feature 92 (0.005864) - elimbasu_LE\n",
      "102. feature 16 (0.005849) - dis\n",
      "103. feature 50 (0.005785) - fe_tablet_density\n",
      "104. feature 2 (0.005768) - rooms\n",
      "105. feature 138 (0.005650) - tamhog_to_rooms\n",
      "106. feature 141 (0.005374) - v2a1_to_r4t3\n",
      "107. feature 126 (0.005177) - geo_sanitario_LE_3\n",
      "108. feature 101 (0.005047) - geo_meaneduc\n",
      "109. feature 20 (0.005003) - hogar_mayor\n",
      "110. feature 36 (0.004961) - SQBhogar_total\n",
      "111. feature 145 (0.004906) - rent_to_over_18\n",
      "112. feature 88 (0.004834) - techo_LE\n",
      "113. feature 83 (0.004755) - agg18_parentesco11_MEAN\n",
      "114. feature 67 (0.004353) - agg18_estadocivil4_MEAN\n",
      "115. feature 131 (0.004217) - geo_manual_elec_LE_4\n",
      "116. feature 28 (0.004085) - computer\n",
      "117. feature 113 (0.004004) - geo_etecho_LE_2\n",
      "118. feature 53 (0.003859) - fe_people_not_living\n",
      "119. feature 142 (0.003785) - v2a1_to_under_12\n",
      "120. feature 76 (0.003727) - agg18_parentesco4_MEAN\n",
      "121. feature 89 (0.003681) - abastagua_LE\n",
      "122. feature 81 (0.003634) - agg18_parentesco9_MEAN\n",
      "123. feature 143 (0.003051) - hhsize_to_rooms\n",
      "124. feature 130 (0.003012) - geo_manual_elec_LE_3\n",
      "125. feature 78 (0.002550) - agg18_parentesco6_MEAN\n",
      "126. feature 77 (0.002085) - agg18_parentesco5_MEAN\n",
      "127. feature 84 (0.002078) - agg18_parentesco12_MEAN\n",
      "128. feature 79 (0.002007) - agg18_parentesco7_MEAN\n",
      "129. feature 80 (0.001794) - agg18_parentesco8_MEAN\n",
      "130. feature 139 (0.001620) - r4t3_to_tamhog\n",
      "131. feature 54 (0.000000) - fe_people_weird_stat\n",
      "132. feature 68 (0.000000) - agg18_estadocivil4_COUNT\n",
      "133. feature 134 (0.000000) - geo_pared_LE_2\n",
      "134. feature 135 (0.000000) - geo_pared_LE_7\n",
      "135. feature 46 (0.000000) - fe_human_bed_density\n",
      "136. feature 133 (0.000000) - geo_pared_LE_1\n",
      "137. feature 132 (0.000000) - geo_pared_LE_0\n",
      "138. feature 121 (0.000000) - geo_energcocinar_LE_0\n",
      "139. feature 118 (0.000000) - geo_elimbasu_LE_2\n",
      "140. feature 70 (0.000000) - agg18_estadocivil5_COUNT\n",
      "141. feature 108 (0.000000) - geo_eviv_LE_0\n",
      "142. feature 66 (0.000000) - agg18_estadocivil3_COUNT\n",
      "143. feature 103 (0.000000) - geo_hogar_nin\n",
      "144. feature 73 (0.000000) - agg18_parentesco1_MEAN\n",
      "145. feature 82 (0.000000) - agg18_parentesco10_MEAN\n",
      "146. feature 115 (0.000000) - geo_epared_LE_2\n"
     ]
    }
   ],
   "source": [
    "ranked_features = feature_importance(clf_final, X_train.drop(xgb_drop_cols, axis=1))"
   ]
  },
  {
   "cell_type": "markdown",
   "metadata": {},
   "source": [
    "### Random Forest"
   ]
  },
  {
   "cell_type": "code",
   "execution_count": 188,
   "metadata": {
    "ExecuteTime": {
     "end_time": "2021-02-08T14:36:42.958584Z",
     "start_time": "2021-02-08T14:36:42.946573Z"
    }
   },
   "outputs": [],
   "source": [
    "et_drop_cols = ['agg18_age_MAX', 'agg18_age_MEAN', 'agg18_age_MIN', 'agg18_dis_MEAN',\n",
    "       'agg18_escolari_MAX', 'agg18_escolari_MEAN', 'agg18_escolari_MIN',\n",
    "       'agg18_estadocivil1_COUNT', 'agg18_estadocivil1_MEAN',\n",
    "       'agg18_estadocivil2_COUNT', 'agg18_estadocivil2_MEAN',\n",
    "       'agg18_estadocivil3_COUNT', 'agg18_estadocivil3_MEAN',\n",
    "       'agg18_estadocivil4_COUNT', 'agg18_estadocivil4_MEAN',\n",
    "       'agg18_estadocivil5_COUNT', 'agg18_estadocivil5_MEAN',\n",
    "       'agg18_estadocivil6_COUNT', 'agg18_estadocivil6_MEAN',\n",
    "       'agg18_estadocivil7_COUNT', 'agg18_estadocivil7_MEAN',\n",
    "       'agg18_parentesco10_COUNT', 'agg18_parentesco10_MEAN',\n",
    "       'agg18_parentesco11_COUNT', 'agg18_parentesco11_MEAN',\n",
    "       'agg18_parentesco12_COUNT', 'agg18_parentesco12_MEAN',\n",
    "       'agg18_parentesco1_COUNT', 'agg18_parentesco1_MEAN',\n",
    "       'agg18_parentesco2_COUNT', 'agg18_parentesco2_MEAN',\n",
    "       'agg18_parentesco3_COUNT', 'agg18_parentesco3_MEAN',\n",
    "       'agg18_parentesco4_COUNT', 'agg18_parentesco4_MEAN',\n",
    "       'agg18_parentesco5_COUNT', 'agg18_parentesco5_MEAN',\n",
    "       'agg18_parentesco6_COUNT', 'agg18_parentesco6_MEAN',\n",
    "       'agg18_parentesco7_COUNT', 'agg18_parentesco7_MEAN',\n",
    "       'agg18_parentesco8_COUNT', 'agg18_parentesco8_MEAN',\n",
    "       'agg18_parentesco9_COUNT', 'agg18_parentesco9_MEAN']\n",
    "\n",
    "et_drop_cols.extend(['idhogar', 'parentesco1', 'fe_rent_per_person', 'fe_rent_per_room', 'fe_tablet_adult_density', 'fe_tablet_density'])"
   ]
  },
  {
   "cell_type": "code",
   "execution_count": 189,
   "metadata": {
    "ExecuteTime": {
     "end_time": "2021-02-08T14:38:32.250792Z",
     "start_time": "2021-02-08T14:38:19.198945Z"
    }
   },
   "outputs": [
    {
     "name": "stdout",
     "output_type": "stream",
     "text": [
      "Train F1: 0.8960097986045293\n",
      "Test F1: 0.4197620915001753\n",
      "Train F1: 0.8949242875694011\n",
      "Test F1: 0.3962328973434437\n",
      "Train F1: 0.8896363360215604\n",
      "Test F1: 0.3990621498954871\n",
      "Train F1: 0.8916606744530696\n",
      "Test F1: 0.4209929529814863\n",
      "Train F1: 0.8930001004603103\n",
      "Test F1: 0.4563449843062528\n",
      "Train F1: 0.8952465781659489\n",
      "Test F1: 0.4276967858518299\n",
      "Train F1: 0.8917648965754281\n",
      "Test F1: 0.4154181763083784\n",
      "Train F1: 0.8935472605642061\n",
      "Test F1: 0.4749914411703019\n",
      "Train F1: 0.9055709347245716\n",
      "Test F1: 0.4316801709058267\n",
      "Train F1: 0.8944678384804032\n",
      "Test F1: 0.4192605691105316\n"
     ]
    }
   ],
   "source": [
    "ets = []\n",
    "for i in range(10):\n",
    "    rf = RandomForestClassifier(max_depth=None, random_state=217*i, n_jobs=-1, n_estimators=700, min_impurity_decrease=1e-3, min_samples_leaf=2, verbose=0, class_weight='balanced')\n",
    "    ets.append(('rf{}'.format(i), rf))\n",
    "    \n",
    "vc2 = VotingClassifierLGBM(ets, voting='soft')\n",
    "_ = vc2.fit(X_train.drop(et_drop_cols, axis=1), y_train, threshold=False)"
   ]
  },
  {
   "cell_type": "code",
   "execution_count": 190,
   "metadata": {
    "ExecuteTime": {
     "end_time": "2021-02-08T14:41:31.410422Z",
     "start_time": "2021-02-08T14:41:29.629805Z"
    }
   },
   "outputs": [
    {
     "name": "stdout",
     "output_type": "stream",
     "text": [
      "Validation score of a VotingClassifier on 3 LGBM with soft voting strategy: 0.8830\n",
      "Validation score of a VotingClassifier on 3 LGBM with hard voting strategy: 0.8981\n"
     ]
    }
   ],
   "source": [
    "vc2.voting = 'soft'\n",
    "global_rf_score_soft = f1_score(y_test, vc2.predict(X_test.drop(et_drop_cols, axis=1)), average='macro')\n",
    "vc2.voting = 'hard'\n",
    "global_rf_score_hard = f1_score(y_test, vc2.predict(X_test.drop(et_drop_cols, axis=1)), average='macro')\n",
    "\n",
    "print('Validation score of a VotingClassifier on 3 LGBM with soft voting strategy: {:.4f}'.format(global_rf_score_soft))\n",
    "print('Validation score of a VotingClassifier on 3 LGBM with hard voting strategy: {:.4f}'.format(global_rf_score_hard))"
   ]
  },
  {
   "cell_type": "code",
   "execution_count": 191,
   "metadata": {
    "ExecuteTime": {
     "end_time": "2021-02-08T14:42:59.156071Z",
     "start_time": "2021-02-08T14:42:58.606572Z"
    }
   },
   "outputs": [
    {
     "data": {
      "text/plain": [
       "{'parentesco_LE', 'rez_esc'}"
      ]
     },
     "execution_count": 191,
     "metadata": {},
     "output_type": "execute_result"
    }
   ],
   "source": [
    "useless_features = []\n",
    "drop_features = set()\n",
    "counter = 0\n",
    "for est in vc2.estimators_:\n",
    "    ranked_features, unused_features = feature_importance(est, X_train.drop(et_drop_cols, axis=1), display_results=False)\n",
    "    useless_features.append(unused_features)\n",
    "    if counter == 0:\n",
    "        drop_features = set(unused_features)\n",
    "    else:\n",
    "        drop_features = drop_features.intersection(set(unused_features))\n",
    "    counter += 1\n",
    "    \n",
    "drop_features"
   ]
  },
  {
   "cell_type": "code",
   "execution_count": 198,
   "metadata": {
    "ExecuteTime": {
     "end_time": "2021-02-08T14:46:14.431329Z",
     "start_time": "2021-02-08T14:46:14.415315Z"
    }
   },
   "outputs": [],
   "source": [
    "def combine_voters(data, weights=[0.5, 0.5]):\n",
    "    vc.voting = 'soft'\n",
    "    vc1_probs = vc.predict_proba(data.drop(xgb_drop_cols, axis=1))\n",
    "    vc2.voting = 'soft'\n",
    "    vc2_probs = vc2.predict_proba(data.drop(et_drop_cols, axis=1))\n",
    "    \n",
    "    final_vote = (vc1_probs * weights[0]) + (vc2_probs * weights[1])\n",
    "    predictions = np.argmax(final_vote, axis=1)\n",
    "    \n",
    "    return predictions"
   ]
  },
  {
   "cell_type": "code",
   "execution_count": 199,
   "metadata": {
    "ExecuteTime": {
     "end_time": "2021-02-08T14:46:15.934694Z",
     "start_time": "2021-02-08T14:46:15.024868Z"
    }
   },
   "outputs": [
    {
     "data": {
      "text/plain": [
       "0.9256488044654121"
      ]
     },
     "execution_count": 199,
     "metadata": {},
     "output_type": "execute_result"
    }
   ],
   "source": [
    "combo_preds = combine_voters(X_test, weights=[0.5, 0.5])\n",
    "global_combo_score_soft = f1_score(y_test, combo_preds, average='macro')\n",
    "global_combo_score_soft"
   ]
  },
  {
   "cell_type": "code",
   "execution_count": 200,
   "metadata": {
    "ExecuteTime": {
     "end_time": "2021-02-08T14:46:27.558245Z",
     "start_time": "2021-02-08T14:46:26.605380Z"
    }
   },
   "outputs": [
    {
     "data": {
      "text/plain": [
       "0.9169118840613286"
      ]
     },
     "execution_count": 200,
     "metadata": {},
     "output_type": "execute_result"
    }
   ],
   "source": [
    "combo_preds = combine_voters(X_test, weights=[0.4, 0.6])\n",
    "global_combo_score_soft = f1_score(y_test, combo_preds, average='macro')\n",
    "global_combo_score_soft"
   ]
  },
  {
   "cell_type": "code",
   "execution_count": 201,
   "metadata": {
    "ExecuteTime": {
     "end_time": "2021-02-08T14:46:33.137310Z",
     "start_time": "2021-02-08T14:46:32.205464Z"
    }
   },
   "outputs": [
    {
     "data": {
      "text/plain": [
       "0.9297333720410643"
      ]
     },
     "execution_count": 201,
     "metadata": {},
     "output_type": "execute_result"
    }
   ],
   "source": [
    "combo_preds = combine_voters(X_test, weights=[0.6, 0.4])\n",
    "global_combo_score_soft = f1_score(y_test, combo_preds, average='macro')\n",
    "global_combo_score_soft"
   ]
  },
  {
   "cell_type": "markdown",
   "metadata": {},
   "source": [
    "### Prepare submission"
   ]
  },
  {
   "cell_type": "code",
   "execution_count": 202,
   "metadata": {
    "ExecuteTime": {
     "end_time": "2021-02-08T14:46:57.652563Z",
     "start_time": "2021-02-08T14:46:57.638550Z"
    }
   },
   "outputs": [],
   "source": [
    "y_subm = pd.DataFrame()\n",
    "y_subm['Id'] = test_ids"
   ]
  },
  {
   "cell_type": "code",
   "execution_count": 203,
   "metadata": {
    "ExecuteTime": {
     "end_time": "2021-02-08T14:48:29.452893Z",
     "start_time": "2021-02-08T14:48:22.857907Z"
    }
   },
   "outputs": [],
   "source": [
    "vc.voting = 'soft'\n",
    "y_subm_lgb = y_subm.copy(deep=True)\n",
    "y_subm_lgb['Target'] = vc.predict(test.drop(xgb_drop_cols, axis=1)) + 1\n",
    "\n",
    "vc2.voting = 'soft'\n",
    "y_subm_rf = y_subm.copy(deep=True)\n",
    "y_subm_rf['Target'] = vc2.predict(test.drop(et_drop_cols, axis=1)) + 1\n",
    "\n",
    "y_subm_ens = y_subm.copy(deep=True)\n",
    "y_subm_ens['Target'] = combine_voters(test) + 1"
   ]
  },
  {
   "cell_type": "code",
   "execution_count": 204,
   "metadata": {
    "ExecuteTime": {
     "end_time": "2021-02-08T14:50:26.246911Z",
     "start_time": "2021-02-08T14:50:26.157830Z"
    }
   },
   "outputs": [],
   "source": [
    "from datetime import datetime\n",
    "now = datetime.now()\n",
    "\n",
    "sub_file_lgb = 'submission_soft_XGB_{:.4f}_{}.csv'.format(global_score_soft, str(now.strftime('%Y-%m-%d-%H-%M')))\n",
    "sub_file_rf = 'submission_soft_RF_{:.4f}_{}.csv'.format(global_rf_score_soft, str(now.strftime('%Y-%m-%d-%H-%M')))\n",
    "sub_file_rns = 'submission_soft_ens_{:.4f}_{}.csv'.format(global_combo_score_soft, str(now.strftime('%Y-%m-%d-%H-%M')))\n",
    "\n",
    "y_subm_lgb.to_csv(sub_file_lgb, index=False)\n",
    "y_subm_rf.to_csv(sub_file_rf, index=False)\n",
    "y_subm_ens.to_csv(sub_file_ens, index=False)"
   ]
  }
 ],
 "metadata": {
  "kernelspec": {
   "display_name": "Python 3",
   "language": "python",
   "name": "python3"
  },
  "language_info": {
   "codemirror_mode": {
    "name": "ipython",
    "version": 3
   },
   "file_extension": ".py",
   "mimetype": "text/x-python",
   "name": "python",
   "nbconvert_exporter": "python",
   "pygments_lexer": "ipython3",
   "version": "3.8.5"
  },
  "toc": {
   "base_numbering": 1,
   "nav_menu": {},
   "number_sections": false,
   "sideBar": true,
   "skip_h1_title": false,
   "title_cell": "Table of Contents",
   "title_sidebar": "Contents",
   "toc_cell": false,
   "toc_position": {},
   "toc_section_display": true,
   "toc_window_display": false
  },
  "varInspector": {
   "cols": {
    "lenName": 16,
    "lenType": 16,
    "lenVar": 40
   },
   "kernels_config": {
    "python": {
     "delete_cmd_postfix": "",
     "delete_cmd_prefix": "del ",
     "library": "var_list.py",
     "varRefreshCmd": "print(var_dic_list())"
    },
    "r": {
     "delete_cmd_postfix": ") ",
     "delete_cmd_prefix": "rm(",
     "library": "var_list.r",
     "varRefreshCmd": "cat(var_dic_list()) "
    }
   },
   "types_to_exclude": [
    "module",
    "function",
    "builtin_function_or_method",
    "instance",
    "_Feature"
   ],
   "window_display": false
  }
 },
 "nbformat": 4,
 "nbformat_minor": 4
}
