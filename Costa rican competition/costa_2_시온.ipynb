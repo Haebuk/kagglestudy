{
 "cells": [
  {
   "cell_type": "markdown",
   "id": "mature-dakota",
   "metadata": {},
   "source": [
    "# 3250feats->532 feats using shap[LB: 0.436]"
   ]
  },
  {
   "cell_type": "markdown",
   "id": "pacific-county",
   "metadata": {},
   "source": [
    "참고 : https://www.kaggle.com/youhanlee/3250feats-532-feats-using-shap-lb-0-436"
   ]
  },
  {
   "cell_type": "code",
   "execution_count": 1,
   "id": "hungarian-bronze",
   "metadata": {
    "ExecuteTime": {
     "end_time": "2021-02-06T15:45:40.044401Z",
     "start_time": "2021-02-06T15:45:36.867703Z"
    },
    "scrolled": false
   },
   "outputs": [],
   "source": [
    "import pandas as pd\n",
    "import numpy as np\n",
    "\n",
    "import seaborn as sns\n",
    "import matplotlib.pyplot as plt\n",
    "\n",
    "sns.set(font_scale=2.2)\n",
    "plt.style.use('seaborn')\n",
    "\n",
    "from sklearn.preprocessing import LabelEncoder, MinMaxScaler, StandardScaler, OneHotEncoder\n",
    "from sklearn.model_selection import StratifiedKFold, train_test_split, ShuffleSplit\n",
    "from sklearn.metrics import f1_score\n",
    "import itertools\n",
    "import lightgbm as lgb\n",
    "import xgboost as xgb\n",
    "from xgboost import XGBClassifier\n",
    "#import shap\n",
    "from tqdm import tqdm   ### 진행표시바\n",
    "import featuretools as ft\n",
    "import warnings\n",
    "warnings.filterwarnings('ignore')\n",
    "import time"
   ]
  },
  {
   "cell_type": "markdown",
   "id": "anticipated-intensity",
   "metadata": {},
   "source": [
    "# 1. Check datasets"
   ]
  },
  {
   "cell_type": "markdown",
   "id": "reduced-civilization",
   "metadata": {},
   "source": [
    "## 1.1. Read dataset"
   ]
  },
  {
   "cell_type": "code",
   "execution_count": 2,
   "id": "english-portugal",
   "metadata": {
    "ExecuteTime": {
     "end_time": "2021-02-06T15:45:40.424542Z",
     "start_time": "2021-02-06T15:45:40.048260Z"
    }
   },
   "outputs": [],
   "source": [
    "df_train = pd.read_csv('../input/train.csv')\n",
    "df_test = pd.read_csv('../input/test.csv')"
   ]
  },
  {
   "cell_type": "code",
   "execution_count": 3,
   "id": "impressed-duplicate",
   "metadata": {
    "ExecuteTime": {
     "end_time": "2021-02-06T15:45:40.439880Z",
     "start_time": "2021-02-06T15:45:40.427915Z"
    }
   },
   "outputs": [
    {
     "name": "stdout",
     "output_type": "stream",
     "text": [
      "df_train shape : (9557, 143)    df_test shape : (23856, 142)\n"
     ]
    }
   ],
   "source": [
    "print('df_train shape :', df_train.shape, '  ', 'df_test shape :', df_test.shape)"
   ]
  },
  {
   "cell_type": "code",
   "execution_count": 4,
   "id": "standing-jersey",
   "metadata": {
    "ExecuteTime": {
     "end_time": "2021-02-06T15:45:40.487751Z",
     "start_time": "2021-02-06T15:45:40.442871Z"
    }
   },
   "outputs": [
    {
     "data": {
      "text/html": [
       "<div>\n",
       "<style scoped>\n",
       "    .dataframe tbody tr th:only-of-type {\n",
       "        vertical-align: middle;\n",
       "    }\n",
       "\n",
       "    .dataframe tbody tr th {\n",
       "        vertical-align: top;\n",
       "    }\n",
       "\n",
       "    .dataframe thead th {\n",
       "        text-align: right;\n",
       "    }\n",
       "</style>\n",
       "<table border=\"1\" class=\"dataframe\">\n",
       "  <thead>\n",
       "    <tr style=\"text-align: right;\">\n",
       "      <th></th>\n",
       "      <th>Id</th>\n",
       "      <th>v2a1</th>\n",
       "      <th>hacdor</th>\n",
       "      <th>rooms</th>\n",
       "      <th>hacapo</th>\n",
       "      <th>v14a</th>\n",
       "      <th>refrig</th>\n",
       "      <th>v18q</th>\n",
       "      <th>v18q1</th>\n",
       "      <th>r4h1</th>\n",
       "      <th>...</th>\n",
       "      <th>SQBescolari</th>\n",
       "      <th>SQBage</th>\n",
       "      <th>SQBhogar_total</th>\n",
       "      <th>SQBedjefe</th>\n",
       "      <th>SQBhogar_nin</th>\n",
       "      <th>SQBovercrowding</th>\n",
       "      <th>SQBdependency</th>\n",
       "      <th>SQBmeaned</th>\n",
       "      <th>agesq</th>\n",
       "      <th>Target</th>\n",
       "    </tr>\n",
       "  </thead>\n",
       "  <tbody>\n",
       "    <tr>\n",
       "      <th>0</th>\n",
       "      <td>ID_279628684</td>\n",
       "      <td>190000.0</td>\n",
       "      <td>0</td>\n",
       "      <td>3</td>\n",
       "      <td>0</td>\n",
       "      <td>1</td>\n",
       "      <td>1</td>\n",
       "      <td>0</td>\n",
       "      <td>NaN</td>\n",
       "      <td>0</td>\n",
       "      <td>...</td>\n",
       "      <td>100</td>\n",
       "      <td>1849</td>\n",
       "      <td>1</td>\n",
       "      <td>100</td>\n",
       "      <td>0</td>\n",
       "      <td>1.000000</td>\n",
       "      <td>0.0</td>\n",
       "      <td>100.0</td>\n",
       "      <td>1849</td>\n",
       "      <td>4</td>\n",
       "    </tr>\n",
       "    <tr>\n",
       "      <th>1</th>\n",
       "      <td>ID_f29eb3ddd</td>\n",
       "      <td>135000.0</td>\n",
       "      <td>0</td>\n",
       "      <td>4</td>\n",
       "      <td>0</td>\n",
       "      <td>1</td>\n",
       "      <td>1</td>\n",
       "      <td>1</td>\n",
       "      <td>1.0</td>\n",
       "      <td>0</td>\n",
       "      <td>...</td>\n",
       "      <td>144</td>\n",
       "      <td>4489</td>\n",
       "      <td>1</td>\n",
       "      <td>144</td>\n",
       "      <td>0</td>\n",
       "      <td>1.000000</td>\n",
       "      <td>64.0</td>\n",
       "      <td>144.0</td>\n",
       "      <td>4489</td>\n",
       "      <td>4</td>\n",
       "    </tr>\n",
       "    <tr>\n",
       "      <th>2</th>\n",
       "      <td>ID_68de51c94</td>\n",
       "      <td>NaN</td>\n",
       "      <td>0</td>\n",
       "      <td>8</td>\n",
       "      <td>0</td>\n",
       "      <td>1</td>\n",
       "      <td>1</td>\n",
       "      <td>0</td>\n",
       "      <td>NaN</td>\n",
       "      <td>0</td>\n",
       "      <td>...</td>\n",
       "      <td>121</td>\n",
       "      <td>8464</td>\n",
       "      <td>1</td>\n",
       "      <td>0</td>\n",
       "      <td>0</td>\n",
       "      <td>0.250000</td>\n",
       "      <td>64.0</td>\n",
       "      <td>121.0</td>\n",
       "      <td>8464</td>\n",
       "      <td>4</td>\n",
       "    </tr>\n",
       "    <tr>\n",
       "      <th>3</th>\n",
       "      <td>ID_d671db89c</td>\n",
       "      <td>180000.0</td>\n",
       "      <td>0</td>\n",
       "      <td>5</td>\n",
       "      <td>0</td>\n",
       "      <td>1</td>\n",
       "      <td>1</td>\n",
       "      <td>1</td>\n",
       "      <td>1.0</td>\n",
       "      <td>0</td>\n",
       "      <td>...</td>\n",
       "      <td>81</td>\n",
       "      <td>289</td>\n",
       "      <td>16</td>\n",
       "      <td>121</td>\n",
       "      <td>4</td>\n",
       "      <td>1.777778</td>\n",
       "      <td>1.0</td>\n",
       "      <td>121.0</td>\n",
       "      <td>289</td>\n",
       "      <td>4</td>\n",
       "    </tr>\n",
       "    <tr>\n",
       "      <th>4</th>\n",
       "      <td>ID_d56d6f5f5</td>\n",
       "      <td>180000.0</td>\n",
       "      <td>0</td>\n",
       "      <td>5</td>\n",
       "      <td>0</td>\n",
       "      <td>1</td>\n",
       "      <td>1</td>\n",
       "      <td>1</td>\n",
       "      <td>1.0</td>\n",
       "      <td>0</td>\n",
       "      <td>...</td>\n",
       "      <td>121</td>\n",
       "      <td>1369</td>\n",
       "      <td>16</td>\n",
       "      <td>121</td>\n",
       "      <td>4</td>\n",
       "      <td>1.777778</td>\n",
       "      <td>1.0</td>\n",
       "      <td>121.0</td>\n",
       "      <td>1369</td>\n",
       "      <td>4</td>\n",
       "    </tr>\n",
       "  </tbody>\n",
       "</table>\n",
       "<p>5 rows × 143 columns</p>\n",
       "</div>"
      ],
      "text/plain": [
       "             Id      v2a1  hacdor  rooms  hacapo  v14a  refrig  v18q  v18q1  \\\n",
       "0  ID_279628684  190000.0       0      3       0     1       1     0    NaN   \n",
       "1  ID_f29eb3ddd  135000.0       0      4       0     1       1     1    1.0   \n",
       "2  ID_68de51c94       NaN       0      8       0     1       1     0    NaN   \n",
       "3  ID_d671db89c  180000.0       0      5       0     1       1     1    1.0   \n",
       "4  ID_d56d6f5f5  180000.0       0      5       0     1       1     1    1.0   \n",
       "\n",
       "   r4h1  ...  SQBescolari  SQBage  SQBhogar_total  SQBedjefe  SQBhogar_nin  \\\n",
       "0     0  ...          100    1849               1        100             0   \n",
       "1     0  ...          144    4489               1        144             0   \n",
       "2     0  ...          121    8464               1          0             0   \n",
       "3     0  ...           81     289              16        121             4   \n",
       "4     0  ...          121    1369              16        121             4   \n",
       "\n",
       "   SQBovercrowding  SQBdependency  SQBmeaned  agesq  Target  \n",
       "0         1.000000            0.0      100.0   1849       4  \n",
       "1         1.000000           64.0      144.0   4489       4  \n",
       "2         0.250000           64.0      121.0   8464       4  \n",
       "3         1.777778            1.0      121.0    289       4  \n",
       "4         1.777778            1.0      121.0   1369       4  \n",
       "\n",
       "[5 rows x 143 columns]"
      ]
     },
     "execution_count": 4,
     "metadata": {},
     "output_type": "execute_result"
    }
   ],
   "source": [
    "df_train.head()"
   ]
  },
  {
   "cell_type": "code",
   "execution_count": 5,
   "id": "understood-rocket",
   "metadata": {
    "ExecuteTime": {
     "end_time": "2021-02-06T15:45:40.535622Z",
     "start_time": "2021-02-06T15:45:40.489746Z"
    }
   },
   "outputs": [
    {
     "data": {
      "text/html": [
       "<div>\n",
       "<style scoped>\n",
       "    .dataframe tbody tr th:only-of-type {\n",
       "        vertical-align: middle;\n",
       "    }\n",
       "\n",
       "    .dataframe tbody tr th {\n",
       "        vertical-align: top;\n",
       "    }\n",
       "\n",
       "    .dataframe thead th {\n",
       "        text-align: right;\n",
       "    }\n",
       "</style>\n",
       "<table border=\"1\" class=\"dataframe\">\n",
       "  <thead>\n",
       "    <tr style=\"text-align: right;\">\n",
       "      <th></th>\n",
       "      <th>Id</th>\n",
       "      <th>v2a1</th>\n",
       "      <th>hacdor</th>\n",
       "      <th>rooms</th>\n",
       "      <th>hacapo</th>\n",
       "      <th>v14a</th>\n",
       "      <th>refrig</th>\n",
       "      <th>v18q</th>\n",
       "      <th>v18q1</th>\n",
       "      <th>r4h1</th>\n",
       "      <th>...</th>\n",
       "      <th>age</th>\n",
       "      <th>SQBescolari</th>\n",
       "      <th>SQBage</th>\n",
       "      <th>SQBhogar_total</th>\n",
       "      <th>SQBedjefe</th>\n",
       "      <th>SQBhogar_nin</th>\n",
       "      <th>SQBovercrowding</th>\n",
       "      <th>SQBdependency</th>\n",
       "      <th>SQBmeaned</th>\n",
       "      <th>agesq</th>\n",
       "    </tr>\n",
       "  </thead>\n",
       "  <tbody>\n",
       "    <tr>\n",
       "      <th>0</th>\n",
       "      <td>ID_2f6873615</td>\n",
       "      <td>NaN</td>\n",
       "      <td>0</td>\n",
       "      <td>5</td>\n",
       "      <td>0</td>\n",
       "      <td>1</td>\n",
       "      <td>1</td>\n",
       "      <td>0</td>\n",
       "      <td>NaN</td>\n",
       "      <td>1</td>\n",
       "      <td>...</td>\n",
       "      <td>4</td>\n",
       "      <td>0</td>\n",
       "      <td>16</td>\n",
       "      <td>9</td>\n",
       "      <td>0</td>\n",
       "      <td>1</td>\n",
       "      <td>2.25</td>\n",
       "      <td>0.25</td>\n",
       "      <td>272.25</td>\n",
       "      <td>16</td>\n",
       "    </tr>\n",
       "    <tr>\n",
       "      <th>1</th>\n",
       "      <td>ID_1c78846d2</td>\n",
       "      <td>NaN</td>\n",
       "      <td>0</td>\n",
       "      <td>5</td>\n",
       "      <td>0</td>\n",
       "      <td>1</td>\n",
       "      <td>1</td>\n",
       "      <td>0</td>\n",
       "      <td>NaN</td>\n",
       "      <td>1</td>\n",
       "      <td>...</td>\n",
       "      <td>41</td>\n",
       "      <td>256</td>\n",
       "      <td>1681</td>\n",
       "      <td>9</td>\n",
       "      <td>0</td>\n",
       "      <td>1</td>\n",
       "      <td>2.25</td>\n",
       "      <td>0.25</td>\n",
       "      <td>272.25</td>\n",
       "      <td>1681</td>\n",
       "    </tr>\n",
       "    <tr>\n",
       "      <th>2</th>\n",
       "      <td>ID_e5442cf6a</td>\n",
       "      <td>NaN</td>\n",
       "      <td>0</td>\n",
       "      <td>5</td>\n",
       "      <td>0</td>\n",
       "      <td>1</td>\n",
       "      <td>1</td>\n",
       "      <td>0</td>\n",
       "      <td>NaN</td>\n",
       "      <td>1</td>\n",
       "      <td>...</td>\n",
       "      <td>41</td>\n",
       "      <td>289</td>\n",
       "      <td>1681</td>\n",
       "      <td>9</td>\n",
       "      <td>0</td>\n",
       "      <td>1</td>\n",
       "      <td>2.25</td>\n",
       "      <td>0.25</td>\n",
       "      <td>272.25</td>\n",
       "      <td>1681</td>\n",
       "    </tr>\n",
       "    <tr>\n",
       "      <th>3</th>\n",
       "      <td>ID_a8db26a79</td>\n",
       "      <td>NaN</td>\n",
       "      <td>0</td>\n",
       "      <td>14</td>\n",
       "      <td>0</td>\n",
       "      <td>1</td>\n",
       "      <td>1</td>\n",
       "      <td>1</td>\n",
       "      <td>1.0</td>\n",
       "      <td>0</td>\n",
       "      <td>...</td>\n",
       "      <td>59</td>\n",
       "      <td>256</td>\n",
       "      <td>3481</td>\n",
       "      <td>1</td>\n",
       "      <td>256</td>\n",
       "      <td>0</td>\n",
       "      <td>1.00</td>\n",
       "      <td>0.00</td>\n",
       "      <td>256.00</td>\n",
       "      <td>3481</td>\n",
       "    </tr>\n",
       "    <tr>\n",
       "      <th>4</th>\n",
       "      <td>ID_a62966799</td>\n",
       "      <td>175000.0</td>\n",
       "      <td>0</td>\n",
       "      <td>4</td>\n",
       "      <td>0</td>\n",
       "      <td>1</td>\n",
       "      <td>1</td>\n",
       "      <td>1</td>\n",
       "      <td>1.0</td>\n",
       "      <td>0</td>\n",
       "      <td>...</td>\n",
       "      <td>18</td>\n",
       "      <td>121</td>\n",
       "      <td>324</td>\n",
       "      <td>1</td>\n",
       "      <td>0</td>\n",
       "      <td>1</td>\n",
       "      <td>0.25</td>\n",
       "      <td>64.00</td>\n",
       "      <td>NaN</td>\n",
       "      <td>324</td>\n",
       "    </tr>\n",
       "  </tbody>\n",
       "</table>\n",
       "<p>5 rows × 142 columns</p>\n",
       "</div>"
      ],
      "text/plain": [
       "             Id      v2a1  hacdor  rooms  hacapo  v14a  refrig  v18q  v18q1  \\\n",
       "0  ID_2f6873615       NaN       0      5       0     1       1     0    NaN   \n",
       "1  ID_1c78846d2       NaN       0      5       0     1       1     0    NaN   \n",
       "2  ID_e5442cf6a       NaN       0      5       0     1       1     0    NaN   \n",
       "3  ID_a8db26a79       NaN       0     14       0     1       1     1    1.0   \n",
       "4  ID_a62966799  175000.0       0      4       0     1       1     1    1.0   \n",
       "\n",
       "   r4h1  ...  age  SQBescolari  SQBage  SQBhogar_total  SQBedjefe  \\\n",
       "0     1  ...    4            0      16               9          0   \n",
       "1     1  ...   41          256    1681               9          0   \n",
       "2     1  ...   41          289    1681               9          0   \n",
       "3     0  ...   59          256    3481               1        256   \n",
       "4     0  ...   18          121     324               1          0   \n",
       "\n",
       "   SQBhogar_nin  SQBovercrowding  SQBdependency  SQBmeaned  agesq  \n",
       "0             1             2.25           0.25     272.25     16  \n",
       "1             1             2.25           0.25     272.25   1681  \n",
       "2             1             2.25           0.25     272.25   1681  \n",
       "3             0             1.00           0.00     256.00   3481  \n",
       "4             1             0.25          64.00        NaN    324  \n",
       "\n",
       "[5 rows x 142 columns]"
      ]
     },
     "execution_count": 5,
     "metadata": {},
     "output_type": "execute_result"
    }
   ],
   "source": [
    "df_test.head()"
   ]
  },
  {
   "cell_type": "markdown",
   "id": "together-spread",
   "metadata": {},
   "source": [
    "## 1.2. Make description df"
   ]
  },
  {
   "cell_type": "code",
   "execution_count": 6,
   "id": "seasonal-income",
   "metadata": {
    "ExecuteTime": {
     "end_time": "2021-02-06T15:45:40.581499Z",
     "start_time": "2021-02-06T15:45:40.537618Z"
    }
   },
   "outputs": [],
   "source": [
    "description = [\n",
    "(\"v2a1\",\" Monthly rent payment\"),\n",
    "(\"hacdor\",\" =1 Overcrowding by bedrooms\"),\n",
    "(\"rooms\",\"  number of all rooms in the house\"),\n",
    "(\"hacapo\",\" =1 Overcrowding by rooms\"),\n",
    "(\"v14a\",\" =1 has toilet in the household\"),\n",
    "(\"refrig\",\" =1 if the household has refrigerator\"),\n",
    "(\"v18q\",\" owns a tablet\"),\n",
    "(\"v18q1\",\" number of tablets household owns\"),\n",
    "(\"r4h1\",\" Males younger than 12 years of age\"),\n",
    "(\"r4h2\",\" Males 12 years of age and older\"),\n",
    "(\"r4h3\",\" Total males in the household\"),\n",
    "(\"r4m1\",\" Females younger than 12 years of age\"),\n",
    "(\"r4m2\",\" Females 12 years of age and older\"),\n",
    "(\"r4m3\",\" Total females in the household\"),\n",
    "(\"r4t1\",\" persons younger than 12 years of age\"),\n",
    "(\"r4t2\",\" persons 12 years of age and older\"),\n",
    "(\"r4t3\",\" Total persons in the household\"),\n",
    "(\"tamhog\",\" size of the household\"),\n",
    "(\"tamviv\",\" number of persons living in the household\"),\n",
    "(\"escolari\",\" years of schooling\"),\n",
    "(\"rez_esc\",\" Years behind in school\"),\n",
    "(\"hhsize\",\" household size\"),\n",
    "(\"paredblolad\",\" =1 if predominant material on the outside wall is block or brick\"),\n",
    "(\"paredzocalo\",\" =1 if predominant material on the outside wall is socket (wood, zinc or absbesto\"),\n",
    "(\"paredpreb\",\" =1 if predominant material on the outside wall is prefabricated or cement\"),\n",
    "(\"pareddes\",\" =1 if predominant material on the outside wall is waste material\"),\n",
    "(\"paredmad\",\" =1 if predominant material on the outside wall is wood\"),\n",
    "(\"paredzinc\",\" =1 if predominant material on the outside wall is zink\"),\n",
    "(\"paredfibras\",\" =1 if predominant material on the outside wall is natural fibers\"),\n",
    "(\"paredother\",\" =1 if predominant material on the outside wall is other\"),\n",
    "(\"pisomoscer\",\" =1 if predominant material on the floor is mosaic ceramic   terrazo\"),\n",
    "(\"pisocemento\",\" =1 if predominant material on the floor is cement\"),\n",
    "(\"pisoother\",\" =1 if predominant material on the floor is other\"),\n",
    "(\"pisonatur\",\" =1 if predominant material on the floor is  natural material\"),\n",
    "(\"pisonotiene\",\" =1 if no floor at the household\"),\n",
    "(\"pisomadera\",\" =1 if predominant material on the floor is wood\"),\n",
    "(\"techozinc\",\" =1 if predominant material on the roof is metal foil or zink\"),\n",
    "(\"techoentrepiso\",\" =1 if predominant material on the roof is fiber cement,   mezzanine \"),\n",
    "(\"techocane\",\" =1 if predominant material on the roof is natural fibers\"),\n",
    "(\"techootro\",\" =1 if predominant material on the roof is other\"),\n",
    "(\"cielorazo\",\" =1 if the house has ceiling\"),\n",
    "(\"abastaguadentro\",\" =1 if water provision inside the dwelling\"),\n",
    "(\"abastaguafuera\",\" =1 if water provision outside the dwelling\"),\n",
    "(\"abastaguano\",\" =1 if no water provision\"),\n",
    "(\"public\",\" =1 electricity from CNFL,  ICE, ESPH/JASEC\"),\n",
    "(\"planpri\",\" =1 electricity from private plant\"),\n",
    "(\"noelec\",\" =1 no electricity in the dwelling\"),\n",
    "(\"coopele\",\" =1 electricity from cooperative\"),\n",
    "(\"sanitario1\",\" =1 no toilet in the dwelling\"),\n",
    "(\"sanitario2\",\" =1 toilet connected to sewer or cesspool\"),\n",
    "(\"sanitario3\",\" =1 toilet connected to  septic tank\"),\n",
    "(\"sanitario5\",\" =1 toilet connected to black hole or letrine\"),\n",
    "(\"sanitario6\",\" =1 toilet connected to other system\"),\n",
    "(\"energcocinar1\",\" =1 no main source of energy used for cooking (no kitchen)\"),\n",
    "(\"energcocinar2\",\" =1 main source of energy used for cooking electricity\"),\n",
    "(\"energcocinar3\",\" =1 main source of energy used for cooking gas\"),\n",
    "(\"energcocinar4\",\" =1 main source of energy used for cooking wood charcoal\"),\n",
    "(\"elimbasu1\",\" =1 if rubbish disposal mainly by tanker truck\"),\n",
    "(\"elimbasu2\",\" =1 if rubbish disposal mainly by botan hollow or buried\"),\n",
    "(\"elimbasu3\",\" =1 if rubbish disposal mainly by burning\"),\n",
    "(\"elimbasu4\",\" =1 if rubbish disposal mainly by throwing in an unoccupied space\"),\n",
    "(\"elimbasu5\",\" =1 if rubbish disposal mainly by throwing in river,   creek or sea\"),\n",
    "(\"elimbasu6\",\" =1 if rubbish disposal mainly other\"),\n",
    "(\"epared1\",\" =1 if walls are bad\"),\n",
    "(\"epared2\",\" =1 if walls are regular\"),\n",
    "(\"epared3\",\" =1 if walls are good\"),\n",
    "(\"etecho1\",\" =1 if roof are bad\"),\n",
    "(\"etecho2\",\" =1 if roof are regular\"),\n",
    "(\"etecho3\",\" =1 if roof are good\"),\n",
    "(\"eviv1\",\" =1 if floor are bad\"),\n",
    "(\"eviv2\",\" =1 if floor are regular\"),\n",
    "(\"eviv3\",\" =1 if floor are good\"),\n",
    "(\"dis\",\" =1 if disable person\"),\n",
    "(\"male\",\" =1 if male\"),\n",
    "(\"female\",\" =1 if female\"),\n",
    "(\"estadocivil1\",\" =1 if less than 10 years old\"),\n",
    "(\"estadocivil2\",\" =1 if free or coupled uunion\"),\n",
    "(\"estadocivil3\",\" =1 if married\"),\n",
    "(\"estadocivil4\",\" =1 if divorced\"),\n",
    "(\"estadocivil5\",\" =1 if separated\"),\n",
    "(\"estadocivil6\",\" =1 if widow/er\"),\n",
    "(\"estadocivil7\",\" =1 if single\"),\n",
    "(\"parentesco1\",\" =1 if household head\"),\n",
    "(\"parentesco2\",\" =1 if spouse/partner\"),\n",
    "(\"parentesco3\",\" =1 if son/doughter\"),\n",
    "(\"parentesco4\",\" =1 if stepson/doughter\"),\n",
    "(\"parentesco5\",\" =1 if son/doughter in law\"),\n",
    "(\"parentesco6\",\" =1 if grandson/doughter\"),\n",
    "(\"parentesco7\",\" =1 if mother/father\"),\n",
    "(\"parentesco8\",\" =1 if father/mother in law\"),\n",
    "(\"parentesco9\",\" =1 if brother/sister\"),\n",
    "(\"parentesco10\",\" =1 if brother/sister in law\"),\n",
    "(\"parentesco11\",\" =1 if other family member\"),\n",
    "(\"parentesco12\",\" =1 if other non family member\"),\n",
    "(\"idhogar\",\" Household level identifier\"),\n",
    "(\"hogar_nin\",\" Number of children 0 to 19 in household\"),\n",
    "(\"hogar_adul\",\" Number of adults in household\"),\n",
    "(\"hogar_mayor\",\" # of individuals 65+ in the household\"),\n",
    "(\"hogar_total\",\" # of total individuals in the household\"),\n",
    "(\"dependency\",\" Dependency rate\"),\n",
    "(\"edjefe\",\" years of education of male head of household\"),\n",
    "(\"edjefa\",\" years of education of female head of household\"),\n",
    "(\"meaneduc\",\"average years of education for adults (18+)\"),\n",
    "(\"instlevel1\",\" =1 no level of education\"),\n",
    "(\"instlevel2\",\" =1 incomplete primary\"),\n",
    "(\"instlevel3\",\" =1 complete primary\"),\n",
    "(\"instlevel4\",\" =1 incomplete academic secondary level\"),\n",
    "(\"instlevel5\",\" =1 complete academic secondary level\"),\n",
    "(\"instlevel6\",\" =1 incomplete technical secondary level\"),\n",
    "(\"instlevel7\",\" =1 complete technical secondary level\"),\n",
    "(\"instlevel8\",\" =1 undergraduate and higher education\"),\n",
    "(\"instlevel9\",\" =1 postgraduate higher education\"),\n",
    "(\"bedrooms\",\" number of bedrooms\"),\n",
    "(\"overcrowding\",\" # persons per room\"),\n",
    "(\"tipovivi1\",\" =1 own and fully paid house\"),\n",
    "(\"tipovivi2\",\" =1 own,   paying in installments\"),\n",
    "(\"tipovivi3\",\" =1 rented\"),\n",
    "(\"tipovivi4\",\" =1 precarious\"),\n",
    "(\"tipovivi5\",\" =1 other(assigned\"),\n",
    "(\"computer\",\" =1 if the household has notebook or desktop computer,   borrowed)\"),\n",
    "(\"television\",\" =1 if the household has TV\"),\n",
    "(\"mobilephone\",\" =1 if mobile phone\"),\n",
    "(\"qmobilephone\",\" # of mobile phones\"),\n",
    "(\"lugar1\",\" =1 region Central\"),\n",
    "(\"lugar2\",\" =1 region Chorotega\"),\n",
    "(\"lugar3\",\" =1 region PacÃƒÂ­fico central\"),\n",
    "(\"lugar4\",\" =1 region Brunca\"),\n",
    "(\"lugar5\",\" =1 region Huetar AtlÃƒÂ¡ntica\"),\n",
    "(\"lugar6\",\" =1 region Huetar Norte\"),\n",
    "(\"area1\",\" =1 zona urbana\"),\n",
    "(\"area2\",\" =2 zona rural\"),\n",
    "(\"age\",\" Age in years\"),\n",
    "(\"SQBescolari\",\" escolari squared\"),\n",
    "(\"SQBage\",\" age squared\"),\n",
    "(\"SQBhogar_total\",\" hogar_total squared\"),\n",
    "(\"SQBedjefe\",\" edjefe squared\"),\n",
    "(\"SQBhogar_nin\",\" hogar_nin squared\"),\n",
    "(\"SQBovercrowding\",\" overcrowding squared\"),\n",
    "(\"SQBdependency\",\" dependency squared\"),\n",
    "(\"SQBmeaned\",\" meaned squared\"),\n",
    "(\"agesq\",\" Age squared\"),]\n",
    "\n",
    "description = pd.DataFrame(description, columns=['varname', 'description'])"
   ]
  },
  {
   "cell_type": "code",
   "execution_count": 7,
   "id": "listed-identification",
   "metadata": {
    "ExecuteTime": {
     "end_time": "2021-02-06T15:45:40.613414Z",
     "start_time": "2021-02-06T15:45:40.584492Z"
    }
   },
   "outputs": [
    {
     "data": {
      "text/html": [
       "<div>\n",
       "<style scoped>\n",
       "    .dataframe tbody tr th:only-of-type {\n",
       "        vertical-align: middle;\n",
       "    }\n",
       "\n",
       "    .dataframe tbody tr th {\n",
       "        vertical-align: top;\n",
       "    }\n",
       "\n",
       "    .dataframe thead th {\n",
       "        text-align: right;\n",
       "    }\n",
       "</style>\n",
       "<table border=\"1\" class=\"dataframe\">\n",
       "  <thead>\n",
       "    <tr style=\"text-align: right;\">\n",
       "      <th></th>\n",
       "      <th>varname</th>\n",
       "      <th>description</th>\n",
       "    </tr>\n",
       "  </thead>\n",
       "  <tbody>\n",
       "    <tr>\n",
       "      <th>0</th>\n",
       "      <td>v2a1</td>\n",
       "      <td>Monthly rent payment</td>\n",
       "    </tr>\n",
       "    <tr>\n",
       "      <th>1</th>\n",
       "      <td>hacdor</td>\n",
       "      <td>=1 Overcrowding by bedrooms</td>\n",
       "    </tr>\n",
       "    <tr>\n",
       "      <th>2</th>\n",
       "      <td>rooms</td>\n",
       "      <td>number of all rooms in the house</td>\n",
       "    </tr>\n",
       "    <tr>\n",
       "      <th>3</th>\n",
       "      <td>hacapo</td>\n",
       "      <td>=1 Overcrowding by rooms</td>\n",
       "    </tr>\n",
       "    <tr>\n",
       "      <th>4</th>\n",
       "      <td>v14a</td>\n",
       "      <td>=1 has toilet in the household</td>\n",
       "    </tr>\n",
       "    <tr>\n",
       "      <th>...</th>\n",
       "      <td>...</td>\n",
       "      <td>...</td>\n",
       "    </tr>\n",
       "    <tr>\n",
       "      <th>136</th>\n",
       "      <td>SQBhogar_nin</td>\n",
       "      <td>hogar_nin squared</td>\n",
       "    </tr>\n",
       "    <tr>\n",
       "      <th>137</th>\n",
       "      <td>SQBovercrowding</td>\n",
       "      <td>overcrowding squared</td>\n",
       "    </tr>\n",
       "    <tr>\n",
       "      <th>138</th>\n",
       "      <td>SQBdependency</td>\n",
       "      <td>dependency squared</td>\n",
       "    </tr>\n",
       "    <tr>\n",
       "      <th>139</th>\n",
       "      <td>SQBmeaned</td>\n",
       "      <td>meaned squared</td>\n",
       "    </tr>\n",
       "    <tr>\n",
       "      <th>140</th>\n",
       "      <td>agesq</td>\n",
       "      <td>Age squared</td>\n",
       "    </tr>\n",
       "  </tbody>\n",
       "</table>\n",
       "<p>141 rows × 2 columns</p>\n",
       "</div>"
      ],
      "text/plain": [
       "             varname                         description\n",
       "0               v2a1                Monthly rent payment\n",
       "1             hacdor         =1 Overcrowding by bedrooms\n",
       "2              rooms    number of all rooms in the house\n",
       "3             hacapo            =1 Overcrowding by rooms\n",
       "4               v14a      =1 has toilet in the household\n",
       "..               ...                                 ...\n",
       "136     SQBhogar_nin                   hogar_nin squared\n",
       "137  SQBovercrowding                overcrowding squared\n",
       "138    SQBdependency                  dependency squared\n",
       "139        SQBmeaned                      meaned squared\n",
       "140            agesq                         Age squared\n",
       "\n",
       "[141 rows x 2 columns]"
      ]
     },
     "execution_count": 7,
     "metadata": {},
     "output_type": "execute_result"
    }
   ],
   "source": [
    "description"
   ]
  },
  {
   "cell_type": "markdown",
   "id": "careful-intranet",
   "metadata": {},
   "source": [
    "## 1.3. Check null data"
   ]
  },
  {
   "cell_type": "code",
   "execution_count": 8,
   "id": "pursuant-congress",
   "metadata": {
    "ExecuteTime": {
     "end_time": "2021-02-06T15:45:40.675248Z",
     "start_time": "2021-02-06T15:45:40.619399Z"
    }
   },
   "outputs": [
    {
     "data": {
      "text/html": [
       "<div>\n",
       "<style scoped>\n",
       "    .dataframe tbody tr th:only-of-type {\n",
       "        vertical-align: middle;\n",
       "    }\n",
       "\n",
       "    .dataframe tbody tr th {\n",
       "        vertical-align: top;\n",
       "    }\n",
       "\n",
       "    .dataframe thead th {\n",
       "        text-align: right;\n",
       "    }\n",
       "</style>\n",
       "<table border=\"1\" class=\"dataframe\">\n",
       "  <thead>\n",
       "    <tr style=\"text-align: right;\">\n",
       "      <th></th>\n",
       "      <th>Total</th>\n",
       "      <th>Percent</th>\n",
       "    </tr>\n",
       "  </thead>\n",
       "  <tbody>\n",
       "    <tr>\n",
       "      <th>rez_esc</th>\n",
       "      <td>7928</td>\n",
       "      <td>82.954902</td>\n",
       "    </tr>\n",
       "    <tr>\n",
       "      <th>v18q1</th>\n",
       "      <td>7342</td>\n",
       "      <td>76.823271</td>\n",
       "    </tr>\n",
       "    <tr>\n",
       "      <th>v2a1</th>\n",
       "      <td>6860</td>\n",
       "      <td>71.779847</td>\n",
       "    </tr>\n",
       "    <tr>\n",
       "      <th>SQBmeaned</th>\n",
       "      <td>5</td>\n",
       "      <td>0.052318</td>\n",
       "    </tr>\n",
       "    <tr>\n",
       "      <th>meaneduc</th>\n",
       "      <td>5</td>\n",
       "      <td>0.052318</td>\n",
       "    </tr>\n",
       "    <tr>\n",
       "      <th>Id</th>\n",
       "      <td>0</td>\n",
       "      <td>0.000000</td>\n",
       "    </tr>\n",
       "    <tr>\n",
       "      <th>hogar_adul</th>\n",
       "      <td>0</td>\n",
       "      <td>0.000000</td>\n",
       "    </tr>\n",
       "    <tr>\n",
       "      <th>parentesco10</th>\n",
       "      <td>0</td>\n",
       "      <td>0.000000</td>\n",
       "    </tr>\n",
       "    <tr>\n",
       "      <th>parentesco11</th>\n",
       "      <td>0</td>\n",
       "      <td>0.000000</td>\n",
       "    </tr>\n",
       "    <tr>\n",
       "      <th>parentesco12</th>\n",
       "      <td>0</td>\n",
       "      <td>0.000000</td>\n",
       "    </tr>\n",
       "  </tbody>\n",
       "</table>\n",
       "</div>"
      ],
      "text/plain": [
       "              Total    Percent\n",
       "rez_esc        7928  82.954902\n",
       "v18q1          7342  76.823271\n",
       "v2a1           6860  71.779847\n",
       "SQBmeaned         5   0.052318\n",
       "meaneduc          5   0.052318\n",
       "Id                0   0.000000\n",
       "hogar_adul        0   0.000000\n",
       "parentesco10      0   0.000000\n",
       "parentesco11      0   0.000000\n",
       "parentesco12      0   0.000000"
      ]
     },
     "execution_count": 8,
     "metadata": {},
     "output_type": "execute_result"
    }
   ],
   "source": [
    "total = df_train.isnull().sum().sort_values(ascending=False)\n",
    "### 각 변수의 결측값 수 / 각 변수의 관측치 수\n",
    "percent = 100 * (df_train.isnull().sum() / df_train.isnull().count()).sort_values(ascending=False)\n",
    "missing_df = pd.concat([total,percent], axis=1, keys=['Total','Percent'])\n",
    "\n",
    "missing_df.head(10)"
   ]
  },
  {
   "cell_type": "markdown",
   "id": "monthly-delight",
   "metadata": {
    "ExecuteTime": {
     "end_time": "2021-02-05T13:29:51.541123Z",
     "start_time": "2021-02-05T13:29:51.513194Z"
    }
   },
   "source": [
    "## 1.4. Fill missing values"
   ]
  },
  {
   "cell_type": "code",
   "execution_count": 9,
   "id": "associate-official",
   "metadata": {
    "ExecuteTime": {
     "end_time": "2021-02-06T15:45:40.768998Z",
     "start_time": "2021-02-06T15:45:40.679239Z"
    }
   },
   "outputs": [],
   "source": [
    "# education이 'yes'고 가장이면, escolari로 대체\n",
    "df_train.loc[(df_train['edjefa']=='yes') & (df_train['parentesco1']==1), 'edjefa'] = df_train.loc[\n",
    "    (df_train['edjefa']=='yes') & (df_train['parentesco1']==1), 'escolari']\n",
    "df_train.loc[(df_train['edjefe']=='yes') & (df_train['parentesco1']==1), 'edjefe'] = df_train.loc[\n",
    "    (df_train['edjefe']=='yes') & (df_train['parentesco1']==1), 'escolari']\n",
    "\n",
    "df_test.loc[(df_test['edjefa']=='yes') & (df_test['parentesco1']==1), 'edjefa'] = df_test.loc[\n",
    "    (df_test['edjefa']=='yes') & (df_test['parentesco1']==1), 'escolari']\n",
    "df_test.loc[(df_test['edjefe']=='yes') & (df_test['parentesco1']==1), 'edjefe'] = df_test.loc[\n",
    "    (df_test['edjefe']=='yes') & (df_test['parentesco1']==1), 'escolari']\n",
    "\n",
    "# 이 필드는 gender와 escolari의 상호작용이어야 하지만, 'yes'의 분명한 의미를 모르므로 4로 채운다.\n",
    "df_train.loc[df_train['edjefa']=='yes', 'edjefa'] = 4\n",
    "df_train.loc[df_train['edjefe']=='yes', 'edjefe'] = 4\n",
    "\n",
    "df_test.loc[df_test['edjefa']=='yes', 'edjefa'] = 4\n",
    "df_test.loc[df_test['edjefe']=='yes', 'edjefe'] = 4\n",
    "\n",
    "# 가장의 education 최대값에 대한 변수 생성\n",
    "df_train['edjef'] = np.max(df_train[['edjefa','edjefe']], axis=1)\n",
    "df_test['edjef'] = np.max(df_test[['edjefa','edjefe']], axis=1)\n",
    "\n",
    "\n",
    "# 데이터의 불일치 해결 - 일부 행은 가정에 화장실이 없음을 나타낸다.\n",
    "# 물이 없으면 물을 마시지 않는다고 가정한다.\n",
    "df_train.loc[(df_train.v14a==1) & (df_train.sanitario1==1) & (df_train.abastaguano==0), 'v14a'] = 0\n",
    "df_test.loc[(df_test.v14a==1) & (df_test.sanitario1==1) & (df_test.abastaguano==0), 'sanitario1'] = 0"
   ]
  },
  {
   "cell_type": "markdown",
   "id": "electronic-swedish",
   "metadata": {},
   "source": [
    "### rez_esz, SQBmeaned"
   ]
  },
  {
   "cell_type": "markdown",
   "id": "accepting-wheat",
   "metadata": {},
   "source": [
    "- rez_esc : years behind in school -> 0으로 대체\n",
    "- SQBmeaned : 가정에서 성인(>=18)의 평균 교육 연도 제곱. agesq(나이 제곱) -> rez_esc와 같음 -> 0으로 대체"
   ]
  },
  {
   "cell_type": "code",
   "execution_count": 10,
   "id": "static-pixel",
   "metadata": {
    "ExecuteTime": {
     "end_time": "2021-02-06T15:45:40.783958Z",
     "start_time": "2021-02-06T15:45:40.771990Z"
    }
   },
   "outputs": [],
   "source": [
    "df_train['rez_esc'].fillna(0, inplace=True)\n",
    "df_test['rez_esc'].fillna(0, inplace=True)"
   ]
  },
  {
   "cell_type": "code",
   "execution_count": 11,
   "id": "committed-recall",
   "metadata": {
    "ExecuteTime": {
     "end_time": "2021-02-06T15:45:40.799916Z",
     "start_time": "2021-02-06T15:45:40.785953Z"
    }
   },
   "outputs": [],
   "source": [
    "df_train['SQBmeaned'].fillna(0, inplace=True)\n",
    "df_test['SQBmeaned'].fillna(0, inplace=True)"
   ]
  },
  {
   "cell_type": "markdown",
   "id": "seeing-branch",
   "metadata": {},
   "source": [
    "### meaneduc"
   ]
  },
  {
   "cell_type": "markdown",
   "id": "suffering-public",
   "metadata": {},
   "source": [
    "- meaneduc : 성인(18+)의 평균 교육 년도 -> 0으로 대체"
   ]
  },
  {
   "cell_type": "code",
   "execution_count": 12,
   "id": "sophisticated-custody",
   "metadata": {
    "ExecuteTime": {
     "end_time": "2021-02-06T15:45:40.815874Z",
     "start_time": "2021-02-06T15:45:40.803905Z"
    }
   },
   "outputs": [],
   "source": [
    "df_train['meaneduc'].fillna(0, inplace=True)\n",
    "df_test['meaneduc'].fillna(0, inplace=True)"
   ]
  },
  {
   "cell_type": "markdown",
   "id": "ambient-double",
   "metadata": {},
   "source": [
    "### v18q1"
   ]
  },
  {
   "cell_type": "markdown",
   "id": "serious-woman",
   "metadata": {},
   "source": [
    "- v18q1 : 가정이 소유한 태블릿 개수 -> v18q==1(소유)이면 다른 값, 아니면 v18q1에 NaN값"
   ]
  },
  {
   "cell_type": "code",
   "execution_count": 13,
   "id": "worse-offer",
   "metadata": {
    "ExecuteTime": {
     "end_time": "2021-02-06T15:45:40.831830Z",
     "start_time": "2021-02-06T15:45:40.819864Z"
    }
   },
   "outputs": [
    {
     "data": {
      "text/plain": [
       "0    7342\n",
       "1    2215\n",
       "Name: v18q, dtype: int64"
      ]
     },
     "execution_count": 13,
     "metadata": {},
     "output_type": "execute_result"
    }
   ],
   "source": [
    "df_train['v18q'].value_counts()"
   ]
  },
  {
   "cell_type": "code",
   "execution_count": 14,
   "id": "widespread-reservation",
   "metadata": {
    "ExecuteTime": {
     "end_time": "2021-02-06T15:45:40.847788Z",
     "start_time": "2021-02-06T15:45:40.835821Z"
    }
   },
   "outputs": [
    {
     "data": {
      "text/plain": [
       "1.0    1586\n",
       "2.0     444\n",
       "3.0     129\n",
       "4.0      37\n",
       "5.0      13\n",
       "6.0       6\n",
       "Name: v18q1, dtype: int64"
      ]
     },
     "execution_count": 14,
     "metadata": {},
     "output_type": "execute_result"
    }
   ],
   "source": [
    "df_train.loc[df_train['v18q']==1, 'v18q1'].value_counts()"
   ]
  },
  {
   "cell_type": "code",
   "execution_count": 15,
   "id": "precious-bedroom",
   "metadata": {
    "ExecuteTime": {
     "end_time": "2021-02-06T15:45:40.863745Z",
     "start_time": "2021-02-06T15:45:40.852775Z"
    }
   },
   "outputs": [
    {
     "data": {
      "text/plain": [
       "Series([], Name: v18q1, dtype: int64)"
      ]
     },
     "execution_count": 15,
     "metadata": {},
     "output_type": "execute_result"
    }
   ],
   "source": [
    "df_train.loc[df_train['v18q']==0, 'v18q1'].value_counts()"
   ]
  },
  {
   "cell_type": "code",
   "execution_count": 16,
   "id": "funky-holiday",
   "metadata": {
    "ExecuteTime": {
     "end_time": "2021-02-06T15:45:40.879702Z",
     "start_time": "2021-02-06T15:45:40.867736Z"
    }
   },
   "outputs": [],
   "source": [
    "df_train['v18q1'].fillna(0, inplace=True)\n",
    "df_test['v18q1'].fillna(0, inplace=True)"
   ]
  },
  {
   "cell_type": "markdown",
   "id": "apparent-bones",
   "metadata": {},
   "source": [
    "- v2a1 : 가정이 소유한 태블릿 수 -> tipovivi3==1(임대)이면 다른 값, 아니면 또 다른 값으로 대체\n",
    "- NaN값은 0으로 대체될 수 있다."
   ]
  },
  {
   "cell_type": "code",
   "execution_count": 17,
   "id": "distinct-password",
   "metadata": {
    "ExecuteTime": {
     "end_time": "2021-02-06T15:45:40.895661Z",
     "start_time": "2021-02-06T15:45:40.883693Z"
    }
   },
   "outputs": [
    {
     "data": {
      "text/plain": [
       "0    7821\n",
       "1    1736\n",
       "Name: tipovivi3, dtype: int64"
      ]
     },
     "execution_count": 17,
     "metadata": {},
     "output_type": "execute_result"
    }
   ],
   "source": [
    "df_train['tipovivi3'].value_counts()"
   ]
  },
  {
   "cell_type": "code",
   "execution_count": 18,
   "id": "fatal-topic",
   "metadata": {
    "ExecuteTime": {
     "end_time": "2021-02-06T15:45:42.612070Z",
     "start_time": "2021-02-06T15:45:40.899649Z"
    }
   },
   "outputs": [
    {
     "data": {
      "image/png": "[encoded data removed]",
      "text/plain": [
       "<Figure size 576x396 with 1 Axes>"
      ]
     },
     "metadata": {},
     "output_type": "display_data"
    }
   ],
   "source": [
    "sns.kdeplot(df_train.loc[df_train['tipovivi3']==1, 'v2a1'], label='Monthly rent payment of household(rented=1)')\n",
    "sns.kdeplot(df_train.loc[df_train['tipovivi3']==0, 'v2a1'], label='Monthly rent payment of household(rented=0)')\n",
    "plt.xscale('log')\n",
    "plt.legend()\n",
    "plt.show()"
   ]
  },
  {
   "cell_type": "code",
   "execution_count": 19,
   "id": "selective-petroleum",
   "metadata": {
    "ExecuteTime": {
     "end_time": "2021-02-06T15:45:42.628027Z",
     "start_time": "2021-02-06T15:45:42.615070Z"
    }
   },
   "outputs": [],
   "source": [
    "df_train['v2a1'].fillna(0, inplace=True)\n",
    "df_test['v2a1'].fillna(0, inplace=True)"
   ]
  },
  {
   "cell_type": "code",
   "execution_count": 20,
   "id": "hybrid-handbook",
   "metadata": {
    "ExecuteTime": {
     "end_time": "2021-02-06T15:45:42.689861Z",
     "start_time": "2021-02-06T15:45:42.632017Z"
    }
   },
   "outputs": [
    {
     "data": {
      "text/html": [
       "<div>\n",
       "<style scoped>\n",
       "    .dataframe tbody tr th:only-of-type {\n",
       "        vertical-align: middle;\n",
       "    }\n",
       "\n",
       "    .dataframe tbody tr th {\n",
       "        vertical-align: top;\n",
       "    }\n",
       "\n",
       "    .dataframe thead th {\n",
       "        text-align: right;\n",
       "    }\n",
       "</style>\n",
       "<table border=\"1\" class=\"dataframe\">\n",
       "  <thead>\n",
       "    <tr style=\"text-align: right;\">\n",
       "      <th></th>\n",
       "      <th>Total</th>\n",
       "      <th>Percent</th>\n",
       "    </tr>\n",
       "  </thead>\n",
       "  <tbody>\n",
       "    <tr>\n",
       "      <th>edjef</th>\n",
       "      <td>9557</td>\n",
       "      <td>100.0</td>\n",
       "    </tr>\n",
       "    <tr>\n",
       "      <th>v2a1</th>\n",
       "      <td>0</td>\n",
       "      <td>0.0</td>\n",
       "    </tr>\n",
       "    <tr>\n",
       "      <th>parentesco10</th>\n",
       "      <td>0</td>\n",
       "      <td>0.0</td>\n",
       "    </tr>\n",
       "    <tr>\n",
       "      <th>parentesco11</th>\n",
       "      <td>0</td>\n",
       "      <td>0.0</td>\n",
       "    </tr>\n",
       "    <tr>\n",
       "      <th>parentesco12</th>\n",
       "      <td>0</td>\n",
       "      <td>0.0</td>\n",
       "    </tr>\n",
       "    <tr>\n",
       "      <th>idhogar</th>\n",
       "      <td>0</td>\n",
       "      <td>0.0</td>\n",
       "    </tr>\n",
       "    <tr>\n",
       "      <th>hogar_nin</th>\n",
       "      <td>0</td>\n",
       "      <td>0.0</td>\n",
       "    </tr>\n",
       "    <tr>\n",
       "      <th>hogar_adul</th>\n",
       "      <td>0</td>\n",
       "      <td>0.0</td>\n",
       "    </tr>\n",
       "    <tr>\n",
       "      <th>hogar_mayor</th>\n",
       "      <td>0</td>\n",
       "      <td>0.0</td>\n",
       "    </tr>\n",
       "    <tr>\n",
       "      <th>hogar_total</th>\n",
       "      <td>0</td>\n",
       "      <td>0.0</td>\n",
       "    </tr>\n",
       "    <tr>\n",
       "      <th>dependency</th>\n",
       "      <td>0</td>\n",
       "      <td>0.0</td>\n",
       "    </tr>\n",
       "    <tr>\n",
       "      <th>edjefe</th>\n",
       "      <td>0</td>\n",
       "      <td>0.0</td>\n",
       "    </tr>\n",
       "    <tr>\n",
       "      <th>edjefa</th>\n",
       "      <td>0</td>\n",
       "      <td>0.0</td>\n",
       "    </tr>\n",
       "    <tr>\n",
       "      <th>meaneduc</th>\n",
       "      <td>0</td>\n",
       "      <td>0.0</td>\n",
       "    </tr>\n",
       "    <tr>\n",
       "      <th>instlevel1</th>\n",
       "      <td>0</td>\n",
       "      <td>0.0</td>\n",
       "    </tr>\n",
       "    <tr>\n",
       "      <th>instlevel2</th>\n",
       "      <td>0</td>\n",
       "      <td>0.0</td>\n",
       "    </tr>\n",
       "    <tr>\n",
       "      <th>instlevel3</th>\n",
       "      <td>0</td>\n",
       "      <td>0.0</td>\n",
       "    </tr>\n",
       "    <tr>\n",
       "      <th>parentesco9</th>\n",
       "      <td>0</td>\n",
       "      <td>0.0</td>\n",
       "    </tr>\n",
       "    <tr>\n",
       "      <th>parentesco8</th>\n",
       "      <td>0</td>\n",
       "      <td>0.0</td>\n",
       "    </tr>\n",
       "    <tr>\n",
       "      <th>parentesco7</th>\n",
       "      <td>0</td>\n",
       "      <td>0.0</td>\n",
       "    </tr>\n",
       "  </tbody>\n",
       "</table>\n",
       "</div>"
      ],
      "text/plain": [
       "              Total  Percent\n",
       "edjef          9557    100.0\n",
       "v2a1              0      0.0\n",
       "parentesco10      0      0.0\n",
       "parentesco11      0      0.0\n",
       "parentesco12      0      0.0\n",
       "idhogar           0      0.0\n",
       "hogar_nin         0      0.0\n",
       "hogar_adul        0      0.0\n",
       "hogar_mayor       0      0.0\n",
       "hogar_total       0      0.0\n",
       "dependency        0      0.0\n",
       "edjefe            0      0.0\n",
       "edjefa            0      0.0\n",
       "meaneduc          0      0.0\n",
       "instlevel1        0      0.0\n",
       "instlevel2        0      0.0\n",
       "instlevel3        0      0.0\n",
       "parentesco9       0      0.0\n",
       "parentesco8       0      0.0\n",
       "parentesco7       0      0.0"
      ]
     },
     "execution_count": 20,
     "metadata": {},
     "output_type": "execute_result"
    }
   ],
   "source": [
    "total = df_train.isnull().sum().sort_values(ascending=False)\n",
    "percent = 100* (df_train.isnull().sum() / df_train.isnull().count()).sort_values(ascending=False)\n",
    "missing_df = pd.concat([total,percent], axis=1, keys=['Total','Percent'])\n",
    "\n",
    "missing_df.head(20)"
   ]
  },
  {
   "cell_type": "code",
   "execution_count": 21,
   "id": "silent-ticket",
   "metadata": {
    "ExecuteTime": {
     "end_time": "2021-02-06T15:45:42.798585Z",
     "start_time": "2021-02-06T15:45:42.692854Z"
    }
   },
   "outputs": [
    {
     "data": {
      "text/html": [
       "<div>\n",
       "<style scoped>\n",
       "    .dataframe tbody tr th:only-of-type {\n",
       "        vertical-align: middle;\n",
       "    }\n",
       "\n",
       "    .dataframe tbody tr th {\n",
       "        vertical-align: top;\n",
       "    }\n",
       "\n",
       "    .dataframe thead th {\n",
       "        text-align: right;\n",
       "    }\n",
       "</style>\n",
       "<table border=\"1\" class=\"dataframe\">\n",
       "  <thead>\n",
       "    <tr style=\"text-align: right;\">\n",
       "      <th></th>\n",
       "      <th>Total</th>\n",
       "      <th>Percent</th>\n",
       "    </tr>\n",
       "  </thead>\n",
       "  <tbody>\n",
       "    <tr>\n",
       "      <th>edjef</th>\n",
       "      <td>23856</td>\n",
       "      <td>100.0</td>\n",
       "    </tr>\n",
       "    <tr>\n",
       "      <th>hogar_mayor</th>\n",
       "      <td>0</td>\n",
       "      <td>0.0</td>\n",
       "    </tr>\n",
       "    <tr>\n",
       "      <th>parentesco10</th>\n",
       "      <td>0</td>\n",
       "      <td>0.0</td>\n",
       "    </tr>\n",
       "    <tr>\n",
       "      <th>parentesco11</th>\n",
       "      <td>0</td>\n",
       "      <td>0.0</td>\n",
       "    </tr>\n",
       "    <tr>\n",
       "      <th>parentesco12</th>\n",
       "      <td>0</td>\n",
       "      <td>0.0</td>\n",
       "    </tr>\n",
       "    <tr>\n",
       "      <th>idhogar</th>\n",
       "      <td>0</td>\n",
       "      <td>0.0</td>\n",
       "    </tr>\n",
       "    <tr>\n",
       "      <th>hogar_nin</th>\n",
       "      <td>0</td>\n",
       "      <td>0.0</td>\n",
       "    </tr>\n",
       "    <tr>\n",
       "      <th>hogar_adul</th>\n",
       "      <td>0</td>\n",
       "      <td>0.0</td>\n",
       "    </tr>\n",
       "    <tr>\n",
       "      <th>hogar_total</th>\n",
       "      <td>0</td>\n",
       "      <td>0.0</td>\n",
       "    </tr>\n",
       "    <tr>\n",
       "      <th>parentesco8</th>\n",
       "      <td>0</td>\n",
       "      <td>0.0</td>\n",
       "    </tr>\n",
       "    <tr>\n",
       "      <th>dependency</th>\n",
       "      <td>0</td>\n",
       "      <td>0.0</td>\n",
       "    </tr>\n",
       "    <tr>\n",
       "      <th>edjefe</th>\n",
       "      <td>0</td>\n",
       "      <td>0.0</td>\n",
       "    </tr>\n",
       "    <tr>\n",
       "      <th>edjefa</th>\n",
       "      <td>0</td>\n",
       "      <td>0.0</td>\n",
       "    </tr>\n",
       "    <tr>\n",
       "      <th>meaneduc</th>\n",
       "      <td>0</td>\n",
       "      <td>0.0</td>\n",
       "    </tr>\n",
       "    <tr>\n",
       "      <th>instlevel1</th>\n",
       "      <td>0</td>\n",
       "      <td>0.0</td>\n",
       "    </tr>\n",
       "    <tr>\n",
       "      <th>instlevel2</th>\n",
       "      <td>0</td>\n",
       "      <td>0.0</td>\n",
       "    </tr>\n",
       "    <tr>\n",
       "      <th>parentesco9</th>\n",
       "      <td>0</td>\n",
       "      <td>0.0</td>\n",
       "    </tr>\n",
       "    <tr>\n",
       "      <th>parentesco7</th>\n",
       "      <td>0</td>\n",
       "      <td>0.0</td>\n",
       "    </tr>\n",
       "    <tr>\n",
       "      <th>instlevel4</th>\n",
       "      <td>0</td>\n",
       "      <td>0.0</td>\n",
       "    </tr>\n",
       "    <tr>\n",
       "      <th>estadocivil5</th>\n",
       "      <td>0</td>\n",
       "      <td>0.0</td>\n",
       "    </tr>\n",
       "  </tbody>\n",
       "</table>\n",
       "</div>"
      ],
      "text/plain": [
       "              Total  Percent\n",
       "edjef         23856    100.0\n",
       "hogar_mayor       0      0.0\n",
       "parentesco10      0      0.0\n",
       "parentesco11      0      0.0\n",
       "parentesco12      0      0.0\n",
       "idhogar           0      0.0\n",
       "hogar_nin         0      0.0\n",
       "hogar_adul        0      0.0\n",
       "hogar_total       0      0.0\n",
       "parentesco8       0      0.0\n",
       "dependency        0      0.0\n",
       "edjefe            0      0.0\n",
       "edjefa            0      0.0\n",
       "meaneduc          0      0.0\n",
       "instlevel1        0      0.0\n",
       "instlevel2        0      0.0\n",
       "parentesco9       0      0.0\n",
       "parentesco7       0      0.0\n",
       "instlevel4        0      0.0\n",
       "estadocivil5      0      0.0"
      ]
     },
     "execution_count": 21,
     "metadata": {},
     "output_type": "execute_result"
    }
   ],
   "source": [
    "total = df_test.isnull().sum().sort_values(ascending=False)\n",
    "percent = 100* (df_test.isnull().sum() / df_test.isnull().count()).sort_values(ascending=False)\n",
    "missing_df = pd.concat([total,percent], axis=1, keys=['Total','Percent'])\n",
    "\n",
    "missing_df.head(20)"
   ]
  },
  {
   "cell_type": "markdown",
   "id": "brown-leeds",
   "metadata": {},
   "source": [
    "이제 NaN 값이 없다."
   ]
  },
  {
   "cell_type": "markdown",
   "id": "incorrect-commission",
   "metadata": {},
   "source": [
    "# 2. Feature engineering"
   ]
  },
  {
   "cell_type": "markdown",
   "id": "increasing-peeing",
   "metadata": {},
   "source": [
    "## 2.1. Object features"
   ]
  },
  {
   "cell_type": "code",
   "execution_count": 22,
   "id": "rocky-hostel",
   "metadata": {
    "ExecuteTime": {
     "end_time": "2021-02-06T15:45:42.828491Z",
     "start_time": "2021-02-06T15:45:42.802560Z"
    }
   },
   "outputs": [],
   "source": [
    "features_object = [col for col in df_train.columns if df_train[col].dtype=='object']"
   ]
  },
  {
   "cell_type": "code",
   "execution_count": 23,
   "id": "billion-punishment",
   "metadata": {
    "ExecuteTime": {
     "end_time": "2021-02-06T15:45:42.843450Z",
     "start_time": "2021-02-06T15:45:42.832486Z"
    }
   },
   "outputs": [
    {
     "data": {
      "text/plain": [
       "['Id', 'idhogar', 'dependency', 'edjefe', 'edjefa']"
      ]
     },
     "execution_count": 23,
     "metadata": {},
     "output_type": "execute_result"
    }
   ],
   "source": [
    "features_object"
   ]
  },
  {
   "cell_type": "markdown",
   "id": "challenging-thickness",
   "metadata": {},
   "source": [
    "### dependency"
   ]
  },
  {
   "cell_type": "code",
   "execution_count": 24,
   "id": "advisory-stadium",
   "metadata": {
    "ExecuteTime": {
     "end_time": "2021-02-06T15:45:42.859408Z",
     "start_time": "2021-02-06T15:45:42.847439Z"
    }
   },
   "outputs": [],
   "source": [
    "# dependency는 Na값이 있어 SQBdependency의 제곱근으로 대체\n",
    "df_train['dependency'] = np.sqrt(df_train['SQBdependency'])\n",
    "df_test['dependency'] = np.sqrt(df_test['SQBdependency'])"
   ]
  },
  {
   "cell_type": "code",
   "execution_count": 25,
   "id": "historic-average",
   "metadata": {
    "ExecuteTime": {
     "end_time": "2021-02-06T15:45:42.875365Z",
     "start_time": "2021-02-06T15:45:42.861402Z"
    }
   },
   "outputs": [],
   "source": [
    "# df_train['dependency'] = df_train['dependency'].replace({np.inf: 0})\n",
    "# df_test['dependency'] = df_test['dependency'].replace({np.inf: 0})\n",
    "\n",
    "# def replace_dependency(x):\n",
    "#     if x == 'yes':\n",
    "#         return 10\n",
    "#     elif x == 'no':\n",
    "#         return 0\n",
    "#     else:\n",
    "#         return x\n",
    "\n",
    "# df_train['dependency'] = df_train['dependency'].apply(replace_dependency).astype(float)\n",
    "# df_test['dependency'] = df_test['dependency'].apply(replace_dependency).astype(float)\n",
    "\n",
    "# - As you can see, setting yes -> 10 and no -> 0 is good choice.\n",
    "# - At first, fill inf value with 0."
   ]
  },
  {
   "cell_type": "markdown",
   "id": "judicial-activation",
   "metadata": {},
   "source": [
    "### edjefe"
   ]
  },
  {
   "cell_type": "markdown",
   "id": "human-belief",
   "metadata": {},
   "source": [
    "- edjefe : escolari(교육연도)의 상호작용에 기반한 남성 가장의 교육 년도. yes=1, no=0\n",
    "- yes->1 no->0으로 대체"
   ]
  },
  {
   "cell_type": "code",
   "execution_count": 26,
   "id": "bacterial-content",
   "metadata": {
    "ExecuteTime": {
     "end_time": "2021-02-06T15:45:42.922239Z",
     "start_time": "2021-02-06T15:45:42.878357Z"
    }
   },
   "outputs": [],
   "source": [
    "def replace_edjefe(x):\n",
    "    if x=='yes':\n",
    "        return 1\n",
    "    elif x=='no':\n",
    "        return 0\n",
    "    else:\n",
    "        return x\n",
    "    \n",
    "df_train['edjefe'] = df_train['edjefe'].apply(replace_edjefe).astype(float)\n",
    "df_test['edjefe'] = df_test['edjefe'].apply(replace_edjefe).astype(float)"
   ]
  },
  {
   "cell_type": "markdown",
   "id": "taken-attribute",
   "metadata": {},
   "source": [
    "### edjefa"
   ]
  },
  {
   "cell_type": "markdown",
   "id": "manual-emperor",
   "metadata": {},
   "source": [
    "- edjefa : escolari(교육 연도)의 상호작용에 기반한 여성 가장의 교육 연도. yes=1, no=0\n",
    "- yes->1 no->0 대체"
   ]
  },
  {
   "cell_type": "code",
   "execution_count": 27,
   "id": "casual-diesel",
   "metadata": {
    "ExecuteTime": {
     "end_time": "2021-02-06T15:45:42.968118Z",
     "start_time": "2021-02-06T15:45:42.932213Z"
    }
   },
   "outputs": [],
   "source": [
    "def replace_edjefa(x):\n",
    "    if x=='yes':\n",
    "        return 1\n",
    "    elif x=='no':\n",
    "        return 0\n",
    "    else:\n",
    "        return x\n",
    "    \n",
    "df_train['edjefa'] = df_train['edjefa'].apply(replace_edjefa).astype(float)\n",
    "df_test['edjefa'] = df_test['edjefa'].apply(replace_edjefa).astype(float)"
   ]
  },
  {
   "cell_type": "code",
   "execution_count": 28,
   "id": "pharmaceutical-segment",
   "metadata": {
    "ExecuteTime": {
     "end_time": "2021-02-06T15:45:43.000031Z",
     "start_time": "2021-02-06T15:45:42.974101Z"
    }
   },
   "outputs": [],
   "source": [
    "# 남녀 가장의 최대 교육연도 변수 생성\n",
    "df_train['edjef'] = np.max(df_train[['edjefa','edjefe']], axis=1)\n",
    "df_test['edjef'] = np.max(df_test[['edjefa','edjefe']], axis=1)"
   ]
  },
  {
   "cell_type": "markdown",
   "id": "honey-composite",
   "metadata": {},
   "source": [
    "### roof and electricity"
   ]
  },
  {
   "cell_type": "code",
   "execution_count": 29,
   "id": "after-sense",
   "metadata": {
    "ExecuteTime": {
     "end_time": "2021-02-06T15:45:44.010329Z",
     "start_time": "2021-02-06T15:45:43.002029Z"
    }
   },
   "outputs": [],
   "source": [
    "df_train['roof_waste_material'] = np.nan\n",
    "df_test['roof_waste_material'] = np.nan\n",
    "df_train['electricity_other'] = np.nan\n",
    "df_test['electricity_other'] = np.nan\n",
    "\n",
    "def fill_roof_exception(x):\n",
    "    if (x['techozinc']==0) and (x['techoentrepiso']==0) and (x['techocane']==0) and (x['techootro']==0):\n",
    "        return 1\n",
    "    else :\n",
    "        return 0\n",
    "    \n",
    "def fill_no_electricity(x):\n",
    "    if (x['public']==0) and (x['planpri']==0) and (x['noelec']==0) and (x['coopele']==0):\n",
    "        return 1\n",
    "    else :\n",
    "        return 0\n",
    "    \n",
    "df_train['roof_waste_material'] = df_train.apply(lambda x:fill_roof_exception(x), axis=1)\n",
    "df_test['roof_waste_material'] = df_test.apply(lambda x : fill_roof_exception(x),axis=1)\n",
    "df_train['electricity_other'] = df_train.apply(lambda x : fill_no_electricity(x),axis=1)\n",
    "df_test['electricity_other'] = df_test.apply(lambda x : fill_no_electricity(x),axis=1)"
   ]
  },
  {
   "cell_type": "markdown",
   "id": "realistic-patio",
   "metadata": {},
   "source": [
    "## 2.2. Extract cat features"
   ]
  },
  {
   "cell_type": "markdown",
   "id": "answering-valley",
   "metadata": {},
   "source": [
    "데이터 설명에 따르면, 많은 이진 범주형 변수가 있다."
   ]
  },
  {
   "cell_type": "code",
   "execution_count": 30,
   "id": "described-pakistan",
   "metadata": {
    "ExecuteTime": {
     "end_time": "2021-02-06T15:45:44.134008Z",
     "start_time": "2021-02-06T15:45:44.012324Z"
    }
   },
   "outputs": [
    {
     "name": "stdout",
     "output_type": "stream",
     "text": [
      "['hacdor', 'hacapo', 'v14a', 'refrig', 'v18q', 'paredblolad', 'paredzocalo', 'paredpreb', 'pareddes', 'paredmad', 'paredzinc', 'paredfibras', 'paredother', 'pisomoscer', 'pisocemento', 'pisoother', 'pisonatur', 'pisonotiene', 'pisomadera', 'techozinc', 'techoentrepiso', 'techocane', 'techootro', 'cielorazo', 'abastaguadentro', 'abastaguafuera', 'abastaguano', 'public', 'planpri', 'noelec', 'coopele', 'sanitario1', 'sanitario2', 'sanitario3', 'sanitario5', 'sanitario6', 'energcocinar1', 'energcocinar2', 'energcocinar3', 'energcocinar4', 'elimbasu1', 'elimbasu2', 'elimbasu3', 'elimbasu4', 'elimbasu6', 'epared1', 'epared2', 'epared3', 'etecho1', 'etecho2', 'etecho3', 'eviv1', 'eviv2', 'eviv3', 'dis', 'male', 'female', 'estadocivil1', 'estadocivil2', 'estadocivil3', 'estadocivil4', 'estadocivil5', 'estadocivil6', 'estadocivil7', 'parentesco1', 'parentesco2', 'parentesco3', 'parentesco4', 'parentesco5', 'parentesco6', 'parentesco7', 'parentesco8', 'parentesco9', 'parentesco10', 'parentesco11', 'parentesco12', 'instlevel1', 'instlevel2', 'instlevel3', 'instlevel4', 'instlevel5', 'instlevel6', 'instlevel7', 'instlevel8', 'instlevel9', 'tipovivi1', 'tipovivi2', 'tipovivi3', 'tipovivi4', 'tipovivi5', 'computer', 'television', 'mobilephone', 'lugar1', 'lugar2', 'lugar3', 'lugar4', 'lugar5', 'lugar6', 'area1', 'area2', 'roof_waste_material', 'electricity_other']\n"
     ]
    }
   ],
   "source": [
    "binary_cat_features = [col for col in df_train.columns if df_train[col].value_counts().shape[0]==2]\n",
    "print(binary_cat_features)"
   ]
  },
  {
   "cell_type": "markdown",
   "id": "legal-level",
   "metadata": {},
   "source": [
    "## 2.3. Make new features using continuous feature"
   ]
  },
  {
   "cell_type": "code",
   "execution_count": 31,
   "id": "marine-taiwan",
   "metadata": {
    "ExecuteTime": {
     "end_time": "2021-02-06T15:45:44.149956Z",
     "start_time": "2021-02-06T15:45:44.135993Z"
    }
   },
   "outputs": [
    {
     "name": "stdout",
     "output_type": "stream",
     "text": [
      "['v2a1', 'rooms', 'v18q1', 'r4h1', 'r4h2', 'r4h3', 'r4m1', 'r4m2', 'r4m3', 'r4t1', 'r4t2', 'r4t3', 'tamhog', 'tamviv', 'escolari', 'rez_esc', 'hhsize', 'elimbasu5', 'hogar_nin', 'hogar_adul', 'hogar_mayor', 'hogar_total', 'meaneduc', 'bedrooms', 'overcrowding', 'qmobilephone', 'age', 'SQBescolari', 'SQBage', 'SQBhogar_total', 'SQBedjefe', 'SQBhogar_nin', 'SQBovercrowding', 'SQBdependency', 'SQBmeaned', 'agesq', 'edjef']\n"
     ]
    }
   ],
   "source": [
    "### 이진 범주 변수가 아닌 열\n",
    "continuous_features = [col for col in df_train.columns if col not in binary_cat_features]\n",
    "### 이진 범주 변수가 아니고 범주형 변수도 아닌 열\n",
    "continuous_features = [col for col in continuous_features if col not in features_object]\n",
    "### 이진 범주 변수도 아니고 범주형 변수도 아니고 Id, Target, idhogar도 아닌 열\n",
    "continuous_features = [col for col in continuous_features if col not in ['Id','Target','idhogar']]\n",
    "\n",
    "print(continuous_features)"
   ]
  },
  {
   "cell_type": "code",
   "execution_count": 32,
   "id": "civilian-shore",
   "metadata": {
    "ExecuteTime": {
     "end_time": "2021-02-06T15:45:44.197829Z",
     "start_time": "2021-02-06T15:45:44.151950Z"
    }
   },
   "outputs": [
    {
     "name": "stdout",
     "output_type": "stream",
     "text": [
      "There are 37 continuous features.\n",
      "v2a1: [' Monthly rent payment']\n",
      "rooms: ['  number of all rooms in the house']\n",
      "v18q1: [' number of tablets household owns']\n",
      "r4h1: [' Males younger than 12 years of age']\n",
      "r4h2: [' Males 12 years of age and older']\n",
      "r4h3: [' Total males in the household']\n",
      "r4m1: [' Females younger than 12 years of age']\n",
      "r4m2: [' Females 12 years of age and older']\n",
      "r4m3: [' Total females in the household']\n",
      "r4t1: [' persons younger than 12 years of age']\n",
      "r4t2: [' persons 12 years of age and older']\n",
      "r4t3: [' Total persons in the household']\n",
      "tamhog: [' size of the household']\n",
      "tamviv: [' number of persons living in the household']\n",
      "escolari: [' years of schooling']\n",
      "rez_esc: [' Years behind in school']\n",
      "hhsize: [' household size']\n",
      "elimbasu5: [' =1 if rubbish disposal mainly by throwing in river,   creek or sea']\n",
      "hogar_nin: [' Number of children 0 to 19 in household']\n",
      "hogar_adul: [' Number of adults in household']\n",
      "hogar_mayor: [' # of individuals 65+ in the household']\n",
      "hogar_total: [' # of total individuals in the household']\n",
      "meaneduc: ['average years of education for adults (18+)']\n",
      "bedrooms: [' number of bedrooms']\n",
      "overcrowding: [' # persons per room']\n",
      "qmobilephone: [' # of mobile phones']\n",
      "age: [' Age in years']\n",
      "SQBescolari: [' escolari squared']\n",
      "SQBage: [' age squared']\n",
      "SQBhogar_total: [' hogar_total squared']\n",
      "SQBedjefe: [' edjefe squared']\n",
      "SQBhogar_nin: [' hogar_nin squared']\n",
      "SQBovercrowding: [' overcrowding squared']\n",
      "SQBdependency: [' dependency squared']\n",
      "SQBmeaned: [' meaned squared']\n",
      "agesq: [' Age squared']\n",
      "edjef: []\n"
     ]
    }
   ],
   "source": [
    "print('There are {} continuous features.'.format(len(continuous_features)))\n",
    "for col in continuous_features:\n",
    "    print('{}: {}'.format(col, description.loc[description['varname']==col, 'description'].values))"
   ]
  },
  {
   "cell_type": "markdown",
   "id": "cloudy-nicaragua",
   "metadata": {},
   "source": [
    "- hhsize : 가정 규모\n",
    "- tamhog : 가정 규모\n",
    "\n",
    "차이점이 무엇일까?"
   ]
  },
  {
   "cell_type": "markdown",
   "id": "floating-holiday",
   "metadata": {},
   "source": [
    "- 보다시피 두 변수의 의미는 같지만 정확한 숫자가 다르다. 진짜 다를까?\n",
    "- 모른다. 우선 'tamhog' 변수를 삭제한다."
   ]
  },
  {
   "cell_type": "code",
   "execution_count": 33,
   "id": "honest-bride",
   "metadata": {
    "ExecuteTime": {
     "end_time": "2021-02-06T15:45:44.212788Z",
     "start_time": "2021-02-06T15:45:44.200820Z"
    }
   },
   "outputs": [
    {
     "data": {
      "text/plain": [
       "6.0     2792\n",
       "11.0    1150\n",
       "9.0      723\n",
       "8.0      474\n",
       "15.0     473\n",
       "3.0      459\n",
       "0.0      435\n",
       "7.0      413\n",
       "4.0      400\n",
       "5.0      398\n",
       "14.0     328\n",
       "17.0     278\n",
       "2.0      278\n",
       "16.0     247\n",
       "10.0     207\n",
       "12.0     185\n",
       "13.0     155\n",
       "1.0       65\n",
       "21.0      48\n",
       "18.0      22\n",
       "19.0      18\n",
       "20.0       9\n",
       "Name: edjef, dtype: int64"
      ]
     },
     "execution_count": 33,
     "metadata": {},
     "output_type": "execute_result"
    }
   ],
   "source": [
    "df_train['edjef'].value_counts()"
   ]
  },
  {
   "cell_type": "code",
   "execution_count": 34,
   "id": "revolutionary-penalty",
   "metadata": {
    "ExecuteTime": {
     "end_time": "2021-02-06T15:45:44.272629Z",
     "start_time": "2021-02-06T15:45:44.214782Z"
    }
   },
   "outputs": [],
   "source": [
    "df_train.drop('tamhog', axis=1, inplace=True)\n",
    "df_test.drop('tamhog', axis=1, inplace=True)"
   ]
  },
  {
   "cell_type": "markdown",
   "id": "guided-booking",
   "metadata": {},
   "source": [
    "### Squared features"
   ]
  },
  {
   "cell_type": "markdown",
   "id": "romance-parade",
   "metadata": {},
   "source": [
    "많은 제곱 변수가 있다. 사실 lightgbm과 같은 트리 모델은 이것들이 필요 없다. 하지만 여기선 lightgbm을 변수 필터링 모델로 사용하고 entity-embedding을 분류기로 설정하므로 변수를 유지하자. "
   ]
  },
  {
   "cell_type": "markdown",
   "id": "suburban-novelty",
   "metadata": {},
   "source": [
    "### Family features"
   ]
  },
  {
   "cell_type": "markdown",
   "id": "english-northern",
   "metadata": {},
   "source": [
    "- hogar_nin, hogar_adul, hogar_mayor, hogar_total, r4h1, r4h2, r4h3, r4m1, r4m2, r4m3, r4t1, r4t2, r4t3, tmbhog, tamvid, rez_esc, escolari\n",
    "- 가족 규모 변수 (substract, ratio)"
   ]
  },
  {
   "cell_type": "code",
   "execution_count": 35,
   "id": "hungry-jones",
   "metadata": {
    "ExecuteTime": {
     "end_time": "2021-02-06T15:45:44.303544Z",
     "start_time": "2021-02-06T15:45:44.274622Z"
    }
   },
   "outputs": [],
   "source": [
    "df_train['adult'] = df_train['hogar_adul'] - df_train['hogar_mayor']\n",
    "df_train['dependency_count'] = df_train['hogar_nin'] + df_train['hogar_mayor']\n",
    "df_train['dependency'] = df_train['dependency_count'] / df_train['adult']\n",
    "df_train['child_percent'] = df_train['hogar_nin'] / df_train['hogar_total']\n",
    "df_train['elder_percent'] = df_train['hogar_mayor'] / df_train['hogar_total']\n",
    "df_train['adult_percent'] = df_train['hogar_adul'] / df_train['hogar_total']\n",
    "df_train['males_younger_12_years_percent'] = df_train['r4h1'] / df_train['hogar_total']\n",
    "df_train['males_older_12_years_percent'] = df_train['r4h2'] / df_train['hogar_total']\n",
    "df_train['males_percent'] = df_train['r4h3'] / df_train['hogar_total']\n",
    "df_train['females_younger_12_years_percent'] = df_train['r4m1'] / df_train['hogar_total']\n",
    "df_train['females_older_12_years_percent'] = df_train['r4m2'] / df_train['hogar_total']\n",
    "df_train['females_percent'] = df_train['r4m3'] / df_train['hogar_total']\n",
    "df_train['persons_younger_12_years_percent'] = df_train['r4t1'] / df_train['hogar_total']\n",
    "df_train['persons_older_12_years_percent'] = df_train['r4t2'] / df_train['hogar_total']\n",
    "df_train['persons_percent'] = df_train['r4t3'] / df_train['hogar_total']"
   ]
  },
  {
   "cell_type": "code",
   "execution_count": 36,
   "id": "radio-scheduling",
   "metadata": {
    "ExecuteTime": {
     "end_time": "2021-02-06T15:45:44.335461Z",
     "start_time": "2021-02-06T15:45:44.305539Z"
    }
   },
   "outputs": [],
   "source": [
    "df_test['adult'] = df_test['hogar_adul'] - df_test['hogar_mayor']\n",
    "df_test['dependency_count'] = df_test['hogar_nin'] + df_test['hogar_mayor']\n",
    "df_test['dependency'] = df_test['dependency_count'] / df_test['adult']\n",
    "df_test['child_percent'] = df_test['hogar_nin'] / df_test['hogar_total']\n",
    "df_test['elder_percent'] = df_test['hogar_mayor'] / df_test['hogar_total']\n",
    "df_test['adult_percent'] = df_test['hogar_adul'] / df_test['hogar_total']\n",
    "df_test['males_younger_12_years_percent'] = df_test['r4h1'] / df_test['hogar_total']\n",
    "df_test['males_older_12_years_percent'] = df_test['r4h2'] / df_test['hogar_total']\n",
    "df_test['males_percent'] = df_test['r4h3'] / df_test['hogar_total']\n",
    "df_test['females_younger_12_years_percent'] = df_test['r4m1'] / df_test['hogar_total']\n",
    "df_test['females_older_12_years_percent'] = df_test['r4m2'] / df_test['hogar_total']\n",
    "df_test['females_percent'] = df_test['r4m3'] / df_test['hogar_total']\n",
    "df_test['persons_younger_12_years_percent'] = df_test['r4t1'] / df_test['hogar_total']\n",
    "df_test['persons_older_12_years_percent'] = df_test['r4t2'] / df_test['hogar_total']\n",
    "df_test['persons_percent'] = df_test['r4t3'] / df_test['hogar_total']"
   ]
  },
  {
   "cell_type": "code",
   "execution_count": 37,
   "id": "amazing-hungary",
   "metadata": {
    "ExecuteTime": {
     "end_time": "2021-02-06T15:45:44.367373Z",
     "start_time": "2021-02-06T15:45:44.338452Z"
    }
   },
   "outputs": [],
   "source": [
    "df_train['males_younger_12_years_in_household_size'] = df_train['r4h1'] / df_train['hhsize']\n",
    "df_train['males_older_12_years_in_household_size'] = df_train['r4h2'] / df_train['hhsize']\n",
    "df_train['males_in_household_size'] = df_train['r4h3'] / df_train['hhsize']\n",
    "df_train['females_younger_12_years_in_household_size'] = df_train['r4m1'] / df_train['hhsize']\n",
    "df_train['females_older_12_years_in_household_size'] = df_train['r4m2'] / df_train['hhsize']\n",
    "df_train['females_in_household_size'] = df_train['r4m3'] / df_train['hogar_total']\n",
    "df_train['persons_younger_12_years_in_household_size'] = df_train['r4t1'] / df_train['hhsize']\n",
    "df_train['persons_older_12_years_in_household_size'] = df_train['r4t2'] / df_train['hhsize']\n",
    "df_train['persons_in_household_size'] = df_train['r4t3'] / df_train['hhsize']"
   ]
  },
  {
   "cell_type": "code",
   "execution_count": 38,
   "id": "auburn-carroll",
   "metadata": {
    "ExecuteTime": {
     "end_time": "2021-02-06T15:45:44.399290Z",
     "start_time": "2021-02-06T15:45:44.369369Z"
    }
   },
   "outputs": [],
   "source": [
    "df_test['males_younger_12_years_in_household_size'] = df_test['r4h1'] / df_test['hhsize']\n",
    "df_test['males_older_12_years_in_household_size'] = df_test['r4h2'] / df_test['hhsize']\n",
    "df_test['males_in_household_size'] = df_test['r4h3'] / df_test['hhsize']\n",
    "df_test['females_younger_12_years_in_household_size'] = df_test['r4m1'] / df_test['hhsize']\n",
    "df_test['females_older_12_years_in_household_size'] = df_test['r4m2'] / df_test['hhsize']\n",
    "df_test['females_in_household_size'] = df_test['r4m3'] / df_test['hogar_total']\n",
    "df_test['persons_younger_12_years_in_household_size'] = df_test['r4t1'] / df_test['hhsize']\n",
    "df_test['persons_older_12_years_in_household_size'] = df_test['r4t2'] / df_test['hhsize']\n",
    "df_test['persons_in_household_size'] = df_test['r4t3'] / df_test['hhsize']"
   ]
  },
  {
   "cell_type": "code",
   "execution_count": 39,
   "id": "governing-batch",
   "metadata": {
    "ExecuteTime": {
     "end_time": "2021-02-06T15:45:44.415245Z",
     "start_time": "2021-02-06T15:45:44.401284Z"
    }
   },
   "outputs": [],
   "source": [
    "df_train['overcrowding_room_and_bedroom'] = (df_train['hacdor'] + df_train['hacapo'])/2\n",
    "df_test['overcrowding_room_and_bedroom'] = (df_test['hacdor'] + df_test['hacapo'])/2"
   ]
  },
  {
   "cell_type": "code",
   "execution_count": 40,
   "id": "altered-accreditation",
   "metadata": {
    "ExecuteTime": {
     "end_time": "2021-02-06T15:45:44.431205Z",
     "start_time": "2021-02-06T15:45:44.417240Z"
    }
   },
   "outputs": [],
   "source": [
    "df_train['escolari_age'] = df_train['escolari']/df_train['age']\n",
    "df_test['escolari_age'] = df_test['escolari']/df_test['age']\n",
    "\n",
    "df_train['age_12_19'] = df_train['hogar_nin'] - df_train['r4t1']\n",
    "df_test['age_12_19'] = df_test['hogar_nin'] - df_test['r4t1'] "
   ]
  },
  {
   "cell_type": "code",
   "execution_count": 41,
   "id": "enclosed-behavior",
   "metadata": {
    "ExecuteTime": {
     "end_time": "2021-02-06T15:45:44.447161Z",
     "start_time": "2021-02-06T15:45:44.433198Z"
    }
   },
   "outputs": [],
   "source": [
    "df_train['phones-per-capita'] = df_train['qmobilephone'] / df_train['tamviv']\n",
    "df_train['tablets-per-capita'] = df_train['v18q1'] / df_train['tamviv']\n",
    "df_train['rooms-per-capita'] = df_train['rooms'] / df_train['tamviv']\n",
    "df_train['rent-per-capita'] = df_train['v2a1'] / df_train['tamviv']"
   ]
  },
  {
   "cell_type": "code",
   "execution_count": 42,
   "id": "acoustic-evanescence",
   "metadata": {
    "ExecuteTime": {
     "end_time": "2021-02-06T15:45:44.463119Z",
     "start_time": "2021-02-06T15:45:44.450153Z"
    }
   },
   "outputs": [],
   "source": [
    "df_test['phones-per-capita'] = df_test['qmobilephone'] / df_test['tamviv']\n",
    "df_test['tablets-per-capita'] = df_test['v18q1'] / df_test['tamviv']\n",
    "df_test['rooms-per-capita'] = df_test['rooms'] / df_test['tamviv']\n",
    "df_test['rent-per-capita'] = df_test['v2a1'] / df_test['tamviv']"
   ]
  },
  {
   "cell_type": "markdown",
   "id": "floating-fairy",
   "metadata": {},
   "source": [
    "\"가정의 총 사람 수\"가 가정의 총 개인 수와 같지 않은 것을 볼 수 있다. 뭔가 이상하다. 하지만 지금은 일단 변수를 유지한다."
   ]
  },
  {
   "cell_type": "code",
   "execution_count": 43,
   "id": "original-circular",
   "metadata": {
    "ExecuteTime": {
     "end_time": "2021-02-06T15:45:44.479077Z",
     "start_time": "2021-02-06T15:45:44.465112Z"
    }
   },
   "outputs": [
    {
     "data": {
      "text/plain": [
       "9509"
      ]
     },
     "execution_count": 43,
     "metadata": {},
     "output_type": "execute_result"
    }
   ],
   "source": [
    "(df_train['hogar_total'] == df_train['r4t3']).sum()"
   ]
  },
  {
   "cell_type": "markdown",
   "id": "seeing-signal",
   "metadata": {},
   "source": [
    "### Rent per family features"
   ]
  },
  {
   "cell_type": "markdown",
   "id": "lonely-champagne",
   "metadata": {},
   "source": [
    "shap을 이용해 변수의 수를 줄일 것이니 많은 변수를 생성해보자."
   ]
  },
  {
   "cell_type": "code",
   "execution_count": 44,
   "id": "figured-julian",
   "metadata": {
    "ExecuteTime": {
     "end_time": "2021-02-06T15:45:44.540911Z",
     "start_time": "2021-02-06T15:45:44.482068Z"
    }
   },
   "outputs": [],
   "source": [
    "family_size_features = ['adult','hogar_adul', 'hogar_mayor', 'hogar_nin', 'hogar_total', 'r4h1', 'r4h2', 'r4h3', 'r4m1', 'r4m2', 'r4m3', 'r4t1', 'r4t2', 'r4t3', 'hhsize']\n",
    "new_feats = []\n",
    "for col in family_size_features:\n",
    "    new_col_name = 'new_{}_per_{}'.format('v2a1',col)\n",
    "    new_feats.append(new_col_name)\n",
    "    df_train[new_col_name] = df_train['v2a1'] / df_train[col]\n",
    "    df_test[new_col_name] = df_test['v2a1'] / df_test[col]"
   ]
  },
  {
   "cell_type": "markdown",
   "id": "inner-roots",
   "metadata": {},
   "source": [
    "비율 변수는 무한 값을 가질 수 있으므로 0으로 대체한다."
   ]
  },
  {
   "cell_type": "code",
   "execution_count": 45,
   "id": "ready-sucking",
   "metadata": {
    "ExecuteTime": {
     "end_time": "2021-02-06T15:45:44.586788Z",
     "start_time": "2021-02-06T15:45:44.543902Z"
    }
   },
   "outputs": [],
   "source": [
    "for col in new_feats:\n",
    "    df_train[col].replace([np.inf], np.nan, inplace=True) ### 무한값을 nan으로\n",
    "    df_train[col].fillna(0, inplace=True)  ### nan값을 0으로\n",
    "    \n",
    "    df_test[col].replace([np.inf], np.nan, inplace=True)\n",
    "    df_test[col].fillna(0, inplace=True)"
   ]
  },
  {
   "cell_type": "markdown",
   "id": "pressed-grill",
   "metadata": {},
   "source": [
    "### Room per family features"
   ]
  },
  {
   "cell_type": "code",
   "execution_count": 46,
   "id": "moderate-removal",
   "metadata": {
    "ExecuteTime": {
     "end_time": "2021-02-06T15:45:44.666574Z",
     "start_time": "2021-02-06T15:45:44.588782Z"
    }
   },
   "outputs": [],
   "source": [
    "new_feats = []\n",
    "\n",
    "for col in family_size_features:\n",
    "    new_col_name = 'new_{}_per_{}'.format('rooms', col)\n",
    "    new_feats.append(new_col_name)\n",
    "    df_train[new_col_name] = df_train['rooms'] / df_train[col]\n",
    "    df_test[new_col_name] = df_test['rooms'] / df_test[col]\n",
    "    \n",
    "for col in new_feats:\n",
    "    df_train[col].replace([np.inf], np.nan, inplace=True)\n",
    "    df_train[col].fillna(0, inplace=True)\n",
    "    \n",
    "    df_test[col].replace([np.inf], np.nan, inplace=True)\n",
    "    df_test[col].fillna(0, inplace=True)"
   ]
  },
  {
   "cell_type": "markdown",
   "id": "collaborative-museum",
   "metadata": {},
   "source": [
    "### BedRoom per family features"
   ]
  },
  {
   "cell_type": "code",
   "execution_count": 47,
   "id": "mounted-decimal",
   "metadata": {
    "ExecuteTime": {
     "end_time": "2021-02-06T15:45:44.746361Z",
     "start_time": "2021-02-06T15:45:44.669566Z"
    }
   },
   "outputs": [],
   "source": [
    "new_feats = []\n",
    "\n",
    "for col in family_size_features:\n",
    "    new_col_name = 'new_{}_per_{}'.format('bedrooms', col)\n",
    "    new_feats.append(new_col_name)\n",
    "    df_train[new_col_name] = df_train['bedrooms'] / df_train[col]\n",
    "    df_test[new_col_name] = df_test['bedrooms'] / df_test[col]\n",
    "\n",
    "for col in new_feats:\n",
    "    df_train[col].replace([np.inf], np.nan, inplace=True)\n",
    "    df_train[col].fillna(0, inplace=True)\n",
    "    \n",
    "    df_test[col].replace([np.inf], np.nan, inplace=True)\n",
    "    df_test[col].fillna(0, inplace=True)"
   ]
  },
  {
   "cell_type": "code",
   "execution_count": 48,
   "id": "rocky-break",
   "metadata": {
    "ExecuteTime": {
     "end_time": "2021-02-06T15:45:44.762317Z",
     "start_time": "2021-02-06T15:45:44.749353Z"
    }
   },
   "outputs": [
    {
     "name": "stdout",
     "output_type": "stream",
     "text": [
      "(9557, 220) (23856, 219)\n"
     ]
    }
   ],
   "source": [
    "print(df_train.shape, df_test.shape)  # train, test의 변수 수가 같은지 확인(target은 train에만)"
   ]
  },
  {
   "cell_type": "markdown",
   "id": "known-folder",
   "metadata": {},
   "source": [
    "### Tabulet per family features"
   ]
  },
  {
   "cell_type": "code",
   "execution_count": 49,
   "id": "centered-elements",
   "metadata": {
    "ExecuteTime": {
     "end_time": "2021-02-06T15:45:44.842105Z",
     "start_time": "2021-02-06T15:45:44.765310Z"
    }
   },
   "outputs": [],
   "source": [
    "new_feats = []\n",
    "\n",
    "for col in family_size_features:\n",
    "    new_col_name = 'new_{}_per_{}'.format('v18q1', col)\n",
    "    new_feats.append(new_col_name)\n",
    "    df_train[new_col_name] = df_train['v18q1'] / df_train[col]\n",
    "    df_test[new_col_name] = df_test['v18q1'] / df_test[col]\n",
    "\n",
    "for col in new_feats:\n",
    "    df_train[col].replace([np.inf], np.nan, inplace=True)\n",
    "    df_train[col].fillna(0, inplace=True)\n",
    "    \n",
    "    df_test[col].replace([np.inf], np.nan, inplace=True)\n",
    "    df_test[col].fillna(0, inplace=True)"
   ]
  },
  {
   "cell_type": "markdown",
   "id": "scheduled-absorption",
   "metadata": {},
   "source": [
    "### phone per family features"
   ]
  },
  {
   "cell_type": "code",
   "execution_count": 50,
   "id": "sitting-consortium",
   "metadata": {
    "ExecuteTime": {
     "end_time": "2021-02-06T15:45:44.967768Z",
     "start_time": "2021-02-06T15:45:44.845097Z"
    }
   },
   "outputs": [],
   "source": [
    "new_feats = []\n",
    "\n",
    "for col in family_size_features:\n",
    "    new_col_name = 'new_{}_per_{}'.format('qmobilephone', col)\n",
    "    new_feats.append(new_col_name)\n",
    "    df_train[new_col_name] = df_train['qmobilephone'] / df_train[col]\n",
    "    df_test[new_col_name] = df_test['qmobilephone'] / df_test[col]\n",
    "\n",
    "for col in new_feats:\n",
    "    df_train[col].replace([np.inf], np.nan, inplace=True)\n",
    "    df_train[col].fillna(0, inplace=True)\n",
    "    \n",
    "    df_test[col].replace([np.inf], np.nan, inplace=True)\n",
    "    df_test[col].fillna(0, inplace=True)"
   ]
  },
  {
   "cell_type": "markdown",
   "id": "square-spain",
   "metadata": {},
   "source": [
    "### rez_esc(Years behind in school) per family features"
   ]
  },
  {
   "cell_type": "code",
   "execution_count": 51,
   "id": "refined-proposal",
   "metadata": {
    "ExecuteTime": {
     "end_time": "2021-02-06T15:45:45.045561Z",
     "start_time": "2021-02-06T15:45:44.970761Z"
    }
   },
   "outputs": [],
   "source": [
    "new_feats = []\n",
    "\n",
    "for col in family_size_features:\n",
    "    new_col_name = 'new_{}_per_{}'.format('rez_esc', col)\n",
    "    new_feats.append(new_col_name)\n",
    "    df_train[new_col_name] = df_train['rez_esc'] / df_train[col]\n",
    "    df_test[new_col_name] = df_test['rez_esc'] / df_test[col]\n",
    "\n",
    "for col in new_feats:\n",
    "    df_train[col].replace([np.inf], np.nan, inplace=True)\n",
    "    df_train[col].fillna(0, inplace=True)\n",
    "    \n",
    "    df_test[col].replace([np.inf], np.nan, inplace=True)\n",
    "    df_test[col].fillna(0, inplace=True)"
   ]
  },
  {
   "cell_type": "code",
   "execution_count": 52,
   "id": "expanded-alfred",
   "metadata": {
    "ExecuteTime": {
     "end_time": "2021-02-06T15:45:45.075479Z",
     "start_time": "2021-02-06T15:45:45.048553Z"
    }
   },
   "outputs": [],
   "source": [
    "df_train['rez_esc_age'] = df_train['rez_esc'] / df_train['age']\n",
    "df_train['rez_esc_escolari'] = df_train['rez_esc'] / df_train['escolari']\n",
    "\n",
    "df_test['rez_esc_age'] = df_test['rez_esc'] / df_test['age']\n",
    "df_test['rez_esc_escolari'] = df_test['rez_esc'] / df_test['escolari']"
   ]
  },
  {
   "cell_type": "markdown",
   "id": "loving-cathedral",
   "metadata": {},
   "source": [
    "### Rich features"
   ]
  },
  {
   "cell_type": "markdown",
   "id": "assisted-minute",
   "metadata": {},
   "source": [
    "더 부유할수록 휴대폰과 태블릿 수가 더 많을 거라고 생각한다."
   ]
  },
  {
   "cell_type": "code",
   "execution_count": 53,
   "id": "organizational-synthetic",
   "metadata": {
    "ExecuteTime": {
     "end_time": "2021-02-06T15:45:45.090440Z",
     "start_time": "2021-02-06T15:45:45.077475Z"
    }
   },
   "outputs": [],
   "source": [
    "df_train['tabulet_x_qmobilephone'] = df_train['v18q1'] * df_train['qmobilephone']\n",
    "df_test['tabulet_x_qmobilephone'] = df_test['v18q1'] * df_test['qmobilephone']"
   ]
  },
  {
   "cell_type": "markdown",
   "id": "lesbian-advancement",
   "metadata": {},
   "source": [
    "- wall, roof, floor은 주요 요인일 수 있다.\n",
    "- 이를 각각 곱해보자. 이진 범주형 변수이므로 각 변수의 다중화는 새로운 범주형 변수를 만든다."
   ]
  },
  {
   "cell_type": "code",
   "execution_count": 54,
   "id": "checked-upper",
   "metadata": {
    "ExecuteTime": {
     "end_time": "2021-02-06T15:45:45.168231Z",
     "start_time": "2021-02-06T15:45:45.092435Z"
    }
   },
   "outputs": [],
   "source": [
    "# wall, roof\n",
    "for col1 in ['epared1','epared2','epared3']:\n",
    "    for col2 in ['etecho1', 'etecho2', 'etecho3']:\n",
    "        new_col_name = 'new_{}_x_{}'.format(col1,col2)\n",
    "        df_train[new_col_name] = df_train[col1] * df_train[col2]\n",
    "        df_test[new_col_name] = df_test[col1] * df_test[col2]\n",
    "        \n",
    "# wall, floor\n",
    "for col1 in ['epared1', 'epared2', 'epared3']:\n",
    "    for col2 in ['eviv1', 'eviv2', 'eviv3']:\n",
    "        new_col_name = 'new_{}_x_{}'.format(col1, col2)\n",
    "        df_train[new_col_name] = df_train[col1] * df_train[col2]\n",
    "        df_test[new_col_name] = df_test[col1] * df_test[col2]\n",
    "\n",
    "# roof, floor\n",
    "for col1 in ['etecho1', 'etecho2', 'etecho3']:\n",
    "    for col2 in ['eviv1', 'eviv2', 'eviv3']:\n",
    "        new_col_name = 'new_{}_x_{}'.format(col1, col2)\n",
    "        df_train[new_col_name] = df_train[col1] * df_train[col2]\n",
    "        df_test[new_col_name] = df_test[col1] * df_test[col2]"
   ]
  },
  {
   "cell_type": "markdown",
   "id": "coupled-tracy",
   "metadata": {},
   "source": [
    "세 변수를 사용해 조합해보자."
   ]
  },
  {
   "cell_type": "code",
   "execution_count": 55,
   "id": "taken-italy",
   "metadata": {
    "ExecuteTime": {
     "end_time": "2021-02-06T15:45:45.263891Z",
     "start_time": "2021-02-06T15:45:45.170227Z"
    }
   },
   "outputs": [],
   "source": [
    "for col1 in ['epared1', 'epared2', 'epared3']:\n",
    "    for col2 in ['etecho1', 'etecho2', 'etecho3']:\n",
    "        for col3 in ['eviv1', 'eviv2', 'eviv3']:\n",
    "            new_col_name = 'new_{}_x_{}_x_{}'.format(col1, col2, col3)\n",
    "            df_train[new_col_name] = df_train[col1] * df_train[col2] * df_train[col3]\n",
    "            df_test[new_col_name] = df_test[col1] * df_test[col2] * df_train[col3]"
   ]
  },
  {
   "cell_type": "code",
   "execution_count": 56,
   "id": "insured-sodium",
   "metadata": {
    "ExecuteTime": {
     "end_time": "2021-02-06T15:45:45.279855Z",
     "start_time": "2021-02-06T15:45:45.266890Z"
    }
   },
   "outputs": [
    {
     "name": "stdout",
     "output_type": "stream",
     "text": [
      "(9557, 322) (23856, 321)\n"
     ]
    }
   ],
   "source": [
    "print(df_train.shape, df_test.shape)"
   ]
  },
  {
   "cell_type": "markdown",
   "id": "expensive-integrity",
   "metadata": {},
   "source": [
    "electicity와 energy 변수로 energy features를 만들자."
   ]
  },
  {
   "cell_type": "code",
   "execution_count": 57,
   "id": "neither-timeline",
   "metadata": {
    "ExecuteTime": {
     "end_time": "2021-02-06T15:45:45.327725Z",
     "start_time": "2021-02-06T15:45:45.282847Z"
    }
   },
   "outputs": [],
   "source": [
    "for col1 in ['public', 'planpri', 'noelec', 'coopele']:\n",
    "    for col2 in ['energcocinar1', 'energcocinar2', 'energcocinar3', 'energcocinar4']:\n",
    "        new_col_name = 'new_{}_x_{}'.format(col1,col2)\n",
    "        df_train[new_col_name] = df_train[col1] * df_train[col2]\n",
    "        df_test[new_col_name] = df_test[col1] * df_test[col2]"
   ]
  },
  {
   "cell_type": "markdown",
   "id": "renewable-comedy",
   "metadata": {},
   "source": [
    "toilet과 rubbish disposal 변수로 other_infra 변수를 만들자."
   ]
  },
  {
   "cell_type": "code",
   "execution_count": 58,
   "id": "further-digest",
   "metadata": {
    "ExecuteTime": {
     "end_time": "2021-02-06T15:45:45.453299Z",
     "start_time": "2021-02-06T15:45:45.329721Z"
    }
   },
   "outputs": [],
   "source": [
    "for col1 in ['sanitario1', 'sanitario2', 'sanitario3', 'sanitario5', 'sanitario6']:\n",
    "    for col2 in ['elimbasu1', 'elimbasu2', 'elimbasu3', 'elimbasu4', 'elimbasu5', 'elimbasu6']:\n",
    "        new_col_name = 'new_{}_x_{}'.format(col1, col2)\n",
    "        df_train[new_col_name] = df_train[col1] * df_train[col2]\n",
    "        df_test[new_col_name] = df_test[col1] * df_test[col2]"
   ]
  },
  {
   "cell_type": "markdown",
   "id": "optical-mounting",
   "metadata": {
    "ExecuteTime": {
     "end_time": "2021-02-05T15:12:52.958444Z",
     "start_time": "2021-02-05T15:12:52.937502Z"
    }
   },
   "source": [
    "toilet과 water porvision 변수로 water 변수를 만들자."
   ]
  },
  {
   "cell_type": "code",
   "execution_count": 59,
   "id": "rapid-edition",
   "metadata": {
    "ExecuteTime": {
     "end_time": "2021-02-06T15:45:45.484769Z",
     "start_time": "2021-02-06T15:45:45.455302Z"
    }
   },
   "outputs": [],
   "source": [
    "for col1 in ['abastaguadentro', 'abastaguafuera', 'abastaguano']:\n",
    "    for col2 in ['sanitario1', 'sanitario2', 'sanitario3', 'sanitario5', 'sanitario6']:\n",
    "        new_col_name = 'new_{}_x_{}'.format(col1, col2)\n",
    "        df_train[new_col_name] = df_train[col1] * df_train[col2]\n",
    "        df_test[new_col_name] = df_test[col1] * df_test[col2]"
   ]
  },
  {
   "cell_type": "code",
   "execution_count": 60,
   "id": "dominant-hands",
   "metadata": {
    "ExecuteTime": {
     "end_time": "2021-02-06T15:45:45.500733Z",
     "start_time": "2021-02-06T15:45:45.486771Z"
    }
   },
   "outputs": [
    {
     "name": "stdout",
     "output_type": "stream",
     "text": [
      "(9557, 383) (23856, 382)\n"
     ]
    }
   ],
   "source": [
    "print(df_train.shape, df_test.shape)"
   ]
  },
  {
   "cell_type": "markdown",
   "id": "noticed-faith",
   "metadata": {},
   "source": [
    "education과 area 변수로 education_zone 변수를 만들자."
   ]
  },
  {
   "cell_type": "code",
   "execution_count": 61,
   "id": "possible-nickel",
   "metadata": {
    "ExecuteTime": {
     "end_time": "2021-02-06T15:45:45.548604Z",
     "start_time": "2021-02-06T15:45:45.502728Z"
    }
   },
   "outputs": [],
   "source": [
    "for col1 in ['area1', 'area2']:\n",
    "    for col2 in ['instlevel1', 'instlevel2', 'instlevel3', 'instlevel4', 'instlevel5', 'instlevel6', 'instlevel7', 'instlevel8', 'instlevel9']:\n",
    "        new_col_name = 'new_{}_x_{}'.format(col1, col2)\n",
    "        df_train[new_col_name] = df_train[col1] * df_train[col2]\n",
    "        df_test[new_col_name] = df_test[col1] * df_test[col2]"
   ]
  },
  {
   "cell_type": "markdown",
   "id": "funny-benefit",
   "metadata": {
    "ExecuteTime": {
     "end_time": "2021-02-05T15:13:50.795526Z",
     "start_time": "2021-02-05T15:13:50.781565Z"
    }
   },
   "source": [
    "region과 education으로 새 변수를 만들자."
   ]
  },
  {
   "cell_type": "code",
   "execution_count": 62,
   "id": "listed-beach",
   "metadata": {
    "ExecuteTime": {
     "end_time": "2021-02-06T15:45:45.769015Z",
     "start_time": "2021-02-06T15:45:45.550600Z"
    }
   },
   "outputs": [],
   "source": [
    "for col1 in ['lugar1', 'lugar2', 'lugar3', 'lugar4', 'lugar5', 'lugar6']:\n",
    "    for col2 in ['instlevel1', 'instlevel2', 'instlevel3', 'instlevel4', 'instlevel5', 'instlevel6', 'instlevel7', 'instlevel8', 'instlevel9']:\n",
    "        new_col_name = 'new_{}_x_{}'.format(col1, col2)\n",
    "        df_train[new_col_name] = df_train[col1] * df_train[col2]\n",
    "        df_test[new_col_name] = df_test[col1] * df_test[col2]"
   ]
  },
  {
   "cell_type": "code",
   "execution_count": 63,
   "id": "dressed-inquiry",
   "metadata": {
    "ExecuteTime": {
     "end_time": "2021-02-06T15:45:45.784973Z",
     "start_time": "2021-02-06T15:45:45.772009Z"
    }
   },
   "outputs": [
    {
     "name": "stdout",
     "output_type": "stream",
     "text": [
      "(9557, 455) (23856, 454)\n"
     ]
    }
   ],
   "source": [
    "print(df_train.shape, df_test.shape)"
   ]
  },
  {
   "cell_type": "markdown",
   "id": "tropical-swiss",
   "metadata": {},
   "source": [
    "television, mobilephon, computer, tabulet, refrigerator를 곱해 electronics 변수를 만들자."
   ]
  },
  {
   "cell_type": "code",
   "execution_count": 64,
   "id": "informal-sodium",
   "metadata": {
    "ExecuteTime": {
     "end_time": "2021-02-06T15:45:45.816887Z",
     "start_time": "2021-02-06T15:45:45.786968Z"
    }
   },
   "outputs": [],
   "source": [
    "df_train['electronics'] = df_train['computer'] * df_train['mobilephone'] * df_train['television'] * df_train['v18q'] * df_train['refrig']\n",
    "df_test['electronics'] = df_test['computer'] * df_test['mobilephone'] * df_test['television'] * df_test['v18q'] * df_test['refrig']\n",
    "\n",
    "df_train['no_appliances'] = df_train['refrig'] + df_train['computer'] + df_train['television'] + df_train['mobilephone']\n",
    "df_test['no_appliances'] = df_test['refrig'] + df_test['computer'] + df_test['television'] + df_test['mobilephone']"
   ]
  },
  {
   "cell_type": "markdown",
   "id": "sublime-abraham",
   "metadata": {},
   "source": [
    "wall material과 roof, floor, wall로 새 변수를 만들자."
   ]
  },
  {
   "cell_type": "code",
   "execution_count": 65,
   "id": "mexican-klein",
   "metadata": {
    "ExecuteTime": {
     "end_time": "2021-02-06T15:45:46.932984Z",
     "start_time": "2021-02-06T15:45:45.819880Z"
    }
   },
   "outputs": [],
   "source": [
    "for col1 in ['paredblolad', 'paredzocalo', 'paredpreb', 'pareddes', 'paredmad', 'paredzinc', 'paredfibras', 'paredother']:\n",
    "    for col2 in ['pisomoscer', 'pisocemento', 'pisoother', 'pisonatur', 'pisonotiene', 'pisomadera']:\n",
    "        new_col_name = 'new_{}_x_{}'.format(col1, col2)\n",
    "        df_train[new_col_name] = df_train[col1] * df_train[col2]\n",
    "        df_test[new_col_name] = df_test[col1] * df_test[col2]\n",
    "\n",
    "for col1 in ['pisomoscer', 'pisocemento', 'pisoother', 'pisonatur', 'pisonotiene', 'pisomadera']:\n",
    "    for col1 in ['techozinc', 'techoentrepiso', 'techocane', 'techootro']:\n",
    "        new_col_name = 'new_{}_x_{}'.format(col1, col2)\n",
    "        df_train[new_col_name] = df_train[col1] * df_train[col2]\n",
    "        df_test[new_col_name] = df_test[col1] * df_test[col2]\n",
    "        \n",
    "for col1 in ['paredblolad', 'paredzocalo', 'paredpreb', 'pareddes', 'paredmad', 'paredzinc', 'paredfibras', 'paredother']:\n",
    "    for col2 in ['techozinc', 'techoentrepiso', 'techocane', 'techootro']:\n",
    "        new_col_name = 'new_{}_x_{}'.format(col1, col2)\n",
    "        df_train[new_col_name] = df_train[col1] * df_train[col2]\n",
    "        df_test[new_col_name] = df_test[col1] * df_test[col2]        \n",
    "        \n",
    "for col1 in ['paredblolad', 'paredzocalo', 'paredpreb', 'pareddes', 'paredmad', 'paredzinc', 'paredfibras', 'paredother']:\n",
    "    for col2 in ['pisomoscer', 'pisocemento', 'pisoother', 'pisonatur', 'pisonotiene', 'pisomadera']:\n",
    "        for col3 in ['techozinc', 'techoentrepiso', 'techocane', 'techootro']:\n",
    "            new_col_name = 'new_{}_x_{}_x_{}'.format(col1, col2, col3)\n",
    "            df_train[new_col_name] = df_train[col1] * df_train[col2] * df_train[col3]\n",
    "            df_test[new_col_name] = df_test[col1] * df_test[col2] * df_train[col3]"
   ]
  },
  {
   "cell_type": "code",
   "execution_count": 66,
   "id": "viral-paris",
   "metadata": {
    "ExecuteTime": {
     "end_time": "2021-02-06T15:45:46.948860Z",
     "start_time": "2021-02-06T15:45:46.935895Z"
    }
   },
   "outputs": [
    {
     "name": "stdout",
     "output_type": "stream",
     "text": [
      "(9557, 733) (23856, 732)\n"
     ]
    }
   ],
   "source": [
    "print(df_train.shape, df_test.shape)"
   ]
  },
  {
   "cell_type": "markdown",
   "id": "north-proceeding",
   "metadata": {},
   "source": [
    "집계 변수 없이 446개 변수가 현재 있다. 실제로 벽의 재료들을 통해 수천가지 변수를 만들 수 있지만 계산 비용 때문에 그렇게 하지 않는다."
   ]
  },
  {
   "cell_type": "markdown",
   "id": "rational-queen",
   "metadata": {},
   "source": [
    "### Remove feature with only one value"
   ]
  },
  {
   "cell_type": "code",
   "execution_count": 67,
   "id": "sublime-concentrate",
   "metadata": {
    "ExecuteTime": {
     "end_time": "2021-02-06T15:45:47.813935Z",
     "start_time": "2021-02-06T15:45:46.951853Z"
    }
   },
   "outputs": [
    {
     "name": "stdout",
     "output_type": "stream",
     "text": [
      "elimbasu5\n",
      "new_planpri_x_energcocinar1\n",
      "new_planpri_x_energcocinar2\n",
      "new_planpri_x_energcocinar3\n",
      "new_planpri_x_energcocinar4\n",
      "new_noelec_x_energcocinar2\n",
      "new_sanitario1_x_elimbasu4\n",
      "new_sanitario1_x_elimbasu5\n",
      "new_sanitario1_x_elimbasu6\n",
      "new_sanitario2_x_elimbasu4\n",
      "new_sanitario2_x_elimbasu5\n",
      "new_sanitario2_x_elimbasu6\n",
      "new_sanitario3_x_elimbasu5\n",
      "new_sanitario5_x_elimbasu4\n",
      "new_sanitario5_x_elimbasu5\n",
      "new_sanitario5_x_elimbasu6\n",
      "new_sanitario6_x_elimbasu2\n",
      "new_sanitario6_x_elimbasu4\n",
      "new_sanitario6_x_elimbasu5\n",
      "new_sanitario6_x_elimbasu6\n",
      "new_abastaguafuera_x_sanitario6\n",
      "new_abastaguano_x_sanitario2\n",
      "new_abastaguano_x_sanitario6\n",
      "new_paredblolad_x_pisonatur\n",
      "new_paredblolad_x_pisonotiene\n",
      "new_paredzocalo_x_pisoother\n",
      "new_paredzocalo_x_pisonatur\n",
      "new_paredpreb_x_pisonatur\n",
      "new_pareddes_x_pisoother\n",
      "new_pareddes_x_pisonatur\n",
      "new_paredmad_x_pisoother\n",
      "new_paredmad_x_pisonatur\n",
      "new_paredzinc_x_pisoother\n",
      "new_paredzinc_x_pisonatur\n",
      "new_paredfibras_x_pisoother\n",
      "new_paredfibras_x_pisonatur\n",
      "new_paredfibras_x_pisonotiene\n",
      "new_paredfibras_x_pisomadera\n",
      "new_paredother_x_pisoother\n",
      "new_paredother_x_pisonatur\n",
      "new_paredother_x_pisonotiene\n",
      "new_paredother_x_pisomadera\n",
      "new_techocane_x_pisomadera\n",
      "new_techootro_x_pisomadera\n",
      "new_paredzocalo_x_techoentrepiso\n",
      "new_paredzocalo_x_techocane\n",
      "new_paredzocalo_x_techootro\n",
      "new_paredpreb_x_techootro\n",
      "new_pareddes_x_techoentrepiso\n",
      "new_pareddes_x_techocane\n",
      "new_pareddes_x_techootro\n",
      "new_paredmad_x_techocane\n",
      "new_paredmad_x_techootro\n",
      "new_paredzinc_x_techoentrepiso\n",
      "new_paredzinc_x_techocane\n",
      "new_paredzinc_x_techootro\n",
      "new_paredfibras_x_techoentrepiso\n",
      "new_paredfibras_x_techootro\n",
      "new_paredother_x_techoentrepiso\n",
      "new_paredother_x_techocane\n",
      "new_paredother_x_techootro\n",
      "new_paredblolad_x_pisocemento_x_techocane\n",
      "new_paredblolad_x_pisocemento_x_techootro\n",
      "new_paredblolad_x_pisoother_x_techoentrepiso\n",
      "new_paredblolad_x_pisoother_x_techocane\n",
      "new_paredblolad_x_pisoother_x_techootro\n",
      "new_paredblolad_x_pisonatur_x_techozinc\n",
      "new_paredblolad_x_pisonatur_x_techoentrepiso\n",
      "new_paredblolad_x_pisonatur_x_techocane\n",
      "new_paredblolad_x_pisonatur_x_techootro\n",
      "new_paredblolad_x_pisonotiene_x_techozinc\n",
      "new_paredblolad_x_pisonotiene_x_techoentrepiso\n",
      "new_paredblolad_x_pisonotiene_x_techocane\n",
      "new_paredblolad_x_pisonotiene_x_techootro\n",
      "new_paredblolad_x_pisomadera_x_techocane\n",
      "new_paredblolad_x_pisomadera_x_techootro\n",
      "new_paredzocalo_x_pisomoscer_x_techoentrepiso\n",
      "new_paredzocalo_x_pisomoscer_x_techocane\n",
      "new_paredzocalo_x_pisomoscer_x_techootro\n",
      "new_paredzocalo_x_pisocemento_x_techoentrepiso\n",
      "new_paredzocalo_x_pisocemento_x_techocane\n",
      "new_paredzocalo_x_pisocemento_x_techootro\n",
      "new_paredzocalo_x_pisoother_x_techozinc\n",
      "new_paredzocalo_x_pisoother_x_techoentrepiso\n",
      "new_paredzocalo_x_pisoother_x_techocane\n",
      "new_paredzocalo_x_pisoother_x_techootro\n",
      "new_paredzocalo_x_pisonatur_x_techozinc\n",
      "new_paredzocalo_x_pisonatur_x_techoentrepiso\n",
      "new_paredzocalo_x_pisonatur_x_techocane\n",
      "new_paredzocalo_x_pisonatur_x_techootro\n",
      "new_paredzocalo_x_pisonotiene_x_techoentrepiso\n",
      "new_paredzocalo_x_pisonotiene_x_techocane\n",
      "new_paredzocalo_x_pisonotiene_x_techootro\n",
      "new_paredzocalo_x_pisomadera_x_techoentrepiso\n",
      "new_paredzocalo_x_pisomadera_x_techocane\n",
      "new_paredzocalo_x_pisomadera_x_techootro\n",
      "new_paredpreb_x_pisocemento_x_techoentrepiso\n",
      "new_paredpreb_x_pisocemento_x_techocane\n",
      "new_paredpreb_x_pisocemento_x_techootro\n",
      "new_paredpreb_x_pisoother_x_techoentrepiso\n",
      "new_paredpreb_x_pisoother_x_techocane\n",
      "new_paredpreb_x_pisoother_x_techootro\n",
      "new_paredpreb_x_pisonatur_x_techozinc\n",
      "new_paredpreb_x_pisonatur_x_techoentrepiso\n",
      "new_paredpreb_x_pisonatur_x_techocane\n",
      "new_paredpreb_x_pisonatur_x_techootro\n",
      "new_paredpreb_x_pisonotiene_x_techozinc\n",
      "new_paredpreb_x_pisonotiene_x_techoentrepiso\n",
      "new_paredpreb_x_pisonotiene_x_techocane\n",
      "new_paredpreb_x_pisonotiene_x_techootro\n",
      "new_paredpreb_x_pisomadera_x_techoentrepiso\n",
      "new_paredpreb_x_pisomadera_x_techocane\n",
      "new_paredpreb_x_pisomadera_x_techootro\n",
      "new_pareddes_x_pisomoscer_x_techozinc\n",
      "new_pareddes_x_pisomoscer_x_techoentrepiso\n",
      "new_pareddes_x_pisomoscer_x_techocane\n",
      "new_pareddes_x_pisomoscer_x_techootro\n",
      "new_pareddes_x_pisocemento_x_techoentrepiso\n",
      "new_pareddes_x_pisocemento_x_techocane\n",
      "new_pareddes_x_pisocemento_x_techootro\n",
      "new_pareddes_x_pisoother_x_techozinc\n",
      "new_pareddes_x_pisoother_x_techoentrepiso\n",
      "new_pareddes_x_pisoother_x_techocane\n",
      "new_pareddes_x_pisoother_x_techootro\n",
      "new_pareddes_x_pisonatur_x_techozinc\n",
      "new_pareddes_x_pisonatur_x_techoentrepiso\n",
      "new_pareddes_x_pisonatur_x_techocane\n",
      "new_pareddes_x_pisonatur_x_techootro\n",
      "new_pareddes_x_pisonotiene_x_techoentrepiso\n",
      "new_pareddes_x_pisonotiene_x_techocane\n",
      "new_pareddes_x_pisonotiene_x_techootro\n",
      "new_pareddes_x_pisomadera_x_techozinc\n",
      "new_pareddes_x_pisomadera_x_techoentrepiso\n",
      "new_pareddes_x_pisomadera_x_techocane\n",
      "new_pareddes_x_pisomadera_x_techootro\n",
      "new_paredmad_x_pisomoscer_x_techocane\n",
      "new_paredmad_x_pisomoscer_x_techootro\n",
      "new_paredmad_x_pisocemento_x_techoentrepiso\n",
      "new_paredmad_x_pisocemento_x_techocane\n",
      "new_paredmad_x_pisocemento_x_techootro\n",
      "new_paredmad_x_pisoother_x_techozinc\n",
      "new_paredmad_x_pisoother_x_techoentrepiso\n",
      "new_paredmad_x_pisoother_x_techocane\n",
      "new_paredmad_x_pisoother_x_techootro\n",
      "new_paredmad_x_pisonatur_x_techozinc\n",
      "new_paredmad_x_pisonatur_x_techoentrepiso\n",
      "new_paredmad_x_pisonatur_x_techocane\n",
      "new_paredmad_x_pisonatur_x_techootro\n",
      "new_paredmad_x_pisonotiene_x_techoentrepiso\n",
      "new_paredmad_x_pisonotiene_x_techocane\n",
      "new_paredmad_x_pisonotiene_x_techootro\n",
      "new_paredmad_x_pisomadera_x_techocane\n",
      "new_paredzinc_x_pisomoscer_x_techoentrepiso\n",
      "new_paredzinc_x_pisomoscer_x_techocane\n",
      "new_paredzinc_x_pisomoscer_x_techootro\n",
      "new_paredzinc_x_pisocemento_x_techoentrepiso\n",
      "new_paredzinc_x_pisocemento_x_techocane\n",
      "new_paredzinc_x_pisocemento_x_techootro\n",
      "new_paredzinc_x_pisoother_x_techozinc\n",
      "new_paredzinc_x_pisoother_x_techoentrepiso\n",
      "new_paredzinc_x_pisoother_x_techocane\n",
      "new_paredzinc_x_pisoother_x_techootro\n",
      "new_paredzinc_x_pisonatur_x_techozinc\n",
      "new_paredzinc_x_pisonatur_x_techoentrepiso\n",
      "new_paredzinc_x_pisonatur_x_techocane\n",
      "new_paredzinc_x_pisonatur_x_techootro\n",
      "new_paredzinc_x_pisonotiene_x_techoentrepiso\n",
      "new_paredzinc_x_pisonotiene_x_techocane\n",
      "new_paredzinc_x_pisonotiene_x_techootro\n",
      "new_paredzinc_x_pisomadera_x_techoentrepiso\n",
      "new_paredzinc_x_pisomadera_x_techocane\n",
      "new_paredzinc_x_pisomadera_x_techootro\n",
      "new_paredfibras_x_pisomoscer_x_techoentrepiso\n",
      "new_paredfibras_x_pisomoscer_x_techocane\n",
      "new_paredfibras_x_pisomoscer_x_techootro\n",
      "new_paredfibras_x_pisocemento_x_techoentrepiso\n",
      "new_paredfibras_x_pisocemento_x_techocane\n",
      "new_paredfibras_x_pisocemento_x_techootro\n",
      "new_paredfibras_x_pisoother_x_techozinc\n",
      "new_paredfibras_x_pisoother_x_techoentrepiso\n",
      "new_paredfibras_x_pisoother_x_techocane\n",
      "new_paredfibras_x_pisoother_x_techootro\n",
      "new_paredfibras_x_pisonatur_x_techozinc\n",
      "new_paredfibras_x_pisonatur_x_techoentrepiso\n",
      "new_paredfibras_x_pisonatur_x_techocane\n",
      "new_paredfibras_x_pisonatur_x_techootro\n",
      "new_paredfibras_x_pisonotiene_x_techozinc\n",
      "new_paredfibras_x_pisonotiene_x_techoentrepiso\n",
      "new_paredfibras_x_pisonotiene_x_techocane\n",
      "new_paredfibras_x_pisonotiene_x_techootro\n",
      "new_paredfibras_x_pisomadera_x_techozinc\n",
      "new_paredfibras_x_pisomadera_x_techoentrepiso\n",
      "new_paredfibras_x_pisomadera_x_techocane\n",
      "new_paredfibras_x_pisomadera_x_techootro\n",
      "new_paredother_x_pisomoscer_x_techozinc\n",
      "new_paredother_x_pisomoscer_x_techoentrepiso\n",
      "new_paredother_x_pisomoscer_x_techocane\n",
      "new_paredother_x_pisomoscer_x_techootro\n",
      "new_paredother_x_pisocemento_x_techoentrepiso\n",
      "new_paredother_x_pisocemento_x_techocane\n",
      "new_paredother_x_pisocemento_x_techootro\n",
      "new_paredother_x_pisoother_x_techozinc\n",
      "new_paredother_x_pisoother_x_techoentrepiso\n",
      "new_paredother_x_pisoother_x_techocane\n",
      "new_paredother_x_pisoother_x_techootro\n",
      "new_paredother_x_pisonatur_x_techozinc\n",
      "new_paredother_x_pisonatur_x_techoentrepiso\n",
      "new_paredother_x_pisonatur_x_techocane\n",
      "new_paredother_x_pisonatur_x_techootro\n",
      "new_paredother_x_pisonotiene_x_techozinc\n",
      "new_paredother_x_pisonotiene_x_techoentrepiso\n",
      "new_paredother_x_pisonotiene_x_techocane\n",
      "new_paredother_x_pisonotiene_x_techootro\n",
      "new_paredother_x_pisomadera_x_techozinc\n",
      "new_paredother_x_pisomadera_x_techoentrepiso\n",
      "new_paredother_x_pisomadera_x_techocane\n",
      "new_paredother_x_pisomadera_x_techootro\n"
     ]
    }
   ],
   "source": [
    "cols_with_only_one_value = [] \n",
    "for col in df_train.columns:\n",
    "    if col == 'Target':\n",
    "        continue\n",
    "    if df_train[col].value_counts().shape[0] == 1 or df_test[col].value_counts().shape[0] == 1:\n",
    "        print(col)  ### 값이 하나(행이 하나)인 변수들\n",
    "        cols_with_only_one_value.append(col)"
   ]
  },
  {
   "cell_type": "markdown",
   "id": "decreased-albuquerque",
   "metadata": {},
   "source": [
    "이것들을 지워보자."
   ]
  },
  {
   "cell_type": "code",
   "execution_count": 68,
   "id": "exterior-roads",
   "metadata": {
    "ExecuteTime": {
     "end_time": "2021-02-06T15:45:47.908681Z",
     "start_time": "2021-02-06T15:45:47.816927Z"
    }
   },
   "outputs": [],
   "source": [
    "df_train.drop(cols_with_only_one_value, axis=1, inplace=True)\n",
    "df_test.drop(cols_with_only_one_value, axis=1, inplace=True)"
   ]
  },
  {
   "cell_type": "markdown",
   "id": "alternate-inquiry",
   "metadata": {},
   "source": [
    "### Check whether both train and test have same features"
   ]
  },
  {
   "cell_type": "code",
   "execution_count": 69,
   "id": "satellite-martial",
   "metadata": {
    "ExecuteTime": {
     "end_time": "2021-02-06T15:45:47.924639Z",
     "start_time": "2021-02-06T15:45:47.911675Z"
    }
   },
   "outputs": [],
   "source": [
    "cols_train = np.array(sorted([col for col in df_train.columns if col != 'Target']))\n",
    "cols_test = np.array(sorted(df_test.columns))"
   ]
  },
  {
   "cell_type": "code",
   "execution_count": 70,
   "id": "adjusted-people",
   "metadata": {
    "ExecuteTime": {
     "end_time": "2021-02-06T15:45:47.940596Z",
     "start_time": "2021-02-06T15:45:47.928628Z"
    }
   },
   "outputs": [
    {
     "data": {
      "text/plain": [
       "True"
      ]
     },
     "execution_count": 70,
     "metadata": {},
     "output_type": "execute_result"
    }
   ],
   "source": [
    "(cols_train == cols_test).sum() == len(cols_train)\n",
    "### train, test의 같은 열 개수 == train 열 개수"
   ]
  },
  {
   "cell_type": "markdown",
   "id": "arctic-delight",
   "metadata": {
    "ExecuteTime": {
     "end_time": "2021-02-05T15:23:13.599106Z",
     "start_time": "2021-02-05T15:23:13.580125Z"
    }
   },
   "source": [
    "## 2.4. aggregation features"
   ]
  },
  {
   "cell_type": "markdown",
   "id": "plain-christmas",
   "metadata": {
    "ExecuteTime": {
     "end_time": "2021-02-05T15:23:17.283021Z",
     "start_time": "2021-02-05T15:23:17.266066Z"
    }
   },
   "source": [
    "각 sample은 특정 가정(idhogar)의 구성원이다. 'idhogar' 값을 기준으로 집계해보자."
   ]
  },
  {
   "cell_type": "markdown",
   "id": "characteristic-socket",
   "metadata": {},
   "source": [
    "### Aggregation for family features"
   ]
  },
  {
   "cell_type": "code",
   "execution_count": 71,
   "id": "sacred-brave",
   "metadata": {
    "ExecuteTime": {
     "end_time": "2021-02-06T15:45:47.956553Z",
     "start_time": "2021-02-06T15:45:47.943588Z"
    }
   },
   "outputs": [],
   "source": [
    "def max_min(x):\n",
    "    return x.max() - x.min()"
   ]
  },
  {
   "cell_type": "code",
   "execution_count": 72,
   "id": "infrared-childhood",
   "metadata": {
    "ExecuteTime": {
     "end_time": "2021-02-06T15:46:06.376511Z",
     "start_time": "2021-02-06T15:45:47.969520Z"
    }
   },
   "outputs": [
    {
     "name": "stderr",
     "output_type": "stream",
     "text": [
      "100%|██████████████████████████████████████████████████████████████████████████████████| 15/15 [00:18<00:00,  1.22s/it]"
     ]
    },
    {
     "name": "stdout",
     "output_type": "stream",
     "text": [
      "new aggregate train set has 2988 rows, and 105 features.\n",
      "new aggregate test set has 7352 rows, and 105 features.\n"
     ]
    },
    {
     "name": "stderr",
     "output_type": "stream",
     "text": [
      "\n"
     ]
    }
   ],
   "source": [
    "agg_train = pd.DataFrame()\n",
    "agg_test = pd.DataFrame()\n",
    "\n",
    "for item in tqdm(family_size_features):   ### tqdm : 진행표시바\n",
    "    for i,function in enumerate(['mean','std','min','max','sum','count',max_min]):\n",
    "        group_train = df_train[item].groupby(df_train['idhogar']).agg(function)\n",
    "        group_test = df_test[item].groupby(df_test['idhogar']).agg(function)\n",
    "        if i == 6:  ### max_min 함수이면\n",
    "            new_col = item + '_new_' + 'max_min'  ### 새로운 열 이름 생성\n",
    "        else :\n",
    "            new_col = item + '_new_' + function\n",
    "        agg_train[new_col] = group_train\n",
    "        agg_test[new_col] = group_test\n",
    "        \n",
    "print('new aggregate train set has {} rows, and {} features.'.format(agg_train.shape[0], agg_train.shape[1]))\n",
    "print('new aggregate test set has {} rows, and {} features.'.format(agg_test.shape[0], agg_test.shape[1]))"
   ]
  },
  {
   "cell_type": "code",
   "execution_count": 73,
   "id": "exceptional-ranch",
   "metadata": {
    "ExecuteTime": {
     "end_time": "2021-02-06T15:46:07.706078Z",
     "start_time": "2021-02-06T15:46:06.379503Z"
    }
   },
   "outputs": [
    {
     "name": "stderr",
     "output_type": "stream",
     "text": [
      "100%|██████████████████████████████████████████████████████████████████████████████████| 47/47 [00:01<00:00, 36.05it/s]"
     ]
    },
    {
     "name": "stdout",
     "output_type": "stream",
     "text": [
      "new aggreagate train set has 2988 rows, and 199 features\n",
      "new aggregate test set has 7352 rows, and 199 features\n"
     ]
    },
    {
     "name": "stderr",
     "output_type": "stream",
     "text": [
      "\n"
     ]
    }
   ],
   "source": [
    "aggr_list = ['rez_esc', 'dis', 'male', 'female', \n",
    "                  'estadocivil1', 'estadocivil2', 'estadocivil3', 'estadocivil4', 'estadocivil5', 'estadocivil6', 'estadocivil7', \n",
    "                  'parentesco2', 'parentesco3', 'parentesco4', 'parentesco5', 'parentesco6', 'parentesco7', 'parentesco8', 'parentesco9', 'parentesco10', \n",
    "                  'parentesco11', 'parentesco12',\n",
    "                  'instlevel1', 'instlevel2', 'instlevel3', 'instlevel4', 'instlevel5', 'instlevel6', 'instlevel7', 'instlevel8', 'instlevel9',\n",
    "                 'epared1', 'epared2', 'epared3', 'etecho1', 'etecho2', 'etecho3', 'eviv1', 'eviv2', 'eviv3', 'refrig', 'television', 'mobilephone',\n",
    "            'area1', 'area2', 'v18q', 'edjef']\n",
    "\n",
    "for item in tqdm(aggr_list):   ### tqdm : 진행표시바\n",
    "    for function in ['count','sum']:\n",
    "        group_train = df_train[item].groupby(df_train['idhogar']).agg(function)\n",
    "        group_test = df_test[item].groupby(df_test['idhogar']).agg(function)\n",
    "        \n",
    "        new_col = item + '_new1_' + function\n",
    "        agg_train[new_col] = group_train\n",
    "        agg_test[new_col] = group_test\n",
    "        \n",
    "print('new aggreagate train set has {} rows, and {} features'.format(agg_train.shape[0], agg_train.shape[1]))\n",
    "print('new aggregate test set has {} rows, and {} features'.format(agg_test.shape[0], agg_test.shape[1]))"
   ]
  },
  {
   "cell_type": "code",
   "execution_count": 74,
   "id": "palestinian-contributor",
   "metadata": {
    "ExecuteTime": {
     "end_time": "2021-02-06T15:46:20.496247Z",
     "start_time": "2021-02-06T15:46:07.710067Z"
    }
   },
   "outputs": [
    {
     "name": "stderr",
     "output_type": "stream",
     "text": [
      "100%|████████████████████████████████████████████████████████████████████████████████████| 9/9 [00:12<00:00,  1.42s/it]"
     ]
    },
    {
     "name": "stdout",
     "output_type": "stream",
     "text": [
      "new aggregate train set has 2988 rows, and 208 features\n",
      "new aggregate test set has 7352 rows, and 208 features\n"
     ]
    },
    {
     "name": "stderr",
     "output_type": "stream",
     "text": [
      "\n"
     ]
    }
   ],
   "source": [
    "aggr_list = ['escolari', 'age', 'escolari_age', 'dependency', 'bedrooms', 'overcrowding', 'rooms', 'qmobilephone', 'v18q1']\n",
    "\n",
    "for item in tqdm(aggr_list):\n",
    "    for function in ['mean','std','min','max','sum','count',max_min]:\n",
    "        group_train = df_train[item].groupby(df_train['idhogar']).agg(function)\n",
    "        group_test = df_test[item].groupby(df_test['idhogar']).agg(function)\n",
    "        if i == 6:\n",
    "            new_col = item + '_new2_' + 'max_min'\n",
    "        else:\n",
    "            new_col = item + '_new2_' + function\n",
    "        agg_train[new_col] = group_train\n",
    "        agg_test[new_col] = group_test\n",
    "\n",
    "print('new aggregate train set has {} rows, and {} features'.format(agg_train.shape[0], agg_train.shape[1]))\n",
    "print('new aggregate test set has {} rows, and {} features'.format(agg_test.shape[0], agg_test.shape[1]))"
   ]
  },
  {
   "cell_type": "code",
   "execution_count": 75,
   "id": "exterior-catalyst",
   "metadata": {
    "ExecuteTime": {
     "end_time": "2021-02-06T15:46:22.174852Z",
     "start_time": "2021-02-06T15:46:20.498246Z"
    }
   },
   "outputs": [
    {
     "name": "stdout",
     "output_type": "stream",
     "text": [
      "train shape : (9557, 724) test_shape : (23856, 723)\n"
     ]
    }
   ],
   "source": [
    "agg_test = agg_test.reset_index()\n",
    "agg_train = agg_train.reset_index()\n",
    "\n",
    "train_agg = pd.merge(df_train, agg_train, on='idhogar') ### ighogar 기준으로 train과 집계한 train 데이터 병합\n",
    "test = pd.merge(df_test, agg_test, on='idhogar')\n",
    "\n",
    "# 모든 na를 0으로 대체\n",
    "train_agg.fillna(value=0, inplace=True)\n",
    "test.fillna(value=0, inplace=True)\n",
    "\n",
    "print('train shape :', train_agg.shape, 'test_shape :', test.shape)"
   ]
  },
  {
   "cell_type": "code",
   "execution_count": 76,
   "id": "right-distinction",
   "metadata": {
    "ExecuteTime": {
     "end_time": "2021-02-06T15:46:26.426478Z",
     "start_time": "2021-02-06T15:46:22.176844Z"
    }
   },
   "outputs": [
    {
     "name": "stdout",
     "output_type": "stream",
     "text": [
      "train shape : (9557, 1006) test shape : (23856, 1005)\n"
     ]
    }
   ],
   "source": [
    "aggr_list = ['rez_esc', 'dis', 'male', 'female', \n",
    "                  'estadocivil1', 'estadocivil2', 'estadocivil3', 'estadocivil4', 'estadocivil5', 'estadocivil6', 'estadocivil7', \n",
    "                  'parentesco2', 'parentesco3', 'parentesco4', 'parentesco5', 'parentesco6', 'parentesco7', 'parentesco8', 'parentesco9', 'parentesco10', \n",
    "                  'parentesco11', 'parentesco12',\n",
    "                  'instlevel1', 'instlevel2', 'instlevel3', 'instlevel4', 'instlevel5', 'instlevel6', 'instlevel7', 'instlevel8', 'instlevel9',\n",
    "                 'epared1', 'epared2', 'epared3', 'etecho1', 'etecho2', 'etecho3', 'eviv1', 'eviv2', 'eviv3', 'refrig', 'television', 'mobilephone',\n",
    "            'area1', 'area2', 'v18q', 'edjef']\n",
    "\n",
    "for lugar in ['lugar1', 'lugar2', 'lugar3', 'lugar4', 'lugar5', 'lugar6']:\n",
    "    group_train = df_train[[lugar, 'idhogar'] + aggr_list].groupby([lugar,'idhogar']).sum().reset_index()\n",
    "    group_train.columns = [lugar,'idhogar'] + ['new3_{}_idhogar_{}'.format(lugar,col) for col in group_train][2:]\n",
    "    \n",
    "    group_test = df_test[[lugar,'idhogar'] + aggr_list].groupby([lugar,'idhogar']).sum().reset_index()\n",
    "    group_test.columns = [lugar,'idhogar'] + ['new3_{}_idhogar_{}'.format(lugar,col) for col in group_test][2:]\n",
    "    \n",
    "    train_agg = pd.merge(train_agg, group_train, on=[lugar,'idhogar'])\n",
    "    test = pd.merge(test, group_test, on=[lugar,'idhogar'])\n",
    "    \n",
    "print('train shape :', train_agg.shape, 'test shape :', test.shape)"
   ]
  },
  {
   "cell_type": "code",
   "execution_count": 77,
   "id": "functional-investor",
   "metadata": {
    "ExecuteTime": {
     "end_time": "2021-02-06T15:46:28.181364Z",
     "start_time": "2021-02-06T15:46:26.430466Z"
    }
   },
   "outputs": [
    {
     "name": "stdout",
     "output_type": "stream",
     "text": [
      "train shape: (9557, 1288) test shape: (23856, 1287)\n"
     ]
    }
   ],
   "source": [
    "aggr_list = ['rez_esc', 'dis', 'male', 'female', \n",
    "                  'estadocivil1', 'estadocivil2', 'estadocivil3', 'estadocivil4', 'estadocivil5', 'estadocivil6', 'estadocivil7', \n",
    "                  'parentesco2', 'parentesco3', 'parentesco4', 'parentesco5', 'parentesco6', 'parentesco7', 'parentesco8', 'parentesco9', 'parentesco10', \n",
    "                  'parentesco11', 'parentesco12',\n",
    "                  'instlevel1', 'instlevel2', 'instlevel3', 'instlevel4', 'instlevel5', 'instlevel6', 'instlevel7', 'instlevel8', 'instlevel9',\n",
    "                 'epared1', 'epared2', 'epared3', 'etecho1', 'etecho2', 'etecho3', 'eviv1', 'eviv2', 'eviv3', 'refrig', 'television', 'mobilephone',\n",
    "            'area1', 'area2', 'v18q', 'edjef']\n",
    "    \n",
    "for lugar in ['lugar1', 'lugar2', 'lugar3', 'lugar4', 'lugar5', 'lugar6']:\n",
    "    group_train = df_train[[lugar, 'idhogar'] + aggr_list].groupby([lugar, 'idhogar']).sum().reset_index()\n",
    "    group_train.columns = [lugar, 'idhogar'] + ['new4_{}_idhogar_{}'.format(lugar, col) for col in group_train][2:]\n",
    "\n",
    "    group_test = df_test[[lugar, 'idhogar'] + aggr_list].groupby([lugar, 'idhogar']).sum().reset_index()\n",
    "    group_test.columns = [lugar, 'idhogar'] + ['new4_{}_idhogar_{}'.format(lugar, col) for col in group_test][2:]\n",
    "\n",
    "    train_agg = pd.merge(train_agg, group_train, on=[lugar, 'idhogar'])\n",
    "    test = pd.merge(test, group_test, on=[lugar, 'idhogar'])\n",
    "    \n",
    "print('train shape:', train_agg.shape, 'test shape:', test.shape)"
   ]
  },
  {
   "cell_type": "code",
   "execution_count": 78,
   "id": "employed-productivity",
   "metadata": {
    "ExecuteTime": {
     "end_time": "2021-02-06T15:52:51.996335Z",
     "start_time": "2021-02-06T15:46:28.183303Z"
    }
   },
   "outputs": [
    {
     "name": "stderr",
     "output_type": "stream",
     "text": [
      "100%|████████████████████████████████████████████████████████████████████████████████████| 7/7 [06:23<00:00, 54.83s/it]"
     ]
    },
    {
     "name": "stdout",
     "output_type": "stream",
     "text": [
      "train shape: (9557, 3262) test shape: (23856, 3261)\n"
     ]
    },
    {
     "name": "stderr",
     "output_type": "stream",
     "text": [
      "\n"
     ]
    }
   ],
   "source": [
    "cols_nums = ['age', 'meaneduc', 'dependency', \n",
    "             'hogar_nin', 'hogar_adul', 'hogar_mayor', 'hogar_total',\n",
    "             'bedrooms', 'overcrowding']\n",
    "\n",
    "for function in tqdm(['mean','std','min','max','sum', 'count', max_min]):\n",
    "    for lugar in ['lugar1', 'lugar2', 'lugar3', 'lugar4', 'lugar5', 'lugar6']:\n",
    "        group_train = df_train[[lugar, 'idhogar'] + aggr_list].groupby([lugar, 'idhogar']).agg(function).reset_index()\n",
    "        group_train.columns = [lugar, 'idhogar'] + ['new5_{}_idhogar_{}_{}'.format(lugar, col, function) for col in group_train][2:]\n",
    "\n",
    "        group_test = df_test[[lugar, 'idhogar'] + aggr_list].groupby([lugar, 'idhogar']).agg(function).reset_index()\n",
    "        group_test.columns = [lugar, 'idhogar'] + ['new5_{}_idhogar_{}_{}'.format(lugar, col, function) for col in group_test][2:]\n",
    "\n",
    "        train_agg = pd.merge(train_agg, group_train, on=[lugar, 'idhogar'])\n",
    "        test = pd.merge(test, group_test, on=[lugar, 'idhogar'])\n",
    "        \n",
    "print('train shape:', train_agg.shape, 'test shape:', test.shape)"
   ]
  },
  {
   "cell_type": "markdown",
   "id": "coordinate-wilson",
   "metadata": {},
   "source": [
    "데이터 설명에 따르면 가장으로만 점수가 매겨진다. 모든 가구원은 test + sample 제출에 포함되지만 점수는 가장으로만 매겨진다."
   ]
  },
  {
   "cell_type": "code",
   "execution_count": 79,
   "id": "timely-object",
   "metadata": {
    "ExecuteTime": {
     "end_time": "2021-02-06T15:52:53.028639Z",
     "start_time": "2021-02-06T15:52:52.000324Z"
    }
   },
   "outputs": [],
   "source": [
    "train = train_agg.query('parentesco1==1')\n",
    "### [] 안에 조건식을 입력해도 되는데 굳이 query를 사용하는 이유는\n",
    "### 방대한 양의 데이터를 처리하는 데 성능이 좋기 때문이다.\n",
    "### 적은 양의 데이터인 경우 둘의 차이는 거의 안 난다."
   ]
  },
  {
   "cell_type": "code",
   "execution_count": 80,
   "id": "lyric-attention",
   "metadata": {
    "ExecuteTime": {
     "end_time": "2021-02-06T15:52:53.058493Z",
     "start_time": "2021-02-06T15:52:53.033561Z"
    }
   },
   "outputs": [],
   "source": [
    "train['dependency'].replace(np.inf, 0, inplace=True)  ### 무한값 0으로 대체\n",
    "test['dependency'].replace(np.inf, 0, inplace=True)"
   ]
  },
  {
   "cell_type": "code",
   "execution_count": 81,
   "id": "neither-tattoo",
   "metadata": {
    "ExecuteTime": {
     "end_time": "2021-02-06T15:54:28.550087Z",
     "start_time": "2021-02-06T15:52:53.083429Z"
    }
   },
   "outputs": [],
   "source": [
    "submission = test[['Id']]\n",
    "\n",
    "# 차원 축소를 위해 불필요한 변수 제거\n",
    "train.drop(columns=['idhogar','Id', 'agesq', 'hogar_adul', 'SQBescolari', 'SQBage', 'SQBhogar_total', 'SQBedjefe', 'SQBhogar_nin', 'SQBovercrowding', 'SQBdependency', 'SQBmeaned'], inplace=True)\n",
    "test.drop(columns=['idhogar','Id', 'agesq', 'hogar_adul', 'SQBescolari', 'SQBage', 'SQBhogar_total', 'SQBedjefe', 'SQBhogar_nin', 'SQBovercrowding', 'SQBdependency', 'SQBmeaned'], inplace=True)\n",
    "\n",
    "correlation = train.corr()\n",
    "correlation = correlation['Target'].sort_values(ascending=False)"
   ]
  },
  {
   "cell_type": "code",
   "execution_count": 82,
   "id": "suitable-discount",
   "metadata": {
    "ExecuteTime": {
     "end_time": "2021-02-06T15:54:28.565048Z",
     "start_time": "2021-02-06T15:54:28.557069Z"
    }
   },
   "outputs": [
    {
     "name": "stdout",
     "output_type": "stream",
     "text": [
      "fanal_data size (2973, 3250) (23856, 3249)\n"
     ]
    }
   ],
   "source": [
    "print('fanal_data size', train.shape, test.shape)"
   ]
  },
  {
   "cell_type": "code",
   "execution_count": 83,
   "id": "organized-drill",
   "metadata": {
    "ExecuteTime": {
     "end_time": "2021-02-06T15:54:28.612918Z",
     "start_time": "2021-02-06T15:54:28.573026Z"
    }
   },
   "outputs": [
    {
     "name": "stdout",
     "output_type": "stream",
     "text": [
      "The most 20 positive feature : \n",
      "Target                                1.000000\n",
      "new5_lugar3_idhogar_edjef_max         0.334254\n",
      "new5_lugar2_idhogar_edjef_max         0.334254\n",
      "new5_lugar5_idhogar_edjef_max         0.334254\n",
      "new5_lugar4_idhogar_edjef_max         0.334254\n",
      "new5_lugar6_idhogar_edjef_max         0.334254\n",
      "new5_lugar1_idhogar_edjef_max         0.334254\n",
      "new5_lugar2_idhogar_edjef_mean        0.333873\n",
      "new5_lugar4_idhogar_edjef_mean        0.333873\n",
      "new5_lugar3_idhogar_edjef_mean        0.333873\n",
      "new5_lugar1_idhogar_edjef_mean        0.333873\n",
      "new5_lugar5_idhogar_edjef_mean        0.333873\n",
      "new5_lugar6_idhogar_edjef_mean        0.333873\n",
      "new5_lugar3_idhogar_edjef_min         0.333791\n",
      "new5_lugar4_idhogar_edjef_min         0.333791\n",
      "new5_lugar5_idhogar_edjef_min         0.333791\n",
      "new5_lugar6_idhogar_edjef_min         0.333791\n",
      "edjef                                 0.333791\n",
      "new5_lugar2_idhogar_edjef_min         0.333791\n",
      "new5_lugar1_idhogar_edjef_min         0.333791\n",
      "escolari                              0.333791\n",
      "meaneduc                              0.331489\n",
      "new5_lugar5_idhogar_instlevel8_max    0.317815\n",
      "new5_lugar2_idhogar_instlevel8_max    0.317815\n",
      "new5_lugar6_idhogar_instlevel8_max    0.317815\n",
      "new5_lugar3_idhogar_instlevel8_max    0.317815\n",
      "new5_lugar1_idhogar_instlevel8_max    0.317815\n",
      "new5_lugar4_idhogar_instlevel8_max    0.317815\n",
      "phones-per-capita                     0.299026\n",
      "new5_lugar6_idhogar_instlevel8_std    0.298251\n",
      "new5_lugar5_idhogar_instlevel8_std    0.298251\n",
      "new5_lugar1_idhogar_instlevel8_std    0.298251\n",
      "new5_lugar2_idhogar_instlevel8_std    0.298251\n",
      "new5_lugar3_idhogar_instlevel8_std    0.298251\n",
      "new5_lugar4_idhogar_instlevel8_std    0.298251\n",
      "new_epared3_x_eviv3                   0.298196\n",
      "cielorazo                             0.295249\n",
      "new4_lugar2_idhogar_instlevel8        0.294277\n",
      "instlevel8_new1_sum                   0.294277\n",
      "new4_lugar1_idhogar_instlevel8        0.294277\n",
      "Name: Target, dtype: float64\n"
     ]
    }
   ],
   "source": [
    "print(f'The most 20 positive feature : \\n{correlation.head(40)}')"
   ]
  },
  {
   "cell_type": "code",
   "execution_count": 84,
   "id": "entertaining-hormone",
   "metadata": {
    "ExecuteTime": {
     "end_time": "2021-02-06T15:54:28.644833Z",
     "start_time": "2021-02-06T15:54:28.622892Z"
    }
   },
   "outputs": [
    {
     "name": "stdout",
     "output_type": "stream",
     "text": [
      "The most 20 negative feature: \n",
      "new5_lugar5_idhogar_television_<function max_min at 0x0000026569484CA0>    NaN\n",
      "new5_lugar5_idhogar_mobilephone_<function max_min at 0x0000026569484CA0>   NaN\n",
      "new5_lugar5_idhogar_area1_<function max_min at 0x0000026569484CA0>         NaN\n",
      "new5_lugar5_idhogar_area2_<function max_min at 0x0000026569484CA0>         NaN\n",
      "new5_lugar5_idhogar_v18q_<function max_min at 0x0000026569484CA0>          NaN\n",
      "new5_lugar6_idhogar_epared1_<function max_min at 0x0000026569484CA0>       NaN\n",
      "new5_lugar6_idhogar_epared2_<function max_min at 0x0000026569484CA0>       NaN\n",
      "new5_lugar6_idhogar_epared3_<function max_min at 0x0000026569484CA0>       NaN\n",
      "new5_lugar6_idhogar_etecho1_<function max_min at 0x0000026569484CA0>       NaN\n",
      "new5_lugar6_idhogar_etecho2_<function max_min at 0x0000026569484CA0>       NaN\n",
      "new5_lugar6_idhogar_etecho3_<function max_min at 0x0000026569484CA0>       NaN\n",
      "new5_lugar6_idhogar_eviv1_<function max_min at 0x0000026569484CA0>         NaN\n",
      "new5_lugar6_idhogar_eviv2_<function max_min at 0x0000026569484CA0>         NaN\n",
      "new5_lugar6_idhogar_eviv3_<function max_min at 0x0000026569484CA0>         NaN\n",
      "new5_lugar6_idhogar_refrig_<function max_min at 0x0000026569484CA0>        NaN\n",
      "new5_lugar6_idhogar_television_<function max_min at 0x0000026569484CA0>    NaN\n",
      "new5_lugar6_idhogar_mobilephone_<function max_min at 0x0000026569484CA0>   NaN\n",
      "new5_lugar6_idhogar_area1_<function max_min at 0x0000026569484CA0>         NaN\n",
      "new5_lugar6_idhogar_area2_<function max_min at 0x0000026569484CA0>         NaN\n",
      "new5_lugar6_idhogar_v18q_<function max_min at 0x0000026569484CA0>          NaN\n",
      "Name: Target, dtype: float64\n"
     ]
    }
   ],
   "source": [
    "print(f'The most 20 negative feature: \\n{correlation.tail(20)}')"
   ]
  },
  {
   "cell_type": "markdown",
   "id": "thousand-yield",
   "metadata": {},
   "source": [
    "# 4. Feature selection using shap"
   ]
  },
  {
   "cell_type": "code",
   "execution_count": 85,
   "id": "reverse-network",
   "metadata": {
    "ExecuteTime": {
     "end_time": "2021-02-06T15:54:30.173175Z",
     "start_time": "2021-02-06T15:54:28.647827Z"
    }
   },
   "outputs": [],
   "source": [
    "binary_cat_features = [col for col in train.columns if train[col].value_counts().shape[0]==2]\n",
    "object_features = ['edjefe','edjefa']\n",
    "\n",
    "categorical_feats = binary_cat_features + object_features"
   ]
  },
  {
   "cell_type": "code",
   "execution_count": 100,
   "id": "republican-liberal",
   "metadata": {
    "ExecuteTime": {
     "end_time": "2021-02-06T16:00:52.866390Z",
     "start_time": "2021-02-06T16:00:52.851432Z"
    }
   },
   "outputs": [],
   "source": [
    "def evaluate_macroF1_lgb(truth, predictions):\n",
    "    pred_labels = predictions.reshape(len(np.unique(truth)),-1).argmax(axis=0)\n",
    "    f1 = f1_score(truth, pred_labels, average='macro')\n",
    "    return ('macroF1',f1,True)"
   ]
  },
  {
   "cell_type": "code",
   "execution_count": 87,
   "id": "breathing-california",
   "metadata": {
    "ExecuteTime": {
     "end_time": "2021-02-06T15:54:30.235513Z",
     "start_time": "2021-02-06T15:54:30.193626Z"
    }
   },
   "outputs": [],
   "source": [
    "y = train['Target']\n",
    "train.drop(columns=['Target'], inplace=True)"
   ]
  },
  {
   "cell_type": "code",
   "execution_count": 88,
   "id": "durable-grant",
   "metadata": {
    "ExecuteTime": {
     "end_time": "2021-02-06T15:54:30.251471Z",
     "start_time": "2021-02-06T15:54:30.238506Z"
    }
   },
   "outputs": [],
   "source": [
    "def print_execution_time(start):\n",
    "    end = time.time()\n",
    "    hours, rem = divmod(end-start, 3600)\n",
    "    minutes, seconds = divmod(rem, 60)\n",
    "    print('*'*20, 'Execution ended in {:0>2}h {:0>2}m {:05.2f}s'.format(int(hours),int(minutes),seconds),'*'*20)"
   ]
  },
  {
   "cell_type": "code",
   "execution_count": 98,
   "id": "champion-probe",
   "metadata": {
    "ExecuteTime": {
     "end_time": "2021-02-06T16:00:25.292639Z",
     "start_time": "2021-02-06T16:00:25.256733Z"
    }
   },
   "outputs": [],
   "source": [
    "def extract_good_features_using_shap_LGB(params, SEED):\n",
    "    clf = lgb.LGBMClassifier(objective='multiclass',\n",
    "                             random_state=1989,\n",
    "                             max_depth=params['max_depth'], \n",
    "                             learning_rate=params['learning_rate'],  \n",
    "                             silent=True, \n",
    "                             metric='multi_logloss',\n",
    "                             n_jobs=-1, n_estimators=10000, \n",
    "                             class_weight='balanced',\n",
    "                             colsample_bytree = params['colsample_bytree'], \n",
    "                             min_split_gain= params['min_split_gain'], \n",
    "                             bagging_freq = params['bagging_freq'],\n",
    "                             min_child_weight=params['min_child_weight'],\n",
    "                             num_leaves = params['num_leaves'], \n",
    "                             subsample = params['subsample'],\n",
    "                             reg_alpha= params['reg_alpha'],\n",
    "                             reg_lambda= params['reg_lambda'],\n",
    "                             num_class=len(np.unique(y)),\n",
    "                             bagging_seed=SEED,\n",
    "                             seed=SEED,\n",
    "                            )\n",
    "    \n",
    "    kfold = 5\n",
    "    kf = StratifiedKFold(n_splits=kfold, shuffle=True)\n",
    "    feat_importance_df = pd.DataFrame()\n",
    "    \n",
    "    for i,(train_index,test_index) in enumerate(kf.split(train,y)):\n",
    "        print('='*30, '{} of {} folds'.format(i+1,kfold), '='*30)\n",
    "        start = time.time()\n",
    "        \n",
    "        X_train, X_val = train.iloc[train_index], train.iloc[test_index]\n",
    "        y_train, y_val = y.iloc[train_index], y.iloc[test_index]\n",
    "        clf.fit(X_train, y_train, eval_set=[(X_train, y_train), (X_val, y_val)], eval_metric=evaluate_macroF1_lgb, categorical_feature=categorical_feats, early_stopping_rounds=500, verbose=500)\n",
    "\n",
    "        shap_values = shap.TreeExplainer(clf.booster_).shap_values(X_train)\n",
    "        fold_importance_df = pd.DataFrame()\n",
    "        fold_importance_df['feature'] = X_train.columns\n",
    "        fold_importacne_df['shap_values'] = abs(np.array(shap_values)[:,:].mean(1).mean(0))\n",
    "        fold_importance_df['feat_imp'] = clf.feature_importances_\n",
    "        feat_importance_df = pd.concat([feat_importance_df, fold_importance_df])\n",
    "        print_execution_time(start)\n",
    "\n",
    "    feat_importance_df_shap = feat_importance_df.groupby('feature').mean().sort_values('shap_values', ascending=False).reset_index()\n",
    "    # feat_importance_df_shap['shap_cumsum'] = feat_importance_df_shap['shap_values'].cumsum() / feat_importance_df_shap['shap_values'].sum()\n",
    "    # good_features = feat_importance_df_shap.loc[feat_importance_df_shap['shap_cumsum'] < 0.999].feature\n",
    "    return feat_importance_df_shap"
   ]
  },
  {
   "cell_type": "code",
   "execution_count": 101,
   "id": "fifth-allocation",
   "metadata": {
    "ExecuteTime": {
     "end_time": "2021-02-06T16:01:26.850606Z",
     "start_time": "2021-02-06T16:01:00.918967Z"
    },
    "scrolled": false
   },
   "outputs": [
    {
     "name": "stdout",
     "output_type": "stream",
     "text": [
      "######################################## 1 of 50 iterations ########################################\n",
      "============================== 1 of 5 folds ==============================\n",
      "Training until validation scores don't improve for 500 rounds\n",
      "[500]\ttraining's multi_logloss: 1.0018\ttraining's macroF1: 0.56346\tvalid_1's multi_logloss: 1.03068\tvalid_1's macroF1: 0.416963\n",
      "Early stopping, best iteration is:\n",
      "[90]\ttraining's multi_logloss: 1.23788\ttraining's macroF1: 0.480361\tvalid_1's multi_logloss: 1.19927\tvalid_1's macroF1: 0.424426\n"
     ]
    },
    {
     "ename": "NameError",
     "evalue": "name 'shap' is not defined",
     "output_type": "error",
     "traceback": [
      "\u001b[1;31m---------------------------------------------------------------------------\u001b[0m",
      "\u001b[1;31mNameError\u001b[0m                                 Traceback (most recent call last)",
      "\u001b[1;32m<ipython-input-101-620ffda345cd>\u001b[0m in \u001b[0;36m<module>\u001b[1;34m\u001b[0m\n\u001b[0;32m     14\u001b[0m               \u001b[1;34m'min_child_weight'\u001b[0m\u001b[1;33m:\u001b[0m \u001b[0mnp\u001b[0m\u001b[1;33m.\u001b[0m\u001b[0mrandom\u001b[0m\u001b[1;33m.\u001b[0m\u001b[0mrandint\u001b[0m\u001b[1;33m(\u001b[0m\u001b[1;36m100\u001b[0m\u001b[1;33m)\u001b[0m \u001b[1;33m+\u001b[0m \u001b[1;36m20\u001b[0m\u001b[1;33m\u001b[0m\u001b[1;33m\u001b[0m\u001b[0m\n\u001b[0;32m     15\u001b[0m              }\n\u001b[1;32m---> 16\u001b[1;33m     \u001b[0mtemp_shap_df\u001b[0m \u001b[1;33m=\u001b[0m \u001b[0mextract_good_features_using_shap_LGB\u001b[0m\u001b[1;33m(\u001b[0m\u001b[0mparams\u001b[0m\u001b[1;33m,\u001b[0m \u001b[0mSEED\u001b[0m\u001b[1;33m)\u001b[0m\u001b[1;33m\u001b[0m\u001b[1;33m\u001b[0m\u001b[0m\n\u001b[0m\u001b[0;32m     17\u001b[0m     \u001b[0mtotal_shap_df\u001b[0m \u001b[1;33m=\u001b[0m \u001b[0mpd\u001b[0m\u001b[1;33m.\u001b[0m\u001b[0mconcat\u001b[0m\u001b[1;33m(\u001b[0m\u001b[1;33m[\u001b[0m\u001b[0mtotal_shap_df\u001b[0m\u001b[1;33m,\u001b[0m \u001b[0mtemp_shap_df\u001b[0m\u001b[1;33m]\u001b[0m\u001b[1;33m)\u001b[0m\u001b[1;33m\u001b[0m\u001b[1;33m\u001b[0m\u001b[0m\n",
      "\u001b[1;32m<ipython-input-98-c0e4cbdd4542>\u001b[0m in \u001b[0;36mextract_good_features_using_shap_LGB\u001b[1;34m(params, SEED)\u001b[0m\n\u001b[0;32m     33\u001b[0m         \u001b[0mclf\u001b[0m\u001b[1;33m.\u001b[0m\u001b[0mfit\u001b[0m\u001b[1;33m(\u001b[0m\u001b[0mX_train\u001b[0m\u001b[1;33m,\u001b[0m \u001b[0my_train\u001b[0m\u001b[1;33m,\u001b[0m \u001b[0meval_set\u001b[0m\u001b[1;33m=\u001b[0m\u001b[1;33m[\u001b[0m\u001b[1;33m(\u001b[0m\u001b[0mX_train\u001b[0m\u001b[1;33m,\u001b[0m \u001b[0my_train\u001b[0m\u001b[1;33m)\u001b[0m\u001b[1;33m,\u001b[0m \u001b[1;33m(\u001b[0m\u001b[0mX_val\u001b[0m\u001b[1;33m,\u001b[0m \u001b[0my_val\u001b[0m\u001b[1;33m)\u001b[0m\u001b[1;33m]\u001b[0m\u001b[1;33m,\u001b[0m \u001b[0meval_metric\u001b[0m\u001b[1;33m=\u001b[0m\u001b[0mevaluate_macroF1_lgb\u001b[0m\u001b[1;33m,\u001b[0m \u001b[0mcategorical_feature\u001b[0m\u001b[1;33m=\u001b[0m\u001b[0mcategorical_feats\u001b[0m\u001b[1;33m,\u001b[0m \u001b[0mearly_stopping_rounds\u001b[0m\u001b[1;33m=\u001b[0m\u001b[1;36m500\u001b[0m\u001b[1;33m,\u001b[0m \u001b[0mverbose\u001b[0m\u001b[1;33m=\u001b[0m\u001b[1;36m500\u001b[0m\u001b[1;33m)\u001b[0m\u001b[1;33m\u001b[0m\u001b[1;33m\u001b[0m\u001b[0m\n\u001b[0;32m     34\u001b[0m \u001b[1;33m\u001b[0m\u001b[0m\n\u001b[1;32m---> 35\u001b[1;33m         \u001b[0mshap_values\u001b[0m \u001b[1;33m=\u001b[0m \u001b[0mshap\u001b[0m\u001b[1;33m.\u001b[0m\u001b[0mTreeExplainer\u001b[0m\u001b[1;33m(\u001b[0m\u001b[0mclf\u001b[0m\u001b[1;33m.\u001b[0m\u001b[0mbooster_\u001b[0m\u001b[1;33m)\u001b[0m\u001b[1;33m.\u001b[0m\u001b[0mshap_values\u001b[0m\u001b[1;33m(\u001b[0m\u001b[0mX_train\u001b[0m\u001b[1;33m)\u001b[0m\u001b[1;33m\u001b[0m\u001b[1;33m\u001b[0m\u001b[0m\n\u001b[0m\u001b[0;32m     36\u001b[0m         \u001b[0mfold_importance_df\u001b[0m \u001b[1;33m=\u001b[0m \u001b[0mpd\u001b[0m\u001b[1;33m.\u001b[0m\u001b[0mDataFrame\u001b[0m\u001b[1;33m(\u001b[0m\u001b[1;33m)\u001b[0m\u001b[1;33m\u001b[0m\u001b[1;33m\u001b[0m\u001b[0m\n\u001b[0;32m     37\u001b[0m         \u001b[0mfold_importance_df\u001b[0m\u001b[1;33m[\u001b[0m\u001b[1;34m'feature'\u001b[0m\u001b[1;33m]\u001b[0m \u001b[1;33m=\u001b[0m \u001b[0mX_train\u001b[0m\u001b[1;33m.\u001b[0m\u001b[0mcolumns\u001b[0m\u001b[1;33m\u001b[0m\u001b[1;33m\u001b[0m\u001b[0m\n",
      "\u001b[1;31mNameError\u001b[0m: name 'shap' is not defined"
     ]
    }
   ],
   "source": [
    "total_shap_df = pd.DataFrame()\n",
    "NUM_ITERATIONS = 50\n",
    "for SEED in range(NUM_ITERATIONS):\n",
    "    print('#'*40, '{} of {} iterations'.format(SEED+1, NUM_ITERATIONS), '#'*40)\n",
    "    params = {'max_depth': np.random.choice([5, 6, 7, 8, 10, 12, -1]),\n",
    "             'learning_rate': np.random.rand() * 0.02,\n",
    "              'colsample_bytree': np.random.rand() * (1 - 0.5) + 0.5,\n",
    "              'subsample': np.random.rand() * (1 - 0.5) + 0.5,\n",
    "              'min_split_gain': np.random.rand() * 0.2,\n",
    "              'num_leaves': np.random.choice([32, 48, 64]),\n",
    "              'reg_alpha': np.random.rand() * 2,\n",
    "              'reg_lambda': np.random.rand() *2,\n",
    "              'bagging_freq': np.random.randint(4) +1,\n",
    "              'min_child_weight': np.random.randint(100) + 20\n",
    "             }\n",
    "    temp_shap_df = extract_good_features_using_shap_LGB(params, SEED)\n",
    "    total_shap_df = pd.concat([total_shap_df, temp_shap_df])"
   ]
  },
  {
   "cell_type": "code",
   "execution_count": null,
   "id": "bridal-procedure",
   "metadata": {},
   "outputs": [],
   "source": [
    "shap_sorted_df = total_shap_df.groupby('feature').mean().sort_values('shap_values', ascending=False).reset_index()\n",
    "feat_imp_sorted_df = total_shap_df.groupby('feature').mean().sort_values('feat_imp', ascending=False).reset_index()\n",
    "features_top_shap = shap_sorted_df['feature'][:500]\n",
    "features_top_feat_imp = feat_imp_sorted_df['feature'][:500]\n",
    "top_features = pd.Series(features_top_shap.tolist() + features_top_feat_imp.tolist())\n",
    "top_features = top_features.unique()"
   ]
  },
  {
   "cell_type": "markdown",
   "id": "endangered-discrimination",
   "metadata": {},
   "source": [
    "# 4. Model development"
   ]
  },
  {
   "cell_type": "code",
   "execution_count": null,
   "id": "legal-playlist",
   "metadata": {},
   "outputs": [],
   "source": [
    "new_train = train[top_features].copy()\n",
    "new_test = test[top_features].copy()"
   ]
  },
  {
   "cell_type": "code",
   "execution_count": null,
   "id": "banner-pressing",
   "metadata": {},
   "outputs": [],
   "source": [
    "print('new_train shape:', new_train.shape, 'new_test shape:', new_test.shape)"
   ]
  },
  {
   "cell_type": "code",
   "execution_count": null,
   "id": "divided-hanging",
   "metadata": {},
   "outputs": [],
   "source": [
    "new_categorical_feats = [col for col in top_features if col in categorical_feats]"
   ]
  },
  {
   "cell_type": "code",
   "execution_count": null,
   "id": "opponent-nickname",
   "metadata": {},
   "outputs": [],
   "source": [
    "def LGB_OOF(params, categorical_feats, N_FOLDs, SEED=1989):\n",
    "    clf = lgb.LGBMClassifier(objective='multiclass',\n",
    "                             random_state=1989,\n",
    "                             max_depth=params['max_depth'], \n",
    "                             learning_rate=params['learning_rate'],  \n",
    "                             silent=True, \n",
    "                             metric='multi_logloss',\n",
    "                             n_jobs=-1, n_estimators=10000, \n",
    "                             class_weight='balanced',\n",
    "                             colsample_bytree = params['colsample_bytree'], \n",
    "                             min_split_gain= params['min_split_gain'], \n",
    "                             bagging_freq = params['bagging_freq'],\n",
    "                             min_child_weight=params['min_child_weight'],\n",
    "                             num_leaves = params['num_leaves'], \n",
    "                             subsample = params['subsample'],\n",
    "                             reg_alpha= params['reg_alpha'],\n",
    "                             reg_lambda= params['reg_lambda'],\n",
    "                             num_class=len(np.unique(y)),\n",
    "                             bagging_seed=SEED,\n",
    "                             seed=SEED,\n",
    "                            )\n",
    "\n",
    "    kfold = 10\n",
    "    kf = StratifiedKFold(n_splits=kfold, shuffle=True)\n",
    "    feat_importance_df  = pd.DataFrame()\n",
    "    predicts_result = []\n",
    "\n",
    "    for i, (train_index, test_index) in enumerate(kf.split(new_train, y)):\n",
    "        print('='*30, '{} of {} folds'.format(i+1, kfold), '='*30)\n",
    "        start = time.time()\n",
    "        X_train, X_val = new_train.iloc[train_index], new_train.iloc[test_index]\n",
    "        y_train, y_val = y.iloc[train_index], y.iloc[test_index]\n",
    "        clf.fit(X_train, y_train, eval_set=[(X_train, y_train), (X_val, y_val)], eval_metric=evaluate_macroF1_lgb,categorical_feature=new_categorical_feats,\n",
    "                early_stopping_rounds=500, verbose=500)\n",
    "        shap_values = shap.TreeExplainer(clf.booster_).shap_values(X_train)\n",
    "        fold_importance_df  = pd.DataFrame()\n",
    "        fold_importance_df['feature'] = X_train.columns\n",
    "        fold_importance_df['shap_values'] = abs(np.array(shap_values)[:, :].mean(1).mean(0))\n",
    "        fold_importance_df['feat_imp'] = clf.feature_importances_\n",
    "        feat_importance_df = pd.concat([feat_importance_df, fold_importance_df])\n",
    "        predicts_result.append(clf.predict(new_test))\n",
    "        print_execution_time(start)\n",
    "    return predicts_result, feat_importance_df"
   ]
  },
  {
   "cell_type": "code",
   "execution_count": null,
   "id": "environmental-friday",
   "metadata": {},
   "outputs": [],
   "source": [
    "params = {'max_depth': 6,\n",
    "         'learning_rate': 0.002,\n",
    "          'colsample_bytree': 0.8,\n",
    "          'subsample': 0.8,\n",
    "          'min_split_gain': 0.02,\n",
    "          'num_leaves': 48,\n",
    "          'reg_alpha': 0.04,\n",
    "          'reg_lambda': 0.073,\n",
    "          'bagging_freq': 2,\n",
    "          'min_child_weight': 40\n",
    "         }\n",
    "\n",
    "N_Folds = 20\n",
    "SEED = 1989\n",
    "predicts_result, feat_importance_df = LGB_OOF(params, new_categorical_feats, N_Folds, SEED=1989)"
   ]
  },
  {
   "cell_type": "code",
   "execution_count": null,
   "id": "fantastic-muscle",
   "metadata": {},
   "outputs": [],
   "source": [
    "fig, ax = plt.subplots(1, 2, figsize=(20, 20))\n",
    "feat_importance_df_shap = feat_importance_df.groupby('feature').mean().sort_values('shap_values', ascending=False).reset_index()\n",
    "\n",
    "num_features = 50\n",
    "sns.barplot(x=feat_importance_df_shap.shap_values[:num_features], y=feat_importance_df_shap.feature[:num_features], ax=ax[0])\n",
    "ax[0].set_title('Feature importance based on shap values')\n",
    "\n",
    "feat_importance_df = feat_importance_df.groupby('feature').mean().sort_values('feat_imp', ascending=False).reset_index()\n",
    "\n",
    "num_features = 50\n",
    "sns.barplot(x=feat_importance_df.shap_values[:num_features], y=feat_importance_df.feature[:num_features], ax=ax[1])\n",
    "ax[1].set_title('Feaure importance based on feature importance from lgbm')\n",
    "plt.show()"
   ]
  },
  {
   "cell_type": "code",
   "execution_count": null,
   "id": "neither-glasgow",
   "metadata": {},
   "outputs": [],
   "source": [
    "submission['Target'] = np.array(predicts_result).mean(axis=0).round().astype(int)\n",
    "submission.to_csv('submission_with_new_feature_set.csv', index = False)"
   ]
  },
  {
   "cell_type": "markdown",
   "id": "gothic-lincoln",
   "metadata": {},
   "source": [
    "## Randomized search"
   ]
  },
  {
   "cell_type": "code",
   "execution_count": null,
   "id": "hollywood-martial",
   "metadata": {},
   "outputs": [],
   "source": [
    "optimized_param = None\n",
    "lowest_cv = 1000\n",
    "total_iteration = 100\n",
    "for i in range(total_iteration):\n",
    "    print('-'*20, 'For {} of {} iterations'.format(i+1, total_iteration), '-'*20)\n",
    "    learning_rate = np.random.rand() * 0.02\n",
    "    n_folds = 3\n",
    "\n",
    "    num_class = len(np.unique(y))\n",
    "\n",
    "    params = {}\n",
    "    params['application'] = 'multiclass'\n",
    "    params['metric'] = 'multi_logloss'\n",
    "    params['num_class'] = num_class\n",
    "    params['class_weight'] = 'balanced'\n",
    "    params['num_leaves'] = np.random.randint(24, 48)\n",
    "    params['max_depth'] = np.random.randint(5, 8)\n",
    "    params['min_child_weight'] = np.random.randint(5, 50)\n",
    "    params['min_split_gain'] = np.random.rand() * 0.09\n",
    "    params['colsample_bytree'] = np.random.rand() * (0.9 - 0.1) + 0.1\n",
    "    params['subsample'] = np.random.rand() * (1 - 0.8) + 0.8\n",
    "    params['bagging_freq'] = np.random.randint(1, 5)\n",
    "    params['bagging_seed'] = np.random.randint(1, 5)\n",
    "    params['reg_alpha'] = np.random.rand() * 2\n",
    "    params['reg_lambda'] = np.random.rand() * 2\n",
    "    params['learning_rate'] = np.random.rand() * 0.02\n",
    "    params['seed']  =1989\n",
    "\n",
    "    d_train = lgb.Dataset(data=new_train, label=y.values-1, categorical_feature=new_categorical_feats, free_raw_data=False)\n",
    "    cv_results = lgb.cv(params=params, train_set=d_train, num_boost_round=10000, categorical_feature=new_categorical_feats,\n",
    "                        nfold=n_folds, stratified=True, shuffle=True, early_stopping_rounds=1, verbose_eval=1000)\n",
    "\n",
    "    min_cv_results = min(cv_results['multi_logloss-mean'])\n",
    "\n",
    "    if min_cv_results < lowest_cv:\n",
    "        lowest_cv = min_cv_results\n",
    "        optimized_param = params"
   ]
  },
  {
   "cell_type": "code",
   "execution_count": null,
   "id": "aggregate-variance",
   "metadata": {},
   "outputs": [],
   "source": [
    "submission['Target'] = np.array(predicts_result).mean(axis=0).round().astype(int)\n",
    "submission.to_csv('submission_shap_randomized_search.csv', index = False)"
   ]
  }
 ],
 "metadata": {
  "kernelspec": {
   "display_name": "Python 3",
   "language": "python",
   "name": "python3"
  },
  "language_info": {
   "codemirror_mode": {
    "name": "ipython",
    "version": 3
   },
   "file_extension": ".py",
   "mimetype": "text/x-python",
   "name": "python",
   "nbconvert_exporter": "python",
   "pygments_lexer": "ipython3",
   "version": "3.9.1"
  },
  "toc": {
   "base_numbering": 1,
   "nav_menu": {},
   "number_sections": false,
   "sideBar": true,
   "skip_h1_title": false,
   "title_cell": "Table of Contents",
   "title_sidebar": "Contents",
   "toc_cell": false,
   "toc_position": {
    "height": "572px",
    "left": "69px",
    "top": "345.8px",
    "width": "153.6px"
   },
   "toc_section_display": true,
   "toc_window_display": false
  },
  "varInspector": {
   "cols": {
    "lenName": 16,
    "lenType": 16,
    "lenVar": 40
   },
   "kernels_config": {
    "python": {
     "delete_cmd_postfix": "",
     "delete_cmd_prefix": "del ",
     "library": "var_list.py",
     "varRefreshCmd": "print(var_dic_list())"
    },
    "r": {
     "delete_cmd_postfix": ") ",
     "delete_cmd_prefix": "rm(",
     "library": "var_list.r",
     "varRefreshCmd": "cat(var_dic_list()) "
    }
   },
   "types_to_exclude": [
    "module",
    "function",
    "builtin_function_or_method",
    "instance",
    "_Feature"
   ],
   "window_display": false
  }
 },
 "nbformat": 4,
 "nbformat_minor": 5
}
