{
 "cells": [
  {
   "cell_type": "markdown",
   "metadata": {},
   "source": [
    "GPU에서 실행하는 것은 CPU와의 호환성 문제가 있습니다.\n",
    "\n",
    "    1. 딥러닝의 하이퍼 파라미터는 여러 가지가 있으며, 이를 조정하려면 몇 주 또는 몇 달이 걸립니다.\n",
    "        일반적으로 연구자들은 이 튜닝을 수행하고 다른 아키텍처보다 성능이 뛰어난 아키텍처 세트를 발견하면 논문을 발표합니다.\n",
    "\n",
    "    2. 사전 교육을 받은 모델이기 때문에 매우 빠르게 수렴되고 사용자도 GPU를 사용해야 합니다. 일부 라이브러리 문제로 인해 CPU에서 작동하지 않습니다.\n",
    "\n",
    "    3. 우리의 목적을 위해 우리는 연구원들이 이용할 수 있는 그런 아키텍처를 이용할 수 있습니다.\n",
    "\n",
    "    4. 이미 기능을 추출하는 방법을 알고 있는 미리 훈련된 네트워크를 사용하면 하이퍼 파라미터를 조정할 필요가 없습니다. 이미 일부 데이터 세트(이미지넷이라고 함)에 대해 교육을 받았기 때문에 미리 훈련된 가중치는 가중치의 초기화를 잘 제공하며, 이로 인해 우리의 Convnet은 매우 빠르게 수렴되며 그렇지 않으면 이러한 심층 아키텍처에 며칠이 걸릴 수 있습니다. 그것이 Transfer Learning의 아이디어 입니다. 그 예로는 VGG16, InceptionNet, google, Resnet 등이 있습니다.\n",
    "\n",
    "    5. 이 커널에서는 작은 크기의 이미지에서 매우 우수한 성능을 발휘하는 사전 훈련된 VGG16 네트워크를 사용할 것입니다.\n",
    "\n",
    "VGG 아키텍처가 작은 크기의 이미지에서도 잘 작동하는 것으로 입증되었습니다.(CIFAR-10) 이 데이터 세트에서도 잘 작동할 것으로 예상했습니다.\n",
    "\n",
    "이 코드에는 데이터 확대 단계도 포함되어 있으므로 성능이 상당히 개선됩니다."
   ]
  },
  {
   "cell_type": "code",
   "execution_count": 1,
   "metadata": {
    "ExecuteTime": {
     "end_time": "2021-02-10T02:11:22.131114Z",
     "start_time": "2021-02-10T02:11:20.076246Z"
    }
   },
   "outputs": [],
   "source": [
    "import numpy as np\n",
    "import pandas as pd\n",
    "from sklearn.model_selection import train_test_split, StratifiedKFold, StratifiedShuffleSplit\n",
    "from sklearn.metrics import log_loss\n",
    "from os.path import join as opj\n",
    "import matplotlib.pyplot as plt\n",
    "from mpl_toolkits.mplot3d import Axes3D\n",
    "import pylab\n",
    "plt.rcParams['figure.figsize'] = 10, 10\n",
    "%matplotlib inline"
   ]
  },
  {
   "cell_type": "code",
   "execution_count": 2,
   "metadata": {
    "ExecuteTime": {
     "end_time": "2021-02-10T02:11:32.713735Z",
     "start_time": "2021-02-10T02:11:22.132116Z"
    }
   },
   "outputs": [],
   "source": [
    "train = pd.read_json('./input/train.json')\n",
    "test = pd.read_json('./input/test.json')\n",
    "target_train = train['is_iceberg']"
   ]
  },
  {
   "cell_type": "markdown",
   "metadata": {},
   "source": [
    "Keras는 사전 훈련된 VGG의 구현을 제공합니다. 그것은 라이브러리에 있으므로 우리는 직접 네트워크를 구축할 필요가 없습니다. 여기서는 VGG의 마지막 레이어를 제거하고 이진 예측을 위한 시그모이드 레이어를 배치합니다."
   ]
  },
  {
   "cell_type": "code",
   "execution_count": 9,
   "metadata": {
    "ExecuteTime": {
     "end_time": "2021-02-10T08:01:37.733777Z",
     "start_time": "2021-02-10T08:01:33.178636Z"
    }
   },
   "outputs": [],
   "source": [
    "target_train=train['is_iceberg']\n",
    "test['inc_angle']=pd.to_numeric(test['inc_angle'], errors='coerce')\n",
    "train['inc_angle']=pd.to_numeric(train['inc_angle'], errors='coerce')#We have only 133 NAs.\n",
    "train['inc_angle']=train['inc_angle'].fillna(method='pad')\n",
    "X_angle=train['inc_angle']\n",
    "test['inc_angle']=pd.to_numeric(test['inc_angle'], errors='coerce')\n",
    "X_test_angle=test['inc_angle']\n",
    "\n",
    "#Generate the training data\n",
    "X_band_1=np.array([np.array(band).astype(np.float32).reshape(75, 75) for band in train[\"band_1\"]])\n",
    "X_band_2=np.array([np.array(band).astype(np.float32).reshape(75, 75) for band in train[\"band_2\"]])\n",
    "X_band_3=(X_band_1+X_band_2)/2\n",
    "#X_band_3=np.array([np.full((75, 75), angel).astype(np.float32) for angel in train[\"inc_angle\"]])\n",
    "X_train = np.concatenate([X_band_1[:, :, :, np.newaxis]\n",
    "                          , X_band_2[:, :, :, np.newaxis]\n",
    "                         , X_band_3[:, :, :, np.newaxis]], axis=-1)\n",
    "\n",
    "\n",
    "\n",
    "X_band_test_1=np.array([np.array(band).astype(np.float32).reshape(75, 75) for band in test[\"band_1\"]])\n",
    "X_band_test_2=np.array([np.array(band).astype(np.float32).reshape(75, 75) for band in test[\"band_2\"]])\n",
    "X_band_test_3=(X_band_test_1+X_band_test_2)/2\n",
    "#X_band_test_3=np.array([np.full((75, 75), angel).astype(np.float32) for angel in test[\"inc_angle\"]])\n",
    "X_test = np.concatenate([X_band_test_1[:, :, :, np.newaxis]\n",
    "                          , X_band_test_2[:, :, :, np.newaxis]\n",
    "                         , X_band_test_3[:, :, :, np.newaxis]], axis=-1)\n",
    "\n",
    "#Import Keras.\n",
    "from matplotlib import pyplot\n",
    "from keras.optimizers import RMSprop\n",
    "from keras.preprocessing.image import ImageDataGenerator\n",
    "from keras.models import Sequential\n",
    "from keras.layers import Conv2D, MaxPooling2D, Dense, Dropout, Input, Flatten, Activation\n",
    "from keras.layers import GlobalMaxPooling2D\n",
    "from keras.layers.normalization import BatchNormalization\n",
    "from keras.layers.merge import Concatenate\n",
    "from keras.models import Model\n",
    "from keras import initializers\n",
    "from keras.optimizers import Adam\n",
    "from keras.layers.advanced_activations import LeakyReLU, PReLU\n",
    "from keras.optimizers import SGD\n",
    "from keras.callbacks import ModelCheckpoint, Callback, EarlyStopping\n",
    "\n",
    "from keras.datasets import cifar10\n",
    "from keras.applications.inception_v3 import InceptionV3\n",
    "from keras.applications.vgg16 import VGG16\n",
    "from keras.applications.xception import Xception\n",
    "from keras.applications.mobilenet import MobileNet\n",
    "from keras.applications.vgg19 import VGG19\n",
    "from keras.layers import Concatenate, Dense, LSTM, Input, concatenate\n",
    "from keras.preprocessing import image\n",
    "from keras.applications.vgg16 import preprocess_input\t\n",
    "\n",
    "#Data Aug for multi-input\n",
    "from keras.preprocessing.image import ImageDataGenerator\n",
    "batch_size=64\n",
    "# Define the image transformations here\n",
    "gen = ImageDataGenerator(horizontal_flip = True,\n",
    "                         vertical_flip = True,\n",
    "                         width_shift_range = 0.,\n",
    "                         height_shift_range = 0.,\n",
    "                         channel_shift_range=0,\n",
    "                         zoom_range = 0.2,\n",
    "                         rotation_range = 10)\n",
    "\n",
    "# Here is the function that merges our two generators\n",
    "# We use the exact same generator with the same random seed for both the y and angle arrays\n",
    "def gen_flow_for_two_inputs(X1, X2, y):\n",
    "    genX1 = gen.flow(X1,y,  batch_size=batch_size,seed=55)\n",
    "    genX2 = gen.flow(X1,X2, batch_size=batch_size,seed=55)\n",
    "    while True:\n",
    "            X1i = genX1.next()\n",
    "            X2i = genX2.next()\n",
    "            #Assert arrays are equal - this was for peace of mind, but slows down training\n",
    "            #np.testing.assert_array_equal(X1i[0],X2i[0])\n",
    "            yield [X1i[0], X2i[1]], X1i[1]\n",
    "\n",
    "# Finally create generator\n",
    "def get_callbacks(filepath, patience=2):\n",
    "   es = EarlyStopping('val_loss', patience=10, mode=\"min\")\n",
    "   msave = ModelCheckpoint(filepath, save_best_only=True)\n",
    "   return [es, msave]\n",
    "\n",
    "\n",
    "def getVggAngleModel():\n",
    "    input_2 = Input(shape=[1], name=\"angle\")\n",
    "    angle_layer = Dense(1, )(input_2)\n",
    "    base_model = VGG16(weights='imagenet', include_top=False, \n",
    "                 input_shape=X_train.shape[1:], classes=1)\n",
    "    x = base_model.get_layer('block5_pool').output\n",
    "    \n",
    "\n",
    "    x = GlobalMaxPooling2D()(x)\n",
    "    merge_one = concatenate([x, angle_layer])\n",
    "    merge_one = Dense(512, activation='relu', name='fc2')(merge_one)\n",
    "    merge_one = Dropout(0.3)(merge_one)\n",
    "    merge_one = Dense(512, activation='relu', name='fc3')(merge_one)\n",
    "    merge_one = Dropout(0.3)(merge_one)\n",
    "    \n",
    "    predictions = Dense(1, activation='sigmoid')(merge_one)\n",
    "    \n",
    "    model = Model([base_model.input, input_2], predictions)\n",
    "    \n",
    "    sgd = SGD(lr=1e-3, decay=1e-6, momentum=0.9, nesterov=True)\n",
    "    model.compile(loss='binary_crossentropy',\n",
    "                  optimizer=sgd,\n",
    "                  metrics=['accuracy'])\n",
    "    return model\n",
    "\n",
    "\n",
    "#Using K-fold Cross Validation with Data Augmentation.\n",
    "def myAngleCV(X_train, X_angle, X_test):\n",
    "    K=3\n",
    "    folds = list(StratifiedKFold(n_splits=K, shuffle=True, random_state=16).split(X_train, target_train))\n",
    "    y_test_pred_log = 0\n",
    "    y_train_pred_log=0\n",
    "    y_valid_pred_log = 0.0*target_train\n",
    "    for j, (train_idx, test_idx) in enumerate(folds):\n",
    "        print('\\n===================FOLD=',j)\n",
    "        X_train_cv = X_train[train_idx]\n",
    "        y_train_cv = target_train[train_idx]\n",
    "        X_holdout = X_train[test_idx]\n",
    "        Y_holdout= target_train[test_idx]\n",
    "        \n",
    "        #Angle\n",
    "        X_angle_cv=X_angle[train_idx]\n",
    "        X_angle_hold=X_angle[test_idx]\n",
    "\n",
    "        #define file path and get callbacks\n",
    "        file_path = \"%s_aug_model_weights.hdf5\"%j\n",
    "        callbacks = get_callbacks(filepath=file_path, patience=5)\n",
    "        gen_flow = gen_flow_for_two_inputs(X_train_cv, X_angle_cv, y_train_cv)\n",
    "        galaxyModel= getVggAngleModel()\n",
    "        galaxyModel.fit_generator(\n",
    "                gen_flow,\n",
    "                steps_per_epoch=24,\n",
    "                epochs=100,\n",
    "                shuffle=True,\n",
    "                verbose=1,\n",
    "                validation_data=([X_holdout,X_angle_hold], Y_holdout),\n",
    "                callbacks=callbacks)\n",
    "\n",
    "        #Getting the Best Model\n",
    "        galaxyModel.load_weights(filepath=file_path)\n",
    "        #Getting Training Score\n",
    "        score = galaxyModel.evaluate([X_train_cv,X_angle_cv], y_train_cv, verbose=0)\n",
    "        print('Train loss:', score[0])\n",
    "        print('Train accuracy:', score[1])\n",
    "        #Getting Test Score\n",
    "        score = galaxyModel.evaluate([X_holdout,X_angle_hold], Y_holdout, verbose=0)\n",
    "        print('Test loss:', score[0])\n",
    "        print('Test accuracy:', score[1])\n",
    "\n",
    "        #Getting validation Score.\n",
    "        pred_valid=galaxyModel.predict([X_holdout,X_angle_hold])\n",
    "        y_valid_pred_log[test_idx] = pred_valid.reshape(pred_valid.shape[0])\n",
    "\n",
    "        #Getting Test Scores\n",
    "        temp_test=galaxyModel.predict([X_test, X_test_angle])\n",
    "        y_test_pred_log+=temp_test.reshape(temp_test.shape[0])\n",
    "\n",
    "        #Getting Train Scores\n",
    "        temp_train=galaxyModel.predict([X_train, X_angle])\n",
    "        y_train_pred_log+=temp_train.reshape(temp_train.shape[0])\n",
    "\n",
    "    y_test_pred_log=y_test_pred_log/K\n",
    "    y_train_pred_log=y_train_pred_log/K\n",
    "\n",
    "    print('\\n Train Log Loss Validation= ',log_loss(target_train, y_train_pred_log))\n",
    "    print(' Test Log Loss Validation= ',log_loss(target_train, y_valid_pred_log))\n",
    "    return y_test_pred_log"
   ]
  },
  {
   "cell_type": "code",
   "execution_count": 10,
   "metadata": {
    "ExecuteTime": {
     "end_time": "2021-02-10T09:48:00.755231Z",
     "start_time": "2021-02-10T08:01:37.799837Z"
    },
    "scrolled": false
   },
   "outputs": [
    {
     "name": "stdout",
     "output_type": "stream",
     "text": [
      "\n",
      "===================FOLD= 0\n"
     ]
    },
    {
     "name": "stderr",
     "output_type": "stream",
     "text": [
      "C:\\Users\\유재성\\AppData\\Roaming\\Python\\Python38\\site-packages\\tensorflow\\python\\keras\\engine\\training.py:1844: UserWarning: `Model.fit_generator` is deprecated and will be removed in a future version. Please use `Model.fit`, which supports generators.\n",
      "  warnings.warn('`Model.fit_generator` is deprecated and '\n"
     ]
    },
    {
     "name": "stdout",
     "output_type": "stream",
     "text": [
      "Epoch 1/100\n",
      "24/24 [==============================] - 80s 3s/step - loss: 1.0372 - accuracy: 0.5424 - val_loss: 0.5274 - val_accuracy: 0.7308\n",
      "Epoch 2/100\n",
      "24/24 [==============================] - 77s 3s/step - loss: 0.5759 - accuracy: 0.7171 - val_loss: 0.3283 - val_accuracy: 0.8411\n",
      "Epoch 3/100\n",
      "24/24 [==============================] - 79s 3s/step - loss: 0.4005 - accuracy: 0.8183 - val_loss: 0.3549 - val_accuracy: 0.8299\n",
      "Epoch 4/100\n",
      "24/24 [==============================] - 78s 3s/step - loss: 0.3196 - accuracy: 0.8636 - val_loss: 0.2951 - val_accuracy: 0.8729\n",
      "Epoch 5/100\n",
      "24/24 [==============================] - 78s 3s/step - loss: 0.2809 - accuracy: 0.8644 - val_loss: 0.2547 - val_accuracy: 0.8879\n",
      "Epoch 6/100\n",
      "24/24 [==============================] - 78s 3s/step - loss: 0.2854 - accuracy: 0.8765 - val_loss: 0.2688 - val_accuracy: 0.8991\n",
      "Epoch 7/100\n",
      "24/24 [==============================] - 78s 3s/step - loss: 0.2473 - accuracy: 0.8976 - val_loss: 0.2270 - val_accuracy: 0.9103\n",
      "Epoch 8/100\n",
      "24/24 [==============================] - 78s 3s/step - loss: 0.2282 - accuracy: 0.9056 - val_loss: 0.2809 - val_accuracy: 0.8953\n",
      "Epoch 9/100\n",
      "24/24 [==============================] - 78s 3s/step - loss: 0.1951 - accuracy: 0.9121 - val_loss: 0.2673 - val_accuracy: 0.9047\n",
      "Epoch 10/100\n",
      "24/24 [==============================] - 77s 3s/step - loss: 0.1925 - accuracy: 0.9248 - val_loss: 0.2280 - val_accuracy: 0.9178\n",
      "Epoch 11/100\n",
      "24/24 [==============================] - 78s 3s/step - loss: 0.1880 - accuracy: 0.9176 - val_loss: 0.2406 - val_accuracy: 0.9065\n",
      "Epoch 12/100\n",
      "24/24 [==============================] - 78s 3s/step - loss: 0.2064 - accuracy: 0.9031 - val_loss: 0.2406 - val_accuracy: 0.9121\n",
      "Epoch 13/100\n",
      "24/24 [==============================] - 76s 3s/step - loss: 0.1743 - accuracy: 0.9340 - val_loss: 0.2610 - val_accuracy: 0.8991\n",
      "Epoch 14/100\n",
      "24/24 [==============================] - 78s 3s/step - loss: 0.1690 - accuracy: 0.9261 - val_loss: 0.2635 - val_accuracy: 0.9103\n",
      "Epoch 15/100\n",
      "24/24 [==============================] - 78s 3s/step - loss: 0.1773 - accuracy: 0.9274 - val_loss: 0.2671 - val_accuracy: 0.9065\n",
      "Epoch 16/100\n",
      "24/24 [==============================] - 82s 3s/step - loss: 0.1876 - accuracy: 0.9255 - val_loss: 0.2640 - val_accuracy: 0.9028\n",
      "Epoch 17/100\n",
      "24/24 [==============================] - 78s 3s/step - loss: 0.1551 - accuracy: 0.9399 - val_loss: 0.2847 - val_accuracy: 0.8879\n",
      "Train loss: 0.17360571026802063\n",
      "Train accuracy: 0.9326473474502563\n",
      "Test loss: 0.22702805697917938\n",
      "Test accuracy: 0.9102803468704224\n",
      "\n",
      "===================FOLD= 1\n",
      "Epoch 1/100\n",
      "24/24 [==============================] - 90s 4s/step - loss: 0.7170 - accuracy: 0.5922 - val_loss: 0.3938 - val_accuracy: 0.8056\n",
      "Epoch 2/100\n",
      "24/24 [==============================] - 88s 4s/step - loss: 0.4399 - accuracy: 0.7747 - val_loss: 0.3323 - val_accuracy: 0.8318\n",
      "Epoch 3/100\n",
      "24/24 [==============================] - 87s 4s/step - loss: 0.3490 - accuracy: 0.8276 - val_loss: 0.2572 - val_accuracy: 0.8897\n",
      "Epoch 4/100\n",
      "24/24 [==============================] - 88s 4s/step - loss: 0.2970 - accuracy: 0.8595 - val_loss: 0.2381 - val_accuracy: 0.8953\n",
      "Epoch 5/100\n",
      "24/24 [==============================] - 87s 4s/step - loss: 0.2797 - accuracy: 0.8721 - val_loss: 0.2174 - val_accuracy: 0.9103\n",
      "Epoch 6/100\n",
      "24/24 [==============================] - 88s 4s/step - loss: 0.2779 - accuracy: 0.8879 - val_loss: 0.2237 - val_accuracy: 0.8991\n",
      "Epoch 7/100\n",
      "24/24 [==============================] - 88s 4s/step - loss: 0.2534 - accuracy: 0.9066 - val_loss: 0.2206 - val_accuracy: 0.8935\n",
      "Epoch 8/100\n",
      "24/24 [==============================] - 87s 4s/step - loss: 0.2177 - accuracy: 0.9028 - val_loss: 0.2153 - val_accuracy: 0.8991\n",
      "Epoch 9/100\n",
      "24/24 [==============================] - 88s 4s/step - loss: 0.2560 - accuracy: 0.8939 - val_loss: 0.2154 - val_accuracy: 0.9103\n",
      "Epoch 10/100\n",
      "24/24 [==============================] - 87s 4s/step - loss: 0.2259 - accuracy: 0.9124 - val_loss: 0.2054 - val_accuracy: 0.9103\n",
      "Epoch 11/100\n",
      "24/24 [==============================] - 88s 4s/step - loss: 0.2044 - accuracy: 0.9186 - val_loss: 0.2094 - val_accuracy: 0.8935\n",
      "Epoch 12/100\n",
      "24/24 [==============================] - 88s 4s/step - loss: 0.1924 - accuracy: 0.9300 - val_loss: 0.2012 - val_accuracy: 0.9065\n",
      "Epoch 13/100\n",
      "24/24 [==============================] - 87s 4s/step - loss: 0.1899 - accuracy: 0.9118 - val_loss: 0.2202 - val_accuracy: 0.9103\n",
      "Epoch 14/100\n",
      "24/24 [==============================] - 88s 4s/step - loss: 0.2054 - accuracy: 0.9204 - val_loss: 0.2150 - val_accuracy: 0.8935\n",
      "Epoch 15/100\n",
      "24/24 [==============================] - 87s 4s/step - loss: 0.1732 - accuracy: 0.9280 - val_loss: 0.2141 - val_accuracy: 0.9140\n",
      "Epoch 16/100\n",
      "24/24 [==============================] - 88s 4s/step - loss: 0.1605 - accuracy: 0.9367 - val_loss: 0.2778 - val_accuracy: 0.9140\n",
      "Epoch 17/100\n",
      "24/24 [==============================] - 87s 4s/step - loss: 0.1849 - accuracy: 0.9246 - val_loss: 0.2849 - val_accuracy: 0.8935\n",
      "Epoch 18/100\n",
      "24/24 [==============================] - 88s 4s/step - loss: 0.1713 - accuracy: 0.9325 - val_loss: 0.1926 - val_accuracy: 0.9121\n",
      "Epoch 19/100\n",
      "24/24 [==============================] - 88s 4s/step - loss: 0.1479 - accuracy: 0.9422 - val_loss: 0.2126 - val_accuracy: 0.9028\n",
      "Epoch 20/100\n",
      "24/24 [==============================] - 87s 4s/step - loss: 0.1639 - accuracy: 0.9326 - val_loss: 0.2465 - val_accuracy: 0.9009\n",
      "Epoch 21/100\n",
      "24/24 [==============================] - 88s 4s/step - loss: 0.1466 - accuracy: 0.9416 - val_loss: 0.2411 - val_accuracy: 0.9047\n",
      "Epoch 22/100\n",
      "24/24 [==============================] - 87s 4s/step - loss: 0.1672 - accuracy: 0.9292 - val_loss: 0.2397 - val_accuracy: 0.9047\n",
      "Epoch 23/100\n",
      "24/24 [==============================] - 89s 4s/step - loss: 0.1396 - accuracy: 0.9401 - val_loss: 0.2388 - val_accuracy: 0.9047\n",
      "Epoch 24/100\n",
      "24/24 [==============================] - 88s 4s/step - loss: 0.1383 - accuracy: 0.9445 - val_loss: 0.2400 - val_accuracy: 0.9028\n",
      "Epoch 25/100\n",
      "24/24 [==============================] - 87s 4s/step - loss: 0.1499 - accuracy: 0.9357 - val_loss: 0.2162 - val_accuracy: 0.9028\n",
      "Epoch 26/100\n",
      "24/24 [==============================] - 88s 4s/step - loss: 0.1280 - accuracy: 0.9504 - val_loss: 0.2573 - val_accuracy: 0.9028\n",
      "Epoch 27/100\n",
      "24/24 [==============================] - 87s 4s/step - loss: 0.1453 - accuracy: 0.9426 - val_loss: 0.2584 - val_accuracy: 0.9084\n",
      "Epoch 28/100\n",
      "24/24 [==============================] - 88s 4s/step - loss: 0.1173 - accuracy: 0.9511 - val_loss: 0.2540 - val_accuracy: 0.9009\n",
      "Train loss: 0.13142700493335724\n",
      "Train accuracy: 0.9494854807853699\n",
      "Test loss: 0.19261103868484497\n",
      "Test accuracy: 0.9121495485305786\n",
      "\n",
      "===================FOLD= 2\n",
      "Epoch 1/100\n",
      "24/24 [==============================] - 87s 4s/step - loss: 0.7527 - accuracy: 0.6113 - val_loss: 0.4171 - val_accuracy: 0.8146\n",
      "Epoch 2/100\n",
      "24/24 [==============================] - 86s 4s/step - loss: 0.3908 - accuracy: 0.8128 - val_loss: 0.3493 - val_accuracy: 0.8390\n",
      "Epoch 3/100\n",
      "24/24 [==============================] - 84s 4s/step - loss: 0.3181 - accuracy: 0.8527 - val_loss: 0.3305 - val_accuracy: 0.8502\n",
      "Epoch 4/100\n",
      "24/24 [==============================] - 86s 4s/step - loss: 0.3014 - accuracy: 0.8610 - val_loss: 0.2834 - val_accuracy: 0.8596\n",
      "Epoch 5/100\n",
      "24/24 [==============================] - 84s 4s/step - loss: 0.2846 - accuracy: 0.8719 - val_loss: 0.3045 - val_accuracy: 0.8633\n",
      "Epoch 6/100\n",
      "24/24 [==============================] - 85s 4s/step - loss: 0.2417 - accuracy: 0.8842 - val_loss: 0.2783 - val_accuracy: 0.8783\n",
      "Epoch 7/100\n",
      "24/24 [==============================] - 85s 4s/step - loss: 0.2445 - accuracy: 0.8803 - val_loss: 0.2505 - val_accuracy: 0.8970\n",
      "Epoch 8/100\n",
      "24/24 [==============================] - 84s 4s/step - loss: 0.2316 - accuracy: 0.8946 - val_loss: 0.4256 - val_accuracy: 0.8090\n",
      "Epoch 9/100\n",
      "24/24 [==============================] - 85s 4s/step - loss: 0.2438 - accuracy: 0.8844 - val_loss: 0.2518 - val_accuracy: 0.9082\n",
      "Epoch 10/100\n",
      "24/24 [==============================] - 86s 4s/step - loss: 0.2137 - accuracy: 0.9092 - val_loss: 0.2649 - val_accuracy: 0.8970\n",
      "Epoch 11/100\n",
      "24/24 [==============================] - 84s 4s/step - loss: 0.1931 - accuracy: 0.9213 - val_loss: 0.2876 - val_accuracy: 0.8727\n",
      "Epoch 12/100\n",
      "24/24 [==============================] - 84s 4s/step - loss: 0.1969 - accuracy: 0.9198 - val_loss: 0.2712 - val_accuracy: 0.8858\n",
      "Epoch 13/100\n",
      "24/24 [==============================] - 83s 3s/step - loss: 0.2186 - accuracy: 0.9121 - val_loss: 0.2528 - val_accuracy: 0.8933\n",
      "Epoch 14/100\n",
      "24/24 [==============================] - 83s 3s/step - loss: 0.1974 - accuracy: 0.9238 - val_loss: 0.2530 - val_accuracy: 0.9045\n",
      "Epoch 15/100\n",
      "24/24 [==============================] - 82s 3s/step - loss: 0.1627 - accuracy: 0.9201 - val_loss: 0.2389 - val_accuracy: 0.9101\n",
      "Epoch 16/100\n",
      "24/24 [==============================] - 83s 3s/step - loss: 0.1616 - accuracy: 0.9383 - val_loss: 0.2671 - val_accuracy: 0.9007\n",
      "Epoch 17/100\n",
      "24/24 [==============================] - 82s 3s/step - loss: 0.1952 - accuracy: 0.9130 - val_loss: 0.2522 - val_accuracy: 0.8970\n",
      "Epoch 18/100\n",
      "24/24 [==============================] - 83s 3s/step - loss: 0.1439 - accuracy: 0.9472 - val_loss: 0.2795 - val_accuracy: 0.8989\n",
      "Epoch 19/100\n",
      "24/24 [==============================] - 83s 3s/step - loss: 0.1466 - accuracy: 0.9398 - val_loss: 0.2736 - val_accuracy: 0.9026\n",
      "Epoch 20/100\n",
      "24/24 [==============================] - 82s 3s/step - loss: 0.1525 - accuracy: 0.9366 - val_loss: 0.2731 - val_accuracy: 0.8895\n",
      "Epoch 21/100\n",
      "24/24 [==============================] - 83s 3s/step - loss: 0.1441 - accuracy: 0.9439 - val_loss: 0.2661 - val_accuracy: 0.8914\n",
      "Epoch 22/100\n",
      "24/24 [==============================] - 84s 3s/step - loss: 0.1571 - accuracy: 0.9368 - val_loss: 0.2760 - val_accuracy: 0.9064\n",
      "Epoch 23/100\n",
      "24/24 [==============================] - 88s 4s/step - loss: 0.1416 - accuracy: 0.9417 - val_loss: 0.2778 - val_accuracy: 0.9045\n",
      "Epoch 24/100\n",
      "24/24 [==============================] - 87s 4s/step - loss: 0.1528 - accuracy: 0.9459 - val_loss: 0.3015 - val_accuracy: 0.9045\n",
      "Epoch 25/100\n",
      "24/24 [==============================] - 84s 4s/step - loss: 0.1270 - accuracy: 0.9437 - val_loss: 0.2655 - val_accuracy: 0.9139\n",
      "Train loss: 0.12531816959381104\n",
      "Train accuracy: 0.949532687664032\n",
      "Test loss: 0.23890694975852966\n",
      "Test accuracy: 0.9101123809814453\n",
      "\n",
      " Train Log Loss Validation=  0.15119424261906836\n",
      " Test Log Loss Validation=  0.21950322345498374\n"
     ]
    }
   ],
   "source": [
    "preds = myAngleCV(X_train, X_angle, X_test)"
   ]
  },
  {
   "cell_type": "code",
   "execution_count": 11,
   "metadata": {
    "ExecuteTime": {
     "end_time": "2021-02-10T09:50:08.419793Z",
     "start_time": "2021-02-10T09:50:08.378755Z"
    }
   },
   "outputs": [],
   "source": [
    "# Submission for each day\n",
    "submission = pd.DataFrame()\n",
    "submission['id'] = test['id']\n",
    "submission['is_iceberg'] = preds\n",
    "submission.to_csv('sub.csv', index=False)"
   ]
  },
  {
   "cell_type": "code",
   "execution_count": null,
   "metadata": {
    "ExecuteTime": {
     "start_time": "2021-02-10T10:17:04.948Z"
    }
   },
   "outputs": [],
   "source": [
    "from tensorflow.python.client import device_lib\n",
    "\n",
    "print(device_lib.list_local_devices())\n"
   ]
  },
  {
   "cell_type": "code",
   "execution_count": 1,
   "metadata": {
    "ExecuteTime": {
     "end_time": "2021-02-10T10:22:26.323092Z",
     "start_time": "2021-02-10T10:22:21.935107Z"
    }
   },
   "outputs": [],
   "source": [
    "\n",
    "import numpy as np\n",
    "\n",
    "import pandas as pd\n",
    "\n",
    "\n",
    "\n",
    "import keras\n",
    "\n",
    "import tensorflow as tf\n",
    "\n",
    "from IPython.display import display\n",
    "\n",
    "import PIL\n"
   ]
  },
  {
   "cell_type": "code",
   "execution_count": 4,
   "metadata": {
    "ExecuteTime": {
     "end_time": "2021-02-10T10:24:26.056816Z",
     "start_time": "2021-02-10T10:24:26.033795Z"
    }
   },
   "outputs": [
    {
     "name": "stdout",
     "output_type": "stream",
     "text": [
      "[name: \"/device:CPU:0\"\n",
      "device_type: \"CPU\"\n",
      "memory_limit: 268435456\n",
      "locality {\n",
      "}\n",
      "incarnation: 8208108715457216335\n",
      "]\n"
     ]
    }
   ],
   "source": [
    "from tensorflow.python.client import device_lib\n",
    "\n",
    "print(device_lib.list_local_devices())\n"
   ]
  },
  {
   "cell_type": "code",
   "execution_count": null,
   "metadata": {},
   "outputs": [],
   "source": []
  },
  {
   "cell_type": "code",
   "execution_count": null,
   "metadata": {},
   "outputs": [],
   "source": []
  },
  {
   "cell_type": "code",
   "execution_count": null,
   "metadata": {},
   "outputs": [],
   "source": []
  },
  {
   "cell_type": "code",
   "execution_count": null,
   "metadata": {},
   "outputs": [],
   "source": []
  },
  {
   "cell_type": "code",
   "execution_count": null,
   "metadata": {},
   "outputs": [],
   "source": []
  },
  {
   "cell_type": "code",
   "execution_count": null,
   "metadata": {},
   "outputs": [],
   "source": []
  },
  {
   "cell_type": "code",
   "execution_count": null,
   "metadata": {},
   "outputs": [],
   "source": []
  }
 ],
 "metadata": {
  "kernelspec": {
   "display_name": "Python 3",
   "language": "python",
   "name": "python3"
  },
  "language_info": {
   "codemirror_mode": {
    "name": "ipython",
    "version": 3
   },
   "file_extension": ".py",
   "mimetype": "text/x-python",
   "name": "python",
   "nbconvert_exporter": "python",
   "pygments_lexer": "ipython3",
   "version": "3.8.5"
  },
  "toc": {
   "base_numbering": 1,
   "nav_menu": {},
   "number_sections": false,
   "sideBar": true,
   "skip_h1_title": false,
   "title_cell": "Table of Contents",
   "title_sidebar": "Contents",
   "toc_cell": false,
   "toc_position": {},
   "toc_section_display": true,
   "toc_window_display": false
  },
  "varInspector": {
   "cols": {
    "lenName": 16,
    "lenType": 16,
    "lenVar": 40
   },
   "kernels_config": {
    "python": {
     "delete_cmd_postfix": "",
     "delete_cmd_prefix": "del ",
     "library": "var_list.py",
     "varRefreshCmd": "print(var_dic_list())"
    },
    "r": {
     "delete_cmd_postfix": ") ",
     "delete_cmd_prefix": "rm(",
     "library": "var_list.r",
     "varRefreshCmd": "cat(var_dic_list()) "
    }
   },
   "types_to_exclude": [
    "module",
    "function",
    "builtin_function_or_method",
    "instance",
    "_Feature"
   ],
   "window_display": false
  }
 },
 "nbformat": 4,
 "nbformat_minor": 4
}
